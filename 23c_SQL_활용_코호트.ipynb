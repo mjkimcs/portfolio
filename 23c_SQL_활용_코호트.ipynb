{
  "nbformat": 4,
  "nbformat_minor": 0,
  "metadata": {
    "colab": {
      "name": "23c_SQL_활용_코호트.ipynb",
      "provenance": [],
      "authorship_tag": "ABX9TyN/e0zjkKli/78EoYr5EvZ7",
      "include_colab_link": true
    },
    "kernelspec": {
      "name": "python3",
      "display_name": "Python 3"
    }
  },
  "cells": [
    {
      "cell_type": "markdown",
      "metadata": {
        "id": "view-in-github",
        "colab_type": "text"
      },
      "source": [
        "<a href=\"https://colab.research.google.com/github/mjkimcs/portfolio/blob/main/23c_SQL_%ED%99%9C%EC%9A%A9_%EC%BD%94%ED%98%B8%ED%8A%B8.ipynb\" target=\"_parent\"><img src=\"https://colab.research.google.com/assets/colab-badge.svg\" alt=\"Open In Colab\"/></a>"
      ]
    },
    {
      "cell_type": "markdown",
      "metadata": {
        "id": "ekA2vyxzS6uI"
      },
      "source": [
        "코호트 분석: 나누어진 그룹(코호트)을 시간에 따라 지표의 변화를 측정  \r\n",
        "\r\n",
        "코호트: 앱을 설치한 일자  \r\n",
        "코호트인덱스: 앱을 설치하고 얼마나 지났는지(컬럼)  \r\n",
        "지표(메트릭): 액티브 유저의 리텐션  \r\n",
        "\r\n",
        "가로: 유저의 라이프타임  \r\n",
        "세로: 프로덕트 라이프사이클  "
      ]
    },
    {
      "cell_type": "markdown",
      "metadata": {
        "id": "Gh76Vo_YTWuD"
      },
      "source": [
        "    WITH first_purchase AS (\r\n",
        "      SELECT customer_id, DATE( MIN(invoice_date) ) AS cohort_day\r\n",
        "      FROM `1.sales`\r\n",
        "      GROUP BY customer_id\r\n",
        "    )\r\n",
        "    SELECT cohort_group, cohort_index, COUNT(DISTINCT customer_id) AS customer_count\r\n",
        "    FROM(\r\n",
        "      SELECT s.*, f.cohort_day, DATE_DIFF( DATE(invoice_date), cohort_day, MONTH ) AS cohort_index, DATE_TRUNC(cohort_day, MONTH) AS cohort_group\r\n",
        "      FROM `1.sales` AS s\r\n",
        "      LEFT JOIN first_purchase AS f\r\n",
        "      On s.customer_id = f.customer_id\r\n",
        "    )\r\n",
        "    GROUP BY cohort_group, cohort_index"
      ]
    },
    {
      "cell_type": "markdown",
      "metadata": {
        "id": "4b9cbW5cX_EV"
      },
      "source": [
        "데이터 수집 후, 엑셀 피벗테이블과 조건부서식 활용하여 분석"
      ]
    }
  ]
}