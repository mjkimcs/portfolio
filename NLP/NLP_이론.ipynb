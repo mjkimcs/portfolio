{
  "nbformat": 4,
  "nbformat_minor": 0,
  "metadata": {
    "colab": {
      "name": "NLP_이론",
      "provenance": [],
      "authorship_tag": "ABX9TyM3livSQBJCOiKRCp+Ke8DZ",
      "include_colab_link": true
    },
    "kernelspec": {
      "name": "python3",
      "display_name": "Python 3"
    },
    "language_info": {
      "name": "python"
    }
  },
  "cells": [
    {
      "cell_type": "markdown",
      "metadata": {
        "id": "view-in-github",
        "colab_type": "text"
      },
      "source": [
        "<a href=\"https://colab.research.google.com/github/mjkimcs/portfolio/blob/main/NLP/NLP_%EC%9D%B4%EB%A1%A0.ipynb\" target=\"_parent\"><img src=\"https://colab.research.google.com/assets/colab-badge.svg\" alt=\"Open In Colab\"/></a>"
      ]
    },
    {
      "cell_type": "markdown",
      "metadata": {
        "id": "QZeyxiKy5ItF"
      },
      "source": [
        "## corpus\n",
        "- 말뭉치\n",
        "- 가지고 있는 텍스트 데이터\n",
        "- ex) 3개의 문장"
      ]
    },
    {
      "cell_type": "markdown",
      "metadata": {
        "id": "4-CAFWDy4eR8"
      },
      "source": [
        "## Word Embedding\n",
        "- dense하게 차원축소\n",
        "- 엄청난 양의 corpus로 학습되어 각 단어에 대한 정보를 꽤나 정확하고 깊게 담아냄\n",
        "1. GloVe\n",
        "2. word2vec\n"
      ]
    },
    {
      "cell_type": "markdown",
      "metadata": {
        "id": "H9KdshgU6UZr"
      },
      "source": [
        "## GloVe\n",
        "- co-occurrence matrix\n",
        "- 한 단어와 근처 단어가 몇 번 \"같이\" 나오는지 세보는 것\n",
        "- 차원축소 알고리즘 중 하나인 SVD를 사용하여 300 X 40,000 의 행열로 압축"
      ]
    },
    {
      "cell_type": "markdown",
      "metadata": {
        "id": "ls1RHnpD6atw"
      },
      "source": [
        "## word2vec\n",
        "- skipgram 성능이 좋음\n",
        "- 예측을 위한 분류모델 : neural network로 구현되고 SGD로 학습\n",
        "- vector의 방향성에 encoding 됨\n",
        "1. skipgram : 타깃단어를 이용하여 주변단어들을 예측\n",
        "2. CBOW : 주변단어들을 이용하여 타깃단어를 예측"
      ]
    },
    {
      "cell_type": "markdown",
      "metadata": {
        "id": "JYi-LjTD6_Nc"
      },
      "source": [
        ""
      ]
    }
  ]
}