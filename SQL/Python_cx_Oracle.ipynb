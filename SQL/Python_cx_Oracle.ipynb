{
  "nbformat": 4,
  "nbformat_minor": 0,
  "metadata": {
    "colab": {
      "name": "Python_cx_Oracle",
      "provenance": [],
      "collapsed_sections": [],
      "authorship_tag": "ABX9TyMoqdlle3q0+YV2ZF0mUJlF",
      "include_colab_link": true
    },
    "kernelspec": {
      "name": "python3",
      "display_name": "Python 3"
    },
    "language_info": {
      "name": "python"
    }
  },
  "cells": [
    {
      "cell_type": "markdown",
      "metadata": {
        "id": "view-in-github",
        "colab_type": "text"
      },
      "source": [
        "<a href=\"https://colab.research.google.com/github/mjkimcs/portfolio/blob/main/SQL/Python_cx_Oracle.ipynb\" target=\"_parent\"><img src=\"https://colab.research.google.com/assets/colab-badge.svg\" alt=\"Open In Colab\"/></a>"
      ]
    },
    {
      "cell_type": "code",
      "metadata": {
        "id": "fdcwoM20VGqV"
      },
      "source": [
        "import cx_Oracle\n",
        "\n",
        "def Create_Table():\n",
        "    dsn = cx_Oracle.makedsn(\"localhost\", 1521, 'xe')\n",
        "    db = cx_Oracle.connect('SCOTT', 'TIGER', dsn)\n",
        "    cur = db.cursor()\n",
        "\n",
        "    sql_cmd = \"CREATE TABLE Test_mydb(id number, name varchar2(20))\"\n",
        "    cur.execute(sql_cmd)\n",
        "    db.close()\n",
        "\n",
        "def Insert_m():\n",
        "    dsn = cx_Oracle.makedsn(\"localhost\", 1521, 'xe')\n",
        "    db = cx_Oracle.connect('SCOTT', 'TIGER', dsn)\n",
        "    cur = db.cursor()\n",
        "\n",
        "    cur.execute(\"INSERT INTO TEST_MYDB VALUES('1','PYTHON')\")\n",
        "    cur.execute(\"INSERT INTO TEST_MYDB VALUES('2','PYTHON2')\")\n",
        "    cur.execute(\"INSERT INTO TEST_MYDB VALUES('3','PYTHON3')\")\n",
        "    cur.execute(\"INSERT INTO TEST_MYDB VALUES('4','PYTHON4')\")\n",
        "    db.commit()\n",
        "    db.close()\n",
        "\n",
        "def Select_all():\n",
        "    dsn = cx_Oracle.makedsn(\"localhost\", 1521, 'xe')\n",
        "    db = cx_Oracle.connect('SCOTT', 'TIGER', dsn)\n",
        "    cur = db.cursor()\n",
        "\n",
        "    cur.execute(\"select * from Test_mydb\")\n",
        "    result = cur.fetchall()\n",
        "    for row in result:\n",
        "        print(str(row[0]) + \" \" + row[1])\n",
        "    cur.close()\n",
        "    db.close()\n",
        "\n",
        "\n",
        "if __name__ == '__main__':\n",
        "    Create_Table()\n",
        "    Insert_m()\n",
        "    Select_all()"
      ],
      "execution_count": null,
      "outputs": []
    },
    {
      "cell_type": "code",
      "metadata": {
        "id": "KWEx3oKwXdiv"
      },
      "source": [
        "import cx_Oracle\n",
        "\n",
        "class MyClass:\n",
        "    def __init__(self):\n",
        "        self.dsn = cx_Oracle.makedsn(\"localhost\", 1521, 'xe')\n",
        "        self.db = cx_Oracle.connect('SCOTT', 'TIGER', self.dsn)\n",
        "        self.cur = self.db.cursor()\n",
        "\n",
        "    def Create_Table(self):\n",
        "        sql_cmd = \"CREATE TABLE Test_MYDB(id number, name varchar2(20))\"\n",
        "        self.cur.execute(sql_cmd)\n",
        "        self.db.close()\n",
        "\n",
        "    def insert_m(self):\n",
        "        self.cur.execute(\"insert into test_mydb values('1','python1')\")\n",
        "        self.cur.execute(\"insert into test_mydb values('2','python2')\")\n",
        "        self.cur.execute(\"insert into test_mydb values('3','python3')\")\n",
        "        self.cur.execute(\"insert into test_mydb values('4','python4')\")\n",
        "        self.db.commit()\n",
        "        self.db.close()\n",
        "\n",
        "    def select_all(self):\n",
        "        self.cur.execute(\"select * from Test_mydb\")\n",
        "        result = self.cur.fetchall()\n",
        "        for row in result:\n",
        "            print(str(row[0]) + \" \" + row[1]);\n",
        "        self.cur.close()\n",
        "        self.db.close()\n",
        "\n",
        "    # def __del__(self):\n",
        "    #     self.db.close()\n",
        "\n",
        "\n",
        "if __name__ == '__main__':\n",
        "    test = MyClass()\n",
        "    # test.Create_Table()\n",
        "    # test.insert_m()\n",
        "    test.select_all()"
      ],
      "execution_count": null,
      "outputs": []
    },
    {
      "cell_type": "code",
      "metadata": {
        "id": "pAE_Tez02nfh"
      },
      "source": [
        ""
      ],
      "execution_count": null,
      "outputs": []
    }
  ]
}