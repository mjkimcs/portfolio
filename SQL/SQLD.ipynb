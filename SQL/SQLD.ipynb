{
  "nbformat": 4,
  "nbformat_minor": 0,
  "metadata": {
    "colab": {
      "name": "SQLD",
      "provenance": [],
      "collapsed_sections": [],
      "authorship_tag": "ABX9TyMchTKuHiDWcoVuh5Ozh88W",
      "include_colab_link": true
    },
    "kernelspec": {
      "name": "python3",
      "display_name": "Python 3"
    },
    "language_info": {
      "name": "python"
    }
  },
  "cells": [
    {
      "cell_type": "markdown",
      "metadata": {
        "id": "view-in-github",
        "colab_type": "text"
      },
      "source": [
        "<a href=\"https://colab.research.google.com/github/mjkimcs/portfolio/blob/main/SQL/SQLD.ipynb\" target=\"_parent\"><img src=\"https://colab.research.google.com/assets/colab-badge.svg\" alt=\"Open In Colab\"/></a>"
      ]
    },
    {
      "cell_type": "markdown",
      "metadata": {
        "id": "vpaPqAYNAR99"
      },
      "source": [
        "# 모델링의 특징\n",
        "1. 추상화(모형화): 다양한 현상을 일정한 형식에 맞추어 표현\n",
        "2. 단순화\n",
        "3. 명확화: 애매모호함을 제거"
      ]
    },
    {
      "cell_type": "markdown",
      "metadata": {
        "id": "zFbJDLaNAR5A"
      },
      "source": [
        "# 모델링의 세 가지 관점\n",
        "1. 데이터: What\n",
        "2. 프로세스: How\n",
        "3. 상관: 데이터 vs 프로세스"
      ]
    },
    {
      "cell_type": "markdown",
      "metadata": {
        "id": "WUwFxAA1AR1M"
      },
      "source": [
        "#모델링 시 다음 3가지는 피해라\n",
        "1. 중복\n",
        "2. 비유연성\n",
        "3. 비일관성"
      ]
    },
    {
      "cell_type": "markdown",
      "metadata": {
        "id": "_OfYTEFZARrf"
      },
      "source": [
        "#모델링 3단계\n",
        "1. 개념적: 높은 추상화 수준, 포괄적, 전사적\n",
        "2. 논리적: Key/속성/관계 등을 정확하게 표현, 높은 재사용성\n",
        "3. 물리적: 구체적"
      ]
    },
    {
      "cell_type": "markdown",
      "metadata": {
        "id": "3zZ_Mw_WLnhD"
      },
      "source": [
        "#데이터 독립성\n",
        "1. 외부스키마: 개개 사용자가 보는 개인적 DB 스키마  \n",
        "   ----------------------논리적 데이터 독립성------------------------\n",
        "2. 개념스키마: 사용자관점을 통합, 조직 전체의 DB를 기술  \n",
        "   ----------------------물리적 데이터 독립성------------------------\n",
        "3. 내부스키마: 물리적"
      ]
    },
    {
      "cell_type": "markdown",
      "metadata": {
        "id": "oDTFcSyxLncc"
      },
      "source": [
        "-  논리적 데이터 독립성: 개념스키마가 변경되어도 외부스키마에는 영향없음, 외부스키마가 변경되어도 개념스키마에는 영향없음  \n",
        "-  물리적 데이터 독립성: 내부스키마가 변경되어도 외부/개념스키마에는 영향없음, 개념스키마가 변경되어도 내부스키마에는 영향없음"
      ]
    },
    {
      "cell_type": "markdown",
      "metadata": {
        "id": "rUJqExL4LnYN"
      },
      "source": [
        "#엔터티(인스턴스의 집합)의 특징\n",
        "1. 식별이 가능해야 함\n",
        "2. 다른 엔터티와 최소 한 개 이상의 관계가 존재\n",
        "3. 한 개의 엔터티는 2개 이상의 인스턴스(한 개의 인스턴스는 1개의 속성을 가짐)의 집합\n",
        "4. 한 개의 엔터티는 2개 이상의 속성(한 개의 속성은 1개의 속성값을 가짐)을 가짐"
      ]
    },
    {
      "cell_type": "markdown",
      "metadata": {
        "id": "GDfy30OMLnTg"
      },
      "source": [
        "#엔터티의 분류 -(1)유무형\n",
        "1. 개념엔터티: 개념적\n",
        "2. 유형엔터티: 물리적\n",
        "3. 사건엔터티: 많은 발생량"
      ]
    },
    {
      "cell_type": "markdown",
      "metadata": {
        "id": "PeFJRd31LnPD"
      },
      "source": [
        "#엔터티의 분류 -(2)발생시점\n",
        "1. 기본/키엔터티: 부모\n",
        "2. 중심엔터티: 기본엔터티로부터 발생되고 그 업무에 있어서 중심적인 역할\n",
        "3. 행위엔터티: 내용이 자주 바뀜"
      ]
    },
    {
      "cell_type": "markdown",
      "metadata": {
        "id": "zqi_J8gBLnJ0"
      },
      "source": [
        "#속성의 분류 -(1)특성\n",
        "1. 기본속성\n",
        "2. 설계속성: 새로 만들거나 변형한 속성\n",
        "3. 파생속성: 계산된 값"
      ]
    },
    {
      "cell_type": "markdown",
      "metadata": {
        "id": "VmjASFKyyqnJ"
      },
      "source": [
        "#속성의 분류 -(2)엔터티 구성방식\n",
        "1. PK속성: 엔터티를 식별할 수 있는 속성\n",
        "2. FK속성: 다른 엔터티와의 관계에서 포함된 속성\n",
        "3. 일반속성: 그 외"
      ]
    },
    {
      "cell_type": "markdown",
      "metadata": {
        "id": "5-Cm3d1wLm_i"
      },
      "source": [
        "#도메인이란?\n",
        "-  속성이 가질 수 있는 범위\n",
        "-  예를들어, 학생이라는 엔터티가 있을 때 학점이라는 속성의 도메인은 0.0~4.0 사이의 실수값"
      ]
    },
    {
      "cell_type": "markdown",
      "metadata": {
        "id": "gejNDeweK-xL"
      },
      "source": [
        "#주식별자의 특징\n",
        "1. 유일성\n",
        "2. 최소성\n",
        "3. 불변성\n",
        "4. 존재성: Null 없이 값이 존재"
      ]
    },
    {
      "cell_type": "markdown",
      "metadata": {
        "id": "ZKDQu0e_qc_G"
      },
      "source": [
        "# 성능 데이터 모델링\n",
        "*  분석/설계 단계에서부터 성능에 대한 설계를 하면 비용을 최소화할 수 있음\n",
        "1. 정규화\n",
        "2. 용량산정\n",
        "3. 트랜잭션의 유형 파악\n",
        "4. 용량과 트랜잭션의 유형에 따라 반정규화\n",
        "5. 이력모델의 조정, PK/FK 조정, 슈퍼/서브타입 조정 등을 수행\n",
        "6. 검증"
      ]
    },
    {
      "cell_type": "markdown",
      "metadata": {
        "id": "LQ75heCJtkCK"
      },
      "source": [
        "# 반정규화\n",
        "1. 테이블: 테이블 추가/병합/분할\n",
        "2. 칼럼: 중복/파생/이력테이블/PK 칼럼 추가\n",
        "3. 관계: 중복 관계 추가"
      ]
    },
    {
      "cell_type": "markdown",
      "metadata": {
        "id": "uHCDgC6XLdQZ"
      },
      "source": [
        "# transaction을 만족하기 위한 조건\n",
        "1. A 원자성: 주어진 명령이 실행되거나 실행되지 않거나 둘 중 하나\n",
        "2. C 일관성 \n",
        "3. I 독립성\n",
        "4. D 지속성: 저장"
      ]
    },
    {
      "cell_type": "markdown",
      "metadata": {
        "id": "VDUUw8KoLc1y"
      },
      "source": [
        ""
      ]
    }
  ]
}