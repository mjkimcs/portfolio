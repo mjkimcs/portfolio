{
  "nbformat": 4,
  "nbformat_minor": 0,
  "metadata": {
    "colab": {
      "name": "Oracle_SQL_Developer",
      "provenance": [],
      "collapsed_sections": [],
      "authorship_tag": "ABX9TyMzzYKs6O+r2SgM4xvevMpf",
      "include_colab_link": true
    },
    "kernelspec": {
      "name": "python3",
      "display_name": "Python 3"
    },
    "language_info": {
      "name": "python"
    }
  },
  "cells": [
    {
      "cell_type": "markdown",
      "metadata": {
        "id": "view-in-github",
        "colab_type": "text"
      },
      "source": [
        "<a href=\"https://colab.research.google.com/github/mjkimcs/portfolio/blob/main/SQL/Oracle_SQL_Developer.ipynb\" target=\"_parent\"><img src=\"https://colab.research.google.com/assets/colab-badge.svg\" alt=\"Open In Colab\"/></a>"
      ]
    },
    {
      "cell_type": "markdown",
      "metadata": {
        "id": "hu90SjWt_EoL"
      },
      "source": [
        "https://www.oracle.com/tools/downloads/sqldev-downloads.html  \n",
        "Windows 32-bit/64-bit  \n",
        "관리자권한으로 실행  \n",
        "이전에 설치한 거 임포트 하시겠습니까? 아니오  "
      ]
    },
    {
      "cell_type": "markdown",
      "metadata": {
        "id": "ZQol_SLebsjB"
      },
      "source": [
        "C:\\Program Files\\Java\\jdk1.8.0_291\\jre\\lib\\ext  \n",
        "ojdbc 3개 파일 지우기\n"
      ]
    },
    {
      "cell_type": "markdown",
      "metadata": {
        "id": "3hJSRGSKYxpz"
      },
      "source": [
        "SCOTT@//localhost:1521/xe"
      ]
    },
    {
      "cell_type": "markdown",
      "metadata": {
        "id": "otz6PIP6J22n"
      },
      "source": [
        "새접속 - MyDB -  \n",
        "사용자이름 MYDB  \n",
        "비밀번호 admin1234  "
      ]
    },
    {
      "cell_type": "markdown",
      "metadata": {
        "id": "SmewCp5tzg2j"
      },
      "source": [
        "## 뷰 : 논리적개념\n",
        "- Restricted data access : 권한범위 안에서만 가능\n",
        "- Isolate applications from changes in definitions of base tables : 뷰가 참조하지 않는 나머지 컬럼이 변경되어도 뷰를 사용하는 다른 프로그램들은 영향을 받지 않음\n",
        "- Present the data in different perpspective : 원본 테이블에 영향을 주지않고 다른 이름으로 참조 가능\n",
        "- Simplify statement for the user : select 구문만으로 결과조회 가능\n",
        "- Hide data complexity : 복잡한 sql 구문 숨기기\n",
        "- Save complex queries : 복잡한 sql구문을 저장해서 반복적으로 사용가능\n"
      ]
    },
    {
      "cell_type": "markdown",
      "metadata": {
        "id": "gcKM8mQV5Qia"
      },
      "source": [
        "- CREATE OR REPLACE : 생성 또는 동일 이름이 존재하면 수정\n",
        "- NOFORCE : 베이스테이블이 존재해야만 뷰 생성\n",
        "- FORCE : 베이스테이블이 존재하지 않아도 뷰 생성\n",
        "- alias : 뷰에서 사용되는 컬럼명, 서브쿼리에서 사용한 SELECT LIST 개수와 일치\n",
        "- WITH CHECK OPTION(디폴트) : DML 허용, 원본테이블 편집가능\n",
        "- WITH READ ONLY : DML 허용 안 함, SELECT만 가능"
      ]
    },
    {
      "cell_type": "code",
      "metadata": {
        "id": "eIUQ0D6lR-rN"
      },
      "source": [
        "CREATE OR REPLACE VIEW V_EMP\n",
        "AS SELECT ENAME, DEPTNO\n",
        "FROM EMP\n",
        "WHERE DEPTNO = 30;\n",
        "\n",
        "select * from v_emp;"
      ],
      "execution_count": null,
      "outputs": []
    },
    {
      "cell_type": "code",
      "metadata": {
        "id": "o2Swwbe8Htrp"
      },
      "source": [
        "select * \n",
        "from user_tab_cols\n",
        "where table_name = 'V_EMP';\n",
        "\n",
        "SELECT * \n",
        "FROM USER_TAB_COLS\n",
        "WHERE TABLE_NAME = 'V_EMP';"
      ],
      "execution_count": null,
      "outputs": []
    },
    {
      "cell_type": "code",
      "metadata": {
        "id": "JPv0h6UVOoZY"
      },
      "source": [
        "CREATE OR REPLACE VIEW V_EMP_DEPT\n",
        "AS SELECT ENAME, DNAME, JOB\n",
        "FROM EMP\n",
        "LEFT JOIN DEPT USING(DEPTNO);\n",
        "\n",
        "SELECT *\n",
        "FROM V_EMP_DEPT;"
      ],
      "execution_count": null,
      "outputs": []
    },
    {
      "cell_type": "code",
      "metadata": {
        "id": "Qmv0jA10P9xu"
      },
      "source": [
        "# ALIAS\n",
        "CREATE OR REPLACE VIEW V_EMP_DEPT02(M_NAME, M_DNAME, M_JOB)\n",
        "AS SELECT ENAME, DNAME, JOB\n",
        "FROM EMP\n",
        "LEFT JOIN DEPT USING(DEPTNO);\n",
        "\n",
        "SELECT *\n",
        "FROM V_EMP_DEPT02;"
      ],
      "execution_count": null,
      "outputs": []
    },
    {
      "cell_type": "code",
      "metadata": {
        "id": "dFSi4uCCP9u2"
      },
      "source": [
        "SELECT *\n",
        "FROM V_EMP;\n",
        "\n",
        "# 베이스테이블에 값 추가\n",
        "INSERT INTO EMP(EMPNO, ENAME, DEPTNO) VALUES(111, '111', 30);\n",
        "\n",
        "# 뷰테이블에 반영됨\n",
        "SELECT *\n",
        "FROM V_EMP;"
      ],
      "execution_count": null,
      "outputs": []
    },
    {
      "cell_type": "code",
      "metadata": {
        "id": "OWE0sv6DP9r2"
      },
      "source": [
        "# 뷰테이블에서 수정한 것이 원본테이블에도 반영됨\n",
        "# WITH CHECK OPTION이 디폴트\n",
        "UPDATE V_EMP\n",
        "SET DEPTNO = NULL;\n",
        "\n",
        "SELECT *\n",
        "FROM EMP;\n",
        "\n",
        "ROLLBACK;"
      ],
      "execution_count": null,
      "outputs": []
    },
    {
      "cell_type": "code",
      "metadata": {
        "id": "U6ym8doXP9or"
      },
      "source": [
        "CREATE OR REPLACE VIEW V_EMP\n",
        "AS SELECT *\n",
        "FROM EMP\n",
        "WITH READ ONLY;"
      ],
      "execution_count": null,
      "outputs": []
    },
    {
      "cell_type": "code",
      "metadata": {
        "id": "rOomvoE-TeXL"
      },
      "source": [
        "# 구조만 가져오기\n",
        "CREATE TABLE EMP_TEST\n",
        "AS SELECT ENAME, SAL\n",
        "FROM EMP\n",
        "WHERE 1=0;\n",
        "\n",
        "ALTER TABLE EMP_TEST\n",
        "ADD MARRIAGE CHAR(2);\n",
        "\n",
        "DESC EMP_TEST\n",
        "\n",
        "INSERT INTO EMP_TEST VALUES(1, 3000, 'Y');\n",
        "INSERT INTO EMP_TEST VALUES(2, 2000, 'Y');\n",
        "INSERT INTO EMP_TEST VALUES(3, 5000, 'N');\n",
        "INSERT INTO EMP_TEST VALUES(4, 7000, 'Y');\n",
        "INSERT INTO EMP_TEST VALUES(5, 1000, 'N');\n",
        "INSERT INTO EMP_TEST VALUES(6, 5000, 'Y');\n",
        "\n",
        "CREATE OR REPLACE VIEW V_EMP\n",
        "AS SELECT *\n",
        "FROM EMP_TEST\n",
        "WHERE MARRIAGE = 'N'\n",
        "WITH CHECK OPTION; # WHERE문이 있을 때는 반드시 명시\n",
        "\n",
        "INSERT INTO EMP_TEST VALUES(7, 5000, 'Y');\n",
        "\n",
        "INSERT INTO V_EMP VALUES(8, 5000, 'N'); # 가능\n",
        "INSERT INTO V_EMP VALUES(8, 5000, 'Y'); # 불가능\n",
        "\n",
        "\n",
        "SELECT VIEW_NAME, TEXT\n",
        "FROM USER_VIEWS\n",
        "WHERE VIEW_NAME = 'V_EMP';"
      ],
      "execution_count": null,
      "outputs": []
    },
    {
      "cell_type": "markdown",
      "metadata": {
        "id": "Gky3z66hYYyd"
      },
      "source": [
        "![22.png](data:image/png;base64,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)"
      ]
    },
    {
      "cell_type": "code",
      "metadata": {
        "id": "kM-tGtdBTeT6"
      },
      "source": [
        "# 별칭에 더블이\n",
        "CREATE OR REPLACE VIEW V_EMP_DEPT02(\"M_NAME\", \"M_DNAME\", \"M_JOB\")\n",
        "AS SELECT ENAME, DNAME, JOB\n",
        "FROM EMP\n",
        "LEFT JOIN DEPT USING(DEPTNO);\n",
        "\n",
        "SELECT M_NAME, M_JOB\n",
        "FROM V_EMP_DEPT02;\n",
        "WHERE M_JOB='CLERK';\n",
        "\n",
        "SELECT M_NAME, M_JOB\n",
        "FROM V_EMP_DEPT02\n",
        "WHERE \"M_JOB\"='CLERK';\n",
        "\n",
        "CREATE VIEW V_EMP_DEPT02(\"M_NAME\", \"M_DNAME\", \"M_JOB\")\n",
        "AS SELECT ENAME, DNAME, JOB\n",
        "FROM EMP\n",
        "LEFT JOIN DEPT USING(DEPTNO);\n",
        "\n",
        "DROP VIEW V_EMP_DEPT02;"
      ],
      "execution_count": null,
      "outputs": []
    },
    {
      "cell_type": "code",
      "metadata": {
        "id": "321Fksn3Td-I"
      },
      "source": [
        "# 부서별 평균 월급보다 더 많은 월급을 받는 사원과 월급을 출력\n",
        "CREATE OR REPLACE VIEW V_DEPT_SALAVG(\"Did\", \"Davg\")\n",
        "AS SELECT NVL(DEPTNO, 10), ROUND(AVG(SAL), -1)\n",
        "FROM EMP\n",
        "GROUP BY DEPTNO;\n",
        "\n",
        "SELECT ENAME, SAL\n",
        "FROM EMP\n",
        "JOIN V_DEPT_SALAVG ON (NVL(DEPTNO, 10) = \"Did\")\n",
        "WHERE SAL > \"Davg\"\n",
        "ORDER BY 2 DESC;\n",
        "\n",
        "# 인라인뷰로 구현\n",
        "SELECT ENAME, SAL\n",
        "FROM (SELECT NVL(DEPTNO, 10) AS \"Did\", ROUND(AVG(SAL), -1) AS \"Davg\"\n",
        "FROM EMP\n",
        "GROUP BY DEPTNO    \n",
        ") V_DEPT_SALAVG\n",
        "JOIN EMP \n",
        "ON (NVL(DEPTNO, 10) = V_DEPT_SALAVG.\"Did\")\n",
        "WHERE SAL > V_DEPT_SALAVG.\"Davg\"\n",
        "ORDER BY 2 DESC;"
      ],
      "execution_count": null,
      "outputs": []
    },
    {
      "cell_type": "markdown",
      "metadata": {
        "id": "TbONDtRm5KXy"
      },
      "source": [
        "SQL Language Reference : https://docs.oracle.com/cd/E11882_01/server.112/e41084/toc.htm\n",
        "\n",
        "PL/SQL : https://docs.oracle.com/en/database/oracle/oracle-database/12.2/lnpls/overview.html#GUID-8514540B-FE23-41E1-9F72-AB8D726DEE8F"
      ]
    },
    {
      "cell_type": "markdown",
      "metadata": {
        "id": "ko43WMDa-pNj"
      },
      "source": [
        "## PL/SQL : 프로시저 생성\n",
        "- Procedural Language, Oracle's Procedural Language Extension to SQL\n",
        "- 오라클 DB환경에서 실행되는 절차적인 데이터베이스 프로그래밍 언어\n",
        "- 객체지향이 아님! 순서대로 실행!\n",
        "- 프로그램단위 : BLOCK\n",
        "- 변수정의, 조건처리, 반복문, Procedure Language\n",
        "- 장점 : 모듈화(.sql)\n",
        "\n",
        "<< label >> (optional)\n",
        "DECLARE    -- Declarative part (optional)\n",
        "  -- Declarations of local types, variables, & subprograms\n",
        "\n",
        "BEGIN      -- Executable part (required)\n",
        "  -- Statements (which can use items declared in declarative part)\n",
        "\n",
        "[EXCEPTION -- Exception-handling part (optional)\n",
        "  -- Exception handlers for exceptions (errors) raised in executable part]\n",
        "END;"
      ]
    },
    {
      "cell_type": "code",
      "metadata": {
        "id": "l7RGpS5aP9lR"
      },
      "source": [
        "CREATE OR REPLACE PROCEDURE EX_PRO AS \n",
        "BEGIN\n",
        "DBMS_OUTPUT.PUT_LINE('1. HELLO WORLD.');\n",
        "END EX_PRO;"
      ],
      "execution_count": null,
      "outputs": []
    },
    {
      "cell_type": "code",
      "metadata": {
        "id": "WlKDO3FI3fhE"
      },
      "source": [
        "SET SERVEROUTPUT ON  # 화면출력\n",
        "\n",
        "BEGIN\n",
        "DBMS_OUTPUT.DISABLE;\n",
        "DBMS_OUTPUT.PUT_LINE('111111111111');\n",
        "DBMS_OUTPUT.ENABLE;\n",
        "DBMS_OUTPUT.PUT_LINE('22222222');\n",
        "END;\n",
        "/  # 실행"
      ],
      "execution_count": null,
      "outputs": []
    },
    {
      "cell_type": "code",
      "metadata": {
        "id": "p2SrSUWJ3fds"
      },
      "source": [
        "CREATE OR REPLACE PROCEDURE EX_PRO01 AS \n",
        "i number := 20; --지역변수\n",
        "BEGIN\n",
        "dbms_output.put_line('현재의 값은 ?' || ' ' || i);\n",
        "END EX_PRO01;"
      ],
      "execution_count": null,
      "outputs": []
    },
    {
      "cell_type": "code",
      "metadata": {
        "id": "IG8BGLkV3fbN"
      },
      "source": [
        "create or replace PROCEDURE EX_PRO02 AS \n",
        "i number := 100; --지역변수\n",
        "j number := 200;\n",
        "BEGIN\n",
        "dbms_output.put_line(i || '+' || j || '=' || (i+j));\n",
        "END EX_PRO02;"
      ],
      "execution_count": null,
      "outputs": []
    },
    {
      "cell_type": "code",
      "metadata": {
        "id": "nM6CBSi83fX7"
      },
      "source": [
        "CREATE OR REPLACE PROCEDURE EX_PRO3 AS \n",
        "i int := 10;\n",
        "BEGIN\n",
        "  if i != 20 then\n",
        "  dbms_output.put_line('i=' || i);\n",
        "  end if;\n",
        "END EX_PRO3;"
      ],
      "execution_count": null,
      "outputs": []
    },
    {
      "cell_type": "code",
      "metadata": {
        "id": "EuKX8jtgSWFo"
      },
      "source": [
        "CREATE OR REPLACE PROCEDURE EX_PRO3 AS \n",
        "score01 int := 85;  -- 변수\n",
        "grade varchar2(3);  -- 데이터타입 선언\n",
        "BEGIN\n",
        "  if score01 >= 90 then GRADE := 'A';\n",
        "  ELSIF score01 >= 80 then GRADE := 'B';\n",
        "  ELSIF score01 >= 70 then GRADE := 'C';\n",
        "  ELSIF score01 >= 60 then GRADE := 'D';\n",
        "  ELSE GRADE := 'F';\n",
        "  END IF;\n",
        "  DBMS_OUTPUT.PUT_LINE('SCORE : ' || SCORE01 || ' GRADE: ' || GRADE);\n",
        "END EX_PRO3;"
      ],
      "execution_count": null,
      "outputs": []
    },
    {
      "cell_type": "code",
      "metadata": {
        "id": "bomagTfBQBNo"
      },
      "source": [
        ""
      ],
      "execution_count": null,
      "outputs": []
    },
    {
      "cell_type": "code",
      "metadata": {
        "id": "LEAyA9CCQBJ-"
      },
      "source": [
        ""
      ],
      "execution_count": null,
      "outputs": []
    },
    {
      "cell_type": "code",
      "metadata": {
        "id": "KuiHMh_0QBGs"
      },
      "source": [
        ""
      ],
      "execution_count": null,
      "outputs": []
    }
  ]
}