{
  "nbformat": 4,
  "nbformat_minor": 0,
  "metadata": {
    "colab": {
      "name": "Oracle_SQL_Developer",
      "provenance": [],
      "collapsed_sections": [],
      "authorship_tag": "ABX9TyOETXwoT0gVOy1vw/Q/uvTe",
      "include_colab_link": true
    },
    "kernelspec": {
      "name": "python3",
      "display_name": "Python 3"
    },
    "language_info": {
      "name": "python"
    }
  },
  "cells": [
    {
      "cell_type": "markdown",
      "metadata": {
        "id": "view-in-github",
        "colab_type": "text"
      },
      "source": [
        "<a href=\"https://colab.research.google.com/github/mjkimcs/portfolio/blob/main/SQL/Oracle_SQL_Developer.ipynb\" target=\"_parent\"><img src=\"https://colab.research.google.com/assets/colab-badge.svg\" alt=\"Open In Colab\"/></a>"
      ]
    },
    {
      "cell_type": "markdown",
      "metadata": {
        "id": "hu90SjWt_EoL"
      },
      "source": [
        "https://www.oracle.com/tools/downloads/sqldev-downloads.html  \n",
        "Windows 32-bit/64-bit  \n",
        "관리자권한으로 실행  \n",
        "이전에 설치한 거 임포트 하시겠습니까? 아니오  "
      ]
    },
    {
      "cell_type": "markdown",
      "metadata": {
        "id": "ZQol_SLebsjB"
      },
      "source": [
        "C:\\Program Files\\Java\\jdk1.8.0_291\\jre\\lib\\ext  \n",
        "ojdbc 3개 파일 지우기\n"
      ]
    },
    {
      "cell_type": "markdown",
      "metadata": {
        "id": "3hJSRGSKYxpz"
      },
      "source": [
        "SCOTT@//localhost:1521/xe"
      ]
    },
    {
      "cell_type": "code",
      "metadata": {
        "id": "o2Swwbe8Htrp"
      },
      "source": [
        ""
      ],
      "execution_count": null,
      "outputs": []
    }
  ]
}