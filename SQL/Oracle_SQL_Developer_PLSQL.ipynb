{
  "nbformat": 4,
  "nbformat_minor": 0,
  "metadata": {
    "colab": {
      "name": "Oracle_SQL_Developer_PLSQL",
      "provenance": [],
      "collapsed_sections": [],
      "authorship_tag": "ABX9TyOo9SB55SWaNW6mhiIH8Ksm",
      "include_colab_link": true
    },
    "kernelspec": {
      "name": "python3",
      "display_name": "Python 3"
    },
    "language_info": {
      "name": "python"
    }
  },
  "cells": [
    {
      "cell_type": "markdown",
      "metadata": {
        "id": "view-in-github",
        "colab_type": "text"
      },
      "source": [
        "<a href=\"https://colab.research.google.com/github/mjkimcs/portfolio/blob/main/SQL/Oracle_SQL_Developer_PLSQL.ipynb\" target=\"_parent\"><img src=\"https://colab.research.google.com/assets/colab-badge.svg\" alt=\"Open In Colab\"/></a>"
      ]
    },
    {
      "cell_type": "markdown",
      "metadata": {
        "id": "hu90SjWt_EoL"
      },
      "source": [
        "https://www.oracle.com/tools/downloads/sqldev-downloads.html  \n",
        "Windows 32-bit/64-bit  \n",
        "관리자권한으로 실행  \n",
        "이전에 설치한 거 임포트 하시겠습니까? 아니오  "
      ]
    },
    {
      "cell_type": "markdown",
      "metadata": {
        "id": "ZQol_SLebsjB"
      },
      "source": [
        "C:\\Program Files\\Java\\jdk1.8.0_291\\jre\\lib\\ext  \n",
        "ojdbc 3개 파일 지우기\n"
      ]
    },
    {
      "cell_type": "markdown",
      "metadata": {
        "id": "3hJSRGSKYxpz"
      },
      "source": [
        "SCOTT@//localhost:1521/xe"
      ]
    },
    {
      "cell_type": "markdown",
      "metadata": {
        "id": "otz6PIP6J22n"
      },
      "source": [
        "새접속 - MyDB -  \n",
        "사용자이름 MYDB  \n",
        "비밀번호 admin1234  "
      ]
    },
    {
      "cell_type": "markdown",
      "metadata": {
        "id": "SmewCp5tzg2j"
      },
      "source": [
        "## 뷰 : 논리적개념\n",
        "- Restricted data access : 권한범위 안에서만 가능\n",
        "- Isolate applications from changes in definitions of base tables : 뷰가 참조하지 않는 나머지 컬럼이 변경되어도 뷰를 사용하는 다른 프로그램들은 영향을 받지 않음\n",
        "- Present the data in different perpspective : 원본 테이블에 영향을 주지않고 다른 이름으로 참조 가능\n",
        "- Simplify statement for the user : select 구문만으로 결과조회 가능\n",
        "- Hide data complexity : 복잡한 sql 구문 숨기기\n",
        "- Save complex queries : 복잡한 sql구문을 저장해서 반복적으로 사용가능\n"
      ]
    },
    {
      "cell_type": "markdown",
      "metadata": {
        "id": "gcKM8mQV5Qia"
      },
      "source": [
        "- CREATE OR REPLACE : 생성 또는 동일 이름이 존재하면 수정\n",
        "- NOFORCE : 베이스테이블이 존재해야만 뷰 생성\n",
        "- FORCE : 베이스테이블이 존재하지 않아도 뷰 생성\n",
        "- alias : 뷰에서 사용되는 컬럼명, 서브쿼리에서 사용한 SELECT LIST 개수와 일치\n",
        "- WITH CHECK OPTION(디폴트) : DML 허용, 원본테이블 편집가능\n",
        "- WITH READ ONLY : DML 허용 안 함, SELECT만 가능"
      ]
    },
    {
      "cell_type": "code",
      "metadata": {
        "id": "eIUQ0D6lR-rN"
      },
      "source": [
        "CREATE OR REPLACE VIEW V_EMP\n",
        "AS SELECT ENAME, DEPTNO\n",
        "FROM EMP\n",
        "WHERE DEPTNO = 30;\n",
        "\n",
        "select * from v_emp;"
      ],
      "execution_count": null,
      "outputs": []
    },
    {
      "cell_type": "code",
      "metadata": {
        "id": "o2Swwbe8Htrp"
      },
      "source": [
        "select * \n",
        "from user_tab_cols\n",
        "where table_name = 'V_EMP';\n",
        "\n",
        "SELECT * \n",
        "FROM USER_TAB_COLS\n",
        "WHERE TABLE_NAME = 'V_EMP';"
      ],
      "execution_count": null,
      "outputs": []
    },
    {
      "cell_type": "code",
      "metadata": {
        "id": "JPv0h6UVOoZY"
      },
      "source": [
        "CREATE OR REPLACE VIEW V_EMP_DEPT\n",
        "AS SELECT ENAME, DNAME, JOB\n",
        "FROM EMP\n",
        "LEFT JOIN DEPT USING(DEPTNO);\n",
        "\n",
        "SELECT *\n",
        "FROM V_EMP_DEPT;"
      ],
      "execution_count": null,
      "outputs": []
    },
    {
      "cell_type": "code",
      "metadata": {
        "id": "Qmv0jA10P9xu"
      },
      "source": [
        "# ALIAS\n",
        "CREATE OR REPLACE VIEW V_EMP_DEPT02(M_NAME, M_DNAME, M_JOB)\n",
        "AS SELECT ENAME, DNAME, JOB\n",
        "FROM EMP\n",
        "LEFT JOIN DEPT USING(DEPTNO);\n",
        "\n",
        "SELECT *\n",
        "FROM V_EMP_DEPT02;"
      ],
      "execution_count": null,
      "outputs": []
    },
    {
      "cell_type": "code",
      "metadata": {
        "id": "dFSi4uCCP9u2"
      },
      "source": [
        "SELECT *\n",
        "FROM V_EMP;\n",
        "\n",
        "# 베이스테이블에 값 추가\n",
        "INSERT INTO EMP(EMPNO, ENAME, DEPTNO) VALUES(111, '111', 30);\n",
        "\n",
        "# 뷰테이블에 반영됨\n",
        "SELECT *\n",
        "FROM V_EMP;"
      ],
      "execution_count": null,
      "outputs": []
    },
    {
      "cell_type": "code",
      "metadata": {
        "id": "OWE0sv6DP9r2"
      },
      "source": [
        "# 뷰테이블에서 수정한 것이 원본테이블에도 반영됨\n",
        "# WITH CHECK OPTION이 디폴트\n",
        "UPDATE V_EMP\n",
        "SET DEPTNO = NULL;\n",
        "\n",
        "SELECT *\n",
        "FROM EMP;\n",
        "\n",
        "ROLLBACK;"
      ],
      "execution_count": null,
      "outputs": []
    },
    {
      "cell_type": "code",
      "metadata": {
        "id": "U6ym8doXP9or"
      },
      "source": [
        "CREATE OR REPLACE VIEW V_EMP\n",
        "AS SELECT *\n",
        "FROM EMP\n",
        "WITH READ ONLY;"
      ],
      "execution_count": null,
      "outputs": []
    },
    {
      "cell_type": "code",
      "metadata": {
        "id": "rOomvoE-TeXL"
      },
      "source": [
        "# 구조만 가져오기\n",
        "CREATE TABLE EMP_TEST\n",
        "AS SELECT ENAME, SAL\n",
        "FROM EMP\n",
        "WHERE 1=0;\n",
        "\n",
        "ALTER TABLE EMP_TEST\n",
        "ADD MARRIAGE CHAR(2);\n",
        "\n",
        "DESC EMP_TEST\n",
        "\n",
        "INSERT INTO EMP_TEST VALUES(1, 3000, 'Y');\n",
        "INSERT INTO EMP_TEST VALUES(2, 2000, 'Y');\n",
        "INSERT INTO EMP_TEST VALUES(3, 5000, 'N');\n",
        "INSERT INTO EMP_TEST VALUES(4, 7000, 'Y');\n",
        "INSERT INTO EMP_TEST VALUES(5, 1000, 'N');\n",
        "INSERT INTO EMP_TEST VALUES(6, 5000, 'Y');\n",
        "\n",
        "CREATE OR REPLACE VIEW V_EMP\n",
        "AS SELECT *\n",
        "FROM EMP_TEST\n",
        "WHERE MARRIAGE = 'N'\n",
        "WITH CHECK OPTION; # WHERE문이 있을 때는 반드시 명시\n",
        "\n",
        "INSERT INTO EMP_TEST VALUES(7, 5000, 'Y');\n",
        "\n",
        "INSERT INTO V_EMP VALUES(8, 5000, 'N'); # 가능\n",
        "INSERT INTO V_EMP VALUES(8, 5000, 'Y'); # 불가능\n",
        "\n",
        "\n",
        "SELECT VIEW_NAME, TEXT\n",
        "FROM USER_VIEWS\n",
        "WHERE VIEW_NAME = 'V_EMP';"
      ],
      "execution_count": null,
      "outputs": []
    },
    {
      "cell_type": "markdown",
      "metadata": {
        "id": "Gky3z66hYYyd"
      },
      "source": [
        "![22.png](data:image/png;base64,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)"
      ]
    },
    {
      "cell_type": "code",
      "metadata": {
        "id": "kM-tGtdBTeT6"
      },
      "source": [
        "# 별칭에 더블이\n",
        "CREATE OR REPLACE VIEW V_EMP_DEPT02(\"M_NAME\", \"M_DNAME\", \"M_JOB\")\n",
        "AS SELECT ENAME, DNAME, JOB\n",
        "FROM EMP\n",
        "LEFT JOIN DEPT USING(DEPTNO);\n",
        "\n",
        "SELECT M_NAME, M_JOB\n",
        "FROM V_EMP_DEPT02;\n",
        "WHERE M_JOB='CLERK';\n",
        "\n",
        "SELECT M_NAME, M_JOB\n",
        "FROM V_EMP_DEPT02\n",
        "WHERE \"M_JOB\"='CLERK';\n",
        "\n",
        "CREATE VIEW V_EMP_DEPT02(\"M_NAME\", \"M_DNAME\", \"M_JOB\")\n",
        "AS SELECT ENAME, DNAME, JOB\n",
        "FROM EMP\n",
        "LEFT JOIN DEPT USING(DEPTNO);\n",
        "\n",
        "DROP VIEW V_EMP_DEPT02;"
      ],
      "execution_count": null,
      "outputs": []
    },
    {
      "cell_type": "code",
      "metadata": {
        "id": "321Fksn3Td-I"
      },
      "source": [
        "# 부서별 평균 월급보다 더 많은 월급을 받는 사원과 월급을 출력\n",
        "CREATE OR REPLACE VIEW V_DEPT_SALAVG(\"Did\", \"Davg\")\n",
        "AS SELECT NVL(DEPTNO, 10), ROUND(AVG(SAL), -1)\n",
        "FROM EMP\n",
        "GROUP BY DEPTNO;\n",
        "\n",
        "SELECT ENAME, SAL\n",
        "FROM EMP\n",
        "JOIN V_DEPT_SALAVG ON (NVL(DEPTNO, 10) = \"Did\")\n",
        "WHERE SAL > \"Davg\"\n",
        "ORDER BY 2 DESC;\n",
        "\n",
        "# 인라인뷰로 구현\n",
        "SELECT ENAME, SAL\n",
        "FROM (SELECT NVL(DEPTNO, 10) AS \"Did\", ROUND(AVG(SAL), -1) AS \"Davg\"\n",
        "FROM EMP\n",
        "GROUP BY DEPTNO    \n",
        ") V_DEPT_SALAVG\n",
        "JOIN EMP \n",
        "ON (NVL(DEPTNO, 10) = V_DEPT_SALAVG.\"Did\")\n",
        "WHERE SAL > V_DEPT_SALAVG.\"Davg\"\n",
        "ORDER BY 2 DESC;"
      ],
      "execution_count": null,
      "outputs": []
    },
    {
      "cell_type": "markdown",
      "metadata": {
        "id": "TbONDtRm5KXy"
      },
      "source": [
        "SQL Language Reference : https://docs.oracle.com/cd/E11882_01/server.112/e41084/toc.htm\n",
        "\n",
        "PL/SQL : https://docs.oracle.com/en/database/oracle/oracle-database/12.2/lnpls/overview.html#GUID-8514540B-FE23-41E1-9F72-AB8D726DEE8F"
      ]
    },
    {
      "cell_type": "markdown",
      "metadata": {
        "id": "ko43WMDa-pNj"
      },
      "source": [
        "## PL/SQL : 프로시저 생성, 모듈단위\n",
        "- Procedural Language, Oracle's Procedural Language Extension to SQL\n",
        "- 오라클 DB환경에서 실행되는 절차적인 데이터베이스 프로그래밍 언어\n",
        "- 객체지향이 아님! 순서대로 실행!\n",
        "- 프로그램단위 : BLOCK\n",
        "- 변수정의, 조건처리, 반복문, Procedure Language\n",
        "- 장점 : 모듈화(.sql)\n",
        "\n",
        "<< label >> (optional)\n",
        "DECLARE    -- Declarative part (optional)\n",
        "  -- Declarations of local types, variables, & subprograms\n",
        "\n",
        "BEGIN      -- Executable part (required)\n",
        "  -- Statements (which can use items declared in declarative part)\n",
        "\n",
        "[EXCEPTION -- Exception-handling part (optional)\n",
        "  -- Exception handlers for exceptions (errors) raised in executable part]\n",
        "END;"
      ]
    },
    {
      "cell_type": "code",
      "metadata": {
        "id": "l7RGpS5aP9lR"
      },
      "source": [
        "CREATE OR REPLACE PROCEDURE EX_PRO AS \n",
        "BEGIN\n",
        "DBMS_OUTPUT.PUT_LINE('1. HELLO WORLD.');\n",
        "END EX_PRO;"
      ],
      "execution_count": null,
      "outputs": []
    },
    {
      "cell_type": "code",
      "metadata": {
        "id": "WlKDO3FI3fhE"
      },
      "source": [
        "SET SERVEROUTPUT ON  # 화면출력\n",
        "\n",
        "BEGIN\n",
        "DBMS_OUTPUT.DISABLE;\n",
        "DBMS_OUTPUT.PUT_LINE('111111111111');\n",
        "DBMS_OUTPUT.ENABLE;\n",
        "DBMS_OUTPUT.PUT_LINE('22222222');\n",
        "END;\n",
        "/  # 실행"
      ],
      "execution_count": null,
      "outputs": []
    },
    {
      "cell_type": "code",
      "metadata": {
        "id": "p2SrSUWJ3fds"
      },
      "source": [
        "CREATE OR REPLACE PROCEDURE EX_PRO01 AS \n",
        "i number := 20; --지역변수\n",
        "BEGIN\n",
        "dbms_output.put_line('현재의 값은 ?' || ' ' || i);\n",
        "END EX_PRO01;"
      ],
      "execution_count": null,
      "outputs": []
    },
    {
      "cell_type": "code",
      "metadata": {
        "id": "IG8BGLkV3fbN"
      },
      "source": [
        "create or replace PROCEDURE EX_PRO02 AS \n",
        "i number := 100; --지역변수\n",
        "j number := 200;\n",
        "BEGIN\n",
        "dbms_output.put_line(i || '+' || j || '=' || (i+j));\n",
        "END EX_PRO02;"
      ],
      "execution_count": null,
      "outputs": []
    },
    {
      "cell_type": "code",
      "metadata": {
        "id": "nM6CBSi83fX7"
      },
      "source": [
        "CREATE OR REPLACE PROCEDURE EX_PRO3 AS \n",
        "i int := 10;\n",
        "BEGIN\n",
        "  if i != 20 then\n",
        "  dbms_output.put_line('i=' || i);\n",
        "  end if;\n",
        "END EX_PRO3;"
      ],
      "execution_count": null,
      "outputs": []
    },
    {
      "cell_type": "code",
      "metadata": {
        "id": "EuKX8jtgSWFo"
      },
      "source": [
        "CREATE OR REPLACE PROCEDURE EX_PRO3 AS \n",
        "score01 int := 85;  -- 변수\n",
        "grade varchar2(3);  -- 데이터타입 선언\n",
        "BEGIN\n",
        "  if score01 >= 90 then GRADE := 'A';\n",
        "  ELSIF score01 >= 80 then GRADE := 'B';\n",
        "  ELSIF score01 >= 70 then GRADE := 'C';\n",
        "  ELSIF score01 >= 60 then GRADE := 'D';\n",
        "  ELSE GRADE := 'F';\n",
        "  END IF;\n",
        "  DBMS_OUTPUT.PUT_LINE('SCORE : ' || SCORE01 || ' GRADE: ' || GRADE);\n",
        "END EX_PRO3;"
      ],
      "execution_count": null,
      "outputs": []
    },
    {
      "cell_type": "code",
      "metadata": {
        "id": "LEAyA9CCQBJ-"
      },
      "source": [
        ""
      ],
      "execution_count": null,
      "outputs": []
    },
    {
      "cell_type": "code",
      "metadata": {
        "id": "KuiHMh_0QBGs"
      },
      "source": [
        "# FOR문\n",
        "CREATE TABLE TEST1(\n",
        "    BUNHO NUMBER(3),\n",
        "    IRUM VARCHAR2(10));\n",
        "\n",
        "SET SERVEROUTPUT ON\n",
        "BEGIN\n",
        "FOR i IN 1..10 LOOP\n",
        "INSERT INTO TEST1 VALUES(i, SYSDATE);\n",
        "END LOOP;\n",
        "END;\n",
        "/\n",
        "\n",
        "SELECT * FROM TEST1"
      ],
      "execution_count": null,
      "outputs": []
    },
    {
      "cell_type": "markdown",
      "metadata": {
        "id": "B8viZ9Jw8ATn"
      },
      "source": [
        "![DDD.png](data:image/png;base64,iVBORw0KGgoAAAANSUhEUgAAARIAAAESCAIAAAC+Vc10AAAAAXNSR0IArs4c6QAAAARnQU1BAACxjwv8YQUAAAAJcEhZcwAADsMAAA7DAcdvqGQAABKMSURBVHhe7dyxklxFzwbguQCu6LsACAgoIkICnEDh9eakhOTcAxdAQURAQMCPAWPfz9/T0ghZLXW3Zk4vO+e8TzB1+m21dj20aj22i9Pr169fvnz5AQBMw9gApGFsANIwNgBpGBuANIwNQBrGBiANYwOQhrEBSHtvbP7vfRQSjlSon29EnYUbEsqpwKACg/fULq9H9bfjju9rcyoWnL7/ffLTRZto9bTVydstNyS0RczyUP4dm/ZdkERvuaEW5ZG2npJs/87X1VttWefgLSa/z+h7k+e2T5u4TFl0atjfLSC8Pp7x2Mznomx1do22kpKow+25SaKDN8p+P51cb5llhymLTrX51QdJlO9Jb2xIm1MyfHcm3775r0tuz00SHXTNF2e/n06ut8yyw5RFp4bdsgeHDXfAfrahB60NKZl5d0rNZBk/KdHBrXIxLCBUpl/7opo2j3rqvH0dMmWdU/2G0e7kt7FL741NUd4L83a07w4lbR6ZqSw1powSTXJ6MKhGk5weIsMCUbue8bqLSxXJ6YFEeUFJ9DpkysrS4I2qTUQ2PwI7NkS/I+27Q8nMu1ZqZsqELo4ObpWLYYGgysn6zvejcerVUyJ5+9BnymZOuTXRwclvY5f8sSnkTWnfHUqG79p1b2vn65KtcjEsILps5sjk9yPLtp6StqCtdJmy604V0cHJhrsUjk1B70v0PnbetbLV2R2is1GH23OTRAdvlP1+hnn70GfKJk8Vkwez+Z78Ozbtr5YSneukrSdRHmnrr+s/n5skOnij7PeTzYdMWXRq2H/+IInyPRmPjX4o3PAW0deN+mfzQm+1ZZ2Dt5j/PiXRW25I2sRlyqJTw/7zB0mU78l7v0krv2CNQsJRDeXVqIXX4PMXbkjcvF9PeO19k254u6htm+ukPBNej+o7TNm5acPdolC0CXHzqHhnep9tAMCFsQFIw9gApGFsANIwNgBpGBuANIwNQBrGBiANYwOQhrEBSMPYAKRhbADSMDYAaRgbgDSMDUAaxgYgDWMDkIaxAUjD2ACkYWwA0v77sTn/Tx8UTr3/mQMl2ZyUZ8LrCaaYjgtO468b5bADz2Js+KmSZXTtyqvZkpyWQhK91ZZFTGW0bBtSEuWwA89ubIr+tSuvZktyWop+PmTKsv3Lq94yS7hrdzk28kpm6rU2cZmybP/yqrfMEu7aXf4mTV5Jm5B+PmTKsv2jV9iBO/4jAfNQXluyq7WJy5RFy6h/9Ao7cK8/bdqHYb1oE5cpK0uN07i/5O0D3Lt7/WxDdDJTT9rEZcqiZdS/LWgr4U5hbEKmLNtf8vYB7t19j01Rlm5e9PMhU5btH+WwA3f82YaUpZsXkuittixiKqP+2Rx24FmMjcZpxdGFhPQgKIlyUp4JryeY4vasJOe+ioT0INoE7tR/PzYAdwdjA5CGsQFIw9gApGFsANIwNgBpGBuANIwNQBrGBiDt37Gpf8Ft7TiPcMX7kJMd5JvATxuANIwNQBrGBiANYwOQhrEBSMPYAKRhbADSMDYAaRgbgDSMDUDagcZm/t9W0D/EIBwpbijMbu1xxuuKo4qjhtmi4oLXihvCUocYG7pwBa+7TJle1h5nvPboXffZHI+6DfsU5ZnwGp4KftpYpqw91emjt6KDJne7zfQRbgdYCmMzMLy1mt6KDnaOi5k+YqYhbAtjMzC8tWJ4mymJjovJPmLYEDaHselxj0R9hreZkvKq0ZZmwrZmWACrYWxCUb2bt2GUmLy/LIZJWwCrYWx8nWJ3qw2jxOT9ZTFM2gJYDWPj6FcO7zGJykyul6k+wj0FS2FsrGHZ8B6TqMzkepnqI9xTsBTGxhqWzd9avSXP0fFsH9E5CItgbKxSZvDGhUnaAq02OON1xVHF0VV9iBvCUgcaG4CtYGwA0jA2AGkYG4C0Q4wNfZgmHHVxacWR4obC7NYeZ7yuOKo4apgtKi54rbghLLX/sTG3anjJOvXlmfDao3fdZ3M86jbsU5Rnwmt4Khgba1jf6aC3ooMmd7vN9BFuB1jqcJ9tspdseGs1vRUd7BwXM33ETEPYFsZmYHhrxfA2UxIdF5N9xLAhbO5YY5O9YW591GR4mykprxptaSZsa4YFsNqBxiZ7vaJ6N2/DKDF5f1kMk7YAVjvK2GTvVqfe3WrDKDF5f1kMk7YAVjvE2GQvVr9+eI9JVGZyvUz1Ee4pWGr/Y5O9VcP64T0mUZnJ9TLVR7inYCmMjTWsn7+1ekueo+PZPqJzEBY5xNgYvBHgIoU3LkzSFmi1wRmvK44qjq7qQ9wQljrKHwkAbAhjA5CGsQFIw9gApB1ibOjDNOGoi0srjhQ3FGa39jjjdcVRxVHDbFFxwWvFDWGp/Y+NuVXDS9apL8+E1x696z6b41G3YZ+iPBNew1PB2FjD+k4HvRUdNLnbbaaPcDvAUof7bJO9ZMNbq+mt6GDnuJjpI2YawrYwNgPDWyuGt5mS6LiY7COGDWFz+COBHrc+amLytoyS8qrRlmbCtmZYAKvhp00oqnTzNowSk/eXxTBpC2A1jI2vU+ZutWGUmLy/LIZJWwCrYWwc/ZrhPSZRmcn1MtVHuKdgqf2PTfaSXVHgHonKTK6XqT7CPQVLYWysbEGnXm/Jc3Q820d0DsIih/hNWrlYgqMY1ym8cWGStkCrDc54XXFUcXRVH+KGsNThPtsA3A5jA5CGsQFIw9gApB1rbKJP1QaVEY4UNxRmt/Y443XFUcVRw2xRccFrxQ1hKYyNZQr0sp4+47VH77rP5njUbdinKM+E1/BUDjQ2dL2Gl8wUtPWdDnorOmhyt9tMH+F2gKUwNgPDW6vprehg57iY6SNmGsK2jjI2creyl2x4a4XJo4PRcTHZRwwbwuYwNj1ucdTB5G0ZJeVVoy3NhG3NsABWO8TY6Is1f8miSjdvwygxeX9ZDJO2AFbD2Pg6Ze5WG0aJyfvLYpi0BbDa/sem3KoW7wX6Be2uWx+VmVwvU32EewqWOspnGzG8ZFcUuEeiMpPrZaqPcE/BUhgbK1vQqddb8hwdz/YRnYOwCMbGKgUGb1yYpC3QaoMzXlccVRxd1Ye4ISx1uLEBuB3GBiANYwOQhrEBSNv/2NAnaY03YlxXcaS4oTC7tccZryuOKo4aZouKC14rbghLHWJs+GmOqdfL8kx47dG77rM5HnUb9inKM+E1PBWMjWXq2+OdhnorOmhyt9tMH+F2gKUwNgPDW6vprehg57iY6SNmGsK2DvfZhtNp7ZGoicmjg9FxMdlHDBvC5g730yZ1ydziqMPwC1FSXjXa0kzY1gwLYLX9j40xf8miSjdvwygxeX9ZDJO2AFbD2Pg6Ze5WG0aJyfvLYpi0BbAaxsbRrxneYxKVmVwvU32EewqWwmcb64oC90hUZnK9TPUR7ilYCmNjZQs69XpLnqPj2T6icxAWOcRv0srFEhzFuE7hjQuTtAVabXDG64qjiqOr+hA3hKUO99kG4HYYG4A0jA1AGsYGIA1/JODg0oojxQ2F2a09znhdcVRx1DBbVFzwWnFDWGr/Y2Nu1fCSderLM+G1R++6z+Z41G3YpyjPhNfwVDA21rC+00FvRQdN7nab6SPcDrDU4cYma3hrNb0VHewcFzN9xExD2BbGZmB4a8XwNlMSHReTfcSwIWzuEGOjcTrHrY+amLwto6S8arSlmbCtGRbAaqd37949Pj7yao+uvmRRpZu3YZSYvL8shklbAKthbHydMnerDaPE5P1lMUzaAlgNY+Po17S7bn1UZnK9TPUR7ilY6vT27VuMjXZFgXskKjO5Xqb6CPcULHX6559/Xr16xas9yl6ybEGnXm/Jc3Q820d0DsIi+x+bolwswVGM6xTeuDBJW6DVBme8rjiqOLqqD3FDWOr05s2b3Y8NwLZOf//998PDA68AYMLpzz//xNgApJz++OOPff8rAYDNnX777bevvvqKV3tEn6Q13ohxXcWR4obC7NYeZ7yuOKo4apgtKi54rbghLLX/f5NmDC+ZKdDL8kx47dG77rM5HnUb9inKM+E1PJVjjc3MDTM17ZFOE70VHTS5222mj3A7wFIYm4HhrdX0VnSwc1zM9BEzDWFbBxqb667X8NaK4W2mJDouJvuIYUPYHMamxz0S9RneZkrKq0ZbmgnbmmEBrIaxCUX1bt6GUWLy/rIYJm0BrHaUscnerU69u9WGUWLy/rIYJm0BrIaxcfSLh/eYRGUm18tUH+GegqUwNtawcniPSVRmcr1M9RHuKVjq9NNPP7148YJX+zV/t4aV87dWb8lzdDzbR3QOwiKnx8fHjz76iFf7NX+3SqXBGxcmaQu02uCM1xVHFUdX9SFuCEudPv300//973+8AoAJp4eHhw8//JBXADDhQH9vA7AVjA1A2iHGhj5ME466uLTiSHFDYXZrjzNeVxxVHDXMFhUXvFbcEJba/9iYWzW8ZJ368kx47dG77rM5HnUb9inKM+E1PJXTL7/8su+/tzG3anjJhvWdDnorOmhyt9tMH+F2gKVO33333b7/3ubGSza8tZreig52jouZPmKmIWwLv0kbGN5aMfxClETHxWQfMWwIm8MfCfS49VETk7dllJRXjbY0E7Y1wwJYDT9tQlGlm7dhlJi8vyyGSVsAq2FsfJ0yd6sNo8Tk/WUxTNoCWO30zTfffPzxx7zaoysuWb+m3XXrozKT62Wqj3BPwVL4aWNdUeAeicpMrpepPsI9BUthbKxsQadeb8lzdDzbR3QOwiL4kzSL6xTeuDBJW6DVBme8rjiqOLqqD3FDWOoQYwOwLYwNQBrGBiANYwOQhj8ScHBpxZHihsLs1h5nvK44qjhqmC0qLnituCEstf+xMbdqeMk69eWZ8Nqjd91nczzqNuxTlGfCa3gqGBtrWN/poLeigyZ3u830EW4HWApjMzC8tZreig52jouZPmKmIWwLYzMwvLVi+IUoiY6LyT5i2BA2d/rxxx+/+OILXu3RLZfMLY46DL8QJeVVoy3NhG3NsABWO7179+7x8ZFXO1UulsbpSFTp5m0YJSbvL4th0hbAaocYG23yknXK3K02jBKT95fFMGkLYDWMjaNfM7zHJCozuV6m+gj3FCy1/7HJXrIrCtwjUZnJ9TLVR7inYCmMjZUt6NTrLXmOjmf7iM5BWORwfyTAUYzrFN64MElboNUGZ7yuOKo4uqoPcUNY6nCfbQBuh7EBSMPYAKRhbADSdjg20edmwusuLq04UtxQmN3a44zXFUcVRw2zRcUFrxU3hKV2NTZ0sQpeX+ik3TVMgTlLeO3Ru+6zOR51G/YpyjPhNTyV/f+0aW9V/57dclxvRQdN7nab6SPcDrAUxmYgdVxvRQc7x8VMHzHTELaFsRmYPz75daPjYrKPGDaEzWFsetzK6Pjk1y2vGm1pJmxrhgWwGsYmFJW5+cxXocTk/WUxTNoCWA1j4+vUuFszX4USk/eXxTBpC2A1jI2jXzDZMCozuV6m+gj3FCyFsbGGt3CyYVRmcr1M9RHuKVhq/2NT6GR4ybIFnXr360bHs31E5yAscoixKUpIeB3jOoU3LkzSFmi1wRmvK44qjq7qQ9wQltrh2ACshrEBSMPYAKRhbADSMDYAaRgbgDSMDUAaxgYgDWMDkIaxAUg7ffvtt5988gmvAGDC6fvvv//ss894BQATTj/88MPnn3/OKwCYcPr5559fvHjBKwCYcPr111+//PJLXgHAhNPvv//+9ddf8woAJpz++uuvh4cHXgHAhNObN29evXrFKwCYcHr79i3+uhMgBWMDkOb845ro//NAeL0jm/yibmmyy3d1306vX79++fIlLc5jUdFS6KTdvXeb/IpuabK/t3T33hsbYv4rtv9Rd/afeZNfzi1NdvZ+HgHGZptfzi1NdvZ+HsGSsaGC8kooJBypUD8TSWoho6SPSyuOLjj1+kQh4fUFp1WbEMoJR3EfeqYQ7sWqsXFrdCjP0YMuLsyy1amPnkk/6ZztbJGZPuVZL+EuLPxpY0R9JDcPbX1fVN/mJukvC0raXItOaVGffmd4hp7v2NCDPM9w6yk0eK9qly3KqcDV7tZzFuVUINoEnrnnMjbtqyhLk/SZ+uFZUxDV9/u0u/N9+p3hGfrvx4Ye6FkeWlEekfrhQVNw3TfQ7s736XeGZ2g8NoVOZv4bRzVRH/fZNDHLVqe+36rtHBV0DrZNipk+5VkvC7OEZ2hqbIr6H/eM112dMmpS8LrSS/MsOOri0oqjC04rji7apKBKwlHFUcXRBadz9RzVkF6FWcIz5IwNAPRhbADSMDYAaRgbgDSMDUAaxgYgDWMDkIaxAUjD2ACkYWwA0jA2AGkYG4A0jA1A0gcf/D+vWT7SKNMJWQAAAABJRU5ErkJggg==)"
      ]
    },
    {
      "cell_type": "code",
      "metadata": {
        "id": "8b6figLz66yn"
      },
      "source": [
        "DECLARE\n",
        "  i int := 0;\n",
        "BEGIN\n",
        "  for i in 1..50 loop\n",
        "    dbms_output.put_line('현재의 i값은?' || i || '이다');\n",
        "  end loop;\n",
        "END;\n",
        "/"
      ],
      "execution_count": null,
      "outputs": []
    },
    {
      "cell_type": "code",
      "metadata": {
        "id": "xbcpuU8y66vh"
      },
      "source": [
        "# 홀수로만 구구단\n",
        "DECLARE\n",
        "  total number := 0;\n",
        "BEGIN\n",
        "for i in 2..9 loop\n",
        "  if mod(i, 2) <> 0 then\n",
        "    dbms_output.put_line(i || '는 홀수');\n",
        "    dbms_output.put_line('===============');\n",
        "    for j in 2..9 loop\n",
        "      total := i * j;\n",
        "      dbms_output.put_line(i || '*' || j || '=' || total);\n",
        "    end loop;\n",
        "  end if;\n",
        "end loop;\n",
        "END;\n",
        "/"
      ],
      "execution_count": null,
      "outputs": []
    },
    {
      "cell_type": "code",
      "metadata": {
        "id": "vXLdQTWVAy8I"
      },
      "source": [
        "# loop  exit;  end loop;\n",
        "DECLARE\n",
        "  i int := 1;\n",
        "BEGIN\n",
        "  loop\n",
        "  dbms_output.put_line('현재 i값은 ' || i ||'이다.');\n",
        "  i := i + 1;\n",
        "  if i > 50 then\n",
        "    exit;\n",
        "    end if;\n",
        "  end loop;\n",
        "END;\n",
        "/"
      ],
      "execution_count": null,
      "outputs": []
    },
    {
      "cell_type": "code",
      "metadata": {
        "id": "igOQwl0vSpK0"
      },
      "source": [
        ""
      ],
      "execution_count": null,
      "outputs": []
    },
    {
      "cell_type": "code",
      "metadata": {
        "id": "RALXFOS1C2oJ"
      },
      "source": [
        "SELECT AVG(SAL)\n",
        "FROM EMP\n",
        "WHERE DEPTNO = 10\n",
        "GROUP BY DEPTNO;\n",
        "\n",
        "\n",
        "DECLARE\n",
        "  avg01 number(7) := 0;\n",
        "  deptno01 number := 10;\n",
        "BEGIN\n",
        "  SELECT AVG(SAL) into avg01\n",
        "  FROM EMP\n",
        "  WHERE DEPTNO = deptno01\n",
        "  GROUP BY DEPTNO;\n",
        "  dbms_output.put_line(deptno01 || '번 부서의 평균 급여는 ' || avg01);\n",
        "END;\n",
        "/"
      ],
      "execution_count": null,
      "outputs": []
    },
    {
      "cell_type": "code",
      "metadata": {
        "id": "HNTjtbuOFxR3"
      },
      "source": [
        "DECLARE\n",
        "  avg01 number(7) := 0;\n",
        "  cnt01 number := 0;\n",
        "  deptno01 number := 20;\n",
        "BEGIN\n",
        "  SELECT COUNT(DEPTNO), AVG(SAL) into cnt01, avg01\n",
        "  FROM EMP\n",
        "  WHERE DEPTNO = deptno01\n",
        "  GROUP BY DEPTNO;\n",
        "  dbms_output.put_line(deptno01 || '번 부서에 ' || cnt01 || '명에 대한  평균 급여는 ' || avg01);\n",
        "END;\n",
        "/"
      ],
      "execution_count": null,
      "outputs": []
    },
    {
      "cell_type": "code",
      "metadata": {
        "id": "ZooUEXPEAy5N"
      },
      "source": [
        ""
      ],
      "execution_count": null,
      "outputs": []
    },
    {
      "cell_type": "code",
      "metadata": {
        "id": "QnWeWobnAy2g"
      },
      "source": [
        "# 입력\n",
        "ACCEPT A PROMPT 'INPUT: '\n",
        "ACCEPT A PROMPT '여기에 입력하세요>> '\n",
        "ACCEPT INPUT_VAL PROMPT '사번 입력: '  # 7902\n",
        "\n",
        "# %type 같은 타입으로~\n",
        "DECLARE\n",
        "  my_name emp.ename%type;   #varchar2(10)\n",
        "BEGIN\n",
        "  SELECT ENAME into my_name \n",
        "  FROM EMP\n",
        "  WHERE EMPNO = &INPUT_VAL;\n",
        "  dbms_output.put_line(my_name);\n",
        "END;\n",
        "/"
      ],
      "execution_count": null,
      "outputs": []
    },
    {
      "cell_type": "code",
      "metadata": {
        "id": "yww7FeUtWfZH"
      },
      "source": [
        "DECLARE\n",
        "  sal01 emp.sal%type;   \n",
        "  cnt01 number;\n",
        "  grade01 varchar2(2);\n",
        "  deptno01 number := 30;\n",
        "BEGIN\n",
        "  SELECT COUNT(DEPTNO), AVG(SAL) into cnt01, sal01\n",
        "  FROM EMP\n",
        "  WHERE DEPTNO = deptno01\n",
        "  GROUP BY DEPTNO;\n",
        "\n",
        "  if sal01 >= 2100 then grade01 := 'A';\n",
        "  ELSIF sal01 >= 2000 then grade01 := 'B';\n",
        "  ELSIF sal01 >= 1500 then grade01 := 'C';\n",
        "  ELSIF sal01 >= 1000 then grade01 := 'D';\n",
        "  ELSE grade01 := 'F';\n",
        "  END IF;\n",
        "  DBMS_OUTPUT.PUT_LINE(deptno01 || '번 부서의 인원수는 ' || cnt01 || '이고 평균급여는 ' || sal01 || '이며 ' || grade01 || '등급이다.');\n",
        "END;\n",
        "/"
      ],
      "execution_count": null,
      "outputs": []
    },
    {
      "cell_type": "code",
      "metadata": {
        "id": "uBDVPri6bVfD"
      },
      "source": [
        ""
      ],
      "execution_count": null,
      "outputs": []
    },
    {
      "cell_type": "markdown",
      "metadata": {
        "id": "MHuO2trih6DY"
      },
      "source": [
        "![DDD.png](data:image/png;base64,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)"
      ]
    },
    {
      "cell_type": "code",
      "metadata": {
        "id": "U8TPoIGabVVe"
      },
      "source": [
        "CREATE PROCEDURE update_sal(v_empno in number)\n",
        "is\n",
        "BEGIN\n",
        " update emp set sal = sal + 100\n",
        " where empno = v_empno;\n",
        " commit;\n",
        "END update_sal;\n",
        "\n",
        "\n",
        "SELECT EMPNO, SAL\n",
        "FROM EMP\n",
        "WHERE EMPNO = 7369;\n",
        "\n",
        "EXECUTE UPDATE_SAL(7369);  -- 사번이 7369인 스미스의 월급이 100 증가\n",
        "\n",
        "SELECT EMPNO, SAL\n",
        "FROM EMP\n",
        "WHERE EMPNO = 7369;"
      ],
      "execution_count": null,
      "outputs": []
    },
    {
      "cell_type": "code",
      "metadata": {
        "id": "iGpIMY_TWfTX"
      },
      "source": [
        "CREATE OR REPLACE PROCEDURE EX_PRO05(P_EMPNO IN EMP.EMPNO%TYPE)\n",
        "AS\n",
        "    V_EMP EMP%ROWTYPE;\n",
        "BEGIN\n",
        "    SELECT EMPNO, ENAME, SAL, JOB INTO V_EMP.EMPNO, V_EMP.ENAME, V_EMP.SAL, V_EMP.JOB\n",
        "    FROM EMP\n",
        "    WHERE EMPNO = P_EMPNO;\n",
        "    \n",
        "    DBMS_OUTPUT.PUT_LINE('사원번호 ' || V_EMP.EMPNO);\n",
        "    DBMS_OUTPUT.PUT_LINE('사원이름 ' || V_EMP.ENAME);\n",
        "    DBMS_OUTPUT.PUT_LINE('사원봉급 ' || V_EMP.SAL);\n",
        "    DBMS_OUTPUT.PUT_LINE('사원직업 ' || V_EMP.JOB);\n",
        "END EX_PRO05;\n",
        "\n",
        "\n",
        "SET SERVEROUTPUT ON\n",
        "EXECUTE EX_PRO05(7902)\n",
        "\n",
        "SELECT * FROM USER_PROCEDURES;\n",
        "SELECT * FROM USER_SOURCE;  -- 입력한 질의문(TEXT) 보기\n",
        "\n",
        "SELECT OBJECT_NAME, STATUS\n",
        "FROM USER_OBJECTS\n",
        "WHERE OBJECT_TYPE = 'VIEW';\n",
        "\n",
        "SELECT OBJECT_NAME, STATUS\n",
        "FROM USER_OBJECTS\n",
        "WHERE OBJECT_TYPE = 'PROCEDURE';"
      ],
      "execution_count": null,
      "outputs": []
    },
    {
      "cell_type": "code",
      "metadata": {
        "id": "l_DvbzADVObm"
      },
      "source": [
        "CREATE OR REPLACE PROCEDURE EX_PRO06(P_EMPNO IN EMP.EMPNO%TYPE)\n",
        "AS\n",
        "  TYPE MY_REC IS RECORD (V_EMPNO NUMBER,\n",
        "                        V_ENAME VARCHAR2(30),\n",
        "                        V_HIREDATE DATE);\n",
        "  EMPR MY_REC;\n",
        "BEGIN\n",
        "  DBMS_OUTPUT.ENABLE;\n",
        "  SELECT EMPNO, ENAME, HIREDATE INTO EMPR.V_EMPNO, EMPR.V_ENAME, EMPR.V_HIREDATE\n",
        "  FROM EMP\n",
        "  WHERE EMPNO = P_EMPNO;\n",
        "  DBMS_OUTPUT.PUT_LINE('사원번호 ' || EMPR.V_EMPNO);\n",
        "  DBMS_OUTPUT.PUT_LINE('사원이름 ' || EMPR.V_ENAME);\n",
        "  DBMS_OUTPUT.PUT_LINE('입사일 ' || EMPR.V_HIREDATE);\n",
        "END EX_PRO06;"
      ],
      "execution_count": null,
      "outputs": []
    },
    {
      "cell_type": "code",
      "metadata": {
        "id": "fLOlOGbitMBQ"
      },
      "source": [
        ""
      ],
      "execution_count": null,
      "outputs": []
    },
    {
      "cell_type": "markdown",
      "metadata": {
        "id": "OChduuhKBkL1"
      },
      "source": [
        "## 함수"
      ]
    },
    {
      "cell_type": "code",
      "metadata": {
        "id": "jJXvcCpiVsdK"
      },
      "source": [
        "CREATE OR REPLACE FUNCTION FC_GETSAL(V_ID EMP.EMPNO%TYPE)\n",
        "RETURN NUMBER \n",
        "AS\n",
        "    V_SAL EMP.SAL%TYPE := 0;\n",
        "BEGIN\n",
        "    SELECT SAL INTO V_SAL\n",
        "    FROM EMP\n",
        "    WHERE EMPNO = V_ID;\n",
        "    \n",
        "    RETURN V_SAL;\n",
        "END FC_GETSAL;\n",
        "\n",
        "\n",
        "SELECT EMPNO 사번, FC_GETSAL(EMPNO) 사원급여\n",
        "FROM EMP;\n",
        "\n",
        "SELECT EMPNO 사번, FC_GETSAL(7369) 사원급여\n",
        "FROM EMP\n",
        "WHERE EMPNO = 7369;"
      ],
      "execution_count": 1,
      "outputs": []
    },
    {
      "cell_type": "code",
      "metadata": {
        "id": "GJJgG3l-tL2t"
      },
      "source": [
        "CREATE OR REPLACE FUNCTION FC_UPDATE_SAL(v_empno emp.empno%type)\n",
        "RETURN NUMBER \n",
        "AS \n",
        "    v_sal emp.sal%type;\n",
        "BEGIN\n",
        "    update emp set sal = sal + 100\n",
        "    where empno = v_empno;\n",
        "    commit;\n",
        "    \n",
        "    SELECT SAL INTO v_sal\n",
        "    FROM EMP\n",
        "    WHERE EMPNO = v_empno;\n",
        "\n",
        "    RETURN v_sal;\n",
        "END FC_UPDATE_SAL;\n",
        "\n",
        "\n",
        "VAR RES_SAL NUMBER;  -- 변수생성\n",
        "EXECUTE :RES_SAL := FC_UPDATE_SAL(7900);  -- 변수호출 시 앞에 :\n",
        "PRINT RES_SAL;"
      ],
      "execution_count": null,
      "outputs": []
    },
    {
      "cell_type": "code",
      "metadata": {
        "id": "RAAZ17_6M8iT"
      },
      "source": [
        "# 첫번째 방법\n",
        "CREATE OR REPLACE FUNCTION EX_GET_SAL(v_empno emp.empno%type)\n",
        "RETURN NUMBER \n",
        "AS\n",
        "    ASAL EMP.SAL%TYPE;\n",
        "BEGIN\n",
        "    SELECT SAL*12+COMM INTO ASAL\n",
        "    FROM EMP\n",
        "    WHERE EMPNO = v_empno;\n",
        "\n",
        "    RETURN ASAL;\n",
        "END EX_GET_SAL;\n",
        "\n",
        "\n",
        "# 두번째 방법\n",
        "CREATE OR REPLACE FUNCTION EX_GET_SAL(v_empno emp.empno%type)\n",
        "RETURN NUMBER \n",
        "AS\n",
        "    ASAL EMP.SAL%TYPE;\n",
        "    VCOMM EMP.COMM%TYPE;\n",
        "    VTOT NUMBER;\n",
        "BEGIN\n",
        "    SELECT SAL, COMM INTO ASAL, VCOMM\n",
        "    FROM EMP\n",
        "    WHERE EMPNO = v_empno;\n",
        "\n",
        "    VTOT := ASAL*12+NVL(VCOMM, 0);\n",
        "    RETURN VTOT;\n",
        "END EX_GET_SAL;\n",
        "\n",
        "\n",
        "SELECT EMPNO, SAL, COMM, EX_GET_SAL(EMPNO) FROM EMP;"
      ],
      "execution_count": null,
      "outputs": []
    },
    {
      "cell_type": "code",
      "metadata": {
        "id": "qqVuEG4oKNRD"
      },
      "source": [
        ""
      ],
      "execution_count": null,
      "outputs": []
    },
    {
      "cell_type": "code",
      "metadata": {
        "id": "_Fcrfc3r66qC"
      },
      "source": [
        ""
      ],
      "execution_count": null,
      "outputs": []
    }
  ]
}