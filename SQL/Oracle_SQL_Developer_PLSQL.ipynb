{
  "nbformat": 4,
  "nbformat_minor": 0,
  "metadata": {
    "colab": {
      "name": "Oracle_SQL_Developer_PLSQL",
      "provenance": [],
      "collapsed_sections": [],
      "authorship_tag": "ABX9TyNK2KzyxfDDjO/f+BwHGFbg",
      "include_colab_link": true
    },
    "kernelspec": {
      "name": "python3",
      "display_name": "Python 3"
    },
    "language_info": {
      "name": "python"
    }
  },
  "cells": [
    {
      "cell_type": "markdown",
      "metadata": {
        "id": "view-in-github",
        "colab_type": "text"
      },
      "source": [
        "<a href=\"https://colab.research.google.com/github/mjkimcs/portfolio/blob/main/SQL/Oracle_SQL_Developer_PLSQL.ipynb\" target=\"_parent\"><img src=\"https://colab.research.google.com/assets/colab-badge.svg\" alt=\"Open In Colab\"/></a>"
      ]
    },
    {
      "cell_type": "markdown",
      "metadata": {
        "id": "hu90SjWt_EoL"
      },
      "source": [
        "https://www.oracle.com/tools/downloads/sqldev-downloads.html  \n",
        "Windows 32-bit/64-bit  \n",
        "관리자권한으로 실행  \n",
        "이전에 설치한 거 임포트 하시겠습니까? 아니오  "
      ]
    },
    {
      "cell_type": "markdown",
      "metadata": {
        "id": "ZQol_SLebsjB"
      },
      "source": [
        "C:\\Program Files\\Java\\jdk1.8.0_291\\jre\\lib\\ext  \n",
        "ojdbc 3개 파일 지우기\n"
      ]
    },
    {
      "cell_type": "markdown",
      "metadata": {
        "id": "3hJSRGSKYxpz"
      },
      "source": [
        "SCOTT@//localhost:1521/xe"
      ]
    },
    {
      "cell_type": "markdown",
      "metadata": {
        "id": "otz6PIP6J22n"
      },
      "source": [
        "새접속 - MyDB -  \n",
        "사용자이름 MYDB  \n",
        "비밀번호 admin1234  "
      ]
    },
    {
      "cell_type": "markdown",
      "metadata": {
        "id": "SmewCp5tzg2j"
      },
      "source": [
        "## 뷰 : 논리적개념\n",
        "- Restricted data access : 권한범위 안에서만 가능\n",
        "- Isolate applications from changes in definitions of base tables : 뷰가 참조하지 않는 나머지 컬럼이 변경되어도 뷰를 사용하는 다른 프로그램들은 영향을 받지 않음\n",
        "- Present the data in different perpspective : 원본 테이블에 영향을 주지않고 다른 이름으로 참조 가능\n",
        "- Simplify statement for the user : select 구문만으로 결과조회 가능\n",
        "- Hide data complexity : 복잡한 sql 구문 숨기기\n",
        "- Save complex queries : 복잡한 sql구문을 저장해서 반복적으로 사용가능\n"
      ]
    },
    {
      "cell_type": "markdown",
      "metadata": {
        "id": "gcKM8mQV5Qia"
      },
      "source": [
        "- CREATE OR REPLACE : 생성 또는 동일 이름이 존재하면 수정\n",
        "- NOFORCE : 베이스테이블이 존재해야만 뷰 생성\n",
        "- FORCE : 베이스테이블이 존재하지 않아도 뷰 생성\n",
        "- alias : 뷰에서 사용되는 컬럼명, 서브쿼리에서 사용한 SELECT LIST 개수와 일치\n",
        "- WITH CHECK OPTION(디폴트) : DML 허용, 원본테이블 편집가능\n",
        "- WITH READ ONLY : DML 허용 안 함, SELECT만 가능"
      ]
    },
    {
      "cell_type": "code",
      "metadata": {
        "id": "eIUQ0D6lR-rN"
      },
      "source": [
        "CREATE OR REPLACE VIEW V_EMP\n",
        "AS SELECT ENAME, DEPTNO\n",
        "FROM EMP\n",
        "WHERE DEPTNO = 30;\n",
        "\n",
        "select * from v_emp;"
      ],
      "execution_count": null,
      "outputs": []
    },
    {
      "cell_type": "code",
      "metadata": {
        "id": "o2Swwbe8Htrp"
      },
      "source": [
        "select * \n",
        "from user_tab_cols\n",
        "where table_name = 'V_EMP';\n",
        "\n",
        "SELECT * \n",
        "FROM USER_TAB_COLS\n",
        "WHERE TABLE_NAME = 'V_EMP';"
      ],
      "execution_count": null,
      "outputs": []
    },
    {
      "cell_type": "code",
      "metadata": {
        "id": "JPv0h6UVOoZY"
      },
      "source": [
        "CREATE OR REPLACE VIEW V_EMP_DEPT\n",
        "AS SELECT ENAME, DNAME, JOB\n",
        "FROM EMP\n",
        "LEFT JOIN DEPT USING(DEPTNO);\n",
        "\n",
        "SELECT *\n",
        "FROM V_EMP_DEPT;"
      ],
      "execution_count": null,
      "outputs": []
    },
    {
      "cell_type": "code",
      "metadata": {
        "id": "Qmv0jA10P9xu"
      },
      "source": [
        "# ALIAS\n",
        "CREATE OR REPLACE VIEW V_EMP_DEPT02(M_NAME, M_DNAME, M_JOB)\n",
        "AS SELECT ENAME, DNAME, JOB\n",
        "FROM EMP\n",
        "LEFT JOIN DEPT USING(DEPTNO);\n",
        "\n",
        "SELECT *\n",
        "FROM V_EMP_DEPT02;"
      ],
      "execution_count": null,
      "outputs": []
    },
    {
      "cell_type": "code",
      "metadata": {
        "id": "dFSi4uCCP9u2"
      },
      "source": [
        "SELECT *\n",
        "FROM V_EMP;\n",
        "\n",
        "# 베이스테이블에 값 추가\n",
        "INSERT INTO EMP(EMPNO, ENAME, DEPTNO) VALUES(111, '111', 30);\n",
        "\n",
        "# 뷰테이블에 반영됨\n",
        "SELECT *\n",
        "FROM V_EMP;"
      ],
      "execution_count": null,
      "outputs": []
    },
    {
      "cell_type": "code",
      "metadata": {
        "id": "OWE0sv6DP9r2"
      },
      "source": [
        "# 뷰테이블에서 수정한 것이 원본테이블에도 반영됨\n",
        "# WITH CHECK OPTION이 디폴트\n",
        "UPDATE V_EMP\n",
        "SET DEPTNO = NULL;\n",
        "\n",
        "SELECT *\n",
        "FROM EMP;\n",
        "\n",
        "ROLLBACK;"
      ],
      "execution_count": null,
      "outputs": []
    },
    {
      "cell_type": "code",
      "metadata": {
        "id": "U6ym8doXP9or"
      },
      "source": [
        "CREATE OR REPLACE VIEW V_EMP\n",
        "AS SELECT *\n",
        "FROM EMP\n",
        "WITH READ ONLY;"
      ],
      "execution_count": null,
      "outputs": []
    },
    {
      "cell_type": "code",
      "metadata": {
        "id": "rOomvoE-TeXL"
      },
      "source": [
        "# 구조만 가져오기\n",
        "CREATE TABLE EMP_TEST\n",
        "AS SELECT ENAME, SAL\n",
        "FROM EMP\n",
        "WHERE 1=0;\n",
        "\n",
        "ALTER TABLE EMP_TEST\n",
        "ADD MARRIAGE CHAR(2);\n",
        "\n",
        "DESC EMP_TEST\n",
        "\n",
        "INSERT INTO EMP_TEST VALUES(1, 3000, 'Y');\n",
        "INSERT INTO EMP_TEST VALUES(2, 2000, 'Y');\n",
        "INSERT INTO EMP_TEST VALUES(3, 5000, 'N');\n",
        "INSERT INTO EMP_TEST VALUES(4, 7000, 'Y');\n",
        "INSERT INTO EMP_TEST VALUES(5, 1000, 'N');\n",
        "INSERT INTO EMP_TEST VALUES(6, 5000, 'Y');\n",
        "\n",
        "CREATE OR REPLACE VIEW V_EMP\n",
        "AS SELECT *\n",
        "FROM EMP_TEST\n",
        "WHERE MARRIAGE = 'N'\n",
        "WITH CHECK OPTION; # WHERE문이 있을 때는 반드시 명시\n",
        "\n",
        "INSERT INTO EMP_TEST VALUES(7, 5000, 'Y');\n",
        "\n",
        "INSERT INTO V_EMP VALUES(8, 5000, 'N'); # 가능\n",
        "INSERT INTO V_EMP VALUES(8, 5000, 'Y'); # 불가능\n",
        "\n",
        "\n",
        "SELECT VIEW_NAME, TEXT\n",
        "FROM USER_VIEWS\n",
        "WHERE VIEW_NAME = 'V_EMP';"
      ],
      "execution_count": null,
      "outputs": []
    },
    {
      "cell_type": "markdown",
      "metadata": {
        "id": "Gky3z66hYYyd"
      },
      "source": [
        "![22.png](data:image/png;base64,iVBORw0KGgoAAAANSUhEUgAAAtgAAABrCAIAAADCcGKgAAAAAXNSR0IArs4c6QAAAARnQU1BAACxjwv8YQUAAAAJcEhZcwAADsMAAA7DAcdvqGQAAA/bSURBVHhe7dzfi5zXecDxN/oTkt70yuDr4l70xosNSRy3JqFOWkqqO0MIGRA0bSmldWhTWvsi2NKuLEtZWY57oZKmqSvbtdqINCWFUgcZ11jaygQkTE0u/EO2gzEYJ01aNs/5+Z4fz5mZ3dn6zMx+Pyi75z3vc36/M/PsSs7wk8TZs2dvvfXWBx54QMr//uCDDw6D/Dl3220/OHHCBUx31113nT9//k9z999vv/rv5vr835yXyAsXLvhmlYvP/+i2L3/3V7760kfv+5fHzl944YUXPvKZC//1493f+d7uZ7+7++lLu3f/8+5H7/v+b//xhffee8+3yf3W5x78zXv/6jOf/ot77vmzu+++/0+GYffrX9i9Y9j9teGLw3CfXN4y7P7ysPtLw73DsLOz45tpbv389+IfXxWk9fFurIx/XL3qySef9KW2YcjOSHVQMZEET+GD9tinUOPn76SIrC+deOkKjrsl/LVW48Qad7fFxYi0DADYq+GnwbPPPitZiOQi/nrvbr/99ueee257e/s/2+SuxEjkU0895Ztpvv39H97xh//0G3/09DPPPPPuu+8euecfrr4zZiEfv7h7xz/uHvnEN1966SXfoCL9R48cPfplST5sFvJ7d9557M47Py+XHxs+OwxfPXpUAnybpeQ+9mr+tuWrKv625asq/va++C4q/rbGRyT8jX2Z0nzBnuf04YwCAGts+J9AspCLFy/6i305fvz4r87n2LFjTz/9tG/WcO36j/713/7jxRdflPLvn3nxyK///ZFP/d2RT33ryF3fOvLJvz3y8W/e+wffntlJ9NfHjkkW8rWjR6XJtWvXHj12TLKQPw+XPggAAHy4hp8dqJ2dnWfmI5G+Tdv777//wQcfuPLVq1d9y4RUurvzePnll6WJfFUvAQDAh2/4OQAAQCfD/wIAAHQy/B8AAEAnJCIAAKCb4SoAAEAnw18CAAB0Mvy4t10Ech6+BADAcpPPLP9BvpilSER86dBziYi/AABgia1tIvLEE0+cOXPmnXfe8deHCYkIAGBVrGci8uabb546derhhx/214cMiQgAYFWsZyLy2GOPvfLKK5cvXz558uRbb73law8NEhEAwKpYz0Rkc3PzjTfekFzkxIkTvio3DOWEXU2sl0Ih1ruCaJVTpmV+q46cGeDEeikUXH2UJiI+IqfWx3hXiFyNDSm5AAAA9m0NE5Ht7e2dnZ3XX3/9+vXrly9f3tracvWp+kPU1cT61qdsWt8qp6S+uFVH1gFqTKys7xbU34gUrVqd1PVzNgQAYB/WMBE5ffr0lStXXCIihe6JSPzqFJFqQHrppJX13cIiiYhIb9VhM0cHAGB+65aInDlz5tSpU+fOnbt58+arr766vb390EMPqX9Bo37c1oWau1V/VdUBRXArYEpNeku1YCIiihFTM0cHAGB+a/gbEXH8+HGXiEjBV1XSD9RYTgsFVy9cuf6qirfqglDLrlDfSgMKrj6aMxEp+BtBXeO06gEA2AcSESOW60LN3aq/quKtuiDUclFo1U+x+G9ERCtgZkMAAOa3bonI6dOnH3nkkXPnzr322mvur2Y2Nzen/7cz6SdrLE/5uE1bpV9V6a06WMqpWJkWWvVTLJ6IuLtqzMzRAQCY3xr+RuTRRx+VLOS/revXr588edLV1+qP21ie/nGrNlHVkbGmblgECLVcNywsmIiog0YzRwcAYH5rmIhsb29fuXJFUhDx/PPPb25uunpV6+N5+sdtenf+SCGXsaa4JVxNWq+W64aFRRKRun7OhgAA7MMaJiJia2vrmtX6S5mo9SkrhYKrd9LLopxyNe6WE+td2RUiV1PXO2nDgquP5kxECrHeFaKipg4AAGDf1jMROXv27A8s938icvPmTVd/SKiJCAAAS2g9ExFx3PIXhwyJCABgVaxtIvL444+7f6b69ttvu5rDg0QEALAq1jYROcxIRAAAq2J9EhEhi4HDbgAAVoX7EF/QID+CdyQz8CWwGwCA1XFQn1kkIkuE3QAArAoSkTXEbgAAVgWJyBpiNwAAq2IlE5FhKIfjozfFbgAAVsXqJSKSheiJyKWJu7WxdUNqbmxtpJeFeDeYfMfVjdH+cjf2a21MLvn7S2w81BuXJm6hG5PJhllbvXCznmSJcX16pLkx9nlpayKdVpHqlnsueHLJDmm7VAeydbafeFvOYgyNQ9iqccBwGQM9P3lXn47eokdW+6lNSd9PscDotqJapjp6MriZ5yVbr1aK2N4wT3tjRcKs3d7ZmGxNJnJrDPT8klx9vsxsfGNjqzWl7AEzlX6x4b6/9Fe5ekqLv66rPk1f9UC+/exX3Mbm9TB0PFkhU/LVUjuW1IHUrWtOqWQD6w0Z24/31IHUSpGNf0DP0uJcz7E7e2UnE4cMz1IeGVZprkOojQzNLFtTTd72P57hWGpKn3n7pqo2rwYKXVbNY6SN8D3kZ5AoX3HCN3Gk2kSpy1TPXVR92jDbJHYUg1cxERGyBF8K/DJk7cley3rDQSm23AeJL/vz2tgITdJy0tGlqX0uiXioMlm/RvNkxuemWrhh9s4XAy3yxkQKoVJ2QyLC9vge8kOomCdcws23GKcNlB5AOk97Gu616qSBSVlfpja6Tp+nsp/mqpiS4Xcjs8jojWWKevQ4txtbE9ONpVY64/4EVZ/puY9r38Mmmx7jIH5ztCndsI1Nrf20srXttdeUKbWaJ1Oa8roOUdIye7zVtUvBV4YnRG2ebYYdwrWKnacRjYF8pXrEtpyOkJNhGvtphl2qZ2lx5jFM55gtOBsoj0xOwJDLcQV5wxBpTs9/s5GxUPZVUt5UTUFrru3SrOa2PEaUtFecuRgHda+O1jKdMdpQ+zSlGJXHr1kiYo8kbI7Zt9beC3de2W7KhfwYY/dH7oZidiTl9i+lJBGRHzzL2SoLN0yFLwb6FjWXr/SgkM20YZIVx03VpmSuYk1yAO5Y5aBDrARpp6YvUxtd15qn8nqupmSYkX0xWmT0xjLV0U3jcXf8NNRKJ9lep+qz3EfP9VneVJdpupSLbGhlSnlfYyN97QplSq3mvncrH1djInzRUgZylfo7ftY8HVnETsbekojmQP5y7FmNVEiEvp9m1OV6lhYn42dpvxkhjpLNNo9MTsAoJlYtU5gQX7TGJkVfhaLrQG2u7NKM5pIrThu8aD4Olc65Gs8XE9kK9T5NbbyTxa9dIpLsnqw4W2lJHjqr2GHbgc0A1SOZ1etSGA81+f1YXKaycMMs3heDOjLZiZrSw5y0KdnewnjjsKHG3HbBtmRq81NrLHMx2n4qUzLs/A9QY5nq6PFzwvx45OP0Sid25lV9jsPl9rDJ0kWI9TXalMqB3Axaa9coU5q1dUJCpvRpmV580dLXrj4hRt7cTkm+uuZxHvZn8iBMSB1IPc15j8OOPmVD3OycxkBKpRM786o+k13PzDl5ae7iohkNzKamA9qDCJPI55JHNs7I0RZhe06op1lrbcicD0O7ucTIzRnbUzbXzknqkphymU7aTaNP2zDcK0LWLRGJ64z72eJOKAtzF/bJkz7G3ZSSO/3ZD/1SUA5V3h/Ds6ws3LBPSa6OLJ+wjNLDnLQp+d5cZXoUvhSjXaE6tcYyD0iyn8qUDHPhiweisUx19PF5TT4N1Uon9uHUfabDhU7M9R422XeRbUs9pXFoJ6zafS1fmBplSq3m42LmeV1nMxcz1p48IVbe3N6UqslEehn7GEvJItWBGkesRCpcxOo+SwsxI/hvVXqRaZyRozX0PUdjm3EXFK2bavN6l9rN7fFumdlP2dGyeexabvjjKV4d5TKdtJtGn76huypC1i4R8evUNyvlTjTj98sbd7N11MtKPdS4OGXhRrJjIXTmFuWSHvZIm1LozW5+OIDkxSFcQD6leFaNZR6YMKw2JSPZjXyG+6QvUx/dr93+PBSfXLXSyZ9vrc989Hi1h00OM04pU1KXqa9dp0yp1Xx6RyXTiy9aM9eeD5s3t0Ob/5mCfNL5W2OTZG7qQMrWzTElT98Q+e7P3FjWZynv0Zir2SgchHQ0vrFoYoApjGfkaA1Dz8G4UNuVLWnyDYnU5souzWo+ffCi+RjcbGYa+GIii9b7DA3tddH7GiYiZr3Vy6OWnqjfqT0fyZLyuyHTlvX4Bd2QzN4VlYUbyeMV9kGLdJ36OglMNibpYY+0gcbepOTPM5mu8NP037wY0limzvz0kP38qnFLD2v3+6lOKRRdqZhhba7R1WU2Rk/Wbn+ssyW10sl60fs0643/+EEbqGhX0W5rU2r8Y9U4zKyBlCm1ms+YccH04ouWMpB8kzpfOb7irKK5XZupkTbj4Y8zTeambrK2dXqkQt2QvEEMmTVQj2dpIWbAWJr6QWHu22CZTvkC1SY49uzEpc1aj9yOax/fVNXm2i7N0TyfWG72P1bNmY59MZFHt/6xanPn1zERMbugb2EkmyydpL70jVBlm8rLy0r+Wzsxo9dlkSQiksi7qfuHsl64WVOyREei9UjXR/XX4GnwXjdJHSjU2WmbiMl3YpwdIEz5llvc96xy4ytfUfpsMy+b2fOWCRT7qU9pY/Mbyn66PjRzjL6XtX/pd13Bd2mbTh4IM0orpRj6teRtorEiu1h59/CX7txjbOQ614SeRAiKVcWUxoHkraq9yeqO1lM6kNd12m0y24ypl9rqFVcEh6HM6C7CNMr2U0L83KReHShOPZnMJC40CmPlYo/2duhqhZ6lhYRx3DTkaso4ZsrFGYlymVY6/2Rb3JVfeuxBU76pqs3TUZww+1ZzH2CupgxfvOKMcFwijCHqZYpsUjFHqfoMYXYepqOk3zVNRA47dmNvzKti6rvE/6u+owNAbyuZiNT46E2xG3sj2X+WnX+4+o4OAL2teyKS/i4psd7v/CQiwJ4dyvcKYBmseyJyKLEbAIBVQSKyhtgNAMCqIBFZQ+wGAGBVHFgiIh0BAADslU8lFtP5NyIAAOAwIxEBAADdkIgAAIBuSEQAAEA3JCIAAKAbEhEAANANiQgAAOiGRAQAAHRDIgIAALohEQEAAN2QiAAAgG5IRAAAQDckIgAAoBsSEQAA0A2JCAAA6IZEBAAAdEMiAgAAuiERAQAA3ZCIAACAbkhEAABANyQiAACgGxIRAADQDYkIAADohkQEAAB0QyICAAC6IREBAADdkIgAAIBuSEQAAEA3JCIAAKAbEhEAANANiQgAAOiGRAQAAHRDIgIAALohEQEAAN2QiAAAgG5IRAAAQDckIgAAoBsSEQAA0A2JCAAA6IZEBAAAdEMiAgAAuiERAQAA3ZCIAACAbkhEAABANyQiAACgGxIRAADQDYkIAADohkQEAAB0QyICAAC6IREBAADdkIgAAIBuSEQAAEA3JCIAAKAbEhEAANANiQgAAOiGRAQAAHRDIgIAADrZ3f0FrzHkjeFcU7IAAAAASUVORK5CYII=)"
      ]
    },
    {
      "cell_type": "code",
      "metadata": {
        "id": "kM-tGtdBTeT6"
      },
      "source": [
        "# 별칭에 더블이\n",
        "CREATE OR REPLACE VIEW V_EMP_DEPT02(\"M_NAME\", \"M_DNAME\", \"M_JOB\")\n",
        "AS SELECT ENAME, DNAME, JOB\n",
        "FROM EMP\n",
        "LEFT JOIN DEPT USING(DEPTNO);\n",
        "\n",
        "SELECT M_NAME, M_JOB\n",
        "FROM V_EMP_DEPT02;\n",
        "WHERE M_JOB='CLERK';\n",
        "\n",
        "SELECT M_NAME, M_JOB\n",
        "FROM V_EMP_DEPT02\n",
        "WHERE \"M_JOB\"='CLERK';\n",
        "\n",
        "CREATE VIEW V_EMP_DEPT02(\"M_NAME\", \"M_DNAME\", \"M_JOB\")\n",
        "AS SELECT ENAME, DNAME, JOB\n",
        "FROM EMP\n",
        "LEFT JOIN DEPT USING(DEPTNO);\n",
        "\n",
        "DROP VIEW V_EMP_DEPT02;"
      ],
      "execution_count": null,
      "outputs": []
    },
    {
      "cell_type": "code",
      "metadata": {
        "id": "321Fksn3Td-I"
      },
      "source": [
        "# 부서별 평균 월급보다 더 많은 월급을 받는 사원과 월급을 출력\n",
        "CREATE OR REPLACE VIEW V_DEPT_SALAVG(\"Did\", \"Davg\")\n",
        "AS SELECT NVL(DEPTNO, 10), ROUND(AVG(SAL), -1)\n",
        "FROM EMP\n",
        "GROUP BY DEPTNO;\n",
        "\n",
        "SELECT ENAME, SAL\n",
        "FROM EMP\n",
        "JOIN V_DEPT_SALAVG ON (NVL(DEPTNO, 10) = \"Did\")\n",
        "WHERE SAL > \"Davg\"\n",
        "ORDER BY 2 DESC;\n",
        "\n",
        "# 인라인뷰로 구현\n",
        "SELECT ENAME, SAL\n",
        "FROM (SELECT NVL(DEPTNO, 10) AS \"Did\", ROUND(AVG(SAL), -1) AS \"Davg\"\n",
        "FROM EMP\n",
        "GROUP BY DEPTNO    \n",
        ") V_DEPT_SALAVG\n",
        "JOIN EMP \n",
        "ON (NVL(DEPTNO, 10) = V_DEPT_SALAVG.\"Did\")\n",
        "WHERE SAL > V_DEPT_SALAVG.\"Davg\"\n",
        "ORDER BY 2 DESC;"
      ],
      "execution_count": null,
      "outputs": []
    },
    {
      "cell_type": "markdown",
      "metadata": {
        "id": "TbONDtRm5KXy"
      },
      "source": [
        "SQL Language Reference : https://docs.oracle.com/cd/E11882_01/server.112/e41084/toc.htm\n",
        "\n",
        "PL/SQL : https://docs.oracle.com/en/database/oracle/oracle-database/12.2/lnpls/overview.html#GUID-8514540B-FE23-41E1-9F72-AB8D726DEE8F"
      ]
    },
    {
      "cell_type": "markdown",
      "metadata": {
        "id": "ko43WMDa-pNj"
      },
      "source": [
        "## PL/SQL : 프로시저 생성\n",
        "- Procedural Language, Oracle's Procedural Language Extension to SQL\n",
        "- 오라클 DB환경에서 실행되는 절차적인 데이터베이스 프로그래밍 언어\n",
        "- 객체지향이 아님! 순서대로 실행!\n",
        "- 프로그램단위 : BLOCK\n",
        "- 변수정의, 조건처리, 반복문, Procedure Language\n",
        "- 장점 : 모듈화(.sql)\n",
        "\n",
        "<< label >> (optional)\n",
        "DECLARE    -- Declarative part (optional)\n",
        "  -- Declarations of local types, variables, & subprograms\n",
        "\n",
        "BEGIN      -- Executable part (required)\n",
        "  -- Statements (which can use items declared in declarative part)\n",
        "\n",
        "[EXCEPTION -- Exception-handling part (optional)\n",
        "  -- Exception handlers for exceptions (errors) raised in executable part]\n",
        "END;"
      ]
    },
    {
      "cell_type": "code",
      "metadata": {
        "id": "l7RGpS5aP9lR"
      },
      "source": [
        "CREATE OR REPLACE PROCEDURE EX_PRO AS \n",
        "BEGIN\n",
        "DBMS_OUTPUT.PUT_LINE('1. HELLO WORLD.');\n",
        "END EX_PRO;"
      ],
      "execution_count": null,
      "outputs": []
    },
    {
      "cell_type": "code",
      "metadata": {
        "id": "WlKDO3FI3fhE"
      },
      "source": [
        "SET SERVEROUTPUT ON  # 화면출력\n",
        "\n",
        "BEGIN\n",
        "DBMS_OUTPUT.DISABLE;\n",
        "DBMS_OUTPUT.PUT_LINE('111111111111');\n",
        "DBMS_OUTPUT.ENABLE;\n",
        "DBMS_OUTPUT.PUT_LINE('22222222');\n",
        "END;\n",
        "/  # 실행"
      ],
      "execution_count": null,
      "outputs": []
    },
    {
      "cell_type": "code",
      "metadata": {
        "id": "p2SrSUWJ3fds"
      },
      "source": [
        "CREATE OR REPLACE PROCEDURE EX_PRO01 AS \n",
        "i number := 20; --지역변수\n",
        "BEGIN\n",
        "dbms_output.put_line('현재의 값은 ?' || ' ' || i);\n",
        "END EX_PRO01;"
      ],
      "execution_count": null,
      "outputs": []
    },
    {
      "cell_type": "code",
      "metadata": {
        "id": "IG8BGLkV3fbN"
      },
      "source": [
        "create or replace PROCEDURE EX_PRO02 AS \n",
        "i number := 100; --지역변수\n",
        "j number := 200;\n",
        "BEGIN\n",
        "dbms_output.put_line(i || '+' || j || '=' || (i+j));\n",
        "END EX_PRO02;"
      ],
      "execution_count": null,
      "outputs": []
    },
    {
      "cell_type": "code",
      "metadata": {
        "id": "nM6CBSi83fX7"
      },
      "source": [
        "CREATE OR REPLACE PROCEDURE EX_PRO3 AS \n",
        "i int := 10;\n",
        "BEGIN\n",
        "  if i != 20 then\n",
        "  dbms_output.put_line('i=' || i);\n",
        "  end if;\n",
        "END EX_PRO3;"
      ],
      "execution_count": null,
      "outputs": []
    },
    {
      "cell_type": "code",
      "metadata": {
        "id": "EuKX8jtgSWFo"
      },
      "source": [
        "CREATE OR REPLACE PROCEDURE EX_PRO3 AS \n",
        "score01 int := 85;  -- 변수\n",
        "grade varchar2(3);  -- 데이터타입 선언\n",
        "BEGIN\n",
        "  if score01 >= 90 then GRADE := 'A';\n",
        "  ELSIF score01 >= 80 then GRADE := 'B';\n",
        "  ELSIF score01 >= 70 then GRADE := 'C';\n",
        "  ELSIF score01 >= 60 then GRADE := 'D';\n",
        "  ELSE GRADE := 'F';\n",
        "  END IF;\n",
        "  DBMS_OUTPUT.PUT_LINE('SCORE : ' || SCORE01 || ' GRADE: ' || GRADE);\n",
        "END EX_PRO3;"
      ],
      "execution_count": null,
      "outputs": []
    },
    {
      "cell_type": "code",
      "metadata": {
        "id": "LEAyA9CCQBJ-"
      },
      "source": [
        ""
      ],
      "execution_count": null,
      "outputs": []
    },
    {
      "cell_type": "code",
      "metadata": {
        "id": "KuiHMh_0QBGs"
      },
      "source": [
        "# FOR문\n",
        "CREATE TABLE TEST1(\n",
        "    BUNHO NUMBER(3),\n",
        "    IRUM VARCHAR2(10));\n",
        "\n",
        "SET SERVEROUTPUT ON\n",
        "BEGIN\n",
        "FOR i IN 1..10 LOOP\n",
        "INSERT INTO TEST1 VALUES(i, SYSDATE);\n",
        "END LOOP;\n",
        "END;\n",
        "/\n",
        "\n",
        "SELECT * FROM TEST1"
      ],
      "execution_count": null,
      "outputs": []
    },
    {
      "cell_type": "markdown",
      "metadata": {
        "id": "B8viZ9Jw8ATn"
      },
      "source": [
        "![DDD.png](data:image/png;base64,iVBORw0KGgoAAAANSUhEUgAAARIAAAESCAIAAAC+Vc10AAAAAXNSR0IArs4c6QAAAARnQU1BAACxjwv8YQUAAAAJcEhZcwAADsMAAA7DAcdvqGQAABKMSURBVHhe7dyxklxFzwbguQCu6LsACAgoIkICnEDh9eakhOTcAxdAQURAQMCPAWPfz9/T0ghZLXW3Zk4vO+e8TzB1+m21dj20aj22i9Pr169fvnz5AQBMw9gApGFsANIwNgBpGBuANIwNQBrGBiANYwOQhrEBSHtvbP7vfRQSjlSon29EnYUbEsqpwKACg/fULq9H9bfjju9rcyoWnL7/ffLTRZto9bTVydstNyS0RczyUP4dm/ZdkERvuaEW5ZG2npJs/87X1VttWefgLSa/z+h7k+e2T5u4TFl0atjfLSC8Pp7x2Mznomx1do22kpKow+25SaKDN8p+P51cb5llhymLTrX51QdJlO9Jb2xIm1MyfHcm3775r0tuz00SHXTNF2e/n06ut8yyw5RFp4bdsgeHDXfAfrahB60NKZl5d0rNZBk/KdHBrXIxLCBUpl/7opo2j3rqvH0dMmWdU/2G0e7kt7FL741NUd4L83a07w4lbR6ZqSw1powSTXJ6MKhGk5weIsMCUbue8bqLSxXJ6YFEeUFJ9DpkysrS4I2qTUQ2PwI7NkS/I+27Q8nMu1ZqZsqELo4ObpWLYYGgysn6zvejcerVUyJ5+9BnymZOuTXRwclvY5f8sSnkTWnfHUqG79p1b2vn65KtcjEsILps5sjk9yPLtp6StqCtdJmy604V0cHJhrsUjk1B70v0PnbetbLV2R2is1GH23OTRAdvlP1+hnn70GfKJk8Vkwez+Z78Ozbtr5YSneukrSdRHmnrr+s/n5skOnij7PeTzYdMWXRq2H/+IInyPRmPjX4o3PAW0deN+mfzQm+1ZZ2Dt5j/PiXRW25I2sRlyqJTw/7zB0mU78l7v0krv2CNQsJRDeXVqIXX4PMXbkjcvF9PeO19k254u6htm+ukPBNej+o7TNm5acPdolC0CXHzqHhnep9tAMCFsQFIw9gApGFsANIwNgBpGBuANIwNQBrGBiANYwOQhrEBSMPYAKRhbADSMDYAaRgbgDSMDUAaxgYgDWMDkIaxAUjD2ACkYWwA0v77sTn/Tx8UTr3/mQMl2ZyUZ8LrCaaYjgtO468b5bADz2Js+KmSZXTtyqvZkpyWQhK91ZZFTGW0bBtSEuWwA89ubIr+tSuvZktyWop+PmTKsv3Lq94yS7hrdzk28kpm6rU2cZmybP/yqrfMEu7aXf4mTV5Jm5B+PmTKsv2jV9iBO/4jAfNQXluyq7WJy5RFy6h/9Ao7cK8/bdqHYb1oE5cpK0uN07i/5O0D3Lt7/WxDdDJTT9rEZcqiZdS/LWgr4U5hbEKmLNtf8vYB7t19j01Rlm5e9PMhU5btH+WwA3f82YaUpZsXkuittixiKqP+2Rx24FmMjcZpxdGFhPQgKIlyUp4JryeY4vasJOe+ioT0INoE7tR/PzYAdwdjA5CGsQFIw9gApGFsANIwNgBpGBuANIwNQBrGBiDt37Gpf8Ft7TiPcMX7kJMd5JvATxuANIwNQBrGBiANYwOQhrEBSMPYAKRhbADSMDYAaRgbgDSMDUDagcZm/t9W0D/EIBwpbijMbu1xxuuKo4qjhtmi4oLXihvCUocYG7pwBa+7TJle1h5nvPboXffZHI+6DfsU5ZnwGp4KftpYpqw91emjt6KDJne7zfQRbgdYCmMzMLy1mt6KDnaOi5k+YqYhbAtjMzC8tWJ4mymJjovJPmLYEDaHselxj0R9hreZkvKq0ZZmwrZmWACrYWxCUb2bt2GUmLy/LIZJWwCrYWx8nWJ3qw2jxOT9ZTFM2gJYDWPj6FcO7zGJykyul6k+wj0FS2FsrGHZ8B6TqMzkepnqI9xTsBTGxhqWzd9avSXP0fFsH9E5CItgbKxSZvDGhUnaAq02OON1xVHF0VV9iBvCUgcaG4CtYGwA0jA2AGkYG4C0Q4wNfZgmHHVxacWR4obC7NYeZ7yuOKo4apgtKi54rbghLLX/sTG3anjJOvXlmfDao3fdZ3M86jbsU5Rnwmt4Khgba1jf6aC3ooMmd7vN9BFuB1jqcJ9tspdseGs1vRUd7BwXM33ETEPYFsZmYHhrxfA2UxIdF5N9xLAhbO5YY5O9YW591GR4mykprxptaSZsa4YFsNqBxiZ7vaJ6N2/DKDF5f1kMk7YAVjvK2GTvVqfe3WrDKDF5f1kMk7YAVjvE2GQvVr9+eI9JVGZyvUz1Ee4pWGr/Y5O9VcP64T0mUZnJ9TLVR7inYCmMjTWsn7+1ekueo+PZPqJzEBY5xNgYvBHgIoU3LkzSFmi1wRmvK44qjq7qQ9wQljrKHwkAbAhjA5CGsQFIw9gApB1ibOjDNOGoi0srjhQ3FGa39jjjdcVRxVHDbFFxwWvFDWGp/Y+NuVXDS9apL8+E1x696z6b41G3YZ+iPBNew1PB2FjD+k4HvRUdNLnbbaaPcDvAUof7bJO9ZMNbq+mt6GDnuJjpI2YawrYwNgPDWyuGt5mS6LiY7COGDWFz+COBHrc+amLytoyS8qrRlmbCtmZYAKvhp00oqnTzNowSk/eXxTBpC2A1jI2vU+ZutWGUmLy/LIZJWwCrYWwc/ZrhPSZRmcn1MtVHuKdgqf2PTfaSXVHgHonKTK6XqT7CPQVLYWysbEGnXm/Jc3Q820d0DsIih/hNWrlYgqMY1ym8cWGStkCrDc54XXFUcXRVH+KGsNThPtsA3A5jA5CGsQFIw9gApB1rbKJP1QaVEY4UNxRmt/Y443XFUcVRw2xRccFrxQ1hKYyNZQr0sp4+47VH77rP5njUbdinKM+E1/BUDjQ2dL2Gl8wUtPWdDnorOmhyt9tMH+F2gKUwNgPDW6vprehg57iY6SNmGsK2jjI2creyl2x4a4XJo4PRcTHZRwwbwuYwNj1ucdTB5G0ZJeVVoy3NhG3NsABWO8TY6Is1f8miSjdvwygxeX9ZDJO2AFbD2Pg6Ze5WG0aJyfvLYpi0BbDa/sem3KoW7wX6Be2uWx+VmVwvU32EewqWOspnGzG8ZFcUuEeiMpPrZaqPcE/BUhgbK1vQqddb8hwdz/YRnYOwCMbGKgUGb1yYpC3QaoMzXlccVRxd1Ye4ISx1uLEBuB3GBiANYwOQhrEBSNv/2NAnaY03YlxXcaS4oTC7tccZryuOKo4aZouKC14rbghLHWJs+GmOqdfL8kx47dG77rM5HnUb9inKM+E1PBWMjWXq2+OdhnorOmhyt9tMH+F2gKUwNgPDW6vprehg57iY6SNmGsK2DvfZhtNp7ZGoicmjg9FxMdlHDBvC5g730yZ1ydziqMPwC1FSXjXa0kzY1gwLYLX9j40xf8miSjdvwygxeX9ZDJO2AFbD2Pg6Ze5WG0aJyfvLYpi0BbAaxsbRrxneYxKVmVwvU32EewqWwmcb64oC90hUZnK9TPUR7ilYCmNjZQs69XpLnqPj2T6icxAWOcRv0srFEhzFuE7hjQuTtAVabXDG64qjiqOr+hA3hKUO99kG4HYYG4A0jA1AGsYGIA1/JODg0oojxQ2F2a09znhdcVRx1DBbVFzwWnFDWGr/Y2Nu1fCSderLM+G1R++6z+Z41G3YpyjPhNfwVDA21rC+00FvRQdN7nab6SPcDrDU4cYma3hrNb0VHewcFzN9xExD2BbGZmB4a8XwNlMSHReTfcSwIWzuEGOjcTrHrY+amLwto6S8arSlmbCtGRbAaqd37949Pj7yao+uvmRRpZu3YZSYvL8shklbAKthbHydMnerDaPE5P1lMUzaAlgNY+Po17S7bn1UZnK9TPUR7ilY6vT27VuMjXZFgXskKjO5Xqb6CPcULHX6559/Xr16xas9yl6ybEGnXm/Jc3Q820d0DsIi+x+bolwswVGM6xTeuDBJW6DVBme8rjiqOLqqD3FDWOr05s2b3Y8NwLZOf//998PDA68AYMLpzz//xNgApJz++OOPff8rAYDNnX777bevvvqKV3tEn6Q13ohxXcWR4obC7NYeZ7yuOKo4apgtKi54rbghLLX/f5NmDC+ZKdDL8kx47dG77rM5HnUb9inKM+E1PJVjjc3MDTM17ZFOE70VHTS5222mj3A7wFIYm4HhrdX0VnSwc1zM9BEzDWFbBxqb667X8NaK4W2mJDouJvuIYUPYHMamxz0S9RneZkrKq0ZbmgnbmmEBrIaxCUX1bt6GUWLy/rIYJm0BrHaUscnerU69u9WGUWLy/rIYJm0BrIaxcfSLh/eYRGUm18tUH+GegqUwNtawcniPSVRmcr1M9RHuKVjq9NNPP7148YJX+zV/t4aV87dWb8lzdDzbR3QOwiKnx8fHjz76iFf7NX+3SqXBGxcmaQu02uCM1xVHFUdX9SFuCEudPv300//973+8AoAJp4eHhw8//JBXADDhQH9vA7AVjA1A2iHGhj5ME466uLTiSHFDYXZrjzNeVxxVHDXMFhUXvFbcEJba/9iYWzW8ZJ368kx47dG77rM5HnUb9inKM+E1PJXTL7/8su+/tzG3anjJhvWdDnorOmhyt9tMH+F2gKVO33333b7/3ubGSza8tZreig52jouZPmKmIWwLv0kbGN5aMfxClETHxWQfMWwIm8MfCfS49VETk7dllJRXjbY0E7Y1wwJYDT9tQlGlm7dhlJi8vyyGSVsAq2FsfJ0yd6sNo8Tk/WUxTNoCWO30zTfffPzxx7zaoysuWb+m3XXrozKT62Wqj3BPwVL4aWNdUeAeicpMrpepPsI9BUthbKxsQadeb8lzdDzbR3QOwiL4kzSL6xTeuDBJW6DVBme8rjiqOLqqD3FDWOoQYwOwLYwNQBrGBiANYwOQhj8ScHBpxZHihsLs1h5nvK44qjhqmC0qLnituCEstf+xMbdqeMk69eWZ8Nqjd91nczzqNuxTlGfCa3gqGBtrWN/poLeigyZ3u830EW4HWApjMzC8tZreig52jouZPmKmIWwLYzMwvLVi+IUoiY6LyT5i2BA2d/rxxx+/+OILXu3RLZfMLY46DL8QJeVVoy3NhG3NsABWO7179+7x8ZFXO1UulsbpSFTp5m0YJSbvL4th0hbAaocYG23yknXK3K02jBKT95fFMGkLYDWMjaNfM7zHJCozuV6m+gj3FCy1/7HJXrIrCtwjUZnJ9TLVR7inYCmMjZUt6NTrLXmOjmf7iM5BWORwfyTAUYzrFN64MElboNUGZ7yuOKo4uqoPcUNY6nCfbQBuh7EBSMPYAKRhbADSdjg20edmwusuLq04UtxQmN3a44zXFUcVRw2zRcUFrxU3hKV2NTZ0sQpeX+ik3TVMgTlLeO3Ru+6zOR51G/YpyjPhNTyV/f+0aW9V/57dclxvRQdN7nab6SPcDrAUxmYgdVxvRQc7x8VMHzHTELaFsRmYPz75daPjYrKPGDaEzWFsetzK6Pjk1y2vGm1pJmxrhgWwGsYmFJW5+cxXocTk/WUxTNoCWA1j4+vUuFszX4USk/eXxTBpC2A1jI2jXzDZMCozuV6m+gj3FCyFsbGGt3CyYVRmcr1M9RHuKVhq/2NT6GR4ybIFnXr360bHs31E5yAscoixKUpIeB3jOoU3LkzSFmi1wRmvK44qjq7qQ9wQltrh2ACshrEBSMPYAKRhbADSMDYAaRgbgDSMDUAaxgYgDWMDkIaxAUg7ffvtt5988gmvAGDC6fvvv//ss894BQATTj/88MPnn3/OKwCYcPr5559fvHjBKwCYcPr111+//PJLXgHAhNPvv//+9ddf8woAJpz++uuvh4cHXgHAhNObN29evXrFKwCYcHr79i3+uhMgBWMDkOb845ro//NAeL0jm/yibmmyy3d1306vX79++fIlLc5jUdFS6KTdvXeb/IpuabK/t3T33hsbYv4rtv9Rd/afeZNfzi1NdvZ+HgHGZptfzi1NdvZ+HsGSsaGC8kooJBypUD8TSWoho6SPSyuOLjj1+kQh4fUFp1WbEMoJR3EfeqYQ7sWqsXFrdCjP0YMuLsyy1amPnkk/6ZztbJGZPuVZL+EuLPxpY0R9JDcPbX1fVN/mJukvC0raXItOaVGffmd4hp7v2NCDPM9w6yk0eK9qly3KqcDV7tZzFuVUINoEnrnnMjbtqyhLk/SZ+uFZUxDV9/u0u/N9+p3hGfrvx4Ye6FkeWlEekfrhQVNw3TfQ7s736XeGZ2g8NoVOZv4bRzVRH/fZNDHLVqe+36rtHBV0DrZNipk+5VkvC7OEZ2hqbIr6H/eM112dMmpS8LrSS/MsOOri0oqjC04rji7apKBKwlHFUcXRBadz9RzVkF6FWcIz5IwNAPRhbADSMDYAaRgbgDSMDUAaxgYgDWMDkIaxAUjD2ACkYWwA0jA2AGkYG4A0jA1A0gcf/D+vWT7SKNMJWQAAAABJRU5ErkJggg==)"
      ]
    },
    {
      "cell_type": "code",
      "metadata": {
        "id": "8b6figLz66yn"
      },
      "source": [
        "DECLARE\n",
        "i int := 0;\n",
        "BEGIN\n",
        "for i in 1..50 loop\n",
        "dbms_output.put_line('현재의 i값은?' || i || '이다');\n",
        "end loop;\n",
        "end;\n",
        "/"
      ],
      "execution_count": null,
      "outputs": []
    },
    {
      "cell_type": "code",
      "metadata": {
        "id": "xbcpuU8y66vh"
      },
      "source": [
        "# 홀수로만 구구단\n",
        "DECLARE\n",
        "total number := 0;\n",
        "BEGIN\n",
        "for i in 2..9 loop\n",
        "  if mod(i, 2) <> 0 then\n",
        "    dbms_output.put_line(i || '는 홀수');\n",
        "    dbms_output.put_line('===============');\n",
        "    for j in 2..9 loop\n",
        "      total := i * j;\n",
        "      dbms_output.put_line(i || '*' || j || '=' || total);\n",
        "    end loop;\n",
        "  end if;\n",
        "end loop;\n",
        "END;\n",
        "/"
      ],
      "execution_count": null,
      "outputs": []
    },
    {
      "cell_type": "code",
      "metadata": {
        "id": "vXLdQTWVAy8I"
      },
      "source": [
        "# loop  exit;  end loop;\n",
        "DECLARE\n",
        "  i int := 1;\n",
        "BEGIN\n",
        "  loop\n",
        "  dbms_output.put_line('현재 i값은 ' || i ||'이다.');\n",
        "  i := i + 1;\n",
        "  if i > 50 then\n",
        "    exit;\n",
        "    end if;\n",
        "  end loop;\n",
        "END;\n",
        "/"
      ],
      "execution_count": null,
      "outputs": []
    },
    {
      "cell_type": "code",
      "metadata": {
        "id": "igOQwl0vSpK0"
      },
      "source": [
        ""
      ],
      "execution_count": null,
      "outputs": []
    },
    {
      "cell_type": "code",
      "metadata": {
        "id": "RALXFOS1C2oJ"
      },
      "source": [
        "SELECT AVG(SAL)\n",
        "FROM EMP\n",
        "WHERE DEPTNO = 10\n",
        "GROUP BY DEPTNO;\n",
        "\n",
        "\n",
        "DECLARE\n",
        "  avg01 number(7) := 0;\n",
        "  deptno01 number := 10;\n",
        "BEGIN\n",
        "  SELECT AVG(SAL) into avg01\n",
        "  FROM EMP\n",
        "  WHERE DEPTNO = deptno01\n",
        "  GROUP BY DEPTNO;\n",
        "  dbms_output.put_line(deptno01 || '번 부서의 평균 급여는 ' || avg01);\n",
        "END;\n",
        "/"
      ],
      "execution_count": null,
      "outputs": []
    },
    {
      "cell_type": "code",
      "metadata": {
        "id": "HNTjtbuOFxR3"
      },
      "source": [
        "DECLARE\n",
        "  avg01 number(7) := 0;\n",
        "  cnt01 number := 0;\n",
        "  deptno01 number := 20;\n",
        "BEGIN\n",
        "  SELECT COUNT(DEPTNO), AVG(SAL) into cnt01, avg01\n",
        "  FROM EMP\n",
        "  WHERE DEPTNO = deptno01\n",
        "  GROUP BY DEPTNO;\n",
        "  dbms_output.put_line(deptno01 || '번 부서에 ' || cnt01 || '명에 대한  평균 급여는 ' || avg01);\n",
        "END;\n",
        "/"
      ],
      "execution_count": null,
      "outputs": []
    },
    {
      "cell_type": "code",
      "metadata": {
        "id": "ZooUEXPEAy5N"
      },
      "source": [
        ""
      ],
      "execution_count": null,
      "outputs": []
    },
    {
      "cell_type": "code",
      "metadata": {
        "id": "QnWeWobnAy2g"
      },
      "source": [
        "# 입력\n",
        "ACCEPT A PROMPT 'INPUT: '\n",
        "ACCEPT A PROMPT '여기에 입력하세요>> '\n",
        "ACCEPT INPUT_VAL PROMPT '사번 입력: '  # 7902\n",
        "\n",
        "# %type 같은 타입으로~\n",
        "DECLARE\n",
        "    my_name emp.ename%type;   #varchar2(10)\n",
        "BEGIN\n",
        "   SELECT ENAME into my_name \n",
        "   FROM EMP\n",
        "   WHERE EMPNO = &INPUT_VAL;\n",
        "   dbms_output.put_line(my_name);\n",
        "END;\n",
        "/"
      ],
      "execution_count": null,
      "outputs": []
    },
    {
      "cell_type": "code",
      "metadata": {
        "id": "yww7FeUtWfZH"
      },
      "source": [
        "DECLARE\n",
        "    sal01 emp.sal%type;   \n",
        "    cnt01 number;\n",
        "    grade01 varchar2(2);\n",
        "    deptno01 number := 30;\n",
        "BEGIN\n",
        "  SELECT COUNT(DEPTNO), AVG(SAL) into cnt01, sal01\n",
        "  FROM EMP\n",
        "  WHERE DEPTNO = deptno01\n",
        "  GROUP BY DEPTNO;\n",
        "\n",
        "  if sal01 >= 2100 then grade01 := 'A';\n",
        "  ELSIF sal01 >= 2000 then grade01 := 'B';\n",
        "  ELSIF sal01 >= 1500 then grade01 := 'C';\n",
        "  ELSIF sal01 >= 1000 then grade01 := 'D';\n",
        "  ELSE grade01 := 'F';\n",
        "  END IF;\n",
        "  DBMS_OUTPUT.PUT_LINE(deptno01 || '번 부서의 인원수는 ' || cnt01 || '이고 평균급여는 ' || sal01 || '이며 ' || grade01 || '등급이다.');\n",
        "END;\n",
        "/"
      ],
      "execution_count": null,
      "outputs": []
    },
    {
      "cell_type": "code",
      "metadata": {
        "id": "uBDVPri6bVfD"
      },
      "source": [
        ""
      ],
      "execution_count": null,
      "outputs": []
    },
    {
      "cell_type": "code",
      "metadata": {
        "id": "U8TPoIGabVVe"
      },
      "source": [
        ""
      ],
      "execution_count": null,
      "outputs": []
    },
    {
      "cell_type": "code",
      "metadata": {
        "id": "DsxsH89LWfWd"
      },
      "source": [
        ""
      ],
      "execution_count": null,
      "outputs": []
    },
    {
      "cell_type": "code",
      "metadata": {
        "id": "iGpIMY_TWfTX"
      },
      "source": [
        ""
      ],
      "execution_count": null,
      "outputs": []
    },
    {
      "cell_type": "code",
      "metadata": {
        "id": "jJXvcCpiVsdK"
      },
      "source": [
        ""
      ],
      "execution_count": null,
      "outputs": []
    },
    {
      "cell_type": "code",
      "metadata": {
        "id": "_Fcrfc3r66qC"
      },
      "source": [
        ""
      ],
      "execution_count": null,
      "outputs": []
    }
  ]
}