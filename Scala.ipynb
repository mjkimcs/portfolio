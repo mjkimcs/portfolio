{
  "nbformat": 4,
  "nbformat_minor": 0,
  "metadata": {
    "colab": {
      "name": "Scala.ipynb",
      "provenance": [],
      "collapsed_sections": [],
      "authorship_tag": "ABX9TyOKS7J9Hq2we/5WyqhMY1Zm",
      "include_colab_link": true
    },
    "kernelspec": {
      "name": "python3",
      "display_name": "Python 3"
    }
  },
  "cells": [
    {
      "cell_type": "markdown",
      "metadata": {
        "id": "view-in-github",
        "colab_type": "text"
      },
      "source": [
        "<a href=\"https://colab.research.google.com/github/mjkimcs/portfolio/blob/main/Scala.ipynb\" target=\"_parent\"><img src=\"https://colab.research.google.com/assets/colab-badge.svg\" alt=\"Open In Colab\"/></a>"
      ]
    },
    {
      "cell_type": "code",
      "metadata": {
        "id": "XyVSFxWXRnAc"
      },
      "source": [
        "// Calculate the difference between 8 and 5\r\n",
        "val difference = 8-5\r\n",
        "\r\n",
        "// Print the difference\r\n",
        "println(difference)\r\n",
        "\r\n",
        "val # immutable\r\n",
        "var # mutable\r\n",
        "\r\n",
        "val playerA: String = \"Alex\"\r\n",
        "var aceClubs = 1"
      ],
      "execution_count": null,
      "outputs": []
    },
    {
      "cell_type": "code",
      "metadata": {
        "id": "KbQC9Nis3JdF"
      },
      "source": [
        "val prizes = List(10, 15, 20, 25, 30)\r\n",
        "println(prizes)\r\n",
        "\r\n",
        "# 결과\r\n",
        "List(10, 15, 20, 25, 30)"
      ],
      "execution_count": null,
      "outputs": []
    },
    {
      "cell_type": "code",
      "metadata": {
        "id": "Elhpo4tp3P3K"
      },
      "source": [
        "val newPrizes = 5 :: prizes\r\n",
        "println(newPrizes)\r\n",
        "\r\n",
        "# 결과\r\n",
        "List(5, 10, 15, 20, 25, 30)"
      ],
      "execution_count": null,
      "outputs": []
    },
    {
      "cell_type": "code",
      "metadata": {
        "id": "a5rsPFfv32C7"
      },
      "source": [
        "val prizes = 10 :: 15 :: 20 :: 25 :: 30 :: Nil\r\n",
        "println(prizes)\r\n",
        "\r\n",
        "# 결과\r\n",
        "List(10, 15, 20, 25, 30)"
      ],
      "execution_count": null,
      "outputs": []
    },
    {
      "cell_type": "code",
      "metadata": {
        "id": "kzIdnC0m35eA"
      },
      "source": [
        "val venuesNTOA = List(\"The Grand Ballroom\", \"Atlantis Casino\", \"Doug's House\")\r\n",
        "val venuesEuroTO = \"Five Seasons Hotel\" :: \"The Electric Unicorn\" :: Nil\r\n",
        "val venuesTOWorld = venuesNTOA ::: venuesEuroTO"
      ],
      "execution_count": null,
      "outputs": []
    },
    {
      "cell_type": "code",
      "metadata": {
        "id": "jXWxWO3P33bU"
      },
      "source": [
        "val hand = sevenClubs + kingDiamonds + threeSpades\r\n",
        "\r\n",
        "if (hand == 21) {\r\n",
        "  println(\"Twenty-One!\")\r\n",
        "}\r\n",
        "\r\n",
        "val informPlayer: String = {\r\n",
        "  if (hand > 21)\r\n",
        "    \"Bust! :(\"\r\n",
        "  else if (hand == 21) \r\n",
        "    \"Twenty-One! :)\"\r\n",
        "  else\r\n",
        "    \"Hit or stay?\"\r\n",
        "}"
      ],
      "execution_count": null,
      "outputs": []
    },
    {
      "cell_type": "code",
      "metadata": {
        "id": "0OWNexts8g3n"
      },
      "source": [
        "var i = 0\r\n",
        "val numRepetitions = 3\r\n",
        "\r\n",
        "while (i < numRepetitions) {\r\n",
        "  if (i < 2)\r\n",
        "    println(\"winner\")\r\n",
        "  else\r\n",
        "    println(\"chicken dinner\")\r\n",
        "  i = i + 1\r\n",
        "}"
      ],
      "execution_count": null,
      "outputs": []
    },
    {
      "cell_type": "code",
      "metadata": {
        "id": "h-oh6scJ8kgc"
      },
      "source": [
        "# functional style: 기능적으로 변하지 않는 것, val 등\r\n",
        "# imperative style: 중요한 것으로 활용도가 높은 것, var 등"
      ],
      "execution_count": null,
      "outputs": []
    }
  ]
}