{
  "nbformat": 4,
  "nbformat_minor": 0,
  "metadata": {
    "colab": {
      "name": "정규표현식.ipynb",
      "provenance": [],
      "collapsed_sections": [],
      "authorship_tag": "ABX9TyMY9I28FAqd9fWeNU267pGw",
      "include_colab_link": true
    },
    "kernelspec": {
      "name": "python3",
      "display_name": "Python 3"
    }
  },
  "cells": [
    {
      "cell_type": "markdown",
      "metadata": {
        "id": "view-in-github",
        "colab_type": "text"
      },
      "source": [
        "<a href=\"https://colab.research.google.com/github/mjkimcs/portfolio/blob/main/%EC%A0%95%EA%B7%9C%ED%91%9C%ED%98%84%EC%8B%9D.ipynb\" target=\"_parent\"><img src=\"https://colab.research.google.com/assets/colab-badge.svg\" alt=\"Open In Colab\"/></a>"
      ]
    },
    {
      "cell_type": "markdown",
      "metadata": {
        "id": "AOfV5i_GAYus"
      },
      "source": [
        "테스트 사이트: regex, https://regexr.com/  "
      ]
    },
    {
      "cell_type": "markdown",
      "metadata": {
        "id": "x0fRqygvBKJz"
      },
      "source": [
        "\\r : carriage return, 키보드커서를 제일 앞쪽으로 이동, 개행문자 제거하고 싶을 때 같이 써주는 것을 권장  \n",
        "\\n : new line, 키보드커서만 바로 다음줄로, 개행문자    \n",
        "\\x : 특수한 기호, 16진수  \n",
        "* \\x6E : n\n",
        "* \\x10 : ╂  \n",
        "\n",
        "\\\\\\\\[x].. : .은 개행기호를 제외한 다른 글자를 매칭, \\x20  \n",
        "(\\n)|(\\t)|(\\\\[x]..) : 또는   "
      ]
    },
    {
      "cell_type": "code",
      "metadata": {
        "id": "Kc7xChYqAV_a"
      },
      "source": [
        "import re"
      ],
      "execution_count": null,
      "outputs": []
    },
    {
      "cell_type": "code",
      "metadata": {
        "colab": {
          "base_uri": "https://localhost:8080/"
        },
        "id": "CmjdMUxkJ4hx",
        "outputId": "681b3498-9d2a-4543-f61e-1e0c9dcfc7cd"
      },
      "source": [
        "a = \"\"\"Hello World\n",
        "Hello Python\n",
        "  Hello \\\\x60Study\"\"\"\n",
        "result = re.sub(\"(\\n)|(\\t)|(\\\\[x]..)\", \"\", a)\n",
        "print(result)"
      ],
      "execution_count": null,
      "outputs": [
        {
          "output_type": "stream",
          "text": [
            "Hello WorldHello Python  Hello \\x60Study\n"
          ],
          "name": "stdout"
        }
      ]
    },
    {
      "cell_type": "code",
      "metadata": {
        "colab": {
          "base_uri": "https://localhost:8080/"
        },
        "id": "IvXSxxMUEFpT",
        "outputId": "e8f8c8e7-cc47-4e23-d5ca-a5e681f723c8"
      },
      "source": [
        "# \\를 하나 더 써주거나\n",
        "\n",
        "a = \"\"\"Hello World\n",
        "Hello Python\n",
        "  Hello \\\\x60Study\"\"\"\n",
        "result = re.sub(\"(\\\\n)|(\\\\t)|(\\\\\\[x]..)\", \"\", a)\n",
        "print(result)"
      ],
      "execution_count": null,
      "outputs": [
        {
          "output_type": "stream",
          "text": [
            "Hello WorldHello Python  Hello Study\n"
          ],
          "name": "stdout"
        }
      ]
    },
    {
      "cell_type": "code",
      "metadata": {
        "colab": {
          "base_uri": "https://localhost:8080/"
        },
        "id": "e_nfn4CfB3BM",
        "outputId": "727dbf65-71a2-4089-9806-c66cac8d4520"
      },
      "source": [
        "# 앞에 r을 써주거나\n",
        "\n",
        "a = \"\"\"Hello World\n",
        "Hello Python\n",
        "  Hello \\\\x60Study\"\"\"\n",
        "result = re.sub(r\"(\\n)|(\\t)|(\\\\[x]..)\", \"\", a)\n",
        "print(result)"
      ],
      "execution_count": null,
      "outputs": [
        {
          "output_type": "stream",
          "text": [
            "Hello WorldHello Python  Hello Study\n"
          ],
          "name": "stdout"
        }
      ]
    },
    {
      "cell_type": "code",
      "metadata": {
        "id": "H--e1ZqAEqAA"
      },
      "source": [
        "b = \"안녕 python      hello\""
      ],
      "execution_count": null,
      "outputs": []
    },
    {
      "cell_type": "code",
      "metadata": {
        "colab": {
          "base_uri": "https://localhost:8080/"
        },
        "id": "-S4KsK7fEy5X",
        "outputId": "4bb5ac1c-dd62-4289-b52f-2ab0f09a8281"
      },
      "source": [
        "b.split()"
      ],
      "execution_count": null,
      "outputs": [
        {
          "output_type": "execute_result",
          "data": {
            "text/plain": [
              "['안녕', 'python', 'hello']"
            ]
          },
          "metadata": {
            "tags": []
          },
          "execution_count": 5
        }
      ]
    },
    {
      "cell_type": "code",
      "metadata": {
        "colab": {
          "base_uri": "https://localhost:8080/",
          "height": 35
        },
        "id": "lRXDHabdEuXZ",
        "outputId": "9a9fbe52-5247-4c8b-864b-ab76c842ee9f"
      },
      "source": [
        "# 방법1\n",
        "\n",
        "' '.join(b.split())"
      ],
      "execution_count": null,
      "outputs": [
        {
          "output_type": "execute_result",
          "data": {
            "application/vnd.google.colaboratory.intrinsic+json": {
              "type": "string"
            },
            "text/plain": [
              "'안녕 python hello'"
            ]
          },
          "metadata": {
            "tags": []
          },
          "execution_count": 4
        }
      ]
    },
    {
      "cell_type": "code",
      "metadata": {
        "colab": {
          "base_uri": "https://localhost:8080/",
          "height": 35
        },
        "id": "l9-vEzQhE4LB",
        "outputId": "d0469dfc-4f1d-4f64-b3ca-c7800ecaf7ba"
      },
      "source": [
        "# 방법2\n",
        "\n",
        "re.sub(\" +\", \" \", b)"
      ],
      "execution_count": null,
      "outputs": [
        {
          "output_type": "execute_result",
          "data": {
            "application/vnd.google.colaboratory.intrinsic+json": {
              "type": "string"
            },
            "text/plain": [
              "'안녕 python hello'"
            ]
          },
          "metadata": {
            "tags": []
          },
          "execution_count": 9
        }
      ]
    },
    {
      "cell_type": "code",
      "metadata": {
        "colab": {
          "base_uri": "https://localhost:8080/"
        },
        "id": "LkZp9KA_FkHV",
        "outputId": "8e514517-e713-40cb-f1bc-3701063f228c"
      },
      "source": [
        "import re\n",
        "\n",
        "p = re.compile(\"[a-z]+\")\n",
        "s = p.search(\"3 python 2\")\n",
        "print(s)"
      ],
      "execution_count": null,
      "outputs": [
        {
          "output_type": "stream",
          "text": [
            "<re.Match object; span=(2, 8), match='python'>\n"
          ],
          "name": "stdout"
        }
      ]
    },
    {
      "cell_type": "code",
      "metadata": {
        "id": "dgItQu_mKJqW",
        "colab": {
          "base_uri": "https://localhost:8080/"
        },
        "outputId": "27ac3cf2-5e8d-4649-dd2d-1957bef30fa0"
      },
      "source": [
        "import re\n",
        "\n",
        "list = [\"Hi python. That is commonly used.\", \"Hello. That is the most common word.\", \"Hi, That sounds good.\"]\n",
        "\n",
        "for i in list:\n",
        "    result = re.search(\"(That is [\\S ]*)\", i)\n",
        "    if result != None:\n",
        "        print(result[0])"
      ],
      "execution_count": null,
      "outputs": [
        {
          "output_type": "stream",
          "text": [
            "That is commonly used.\n",
            "That is the most common word.\n"
          ],
          "name": "stdout"
        }
      ]
    },
    {
      "cell_type": "code",
      "metadata": {
        "id": "oP3bXwvAjmqy"
      },
      "source": [
        ""
      ],
      "execution_count": null,
      "outputs": []
    }
  ]
}