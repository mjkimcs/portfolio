{
  "nbformat": 4,
  "nbformat_minor": 0,
  "metadata": {
    "colab": {
      "name": "Python활용_전화번호부.ipynb",
      "provenance": [],
      "collapsed_sections": [],
      "authorship_tag": "ABX9TyP1cJCIVcAd5USxJvZXuSv+",
      "include_colab_link": true
    },
    "kernelspec": {
      "name": "python3",
      "display_name": "Python 3"
    }
  },
  "cells": [
    {
      "cell_type": "markdown",
      "metadata": {
        "id": "view-in-github",
        "colab_type": "text"
      },
      "source": [
        "<a href=\"https://colab.research.google.com/github/mjkimcs/portfolio/blob/main/Python%ED%99%9C%EC%9A%A9_%EC%A0%84%ED%99%94%EB%B2%88%ED%98%B8%EB%B6%80.ipynb\" target=\"_parent\"><img src=\"https://colab.research.google.com/assets/colab-badge.svg\" alt=\"Open In Colab\"/></a>"
      ]
    },
    {
      "cell_type": "code",
      "metadata": {
        "colab": {
          "base_uri": "https://localhost:8080/"
        },
        "id": "7--uG-2ZwV-9",
        "outputId": "05359eb0-6089-4fe4-fe4b-5138221055ba"
      },
      "source": [
        "#전화번호부 만들기\r\n",
        "#한 번에 수정: Shift+Alt\r\n",
        "\r\n",
        "phoneList = []\r\n",
        "numOfData = 0 #전역변수\r\n",
        "\r\n",
        "def inputData():\r\n",
        "  name = input(\"이름 입력: \")\r\n",
        "  number = input(\"번호 입력: \")\r\n",
        "  phoneList.append({\"name\":name, \"number\":number})\r\n",
        "  global numOfData #전역변수 수정 허락받기\r\n",
        "  numOfData += 1\r\n",
        "\r\n",
        "def searchData():\r\n",
        "  search_name = input(\"검색할 이름 입력>>\")\r\n",
        "  is_find = False   \r\n",
        "  for i in phoneList:\r\n",
        "    if i[\"name\"] == search_name:\r\n",
        "      print(\"--------------------\")\r\n",
        "      print(\"이름:\", i[\"name\"])\r\n",
        "      print(\"번호:\", i[\"number\"])\r\n",
        "      print(\"--------------------\")\r\n",
        "      is_find = True\r\n",
        "  if is_find == False:\r\n",
        "    print(\"찾는 이름이 없습니다.\")\r\n",
        "\r\n",
        "def deleteData():\r\n",
        "  delete_name = input(\"삭제할 이름 입력>>\")\r\n",
        "  is_find = False\r\n",
        "  for i in phoneList:\r\n",
        "    if i[\"name\"] == delete_name:\r\n",
        "      phoneList.remove(i)\r\n",
        "      global numOfData #전역변수 수정 허락받기\r\n",
        "      numOfData -= 1\r\n",
        "      is_find = True\r\n",
        "  if is_find == False:\r\n",
        "    print(\"찾는 이름이 없습니다.\")\r\n",
        "\r\n",
        "def showAllData():\r\n",
        "  for i in phoneList:\r\n",
        "    print(\"--------------------\")\r\n",
        "    print(\"이름: \", i[\"name\"])\r\n",
        "    print(\"번호: \", i[\"number\"])\r\n",
        "    print(\"--------------------\")\r\n",
        "\r\n",
        "\r\n",
        "while True:\r\n",
        "  print(\"======================\")\r\n",
        "  print(\"현재 데이터 개수: {}개\".format(numOfData))\r\n",
        "  print(\"1. 전화번호 추가\")\r\n",
        "  print(\"2. 전화번호 검색\")\r\n",
        "  print(\"3. 전화번호 삭제\")\r\n",
        "  print(\"4. 전화번호 전체출력\")\r\n",
        "  print(\"5. 종료\")\r\n",
        "  print(\"======================\")\r\n",
        "  menu = input(\"선택>>\")\r\n",
        "\r\n",
        "  if menu == \"1\":\r\n",
        "    inputData()\r\n",
        "\r\n",
        "  elif menu == \"2\":\r\n",
        "    searchData()\r\n",
        "\r\n",
        "  elif menu == \"3\":\r\n",
        "    deleteData()\r\n",
        "\r\n",
        "  elif menu == \"4\":\r\n",
        "    showAllData()\r\n",
        "\r\n",
        "  elif menu == \"5\":\r\n",
        "    print(\"종료\")\r\n",
        "    break\r\n",
        "\r\n",
        "  else:\r\n",
        "    print(\"다시 선택해 주세요\")"
      ],
      "execution_count": null,
      "outputs": [
        {
          "output_type": "stream",
          "text": [
            "======================\n",
            "현재 데이터 개수: 0개\n",
            "1. 전화번호 추가\n",
            "2. 전화번호 검색\n",
            "3. 전화번호 삭제\n",
            "4. 전화번호 전체출력\n",
            "5. 종료\n",
            "======================\n",
            "선택>>ㅇ\n",
            "다시 선택해 주세요\n",
            "======================\n",
            "현재 데이터 개수: 0개\n",
            "1. 전화번호 추가\n",
            "2. 전화번호 검색\n",
            "3. 전화번호 삭제\n",
            "4. 전화번호 전체출력\n",
            "5. 종료\n",
            "======================\n",
            "선택>>1\n",
            "이름 입력: 민정\n",
            "번호 입력: 111\n",
            "======================\n",
            "현재 데이터 개수: 1개\n",
            "1. 전화번호 추가\n",
            "2. 전화번호 검색\n",
            "3. 전화번호 삭제\n",
            "4. 전화번호 전체출력\n",
            "5. 종료\n",
            "======================\n",
            "선택>>1\n",
            "이름 입력: 민주\n",
            "번호 입력: 222\n",
            "======================\n",
            "현재 데이터 개수: 2개\n",
            "1. 전화번호 추가\n",
            "2. 전화번호 검색\n",
            "3. 전화번호 삭제\n",
            "4. 전화번호 전체출력\n",
            "5. 종료\n",
            "======================\n",
            "선택>>1\n",
            "이름 입력: 철수\n",
            "번호 입력: 888\n",
            "======================\n",
            "현재 데이터 개수: 3개\n",
            "1. 전화번호 추가\n",
            "2. 전화번호 검색\n",
            "3. 전화번호 삭제\n",
            "4. 전화번호 전체출력\n",
            "5. 종료\n",
            "======================\n",
            "선택>>2\n",
            "검색할 이름 입력>>은향\n",
            "찾는 이름이 없습니다.\n",
            "======================\n",
            "현재 데이터 개수: 3개\n",
            "1. 전화번호 추가\n",
            "2. 전화번호 검색\n",
            "3. 전화번호 삭제\n",
            "4. 전화번호 전체출력\n",
            "5. 종료\n",
            "======================\n",
            "선택>>2\n",
            "검색할 이름 입력>>철수\n",
            "--------------------\n",
            "이름: 철수\n",
            "번호: 888\n",
            "--------------------\n",
            "======================\n",
            "현재 데이터 개수: 3개\n",
            "1. 전화번호 추가\n",
            "2. 전화번호 검색\n",
            "3. 전화번호 삭제\n",
            "4. 전화번호 전체출력\n",
            "5. 종료\n",
            "======================\n",
            "선택>>3\n",
            "삭제할 이름 입력>>철수\n",
            "======================\n",
            "현재 데이터 개수: 2개\n",
            "1. 전화번호 추가\n",
            "2. 전화번호 검색\n",
            "3. 전화번호 삭제\n",
            "4. 전화번호 전체출력\n",
            "5. 종료\n",
            "======================\n",
            "선택>>4\n",
            "--------------------\n",
            "이름:  민정\n",
            "번호:  111\n",
            "--------------------\n",
            "--------------------\n",
            "이름:  민주\n",
            "번호:  222\n",
            "--------------------\n",
            "======================\n",
            "현재 데이터 개수: 2개\n",
            "1. 전화번호 추가\n",
            "2. 전화번호 검색\n",
            "3. 전화번호 삭제\n",
            "4. 전화번호 전체출력\n",
            "5. 종료\n",
            "======================\n",
            "선택>>5\n",
            "종료\n"
          ],
          "name": "stdout"
        }
      ]
    },
    {
      "cell_type": "code",
      "metadata": {
        "colab": {
          "base_uri": "https://localhost:8080/"
        },
        "id": "4GmxWzP5JDhf",
        "outputId": "2fb59e70-eb89-4fb6-8a22-61f495a0da34"
      },
      "source": [
        "#텍스트 파일을 데이터베이스 형태로 사용하기\r\n",
        "\r\n",
        "phoneList = []\r\n",
        "r = open(\"test.txt\", \"r\")\r\n",
        "db = r.readlines()\r\n",
        "for i in db:\r\n",
        "  i = i.strip() #strip():개행문자 제거\r\n",
        "  i = i.split(\",\") #\",\"를 기준으로 값을 나눈 후 리스트형으로 반환\r\n",
        "  phoneList.append({\"name\": i[0], \"number\": i[1]})\r\n",
        "\r\n",
        "numOfData = len(phoneList) #전역변수\r\n",
        "\r\n",
        "def inputData():\r\n",
        "  name = input(\"이름 입력: \")\r\n",
        "  number = input(\"번호 입력: \")\r\n",
        "  phoneList.append({\"name\":name, \"number\":number})\r\n",
        "  w = open(\"test.txt\", \"a\")\r\n",
        "  w.write(name + \",\" + number + \"\\n\")\r\n",
        "  global numOfData #전역변수 수정 허락받기\r\n",
        "  numOfData += 1\r\n",
        "\r\n",
        "def searchData():\r\n",
        "  search_name = input(\"검색할 이름 입력>>\")\r\n",
        "  is_find = False   \r\n",
        "  for i in phoneList:\r\n",
        "    if i[\"name\"] == search_name:\r\n",
        "      print(\"--------------------\")\r\n",
        "      print(\"이름:\", i[\"name\"])\r\n",
        "      print(\"번호:\", i[\"number\"])\r\n",
        "      print(\"--------------------\")\r\n",
        "      is_find = True\r\n",
        "  if is_find == False:\r\n",
        "    print(\"찾는 이름이 없습니다.\")\r\n",
        "\r\n",
        "def deleteData():\r\n",
        "  delete_name = input(\"삭제할 이름 입력>>\")\r\n",
        "  is_find = False\r\n",
        "  for i in phoneList:\r\n",
        "    if i[\"name\"] == delete_name:\r\n",
        "      phoneList.remove(i)\r\n",
        "      global numOfData #전역변수 수정 허락받기\r\n",
        "      numOfData -= 1\r\n",
        "      is_find = True\r\n",
        "  if is_find == False:\r\n",
        "    print(\"찾는 이름이 없습니다.\")\r\n",
        "\r\n",
        "def showAllData():\r\n",
        "  for i in phoneList:\r\n",
        "    print(\"--------------------\")\r\n",
        "    print(\"이름: \", i[\"name\"])\r\n",
        "    print(\"번호: \", i[\"number\"])\r\n",
        "    print(\"--------------------\")\r\n",
        "\r\n",
        "\r\n",
        "while True:\r\n",
        "  print(\"======================\")\r\n",
        "  print(\"현재 데이터 개수: {}개\".format(numOfData))\r\n",
        "  print(\"1. 전화번호 추가\")\r\n",
        "  print(\"2. 전화번호 검색\")\r\n",
        "  print(\"3. 전화번호 삭제\")\r\n",
        "  print(\"4. 전화번호 전체출력\")\r\n",
        "  print(\"5. 종료\")\r\n",
        "  print(\"======================\")\r\n",
        "  menu = input(\"선택>>\")\r\n",
        "\r\n",
        "  if menu == \"1\":\r\n",
        "    inputData()\r\n",
        "\r\n",
        "  elif menu == \"2\":\r\n",
        "    searchData()\r\n",
        "\r\n",
        "  elif menu == \"3\":\r\n",
        "    deleteData()\r\n",
        "\r\n",
        "  elif menu == \"4\":\r\n",
        "    showAllData()\r\n",
        "\r\n",
        "  elif menu == \"5\":\r\n",
        "    print(\"종료\")\r\n",
        "    break\r\n",
        "\r\n",
        "  else:\r\n",
        "    print(\"다시 선택해 주세요\")"
      ],
      "execution_count": null,
      "outputs": [
        {
          "output_type": "stream",
          "text": [
            "======================\n",
            "현재 데이터 개수: 6개\n",
            "1. 전화번호 추가\n",
            "2. 전화번호 검색\n",
            "3. 전화번호 삭제\n",
            "4. 전화번호 전체출력\n",
            "5. 종료\n",
            "======================\n",
            "선택>>3\n",
            "삭제할 이름 입력>>원준\n",
            "======================\n",
            "현재 데이터 개수: 5개\n",
            "1. 전화번호 추가\n",
            "2. 전화번호 검색\n",
            "3. 전화번호 삭제\n",
            "4. 전화번호 전체출력\n",
            "5. 종료\n",
            "======================\n",
            "선택>>4\n",
            "--------------------\n",
            "이름:  민정\n",
            "번호:  111\n",
            "--------------------\n",
            "--------------------\n",
            "이름:  민주\n",
            "번호:  222\n",
            "--------------------\n",
            "--------------------\n",
            "이름:  은향\n",
            "번호:  222\n",
            "--------------------\n",
            "--------------------\n",
            "이름:  철수\n",
            "번호:  888\n",
            "--------------------\n",
            "--------------------\n",
            "이름:  밤비\n",
            "번호:  0\n",
            "--------------------\n",
            "======================\n",
            "현재 데이터 개수: 5개\n",
            "1. 전화번호 추가\n",
            "2. 전화번호 검색\n",
            "3. 전화번호 삭제\n",
            "4. 전화번호 전체출력\n",
            "5. 종료\n",
            "======================\n",
            "선택>>5\n",
            "종료\n"
          ],
          "name": "stdout"
        }
      ]
    },
    {
      "cell_type": "code",
      "metadata": {
        "colab": {
          "base_uri": "https://localhost:8080/"
        },
        "id": "57thEeCiT1CZ",
        "outputId": "c2d01da9-86fd-48f6-8179-566d0a2534be"
      },
      "source": [
        "r = open(\"test.txt\", \"r\")\r\n",
        "a = r.read()\r\n",
        "r.close()\r\n",
        "print(a)"
      ],
      "execution_count": null,
      "outputs": [
        {
          "output_type": "stream",
          "text": [
            "민정,111\n",
            "민주,222\n",
            "은향,222\n",
            "철수,888\n",
            "밤비,0\n",
            "원준,999\n",
            "\n"
          ],
          "name": "stdout"
        }
      ]
    },
    {
      "cell_type": "markdown",
      "metadata": {
        "id": "ECP2vg33L82j"
      },
      "source": [
        "구글링 TIP: 반드시 찾아야 하는 문자열은 \" \" 사용  \r\n",
        "\r\n",
        "    python list \"element\" \"append\""
      ]
    },
    {
      "cell_type": "code",
      "metadata": {
        "colab": {
          "base_uri": "https://localhost:8080/"
        },
        "id": "Nyu95jNosHwj",
        "outputId": "af2d9328-bca8-4d0a-b64c-bdd11d129b5a"
      },
      "source": [
        "#업다운 게임\r\n",
        "import random\r\n",
        "\r\n",
        "ans = random.randint(1,100)\r\n",
        "print(\"--- 업 다운 게임을 시작합니다 ---\")\r\n",
        "\r\n",
        "cnt = 0\r\n",
        "while True:\r\n",
        "  num = int(input(\"숫자를 입력하세요 >> \"))\r\n",
        "  cnt += 1\r\n",
        "  if num == ans:\r\n",
        "    print(\"정답!\")\r\n",
        "    break\r\n",
        "  elif num > ans:\r\n",
        "    print(\"DOWN!\")\r\n",
        "  elif num < ans:\r\n",
        "    print(\"UP!\")\r\n",
        "print(\"{}회만에 정답을 맞히셨습니다.\".format(cnt))"
      ],
      "execution_count": null,
      "outputs": [
        {
          "output_type": "stream",
          "text": [
            "--- 업 다운 게임을 시작합니다 ---\n",
            "숫자를 입력하세요 >> 50\n",
            "UP!\n",
            "숫자를 입력하세요 >> 75\n",
            "DOWN!\n",
            "숫자를 입력하세요 >> 60\n",
            "DOWN!\n",
            "숫자를 입력하세요 >> 55\n",
            "DOWN!\n",
            "숫자를 입력하세요 >> 52\n",
            "UP!\n",
            "숫자를 입력하세요 >> 53\n",
            "UP!\n",
            "숫자를 입력하세요 >> 54\n",
            "정답!\n",
            "7회만에 정답을 맞히셨습니다.\n"
          ],
          "name": "stdout"
        }
      ]
    },
    {
      "cell_type": "code",
      "metadata": {
        "colab": {
          "base_uri": "https://localhost:8080/"
        },
        "id": "VutpeAsYWofY",
        "outputId": "68903eb4-5d11-4a78-e0b2-c9705956d281"
      },
      "source": [
        "import calendar as c\r\n",
        "c.prmonth(2021, 2)"
      ],
      "execution_count": null,
      "outputs": [
        {
          "output_type": "stream",
          "text": [
            "   February 2021\n",
            "Mo Tu We Th Fr Sa Su\n",
            " 1  2  3  4  5  6  7\n",
            " 8  9 10 11 12 13 14\n",
            "15 16 17 18 19 20 21\n",
            "22 23 24 25 26 27 28\n"
          ],
          "name": "stdout"
        }
      ]
    },
    {
      "cell_type": "code",
      "metadata": {
        "colab": {
          "base_uri": "https://localhost:8080/"
        },
        "id": "W4eJxDKKWuBL",
        "outputId": "6b08aee3-e88c-4649-c7aa-6c3a8f5d10a7"
      },
      "source": [
        "from calendar import prmonth\r\n",
        "prmonth(2022,2)"
      ],
      "execution_count": null,
      "outputs": [
        {
          "output_type": "stream",
          "text": [
            "   February 2022\n",
            "Mo Tu We Th Fr Sa Su\n",
            "    1  2  3  4  5  6\n",
            " 7  8  9 10 11 12 13\n",
            "14 15 16 17 18 19 20\n",
            "21 22 23 24 25 26 27\n",
            "28\n"
          ],
          "name": "stdout"
        }
      ]
    },
    {
      "cell_type": "code",
      "metadata": {
        "colab": {
          "base_uri": "https://localhost:8080/"
        },
        "id": "EkLzRxDQX1fS",
        "outputId": "54baca3b-3f4a-40c1-f27b-8d7f0fa2ab72"
      },
      "source": [
        "!pip install folium"
      ],
      "execution_count": null,
      "outputs": [
        {
          "output_type": "stream",
          "text": [
            "Requirement already satisfied: folium in /usr/local/lib/python3.6/dist-packages (0.8.3)\n",
            "Requirement already satisfied: jinja2 in /usr/local/lib/python3.6/dist-packages (from folium) (2.11.3)\n",
            "Requirement already satisfied: branca>=0.3.0 in /usr/local/lib/python3.6/dist-packages (from folium) (0.4.2)\n",
            "Requirement already satisfied: requests in /usr/local/lib/python3.6/dist-packages (from folium) (2.23.0)\n",
            "Requirement already satisfied: six in /usr/local/lib/python3.6/dist-packages (from folium) (1.15.0)\n",
            "Requirement already satisfied: numpy in /usr/local/lib/python3.6/dist-packages (from folium) (1.19.5)\n",
            "Requirement already satisfied: MarkupSafe>=0.23 in /usr/local/lib/python3.6/dist-packages (from jinja2->folium) (1.1.1)\n",
            "Requirement already satisfied: certifi>=2017.4.17 in /usr/local/lib/python3.6/dist-packages (from requests->folium) (2020.12.5)\n",
            "Requirement already satisfied: chardet<4,>=3.0.2 in /usr/local/lib/python3.6/dist-packages (from requests->folium) (3.0.4)\n",
            "Requirement already satisfied: urllib3!=1.25.0,!=1.25.1,<1.26,>=1.21.1 in /usr/local/lib/python3.6/dist-packages (from requests->folium) (1.24.3)\n",
            "Requirement already satisfied: idna<3,>=2.5 in /usr/local/lib/python3.6/dist-packages (from requests->folium) (2.10)\n"
          ],
          "name": "stdout"
        }
      ]
    },
    {
      "cell_type": "code",
      "metadata": {
        "id": "Xr7KTzy9X4kn"
      },
      "source": [
        "import folium\r\n",
        "map = folium.Map(location=[37.59276, 127.04670], zoom_start=17)\r\n",
        "map.save(\"map.html\")"
      ],
      "execution_count": null,
      "outputs": []
    },
    {
      "cell_type": "markdown",
      "metadata": {
        "id": "S4uFVayFfn0A"
      },
      "source": [
        "자료형\r\n",
        "1. 숫자형: 정수형, 실수형(소수점)\r\n",
        "        a % b 나머지\r\n",
        "        a // b 몫\r\n",
        "        a ** b 제곱\r\n",
        "2. 문자열: \" \", ' ', \"\"\" \"\"\", ''' '''\r\n",
        "        a = '개가 \"멍멍\" 짖는다.'\r\n",
        "        b = \"개가 '멍멍' 짖는다.\"\r\n",
        "        c = \"\"\"개가\r\n",
        "        멍멍\r\n",
        "        짖는다.\"\"\"\r\n",
        "        d = '''개가\r\n",
        "        \"멍멍\"\r\n",
        "        짖는다.'''\r\n",
        "        e = \"\"\"개가\r\n",
        "        '멍멍'\r\n",
        "        짖는다.\"\"\"\r\n",
        "        print(\"포도\" * 3)\r\n",
        "        print(\"포도\" + \"사과\")\r\n",
        "3. 리스트\r\n",
        "        hero = [\"토르\", \"아이언맨\", \"헐크\"]\r\n",
        "        hero.append(\"스파이더\") #원소추가\r\n",
        "        hero.remove(\"헐크\")\r\n",
        "        print(hero[0])\r\n",
        "4. 딕셔너리\r\n",
        "        fruite = {\"사과\":100, \"포도\":200, \"배\":300}\r\n",
        "        fruite[\"오렌지\"] = 500 #원소추가\r\n",
        "        fruite.pop(\"포도\") #원소삭제\r\n",
        "        print(fruite[\"사과\"])\r\n",
        "5. 튜플: 값 수정 불가능\r\n",
        "        name = (\"민정\", \"민주\", \"철수\", \"은향\")\r\n",
        "6. 불리언: True, False"
      ]
    },
    {
      "cell_type": "code",
      "metadata": {
        "colab": {
          "base_uri": "https://localhost:8080/"
        },
        "id": "s-Y38oc8ojCR",
        "outputId": "299205ba-a39e-46d9-c556-1adaa53f8a1f"
      },
      "source": [
        "num1 = int(input(\"첫번째 숫자 입력>>\"))\r\n",
        "num2 = int(input(\"두번째 숫자 입력>>\"))\r\n",
        "print(\"곱셈 결과는 {}입니다.\".format(num1*num2))"
      ],
      "execution_count": null,
      "outputs": [
        {
          "output_type": "stream",
          "text": [
            "첫번째 숫자 입력>>1\n",
            "두번째 숫자 입력>>7\n",
            "곱셈 결과는 7입니다.\n"
          ],
          "name": "stdout"
        }
      ]
    },
    {
      "cell_type": "code",
      "metadata": {
        "colab": {
          "base_uri": "https://localhost:8080/"
        },
        "id": "MC-yRTPqol9j",
        "outputId": "9d0bb5d5-4c48-44be-b089-c96de4f965c0"
      },
      "source": [
        "score = int(input(\"점수 입력 >>\"))\r\n",
        "if score >= 90:\r\n",
        "  print(\"학점: A\")\r\n",
        "elif 80 <= score < 90:\r\n",
        "  print(\"학점: B\")\r\n",
        "elif 70 <= score < 80:\r\n",
        "  print(\"학점: C\")\r\n",
        "else:\r\n",
        "  print(\"학점: F\")"
      ],
      "execution_count": null,
      "outputs": [
        {
          "output_type": "stream",
          "text": [
            "점수 입력 >>100\n",
            "학점: A\n"
          ],
          "name": "stdout"
        }
      ]
    },
    {
      "cell_type": "code",
      "metadata": {
        "colab": {
          "base_uri": "https://localhost:8080/"
        },
        "id": "TA6_VCk0p-US",
        "outputId": "8d8d0dcb-deff-4fe6-b2e3-9dfbebc6ead3"
      },
      "source": [
        "num = 1\r\n",
        "while num <=3:\r\n",
        "  print(\"민정짱\")\r\n",
        "  num += 1"
      ],
      "execution_count": null,
      "outputs": [
        {
          "output_type": "stream",
          "text": [
            "민정짱\n",
            "민정짱\n",
            "민정짱\n"
          ],
          "name": "stdout"
        }
      ]
    },
    {
      "cell_type": "code",
      "metadata": {
        "colab": {
          "base_uri": "https://localhost:8080/"
        },
        "id": "g9kKVWyyrU40",
        "outputId": "51e39782-67eb-40b3-efd7-b3e97705a125"
      },
      "source": [
        "num = 0\r\n",
        "while True: #무한루프\r\n",
        "  num += 1\r\n",
        "  print(num)\r\n",
        "  if num == 7:\r\n",
        "    break"
      ],
      "execution_count": null,
      "outputs": [
        {
          "output_type": "stream",
          "text": [
            "1\n",
            "2\n",
            "3\n",
            "4\n",
            "5\n",
            "6\n",
            "7\n"
          ],
          "name": "stdout"
        }
      ]
    },
    {
      "cell_type": "code",
      "metadata": {
        "colab": {
          "base_uri": "https://localhost:8080/"
        },
        "id": "ibBWPPj2rw2L",
        "outputId": "617ad20f-0898-48ef-80f4-c35bc64fc57d"
      },
      "source": [
        "num = 0\r\n",
        "while True:\r\n",
        "  num += 1\r\n",
        "  if num % 2 == 1:\r\n",
        "    continue #반복문 조건부 문장으로 돌려보냄\r\n",
        "  print(num)\r\n",
        "  if num == 8:\r\n",
        "    break"
      ],
      "execution_count": null,
      "outputs": [
        {
          "output_type": "stream",
          "text": [
            "2\n",
            "4\n",
            "6\n",
            "8\n"
          ],
          "name": "stdout"
        }
      ]
    },
    {
      "cell_type": "code",
      "metadata": {
        "colab": {
          "base_uri": "https://localhost:8080/"
        },
        "id": "wFktlIB-u-tw",
        "outputId": "06f1a101-29fa-4a8f-cfb4-134bd68dfca7"
      },
      "source": [
        "for i in [\"one\", \"two\", \"three\"]:\r\n",
        "  print(i)"
      ],
      "execution_count": null,
      "outputs": [
        {
          "output_type": "stream",
          "text": [
            "one\n",
            "two\n",
            "three\n"
          ],
          "name": "stdout"
        }
      ]
    },
    {
      "cell_type": "code",
      "metadata": {
        "colab": {
          "base_uri": "https://localhost:8080/"
        },
        "id": "9we7_yqxvMg7",
        "outputId": "5362119f-ee63-4a29-b0b8-c404b470b1a2"
      },
      "source": [
        "for i in range(3):\r\n",
        "  print(\"민정짱\")"
      ],
      "execution_count": null,
      "outputs": [
        {
          "output_type": "stream",
          "text": [
            "민정짱\n",
            "민정짱\n",
            "민정짱\n"
          ],
          "name": "stdout"
        }
      ]
    },
    {
      "cell_type": "code",
      "metadata": {
        "colab": {
          "base_uri": "https://localhost:8080/"
        },
        "id": "OBInYKjQweEX",
        "outputId": "f275d332-1585-4a8e-99d2-d23bbe492f96"
      },
      "source": [
        "for i in range(3):\r\n",
        "  print(i)"
      ],
      "execution_count": null,
      "outputs": [
        {
          "output_type": "stream",
          "text": [
            "0\n",
            "1\n",
            "2\n"
          ],
          "name": "stdout"
        }
      ]
    },
    {
      "cell_type": "code",
      "metadata": {
        "colab": {
          "base_uri": "https://localhost:8080/"
        },
        "id": "qpD8BLXZv_n6",
        "outputId": "e0e21954-61e7-4533-c096-73ce8a2c99e6"
      },
      "source": [
        "for i in range(0, 101, 5):\r\n",
        "  print(i)"
      ],
      "execution_count": null,
      "outputs": [
        {
          "output_type": "stream",
          "text": [
            "0\n",
            "5\n",
            "10\n",
            "15\n",
            "20\n",
            "25\n",
            "30\n",
            "35\n",
            "40\n",
            "45\n",
            "50\n",
            "55\n",
            "60\n",
            "65\n",
            "70\n",
            "75\n",
            "80\n",
            "85\n",
            "90\n",
            "95\n",
            "100\n"
          ],
          "name": "stdout"
        }
      ]
    },
    {
      "cell_type": "code",
      "metadata": {
        "colab": {
          "base_uri": "https://localhost:8080/"
        },
        "id": "dgjb9u6r_xDr",
        "outputId": "f45cad92-f004-4755-b034-ea9684388280"
      },
      "source": [
        "def add(a, b): #매개변수: a, b\r\n",
        "  c = a + b\r\n",
        "  return c\r\n",
        "\r\n",
        "print(add(10, 20)) #인자(인수): 10, 20"
      ],
      "execution_count": null,
      "outputs": [
        {
          "output_type": "stream",
          "text": [
            "30\n"
          ],
          "name": "stdout"
        }
      ]
    },
    {
      "cell_type": "markdown",
      "metadata": {
        "id": "e8V4gH26EMhL"
      },
      "source": [
        "###파일 출력 함수\r\n",
        "*  w: 쓰기모드\r\n",
        "*  a: 더해서 쓰기모드"
      ]
    },
    {
      "cell_type": "code",
      "metadata": {
        "id": "FwMqp2ajAJad"
      },
      "source": [
        "w = open(\"test.txt\", \"w\") #내부적으로만 열리고 실제로 열린다는 의미가 아님\r\n",
        "w.write(\"민정짱\\n\") #\\n: 개행문자\r\n",
        "w.write(\"민주짱\")\r\n",
        "w.close()"
      ],
      "execution_count": null,
      "outputs": []
    },
    {
      "cell_type": "code",
      "metadata": {
        "id": "dYbQrznIEeHV"
      },
      "source": [
        "w = open(\"test.txt\", \"w\")\r\n",
        "w.close()"
      ],
      "execution_count": null,
      "outputs": []
    },
    {
      "cell_type": "code",
      "metadata": {
        "id": "gLMXPUBPFv7S"
      },
      "source": [
        "w = open(\"test2.doc\", \"a\")\r\n",
        "w.write(\"민정짱\\n\")\r\n",
        "w.write(\"민주짱\")\r\n",
        "w.close()"
      ],
      "execution_count": null,
      "outputs": []
    },
    {
      "cell_type": "code",
      "metadata": {
        "id": "jo-1iU0sF7Q1"
      },
      "source": [
        "w = open(\"test2.doc\", \"a\")\r\n",
        "w.close()"
      ],
      "execution_count": null,
      "outputs": []
    },
    {
      "cell_type": "markdown",
      "metadata": {
        "id": "ZXr_X5QKGtVE"
      },
      "source": [
        "###파일 입력 함수"
      ]
    },
    {
      "cell_type": "code",
      "metadata": {
        "colab": {
          "base_uri": "https://localhost:8080/"
        },
        "id": "TUQpNIUIGuSU",
        "outputId": "8f051435-d1c5-4887-a9da-ab97917956f7"
      },
      "source": [
        "r = open(\"test2.doc\", \"r\")\r\n",
        "a = r.read()\r\n",
        "r.close()\r\n",
        "print(a)"
      ],
      "execution_count": null,
      "outputs": [
        {
          "output_type": "stream",
          "text": [
            "민정짱\n",
            "민주짱\n"
          ],
          "name": "stdout"
        }
      ]
    },
    {
      "cell_type": "code",
      "metadata": {
        "colab": {
          "base_uri": "https://localhost:8080/"
        },
        "id": "jbz7IAlVHDC1",
        "outputId": "6298498c-a2d1-40d5-bcd2-239c42dadbc5"
      },
      "source": [
        "r = open(\"test2.doc\", \"r\")\r\n",
        "a = r.readline()\r\n",
        "r.close()\r\n",
        "print(a)"
      ],
      "execution_count": null,
      "outputs": [
        {
          "output_type": "stream",
          "text": [
            "민정짱\n",
            "\n"
          ],
          "name": "stdout"
        }
      ]
    },
    {
      "cell_type": "code",
      "metadata": {
        "colab": {
          "base_uri": "https://localhost:8080/"
        },
        "id": "wBmuDCtaHMql",
        "outputId": "40c1b807-2f33-4cf0-a3e8-3bf028ab7442"
      },
      "source": [
        "r = open(\"test2.doc\", \"r\")\r\n",
        "a = r.readline()\r\n",
        "a = r.readline()\r\n",
        "r.close()\r\n",
        "print(a)"
      ],
      "execution_count": null,
      "outputs": [
        {
          "output_type": "stream",
          "text": [
            "민주짱\n"
          ],
          "name": "stdout"
        }
      ]
    },
    {
      "cell_type": "code",
      "metadata": {
        "colab": {
          "base_uri": "https://localhost:8080/"
        },
        "id": "NTVLw3MXHOzk",
        "outputId": "769c7efa-097e-4987-9bb6-00bb068795c8"
      },
      "source": [
        "r = open(\"test2.doc\", \"r\")\r\n",
        "a = r.readlines()\r\n",
        "r.close()\r\n",
        "print(a)"
      ],
      "execution_count": null,
      "outputs": [
        {
          "output_type": "stream",
          "text": [
            "['민정짱\\n', '민주짱']\n"
          ],
          "name": "stdout"
        }
      ]
    }
  ]
}