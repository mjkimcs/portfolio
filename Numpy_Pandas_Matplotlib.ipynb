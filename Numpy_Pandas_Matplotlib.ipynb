{
  "nbformat": 4,
  "nbformat_minor": 0,
  "metadata": {
    "colab": {
      "name": "Numpy_Pandas_Matplotlib",
      "provenance": [],
      "collapsed_sections": [],
      "authorship_tag": "ABX9TyNm3YhZOa2YxE/Ow6TiIVoZ",
      "include_colab_link": true
    },
    "kernelspec": {
      "name": "python3",
      "display_name": "Python 3"
    },
    "language_info": {
      "name": "python"
    }
  },
  "cells": [
    {
      "cell_type": "markdown",
      "metadata": {
        "id": "view-in-github",
        "colab_type": "text"
      },
      "source": [
        "<a href=\"https://colab.research.google.com/github/mjkimcs/portfolio/blob/main/Numpy_Pandas_Matplotlib.ipynb\" target=\"_parent\"><img src=\"https://colab.research.google.com/assets/colab-badge.svg\" alt=\"Open In Colab\"/></a>"
      ]
    },
    {
      "cell_type": "markdown",
      "metadata": {
        "id": "9sOzrLalEeNw"
      },
      "source": [
        "## Numpy"
      ]
    },
    {
      "cell_type": "code",
      "metadata": {
        "colab": {
          "base_uri": "https://localhost:8080/"
        },
        "id": "pMzTuEHS6XcP",
        "outputId": "3c5e9cdf-b6f3-4426-fbbc-8d7799146c70"
      },
      "source": [
        "import numpy as np\n",
        "\n",
        "array = np.array(range(10))\n",
        "print(array)\n",
        "\n",
        "\n",
        "# 1. array의 자료형을 출력해보세요.\n",
        "print(type(array))\n",
        "\n",
        "# 2. array의 차원을 출력해보세요.\n",
        "print(array.ndim)\n",
        "\n",
        "# 3. array의 모양을 출력해보세요.\n",
        "print(array.shape)\n",
        "\n",
        "# 4. array의 크기를 출력해보세요.\n",
        "print(array.size)\n",
        "\n",
        "# 5. array의 dtype(data type)을 출력해보세요.\n",
        "print(array.dtype)\n",
        "\n",
        "# 6. array의 인덱스 5의 요소를 출력해보세요.\n",
        "print(array[5])\n",
        "\n",
        "# 7. array의 인덱스 3의 요소부터 인덱스 5 요소까지 출력해보세요.\n",
        "print(array[3:6])"
      ],
      "execution_count": null,
      "outputs": [
        {
          "output_type": "stream",
          "text": [
            "[0 1 2 3 4 5 6 7 8 9]\n",
            "<class 'numpy.ndarray'>\n",
            "1\n",
            "(10,)\n",
            "10\n",
            "int64\n",
            "5\n",
            "[3 4 5]\n"
          ],
          "name": "stdout"
        }
      ]
    },
    {
      "cell_type": "code",
      "metadata": {
        "colab": {
          "base_uri": "https://localhost:8080/"
        },
        "id": "Oz1q_NSV6JLw",
        "outputId": "5fbf5d0e-affc-4903-cec6-6ea00432f10c"
      },
      "source": [
        "import numpy as np\n",
        "\n",
        "matrix = np.array(range(1,16))\n",
        "matrix.shape = (3, 5)\n",
        "print(matrix)\n",
        "\n",
        "\n",
        "# 1. matrix의 자료형을 출력해보세요.\n",
        "print(type(matrix))\n",
        "\n",
        "# 2. matrix의 차원을 출력해보세요.\n",
        "print(matrix.ndim)\n",
        "\n",
        "# 3. matrix의 모양을 출력해보세요.\n",
        "print(matrix.shape)\n",
        "\n",
        "# 4. matrix의 크기를 출력해보세요.\n",
        "print(matrix.size)\n",
        "\n",
        "# 5. matrix의 dtype(data type)을 출력해보세요.\n",
        "print(matrix.dtype)\n",
        "\n",
        "# 6. matrix의 dtype을 str로 변경하여 출력해보세요.\n",
        "print(matrix.astype(\"str\"))\n",
        "\n",
        "# 7. matrix의 (1,1) 인덱스의 요소를 출력해보세요.\n",
        "print(matrix[1,1])\n",
        "\n",
        "# 8. matrix의 행은 인덱스 0부터 인덱스 1까지, 열은 인덱스 1부터 인덱스 3까지 출력해보세요.\n",
        "print(matrix[0:2, 1:4])"
      ],
      "execution_count": null,
      "outputs": [
        {
          "output_type": "stream",
          "text": [
            "[[ 1  2  3  4  5]\n",
            " [ 6  7  8  9 10]\n",
            " [11 12 13 14 15]]\n",
            "<class 'numpy.ndarray'>\n",
            "2\n",
            "(3, 5)\n",
            "15\n",
            "int64\n",
            "[['1' '2' '3' '4' '5']\n",
            " ['6' '7' '8' '9' '10']\n",
            " ['11' '12' '13' '14' '15']]\n",
            "7\n",
            "[[2 3 4]\n",
            " [7 8 9]]\n"
          ],
          "name": "stdout"
        }
      ]
    },
    {
      "cell_type": "code",
      "metadata": {
        "colab": {
          "base_uri": "https://localhost:8080/"
        },
        "id": "GOC4xiiS6fmK",
        "outputId": "876f129a-007f-4598-aec2-f9018d207f47"
      },
      "source": [
        "# Indexing\n",
        "\n",
        "import numpy as np\n",
        "\n",
        "x = np.arange(1, 13, 1)\n",
        "x.shape = (3, 4)\n",
        "print(x)\n",
        "print(x[2,3])\n",
        "\n",
        "x = np.arange(7)\n",
        "print(x)\n",
        "print(x < 3)\n",
        "print(x > 7)\n",
        "print(x[x<3])\n",
        "print(x[x%2==0])\n",
        "\n",
        "x = np.array([1,7,3,7,5,7])\n",
        "print(x[[1,3,5]])\n",
        "\n",
        "x = np.arange(1, 13, 1)\n",
        "print(x)\n",
        "x = np.arange(1, 13, 1).reshape(3, 4)\n",
        "print(x)\n",
        "print(x[[0, 2]]) # 행으로 찾기"
      ],
      "execution_count": null,
      "outputs": [
        {
          "output_type": "stream",
          "text": [
            "[[ 1  2  3  4]\n",
            " [ 5  6  7  8]\n",
            " [ 9 10 11 12]]\n",
            "12\n",
            "[0 1 2 3 4 5 6]\n",
            "[ True  True  True False False False False]\n",
            "[False False False False False False False]\n",
            "[0 1 2]\n",
            "[0 2 4 6]\n",
            "[7 7 7]\n",
            "[ 1  2  3  4  5  6  7  8  9 10 11 12]\n",
            "[[ 1  2  3  4]\n",
            " [ 5  6  7  8]\n",
            " [ 9 10 11 12]]\n",
            "[[ 1  2  3  4]\n",
            " [ 9 10 11 12]]\n"
          ],
          "name": "stdout"
        }
      ]
    },
    {
      "cell_type": "code",
      "metadata": {
        "colab": {
          "base_uri": "https://localhost:8080/"
        },
        "id": "wm6ZryQq7OLr",
        "outputId": "2753b24c-9510-47e9-9930-b84d4f76313a"
      },
      "source": [
        "# Slicing\n",
        "\n",
        "import numpy as np\n",
        "\n",
        "x = np.arange(7)\n",
        "print(x)\n",
        "print(x[::2])\n",
        "\n",
        "x = np.arange(1, 13, 1)\n",
        "x.shape = (3, 4)\n",
        "print(x)\n",
        "print(x[1:2, :2:3])\n",
        "print(x[1:, :2])"
      ],
      "execution_count": null,
      "outputs": [
        {
          "output_type": "stream",
          "text": [
            "[0 1 2 3 4 5 6]\n",
            "[0 2 4 6]\n",
            "[[ 1  2  3  4]\n",
            " [ 5  6  7  8]\n",
            " [ 9 10 11 12]]\n",
            "[[5]]\n",
            "[[ 5  6]\n",
            " [ 9 10]]\n"
          ],
          "name": "stdout"
        }
      ]
    },
    {
      "cell_type": "code",
      "metadata": {
        "colab": {
          "base_uri": "https://localhost:8080/"
        },
        "id": "odXJvWN47pkB",
        "outputId": "e0456862-5496-4794-ffa7-b8cd23330b62"
      },
      "source": [
        "# Indexing + Slicing\n",
        "\n",
        "import numpy as np\n",
        "\n",
        "x = np.arange(1, 13, 1).reshape(3, 4)\n",
        "print(x)\n",
        "print(x[1:2, 2])\n",
        "print(x[[0,2], 2])\n",
        "print(x[[0,2], :2])"
      ],
      "execution_count": null,
      "outputs": [
        {
          "output_type": "stream",
          "text": [
            "[[ 1  2  3  4]\n",
            " [ 5  6  7  8]\n",
            " [ 9 10 11 12]]\n",
            "[7]\n",
            "[ 3 11]\n",
            "[[ 1  2]\n",
            " [ 9 10]]\n"
          ],
          "name": "stdout"
        }
      ]
    },
    {
      "cell_type": "markdown",
      "metadata": {
        "id": "MV_73bm5EhAF"
      },
      "source": [
        "## Pandas"
      ]
    },
    {
      "cell_type": "code",
      "metadata": {
        "colab": {
          "base_uri": "https://localhost:8080/"
        },
        "id": "zsQmcvxcDIyp",
        "outputId": "1ae1e574-033d-4ebc-f054-b9c32b653710"
      },
      "source": [
        "# Series 만들기1_리스트\n",
        "\n",
        "import pandas as pd\n",
        "\n",
        "data = pd.Series([1,2,3,4])\n",
        "print(data)\n",
        "print(type(data))\n",
        "print(data.values)\n",
        "print(type(data.values))\n",
        "\n",
        "data = pd.Series([1,2,3,4], dtype=\"float\")\n",
        "print(data.dtype)\n",
        "\n",
        "data = pd.Series([1,2,3,4], index=[\"a\", \"b\", \"c\", \"d\"])\n",
        "print(data)\n",
        "data[\"c\"] = 5\n",
        "print(data)"
      ],
      "execution_count": null,
      "outputs": [
        {
          "output_type": "stream",
          "text": [
            "0    1\n",
            "1    2\n",
            "2    3\n",
            "3    4\n",
            "dtype: int64\n",
            "<class 'pandas.core.series.Series'>\n",
            "[1 2 3 4]\n",
            "<class 'numpy.ndarray'>\n",
            "float64\n",
            "a    1\n",
            "b    2\n",
            "c    3\n",
            "d    4\n",
            "dtype: int64\n",
            "a    1\n",
            "b    2\n",
            "c    5\n",
            "d    4\n",
            "dtype: int64\n"
          ],
          "name": "stdout"
        }
      ]
    },
    {
      "cell_type": "code",
      "metadata": {
        "colab": {
          "base_uri": "https://localhost:8080/"
        },
        "id": "pOD76APFE_Ea",
        "outputId": "d6d74b47-a057-48ac-f102-8f11e2497d30"
      },
      "source": [
        "# Series 만들기2_딕셔너리\n",
        "\n",
        "import pandas as pd\n",
        "\n",
        "population_dict = {\n",
        "    \"korea\" : 5180,\n",
        "    \"japan\" : 12718,\n",
        "    \"china\" : 141500,\n",
        "    \"usa\" : 32676\n",
        "}\n",
        "\n",
        "population = pd.Series(population_dict)\n",
        "print(population)"
      ],
      "execution_count": null,
      "outputs": [
        {
          "output_type": "stream",
          "text": [
            "korea      5180\n",
            "japan     12718\n",
            "china    141500\n",
            "usa       32676\n",
            "dtype: int64\n"
          ],
          "name": "stdout"
        }
      ]
    },
    {
      "cell_type": "code",
      "metadata": {
        "colab": {
          "base_uri": "https://localhost:8080/"
        },
        "id": "dVSm1FcXHC7p",
        "outputId": "bb93ffd1-917b-434f-f15b-8616d8b3d0a2"
      },
      "source": [
        "# DataFrame 만들기1_Series 합치기\n",
        "\n",
        "import pandas as pd\n",
        "\n",
        "population_dict = {\n",
        "    \"korea\" : 5180,\n",
        "    \"japan\" : 12718,\n",
        "    \"china\" : 141500,\n",
        "    \"usa\" : 32676\n",
        "}\n",
        "\n",
        "gdp_dict = {\n",
        "    \"korea\" : 169320000,\n",
        "    \"japan\" : 51670000,\n",
        "    \"china\" : 1409250000,\n",
        "    \"usa\" : 2041280000\n",
        "}\n",
        "\n",
        "population_series = pd.Series(population_dict)\n",
        "gdp_series = pd.Series(gdp_dict)\n",
        "\n",
        "country = pd.DataFrame({\n",
        "    \"gdp\" : gdp_series,\n",
        "    \"population\" : population_series\n",
        "})\n",
        "\n",
        "print(country)"
      ],
      "execution_count": null,
      "outputs": [
        {
          "output_type": "stream",
          "text": [
            "              gdp  population\n",
            "korea   169320000        5180\n",
            "japan    51670000       12718\n",
            "china  1409250000      141500\n",
            "usa    2041280000       32676\n"
          ],
          "name": "stdout"
        }
      ]
    },
    {
      "cell_type": "code",
      "metadata": {
        "colab": {
          "base_uri": "https://localhost:8080/"
        },
        "id": "4oZo3wxuJH6J",
        "outputId": "6cf5a320-fa4a-4b49-ad6d-89d35ab18ef6"
      },
      "source": [
        "# DataFrame 만들기2_딕셔너리\n",
        "\n",
        "import pandas as pd\n",
        "\n",
        "data = {\n",
        "    \"country\" : [\"korea\", \"japan\", \"chna\", \"china\"],\n",
        "    \"gdp\" : [1409, 5167, 1693, 20412],\n",
        "    \"population\" : [14150, 1217, 5180, 32676]\n",
        "}\n",
        "\n",
        "country = pd.DataFrame(data)\n",
        "country = country.set_index(\"country\")\n",
        "\n",
        "print(country)"
      ],
      "execution_count": null,
      "outputs": [
        {
          "output_type": "stream",
          "text": [
            "           gdp  population\n",
            "country                   \n",
            "korea     1409       14150\n",
            "japan     5167        1217\n",
            "chna      1693        5180\n",
            "china    20412       32676\n"
          ],
          "name": "stdout"
        }
      ]
    },
    {
      "cell_type": "code",
      "metadata": {
        "colab": {
          "base_uri": "https://localhost:8080/"
        },
        "id": "wh7RT3SqJqap",
        "outputId": "1d5d624c-2e2a-44a2-bdd4-3c181e0e80e2"
      },
      "source": [
        "country.index.name = \"Country\"\n",
        "country.columns.name = \"Info\"\n",
        "\n",
        "print(country.index)\n",
        "print(country.columns)"
      ],
      "execution_count": null,
      "outputs": [
        {
          "output_type": "stream",
          "text": [
            "Index(['korea', 'japan', 'chna', 'china'], dtype='object', name='Country')\n",
            "Index(['gdp', 'population'], dtype='object', name='Info')\n"
          ],
          "name": "stdout"
        }
      ]
    },
    {
      "cell_type": "code",
      "metadata": {
        "colab": {
          "base_uri": "https://localhost:8080/",
          "height": 111
        },
        "id": "yo4RoXehuhdM",
        "outputId": "0f41b643-163d-4de9-c25b-da345433477d"
      },
      "source": [
        "import pandas as pd\n",
        "import numpy as np\n",
        "\n",
        "df = pd.DataFrame(columns = [\"이름\", \"나이\", \"주소\"]) #df 뚜껑 생성\n",
        "df.loc[0] = [\"길동\", \"26\", \"서울\"] #데이터 추가1_리스트\n",
        "df.loc[1] = {\"이름\":\"철수\", \"나이\":25, \"주소\":\"제주\"} #데이터 추가2_딕셔너리\n",
        "df.loc[1, \"이름\"] = \"영희\" #데이터 수정\n",
        "df[\"전화번호\"] = np.nan #컬럼 추가\n",
        "df.loc[0, \"전화번호\"] = \"01012341234\"\n",
        "df.drop(\"전화번호\", axis=1, inplace=True) #컬럼 삭제\n",
        "df"
      ],
      "execution_count": null,
      "outputs": [
        {
          "output_type": "execute_result",
          "data": {
            "text/html": [
              "<div>\n",
              "<style scoped>\n",
              "    .dataframe tbody tr th:only-of-type {\n",
              "        vertical-align: middle;\n",
              "    }\n",
              "\n",
              "    .dataframe tbody tr th {\n",
              "        vertical-align: top;\n",
              "    }\n",
              "\n",
              "    .dataframe thead th {\n",
              "        text-align: right;\n",
              "    }\n",
              "</style>\n",
              "<table border=\"1\" class=\"dataframe\">\n",
              "  <thead>\n",
              "    <tr style=\"text-align: right;\">\n",
              "      <th></th>\n",
              "      <th>이름</th>\n",
              "      <th>나이</th>\n",
              "      <th>주소</th>\n",
              "    </tr>\n",
              "  </thead>\n",
              "  <tbody>\n",
              "    <tr>\n",
              "      <th>0</th>\n",
              "      <td>길동</td>\n",
              "      <td>26</td>\n",
              "      <td>서울</td>\n",
              "    </tr>\n",
              "    <tr>\n",
              "      <th>1</th>\n",
              "      <td>영희</td>\n",
              "      <td>25</td>\n",
              "      <td>제주</td>\n",
              "    </tr>\n",
              "  </tbody>\n",
              "</table>\n",
              "</div>"
            ],
            "text/plain": [
              "   이름  나이  주소\n",
              "0  길동  26  서울\n",
              "1  영희  25  제주"
            ]
          },
          "metadata": {
            "tags": []
          },
          "execution_count": 32
        }
      ]
    },
    {
      "cell_type": "code",
      "metadata": {
        "id": "IElAqdl3Leuh"
      },
      "source": [
        "country.to_csv(\"./country.csv\")\n",
        "country.to_excel(\"./country.xlsx\")\n",
        "\n",
        "country = pd.read_csv(\"./country.csv\")\n",
        "country = pd.read_excel(\"./country.xlsx\")"
      ],
      "execution_count": null,
      "outputs": []
    },
    {
      "cell_type": "code",
      "metadata": {
        "colab": {
          "base_uri": "https://localhost:8080/",
          "height": 204
        },
        "id": "W4Y827Mzq3b-",
        "outputId": "ea4f50a8-283d-40b6-a4c5-4c4565ec2fa5"
      },
      "source": [
        "# .loc\n",
        "\n",
        "import pandas as pd\n",
        "\n",
        "data = {\n",
        "    \"country\" : [\"korea\", \"japan\", \"chna\", \"china\"],\n",
        "    \"gdp\" : [1409, 5167, 1693, 20412],\n",
        "    \"population\" : [14150, 1217, 5180, 32676]\n",
        "}\n",
        "\n",
        "country = pd.DataFrame(data)\n",
        "country = country.set_index(\"country\")\n",
        "\n",
        "country.loc[\"china\"]\n",
        "country.loc[\"korea\":\"japan\", :\"population\"] #population 포함\n",
        "\n",
        "country.iloc[0]\n",
        "country.iloc[0:2, :1] #1 제외\n",
        "\n",
        "country[\"gdp\"] #시리즈\n",
        "country[[\"gdp\"]] #데이터프레임"
      ],
      "execution_count": null,
      "outputs": [
        {
          "output_type": "execute_result",
          "data": {
            "text/html": [
              "<div>\n",
              "<style scoped>\n",
              "    .dataframe tbody tr th:only-of-type {\n",
              "        vertical-align: middle;\n",
              "    }\n",
              "\n",
              "    .dataframe tbody tr th {\n",
              "        vertical-align: top;\n",
              "    }\n",
              "\n",
              "    .dataframe thead th {\n",
              "        text-align: right;\n",
              "    }\n",
              "</style>\n",
              "<table border=\"1\" class=\"dataframe\">\n",
              "  <thead>\n",
              "    <tr style=\"text-align: right;\">\n",
              "      <th></th>\n",
              "      <th>gdp</th>\n",
              "    </tr>\n",
              "    <tr>\n",
              "      <th>country</th>\n",
              "      <th></th>\n",
              "    </tr>\n",
              "  </thead>\n",
              "  <tbody>\n",
              "    <tr>\n",
              "      <th>korea</th>\n",
              "      <td>1409</td>\n",
              "    </tr>\n",
              "    <tr>\n",
              "      <th>japan</th>\n",
              "      <td>5167</td>\n",
              "    </tr>\n",
              "    <tr>\n",
              "      <th>chna</th>\n",
              "      <td>1693</td>\n",
              "    </tr>\n",
              "    <tr>\n",
              "      <th>china</th>\n",
              "      <td>20412</td>\n",
              "    </tr>\n",
              "  </tbody>\n",
              "</table>\n",
              "</div>"
            ],
            "text/plain": [
              "           gdp\n",
              "country       \n",
              "korea     1409\n",
              "japan     5167\n",
              "chna      1693\n",
              "china    20412"
            ]
          },
          "metadata": {
            "tags": []
          },
          "execution_count": 18
        }
      ]
    },
    {
      "cell_type": "code",
      "metadata": {
        "colab": {
          "base_uri": "https://localhost:8080/",
          "height": 111
        },
        "id": "kQPAggB1sLAA",
        "outputId": "d89e4aa9-8ee6-412d-b2bc-d2e3a7d59f0f"
      },
      "source": [
        "# Masking 연산\n",
        "country[country[\"gdp\"]<1500]\n",
        "print(df[(df[\"A\"]<0.5) & (df[\"B\"]>0.3)])\n",
        "\n",
        "# query 함수\n",
        "country.query(\"gdp<1500\")\n",
        "print(df.query(\"A<0.5 and B>0.3\"))"
      ],
      "execution_count": null,
      "outputs": [
        {
          "output_type": "execute_result",
          "data": {
            "text/html": [
              "<div>\n",
              "<style scoped>\n",
              "    .dataframe tbody tr th:only-of-type {\n",
              "        vertical-align: middle;\n",
              "    }\n",
              "\n",
              "    .dataframe tbody tr th {\n",
              "        vertical-align: top;\n",
              "    }\n",
              "\n",
              "    .dataframe thead th {\n",
              "        text-align: right;\n",
              "    }\n",
              "</style>\n",
              "<table border=\"1\" class=\"dataframe\">\n",
              "  <thead>\n",
              "    <tr style=\"text-align: right;\">\n",
              "      <th></th>\n",
              "      <th>gdp</th>\n",
              "      <th>population</th>\n",
              "    </tr>\n",
              "    <tr>\n",
              "      <th>country</th>\n",
              "      <th></th>\n",
              "      <th></th>\n",
              "    </tr>\n",
              "  </thead>\n",
              "  <tbody>\n",
              "    <tr>\n",
              "      <th>korea</th>\n",
              "      <td>1409</td>\n",
              "      <td>14150</td>\n",
              "    </tr>\n",
              "  </tbody>\n",
              "</table>\n",
              "</div>"
            ],
            "text/plain": [
              "          gdp  population\n",
              "country                  \n",
              "korea    1409       14150"
            ]
          },
          "metadata": {
            "tags": []
          },
          "execution_count": 19
        }
      ]
    },
    {
      "cell_type": "code",
      "metadata": {
        "colab": {
          "base_uri": "https://localhost:8080/",
          "height": 204
        },
        "id": "hRGkToWotUWS",
        "outputId": "ea19e29a-f9e0-4a43-912d-f3abb6278018"
      },
      "source": [
        "country[\"gdp_per_ppl\"] = country[\"gdp\"] / country[\"population\"]\n",
        "country"
      ],
      "execution_count": null,
      "outputs": [
        {
          "output_type": "execute_result",
          "data": {
            "text/html": [
              "<div>\n",
              "<style scoped>\n",
              "    .dataframe tbody tr th:only-of-type {\n",
              "        vertical-align: middle;\n",
              "    }\n",
              "\n",
              "    .dataframe tbody tr th {\n",
              "        vertical-align: top;\n",
              "    }\n",
              "\n",
              "    .dataframe thead th {\n",
              "        text-align: right;\n",
              "    }\n",
              "</style>\n",
              "<table border=\"1\" class=\"dataframe\">\n",
              "  <thead>\n",
              "    <tr style=\"text-align: right;\">\n",
              "      <th></th>\n",
              "      <th>gdp</th>\n",
              "      <th>population</th>\n",
              "      <th>gdp_per_ppl</th>\n",
              "    </tr>\n",
              "    <tr>\n",
              "      <th>country</th>\n",
              "      <th></th>\n",
              "      <th></th>\n",
              "      <th></th>\n",
              "    </tr>\n",
              "  </thead>\n",
              "  <tbody>\n",
              "    <tr>\n",
              "      <th>korea</th>\n",
              "      <td>1409</td>\n",
              "      <td>14150</td>\n",
              "      <td>0.099576</td>\n",
              "    </tr>\n",
              "    <tr>\n",
              "      <th>japan</th>\n",
              "      <td>5167</td>\n",
              "      <td>1217</td>\n",
              "      <td>4.245686</td>\n",
              "    </tr>\n",
              "    <tr>\n",
              "      <th>chna</th>\n",
              "      <td>1693</td>\n",
              "      <td>5180</td>\n",
              "      <td>0.326834</td>\n",
              "    </tr>\n",
              "    <tr>\n",
              "      <th>china</th>\n",
              "      <td>20412</td>\n",
              "      <td>32676</td>\n",
              "      <td>0.624679</td>\n",
              "    </tr>\n",
              "  </tbody>\n",
              "</table>\n",
              "</div>"
            ],
            "text/plain": [
              "           gdp  population  gdp_per_ppl\n",
              "country                                \n",
              "korea     1409       14150     0.099576\n",
              "japan     5167        1217     4.245686\n",
              "chna      1693        5180     0.326834\n",
              "china    20412       32676     0.624679"
            ]
          },
          "metadata": {
            "tags": []
          },
          "execution_count": 20
        }
      ]
    },
    {
      "cell_type": "code",
      "metadata": {
        "id": "a-4t9re7uKiq"
      },
      "source": [
        "# 정렬\n",
        "\n",
        "df.sort_index(axis=0) #행\"인덱스\" 오름차순\n",
        "df.sort_values(\"col1\", ascending=False) #컬럼\"데이터\" 내림차순\n",
        "df.sort_values([\"col2\", \"col1\"], ascending=[True, False]) #col2컬럼 오름차순 후 카테고리별 col1컬럼 내림차순"
      ],
      "execution_count": null,
      "outputs": []
    },
    {
      "cell_type": "code",
      "metadata": {
        "colab": {
          "base_uri": "https://localhost:8080/"
        },
        "id": "6GDLYIfJ0zAC",
        "outputId": "965a919a-c031-42b3-d57f-61fdb886039b"
      },
      "source": [
        "import numpy as np\n",
        "import pandas as pd\n",
        "\n",
        "data = {\n",
        "    \"korean\" : [50, 60, 70],\n",
        "    \"math\" : [10, np.nan, 40]\n",
        "}\n",
        "df = pd.DataFrame(data, index=[\"a\",\"b\",\"c\"])\n",
        "\n",
        "df.count(axis=1) #행기준 #NaN제외\n",
        "df.count(axis=0) #열기준 #NaN제외\n",
        "df.max() #열기준(디폴트) #NaN제외\n",
        "df.min() #열기준(디폴트) #NaN제외\n",
        "\n",
        "df.sum() #열기준(디폴트) #NaN제외\n",
        "df.mean() #열기준(디폴트) #NaN제외\n",
        "df.sum(axis=1, skipna=False)\n",
        "df.mean(skipna=False)"
      ],
      "execution_count": null,
      "outputs": [
        {
          "output_type": "execute_result",
          "data": {
            "text/plain": [
              "korean    60.0\n",
              "math       NaN\n",
              "dtype: float64"
            ]
          },
          "metadata": {
            "tags": []
          },
          "execution_count": 7
        }
      ]
    },
    {
      "cell_type": "code",
      "metadata": {
        "id": "NHXx47k70ysG",
        "colab": {
          "base_uri": "https://localhost:8080/",
          "height": 142
        },
        "outputId": "32cc2059-abbb-4ade-ce82-9917d0878f61"
      },
      "source": [
        "# fillna\n",
        "\n",
        "avg = df[\"math\"].mean()\n",
        "df[\"math\"] = df[\"math\"].fillna(avg)\n",
        "df"
      ],
      "execution_count": null,
      "outputs": [
        {
          "output_type": "execute_result",
          "data": {
            "text/html": [
              "<div>\n",
              "<style scoped>\n",
              "    .dataframe tbody tr th:only-of-type {\n",
              "        vertical-align: middle;\n",
              "    }\n",
              "\n",
              "    .dataframe tbody tr th {\n",
              "        vertical-align: top;\n",
              "    }\n",
              "\n",
              "    .dataframe thead th {\n",
              "        text-align: right;\n",
              "    }\n",
              "</style>\n",
              "<table border=\"1\" class=\"dataframe\">\n",
              "  <thead>\n",
              "    <tr style=\"text-align: right;\">\n",
              "      <th></th>\n",
              "      <th>korean</th>\n",
              "      <th>math</th>\n",
              "    </tr>\n",
              "  </thead>\n",
              "  <tbody>\n",
              "    <tr>\n",
              "      <th>a</th>\n",
              "      <td>50</td>\n",
              "      <td>10.0</td>\n",
              "    </tr>\n",
              "    <tr>\n",
              "      <th>b</th>\n",
              "      <td>60</td>\n",
              "      <td>25.0</td>\n",
              "    </tr>\n",
              "    <tr>\n",
              "      <th>c</th>\n",
              "      <td>70</td>\n",
              "      <td>40.0</td>\n",
              "    </tr>\n",
              "  </tbody>\n",
              "</table>\n",
              "</div>"
            ],
            "text/plain": [
              "   korean  math\n",
              "a      50  10.0\n",
              "b      60  25.0\n",
              "c      70  40.0"
            ]
          },
          "metadata": {
            "tags": []
          },
          "execution_count": 8
        }
      ]
    },
    {
      "cell_type": "code",
      "metadata": {
        "colab": {
          "base_uri": "https://localhost:8080/",
          "height": 266
        },
        "id": "ykBZ0YVKqiXG",
        "outputId": "e1e1e833-29eb-4a72-db03-07d7401f57e9"
      },
      "source": [
        "# group by\n",
        "\n",
        "import numpy as np\n",
        "import pandas as pd\n",
        "\n",
        "df = pd.DataFrame({\n",
        "    \"data1\" : range(6),\n",
        "    \"data2\" : [4,4,6,0,6,1],\n",
        "    \"key\" : [\"A\",\"B\",\"C\",\"A\",\"B\",\"C\"]\n",
        "})\n",
        "\n",
        "df.groupby(\"key\").sum()\n",
        "df.groupby([\"key\",\"data1\"]).sum()"
      ],
      "execution_count": null,
      "outputs": [
        {
          "output_type": "execute_result",
          "data": {
            "text/html": [
              "<div>\n",
              "<style scoped>\n",
              "    .dataframe tbody tr th:only-of-type {\n",
              "        vertical-align: middle;\n",
              "    }\n",
              "\n",
              "    .dataframe tbody tr th {\n",
              "        vertical-align: top;\n",
              "    }\n",
              "\n",
              "    .dataframe thead th {\n",
              "        text-align: right;\n",
              "    }\n",
              "</style>\n",
              "<table border=\"1\" class=\"dataframe\">\n",
              "  <thead>\n",
              "    <tr style=\"text-align: right;\">\n",
              "      <th></th>\n",
              "      <th></th>\n",
              "      <th>data2</th>\n",
              "    </tr>\n",
              "    <tr>\n",
              "      <th>key</th>\n",
              "      <th>data1</th>\n",
              "      <th></th>\n",
              "    </tr>\n",
              "  </thead>\n",
              "  <tbody>\n",
              "    <tr>\n",
              "      <th rowspan=\"2\" valign=\"top\">A</th>\n",
              "      <th>0</th>\n",
              "      <td>4</td>\n",
              "    </tr>\n",
              "    <tr>\n",
              "      <th>3</th>\n",
              "      <td>0</td>\n",
              "    </tr>\n",
              "    <tr>\n",
              "      <th rowspan=\"2\" valign=\"top\">B</th>\n",
              "      <th>1</th>\n",
              "      <td>4</td>\n",
              "    </tr>\n",
              "    <tr>\n",
              "      <th>4</th>\n",
              "      <td>6</td>\n",
              "    </tr>\n",
              "    <tr>\n",
              "      <th rowspan=\"2\" valign=\"top\">C</th>\n",
              "      <th>2</th>\n",
              "      <td>6</td>\n",
              "    </tr>\n",
              "    <tr>\n",
              "      <th>5</th>\n",
              "      <td>1</td>\n",
              "    </tr>\n",
              "  </tbody>\n",
              "</table>\n",
              "</div>"
            ],
            "text/plain": [
              "           data2\n",
              "key data1       \n",
              "A   0          4\n",
              "    3          0\n",
              "B   1          4\n",
              "    4          6\n",
              "C   2          6\n",
              "    5          1"
            ]
          },
          "metadata": {
            "tags": []
          },
          "execution_count": 14
        }
      ]
    },
    {
      "cell_type": "code",
      "metadata": {
        "colab": {
          "base_uri": "https://localhost:8080/",
          "height": 204
        },
        "id": "9ntFZ0zkscBw",
        "outputId": "4f334bb9-b312-44c3-86b0-fbdd5094bc4e"
      },
      "source": [
        "# aggregate\n",
        "\n",
        "df.groupby(\"key\").aggregate([min, np.median, max])\n",
        "df.groupby(\"key\").aggregate({\"data1\":[min,max], \"data2\":sum})"
      ],
      "execution_count": null,
      "outputs": [
        {
          "output_type": "execute_result",
          "data": {
            "text/html": [
              "<div>\n",
              "<style scoped>\n",
              "    .dataframe tbody tr th:only-of-type {\n",
              "        vertical-align: middle;\n",
              "    }\n",
              "\n",
              "    .dataframe tbody tr th {\n",
              "        vertical-align: top;\n",
              "    }\n",
              "\n",
              "    .dataframe thead tr th {\n",
              "        text-align: left;\n",
              "    }\n",
              "\n",
              "    .dataframe thead tr:last-of-type th {\n",
              "        text-align: right;\n",
              "    }\n",
              "</style>\n",
              "<table border=\"1\" class=\"dataframe\">\n",
              "  <thead>\n",
              "    <tr>\n",
              "      <th></th>\n",
              "      <th colspan=\"2\" halign=\"left\">data1</th>\n",
              "      <th>data2</th>\n",
              "    </tr>\n",
              "    <tr>\n",
              "      <th></th>\n",
              "      <th>min</th>\n",
              "      <th>max</th>\n",
              "      <th>sum</th>\n",
              "    </tr>\n",
              "    <tr>\n",
              "      <th>key</th>\n",
              "      <th></th>\n",
              "      <th></th>\n",
              "      <th></th>\n",
              "    </tr>\n",
              "  </thead>\n",
              "  <tbody>\n",
              "    <tr>\n",
              "      <th>A</th>\n",
              "      <td>0</td>\n",
              "      <td>3</td>\n",
              "      <td>4</td>\n",
              "    </tr>\n",
              "    <tr>\n",
              "      <th>B</th>\n",
              "      <td>1</td>\n",
              "      <td>4</td>\n",
              "      <td>10</td>\n",
              "    </tr>\n",
              "    <tr>\n",
              "      <th>C</th>\n",
              "      <td>2</td>\n",
              "      <td>5</td>\n",
              "      <td>7</td>\n",
              "    </tr>\n",
              "  </tbody>\n",
              "</table>\n",
              "</div>"
            ],
            "text/plain": [
              "    data1     data2\n",
              "      min max   sum\n",
              "key                \n",
              "A       0   3     4\n",
              "B       1   4    10\n",
              "C       2   5     7"
            ]
          },
          "metadata": {
            "tags": []
          },
          "execution_count": 28
        }
      ]
    },
    {
      "cell_type": "code",
      "metadata": {
        "colab": {
          "base_uri": "https://localhost:8080/",
          "height": 173
        },
        "id": "u7_Z3Kb0snfo",
        "outputId": "4fc1d531-9457-4c86-88bf-968fb5daf115"
      },
      "source": [
        "# filter\n",
        "\n",
        "def filter_by_mean(x):\n",
        "  return x[\"data2\"].mean() > 3\n",
        "\n",
        "df.groupby(\"key\").filter(filter_by_mean) #True만 반환"
      ],
      "execution_count": null,
      "outputs": [
        {
          "output_type": "execute_result",
          "data": {
            "text/html": [
              "<div>\n",
              "<style scoped>\n",
              "    .dataframe tbody tr th:only-of-type {\n",
              "        vertical-align: middle;\n",
              "    }\n",
              "\n",
              "    .dataframe tbody tr th {\n",
              "        vertical-align: top;\n",
              "    }\n",
              "\n",
              "    .dataframe thead th {\n",
              "        text-align: right;\n",
              "    }\n",
              "</style>\n",
              "<table border=\"1\" class=\"dataframe\">\n",
              "  <thead>\n",
              "    <tr style=\"text-align: right;\">\n",
              "      <th></th>\n",
              "      <th>data1</th>\n",
              "      <th>data2</th>\n",
              "      <th>key</th>\n",
              "    </tr>\n",
              "  </thead>\n",
              "  <tbody>\n",
              "    <tr>\n",
              "      <th>1</th>\n",
              "      <td>1</td>\n",
              "      <td>4</td>\n",
              "      <td>B</td>\n",
              "    </tr>\n",
              "    <tr>\n",
              "      <th>2</th>\n",
              "      <td>2</td>\n",
              "      <td>6</td>\n",
              "      <td>C</td>\n",
              "    </tr>\n",
              "    <tr>\n",
              "      <th>4</th>\n",
              "      <td>4</td>\n",
              "      <td>6</td>\n",
              "      <td>B</td>\n",
              "    </tr>\n",
              "    <tr>\n",
              "      <th>5</th>\n",
              "      <td>5</td>\n",
              "      <td>1</td>\n",
              "      <td>C</td>\n",
              "    </tr>\n",
              "  </tbody>\n",
              "</table>\n",
              "</div>"
            ],
            "text/plain": [
              "   data1  data2 key\n",
              "1      1      4   B\n",
              "2      2      6   C\n",
              "4      4      6   B\n",
              "5      5      1   C"
            ]
          },
          "metadata": {
            "tags": []
          },
          "execution_count": 16
        }
      ]
    },
    {
      "cell_type": "code",
      "metadata": {
        "colab": {
          "base_uri": "https://localhost:8080/",
          "height": 173
        },
        "id": "S5U-V92gsnN6",
        "outputId": "bca210b8-00b6-410e-e1f1-fd0152c24944"
      },
      "source": [
        "# apply lambda : 묶인 그룹에 함수 적용\n",
        "\n",
        "df.groupby(\"key\").apply(lambda x: x.max() - x.min())"
      ],
      "execution_count": null,
      "outputs": [
        {
          "output_type": "execute_result",
          "data": {
            "text/html": [
              "<div>\n",
              "<style scoped>\n",
              "    .dataframe tbody tr th:only-of-type {\n",
              "        vertical-align: middle;\n",
              "    }\n",
              "\n",
              "    .dataframe tbody tr th {\n",
              "        vertical-align: top;\n",
              "    }\n",
              "\n",
              "    .dataframe thead th {\n",
              "        text-align: right;\n",
              "    }\n",
              "</style>\n",
              "<table border=\"1\" class=\"dataframe\">\n",
              "  <thead>\n",
              "    <tr style=\"text-align: right;\">\n",
              "      <th></th>\n",
              "      <th>data1</th>\n",
              "      <th>data2</th>\n",
              "    </tr>\n",
              "    <tr>\n",
              "      <th>key</th>\n",
              "      <th></th>\n",
              "      <th></th>\n",
              "    </tr>\n",
              "  </thead>\n",
              "  <tbody>\n",
              "    <tr>\n",
              "      <th>A</th>\n",
              "      <td>3</td>\n",
              "      <td>4</td>\n",
              "    </tr>\n",
              "    <tr>\n",
              "      <th>B</th>\n",
              "      <td>3</td>\n",
              "      <td>2</td>\n",
              "    </tr>\n",
              "    <tr>\n",
              "      <th>C</th>\n",
              "      <td>3</td>\n",
              "      <td>5</td>\n",
              "    </tr>\n",
              "  </tbody>\n",
              "</table>\n",
              "</div>"
            ],
            "text/plain": [
              "     data1  data2\n",
              "key              \n",
              "A        3      4\n",
              "B        3      2\n",
              "C        3      5"
            ]
          },
          "metadata": {
            "tags": []
          },
          "execution_count": 20
        }
      ]
    },
    {
      "cell_type": "code",
      "metadata": {
        "colab": {
          "base_uri": "https://localhost:8080/"
        },
        "id": "S7945H_QsnDv",
        "outputId": "160e5217-d18d-401d-b099-1dca281579f1"
      },
      "source": [
        "# get_group\n",
        "\n",
        "df.groupby(\"key\").get_group(\"A\")\n",
        "len(df.groupby(\"key\").get_group(\"A\"))"
      ],
      "execution_count": null,
      "outputs": [
        {
          "output_type": "execute_result",
          "data": {
            "text/plain": [
              "2"
            ]
          },
          "metadata": {
            "tags": []
          },
          "execution_count": 23
        }
      ]
    },
    {
      "cell_type": "markdown",
      "metadata": {
        "id": "tjI20peh6Y0F"
      },
      "source": [
        "## Matplotlib"
      ]
    },
    {
      "cell_type": "code",
      "metadata": {
        "id": "eelYqOQrySKH",
        "colab": {
          "base_uri": "https://localhost:8080/",
          "height": 265
        },
        "outputId": "d4ea2bf4-e08c-4e2a-ac5c-1a2cfdc995e2"
      },
      "source": [
        "# Line plot\n",
        "\n",
        "from matplotlib import pyplot as plt\n",
        "import numpy as np\n",
        "\n",
        "fig, ax = plt.subplots() #1개\n",
        "x = np.arange(15)\n",
        "y = x ** 2\n",
        "ax.plot(\n",
        "    x, y,\n",
        "    linestyle=\":\",\n",
        "    marker=\"*\",\n",
        "    color=\"#524FA1\"\n",
        ");\n",
        "\n",
        "# linestyle : -, -., --, :\n",
        "# marker : o, v, s, *, ."
      ],
      "execution_count": 13,
      "outputs": [
        {
          "output_type": "display_data",
          "data": {
            "image/png": "[encoded data removed]",
            "text/plain": [
              "<Figure size 432x288 with 1 Axes>"
            ]
          },
          "metadata": {
            "tags": [],
            "needs_background": "light"
          }
        }
      ]
    },
    {
      "cell_type": "code",
      "metadata": {
        "colab": {
          "base_uri": "https://localhost:8080/",
          "height": 287
        },
        "id": "EEbQvw_ecvvT",
        "outputId": "4491d1a2-3f14-4994-e50d-811a6ce1bfc8"
      },
      "source": [
        "from matplotlib import pyplot as plt\n",
        "import numpy as np\n",
        "\n",
        "x = np.linspace(0, 10, 1000)\n",
        "fig, ax = plt.subplots()\n",
        "ax.plot(x, np.sin(x))\n",
        "ax.set_xlim(-2, 12)\n",
        "ax.set_ylim(-1.5, 1.5)"
      ],
      "execution_count": 17,
      "outputs": [
        {
          "output_type": "execute_result",
          "data": {
            "text/plain": [
              "(-1.5, 1.5)"
            ]
          },
          "metadata": {
            "tags": []
          },
          "execution_count": 17
        },
        {
          "output_type": "display_data",
          "data": {
            "image/png": "[encoded data removed]",
            "text/plain": [
              "<Figure size 432x288 with 1 Axes>"
            ]
          },
          "metadata": {
            "tags": [],
            "needs_background": "light"
          }
        }
      ]
    },
    {
      "cell_type": "code",
      "metadata": {
        "colab": {
          "base_uri": "https://localhost:8080/",
          "height": 297
        },
        "id": "9dPZX82VegLM",
        "outputId": "b2f9fb6c-8b86-44cb-ffdf-7c5274678bd4"
      },
      "source": [
        "from matplotlib import pyplot as plt\n",
        "import numpy as np\n",
        "\n",
        "x = np.arange(10)\n",
        "fig, ax = plt.subplots()\n",
        "ax.plot(x, x, label=\"y=x\")\n",
        "ax.plot(x, x**2, label=\"y=x^2\")\n",
        "ax.set_xlabel(\"x\")\n",
        "ax.set_ylabel(\"y\")\n",
        "ax.legend(loc=\"upper right\",\n",
        "          shadow=True,\n",
        "          fancybox=True,\n",
        "          borderpad=2)"
      ],
      "execution_count": 19,
      "outputs": [
        {
          "output_type": "execute_result",
          "data": {
            "text/plain": [
              "<matplotlib.legend.Legend at 0x7ff9cdbee3d0>"
            ]
          },
          "metadata": {
            "tags": []
          },
          "execution_count": 19
        },
        {
          "output_type": "display_data",
          "data": {
            "image/png": "[encoded data removed]",
            "text/plain": [
              "<Figure size 432x288 with 1 Axes>"
            ]
          },
          "metadata": {
            "tags": [],
            "needs_background": "light"
          }
        }
      ]
    },
    {
      "cell_type": "code",
      "metadata": {
        "colab": {
          "base_uri": "https://localhost:8080/",
          "height": 283
        },
        "id": "YlAs6FcKfSFU",
        "outputId": "78c5c77f-1eb1-4957-e406-333eb8c33ca6"
      },
      "source": [
        "# Bar plot\n",
        "\n",
        "from matplotlib import pyplot as plt\n",
        "import numpy as np\n",
        "\n",
        "x = np.arange(10)\n",
        "fig, ax = plt.subplots(figsize=(12, 4))\n",
        "ax.bar(x, x*2)"
      ],
      "execution_count": 24,
      "outputs": [
        {
          "output_type": "execute_result",
          "data": {
            "text/plain": [
              "<BarContainer object of 10 artists>"
            ]
          },
          "metadata": {
            "tags": []
          },
          "execution_count": 24
        },
        {
          "output_type": "display_data",
          "data": {
            "image/png": "[encoded data removed]",
            "text/plain": [
              "<Figure size 864x288 with 1 Axes>"
            ]
          },
          "metadata": {
            "tags": [],
            "needs_background": "light"
          }
        }
      ]
    },
    {
      "cell_type": "code",
      "metadata": {
        "colab": {
          "base_uri": "https://localhost:8080/",
          "height": 283
        },
        "id": "b1L-e0OUgugE",
        "outputId": "e91f7e10-017c-4725-b234-853abbb7575b"
      },
      "source": [
        "from matplotlib import pyplot as plt\n",
        "import numpy as np\n",
        "\n",
        "x = np.random.rand(3)\n",
        "y = np.random.rand(3)\n",
        "z = np.random.rand(3)\n",
        "data = [x, y, z]\n",
        "\n",
        "fig, ax = plt.subplots()\n",
        "x_ax = np.arange(3)\n",
        "for i in x_ax:\n",
        "  ax.bar(\n",
        "      x_ax, data[i], \n",
        "      bottom=np.sum(data[:i], axis=0)\n",
        "      ) #세로로 누적\n",
        "\n",
        "ax.set_xticks(x_ax)\n",
        "ax.set_xticklabels([\"A\", \"B\", \"C\"])"
      ],
      "execution_count": 63,
      "outputs": [
        {
          "output_type": "execute_result",
          "data": {
            "text/plain": [
              "[Text(0, 0, 'A'), Text(0, 0, 'B'), Text(0, 0, 'C')]"
            ]
          },
          "metadata": {
            "tags": []
          },
          "execution_count": 63
        },
        {
          "output_type": "display_data",
          "data": {
            "image/png": "[encoded data removed]",
            "text/plain": [
              "<Figure size 432x288 with 1 Axes>"
            ]
          },
          "metadata": {
            "tags": [],
            "needs_background": "light"
          }
        }
      ]
    },
    {
      "cell_type": "code",
      "metadata": {
        "colab": {
          "base_uri": "https://localhost:8080/",
          "height": 553
        },
        "id": "jbwivDUvgx2b",
        "outputId": "a1c72cba-ed67-4f30-823c-ed3f21ddcfe2"
      },
      "source": [
        "# Histogram\n",
        "\n",
        "from matplotlib import pyplot as plt\n",
        "import numpy as np\n",
        "\n",
        "fig, ax = plt.subplots()\n",
        "data = np.random.randn(1000)\n",
        "ax.hist(data, bins=50)"
      ],
      "execution_count": 55,
      "outputs": [
        {
          "output_type": "execute_result",
          "data": {
            "text/plain": [
              "(array([ 1.,  0.,  0.,  0.,  2.,  2.,  0.,  1.,  0.,  3.,  0.,  2.,  7.,\n",
              "         7., 12., 13., 19., 19., 25., 34., 26., 31., 62., 39., 53., 72.,\n",
              "        50., 53., 53., 56., 43., 48., 42., 52., 24., 24., 30., 21., 19.,\n",
              "        11.,  7., 14.,  6.,  5.,  5.,  4.,  2.,  0.,  0.,  1.]),\n",
              " array([-3.82604725, -3.68852792, -3.55100859, -3.41348927, -3.27596994,\n",
              "        -3.13845061, -3.00093128, -2.86341195, -2.72589262, -2.58837329,\n",
              "        -2.45085396, -2.31333463, -2.1758153 , -2.03829597, -1.90077664,\n",
              "        -1.76325731, -1.62573798, -1.48821865, -1.35069933, -1.21318   ,\n",
              "        -1.07566067, -0.93814134, -0.80062201, -0.66310268, -0.52558335,\n",
              "        -0.38806402, -0.25054469, -0.11302536,  0.02449397,  0.1620133 ,\n",
              "         0.29953263,  0.43705196,  0.57457128,  0.71209061,  0.84960994,\n",
              "         0.98712927,  1.1246486 ,  1.26216793,  1.39968726,  1.53720659,\n",
              "         1.67472592,  1.81224525,  1.94976458,  2.08728391,  2.22480324,\n",
              "         2.36232257,  2.4998419 ,  2.63736122,  2.77488055,  2.91239988,\n",
              "         3.04991921]),\n",
              " <a list of 50 Patch objects>)"
            ]
          },
          "metadata": {
            "tags": []
          },
          "execution_count": 55
        },
        {
          "output_type": "display_data",
          "data": {
            "image/png": "[encoded data removed]",
            "text/plain": [
              "<Figure size 432x288 with 1 Axes>"
            ]
          },
          "metadata": {
            "tags": [],
            "needs_background": "light"
          }
        }
      ]
    },
    {
      "cell_type": "code",
      "metadata": {
        "id": "LuNn0X9tidE5"
      },
      "source": [
        ""
      ],
      "execution_count": null,
      "outputs": []
    }
  ]
}