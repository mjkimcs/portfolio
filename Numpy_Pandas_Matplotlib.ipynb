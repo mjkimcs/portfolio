{
  "nbformat": 4,
  "nbformat_minor": 0,
  "metadata": {
    "colab": {
      "name": "Numpy_Pandas_Matplotlib",
      "provenance": [],
      "collapsed_sections": [],
      "authorship_tag": "ABX9TyOn+rqT5bMR37iX4C1xrE1r",
      "include_colab_link": true
    },
    "kernelspec": {
      "name": "python3",
      "display_name": "Python 3"
    },
    "language_info": {
      "name": "python"
    }
  },
  "cells": [
    {
      "cell_type": "markdown",
      "metadata": {
        "id": "view-in-github",
        "colab_type": "text"
      },
      "source": [
        "<a href=\"https://colab.research.google.com/github/mjkimcs/portfolio/blob/main/Numpy_Pandas_Matplotlib.ipynb\" target=\"_parent\"><img src=\"https://colab.research.google.com/assets/colab-badge.svg\" alt=\"Open In Colab\"/></a>"
      ]
    },
    {
      "cell_type": "markdown",
      "metadata": {
        "id": "9sOzrLalEeNw"
      },
      "source": [
        "## Numpy"
      ]
    },
    {
      "cell_type": "code",
      "metadata": {
        "colab": {
          "base_uri": "https://localhost:8080/"
        },
        "id": "pMzTuEHS6XcP",
        "outputId": "3c5e9cdf-b6f3-4426-fbbc-8d7799146c70"
      },
      "source": [
        "import numpy as np\n",
        "\n",
        "array = np.array(range(10))\n",
        "print(array)\n",
        "\n",
        "\n",
        "# 1. array의 자료형을 출력해보세요.\n",
        "print(type(array))\n",
        "\n",
        "# 2. array의 차원을 출력해보세요.\n",
        "print(array.ndim)\n",
        "\n",
        "# 3. array의 모양을 출력해보세요.\n",
        "print(array.shape)\n",
        "\n",
        "# 4. array의 크기를 출력해보세요.\n",
        "print(array.size)\n",
        "\n",
        "# 5. array의 dtype(data type)을 출력해보세요.\n",
        "print(array.dtype)\n",
        "\n",
        "# 6. array의 인덱스 5의 요소를 출력해보세요.\n",
        "print(array[5])\n",
        "\n",
        "# 7. array의 인덱스 3의 요소부터 인덱스 5 요소까지 출력해보세요.\n",
        "print(array[3:6])"
      ],
      "execution_count": 2,
      "outputs": [
        {
          "output_type": "stream",
          "text": [
            "[0 1 2 3 4 5 6 7 8 9]\n",
            "<class 'numpy.ndarray'>\n",
            "1\n",
            "(10,)\n",
            "10\n",
            "int64\n",
            "5\n",
            "[3 4 5]\n"
          ],
          "name": "stdout"
        }
      ]
    },
    {
      "cell_type": "code",
      "metadata": {
        "colab": {
          "base_uri": "https://localhost:8080/"
        },
        "id": "Oz1q_NSV6JLw",
        "outputId": "5fbf5d0e-affc-4903-cec6-6ea00432f10c"
      },
      "source": [
        "import numpy as np\n",
        "\n",
        "matrix = np.array(range(1,16))\n",
        "matrix.shape = (3, 5)\n",
        "print(matrix)\n",
        "\n",
        "\n",
        "# 1. matrix의 자료형을 출력해보세요.\n",
        "print(type(matrix))\n",
        "\n",
        "# 2. matrix의 차원을 출력해보세요.\n",
        "print(matrix.ndim)\n",
        "\n",
        "# 3. matrix의 모양을 출력해보세요.\n",
        "print(matrix.shape)\n",
        "\n",
        "# 4. matrix의 크기를 출력해보세요.\n",
        "print(matrix.size)\n",
        "\n",
        "# 5. matrix의 dtype(data type)을 출력해보세요.\n",
        "print(matrix.dtype)\n",
        "\n",
        "# 6. matrix의 dtype을 str로 변경하여 출력해보세요.\n",
        "print(matrix.astype(\"str\"))\n",
        "\n",
        "# 7. matrix의 (1,1) 인덱스의 요소를 출력해보세요.\n",
        "print(matrix[1,1])\n",
        "\n",
        "# 8. matrix의 행은 인덱스 0부터 인덱스 1까지, 열은 인덱스 1부터 인덱스 3까지 출력해보세요.\n",
        "print(matrix[0:2, 1:4])"
      ],
      "execution_count": 4,
      "outputs": [
        {
          "output_type": "stream",
          "text": [
            "[[ 1  2  3  4  5]\n",
            " [ 6  7  8  9 10]\n",
            " [11 12 13 14 15]]\n",
            "<class 'numpy.ndarray'>\n",
            "2\n",
            "(3, 5)\n",
            "15\n",
            "int64\n",
            "[['1' '2' '3' '4' '5']\n",
            " ['6' '7' '8' '9' '10']\n",
            " ['11' '12' '13' '14' '15']]\n",
            "7\n",
            "[[2 3 4]\n",
            " [7 8 9]]\n"
          ],
          "name": "stdout"
        }
      ]
    },
    {
      "cell_type": "code",
      "metadata": {
        "colab": {
          "base_uri": "https://localhost:8080/"
        },
        "id": "GOC4xiiS6fmK",
        "outputId": "876f129a-007f-4598-aec2-f9018d207f47"
      },
      "source": [
        "# Indexing\n",
        "\n",
        "import numpy as np\n",
        "\n",
        "x = np.arange(1, 13, 1)\n",
        "x.shape = (3, 4)\n",
        "print(x)\n",
        "print(x[2,3])\n",
        "\n",
        "x = np.arange(7)\n",
        "print(x)\n",
        "print(x < 3)\n",
        "print(x > 7)\n",
        "print(x[x<3])\n",
        "print(x[x%2==0])\n",
        "\n",
        "x = np.array([1,7,3,7,5,7])\n",
        "print(x[[1,3,5]])\n",
        "\n",
        "x = np.arange(1, 13, 1)\n",
        "print(x)\n",
        "x = np.arange(1, 13, 1).reshape(3, 4)\n",
        "print(x)\n",
        "print(x[[0, 2]]) # 행으로 찾기"
      ],
      "execution_count": 14,
      "outputs": [
        {
          "output_type": "stream",
          "text": [
            "[[ 1  2  3  4]\n",
            " [ 5  6  7  8]\n",
            " [ 9 10 11 12]]\n",
            "12\n",
            "[0 1 2 3 4 5 6]\n",
            "[ True  True  True False False False False]\n",
            "[False False False False False False False]\n",
            "[0 1 2]\n",
            "[0 2 4 6]\n",
            "[7 7 7]\n",
            "[ 1  2  3  4  5  6  7  8  9 10 11 12]\n",
            "[[ 1  2  3  4]\n",
            " [ 5  6  7  8]\n",
            " [ 9 10 11 12]]\n",
            "[[ 1  2  3  4]\n",
            " [ 9 10 11 12]]\n"
          ],
          "name": "stdout"
        }
      ]
    },
    {
      "cell_type": "code",
      "metadata": {
        "colab": {
          "base_uri": "https://localhost:8080/"
        },
        "id": "wm6ZryQq7OLr",
        "outputId": "2753b24c-9510-47e9-9930-b84d4f76313a"
      },
      "source": [
        "# Slicing\n",
        "\n",
        "import numpy as np\n",
        "\n",
        "x = np.arange(7)\n",
        "print(x)\n",
        "print(x[::2])\n",
        "\n",
        "x = np.arange(1, 13, 1)\n",
        "x.shape = (3, 4)\n",
        "print(x)\n",
        "print(x[1:2, :2:3])\n",
        "print(x[1:, :2])"
      ],
      "execution_count": 9,
      "outputs": [
        {
          "output_type": "stream",
          "text": [
            "[0 1 2 3 4 5 6]\n",
            "[0 2 4 6]\n",
            "[[ 1  2  3  4]\n",
            " [ 5  6  7  8]\n",
            " [ 9 10 11 12]]\n",
            "[[5]]\n",
            "[[ 5  6]\n",
            " [ 9 10]]\n"
          ],
          "name": "stdout"
        }
      ]
    },
    {
      "cell_type": "code",
      "metadata": {
        "colab": {
          "base_uri": "https://localhost:8080/"
        },
        "id": "odXJvWN47pkB",
        "outputId": "e0456862-5496-4794-ffa7-b8cd23330b62"
      },
      "source": [
        "# Indexing + Slicing\n",
        "\n",
        "import numpy as np\n",
        "\n",
        "x = np.arange(1, 13, 1).reshape(3, 4)\n",
        "print(x)\n",
        "print(x[1:2, 2])\n",
        "print(x[[0,2], 2])\n",
        "print(x[[0,2], :2])"
      ],
      "execution_count": 15,
      "outputs": [
        {
          "output_type": "stream",
          "text": [
            "[[ 1  2  3  4]\n",
            " [ 5  6  7  8]\n",
            " [ 9 10 11 12]]\n",
            "[7]\n",
            "[ 3 11]\n",
            "[[ 1  2]\n",
            " [ 9 10]]\n"
          ],
          "name": "stdout"
        }
      ]
    },
    {
      "cell_type": "markdown",
      "metadata": {
        "id": "MV_73bm5EhAF"
      },
      "source": [
        "## Pandas"
      ]
    },
    {
      "cell_type": "code",
      "metadata": {
        "colab": {
          "base_uri": "https://localhost:8080/"
        },
        "id": "zsQmcvxcDIyp",
        "outputId": "1ae1e574-033d-4ebc-f054-b9c32b653710"
      },
      "source": [
        "# Series 만들기1_리스트\n",
        "\n",
        "import pandas as pd\n",
        "\n",
        "data = pd.Series([1,2,3,4])\n",
        "print(data)\n",
        "print(type(data))\n",
        "print(data.values)\n",
        "print(type(data.values))\n",
        "\n",
        "data = pd.Series([1,2,3,4], dtype=\"float\")\n",
        "print(data.dtype)\n",
        "\n",
        "data = pd.Series([1,2,3,4], index=[\"a\", \"b\", \"c\", \"d\"])\n",
        "print(data)\n",
        "data[\"c\"] = 5\n",
        "print(data)"
      ],
      "execution_count": 32,
      "outputs": [
        {
          "output_type": "stream",
          "text": [
            "0    1\n",
            "1    2\n",
            "2    3\n",
            "3    4\n",
            "dtype: int64\n",
            "<class 'pandas.core.series.Series'>\n",
            "[1 2 3 4]\n",
            "<class 'numpy.ndarray'>\n",
            "float64\n",
            "a    1\n",
            "b    2\n",
            "c    3\n",
            "d    4\n",
            "dtype: int64\n",
            "a    1\n",
            "b    2\n",
            "c    5\n",
            "d    4\n",
            "dtype: int64\n"
          ],
          "name": "stdout"
        }
      ]
    },
    {
      "cell_type": "code",
      "metadata": {
        "colab": {
          "base_uri": "https://localhost:8080/"
        },
        "id": "pOD76APFE_Ea",
        "outputId": "d6d74b47-a057-48ac-f102-8f11e2497d30"
      },
      "source": [
        "# Series 만들기2_딕셔너리\n",
        "\n",
        "import pandas as pd\n",
        "\n",
        "population_dict = {\n",
        "    \"korea\" : 5180,\n",
        "    \"japan\" : 12718,\n",
        "    \"china\" : 141500,\n",
        "    \"usa\" : 32676\n",
        "}\n",
        "\n",
        "population = pd.Series(population_dict)\n",
        "print(population)"
      ],
      "execution_count": 33,
      "outputs": [
        {
          "output_type": "stream",
          "text": [
            "korea      5180\n",
            "japan     12718\n",
            "china    141500\n",
            "usa       32676\n",
            "dtype: int64\n"
          ],
          "name": "stdout"
        }
      ]
    },
    {
      "cell_type": "code",
      "metadata": {
        "colab": {
          "base_uri": "https://localhost:8080/"
        },
        "id": "dVSm1FcXHC7p",
        "outputId": "bb93ffd1-917b-434f-f15b-8616d8b3d0a2"
      },
      "source": [
        "# DataFrame 만들기1_Series 합치기\n",
        "\n",
        "import pandas as pd\n",
        "\n",
        "population_dict = {\n",
        "    \"korea\" : 5180,\n",
        "    \"japan\" : 12718,\n",
        "    \"china\" : 141500,\n",
        "    \"usa\" : 32676\n",
        "}\n",
        "\n",
        "gdp_dict = {\n",
        "    \"korea\" : 169320000,\n",
        "    \"japan\" : 51670000,\n",
        "    \"china\" : 1409250000,\n",
        "    \"usa\" : 2041280000\n",
        "}\n",
        "\n",
        "population_series = pd.Series(population_dict)\n",
        "gdp_series = pd.Series(gdp_dict)\n",
        "\n",
        "country = pd.DataFrame({\n",
        "    \"gdp\" : gdp_series,\n",
        "    \"population\" : population_series\n",
        "})\n",
        "\n",
        "print(country)"
      ],
      "execution_count": 39,
      "outputs": [
        {
          "output_type": "stream",
          "text": [
            "              gdp  population\n",
            "korea   169320000        5180\n",
            "japan    51670000       12718\n",
            "china  1409250000      141500\n",
            "usa    2041280000       32676\n"
          ],
          "name": "stdout"
        }
      ]
    },
    {
      "cell_type": "code",
      "metadata": {
        "colab": {
          "base_uri": "https://localhost:8080/"
        },
        "id": "4oZo3wxuJH6J",
        "outputId": "6cf5a320-fa4a-4b49-ad6d-89d35ab18ef6"
      },
      "source": [
        "# DataFrame 만들기2_딕셔너리\n",
        "\n",
        "import pandas as pd\n",
        "\n",
        "data = {\n",
        "    \"country\" : [\"korea\", \"japan\", \"chna\", \"china\"],\n",
        "    \"gdp\" : [1409, 5167, 1693, 20412],\n",
        "    \"population\" : [14150, 1217, 5180, 32676]\n",
        "}\n",
        "\n",
        "country = pd.DataFrame(data)\n",
        "country = country.set_index(\"country\")\n",
        "\n",
        "print(country)"
      ],
      "execution_count": 40,
      "outputs": [
        {
          "output_type": "stream",
          "text": [
            "           gdp  population\n",
            "country                   \n",
            "korea     1409       14150\n",
            "japan     5167        1217\n",
            "chna      1693        5180\n",
            "china    20412       32676\n"
          ],
          "name": "stdout"
        }
      ]
    },
    {
      "cell_type": "code",
      "metadata": {
        "colab": {
          "base_uri": "https://localhost:8080/"
        },
        "id": "wh7RT3SqJqap",
        "outputId": "1d5d624c-2e2a-44a2-bdd4-3c181e0e80e2"
      },
      "source": [
        "country.index.name = \"Country\"\n",
        "country.columns.name = \"Info\"\n",
        "\n",
        "print(country.index)\n",
        "print(country.columns)"
      ],
      "execution_count": 41,
      "outputs": [
        {
          "output_type": "stream",
          "text": [
            "Index(['korea', 'japan', 'chna', 'china'], dtype='object', name='Country')\n",
            "Index(['gdp', 'population'], dtype='object', name='Info')\n"
          ],
          "name": "stdout"
        }
      ]
    },
    {
      "cell_type": "code",
      "metadata": {
        "id": "IElAqdl3Leuh"
      },
      "source": [
        "country.to_csv(\"./country.csv\")\n",
        "country.to_excel(\"./country.xlsx\")\n",
        "\n",
        "country = pd.read_csv(\"./country.csv\")\n",
        "country = pd.read_excel(\"./country.xlsx\")"
      ],
      "execution_count": null,
      "outputs": []
    }
  ]
}