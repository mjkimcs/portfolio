{
  "cells": [
    {
      "cell_type": "markdown",
      "metadata": {
        "id": "view-in-github",
        "colab_type": "text"
      },
      "source": [
        "<a href=\"https://colab.research.google.com/github/mjkimcs/portfolio/blob/main/Visualization/lux_mito.ipynb\" target=\"_parent\"><img src=\"https://colab.research.google.com/assets/colab-badge.svg\" alt=\"Open In Colab\"/></a>"
      ]
    },
    {
      "cell_type": "code",
      "execution_count": null,
      "id": "48a6ecfb",
      "metadata": {
        "id": "48a6ecfb"
      },
      "outputs": [],
      "source": [
        "pip install lux-api \n",
        "jupyter nbextension install --py luxwidget \n",
        "jupyter nbextension enable --py luxwidget"
      ]
    },
    {
      "cell_type": "code",
      "execution_count": null,
      "id": "46c59c0b",
      "metadata": {
        "ExecuteTime": {
          "end_time": "2021-12-24T07:54:38.224302Z",
          "start_time": "2021-12-24T07:54:38.219301Z"
        },
        "id": "46c59c0b"
      },
      "outputs": [],
      "source": [
        "import lux\n",
        "import pandas as pd"
      ]
    },
    {
      "cell_type": "code",
      "execution_count": null,
      "id": "90307d23",
      "metadata": {
        "ExecuteTime": {
          "end_time": "2021-12-24T07:54:40.199965Z",
          "start_time": "2021-12-24T07:54:39.058689Z"
        },
        "id": "90307d23",
        "outputId": "f54a451e-f370-4f5e-e1c9-59d2d0f54f7b",
        "colab": {
          "referenced_widgets": [
            "840251772a304d6991dc32e71289254c",
            "218215099e9449dcad2558eaacd3d94f"
          ]
        }
      },
      "outputs": [
        {
          "name": "stderr",
          "output_type": "stream",
          "text": [
            "Note: NumExpr detected 12 cores but \"NUMEXPR_MAX_THREADS\" not set, so enforcing safe limit of 8.\n",
            "NumExpr defaulting to 8 threads.\n"
          ]
        },
        {
          "data": {
            "application/vnd.jupyter.widget-view+json": {
              "model_id": "840251772a304d6991dc32e71289254c",
              "version_major": 2,
              "version_minor": 0
            },
            "text/plain": [
              "Button(description='Toggle Pandas/Lux', layout=Layout(top='5px', width='140px'), style=ButtonStyle())"
            ]
          },
          "metadata": {},
          "output_type": "display_data"
        },
        {
          "data": {
            "application/vnd.jupyter.widget-view+json": {
              "model_id": "218215099e9449dcad2558eaacd3d94f",
              "version_major": 2,
              "version_minor": 0
            },
            "text/plain": [
              "Output()"
            ]
          },
          "metadata": {},
          "output_type": "display_data"
        }
      ],
      "source": [
        "df = pd.read_csv('https://raw.githubusercontent.com/lux-org/lux-datasets/master/data/college.csv') \n",
        "df"
      ]
    },
    {
      "cell_type": "code",
      "execution_count": null,
      "id": "dd5b105b",
      "metadata": {
        "ExecuteTime": {
          "end_time": "2021-12-24T07:54:41.730125Z",
          "start_time": "2021-12-24T07:54:40.986822Z"
        },
        "id": "dd5b105b"
      },
      "outputs": [],
      "source": [
        "df.intent = [\"Region=Southeast\", \"FundingModel\"] \n",
        "df"
      ]
    },
    {
      "cell_type": "code",
      "execution_count": null,
      "id": "a646bf14",
      "metadata": {
        "ExecuteTime": {
          "end_time": "2021-12-24T07:54:42.690576Z",
          "start_time": "2021-12-24T07:54:41.733127Z"
        },
        "id": "a646bf14",
        "outputId": "d05eb637-5ef4-4dd3-9bd5-80d1aef301b8",
        "colab": {
          "referenced_widgets": [
            "8fbc4a71dacf438aa85acc2eb3d9a345",
            "06bfaa3081164b3db484a5e39d320f50"
          ]
        }
      },
      "outputs": [
        {
          "data": {
            "application/vnd.jupyter.widget-view+json": {
              "model_id": "8fbc4a71dacf438aa85acc2eb3d9a345",
              "version_major": 2,
              "version_minor": 0
            },
            "text/plain": [
              "Button(description='Toggle Pandas/Lux', layout=Layout(top='5px', width='140px'), style=ButtonStyle())"
            ]
          },
          "metadata": {},
          "output_type": "display_data"
        },
        {
          "data": {
            "application/vnd.jupyter.widget-view+json": {
              "model_id": "06bfaa3081164b3db484a5e39d320f50",
              "version_major": 2,
              "version_minor": 0
            },
            "text/plain": [
              "Output()"
            ]
          },
          "metadata": {},
          "output_type": "display_data"
        }
      ],
      "source": [
        "df.intent = [\"AverageCost\", \"SATAverage\"]\n",
        "df"
      ]
    },
    {
      "cell_type": "code",
      "execution_count": null,
      "id": "c1a9376b",
      "metadata": {
        "id": "c1a9376b"
      },
      "outputs": [],
      "source": [
        ""
      ]
    },
    {
      "cell_type": "code",
      "execution_count": null,
      "id": "21a27c5c",
      "metadata": {
        "id": "21a27c5c"
      },
      "outputs": [],
      "source": [
        "python -m pip install mitoinstaller\n",
        "python -m mitoinstaller install\n",
        "python -m jupyter lab"
      ]
    },
    {
      "cell_type": "code",
      "execution_count": null,
      "id": "e222a8bd",
      "metadata": {
        "ExecuteTime": {
          "end_time": "2021-12-24T07:55:11.851669Z",
          "start_time": "2021-12-24T07:55:11.836641Z"
        },
        "id": "e222a8bd"
      },
      "outputs": [],
      "source": [
        "import seaborn as sns"
      ]
    },
    {
      "cell_type": "code",
      "execution_count": null,
      "id": "cb662ede",
      "metadata": {
        "ExecuteTime": {
          "end_time": "2021-12-24T07:55:41.271403Z",
          "start_time": "2021-12-24T07:55:41.187413Z"
        },
        "id": "cb662ede",
        "outputId": "497bb016-3a28-4ea7-c024-e02e8a417d8c"
      },
      "outputs": [
        {
          "data": {
            "text/plain": [
              "['anagrams',\n",
              " 'anscombe',\n",
              " 'attention',\n",
              " 'brain_networks',\n",
              " 'car_crashes',\n",
              " 'diamonds',\n",
              " 'dots',\n",
              " 'exercise',\n",
              " 'flights',\n",
              " 'fmri',\n",
              " 'gammas',\n",
              " 'geyser',\n",
              " 'iris',\n",
              " 'mpg',\n",
              " 'penguins',\n",
              " 'planets',\n",
              " 'taxis',\n",
              " 'tips',\n",
              " 'titanic']"
            ]
          },
          "execution_count": 14,
          "metadata": {},
          "output_type": "execute_result"
        }
      ],
      "source": [
        "df_name = sns.get_dataset_names()\n",
        "df_name"
      ]
    },
    {
      "cell_type": "code",
      "execution_count": null,
      "id": "12e838da",
      "metadata": {
        "ExecuteTime": {
          "end_time": "2021-12-24T07:56:23.602478Z",
          "start_time": "2021-12-24T07:56:22.476087Z"
        },
        "id": "12e838da",
        "outputId": "ce06daf5-3248-41ad-b1a0-3eb62ea4b176",
        "colab": {
          "referenced_widgets": [
            "3f779989dc474d1ca10bfdcf41a58b59",
            "f248eb83e9944ed185f1de468bc03b9d"
          ]
        }
      },
      "outputs": [
        {
          "data": {
            "application/vnd.jupyter.widget-view+json": {
              "model_id": "3f779989dc474d1ca10bfdcf41a58b59",
              "version_major": 2,
              "version_minor": 0
            },
            "text/plain": [
              "Button(description='Toggle Pandas/Lux', layout=Layout(top='5px', width='140px'), style=ButtonStyle())"
            ]
          },
          "metadata": {},
          "output_type": "display_data"
        },
        {
          "data": {
            "application/vnd.jupyter.widget-view+json": {
              "model_id": "f248eb83e9944ed185f1de468bc03b9d",
              "version_major": 2,
              "version_minor": 0
            },
            "text/plain": [
              "Output()"
            ]
          },
          "metadata": {},
          "output_type": "display_data"
        }
      ],
      "source": [
        "titanic = sns.load_dataset('titanic')\n",
        "titanic.head()"
      ]
    },
    {
      "cell_type": "code",
      "execution_count": null,
      "id": "9a6e6930",
      "metadata": {
        "ExecuteTime": {
          "end_time": "2021-12-24T07:59:51.026175Z",
          "start_time": "2021-12-24T07:59:50.892173Z"
        },
        "id": "9a6e6930",
        "outputId": "06f049a6-7aae-4467-d1e9-773c638c914f",
        "colab": {
          "referenced_widgets": [
            "d65c3266be784439865fc6366ef7ba5b",
            "a6b7af5907af4675acb2ace541a3c777"
          ]
        }
      },
      "outputs": [
        {
          "data": {
            "application/vnd.jupyter.widget-view+json": {
              "model_id": "d65c3266be784439865fc6366ef7ba5b",
              "version_major": 2,
              "version_minor": 0
            },
            "text/plain": [
              "Button(description='Toggle Pandas/Lux', layout=Layout(top='5px', width='140px'), style=ButtonStyle())"
            ]
          },
          "metadata": {},
          "output_type": "display_data"
        },
        {
          "data": {
            "application/vnd.jupyter.widget-view+json": {
              "model_id": "a6b7af5907af4675acb2ace541a3c777",
              "version_major": 2,
              "version_minor": 0
            },
            "text/plain": [
              "Output()"
            ]
          },
          "metadata": {},
          "output_type": "display_data"
        }
      ],
      "source": [
        "titanic_l = titanic.iloc[:,:5].reset_index()\n",
        "titanic_l.head()"
      ]
    },
    {
      "cell_type": "code",
      "execution_count": null,
      "id": "d44dc5c4",
      "metadata": {
        "ExecuteTime": {
          "end_time": "2021-12-24T08:00:16.154359Z",
          "start_time": "2021-12-24T08:00:15.915271Z"
        },
        "id": "d44dc5c4",
        "outputId": "f4bfbc15-dd48-439a-bc59-b0fcc495e691",
        "colab": {
          "referenced_widgets": [
            "98167dd4afc54cb3a23bf32ed835b800",
            "17c067efdaf94138ae08a07a57ae14b0"
          ]
        }
      },
      "outputs": [
        {
          "data": {
            "application/vnd.jupyter.widget-view+json": {
              "model_id": "98167dd4afc54cb3a23bf32ed835b800",
              "version_major": 2,
              "version_minor": 0
            },
            "text/plain": [
              "Button(description='Toggle Pandas/Lux', layout=Layout(top='5px', width='140px'), style=ButtonStyle())"
            ]
          },
          "metadata": {},
          "output_type": "display_data"
        },
        {
          "data": {
            "application/vnd.jupyter.widget-view+json": {
              "model_id": "17c067efdaf94138ae08a07a57ae14b0",
              "version_major": 2,
              "version_minor": 0
            },
            "text/plain": [
              "Output()"
            ]
          },
          "metadata": {},
          "output_type": "display_data"
        }
      ],
      "source": [
        "titanic_r = titanic.iloc[:,5:].reset_index()\n",
        "titanic_r.head()"
      ]
    },
    {
      "cell_type": "code",
      "execution_count": null,
      "id": "8b27bb49",
      "metadata": {
        "ExecuteTime": {
          "end_time": "2021-12-24T08:01:08.885485Z",
          "start_time": "2021-12-24T08:01:06.714382Z"
        },
        "id": "8b27bb49",
        "outputId": "d7717dc5-aa3b-409d-f311-3251554b1322",
        "colab": {
          "referenced_widgets": [
            "05e5b9bcfdd546aa92ad6c802026116c"
          ]
        }
      },
      "outputs": [
        {
          "data": {
            "application/vnd.jupyter.widget-view+json": {
              "model_id": "05e5b9bcfdd546aa92ad6c802026116c",
              "version_major": 2,
              "version_minor": 0
            },
            "text/plain": [
              "MitoWidget(analysis_data_json='{\"analysisName\": \"UUID-ee4d3c53-04e8-4908-869c-4c58208588c7\", \"code\": {\"imports…"
            ]
          },
          "metadata": {},
          "output_type": "display_data"
        }
      ],
      "source": [
        "import mitosheet\n",
        "mitosheet.sheet(titanic_r, titanic_l)"
      ]
    },
    {
      "cell_type": "code",
      "execution_count": null,
      "id": "2d70287d",
      "metadata": {
        "id": "2d70287d"
      },
      "outputs": [],
      "source": [
        ""
      ]
    },
    {
      "cell_type": "code",
      "execution_count": null,
      "id": "b76c775f",
      "metadata": {
        "id": "b76c775f"
      },
      "outputs": [],
      "source": [
        ""
      ]
    },
    {
      "cell_type": "code",
      "execution_count": null,
      "id": "7e66148c",
      "metadata": {
        "id": "7e66148c"
      },
      "outputs": [],
      "source": [
        ""
      ]
    },
    {
      "cell_type": "code",
      "execution_count": null,
      "id": "2aa8ecf9",
      "metadata": {
        "id": "2aa8ecf9"
      },
      "outputs": [],
      "source": [
        ""
      ]
    },
    {
      "cell_type": "code",
      "execution_count": null,
      "id": "4ee3a09a",
      "metadata": {
        "id": "4ee3a09a"
      },
      "outputs": [],
      "source": [
        ""
      ]
    }
  ],
  "metadata": {
    "kernelspec": {
      "display_name": "Python 3",
      "language": "python",
      "name": "python3"
    },
    "language_info": {
      "codemirror_mode": {
        "name": "ipython",
        "version": 3
      },
      "file_extension": ".py",
      "mimetype": "text/x-python",
      "name": "python",
      "nbconvert_exporter": "python",
      "pygments_lexer": "ipython3",
      "version": "3.8.8"
    },
    "toc": {
      "base_numbering": 1,
      "nav_menu": {},
      "number_sections": true,
      "sideBar": true,
      "skip_h1_title": false,
      "title_cell": "Table of Contents",
      "title_sidebar": "Contents",
      "toc_cell": false,
      "toc_position": {},
      "toc_section_display": true,
      "toc_window_display": false
    },
    "colab": {
      "name": "lux_mito.ipynb",
      "provenance": [],
      "include_colab_link": true
    }
  },
  "nbformat": 4,
  "nbformat_minor": 5
}