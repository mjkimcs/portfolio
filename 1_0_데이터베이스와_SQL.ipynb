{
  "nbformat": 4,
  "nbformat_minor": 0,
  "metadata": {
    "colab": {
      "name": "1_0_데이터베이스와_SQL",
      "provenance": [],
      "authorship_tag": "ABX9TyPG0r77/lOY9ISkCxKJ8gGY",
      "include_colab_link": true
    },
    "kernelspec": {
      "name": "python3",
      "display_name": "Python 3"
    }
  },
  "cells": [
    {
      "cell_type": "markdown",
      "metadata": {
        "id": "view-in-github",
        "colab_type": "text"
      },
      "source": [
        "<a href=\"https://colab.research.google.com/github/mjkimcs/portfolio/blob/main/1_0_%EB%8D%B0%EC%9D%B4%ED%84%B0%EB%B2%A0%EC%9D%B4%EC%8A%A4%EC%99%80_SQL.ipynb\" target=\"_parent\"><img src=\"https://colab.research.google.com/assets/colab-badge.svg\" alt=\"Open In Colab\"/></a>"
      ]
    },
    {
      "cell_type": "markdown",
      "metadata": {
        "id": "z1Bh937vesXJ"
      },
      "source": [
        "## 데이터베이스\r\n",
        "1. RDB (관계형 데이터베이스): 테이블 형태\r\n",
        "  * MySQL, Oracle\r\n",
        "2. NoSQL (비관계형 데이터베이스)\r\n",
        "  * json"
      ]
    },
    {
      "cell_type": "markdown",
      "metadata": {
        "id": "pNby84HLh5Zy"
      },
      "source": [
        "DB(데이터베이스)?   \r\n",
        "데이터를 모아놓는 저장소  \r\n",
        "  \r\n",
        "DBMS?   \r\n",
        "DB를 관리하는 소프트웨어  \r\n",
        "  \r\n",
        "RDB(관계형 데이터베이스)?  \r\n",
        "로우(행)와 컬럼(열)으로 이루어져 있는 테이블 형태의 DB   \r\n",
        "  \r\n",
        "Non-RDB(NoSQL)?  \r\n",
        "방대한 실시간 데이터를 처리하기 위하여 구조가 유연한 DB  \r\n",
        "    \r\n",
        "PK(Primary Key, Key Value, 키값)?  \r\n",
        "고유한 값  \r\n",
        "    \r\n",
        "ERD(Entity Relationship Diagram)?  \r\n",
        "데이터들 사이의 관계 그림  \r\n",
        "  \r\n",
        "스키마?  \r\n",
        "정보  "
      ]
    },
    {
      "cell_type": "markdown",
      "metadata": {
        "id": "SIbL0WF1fRM8"
      },
      "source": [
        "## SQL (Structured Qery Language)\r\n",
        "* RDB와 소통하기 위한 언어\r\n",
        "* SQL 언어로 데이터베이스와 통신\r\n",
        "* Sqlite: MySQL의 lite한 버전"
      ]
    },
    {
      "cell_type": "markdown",
      "metadata": {
        "id": "Nb7jVF4qgbeA"
      },
      "source": [
        "## Qery\r\n",
        "* 질의\r\n",
        "* DB에 무언가를 요청하는 행위\r\n",
        "* 데이터베이스에 요청하고 응답받기\r\n",
        "* 데이터베이스 값을 불러오기, 수정, 삽입, 테이블생성 등 모든작업"
      ]
    },
    {
      "cell_type": "markdown",
      "metadata": {
        "id": "AaTWNH7kidRG"
      },
      "source": [
        "## 데이터 타입\r\n",
        "1. 문자: char, string\r\n",
        "2. 숫자: numeric, int(정수 100), float(소수 100.0)\r\n",
        "3. 날짜와 시간: date, time, datetime, timestamp(UTC 국제표준시간)\r\n"
      ]
    },
    {
      "cell_type": "markdown",
      "metadata": {
        "id": "0LjTuGz4jyIP"
      },
      "source": [
        "맨하튼에 있는 50달러 이상 150달러 이하 숙소 찾아보기  \r\n",
        "\r\n",
        "    SELECT id, name, neighbourhood_group, neighbourhood, room_type, price\r\n",
        "    FROM `1.airbnb`\r\n",
        "    WHERE neighbourhood_group = 'Manhattan'\r\n",
        "    AND price >= 50\r\n",
        "    AND price <= 150\r\n",
        "\r\n",
        "    AND price BETWEEN 50 AND 150\r\n"
      ]
    },
    {
      "cell_type": "markdown",
      "metadata": {
        "id": "XGuvCCPQj7IA"
      },
      "source": [
        "맨하튼에 있는 100달러 미만이면서, Midtown이거나 SoHo에 있는 숙소 찾아보기  \r\n",
        "\r\n",
        "    SELECT FROM WHERE AND\r\n",
        "    AND (neighbourhood = 'Midtown' OR neighbourhood = 'SoHo')\r\n",
        "\r\n",
        "    AND neighbourhood IN ('Midtown', 'SoHo')\r\n"
      ]
    },
    {
      "cell_type": "markdown",
      "metadata": {
        "id": "rs6JBI-Xj_Ym"
      },
      "source": [
        "맨하튼에 있는 100달러 미만이면서, 미드타운이나 소호에 있는 숙소는 싫어  \r\n",
        "\r\n",
        "    SELECT FROM WHERE AND\r\n",
        "    AND neighbourhood != 'Midtown'\r\n",
        "    AND neighbourhood != 'SoHo'\r\n",
        "\r\n",
        "    AND neighbourhood NOT IN ('Midtown', 'SoHo')\r\n"
      ]
    },
    {
      "cell_type": "markdown",
      "metadata": {
        "id": "k-HQlskSkGa8"
      },
      "source": [
        "리뷰가 있는 숙소만 골라보기  \r\n",
        "\r\n",
        "    SELECT id, name, neighbourhood, room_type, price, number_of_reviews, last_review\r\n",
        "    FROM `1.airbnb`\r\n",
        "    WHERE last_review IS NOT NULL\r\n"
      ]
    },
    {
      "cell_type": "markdown",
      "metadata": {
        "id": "-Bj7WAULkLhr"
      },
      "source": [
        "테라스 없는 숙소 찾아보기  \r\n",
        "\r\n",
        "    SELECT FROM\r\n",
        "    WHERE LOWER(name) NOT LIKE '%terrace%'\r\n"
      ]
    },
    {
      "cell_type": "markdown",
      "metadata": {
        "id": "YncZPQfCkUBx"
      },
      "source": [
        "결측치 확인(id_count 빼기 last_review_count)  \r\n",
        "\r\n",
        "    SELECT COUNT(id) AS id_count, COUNT(last_review) AS last_review_count\r\n",
        "    FROM `1.airbnb`\r\n",
        "\r\n",
        "-> COUNT는 해당 컬럼에 비어 있는 데이터(NULL)는 카운트 X  \r\n",
        "-> COUNT(*) AS row_count\r\n"
      ]
    },
    {
      "cell_type": "markdown",
      "metadata": {
        "id": "gf58wI-ElHQx"
      },
      "source": [
        "중복 데이터 확인(id_count 빼기 unique_id_count)    \r\n",
        "\r\n",
        "    SELECT COUNT(id) AS id_count, COUNT(DISTINCT id) AS unique_id_count\r\n",
        "    FROM `1.airbnb`\r\n"
      ]
    }
  ]
}