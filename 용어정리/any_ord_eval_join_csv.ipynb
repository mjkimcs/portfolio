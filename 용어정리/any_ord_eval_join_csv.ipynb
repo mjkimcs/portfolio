{
  "nbformat": 4,
  "nbformat_minor": 0,
  "metadata": {
    "colab": {
      "name": "any_ord_eval_join_csv",
      "provenance": [],
      "collapsed_sections": [],
      "authorship_tag": "ABX9TyMIq8n7aExZammxmaHl1wOz",
      "include_colab_link": true
    },
    "kernelspec": {
      "name": "python3",
      "display_name": "Python 3"
    },
    "language_info": {
      "name": "python"
    }
  },
  "cells": [
    {
      "cell_type": "markdown",
      "metadata": {
        "id": "view-in-github",
        "colab_type": "text"
      },
      "source": [
        "<a href=\"https://colab.research.google.com/github/mjkimcs/portfolio/blob/main/%EC%9A%A9%EC%96%B4%EC%A0%95%EB%A6%AC/any_ord_eval_join_csv.ipynb\" target=\"_parent\"><img src=\"https://colab.research.google.com/assets/colab-badge.svg\" alt=\"Open In Colab\"/></a>"
      ]
    },
    {
      "cell_type": "code",
      "metadata": {
        "colab": {
          "base_uri": "https://localhost:8080/"
        },
        "id": "MvPc8dTKP3YU",
        "outputId": "aec1d178-d5c8-4577-9af1-5122c645b1c6"
      },
      "source": [
        "def Test01():\n",
        "  listdata = [2,2,1,3,8,4,3,9,2,20]\n",
        "  result = sum(listdata)\n",
        "  print(result)\n",
        "\n",
        "def Test02():\n",
        "  listdata = (2,2,1,3,8,4,3,9,2,20)\n",
        "  result = listdata[1::2]\n",
        "  print(result)\n",
        "  print(sum(result))\n",
        "\n",
        "def Test03():\n",
        "  a = [2,1,4,6,7,8,9,10,3]\n",
        "  result = sum(range(1,11)) - sum(a)\n",
        "  print(result)\n",
        "\n",
        "\n",
        "if __name__ == '__main__':\n",
        "  Test01()\n",
        "  Test02()\n",
        "  Test03()"
      ],
      "execution_count": null,
      "outputs": [
        {
          "output_type": "stream",
          "text": [
            "54\n",
            "(2, 3, 4, 9, 20)\n",
            "38\n",
            "5\n"
          ],
          "name": "stdout"
        }
      ]
    },
    {
      "cell_type": "code",
      "metadata": {
        "colab": {
          "base_uri": "https://localhost:8080/"
        },
        "id": "26-pMbMuQYhP",
        "outputId": "c1fd92b9-7b4c-406c-f4fa-836f4462eb3c"
      },
      "source": [
        "def Test04(): # all(): and연산(다True), any(): or연산(하나만True)\n",
        "  listdata1 = [True, True, True]\n",
        "  listdata2 = [True, False, True]\n",
        "  print(all(listdata1)) # True\n",
        "  print(all(listdata2)) # False\n",
        "  print(any(listdata1)) # True\n",
        "  print(any(listdata2)) # True\n",
        "\n",
        "if __name__ == '__main__':\n",
        "  Test04()"
      ],
      "execution_count": null,
      "outputs": [
        {
          "output_type": "stream",
          "text": [
            "True\n",
            "False\n",
            "True\n",
            "True\n"
          ],
          "name": "stdout"
        }
      ]
    },
    {
      "cell_type": "code",
      "metadata": {
        "colab": {
          "base_uri": "https://localhost:8080/"
        },
        "id": "BqHlgo8EWwee",
        "outputId": "e81514dd-ac6b-4111-a82e-7a6f6b2e95e4"
      },
      "source": [
        "def Test05(): # all(): and연산(다True), any(): or연산(하나만True)\n",
        "  listdata1 = [1, 1, 1]\n",
        "  listdata2 = [1, 0, 1]\n",
        "  print(all(listdata1)) # True\n",
        "  print(all(listdata2)) # False\n",
        "  print(any(listdata1)) # True\n",
        "  print(any(listdata2)) # True\n",
        "\n",
        "if __name__ == '__main__':\n",
        "  Test05()"
      ],
      "execution_count": null,
      "outputs": [
        {
          "output_type": "stream",
          "text": [
            "True\n",
            "False\n",
            "True\n",
            "True\n"
          ],
          "name": "stdout"
        }
      ]
    },
    {
      "cell_type": "code",
      "metadata": {
        "colab": {
          "base_uri": "https://localhost:8080/"
        },
        "id": "Vz6Dg-zzXPd_",
        "outputId": "39cd994f-68fe-46f7-851f-96f3a980d973"
      },
      "source": [
        "import string\n",
        "\n",
        "def Test06():\n",
        "  print(ord(\"A\")) # 컴퓨터가 인식할 수 있는 코드값으로 변환\n",
        "  print(string.ascii_uppercase, type(string.ascii_uppercase))\n",
        "  print(string.ascii_lowercase)\n",
        "  print(string.digits)\n",
        "\n",
        "if __name__ == '__main__':\n",
        "  Test06()"
      ],
      "execution_count": null,
      "outputs": [
        {
          "output_type": "stream",
          "text": [
            "65\n",
            "ABCDEFGHIJKLMNOPQRSTUVWXYZ <class 'str'>\n",
            "abcdefghijklmnopqrstuvwxyz\n",
            "0123456789\n"
          ],
          "name": "stdout"
        }
      ]
    },
    {
      "cell_type": "code",
      "metadata": {
        "colab": {
          "base_uri": "https://localhost:8080/"
        },
        "id": "qMHrhdB2ZuSc",
        "outputId": "08845ce2-683d-4e6c-f538-b8fb75f229f2"
      },
      "source": [
        "import string\n",
        "\n",
        "def Test07():\n",
        "  for i in string.ascii_uppercase:\n",
        "    print(i, \"-->\", ord(i))\n",
        "\n",
        "\n",
        "if __name__ == '__main__':\n",
        "  Test07()"
      ],
      "execution_count": null,
      "outputs": [
        {
          "output_type": "stream",
          "text": [
            "A --> 65\n",
            "B --> 66\n",
            "C --> 67\n",
            "D --> 68\n",
            "E --> 69\n",
            "F --> 70\n",
            "G --> 71\n",
            "H --> 72\n",
            "I --> 73\n",
            "J --> 74\n",
            "K --> 75\n",
            "L --> 76\n",
            "M --> 77\n",
            "N --> 78\n",
            "O --> 79\n",
            "P --> 80\n",
            "Q --> 81\n",
            "R --> 82\n",
            "S --> 83\n",
            "T --> 84\n",
            "U --> 85\n",
            "V --> 86\n",
            "W --> 87\n",
            "X --> 88\n",
            "Y --> 89\n",
            "Z --> 90\n"
          ],
          "name": "stdout"
        }
      ]
    },
    {
      "cell_type": "code",
      "metadata": {
        "colab": {
          "base_uri": "https://localhost:8080/"
        },
        "id": "idwXRN7pYUZZ",
        "outputId": "b767345f-d8f2-4d78-863d-cd877a5f66c9"
      },
      "source": [
        "import string\n",
        "\n",
        "def Test07():\n",
        "  for i in string.ascii_lowercase:\n",
        "    print(i, \"-->\", ord(i))\n",
        "\n",
        "\n",
        "if __name__ == '__main__':\n",
        "  Test07()"
      ],
      "execution_count": null,
      "outputs": [
        {
          "output_type": "stream",
          "text": [
            "a --> 97\n",
            "b --> 98\n",
            "c --> 99\n",
            "d --> 100\n",
            "e --> 101\n",
            "f --> 102\n",
            "g --> 103\n",
            "h --> 104\n",
            "i --> 105\n",
            "j --> 106\n",
            "k --> 107\n",
            "l --> 108\n",
            "m --> 109\n",
            "n --> 110\n",
            "o --> 111\n",
            "p --> 112\n",
            "q --> 113\n",
            "r --> 114\n",
            "s --> 115\n",
            "t --> 116\n",
            "u --> 117\n",
            "v --> 118\n",
            "w --> 119\n",
            "x --> 120\n",
            "y --> 121\n",
            "z --> 122\n"
          ],
          "name": "stdout"
        }
      ]
    },
    {
      "cell_type": "code",
      "metadata": {
        "colab": {
          "base_uri": "https://localhost:8080/"
        },
        "id": "1J4TKu9-a4-8",
        "outputId": "acf517df-bca1-414c-e296-ee680f9ab59e"
      },
      "source": [
        "def Test08():\n",
        "  print(chr(65)) # 숫자에 해당하는 문자를 리턴\n",
        "  for i in range(65,91):\n",
        "    print(i, \"-->\", chr(i))\n",
        "\n",
        "\n",
        "if __name__ == '__main__':\n",
        "  Test08()"
      ],
      "execution_count": null,
      "outputs": [
        {
          "output_type": "stream",
          "text": [
            "A\n",
            "65 --> A\n",
            "66 --> B\n",
            "67 --> C\n",
            "68 --> D\n",
            "69 --> E\n",
            "70 --> F\n",
            "71 --> G\n",
            "72 --> H\n",
            "73 --> I\n",
            "74 --> J\n",
            "75 --> K\n",
            "76 --> L\n",
            "77 --> M\n",
            "78 --> N\n",
            "79 --> O\n",
            "80 --> P\n",
            "81 --> Q\n",
            "82 --> R\n",
            "83 --> S\n",
            "84 --> T\n",
            "85 --> U\n",
            "86 --> V\n",
            "87 --> W\n",
            "88 --> X\n",
            "89 --> Y\n",
            "90 --> Z\n"
          ],
          "name": "stdout"
        }
      ]
    },
    {
      "cell_type": "code",
      "metadata": {
        "colab": {
          "base_uri": "https://localhost:8080/"
        },
        "id": "qrhZdTQkbF03",
        "outputId": "e03586e2-c6c7-4b2b-b667-296563eb0d58"
      },
      "source": [
        "def Test():\n",
        "  a = \"2+3\"\n",
        "  print(a, type(a))\n",
        "  print(eval(a)) # 문자열로 주어진 숫자를 연산\n",
        "\n",
        "  res = \"24+256-(71*34)\"\n",
        "  print(res, \"=\", eval(res))\n",
        "\n",
        "\n",
        "if __name__ == '__main__':\n",
        "  Test()"
      ],
      "execution_count": null,
      "outputs": [
        {
          "output_type": "stream",
          "text": [
            "2+3 <class 'str'>\n",
            "5\n",
            "24+256-(71*34) = -2134\n"
          ],
          "name": "stdout"
        }
      ]
    },
    {
      "cell_type": "code",
      "metadata": {
        "colab": {
          "base_uri": "https://localhost:8080/",
          "height": 34
        },
        "id": "7VdWVbFTiS71",
        "outputId": "507ecd9c-eb4a-4eb6-98df-c0615e9df727"
      },
      "source": [
        "\"::\".join([\"ab\", \"bc\", \"1\"])"
      ],
      "execution_count": null,
      "outputs": [
        {
          "output_type": "execute_result",
          "data": {
            "application/vnd.google.colaboratory.intrinsic+json": {
              "type": "string"
            },
            "text/plain": [
              "'ab::bc::1'"
            ]
          },
          "metadata": {
            "tags": []
          },
          "execution_count": 39
        }
      ]
    },
    {
      "cell_type": "code",
      "metadata": {
        "colab": {
          "base_uri": "https://localhost:8080/",
          "height": 34
        },
        "id": "CSyUJCiRilJN",
        "outputId": "0109932d-95ba-406f-eb91-35f2c80ed104"
      },
      "source": [
        "\" -> \".join((\"ab\", \"bc\"))"
      ],
      "execution_count": null,
      "outputs": [
        {
          "output_type": "execute_result",
          "data": {
            "application/vnd.google.colaboratory.intrinsic+json": {
              "type": "string"
            },
            "text/plain": [
              "'ab -> bc'"
            ]
          },
          "metadata": {
            "tags": []
          },
          "execution_count": 41
        }
      ]
    },
    {
      "cell_type": "code",
      "metadata": {
        "colab": {
          "base_uri": "https://localhost:8080/"
        },
        "id": "BuVit6ZrgwU_",
        "outputId": "3597fb8b-d9b0-4e8b-c6b6-90bb47f7f3be"
      },
      "source": [
        "def Test():\n",
        "  a = [34, 22, 45, 27, 31, 33, 35]\n",
        "  \n",
        "  b = []\n",
        "  for i in a:\n",
        "    b.append(str(i))\n",
        "  print(b)\n",
        "  \n",
        "  bond = \"+\"\n",
        "  result = bond.join(b)\n",
        "  print(result)\n",
        "\n",
        "  print(result, \"=\", eval(result))\n",
        "\n",
        "\n",
        "if __name__ == '__main__':\n",
        "  Test()"
      ],
      "execution_count": null,
      "outputs": [
        {
          "output_type": "stream",
          "text": [
            "['34', '22', '45', '27', '31', '33', '35']\n",
            "34+22+45+27+31+33+35\n",
            "34+22+45+27+31+33+35 = 227\n"
          ],
          "name": "stdout"
        }
      ]
    },
    {
      "cell_type": "code",
      "metadata": {
        "colab": {
          "base_uri": "https://localhost:8080/"
        },
        "id": "zcN3NioMqEBB",
        "outputId": "43a4f772-ac98-4cc9-f816-a787b69a7823"
      },
      "source": [
        "import csv\n",
        "\n",
        "def Test02():\n",
        "  file = open(\"ee.csv\", \"rt\") # 1행만 데이터가 있는 파일\n",
        "  res = csv.reader(file)\n",
        "  print(res, type(res))\n",
        "\n",
        "  for i in res: # 이렇게 데이터를 불러옴\n",
        "    print(i)\n",
        "\n",
        "\n",
        "if __name__ == '__main__':\n",
        "  Test02()"
      ],
      "execution_count": null,
      "outputs": [
        {
          "output_type": "stream",
          "text": [
            "<_csv.reader object at 0x7fbc338fb8d0> <class '_csv.reader'>\n",
            "['34', '22', '45', '27', '31', '33', '35']\n"
          ],
          "name": "stdout"
        }
      ]
    },
    {
      "cell_type": "code",
      "metadata": {
        "colab": {
          "base_uri": "https://localhost:8080/"
        },
        "id": "slu7KGg0l01u",
        "outputId": "6cb00d1f-17f5-452a-85f4-29ca5ec82b07"
      },
      "source": [
        "import csv\n",
        "\n",
        "def Test02():\n",
        "  file = open(\"ee.csv\", \"rt\")\n",
        "  res = csv.reader(file)\n",
        "  print(res, type(res))\n",
        "\n",
        "  b = []\n",
        "  for i in res:\n",
        "    b.append(i)\n",
        "  print(b)\n",
        "\n",
        "  bond = '+'\n",
        "  result = bond.join(b[0])\n",
        "  print(result, \"=\", eval(result))\n",
        "\n",
        "\n",
        "if __name__ == '__main__':\n",
        "  Test02()"
      ],
      "execution_count": null,
      "outputs": [
        {
          "output_type": "stream",
          "text": [
            "<_csv.reader object at 0x7fbc337b7cd0> <class '_csv.reader'>\n",
            "[['34', '22', '45', '27', '31', '33', '35']]\n",
            "34+22+45+27+31+33+35 = 227\n"
          ],
          "name": "stdout"
        }
      ]
    },
    {
      "cell_type": "code",
      "metadata": {
        "colab": {
          "base_uri": "https://localhost:8080/"
        },
        "id": "ZyxBBdePpazw",
        "outputId": "5bcb8077-ef59-4f44-ca2d-dc618ee2fab1"
      },
      "source": [
        "import csv\n",
        "\n",
        "def Test03():\n",
        "  file = open(\"data.csv\", \"rt\", encoding=\"cp949\") # encoding # 파이참에서는 encoding=\"utf-8\"\n",
        "  res = csv.reader(file)\n",
        "  print(res, type(res))\n",
        "\n",
        "  for i in res:\n",
        "    print(i)\n",
        "\n",
        "\n",
        "if __name__ == '__main__':\n",
        "  Test03()"
      ],
      "execution_count": null,
      "outputs": [
        {
          "output_type": "stream",
          "text": [
            "<_csv.reader object at 0x7fbc33783dd0> <class '_csv.reader'>\n",
            "['34', ' 홍길']\n",
            "['22', ' 정길']\n",
            "['45', ' 동길']\n",
            "['27', ' 김길']\n",
            "['31', ' 기길']\n",
            "['33', ' 원길']\n",
            "['35', ' 이길']\n"
          ],
          "name": "stdout"
        }
      ]
    },
    {
      "cell_type": "code",
      "metadata": {
        "colab": {
          "base_uri": "https://localhost:8080/"
        },
        "id": "qqU00eMMpsaZ",
        "outputId": "f9193315-078d-45bd-be41-aa1a6d1d5246"
      },
      "source": [
        "import csv\n",
        "\n",
        "def Test03():\n",
        "  file = open(\"data.csv\", \"rt\", encoding=\"cp949\") # encoding # 파이참에서는 encoding=\"utf-8\"\n",
        "  res = csv.reader(file, delimiter=' ') # delimiter 값(여기에서는 공백)을 쉼표로 분리\n",
        "  print(res, type(res))\n",
        "\n",
        "  for i in res:\n",
        "    print(i)\n",
        "\n",
        "\n",
        "if __name__ == '__main__':\n",
        "  Test03()"
      ],
      "execution_count": null,
      "outputs": [
        {
          "output_type": "stream",
          "text": [
            "<_csv.reader object at 0x7fbc338fb8d0> <class '_csv.reader'>\n",
            "['34,', '홍길']\n",
            "['22,', '정길']\n",
            "['45,', '동길']\n",
            "['27,', '김길']\n",
            "['31,', '기길']\n",
            "['33,', '원길']\n",
            "['35,', '이길']\n"
          ],
          "name": "stdout"
        }
      ]
    },
    {
      "cell_type": "code",
      "metadata": {
        "colab": {
          "base_uri": "https://localhost:8080/"
        },
        "id": "8Ymqe0rTgpmt",
        "outputId": "8dbdc381-ea1d-493b-a49f-7e10931b0dfe"
      },
      "source": [
        "import csv\n",
        "\n",
        "def Test04():\n",
        "  file = open(\"data.csv\", \"rt\", encoding=\"cp949\") # encoding # 파이참에서는 encoding=\"utf-8\"\n",
        "  res = csv.reader(file)\n",
        "  print(res, type(res))\n",
        "\n",
        "  b = []\n",
        "  name = []\n",
        "  for i in res:\n",
        "    b.append(i[0]) # 0번지만 가져옴\n",
        "    name.append(i[1])\n",
        "  print(\"b 확인>>\", b)\n",
        "  \n",
        "  bond = \"+\"\n",
        "  result= bond.join(b)\n",
        "  print(result, \"=\", eval(result))\n",
        "  \n",
        "  print(name)\n",
        "  return name\n",
        "\n",
        "def Test05():\n",
        "  print(\"===============================\")\n",
        "  name = Test04()\n",
        "  print(\"이거 확인>>\", name)\n",
        "\n",
        "\n",
        "if __name__ == '__main__':\n",
        "  Test04()\n",
        "  Test05()"
      ],
      "execution_count": null,
      "outputs": [
        {
          "output_type": "stream",
          "text": [
            "<_csv.reader object at 0x7fbc337836d0> <class '_csv.reader'>\n",
            "b 확인>> ['34', '22', '45', '27', '31', '33', '35']\n",
            "34+22+45+27+31+33+35 = 227\n",
            "[' 홍길', ' 정길', ' 동길', ' 김길', ' 기길', ' 원길', ' 이길']\n",
            "===============================\n",
            "<_csv.reader object at 0x7fbc337836d0> <class '_csv.reader'>\n",
            "b 확인>> ['34', '22', '45', '27', '31', '33', '35']\n",
            "34+22+45+27+31+33+35 = 227\n",
            "[' 홍길', ' 정길', ' 동길', ' 김길', ' 기길', ' 원길', ' 이길']\n",
            "이거 확인>> [' 홍길', ' 정길', ' 동길', ' 김길', ' 기길', ' 원길', ' 이길']\n"
          ],
          "name": "stdout"
        }
      ]
    },
    {
      "cell_type": "code",
      "metadata": {
        "colab": {
          "base_uri": "https://localhost:8080/"
        },
        "id": "iMFbDuGJgpgP",
        "outputId": "313ed8b1-0583-4d73-b5d6-af42682d4e1a"
      },
      "source": [
        "def Test04():\n",
        "  file = open(\"data.csv\", \"rt\",encoding=\"cp949\") # encoding # 파이참에서는 encoding=\"utf-8\"\n",
        "  res = csv.reader(file)\n",
        "  print(res, type(res))\n",
        "\n",
        "  name = []\n",
        "  for i in res:\n",
        "    name.append(i[1])\n",
        "  print(name)\n",
        "  return name\n",
        "\n",
        "def Test06():\n",
        "  name = Test04()\n",
        "  file = open(\"data.csv\", \"wt\", encoding=\"cp949\")\n",
        "  csv_writer = csv.writer(file)\n",
        "  csv_writer.writerow(name)\n",
        "\n",
        "if __name__ == '__main__':\n",
        "  Test06()"
      ],
      "execution_count": null,
      "outputs": [
        {
          "output_type": "stream",
          "text": [
            "<_csv.reader object at 0x7fbc33783ad0> <class '_csv.reader'>\n",
            "[' 홍길', ' 정길', ' 동길', ' 김길', ' 기길', ' 원길', ' 이길']\n"
          ],
          "name": "stdout"
        }
      ]
    },
    {
      "cell_type": "code",
      "metadata": {
        "colab": {
          "base_uri": "https://localhost:8080/"
        },
        "id": "CRfLRFr5gOK4",
        "outputId": "67acd0ef-93f9-445c-f77c-67121cd02fde"
      },
      "source": [
        "def Test04():\n",
        "  file = open(\"data.csv\", \"rt\", encoding=\"cp949\") # encoding # 파이참에서는 encoding=\"utf-8\"\n",
        "  res = csv.reader(file)\n",
        "  print(res, type(res))\n",
        "\n",
        "  name = []\n",
        "  for i in res:\n",
        "    name.append(i[1])\n",
        "  print(name)\n",
        "  return name\n",
        "\n",
        "def Test06():\n",
        "  name = Test04()\n",
        "  file = open(\"data.csv\", \"wt\", encoding=\"cp949\")\n",
        "  csv_writer = csv.writer(file, lineterminator='\\n\\n\\n')\n",
        "  for i in name:\n",
        "    csv_writer.writerow(i)\n",
        "\n",
        "if __name__ == '__main__':\n",
        "  Test06()"
      ],
      "execution_count": null,
      "outputs": [
        {
          "output_type": "stream",
          "text": [
            "<_csv.reader object at 0x7fbc337836d0> <class '_csv.reader'>\n",
            "[' 홍길', ' 정길', ' 동길', ' 김길', ' 기길', ' 원길', ' 이길']\n"
          ],
          "name": "stdout"
        }
      ]
    },
    {
      "cell_type": "code",
      "metadata": {
        "colab": {
          "base_uri": "https://localhost:8080/"
        },
        "id": "fgNIdrhimwfD",
        "outputId": "2bf8fd3a-2090-46c6-a8c1-14c89635e741"
      },
      "source": [
        "import csv\n",
        "\n",
        "def csv_reader():\n",
        "    f = open(\"data04.csv\", \"rt\")\n",
        "    try:\n",
        "        reader = csv.reader(f)\n",
        "        for i in reader:\n",
        "            print(i)\n",
        "    finally:\n",
        "        f.close()\n",
        "\n",
        "\n",
        "def csv_reader02():\n",
        "    f = open(\"data04.csv\", \"rt\")\n",
        "    try:\n",
        "        reader = csv.DictReader(f) # dict형으로 리턴 # csv파일의 첫 행이 키\n",
        "        for i in reader:\n",
        "            print(i)\n",
        "    finally:\n",
        "        f.close()\n",
        "\n",
        "def csv_writer():\n",
        "    f = open(\"result.csv\", \"wt\", newline=\"\\n\") # newline=\"\\n\"을 해주면 줄바꿈이 일반적으로 나타남\n",
        "    try:\n",
        "        writer = csv.writer(f, quoting=csv.QUOTE_NONNUMERIC) # 숫자를 제외하고 더블쿼터\n",
        "        writer.writerow(('Title 1', 'Title 2', 'Title3'))\n",
        "        for i in range(6):\n",
        "            writer.writerow((i+1, chr(ord('a')+i), \"2021/%d/07\"%(i+1)))\n",
        "    finally:\n",
        "        f.close()\n",
        "    print(open(\"result.csv\", \"rt\").read())\n",
        "\n",
        "\n",
        "if __name__ == '__main__':\n",
        "    csv_reader()\n",
        "    csv_reader02()\n",
        "    csv_writer()"
      ],
      "execution_count": 112,
      "outputs": [
        {
          "output_type": "stream",
          "text": [
            "['no', 'title', 'reg_year', 'reg_month', 'reg_date']\n",
            "['1', 'java', '2012', '7', '12']\n",
            "['2', 'spring', '2013', '8', '13']\n",
            "['3', 'oracle', '2014', '9', '14']\n",
            "['4', 'python', '2015', '10', '15']\n",
            "['5', 'struct2', '2016', '11', '16']\n",
            "OrderedDict([('no', '1'), ('title', 'java'), ('reg_year', '2012'), ('reg_month', '7'), ('reg_date', '12')])\n",
            "OrderedDict([('no', '2'), ('title', 'spring'), ('reg_year', '2013'), ('reg_month', '8'), ('reg_date', '13')])\n",
            "OrderedDict([('no', '3'), ('title', 'oracle'), ('reg_year', '2014'), ('reg_month', '9'), ('reg_date', '14')])\n",
            "OrderedDict([('no', '4'), ('title', 'python'), ('reg_year', '2015'), ('reg_month', '10'), ('reg_date', '15')])\n",
            "OrderedDict([('no', '5'), ('title', 'struct2'), ('reg_year', '2016'), ('reg_month', '11'), ('reg_date', '16')])\n",
            "\"Title 1\",\"Title 2\",\"Title3\"\n",
            "1,\"a\",\"2021/1/07\"\n",
            "2,\"b\",\"2021/2/07\"\n",
            "3,\"c\",\"2021/3/07\"\n",
            "4,\"d\",\"2021/4/07\"\n",
            "5,\"e\",\"2021/5/07\"\n",
            "6,\"f\",\"2021/6/07\"\n",
            "\n"
          ],
          "name": "stdout"
        }
      ]
    },
    {
      "cell_type": "code",
      "metadata": {
        "id": "w6N-ioAq0PsO"
      },
      "source": [
        ""
      ],
      "execution_count": null,
      "outputs": []
    }
  ]
}