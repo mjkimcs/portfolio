{
  "nbformat": 4,
  "nbformat_minor": 0,
  "metadata": {
    "colab": {
      "name": "클래스상속2.ipynb",
      "provenance": [],
      "collapsed_sections": [],
      "authorship_tag": "ABX9TyOQlOg8CtRNvm6dOLG40KII",
      "include_colab_link": true
    },
    "kernelspec": {
      "name": "python3",
      "display_name": "Python 3"
    },
    "language_info": {
      "name": "python"
    },
    "accelerator": "GPU"
  },
  "cells": [
    {
      "cell_type": "markdown",
      "metadata": {
        "id": "view-in-github",
        "colab_type": "text"
      },
      "source": [
        "<a href=\"https://colab.research.google.com/github/mjkimcs/portfolio/blob/main/%EC%9A%A9%EC%96%B4%EC%A0%95%EB%A6%AC/%ED%81%B4%EB%9E%98%EC%8A%A4%EC%83%81%EC%86%8D2.ipynb\" target=\"_parent\"><img src=\"https://colab.research.google.com/assets/colab-badge.svg\" alt=\"Open In Colab\"/></a>"
      ]
    },
    {
      "cell_type": "code",
      "execution_count": 2,
      "metadata": {
        "colab": {
          "base_uri": "https://localhost:8080/"
        },
        "id": "q5sw2V3MWLO-",
        "outputId": "a09bb0d1-a4d2-4dfd-f45c-68085a7c1f3f"
      },
      "outputs": [
        {
          "output_type": "stream",
          "name": "stdout",
          "text": [
            "현재값은: 0\n",
            "현재값은: 2\n",
            "현재값은: 0\n"
          ]
        }
      ],
      "source": [
        "class Counter:\n",
        "  def __init__(self):\n",
        "    self.num = 0\n",
        "\n",
        "  def increment(self):\n",
        "    self.num += 1\n",
        "  \n",
        "  def reset(self):\n",
        "    self.num = 0\n",
        "\n",
        "  def print_current_value(self):\n",
        "    print('현재값은:', self.num)\n",
        "\n",
        "\n",
        "c1 = Counter()\n",
        "c1.print_current_value()\n",
        "c1.increment()\n",
        "c1.increment()\n",
        "c1.print_current_value()\n",
        "c1.reset()\n",
        "c1.print_current_value()"
      ]
    },
    {
      "cell_type": "code",
      "source": [
        "# 내부적인 속성이 없는 클래스는 객체레벨이 아닌 클래스 이름으로 바로 사용\n",
        "# __init__ 없고 self 없음\n",
        "\n",
        "class Math:\n",
        "  @staticmethod\n",
        "  def add(a, b):\n",
        "    return a + b\n",
        "\n",
        "  @staticmethod\n",
        "  def multiply(a, b):\n",
        "    return a * b\n",
        "\n",
        "\n",
        "print(Math.add(10, 20))\n",
        "print(Math.multiply(10, 20))"
      ],
      "metadata": {
        "colab": {
          "base_uri": "https://localhost:8080/"
        },
        "id": "B50MU1I2X-sd",
        "outputId": "516786d7-3529-4aae-a9c4-581816667202"
      },
      "execution_count": 11,
      "outputs": [
        {
          "output_type": "stream",
          "name": "stdout",
          "text": [
            "30\n",
            "200\n"
          ]
        }
      ]
    },
    {
      "cell_type": "code",
      "source": [
        "class Person:\n",
        "  def __init__(self, name, age):\n",
        "    self.name = name\n",
        "    self.age = age\n",
        "\n",
        "  def eat(self, food):\n",
        "    print('{}은 {}를 먹습니다.'.format(self.name, food))\n",
        "  \n",
        "  def sleep(self, minute):\n",
        "    print('{}은 {}분동안 잡니다.'.format(self.name, minute))\n",
        "\n",
        "  def work(self, minute):\n",
        "    print('{}은 {}분동안 일합니다.'.format(self.name, minute))\n",
        "\n",
        "class Student(Person):\n",
        "  def __init__(self, name, age):\n",
        "    self.name = name\n",
        "    self.age = age\n",
        "\n",
        "class Employee(Person):\n",
        "  def __init__(self, name, age):\n",
        "    self.name = name\n",
        "    self.age = age\n",
        "\n",
        "\n",
        "bob = Employee('Bob', 25)\n",
        "bob.eat('BBQ')\n",
        "bob.sleep(60)\n",
        "bob.work(30)"
      ],
      "metadata": {
        "colab": {
          "base_uri": "https://localhost:8080/"
        },
        "id": "KlZlTZCwiLkg",
        "outputId": "58bc024f-2a70-405e-cffa-2c9b3b64ad0e"
      },
      "execution_count": 14,
      "outputs": [
        {
          "output_type": "stream",
          "name": "stdout",
          "text": [
            "Bob은 BBQ를 먹습니다.\n",
            "Bob은 60분동안 잡니다.\n",
            "Bob은 30분동안 일합니다.\n"
          ]
        }
      ]
    },
    {
      "cell_type": "code",
      "source": [
        "# 오버라이딩(overriding)\n",
        "\n",
        "class Person:\n",
        "  def __init__(self, name, age):\n",
        "    self.name = name\n",
        "    self.age = age\n",
        "\n",
        "  def eat(self, food):\n",
        "    print('{}은 {}를 먹습니다.'.format(self.name, food))\n",
        "  \n",
        "  def sleep(self, minute):\n",
        "    print('{}은 {}분동안 잡니다.'.format(self.name, minute))\n",
        "\n",
        "  def work(self, minute):\n",
        "    print('{}은 {}분동안 일합니다.'.format(self.name, minute))\n",
        "\n",
        "class Student(Person):\n",
        "  def __init__(self, name, age):\n",
        "    self.name = name\n",
        "    self.age = age\n",
        "\n",
        "  def work(self, minute): # 오버라이딩(overriding)\n",
        "    print('{}은 {}분동안 공부합니다.'.format(self.name, minute))\n",
        "\n",
        "\n",
        "bob = Student('Bob', 25)\n",
        "bob.eat('BBQ')\n",
        "bob.sleep(60)\n",
        "bob.work(30)"
      ],
      "metadata": {
        "colab": {
          "base_uri": "https://localhost:8080/"
        },
        "id": "22rz2uKWjyHn",
        "outputId": "a335ea3f-c436-46b5-de56-1390b767f3e2"
      },
      "execution_count": 15,
      "outputs": [
        {
          "output_type": "stream",
          "name": "stdout",
          "text": [
            "Bob은 BBQ를 먹습니다.\n",
            "Bob은 60분동안 잡니다.\n",
            "Bob은 30분동안 공부합니다.\n"
          ]
        }
      ]
    },
    {
      "cell_type": "code",
      "source": [
        "# super()\n",
        "\n",
        "class Person:\n",
        "  def __init__(self, name, age):\n",
        "    self.name = name\n",
        "    self.age = age\n",
        "\n",
        "  def eat(self, food):\n",
        "    print('{}은 {}를 먹습니다.'.format(self.name, food))\n",
        "  \n",
        "  def sleep(self, minute):\n",
        "    print('{}은 {}분동안 잡니다.'.format(self.name, minute))\n",
        "\n",
        "  def work(self, minute):\n",
        "    print('{}은 {}분동안 준비를 합니다.'.format(self.name, minute))\n",
        "\n",
        "class Student(Person):\n",
        "  def __init__(self, name, age):\n",
        "    self.name = name\n",
        "    self.age = age\n",
        "\n",
        "  def work(self, minute1, minute2):\n",
        "    super().work(minute1) # super\n",
        "    print('{}은 {}분동안 공부합니다.'.format(self.name, minute2))\n",
        "\n",
        "\n",
        "bob = Student('Bob', 25)\n",
        "bob.eat('BBQ')\n",
        "bob.sleep(60)\n",
        "bob.work(10, 30)"
      ],
      "metadata": {
        "colab": {
          "base_uri": "https://localhost:8080/"
        },
        "id": "CQOSZJGlkDq2",
        "outputId": "f991155a-39b2-43ae-8c88-e63ac431dc6e"
      },
      "execution_count": 18,
      "outputs": [
        {
          "output_type": "stream",
          "name": "stdout",
          "text": [
            "Bob은 BBQ를 먹습니다.\n",
            "Bob은 60분동안 잡니다.\n",
            "Bob은 10분동안 준비를 합니다.\n",
            "Bob은 30분동안 공부합니다.\n"
          ]
        }
      ]
    },
    {
      "cell_type": "code",
      "source": [
        "class Point:\n",
        "  def __init__(self, x, y):\n",
        "    self.x = x\n",
        "    self.y = y\n",
        "\n",
        "  def add(self, pt):\n",
        "    new_x = self.x + pt.x\n",
        "    new_y = self.y + pt.y\n",
        "    return Point(new_x, new_y)\n",
        "\n",
        "  def __str__(self):\n",
        "    return '({}, {})'.format(self.x, self.y)\n",
        "\n",
        "\n",
        "p1 = Point(3, 4)\n",
        "p2 = Point(2, 7)\n",
        "p3 = p1.add(p2)\n",
        "\n",
        "print(p1)\n",
        "print(p2)\n",
        "print(p3)"
      ],
      "metadata": {
        "colab": {
          "base_uri": "https://localhost:8080/"
        },
        "id": "axSXu0VTkjH3",
        "outputId": "d5c5aa89-181d-401c-83b0-ba8293493f49"
      },
      "execution_count": 22,
      "outputs": [
        {
          "output_type": "stream",
          "name": "stdout",
          "text": [
            "(3, 4)\n",
            "(2, 7)\n",
            "(5, 11)\n"
          ]
        }
      ]
    },
    {
      "cell_type": "code",
      "source": [
        "class Point:\n",
        "  def __init__(self, x, y):\n",
        "    self.x = x\n",
        "    self.y = y\n",
        "\n",
        "  def __add__(self, pt):\n",
        "    new_x = self.x + pt.x\n",
        "    new_y = self.y + pt.y\n",
        "    return Point(new_x, new_y)\n",
        "\n",
        "  def __sub__(self, pt):\n",
        "    new_x = self.x - pt.x\n",
        "    new_y = self.y - pt.y\n",
        "    return Point(new_x, new_y)\n",
        "\n",
        "  def __mul__(self, factor):\n",
        "    return Point(self.x * factor, self.y * factor)\n",
        "\n",
        "  def __getitem__(self, index):\n",
        "    if index == 0:\n",
        "      return self.x\n",
        "    elif index ==1:\n",
        "      return self.y\n",
        "    else:\n",
        "      return 'error'\n",
        "\n",
        "  def __len__(self):\n",
        "    return self.x ** 2 + self.y ** 2\n",
        "\n",
        "  def __str__(self):\n",
        "    return '({}, {})'.format(self.x, self.y)\n",
        "\n",
        "\n",
        "p1 = Point(3, 4)\n",
        "p2 = Point(2, 7)\n",
        "p3 = p1 + p2\n",
        "p4 = p1 - p2\n",
        "p5 = p1 * 3\n",
        "\n",
        "print(p1)\n",
        "print(p2)\n",
        "print(p3)\n",
        "print(p4)\n",
        "print(p5)\n",
        "print(len(p1))\n",
        "print(p1[0])"
      ],
      "metadata": {
        "colab": {
          "base_uri": "https://localhost:8080/"
        },
        "id": "VJNy4SY8oajx",
        "outputId": "cb4389a7-5fe0-4c72-b4da-8f8f9e046539"
      },
      "execution_count": 38,
      "outputs": [
        {
          "output_type": "stream",
          "name": "stdout",
          "text": [
            "(3, 4)\n",
            "(2, 7)\n",
            "(5, 11)\n",
            "(1, -3)\n",
            "(9, 12)\n",
            "25\n",
            "3\n"
          ]
        }
      ]
    },
    {
      "cell_type": "code",
      "source": [
        ""
      ],
      "metadata": {
        "id": "aBZcjEOsxyu1"
      },
      "execution_count": null,
      "outputs": []
    },
    {
      "cell_type": "code",
      "source": [
        ""
      ],
      "metadata": {
        "id": "7uD7WSUVxyrM"
      },
      "execution_count": null,
      "outputs": []
    },
    {
      "cell_type": "code",
      "source": [
        ""
      ],
      "metadata": {
        "id": "Uqo4ziLcoaMD"
      },
      "execution_count": null,
      "outputs": []
    },
    {
      "cell_type": "code",
      "source": [
        ""
      ],
      "metadata": {
        "id": "sN5BPbb2oaG-"
      },
      "execution_count": null,
      "outputs": []
    },
    {
      "cell_type": "code",
      "source": [
        ""
      ],
      "metadata": {
        "id": "EXTVgvIRoXDX"
      },
      "execution_count": null,
      "outputs": []
    }
  ]
}