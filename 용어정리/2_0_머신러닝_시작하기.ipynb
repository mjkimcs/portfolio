{
  "nbformat": 4,
  "nbformat_minor": 0,
  "metadata": {
    "colab": {
      "name": "2_0_머신러닝_시작하기.ipynb",
      "provenance": [],
      "collapsed_sections": [],
      "authorship_tag": "ABX9TyP3oKEXvI4xacSlds138fNo",
      "include_colab_link": true
    },
    "kernelspec": {
      "name": "python3",
      "display_name": "Python 3"
    }
  },
  "cells": [
    {
      "cell_type": "markdown",
      "metadata": {
        "id": "view-in-github",
        "colab_type": "text"
      },
      "source": [
        "<a href=\"https://colab.research.google.com/github/mjkimcs/portfolio/blob/main/2_0_%EB%A8%B8%EC%8B%A0%EB%9F%AC%EB%8B%9D_%EC%8B%9C%EC%9E%91%ED%95%98%EA%B8%B0.ipynb\" target=\"_parent\"><img src=\"https://colab.research.google.com/assets/colab-badge.svg\" alt=\"Open In Colab\"/></a>"
      ]
    },
    {
      "cell_type": "code",
      "metadata": {
        "colab": {
          "base_uri": "https://localhost:8080/"
        },
        "id": "z9MX3NerE7W4",
        "outputId": "6423570d-e245-458e-ec6d-151bff7483b7"
      },
      "source": [
        "#분류모델\r\n",
        "\r\n",
        "import pandas as pd\r\n",
        "from sklearn.svm import SVC #pip install sklearn\r\n",
        "from sklearn.model_selection import train_test_split\r\n",
        "from sklearn.metrics import accuracy_score\r\n",
        "\r\n",
        "\r\n",
        "df = pd.read_csv(\"./iris.csv\")\r\n",
        "y = df[\"variety\"]\r\n",
        "x = df[[\"sepal.length\", \"sepal.width\", \"petal.length\", \"petal.width\"]]\r\n",
        "train_x, test_x, train_y, test_y = train_test_split(x, y)\r\n",
        "\r\n",
        "model = SVC() #Support Vector Machine Classifier\r\n",
        "model.fit(train_x, train_y) #학습\r\n",
        "\r\n",
        "result = model.predict(test_x)\r\n",
        "score = accuracy_score(result, test_y) #채점\r\n",
        "print(score)"
      ],
      "execution_count": null,
      "outputs": [
        {
          "output_type": "stream",
          "text": [
            "0.9736842105263158\n"
          ],
          "name": "stdout"
        }
      ]
    },
    {
      "cell_type": "code",
      "metadata": {
        "colab": {
          "base_uri": "https://localhost:8080/"
        },
        "id": "sRcRbD8wFUFx",
        "outputId": "4e0a5a14-b553-403d-f45e-371cf2d7a9b5"
      },
      "source": [
        "#회귀모델\r\n",
        "\r\n",
        "from sklearn.linear_model import LinearRegression\r\n",
        "import pandas as pd\r\n",
        "from sklearn.model_selection import train_test_split\r\n",
        "from sklearn.metrics import mean_squared_error\r\n",
        "\r\n",
        "df = pd.read_csv(\"./Airbnb.csv\")\r\n",
        "y = df[\"price\"]\r\n",
        "x = df.iloc[:, 0:6] #[행, 열]\r\n",
        "train_x, test_x, train_y, test_y = train_test_split(x, y)\r\n",
        "\r\n",
        "model = LinearRegression()\r\n",
        "model.fit(train_x, train_y)\r\n",
        "\r\n",
        "result = model.predict(test_x)\r\n",
        "score = mean_squared_error(result, test_y) ** (1/2) #제곱\r\n",
        "print(score)\r\n",
        "\r\n",
        "my_house = model.predict([\r\n",
        "    [0.01, 0.4, 6.3, 4.1, 30, 50]\r\n",
        "])\r\n",
        "print(my_house)"
      ],
      "execution_count": null,
      "outputs": [
        {
          "output_type": "stream",
          "text": [
            "8745.008566793289\n",
            "[66522.17801163]\n"
          ],
          "name": "stdout"
        }
      ]
    },
    {
      "cell_type": "markdown",
      "metadata": {
        "id": "ZGuU0BV0F_Iv"
      },
      "source": [
        "오차범위가 약8745원이라는 의미"
      ]
    }
  ]
}
