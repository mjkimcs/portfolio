{
  "nbformat": 4,
  "nbformat_minor": 0,
  "metadata": {
    "colab": {
      "name": "정규표현식.ipynb",
      "provenance": [],
      "collapsed_sections": [],
      "authorship_tag": "ABX9TyO0moMA0yrYw5Q9cGDisY6p",
      "include_colab_link": true
    },
    "kernelspec": {
      "name": "python3",
      "display_name": "Python 3"
    }
  },
  "cells": [
    {
      "cell_type": "markdown",
      "metadata": {
        "id": "view-in-github",
        "colab_type": "text"
      },
      "source": [
        "<a href=\"https://colab.research.google.com/github/mjkimcs/portfolio/blob/main/%EC%9A%A9%EC%96%B4%EC%A0%95%EB%A6%AC/%EC%A0%95%EA%B7%9C%ED%91%9C%ED%98%84%EC%8B%9D.ipynb\" target=\"_parent\"><img src=\"https://colab.research.google.com/assets/colab-badge.svg\" alt=\"Open In Colab\"/></a>"
      ]
    },
    {
      "cell_type": "markdown",
      "metadata": {
        "id": "AOfV5i_GAYus"
      },
      "source": [
        "테스트 사이트: regex, https://regexr.com/  "
      ]
    },
    {
      "cell_type": "markdown",
      "metadata": {
        "id": "x0fRqygvBKJz"
      },
      "source": [
        "\\r : carriage return, 키보드커서를 제일 앞쪽으로 이동, 개행문자 제거하고 싶을 때 같이 써주는 것을 권장  \n",
        "\\n : new line, 키보드커서만 바로 다음줄로, 개행문자    \n",
        "\\x : 특수한 기호, 16진수  \n",
        "* \\x6E : n\n",
        "* \\x10 : ╂  \n",
        "\n",
        "\\\\\\\\[x].. : .은 개행기호를 제외한 다른 글자를 매칭, \\x20  \n",
        "(\\n)|(\\t)|(\\\\[x]..) : 또는   "
      ]
    },
    {
      "cell_type": "code",
      "metadata": {
        "id": "Kc7xChYqAV_a"
      },
      "source": [
        "import re"
      ],
      "execution_count": null,
      "outputs": []
    },
    {
      "cell_type": "code",
      "metadata": {
        "colab": {
          "base_uri": "https://localhost:8080/"
        },
        "id": "CmjdMUxkJ4hx",
        "outputId": "681b3498-9d2a-4543-f61e-1e0c9dcfc7cd"
      },
      "source": [
        "a = \"\"\"Hello World\n",
        "Hello Python\n",
        "  Hello \\\\x60Study\"\"\"\n",
        "result = re.sub(\"(\\n)|(\\t)|(\\\\[x]..)\", \"\", a)\n",
        "print(result)"
      ],
      "execution_count": null,
      "outputs": [
        {
          "output_type": "stream",
          "text": [
            "Hello WorldHello Python  Hello \\x60Study\n"
          ],
          "name": "stdout"
        }
      ]
    },
    {
      "cell_type": "code",
      "metadata": {
        "colab": {
          "base_uri": "https://localhost:8080/"
        },
        "id": "IvXSxxMUEFpT",
        "outputId": "e8f8c8e7-cc47-4e23-d5ca-a5e681f723c8"
      },
      "source": [
        "# \\를 하나 더 써주거나\n",
        "\n",
        "a = \"\"\"Hello World\n",
        "Hello Python\n",
        "  Hello \\\\x60Study\"\"\"\n",
        "result = re.sub(\"(\\\\n)|(\\\\t)|(\\\\\\[x]..)\", \"\", a)\n",
        "print(result)"
      ],
      "execution_count": null,
      "outputs": [
        {
          "output_type": "stream",
          "text": [
            "Hello WorldHello Python  Hello Study\n"
          ],
          "name": "stdout"
        }
      ]
    },
    {
      "cell_type": "code",
      "metadata": {
        "colab": {
          "base_uri": "https://localhost:8080/"
        },
        "id": "e_nfn4CfB3BM",
        "outputId": "727dbf65-71a2-4089-9806-c66cac8d4520"
      },
      "source": [
        "# 앞에 r을 써주거나\n",
        "\n",
        "a = \"\"\"Hello World\n",
        "Hello Python\n",
        "  Hello \\\\x60Study\"\"\"\n",
        "result = re.sub(r\"(\\n)|(\\t)|(\\\\[x]..)\", \"\", a)\n",
        "print(result)"
      ],
      "execution_count": null,
      "outputs": [
        {
          "output_type": "stream",
          "text": [
            "Hello WorldHello Python  Hello Study\n"
          ],
          "name": "stdout"
        }
      ]
    },
    {
      "cell_type": "code",
      "metadata": {
        "id": "H--e1ZqAEqAA"
      },
      "source": [
        "b = \"안녕 python      hello\""
      ],
      "execution_count": null,
      "outputs": []
    },
    {
      "cell_type": "code",
      "metadata": {
        "colab": {
          "base_uri": "https://localhost:8080/"
        },
        "id": "-S4KsK7fEy5X",
        "outputId": "4bb5ac1c-dd62-4289-b52f-2ab0f09a8281"
      },
      "source": [
        "b.split()"
      ],
      "execution_count": null,
      "outputs": [
        {
          "output_type": "execute_result",
          "data": {
            "text/plain": [
              "['안녕', 'python', 'hello']"
            ]
          },
          "metadata": {
            "tags": []
          },
          "execution_count": 5
        }
      ]
    },
    {
      "cell_type": "code",
      "metadata": {
        "colab": {
          "base_uri": "https://localhost:8080/",
          "height": 35
        },
        "id": "lRXDHabdEuXZ",
        "outputId": "9a9fbe52-5247-4c8b-864b-ab76c842ee9f"
      },
      "source": [
        "# 방법1\n",
        "\n",
        "' '.join(b.split())"
      ],
      "execution_count": null,
      "outputs": [
        {
          "output_type": "execute_result",
          "data": {
            "application/vnd.google.colaboratory.intrinsic+json": {
              "type": "string"
            },
            "text/plain": [
              "'안녕 python hello'"
            ]
          },
          "metadata": {
            "tags": []
          },
          "execution_count": 4
        }
      ]
    },
    {
      "cell_type": "code",
      "metadata": {
        "colab": {
          "base_uri": "https://localhost:8080/",
          "height": 35
        },
        "id": "l9-vEzQhE4LB",
        "outputId": "d0469dfc-4f1d-4f64-b3ca-c7800ecaf7ba"
      },
      "source": [
        "# 방법2\n",
        "\n",
        "re.sub(\" +\", \" \", b)"
      ],
      "execution_count": null,
      "outputs": [
        {
          "output_type": "execute_result",
          "data": {
            "application/vnd.google.colaboratory.intrinsic+json": {
              "type": "string"
            },
            "text/plain": [
              "'안녕 python hello'"
            ]
          },
          "metadata": {
            "tags": []
          },
          "execution_count": 9
        }
      ]
    },
    {
      "cell_type": "code",
      "metadata": {
        "colab": {
          "base_uri": "https://localhost:8080/"
        },
        "id": "LkZp9KA_FkHV",
        "outputId": "8e514517-e713-40cb-f1bc-3701063f228c"
      },
      "source": [
        "import re\n",
        "\n",
        "p = re.compile(\"[a-z]+\")\n",
        "s = p.search(\"3 python 2\")\n",
        "print(s)"
      ],
      "execution_count": null,
      "outputs": [
        {
          "output_type": "stream",
          "text": [
            "<re.Match object; span=(2, 8), match='python'>\n"
          ],
          "name": "stdout"
        }
      ]
    },
    {
      "cell_type": "code",
      "metadata": {
        "id": "dgItQu_mKJqW",
        "colab": {
          "base_uri": "https://localhost:8080/"
        },
        "outputId": "27ac3cf2-5e8d-4649-dd2d-1957bef30fa0"
      },
      "source": [
        "import re\n",
        "\n",
        "list = [\"Hi python. That is commonly used.\", \"Hello. That is the most common word.\", \"Hi, That sounds good.\"]\n",
        "\n",
        "for i in list:\n",
        "    result = re.search(\"(That is [\\S ]*)\", i)\n",
        "    if result != None:\n",
        "        print(result[0])"
      ],
      "execution_count": null,
      "outputs": [
        {
          "output_type": "stream",
          "text": [
            "That is commonly used.\n",
            "That is the most common word.\n"
          ],
          "name": "stdout"
        }
      ]
    },
    {
      "cell_type": "code",
      "metadata": {
        "id": "oP3bXwvAjmqy"
      },
      "source": [
        ""
      ],
      "execution_count": null,
      "outputs": []
    },
    {
      "cell_type": "code",
      "source": [
        "- \\d : [0-9]\n",
        "- \\D : [^0-9]\n",
        "- \\s : 공백문자\n",
        "- \\S : 공백아닌문자\n",
        "- \\w : [0-9a-zA-Z]\n",
        "- \\W : [^0-9a-zA-Z]\n",
        "- . : 모든 것\n",
        "- \\. : .\n",
        "- + : 1번 이상의 패턴이 발생\n",
        "- * : 0번 이상의 패턴이 발생\n",
        "- ? : 0 혹은 1번의 패턴이 발생"
      ],
      "metadata": {
        "id": "uNrfOtSIc5jh"
      },
      "execution_count": null,
      "outputs": []
    },
    {
      "cell_type": "code",
      "execution_count": 1,
      "metadata": {
        "ExecuteTime": {
          "end_time": "2022-01-06T06:15:33.936158Z",
          "start_time": "2022-01-06T06:15:33.919158Z"
        },
        "id": "f12fd09d"
      },
      "outputs": [],
      "source": [
        "import re"
      ]
    },
    {
      "cell_type": "code",
      "execution_count": null,
      "metadata": {
        "ExecuteTime": {
          "end_time": "2022-01-06T06:15:53.434431Z",
          "start_time": "2022-01-06T06:15:53.427431Z"
        },
        "id": "12d65899",
        "outputId": "e4630e10-a2b8-4914-e95b-3a72cf0b0b0d"
      },
      "outputs": [
        {
          "name": "stdout",
          "output_type": "stream",
          "text": [
            "abcdef\n",
            "\n",
            "abcdef\\n\n"
          ]
        }
      ],
      "source": [
        "a = 'abcdef\\n'\n",
        "print(a)\n",
        "\n",
        "b = r'abcdef\\n'\n",
        "print(b)"
      ]
    },
    {
      "cell_type": "code",
      "execution_count": null,
      "metadata": {
        "ExecuteTime": {
          "end_time": "2022-01-06T06:20:54.798011Z",
          "start_time": "2022-01-06T06:20:54.787004Z"
        },
        "id": "87528304",
        "outputId": "b3ff8c0d-e55e-4062-c43e-8f2e643281ab"
      },
      "outputs": [
        {
          "data": {
            "text/plain": [
              "re.Match"
            ]
          },
          "execution_count": 6,
          "metadata": {},
          "output_type": "execute_result"
        }
      ],
      "source": [
        "m = re.search(r'abc', '123abcdef')\n",
        "type(m)"
      ]
    },
    {
      "cell_type": "code",
      "execution_count": null,
      "metadata": {
        "ExecuteTime": {
          "end_time": "2022-01-06T06:20:55.216670Z",
          "start_time": "2022-01-06T06:20:55.209637Z"
        },
        "id": "0b7de1a9",
        "outputId": "50200cbd-514f-42c7-b03e-74ce3e15a7c2"
      },
      "outputs": [
        {
          "name": "stdout",
          "output_type": "stream",
          "text": [
            "3\n",
            "6\n",
            "abc\n"
          ]
        }
      ],
      "source": [
        "print(m.start())\n",
        "print(m.end())\n",
        "print(m.group())"
      ]
    },
    {
      "cell_type": "code",
      "execution_count": null,
      "metadata": {
        "ExecuteTime": {
          "end_time": "2022-01-06T06:21:18.591548Z",
          "start_time": "2022-01-06T06:21:18.577505Z"
        },
        "id": "f5baca4a",
        "outputId": "7b26312d-1dff-4739-ae2c-b69c3149f923"
      },
      "outputs": [
        {
          "name": "stdout",
          "output_type": "stream",
          "text": [
            "<re.Match object; span=(3, 6), match='abc'>\n"
          ]
        }
      ],
      "source": [
        "print(m)"
      ]
    },
    {
      "cell_type": "code",
      "execution_count": null,
      "metadata": {
        "ExecuteTime": {
          "end_time": "2022-01-06T06:23:16.352837Z",
          "start_time": "2022-01-06T06:23:16.336838Z"
        },
        "id": "97d0e813",
        "outputId": "66cc24ad-0df7-4357-967e-7caac85183cc"
      },
      "outputs": [
        {
          "name": "stdout",
          "output_type": "stream",
          "text": [
            "<re.Match object; span=(0, 4), match='112a'>\n"
          ]
        }
      ],
      "source": [
        "m = re.search(r'\\d\\d\\d\\w', '112abcdef119') # 0~9\n",
        "print(m)"
      ]
    },
    {
      "cell_type": "code",
      "execution_count": null,
      "metadata": {
        "ExecuteTime": {
          "end_time": "2022-01-06T06:24:05.947985Z",
          "start_time": "2022-01-06T06:24:05.936949Z"
        },
        "id": "fa8d9124",
        "outputId": "ca4a4d45-8180-4eb7-8371-2b1a1c6b3557"
      },
      "outputs": [
        {
          "data": {
            "text/plain": [
              "<re.Match object; span=(2, 6), match='$%AB'>"
            ]
          },
          "execution_count": 15,
          "metadata": {},
          "output_type": "execute_result"
        }
      ],
      "source": [
        "m = re.search(r'..\\w\\w', '@#$%ABCDabcd')\n",
        "m"
      ]
    },
    {
      "cell_type": "code",
      "execution_count": null,
      "metadata": {
        "ExecuteTime": {
          "end_time": "2022-01-06T08:02:22.034108Z",
          "start_time": "2022-01-06T08:02:22.018104Z"
        },
        "id": "cef180ba",
        "outputId": "199bea16-cb77-4e4c-fc22-737aa24c43bf"
      },
      "outputs": [
        {
          "data": {
            "text/plain": [
              "<re.Match object; span=(0, 3), match='cat'>"
            ]
          },
          "execution_count": 16,
          "metadata": {},
          "output_type": "execute_result"
        }
      ],
      "source": [
        "m = re.search(r'[cbm]at', 'cat')\n",
        "m"
      ]
    },
    {
      "cell_type": "code",
      "execution_count": null,
      "metadata": {
        "ExecuteTime": {
          "end_time": "2022-01-06T08:02:56.476054Z",
          "start_time": "2022-01-06T08:02:56.467057Z"
        },
        "id": "08a352ef",
        "outputId": "565a4bb8-c633-43ce-e8cf-2681d568c289"
      },
      "outputs": [
        {
          "name": "stdout",
          "output_type": "stream",
          "text": [
            "None\n"
          ]
        }
      ],
      "source": [
        "m = re.search(r'[cbm]at', 'aat')\n",
        "print(m)"
      ]
    },
    {
      "cell_type": "code",
      "execution_count": null,
      "metadata": {
        "ExecuteTime": {
          "end_time": "2022-01-06T08:03:13.786767Z",
          "start_time": "2022-01-06T08:03:13.771724Z"
        },
        "id": "28c0dc5a",
        "outputId": "b966592f-2b50-44d7-e97a-0286881fd14e"
      },
      "outputs": [
        {
          "data": {
            "text/plain": [
              "<re.Match object; span=(0, 5), match='1haha'>"
            ]
          },
          "execution_count": 18,
          "metadata": {},
          "output_type": "execute_result"
        }
      ],
      "source": [
        "m = re.search(r'[0-9]haha', '1hahah')\n",
        "m"
      ]
    },
    {
      "cell_type": "code",
      "execution_count": null,
      "metadata": {
        "ExecuteTime": {
          "end_time": "2022-01-06T08:03:54.312473Z",
          "start_time": "2022-01-06T08:03:54.298468Z"
        },
        "id": "c106966f",
        "outputId": "f49f500f-7643-4a1e-8457-c77c2000154d"
      },
      "outputs": [
        {
          "data": {
            "text/plain": [
              "<re.Match object; span=(0, 5), match='caron'>"
            ]
          },
          "execution_count": 19,
          "metadata": {},
          "output_type": "execute_result"
        }
      ],
      "source": [
        "m = re.search(r'[abc.^]aron', 'caron')\n",
        "m"
      ]
    },
    {
      "cell_type": "code",
      "execution_count": null,
      "metadata": {
        "ExecuteTime": {
          "end_time": "2022-01-06T08:04:04.413323Z",
          "start_time": "2022-01-06T08:04:04.394280Z"
        },
        "id": "5bc67012",
        "outputId": "6b4eacb9-2bae-4d62-c514-d1c227da4861"
      },
      "outputs": [
        {
          "data": {
            "text/plain": [
              "<re.Match object; span=(0, 5), match='^aron'>"
            ]
          },
          "execution_count": 20,
          "metadata": {},
          "output_type": "execute_result"
        }
      ],
      "source": [
        "m = re.search(r'[abc.^]aron', '^aron')\n",
        "m"
      ]
    },
    {
      "cell_type": "code",
      "execution_count": null,
      "metadata": {
        "ExecuteTime": {
          "end_time": "2022-01-06T08:04:08.339859Z",
          "start_time": "2022-01-06T08:04:08.321860Z"
        },
        "id": "d95bc8e0",
        "outputId": "672bd50b-2c9b-4e95-af50-0e34ccb524eb"
      },
      "outputs": [
        {
          "data": {
            "text/plain": [
              "<re.Match object; span=(0, 5), match='.aron'>"
            ]
          },
          "execution_count": 21,
          "metadata": {},
          "output_type": "execute_result"
        }
      ],
      "source": [
        "m = re.search(r'[abc.^]aron', '.aron')\n",
        "m"
      ]
    },
    {
      "cell_type": "code",
      "execution_count": null,
      "metadata": {
        "ExecuteTime": {
          "end_time": "2022-01-06T08:04:16.178404Z",
          "start_time": "2022-01-06T08:04:16.163409Z"
        },
        "id": "0baf77e5",
        "outputId": "b9e64541-f05e-4a6f-d9f3-ce45cdf829d0"
      },
      "outputs": [
        {
          "name": "stdout",
          "output_type": "stream",
          "text": [
            "None\n"
          ]
        }
      ],
      "source": [
        "m = re.search(r'[abc.^]aron', 'daron')\n",
        "print(m)"
      ]
    },
    {
      "cell_type": "code",
      "execution_count": null,
      "metadata": {
        "ExecuteTime": {
          "end_time": "2022-01-06T08:04:51.875596Z",
          "start_time": "2022-01-06T08:04:51.865595Z"
        },
        "id": "732f7e09",
        "outputId": "eb73dec0-e5fc-4c7b-b42c-f6dfbb1e9670"
      },
      "outputs": [
        {
          "data": {
            "text/plain": [
              "<re.Match object; span=(0, 5), match='#aron'>"
            ]
          },
          "execution_count": 25,
          "metadata": {},
          "output_type": "execute_result"
        }
      ],
      "source": [
        "m = re.search(r'[^abc]aron', '#aron')\n",
        "m"
      ]
    },
    {
      "cell_type": "code",
      "execution_count": null,
      "metadata": {
        "ExecuteTime": {
          "end_time": "2022-01-06T08:05:00.827167Z",
          "start_time": "2022-01-06T08:05:00.819205Z"
        },
        "id": "3849f00f",
        "outputId": "ce3279f2-1ce5-440f-cdb3-2e4317bf392a"
      },
      "outputs": [
        {
          "name": "stdout",
          "output_type": "stream",
          "text": [
            "None\n"
          ]
        }
      ],
      "source": [
        "m = re.search(r'[^abc]aron', 'aaron')\n",
        "print(m)"
      ]
    },
    {
      "cell_type": "code",
      "execution_count": null,
      "metadata": {
        "ExecuteTime": {
          "end_time": "2022-01-06T08:09:57.549418Z",
          "start_time": "2022-01-06T08:09:57.538419Z"
        },
        "id": "26047a72",
        "outputId": "b8af42ac-7e53-4d45-f8e4-5c1e9d2df5da"
      },
      "outputs": [
        {
          "data": {
            "text/plain": [
              "<re.Match object; span=(5, 9), match=' and'>"
            ]
          },
          "execution_count": 27,
          "metadata": {},
          "output_type": "execute_result"
        }
      ],
      "source": [
        "m = re.search(r'\\sand', 'apple and banana')\n",
        "m"
      ]
    },
    {
      "cell_type": "code",
      "execution_count": null,
      "metadata": {
        "ExecuteTime": {
          "end_time": "2022-01-06T08:10:22.272121Z",
          "start_time": "2022-01-06T08:10:22.265165Z"
        },
        "id": "f4ef88cb",
        "outputId": "4b0b65c7-5fe4-429e-8e3d-3bf2b63c6752"
      },
      "outputs": [
        {
          "name": "stdout",
          "output_type": "stream",
          "text": [
            "None\n"
          ]
        }
      ],
      "source": [
        "m = re.search(r'\\Sand', 'apple and banana')\n",
        "print(m)"
      ]
    },
    {
      "cell_type": "code",
      "execution_count": null,
      "metadata": {
        "ExecuteTime": {
          "end_time": "2022-01-06T08:10:43.658699Z",
          "start_time": "2022-01-06T08:10:43.640698Z"
        },
        "id": "f0efe63a",
        "outputId": "eef98557-9022-4eac-93db-500915cf6400"
      },
      "outputs": [
        {
          "data": {
            "text/plain": [
              "<re.Match object; span=(6, 10), match='land'>"
            ]
          },
          "execution_count": 30,
          "metadata": {},
          "output_type": "execute_result"
        }
      ],
      "source": [
        "m = re.search(r'\\Sand', 'apple land banana')\n",
        "m"
      ]
    },
    {
      "cell_type": "code",
      "execution_count": null,
      "metadata": {
        "ExecuteTime": {
          "end_time": "2022-01-06T08:12:15.815192Z",
          "start_time": "2022-01-06T08:12:15.801195Z"
        },
        "id": "0071c856",
        "outputId": "552ae944-0eaa-438d-b91d-5067f6bde1a9"
      },
      "outputs": [
        {
          "data": {
            "text/plain": [
              "<re.Match object; span=(0, 4), match='pand'>"
            ]
          },
          "execution_count": 33,
          "metadata": {},
          "output_type": "execute_result"
        }
      ],
      "source": [
        "m = re.search(r'.and', 'pand')\n",
        "m"
      ]
    },
    {
      "cell_type": "code",
      "execution_count": null,
      "metadata": {
        "ExecuteTime": {
          "end_time": "2022-01-06T08:11:58.527046Z",
          "start_time": "2022-01-06T08:11:58.513047Z"
        },
        "id": "e307fb97",
        "outputId": "886eb418-9f61-41db-a992-abb1a164b24e"
      },
      "outputs": [
        {
          "name": "stdout",
          "output_type": "stream",
          "text": [
            "None\n"
          ]
        }
      ],
      "source": [
        "m = re.search(r'\\.and', 'pand')\n",
        "print(m)"
      ]
    },
    {
      "cell_type": "code",
      "execution_count": null,
      "metadata": {
        "ExecuteTime": {
          "end_time": "2022-01-06T08:13:38.288872Z",
          "start_time": "2022-01-06T08:13:38.280846Z"
        },
        "id": "86b520df",
        "outputId": "0e140ab4-dfbf-4e47-8d1b-23c581330be8"
      },
      "outputs": [
        {
          "name": "stdout",
          "output_type": "stream",
          "text": [
            "<re.Match object; span=(0, 3), match='pig'>\n"
          ]
        }
      ],
      "source": [
        "m = re.search(r'p.g', 'pig')\n",
        "print(m)"
      ]
    },
    {
      "cell_type": "code",
      "execution_count": null,
      "metadata": {
        "ExecuteTime": {
          "end_time": "2022-01-06T08:14:39.471825Z",
          "start_time": "2022-01-06T08:14:39.455825Z"
        },
        "id": "503a906f",
        "outputId": "dad9becf-9181-42a9-aea5-08457db16031"
      },
      "outputs": [
        {
          "data": {
            "text/plain": [
              "<re.Match object; span=(0, 8), match='abcbdccb'>"
            ]
          },
          "execution_count": 36,
          "metadata": {},
          "output_type": "execute_result"
        }
      ],
      "source": [
        "m = re.search(r'a[bcd]*b', 'abcbdccb') # * : 0번 이상 반복\n",
        "m"
      ]
    },
    {
      "cell_type": "code",
      "execution_count": null,
      "metadata": {
        "ExecuteTime": {
          "end_time": "2022-01-06T08:20:05.850253Z",
          "start_time": "2022-01-06T08:20:05.846253Z"
        },
        "id": "61930c14",
        "outputId": "ee88c060-6059-48b3-b720-a327fdbfa178"
      },
      "outputs": [
        {
          "name": "stdout",
          "output_type": "stream",
          "text": [
            "None\n"
          ]
        }
      ],
      "source": [
        "m = re.search(r'p+g', 'pig')\n",
        "print(m)"
      ]
    },
    {
      "cell_type": "code",
      "source": [
        ""
      ],
      "metadata": {
        "id": "XvKO0ITTXjWu"
      },
      "execution_count": null,
      "outputs": []
    },
    {
      "cell_type": "code",
      "source": [
        "re.search(r'a[bcd]*b', 'abcbdccb')"
      ],
      "metadata": {
        "colab": {
          "base_uri": "https://localhost:8080/"
        },
        "id": "gn5bMQ1elDB7",
        "outputId": "cf9b8990-7364-4b19-9122-ab6aae705b4c"
      },
      "execution_count": null,
      "outputs": [
        {
          "output_type": "execute_result",
          "data": {
            "text/plain": [
              "<re.Match object; span=(0, 8), match='abcbdccb'>"
            ]
          },
          "metadata": {},
          "execution_count": 3
        }
      ]
    },
    {
      "cell_type": "code",
      "source": [
        "re.search(r'b\\w+a', 'banana')"
      ],
      "metadata": {
        "colab": {
          "base_uri": "https://localhost:8080/"
        },
        "id": "SDgDk4Mokz7b",
        "outputId": "e477ebcf-07e5-45ab-eecb-7ce64aabe5e0"
      },
      "execution_count": null,
      "outputs": [
        {
          "output_type": "execute_result",
          "data": {
            "text/plain": [
              "<re.Match object; span=(0, 6), match='banana'>"
            ]
          },
          "metadata": {},
          "execution_count": 4
        }
      ]
    },
    {
      "cell_type": "code",
      "source": [
        "# 1번 이상 반복\n",
        "re.search(r'i+', 'pigi')"
      ],
      "metadata": {
        "colab": {
          "base_uri": "https://localhost:8080/"
        },
        "id": "bmpo2SY5Nfyw",
        "outputId": "022f48b0-876a-4391-a441-1c30e7b9bf41"
      },
      "execution_count": 7,
      "outputs": [
        {
          "output_type": "execute_result",
          "data": {
            "text/plain": [
              "<re.Match object; span=(1, 2), match='i'>"
            ]
          },
          "metadata": {},
          "execution_count": 7
        }
      ]
    },
    {
      "cell_type": "code",
      "source": [
        "re.search(r'i+', 'piigiii')"
      ],
      "metadata": {
        "colab": {
          "base_uri": "https://localhost:8080/"
        },
        "id": "zO9H-ddxk78C",
        "outputId": "beee8e0b-e89f-4ae5-8120-2fd5f61f48de"
      },
      "execution_count": null,
      "outputs": [
        {
          "output_type": "execute_result",
          "data": {
            "text/plain": [
              "<re.Match object; span=(1, 3), match='ii'>"
            ]
          },
          "metadata": {},
          "execution_count": 5
        }
      ]
    },
    {
      "cell_type": "code",
      "source": [
        "print(re.search(r'pi+g', 'pg'))"
      ],
      "metadata": {
        "colab": {
          "base_uri": "https://localhost:8080/"
        },
        "id": "9JvhI7-DlZ2A",
        "outputId": "6bc74b2a-eff5-4a30-c549-d24258b3ce9e"
      },
      "execution_count": null,
      "outputs": [
        {
          "output_type": "stream",
          "name": "stdout",
          "text": [
            "None\n"
          ]
        }
      ]
    },
    {
      "cell_type": "code",
      "source": [
        "# 0번 이상 반복\n",
        "re.search(r'pi*g', 'pg')"
      ],
      "metadata": {
        "colab": {
          "base_uri": "https://localhost:8080/"
        },
        "id": "AS9T5Nd_lnGJ",
        "outputId": "73d413c1-6459-4fa8-a901-023f3565749f"
      },
      "execution_count": null,
      "outputs": [
        {
          "output_type": "execute_result",
          "data": {
            "text/plain": [
              "<re.Match object; span=(0, 2), match='pg'>"
            ]
          },
          "metadata": {},
          "execution_count": 7
        }
      ]
    },
    {
      "cell_type": "code",
      "source": [
        "re.search(r'https?', 'http://www.naver.com')"
      ],
      "metadata": {
        "colab": {
          "base_uri": "https://localhost:8080/"
        },
        "id": "8uDRqL-ylqD5",
        "outputId": "69a95d50-51b5-4343-8288-ddc70cf505d4"
      },
      "execution_count": 8,
      "outputs": [
        {
          "output_type": "execute_result",
          "data": {
            "text/plain": [
              "<re.Match object; span=(0, 4), match='http'>"
            ]
          },
          "metadata": {},
          "execution_count": 8
        }
      ]
    },
    {
      "cell_type": "code",
      "source": [
        "re.search(r'https?', 'https://www.naver.com https://www.naver.com http://www.naver.com http://www.naver.com')"
      ],
      "metadata": {
        "colab": {
          "base_uri": "https://localhost:8080/"
        },
        "id": "FA9yf3Z1NrRl",
        "outputId": "6e3d93e3-8c17-4880-e3a2-3bec5327b90b"
      },
      "execution_count": 11,
      "outputs": [
        {
          "output_type": "execute_result",
          "data": {
            "text/plain": [
              "<re.Match object; span=(0, 5), match='https'>"
            ]
          },
          "metadata": {},
          "execution_count": 11
        }
      ]
    },
    {
      "cell_type": "code",
      "source": [
        "re.search(r'b\\w+a', 'cabana')"
      ],
      "metadata": {
        "colab": {
          "base_uri": "https://localhost:8080/"
        },
        "id": "djER3khbl1sB",
        "outputId": "38c91afe-b10c-4e59-9f28-236e44ed779e"
      },
      "execution_count": null,
      "outputs": [
        {
          "output_type": "execute_result",
          "data": {
            "text/plain": [
              "<re.Match object; span=(2, 6), match='bana'>"
            ]
          },
          "metadata": {},
          "execution_count": 11
        }
      ]
    },
    {
      "cell_type": "code",
      "source": [
        "# ^b : b로 시작\n",
        "re.search(r'^b\\w+a', 'babana')"
      ],
      "metadata": {
        "colab": {
          "base_uri": "https://localhost:8080/"
        },
        "id": "yc_paEkcmH7C",
        "outputId": "f99e28d4-ab59-414b-f8db-e497bdbe4ceb"
      },
      "execution_count": 13,
      "outputs": [
        {
          "output_type": "execute_result",
          "data": {
            "text/plain": [
              "<re.Match object; span=(0, 6), match='babana'>"
            ]
          },
          "metadata": {},
          "execution_count": 13
        }
      ]
    },
    {
      "cell_type": "code",
      "source": [
        "print(re.search(r'^b\\w+a', 'cbabana'))"
      ],
      "metadata": {
        "colab": {
          "base_uri": "https://localhost:8080/"
        },
        "id": "kNKJya7COEjI",
        "outputId": "9386d20b-45e6-4280-8e13-6e93da3253a2"
      },
      "execution_count": 16,
      "outputs": [
        {
          "output_type": "stream",
          "name": "stdout",
          "text": [
            "None\n"
          ]
        }
      ]
    },
    {
      "cell_type": "code",
      "source": [
        "# a$ : a로 끝\n",
        "re.search(r'b\\w+a$', 'cabana')"
      ],
      "metadata": {
        "colab": {
          "base_uri": "https://localhost:8080/"
        },
        "id": "2d9DPYVZmLjJ",
        "outputId": "2e839374-e98e-4b38-a2b5-4cff36775561"
      },
      "execution_count": null,
      "outputs": [
        {
          "output_type": "execute_result",
          "data": {
            "text/plain": [
              "<re.Match object; span=(2, 6), match='bana'>"
            ]
          },
          "metadata": {},
          "execution_count": 14
        }
      ]
    },
    {
      "cell_type": "code",
      "source": [
        "print(re.search(r'b\\w+a$', 'cabanap'))"
      ],
      "metadata": {
        "colab": {
          "base_uri": "https://localhost:8080/"
        },
        "id": "9hCI9pD6mS-R",
        "outputId": "e63371e5-b4c0-4852-ba1b-a2c84ff74320"
      },
      "execution_count": null,
      "outputs": [
        {
          "output_type": "stream",
          "name": "stdout",
          "text": [
            "None\n"
          ]
        }
      ]
    },
    {
      "cell_type": "code",
      "source": [
        "m = re.search(r'\\w+@.+', 'test@gmail.com')\n",
        "m.group()"
      ],
      "metadata": {
        "colab": {
          "base_uri": "https://localhost:8080/",
          "height": 35
        },
        "id": "6iFi8nhDmXjy",
        "outputId": "9abd9acd-62eb-4ebd-94c0-5c664daf9118"
      },
      "execution_count": null,
      "outputs": [
        {
          "output_type": "execute_result",
          "data": {
            "application/vnd.google.colaboratory.intrinsic+json": {
              "type": "string"
            },
            "text/plain": [
              "'test@gmail.com'"
            ]
          },
          "metadata": {},
          "execution_count": 17
        }
      ]
    },
    {
      "cell_type": "code",
      "source": [
        "m = re.search(r'(\\w+)@(.+)', 'test@gmail.com')\n",
        "print(m.group(0))\n",
        "print(m.group(1))\n",
        "print(m.group(2))"
      ],
      "metadata": {
        "colab": {
          "base_uri": "https://localhost:8080/"
        },
        "id": "1h4KcjWhmjEi",
        "outputId": "bec764b5-3ea0-4908-debf-31b24bdb563f"
      },
      "execution_count": 17,
      "outputs": [
        {
          "output_type": "stream",
          "name": "stdout",
          "text": [
            "test@gmail.com\n",
            "test\n",
            "gmail.com\n"
          ]
        }
      ]
    },
    {
      "cell_type": "code",
      "source": [
        "# {3} : 3번 반복\n",
        "re.search('pi{3}g', 'piiig')"
      ],
      "metadata": {
        "colab": {
          "base_uri": "https://localhost:8080/"
        },
        "id": "GeL4wvX8m29s",
        "outputId": "1984d5d4-cda6-49f2-ddd4-c28d731cc5c6"
      },
      "execution_count": null,
      "outputs": [
        {
          "output_type": "execute_result",
          "data": {
            "text/plain": [
              "<re.Match object; span=(0, 5), match='piiig'>"
            ]
          },
          "metadata": {},
          "execution_count": 24
        }
      ]
    },
    {
      "cell_type": "code",
      "source": [
        "print(re.search('pi{3}g', 'piiiiig'))"
      ],
      "metadata": {
        "colab": {
          "base_uri": "https://localhost:8080/"
        },
        "id": "58wVrI91m26b",
        "outputId": "2139eb8d-eca6-4369-ba7b-a4a6f6cde87e"
      },
      "execution_count": null,
      "outputs": [
        {
          "output_type": "stream",
          "name": "stdout",
          "text": [
            "None\n"
          ]
        }
      ]
    },
    {
      "cell_type": "code",
      "source": [
        "# 최대한 매칭\n",
        "re.search(r'<.+>', '<html>haha</html>')"
      ],
      "metadata": {
        "colab": {
          "base_uri": "https://localhost:8080/"
        },
        "id": "xwPtbQcpm23I",
        "outputId": "f361284c-88c0-4901-81b2-dc810dcd2a6e"
      },
      "execution_count": null,
      "outputs": [
        {
          "output_type": "execute_result",
          "data": {
            "text/plain": [
              "<re.Match object; span=(0, 17), match='<html>haha</html>'>"
            ]
          },
          "metadata": {},
          "execution_count": 27
        }
      ]
    },
    {
      "cell_type": "code",
      "source": [
        "# 최소한 매칭\n",
        "re.search(r'<.+?>', '<html>haha</html>')"
      ],
      "metadata": {
        "colab": {
          "base_uri": "https://localhost:8080/"
        },
        "id": "yfkBahpem2zO",
        "outputId": "e18a2272-b3dd-4dc2-89fd-b7f2e1455124"
      },
      "execution_count": null,
      "outputs": [
        {
          "output_type": "execute_result",
          "data": {
            "text/plain": [
              "<re.Match object; span=(0, 6), match='<html>'>"
            ]
          },
          "metadata": {},
          "execution_count": 29
        }
      ]
    },
    {
      "cell_type": "code",
      "source": [
        "re.search(r'a{3,5}', 'aaaaa')"
      ],
      "metadata": {
        "colab": {
          "base_uri": "https://localhost:8080/"
        },
        "id": "Njcz8LBjmzKY",
        "outputId": "29559b88-fc1e-412d-d0f1-4e2c5ec4ff52"
      },
      "execution_count": null,
      "outputs": [
        {
          "output_type": "execute_result",
          "data": {
            "text/plain": [
              "<re.Match object; span=(0, 5), match='aaaaa'>"
            ]
          },
          "metadata": {},
          "execution_count": 30
        }
      ]
    },
    {
      "cell_type": "code",
      "source": [
        "re.search(r'a{3,5}?', 'aaaaa')"
      ],
      "metadata": {
        "colab": {
          "base_uri": "https://localhost:8080/"
        },
        "id": "C46TpzYKnwXO",
        "outputId": "819655e5-dc5d-4349-8f03-313512ae76c8"
      },
      "execution_count": null,
      "outputs": [
        {
          "output_type": "execute_result",
          "data": {
            "text/plain": [
              "<re.Match object; span=(0, 3), match='aaa'>"
            ]
          },
          "metadata": {},
          "execution_count": 31
        }
      ]
    },
    {
      "cell_type": "code",
      "source": [
        "# match : 앞에서 탐색\n",
        "print(re.match(r'\\d\\d\\d', 'my number is 123'))"
      ],
      "metadata": {
        "colab": {
          "base_uri": "https://localhost:8080/"
        },
        "id": "BFLqdInXnx3p",
        "outputId": "1a5e51f0-b187-4726-b5b5-c203ee6833c1"
      },
      "execution_count": null,
      "outputs": [
        {
          "output_type": "stream",
          "name": "stdout",
          "text": [
            "None\n"
          ]
        }
      ]
    },
    {
      "cell_type": "code",
      "source": [
        "re.match(r'\\d', '123my number is 123')"
      ],
      "metadata": {
        "colab": {
          "base_uri": "https://localhost:8080/"
        },
        "id": "F6iYodTqPT1m",
        "outputId": "4aff73ba-3d45-445b-eb54-dbe78c434a4d"
      },
      "execution_count": 21,
      "outputs": [
        {
          "output_type": "execute_result",
          "data": {
            "text/plain": [
              "<re.Match object; span=(0, 1), match='1'>"
            ]
          },
          "metadata": {},
          "execution_count": 21
        }
      ]
    },
    {
      "cell_type": "code",
      "source": [
        "re.match(r'\\d\\d\\d', '123 is my number')"
      ],
      "metadata": {
        "colab": {
          "base_uri": "https://localhost:8080/"
        },
        "id": "9nfjKgQKoCqM",
        "outputId": "f1d47c88-7da1-4eba-96f9-158c0896ff8c"
      },
      "execution_count": null,
      "outputs": [
        {
          "output_type": "execute_result",
          "data": {
            "text/plain": [
              "<re.Match object; span=(0, 3), match='123'>"
            ]
          },
          "metadata": {},
          "execution_count": 32
        }
      ]
    },
    {
      "cell_type": "code",
      "source": [
        "re.search(r'\\d\\d\\d', 'my number is 123')"
      ],
      "metadata": {
        "colab": {
          "base_uri": "https://localhost:8080/"
        },
        "id": "VWY8RAWboFbx",
        "outputId": "66debd6d-6c48-49fd-b6bc-5867d915a5f3"
      },
      "execution_count": null,
      "outputs": [
        {
          "output_type": "execute_result",
          "data": {
            "text/plain": [
              "<re.Match object; span=(13, 16), match='123'>"
            ]
          },
          "metadata": {},
          "execution_count": 34
        }
      ]
    },
    {
      "cell_type": "code",
      "source": [
        "re.search(r'\\d\\d\\d', '123 is my number')"
      ],
      "metadata": {
        "colab": {
          "base_uri": "https://localhost:8080/"
        },
        "id": "vgeDeLc0oYOB",
        "outputId": "b92bc63f-1e24-4e1b-b9c6-40b3c078e755"
      },
      "execution_count": null,
      "outputs": [
        {
          "output_type": "execute_result",
          "data": {
            "text/plain": [
              "<re.Match object; span=(0, 3), match='123'>"
            ]
          },
          "metadata": {},
          "execution_count": 36
        }
      ]
    },
    {
      "cell_type": "code",
      "source": [
        "re.findall(r'[\\w-]+@[\\w.]+', 'tes-t-@gmail.com haha test2@gmail.com nice test test')"
      ],
      "metadata": {
        "colab": {
          "base_uri": "https://localhost:8080/"
        },
        "id": "yxtZOhaOQdiY",
        "outputId": "f9e4dede-2607-4f82-ff1b-e039b7d5f68c"
      },
      "execution_count": 28,
      "outputs": [
        {
          "output_type": "execute_result",
          "data": {
            "text/plain": [
              "['tes-t-@gmail.com', 'test2@gmail.com']"
            ]
          },
          "metadata": {},
          "execution_count": 28
        }
      ]
    },
    {
      "cell_type": "code",
      "source": [
        "re.search(r'[\\w-]+@[\\w.]+', 'test@gmail.com haha test2@gmail.com nice test test')"
      ],
      "metadata": {
        "colab": {
          "base_uri": "https://localhost:8080/"
        },
        "id": "cvejqwuVQaP3",
        "outputId": "53fbf464-db9d-4a12-d751-01ee2fe8780a"
      },
      "execution_count": 24,
      "outputs": [
        {
          "output_type": "execute_result",
          "data": {
            "text/plain": [
              "<re.Match object; span=(0, 14), match='test@gmail.com'>"
            ]
          },
          "metadata": {},
          "execution_count": 24
        }
      ]
    },
    {
      "cell_type": "code",
      "source": [
        "re.findall(r'[\\w-]+@[\\w.]+', 'test@gmail.com haha test2@gmail.com nice test test')"
      ],
      "metadata": {
        "colab": {
          "base_uri": "https://localhost:8080/"
        },
        "id": "BGShvZveoLnZ",
        "outputId": "41cfc64a-b8ec-4e98-d6a2-3081131d9f95"
      },
      "execution_count": null,
      "outputs": [
        {
          "output_type": "execute_result",
          "data": {
            "text/plain": [
              "['test@gmail.com', 'test2@gmail.com']"
            ]
          },
          "metadata": {},
          "execution_count": 37
        }
      ]
    },
    {
      "cell_type": "code",
      "source": [
        "re.sub(r'[\\w-]+@[\\w.]+', 'great', 'test@gmail.com haha test2@gmail.com nice test test')"
      ],
      "metadata": {
        "colab": {
          "base_uri": "https://localhost:8080/",
          "height": 35
        },
        "id": "XBfLe4bVo7gh",
        "outputId": "6bf8282b-1b66-4fee-fa0d-6dc5cd0d304f"
      },
      "execution_count": null,
      "outputs": [
        {
          "output_type": "execute_result",
          "data": {
            "application/vnd.google.colaboratory.intrinsic+json": {
              "type": "string"
            },
            "text/plain": [
              "'great haha great nice test test'"
            ]
          },
          "metadata": {},
          "execution_count": 40
        }
      ]
    },
    {
      "cell_type": "code",
      "source": [
        "re.sub(r'[\\w-]+@[\\w.]+', 'great', 'test@gmail.com haha test2@gmail.com nice test test', count=0)"
      ],
      "metadata": {
        "colab": {
          "base_uri": "https://localhost:8080/",
          "height": 35
        },
        "id": "rGCmVe8HP2bW",
        "outputId": "b4493bd2-0e3a-4c19-b5c6-963138711728"
      },
      "execution_count": 22,
      "outputs": [
        {
          "output_type": "execute_result",
          "data": {
            "application/vnd.google.colaboratory.intrinsic+json": {
              "type": "string"
            },
            "text/plain": [
              "'great haha great nice test test'"
            ]
          },
          "metadata": {},
          "execution_count": 22
        }
      ]
    },
    {
      "cell_type": "code",
      "source": [
        "re.sub(r'[\\w-]+@[\\w.]+', 'great', 'test@gmail.com haha test2@gmail.com nice test test', count=1)"
      ],
      "metadata": {
        "colab": {
          "base_uri": "https://localhost:8080/",
          "height": 35
        },
        "id": "i45VMMs5okeB",
        "outputId": "9ca15798-19ec-4c51-897b-d1d33196c954"
      },
      "execution_count": 23,
      "outputs": [
        {
          "output_type": "execute_result",
          "data": {
            "application/vnd.google.colaboratory.intrinsic+json": {
              "type": "string"
            },
            "text/plain": [
              "'great haha test2@gmail.com nice test test'"
            ]
          },
          "metadata": {},
          "execution_count": 23
        }
      ]
    },
    {
      "cell_type": "code",
      "source": [
        "email_reg = re.compile(r'[\\w-]+@[\\w.]+')\n",
        "\n",
        "email_reg.search('test@gmail.com haha good')"
      ],
      "metadata": {
        "colab": {
          "base_uri": "https://localhost:8080/"
        },
        "id": "Z2hM3lEko_rW",
        "outputId": "e05c7cde-4bbc-4d7a-c041-17e46c1cc79a"
      },
      "execution_count": null,
      "outputs": [
        {
          "output_type": "execute_result",
          "data": {
            "text/plain": [
              "<re.Match object; span=(0, 14), match='test@gmail.com'>"
            ]
          },
          "metadata": {},
          "execution_count": 45
        }
      ]
    },
    {
      "cell_type": "code",
      "source": [
        "email_reg.findall('test@gmail.com haha good 11lalala@naver.com')"
      ],
      "metadata": {
        "colab": {
          "base_uri": "https://localhost:8080/"
        },
        "id": "ejOSKx27o_n8",
        "outputId": "4a9c79c7-18f1-45d8-976c-f4f09de495fb"
      },
      "execution_count": null,
      "outputs": [
        {
          "output_type": "execute_result",
          "data": {
            "text/plain": [
              "['test@gmail.com', '11lalala@naver.com']"
            ]
          },
          "metadata": {},
          "execution_count": 47
        }
      ]
    },
    {
      "cell_type": "code",
      "source": [
        "webs = [\n",
        "        'http://www.naver.com',\n",
        "        'https://www.google.com',\n",
        "        'ftp://www.naver.com',\n",
        "        'htp://www.google.com',\n",
        "        'http://www.naver.com'\n",
        "]"
      ],
      "metadata": {
        "id": "lm9YUz8ro_kc"
      },
      "execution_count": 29,
      "outputs": []
    },
    {
      "cell_type": "code",
      "source": [
        "web_reg = re.compile(r'https?://[\\w.]+\\w+$')\n",
        "list(map(lambda w: web_reg.search(w) != None, webs))"
      ],
      "metadata": {
        "colab": {
          "base_uri": "https://localhost:8080/"
        },
        "id": "vtWAmUuho_hA",
        "outputId": "d3537701-c02b-48a3-c76e-52fdf842a703"
      },
      "execution_count": null,
      "outputs": [
        {
          "output_type": "execute_result",
          "data": {
            "text/plain": [
              "[True, True, False, False, True]"
            ]
          },
          "metadata": {},
          "execution_count": 51
        }
      ]
    },
    {
      "cell_type": "code",
      "source": [
        "web_reg = re.compile(r'https?://[\\w.]+')\n",
        "list(map(lambda w: web_reg.search(w) != None, webs))"
      ],
      "metadata": {
        "id": "hSshRSLVo9Dw",
        "colab": {
          "base_uri": "https://localhost:8080/"
        },
        "outputId": "703f2196-9b01-42e6-918d-6434927ca1eb"
      },
      "execution_count": 30,
      "outputs": [
        {
          "output_type": "execute_result",
          "data": {
            "text/plain": [
              "[True, True, False, False, True]"
            ]
          },
          "metadata": {},
          "execution_count": 30
        }
      ]
    },
    {
      "cell_type": "code",
      "source": [
        ""
      ],
      "metadata": {
        "id": "cHYhdstMRK3M"
      },
      "execution_count": null,
      "outputs": []
    }
  ]
}