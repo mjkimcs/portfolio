{
  "nbformat": 4,
  "nbformat_minor": 0,
  "metadata": {
    "colab": {
      "name": "인공지능_기본개념.ipynb",
      "provenance": [],
      "authorship_tag": "ABX9TyNRBj4csloZ9ZFCAEKPSK0t",
      "include_colab_link": true
    },
    "kernelspec": {
      "name": "python3",
      "display_name": "Python 3"
    }
  },
  "cells": [
    {
      "cell_type": "markdown",
      "metadata": {
        "id": "view-in-github",
        "colab_type": "text"
      },
      "source": [
        "<a href=\"https://colab.research.google.com/github/mjkimcs/portfolio/blob/main/%EC%9D%B8%EA%B3%B5%EC%A7%80%EB%8A%A5_%EA%B8%B0%EB%B3%B8%EA%B0%9C%EB%85%90.ipynb\" target=\"_parent\"><img src=\"https://colab.research.google.com/assets/colab-badge.svg\" alt=\"Open In Colab\"/></a>"
      ]
    },
    {
      "cell_type": "markdown",
      "metadata": {
        "id": "m9vsKw-ywnx9"
      },
      "source": [
        "인공지능? 업무자동화를 위한 도구, 단순명령을 실행하는 것이 아닌 창의적인 업무도 가능  \r\n",
        "\r\n",
        "인공지능 스킬은 비전공자한테 더 필요하다. 인공지능 스킬은 비전공 분야에 적용이 돼야 그 빛을 발한다. 즉, 비전공 분야의 지식을 갖고 있는 사람이 인공지능 스킬을 배우면 금상첨화.  "
      ]
    },
    {
      "cell_type": "markdown",
      "metadata": {
        "id": "gIbMTSz26AyD"
      },
      "source": [
        "데이터마이닝: 데이터간의 상관관계나 속성을 찾는 것이 주목적, 여러방법 중 머신러닝이 있음"
      ]
    },
    {
      "cell_type": "markdown",
      "metadata": {
        "id": "4Kz6U09TyVKa"
      },
      "source": [
        "##인공지능: 기계한테 지능을 갖게 만드는 것  \r\n",
        "###머신러닝: 여러 방법론 중 학습, 기계 '학습'  \r\n",
        "#####딥러닝: Deep Neural Network, 인간의 신경계는 뉴런으로 구성, 신경망의 깊이가 깊으니까 Deep   "
      ]
    },
    {
      "cell_type": "markdown",
      "metadata": {
        "id": "QVJOJLaszEwq"
      },
      "source": [
        "머신러닝\r\n",
        "1. 지도학습: 미지의 데이터를 예측, 분류(Classification)와 회귀(Regression)\r\n",
        "2. 비지도학습: 그룹으로 분류, 군집화(Clustering)\r\n",
        "3. 강화학습: 잘하면 보상을 주고 못하면 벌을 줌, 보상을 많이 받는 쪽으로 스스로 학습, 알파고"
      ]
    },
    {
      "cell_type": "markdown",
      "metadata": {
        "id": "jlR_9g632PRM"
      },
      "source": [
        "1.\t지도학습(대부분): 데이터(입력/정답) 패턴을 학습하여, 그 결과를 바탕으로 미래값(정답)을 예측  \r\n",
        "①\tRegression(회귀): 미래값이 양적(숫자)  \r\n",
        "②\tClassification(분류): 미래값이 질적(Pass/Fail, Low/Medium/High)  \r\n",
        "  \r\n",
        "2.\t비지도학습  \r\n",
        "①\tClustering(군집화)  \r\n",
        "  -\t트레이닝 데이터에 정답은 없고 입력 데이터만 있음  \r\n",
        "  -\t입력 데이터를 학습하여 입력 데이터의 패턴, 특성 등을 발견  \r\n",
        "  -\t뉴스 그룹핑, 상품 추천시스템 등에 사용  \r\n"
      ]
    }
  ]
}
