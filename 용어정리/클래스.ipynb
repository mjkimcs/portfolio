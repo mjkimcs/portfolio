{
  "nbformat": 4,
  "nbformat_minor": 0,
  "metadata": {
    "colab": {
      "name": "클래스",
      "provenance": [],
      "collapsed_sections": [],
      "authorship_tag": "ABX9TyNbhcWruLSfLg1i0ivkZjd+",
      "include_colab_link": true
    },
    "kernelspec": {
      "name": "python3",
      "display_name": "Python 3"
    },
    "language_info": {
      "name": "python"
    }
  },
  "cells": [
    {
      "cell_type": "markdown",
      "metadata": {
        "id": "view-in-github",
        "colab_type": "text"
      },
      "source": [
        "<a href=\"https://colab.research.google.com/github/mjkimcs/portfolio/blob/main/%EC%9A%A9%EC%96%B4%EC%A0%95%EB%A6%AC/%ED%81%B4%EB%9E%98%EC%8A%A4.ipynb\" target=\"_parent\"><img src=\"https://colab.research.google.com/assets/colab-badge.svg\" alt=\"Open In Colab\"/></a>"
      ]
    },
    {
      "cell_type": "markdown",
      "metadata": {
        "id": "6aMFarTKTHXw"
      },
      "source": [
        "**클래스**\n",
        "-\t클래스 = 변수(Variable) + 메소드(Methods)\n",
        "-\t객체지향프로그램(OOP, Object Oriented Programming)의 사용자정의 데이터형\n",
        "-\t실제로 존재하는 사물의 속성(변수)과 기능(메소드)을 모델링해서 추상화시키는 과정\n"
      ]
    },
    {
      "cell_type": "markdown",
      "metadata": {
        "id": "Q2t1tEeUTYi9"
      },
      "source": [
        "**객체**\n",
        "-\t객체 = 속성(Attrivutes) + 행위(Behaviors)\n",
        "-\t모듈\n",
        "-\t자신 고유의 속성(키와 값) + 클래스에서 정의한 행위를 수행(움직인다)\n",
        "-\t객체는 클래스의 인스턴스\n",
        "-\t정의된 클래스를 사용해서 실제로 메모리에 생성되어 메모리에 로딩된 상태\n",
        "-\t객체는 클래스의 타입으로 선언됐을 때를 의미하는 것이고, 그 객체가 메모리에 할당되어 실제 사용될 때 인스턴스라고 함"
      ]
    },
    {
      "cell_type": "code",
      "metadata": {
        "id": "19LXOP7pTE7e"
      },
      "source": [
        ""
      ],
      "execution_count": null,
      "outputs": []
    }
  ]
}