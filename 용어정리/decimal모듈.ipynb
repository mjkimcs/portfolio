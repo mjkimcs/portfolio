{
  "nbformat": 4,
  "nbformat_minor": 0,
  "metadata": {
    "colab": {
      "name": "decimal모듈",
      "provenance": [],
      "collapsed_sections": [],
      "authorship_tag": "ABX9TyMuTPHgEtqWzzd0sI4hbSUe",
      "include_colab_link": true
    },
    "kernelspec": {
      "name": "python3",
      "display_name": "Python 3"
    },
    "language_info": {
      "name": "python"
    }
  },
  "cells": [
    {
      "cell_type": "markdown",
      "metadata": {
        "id": "view-in-github",
        "colab_type": "text"
      },
      "source": [
        "<a href=\"https://colab.research.google.com/github/mjkimcs/portfolio/blob/main/%EC%9A%A9%EC%96%B4%EC%A0%95%EB%A6%AC/decimal%EB%AA%A8%EB%93%88.ipynb\" target=\"_parent\"><img src=\"https://colab.research.google.com/assets/colab-badge.svg\" alt=\"Open In Colab\"/></a>"
      ]
    },
    {
      "cell_type": "markdown",
      "metadata": {
        "id": "a7kjNcw2S3uw"
      },
      "source": [
        "- import 모듈명 as 별칭\n",
        "- from 모듈명 import 클래스명 as 별칭"
      ]
    },
    {
      "cell_type": "markdown",
      "metadata": {
        "id": "zhEHFLeEVVp4"
      },
      "source": [
        "### Decimal 모듈\n",
        "- 진법 변환 에러를 해결해주는 모듈\n",
        "      진법 변환 에러란? \n",
        "      값을 먼저 이진수로 변환 후 정규화하고 \n",
        "      그것을 다시 정형화된 형식으로 표현하면 \n",
        "      그 결과값이 오버플로되어 무한대 값이 나오거나\n",
        "      언더플로되어 비정상적인 값(유효숫자를 잃어버림) 또는 0이 나옴\n",
        "\n",
        "- 소수점 자리의 정밀도 조절이 가능해서 정밀도가 큰 연산도 가능\n",
        "- 부동소수점: 소수점의 위치를 고정하지 않고 그 위치를 찾아내는 수를 따로 적는 방식, 유효숫자를 나타내는 가수(mantissa)와 소수점 위치를 풀이하는 지수(expoenet)로 표현, [가수]*[밑수][지수]\n"
      ]
    },
    {
      "cell_type": "code",
      "metadata": {
        "colab": {
          "base_uri": "https://localhost:8080/"
        },
        "id": "AOCWqGXpSGaL",
        "outputId": "a39daaa8-0cbb-48bd-894f-26a9d75e1e2b"
      },
      "source": [
        "(90.7 + 30.2) + 0.0002  # 결과가 비정상적인 값"
      ],
      "execution_count": 2,
      "outputs": [
        {
          "output_type": "execute_result",
          "data": {
            "text/plain": [
              "120.90020000000001"
            ]
          },
          "metadata": {
            "tags": []
          },
          "execution_count": 2
        }
      ]
    },
    {
      "cell_type": "code",
      "metadata": {
        "colab": {
          "base_uri": "https://localhost:8080/"
        },
        "id": "B6sOYTf4V6o2",
        "outputId": "621b9dce-2364-4b80-fbf5-88a21c673c84"
      },
      "source": [
        "import decimal\n",
        "\n",
        "decimal.getcontext()"
      ],
      "execution_count": 3,
      "outputs": [
        {
          "output_type": "execute_result",
          "data": {
            "text/plain": [
              "Context(prec=28, rounding=ROUND_HALF_EVEN, Emin=-999999, Emax=999999, capitals=1, clamp=0, flags=[], traps=[InvalidOperation, DivisionByZero, Overflow])"
            ]
          },
          "metadata": {
            "tags": []
          },
          "execution_count": 3
        }
      ]
    },
    {
      "cell_type": "code",
      "metadata": {
        "colab": {
          "base_uri": "https://localhost:8080/"
        },
        "id": "vhop6GJZYiMN",
        "outputId": "94146b33-27bc-4433-f11b-b4b1557e2498"
      },
      "source": [
        "import decimal\n",
        "\n",
        "if __name__ == '__main__':\n",
        "  a, b = decimal.Decimal(\"90.7\"), decimal.Decimal(\"30.2\")\n",
        "  print(a, b, type(a), type(b))\n",
        "  c = decimal.Decimal(\"0.0002\")\n",
        "  print((a+b) + c)\n",
        "  print(\"===============================================\")\n",
        "  print(1/3)\n",
        "  decimal.getcontext().prec = 3\n",
        "  e, f = decimal.Decimal(\"1\"), decimal.Decimal(\"3\")\n",
        "  print(e/f)\n",
        "  print(\"===============================================\")\n",
        "  b = decimal.Decimal(90.7)\n",
        "  print(b)"
      ],
      "execution_count": 17,
      "outputs": [
        {
          "output_type": "stream",
          "text": [
            "90.7 30.2 <class 'decimal.Decimal'> <class 'decimal.Decimal'>\n",
            "121\n",
            "===============================================\n",
            "0.3333333333333333\n",
            "0.333\n",
            "===============================================\n",
            "90.7000000000000028421709430404007434844970703125\n"
          ],
          "name": "stdout"
        }
      ]
    },
    {
      "cell_type": "code",
      "metadata": {
        "colab": {
          "base_uri": "https://localhost:8080/"
        },
        "id": "kZsYn67vZU2M",
        "outputId": "04dbe0e4-a2a3-40ec-b51c-78fb2f48d06d"
      },
      "source": [
        "decimal.DefaultContext"
      ],
      "execution_count": 18,
      "outputs": [
        {
          "output_type": "execute_result",
          "data": {
            "text/plain": [
              "Context(prec=28, rounding=ROUND_HALF_EVEN, Emin=-999999, Emax=999999, capitals=1, clamp=0, flags=[], traps=[InvalidOperation, DivisionByZero, Overflow])"
            ]
          },
          "metadata": {
            "tags": []
          },
          "execution_count": 18
        }
      ]
    },
    {
      "cell_type": "code",
      "metadata": {
        "colab": {
          "base_uri": "https://localhost:8080/"
        },
        "id": "RQC0Dby7bu5a",
        "outputId": "2a74a260-544c-4d7d-8e64-300afa4eab5f"
      },
      "source": [
        "decimal.BasicContext"
      ],
      "execution_count": 19,
      "outputs": [
        {
          "output_type": "execute_result",
          "data": {
            "text/plain": [
              "Context(prec=9, rounding=ROUND_HALF_UP, Emin=-999999, Emax=999999, capitals=1, clamp=0, flags=[], traps=[Clamped, InvalidOperation, DivisionByZero, Overflow, Underflow])"
            ]
          },
          "metadata": {
            "tags": []
          },
          "execution_count": 19
        }
      ]
    },
    {
      "cell_type": "code",
      "metadata": {
        "colab": {
          "base_uri": "https://localhost:8080/"
        },
        "id": "Fo6PvHV1bxqb",
        "outputId": "f666a5e0-e0c3-4d82-8136-bbce616312bf"
      },
      "source": [
        "decimal.ExtendedContext"
      ],
      "execution_count": 21,
      "outputs": [
        {
          "output_type": "execute_result",
          "data": {
            "text/plain": [
              "Context(prec=9, rounding=ROUND_HALF_EVEN, Emin=-999999, Emax=999999, capitals=1, clamp=0, flags=[], traps=[])"
            ]
          },
          "metadata": {
            "tags": []
          },
          "execution_count": 21
        }
      ]
    },
    {
      "cell_type": "code",
      "metadata": {
        "colab": {
          "base_uri": "https://localhost:8080/"
        },
        "id": "TJoAPfOXb0ZU",
        "outputId": "0f602075-25f2-4d0e-daab-3db0ff03bb48"
      },
      "source": [
        "c = decimal.Context(prec=100, Emin=-425000000, Emax=425000000, rounding=decimal.ROUND_HALF_EVEN, capitals=1, clamp=1, flags=[])\n",
        "\n",
        "decimal.setcontext(c)\n",
        "print(decimal.getcontext())"
      ],
      "execution_count": 25,
      "outputs": [
        {
          "output_type": "stream",
          "text": [
            "Context(prec=100, rounding=ROUND_HALF_EVEN, Emin=-425000000, Emax=425000000, capitals=1, clamp=1, flags=[], traps=[InvalidOperation, DivisionByZero, Overflow])\n"
          ],
          "name": "stdout"
        }
      ]
    },
    {
      "cell_type": "code",
      "metadata": {
        "colab": {
          "base_uri": "https://localhost:8080/"
        },
        "id": "sw1GuNdlcymN",
        "outputId": "1377c408-6dae-4742-9a27-2bb8af2ea33f"
      },
      "source": [
        "decimal.setcontext(decimal.ExtendedContext)\n",
        "print(decimal.getcontext())"
      ],
      "execution_count": 29,
      "outputs": [
        {
          "output_type": "stream",
          "text": [
            "Context(prec=9, rounding=ROUND_HALF_EVEN, Emin=-999999, Emax=999999, capitals=1, clamp=0, flags=[], traps=[])\n"
          ],
          "name": "stdout"
        }
      ]
    },
    {
      "cell_type": "code",
      "metadata": {
        "colab": {
          "base_uri": "https://localhost:8080/"
        },
        "id": "iVyPvqqOg4uk",
        "outputId": "27414f6e-c3a2-4036-c8a5-599a1f61a70f"
      },
      "source": [
        "c = decimal.Context(prec=2, Emin=-425000000, Emax=425000000, rounding=decimal.ROUND_HALF_EVEN, capitals=1, clamp=1, flags=[])\n",
        "decimal.setcontext(c)\n",
        "\n",
        "e, f = decimal.Decimal(\"1\"), decimal.Decimal(\"3\")\n",
        "print(e/f)"
      ],
      "execution_count": 38,
      "outputs": [
        {
          "output_type": "stream",
          "text": [
            "0.33\n"
          ],
          "name": "stdout"
        }
      ]
    },
    {
      "cell_type": "code",
      "metadata": {
        "id": "gxDS0rpMjhsz"
      },
      "source": [
        ""
      ],
      "execution_count": null,
      "outputs": []
    }
  ]
}