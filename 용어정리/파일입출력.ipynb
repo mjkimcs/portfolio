{
  "nbformat": 4,
  "nbformat_minor": 0,
  "metadata": {
    "colab": {
      "name": "파일입출력",
      "provenance": [],
      "collapsed_sections": [],
      "authorship_tag": "ABX9TyPHwGshiekqnu5yQmb5PSlt",
      "include_colab_link": true
    },
    "kernelspec": {
      "name": "python3",
      "display_name": "Python 3"
    },
    "language_info": {
      "name": "python"
    }
  },
  "cells": [
    {
      "cell_type": "markdown",
      "metadata": {
        "id": "view-in-github",
        "colab_type": "text"
      },
      "source": [
        "<a href=\"https://colab.research.google.com/github/mjkimcs/portfolio/blob/main/%EC%9A%A9%EC%96%B4%EC%A0%95%EB%A6%AC/%ED%8C%8C%EC%9D%BC%EC%9E%85%EC%B6%9C%EB%A0%A5.ipynb\" target=\"_parent\"><img src=\"https://colab.research.google.com/assets/colab-badge.svg\" alt=\"Open In Colab\"/></a>"
      ]
    },
    {
      "cell_type": "markdown",
      "metadata": {
        "id": "oADP-vlD89wj"
      },
      "source": [
        "## 파일처리의 종류\n",
        "1. byte : 이미지, 동영상, 음성, pickle(직렬화 한 레코드씩마다 끊어서 보내겠다 압축)/unpickle(역직렬화)\n",
        "2. 문자 : txt, 유니코드가 기점\n",
        "3. object : class 단위, class를 만들어서 객체생성 후 파일입출력"
      ]
    },
    {
      "cell_type": "code",
      "metadata": {
        "id": "1vkngggw1dn9"
      },
      "source": [
        "open(\"a.txt\") # 텍스트 읽기 모드(rt)\n",
        "open(\"a.txt\", \"w\") # 쓰기\n",
        "open(\"apple.bmp\", \"r+b\") # 바이너리로 읽기+쓰기\n",
        "open(\"a.txt\", encoding=\"utf-8\")"
      ],
      "execution_count": null,
      "outputs": []
    },
    {
      "cell_type": "code",
      "metadata": {
        "colab": {
          "base_uri": "https://localhost:8080/"
        },
        "id": "z1NhK7P8__lw",
        "outputId": "c9429fb6-6876-4e7c-839d-2f2904508681"
      },
      "source": [
        "str = \"민정이\"\n",
        "\n",
        "f = open(\"data.txt\", \"w\")\n",
        "f.write(str)\n",
        "f.close()\n",
        "\n",
        "f = open(\"data.txt\", \"r\")\n",
        "print(f.read())\n",
        "f.close()"
      ],
      "execution_count": 1,
      "outputs": [
        {
          "output_type": "stream",
          "text": [
            "민정이\n"
          ],
          "name": "stdout"
        }
      ]
    },
    {
      "cell_type": "code",
      "metadata": {
        "colab": {
          "base_uri": "https://localhost:8080/"
        },
        "id": "P-qSpvQjBd1T",
        "outputId": "1b448096-40bf-46dd-83ef-e857dcfb611b"
      },
      "source": [
        "def My_write(str, mypath):\n",
        "    f = open(mypath, \"w\")\n",
        "    f.write(str)\n",
        "    f.close()\n",
        "\n",
        "def My_read(mypath):\n",
        "    f = open(mypath, \"r\")\n",
        "    print(f.read())\n",
        "    f.close()\n",
        "\n",
        "if __name__ == '__main__':\n",
        "    str = '민정이'\n",
        "    mypath = \"./data.txt\" # c:\\\\Test/data.txt\n",
        "    My_write(str, mypath)\n",
        "    My_read(mypath)"
      ],
      "execution_count": 4,
      "outputs": [
        {
          "output_type": "stream",
          "text": [
            "민정이\n"
          ],
          "name": "stdout"
        }
      ]
    },
    {
      "cell_type": "code",
      "metadata": {
        "colab": {
          "base_uri": "https://localhost:8080/"
        },
        "id": "8MLIHW4NBeNx",
        "outputId": "ae960373-23e8-478a-a95f-67a9b068ce7f"
      },
      "source": [
        "class MyFile:\n",
        "  def __init__(self, mypath, str):\n",
        "    self.mypath = mypath\n",
        "    self.str = str\n",
        "\n",
        "  def My_write(self):\n",
        "    f = open(self.mypath, \"w\")\n",
        "    f.write(self.str)\n",
        "    f.close()\n",
        "\n",
        "  def My_read(self):\n",
        "    f = open(self.mypath, \"r\")\n",
        "    print(f.read())\n",
        "    f.close()\n",
        "\n",
        "if __name__ == '__main__':\n",
        "    str = '민정이'\n",
        "    mypath = \"./data.txt\" # c:\\\\Test/data.txt\n",
        "\n",
        "    m1 = MyFile(mypath, str)\n",
        "    m1.My_write()\n",
        "    m1.My_read()"
      ],
      "execution_count": 5,
      "outputs": [
        {
          "output_type": "stream",
          "text": [
            "민정이\n"
          ],
          "name": "stdout"
        }
      ]
    },
    {
      "cell_type": "code",
      "metadata": {
        "id": "7GiKKeJsCXHP"
      },
      "source": [
        ""
      ],
      "execution_count": null,
      "outputs": []
    },
    {
      "cell_type": "code",
      "metadata": {
        "id": "OyHRy04aCW0V"
      },
      "source": [
        ""
      ],
      "execution_count": null,
      "outputs": []
    },
    {
      "cell_type": "code",
      "metadata": {
        "id": "Js8i0tDnCWvu"
      },
      "source": [
        ""
      ],
      "execution_count": null,
      "outputs": []
    },
    {
      "cell_type": "code",
      "metadata": {
        "id": "TUA2eY_UCWrE"
      },
      "source": [
        ""
      ],
      "execution_count": null,
      "outputs": []
    }
  ]
}