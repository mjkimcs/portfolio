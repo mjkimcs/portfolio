{
  "nbformat": 4,
  "nbformat_minor": 0,
  "metadata": {
    "colab": {
      "name": "파일입출력",
      "provenance": [],
      "collapsed_sections": [],
      "authorship_tag": "ABX9TyMEZUsoseTAnDSI+eh5E4f3",
      "include_colab_link": true
    },
    "kernelspec": {
      "name": "python3",
      "display_name": "Python 3"
    },
    "language_info": {
      "name": "python"
    }
  },
  "cells": [
    {
      "cell_type": "markdown",
      "metadata": {
        "id": "view-in-github",
        "colab_type": "text"
      },
      "source": [
        "<a href=\"https://colab.research.google.com/github/mjkimcs/portfolio/blob/main/%EC%9A%A9%EC%96%B4%EC%A0%95%EB%A6%AC/%ED%8C%8C%EC%9D%BC%EC%9E%85%EC%B6%9C%EB%A0%A5.ipynb\" target=\"_parent\"><img src=\"https://colab.research.google.com/assets/colab-badge.svg\" alt=\"Open In Colab\"/></a>"
      ]
    },
    {
      "cell_type": "markdown",
      "metadata": {
        "id": "oADP-vlD89wj"
      },
      "source": [
        "## 파일처리의 종류\n",
        "1. byte : 이미지, 동영상, 음성, pickle(직렬화 한 레코드씩마다 끊어서 보내겠다 압축)/unpickle(역직렬화)\n",
        "2. 문자 : txt, 유니코드가 기점\n",
        "3. object : class 단위, class를 만들어서 객체생성 후 파일입출력"
      ]
    },
    {
      "cell_type": "code",
      "metadata": {
        "id": "1vkngggw1dn9"
      },
      "source": [
        "open(\"a.txt\") # 텍스트 읽기 모드(rt)\n",
        "open(\"a.txt\", \"w\") # 쓰기\n",
        "open(\"apple.bmp\", \"r+b\") # 바이너리로 읽기+쓰기\n",
        "open(\"a.txt\", encoding=\"utf-8\")"
      ],
      "execution_count": null,
      "outputs": []
    },
    {
      "cell_type": "code",
      "metadata": {
        "colab": {
          "base_uri": "https://localhost:8080/"
        },
        "id": "z1NhK7P8__lw",
        "outputId": "c9429fb6-6876-4e7c-839d-2f2904508681"
      },
      "source": [
        "str = \"민정이\"\n",
        "\n",
        "f = open(\"data.txt\", \"w\")\n",
        "f.write(str)\n",
        "f.close()\n",
        "\n",
        "f = open(\"data.txt\", \"r\")\n",
        "print(f.read())\n",
        "f.close()"
      ],
      "execution_count": 1,
      "outputs": [
        {
          "output_type": "stream",
          "text": [
            "민정이\n"
          ],
          "name": "stdout"
        }
      ]
    },
    {
      "cell_type": "code",
      "metadata": {
        "colab": {
          "base_uri": "https://localhost:8080/"
        },
        "id": "P-qSpvQjBd1T",
        "outputId": "1b448096-40bf-46dd-83ef-e857dcfb611b"
      },
      "source": [
        "def My_write(str, mypath):\n",
        "    f = open(mypath, \"w\")\n",
        "    f.write(str)\n",
        "    f.close()\n",
        "\n",
        "def My_read(mypath):\n",
        "    f = open(mypath, \"r\")\n",
        "    print(f.read())\n",
        "    f.close()\n",
        "\n",
        "if __name__ == '__main__':\n",
        "    str = '민정이'\n",
        "    mypath = \"./data.txt\" # c:\\\\Test/data.txt\n",
        "    My_write(str, mypath)\n",
        "    My_read(mypath)"
      ],
      "execution_count": 4,
      "outputs": [
        {
          "output_type": "stream",
          "text": [
            "민정이\n"
          ],
          "name": "stdout"
        }
      ]
    },
    {
      "cell_type": "code",
      "metadata": {
        "colab": {
          "base_uri": "https://localhost:8080/"
        },
        "id": "8MLIHW4NBeNx",
        "outputId": "ae960373-23e8-478a-a95f-67a9b068ce7f"
      },
      "source": [
        "class MyFile:\n",
        "  def __init__(self, mypath, str):\n",
        "    self.mypath = mypath\n",
        "    self.str = str\n",
        "\n",
        "  def My_write(self):\n",
        "    f = open(self.mypath, \"w\")\n",
        "    f.write(self.str)\n",
        "    f.close()\n",
        "\n",
        "  def My_read(self):\n",
        "    f = open(self.mypath, \"r\")\n",
        "    print(f.read())\n",
        "    f.close()\n",
        "\n",
        "if __name__ == '__main__':\n",
        "    str = '민정이'\n",
        "    mypath = \"./data.txt\" # c:\\\\Test/data.txt\n",
        "\n",
        "    m1 = MyFile(mypath, str)\n",
        "    m1.My_write()\n",
        "    m1.My_read()"
      ],
      "execution_count": 5,
      "outputs": [
        {
          "output_type": "stream",
          "text": [
            "민정이\n"
          ],
          "name": "stdout"
        }
      ]
    },
    {
      "cell_type": "code",
      "metadata": {
        "colab": {
          "base_uri": "https://localhost:8080/"
        },
        "id": "7GiKKeJsCXHP",
        "outputId": "03c2f530-080f-4a7c-c83d-a4ab5fded86d"
      },
      "source": [
        "str = '''민정이\n",
        "안녕\n",
        "python\n",
        "굳\n",
        "'''\n",
        "\n",
        "with open(\"data.txt\", \"w\") as f: # f.close() 필요없음\n",
        "  f.write(str)\n",
        "\n",
        "with open(\"data.txt\", \"r\") as f:\n",
        "  print(f.read())"
      ],
      "execution_count": 19,
      "outputs": [
        {
          "output_type": "stream",
          "text": [
            "민정이\n",
            "안녕\n",
            "python\n",
            "굳\n",
            "\n"
          ],
          "name": "stdout"
        }
      ]
    },
    {
      "cell_type": "code",
      "metadata": {
        "colab": {
          "base_uri": "https://localhost:8080/"
        },
        "id": "z6a5QFJbJmGZ",
        "outputId": "91452389-94fe-4eb1-95bc-cb6bcda20096"
      },
      "source": [
        "with open(\"data.txt\", \"r\") as f:\n",
        "  print(f.readline())"
      ],
      "execution_count": 13,
      "outputs": [
        {
          "output_type": "stream",
          "text": [
            "민정이\n",
            "\n"
          ],
          "name": "stdout"
        }
      ]
    },
    {
      "cell_type": "code",
      "metadata": {
        "colab": {
          "base_uri": "https://localhost:8080/"
        },
        "id": "npbNHNvWJopV",
        "outputId": "0a8196fb-1058-4b8c-b7ca-8ba852bdc21d"
      },
      "source": [
        "with open(\"data.txt\", \"r\") as f:\n",
        "  print(f.readlines())"
      ],
      "execution_count": 14,
      "outputs": [
        {
          "output_type": "stream",
          "text": [
            "['민정이\\n', '안녕\\n', 'python\\n', '굳\\n']\n"
          ],
          "name": "stdout"
        }
      ]
    },
    {
      "cell_type": "code",
      "metadata": {
        "colab": {
          "base_uri": "https://localhost:8080/",
          "height": 34
        },
        "id": "TUA2eY_UCWrE",
        "outputId": "b6f0d35f-ba8e-40e3-aedb-5a79fbac3903"
      },
      "source": [
        "f = open(\"data.txt\", \"r\")\n",
        "f.read()"
      ],
      "execution_count": 9,
      "outputs": [
        {
          "output_type": "execute_result",
          "data": {
            "application/vnd.google.colaboratory.intrinsic+json": {
              "type": "string"
            },
            "text/plain": [
              "'민정이\\n안녕\\npython\\n굳\\n'"
            ]
          },
          "metadata": {
            "tags": []
          },
          "execution_count": 9
        }
      ]
    },
    {
      "cell_type": "code",
      "metadata": {
        "colab": {
          "base_uri": "https://localhost:8080/",
          "height": 34
        },
        "id": "OyHRy04aCW0V",
        "outputId": "eee39461-4ec6-447e-e70e-8ce715bd7c0c"
      },
      "source": [
        "f = open(\"data.txt\", \"r\")\n",
        "f.readline()"
      ],
      "execution_count": 36,
      "outputs": [
        {
          "output_type": "execute_result",
          "data": {
            "application/vnd.google.colaboratory.intrinsic+json": {
              "type": "string"
            },
            "text/plain": [
              "'민정이\\n'"
            ]
          },
          "metadata": {
            "tags": []
          },
          "execution_count": 36
        }
      ]
    },
    {
      "cell_type": "code",
      "metadata": {
        "colab": {
          "base_uri": "https://localhost:8080/"
        },
        "id": "Js8i0tDnCWvu",
        "outputId": "5666862e-9fed-4768-e084-292221bd3b59"
      },
      "source": [
        "f.readlines()"
      ],
      "execution_count": 8,
      "outputs": [
        {
          "output_type": "execute_result",
          "data": {
            "text/plain": [
              "['안녕\\n', 'python\\n', '굳\\n']"
            ]
          },
          "metadata": {
            "tags": []
          },
          "execution_count": 8
        }
      ]
    },
    {
      "cell_type": "code",
      "metadata": {
        "colab": {
          "base_uri": "https://localhost:8080/",
          "height": 34
        },
        "id": "a3fwXPtxIApI",
        "outputId": "e7090122-5e05-4cf7-b6ea-ae3e5096f285"
      },
      "source": [
        "f.read()"
      ],
      "execution_count": 10,
      "outputs": [
        {
          "output_type": "execute_result",
          "data": {
            "application/vnd.google.colaboratory.intrinsic+json": {
              "type": "string"
            },
            "text/plain": [
              "''"
            ]
          },
          "metadata": {
            "tags": []
          },
          "execution_count": 10
        }
      ]
    },
    {
      "cell_type": "code",
      "metadata": {
        "colab": {
          "base_uri": "https://localhost:8080/"
        },
        "id": "ek2j2gLQIC6X",
        "outputId": "8a4cc5ae-032d-48e9-c6f7-04c604c23165"
      },
      "source": [
        "f.readlines()"
      ],
      "execution_count": 11,
      "outputs": [
        {
          "output_type": "execute_result",
          "data": {
            "text/plain": [
              "[]"
            ]
          },
          "metadata": {
            "tags": []
          },
          "execution_count": 11
        }
      ]
    },
    {
      "cell_type": "code",
      "metadata": {
        "colab": {
          "base_uri": "https://localhost:8080/"
        },
        "id": "qlUvFOCmKcwn",
        "outputId": "7b09fa14-a53e-435e-fac9-cc8a70239684"
      },
      "source": [
        "f = open(\"data.txt\", \"r\")\n",
        "\n",
        "line = f.readline()\n",
        "print(line)\n",
        "f.close()"
      ],
      "execution_count": 32,
      "outputs": [
        {
          "output_type": "stream",
          "text": [
            "민정이\n",
            "\n"
          ],
          "name": "stdout"
        }
      ]
    },
    {
      "cell_type": "code",
      "metadata": {
        "colab": {
          "base_uri": "https://localhost:8080/"
        },
        "id": "TAsGEUGaL983",
        "outputId": "0d64fbb5-f73a-45f9-bcec-e44eb7d4994a"
      },
      "source": [
        "f = open(\"data.txt\", \"r\")\n",
        "\n",
        "line = f.readline()\n",
        "while line: # f.readline()이 ''인 경우 False라서 break\n",
        "  print(line)\n",
        "  line = f.readline()\n",
        "f.close()"
      ],
      "execution_count": 33,
      "outputs": [
        {
          "output_type": "stream",
          "text": [
            "민정이\n",
            "\n",
            "안녕\n",
            "\n",
            "python\n",
            "\n",
            "굳\n",
            "\n"
          ],
          "name": "stdout"
        }
      ]
    },
    {
      "cell_type": "code",
      "metadata": {
        "colab": {
          "base_uri": "https://localhost:8080/"
        },
        "id": "m-XiaRulMJ7u",
        "outputId": "1d1ff9f8-088e-4111-c065-4908dd0a7a37"
      },
      "source": [
        "f = open(\"data.txt\", \"r\")\n",
        "\n",
        "while 1: # True \n",
        "  line = f.readline()\n",
        "  if not line:\n",
        "    break\n",
        "  print(line)"
      ],
      "execution_count": 48,
      "outputs": [
        {
          "output_type": "stream",
          "text": [
            "민정이\n",
            "\n",
            "안녕\n",
            "\n",
            "python\n",
            "\n",
            "굳\n",
            "\n"
          ],
          "name": "stdout"
        }
      ]
    },
    {
      "cell_type": "code",
      "metadata": {
        "colab": {
          "base_uri": "https://localhost:8080/"
        },
        "id": "5ONA5KCfMbru",
        "outputId": "a529b34d-893f-4691-8b25-54b51e5e9ebe"
      },
      "source": [
        "f = open(\"data.txt\", \"r\")\n",
        "\n",
        "for i in f:\n",
        "  print(i)"
      ],
      "execution_count": 45,
      "outputs": [
        {
          "output_type": "stream",
          "text": [
            "민정이\n",
            "\n",
            "안녕\n",
            "\n",
            "python\n",
            "\n",
            "굳\n",
            "\n"
          ],
          "name": "stdout"
        }
      ]
    },
    {
      "cell_type": "code",
      "metadata": {
        "id": "r-w9Zv6mNB9G"
      },
      "source": [
        ""
      ],
      "execution_count": null,
      "outputs": []
    }
  ]
}