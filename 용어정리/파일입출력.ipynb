{
  "nbformat": 4,
  "nbformat_minor": 0,
  "metadata": {
    "colab": {
      "name": "파일입출력",
      "provenance": [],
      "collapsed_sections": [],
      "authorship_tag": "ABX9TyPSrH886DNPRioa1cx8YxGA",
      "include_colab_link": true
    },
    "kernelspec": {
      "name": "python3",
      "display_name": "Python 3"
    },
    "language_info": {
      "name": "python"
    }
  },
  "cells": [
    {
      "cell_type": "markdown",
      "metadata": {
        "id": "view-in-github",
        "colab_type": "text"
      },
      "source": [
        "<a href=\"https://colab.research.google.com/github/mjkimcs/portfolio/blob/main/%EC%9A%A9%EC%96%B4%EC%A0%95%EB%A6%AC/%ED%8C%8C%EC%9D%BC%EC%9E%85%EC%B6%9C%EB%A0%A5.ipynb\" target=\"_parent\"><img src=\"https://colab.research.google.com/assets/colab-badge.svg\" alt=\"Open In Colab\"/></a>"
      ]
    },
    {
      "cell_type": "markdown",
      "metadata": {
        "id": "oADP-vlD89wj"
      },
      "source": [
        "## 파일처리의 종류\n",
        "1. byte : 이미지, 동영상, 음성, pickle(직렬화 한 레코드씩마다 끊어서 보내겠다 압축)/unpickle(역직렬화)\n",
        "2. 문자 : txt, 유니코드가 기점\n",
        "3. object : class 단위, class를 만들어서 객체생성 후 파일입출력"
      ]
    },
    {
      "cell_type": "markdown",
      "metadata": {
        "id": "cs6fhopm3ol9"
      },
      "source": [
        "### 바이너리타입\n",
        "- 2진화\n",
        "- stream: 바이트 대상 데이터를 주고받는 연결통로(1바이트씩), 스트리밍 작업(버퍼)\n",
        "- 파일을 열어서 1바이트씩 데이터를 읽고 화면에 hex(16진수)코드로 출력(한글이라서)하는 방법\n",
        "- rb, wb\n",
        "- 기본이 유니코드인데 앞에 b를 붙여주면 bytes \n",
        "```\n",
        "s = b'abcd'  \n",
        "type(s)  <class 'bytes'>\n",
        "```\n",
        "\n"
      ]
    },
    {
      "cell_type": "markdown",
      "metadata": {
        "id": "RJTM0B_b-3UE"
      },
      "source": [
        "### 코드\n",
        "1. ASCII코드 : 1byte 이내\n",
        "2. 유니코드 : 확장형코드, 2byte(utf-8), 3byte(utf-16)"
      ]
    },
    {
      "cell_type": "markdown",
      "metadata": {
        "id": "90sBHCHRGrHT"
      },
      "source": [
        "### 메소드를 선언하는 방법\n",
        "1. overriding: 재정의(추상화도 포함)\n",
        "2. overloading: 메소드 이름은 동일한데 매개인자의 갯수나 타입을 다르게 지정해서 호출하는 방법, 예를들어 print()"
      ]
    },
    {
      "cell_type": "markdown",
      "metadata": {
        "id": "hpkiI-I91uFU"
      },
      "source": [
        "### IO객체\n",
        "1.\t키보드 표준입력 input write\n",
        "2.\t모니터 표준출력 output read\n"
      ]
    },
    {
      "cell_type": "markdown",
      "metadata": {
        "id": "uQiCpS8o3Co_"
      },
      "source": [
        "### 기본적인 네트워크 통신 개념에서 Server의 역할\n",
        "1. Client관리(Q): Q의 의미는 줄을 세워서 관리한다는 의미\n",
        "2. Message관리(Q): 대상관리\n",
        "3. Client에게 송신  "
      ]
    },
    {
      "cell_type": "code",
      "metadata": {
        "id": "1vkngggw1dn9"
      },
      "source": [
        "open(\"a.txt\") # 텍스트 읽기 모드(rt)\n",
        "open(\"a.txt\", \"w\") # 쓰기\n",
        "open(\"apple.bmp\", \"r+b\") # 바이너리로 읽기+쓰기\n",
        "open(\"a.txt\", encoding=\"utf-8\")"
      ],
      "execution_count": null,
      "outputs": []
    },
    {
      "cell_type": "code",
      "metadata": {
        "colab": {
          "base_uri": "https://localhost:8080/"
        },
        "id": "z1NhK7P8__lw",
        "outputId": "c9429fb6-6876-4e7c-839d-2f2904508681"
      },
      "source": [
        "str = \"민정이\"\n",
        "\n",
        "f = open(\"data.txt\", \"w\")\n",
        "f.write(str)\n",
        "f.close()\n",
        "\n",
        "f = open(\"data.txt\", \"r\")\n",
        "print(f.read())\n",
        "f.close()"
      ],
      "execution_count": null,
      "outputs": [
        {
          "output_type": "stream",
          "text": [
            "민정이\n"
          ],
          "name": "stdout"
        }
      ]
    },
    {
      "cell_type": "code",
      "metadata": {
        "colab": {
          "base_uri": "https://localhost:8080/"
        },
        "id": "P-qSpvQjBd1T",
        "outputId": "1b448096-40bf-46dd-83ef-e857dcfb611b"
      },
      "source": [
        "def My_write(str, mypath):\n",
        "    f = open(mypath, \"w\")\n",
        "    f.write(str)\n",
        "    f.close()\n",
        "\n",
        "def My_read(mypath):\n",
        "    f = open(mypath, \"r\")\n",
        "    print(f.read())\n",
        "    f.close()\n",
        "\n",
        "if __name__ == '__main__':\n",
        "    str = '민정이'\n",
        "    mypath = \"./data.txt\" # c:\\\\Test/data.txt\n",
        "    My_write(str, mypath)\n",
        "    My_read(mypath)"
      ],
      "execution_count": null,
      "outputs": [
        {
          "output_type": "stream",
          "text": [
            "민정이\n"
          ],
          "name": "stdout"
        }
      ]
    },
    {
      "cell_type": "code",
      "metadata": {
        "colab": {
          "base_uri": "https://localhost:8080/"
        },
        "id": "8MLIHW4NBeNx",
        "outputId": "ae960373-23e8-478a-a95f-67a9b068ce7f"
      },
      "source": [
        "class MyFile:\n",
        "  def __init__(self, mypath, str):\n",
        "    self.mypath = mypath\n",
        "    self.str = str\n",
        "\n",
        "  def My_write(self):\n",
        "    f = open(self.mypath, \"w\")\n",
        "    f.write(self.str)\n",
        "    f.close()\n",
        "\n",
        "  def My_read(self):\n",
        "    f = open(self.mypath, \"r\")\n",
        "    print(f.read())\n",
        "    f.close()\n",
        "\n",
        "if __name__ == '__main__':\n",
        "    str = '민정이'\n",
        "    mypath = \"./data.txt\" # c:\\\\Test/data.txt\n",
        "\n",
        "    m1 = MyFile(mypath, str)\n",
        "    m1.My_write()\n",
        "    m1.My_read()"
      ],
      "execution_count": null,
      "outputs": [
        {
          "output_type": "stream",
          "text": [
            "민정이\n"
          ],
          "name": "stdout"
        }
      ]
    },
    {
      "cell_type": "code",
      "metadata": {
        "colab": {
          "base_uri": "https://localhost:8080/"
        },
        "id": "7GiKKeJsCXHP",
        "outputId": "c7db4ddc-4e96-4bc4-822b-d62b03759ba7"
      },
      "source": [
        "str = '''민정이\n",
        "안녕\n",
        "python\n",
        "굳\n",
        "'''\n",
        "\n",
        "with open(\"data.txt\", \"w\") as f: # f.close() 필요없음\n",
        "  f.write(str)\n",
        "\n",
        "with open(\"data.txt\", \"r\") as f:\n",
        "  print(f.read())"
      ],
      "execution_count": 74,
      "outputs": [
        {
          "output_type": "stream",
          "text": [
            "민정이\n",
            "안녕\n",
            "python\n",
            "굳\n",
            "\n"
          ],
          "name": "stdout"
        }
      ]
    },
    {
      "cell_type": "code",
      "metadata": {
        "colab": {
          "base_uri": "https://localhost:8080/"
        },
        "id": "z6a5QFJbJmGZ",
        "outputId": "91452389-94fe-4eb1-95bc-cb6bcda20096"
      },
      "source": [
        "with open(\"data.txt\", \"r\") as f:\n",
        "  print(f.readline())"
      ],
      "execution_count": null,
      "outputs": [
        {
          "output_type": "stream",
          "text": [
            "민정이\n",
            "\n"
          ],
          "name": "stdout"
        }
      ]
    },
    {
      "cell_type": "code",
      "metadata": {
        "colab": {
          "base_uri": "https://localhost:8080/"
        },
        "id": "npbNHNvWJopV",
        "outputId": "0a8196fb-1058-4b8c-b7ca-8ba852bdc21d"
      },
      "source": [
        "with open(\"data.txt\", \"r\") as f:\n",
        "  print(f.readlines())"
      ],
      "execution_count": null,
      "outputs": [
        {
          "output_type": "stream",
          "text": [
            "['민정이\\n', '안녕\\n', 'python\\n', '굳\\n']\n"
          ],
          "name": "stdout"
        }
      ]
    },
    {
      "cell_type": "code",
      "metadata": {
        "colab": {
          "base_uri": "https://localhost:8080/",
          "height": 34
        },
        "id": "TUA2eY_UCWrE",
        "outputId": "b6f0d35f-ba8e-40e3-aedb-5a79fbac3903"
      },
      "source": [
        "f = open(\"data.txt\", \"r\")\n",
        "f.read()"
      ],
      "execution_count": null,
      "outputs": [
        {
          "output_type": "execute_result",
          "data": {
            "application/vnd.google.colaboratory.intrinsic+json": {
              "type": "string"
            },
            "text/plain": [
              "'민정이\\n안녕\\npython\\n굳\\n'"
            ]
          },
          "metadata": {
            "tags": []
          },
          "execution_count": 9
        }
      ]
    },
    {
      "cell_type": "code",
      "metadata": {
        "colab": {
          "base_uri": "https://localhost:8080/",
          "height": 34
        },
        "id": "OyHRy04aCW0V",
        "outputId": "eee39461-4ec6-447e-e70e-8ce715bd7c0c"
      },
      "source": [
        "f = open(\"data.txt\", \"r\")\n",
        "f.readline()"
      ],
      "execution_count": null,
      "outputs": [
        {
          "output_type": "execute_result",
          "data": {
            "application/vnd.google.colaboratory.intrinsic+json": {
              "type": "string"
            },
            "text/plain": [
              "'민정이\\n'"
            ]
          },
          "metadata": {
            "tags": []
          },
          "execution_count": 36
        }
      ]
    },
    {
      "cell_type": "code",
      "metadata": {
        "colab": {
          "base_uri": "https://localhost:8080/"
        },
        "id": "Js8i0tDnCWvu",
        "outputId": "5666862e-9fed-4768-e084-292221bd3b59"
      },
      "source": [
        "f.readlines()"
      ],
      "execution_count": null,
      "outputs": [
        {
          "output_type": "execute_result",
          "data": {
            "text/plain": [
              "['안녕\\n', 'python\\n', '굳\\n']"
            ]
          },
          "metadata": {
            "tags": []
          },
          "execution_count": 8
        }
      ]
    },
    {
      "cell_type": "code",
      "metadata": {
        "colab": {
          "base_uri": "https://localhost:8080/",
          "height": 34
        },
        "id": "a3fwXPtxIApI",
        "outputId": "e7090122-5e05-4cf7-b6ea-ae3e5096f285"
      },
      "source": [
        "f.read()"
      ],
      "execution_count": null,
      "outputs": [
        {
          "output_type": "execute_result",
          "data": {
            "application/vnd.google.colaboratory.intrinsic+json": {
              "type": "string"
            },
            "text/plain": [
              "''"
            ]
          },
          "metadata": {
            "tags": []
          },
          "execution_count": 10
        }
      ]
    },
    {
      "cell_type": "code",
      "metadata": {
        "colab": {
          "base_uri": "https://localhost:8080/"
        },
        "id": "ek2j2gLQIC6X",
        "outputId": "8a4cc5ae-032d-48e9-c6f7-04c604c23165"
      },
      "source": [
        "f.readlines()"
      ],
      "execution_count": null,
      "outputs": [
        {
          "output_type": "execute_result",
          "data": {
            "text/plain": [
              "[]"
            ]
          },
          "metadata": {
            "tags": []
          },
          "execution_count": 11
        }
      ]
    },
    {
      "cell_type": "code",
      "metadata": {
        "colab": {
          "base_uri": "https://localhost:8080/"
        },
        "id": "qlUvFOCmKcwn",
        "outputId": "7b09fa14-a53e-435e-fac9-cc8a70239684"
      },
      "source": [
        "f = open(\"data.txt\", \"r\")\n",
        "\n",
        "line = f.readline()\n",
        "print(line)\n",
        "f.close()"
      ],
      "execution_count": null,
      "outputs": [
        {
          "output_type": "stream",
          "text": [
            "민정이\n",
            "\n"
          ],
          "name": "stdout"
        }
      ]
    },
    {
      "cell_type": "code",
      "metadata": {
        "colab": {
          "base_uri": "https://localhost:8080/"
        },
        "id": "TAsGEUGaL983",
        "outputId": "1c7cb484-7da1-4a36-d315-d474d952a709"
      },
      "source": [
        "f = open(\"data.txt\", \"r\")\n",
        "\n",
        "line = f.readline()\n",
        "while line: # line이 존재한다면 # f.readline()이 ''인 경우 False라서 break\n",
        "  print(line)\n",
        "  line = f.readline()\n",
        "f.close()"
      ],
      "execution_count": 76,
      "outputs": [
        {
          "output_type": "stream",
          "text": [
            "민정이\n",
            "\n",
            "안녕\n",
            "\n",
            "python\n",
            "\n",
            "굳\n",
            "\n"
          ],
          "name": "stdout"
        }
      ]
    },
    {
      "cell_type": "code",
      "metadata": {
        "colab": {
          "base_uri": "https://localhost:8080/"
        },
        "id": "m-XiaRulMJ7u",
        "outputId": "1d1ff9f8-088e-4111-c065-4908dd0a7a37"
      },
      "source": [
        "f = open(\"data.txt\", \"r\")\n",
        "\n",
        "while 1: # True \n",
        "  line = f.readline()\n",
        "  if not line:\n",
        "    break\n",
        "  print(line)\n",
        "f.close()"
      ],
      "execution_count": null,
      "outputs": [
        {
          "output_type": "stream",
          "text": [
            "민정이\n",
            "\n",
            "안녕\n",
            "\n",
            "python\n",
            "\n",
            "굳\n",
            "\n"
          ],
          "name": "stdout"
        }
      ]
    },
    {
      "cell_type": "code",
      "metadata": {
        "colab": {
          "base_uri": "https://localhost:8080/"
        },
        "id": "5ONA5KCfMbru",
        "outputId": "941412f1-d649-48c2-97b6-b17d13330bdb"
      },
      "source": [
        "f = open(\"data.txt\", \"r\")\n",
        "\n",
        "for i in f:\n",
        "  print(i)\n",
        "f.close()"
      ],
      "execution_count": 132,
      "outputs": [
        {
          "output_type": "stream",
          "text": [
            "민정이\n",
            "\n",
            "안녕\n",
            "\n",
            "python\n",
            "\n",
            "굳\n",
            "\n"
          ],
          "name": "stdout"
        }
      ]
    },
    {
      "cell_type": "code",
      "metadata": {
        "id": "r-w9Zv6mNB9G",
        "colab": {
          "base_uri": "https://localhost:8080/"
        },
        "outputId": "a4706bb4-2e32-4b5c-f0ff-a25446bc1373"
      },
      "source": [
        "def my_write():\n",
        "  with open(\"data.txt\", \"w\") as f:\n",
        "    for i in range(1,10):\n",
        "      str = \"%3d * %3d = %3d \\n\"%(2, i, 2*i)\n",
        "      f.write(str)\n",
        "\n",
        "def my_read():\n",
        "  with open(\"data.txt\", \"r\") as f:\n",
        "    print(f.read())\n",
        "\n",
        "if __name__ == '__main__':\n",
        "  my_write()\n",
        "  my_read()"
      ],
      "execution_count": 1,
      "outputs": [
        {
          "output_type": "stream",
          "text": [
            "  2 *   1 =   2 \n",
            "  2 *   2 =   4 \n",
            "  2 *   3 =   6 \n",
            "  2 *   4 =   8 \n",
            "  2 *   5 =  10 \n",
            "  2 *   6 =  12 \n",
            "  2 *   7 =  14 \n",
            "  2 *   8 =  16 \n",
            "  2 *   9 =  18 \n",
            "\n"
          ],
          "name": "stdout"
        }
      ]
    },
    {
      "cell_type": "code",
      "metadata": {
        "colab": {
          "base_uri": "https://localhost:8080/"
        },
        "id": "sJNl0nmX7qUH",
        "outputId": "cec418d6-23ce-4dc8-df85-a6c6ef7cbc80"
      },
      "source": [
        "class BTest:\n",
        "  def b_write(self):\n",
        "    f = open(\"file_test01.txt\", \"wb\")\n",
        "    f.write(b\"ABC123\")\n",
        "    f.close()\n",
        "\n",
        "  def b_read(self):\n",
        "    f = open(\"file_test01.txt\", \"rb\")\n",
        "    while True:\n",
        "      s = f.read(1) # 1바이트씩 읽어\n",
        "      if s == b'':\n",
        "        break\n",
        "      print(s.hex(), s)\n",
        "    f.close()\n",
        "\n",
        "if __name__ == '__main__':\n",
        "  b1 = BTest() # 생성자가 명시되지 않아서 기본생성자( _ _ init _ _ )를 호출하면서 객체를 생성함\n",
        "  b1.b_write()\n",
        "  b1.b_read()"
      ],
      "execution_count": 6,
      "outputs": [
        {
          "output_type": "stream",
          "text": [
            "41 b'A'\n",
            "42 b'B'\n",
            "43 b'C'\n",
            "31 b'1'\n",
            "32 b'2'\n",
            "33 b'3'\n"
          ],
          "name": "stdout"
        }
      ]
    },
    {
      "cell_type": "code",
      "metadata": {
        "colab": {
          "base_uri": "https://localhost:8080/"
        },
        "id": "v1iCD3DT8TK4",
        "outputId": "899ac7e3-4c71-494a-e37a-7566b4e3b4ae"
      },
      "source": [
        "class BTest:\n",
        "  def b_write(self):\n",
        "    f = open(\"file_test02.txt\", \"w\")\n",
        "    f.write(\"ABC123\")\n",
        "    f.close()\n",
        "\n",
        "  def b_read(self):\n",
        "    f = open(\"file_test02.txt\", \"r\")\n",
        "    while True:\n",
        "      s = f.read(1) # 1바이트씩 읽어\n",
        "      if s == '':\n",
        "        break\n",
        "      print(s)\n",
        "    f.close()\n",
        "\n",
        "if __name__ == '__main__':\n",
        "  b1 = BTest() # 생성자가 명시되지 않아서 기본생성자( _ _ init _ _ )를 호출하면서 객체를 생성함\n",
        "  b1.b_write()\n",
        "  b1.b_read()"
      ],
      "execution_count": 9,
      "outputs": [
        {
          "output_type": "stream",
          "text": [
            "A\n",
            "B\n",
            "C\n",
            "1\n",
            "2\n",
            "3\n"
          ],
          "name": "stdout"
        }
      ]
    },
    {
      "cell_type": "code",
      "metadata": {
        "colab": {
          "base_uri": "https://localhost:8080/"
        },
        "id": "mTXyl6LGDM7N",
        "outputId": "d14ed3f9-4d14-4b9f-bc29-21b0afd23c53"
      },
      "source": [
        "s = bytes(\"대한민국 민정\", \"utf-8\") # b'(16진수)'로 반환\n",
        "s"
      ],
      "execution_count": 14,
      "outputs": [
        {
          "output_type": "execute_result",
          "data": {
            "text/plain": [
              "b'\\xeb\\x8c\\x80\\xed\\x95\\x9c\\xeb\\xaf\\xbc\\xea\\xb5\\xad \\xeb\\xaf\\xbc\\xec\\xa0\\x95'"
            ]
          },
          "metadata": {
            "tags": []
          },
          "execution_count": 14
        }
      ]
    },
    {
      "cell_type": "code",
      "metadata": {
        "colab": {
          "base_uri": "https://localhost:8080/"
        },
        "id": "ucTqzoqfI7nS",
        "outputId": "4e70e592-2875-41e7-f57d-43fb8f332322"
      },
      "source": [
        "class BTest:\n",
        "  def b_write(self):\n",
        "    f = open(\"file_test01.txt\", \"wb\")\n",
        "    str = \"대한민국 민정\"\n",
        "    f.write(bytes(str, \"utf-8\"))\n",
        "    f.close()\n",
        "\n",
        "  def b_read(self):\n",
        "    f = open(\"file_test01.txt\", \"rb\")\n",
        "    while True:\n",
        "      s = f.read(1) # 1바이트씩 읽어\n",
        "      if s == b'':\n",
        "        break\n",
        "      print(s.hex(), s) # s.hex() : byte s를 16진수로 변환   # \\x(16진)\n",
        "    f.close()\n",
        "\n",
        "if __name__ == '__main__':\n",
        "  b1 = BTest() # 생성자가 명시되지 않아서 기본생성자( _ _ init _ _ )를 호출하면서 객체를 생성함\n",
        "  b1.b_write()\n",
        "  b1.b_read()"
      ],
      "execution_count": 13,
      "outputs": [
        {
          "output_type": "stream",
          "text": [
            "eb b'\\xeb'\n",
            "8c b'\\x8c'\n",
            "80 b'\\x80'\n",
            "ed b'\\xed'\n",
            "95 b'\\x95'\n",
            "9c b'\\x9c'\n",
            "eb b'\\xeb'\n",
            "af b'\\xaf'\n",
            "bc b'\\xbc'\n",
            "ea b'\\xea'\n",
            "b5 b'\\xb5'\n",
            "ad b'\\xad'\n",
            "20 b' '\n",
            "eb b'\\xeb'\n",
            "af b'\\xaf'\n",
            "bc b'\\xbc'\n",
            "ec b'\\xec'\n",
            "a0 b'\\xa0'\n",
            "95 b'\\x95'\n"
          ],
          "name": "stdout"
        }
      ]
    },
    {
      "cell_type": "code",
      "metadata": {
        "colab": {
          "base_uri": "https://localhost:8080/"
        },
        "id": "W1Tfcg1DLHR3",
        "outputId": "41acb2a6-3ff8-44c2-8234-8bb63da16cde"
      },
      "source": [
        "class BTest:\n",
        "  def b_write(self):\n",
        "    f = open(\"file_test01.txt\", \"wb\")\n",
        "    s = \"대한민국 민정\"\n",
        "    f.write(bytes(s, \"utf-8\")) # 인코딩 압축\n",
        "    f.close()\n",
        "\n",
        "  def b_read(self):\n",
        "    f = open(\"file_test01.txt\", \"rb\")\n",
        "    while True:\n",
        "      s = f.read(1) # 1바이트씩 읽어\n",
        "      if s == b'':\n",
        "        break\n",
        "      print(s)\n",
        "    f.close()\n",
        "\n",
        "  def b_read2(self):\n",
        "     with open(\"file_test01.txt\", \"rb\") as f:\n",
        "       h = f.read()\n",
        "       m = str(h.decode(\"utf-8\")) # 디코딩 풀기\n",
        "      #  m = str(h, \"utf-8\")\n",
        "       print(m)\n",
        "\n",
        "if __name__ == '__main__':\n",
        "  b1 = BTest()\n",
        "  b1.b_write()\n",
        "  b1.b_read2()"
      ],
      "execution_count": 72,
      "outputs": [
        {
          "output_type": "stream",
          "text": [
            "대한민국 민정\n"
          ],
          "name": "stdout"
        }
      ]
    },
    {
      "cell_type": "code",
      "metadata": {
        "colab": {
          "base_uri": "https://localhost:8080/"
        },
        "id": "-bLpQ4Z7NVGY",
        "outputId": "e977fe12-faa4-423b-c768-099a6bd5d322"
      },
      "source": [
        "f = open(\"b.txt\", \"w\")\n",
        "type(f)"
      ],
      "execution_count": 61,
      "outputs": [
        {
          "output_type": "execute_result",
          "data": {
            "text/plain": [
              "_io.TextIOWrapper"
            ]
          },
          "metadata": {
            "tags": []
          },
          "execution_count": 61
        }
      ]
    },
    {
      "cell_type": "code",
      "metadata": {
        "colab": {
          "base_uri": "https://localhost:8080/"
        },
        "id": "1pDHE3pVQkcD",
        "outputId": "cedb6de8-ff64-4985-8d87-23205bc601db"
      },
      "source": [
        "dir(f)"
      ],
      "execution_count": 44,
      "outputs": [
        {
          "output_type": "execute_result",
          "data": {
            "text/plain": [
              "['_CHUNK_SIZE',\n",
              " '__class__',\n",
              " '__del__',\n",
              " '__delattr__',\n",
              " '__dict__',\n",
              " '__dir__',\n",
              " '__doc__',\n",
              " '__enter__',\n",
              " '__eq__',\n",
              " '__exit__',\n",
              " '__format__',\n",
              " '__ge__',\n",
              " '__getattribute__',\n",
              " '__getstate__',\n",
              " '__gt__',\n",
              " '__hash__',\n",
              " '__init__',\n",
              " '__init_subclass__',\n",
              " '__iter__',\n",
              " '__le__',\n",
              " '__lt__',\n",
              " '__ne__',\n",
              " '__new__',\n",
              " '__next__',\n",
              " '__reduce__',\n",
              " '__reduce_ex__',\n",
              " '__repr__',\n",
              " '__setattr__',\n",
              " '__sizeof__',\n",
              " '__str__',\n",
              " '__subclasshook__',\n",
              " '_checkClosed',\n",
              " '_checkReadable',\n",
              " '_checkSeekable',\n",
              " '_checkWritable',\n",
              " '_finalizing',\n",
              " 'buffer',\n",
              " 'close',\n",
              " 'closed',\n",
              " 'detach',\n",
              " 'encoding',\n",
              " 'errors',\n",
              " 'fileno',\n",
              " 'flush',\n",
              " 'isatty',\n",
              " 'line_buffering',\n",
              " 'mode',\n",
              " 'name',\n",
              " 'newlines',\n",
              " 'read',\n",
              " 'readable',\n",
              " 'readline',\n",
              " 'readlines',\n",
              " 'reconfigure',\n",
              " 'seek',\n",
              " 'seekable',\n",
              " 'tell',\n",
              " 'truncate',\n",
              " 'writable',\n",
              " 'write',\n",
              " 'write_through',\n",
              " 'writelines']"
            ]
          },
          "metadata": {
            "tags": []
          },
          "execution_count": 44
        }
      ]
    },
    {
      "cell_type": "code",
      "metadata": {
        "colab": {
          "base_uri": "https://localhost:8080/",
          "height": 35
        },
        "id": "gzzSH7AmQt15",
        "outputId": "a381ee36-7045-4545-a313-2d79342cc1b6"
      },
      "source": [
        "f.mode"
      ],
      "execution_count": 62,
      "outputs": [
        {
          "output_type": "execute_result",
          "data": {
            "application/vnd.google.colaboratory.intrinsic+json": {
              "type": "string"
            },
            "text/plain": [
              "'w'"
            ]
          },
          "metadata": {
            "tags": []
          },
          "execution_count": 62
        }
      ]
    },
    {
      "cell_type": "code",
      "metadata": {
        "colab": {
          "base_uri": "https://localhost:8080/",
          "height": 35
        },
        "id": "scdXQzrNQzQ5",
        "outputId": "54ffe253-7383-430f-87ea-1d5c75ed25f9"
      },
      "source": [
        "f.name"
      ],
      "execution_count": 63,
      "outputs": [
        {
          "output_type": "execute_result",
          "data": {
            "application/vnd.google.colaboratory.intrinsic+json": {
              "type": "string"
            },
            "text/plain": [
              "'b.txt'"
            ]
          },
          "metadata": {
            "tags": []
          },
          "execution_count": 63
        }
      ]
    },
    {
      "cell_type": "code",
      "metadata": {
        "colab": {
          "base_uri": "https://localhost:8080/"
        },
        "id": "dXRvc48jQzyc",
        "outputId": "1d1317a7-5c77-4713-ef83-1641e4b770e2"
      },
      "source": [
        "f.readable() # 읽기전용이니?"
      ],
      "execution_count": 64,
      "outputs": [
        {
          "output_type": "execute_result",
          "data": {
            "text/plain": [
              "False"
            ]
          },
          "metadata": {
            "tags": []
          },
          "execution_count": 64
        }
      ]
    },
    {
      "cell_type": "code",
      "metadata": {
        "colab": {
          "base_uri": "https://localhost:8080/"
        },
        "id": "9-XojSlAQ8NA",
        "outputId": "9d7df172-df09-4724-ea91-d6f88f3edc8c"
      },
      "source": [
        "f.writable() # 쓰기전용이니?"
      ],
      "execution_count": 65,
      "outputs": [
        {
          "output_type": "execute_result",
          "data": {
            "text/plain": [
              "True"
            ]
          },
          "metadata": {
            "tags": []
          },
          "execution_count": 65
        }
      ]
    },
    {
      "cell_type": "code",
      "metadata": {
        "colab": {
          "base_uri": "https://localhost:8080/"
        },
        "id": "RD4ou_RAW6Kc",
        "outputId": "1ab10a8c-aca8-421d-bc1e-3c9d9d1e2593"
      },
      "source": [
        "f = open(\"b.txt\", \"r\")\n",
        "r = f.read()\n",
        "print(r)"
      ],
      "execution_count": 99,
      "outputs": [
        {
          "output_type": "stream",
          "text": [
            "abcdefg\n",
            "hijkilmn\n",
            "opqrstu\n",
            "vwxyz\n"
          ],
          "name": "stdout"
        }
      ]
    },
    {
      "cell_type": "code",
      "metadata": {
        "colab": {
          "base_uri": "https://localhost:8080/"
        },
        "id": "aiH7P1KjX-KM",
        "outputId": "1a65638b-1bbd-4d89-858c-8ce4608989cb"
      },
      "source": [
        "# read()를 하게 되면 포인터가 마지막에 가 있음\n",
        "f.seek(0) # 파일 포인터의 위치를 0으로 이동\n",
        "while 1:\n",
        "  l = f.readline() # 한 줄씩 읽기\n",
        "  if l:\n",
        "    print(l)\n",
        "  else:\n",
        "    break"
      ],
      "execution_count": 95,
      "outputs": [
        {
          "output_type": "stream",
          "text": [
            "abcdefg\n",
            "\n",
            "hijkilmn\n",
            "\n",
            "opqrstu\n",
            "\n",
            "vwxyz\n"
          ],
          "name": "stdout"
        }
      ]
    },
    {
      "cell_type": "code",
      "metadata": {
        "colab": {
          "base_uri": "https://localhost:8080/"
        },
        "id": "5N3VtEgSQ97Y",
        "outputId": "e522c77a-b97e-47a7-ac69-73f8a2b813f5"
      },
      "source": [
        "f.seek(0) # 파일 포인터의 위치를 0으로 이동\n",
        "while 1:\n",
        "  l = f.readline() # 한 줄씩 읽기\n",
        "  if l:\n",
        "    print(l, end=\"\\t\")\n",
        "  else:\n",
        "    break"
      ],
      "execution_count": 93,
      "outputs": [
        {
          "output_type": "stream",
          "text": [
            "abcdefg\n",
            "\thijkilmn\n",
            "\topqrstu\n",
            "\tvwxyz\t"
          ],
          "name": "stdout"
        }
      ]
    },
    {
      "cell_type": "code",
      "metadata": {
        "colab": {
          "base_uri": "https://localhost:8080/"
        },
        "id": "jmljFzOWYEMK",
        "outputId": "25ec31ba-dcde-4865-8fe4-3593ee4a3a9c"
      },
      "source": [
        "f.seek(0) # 파일 포인터의 위치를 0으로 이동\n",
        "while 1:\n",
        "  l = f.readline() # 한 줄씩 읽기\n",
        "  if l:\n",
        "    print(l, end=\"하이\")\n",
        "  else:\n",
        "    break"
      ],
      "execution_count": 96,
      "outputs": [
        {
          "output_type": "stream",
          "text": [
            "abcdefg\n",
            "하이hijkilmn\n",
            "하이opqrstu\n",
            "하이vwxyz하이"
          ],
          "name": "stdout"
        }
      ]
    },
    {
      "cell_type": "code",
      "metadata": {
        "colab": {
          "base_uri": "https://localhost:8080/"
        },
        "id": "UDk5Q_eJX8bH",
        "outputId": "e50f5268-7e4b-4e37-8c7b-d2551dc56dcd"
      },
      "source": [
        "f.seek(0) # 파일 포인터의 위치를 0으로 이동\n",
        "while 1:\n",
        "  l = f.readline() # 한 줄씩 읽기\n",
        "  if l:\n",
        "    print(l, end=\"\\r\") # \\r : carriage return\n",
        "  else:\n",
        "    break"
      ],
      "execution_count": 97,
      "outputs": [
        {
          "output_type": "stream",
          "text": [
            "abcdefg\n",
            "\rhijkilmn\n",
            "\ropqrstu\n",
            "\rvwxyz\r"
          ],
          "name": "stdout"
        }
      ]
    },
    {
      "cell_type": "code",
      "metadata": {
        "colab": {
          "base_uri": "https://localhost:8080/"
        },
        "id": "X8nlqTZhYkM8",
        "outputId": "8cf84fa8-fce3-4bc6-d473-46755b8c6769"
      },
      "source": [
        "f.seek(0)\n",
        "print(f.tell()) # 포인터의 위치를 반환\n",
        "ls = f.readlines()\n",
        "print(ls)"
      ],
      "execution_count": 116,
      "outputs": [
        {
          "output_type": "stream",
          "text": [
            "0\n",
            "['abcdefg\\n', 'hijkilmn\\n', 'opqrstu\\n', 'vwxyz']\n"
          ],
          "name": "stdout"
        }
      ]
    },
    {
      "cell_type": "code",
      "metadata": {
        "colab": {
          "base_uri": "https://localhost:8080/"
        },
        "id": "2o2yxDC6ccVF",
        "outputId": "712acc63-f6de-48f3-a71c-5e4759926fd7"
      },
      "source": [
        "print(ls[3][2], ls[3][4])\n",
        "print(f.tell())"
      ],
      "execution_count": 117,
      "outputs": [
        {
          "output_type": "stream",
          "text": [
            "x z\n",
            "33\n"
          ],
          "name": "stdout"
        }
      ]
    },
    {
      "cell_type": "code",
      "metadata": {
        "colab": {
          "base_uri": "https://localhost:8080/"
        },
        "id": "ZXrCCIRwc3_U",
        "outputId": "28737644-31e2-4bb8-cae4-87dc5628c54a"
      },
      "source": [
        "f.seek(20)\n",
        "print(f.tell())\n",
        "print(f.read())"
      ],
      "execution_count": 121,
      "outputs": [
        {
          "output_type": "stream",
          "text": [
            "20\n",
            "pqrstu\n",
            "vwxyz\n"
          ],
          "name": "stdout"
        }
      ]
    },
    {
      "cell_type": "code",
      "metadata": {
        "colab": {
          "base_uri": "https://localhost:8080/"
        },
        "id": "LGQva_xaacXl",
        "outputId": "b1af2167-9183-4e08-b709-d3d8696ab437"
      },
      "source": [
        "f = open(\"b.txt\", \"r\")\n",
        "for i in range(34):\n",
        "  f.seek(i)\n",
        "  print(f.tell())\n",
        "  print(f.read(1))\n",
        "  print(f.tell())\n",
        "  print(\"=======\")\n",
        "f.close()"
      ],
      "execution_count": 131,
      "outputs": [
        {
          "output_type": "stream",
          "text": [
            "0\n",
            "a\n",
            "1\n",
            "=======\n",
            "1\n",
            "b\n",
            "2\n",
            "=======\n",
            "2\n",
            "c\n",
            "3\n",
            "=======\n",
            "3\n",
            "d\n",
            "4\n",
            "=======\n",
            "4\n",
            "e\n",
            "5\n",
            "=======\n",
            "5\n",
            "f\n",
            "6\n",
            "=======\n",
            "6\n",
            "g\n",
            "7\n",
            "=======\n",
            "7\n",
            "\n",
            "\n",
            "9\n",
            "=======\n",
            "8\n",
            "\n",
            "\n",
            "9\n",
            "=======\n",
            "9\n",
            "h\n",
            "10\n",
            "=======\n",
            "10\n",
            "i\n",
            "11\n",
            "=======\n",
            "11\n",
            "j\n",
            "12\n",
            "=======\n",
            "12\n",
            "k\n",
            "13\n",
            "=======\n",
            "13\n",
            "i\n",
            "14\n",
            "=======\n",
            "14\n",
            "l\n",
            "15\n",
            "=======\n",
            "15\n",
            "m\n",
            "16\n",
            "=======\n",
            "16\n",
            "n\n",
            "17\n",
            "=======\n",
            "17\n",
            "\n",
            "\n",
            "19\n",
            "=======\n",
            "18\n",
            "\n",
            "\n",
            "19\n",
            "=======\n",
            "19\n",
            "o\n",
            "20\n",
            "=======\n",
            "20\n",
            "p\n",
            "21\n",
            "=======\n",
            "21\n",
            "q\n",
            "22\n",
            "=======\n",
            "22\n",
            "r\n",
            "23\n",
            "=======\n",
            "23\n",
            "s\n",
            "24\n",
            "=======\n",
            "24\n",
            "t\n",
            "25\n",
            "=======\n",
            "25\n",
            "u\n",
            "26\n",
            "=======\n",
            "26\n",
            "\n",
            "\n",
            "28\n",
            "=======\n",
            "27\n",
            "\n",
            "\n",
            "28\n",
            "=======\n",
            "28\n",
            "v\n",
            "29\n",
            "=======\n",
            "29\n",
            "w\n",
            "30\n",
            "=======\n",
            "30\n",
            "x\n",
            "31\n",
            "=======\n",
            "31\n",
            "y\n",
            "32\n",
            "=======\n",
            "32\n",
            "z\n",
            "33\n",
            "=======\n",
            "33\n",
            "\n",
            "33\n",
            "=======\n"
          ],
          "name": "stdout"
        }
      ]
    },
    {
      "cell_type": "code",
      "metadata": {
        "id": "BmvtXLPpfptA"
      },
      "source": [
        ""
      ],
      "execution_count": null,
      "outputs": []
    }
  ]
}