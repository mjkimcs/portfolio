{
  "nbformat": 4,
  "nbformat_minor": 0,
  "metadata": {
    "colab": {
      "name": "파일입출력",
      "provenance": [],
      "collapsed_sections": [],
      "authorship_tag": "ABX9TyPBooCudvg14u5Ix1DDCdNi",
      "include_colab_link": true
    },
    "kernelspec": {
      "name": "python3",
      "display_name": "Python 3"
    },
    "language_info": {
      "name": "python"
    }
  },
  "cells": [
    {
      "cell_type": "markdown",
      "metadata": {
        "id": "view-in-github",
        "colab_type": "text"
      },
      "source": [
        "<a href=\"https://colab.research.google.com/github/mjkimcs/portfolio/blob/main/%EC%9A%A9%EC%96%B4%EC%A0%95%EB%A6%AC/%ED%8C%8C%EC%9D%BC%EC%9E%85%EC%B6%9C%EB%A0%A5.ipynb\" target=\"_parent\"><img src=\"https://colab.research.google.com/assets/colab-badge.svg\" alt=\"Open In Colab\"/></a>"
      ]
    },
    {
      "cell_type": "markdown",
      "metadata": {
        "id": "oADP-vlD89wj"
      },
      "source": [
        "## 파일처리의 종류\n",
        "1. byte : 이미지, 동영상, 음성, pickle(직렬화 한 레코드씩마다 끊어서 보내겠다 압축)/unpickle(역직렬화)\n",
        "2. 문자 : txt, 유니코드가 기점\n",
        "3. object : class 단위, class를 만들어서 객체생성 후 파일입출력"
      ]
    },
    {
      "cell_type": "markdown",
      "metadata": {
        "id": "cs6fhopm3ol9"
      },
      "source": [
        "### 바이너리타입\n",
        "- 2진화\n",
        "- stream: 바이트 대상 데이터를 주고받는 연결통로(1바이트씩), 스트리밍 작업(버퍼)\n",
        "- 파일을 열어서 1바이트씩 데이터를 읽고 화면에 hex(16진수)코드로 출력(한글이라서)하는 방법\n",
        "- rb, wb\n",
        "- 기본이 유니코드인데 앞에 b를 붙여주면 bytes \n",
        "```\n",
        "s = b'abcd'  \n",
        "type(s)  <class 'bytes'>\n",
        "```\n",
        "\n"
      ]
    },
    {
      "cell_type": "markdown",
      "metadata": {
        "id": "RJTM0B_b-3UE"
      },
      "source": [
        "### 코드\n",
        "1. ASCII 코드 : 1byte 이내\n",
        "2. scan 코드: 확장형 코드\n",
        "3. 유니 코드 : 확장형 코드"
      ]
    },
    {
      "cell_type": "markdown",
      "metadata": {
        "id": "hpkiI-I91uFU"
      },
      "source": [
        "### IO객체\n",
        "1.\t키보드 표준입력 input write\n",
        "2.\t모니터 표준출력 output read\n"
      ]
    },
    {
      "cell_type": "markdown",
      "metadata": {
        "id": "uQiCpS8o3Co_"
      },
      "source": [
        "### 기본적인 네트워크 통신 개념에서 Server의 역할\n",
        "1. Client관리(Q): Q의 의미는 줄을 세워서 관리한다는 의미\n",
        "2. Message관리(Q): 대상관리\n",
        "3. Client에게 송신  "
      ]
    },
    {
      "cell_type": "code",
      "metadata": {
        "id": "1vkngggw1dn9"
      },
      "source": [
        "open(\"a.txt\") # 텍스트 읽기 모드(rt)\n",
        "open(\"a.txt\", \"w\") # 쓰기\n",
        "open(\"apple.bmp\", \"r+b\") # 바이너리로 읽기+쓰기\n",
        "open(\"a.txt\", encoding=\"utf-8\")"
      ],
      "execution_count": null,
      "outputs": []
    },
    {
      "cell_type": "code",
      "metadata": {
        "colab": {
          "base_uri": "https://localhost:8080/"
        },
        "id": "z1NhK7P8__lw",
        "outputId": "c9429fb6-6876-4e7c-839d-2f2904508681"
      },
      "source": [
        "str = \"민정이\"\n",
        "\n",
        "f = open(\"data.txt\", \"w\")\n",
        "f.write(str)\n",
        "f.close()\n",
        "\n",
        "f = open(\"data.txt\", \"r\")\n",
        "print(f.read())\n",
        "f.close()"
      ],
      "execution_count": null,
      "outputs": [
        {
          "output_type": "stream",
          "text": [
            "민정이\n"
          ],
          "name": "stdout"
        }
      ]
    },
    {
      "cell_type": "code",
      "metadata": {
        "colab": {
          "base_uri": "https://localhost:8080/"
        },
        "id": "P-qSpvQjBd1T",
        "outputId": "1b448096-40bf-46dd-83ef-e857dcfb611b"
      },
      "source": [
        "def My_write(str, mypath):\n",
        "    f = open(mypath, \"w\")\n",
        "    f.write(str)\n",
        "    f.close()\n",
        "\n",
        "def My_read(mypath):\n",
        "    f = open(mypath, \"r\")\n",
        "    print(f.read())\n",
        "    f.close()\n",
        "\n",
        "if __name__ == '__main__':\n",
        "    str = '민정이'\n",
        "    mypath = \"./data.txt\" # c:\\\\Test/data.txt\n",
        "    My_write(str, mypath)\n",
        "    My_read(mypath)"
      ],
      "execution_count": null,
      "outputs": [
        {
          "output_type": "stream",
          "text": [
            "민정이\n"
          ],
          "name": "stdout"
        }
      ]
    },
    {
      "cell_type": "code",
      "metadata": {
        "colab": {
          "base_uri": "https://localhost:8080/"
        },
        "id": "8MLIHW4NBeNx",
        "outputId": "ae960373-23e8-478a-a95f-67a9b068ce7f"
      },
      "source": [
        "class MyFile:\n",
        "  def __init__(self, mypath, str):\n",
        "    self.mypath = mypath\n",
        "    self.str = str\n",
        "\n",
        "  def My_write(self):\n",
        "    f = open(self.mypath, \"w\")\n",
        "    f.write(self.str)\n",
        "    f.close()\n",
        "\n",
        "  def My_read(self):\n",
        "    f = open(self.mypath, \"r\")\n",
        "    print(f.read())\n",
        "    f.close()\n",
        "\n",
        "if __name__ == '__main__':\n",
        "    str = '민정이'\n",
        "    mypath = \"./data.txt\" # c:\\\\Test/data.txt\n",
        "\n",
        "    m1 = MyFile(mypath, str)\n",
        "    m1.My_write()\n",
        "    m1.My_read()"
      ],
      "execution_count": null,
      "outputs": [
        {
          "output_type": "stream",
          "text": [
            "민정이\n"
          ],
          "name": "stdout"
        }
      ]
    },
    {
      "cell_type": "code",
      "metadata": {
        "colab": {
          "base_uri": "https://localhost:8080/"
        },
        "id": "7GiKKeJsCXHP",
        "outputId": "03c2f530-080f-4a7c-c83d-a4ab5fded86d"
      },
      "source": [
        "str = '''민정이\n",
        "안녕\n",
        "python\n",
        "굳\n",
        "'''\n",
        "\n",
        "with open(\"data.txt\", \"w\") as f: # f.close() 필요없음\n",
        "  f.write(str)\n",
        "\n",
        "with open(\"data.txt\", \"r\") as f:\n",
        "  print(f.read())"
      ],
      "execution_count": null,
      "outputs": [
        {
          "output_type": "stream",
          "text": [
            "민정이\n",
            "안녕\n",
            "python\n",
            "굳\n",
            "\n"
          ],
          "name": "stdout"
        }
      ]
    },
    {
      "cell_type": "code",
      "metadata": {
        "colab": {
          "base_uri": "https://localhost:8080/"
        },
        "id": "z6a5QFJbJmGZ",
        "outputId": "91452389-94fe-4eb1-95bc-cb6bcda20096"
      },
      "source": [
        "with open(\"data.txt\", \"r\") as f:\n",
        "  print(f.readline())"
      ],
      "execution_count": null,
      "outputs": [
        {
          "output_type": "stream",
          "text": [
            "민정이\n",
            "\n"
          ],
          "name": "stdout"
        }
      ]
    },
    {
      "cell_type": "code",
      "metadata": {
        "colab": {
          "base_uri": "https://localhost:8080/"
        },
        "id": "npbNHNvWJopV",
        "outputId": "0a8196fb-1058-4b8c-b7ca-8ba852bdc21d"
      },
      "source": [
        "with open(\"data.txt\", \"r\") as f:\n",
        "  print(f.readlines())"
      ],
      "execution_count": null,
      "outputs": [
        {
          "output_type": "stream",
          "text": [
            "['민정이\\n', '안녕\\n', 'python\\n', '굳\\n']\n"
          ],
          "name": "stdout"
        }
      ]
    },
    {
      "cell_type": "code",
      "metadata": {
        "colab": {
          "base_uri": "https://localhost:8080/",
          "height": 34
        },
        "id": "TUA2eY_UCWrE",
        "outputId": "b6f0d35f-ba8e-40e3-aedb-5a79fbac3903"
      },
      "source": [
        "f = open(\"data.txt\", \"r\")\n",
        "f.read()"
      ],
      "execution_count": null,
      "outputs": [
        {
          "output_type": "execute_result",
          "data": {
            "application/vnd.google.colaboratory.intrinsic+json": {
              "type": "string"
            },
            "text/plain": [
              "'민정이\\n안녕\\npython\\n굳\\n'"
            ]
          },
          "metadata": {
            "tags": []
          },
          "execution_count": 9
        }
      ]
    },
    {
      "cell_type": "code",
      "metadata": {
        "colab": {
          "base_uri": "https://localhost:8080/",
          "height": 34
        },
        "id": "OyHRy04aCW0V",
        "outputId": "eee39461-4ec6-447e-e70e-8ce715bd7c0c"
      },
      "source": [
        "f = open(\"data.txt\", \"r\")\n",
        "f.readline()"
      ],
      "execution_count": null,
      "outputs": [
        {
          "output_type": "execute_result",
          "data": {
            "application/vnd.google.colaboratory.intrinsic+json": {
              "type": "string"
            },
            "text/plain": [
              "'민정이\\n'"
            ]
          },
          "metadata": {
            "tags": []
          },
          "execution_count": 36
        }
      ]
    },
    {
      "cell_type": "code",
      "metadata": {
        "colab": {
          "base_uri": "https://localhost:8080/"
        },
        "id": "Js8i0tDnCWvu",
        "outputId": "5666862e-9fed-4768-e084-292221bd3b59"
      },
      "source": [
        "f.readlines()"
      ],
      "execution_count": null,
      "outputs": [
        {
          "output_type": "execute_result",
          "data": {
            "text/plain": [
              "['안녕\\n', 'python\\n', '굳\\n']"
            ]
          },
          "metadata": {
            "tags": []
          },
          "execution_count": 8
        }
      ]
    },
    {
      "cell_type": "code",
      "metadata": {
        "colab": {
          "base_uri": "https://localhost:8080/",
          "height": 34
        },
        "id": "a3fwXPtxIApI",
        "outputId": "e7090122-5e05-4cf7-b6ea-ae3e5096f285"
      },
      "source": [
        "f.read()"
      ],
      "execution_count": null,
      "outputs": [
        {
          "output_type": "execute_result",
          "data": {
            "application/vnd.google.colaboratory.intrinsic+json": {
              "type": "string"
            },
            "text/plain": [
              "''"
            ]
          },
          "metadata": {
            "tags": []
          },
          "execution_count": 10
        }
      ]
    },
    {
      "cell_type": "code",
      "metadata": {
        "colab": {
          "base_uri": "https://localhost:8080/"
        },
        "id": "ek2j2gLQIC6X",
        "outputId": "8a4cc5ae-032d-48e9-c6f7-04c604c23165"
      },
      "source": [
        "f.readlines()"
      ],
      "execution_count": null,
      "outputs": [
        {
          "output_type": "execute_result",
          "data": {
            "text/plain": [
              "[]"
            ]
          },
          "metadata": {
            "tags": []
          },
          "execution_count": 11
        }
      ]
    },
    {
      "cell_type": "code",
      "metadata": {
        "colab": {
          "base_uri": "https://localhost:8080/"
        },
        "id": "qlUvFOCmKcwn",
        "outputId": "7b09fa14-a53e-435e-fac9-cc8a70239684"
      },
      "source": [
        "f = open(\"data.txt\", \"r\")\n",
        "\n",
        "line = f.readline()\n",
        "print(line)\n",
        "f.close()"
      ],
      "execution_count": null,
      "outputs": [
        {
          "output_type": "stream",
          "text": [
            "민정이\n",
            "\n"
          ],
          "name": "stdout"
        }
      ]
    },
    {
      "cell_type": "code",
      "metadata": {
        "colab": {
          "base_uri": "https://localhost:8080/"
        },
        "id": "TAsGEUGaL983",
        "outputId": "0d64fbb5-f73a-45f9-bcec-e44eb7d4994a"
      },
      "source": [
        "f = open(\"data.txt\", \"r\")\n",
        "\n",
        "line = f.readline()\n",
        "while line: # f.readline()이 ''인 경우 False라서 break\n",
        "  print(line)\n",
        "  line = f.readline()\n",
        "f.close()"
      ],
      "execution_count": null,
      "outputs": [
        {
          "output_type": "stream",
          "text": [
            "민정이\n",
            "\n",
            "안녕\n",
            "\n",
            "python\n",
            "\n",
            "굳\n",
            "\n"
          ],
          "name": "stdout"
        }
      ]
    },
    {
      "cell_type": "code",
      "metadata": {
        "colab": {
          "base_uri": "https://localhost:8080/"
        },
        "id": "m-XiaRulMJ7u",
        "outputId": "1d1ff9f8-088e-4111-c065-4908dd0a7a37"
      },
      "source": [
        "f = open(\"data.txt\", \"r\")\n",
        "\n",
        "while 1: # True \n",
        "  line = f.readline()\n",
        "  if not line:\n",
        "    break\n",
        "  print(line)"
      ],
      "execution_count": null,
      "outputs": [
        {
          "output_type": "stream",
          "text": [
            "민정이\n",
            "\n",
            "안녕\n",
            "\n",
            "python\n",
            "\n",
            "굳\n",
            "\n"
          ],
          "name": "stdout"
        }
      ]
    },
    {
      "cell_type": "code",
      "metadata": {
        "colab": {
          "base_uri": "https://localhost:8080/"
        },
        "id": "5ONA5KCfMbru",
        "outputId": "a529b34d-893f-4691-8b25-54b51e5e9ebe"
      },
      "source": [
        "f = open(\"data.txt\", \"r\")\n",
        "\n",
        "for i in f:\n",
        "  print(i)"
      ],
      "execution_count": null,
      "outputs": [
        {
          "output_type": "stream",
          "text": [
            "민정이\n",
            "\n",
            "안녕\n",
            "\n",
            "python\n",
            "\n",
            "굳\n",
            "\n"
          ],
          "name": "stdout"
        }
      ]
    },
    {
      "cell_type": "code",
      "metadata": {
        "id": "r-w9Zv6mNB9G",
        "colab": {
          "base_uri": "https://localhost:8080/"
        },
        "outputId": "a4706bb4-2e32-4b5c-f0ff-a25446bc1373"
      },
      "source": [
        "def my_write():\n",
        "  with open(\"data.txt\", \"w\") as f:\n",
        "    for i in range(1,10):\n",
        "      str = \"%3d * %3d = %3d \\n\"%(2, i, 2*i)\n",
        "      f.write(str)\n",
        "\n",
        "def my_read():\n",
        "  with open(\"data.txt\", \"r\") as f:\n",
        "    print(f.read())\n",
        "\n",
        "if __name__ == '__main__':\n",
        "  my_write()\n",
        "  my_read()"
      ],
      "execution_count": 1,
      "outputs": [
        {
          "output_type": "stream",
          "text": [
            "  2 *   1 =   2 \n",
            "  2 *   2 =   4 \n",
            "  2 *   3 =   6 \n",
            "  2 *   4 =   8 \n",
            "  2 *   5 =  10 \n",
            "  2 *   6 =  12 \n",
            "  2 *   7 =  14 \n",
            "  2 *   8 =  16 \n",
            "  2 *   9 =  18 \n",
            "\n"
          ],
          "name": "stdout"
        }
      ]
    },
    {
      "cell_type": "code",
      "metadata": {
        "colab": {
          "base_uri": "https://localhost:8080/"
        },
        "id": "sJNl0nmX7qUH",
        "outputId": "cec418d6-23ce-4dc8-df85-a6c6ef7cbc80"
      },
      "source": [
        "class BTest:\n",
        "  def b_write(self):\n",
        "    f = open(\"file_test01.txt\", \"wb\")\n",
        "    f.write(b\"ABC123\")\n",
        "    f.close()\n",
        "\n",
        "  def b_read(self):\n",
        "    f = open(\"file_test01.txt\", \"rb\")\n",
        "    while True:\n",
        "      s = f.read(1) # 1바이트씩 읽어\n",
        "      if s == b'':\n",
        "        break\n",
        "      print(s.hex(), s)\n",
        "    f.close()\n",
        "\n",
        "if __name__ == '__main__':\n",
        "  b1 = BTest() # 생성자가 명시되지 않아서 기본생성자( _ _ init _ _ )를 호출하면서 객체를 생성함\n",
        "  b1.b_write()\n",
        "  b1.b_read()"
      ],
      "execution_count": 6,
      "outputs": [
        {
          "output_type": "stream",
          "text": [
            "41 b'A'\n",
            "42 b'B'\n",
            "43 b'C'\n",
            "31 b'1'\n",
            "32 b'2'\n",
            "33 b'3'\n"
          ],
          "name": "stdout"
        }
      ]
    },
    {
      "cell_type": "code",
      "metadata": {
        "colab": {
          "base_uri": "https://localhost:8080/"
        },
        "id": "v1iCD3DT8TK4",
        "outputId": "899ac7e3-4c71-494a-e37a-7566b4e3b4ae"
      },
      "source": [
        "class BTest:\n",
        "  def b_write(self):\n",
        "    f = open(\"file_test02.txt\", \"w\")\n",
        "    f.write(\"ABC123\")\n",
        "    f.close()\n",
        "\n",
        "  def b_read(self):\n",
        "    f = open(\"file_test02.txt\", \"r\")\n",
        "    while True:\n",
        "      s = f.read(1) # 1바이트씩 읽어\n",
        "      if s == '':\n",
        "        break\n",
        "      print(s)\n",
        "    f.close()\n",
        "\n",
        "if __name__ == '__main__':\n",
        "  b1 = BTest() # 생성자가 명시되지 않아서 기본생성자( _ _ init _ _ )를 호출하면서 객체를 생성함\n",
        "  b1.b_write()\n",
        "  b1.b_read()"
      ],
      "execution_count": 9,
      "outputs": [
        {
          "output_type": "stream",
          "text": [
            "A\n",
            "B\n",
            "C\n",
            "1\n",
            "2\n",
            "3\n"
          ],
          "name": "stdout"
        }
      ]
    },
    {
      "cell_type": "code",
      "metadata": {
        "id": "mTXyl6LGDM7N"
      },
      "source": [
        ""
      ],
      "execution_count": null,
      "outputs": []
    }
  ]
}