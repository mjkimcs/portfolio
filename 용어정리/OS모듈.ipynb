{
  "nbformat": 4,
  "nbformat_minor": 0,
  "metadata": {
    "colab": {
      "name": "OS모듈",
      "provenance": [],
      "collapsed_sections": [],
      "authorship_tag": "ABX9TyOr7Z+482Mz+gbgV+2PN98a",
      "include_colab_link": true
    },
    "kernelspec": {
      "name": "python3",
      "display_name": "Python 3"
    },
    "language_info": {
      "name": "python"
    }
  },
  "cells": [
    {
      "cell_type": "markdown",
      "metadata": {
        "id": "view-in-github",
        "colab_type": "text"
      },
      "source": [
        "<a href=\"https://colab.research.google.com/github/mjkimcs/portfolio/blob/main/%EC%9A%A9%EC%96%B4%EC%A0%95%EB%A6%AC/OS%EB%AA%A8%EB%93%88.ipynb\" target=\"_parent\"><img src=\"https://colab.research.google.com/assets/colab-badge.svg\" alt=\"Open In Colab\"/></a>"
      ]
    },
    {
      "cell_type": "code",
      "metadata": {
        "id": "sZmLYbnqBSs-"
      },
      "source": [
        "import os  # 운영체제\n",
        "import sys  # 시스템 정보 # os에서 import 시켜놓은 애\n",
        "os.path  # os의 멤버인 path"
      ],
      "execution_count": 1,
      "outputs": []
    },
    {
      "cell_type": "markdown",
      "metadata": {
        "id": "QLAaQVqTDey4"
      },
      "source": [
        "## OS\n",
        "- sys 모듈\n",
        "- os.chdir(path) : 디렉토리 변경\n",
        "- os.access(path, mode) : 읽기전용(R_OK), 쓰기전용(W_OK), 실행전용(X_OK), 있는지없는지(F_OK)\n",
        "- os.stat(path, *, dir_fd=None, follow_symlinks=True) : path에 대한 정보를 리턴\n",
        "- os.utime() : 시간 리턴\n",
        "- os.walk(top, topdown=True, onerror=None, followlinks=False) : 디렉토리 탑다운으로 순회\n",
        "- 환경설정 관련 : environ, exe-series"
      ]
    },
    {
      "cell_type": "code",
      "metadata": {
        "colab": {
          "base_uri": "https://localhost:8080/"
        },
        "id": "_7Vakt-6E8kr",
        "outputId": "45941ada-8df1-48c4-cffc-dd8558dd5504"
      },
      "source": [
        "os.access('.', os.W_OK | os.R_OK | os.X_OK)"
      ],
      "execution_count": 3,
      "outputs": [
        {
          "output_type": "execute_result",
          "data": {
            "text/plain": [
              "True"
            ]
          },
          "metadata": {
            "tags": []
          },
          "execution_count": 3
        }
      ]
    },
    {
      "cell_type": "code",
      "metadata": {
        "id": "mgpVNfLdE8gK"
      },
      "source": [
        "os.mkdir(\"./Test\")"
      ],
      "execution_count": 36,
      "outputs": []
    },
    {
      "cell_type": "code",
      "metadata": {
        "id": "uoARN09lE8b3"
      },
      "source": [
        "os.makedirs(\"./Test/a\") # os.makedirs(\"c:\\\\Test/a\")"
      ],
      "execution_count": 37,
      "outputs": []
    },
    {
      "cell_type": "code",
      "metadata": {
        "id": "wmbVIwWkKLHB"
      },
      "source": [
        "os.makedirs(\"./Test/aa\")"
      ],
      "execution_count": 51,
      "outputs": []
    },
    {
      "cell_type": "code",
      "metadata": {
        "id": "9J_mXTxGE8Xw"
      },
      "source": [
        "os.makedirs(\"./Test2/b\")"
      ],
      "execution_count": 39,
      "outputs": []
    },
    {
      "cell_type": "code",
      "metadata": {
        "id": "MwwKrLycE8O2"
      },
      "source": [
        "os.rename(\"./Test/a\", \"./Test/c\")"
      ],
      "execution_count": 40,
      "outputs": []
    },
    {
      "cell_type": "code",
      "metadata": {
        "id": "QVLuAYCrJ0F5"
      },
      "source": [
        "os.rename(\"./Test/c\", \"./Test2/mya\") # 폴더명이 mya로 바뀌면서 Test2 폴더로 이동"
      ],
      "execution_count": 42,
      "outputs": []
    },
    {
      "cell_type": "code",
      "metadata": {
        "id": "U_kgcJVRIpiM"
      },
      "source": [
        "os.rmdir(\"./Test/aa\") # 비어있는 폴더일 경우에만 삭제됨"
      ],
      "execution_count": 44,
      "outputs": []
    },
    {
      "cell_type": "code",
      "metadata": {
        "id": "E9v_XyD5K142"
      },
      "source": [
        "os.rmdir(\"./Test\")"
      ],
      "execution_count": 45,
      "outputs": []
    },
    {
      "cell_type": "code",
      "metadata": {
        "id": "y3qeTR86JAJ1"
      },
      "source": [
        "os.removedirs(\"./Test2/b\")\n",
        "os.removedirs(\"./Test2/mya\") # 이렇게만 해도 Test2 폴더가 비어있으면 Test2 폴더도 삭제됨"
      ],
      "execution_count": 47,
      "outputs": []
    },
    {
      "cell_type": "code",
      "metadata": {
        "colab": {
          "base_uri": "https://localhost:8080/"
        },
        "id": "hZTinzSiMP4F",
        "outputId": "0905b6e4-de6a-4271-8d90-caf8fadc74cd"
      },
      "source": [
        "for path, dirs, files in os.walk(\"./\"):\n",
        "  print(path, dirs, files)"
      ],
      "execution_count": 55,
      "outputs": [
        {
          "output_type": "stream",
          "text": [
            "./ ['.config', 'sample_data'] []\n",
            "./.config ['logs', 'configurations'] ['.last_opt_in_prompt.yaml', 'active_config', '.last_survey_prompt.yaml', 'config_sentinel', '.last_update_check.json', 'gce']\n",
            "./.config/logs ['2021.04.21'] []\n",
            "./.config/logs/2021.04.21 [] ['13.38.56.174593.log', '13.38.55.616588.log', '13.38.39.238346.log', '13.37.59.675948.log', '13.38.33.645732.log', '13.38.18.505216.log']\n",
            "./.config/configurations [] ['config_default']\n",
            "./sample_data [] ['anscombe.json', 'README.md', 'california_housing_train.csv', 'mnist_test.csv', 'mnist_train_small.csv', 'california_housing_test.csv']\n"
          ],
          "name": "stdout"
        }
      ]
    },
    {
      "cell_type": "code",
      "metadata": {
        "colab": {
          "base_uri": "https://localhost:8080/"
        },
        "id": "VgIQ84xRPC01",
        "outputId": "cfa7bdee-1bbe-40b1-f340-f76d3452b0c0"
      },
      "source": [
        "for path, dirs, files in os.walk(\"./\"):\n",
        "  print(path)"
      ],
      "execution_count": 56,
      "outputs": [
        {
          "output_type": "stream",
          "text": [
            "./\n",
            "./.config\n",
            "./.config/logs\n",
            "./.config/logs/2021.04.21\n",
            "./.config/configurations\n",
            "./sample_data\n"
          ],
          "name": "stdout"
        }
      ]
    },
    {
      "cell_type": "code",
      "metadata": {
        "colab": {
          "base_uri": "https://localhost:8080/"
        },
        "id": "hIn72AU1PrRG",
        "outputId": "7c1ba866-b84d-4593-d86d-6691e500064c"
      },
      "source": [
        "for path, dirs, files in os.walk(\"./\"):\n",
        "  print(dirs)"
      ],
      "execution_count": 58,
      "outputs": [
        {
          "output_type": "stream",
          "text": [
            "['.config', 'sample_data']\n",
            "['logs', 'configurations']\n",
            "['2021.04.21']\n",
            "[]\n",
            "[]\n",
            "[]\n"
          ],
          "name": "stdout"
        }
      ]
    },
    {
      "cell_type": "code",
      "metadata": {
        "colab": {
          "base_uri": "https://localhost:8080/"
        },
        "id": "an6z4BLXPgyD",
        "outputId": "feb0859b-dfc0-45af-c1d9-03f13fed7c20"
      },
      "source": [
        "for path, dirs, files in os.walk(\"./\"):\n",
        "  print(files)"
      ],
      "execution_count": 57,
      "outputs": [
        {
          "output_type": "stream",
          "text": [
            "[]\n",
            "['.last_opt_in_prompt.yaml', 'active_config', '.last_survey_prompt.yaml', 'config_sentinel', '.last_update_check.json', 'gce']\n",
            "[]\n",
            "['13.38.56.174593.log', '13.38.55.616588.log', '13.38.39.238346.log', '13.37.59.675948.log', '13.38.33.645732.log', '13.38.18.505216.log']\n",
            "['config_default']\n",
            "['anscombe.json', 'README.md', 'california_housing_train.csv', 'mnist_test.csv', 'mnist_train_small.csv', 'california_housing_test.csv']\n"
          ],
          "name": "stdout"
        }
      ]
    },
    {
      "cell_type": "code",
      "metadata": {
        "id": "WGI-NJXhP0_M"
      },
      "source": [
        "os.stat(\"./Test/a.txt\") # os.stat(\"c:\\\\Test/a.txt\")"
      ],
      "execution_count": null,
      "outputs": []
    },
    {
      "cell_type": "code",
      "metadata": {
        "colab": {
          "base_uri": "https://localhost:8080/"
        },
        "id": "0XIr9k1SU0PL",
        "outputId": "51e12a8c-379b-4576-dabd-6c21e8c6a3a9"
      },
      "source": [
        "os.listdir(\"./\") # os.listdir(\"c:\\\\\")"
      ],
      "execution_count": 68,
      "outputs": [
        {
          "output_type": "execute_result",
          "data": {
            "text/plain": [
              "['.config', 'Test', 'sample_data']"
            ]
          },
          "metadata": {
            "tags": []
          },
          "execution_count": 68
        }
      ]
    },
    {
      "cell_type": "code",
      "metadata": {
        "colab": {
          "base_uri": "https://localhost:8080/"
        },
        "id": "LJ9sD2erU3N8",
        "outputId": "32cf5c80-097d-4f2d-8aa7-cb40f1bb8f2c"
      },
      "source": [
        "os.makedirs(\"./Test/aa\")\n",
        "\n",
        "import os, time\n",
        "\n",
        "def Test():\n",
        "  print(os.listdir(\"./\"))  # c:\\\\\n",
        "  path = \"./Test\"  # c:\\\\Test\n",
        "  file_list = os.listdir(path)\n",
        "\n",
        "  for file in file_list:\n",
        "    file = os.path.join(path, file)\n",
        "    print(file)\n",
        "    print(os.stat(file).st_size)\n",
        "    print(time.ctime(os.stat(file).st_mtime)) # 마지막으로 수정한 시간\n",
        "    print(os.stat(file).st_mtime)\n",
        "\n",
        "\n",
        "if __name__ == '__main__':\n",
        "  Test()"
      ],
      "execution_count": 71,
      "outputs": [
        {
          "output_type": "stream",
          "text": [
            "['.config', 'Test', 'sample_data']\n",
            "./Test/aa\n",
            "4096\n",
            "Mon May  3 03:47:25 2021\n",
            "1620013645.494212\n"
          ],
          "name": "stdout"
        }
      ]
    },
    {
      "cell_type": "code",
      "metadata": {
        "id": "f2HdogMprenG"
      },
      "source": [
        "cd c:\\Test\n",
        "echo 1234567>>b.txt\n",
        "type b.txt\n",
        "rename b.txt bb.txt"
      ],
      "execution_count": null,
      "outputs": []
    },
    {
      "cell_type": "code",
      "metadata": {
        "id": "hHryHHZ6WF6S"
      },
      "source": [
        "import os.path\n",
        "\n",
        "os.path.basename(\"./Test/b.txt\") # c:\\\\Test/b.txt  # 존재 안해도 b.txt 리턴\n",
        "os.path.normpath(\"./Test/b.txt\") # c:\\\\Test/b.txt  # 존재 안해도 c:\\\\Test/b.txt 리턴\n",
        "os.path.abspath(\"./Test/b.txt\") # c:\\\\Test/b.txt  # c:\\\\Test/b.txt 리턴"
      ],
      "execution_count": null,
      "outputs": []
    },
    {
      "cell_type": "code",
      "metadata": {
        "id": "eHGbHanvvXW6"
      },
      "source": [
        "import os.path\n",
        "\n",
        "def Test():\n",
        "  file = './Test/b.txt'  # c:\\\\Test/b.txt\n",
        "  if os.path.isfile(file):\n",
        "    a = os.path.basename(file)\n",
        "    b = os.path.split(file)\n",
        "    c = os.path.normpath(file)\n",
        "    print(a)  # b.txt 리턴\n",
        "    print(b)  # ('c:\\\\Test', 'b.txt') 리턴\n",
        "    print(c)  # c:\\Test\\b.txt 리턴\n",
        "\n",
        "if __name__ == '__main__':\n",
        "  Test()"
      ],
      "execution_count": null,
      "outputs": []
    },
    {
      "cell_type": "code",
      "metadata": {
        "colab": {
          "base_uri": "https://localhost:8080/",
          "height": 34
        },
        "id": "Ss-jOSPbvXUC",
        "outputId": "5996c2f0-d920-434c-9279-80f16cabc817"
      },
      "source": [
        "import sys\n",
        "\n",
        "sys.version"
      ],
      "execution_count": 74,
      "outputs": [
        {
          "output_type": "execute_result",
          "data": {
            "application/vnd.google.colaboratory.intrinsic+json": {
              "type": "string"
            },
            "text/plain": [
              "'3.7.10 (default, Feb 20 2021, 21:17:23) \\n[GCC 7.5.0]'"
            ]
          },
          "metadata": {
            "tags": []
          },
          "execution_count": 74
        }
      ]
    },
    {
      "cell_type": "code",
      "metadata": {
        "colab": {
          "base_uri": "https://localhost:8080/",
          "height": 34
        },
        "id": "1iF5_bu3vXRI",
        "outputId": "11fe160d-e6a9-454a-add6-af83a15b4809"
      },
      "source": [
        "repr(sys.version)"
      ],
      "execution_count": 75,
      "outputs": [
        {
          "output_type": "execute_result",
          "data": {
            "application/vnd.google.colaboratory.intrinsic+json": {
              "type": "string"
            },
            "text/plain": [
              "\"'3.7.10 (default, Feb 20 2021, 21:17:23) \\\\n[GCC 7.5.0]'\""
            ]
          },
          "metadata": {
            "tags": []
          },
          "execution_count": 75
        }
      ]
    },
    {
      "cell_type": "code",
      "metadata": {
        "colab": {
          "base_uri": "https://localhost:8080/"
        },
        "id": "rhx8cIjtvXOI",
        "outputId": "1b680130-3ce6-4267-c92c-190734f7941d"
      },
      "source": [
        "sys.version_info"
      ],
      "execution_count": 76,
      "outputs": [
        {
          "output_type": "execute_result",
          "data": {
            "text/plain": [
              "sys.version_info(major=3, minor=7, micro=10, releaselevel='final', serial=0)"
            ]
          },
          "metadata": {
            "tags": []
          },
          "execution_count": 76
        }
      ]
    },
    {
      "cell_type": "code",
      "metadata": {
        "colab": {
          "base_uri": "https://localhost:8080/"
        },
        "id": "lDbY1SG7vXKV",
        "outputId": "9e900dc6-cc5b-4a53-d436-3e684bf46078"
      },
      "source": [
        "sys.api_version"
      ],
      "execution_count": 78,
      "outputs": [
        {
          "output_type": "execute_result",
          "data": {
            "text/plain": [
              "1013"
            ]
          },
          "metadata": {
            "tags": []
          },
          "execution_count": 78
        }
      ]
    },
    {
      "cell_type": "code",
      "metadata": {
        "colab": {
          "base_uri": "https://localhost:8080/",
          "height": 34
        },
        "id": "wyCezkQwvXFP",
        "outputId": "8a18c7c3-2a25-4b5a-80e3-124311b41940"
      },
      "source": [
        "sys.platform"
      ],
      "execution_count": 79,
      "outputs": [
        {
          "output_type": "execute_result",
          "data": {
            "application/vnd.google.colaboratory.intrinsic+json": {
              "type": "string"
            },
            "text/plain": [
              "'linux'"
            ]
          },
          "metadata": {
            "tags": []
          },
          "execution_count": 79
        }
      ]
    },
    {
      "cell_type": "code",
      "metadata": {
        "colab": {
          "base_uri": "https://localhost:8080/"
        },
        "id": "SwBx-bSszRGs",
        "outputId": "2fc9900c-65f2-4327-c947-12c92df8eccc"
      },
      "source": [
        "sys.implementation"
      ],
      "execution_count": 80,
      "outputs": [
        {
          "output_type": "execute_result",
          "data": {
            "text/plain": [
              "namespace(_multiarch='x86_64-linux-gnu', cache_tag='cpython-37', hexversion=50793200, name='cpython', version=sys.version_info(major=3, minor=7, micro=10, releaselevel='final', serial=0))"
            ]
          },
          "metadata": {
            "tags": []
          },
          "execution_count": 80
        }
      ]
    },
    {
      "cell_type": "code",
      "metadata": {
        "colab": {
          "base_uri": "https://localhost:8080/",
          "height": 34
        },
        "id": "0DfwtVl5zWN7",
        "outputId": "3bad6cda-6ebb-44cd-f9d6-6ebb76ce8a08"
      },
      "source": [
        "sys.executable"
      ],
      "execution_count": 82,
      "outputs": [
        {
          "output_type": "execute_result",
          "data": {
            "application/vnd.google.colaboratory.intrinsic+json": {
              "type": "string"
            },
            "text/plain": [
              "'/usr/bin/python3'"
            ]
          },
          "metadata": {
            "tags": []
          },
          "execution_count": 82
        }
      ]
    },
    {
      "cell_type": "code",
      "metadata": {
        "colab": {
          "base_uri": "https://localhost:8080/",
          "height": 34
        },
        "id": "wXsI9WPyzfdU",
        "outputId": "b5878dd1-2ae7-432a-fb5f-929b5932158e"
      },
      "source": [
        "sys.prefix"
      ],
      "execution_count": 83,
      "outputs": [
        {
          "output_type": "execute_result",
          "data": {
            "application/vnd.google.colaboratory.intrinsic+json": {
              "type": "string"
            },
            "text/plain": [
              "'/usr'"
            ]
          },
          "metadata": {
            "tags": []
          },
          "execution_count": 83
        }
      ]
    },
    {
      "cell_type": "code",
      "metadata": {
        "colab": {
          "base_uri": "https://localhost:8080/"
        },
        "id": "1TZWt4TOzm1M",
        "outputId": "6854960b-8492-4156-bdf6-2d155d8352d7"
      },
      "source": [
        "sys.path"
      ],
      "execution_count": 84,
      "outputs": [
        {
          "output_type": "execute_result",
          "data": {
            "text/plain": [
              "['',\n",
              " '/content',\n",
              " '/env/python',\n",
              " '/usr/lib/python37.zip',\n",
              " '/usr/lib/python3.7',\n",
              " '/usr/lib/python3.7/lib-dynload',\n",
              " '/usr/local/lib/python3.7/dist-packages',\n",
              " '/usr/lib/python3/dist-packages',\n",
              " '/usr/local/lib/python3.7/dist-packages/IPython/extensions',\n",
              " '/root/.ipython']"
            ]
          },
          "metadata": {
            "tags": []
          },
          "execution_count": 84
        }
      ]
    },
    {
      "cell_type": "code",
      "metadata": {
        "id": "bIoW49ij0J7U"
      },
      "source": [
        ""
      ],
      "execution_count": null,
      "outputs": []
    }
  ]
}