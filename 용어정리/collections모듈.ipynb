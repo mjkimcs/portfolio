{
  "nbformat": 4,
  "nbformat_minor": 0,
  "metadata": {
    "colab": {
      "name": "collections모듈",
      "provenance": [],
      "collapsed_sections": [],
      "authorship_tag": "ABX9TyO6if0/y2p/bfW7Tbf3qeSU",
      "include_colab_link": true
    },
    "kernelspec": {
      "name": "python3",
      "display_name": "Python 3"
    },
    "language_info": {
      "name": "python"
    }
  },
  "cells": [
    {
      "cell_type": "markdown",
      "metadata": {
        "id": "view-in-github",
        "colab_type": "text"
      },
      "source": [
        "<a href=\"https://colab.research.google.com/github/mjkimcs/portfolio/blob/main/%EC%9A%A9%EC%96%B4%EC%A0%95%EB%A6%AC/collections%EB%AA%A8%EB%93%88.ipynb\" target=\"_parent\"><img src=\"https://colab.research.google.com/assets/colab-badge.svg\" alt=\"Open In Colab\"/></a>"
      ]
    },
    {
      "cell_type": "code",
      "metadata": {
        "colab": {
          "base_uri": "https://localhost:8080/"
        },
        "id": "UrDlOptRMffh",
        "outputId": "a2f9f937-9d64-499d-a8b7-29637b6e4f9e"
      },
      "source": [
        "from collections import defaultdict\n",
        "\n",
        "def Test01():\n",
        "  artist = ['아이유', '민정', '영아']\n",
        "  music = ['너랑나', 'tomorrow', 'future']\n",
        "  gini = defaultdict(list)  # dict형\n",
        "    \n",
        "  for i, k in enumerate(artist):\n",
        "    gini[k].append(music[i])\n",
        "  print(gini)\n",
        "\n",
        "  print(\"======================\")\n",
        "  print(gini.values()) # 값들이 리스트 안에 리스트로 출력\n",
        "\n",
        "  print(\"======================\")\n",
        "  for i in gini.values():\n",
        "    print(i)\n",
        "\n",
        "  print(\"=====================\")\n",
        "  for j in gini.values():\n",
        "    print(j[0])\n",
        "\n",
        "  print(\"======================\")\n",
        "  alist = []\n",
        "  for i in gini.values():\n",
        "    for k in i:\n",
        "      alist.append(k)\n",
        "  print(alist)\n",
        "\n",
        "\n",
        "if __name__ == '__main__':\n",
        "  Test01()"
      ],
      "execution_count": null,
      "outputs": [
        {
          "output_type": "stream",
          "text": [
            "defaultdict(<class 'list'>, {'아이유': ['너랑나'], '민정': ['tomorrow'], '영아': ['future']})\n",
            "======================\n",
            "dict_values([['너랑나'], ['tomorrow'], ['future']])\n",
            "======================\n",
            "['너랑나']\n",
            "['tomorrow']\n",
            "['future']\n",
            "=====================\n",
            "너랑나\n",
            "tomorrow\n",
            "future\n",
            "======================\n",
            "['너랑나', 'tomorrow', 'future']\n"
          ],
          "name": "stdout"
        }
      ]
    },
    {
      "cell_type": "code",
      "metadata": {
        "colab": {
          "base_uri": "https://localhost:8080/"
        },
        "id": "g0Yydwc0M4zB",
        "outputId": "2078a57e-2940-495c-ce95-6a15f388e70f"
      },
      "source": [
        "from collections import defaultdict\n",
        "\n",
        "artist = ['아이유', '민정']\n",
        "music = ['너랑나', 'tomorrow']\n",
        "gini = defaultdict(list)\n",
        "\n",
        "for i, k in enumerate(artist):\n",
        "  print(i, k)"
      ],
      "execution_count": null,
      "outputs": [
        {
          "output_type": "stream",
          "text": [
            "0 아이유\n",
            "1 민정\n"
          ],
          "name": "stdout"
        }
      ]
    },
    {
      "cell_type": "code",
      "metadata": {
        "colab": {
          "base_uri": "https://localhost:8080/"
        },
        "id": "FwiBh6mQOwhy",
        "outputId": "14a25b68-376f-4b57-c3ca-686f0209fb3a"
      },
      "source": [
        "from collections import Counter\n",
        "\n",
        "\n",
        "my_list = [1,2,3,4,5,1,1,2,3,3,4]\n",
        "count = Counter(my_list) # 각 요소가 몇개씩 있는지를 반환\n",
        "print(count)\n",
        "print(type(count))\n",
        "print(count[5]) # 특정 요소가 몇개인지를 반환\n",
        "\n",
        "print(\"===================================================\")\n",
        "\n",
        "str = \"나는 정말하하호호 히히 후후하하하 호호하하\"\n",
        "count = Counter(str)\n",
        "print(count)\n",
        "print(count[\"하\"])"
      ],
      "execution_count": null,
      "outputs": [
        {
          "output_type": "stream",
          "text": [
            "Counter({1: 3, 3: 3, 2: 2, 4: 2, 5: 1})\n",
            "<class 'collections.Counter'>\n",
            "1\n",
            "===================================================\n",
            "Counter({'하': 7, ' ': 4, '호': 4, '히': 2, '후': 2, '나': 1, '는': 1, '정': 1, '말': 1})\n",
            "7\n"
          ],
          "name": "stdout"
        }
      ]
    },
    {
      "cell_type": "code",
      "metadata": {
        "colab": {
          "base_uri": "https://localhost:8080/"
        },
        "id": "Se1eaumoRzjo",
        "outputId": "28b52213-1d87-4d07-8d1a-3692fbd1c11a"
      },
      "source": [
        "from collections import Counter\n",
        "\n",
        "\n",
        "list1 = [1,2,3,5,5,7]\n",
        "list2 = [1,2,3,5]\n",
        "count1 = Counter(list1)\n",
        "count2 = Counter(list2)\n",
        "print(count2)\n",
        "a = list(count1 - count2) # 각 키들의 값들끼리 연산해서 0이 아닌 키들만 리스트형으로 반환\n",
        "print(a)\n",
        "list(count1 - count2)[0]"
      ],
      "execution_count": null,
      "outputs": [
        {
          "output_type": "stream",
          "text": [
            "Counter({1: 1, 2: 1, 3: 1, 5: 1})\n",
            "[5, 7]\n"
          ],
          "name": "stdout"
        },
        {
          "output_type": "execute_result",
          "data": {
            "text/plain": [
              "5"
            ]
          },
          "metadata": {
            "tags": []
          },
          "execution_count": 48
        }
      ]
    },
    {
      "cell_type": "code",
      "metadata": {
        "id": "M2GlTP2ORzgq"
      },
      "source": [
        ""
      ],
      "execution_count": null,
      "outputs": []
    }
  ]
}