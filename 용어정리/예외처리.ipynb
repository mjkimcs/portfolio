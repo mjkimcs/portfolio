{
  "nbformat": 4,
  "nbformat_minor": 0,
  "metadata": {
    "colab": {
      "name": "예외처리",
      "provenance": [],
      "collapsed_sections": [],
      "authorship_tag": "ABX9TyPbW/TrynahE64MMYyNZkAc",
      "include_colab_link": true
    },
    "kernelspec": {
      "name": "python3",
      "display_name": "Python 3"
    },
    "language_info": {
      "name": "python"
    }
  },
  "cells": [
    {
      "cell_type": "markdown",
      "metadata": {
        "id": "view-in-github",
        "colab_type": "text"
      },
      "source": [
        "<a href=\"https://colab.research.google.com/github/mjkimcs/portfolio/blob/main/%EC%9A%A9%EC%96%B4%EC%A0%95%EB%A6%AC/%EC%98%88%EC%99%B8%EC%B2%98%EB%A6%AC.ipynb\" target=\"_parent\"><img src=\"https://colab.research.google.com/assets/colab-badge.svg\" alt=\"Open In Colab\"/></a>"
      ]
    },
    {
      "cell_type": "markdown",
      "metadata": {
        "id": "96VzBNYYHWzO"
      },
      "source": [
        "## 예외처리: Exception Handling\n",
        "- 프로그램 실행 시 중단되는 에러(SemanticError)를 대처\n",
        "- 특정 에러에 대응하는 방법\n",
        "- pvm에서 특정 에러에 대한 클래스를 제공\n",
        "- Exception Class: ZeroDivisionError, IndexError 등\n",
        "- try: 에러가 발생할만한 코드  \n",
        "  except 예외 종류 or 예외 변수: 예외(에러) 발생 시 실행되는 코드  \n",
        "  else: 예외 미발생 시 실행되는 코드  \n",
        "  finally: 예외 발생 유무에 상관하지 않고 꼭 실행되는 코드\n",
        "- try ~ except  \n",
        "  try ~ else  \n",
        "  try ~ finally  \n",
        "  try ~ else ~ finally"
      ]
    },
    {
      "cell_type": "code",
      "metadata": {
        "colab": {
          "base_uri": "https://localhost:8080/"
        },
        "id": "wDrY_wQvHU84",
        "outputId": "12f6add6-0797-45db-afca-2a0ca52602eb"
      },
      "source": [
        "if __name__ == '__main__':\n",
        "    try:\n",
        "        r = 10/0\n",
        "        print(\"출력되는지 확인\")\n",
        "    except ZeroDivisionError:\n",
        "        print(\"내가 0으로 나누면 안된다고 했지~\")"
      ],
      "execution_count": 2,
      "outputs": [
        {
          "output_type": "stream",
          "text": [
            "내가 0으로 나누면 안된다고 했지~\n"
          ],
          "name": "stdout"
        }
      ]
    },
    {
      "cell_type": "code",
      "metadata": {
        "colab": {
          "base_uri": "https://localhost:8080/"
        },
        "id": "acUZFjENPWIJ",
        "outputId": "133c44bf-e3f7-4851-dae9-026d5984674f"
      },
      "source": [
        "if __name__ == '__main__':\n",
        "    try:\n",
        "        r = 10/0\n",
        "        print(\"출력되는지 확인\")\n",
        "    except ZeroDivisionError:\n",
        "        print(\"내가 0으로 나누면 안된다고 했지~\")\n",
        "    finally:\n",
        "        print(\"Finally\")"
      ],
      "execution_count": 3,
      "outputs": [
        {
          "output_type": "stream",
          "text": [
            "내가 0으로 나누면 안된다고 했지~\n",
            "Finally\n"
          ],
          "name": "stdout"
        }
      ]
    },
    {
      "cell_type": "code",
      "metadata": {
        "colab": {
          "base_uri": "https://localhost:8080/"
        },
        "id": "SqmSwdI-Pr-s",
        "outputId": "9e783dab-c382-40b1-a2e8-9967896ec2d7"
      },
      "source": [
        "if __name__ == '__main__':\n",
        "    try:\n",
        "        r = 10/4\n",
        "        print(\"출력되는지 확인\")\n",
        "    except ZeroDivisionError:\n",
        "        print(\"내가 0으로 나누면 안된다고 했지~\")\n",
        "    finally:\n",
        "        print(\"Finally\")"
      ],
      "execution_count": 4,
      "outputs": [
        {
          "output_type": "stream",
          "text": [
            "출력되는지 확인\n",
            "Finally\n"
          ],
          "name": "stdout"
        }
      ]
    },
    {
      "cell_type": "code",
      "metadata": {
        "colab": {
          "base_uri": "https://localhost:8080/"
        },
        "id": "3icGK5e1P-10",
        "outputId": "33d2b9c7-7391-4aa7-9f61-feb0b828b028"
      },
      "source": [
        "if __name__ == '__main__':\n",
        "    try:\n",
        "        r = 10/4\n",
        "        print(\"출력되는지 확인\")\n",
        "    except ZeroDivisionError:\n",
        "        print(\"내가 0으로 나누면 안된다고 했지~\")\n",
        "    else:\n",
        "        print(\"Else\")\n",
        "    finally:\n",
        "        print(\"Finally\")"
      ],
      "execution_count": 5,
      "outputs": [
        {
          "output_type": "stream",
          "text": [
            "출력되는지 확인\n",
            "Else\n",
            "Finally\n"
          ],
          "name": "stdout"
        }
      ]
    },
    {
      "cell_type": "code",
      "metadata": {
        "colab": {
          "base_uri": "https://localhost:8080/"
        },
        "id": "Yy9lk9GoQLo7",
        "outputId": "6db49472-78d2-4d0a-d527-06d64f533928"
      },
      "source": [
        "if __name__ == '__main__':\n",
        "    try:\n",
        "        r = 10/0\n",
        "        print(\"출력되는지 확인\")\n",
        "    except ZeroDivisionError:\n",
        "        print(\"내가 0으로 나누면 안된다고 했지~\")\n",
        "    else:\n",
        "        print(\"Else\")\n",
        "    finally:\n",
        "        print(\"Finally\")"
      ],
      "execution_count": 6,
      "outputs": [
        {
          "output_type": "stream",
          "text": [
            "내가 0으로 나누면 안된다고 했지~\n",
            "Finally\n"
          ],
          "name": "stdout"
        }
      ]
    },
    {
      "cell_type": "code",
      "metadata": {
        "colab": {
          "base_uri": "https://localhost:8080/"
        },
        "id": "16VhVFS6QO4M",
        "outputId": "1521fda4-2f1a-4b09-a912-7b25236f95dc"
      },
      "source": [
        "def excep02():\n",
        "  L = [1, 2, 3]\n",
        "  try:\n",
        "    num = L[7]\n",
        "  except IndexError as IE:\n",
        "    print(\"인덱스에러남~.~\")\n",
        "    print(IE)\n",
        "    print(type(IE))\n",
        "    print(IndexError)\n",
        "    # IE.with_traceback()\n",
        "  else:\n",
        "    print(\"Else\")\n",
        "\n",
        "\n",
        "if __name__ == '__main__':\n",
        "  excep02()"
      ],
      "execution_count": 52,
      "outputs": [
        {
          "output_type": "stream",
          "text": [
            "인덱스에러남~.~\n",
            "list index out of range\n",
            "<class 'IndexError'>\n",
            "<class 'IndexError'>\n"
          ],
          "name": "stdout"
        }
      ]
    },
    {
      "cell_type": "markdown",
      "metadata": {
        "id": "M7-on-GNbbPE"
      },
      "source": [
        "## 사용자 Exception\n",
        "- Exception 클래스를 상속 받음\n",
        "- raise 키워드를 사용해서 에러를 강제로 발생시킴"
      ]
    },
    {
      "cell_type": "code",
      "metadata": {
        "colab": {
          "base_uri": "https://localhost:8080/",
          "height": 170
        },
        "id": "Ngl361UAQ4yp",
        "outputId": "c2b5b61b-c43d-4090-f2b0-eeeb4cc3eec9"
      },
      "source": [
        "raise IndexError"
      ],
      "execution_count": 45,
      "outputs": [
        {
          "output_type": "error",
          "ename": "IndexError",
          "evalue": "ignored",
          "traceback": [
            "\u001b[0;31m---------------------------------------------------------------------------\u001b[0m",
            "\u001b[0;31mIndexError\u001b[0m                                Traceback (most recent call last)",
            "\u001b[0;32m<ipython-input-45-55a00e7db5b5>\u001b[0m in \u001b[0;36m<module>\u001b[0;34m()\u001b[0m\n\u001b[0;32m----> 1\u001b[0;31m \u001b[0;32mraise\u001b[0m \u001b[0mIndexError\u001b[0m\u001b[0;34m\u001b[0m\u001b[0;34m\u001b[0m\u001b[0m\n\u001b[0m",
            "\u001b[0;31mIndexError\u001b[0m: "
          ]
        }
      ]
    },
    {
      "cell_type": "code",
      "metadata": {
        "colab": {
          "base_uri": "https://localhost:8080/"
        },
        "id": "Jlpsi_Nec6hJ",
        "outputId": "fd23603d-0cee-4221-918e-0f99f6e06cbd"
      },
      "source": [
        "help(IndexError)"
      ],
      "execution_count": 48,
      "outputs": [
        {
          "output_type": "stream",
          "text": [
            "Help on class IndexError in module builtins:\n",
            "\n",
            "class IndexError(LookupError)\n",
            " |  Sequence index out of range.\n",
            " |  \n",
            " |  Method resolution order:\n",
            " |      IndexError\n",
            " |      LookupError\n",
            " |      Exception\n",
            " |      BaseException\n",
            " |      object\n",
            " |  \n",
            " |  Methods defined here:\n",
            " |  \n",
            " |  __init__(self, /, *args, **kwargs)\n",
            " |      Initialize self.  See help(type(self)) for accurate signature.\n",
            " |  \n",
            " |  ----------------------------------------------------------------------\n",
            " |  Static methods defined here:\n",
            " |  \n",
            " |  __new__(*args, **kwargs) from builtins.type\n",
            " |      Create and return a new object.  See help(type) for accurate signature.\n",
            " |  \n",
            " |  ----------------------------------------------------------------------\n",
            " |  Methods inherited from BaseException:\n",
            " |  \n",
            " |  __delattr__(self, name, /)\n",
            " |      Implement delattr(self, name).\n",
            " |  \n",
            " |  __getattribute__(self, name, /)\n",
            " |      Return getattr(self, name).\n",
            " |  \n",
            " |  __reduce__(...)\n",
            " |      Helper for pickle.\n",
            " |  \n",
            " |  __repr__(self, /)\n",
            " |      Return repr(self).\n",
            " |  \n",
            " |  __setattr__(self, name, value, /)\n",
            " |      Implement setattr(self, name, value).\n",
            " |  \n",
            " |  __setstate__(...)\n",
            " |  \n",
            " |  __str__(self, /)\n",
            " |      Return str(self).\n",
            " |  \n",
            " |  with_traceback(...)\n",
            " |      Exception.with_traceback(tb) --\n",
            " |      set self.__traceback__ to tb and return self.\n",
            " |  \n",
            " |  ----------------------------------------------------------------------\n",
            " |  Data descriptors inherited from BaseException:\n",
            " |  \n",
            " |  __cause__\n",
            " |      exception cause\n",
            " |  \n",
            " |  __context__\n",
            " |      exception context\n",
            " |  \n",
            " |  __dict__\n",
            " |  \n",
            " |  __suppress_context__\n",
            " |  \n",
            " |  __traceback__\n",
            " |  \n",
            " |  args\n",
            "\n"
          ],
          "name": "stdout"
        }
      ]
    },
    {
      "cell_type": "code",
      "metadata": {
        "colab": {
          "base_uri": "https://localhost:8080/"
        },
        "id": "BPhyYm17dOjx",
        "outputId": "6e8bfe9d-6dce-40c6-d925-044668d89e21"
      },
      "source": [
        "class MyException(Exception):\n",
        "  def __init__(self, value):\n",
        "    self.value = value\n",
        "  \n",
        "  def __str__(self):\n",
        "    return self.value\n",
        "\n",
        "\n",
        "if __name__ == '__main__':\n",
        "  try:\n",
        "    raise MyException(\"My Error!!!\")  # 에러가 발생해서 except 코드 실행\n",
        "  except MyException as e:  # e = MyException(\"My Error!!!\")\n",
        "    print(e)  # print(객체)하면 __str__이 호출됨"
      ],
      "execution_count": 60,
      "outputs": [
        {
          "output_type": "stream",
          "text": [
            "My Error!!!\n"
          ],
          "name": "stdout"
        }
      ]
    },
    {
      "cell_type": "code",
      "metadata": {
        "colab": {
          "base_uri": "https://localhost:8080/"
        },
        "id": "R1cZMJz8nMNR",
        "outputId": "3a8e9fe3-06d3-457d-e8ea-febeb07d6988"
      },
      "source": [
        "class Score:\n",
        "    def __init__(self, no, name, kor, eng, mat):\n",
        "        self.__no = no\n",
        "        self.__name = name\n",
        "        self.__kor = kor\n",
        "        self.__eng = eng\n",
        "        self.__mat = mat\n",
        "\n",
        "    def setNo(self, no):\n",
        "        self.__no = no\n",
        "    def setName(self, name):\n",
        "        self.__name = name\n",
        "    def setK(self, kor):\n",
        "        self.__kor = kor\n",
        "    def setE(self, eng):\n",
        "        self.__eng = eng\n",
        "    def setM(self, mat):\n",
        "        self.__mat = mat\n",
        "\n",
        "    def getNo(self):\n",
        "        return self.__no\n",
        "    def getName(self):\n",
        "        return self.__name\n",
        "    def getK(self):\n",
        "        return self.__kor\n",
        "    def getE(self):\n",
        "        return self.__eng\n",
        "    def getM(self):\n",
        "        return self.__mat\n",
        "\n",
        "    def tot(self):\n",
        "        return self.getK() + self.getE() + self.getM()\n",
        "    def avg(self):\n",
        "        return self.tot() // 3\n",
        "    def grade(self):\n",
        "        if self.avg() >= 90:\n",
        "            return \"A\"\n",
        "        elif 80 <= self.avg() < 90:\n",
        "            return \"B\"\n",
        "        elif 70 <= self.avg() < 80:\n",
        "            return \"C\"\n",
        "        else:\n",
        "            return \"F\"\n",
        "\n",
        "    def prn_score(self):\n",
        "        print(\"No: %d, Name: %s, Kor: %d, Eng: %d, Mat: %d, Tot: %d, Avg: %d, Grade: %s\"%(self.getNo(), self.getName(), self.getK(), self.getE(), self.getM(), self.tot(), self.avg(), self.grade()))\n",
        "    def __str__(self):\n",
        "        return \"No: %d, Name: %s, Kor: %d, Eng: %d, Mat: %d, Tot: %d, Avg: %d, Grade: %s\"%(self.getNo(), self.getName(), self.getK(), self.getE(), self.getM(), self.tot(), self.avg(), self.grade())\n",
        "        \n",
        "\n",
        "if __name__ == '__main__':\n",
        "  s1 = Score(1, \"홍길동\", 90, 100, 80)\n",
        "  s1.prn_score()\n",
        "  print(s1)"
      ],
      "execution_count": 66,
      "outputs": [
        {
          "output_type": "stream",
          "text": [
            "No: 1, Name: 홍길동, Kor: 90, Eng: 100, Mat: 80, Tot: 270, Avg: 90, Grade: A\n",
            "No: 1, Name: 홍길동, Kor: 90, Eng: 100, Mat: 80, Tot: 270, Avg: 90, Grade: A\n"
          ],
          "name": "stdout"
        }
      ]
    },
    {
      "cell_type": "code",
      "metadata": {
        "colab": {
          "base_uri": "https://localhost:8080/"
        },
        "id": "IKXWqtB8oSUn",
        "outputId": "29ea507c-d090-4b0b-f148-cf6c58ac2778"
      },
      "source": [
        "import traceback\n",
        "\n",
        "if __name__ == '__main__':\n",
        "  try:\n",
        "    10 / 0\n",
        "  except:\n",
        "    traceback.print_exc()"
      ],
      "execution_count": 74,
      "outputs": [
        {
          "output_type": "stream",
          "text": [
            "Traceback (most recent call last):\n",
            "  File \"<ipython-input-74-e10bb9fdf84e>\", line 5, in <module>\n",
            "    10 / 0\n",
            "ZeroDivisionError: division by zero\n"
          ],
          "name": "stderr"
        }
      ]
    },
    {
      "cell_type": "code",
      "metadata": {
        "colab": {
          "base_uri": "https://localhost:8080/"
        },
        "id": "NTQnA8HSr9q0",
        "outputId": "7e50f317-e3f7-4ff6-b3ea-4548e92793ab"
      },
      "source": [
        "import sys\n",
        "\n",
        "if __name__ == '__main__':\n",
        "  try:\n",
        "    10 / 0\n",
        "  except:\n",
        "    print(sys.exc_info()) # 튜플로 리턴받아 출력"
      ],
      "execution_count": 73,
      "outputs": [
        {
          "output_type": "stream",
          "text": [
            "(<class 'ZeroDivisionError'>, ZeroDivisionError('float division by zero'), <traceback object at 0x7f0795740a00>)\n"
          ],
          "name": "stdout"
        }
      ]
    },
    {
      "cell_type": "code",
      "metadata": {
        "id": "IXtrL0JRu6ib"
      },
      "source": [
        ""
      ],
      "execution_count": null,
      "outputs": []
    }
  ]
}