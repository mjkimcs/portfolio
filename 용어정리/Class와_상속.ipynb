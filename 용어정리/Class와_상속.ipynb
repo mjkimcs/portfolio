{
  "nbformat": 4,
  "nbformat_minor": 0,
  "metadata": {
    "colab": {
      "name": "Class와 상속.ipynb",
      "provenance": [],
      "authorship_tag": "ABX9TyObnavy/AXOY9xTwFEignPs",
      "include_colab_link": true
    },
    "kernelspec": {
      "name": "python3",
      "display_name": "Python 3"
    },
    "language_info": {
      "name": "python"
    }
  },
  "cells": [
    {
      "cell_type": "markdown",
      "metadata": {
        "id": "view-in-github",
        "colab_type": "text"
      },
      "source": [
        "<a href=\"https://colab.research.google.com/github/mjkimcs/portfolio/blob/main/Class%EC%99%80_%EC%83%81%EC%86%8D.ipynb\" target=\"_parent\"><img src=\"https://colab.research.google.com/assets/colab-badge.svg\" alt=\"Open In Colab\"/></a>"
      ]
    },
    {
      "cell_type": "code",
      "metadata": {
        "colab": {
          "base_uri": "https://localhost:8080/"
        },
        "id": "fdjcyHQwsH_d",
        "outputId": "3ee3cad3-2599-4587-b33d-a642c4211ea1"
      },
      "source": [
        "class Car:\n",
        "    def __init__(self, name, color):\n",
        "        self.name = name\n",
        "        self.color = color\n",
        "    def __del__(self):\n",
        "        print(\"인스턴스를 소멸시킵니다.\")\n",
        "    def show_info(self):\n",
        "        print(\"이름:\", self.name, \"/ 색상:\", self.color)\n",
        "    def set_name(self, name):\n",
        "        self.name = name\n",
        "\n",
        "car1 = Car(\"테슬라\", \"빨간색\")\n",
        "car1.show_info()\n",
        "del car1"
      ],
      "execution_count": 6,
      "outputs": [
        {
          "output_type": "stream",
          "text": [
            "이름: 테슬라 / 색상: 빨간색\n",
            "인스턴스를 소멸시킵니다.\n"
          ],
          "name": "stdout"
        }
      ]
    },
    {
      "cell_type": "code",
      "metadata": {
        "colab": {
          "base_uri": "https://localhost:8080/"
        },
        "id": "okoC7D0stDPR",
        "outputId": "bdda76a6-0962-4d13-cea6-10c2bc7f447f"
      },
      "source": [
        "car2 = Car(\"bmw\", \"파랑색\")\n",
        "car2.set_name(\"포르쉐\")\n",
        "print(car2.name, \"을(를) 구매했습니다!\")"
      ],
      "execution_count": 7,
      "outputs": [
        {
          "output_type": "stream",
          "text": [
            "인스턴스를 소멸시킵니다.\n",
            "포르쉐 을(를) 구매했습니다!\n"
          ],
          "name": "stdout"
        }
      ]
    },
    {
      "cell_type": "code",
      "metadata": {
        "colab": {
          "base_uri": "https://localhost:8080/"
        },
        "id": "bfLpJ8dBsxPA",
        "outputId": "9dac9b77-8bcf-4f87-d4de-2ad152549453"
      },
      "source": [
        "class Unit: # 부모 클래스\n",
        "    def __init__(self, name, power):\n",
        "        self.name = name\n",
        "        self.power = power\n",
        "    def attack(self):\n",
        "        print(self.name, \"이(가) 공격을 수행합니다. [전투력:\", self.power, \"]\")\n",
        "\n",
        "class Monster(Unit): # 자식 클래스\n",
        "    def __init__(self, name, power, type):\n",
        "        self.name = name\n",
        "        self.power = power\n",
        "        self.type = type\n",
        "    def show_info(self):\n",
        "        print(\"몬스터 이름:\", self.name, \"/ 몬스터 종류:\", self.type) # 부모 클래스에서는 사용 불가능\n",
        "\n",
        "\n",
        "unit1 = Unit(\"홍길동\", 375)\n",
        "unit1.attack()\n",
        "\n",
        "monster1 = Monster(\"슬라임\", 10, \"초급\")\n",
        "monster1.attack()\n",
        "monster1.show_info()"
      ],
      "execution_count": 8,
      "outputs": [
        {
          "output_type": "stream",
          "text": [
            "홍길동 이(가) 공격을 수행합니다. [전투력: 375 ]\n",
            "슬라임 이(가) 공격을 수행합니다. [전투력: 10 ]\n",
            "몬스터 이름: 슬라임 / 몬스터 종류: 초급\n"
          ],
          "name": "stdout"
        }
      ]
    }
  ]
}
