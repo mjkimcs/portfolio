{
  "nbformat": 4,
  "nbformat_minor": 0,
  "metadata": {
    "colab": {
      "name": "zip함수",
      "provenance": [],
      "collapsed_sections": [],
      "authorship_tag": "ABX9TyOYKA9MSfYkEUDrY1ZESB2y",
      "include_colab_link": true
    },
    "kernelspec": {
      "name": "python3",
      "display_name": "Python 3"
    },
    "language_info": {
      "name": "python"
    }
  },
  "cells": [
    {
      "cell_type": "markdown",
      "metadata": {
        "id": "view-in-github",
        "colab_type": "text"
      },
      "source": [
        "<a href=\"https://colab.research.google.com/github/mjkimcs/portfolio/blob/main/%EC%9A%A9%EC%96%B4%EC%A0%95%EB%A6%AC/zip%ED%95%A8%EC%88%98.ipynb\" target=\"_parent\"><img src=\"https://colab.research.google.com/assets/colab-badge.svg\" alt=\"Open In Colab\"/></a>"
      ]
    },
    {
      "cell_type": "code",
      "metadata": {
        "colab": {
          "base_uri": "https://localhost:8080/"
        },
        "id": "xOQAG4pJFSnv",
        "outputId": "9917fbae-e469-4ac5-b280-7048a576f418"
      },
      "source": [
        "a = list(zip('abcdefg', range(3), range(4)))\n",
        "print(a)"
      ],
      "execution_count": 23,
      "outputs": [
        {
          "output_type": "stream",
          "text": [
            "[('a', 0, 0), ('b', 1, 1), ('c', 2, 2)]\n"
          ],
          "name": "stdout"
        }
      ]
    },
    {
      "cell_type": "code",
      "metadata": {
        "colab": {
          "base_uri": "https://localhost:8080/"
        },
        "id": "8s7pyS_kFxwy",
        "outputId": "6446fbca-d0e9-4f81-c66e-5118cdd94235"
      },
      "source": [
        "a = list(zip('abcdefg', range(3), range(4)))\n",
        "for i, j, k in a:\n",
        "  print(i, j, k)"
      ],
      "execution_count": 28,
      "outputs": [
        {
          "output_type": "stream",
          "text": [
            "a 0 0\n",
            "b 1 1\n",
            "c 2 2\n"
          ],
          "name": "stdout"
        }
      ]
    },
    {
      "cell_type": "code",
      "metadata": {
        "colab": {
          "base_uri": "https://localhost:8080/"
        },
        "id": "D2ePOptIFapH",
        "outputId": "3cfea7b1-f6b0-4277-e423-6690888001cd"
      },
      "source": [
        "a = dict(zip('abcdefg', range(3)))\n",
        "print(a)"
      ],
      "execution_count": 25,
      "outputs": [
        {
          "output_type": "stream",
          "text": [
            "{'a': 0, 'b': 1, 'c': 2}\n"
          ],
          "name": "stdout"
        }
      ]
    },
    {
      "cell_type": "code",
      "metadata": {
        "colab": {
          "base_uri": "https://localhost:8080/"
        },
        "id": "7Zfi7bDQCHmb",
        "outputId": "071633bd-c149-46b2-b12e-c674b201a292"
      },
      "source": [
        "for x,y in zip ([1,2,3], [10,20,30]):\n",
        "    print(x, y, (x+y))"
      ],
      "execution_count": 1,
      "outputs": [
        {
          "output_type": "stream",
          "text": [
            "1 10 11\n",
            "2 20 22\n",
            "3 30 33\n"
          ],
          "name": "stdout"
        }
      ]
    },
    {
      "cell_type": "code",
      "metadata": {
        "colab": {
          "base_uri": "https://localhost:8080/"
        },
        "id": "8FI9tUUgCgSq",
        "outputId": "8309836a-fa51-4221-f1f9-7913b18bbdab"
      },
      "source": [
        "for x,y in zip ((1,2,3), (10,20,30)):\n",
        "    print(x, y, (x+y))"
      ],
      "execution_count": 10,
      "outputs": [
        {
          "output_type": "stream",
          "text": [
            "1 10 11\n",
            "2 20 22\n",
            "3 30 33\n"
          ],
          "name": "stdout"
        }
      ]
    },
    {
      "cell_type": "code",
      "metadata": {
        "colab": {
          "base_uri": "https://localhost:8080/"
        },
        "id": "wY037KcOCj-j",
        "outputId": "bf6d0c52-7a65-4c54-80ad-5aa0ca4e8ec9"
      },
      "source": [
        "for x,y in zip ((1,2,3), [10,20,30]):\n",
        "    print(x, y, (x+y))"
      ],
      "execution_count": 11,
      "outputs": [
        {
          "output_type": "stream",
          "text": [
            "1 10 11\n",
            "2 20 22\n",
            "3 30 33\n"
          ],
          "name": "stdout"
        }
      ]
    },
    {
      "cell_type": "code",
      "metadata": {
        "colab": {
          "base_uri": "https://localhost:8080/"
        },
        "id": "FyKQ-cS6D2az",
        "outputId": "25335ac5-c47d-42d5-c92c-fa14db19e69c"
      },
      "source": [
        "for i in zip ([1,2,3], [10,20,30]):\n",
        "    print(i)"
      ],
      "execution_count": 22,
      "outputs": [
        {
          "output_type": "stream",
          "text": [
            "(1, 10)\n",
            "(2, 20)\n",
            "(3, 30)\n"
          ],
          "name": "stdout"
        }
      ]
    },
    {
      "cell_type": "code",
      "metadata": {
        "colab": {
          "base_uri": "https://localhost:8080/"
        },
        "id": "JOqCf6uICLnP",
        "outputId": "7ec74570-9bda-480a-84af-7e3a776919a4"
      },
      "source": [
        "print(set(zip(['a', 'b', 'c'], [1,2,3])))"
      ],
      "execution_count": 2,
      "outputs": [
        {
          "output_type": "stream",
          "text": [
            "{('a', 1), ('b', 2), ('c', 3)}\n"
          ],
          "name": "stdout"
        }
      ]
    },
    {
      "cell_type": "code",
      "metadata": {
        "colab": {
          "base_uri": "https://localhost:8080/"
        },
        "id": "Qysh-DT5CXzZ",
        "outputId": "fb119499-357c-4674-d686-9ae638731085"
      },
      "source": [
        "print(set(zip(('a', 'b', 'c'), (1,2,3))))"
      ],
      "execution_count": 8,
      "outputs": [
        {
          "output_type": "stream",
          "text": [
            "{('a', 1), ('b', 2), ('c', 3)}\n"
          ],
          "name": "stdout"
        }
      ]
    },
    {
      "cell_type": "code",
      "metadata": {
        "colab": {
          "base_uri": "https://localhost:8080/"
        },
        "id": "pWf_mPWiCb_v",
        "outputId": "e44a2c9c-3e39-404e-b1dd-9682f0ad6fcc"
      },
      "source": [
        "print(set(zip(('a', 'b', 'c'), [1,2,3])))"
      ],
      "execution_count": 9,
      "outputs": [
        {
          "output_type": "stream",
          "text": [
            "{('a', 1), ('b', 2), ('c', 3)}\n"
          ],
          "name": "stdout"
        }
      ]
    },
    {
      "cell_type": "code",
      "metadata": {
        "colab": {
          "base_uri": "https://localhost:8080/"
        },
        "id": "zmpLJ-2pCM_J",
        "outputId": "94f3d0b8-078d-45eb-c0ed-b493091b2501"
      },
      "source": [
        "keys = ['cat', 'dog', 'duck']\n",
        "values = ['야옹', '멍멍', '꽥꽥']\n",
        "print(dict(zip(keys, values)))"
      ],
      "execution_count": 3,
      "outputs": [
        {
          "output_type": "stream",
          "text": [
            "{'cat': '야옹', 'dog': '멍멍', 'duck': '꽥꽥'}\n"
          ],
          "name": "stdout"
        }
      ]
    },
    {
      "cell_type": "code",
      "metadata": {
        "colab": {
          "base_uri": "https://localhost:8080/"
        },
        "id": "E3zvVPaCCNTI",
        "outputId": "d7f7593d-9d90-439b-e142-52f166cf7d8d"
      },
      "source": [
        "keys = ['cat', 'dog', 'duck']\n",
        "values = ('야옹', '멍멍', '꽥꽥')\n",
        "print(dict(zip(keys, values)))"
      ],
      "execution_count": 5,
      "outputs": [
        {
          "output_type": "stream",
          "text": [
            "{'cat': '야옹', 'dog': '멍멍', 'duck': '꽥꽥'}\n"
          ],
          "name": "stdout"
        }
      ]
    },
    {
      "cell_type": "code",
      "metadata": {
        "colab": {
          "base_uri": "https://localhost:8080/"
        },
        "id": "_pzgtu3ECP1A",
        "outputId": "1687b650-032b-4263-e2e3-b62ca6c3705a"
      },
      "source": [
        "keys = ('cat', 'dog', 'duck')\n",
        "values = ('야옹', '멍멍', '꽥꽥')\n",
        "print(dict(zip(keys, values)))"
      ],
      "execution_count": 7,
      "outputs": [
        {
          "output_type": "stream",
          "text": [
            "{'cat': '야옹', 'dog': '멍멍', 'duck': '꽥꽥'}\n"
          ],
          "name": "stdout"
        }
      ]
    },
    {
      "cell_type": "code",
      "metadata": {
        "colab": {
          "base_uri": "https://localhost:8080/"
        },
        "id": "qEntXNvHCUVw",
        "outputId": "d348c32d-85fe-4ee8-9238-6c7ff32430e6"
      },
      "source": [
        "dict(zip(['cat','dog','ㅇ','ㅇㅇㅇ','ㄱㄱ'], ['야옹','멍멍','ㅇ']))"
      ],
      "execution_count": 19,
      "outputs": [
        {
          "output_type": "execute_result",
          "data": {
            "text/plain": [
              "{'cat': '야옹', 'dog': '멍멍', 'ㅇ': 'ㅇ'}"
            ]
          },
          "metadata": {
            "tags": []
          },
          "execution_count": 19
        }
      ]
    },
    {
      "cell_type": "code",
      "metadata": {
        "colab": {
          "base_uri": "https://localhost:8080/"
        },
        "id": "4SLzO6i7Cxt2",
        "outputId": "58a57da4-973a-4b62-d9da-2a10ea29c99a"
      },
      "source": [
        "dic1 = {'one':1, 'two':2, 'three':3}\n",
        "print(dic1.items())\n",
        "\n",
        "for i, j in dic1.items():\n",
        "  print(i, j)"
      ],
      "execution_count": 20,
      "outputs": [
        {
          "output_type": "stream",
          "text": [
            "dict_items([('one', 1), ('two', 2), ('three', 3)])\n",
            "one 1\n",
            "two 2\n",
            "three 3\n"
          ],
          "name": "stdout"
        }
      ]
    },
    {
      "cell_type": "code",
      "metadata": {
        "colab": {
          "base_uri": "https://localhost:8080/"
        },
        "id": "6HAz791WDbFw",
        "outputId": "2e390244-de63-400a-a2fe-ac055caac01f"
      },
      "source": [
        "for i in dic1.items():\n",
        "  print(i)"
      ],
      "execution_count": 21,
      "outputs": [
        {
          "output_type": "stream",
          "text": [
            "('one', 1)\n",
            "('two', 2)\n",
            "('three', 3)\n"
          ],
          "name": "stdout"
        }
      ]
    },
    {
      "cell_type": "code",
      "metadata": {
        "id": "-IMCiL9MDxKS"
      },
      "source": [
        ""
      ],
      "execution_count": null,
      "outputs": []
    }
  ]
}