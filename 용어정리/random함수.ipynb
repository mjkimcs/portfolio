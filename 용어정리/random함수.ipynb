{
  "nbformat": 4,
  "nbformat_minor": 0,
  "metadata": {
    "colab": {
      "name": "random함수",
      "provenance": [],
      "collapsed_sections": [],
      "authorship_tag": "ABX9TyM6A50NxOcBnkbMqIiqqWcs",
      "include_colab_link": true
    },
    "kernelspec": {
      "name": "python3",
      "display_name": "Python 3"
    },
    "language_info": {
      "name": "python"
    }
  },
  "cells": [
    {
      "cell_type": "markdown",
      "metadata": {
        "id": "view-in-github",
        "colab_type": "text"
      },
      "source": [
        "<a href=\"https://colab.research.google.com/github/mjkimcs/portfolio/blob/main/%EC%9A%A9%EC%96%B4%EC%A0%95%EB%A6%AC/random%ED%95%A8%EC%88%98.ipynb\" target=\"_parent\"><img src=\"https://colab.research.google.com/assets/colab-badge.svg\" alt=\"Open In Colab\"/></a>"
      ]
    },
    {
      "cell_type": "code",
      "metadata": {
        "id": "Ly5Y1fmvk5NC"
      },
      "source": [
        "import random"
      ],
      "execution_count": 3,
      "outputs": []
    },
    {
      "cell_type": "code",
      "metadata": {
        "colab": {
          "base_uri": "https://localhost:8080/"
        },
        "id": "GQvCFLAPnmL2",
        "outputId": "40317093-b96b-44b2-c695-4847c9136962"
      },
      "source": [
        "def Prn():\n",
        "  coin = ['앞면', '뒷면']\n",
        "  print(random.choice(coin))\n",
        "\n",
        "\n",
        "if __name__ == '__main__':\n",
        "  Prn()"
      ],
      "execution_count": 7,
      "outputs": [
        {
          "output_type": "stream",
          "text": [
            "앞면\n"
          ],
          "name": "stdout"
        }
      ]
    },
    {
      "cell_type": "code",
      "metadata": {
        "colab": {
          "base_uri": "https://localhost:8080/"
        },
        "id": "JVO9NCWcph9X",
        "outputId": "4e7c1dce-9b09-4d86-b83e-90c820678183"
      },
      "source": [
        "def Prn01():\n",
        "  dice = [1,2,3,4,5,6]\n",
        "  for i in range(1,11):\n",
        "    print(i, \"번째는\", random.choice(dice))\n",
        "\n",
        "\n",
        "if __name__ == '__main__':\n",
        "  Prn01()"
      ],
      "execution_count": 10,
      "outputs": [
        {
          "output_type": "stream",
          "text": [
            "1 번째는 3\n",
            "2 번째는 3\n",
            "3 번째는 1\n",
            "4 번째는 1\n",
            "5 번째는 2\n",
            "6 번째는 2\n",
            "7 번째는 5\n",
            "8 번째는 1\n",
            "9 번째는 2\n",
            "10 번째는 2\n"
          ],
          "name": "stdout"
        }
      ]
    },
    {
      "cell_type": "code",
      "metadata": {
        "colab": {
          "base_uri": "https://localhost:8080/"
        },
        "id": "GW0KsyoYqOck",
        "outputId": "a3a6625d-6c05-4cc7-88c9-bdb0154afa38"
      },
      "source": [
        "coin = [\"앞면\", \"뒷면\"]\n",
        "def Prn02():\n",
        "  for i in range(1,11):\n",
        "    print(i, \"번째는\", random.choice(coin))\n",
        "\n",
        "\n",
        "if __name__ == '__main__':\n",
        "  Prn02()"
      ],
      "execution_count": 14,
      "outputs": [
        {
          "output_type": "stream",
          "text": [
            "1 번째는 뒷면\n",
            "2 번째는 뒷면\n",
            "3 번째는 앞면\n",
            "4 번째는 뒷면\n",
            "5 번째는 뒷면\n",
            "6 번째는 뒷면\n",
            "7 번째는 뒷면\n",
            "8 번째는 뒷면\n",
            "9 번째는 앞면\n",
            "10 번째는 뒷면\n"
          ],
          "name": "stdout"
        }
      ]
    },
    {
      "cell_type": "code",
      "metadata": {
        "colab": {
          "base_uri": "https://localhost:8080/"
        },
        "id": "r-HoPUj3rD8l",
        "outputId": "448396ac-2dbb-451a-d724-8c60ca61d78f"
      },
      "source": [
        "def Prn03():\n",
        "  coin = [\"앞면\", \"뒷면\"]\n",
        "  cnt = 0\n",
        "  for i in range(1,11):\n",
        "    result = random.choice(coin)\n",
        "    if result == \"앞면\":\n",
        "      cnt += 1\n",
        "  print(cnt)\n",
        "\n",
        "\n",
        "if __name__ == '__main__':\n",
        "  Prn03()"
      ],
      "execution_count": 18,
      "outputs": [
        {
          "output_type": "stream",
          "text": [
            "7\n"
          ],
          "name": "stdout"
        }
      ]
    },
    {
      "cell_type": "code",
      "metadata": {
        "colab": {
          "base_uri": "https://localhost:8080/"
        },
        "id": "CDl5SkRGstoB",
        "outputId": "54030522-06eb-4871-fa50-afd792f73be1"
      },
      "source": [
        "def Prn04():\n",
        "  cnt = 0\n",
        "  for i in range(1,101):\n",
        "    dice = [1,2,3,4,5,6]\n",
        "    result = random.choice(dice)\n",
        "    if result == 3:\n",
        "      cnt += 1\n",
        "  print(cnt)\n",
        "\n",
        "\n",
        "if __name__ == '__main__':\n",
        "  Prn04()"
      ],
      "execution_count": 20,
      "outputs": [
        {
          "output_type": "stream",
          "text": [
            "12\n"
          ],
          "name": "stdout"
        }
      ]
    },
    {
      "cell_type": "code",
      "metadata": {
        "colab": {
          "base_uri": "https://localhost:8080/"
        },
        "id": "oMnady-vtYM7",
        "outputId": "e016bc21-3cf7-44e4-87ed-caaf7ee9c73c"
      },
      "source": [
        "def Prn05():\n",
        "  dice = [1,2,3,4,5,6]\n",
        "  cnt = 0\n",
        "  for i in range(1000):\n",
        "    result = random.choice(dice)\n",
        "    if result == 5:\n",
        "      cnt += 1\n",
        "  p = (cnt / 1000) * 100\n",
        "  print(\"확률 : \", p, \"%\", sep=\"\")\n",
        "\n",
        "\n",
        "if __name__ == '__main__':\n",
        "  Prn05()"
      ],
      "execution_count": 30,
      "outputs": [
        {
          "output_type": "stream",
          "text": [
            "확률 : 17.5%\n"
          ],
          "name": "stdout"
        }
      ]
    },
    {
      "cell_type": "code",
      "metadata": {
        "colab": {
          "base_uri": "https://localhost:8080/"
        },
        "id": "zFTYOXK4ujG0",
        "outputId": "a2d0b3a6-b7ae-4f1f-f3b1-5257b97ce5d3"
      },
      "source": [
        "def Prn06():\n",
        "  dice = [1,2,3,4,5,6]\n",
        "  cnt = 0\n",
        "  for i in range(10):\n",
        "    result = random.choice(dice)\n",
        "    if result % 2 == 0:\n",
        "      cnt += 1\n",
        "  print(cnt)\n",
        "\n",
        "\n",
        "if __name__ == '__main__':\n",
        "  Prn06()"
      ],
      "execution_count": 40,
      "outputs": [
        {
          "output_type": "stream",
          "text": [
            "8\n"
          ],
          "name": "stdout"
        }
      ]
    },
    {
      "cell_type": "code",
      "metadata": {
        "colab": {
          "base_uri": "https://localhost:8080/"
        },
        "id": "lYQnLRkZvxhM",
        "outputId": "74610b0f-1070-4cd6-b0d3-a6c895de1f9e"
      },
      "source": [
        "def Prn07():\n",
        "  dice = [1,2,3,4,5,6]\n",
        "  for j in range(5):\n",
        "    cnt = 0\n",
        "    for i in range(10):\n",
        "      result = random.choice(dice)\n",
        "      if result % 2 == 0:\n",
        "        cnt += 1\n",
        "    print(cnt)\n",
        "\n",
        "\n",
        "if __name__ == '__main__':\n",
        "  Prn07()"
      ],
      "execution_count": 53,
      "outputs": [
        {
          "output_type": "stream",
          "text": [
            "5\n",
            "3\n",
            "8\n",
            "6\n",
            "4\n"
          ],
          "name": "stdout"
        }
      ]
    },
    {
      "cell_type": "code",
      "metadata": {
        "colab": {
          "base_uri": "https://localhost:8080/"
        },
        "id": "Lyouwnn6xSFp",
        "outputId": "dd32229e-53ec-4f1b-b3d9-59def961c4e5"
      },
      "source": [
        "def Prn07():\n",
        "  for j in range(5):\n",
        "    dice = [1,2,3,4,5,6]\n",
        "    cnt = 0\n",
        "    for i in range(10):\n",
        "      result = random.choice(dice)\n",
        "      if result % 2 == 0:\n",
        "        cnt += 1\n",
        "    print(cnt)\n",
        "\n",
        "\n",
        "if __name__ == '__main__':\n",
        "  Prn07()"
      ],
      "execution_count": 52,
      "outputs": [
        {
          "output_type": "stream",
          "text": [
            "6\n",
            "5\n",
            "7\n",
            "6\n",
            "5\n"
          ],
          "name": "stdout"
        }
      ]
    },
    {
      "cell_type": "code",
      "metadata": {
        "colab": {
          "base_uri": "https://localhost:8080/"
        },
        "id": "u157qzXxyI_r",
        "outputId": "9ec9d878-a56c-4d67-931d-0c680ce1d247"
      },
      "source": [
        "def Prn08():\n",
        "  coin = [\"앞면\", \"뒷면\"]\n",
        "  cnt = 0\n",
        "  for i in range(100):\n",
        "    result = random.choice(coin)\n",
        "    if result == \"앞면\":\n",
        "      cnt += 1\n",
        "  print(cnt / 100)\n",
        "\n",
        "\n",
        "if __name__ == '__main__':\n",
        "  Prn08()"
      ],
      "execution_count": 55,
      "outputs": [
        {
          "output_type": "stream",
          "text": [
            "0.49\n"
          ],
          "name": "stdout"
        }
      ]
    },
    {
      "cell_type": "code",
      "metadata": {
        "colab": {
          "base_uri": "https://localhost:8080/"
        },
        "id": "kve0HAp3zt7T",
        "outputId": "49f6f8ff-38c3-450d-db26-f5bc1b3b7fa1"
      },
      "source": [
        "def Prn09():\n",
        "  coin = [\"앞면\", \"뒷면\"]\n",
        "  cnt = 0\n",
        "  for i in range(300):\n",
        "    r_coin1 = random.choice(coin)\n",
        "    r_coin2 = random.choice(coin)\n",
        "    if r_coin1 == \"앞면\" and r_coin2 == \"앞면\":\n",
        "      cnt += 1\n",
        "  print(cnt)\n",
        "\n",
        "\n",
        "if __name__ == '__main__':\n",
        "  Prn09()"
      ],
      "execution_count": 62,
      "outputs": [
        {
          "output_type": "stream",
          "text": [
            "77\n"
          ],
          "name": "stdout"
        }
      ]
    },
    {
      "cell_type": "code",
      "metadata": {
        "colab": {
          "base_uri": "https://localhost:8080/"
        },
        "id": "_J03HP4X51Ex",
        "outputId": "f8f5dd12-9d8d-4c57-9ff4-5ebc5e645b44"
      },
      "source": [
        "def Prn09():\n",
        "  coin = [\"앞면\", \"뒷면\"]\n",
        "  cnt = 0\n",
        "  for i in range(300):\n",
        "    r_coin1 = random.choice(coin)\n",
        "    r_coin2 = random.choice(coin)\n",
        "    if (r_coin1 == \"앞면\") & (r_coin2 == \"앞면\"):\n",
        "      cnt += 1\n",
        "  print(cnt)\n",
        "\n",
        "\n",
        "if __name__ == '__main__':\n",
        "  Prn09()"
      ],
      "execution_count": 61,
      "outputs": [
        {
          "output_type": "stream",
          "text": [
            "58\n"
          ],
          "name": "stdout"
        }
      ]
    },
    {
      "cell_type": "code",
      "metadata": {
        "colab": {
          "base_uri": "https://localhost:8080/"
        },
        "id": "A81SHkHW6FlZ",
        "outputId": "f2cd6e98-59ae-4a91-ec22-294e774d9927"
      },
      "source": [
        "def Prn10():\n",
        "  dice = [1,2,3,4,5,6]\n",
        "  hap = []\n",
        "  i = 1\n",
        "  while i <= 1000:\n",
        "    result1 = random.choice(dice)\n",
        "    result2 = random.choice(dice)\n",
        "    hap.append(result1 + result2)\n",
        "    i += 1\n",
        "  else:  # False일 경우\n",
        "    print(hap)\n",
        "    print(len(hap))\n",
        "\n",
        "\n",
        "if __name__ == '__main__':\n",
        "  Prn10()"
      ],
      "execution_count": 64,
      "outputs": [
        {
          "output_type": "stream",
          "text": [
            "[7, 5, 6, 9, 7, 7, 7, 8, 10, 7, 5, 8, 10, 2, 11, 5, 3, 11, 5, 12, 4, 4, 8, 7, 10, 8, 6, 6, 9, 10, 5, 2, 4, 11, 9, 7, 9, 6, 4, 11, 7, 6, 3, 8, 4, 12, 8, 11, 6, 9, 6, 2, 5, 5, 6, 7, 6, 9, 9, 9, 9, 10, 11, 10, 6, 3, 4, 8, 3, 2, 10, 7, 5, 8, 9, 4, 5, 4, 9, 10, 8, 6, 7, 5, 7, 6, 7, 5, 2, 4, 10, 11, 7, 8, 10, 4, 8, 3, 7, 4, 10, 8, 8, 9, 9, 9, 7, 9, 5, 5, 8, 8, 8, 3, 4, 7, 11, 11, 3, 7, 5, 5, 7, 6, 9, 10, 6, 8, 4, 9, 8, 7, 7, 9, 8, 8, 3, 3, 6, 9, 9, 5, 4, 2, 8, 7, 7, 8, 6, 4, 8, 8, 11, 8, 9, 4, 7, 5, 6, 8, 9, 7, 7, 5, 3, 8, 8, 6, 7, 3, 4, 4, 2, 12, 7, 10, 6, 7, 10, 8, 8, 8, 6, 7, 5, 11, 6, 7, 10, 7, 10, 11, 8, 7, 10, 4, 9, 8, 8, 8, 8, 4, 10, 7, 11, 6, 6, 9, 10, 9, 9, 12, 7, 8, 11, 7, 7, 8, 7, 6, 10, 2, 6, 11, 9, 8, 7, 8, 8, 9, 7, 3, 3, 7, 5, 4, 11, 8, 7, 7, 10, 8, 4, 8, 8, 8, 8, 7, 9, 6, 4, 10, 6, 5, 10, 8, 10, 5, 7, 4, 5, 3, 11, 8, 5, 9, 11, 4, 9, 9, 5, 8, 5, 5, 5, 11, 8, 12, 9, 4, 8, 6, 2, 9, 9, 9, 12, 8, 6, 6, 8, 9, 4, 11, 7, 6, 11, 6, 10, 11, 7, 8, 8, 10, 7, 9, 7, 6, 9, 8, 9, 8, 7, 4, 3, 8, 8, 6, 2, 10, 7, 4, 10, 11, 7, 6, 5, 6, 8, 6, 6, 12, 10, 8, 4, 6, 4, 9, 6, 4, 5, 8, 7, 12, 5, 5, 6, 9, 4, 10, 10, 6, 9, 2, 6, 2, 8, 2, 6, 7, 9, 7, 3, 10, 11, 8, 10, 7, 8, 9, 7, 6, 10, 8, 8, 7, 10, 9, 5, 7, 6, 8, 2, 5, 7, 4, 5, 9, 6, 8, 9, 9, 6, 4, 10, 10, 8, 6, 9, 10, 9, 12, 9, 7, 7, 7, 9, 5, 6, 9, 12, 6, 8, 8, 4, 7, 8, 7, 7, 7, 10, 10, 7, 4, 9, 9, 11, 6, 10, 10, 10, 8, 8, 7, 2, 2, 8, 5, 10, 8, 12, 7, 8, 6, 8, 6, 5, 6, 6, 3, 8, 5, 10, 5, 10, 9, 4, 7, 11, 3, 8, 4, 3, 7, 9, 3, 7, 7, 7, 7, 10, 8, 3, 7, 7, 11, 9, 8, 8, 9, 11, 3, 4, 7, 9, 8, 4, 5, 4, 4, 3, 9, 5, 4, 6, 6, 7, 8, 3, 7, 6, 10, 11, 4, 4, 6, 8, 2, 6, 7, 2, 6, 3, 11, 9, 6, 5, 7, 9, 8, 8, 8, 8, 6, 7, 5, 8, 6, 6, 8, 5, 7, 9, 10, 5, 8, 9, 7, 8, 4, 8, 10, 5, 9, 7, 9, 5, 6, 7, 11, 2, 8, 7, 2, 6, 10, 8, 8, 9, 8, 8, 11, 7, 10, 5, 9, 7, 6, 9, 3, 10, 12, 8, 8, 7, 6, 11, 8, 6, 8, 6, 8, 9, 9, 9, 8, 4, 7, 11, 4, 6, 7, 10, 5, 6, 4, 8, 8, 5, 9, 3, 5, 5, 4, 3, 5, 12, 10, 5, 11, 7, 7, 6, 9, 8, 9, 7, 4, 8, 9, 9, 10, 11, 9, 11, 6, 6, 7, 6, 7, 10, 10, 6, 9, 7, 8, 5, 9, 10, 8, 7, 8, 9, 9, 7, 8, 8, 7, 7, 11, 10, 4, 9, 5, 4, 5, 9, 8, 9, 7, 9, 8, 3, 9, 4, 7, 10, 5, 12, 3, 9, 2, 6, 7, 11, 10, 4, 6, 6, 11, 8, 5, 5, 10, 7, 6, 5, 9, 11, 5, 4, 7, 4, 5, 10, 8, 12, 6, 11, 5, 6, 6, 10, 10, 9, 11, 7, 7, 8, 6, 7, 7, 3, 4, 8, 8, 9, 11, 4, 4, 10, 11, 7, 7, 12, 6, 6, 8, 5, 8, 4, 7, 9, 8, 5, 7, 7, 7, 7, 10, 11, 7, 8, 6, 5, 12, 7, 7, 2, 11, 11, 5, 8, 7, 7, 8, 7, 10, 3, 7, 7, 2, 5, 4, 9, 4, 8, 4, 10, 10, 12, 8, 8, 9, 5, 8, 3, 7, 10, 7, 9, 6, 9, 8, 11, 6, 7, 6, 6, 12, 11, 6, 4, 8, 8, 9, 2, 7, 10, 3, 9, 5, 7, 11, 7, 4, 10, 5, 8, 10, 6, 11, 10, 5, 3, 7, 8, 8, 10, 5, 11, 4, 6, 8, 7, 7, 10, 8, 5, 6, 8, 6, 7, 8, 9, 8, 9, 3, 6, 10, 5, 10, 12, 7, 11, 10, 7, 5, 2, 8, 7, 7, 5, 11, 9, 7, 4, 2, 11, 7, 3, 3, 7, 9, 10, 7, 7, 3, 6, 7, 7, 7, 5, 4, 5, 5, 9, 8, 8, 6, 7, 4, 6, 9, 5, 2, 11, 6, 3, 6, 6, 8, 7, 7, 6, 7, 8, 6, 9, 4, 4, 10, 10, 6, 4, 9, 7, 4, 12, 5, 6, 10, 6, 10, 10, 7, 6, 4, 6, 7, 10, 2, 3, 3, 8, 7, 8, 5, 8, 7, 5, 4, 8, 5, 3, 5, 6, 10, 6, 5, 2, 7, 9, 7, 5, 7, 12, 7, 10, 5, 11, 5, 3, 9, 9, 6, 2, 6, 4, 5, 5, 7, 4, 10, 6, 7, 4, 9, 10, 10, 9, 5, 11, 7, 7, 10, 6, 7, 10, 11, 9, 9, 6, 6, 7, 10, 8, 4, 6, 4, 4, 8, 7, 6, 11, 7, 9, 8, 5, 9]\n",
            "1000\n"
          ],
          "name": "stdout"
        }
      ]
    },
    {
      "cell_type": "code",
      "metadata": {
        "colab": {
          "base_uri": "https://localhost:8080/"
        },
        "id": "QAPPuLdz6HTZ",
        "outputId": "e2e38359-f8ac-49f5-8da9-ed0255042404"
      },
      "source": [
        "def Prn11():\n",
        "  dice = [1,2,3,4,5,6]\n",
        "  cnt = 0\n",
        "  a = []\n",
        "  i = 0\n",
        "  while i < 1000:\n",
        "    result1 = random.choice(dice)\n",
        "    result2 = random.choice(dice)\n",
        "    hap = result1 + result2\n",
        "    if hap == 10:\n",
        "      a.append(hap)\n",
        "      cnt += 1\n",
        "    i += 1\n",
        "  else:\n",
        "    print(a)\n",
        "    print(len(a))\n",
        "    print(cnt / 1000)\n",
        "\n",
        "\n",
        "if __name__ == '__main__':\n",
        "  Prn11()"
      ],
      "execution_count": 77,
      "outputs": [
        {
          "output_type": "stream",
          "text": [
            "[10, 10, 10, 10, 10, 10, 10, 10, 10, 10, 10, 10, 10, 10, 10, 10, 10, 10, 10, 10, 10, 10, 10, 10, 10, 10, 10, 10, 10, 10, 10, 10, 10, 10, 10, 10, 10, 10, 10, 10, 10, 10, 10, 10, 10, 10, 10, 10, 10, 10, 10, 10, 10, 10, 10, 10, 10, 10, 10, 10, 10, 10, 10, 10, 10, 10, 10, 10, 10, 10, 10, 10, 10, 10, 10, 10, 10, 10, 10, 10, 10, 10, 10, 10, 10, 10]\n",
            "86\n",
            "0.086\n"
          ],
          "name": "stdout"
        }
      ]
    },
    {
      "cell_type": "code",
      "metadata": {
        "colab": {
          "base_uri": "https://localhost:8080/"
        },
        "id": "cm7fZdsZ8h_4",
        "outputId": "21a291ea-ce75-4f85-d3ab-b6920cfd2a20"
      },
      "source": [
        "def Prn12():\n",
        "  coin = [\"앞면\", \"뒷면\"]\n",
        "  dice = [1,2,3,4,5,6]\n",
        "  for i in range(50):\n",
        "    cnt = 0\n",
        "    for i in range(100):\n",
        "      result1 = random.choice(coin)\n",
        "      result2 = random.choice(dice)\n",
        "      if result1 == \"앞면\" and result2 == 5:\n",
        "        cnt += 1\n",
        "    print(cnt)\n",
        "\n",
        "\n",
        "if __name__ == '__main__':\n",
        "  Prn12()"
      ],
      "execution_count": 81,
      "outputs": [
        {
          "output_type": "stream",
          "text": [
            "11\n",
            "8\n",
            "7\n",
            "9\n",
            "7\n",
            "4\n",
            "5\n",
            "6\n",
            "10\n",
            "10\n",
            "14\n",
            "11\n",
            "8\n",
            "5\n",
            "5\n",
            "5\n",
            "7\n",
            "12\n",
            "7\n",
            "11\n",
            "8\n",
            "8\n",
            "8\n",
            "11\n",
            "8\n",
            "10\n",
            "11\n",
            "9\n",
            "8\n",
            "12\n",
            "13\n",
            "11\n",
            "7\n",
            "10\n",
            "6\n",
            "2\n",
            "9\n",
            "4\n",
            "14\n",
            "4\n",
            "8\n",
            "9\n",
            "7\n",
            "8\n",
            "4\n",
            "10\n",
            "4\n",
            "7\n",
            "9\n",
            "5\n"
          ],
          "name": "stdout"
        }
      ]
    },
    {
      "cell_type": "code",
      "metadata": {
        "id": "SgzOMIxM8h6M"
      },
      "source": [
        ""
      ],
      "execution_count": null,
      "outputs": []
    },
    {
      "cell_type": "code",
      "metadata": {
        "id": "9k_zvYy58h3D"
      },
      "source": [
        ""
      ],
      "execution_count": null,
      "outputs": []
    },
    {
      "cell_type": "code",
      "metadata": {
        "id": "I0gwHnhF8hug"
      },
      "source": [
        ""
      ],
      "execution_count": null,
      "outputs": []
    }
  ]
}