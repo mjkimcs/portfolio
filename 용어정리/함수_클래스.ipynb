{
  "nbformat": 4,
  "nbformat_minor": 0,
  "metadata": {
    "colab": {
      "name": "함수_클래스",
      "provenance": [],
      "collapsed_sections": [],
      "authorship_tag": "ABX9TyO3sbwh9RYoHUE+vL4a+/FO",
      "include_colab_link": true
    },
    "kernelspec": {
      "display_name": "Python 3",
      "name": "python3"
    },
    "language_info": {
      "name": "python"
    }
  },
  "cells": [
    {
      "cell_type": "markdown",
      "metadata": {
        "id": "view-in-github",
        "colab_type": "text"
      },
      "source": [
        "<a href=\"https://colab.research.google.com/github/mjkimcs/portfolio/blob/main/%EC%9A%A9%EC%96%B4%EC%A0%95%EB%A6%AC/%ED%95%A8%EC%88%98_%ED%81%B4%EB%9E%98%EC%8A%A4.ipynb\" target=\"_parent\"><img src=\"https://colab.research.google.com/assets/colab-badge.svg\" alt=\"Open In Colab\"/></a>"
      ]
    },
    {
      "cell_type": "markdown",
      "metadata": {
        "id": "Vl9a-4Ijuing"
      },
      "source": [
        "**모듈이란?**  \n",
        "* .py\n",
        "* .py가 파이썬 문법에 맞는지 안맞는지 검증해서 맞으면 .pyc(바이트코드로 컴파일된 것)를 생성\n",
        "* 검증된 .pyc를 가지고 있는 것이 모듈\n",
        "* 검증이 돼야 실행이 되니까, 함수만으로 구성된 모듈도 있음(함수의 모듈화)\n",
        "* .py  ->  .pyc[byte]  ->  PVM  ->  output\n"
      ]
    },
    {
      "cell_type": "markdown",
      "metadata": {
        "id": "Qy0Qvqa4urAo"
      },
      "source": [
        "**함수의 종류**  \n",
        "1. 라이브러리 함수 = 표준함수 = 내장함수: sys.path가 지정된 곳의 모듈, import sys 필요, pip install하면 sys.path에 설치됨\n",
        "2. built-in 함수: 자주 사용하는 것(주로 자료형 관리 함수), dir(_ _ builtins _ _)\n",
        "3. 사용자정의 함수"
      ]
    },
    {
      "cell_type": "code",
      "metadata": {
        "colab": {
          "background_save": true
        },
        "id": "u60QUMeC7-pN",
        "outputId": "86dcc277-03c8-474d-f57e-ab8a6c8393f5"
      },
      "source": [
        "def prn():\n",
        "    print(\"hello python\") # return 생략\n",
        "\n",
        "def prn02():\n",
        "    return \"민정\"\n",
        "\n",
        "if __name__ == '__main__': # 진입점\n",
        "    prn()\n",
        "    res = prn02()\n",
        "    print(res)\n",
        "    print(\"=========================\")\n",
        "    res2 = prn() # prn()은 return값이 없어서 아무것도 안 줌\n",
        "    print(res2) # None 출력"
      ],
      "execution_count": null,
      "outputs": [
        {
          "output_type": "stream",
          "text": [
            "hello python\n",
            "민정\n",
            "=========================\n",
            "hello python\n",
            "None\n"
          ],
          "name": "stdout"
        }
      ]
    },
    {
      "cell_type": "code",
      "metadata": {
        "id": "g0tAl0DLr30W",
        "colab": {
          "base_uri": "https://localhost:8080/"
        },
        "outputId": "ca217fe7-1b0e-48db-a920-43dcf8f68f2a"
      },
      "source": [
        "a = print(\"민정\")\n",
        "print(\"============\")\n",
        "a\n",
        "print(\"============\")\n",
        "print(a)"
      ],
      "execution_count": 10,
      "outputs": [
        {
          "output_type": "stream",
          "text": [
            "민정\n",
            "============\n",
            "============\n",
            "None\n"
          ],
          "name": "stdout"
        }
      ]
    },
    {
      "cell_type": "code",
      "metadata": {
        "id": "6fDsmiC24oCi"
      },
      "source": [
        ""
      ],
      "execution_count": null,
      "outputs": []
    }
  ]
}