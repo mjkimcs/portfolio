{
  "nbformat": 4,
  "nbformat_minor": 0,
  "metadata": {
    "colab": {
      "name": "함수_클래스",
      "provenance": [],
      "collapsed_sections": [],
      "authorship_tag": "ABX9TyPfe1Yrm/V4vkqF+1OWielz",
      "include_colab_link": true
    },
    "kernelspec": {
      "name": "python3",
      "display_name": "Python 3"
    },
    "language_info": {
      "name": "python"
    }
  },
  "cells": [
    {
      "cell_type": "markdown",
      "metadata": {
        "id": "view-in-github",
        "colab_type": "text"
      },
      "source": [
        "<a href=\"https://colab.research.google.com/github/mjkimcs/portfolio/blob/main/%EC%9A%A9%EC%96%B4%EC%A0%95%EB%A6%AC/%ED%95%A8%EC%88%98_%ED%81%B4%EB%9E%98%EC%8A%A4.ipynb\" target=\"_parent\"><img src=\"https://colab.research.google.com/assets/colab-badge.svg\" alt=\"Open In Colab\"/></a>"
      ]
    },
    {
      "cell_type": "markdown",
      "metadata": {
        "id": "Vl9a-4Ijuing"
      },
      "source": [
        "**모듈이란?**  \n",
        "* .py\n",
        "* .py가 파이썬 문법에 맞는지 안맞는지 검증해서 맞으면 .pyc(바이트코드로 컴파일된 것)를 생성\n",
        "* 검증된 .pyc를 가지고 있는 것이 모듈\n",
        "* 검증이 돼야 실행이 되니까, 함수만으로 구성된 모듈도 있음(함수의 모듈화)\n",
        "* .py  ->  .pyc[byte]  ->  PVM  ->  output\n"
      ]
    },
    {
      "cell_type": "markdown",
      "metadata": {
        "id": "Qy0Qvqa4urAo"
      },
      "source": [
        "**함수의 종류**  \n",
        "1. 라이브러리 함수 = 표준함수 = 내장함수: sys.path가 지정된 곳의 모듈, import 필요\n",
        "2. built-in 함수: 자주 사용하는 것(주로 자료형 관리 함수), dir(_ _ builtins _ _)\n",
        "3. 사용자정의 함수"
      ]
    },
    {
      "cell_type": "code",
      "metadata": {
        "colab": {
          "base_uri": "https://localhost:8080/"
        },
        "id": "d1RjV8UYnMOE",
        "outputId": "fddf5428-f222-4c6e-a1d4-34e64d5b1abe"
      },
      "source": [
        "def Prn():\n",
        "    print(\"abcde\")\n",
        "\n",
        "def Prn02():\n",
        "    print(\"안녕하세요\")\n",
        "\n",
        "\n",
        "if __name__ == '__main__':\n",
        "    Prn()\n",
        "    Prn02()\n",
        "    res = Prn()\n",
        "    print(res)"
      ],
      "execution_count": 7,
      "outputs": [
        {
          "output_type": "stream",
          "text": [
            "abcde\n",
            "안녕하세요\n",
            "abcde\n",
            "None\n"
          ],
          "name": "stdout"
        }
      ]
    },
    {
      "cell_type": "code",
      "metadata": {
        "colab": {
          "base_uri": "https://localhost:8080/"
        },
        "id": "-wm6l8Lv7eN3",
        "outputId": "31c3b611-bd03-4905-bdb9-a11d10eff67d"
      },
      "source": [
        "res = Prn()"
      ],
      "execution_count": 8,
      "outputs": [
        {
          "output_type": "stream",
          "text": [
            "abcde\n"
          ],
          "name": "stdout"
        }
      ]
    },
    {
      "cell_type": "code",
      "metadata": {
        "id": "n0RecA2m77ll"
      },
      "source": [
        "res"
      ],
      "execution_count": 9,
      "outputs": []
    },
    {
      "cell_type": "code",
      "metadata": {
        "id": "u60QUMeC7-pN"
      },
      "source": [
        ""
      ],
      "execution_count": null,
      "outputs": []
    }
  ]
}