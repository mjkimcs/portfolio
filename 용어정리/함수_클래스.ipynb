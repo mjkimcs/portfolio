{
  "nbformat": 4,
  "nbformat_minor": 0,
  "metadata": {
    "colab": {
      "name": "함수_클래스",
      "provenance": [],
      "collapsed_sections": [],
      "authorship_tag": "ABX9TyPt8ZyM0sqKlEYkgmjvUJOe",
      "include_colab_link": true
    },
    "kernelspec": {
      "display_name": "Python 3",
      "name": "python3"
    },
    "language_info": {
      "name": "python"
    }
  },
  "cells": [
    {
      "cell_type": "markdown",
      "metadata": {
        "id": "view-in-github",
        "colab_type": "text"
      },
      "source": [
        "<a href=\"https://colab.research.google.com/github/mjkimcs/portfolio/blob/main/%EC%9A%A9%EC%96%B4%EC%A0%95%EB%A6%AC/%ED%95%A8%EC%88%98_%ED%81%B4%EB%9E%98%EC%8A%A4.ipynb\" target=\"_parent\"><img src=\"https://colab.research.google.com/assets/colab-badge.svg\" alt=\"Open In Colab\"/></a>"
      ]
    },
    {
      "cell_type": "markdown",
      "metadata": {
        "id": "Vl9a-4Ijuing"
      },
      "source": [
        "**모듈이란?**  \n",
        "* .py\n",
        "* .py가 파이썬 문법에 맞는지 안맞는지 검증해서 맞으면 .pyc(바이트코드로 컴파일된 것)를 생성\n",
        "* 검증된 .pyc를 가지고 있는 것이 모듈\n",
        "* 검증이 돼야 실행이 되니까, 함수만으로 구성된 모듈도 있음(함수의 모듈화)\n",
        "* .py  ->  .pyc[byte]  ->  PVM  ->  output\n"
      ]
    },
    {
      "cell_type": "markdown",
      "metadata": {
        "id": "Qy0Qvqa4urAo"
      },
      "source": [
        "**함수의 종류**  \n",
        "1. 라이브러리 함수 = 표준함수 = 내장함수: sys.path가 지정된 곳의 모듈, import sys 필요, pip install하면 sys.path에 설치됨\n",
        "2. built-in 함수: 자주 사용하는 것(주로 자료형 관리 함수), dir(_ _ builtins _ _)\n",
        "3. 사용자정의 함수"
      ]
    },
    {
      "cell_type": "markdown",
      "metadata": {
        "id": "hoBw6SxoKO6_"
      },
      "source": [
        "**함수의 매개변수**\n",
        "\n",
        "```\n",
        "def 함수명(매개변수, 매개변수=초기값):\n",
        "  명령수행문\n",
        "  return 값\n",
        "```\n",
        "\n"
      ]
    },
    {
      "cell_type": "markdown",
      "metadata": {
        "id": "xsohkjBsLSI7"
      },
      "source": [
        "**함수의 가변매개변수(가변인자)**\n",
        "\n",
        "1. *args: 튜플  \n",
        "2. **kwargs: 딕트\n",
        "\n",
        "```\n",
        "def 함수명(매개변수, 매개변수=초기값, *args, **kwargs):\n",
        "  명령수행문\n",
        "  return 값\n",
        "```\n"
      ]
    },
    {
      "cell_type": "markdown",
      "metadata": {
        "id": "-D9lAq8ePI6A"
      },
      "source": [
        "*  chr(97): 글자 'a'로 리턴\n",
        "*  ord(‘a’): 유니코드 97로 리턴"
      ]
    },
    {
      "cell_type": "code",
      "metadata": {
        "colab": {
          "background_save": true
        },
        "id": "u60QUMeC7-pN",
        "outputId": "86dcc277-03c8-474d-f57e-ab8a6c8393f5"
      },
      "source": [
        "def prn():\n",
        "    print(\"hello python\") # return 생략\n",
        "\n",
        "def prn02():\n",
        "    return \"민정\"\n",
        "\n",
        "if __name__ == '__main__': # 진입점\n",
        "    prn()\n",
        "    res = prn02()\n",
        "    print(res)\n",
        "    print(\"=========================\")\n",
        "    res2 = prn() # prn()은 return값이 없어서 아무것도 안 줌\n",
        "    print(res2) # None 출력"
      ],
      "execution_count": null,
      "outputs": [
        {
          "output_type": "stream",
          "text": [
            "hello python\n",
            "민정\n",
            "=========================\n",
            "hello python\n",
            "None\n"
          ],
          "name": "stdout"
        }
      ]
    },
    {
      "cell_type": "code",
      "metadata": {
        "id": "g0tAl0DLr30W",
        "colab": {
          "base_uri": "https://localhost:8080/"
        },
        "outputId": "ca217fe7-1b0e-48db-a920-43dcf8f68f2a"
      },
      "source": [
        "a = print(\"민정\")\n",
        "print(\"============\")\n",
        "a\n",
        "print(\"============\")\n",
        "print(a)"
      ],
      "execution_count": null,
      "outputs": [
        {
          "output_type": "stream",
          "text": [
            "민정\n",
            "============\n",
            "============\n",
            "None\n"
          ],
          "name": "stdout"
        }
      ]
    },
    {
      "cell_type": "code",
      "metadata": {
        "colab": {
          "base_uri": "https://localhost:8080/"
        },
        "id": "6fDsmiC24oCi",
        "outputId": "6808208e-ade6-4b29-fa49-859659196dce"
      },
      "source": [
        "def getA(a):\n",
        "    print(\"a=\", a, type(a))\n",
        "\n",
        "def getB(b=3): # 초기값 설정\n",
        "    print(\"b =\", b)\n",
        "\n",
        "if __name__ == '__main__':\n",
        "    getA(97.9)\n",
        "    getB() # 초기값이 설정돼서 값을 안줘도 됨\n",
        "    getB(\"abc\")"
      ],
      "execution_count": null,
      "outputs": [
        {
          "output_type": "stream",
          "text": [
            "a= 97.9 <class 'float'>\n",
            "b = 3\n",
            "b = abc\n"
          ],
          "name": "stdout"
        }
      ]
    },
    {
      "cell_type": "code",
      "metadata": {
        "colab": {
          "base_uri": "https://localhost:8080/"
        },
        "id": "ioYs96HNAAAz",
        "outputId": "3d9bd701-5fcf-4bd5-8e50-8450399add7f"
      },
      "source": [
        "def getB(a, b=3): # 초기값은 항상 뒤쪽에!\n",
        "    print(\"a =\", a, \",\", \"b =\", b)\n",
        "\n",
        "if __name__ == '__main__':\n",
        "    getB(100)\n",
        "    getB(100,7)\n",
        "    getB(3,\"abcd\")\n",
        "    getB(b=5, a=1)"
      ],
      "execution_count": 32,
      "outputs": [
        {
          "output_type": "stream",
          "text": [
            "a = 100 , b = 3\n",
            "a = 100 , b = 7\n",
            "a = 3 , b = abcd\n",
            "a = 1 , b = 5\n"
          ],
          "name": "stdout"
        }
      ]
    },
    {
      "cell_type": "code",
      "metadata": {
        "colab": {
          "base_uri": "https://localhost:8080/"
        },
        "id": "9vZinreyCVCG",
        "outputId": "8afa7cfa-9151-4f94-d9c3-1657881b2e0e"
      },
      "source": [
        "def test(*args):\n",
        "  print(args, type(args))\n",
        "\n",
        "if __name__ == '__main__':\n",
        "  test((1,2,3,4,5))\n",
        "  test([1,2,3,4,5])\n",
        "  test(\"1,2,3,4,5\")"
      ],
      "execution_count": 35,
      "outputs": [
        {
          "output_type": "stream",
          "text": [
            "((1, 2, 3, 4, 5),) <class 'tuple'>\n",
            "([1, 2, 3, 4, 5],) <class 'tuple'>\n",
            "('1,2,3,4,5',) <class 'tuple'>\n"
          ],
          "name": "stdout"
        }
      ]
    },
    {
      "cell_type": "code",
      "metadata": {
        "colab": {
          "base_uri": "https://localhost:8080/"
        },
        "id": "RgDWddQ9Mlhe",
        "outputId": "c084ea14-18ab-43c5-e65c-01852db5ee56"
      },
      "source": [
        "def test(a):\n",
        "  print(a, type(a))\n",
        "\n",
        "if __name__ == '__main__':\n",
        "  test((1,2,3,4,5))\n",
        "  test([1,2,3,4,5])\n",
        "  test(\"1,2,3,4,5\")"
      ],
      "execution_count": 36,
      "outputs": [
        {
          "output_type": "stream",
          "text": [
            "(1, 2, 3, 4, 5) <class 'tuple'>\n",
            "[1, 2, 3, 4, 5] <class 'list'>\n",
            "1,2,3,4,5 <class 'str'>\n"
          ],
          "name": "stdout"
        }
      ]
    },
    {
      "cell_type": "code",
      "metadata": {
        "colab": {
          "base_uri": "https://localhost:8080/"
        },
        "id": "gWuN2h-NM7bE",
        "outputId": "f150c325-a4bb-49ea-823a-6668201a7522"
      },
      "source": [
        "def my_fun(a, *args, **kwargs):\n",
        "  print(\"a=\", a)\n",
        "  print(\"args=\", args)\n",
        "  print(\"kwargs=\", kwargs)\n",
        "\n",
        "if __name__ == '__main__':\n",
        "  my_fun(11)"
      ],
      "execution_count": 37,
      "outputs": [
        {
          "output_type": "stream",
          "text": [
            "a= 11\n",
            "args= ()\n",
            "kwargs= {}\n"
          ],
          "name": "stdout"
        }
      ]
    },
    {
      "cell_type": "code",
      "metadata": {
        "colab": {
          "base_uri": "https://localhost:8080/"
        },
        "id": "pYNgVEnzNgMz",
        "outputId": "4d021efa-abfb-4aeb-cf3e-19f363591ce1"
      },
      "source": [
        "def my_fun(a, *args, **kwargs):\n",
        "  print(\"a=\", a)\n",
        "  print(\"args=\", args)\n",
        "  print(\"kwargs=\", kwargs)\n",
        "\n",
        "if __name__ == '__main__':\n",
        "  my_fun(11, 22, 33)"
      ],
      "execution_count": 38,
      "outputs": [
        {
          "output_type": "stream",
          "text": [
            "a= 11\n",
            "args= (22, 33)\n",
            "kwargs= {}\n"
          ],
          "name": "stdout"
        }
      ]
    },
    {
      "cell_type": "code",
      "metadata": {
        "colab": {
          "base_uri": "https://localhost:8080/"
        },
        "id": "LjJ1ejViN1eU",
        "outputId": "c74ddfcb-b7d7-4b88-d362-f3896dd43313"
      },
      "source": [
        "def my_fun(a, *b, **c):\n",
        "  print(\"a=\", a)\n",
        "  print(\"b=\", b)\n",
        "  print(\"c=\", c)\n",
        "\n",
        "if __name__ == '__main__':\n",
        "  my_fun(11, 22, 33, 55, id=\"a123\", pw=1234)"
      ],
      "execution_count": 43,
      "outputs": [
        {
          "output_type": "stream",
          "text": [
            "a= 11\n",
            "b= (22, 33, 55)\n",
            "c= {'id': 'a123', 'pw': 1234}\n"
          ],
          "name": "stdout"
        }
      ]
    },
    {
      "cell_type": "code",
      "metadata": {
        "colab": {
          "base_uri": "https://localhost:8080/"
        },
        "id": "mxBF8t6eN8HE",
        "outputId": "430642b6-f314-4a09-df14-14d02a4f0cf5"
      },
      "source": [
        "def getMych(su):\n",
        "    return chr(su)\n",
        "\n",
        "\n",
        "if __name__ == '__main__':\n",
        "    su = int(input(\"input 65~80>>>\"))\n",
        "    res = getMych(su)\n",
        "    print(\"su=%3d, res=%s\"%(su, res))"
      ],
      "execution_count": 48,
      "outputs": [
        {
          "output_type": "stream",
          "text": [
            "input 65~80>>>77\n",
            "su= 77, res=M\n"
          ],
          "name": "stdout"
        }
      ]
    },
    {
      "cell_type": "code",
      "metadata": {
        "colab": {
          "base_uri": "https://localhost:8080/"
        },
        "id": "7XdPGCwiQlei",
        "outputId": "84fcafdf-eba1-48ab-f4fb-e86482c2b38a"
      },
      "source": [
        "def repeat_msg(msg, repeat=3):\n",
        "    for i in range(repeat):\n",
        "        print(msg)\n",
        "\n",
        "if __name__ == '__main__':\n",
        "    repeat_msg(\"hello\")\n",
        "    print(\"================\")\n",
        "    repeat_msg(\"hello\", 5)"
      ],
      "execution_count": 50,
      "outputs": [
        {
          "output_type": "stream",
          "text": [
            "hello\n",
            "hello\n",
            "hello\n",
            "================\n",
            "hello\n",
            "hello\n",
            "hello\n",
            "hello\n",
            "hello\n"
          ],
          "name": "stdout"
        }
      ]
    },
    {
      "cell_type": "code",
      "metadata": {
        "id": "1mUNR895RUDk"
      },
      "source": [
        ""
      ],
      "execution_count": null,
      "outputs": []
    }
  ]
}