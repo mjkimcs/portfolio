{
  "nbformat": 4,
  "nbformat_minor": 0,
  "metadata": {
    "colab": {
      "name": "JavaScript",
      "provenance": [],
      "collapsed_sections": [],
      "authorship_tag": "ABX9TyMPowkT9EnPScIra8k/p8uj",
      "include_colab_link": true
    },
    "kernelspec": {
      "name": "python3",
      "display_name": "Python 3"
    },
    "language_info": {
      "name": "python"
    }
  },
  "cells": [
    {
      "cell_type": "markdown",
      "metadata": {
        "id": "view-in-github",
        "colab_type": "text"
      },
      "source": [
        "<a href=\"https://colab.research.google.com/github/mjkimcs/portfolio/blob/main/%EC%9A%A9%EC%96%B4%EC%A0%95%EB%A6%AC/JavaScript.ipynb\" target=\"_parent\"><img src=\"https://colab.research.google.com/assets/colab-badge.svg\" alt=\"Open In Colab\"/></a>"
      ]
    },
    {
      "cell_type": "markdown",
      "metadata": {
        "id": "ADgqNmWM7Tn0"
      },
      "source": [
        "- Front-end\n",
        "- html5 = css3 + html + js \n",
        "- 브라우저가 컴파일(검사) 해줌\n",
        "- 자바는 컴파일러 방식이고, 자바스크립트는 인터프리터 방식\n",
        "- 운영체제에 대한 제한을 받지 않음"
      ]
    },
    {
      "cell_type": "code",
      "metadata": {
        "id": "R1A2jmUA5XR6"
      },
      "source": [
        "# ex01.html\n",
        "\n",
        "<!DOCTYPE html>\n",
        "<html>\n",
        "<head>\n",
        "<meta charset=\"EUC-KR\">\n",
        "<title>Insert title here</title>\n",
        "\n",
        "<script type=\"text/javascript\" src=\"../js/js01.js\">\n",
        "</script>\n",
        "\n",
        "</head>\n",
        "<body>\n",
        "\n",
        "<hr>\n",
        "<script type=\"text/javascript\">\n",
        "\tdocument.write(\"First script\");\n",
        "</script>\n",
        "\n",
        "<hr>\n",
        "<script type=\"text/javascript\" src=\"../js/js01.js\">\n",
        "</script>\n",
        "\n",
        "</body>\n",
        "</html>"
      ],
      "execution_count": null,
      "outputs": []
    },
    {
      "cell_type": "code",
      "metadata": {
        "id": "ZdSzA8uB5XfR"
      },
      "source": [
        "# js01.js\n",
        "\n",
        "/**\n",
        " * \n",
        " */\n",
        "\n",
        "document.write(\"First script1<br>\");\n",
        "document.write(\"First script2<br>\");\n",
        "document.write(\"First script3<br>\");\n",
        "document.write(\"First script4<br>\");"
      ],
      "execution_count": null,
      "outputs": []
    },
    {
      "cell_type": "code",
      "metadata": {
        "id": "0WJdoT485Xj_"
      },
      "source": [
        "# ex02.html\n",
        "\n",
        "<!DOCTYPE html>\n",
        "<html>\n",
        "<head>\n",
        "<meta charset=\"utf-8\">\n",
        "<title>Insert title here</title>\n",
        "</head>\n",
        "<body>\n",
        "<script type=\"text/javascript\">\n",
        "var name = prompt(\"input name\", \"Chloe\");\n",
        "alert(\"input name\" + name);\n",
        "document.write(\"입력한 이름은 \" + name + \"입니다.\")\n",
        "res = confirm(\"현재 페이지를 종료할까요?\")\n",
        "document.write(res)\n",
        "\n",
        "</script>\n",
        "</body>\n",
        "</html>"
      ],
      "execution_count": null,
      "outputs": []
    },
    {
      "cell_type": "code",
      "metadata": {
        "id": "d8eTpQ6ZWTVY"
      },
      "source": [
        "# ex03.html\n",
        "\n",
        "<!DOCTYPE html>\n",
        "<html>\n",
        "<head>\n",
        "<meta charset=\"EUC-KR\">\n",
        "<title>Insert title here</title>\n",
        "</head>\n",
        "<body>\n",
        "\n",
        "<script type=\"text/javascript\">\n",
        "var a = prompt(\"input A\");\n",
        "var b = prompt(\"input B\");\n",
        "\n",
        "var hap = 0;\n",
        "hap = eval(a + \"+\" + b);\n",
        "document.write(\"hap =\" + hap + \"<br>\");\n",
        "\n",
        "var res = \"1+2+3\"\n",
        "document.write(eval(res) + \"<br>\");\n",
        "\n",
        "res02 = a + 200\n",
        "document.write(res02);\n",
        "</script>\n",
        "\n",
        "</body>\n",
        "</html>"
      ],
      "execution_count": null,
      "outputs": []
    },
    {
      "cell_type": "code",
      "metadata": {
        "id": "tHLx-bcsdWxx"
      },
      "source": [
        "# ex04.html\n",
        "\n",
        "<!DOCTYPE html>\n",
        "<html>\n",
        "<head>\n",
        "<meta charset=\"EUC-KR\">\n",
        "<title>Insert title here</title>\n",
        "</head>\n",
        "<body>\n",
        "\n",
        "<script type=\"text/javascript\">\n",
        "\tvar str = prompt(\"input 1~4\")\n",
        "\tdocument.write(\"<h1> 선택하신 계절은? </h1> <hr>\");\n",
        "\t\n",
        "\tif (str == 1){\n",
        "\t\tdocument.write(\"봄\");\n",
        "\t}else if (str == 2){\n",
        "\t\tdocument.write(\"여름\");\n",
        "\t}else if (str == 3){\n",
        "\t\tdocument.write(\"가을\");\n",
        "\t}else{\n",
        "\t\tdocument.write(\"겨울\");\n",
        "\t}\n",
        "\t\n",
        "\tdocument.write(\"<h1> switch </h1> <hr>\");\n",
        "\tswitch(str){\n",
        "\tcase '1': document.writeln(\"1사분기<br>\"); break;\n",
        "\tcase '2': document.writeln(\"2사분기<br>\"); break;\n",
        "\tcase '3': document.writeln(\"3사분기<br>\"); break;\n",
        "\tcase '4': document.writeln(\"4사분기<br>\"); break;\t\n",
        "\t}\n",
        "\t\n",
        "\tswitch(str){\n",
        "\tcase '3': \n",
        "\tcase '1': document.write(\"홀수<br>\"); break\n",
        "\tcase '4': \n",
        "\tcase '2': document.write(\"짝수<br>\"); break;\n",
        "\tdefault : document.write(\"다른값이야\");\n",
        "\t}\n",
        "\t\n",
        "\tvar hap = 0;\n",
        "\tdocument.write(\"<h1> for </h1> <hr>\");\n",
        "\tvar i = 0;\n",
        "\tfor (i=1; i<=str; i++){\n",
        "\t\thap += i;\n",
        "\t\tdocument.writeln(i + \" : \" + str + \"<br>\")\n",
        "\t}\n",
        "\tdocument.writeln(\"1~\" + str +\"의 합은\" + hap +\"이다<br>\")\n",
        "\t\n",
        "\tdocument.write(\"<h1> while </h1> <hr>\");\n",
        "\twhile (str > 0){\n",
        "\t\tdocument.write(\"while 구문이다. <br>\");\n",
        "\t\tstr--;\n",
        "\t}\n",
        "\t\n",
        "\tdocument.write(\"<h1> do while </h1> <hr>\");\n",
        "\tdo{\n",
        "\t\tdocument.write(\"do ~ while 구문이다. <br>\");\n",
        "\t}while(str > 0);\n",
        "</script>\n",
        "\n",
        "</body>\n",
        "</html>"
      ],
      "execution_count": null,
      "outputs": []
    },
    {
      "cell_type": "code",
      "metadata": {
        "id": "jvtSGZQddWt8"
      },
      "source": [
        ""
      ],
      "execution_count": null,
      "outputs": []
    }
  ]
}