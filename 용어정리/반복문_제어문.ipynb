{
  "nbformat": 4,
  "nbformat_minor": 0,
  "metadata": {
    "colab": {
      "name": "반복문_제어문.ipynb",
      "provenance": [],
      "collapsed_sections": [],
      "authorship_tag": "ABX9TyMChj5A8ShdZbx2PI3OPIBK",
      "include_colab_link": true
    },
    "kernelspec": {
      "name": "python3",
      "display_name": "Python 3"
    },
    "language_info": {
      "name": "python"
    }
  },
  "cells": [
    {
      "cell_type": "markdown",
      "metadata": {
        "id": "view-in-github",
        "colab_type": "text"
      },
      "source": [
        "<a href=\"https://colab.research.google.com/github/mjkimcs/portfolio/blob/main/%EC%9A%A9%EC%96%B4%EC%A0%95%EB%A6%AC/%EB%B0%98%EB%B3%B5%EB%AC%B8_%EC%A0%9C%EC%96%B4%EB%AC%B8.ipynb\" target=\"_parent\"><img src=\"https://colab.research.google.com/assets/colab-badge.svg\" alt=\"Open In Colab\"/></a>"
      ]
    },
    {
      "cell_type": "code",
      "metadata": {
        "colab": {
          "base_uri": "https://localhost:8080/"
        },
        "id": "kY2sPex5m13T",
        "outputId": "831d308d-0829-4a74-93cc-39255f5887e3"
      },
      "source": [
        "k = 5\n",
        "while k >= 1:\n",
        "    print(k)\n",
        "    k -= 1\n",
        "else:\n",
        "    print(\"done\")"
      ],
      "execution_count": 1,
      "outputs": [
        {
          "output_type": "stream",
          "text": [
            "5\n",
            "4\n",
            "3\n",
            "2\n",
            "1\n",
            "done\n"
          ],
          "name": "stdout"
        }
      ]
    },
    {
      "cell_type": "code",
      "metadata": {
        "colab": {
          "base_uri": "https://localhost:8080/"
        },
        "id": "rM6l6Oj9sr3L",
        "outputId": "0376e093-91c0-4158-ae13-2c7b0cbcbfad"
      },
      "source": [
        "l = [1,2,3,4,5,6]\n",
        "for i in l:\n",
        "  print(i, end=\"\\t\")"
      ],
      "execution_count": 2,
      "outputs": [
        {
          "output_type": "stream",
          "text": [
            "1\t2\t3\t4\t5\t6\t"
          ],
          "name": "stdout"
        }
      ]
    },
    {
      "cell_type": "code",
      "metadata": {
        "colab": {
          "base_uri": "https://localhost:8080/"
        },
        "id": "8XXmkvKgeLjt",
        "outputId": "ca9ffa34-2def-41d6-da6c-f434170df0ac"
      },
      "source": [
        "T = [(1,2),(3,4),(5,6),(7,8),(9,10)]\n",
        "for (i, j) in T:\n",
        "  print(i, j, end=\"\\t\")"
      ],
      "execution_count": 4,
      "outputs": [
        {
          "output_type": "stream",
          "text": [
            "1 2\t3 4\t5 6\t7 8\t9 10\t"
          ],
          "name": "stdout"
        }
      ]
    },
    {
      "cell_type": "code",
      "metadata": {
        "colab": {
          "base_uri": "https://localhost:8080/"
        },
        "id": "DQyDEta3ez82",
        "outputId": "bf95bd4d-81a7-4509-ed89-35ba183fe411"
      },
      "source": [
        "T = [(1,2),(3,4),(5,6),(7,8),(9,10)]\n",
        "for i in T:\n",
        "  print(i, end=\"\\t\")"
      ],
      "execution_count": 6,
      "outputs": [
        {
          "output_type": "stream",
          "text": [
            "(1, 2)\t(3, 4)\t(5, 6)\t(7, 8)\t(9, 10)\t"
          ],
          "name": "stdout"
        }
      ]
    },
    {
      "cell_type": "code",
      "metadata": {
        "colab": {
          "base_uri": "https://localhost:8080/"
        },
        "id": "xaVRXvdUe70F",
        "outputId": "e6efe52c-a4b6-430f-8676-e9a64158fb3d"
      },
      "source": [
        "dict = {'x':1, 'y':2, 'z':3}\n",
        "for i in dict:\n",
        "  print(i, \"-\", dict[i], end=\"\\t\")"
      ],
      "execution_count": 9,
      "outputs": [
        {
          "output_type": "stream",
          "text": [
            "x - 1\ty - 2\tz - 3\t"
          ],
          "name": "stdout"
        }
      ]
    },
    {
      "cell_type": "code",
      "metadata": {
        "colab": {
          "base_uri": "https://localhost:8080/"
        },
        "id": "oPYHxvZ2hrXN",
        "outputId": "69ae1539-cf4f-4d67-ef2c-1c315bd0d0fc"
      },
      "source": [
        "r = list(range(10))\n",
        "print(r)"
      ],
      "execution_count": 11,
      "outputs": [
        {
          "output_type": "stream",
          "text": [
            "[0, 1, 2, 3, 4, 5, 6, 7, 8, 9]\n"
          ],
          "name": "stdout"
        }
      ]
    },
    {
      "cell_type": "code",
      "metadata": {
        "colab": {
          "base_uri": "https://localhost:8080/"
        },
        "id": "V-X4dDKniKaF",
        "outputId": "3f2c2dbf-6ea0-45ef-f92b-0f8f48439c20"
      },
      "source": [
        "r = list(range(2, 20, 3)) # 2~19\n",
        "print(r)"
      ],
      "execution_count": 12,
      "outputs": [
        {
          "output_type": "stream",
          "text": [
            "[2, 5, 8, 11, 14, 17]\n"
          ],
          "name": "stdout"
        }
      ]
    },
    {
      "cell_type": "code",
      "metadata": {
        "colab": {
          "base_uri": "https://localhost:8080/"
        },
        "id": "NkOI2g2yidNN",
        "outputId": "e808f521-f23c-46d7-dcf7-c9d13a42f174"
      },
      "source": [
        "for i in range(2, 20, 3):\n",
        "  print(i)"
      ],
      "execution_count": 15,
      "outputs": [
        {
          "output_type": "stream",
          "text": [
            "2\n",
            "5\n",
            "8\n",
            "11\n",
            "14\n",
            "17\n"
          ],
          "name": "stdout"
        }
      ]
    },
    {
      "cell_type": "code",
      "metadata": {
        "id": "imEto6cXitj1"
      },
      "source": [
        "enumerate"
      ],
      "execution_count": null,
      "outputs": []
    }
  ]
}