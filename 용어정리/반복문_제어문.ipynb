{
  "nbformat": 4,
  "nbformat_minor": 0,
  "metadata": {
    "colab": {
      "name": "반복문_제어문.ipynb",
      "provenance": [],
      "collapsed_sections": [],
      "authorship_tag": "ABX9TyPm9Iw3Bd7oBblN1oWRirFv",
      "include_colab_link": true
    },
    "kernelspec": {
      "name": "python3",
      "display_name": "Python 3"
    },
    "language_info": {
      "name": "python"
    }
  },
  "cells": [
    {
      "cell_type": "markdown",
      "metadata": {
        "id": "view-in-github",
        "colab_type": "text"
      },
      "source": [
        "<a href=\"https://colab.research.google.com/github/mjkimcs/portfolio/blob/main/%EC%9A%A9%EC%96%B4%EC%A0%95%EB%A6%AC/%EB%B0%98%EB%B3%B5%EB%AC%B8_%EC%A0%9C%EC%96%B4%EB%AC%B8.ipynb\" target=\"_parent\"><img src=\"https://colab.research.google.com/assets/colab-badge.svg\" alt=\"Open In Colab\"/></a>"
      ]
    },
    {
      "cell_type": "code",
      "metadata": {
        "colab": {
          "base_uri": "https://localhost:8080/"
        },
        "id": "kY2sPex5m13T",
        "outputId": "831d308d-0829-4a74-93cc-39255f5887e3"
      },
      "source": [
        "k = 5\n",
        "while k >= 1:\n",
        "    print(k)\n",
        "    k -= 1\n",
        "else:\n",
        "    print(\"done\")"
      ],
      "execution_count": null,
      "outputs": [
        {
          "output_type": "stream",
          "text": [
            "5\n",
            "4\n",
            "3\n",
            "2\n",
            "1\n",
            "done\n"
          ],
          "name": "stdout"
        }
      ]
    },
    {
      "cell_type": "code",
      "metadata": {
        "colab": {
          "base_uri": "https://localhost:8080/"
        },
        "id": "rM6l6Oj9sr3L",
        "outputId": "0376e093-91c0-4158-ae13-2c7b0cbcbfad"
      },
      "source": [
        "l = [1,2,3,4,5,6]\n",
        "for i in l:\n",
        "  print(i, end=\"\\t\")"
      ],
      "execution_count": null,
      "outputs": [
        {
          "output_type": "stream",
          "text": [
            "1\t2\t3\t4\t5\t6\t"
          ],
          "name": "stdout"
        }
      ]
    },
    {
      "cell_type": "code",
      "metadata": {
        "colab": {
          "base_uri": "https://localhost:8080/"
        },
        "id": "8XXmkvKgeLjt",
        "outputId": "ca9ffa34-2def-41d6-da6c-f434170df0ac"
      },
      "source": [
        "T = [(1,2),(3,4),(5,6),(7,8),(9,10)]\n",
        "for (i, j) in T:\n",
        "  print(i, j, end=\"\\t\")"
      ],
      "execution_count": null,
      "outputs": [
        {
          "output_type": "stream",
          "text": [
            "1 2\t3 4\t5 6\t7 8\t9 10\t"
          ],
          "name": "stdout"
        }
      ]
    },
    {
      "cell_type": "code",
      "metadata": {
        "colab": {
          "base_uri": "https://localhost:8080/"
        },
        "id": "DQyDEta3ez82",
        "outputId": "bf95bd4d-81a7-4509-ed89-35ba183fe411"
      },
      "source": [
        "T = [(1,2),(3,4),(5,6),(7,8),(9,10)]\n",
        "for i in T:\n",
        "  print(i, end=\"\\t\")"
      ],
      "execution_count": null,
      "outputs": [
        {
          "output_type": "stream",
          "text": [
            "(1, 2)\t(3, 4)\t(5, 6)\t(7, 8)\t(9, 10)\t"
          ],
          "name": "stdout"
        }
      ]
    },
    {
      "cell_type": "code",
      "metadata": {
        "colab": {
          "base_uri": "https://localhost:8080/"
        },
        "id": "xaVRXvdUe70F",
        "outputId": "e6efe52c-a4b6-430f-8676-e9a64158fb3d"
      },
      "source": [
        "dict = {'x':1, 'y':2, 'z':3}\n",
        "for i in dict:\n",
        "  print(i, \"-\", dict[i], end=\"\\t\")"
      ],
      "execution_count": null,
      "outputs": [
        {
          "output_type": "stream",
          "text": [
            "x - 1\ty - 2\tz - 3\t"
          ],
          "name": "stdout"
        }
      ]
    },
    {
      "cell_type": "code",
      "metadata": {
        "colab": {
          "base_uri": "https://localhost:8080/"
        },
        "id": "oPYHxvZ2hrXN",
        "outputId": "69ae1539-cf4f-4d67-ef2c-1c315bd0d0fc"
      },
      "source": [
        "r = list(range(10))\n",
        "print(r)"
      ],
      "execution_count": null,
      "outputs": [
        {
          "output_type": "stream",
          "text": [
            "[0, 1, 2, 3, 4, 5, 6, 7, 8, 9]\n"
          ],
          "name": "stdout"
        }
      ]
    },
    {
      "cell_type": "code",
      "metadata": {
        "colab": {
          "base_uri": "https://localhost:8080/"
        },
        "id": "V-X4dDKniKaF",
        "outputId": "3f2c2dbf-6ea0-45ef-f92b-0f8f48439c20"
      },
      "source": [
        "r = list(range(2, 20, 3)) # 2~19\n",
        "print(r)"
      ],
      "execution_count": null,
      "outputs": [
        {
          "output_type": "stream",
          "text": [
            "[2, 5, 8, 11, 14, 17]\n"
          ],
          "name": "stdout"
        }
      ]
    },
    {
      "cell_type": "code",
      "metadata": {
        "colab": {
          "base_uri": "https://localhost:8080/"
        },
        "id": "NkOI2g2yidNN",
        "outputId": "e808f521-f23c-46d7-dcf7-c9d13a42f174"
      },
      "source": [
        "for i in range(2, 20, 3):\n",
        "  print(i)"
      ],
      "execution_count": null,
      "outputs": [
        {
          "output_type": "stream",
          "text": [
            "2\n",
            "5\n",
            "8\n",
            "11\n",
            "14\n",
            "17\n"
          ],
          "name": "stdout"
        }
      ]
    },
    {
      "cell_type": "code",
      "metadata": {
        "colab": {
          "base_uri": "https://localhost:8080/"
        },
        "id": "7mkCxFU0exc8",
        "outputId": "0f915ef9-134a-48ad-8874-b04464b2504a"
      },
      "source": [
        "fruit = ['apple', 'watermelon', 'peach', 'pear']\n",
        "for i in enumerate(fruit):\n",
        "  print(i) # 튜플로 리턴"
      ],
      "execution_count": 13,
      "outputs": [
        {
          "output_type": "stream",
          "text": [
            "(0, 'apple')\n",
            "(1, 'watermelon')\n",
            "(2, 'peach')\n",
            "(3, 'pear')\n"
          ],
          "name": "stdout"
        }
      ]
    },
    {
      "cell_type": "code",
      "metadata": {
        "colab": {
          "base_uri": "https://localhost:8080/"
        },
        "id": "imEto6cXitj1",
        "outputId": "c06293c0-8b23-49e2-cb7e-d0df7b24c11c"
      },
      "source": [
        "fruit = ['apple', 'watermelon', 'peach', 'pear']\n",
        "for i in enumerate(fruit, 1):\n",
        "  print(i) # 튜플로 리턴"
      ],
      "execution_count": null,
      "outputs": [
        {
          "output_type": "stream",
          "text": [
            "(1, 'apple')\n",
            "(2, 'watermelon')\n",
            "(3, 'peach')\n",
            "(4, 'pear')\n"
          ],
          "name": "stdout"
        }
      ]
    },
    {
      "cell_type": "code",
      "metadata": {
        "id": "KENidTIoSiVk"
      },
      "source": [
        ""
      ],
      "execution_count": null,
      "outputs": []
    },
    {
      "cell_type": "code",
      "metadata": {
        "id": "POAtcxpij-ql",
        "colab": {
          "base_uri": "https://localhost:8080/"
        },
        "outputId": "fb24427f-97cd-49c2-eae6-9eee5051ef7b"
      },
      "source": [
        "for i in range(1,10):\n",
        "  if i > 5:\n",
        "    break\n",
        "  else:\n",
        "    print(\"\\n if else 영역\")\n",
        "    print(\"%5d\"%i, end=\" \")\n",
        "else: # for문이 False인 경우에만 실행됨\n",
        "  print(\"\\n for else 영역\")"
      ],
      "execution_count": 4,
      "outputs": [
        {
          "output_type": "stream",
          "text": [
            "\n",
            " if else 영역\n",
            "    1 \n",
            " if else 영역\n",
            "    2 \n",
            " if else 영역\n",
            "    3 \n",
            " if else 영역\n",
            "    4 \n",
            " if else 영역\n",
            "    5 "
          ],
          "name": "stdout"
        }
      ]
    },
    {
      "cell_type": "code",
      "metadata": {
        "colab": {
          "base_uri": "https://localhost:8080/"
        },
        "id": "WsznV2RwRg3-",
        "outputId": "e73f175f-ae44-445c-f54a-f5e160d4d5f3"
      },
      "source": [
        "for i in range(1,10):\n",
        "  print(\"%5d\"%i, end=\" \")\n",
        "else: # for문이 False인 경우에만 실행됨\n",
        "  print(\"\\n for else 영역\")"
      ],
      "execution_count": 5,
      "outputs": [
        {
          "output_type": "stream",
          "text": [
            "    1     2     3     4     5     6     7     8     9 \n",
            " for else 영역\n"
          ],
          "name": "stdout"
        }
      ]
    },
    {
      "cell_type": "code",
      "metadata": {
        "colab": {
          "base_uri": "https://localhost:8080/"
        },
        "id": "U3eLxwx2WC-z",
        "outputId": "2db2bb54-6296-4130-c974-c4f8c80a782b"
      },
      "source": [
        "for i in range(1,10):\n",
        "  if i > 5:\n",
        "    continue\n",
        "  else:\n",
        "    print(\"\\n if else 영역\")\n",
        "    print(\"%5d\"%i, end=\" \")\n",
        "else: # for문이 False인 경우에만 실행됨\n",
        "  print(\"\\n for else 영역\")"
      ],
      "execution_count": 10,
      "outputs": [
        {
          "output_type": "stream",
          "text": [
            "\n",
            " if else 영역\n",
            "    1 \n",
            " if else 영역\n",
            "    2 \n",
            " if else 영역\n",
            "    3 \n",
            " if else 영역\n",
            "    4 \n",
            " if else 영역\n",
            "    5 \n",
            " for else 영역\n"
          ],
          "name": "stdout"
        }
      ]
    },
    {
      "cell_type": "code",
      "metadata": {
        "colab": {
          "base_uri": "https://localhost:8080/"
        },
        "id": "IH-YnDlMclY4",
        "outputId": "0df18081-36ec-4ec1-c02f-254bb732c020"
      },
      "source": [
        "for i in range(1,10):\n",
        "  if i == 5:\n",
        "    continue\n",
        "  print(\"%5d\"%i, end=\" \")\n",
        "else: # for문이 False인 경우에만 실행됨\n",
        "  print(\"\\n for else 영역\")"
      ],
      "execution_count": 16,
      "outputs": [
        {
          "output_type": "stream",
          "text": [
            "    1     2     3     4     6     7     8     9 \n",
            " for else 영역\n"
          ],
          "name": "stdout"
        }
      ]
    },
    {
      "cell_type": "code",
      "metadata": {
        "id": "SZ-h_FZMfJyL"
      },
      "source": [
        ""
      ],
      "execution_count": 16,
      "outputs": []
    },
    {
      "cell_type": "code",
      "metadata": {
        "colab": {
          "base_uri": "https://localhost:8080/"
        },
        "id": "n5dQAz4SfvFT",
        "outputId": "6b129345-6b18-453e-8e3a-00ee46723c7c"
      },
      "source": [
        "for i in range(1,5):\n",
        "  print(\"exe\")"
      ],
      "execution_count": 17,
      "outputs": [
        {
          "output_type": "stream",
          "text": [
            "exe\n",
            "exe\n",
            "exe\n",
            "exe\n"
          ],
          "name": "stdout"
        }
      ]
    },
    {
      "cell_type": "code",
      "metadata": {
        "colab": {
          "base_uri": "https://localhost:8080/"
        },
        "id": "eOtWMOrfgniK",
        "outputId": "a8a394c5-95bf-45fc-a004-18f7b811025a"
      },
      "source": [
        "for i in range(1,5):\n",
        "  print(\"구분\")\n",
        "  for j in range(1,3):\n",
        "    print(\"exe\")"
      ],
      "execution_count": 19,
      "outputs": [
        {
          "output_type": "stream",
          "text": [
            "구분\n",
            "exe\n",
            "exe\n",
            "구분\n",
            "exe\n",
            "exe\n",
            "구분\n",
            "exe\n",
            "exe\n",
            "구분\n",
            "exe\n",
            "exe\n"
          ],
          "name": "stdout"
        }
      ]
    },
    {
      "cell_type": "code",
      "metadata": {
        "colab": {
          "base_uri": "https://localhost:8080/"
        },
        "id": "_6VrVKSxgutq",
        "outputId": "3294d5f0-ecd1-4cfa-8743-c5d0ba1b14e9"
      },
      "source": [
        "for i in range(1,5):\n",
        "  for j in range(1,3):\n",
        "    print(\"%d, %d\"%(i, j))\n",
        "  print(\"=====\")"
      ],
      "execution_count": 29,
      "outputs": [
        {
          "output_type": "stream",
          "text": [
            "1, 1\n",
            "1, 2\n",
            "=====\n",
            "2, 1\n",
            "2, 2\n",
            "=====\n",
            "3, 1\n",
            "3, 2\n",
            "=====\n",
            "4, 1\n",
            "4, 2\n",
            "=====\n"
          ],
          "name": "stdout"
        }
      ]
    },
    {
      "cell_type": "code",
      "metadata": {
        "colab": {
          "base_uri": "https://localhost:8080/"
        },
        "id": "GVpYGzrDhSWC",
        "outputId": "2a0b394d-368a-4d90-cd70-cacccb42ee1b"
      },
      "source": [
        "for i in range(1,5):\n",
        "  for j in range(1,3):\n",
        "    print(\"i = %d, j = %d\"%(i, j))\n",
        "  print(\"=============\")"
      ],
      "execution_count": 32,
      "outputs": [
        {
          "output_type": "stream",
          "text": [
            "i = 1, j = 1\n",
            "i = 1, j = 2\n",
            "=============\n",
            "i = 2, j = 1\n",
            "i = 2, j = 2\n",
            "=============\n",
            "i = 3, j = 1\n",
            "i = 3, j = 2\n",
            "=============\n",
            "i = 4, j = 1\n",
            "i = 4, j = 2\n",
            "=============\n"
          ],
          "name": "stdout"
        }
      ]
    },
    {
      "cell_type": "code",
      "metadata": {
        "colab": {
          "base_uri": "https://localhost:8080/"
        },
        "id": "saT8ePPTimIv",
        "outputId": "05e16853-28dd-4b6e-c240-924ed2b0cc3d"
      },
      "source": [
        "for i in range(1,6):\n",
        "  for j in range(1,6):\n",
        "    print(\"%10d\"%i)"
      ],
      "execution_count": 34,
      "outputs": [
        {
          "output_type": "stream",
          "text": [
            "         1\n",
            "         1\n",
            "         1\n",
            "         1\n",
            "         1\n",
            "         2\n",
            "         2\n",
            "         2\n",
            "         2\n",
            "         2\n",
            "         3\n",
            "         3\n",
            "         3\n",
            "         3\n",
            "         3\n",
            "         4\n",
            "         4\n",
            "         4\n",
            "         4\n",
            "         4\n",
            "         5\n",
            "         5\n",
            "         5\n",
            "         5\n",
            "         5\n"
          ],
          "name": "stdout"
        }
      ]
    },
    {
      "cell_type": "code",
      "metadata": {
        "colab": {
          "base_uri": "https://localhost:8080/"
        },
        "id": "qiNRo6VjjlIA",
        "outputId": "0c1415e8-dd13-48e2-ff08-6835b4ec1d77"
      },
      "source": [
        "for i in range(1,6):\n",
        "  for j in range(1,6):\n",
        "    print(\"%10d\"%j)"
      ],
      "execution_count": 35,
      "outputs": [
        {
          "output_type": "stream",
          "text": [
            "         1\n",
            "         2\n",
            "         3\n",
            "         4\n",
            "         5\n",
            "         1\n",
            "         2\n",
            "         3\n",
            "         4\n",
            "         5\n",
            "         1\n",
            "         2\n",
            "         3\n",
            "         4\n",
            "         5\n",
            "         1\n",
            "         2\n",
            "         3\n",
            "         4\n",
            "         5\n",
            "         1\n",
            "         2\n",
            "         3\n",
            "         4\n",
            "         5\n"
          ],
          "name": "stdout"
        }
      ]
    },
    {
      "cell_type": "code",
      "metadata": {
        "colab": {
          "base_uri": "https://localhost:8080/"
        },
        "id": "3DFFkx4Zj8dI",
        "outputId": "2d5c10f7-f98b-4231-e885-93db7272e734"
      },
      "source": [
        "for i in range(1,6):\n",
        "  for j in range(1,6):\n",
        "    print(\"%10d\\t\"%j)"
      ],
      "execution_count": 36,
      "outputs": [
        {
          "output_type": "stream",
          "text": [
            "         1\t\n",
            "         2\t\n",
            "         3\t\n",
            "         4\t\n",
            "         5\t\n",
            "         1\t\n",
            "         2\t\n",
            "         3\t\n",
            "         4\t\n",
            "         5\t\n",
            "         1\t\n",
            "         2\t\n",
            "         3\t\n",
            "         4\t\n",
            "         5\t\n",
            "         1\t\n",
            "         2\t\n",
            "         3\t\n",
            "         4\t\n",
            "         5\t\n",
            "         1\t\n",
            "         2\t\n",
            "         3\t\n",
            "         4\t\n",
            "         5\t\n"
          ],
          "name": "stdout"
        }
      ]
    },
    {
      "cell_type": "code",
      "metadata": {
        "colab": {
          "base_uri": "https://localhost:8080/"
        },
        "id": "jt1gi_qOj_Px",
        "outputId": "75838e88-0ce5-4d49-f332-532cda5c4100"
      },
      "source": [
        "for i in range(1,6):\n",
        "  for j in range(1,6):\n",
        "    print(\"%10d\"%j, end=\"\\t\")\n",
        "  print()"
      ],
      "execution_count": 40,
      "outputs": [
        {
          "output_type": "stream",
          "text": [
            "         1\t         2\t         3\t         4\t         5\t\n",
            "         1\t         2\t         3\t         4\t         5\t\n",
            "         1\t         2\t         3\t         4\t         5\t\n",
            "         1\t         2\t         3\t         4\t         5\t\n",
            "         1\t         2\t         3\t         4\t         5\t\n"
          ],
          "name": "stdout"
        }
      ]
    },
    {
      "cell_type": "code",
      "metadata": {
        "id": "bGeoBnixkGZR"
      },
      "source": [
        ""
      ],
      "execution_count": null,
      "outputs": []
    }
  ]
}