{
  "nbformat": 4,
  "nbformat_minor": 0,
  "metadata": {
    "colab": {
      "name": "24a_MNIST.ipynb",
      "provenance": [],
      "authorship_tag": "ABX9TyMAUbBjPqCyGrMzhzEf7xZG",
      "include_colab_link": true
    },
    "kernelspec": {
      "name": "python3",
      "display_name": "Python 3"
    }
  },
  "cells": [
    {
      "cell_type": "markdown",
      "metadata": {
        "id": "view-in-github",
        "colab_type": "text"
      },
      "source": [
        "<a href=\"https://colab.research.google.com/github/mjkimcs/portfolio/blob/main/24a_MNIST.ipynb\" target=\"_parent\"><img src=\"https://colab.research.google.com/assets/colab-badge.svg\" alt=\"Open In Colab\"/></a>"
      ]
    },
    {
      "cell_type": "code",
      "metadata": {
        "colab": {
          "base_uri": "https://localhost:8080/"
        },
        "id": "v4KL9k3trIB7",
        "outputId": "6d48484b-a22a-4c88-90c9-65355264437e"
      },
      "source": [
        "import urllib.request as req\r\n",
        "import gzip, os, os.path\r\n",
        "\r\n",
        "savepath = \"./mnist\"\r\n",
        "baseurl = \"http://yann.lecun.com/exdb/mnist\"\r\n",
        "files = [\r\n",
        "    \"train-images-idx3-ubyte.gz\",\r\n",
        "    \"train-labels-idx1-ubyte.gz\",\r\n",
        "    \"t10k-images-idx3-ubyte.gz\",\r\n",
        "    \"t10k-labels-idx1-ubyte.gz\"\r\n",
        "]\r\n",
        "\r\n",
        "# 다운로드\r\n",
        "if not os.path.exists(savepath): os.mkdir(savepath)\r\n",
        "for f in files:\r\n",
        "    url = baseurl + \"/\" + f\r\n",
        "    loc = savepath + \"/\" + f\r\n",
        "    print(\"download:\", url)\r\n",
        "    if not os.path.exists(loc):\r\n",
        "        req.urlretrieve(url, loc)\r\n",
        "\r\n",
        "for f in files:\r\n",
        "    gz_file = savepath + \"/\" + f\r\n",
        "    raw_file = savepath + \"/\" + f.replace(\".gz\", \"\")\r\n",
        "    print(\"gzip:\",f)\r\n",
        "    with gzip.open(gz_file, \"rb\") as fp:\r\n",
        "        body = fp.read()\r\n",
        "        with open(raw_file, \"wb\") as w:\r\n",
        "            w.write(body)\r\n",
        "print(\"Download ok\")\r\n",
        "\r\n",
        "import struct\r\n",
        "\r\n",
        "def to_csv(name, maxdata):\r\n",
        "    # 레이블 파일과 이미지 파일 열기\r\n",
        "    lbl_f = open(\"./mnist/\"+name+\"-labels-idx1-ubyte\", \"rb\")\r\n",
        "    img_f = open(\"./mnist/\"+name+\"-images-idx3-ubyte\", \"rb\")\r\n",
        "    csv_f = open(\"./mnist/\"+name+\".csv\", \"w\", encoding=\"utf-8\")\r\n",
        "    #헤더 정보 읽기\r\n",
        "    mag, lbl_count = struct.unpack(\">II\", lbl_f.read(8))\r\n",
        "    mag, img_count = struct.unpack(\">II\", img_f.read(8))\r\n",
        "    rows, cols = struct.unpack(\">II\", img_f.read(8))\r\n",
        "    pixels = rows * cols\r\n",
        "    # 이미지 데이터를 읽고 CSV로 저장하기\r\n",
        "    res = []\r\n",
        "    for idx in range(lbl_count):\r\n",
        "        if idx > maxdata: break\r\n",
        "        label = struct.unpack(\"B\", lbl_f.read(1))[0]\r\n",
        "        bdata=img_f.read(pixels)\r\n",
        "        sdata = list(map(lambda n: str(n), bdata))\r\n",
        "        csv_f.write(str(label)+\",\")\r\n",
        "        csv_f.write(\",\".join(sdata)+\"\\r\\n\")\r\n",
        "        # 잘 저장됐는지 이미지 파일로 저장해서 테스트하기\r\n",
        "        if idx<10:\r\n",
        "            s=\"P2 28 28 255\\n\"\r\n",
        "            s +=\" \".join(sdata)\r\n",
        "            iname = \"./mnist/{0}-{1}-{2}.pgm\".format(name,idx,label)\r\n",
        "            with open(iname, \"w\", encoding=\"utf-8\") as f:\r\n",
        "                f.write(s)\r\n",
        "    csv_f.close()\r\n",
        "    lbl_f.close()\r\n",
        "    img_f.close()\r\n",
        "\r\n",
        "# 결과를 파일로 출력하기\r\n",
        "to_csv(\"train\", 1000) #train데이터 1000개\r\n",
        "to_csv(\"t10k\", 500) #test데이터 500개\r\n",
        "print(\"Convert CSV OK!\")"
      ],
      "execution_count": null,
      "outputs": [
        {
          "output_type": "stream",
          "text": [
            "download: http://yann.lecun.com/exdb/mnist/train-images-idx3-ubyte.gz\n",
            "download: http://yann.lecun.com/exdb/mnist/train-labels-idx1-ubyte.gz\n",
            "download: http://yann.lecun.com/exdb/mnist/t10k-images-idx3-ubyte.gz\n",
            "download: http://yann.lecun.com/exdb/mnist/t10k-labels-idx1-ubyte.gz\n",
            "gzip: train-images-idx3-ubyte.gz\n",
            "gzip: train-labels-idx1-ubyte.gz\n",
            "gzip: t10k-images-idx3-ubyte.gz\n",
            "gzip: t10k-labels-idx1-ubyte.gz\n",
            "Download ok\n",
            "Convert CSV OK!\n"
          ],
          "name": "stdout"
        }
      ]
    },
    {
      "cell_type": "code",
      "metadata": {
        "colab": {
          "base_uri": "https://localhost:8080/"
        },
        "id": "F_sO8O7ArU1h",
        "outputId": "89067448-a60f-4c88-87d4-1ad83460d012"
      },
      "source": [
        "data = \"0\t0\t0\t0\t0\t0\t0\t0\t0\t0\t0\t0\t0\t0\t0\t0\t0\t0\t0\t0\t0\t0\t0\t0\t0\t0\t0\t0\t0\t0\t0\t0\t0\t0\t0\t0\t0\t0\t0\t0\t0\t0\t0\t0\t0\t0\t0\t0\t0\t0\t0\t0\t0\t0\t0\t0\t0\t0\t0\t0\t0\t0\t0\t0\t0\t0\t0\t0\t0\t0\t0\t0\t0\t0\t0\t0\t0\t0\t0\t0\t0\t0\t0\t0\t0\t0\t0\t0\t0\t0\t0\t0\t0\t0\t0\t0\t0\t0\t0\t0\t0\t0\t0\t0\t0\t0\t0\t0\t0\t0\t0\t0\t0\t0\t0\t0\t0\t0\t0\t0\t0\t0\t0\t0\t0\t0\t0\t0\t0\t0\t0\t0\t0\t0\t0\t0\t0\t0\t0\t0\t0\t0\t0\t0\t0\t0\t0\t0\t0\t0\t0\t0\t3\t18\t18\t18\t126\t136\t175\t26\t166\t255\t247\t127\t0\t0\t0\t0\t0\t0\t0\t0\t0\t0\t0\t0\t30\t36\t94\t154\t170\t253\t253\t253\t253\t253\t225\t172\t253\t242\t195\t64\t0\t0\t0\t0\t0\t0\t0\t0\t0\t0\t0\t49\t238\t253\t253\t253\t253\t253\t253\t253\t253\t251\t93\t82\t82\t56\t39\t0\t0\t0\t0\t0\t0\t0\t0\t0\t0\t0\t0\t18\t219\t253\t253\t253\t253\t253\t198\t182\t247\t241\t0\t0\t0\t0\t0\t0\t0\t0\t0\t0\t0\t0\t0\t0\t0\t0\t0\t0\t80\t156\t107\t253\t253\t205\t11\t0\t43\t154\t0\t0\t0\t0\t0\t0\t0\t0\t0\t0\t0\t0\t0\t0\t0\t0\t0\t0\t0\t14\t1\t154\t253\t90\t0\t0\t0\t0\t0\t0\t0\t0\t0\t0\t0\t0\t0\t0\t0\t0\t0\t0\t0\t0\t0\t0\t0\t0\t0\t139\t253\t190\t2\t0\t0\t0\t0\t0\t0\t0\t0\t0\t0\t0\t0\t0\t0\t0\t0\t0\t0\t0\t0\t0\t0\t0\t0\t11\t190\t253\t70\t0\t0\t0\t0\t0\t0\t0\t0\t0\t0\t0\t0\t0\t0\t0\t0\t0\t0\t0\t0\t0\t0\t0\t0\t0\t35\t241\t225\t160\t108\t1\t0\t0\t0\t0\t0\t0\t0\t0\t0\t0\t0\t0\t0\t0\t0\t0\t0\t0\t0\t0\t0\t0\t0\t81\t240\t253\t253\t119\t25\t0\t0\t0\t0\t0\t0\t0\t0\t0\t0\t0\t0\t0\t0\t0\t0\t0\t0\t0\t0\t0\t0\t0\t45\t186\t253\t253\t150\t27\t0\t0\t0\t0\t0\t0\t0\t0\t0\t0\t0\t0\t0\t0\t0\t0\t0\t0\t0\t0\t0\t0\t0\t16\t93\t252\t253\t187\t0\t0\t0\t0\t0\t0\t0\t0\t0\t0\t0\t0\t0\t0\t0\t0\t0\t0\t0\t0\t0\t0\t0\t0\t0\t249\t253\t249\t64\t0\t0\t0\t0\t0\t0\t0\t0\t0\t0\t0\t0\t0\t0\t0\t0\t0\t0\t0\t0\t0\t46\t130\t183\t253\t253\t207\t2\t0\t0\t0\t0\t0\t0\t0\t0\t0\t0\t0\t0\t0\t0\t0\t0\t0\t0\t0\t39\t148\t229\t253\t253\t253\t250\t182\t0\t0\t0\t0\t0\t0\t0\t0\t0\t0\t0\t0\t0\t0\t0\t0\t0\t0\t24\t114\t221\t253\t253\t253\t253\t201\t78\t0\t0\t0\t0\t0\t0\t0\t0\t0\t0\t0\t0\t0\t0\t0\t0\t0\t23\t66\t213\t253\t253\t253\t253\t198\t81\t2\t0\t0\t0\t0\t0\t0\t0\t0\t0\t0\t0\t0\t0\t0\t0\t0\t18\t171\t219\t253\t253\t253\t253\t195\t80\t9\t0\t0\t0\t0\t0\t0\t0\t0\t0\t0\t0\t0\t0\t0\t0\t0\t55\t172\t226\t253\t253\t253\t253\t244\t133\t11\t0\t0\t0\t0\t0\t0\t0\t0\t0\t0\t0\t0\t0\t0\t0\t0\t0\t0\t136\t253\t253\t253\t212\t135\t132\t16\t0\t0\t0\t0\t0\t0\t0\t0\t0\t0\t0\t0\t0\t0\t0\t0\t0\t0\t0\t0\t0\t0\t0\t0\t0\t0\t0\t0\t0\t0\t0\t0\t0\t0\t0\t0\t0\t0\t0\t0\t0\t0\t0\t0\t0\t0\t0\t0\t0\t0\t0\t0\t0\t0\t0\t0\t0\t0\t0\t0\t0\t0\t0\t0\t0\t0\t0\t0\t0\t0\t0\t0\t0\t0\t0\t0\t0\t0\t0\t0\t0\t0\t0\t0\t0\t0\t0\t0\t0\t0\t0\t0\t0\t0\t0\t0\t0\t0\t0\t0\"\r\n",
        "list = data.split()\r\n",
        "for i in list:\r\n",
        "  print(i, end=\" \")"
      ],
      "execution_count": null,
      "outputs": [
        {
          "output_type": "stream",
          "text": [
            "0 0 0 0 0 0 0 0 0 0 0 0 0 0 0 0 0 0 0 0 0 0 0 0 0 0 0 0 0 0 0 0 0 0 0 0 0 0 0 0 0 0 0 0 0 0 0 0 0 0 0 0 0 0 0 0 0 0 0 0 0 0 0 0 0 0 0 0 0 0 0 0 0 0 0 0 0 0 0 0 0 0 0 0 0 0 0 0 0 0 0 0 0 0 0 0 0 0 0 0 0 0 0 0 0 0 0 0 0 0 0 0 0 0 0 0 0 0 0 0 0 0 0 0 0 0 0 0 0 0 0 0 0 0 0 0 0 0 0 0 0 0 0 0 0 0 0 0 0 0 0 0 3 18 18 18 126 136 175 26 166 255 247 127 0 0 0 0 0 0 0 0 0 0 0 0 30 36 94 154 170 253 253 253 253 253 225 172 253 242 195 64 0 0 0 0 0 0 0 0 0 0 0 49 238 253 253 253 253 253 253 253 253 251 93 82 82 56 39 0 0 0 0 0 0 0 0 0 0 0 0 18 219 253 253 253 253 253 198 182 247 241 0 0 0 0 0 0 0 0 0 0 0 0 0 0 0 0 0 0 80 156 107 253 253 205 11 0 43 154 0 0 0 0 0 0 0 0 0 0 0 0 0 0 0 0 0 0 0 14 1 154 253 90 0 0 0 0 0 0 0 0 0 0 0 0 0 0 0 0 0 0 0 0 0 0 0 0 0 139 253 190 2 0 0 0 0 0 0 0 0 0 0 0 0 0 0 0 0 0 0 0 0 0 0 0 0 11 190 253 70 0 0 0 0 0 0 0 0 0 0 0 0 0 0 0 0 0 0 0 0 0 0 0 0 0 35 241 225 160 108 1 0 0 0 0 0 0 0 0 0 0 0 0 0 0 0 0 0 0 0 0 0 0 0 81 240 253 253 119 25 0 0 0 0 0 0 0 0 0 0 0 0 0 0 0 0 0 0 0 0 0 0 0 45 186 253 253 150 27 0 0 0 0 0 0 0 0 0 0 0 0 0 0 0 0 0 0 0 0 0 0 0 16 93 252 253 187 0 0 0 0 0 0 0 0 0 0 0 0 0 0 0 0 0 0 0 0 0 0 0 0 0 249 253 249 64 0 0 0 0 0 0 0 0 0 0 0 0 0 0 0 0 0 0 0 0 0 46 130 183 253 253 207 2 0 0 0 0 0 0 0 0 0 0 0 0 0 0 0 0 0 0 0 39 148 229 253 253 253 250 182 0 0 0 0 0 0 0 0 0 0 0 0 0 0 0 0 0 0 24 114 221 253 253 253 253 201 78 0 0 0 0 0 0 0 0 0 0 0 0 0 0 0 0 0 23 66 213 253 253 253 253 198 81 2 0 0 0 0 0 0 0 0 0 0 0 0 0 0 0 0 18 171 219 253 253 253 253 195 80 9 0 0 0 0 0 0 0 0 0 0 0 0 0 0 0 0 55 172 226 253 253 253 253 244 133 11 0 0 0 0 0 0 0 0 0 0 0 0 0 0 0 0 0 0 136 253 253 253 212 135 132 16 0 0 0 0 0 0 0 0 0 0 0 0 0 0 0 0 0 0 0 0 0 0 0 0 0 0 0 0 0 0 0 0 0 0 0 0 0 0 0 0 0 0 0 0 0 0 0 0 0 0 0 0 0 0 0 0 0 0 0 0 0 0 0 0 0 0 0 0 0 0 0 0 0 0 0 0 0 0 0 0 0 0 0 0 0 0 0 0 0 0 0 0 0 0 0 0 0 0 0 0 "
          ],
          "name": "stdout"
        }
      ]
    },
    {
      "cell_type": "code",
      "metadata": {
        "colab": {
          "base_uri": "https://localhost:8080/",
          "height": 231
        },
        "id": "MmaWx1Kmsfm4",
        "outputId": "70279139-5283-456d-dc36-5e3c669facda"
      },
      "source": [
        "data"
      ],
      "execution_count": null,
      "outputs": [
        {
          "output_type": "execute_result",
          "data": {
            "application/vnd.google.colaboratory.intrinsic+json": {
              "type": "string"
            },
            "text/plain": [
              "'0\\t0\\t0\\t0\\t0\\t0\\t0\\t0\\t0\\t0\\t0\\t0\\t0\\t0\\t0\\t0\\t0\\t0\\t0\\t0\\t0\\t0\\t0\\t0\\t0\\t0\\t0\\t0\\t0\\t0\\t0\\t0\\t0\\t0\\t0\\t0\\t0\\t0\\t0\\t0\\t0\\t0\\t0\\t0\\t0\\t0\\t0\\t0\\t0\\t0\\t0\\t0\\t0\\t0\\t0\\t0\\t0\\t0\\t0\\t0\\t0\\t0\\t0\\t0\\t0\\t0\\t0\\t0\\t0\\t0\\t0\\t0\\t0\\t0\\t0\\t0\\t0\\t0\\t0\\t0\\t0\\t0\\t0\\t0\\t0\\t0\\t0\\t0\\t0\\t0\\t0\\t0\\t0\\t0\\t0\\t0\\t0\\t0\\t0\\t0\\t0\\t0\\t0\\t0\\t0\\t0\\t0\\t0\\t0\\t0\\t0\\t0\\t0\\t0\\t0\\t0\\t0\\t0\\t0\\t0\\t0\\t0\\t0\\t0\\t0\\t0\\t0\\t0\\t0\\t0\\t0\\t0\\t0\\t0\\t0\\t0\\t0\\t0\\t0\\t0\\t0\\t0\\t0\\t0\\t0\\t0\\t0\\t0\\t0\\t0\\t0\\t0\\t3\\t18\\t18\\t18\\t126\\t136\\t175\\t26\\t166\\t255\\t247\\t127\\t0\\t0\\t0\\t0\\t0\\t0\\t0\\t0\\t0\\t0\\t0\\t0\\t30\\t36\\t94\\t154\\t170\\t253\\t253\\t253\\t253\\t253\\t225\\t172\\t253\\t242\\t195\\t64\\t0\\t0\\t0\\t0\\t0\\t0\\t0\\t0\\t0\\t0\\t0\\t49\\t238\\t253\\t253\\t253\\t253\\t253\\t253\\t253\\t253\\t251\\t93\\t82\\t82\\t56\\t39\\t0\\t0\\t0\\t0\\t0\\t0\\t0\\t0\\t0\\t0\\t0\\t0\\t18\\t219\\t253\\t253\\t253\\t253\\t253\\t198\\t182\\t247\\t241\\t0\\t0\\t0\\t0\\t0\\t0\\t0\\t0\\t0\\t0\\t0\\t0\\t0\\t0\\t0\\t0\\t0\\t0\\t80\\t156\\t107\\t253\\t253\\t205\\t11\\t0\\t43\\t154\\t0\\t0\\t0\\t0\\t0\\t0\\t0\\t0\\t0\\t0\\t0\\t0\\t0\\t0\\t0\\t0\\t0\\t0\\t0\\t14\\t1\\t154\\t253\\t90\\t0\\t0\\t0\\t0\\t0\\t0\\t0\\t0\\t0\\t0\\t0\\t0\\t0\\t0\\t0\\t0\\t0\\t0\\t0\\t0\\t0\\t0\\t0\\t0\\t0\\t139\\t253\\t190\\t2\\t0\\t0\\t0\\t0\\t0\\t0\\t0\\t0\\t0\\t0\\t0\\t0\\t0\\t0\\t0\\t0\\t0\\t0\\t0\\t0\\t0\\t0\\t0\\t0\\t11\\t190\\t253\\t70\\t0\\t0\\t0\\t0\\t0\\t0\\t0\\t0\\t0\\t0\\t0\\t0\\t0\\t0\\t0\\t0\\t0\\t0\\t0\\t0\\t0\\t0\\t0\\t0\\t0\\t35\\t241\\t225\\t160\\t108\\t1\\t0\\t0\\t0\\t0\\t0\\t0\\t0\\t0\\t0\\t0\\t0\\t0\\t0\\t0\\t0\\t0\\t0\\t0\\t0\\t0\\t0\\t0\\t0\\t81\\t240\\t253\\t253\\t119\\t25\\t0\\t0\\t0\\t0\\t0\\t0\\t0\\t0\\t0\\t0\\t0\\t0\\t0\\t0\\t0\\t0\\t0\\t0\\t0\\t0\\t0\\t0\\t0\\t45\\t186\\t253\\t253\\t150\\t27\\t0\\t0\\t0\\t0\\t0\\t0\\t0\\t0\\t0\\t0\\t0\\t0\\t0\\t0\\t0\\t0\\t0\\t0\\t0\\t0\\t0\\t0\\t0\\t16\\t93\\t252\\t253\\t187\\t0\\t0\\t0\\t0\\t0\\t0\\t0\\t0\\t0\\t0\\t0\\t0\\t0\\t0\\t0\\t0\\t0\\t0\\t0\\t0\\t0\\t0\\t0\\t0\\t0\\t249\\t253\\t249\\t64\\t0\\t0\\t0\\t0\\t0\\t0\\t0\\t0\\t0\\t0\\t0\\t0\\t0\\t0\\t0\\t0\\t0\\t0\\t0\\t0\\t0\\t46\\t130\\t183\\t253\\t253\\t207\\t2\\t0\\t0\\t0\\t0\\t0\\t0\\t0\\t0\\t0\\t0\\t0\\t0\\t0\\t0\\t0\\t0\\t0\\t0\\t0\\t39\\t148\\t229\\t253\\t253\\t253\\t250\\t182\\t0\\t0\\t0\\t0\\t0\\t0\\t0\\t0\\t0\\t0\\t0\\t0\\t0\\t0\\t0\\t0\\t0\\t0\\t24\\t114\\t221\\t253\\t253\\t253\\t253\\t201\\t78\\t0\\t0\\t0\\t0\\t0\\t0\\t0\\t0\\t0\\t0\\t0\\t0\\t0\\t0\\t0\\t0\\t0\\t23\\t66\\t213\\t253\\t253\\t253\\t253\\t198\\t81\\t2\\t0\\t0\\t0\\t0\\t0\\t0\\t0\\t0\\t0\\t0\\t0\\t0\\t0\\t0\\t0\\t0\\t18\\t171\\t219\\t253\\t253\\t253\\t253\\t195\\t80\\t9\\t0\\t0\\t0\\t0\\t0\\t0\\t0\\t0\\t0\\t0\\t0\\t0\\t0\\t0\\t0\\t0\\t55\\t172\\t226\\t253\\t253\\t253\\t253\\t244\\t133\\t11\\t0\\t0\\t0\\t0\\t0\\t0\\t0\\t0\\t0\\t0\\t0\\t0\\t0\\t0\\t0\\t0\\t0\\t0\\t136\\t253\\t253\\t253\\t212\\t135\\t132\\t16\\t0\\t0\\t0\\t0\\t0\\t0\\t0\\t0\\t0\\t0\\t0\\t0\\t0\\t0\\t0\\t0\\t0\\t0\\t0\\t0\\t0\\t0\\t0\\t0\\t0\\t0\\t0\\t0\\t0\\t0\\t0\\t0\\t0\\t0\\t0\\t0\\t0\\t0\\t0\\t0\\t0\\t0\\t0\\t0\\t0\\t0\\t0\\t0\\t0\\t0\\t0\\t0\\t0\\t0\\t0\\t0\\t0\\t0\\t0\\t0\\t0\\t0\\t0\\t0\\t0\\t0\\t0\\t0\\t0\\t0\\t0\\t0\\t0\\t0\\t0\\t0\\t0\\t0\\t0\\t0\\t0\\t0\\t0\\t0\\t0\\t0\\t0\\t0\\t0\\t0\\t0\\t0\\t0\\t0\\t0\\t0\\t0\\t0\\t0\\t0'"
            ]
          },
          "metadata": {
            "tags": []
          },
          "execution_count": 7
        }
      ]
    },
    {
      "cell_type": "code",
      "metadata": {
        "colab": {
          "base_uri": "https://localhost:8080/"
        },
        "id": "ok-uRE4Tskf4",
        "outputId": "3e0b35e3-008c-49e2-f22c-f0e12cc7148b"
      },
      "source": [
        "data = \"0\t0\t0\t0\t0\t0\t0\t0\t0\t0\t0\t0\t0\t0\t0\t0\t0\t0\t0\t0\t0\t0\t0\t0\t0\t0\t0\t0\t0\t0\t0\t0\t0\t0\t0\t0\t0\t0\t0\t0\t0\t0\t0\t0\t0\t0\t0\t0\t0\t0\t0\t0\t0\t0\t0\t0\t0\t0\t0\t0\t0\t0\t0\t0\t0\t0\t0\t0\t0\t0\t0\t0\t0\t0\t0\t0\t0\t0\t0\t0\t0\t0\t0\t0\t0\t0\t0\t0\t0\t0\t0\t0\t0\t0\t0\t0\t0\t0\t0\t0\t0\t0\t0\t0\t0\t0\t0\t0\t0\t0\t0\t0\t0\t0\t0\t0\t0\t0\t0\t0\t0\t0\t0\t0\t0\t0\t0\t0\t0\t0\t0\t0\t0\t0\t0\t0\t0\t0\t0\t0\t0\t0\t0\t0\t0\t0\t0\t0\t0\t0\t0\t0\t3\t18\t18\t18\t126\t136\t175\t26\t166\t255\t247\t127\t0\t0\t0\t0\t0\t0\t0\t0\t0\t0\t0\t0\t30\t36\t94\t154\t170\t253\t253\t253\t253\t253\t225\t172\t253\t242\t195\t64\t0\t0\t0\t0\t0\t0\t0\t0\t0\t0\t0\t49\t238\t253\t253\t253\t253\t253\t253\t253\t253\t251\t93\t82\t82\t56\t39\t0\t0\t0\t0\t0\t0\t0\t0\t0\t0\t0\t0\t18\t219\t253\t253\t253\t253\t253\t198\t182\t247\t241\t0\t0\t0\t0\t0\t0\t0\t0\t0\t0\t0\t0\t0\t0\t0\t0\t0\t0\t80\t156\t107\t253\t253\t205\t11\t0\t43\t154\t0\t0\t0\t0\t0\t0\t0\t0\t0\t0\t0\t0\t0\t0\t0\t0\t0\t0\t0\t14\t1\t154\t253\t90\t0\t0\t0\t0\t0\t0\t0\t0\t0\t0\t0\t0\t0\t0\t0\t0\t0\t0\t0\t0\t0\t0\t0\t0\t0\t139\t253\t190\t2\t0\t0\t0\t0\t0\t0\t0\t0\t0\t0\t0\t0\t0\t0\t0\t0\t0\t0\t0\t0\t0\t0\t0\t0\t11\t190\t253\t70\t0\t0\t0\t0\t0\t0\t0\t0\t0\t0\t0\t0\t0\t0\t0\t0\t0\t0\t0\t0\t0\t0\t0\t0\t0\t35\t241\t225\t160\t108\t1\t0\t0\t0\t0\t0\t0\t0\t0\t0\t0\t0\t0\t0\t0\t0\t0\t0\t0\t0\t0\t0\t0\t0\t81\t240\t253\t253\t119\t25\t0\t0\t0\t0\t0\t0\t0\t0\t0\t0\t0\t0\t0\t0\t0\t0\t0\t0\t0\t0\t0\t0\t0\t45\t186\t253\t253\t150\t27\t0\t0\t0\t0\t0\t0\t0\t0\t0\t0\t0\t0\t0\t0\t0\t0\t0\t0\t0\t0\t0\t0\t0\t16\t93\t252\t253\t187\t0\t0\t0\t0\t0\t0\t0\t0\t0\t0\t0\t0\t0\t0\t0\t0\t0\t0\t0\t0\t0\t0\t0\t0\t0\t249\t253\t249\t64\t0\t0\t0\t0\t0\t0\t0\t0\t0\t0\t0\t0\t0\t0\t0\t0\t0\t0\t0\t0\t0\t46\t130\t183\t253\t253\t207\t2\t0\t0\t0\t0\t0\t0\t0\t0\t0\t0\t0\t0\t0\t0\t0\t0\t0\t0\t0\t39\t148\t229\t253\t253\t253\t250\t182\t0\t0\t0\t0\t0\t0\t0\t0\t0\t0\t0\t0\t0\t0\t0\t0\t0\t0\t24\t114\t221\t253\t253\t253\t253\t201\t78\t0\t0\t0\t0\t0\t0\t0\t0\t0\t0\t0\t0\t0\t0\t0\t0\t0\t23\t66\t213\t253\t253\t253\t253\t198\t81\t2\t0\t0\t0\t0\t0\t0\t0\t0\t0\t0\t0\t0\t0\t0\t0\t0\t18\t171\t219\t253\t253\t253\t253\t195\t80\t9\t0\t0\t0\t0\t0\t0\t0\t0\t0\t0\t0\t0\t0\t0\t0\t0\t55\t172\t226\t253\t253\t253\t253\t244\t133\t11\t0\t0\t0\t0\t0\t0\t0\t0\t0\t0\t0\t0\t0\t0\t0\t0\t0\t0\t136\t253\t253\t253\t212\t135\t132\t16\t0\t0\t0\t0\t0\t0\t0\t0\t0\t0\t0\t0\t0\t0\t0\t0\t0\t0\t0\t0\t0\t0\t0\t0\t0\t0\t0\t0\t0\t0\t0\t0\t0\t0\t0\t0\t0\t0\t0\t0\t0\t0\t0\t0\t0\t0\t0\t0\t0\t0\t0\t0\t0\t0\t0\t0\t0\t0\t0\t0\t0\t0\t0\t0\t0\t0\t0\t0\t0\t0\t0\t0\t0\t0\t0\t0\t0\t0\t0\t0\t0\t0\t0\t0\t0\t0\t0\t0\t0\t0\t0\t0\t0\t0\t0\t0\t0\t0\t0\t0\"\r\n",
        "list = data.split()\r\n",
        "cnt = 0\r\n",
        "for i in list:\r\n",
        "  print(i, end=\" \")\r\n",
        "  cnt += 1\r\n",
        "  if cnt % 28 == 0:\r\n",
        "    print()"
      ],
      "execution_count": null,
      "outputs": [
        {
          "output_type": "stream",
          "text": [
            "0 0 0 0 0 0 0 0 0 0 0 0 0 0 0 0 0 0 0 0 0 0 0 0 0 0 0 0 \n",
            "0 0 0 0 0 0 0 0 0 0 0 0 0 0 0 0 0 0 0 0 0 0 0 0 0 0 0 0 \n",
            "0 0 0 0 0 0 0 0 0 0 0 0 0 0 0 0 0 0 0 0 0 0 0 0 0 0 0 0 \n",
            "0 0 0 0 0 0 0 0 0 0 0 0 0 0 0 0 0 0 0 0 0 0 0 0 0 0 0 0 \n",
            "0 0 0 0 0 0 0 0 0 0 0 0 0 0 0 0 0 0 0 0 0 0 0 0 0 0 0 0 \n",
            "0 0 0 0 0 0 0 0 0 0 0 0 3 18 18 18 126 136 175 26 166 255 247 127 0 0 0 0 \n",
            "0 0 0 0 0 0 0 0 30 36 94 154 170 253 253 253 253 253 225 172 253 242 195 64 0 0 0 0 \n",
            "0 0 0 0 0 0 0 49 238 253 253 253 253 253 253 253 253 251 93 82 82 56 39 0 0 0 0 0 \n",
            "0 0 0 0 0 0 0 18 219 253 253 253 253 253 198 182 247 241 0 0 0 0 0 0 0 0 0 0 \n",
            "0 0 0 0 0 0 0 0 80 156 107 253 253 205 11 0 43 154 0 0 0 0 0 0 0 0 0 0 \n",
            "0 0 0 0 0 0 0 0 0 14 1 154 253 90 0 0 0 0 0 0 0 0 0 0 0 0 0 0 \n",
            "0 0 0 0 0 0 0 0 0 0 0 139 253 190 2 0 0 0 0 0 0 0 0 0 0 0 0 0 \n",
            "0 0 0 0 0 0 0 0 0 0 0 11 190 253 70 0 0 0 0 0 0 0 0 0 0 0 0 0 \n",
            "0 0 0 0 0 0 0 0 0 0 0 0 35 241 225 160 108 1 0 0 0 0 0 0 0 0 0 0 \n",
            "0 0 0 0 0 0 0 0 0 0 0 0 0 81 240 253 253 119 25 0 0 0 0 0 0 0 0 0 \n",
            "0 0 0 0 0 0 0 0 0 0 0 0 0 0 45 186 253 253 150 27 0 0 0 0 0 0 0 0 \n",
            "0 0 0 0 0 0 0 0 0 0 0 0 0 0 0 16 93 252 253 187 0 0 0 0 0 0 0 0 \n",
            "0 0 0 0 0 0 0 0 0 0 0 0 0 0 0 0 0 249 253 249 64 0 0 0 0 0 0 0 \n",
            "0 0 0 0 0 0 0 0 0 0 0 0 0 0 46 130 183 253 253 207 2 0 0 0 0 0 0 0 \n",
            "0 0 0 0 0 0 0 0 0 0 0 0 39 148 229 253 253 253 250 182 0 0 0 0 0 0 0 0 \n",
            "0 0 0 0 0 0 0 0 0 0 24 114 221 253 253 253 253 201 78 0 0 0 0 0 0 0 0 0 \n",
            "0 0 0 0 0 0 0 0 23 66 213 253 253 253 253 198 81 2 0 0 0 0 0 0 0 0 0 0 \n",
            "0 0 0 0 0 0 18 171 219 253 253 253 253 195 80 9 0 0 0 0 0 0 0 0 0 0 0 0 \n",
            "0 0 0 0 55 172 226 253 253 253 253 244 133 11 0 0 0 0 0 0 0 0 0 0 0 0 0 0 \n",
            "0 0 0 0 136 253 253 253 212 135 132 16 0 0 0 0 0 0 0 0 0 0 0 0 0 0 0 0 \n",
            "0 0 0 0 0 0 0 0 0 0 0 0 0 0 0 0 0 0 0 0 0 0 0 0 0 0 0 0 \n",
            "0 0 0 0 0 0 0 0 0 0 0 0 0 0 0 0 0 0 0 0 0 0 0 0 0 0 0 0 \n",
            "0 0 0 0 0 0 0 0 0 0 0 0 0 0 0 0 0 0 0 0 0 0 0 0 0 0 0 0 \n"
          ],
          "name": "stdout"
        }
      ]
    },
    {
      "cell_type": "code",
      "metadata": {
        "colab": {
          "base_uri": "https://localhost:8080/"
        },
        "id": "3C2j2Jclu1RQ",
        "outputId": "36b0e746-2cf4-463c-ff39-b5870975ad07"
      },
      "source": [
        "data = \"0\t0\t0\t0\t0\t0\t0\t0\t0\t0\t0\t0\t0\t0\t0\t0\t0\t0\t0\t0\t0\t0\t0\t0\t0\t0\t0\t0\t0\t0\t0\t0\t0\t0\t0\t0\t0\t0\t0\t0\t0\t0\t0\t0\t0\t0\t0\t0\t0\t0\t0\t0\t0\t0\t0\t0\t0\t0\t0\t0\t0\t0\t0\t0\t0\t0\t0\t0\t0\t0\t0\t0\t0\t0\t0\t0\t0\t0\t0\t0\t0\t0\t0\t0\t0\t0\t0\t0\t0\t0\t0\t0\t0\t0\t0\t0\t0\t0\t0\t0\t0\t0\t0\t0\t0\t0\t0\t0\t0\t0\t0\t0\t0\t0\t0\t0\t0\t0\t0\t0\t0\t0\t0\t0\t0\t0\t0\t0\t0\t0\t0\t0\t0\t0\t0\t0\t0\t0\t0\t0\t0\t0\t0\t0\t0\t0\t0\t0\t0\t0\t0\t0\t3\t18\t18\t18\t126\t136\t175\t26\t166\t255\t247\t127\t0\t0\t0\t0\t0\t0\t0\t0\t0\t0\t0\t0\t30\t36\t94\t154\t170\t253\t253\t253\t253\t253\t225\t172\t253\t242\t195\t64\t0\t0\t0\t0\t0\t0\t0\t0\t0\t0\t0\t49\t238\t253\t253\t253\t253\t253\t253\t253\t253\t251\t93\t82\t82\t56\t39\t0\t0\t0\t0\t0\t0\t0\t0\t0\t0\t0\t0\t18\t219\t253\t253\t253\t253\t253\t198\t182\t247\t241\t0\t0\t0\t0\t0\t0\t0\t0\t0\t0\t0\t0\t0\t0\t0\t0\t0\t0\t80\t156\t107\t253\t253\t205\t11\t0\t43\t154\t0\t0\t0\t0\t0\t0\t0\t0\t0\t0\t0\t0\t0\t0\t0\t0\t0\t0\t0\t14\t1\t154\t253\t90\t0\t0\t0\t0\t0\t0\t0\t0\t0\t0\t0\t0\t0\t0\t0\t0\t0\t0\t0\t0\t0\t0\t0\t0\t0\t139\t253\t190\t2\t0\t0\t0\t0\t0\t0\t0\t0\t0\t0\t0\t0\t0\t0\t0\t0\t0\t0\t0\t0\t0\t0\t0\t0\t11\t190\t253\t70\t0\t0\t0\t0\t0\t0\t0\t0\t0\t0\t0\t0\t0\t0\t0\t0\t0\t0\t0\t0\t0\t0\t0\t0\t0\t35\t241\t225\t160\t108\t1\t0\t0\t0\t0\t0\t0\t0\t0\t0\t0\t0\t0\t0\t0\t0\t0\t0\t0\t0\t0\t0\t0\t0\t81\t240\t253\t253\t119\t25\t0\t0\t0\t0\t0\t0\t0\t0\t0\t0\t0\t0\t0\t0\t0\t0\t0\t0\t0\t0\t0\t0\t0\t45\t186\t253\t253\t150\t27\t0\t0\t0\t0\t0\t0\t0\t0\t0\t0\t0\t0\t0\t0\t0\t0\t0\t0\t0\t0\t0\t0\t0\t16\t93\t252\t253\t187\t0\t0\t0\t0\t0\t0\t0\t0\t0\t0\t0\t0\t0\t0\t0\t0\t0\t0\t0\t0\t0\t0\t0\t0\t0\t249\t253\t249\t64\t0\t0\t0\t0\t0\t0\t0\t0\t0\t0\t0\t0\t0\t0\t0\t0\t0\t0\t0\t0\t0\t46\t130\t183\t253\t253\t207\t2\t0\t0\t0\t0\t0\t0\t0\t0\t0\t0\t0\t0\t0\t0\t0\t0\t0\t0\t0\t39\t148\t229\t253\t253\t253\t250\t182\t0\t0\t0\t0\t0\t0\t0\t0\t0\t0\t0\t0\t0\t0\t0\t0\t0\t0\t24\t114\t221\t253\t253\t253\t253\t201\t78\t0\t0\t0\t0\t0\t0\t0\t0\t0\t0\t0\t0\t0\t0\t0\t0\t0\t23\t66\t213\t253\t253\t253\t253\t198\t81\t2\t0\t0\t0\t0\t0\t0\t0\t0\t0\t0\t0\t0\t0\t0\t0\t0\t18\t171\t219\t253\t253\t253\t253\t195\t80\t9\t0\t0\t0\t0\t0\t0\t0\t0\t0\t0\t0\t0\t0\t0\t0\t0\t55\t172\t226\t253\t253\t253\t253\t244\t133\t11\t0\t0\t0\t0\t0\t0\t0\t0\t0\t0\t0\t0\t0\t0\t0\t0\t0\t0\t136\t253\t253\t253\t212\t135\t132\t16\t0\t0\t0\t0\t0\t0\t0\t0\t0\t0\t0\t0\t0\t0\t0\t0\t0\t0\t0\t0\t0\t0\t0\t0\t0\t0\t0\t0\t0\t0\t0\t0\t0\t0\t0\t0\t0\t0\t0\t0\t0\t0\t0\t0\t0\t0\t0\t0\t0\t0\t0\t0\t0\t0\t0\t0\t0\t0\t0\t0\t0\t0\t0\t0\t0\t0\t0\t0\t0\t0\t0\t0\t0\t0\t0\t0\t0\t0\t0\t0\t0\t0\t0\t0\t0\t0\t0\t0\t0\t0\t0\t0\t0\t0\t0\t0\t0\t0\t0\t0\"\r\n",
        "list = data.split()\r\n",
        "cnt = 0\r\n",
        "for i in list:\r\n",
        "  print(\"{:3}\".format(i), end=\" \") #형태가 100의자리\r\n",
        "  cnt += 1\r\n",
        "  if cnt % 28 == 0:\r\n",
        "    print()\r\n",
        "\r\n",
        "#숫자는 이미지의 각 필셀의 값\r\n",
        "#255에 가까울수록 흰색, 0에 가까울수록 검정색"
      ],
      "execution_count": null,
      "outputs": [
        {
          "output_type": "stream",
          "text": [
            "0   0   0   0   0   0   0   0   0   0   0   0   0   0   0   0   0   0   0   0   0   0   0   0   0   0   0   0   \n",
            "0   0   0   0   0   0   0   0   0   0   0   0   0   0   0   0   0   0   0   0   0   0   0   0   0   0   0   0   \n",
            "0   0   0   0   0   0   0   0   0   0   0   0   0   0   0   0   0   0   0   0   0   0   0   0   0   0   0   0   \n",
            "0   0   0   0   0   0   0   0   0   0   0   0   0   0   0   0   0   0   0   0   0   0   0   0   0   0   0   0   \n",
            "0   0   0   0   0   0   0   0   0   0   0   0   0   0   0   0   0   0   0   0   0   0   0   0   0   0   0   0   \n",
            "0   0   0   0   0   0   0   0   0   0   0   0   3   18  18  18  126 136 175 26  166 255 247 127 0   0   0   0   \n",
            "0   0   0   0   0   0   0   0   30  36  94  154 170 253 253 253 253 253 225 172 253 242 195 64  0   0   0   0   \n",
            "0   0   0   0   0   0   0   49  238 253 253 253 253 253 253 253 253 251 93  82  82  56  39  0   0   0   0   0   \n",
            "0   0   0   0   0   0   0   18  219 253 253 253 253 253 198 182 247 241 0   0   0   0   0   0   0   0   0   0   \n",
            "0   0   0   0   0   0   0   0   80  156 107 253 253 205 11  0   43  154 0   0   0   0   0   0   0   0   0   0   \n",
            "0   0   0   0   0   0   0   0   0   14  1   154 253 90  0   0   0   0   0   0   0   0   0   0   0   0   0   0   \n",
            "0   0   0   0   0   0   0   0   0   0   0   139 253 190 2   0   0   0   0   0   0   0   0   0   0   0   0   0   \n",
            "0   0   0   0   0   0   0   0   0   0   0   11  190 253 70  0   0   0   0   0   0   0   0   0   0   0   0   0   \n",
            "0   0   0   0   0   0   0   0   0   0   0   0   35  241 225 160 108 1   0   0   0   0   0   0   0   0   0   0   \n",
            "0   0   0   0   0   0   0   0   0   0   0   0   0   81  240 253 253 119 25  0   0   0   0   0   0   0   0   0   \n",
            "0   0   0   0   0   0   0   0   0   0   0   0   0   0   45  186 253 253 150 27  0   0   0   0   0   0   0   0   \n",
            "0   0   0   0   0   0   0   0   0   0   0   0   0   0   0   16  93  252 253 187 0   0   0   0   0   0   0   0   \n",
            "0   0   0   0   0   0   0   0   0   0   0   0   0   0   0   0   0   249 253 249 64  0   0   0   0   0   0   0   \n",
            "0   0   0   0   0   0   0   0   0   0   0   0   0   0   46  130 183 253 253 207 2   0   0   0   0   0   0   0   \n",
            "0   0   0   0   0   0   0   0   0   0   0   0   39  148 229 253 253 253 250 182 0   0   0   0   0   0   0   0   \n",
            "0   0   0   0   0   0   0   0   0   0   24  114 221 253 253 253 253 201 78  0   0   0   0   0   0   0   0   0   \n",
            "0   0   0   0   0   0   0   0   23  66  213 253 253 253 253 198 81  2   0   0   0   0   0   0   0   0   0   0   \n",
            "0   0   0   0   0   0   18  171 219 253 253 253 253 195 80  9   0   0   0   0   0   0   0   0   0   0   0   0   \n",
            "0   0   0   0   55  172 226 253 253 253 253 244 133 11  0   0   0   0   0   0   0   0   0   0   0   0   0   0   \n",
            "0   0   0   0   136 253 253 253 212 135 132 16  0   0   0   0   0   0   0   0   0   0   0   0   0   0   0   0   \n",
            "0   0   0   0   0   0   0   0   0   0   0   0   0   0   0   0   0   0   0   0   0   0   0   0   0   0   0   0   \n",
            "0   0   0   0   0   0   0   0   0   0   0   0   0   0   0   0   0   0   0   0   0   0   0   0   0   0   0   0   \n",
            "0   0   0   0   0   0   0   0   0   0   0   0   0   0   0   0   0   0   0   0   0   0   0   0   0   0   0   0   \n"
          ],
          "name": "stdout"
        }
      ]
    },
    {
      "cell_type": "code",
      "metadata": {
        "id": "EeOLnrHSvPqw"
      },
      "source": [
        "from sklearn.svm import SVC\r\n",
        "import pandas as pd\r\n",
        "from sklearn.metrics import accuracy_score\r\n",
        "import pickle #학습한 모델 저장"
      ],
      "execution_count": null,
      "outputs": []
    },
    {
      "cell_type": "code",
      "metadata": {
        "id": "7tAsKP_pwSVJ"
      },
      "source": [
        "train = pd.read_csv(\"./mnist/train.csv\")\r\n",
        "test = pd.read_csv(\"./mnist/t10k.csv\")"
      ],
      "execution_count": null,
      "outputs": []
    },
    {
      "cell_type": "code",
      "metadata": {
        "id": "m77j7Yz_wa-o"
      },
      "source": [
        "train_y = train.iloc[:, 0] #모든행, 0번째열\r\n",
        "train_x = train.iloc[:, 1:]\r\n",
        "\r\n",
        "test_y = test.iloc[:, 0] #모든행, 0번째열\r\n",
        "test_x = test.iloc[:, 1:]"
      ],
      "execution_count": null,
      "outputs": []
    },
    {
      "cell_type": "code",
      "metadata": {
        "colab": {
          "base_uri": "https://localhost:8080/"
        },
        "id": "nfP76isTwt_4",
        "outputId": "0342744e-31fc-4b45-af34-dca6ef549f4c"
      },
      "source": [
        "model = SVC()\r\n",
        "model.fit(train_x, train_y)"
      ],
      "execution_count": null,
      "outputs": [
        {
          "output_type": "execute_result",
          "data": {
            "text/plain": [
              "SVC(C=1.0, break_ties=False, cache_size=200, class_weight=None, coef0=0.0,\n",
              "    decision_function_shape='ovr', degree=3, gamma='scale', kernel='rbf',\n",
              "    max_iter=-1, probability=False, random_state=None, shrinking=True,\n",
              "    tol=0.001, verbose=False)"
            ]
          },
          "metadata": {
            "tags": []
          },
          "execution_count": 16
        }
      ]
    },
    {
      "cell_type": "code",
      "metadata": {
        "colab": {
          "base_uri": "https://localhost:8080/"
        },
        "id": "G1J2E91iw0Pn",
        "outputId": "d40282b9-08d4-45fb-c428-413cc4f22601"
      },
      "source": [
        "predict = model.predict(test_x)\r\n",
        "score = accuracy_score(predict, test_y)\r\n",
        "print(score)\r\n",
        "\r\n",
        "#학습용 데이터를 늘리면 성능이 좋아짐"
      ],
      "execution_count": null,
      "outputs": [
        {
          "output_type": "stream",
          "text": [
            "0.884\n"
          ],
          "name": "stdout"
        }
      ]
    },
    {
      "cell_type": "code",
      "metadata": {
        "id": "gjqqIv7dw7r_"
      },
      "source": [
        "#학습한 모델을 파일형태로 저장\r\n",
        "\r\n",
        "f = open(\"./mnist_model.pkl\", \"wb\")\r\n",
        "pickle.dump(model, f)\r\n",
        "f.close()"
      ],
      "execution_count": null,
      "outputs": []
    },
    {
      "cell_type": "code",
      "metadata": {
        "id": "EFICc84Qx4qn"
      },
      "source": [
        "import imageio\r\n",
        "import matplotlib.pyplot as plt\r\n",
        "import tkinter as tk\r\n",
        "from PIL import ImageDraw\r\n",
        "from scipy import ndimage\r\n",
        "import numpy as np\r\n",
        "from PIL import Image\r\n",
        "import warnings\r\n",
        "warnings.filterwarnings(\"ignore\", category=DeprecationWarning)\r\n",
        "import pickle\r\n",
        "\r\n",
        "\r\n",
        "\r\n",
        "#학습한 모델 불러오기\r\n",
        "with open(\"./mnist_model.pkl\", 'rb') as file:\r\n",
        "    model = pickle.load(file)\r\n",
        "\r\n",
        "def crop_img(img_ndarray):\r\n",
        "    first_row = np.nonzero(img_ndarray)[0].min()\r\n",
        "    last_row = np.nonzero(img_ndarray)[0].max()\r\n",
        "    middle_row = np.mean([last_row, first_row])\r\n",
        "    # Across cols\r\n",
        "    first_col = np.nonzero(img_ndarray)[1].min()\r\n",
        "    last_col = np.nonzero(img_ndarray)[1].max()\r\n",
        "    middle_col = np.mean([last_col, first_col])\r\n",
        "    # Crop by longest non-zero to make sure all is kept\r\n",
        "    row_length = last_row - first_row\r\n",
        "    col_length = last_col - first_col\r\n",
        "    length = max(row_length, col_length)\r\n",
        "    # Minimum size of 28x28\r\n",
        "    length = max(length, 28)\r\n",
        "    # Get half length to add to middle point (add some padding: 1px)\r\n",
        "    half_length = (length / 2) + 1\r\n",
        "    # Make sure even the shorter dimension is centered\r\n",
        "    first_row = int(middle_row - half_length)\r\n",
        "    last_row = int(middle_row + half_length)\r\n",
        "    first_col = int(middle_col - half_length)\r\n",
        "    last_col = int(middle_col + half_length)\r\n",
        "    # Crop image\r\n",
        "    return img_ndarray[first_row:last_row, first_col:last_col]\r\n",
        "\r\n",
        "def center_img(img_ndarray):\r\n",
        "    com = ndimage.measurements.center_of_mass(img_ndarray)\r\n",
        "    center = len(img_ndarray) / 2\r\n",
        "    row_diff = int(com[0] - center)\r\n",
        "    col_diff = int(com[1] - center)\r\n",
        "    rows = np.zeros((abs(row_diff), img_ndarray.shape[1]))\r\n",
        "    if row_diff > 0:\r\n",
        "        img_ndarray = np.vstack((img_ndarray, rows))\r\n",
        "    elif row_diff < 0:\r\n",
        "        img_ndarray = np.vstack((rows, img_ndarray))\r\n",
        "    cols = np.zeros((img_ndarray.shape[0], abs(col_diff)))\r\n",
        "    if col_diff > 0:\r\n",
        "        img_ndarray = np.hstack((img_ndarray, cols))\r\n",
        "    elif col_diff < 0:\r\n",
        "        img_ndarray = np.hstack((cols, img_ndarray))\r\n",
        "    dim_diff = img_ndarray.shape[0] - img_ndarray.shape[1]\r\n",
        "    half_A = half_B = abs(int(dim_diff / 2))\r\n",
        "    if dim_diff % 2 != 0:\r\n",
        "        half_B += 1\r\n",
        "    if half_A == 0:  # 1 line off from exactly centered\r\n",
        "        if dim_diff > 0:\r\n",
        "            half_B = np.zeros((img_ndarray.shape[0], half_B))\r\n",
        "            img_ndarray = np.hstack((half_B, img_ndarray))\r\n",
        "        else:\r\n",
        "            half_B = np.zeros((half_B, img_ndarray.shape[1]))\r\n",
        "            img_ndarray = np.vstack((half_B, img_ndarray))\r\n",
        "    elif dim_diff > 0:\r\n",
        "        half_A = np.zeros((img_ndarray.shape[0], half_A))\r\n",
        "        half_B = np.zeros((img_ndarray.shape[0], half_B))\r\n",
        "        img_ndarray = np.hstack((img_ndarray, half_A))\r\n",
        "        img_ndarray = np.hstack((half_B, img_ndarray))\r\n",
        "    else:\r\n",
        "        half_A = np.zeros((half_A, img_ndarray.shape[1]))\r\n",
        "        half_B = np.zeros((half_B, img_ndarray.shape[1]))\r\n",
        "        img_ndarray = np.vstack((img_ndarray, half_A))\r\n",
        "        img_ndarray = np.vstack((half_B, img_ndarray))\r\n",
        "    # Add padding all around (15px of zeros)\r\n",
        "    return np.lib.pad(img_ndarray, 15, 'constant', constant_values=(0))\r\n",
        "\r\n",
        "\r\n",
        "def resize_img(img_ndarray):\r\n",
        "    img = Image.fromarray(img_ndarray)\r\n",
        "    img.thumbnail((28, 28), Image.ANTIALIAS)\r\n",
        "    return np.array(img)\r\n",
        "\r\n",
        "\r\n",
        "def min_max_scaler(img_ndarray, final_range=(0, 1)):\r\n",
        "    px_min = final_range[0]\r\n",
        "    px_max = final_range[1]\r\n",
        "    # Hard code pixel value range\r\n",
        "    img_std = img_ndarray\r\n",
        "    return img_std * (px_max - px_min) + px_min\r\n",
        "\r\n",
        "\r\n",
        "def plot_digit(digit, show=True, file_name=None):\r\n",
        "    plt.imshow(digit, cmap = 'Greys', interpolation = 'none')\r\n",
        "    plt.tick_params(axis='both', which='both', bottom='off', top='off',\r\n",
        "                    labelbottom='off', right='off', left='off', labelleft='off')\r\n",
        "    if file_name is not None:\r\n",
        "        plt.savefig(file_name)\r\n",
        "    if show:\r\n",
        "        plt.show()\r\n",
        "def conver2black(x):\r\n",
        "    return 255-x\r\n",
        "\r\n",
        "def imageprepare(argv):\r\n",
        "    eg_2 = imageio.imread(argv, pilmode=\"1\")\r\n",
        "    index = 0\r\n",
        "    for i in eg_2:\r\n",
        "        eg_2[index] = list(map(conver2black, i))\r\n",
        "        index += 1\r\n",
        "    eg_2 = crop_img(eg_2)\r\n",
        "    eg_2 = center_img(eg_2)\r\n",
        "    eg_2 = resize_img(eg_2)\r\n",
        "    eg_2 = min_max_scaler(eg_2, final_range=(0, 1))\r\n",
        "    # plot_digit(eg_2)\r\n",
        "    eg_2 = eg_2.ravel().tolist()\r\n",
        "    return eg_2\r\n",
        "\r\n",
        "class ImageGenerator:\r\n",
        "    def __init__(self, parent, posx, posy, *kwargs):\r\n",
        "        self.parent = parent\r\n",
        "        self.posx = posx\r\n",
        "        self.posy = posy\r\n",
        "        self.sizex = 250\r\n",
        "        self.sizey = 250\r\n",
        "        self.b1 = \"up\"\r\n",
        "        self.xold = None\r\n",
        "        self.yold = None\r\n",
        "        self.drawing_area = tk.Canvas(self.parent, width=self.sizex, height=self.sizey + 10)\r\n",
        "        self.drawing_area.place(x=self.posx, y=self.posy)\r\n",
        "        self.drawing_area.bind(\"<Motion>\", self.motion)\r\n",
        "        self.drawing_area.bind(\"<ButtonPress-1>\", self.b1down)\r\n",
        "        self.drawing_area.bind(\"<ButtonRelease-1>\", self.save)\r\n",
        "        self.drawing_area.place(x=self.sizex / 7, y=self.sizex / 7)\r\n",
        "\r\n",
        "\r\n",
        "\r\n",
        "\r\n",
        "        self.button1 = tk.Button(self.parent, text=\"Clear!\", width=8, command=self.clear)\r\n",
        "        self.button1.place(x=300, y=self.sizey - 40)\r\n",
        "\r\n",
        "        self.text = tk.Text(self.parent, width=15, height=1)\r\n",
        "        self.text.insert(tk.INSERT, \"예상숫자 : \")\r\n",
        "        self.text.pack()\r\n",
        "        self.text.place(x=90, y=4)\r\n",
        "\r\n",
        "        self.image = Image.new(\"1\", (250, 250), (255))\r\n",
        "        self.draw = ImageDraw.Draw(self.image)\r\n",
        "\r\n",
        "    # def train(self, number):\r\n",
        "    #     x = [imageprepare('./img.png')]\r\n",
        "    #     newArr = []\r\n",
        "    #     for i in range(784):\r\n",
        "    #         newArr.append(x[0][i])\r\n",
        "    #     newArr2 = []\r\n",
        "    #     newArr2.append(newArr)\r\n",
        "    #     newArr2.append(newArr)\r\n",
        "    #\r\n",
        "    #     clf.fit(newArr2, [number, number])\r\n",
        "    #     with open('mnist_classifier.pkl', 'wb') as fid:\r\n",
        "    #         pickle.dump(clf, fid)\r\n",
        "\r\n",
        "\r\n",
        "    def save(self,event):\r\n",
        "        self.b1 = \"up\"\r\n",
        "        self.xold = None\r\n",
        "        self.yold = None\r\n",
        "        filename = \"img.png\"\r\n",
        "        self.image.save(filename)\r\n",
        "        print(\"예상숫자 : \" + str(checkgo()))\r\n",
        "        a = \"예상숫자 : \" + str(checkgo())\r\n",
        "        self.text.delete('1.0', tk.END)\r\n",
        "        self.text.insert(tk.INSERT, a)\r\n",
        "\r\n",
        "    def clear(self):\r\n",
        "        self.drawing_area.delete(\"all\")\r\n",
        "        self.image = Image.new(\"1\", (250, 250), (255))\r\n",
        "        self.draw = ImageDraw.Draw(self.image)\r\n",
        "\r\n",
        "    def b1down(self, event):\r\n",
        "        self.b1 = \"down\"\r\n",
        "\r\n",
        "    def b1up(self, event):\r\n",
        "        self.b1 = \"up\"\r\n",
        "        self.xold = None\r\n",
        "        self.yold = None\r\n",
        "\r\n",
        "    def motion(self, event):\r\n",
        "        if self.b1 == \"down\":\r\n",
        "            if self.xold is not None and self.yold is not None:\r\n",
        "                event.widget.create_line(self.xold, self.yold, event.x, event.y, smooth='true', width=3, fill='blue')\r\n",
        "                self.draw.line(((self.xold, self.yold), (event.x, event.y)), (0), width=10)\r\n",
        "\r\n",
        "        self.xold = event.x\r\n",
        "        self.yold = event.y\r\n",
        "\r\n",
        "\r\n",
        "def check():\r\n",
        "    x = [imageprepare('./img.png')]\r\n",
        "    newArr = []\r\n",
        "    for i in range(784):\r\n",
        "        newArr.append(x[0][i])\r\n",
        "    newArr2 = []\r\n",
        "    newArr2.append(newArr)\r\n",
        "    test_data = newArr2\r\n",
        "\r\n",
        "    result = model.predict(test_data)  # 숫자 예측시키기\r\n",
        "\r\n",
        "    return result[0]\r\n",
        "\r\n",
        "\r\n",
        "def checkgo():\r\n",
        "    # try:\r\n",
        "    a = check()\r\n",
        "    return a\r\n",
        "    # except:\r\n",
        "    #     checkgo()\r\n",
        "\r\n",
        "if __name__ == \"__main__\":\r\n",
        "    root = tk.Tk()\r\n",
        "    root.wm_geometry(\"%dx%d+%d+%d\" % (400, 400, 10, 10))\r\n",
        "    root.config(bg='gray')\r\n",
        "    ImageGenerator(root, 10, 10)\r\n",
        "    root.mainloop()"
      ],
      "execution_count": null,
      "outputs": []
    }
  ]
}