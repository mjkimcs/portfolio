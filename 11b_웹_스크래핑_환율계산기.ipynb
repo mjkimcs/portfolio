{
  "nbformat": 4,
  "nbformat_minor": 0,
  "metadata": {
    "colab": {
      "name": "11b_웹 스크래핑_환율계산기.ipynb",
      "provenance": [],
      "collapsed_sections": [],
      "authorship_tag": "ABX9TyMDWtSVME7XpN/JguuDX6ek",
      "include_colab_link": true
    },
    "kernelspec": {
      "name": "python3",
      "display_name": "Python 3"
    }
  },
  "cells": [
    {
      "cell_type": "markdown",
      "metadata": {
        "id": "view-in-github",
        "colab_type": "text"
      },
      "source": [
        "<a href=\"https://colab.research.google.com/github/mjkimcs/portfolio/blob/main/11b_%EC%9B%B9_%EC%8A%A4%ED%81%AC%EB%9E%98%ED%95%91_%ED%99%98%EC%9C%A8%EA%B3%84%EC%82%B0%EA%B8%B0.ipynb\" target=\"_parent\"><img src=\"https://colab.research.google.com/assets/colab-badge.svg\" alt=\"Open In Colab\"/></a>"
      ]
    },
    {
      "cell_type": "code",
      "metadata": {
        "id": "8AbcuZXdecS2"
      },
      "source": [
        "import urllib.request as req\r\n",
        "from bs4 import BeautifulSoup"
      ],
      "execution_count": null,
      "outputs": []
    },
    {
      "cell_type": "code",
      "metadata": {
        "id": "TFT9ztmReliF"
      },
      "source": [
        "code = req.urlopen(\"https://finance.naver.com/marketindex/\")\r\n",
        "soup = BeautifulSoup(code, \"html.parser\")"
      ],
      "execution_count": null,
      "outputs": []
    },
    {
      "cell_type": "code",
      "metadata": {
        "colab": {
          "base_uri": "https://localhost:8080/"
        },
        "id": "BWuhi_3je6am",
        "outputId": "95a98167-540b-4e5c-f14e-c8eb1624f90e"
      },
      "source": [
        "price = soup.select(\"span.value\")\r\n",
        "print(price)"
      ],
      "execution_count": null,
      "outputs": [
        {
          "output_type": "stream",
          "text": [
            "[<span class=\"value\">1,121.00</span>, <span class=\"value\">1,061.30</span>, <span class=\"value\">1,348.79</span>, <span class=\"value\">173.81</span>, <span class=\"value\">105.4100</span>, <span class=\"value\">1.2049</span>, <span class=\"value\">1.3734</span>, <span class=\"value\">91.0300</span>, <span class=\"value\">56.85</span>, <span class=\"value\">1454.21</span>, <span class=\"value\">1810.9</span>, <span class=\"value\">65193.77</span>]\n"
          ],
          "name": "stdout"
        }
      ]
    },
    {
      "cell_type": "code",
      "metadata": {
        "colab": {
          "base_uri": "https://localhost:8080/"
        },
        "id": "7TUN4qrUfLyF",
        "outputId": "4a3a2631-a67f-45b1-9b1d-a82a99865722"
      },
      "source": [
        "for i in price:\r\n",
        "  print(i.string)"
      ],
      "execution_count": null,
      "outputs": [
        {
          "output_type": "stream",
          "text": [
            "1,121.00\n",
            "1,061.30\n",
            "1,348.79\n",
            "173.81\n",
            "105.4100\n",
            "1.2049\n",
            "1.3734\n",
            "91.0300\n",
            "56.85\n",
            "1454.21\n",
            "1810.9\n",
            "65193.77\n"
          ],
          "name": "stdout"
        }
      ]
    },
    {
      "cell_type": "code",
      "metadata": {
        "colab": {
          "base_uri": "https://localhost:8080/"
        },
        "id": "wSAA97csfQbd",
        "outputId": "79ea8dca-da97-42d8-eefd-25864c0776aa"
      },
      "source": [
        "price = soup.select(\"ul#exchangeList span.value\")\r\n",
        "for i in price:\r\n",
        "  print(i.string)"
      ],
      "execution_count": null,
      "outputs": [
        {
          "output_type": "stream",
          "text": [
            "1,121.00\n",
            "1,061.30\n",
            "1,348.79\n",
            "173.81\n"
          ],
          "name": "stdout"
        }
      ]
    },
    {
      "cell_type": "code",
      "metadata": {
        "colab": {
          "base_uri": "https://localhost:8080/"
        },
        "id": "nDDDuYGxf6O9",
        "outputId": "cdb9daa3-f7c5-45f6-d119-664b4998da25"
      },
      "source": [
        "price = soup.select(\"span.value\")\r\n",
        "cnt = 0\r\n",
        "for i in price:\r\n",
        "  print(i.string)\r\n",
        "  cnt += 1\r\n",
        "  if cnt == 4:\r\n",
        "    break"
      ],
      "execution_count": null,
      "outputs": [
        {
          "output_type": "stream",
          "text": [
            "1,121.00\n",
            "1,061.30\n",
            "1,348.79\n",
            "173.81\n"
          ],
          "name": "stdout"
        }
      ]
    },
    {
      "cell_type": "code",
      "metadata": {
        "colab": {
          "base_uri": "https://localhost:8080/"
        },
        "id": "TI94xlGmgdGV",
        "outputId": "e816a5e6-1856-4e64-a37f-1a992543fa6c"
      },
      "source": [
        "code = req.urlopen(\"https://finance.naver.com/marketindex/\")\r\n",
        "soup = BeautifulSoup(code, \"html.parser\")\r\n",
        "\r\n",
        "def result():\r\n",
        "  money = int(input(\"금액입력(단위:{})>>\".format(unit[int(menu)-1])))\r\n",
        "  price = soup.select(\"span.value\")\r\n",
        "  price = float(price[int(menu)-1].string.replace(\",\", \"\"))\r\n",
        "  print(price*money)\r\n",
        "\r\n",
        "while True:\r\n",
        "  print(\"=== 메뉴 ===\")\r\n",
        "  print(\"1. 미국\")\r\n",
        "  print(\"2. 일본\")\r\n",
        "  print(\"3. 유럽\")\r\n",
        "  print(\"4. 중국\")\r\n",
        "  print(\"5. 종료\")\r\n",
        "  print(\"============\")\r\n",
        "  menu = input(\"선택>>\")\r\n",
        "  unit = [\"달러\", \"엔\", \"유로\", \"위안\"]\r\n",
        "  if menu == \"2\":\r\n",
        "    money /= 100\r\n",
        "    result()\r\n",
        "  elif menu == \"5\":\r\n",
        "    print(\"종료\")\r\n",
        "    break\r\n",
        "  elif menu == \"1\":\r\n",
        "    result()\r\n",
        "  elif menu == \"3\":\r\n",
        "    result()\r\n",
        "  elif menu == \"4\":\r\n",
        "    result()\r\n",
        "  else:\r\n",
        "    print(\"다시 선택해 주세요\")"
      ],
      "execution_count": null,
      "outputs": [
        {
          "output_type": "stream",
          "text": [
            "=== 메뉴 ===\n",
            "1. 미국\n",
            "2. 일본\n",
            "3. 유럽\n",
            "4. 중국\n",
            "5. 종료\n",
            "============\n",
            "선택>>d\n",
            "다시 선택해 주세요\n",
            "=== 메뉴 ===\n",
            "1. 미국\n",
            "2. 일본\n",
            "3. 유럽\n",
            "4. 중국\n",
            "5. 종료\n",
            "============\n",
            "선택>>1\n",
            "금액입력(단위:달러)>>20\n",
            "22420.0\n",
            "=== 메뉴 ===\n",
            "1. 미국\n",
            "2. 일본\n",
            "3. 유럽\n",
            "4. 중국\n",
            "5. 종료\n",
            "============\n",
            "선택>>2\n",
            "금액입력(단위:엔)>>200\n",
            "212260.0\n",
            "=== 메뉴 ===\n",
            "1. 미국\n",
            "2. 일본\n",
            "3. 유럽\n",
            "4. 중국\n",
            "5. 종료\n",
            "============\n",
            "선택>>3\n",
            "금액입력(단위:유로)>>310\n",
            "418124.89999999997\n",
            "=== 메뉴 ===\n",
            "1. 미국\n",
            "2. 일본\n",
            "3. 유럽\n",
            "4. 중국\n",
            "5. 종료\n",
            "============\n",
            "선택>>4\n",
            "금액입력(단위:위안)>>500\n",
            "86905.0\n",
            "=== 메뉴 ===\n",
            "1. 미국\n",
            "2. 일본\n",
            "3. 유럽\n",
            "4. 중국\n",
            "5. 종료\n",
            "============\n",
            "선택>>5\n",
            "종료\n"
          ],
          "name": "stdout"
        }
      ]
    },
    {
      "cell_type": "code",
      "metadata": {
        "colab": {
          "base_uri": "https://localhost:8080/"
        },
        "id": "h3bmUDy5RjSl",
        "outputId": "5c6fcd2e-e5af-4e84-a07b-f9b286063a36"
      },
      "source": [
        "def result():\r\n",
        "    unit = [\"달러\", \"엔\", \"유로\", \"위안\"]\r\n",
        "    user_price = int(input(\"금액 입력(단위:{}) >> \".format(unit[menu - 1])))\r\n",
        "    if menu == 2:\r\n",
        "        user_price /= 100\r\n",
        "    code = req.urlopen(\"https://finance.naver.com/marketindex/\")\r\n",
        "    soup = BeautifulSoup(code, \"html.parser\")\r\n",
        "    price = soup.select(\"span.value\")\r\n",
        "    result = float(price[menu - 1].string.replace(\",\", \"\")) * user_price\r\n",
        "    print(\"환전 결과: {} 원\".format(result))\r\n",
        "\r\n",
        "while True:\r\n",
        "    print(\"==== 국가 선택 ====\")\r\n",
        "    print(\"1. 미국\")\r\n",
        "    print(\"2. 일본\")\r\n",
        "    print(\"3. 유럽\")\r\n",
        "    print(\"4. 중국\")\r\n",
        "    print(\"5. 종료\")\r\n",
        "    menu = input(\"선택 >> \")\r\n",
        "    try:\r\n",
        "        menu = int(menu)\r\n",
        "    except:\r\n",
        "        print(\"숫자를 입력해 주세요.\")\r\n",
        "        continue\r\n",
        "    if 1 <= menu <= 4:\r\n",
        "        result()\r\n",
        "    elif menu == 5:\r\n",
        "        print(\"종료\")\r\n",
        "        break\r\n",
        "    else:\r\n",
        "        print(\"올바른 선택이 아닙니다. 다시 선택해 주세요\")\r\n",
        "        continue"
      ],
      "execution_count": null,
      "outputs": [
        {
          "output_type": "stream",
          "text": [
            "==== 국가 선택 ====\n",
            "1. 미국\n",
            "2. 일본\n",
            "3. 유럽\n",
            "4. 중국\n",
            "5. 종료\n",
            "선택 >> 3\n",
            "금액 입력(단위:유로) >> 300\n",
            "환전 결과: 404585.99999999994 원\n",
            "==== 국가 선택 ====\n",
            "1. 미국\n",
            "2. 일본\n",
            "3. 유럽\n",
            "4. 중국\n",
            "5. 종료\n",
            "선택 >> 2\n",
            "금액 입력(단위:엔) >> 200\n",
            "환전 결과: 2128.7 원\n",
            "==== 국가 선택 ====\n",
            "1. 미국\n",
            "2. 일본\n",
            "3. 유럽\n",
            "4. 중국\n",
            "5. 종료\n",
            "선택 >> 1\n",
            "금액 입력(단위:달러) >> 20\n",
            "환전 결과: 22330.0 원\n",
            "==== 국가 선택 ====\n",
            "1. 미국\n",
            "2. 일본\n",
            "3. 유럽\n",
            "4. 중국\n",
            "5. 종료\n",
            "선택 >> 4\n",
            "금액 입력(단위:위안) >> 50\n",
            "환전 결과: 8669.0 원\n",
            "==== 국가 선택 ====\n",
            "1. 미국\n",
            "2. 일본\n",
            "3. 유럽\n",
            "4. 중국\n",
            "5. 종료\n",
            "선택 >> 6\n",
            "올바른 선택이 아닙니다. 다시 선택해 주세요\n",
            "==== 국가 선택 ====\n",
            "1. 미국\n",
            "2. 일본\n",
            "3. 유럽\n",
            "4. 중국\n",
            "5. 종료\n",
            "선택 >> ㅎ\n",
            "숫자를 입력해 주세요.\n",
            "==== 국가 선택 ====\n",
            "1. 미국\n",
            "2. 일본\n",
            "3. 유럽\n",
            "4. 중국\n",
            "5. 종료\n",
            "선택 >> 5\n",
            "종료\n"
          ],
          "name": "stdout"
        }
      ]
    }
  ]
}