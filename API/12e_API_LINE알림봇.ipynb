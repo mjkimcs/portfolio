{
  "nbformat": 4,
  "nbformat_minor": 0,
  "metadata": {
    "colab": {
      "name": "12e_API_LINE알림봇.ipynb",
      "provenance": [],
      "authorship_tag": "ABX9TyPez/49mPPKmFzJXjoJ4rUi",
      "include_colab_link": true
    },
    "kernelspec": {
      "name": "python3",
      "display_name": "Python 3"
    }
  },
  "cells": [
    {
      "cell_type": "markdown",
      "metadata": {
        "id": "view-in-github",
        "colab_type": "text"
      },
      "source": [
        "<a href=\"https://colab.research.google.com/github/mjkimcs/portfolio/blob/main/12e_API_LINE%EC%95%8C%EB%A6%BC%EB%B4%87.ipynb\" target=\"_parent\"><img src=\"https://colab.research.google.com/assets/colab-badge.svg\" alt=\"Open In Colab\"/></a>"
      ]
    },
    {
      "cell_type": "markdown",
      "metadata": {
        "id": "voxlgaGW7is4"
      },
      "source": [
        "line notify api  \r\n",
        "앱 - 더보기 - 톱니바퀴 - 계정  \r\n",
        "웹 - 마이페이지 - Generate token  \r\n",
        "LINE Notify API Cocument - Notification  "
      ]
    },
    {
      "cell_type": "code",
      "metadata": {
        "id": "c9t69ZcB7iEy"
      },
      "source": [
        "import requests"
      ],
      "execution_count": null,
      "outputs": []
    },
    {
      "cell_type": "code",
      "metadata": {
        "id": "XRKeXer4739n"
      },
      "source": [
        "#1대1알림\r\n",
        "\r\n",
        "api_key = \"I8Fuv6Ua5vBBAtnV01qOqsijkwfdce4GQeQNFjt9HCX\"\r\n",
        "headers = {\"Authorization\" : \"Bearer {}\".format(api_key)}\r\n",
        "data = {\"message\" :\"테스트 톡\"}\r\n",
        "requests.post(\"https://notify-api.line.me/api/notify\", headers=headers, data=data)"
      ],
      "execution_count": null,
      "outputs": []
    },
    {
      "cell_type": "code",
      "metadata": {
        "id": "3yT0nhg67xnQ"
      },
      "source": [
        "#단톡\r\n",
        "\r\n",
        "api_key = \"v5yeBTdhOkj3CmJVKfGVTCmybLT2IXlAauv3wfjHJVh\"\r\n",
        "headers = {\"Authorization\" : \"Bearer {}\".format(api_key)}\r\n",
        "data = {\"message\" :\"테스트 단톡\"}\r\n",
        "requests.post(\"https://notify-api.line.me/api/notify\", headers=headers, data=data)"
      ],
      "execution_count": null,
      "outputs": []
    },
    {
      "cell_type": "code",
      "metadata": {
        "id": "f4Tgw11a79kr"
      },
      "source": [
        "#단톡방에 이미지 전송\r\n",
        "\r\n",
        "import urllib.request as req\r\n",
        "from bs4 import BeautifulSoup\r\n",
        "import requests\r\n",
        "\r\n",
        "code = req.urlopen(\"http://www.cgv.co.kr/movies/\")\r\n",
        "soup = BeautifulSoup(code, \"html.parser\")\r\n",
        "\r\n",
        "title = soup.select(\"div.sect-movie-chart strong.title\")\r\n",
        "poster_img = soup.select(\"span.thumb-image > img\")\r\n",
        "for i in range(len(title)):\r\n",
        "    api_key = \"v5yeBTdhOkj3CmJVKfGVTCmybLT2IXlAauv3wfjHJVh\"\r\n",
        "    headers = {\"Authorization\": \"Bearer {}\".format(api_key)}\r\n",
        "    data = {\"message\" : \"{}위 : {}\".format(i+1, title[i].string),\r\n",
        "            \"imageThumbnail\" : poster_img[i].attrs[\"src\"],\r\n",
        "            \"imageFullsize\" : poster_img[i].attrs[\"src\"]}\r\n",
        "    requests.post(\"https://notify-api.line.me/api/notify\", headers=headers, data=data)"
      ],
      "execution_count": null,
      "outputs": []
    }
  ]
}
