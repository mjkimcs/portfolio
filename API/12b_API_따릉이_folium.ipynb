{
  "nbformat": 4,
  "nbformat_minor": 0,
  "metadata": {
    "colab": {
      "name": "12b_API_따릉이_folium.ipynb",
      "provenance": [],
      "collapsed_sections": [],
      "authorship_tag": "ABX9TyOtamyI+KnrcFvNsngubArC",
      "include_colab_link": true
    },
    "kernelspec": {
      "name": "python3",
      "display_name": "Python 3"
    }
  },
  "cells": [
    {
      "cell_type": "markdown",
      "metadata": {
        "id": "view-in-github",
        "colab_type": "text"
      },
      "source": [
        "<a href=\"https://colab.research.google.com/github/mjkimcs/portfolio/blob/main/12b_API_%EB%94%B0%EB%A6%89%EC%9D%B4_folium.ipynb\" target=\"_parent\"><img src=\"https://colab.research.google.com/assets/colab-badge.svg\" alt=\"Open In Colab\"/></a>"
      ]
    },
    {
      "cell_type": "markdown",
      "metadata": {
        "id": "bO2KZiW9z4jp"
      },
      "source": [
        "http://data.seoul.go.kr/dataList/OA-15493/A/1/datasetView.do  \r\n",
        "인증키 신청  \r\n",
        "https://www.test.com  "
      ]
    },
    {
      "cell_type": "code",
      "metadata": {
        "id": "UCfrpsTOzujr"
      },
      "source": [
        "import requests\r\n",
        "\r\n",
        "api_key = \"484f5a724931316c32396f724f7342\"\r\n",
        "url = \"http://openapi.seoul.go.kr:8088/{}/json/bikeList/1/100/\".format(api_key)\r\n",
        "data = requests.get(url)\r\n",
        "print(data.text)"
      ],
      "execution_count": null,
      "outputs": []
    },
    {
      "cell_type": "code",
      "metadata": {
        "id": "hSnRuXpR2lAT"
      },
      "source": [
        "import json\r\n",
        "\r\n",
        "result = json.loads(data.text)\r\n",
        "print(json.dumps(result, indent=\"\\t\"))"
      ],
      "execution_count": null,
      "outputs": []
    },
    {
      "cell_type": "code",
      "metadata": {
        "id": "u7wVif0Q41tZ"
      },
      "source": [
        "print(result[\"rentBikeStatus\"])"
      ],
      "execution_count": null,
      "outputs": []
    },
    {
      "cell_type": "code",
      "metadata": {
        "id": "3Uvw2b8S5SRJ"
      },
      "source": [
        "print(result[\"rentBikeStatus\"][\"row\"])"
      ],
      "execution_count": null,
      "outputs": []
    },
    {
      "cell_type": "code",
      "metadata": {
        "id": "hoD6GKdP5fB7"
      },
      "source": [
        "#리스트 자료형은 for문과 궁합이 좋음\r\n",
        "rows = result[\"rentBikeStatus\"][\"row\"]\r\n",
        "for i in rows:\r\n",
        "  print(i)"
      ],
      "execution_count": null,
      "outputs": []
    },
    {
      "cell_type": "code",
      "metadata": {
        "id": "CiQ8AWf36NZv"
      },
      "source": [
        "import folium\r\n",
        "\r\n",
        "rows = result[\"rentBikeStatus\"][\"row\"]\r\n",
        "\r\n",
        "lat_sum = 0\r\n",
        "lon_sum = 0\r\n",
        "for i in rows:\r\n",
        "  lat = float(i[\"stationLatitude\"]) #위도\r\n",
        "  lon = float(i[\"stationLongitude\"]) #경도\r\n",
        "  lat_sum += lat\r\n",
        "  lon_sum += lon\r\n",
        "lat_avg = lat_sum/len(rows)\r\n",
        "lon_avg = lon_sum/len(rows)\r\n",
        "\r\n",
        "map = folium.Map(location=[lat_avg, lon_avg], zoom_start=15)\r\n",
        "\r\n",
        "for i in rows:\r\n",
        "  bike_num = int(i[\"parkingBikeTotCnt\"])\r\n",
        "  station_name = i[\"stationName\"]\r\n",
        "  lat = i[\"stationLatitude\"] #위도\r\n",
        "  lon = i[\"stationLongitude\"] #경도\r\n",
        "  if bike_num <3:\r\n",
        "    color = \"red\"\r\n",
        "  elif 3 < bike_num < 7:\r\n",
        "    color = \"green\"\r\n",
        "  elif 7 <= bike_num:\r\n",
        "    color = \"green\" \r\n",
        "  folium.Marker(location=[lt, lon], popup=station_name, tooltip=bike_num, icon=folium.Icon(color=color)).add_to(map)\r\n",
        "map.save(\"./map.html\")\r\n",
        "\r\n",
        "\r\n",
        "#./map.html 자동으로 열기\r\n",
        "import os\r\n",
        "from selenium import webdriver\r\n",
        "\r\n",
        "file_path = os.path.abspath(\"./map.html\") #파일의 절대 경로를 반환\r\n",
        "b = webdriver.Chrome(\"./chromedriver\")\r\n",
        "b.get(file_path) #맥 사용자는 b.get(\"file://\" + file_path)"
      ],
      "execution_count": null,
      "outputs": []
    }
  ]
}
