{
  "nbformat": 4,
  "nbformat_minor": 0,
  "metadata": {
    "colab": {
      "name": "12c_API_파파고.ipynb",
      "provenance": [],
      "collapsed_sections": [],
      "authorship_tag": "ABX9TyOrhSMlIjB809ledVOXXBSn",
      "include_colab_link": true
    },
    "kernelspec": {
      "name": "python3",
      "display_name": "Python 3"
    }
  },
  "cells": [
    {
      "cell_type": "markdown",
      "metadata": {
        "id": "view-in-github",
        "colab_type": "text"
      },
      "source": [
        "<a href=\"https://colab.research.google.com/github/mjkimcs/portfolio/blob/main/12c_API_%ED%8C%8C%ED%8C%8C%EA%B3%A0.ipynb\" target=\"_parent\"><img src=\"https://colab.research.google.com/assets/colab-badge.svg\" alt=\"Open In Colab\"/></a>"
      ]
    },
    {
      "cell_type": "markdown",
      "metadata": {
        "id": "9Zl4B1JDJvLY"
      },
      "source": [
        "https://developers.naver.com/docs/common/openapiguide/  \r\n",
        "비로그인방식 오픈API"
      ]
    },
    {
      "cell_type": "code",
      "metadata": {
        "id": "xC59TkyxJmRx"
      },
      "source": [
        "api_id = \"1dtjfDcnaFtDzlaE5msG\"\r\n",
        "api_pw = \"1vDWU9Lwo0\""
      ],
      "execution_count": null,
      "outputs": []
    },
    {
      "cell_type": "markdown",
      "metadata": {
        "id": "QJV7P-9GLIEP"
      },
      "source": [
        "예제 코드 링크: https://developers.naver.com/docs/nmt/examples/"
      ]
    },
    {
      "cell_type": "code",
      "metadata": {
        "colab": {
          "base_uri": "https://localhost:8080/"
        },
        "id": "JbaZGkLVLO2K",
        "outputId": "8fc5df34-5c3b-4bbe-c994-1ffeaa294a20"
      },
      "source": [
        "import os\r\n",
        "import sys\r\n",
        "import urllib.request\r\n",
        "import json\r\n",
        "\r\n",
        "sentence = input(\"번역할 문장 입력>>\")\r\n",
        "\r\n",
        "api_id = \"1dtjfDcnaFtDzlaE5msG\"\r\n",
        "api_pw = \"1vDWU9Lwo0\"\r\n",
        "\r\n",
        "client_id = api_id\r\n",
        "client_secret = api_pw\r\n",
        "encText = urllib.parse.quote(sentence)\r\n",
        "data = \"source=ko&target=en&text=\" + encText\r\n",
        "url = \"https://openapi.naver.com/v1/papago/n2mt\"\r\n",
        "request = urllib.request.Request(url)\r\n",
        "request.add_header(\"X-Naver-Client-Id\",client_id)\r\n",
        "request.add_header(\"X-Naver-Client-Secret\",client_secret)\r\n",
        "response = urllib.request.urlopen(request, data=data.encode(\"utf-8\"))\r\n",
        "rescode = response.getcode()\r\n",
        "if(rescode==200):\r\n",
        "    response_body = response.read()\r\n",
        "    result = response_body.decode('utf-8')\r\n",
        "    result_dict = json.loads(result) #json -> 딕셔너리\r\n",
        "    print(result_dict[\"message\"][\"result\"][\"translatedText\"])\r\n",
        "else:\r\n",
        "    print(\"Error Code:\" + rescode)"
      ],
      "execution_count": null,
      "outputs": [
        {
          "output_type": "stream",
          "text": [
            "번역할 문장 입력>>반가워\n",
            "Good to see you.\n"
          ],
          "name": "stdout"
        }
      ]
    },
    {
      "cell_type": "code",
      "metadata": {
        "colab": {
          "base_uri": "https://localhost:8080/"
        },
        "id": "mBhjxsHBN-fa",
        "outputId": "45b3c527-5cc3-4e91-e403-b513520eb04c"
      },
      "source": [
        "import urllib.request as req\r\n",
        "from bs4 import BeautifulSoup\r\n",
        "import re\r\n",
        "\r\n",
        "import os\r\n",
        "import sys\r\n",
        "import urllib.request\r\n",
        "import json\r\n",
        "\r\n",
        "keyword = input(\"영어로 키워드 입력 >> \")\r\n",
        "url = \"http://www.koreaherald.com/search/index.php?q={}&sort=1&mode=list&np=1&mp=1\".format(keyword)\r\n",
        "code = req.urlopen(url)\r\n",
        "soup = BeautifulSoup(code, \"html.parser\")\r\n",
        "articles = soup.select(\"ul.main_sec_li > li > a\")\r\n",
        "for i in articles[0:3]:\r\n",
        "  title = i.select_one(\"div.main_l_t1\")\r\n",
        "  print(\"제목: \", title.text)\r\n",
        "  link = \"http://www.koreaherald.com\" + i.attrs[\"href\"]\r\n",
        "  code_2 = req.urlopen(link)\r\n",
        "  soup_2 = BeautifulSoup(code_2, \"html.parser\")\r\n",
        "  contents = soup_2.select_one(\"div#articleText\")\r\n",
        "  result = re.sub(r\"(\\\\[x]..)|(\\r)|(\\n)|(\\t)|(\\(Yonhap\\))\", \"\", contents.text.strip()) #strip(): 앞뒤 공백제거\r\n",
        "  # print(result)\r\n",
        "  # print()\r\n",
        "\r\n",
        "  if len(result) > 5000: #무료API라서 5000자까지만 번역이 가능\r\n",
        "      result = result[0:5000]\r\n",
        "\r\n",
        "  api_id = \"zdSrRqsx3ZIYHZXaIVny\"\r\n",
        "  api_pw = \"2aao0ARARA\"\r\n",
        "\r\n",
        "  client_id = api_id\r\n",
        "  client_secret = api_pw\r\n",
        "  encText = urllib.parse.quote(result)\r\n",
        "  data = \"source=en&target=ko&text=\" + encText #출발언어는 영어, 도착언어는 한국어\r\n",
        "  url = \"https://openapi.naver.com/v1/papago/n2mt\"\r\n",
        "  request = urllib.request.Request(url)\r\n",
        "  request.add_header(\"X-Naver-Client-Id\",client_id)\r\n",
        "  request.add_header(\"X-Naver-Client-Secret\",client_secret)\r\n",
        "  response = urllib.request.urlopen(request, data=data.encode(\"utf-8\"))\r\n",
        "  rescode = response.getcode()\r\n",
        "  if (rescode==200):\r\n",
        "      response_body = response.read()\r\n",
        "      result = response_body.decode('utf-8')\r\n",
        "      result_dict = json.loads(result) #json -> 딕셔너리\r\n",
        "      print(result_dict[\"message\"][\"result\"][\"translatedText\"])\r\n",
        "      print() #개행\r\n",
        "  else:\r\n",
        "      print(\"Error Code:\" + rescode)"
      ],
      "execution_count": null,
      "outputs": [
        {
          "output_type": "stream",
          "text": [
            "영어로 키워드 입력 >> kaist\n",
            "제목:  KAIST to hold online forum with MIT, Tokyo Tech, Northwestern University\n",
            "KAIST 정상회의 포스터(KAIST 공식 홈페이지)국내 유수의 과학기술대학인 한국과학기술원이 코로나19 시대에 산업 분야에서 경쟁력을 확보할 수 있는 방안을 모색하며 다른 유명 대학 3곳과 함께 온라인 포럼을 시작한다. 글로벌 위기 속에서 대학의 역할과 책임이라는 온라인 포럼은 4차 산업혁명 시대 대학들에 영향을 미치는 다양한 이슈들을 담아 26일 생중계된다.KAIST 정상회의는 2시간 동안 KAIST, MIT, 도쿄테크, 노스웨스턴대 총장들을 개최한다. 기조연설자는 신성철 KAIST 총장, 라파엘 레이프 MIT 총장, 가즈야 마스 도쿄테크 총장, 모튼 샤피로 노스웨스턴대 총장 등이다. 기조연설 세션에 이어 '디지털 격차', 'AI의 새로운 도전', '사회적 기업가정신과 대학-산업 협업' 등 3개 주제에 대한 패널 토론에 연사들이 참여한다. 패널 토론에는 4IR 교란이 가져오는 정보격차를 해소하는 데 대학의 역할뿐 아니라 AI와 로봇공학이 안고 있는 윤리적 과제에 대한 심도 있는 대화가 오갈 예정이다. 강력한 산학협력 구축은 4개 대학 모두가 지향하는 핵심 목표 중 하나다. 이후 KAIST 교수진, 직원, 학생, 국내 고등학생 등으로 구성된 온라인 청중이 질의응답 시간을 가질 예정이다.신성철 KAIST 총장은 \"한 가지 확실한 것은 대학이 예전처럼 존재하고 운영될 수 없다는 것\"이라고 말했다. \"4IR이 우리의 일상생활에 침투할 것이기 때문에 대학들이 주도적으로 과감하고 혁신적인 조치를 추구하여 사회와 지속적으로 교류해야 한다\"고 신 총장은 말했다.신 총장은 또 이번 정상회담에서 교육, 연구, 기술사업화, 세계화, 미래전략 등 5개 분야에 대한 KAIST의 전략적 혁신방안을 내놓을 계획이다. KAIST 창립 50주년 기념 온라인 정상회의는 현지시간 26일 오전 10시(화) KAIST 공식 유튜브 채널(https://www.youtube.com/c/KAISTofficial),을 통해 방송된다.김해연님(hykim@heraldcorp.com)\n",
            "\n",
            "제목:  KAIST hopes to revolutionize disease control with mobile clinic module\n",
            "KAIST가 개발한 이동식 클리닉 모듈을 이용해 만든 음압 병동이 서울 한국방사선의학연구원에 보인다.한국과학기술원은 목요일 감염병 퇴치를 위한 음압격리시설 건립을 위한 이동식 진료 모듈을 공개했다. KAIST 산업디자인부장인 남택진 교수팀이 개발한 각 모듈은 다른 모듈에 연결해 필요에 따라 증설할 수 있는 더 큰 시설을 구성할 수 있는 음압유닛이다.KAIST에 따르면 이 모듈은 주로 COVID-19와 같은 전염성 질병의 중간 증상을 보이는 환자들을 수용하여 격리 시설과 병원 사이의 \"교각 센터\" 역할을 하도록 설계되었다. 그러나 모듈은 필요한 경우 중환자실 역할을 하도록 설계되었습니다. KAIST에 따르면 이 모듈들은 신속하게 설치되고 구성될 수 있어 테스트, 격리, 치료 등 다양한 기능을 할 수 있다. KAIST 모바일 클리닉 모듈도 병원 내 영구 음압 병동 설치는 물론 유사 모듈보다 상당히 저렴하고 가볍다. KAIST에 따르면, 병원에 영구적인 음압 병동을 설치하는 데는 최대 50억 원이 들 수 있고, 다른 모듈러 제품을 사용하는 의료진을 위한 시설이 있는 6인 병동을 짓는 데는 약 15억 7천만 원이 들 것이다. 이에 비해 KAIST 모듈을 이용해 비슷한 규모의 상금을 설치하는 데는 약 10억원이 소요될 것으로 추산된다. KAIST의 모듈도 다른 모듈 병동보다 가벼워 6인 병동 22.5톤에 비해 무게가 8.4톤으로 추정된다. (khnews@heraldcorp.com)\n",
            "\n",
            "제목:  Netflix’s ‘Busted!’ to return for final season\n",
            "\"Busted!\"의 출연진이 화요일 온라인 기자 회견에서 말하고 있다. (넷플릭스)넷플릭스 오리지널 미스터리 예능 시리즈 '버스티드!'가 오는 28일 1, 2시즌 모두 출연진이 함께 하는 가운데 세 번째이자 마지막 시즌으로 돌아온다.'버스티드!'는 2018년 처음 공개될 당시 플랫폼에서 진행된 최초의 넷플릭스 오리지널 한국 예능 프로그램이다. 이 쇼는 리얼리티 텔레비전 쇼와 범죄 드라마의 혼합으로, 이 쇼에 출연하는 연예인들은 미스터리를 풀어야 하는 동안 특정한 연기 역할을 맡게 된다.똑똑한 지식인들이 미스터리를 풀 수 있다는 사람들의 선입견, 드라마와 예능을 접목하려는 새로운 시도 등 불확실성과 새로운 요소가 많았다. 그 쇼가 3계절 동안 진행될 수 있을지 궁금했다. 조효진 감독은 \"많은 분들이 좋아해주셔서 여기까지 올 수 있었고, 그 덕분에 감사하다\"고 말했다.유재석, 이승기, 이광수, 김종민, 박민영, 세훈, 세정 등 7명 멤버 전원이 8일 온라인 기자간담회에 참석해 새 시즌을 소개했다. 올 시즌은 첫 시즌에 출연한 이광수와 두 번째 시즌에 합류한 이승기가 함께 출연하는 것이 처음이다. 1, 2시즌 모두 출연했던 배우 안재욱이 방송과 결별했다. 그는 2019년에 음주운전으로 적발되었다.이 쇼는 또한 매 시즌 특별한 카메오들을 특집으로 다루었다. 이번 라운드에서는 배우 송지효, K팝 그룹 엑소의 수호, SF9의 로운이 출연한다.세정은 두 번째 시즌 마지막회가 방송되자마자 SNS에 다음 시즌을 묻는 글을 많이 올려 팬들의 뜨거운 기대감을 느낄 수 있었다고 전했다.이승기는 모두 미리 촬영된 세 번째 시즌이 지금까지 가장 도전적인 시즌임을 입증했다고 말했다. \"시즌 3의 미스터리의 어려움은 웃을 일이 아닙니다,\" 라고 리가 말했습니다. \"저는 이것이 연예인들에게 적합한 어려움이라고 생각하지 않습니다. KAIST와 서울대, 과학고 출신들이 와서 풀어야 한다고 말했다.또 하나의 하이라이트는 멤버 7명의 케미스트리다.\"막내 멤버 세정과 세훈의 유머감각이 이번 시즌에 이 쇼를 빛나게 하는 요인이다. 많은 분들이 많이 기대해 주셨으면 좋겠어요.(유재석)동시에 멤버들은 이번 시즌으로 종영할 것이라는 아쉬움을 드러냈다.유승준은 \"우리 7인방의 케미가 드디어 결실을 맺는 마당에 방송이 끝나가는 것 같아 아쉽다\"고 말했다. 그는 \"넷플릭스와 3시즌 동안 호흡을 맞춘 것은 한국의 다른 프로그램들과 달랐다. 시간을 갖고 더 많은 자유를 가질 수 있다는 사실이 즐거운 경험이었다. 조 감독은 \"앞으로 기회가 된다면 넷플릭스와 계속 협력하고 싶다\"고 말했다.한편, 이 출연진은 생방송 이벤트에서 이 쇼의 개봉을 앞두고 화요일 전 세계 25,000명의 팬들과 온라인에서 만났다. 행사 기간 중 출연진들이 방송을 소개하며 게임을 즐겼고, 14개국 이상 팬들이 \"고마워 'Busted!'라고 말하며 제작한 영상도 상영됐다.임장원님(ljw@heraldcorp.com)\n",
            "\n"
          ],
          "name": "stdout"
        }
      ]
    },
    {
      "cell_type": "markdown",
      "metadata": {
        "id": "tHDfNUvbPDIX"
      },
      "source": [
        "유료버전: Naver Cloud Platform - 서비스 - AI Service - Papago NMT"
      ]
    }
  ]
}
