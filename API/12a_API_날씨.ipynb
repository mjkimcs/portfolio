{
  "nbformat": 4,
  "nbformat_minor": 0,
  "metadata": {
    "colab": {
      "name": "12a_API_날씨.ipynb",
      "provenance": [],
      "authorship_tag": "ABX9TyMB5BtSl20phrZtdq3bGT/4",
      "include_colab_link": true
    },
    "kernelspec": {
      "name": "python3",
      "display_name": "Python 3"
    }
  },
  "cells": [
    {
      "cell_type": "markdown",
      "metadata": {
        "id": "view-in-github",
        "colab_type": "text"
      },
      "source": [
        "<a href=\"https://colab.research.google.com/github/mjkimcs/portfolio/blob/main/12a_API_%EB%82%A0%EC%94%A8.ipynb\" target=\"_parent\"><img src=\"https://colab.research.google.com/assets/colab-badge.svg\" alt=\"Open In Colab\"/></a>"
      ]
    },
    {
      "cell_type": "code",
      "metadata": {
        "colab": {
          "base_uri": "https://localhost:8080/"
        },
        "id": "reW3toLuxK03",
        "outputId": "932a27dd-85ec-44d0-85da-d9a8b2638906"
      },
      "source": [
        "#API: Application(프로그램) Programing(코딩) Interface(연결), 프로그램과 코딩(개발자)을 이어주는 것\r\n",
        "#open weather map - pricing - API keys - Create key - Generate - API - Current Weather Data\r\n",
        "\r\n",
        "import requests #pip install requests\r\n",
        "\r\n",
        "api_key = \"7aec38105e20bfa35426f90f942e8499\"\r\n",
        "url = \"https://api.openweathermap.org/data/2.5/weather?q={}&appid={}\".format(\"Seoul\", api_key)\r\n",
        "data = requests.get(url)\r\n",
        "print(data.text) #.text"
      ],
      "execution_count": null,
      "outputs": [
        {
          "output_type": "stream",
          "text": [
            "{\"coord\":{\"lon\":126.9778,\"lat\":37.5683},\"weather\":[{\"id\":721,\"main\":\"Haze\",\"description\":\"haze\",\"icon\":\"50d\"}],\"base\":\"stations\",\"main\":{\"temp\":286.14,\"feels_like\":282.31,\"temp_min\":285.15,\"temp_max\":287.15,\"pressure\":1024,\"humidity\":40},\"visibility\":4500,\"wind\":{\"speed\":2.57,\"deg\":330},\"clouds\":{\"all\":25},\"dt\":1613108141,\"sys\":{\"type\":1,\"id\":8105,\"country\":\"KR\",\"sunrise\":1613082323,\"sunset\":1613120846},\"timezone\":32400,\"id\":1835848,\"name\":\"Seoul\",\"cod\":200}\n"
          ],
          "name": "stdout"
        }
      ]
    },
    {
      "cell_type": "code",
      "metadata": {
        "colab": {
          "base_uri": "https://localhost:8080/",
          "height": 170
        },
        "id": "w8MJVz6-xcsi",
        "outputId": "93ff45c1-3fc0-411e-8ca3-c924977da339"
      },
      "source": [
        "print(data.text[\"coord\"]) #json 자료형이라서 딕셔너리 자료형으로 변환이 필요"
      ],
      "execution_count": null,
      "outputs": [
        {
          "output_type": "error",
          "ename": "TypeError",
          "evalue": "ignored",
          "traceback": [
            "\u001b[0;31m---------------------------------------------------------------------------\u001b[0m",
            "\u001b[0;31mTypeError\u001b[0m                                 Traceback (most recent call last)",
            "\u001b[0;32m<ipython-input-2-8a92ce036668>\u001b[0m in \u001b[0;36m<module>\u001b[0;34m()\u001b[0m\n\u001b[0;32m----> 1\u001b[0;31m \u001b[0mprint\u001b[0m\u001b[0;34m(\u001b[0m\u001b[0mdata\u001b[0m\u001b[0;34m.\u001b[0m\u001b[0mtext\u001b[0m\u001b[0;34m[\u001b[0m\u001b[0;34m\"coord\"\u001b[0m\u001b[0;34m]\u001b[0m\u001b[0;34m)\u001b[0m\u001b[0;34m\u001b[0m\u001b[0;34m\u001b[0m\u001b[0m\n\u001b[0m",
            "\u001b[0;31mTypeError\u001b[0m: string indices must be integers"
          ]
        }
      ]
    },
    {
      "cell_type": "code",
      "metadata": {
        "colab": {
          "base_uri": "https://localhost:8080/"
        },
        "id": "5oCeHtI3xaA_",
        "outputId": "e734d418-5a9b-4572-b2fc-e03e71ecd366"
      },
      "source": [
        "import json\r\n",
        "\r\n",
        "result = json.loads(data.text) #json 자료형 -> 딕셔너리 자료형으로 변환\r\n",
        "print(\"도시:\", result[\"name\"])\r\n",
        "print(\"현재날씨:\", result[\"weather\"])"
      ],
      "execution_count": null,
      "outputs": [
        {
          "output_type": "stream",
          "text": [
            "도시: Seoul\n",
            "현재날씨: [{'id': 721, 'main': 'Haze', 'description': 'haze', 'icon': '50d'}]\n"
          ],
          "name": "stdout"
        }
      ]
    },
    {
      "cell_type": "code",
      "metadata": {
        "colab": {
          "base_uri": "https://localhost:8080/"
        },
        "id": "uz72RBhsxsot",
        "outputId": "fde06880-8a76-4813-f532-c076b97eec74"
      },
      "source": [
        "print(\"도시:\", result[\"name\"])\r\n",
        "print(\"현재날씨:\", result[\"weather\"][0])"
      ],
      "execution_count": null,
      "outputs": [
        {
          "output_type": "stream",
          "text": [
            "도시: Seoul\n",
            "현재날씨: {'id': 721, 'main': 'Haze', 'description': 'haze', 'icon': '50d'}\n"
          ],
          "name": "stdout"
        }
      ]
    },
    {
      "cell_type": "code",
      "metadata": {
        "colab": {
          "base_uri": "https://localhost:8080/"
        },
        "id": "ewwFBSWfx99u",
        "outputId": "aabeb084-6591-41d9-bce2-573062d47048"
      },
      "source": [
        "print(\"도시:\", result[\"name\"])\r\n",
        "print(\"현재날씨:\", result[\"weather\"][0][\"main\"])"
      ],
      "execution_count": null,
      "outputs": [
        {
          "output_type": "stream",
          "text": [
            "도시: Seoul\n",
            "현재날씨: Haze\n"
          ],
          "name": "stdout"
        }
      ]
    },
    {
      "cell_type": "code",
      "metadata": {
        "colab": {
          "base_uri": "https://localhost:8080/"
        },
        "id": "pPI6ExjwyEsF",
        "outputId": "c2654221-f505-41a4-c8f9-2626f89a8628"
      },
      "source": [
        "print(\"최저기온:\", result[\"main\"][\"temp_min\"])\r\n",
        "print(\"최고기온:\", result[\"main\"][\"temp_max\"])"
      ],
      "execution_count": null,
      "outputs": [
        {
          "output_type": "stream",
          "text": [
            "최저기온: 285.15\n",
            "최고기온: 287.15\n"
          ],
          "name": "stdout"
        }
      ]
    }
  ]
}
