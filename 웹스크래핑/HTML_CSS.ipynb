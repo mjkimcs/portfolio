{
  "nbformat": 4,
  "nbformat_minor": 0,
  "metadata": {
    "colab": {
      "name": "HTML_CSS",
      "provenance": [],
      "collapsed_sections": [],
      "authorship_tag": "ABX9TyNuIADpgzyzqBk4ivWiFQgG",
      "include_colab_link": true
    },
    "kernelspec": {
      "name": "python3",
      "display_name": "Python 3"
    },
    "language_info": {
      "name": "python"
    }
  },
  "cells": [
    {
      "cell_type": "markdown",
      "metadata": {
        "id": "view-in-github",
        "colab_type": "text"
      },
      "source": [
        "<a href=\"https://colab.research.google.com/github/mjkimcs/portfolio/blob/main/HTML_CSS.ipynb\" target=\"_parent\"><img src=\"https://colab.research.google.com/assets/colab-badge.svg\" alt=\"Open In Colab\"/></a>"
      ]
    },
    {
      "cell_type": "code",
      "metadata": {
        "id": "eVBpE6LoViyQ"
      },
      "source": [
        "@charset \"EUC-KR\";\n",
        "p{\n",
        "\tfont-size: xx-Large;\n",
        "\tfont-style: italic;\n",
        "\tcolor: blue;\n",
        "\tbackground-color: yellow;\t\n",
        "}\n",
        "\n",
        ".myclass{\n",
        "\tfont-size: 1.5em;\n",
        "\tcolor: blue;\n",
        "\t\n",
        "}\n",
        "\n",
        "#uclass{\n",
        "\tfont-size: normal;\n",
        "\tcolor: purple;\n",
        "}"
      ],
      "execution_count": null,
      "outputs": []
    },
    {
      "cell_type": "code",
      "metadata": {
        "id": "Nvq3jDy-Vpnd"
      },
      "source": [
        "<!DOCTYPE html>\n",
        "<html>\n",
        "<head>\n",
        "<meta charset=\"EUC-KR\">\n",
        "<title>민정's Web Page!!!</title>\n",
        "\n",
        "<style type=\"text/css\">\n",
        "@import url(\"my.css\");\n",
        "</style>\n",
        "\n",
        "\n",
        "</head>\n",
        "<body>\n",
        "\t<h1> 대문 페이지~~~~~~ by민정 </h1>\n",
        "\t<h2> 대문 페이지~~~~~~ by민정 </h2>\n",
        "\t<h3> 대문 페이지~~~~~~ by민정 </h3>\n",
        "\t<h4> 대문 페이지~~~~~~ by민정 </h4>\n",
        "\t<h5> 대문 페이지~~~~~~ by민정 </h5>\n",
        "\t<h6> 대문 페이지~~~~~~ by민정 </h6>\n",
        "\t<hr width=\"50%\" color=\"green\">\n",
        "\t<pre>\n",
        "Python is an easy to learn, <u>powerful</u> programming language. \n",
        "It has efficient high-level data structures and a simple but effective approach \n",
        "to object-oriented programming. \n",
        "Python’s elegant syntax and dynamic typing, together with its interpreted nature, \n",
        "make it an ideal language for scripting and rapid application development \n",
        "in many areas on most platforms.\n",
        "</pre>\n",
        "\n",
        "Python is an <i>easy</i> to <u>learn</u>, <br> powerful <b>programming</b> language. \n",
        "\n",
        "<p>\n",
        "Python is an easy to learn, <u>powerful</u> programming language. \n",
        "It has efficient high-level data structures and a simple but effective approach \n",
        "to object-oriented programming. \n",
        "</p>\n",
        "\n",
        "<div class = \"myclass\">\n",
        "Python’s elegant syntax and dynamic typing, together with its interpreted nature, \n",
        "</div>\n",
        "\n",
        "<div id = \"uclass\">\n",
        "make it an ideal language for scripting and rapid application development \n",
        "</div>\n",
        "\n",
        "in many areas on most platforms.\n",
        "\n",
        "\n",
        "</body>\n",
        "</html>"
      ],
      "execution_count": null,
      "outputs": []
    },
    {
      "cell_type": "code",
      "metadata": {
        "id": "ccIehcfjVqiW"
      },
      "source": [
        "<!DOCTYPE html>\n",
        "<html>\n",
        "<head>\n",
        "<meta charset=\"utf-8\">\n",
        "<title>민정 웹페이지 연습</title>\n",
        "</head>\n",
        "<body>\n",
        "\n",
        "\t<div>\n",
        "\t\t<!-- 주석 단축키: ctrl + shift + / -->\n",
        "\t\t<!-- 정렬 단축키: ctrl + shift + f -->\n",
        "\t\t<!-- http://localhost:8080/TestWeb/testa.html -->\n",
        "\t\t<!-- http://127.0.0.1:8080/TestWeb/testa.html -->\n",
        "\t\t<form action=\"index.html\" method=\"post\">\n",
        "\t\t\t<label style=\"color: green;\">Input Name : </label> <input type=\"text\" maxlength=\"30\" name=\"myname\"/><br/>\n",
        "\t\t\t<label style=\"color: green;\">Input Password : </label> <input type=\"password\" maxlength=\"30\" name=\"pw\" value=\"123\"/><br/>\n",
        "\t\t\t<input type=\"submit\" value=\"확인\"/><br>\n",
        "\t\t\t<!-- http://127.0.0.1:8080/TestWeb/testa.html?myname=abc&pw=123 -->\n",
        "\t\t\t<!-- QueryString: ?myname=abc&pw=123  -->\n",
        "\t\t\t\n",
        "\t\t\t<label>좋아하는 숫자 1</label> : <input type=\"checkbox\" checked=\"checked\" name=\"num\" value=\"1\"/><br>\n",
        "\t\t\t<label>좋아하는 숫자 2</label> : <input type=\"checkbox\" name=\"num\" value=\"2\"/><br>\n",
        "\t\t\t<label>좋아하는 숫자 3</label><input type=\"checkbox\" name=\"num\" value=\"3\"/><br>\n",
        "\t\t\t<label>좋아하는 숫자 4</label><input type=\"checkbox\" name=\"num\" value=\"4\"/><br>\n",
        "\t\t</form>\n",
        "\t</div>\n",
        "\n",
        "\n",
        "</body>\n",
        "</html>"
      ],
      "execution_count": null,
      "outputs": []
    }
  ]
}
