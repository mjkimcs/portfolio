{
 "cells": [
  {
   "cell_type": "code",
   "execution_count": null,
   "metadata": {
    "_cell_guid": "b1076dfc-b9ad-4769-8c92-a6c4dae69d19",
    "_uuid": "8f2839f25d086af736a60e9eeb907d3b93b6e0e5"
   },
   "outputs": [],
   "source": [
    "import numpy as np\n",
    "import pandas as pd "
   ]
  },
  {
   "cell_type": "code",
   "execution_count": 2,
   "metadata": {},
   "outputs": [],
   "source": [
    "building_df = pd.read_csv(\"./ashrae-energy-prediction/building_metadata.csv\")\n",
    "weather_train = pd.read_csv(\"./ashrae-energy-prediction/weather_train.csv\")\n",
    "train = pd.read_csv(\"./ashrae-energy-prediction/train.csv\")"
   ]
  },
  {
   "cell_type": "code",
   "execution_count": 3,
   "metadata": {},
   "outputs": [],
   "source": [
    "building_df['floor_count'] = building_df['floor_count'].isna()\n",
    "building_df['floor_count'] = np.where((building_df.floor_count == True), 1, building_df.floor_count)\n",
    "building_df['floor_count'] = np.where((building_df.floor_count == False), 0, building_df.floor_count)\n",
    "\n",
    "weather_train = weather_train.groupby('site_id').apply(lambda x: x.interpolate(method='index'))\n",
    "weather_train = weather_train.groupby('site_id').apply(lambda x: x.bfill())\n",
    "weather_train = weather_train.groupby('site_id').apply(lambda x: x.ffill())"
   ]
  },
  {
   "cell_type": "code",
   "execution_count": 4,
   "metadata": {
    "scrolled": true
   },
   "outputs": [],
   "source": [
    "train = train.merge(building_df, left_on = \"building_id\", right_on = \"building_id\", how = \"left\")\n",
    "train = train.merge(weather_train, left_on = [\"site_id\", \"timestamp\"], right_on = [\"site_id\", \"timestamp\"], how = \"left\")\n",
    "\n",
    "del weather_train"
   ]
  },
  {
   "cell_type": "code",
   "execution_count": 5,
   "metadata": {},
   "outputs": [],
   "source": [
    "import math\n",
    "\n",
    "def Vnorth(num):\n",
    "    val = math.cos(math.radians(num))\n",
    "    return val\n",
    "    \n",
    "def Veast(num):\n",
    "    val = math.sin(math.radians(num))\n",
    "    return val\n",
    "\n",
    "train['V_north'] = train['wind_direction'].apply(Vnorth)\n",
    "train['V_north'] = train['V_north']*train['wind_speed']\n",
    "train['V_east'] = train['wind_direction'].apply(Veast)\n",
    "train['V_east'] = train['V_east']*train['wind_speed']"
   ]
  },
  {
   "cell_type": "code",
   "execution_count": 6,
   "metadata": {},
   "outputs": [],
   "source": [
    "train[\"timestamp\"] = pd.to_datetime(train[\"timestamp\"])\n",
    "train[\"hour\"] = train[\"timestamp\"].dt.hour\n",
    "train[\"day\"] = train[\"timestamp\"].dt.day\n",
    "train[\"weekend\"] = train[\"timestamp\"].dt.weekday\n",
    "train[\"month\"] = train[\"timestamp\"].dt.month"
   ]
  },
  {
   "cell_type": "code",
   "execution_count": 7,
   "metadata": {},
   "outputs": [],
   "source": [
    "from pandas.tseries.holiday import USFederalHolidayCalendar as calendar\n",
    "\n",
    "dates_range = pd.date_range(start='2015-12-31', end='2019-01-01')\n",
    "us_holidays = calendar().holidays(start=dates_range.min(), end=dates_range.max())\n",
    "train['is_holiday'] = (train['timestamp'].dt.date.astype('datetime64').isin(us_holidays))\n",
    "# test['is_holiday'] = (test['timestamp'].dt.date.astype('datetime64').isin(us_holidays))"
   ]
  },
  {
   "cell_type": "code",
   "execution_count": 8,
   "metadata": {},
   "outputs": [],
   "source": [
    "train = train.drop(\"timestamp\", axis = 1)\n",
    "train = train[train['building_id'] != 1099]"
   ]
  },
  {
   "cell_type": "code",
   "execution_count": 9,
   "metadata": {},
   "outputs": [],
   "source": [
    "from sklearn.preprocessing import LabelEncoder"
   ]
  },
  {
   "cell_type": "code",
   "execution_count": 10,
   "metadata": {},
   "outputs": [],
   "source": [
    "le = LabelEncoder()\n",
    "train[\"primary_use\"] = le.fit_transform(train[\"primary_use\"])"
   ]
  },
  {
   "cell_type": "code",
   "execution_count": 11,
   "metadata": {},
   "outputs": [],
   "source": [
    "drop_cols = [\"precip_depth_1_hr\", \"sea_level_pressure\", \"wind_direction\", \"wind_speed\"]\n",
    "# drop_cols = [\"building_id\", \"precip_depth_1_hr\", \"sea_level_pressure\", \"wind_direction\", \"wind_speed\"]"
   ]
  },
  {
   "cell_type": "code",
   "execution_count": 12,
   "metadata": {},
   "outputs": [],
   "source": [
    "# categoricals = [\"building_id\", \"primary_use\", \"hour\", \"day\", \"weekend\", \"month\", \"meter\"]\n",
    "# numericals = [\"square_feet\", \"year_built\", \"air_temperature\", \"cloud_coverage\", \"dew_temperature\"]\n",
    "categoricals = [\"building_id\", \"is_holiday\", \"floor_count\", \"primary_use\", \"hour\", \"day\", \"weekend\", \"month\", \"meter\"]\n",
    "numericals = [\"V_north\", \"V_east\", \"square_feet\", \"year_built\", \"air_temperature\", \"cloud_coverage\", \"dew_temperature\"]\n",
    "target = np.log1p(train[\"meter_reading\"])\n",
    "\n",
    "feat_cols = categoricals + numericals\n",
    "\n",
    "del train[\"meter_reading\"]"
   ]
  },
  {
   "cell_type": "code",
   "execution_count": 13,
   "metadata": {},
   "outputs": [],
   "source": [
    "train = train.drop(drop_cols, axis = 1)"
   ]
  },
  {
   "cell_type": "code",
   "execution_count": 14,
   "metadata": {},
   "outputs": [
    {
     "data": {
      "text/plain": [
       "building_id               0\n",
       "meter                     0\n",
       "site_id                   0\n",
       "primary_use               0\n",
       "square_feet               0\n",
       "year_built         12110079\n",
       "floor_count               0\n",
       "air_temperature       90493\n",
       "cloud_coverage       567394\n",
       "dew_temperature       90493\n",
       "V_north               90493\n",
       "V_east                90493\n",
       "hour                      0\n",
       "day                       0\n",
       "weekend                   0\n",
       "month                     0\n",
       "is_holiday                0\n",
       "dtype: int64"
      ]
     },
     "execution_count": 14,
     "metadata": {},
     "output_type": "execute_result"
    }
   ],
   "source": [
    "train.isna().sum()"
   ]
  },
  {
   "cell_type": "code",
   "execution_count": 15,
   "metadata": {},
   "outputs": [],
   "source": [
    "#Based on this great kernel https://www.kaggle.com/arjanso/reducing-dataframe-memory-size-by-65\n",
    "def reduce_mem_usage(df):\n",
    "    start_mem_usg = df.memory_usage().sum() / 1024**2 \n",
    "    print(\"Memory usage of properties dataframe is :\",start_mem_usg,\" MB\")\n",
    "    NAlist = [] # Keeps track of columns that have missing values filled in. \n",
    "    for col in df.columns:\n",
    "        if df[col].dtype != object:  # Exclude strings            \n",
    "            # Print current column type\n",
    "            print(\"******************************\")\n",
    "            print(\"Column: \",col)\n",
    "            print(\"dtype before: \",df[col].dtype)            \n",
    "            # make variables for Int, max and min\n",
    "            IsInt = False\n",
    "            mx = df[col].max()\n",
    "            mn = df[col].min()\n",
    "            print(\"min for this col: \",mn)\n",
    "            print(\"max for this col: \",mx)\n",
    "            # Integer does not support NA, therefore, NA needs to be filled\n",
    "            if not np.isfinite(df[col]).all(): \n",
    "                NAlist.append(col)\n",
    "                df[col].fillna(mn-1,inplace=True)  \n",
    "                   \n",
    "            # test if column can be converted to an integer\n",
    "            asint = df[col].fillna(0).astype(np.int64)\n",
    "            result = (df[col] - asint)\n",
    "            result = result.sum()\n",
    "            if result > -0.01 and result < 0.01:\n",
    "                IsInt = True            \n",
    "            # Make Integer/unsigned Integer datatypes\n",
    "            if IsInt:\n",
    "                if mn >= 0:\n",
    "                    if mx < 255:\n",
    "                        df[col] = df[col].astype(np.uint8)\n",
    "                    elif mx < 65535:\n",
    "                        df[col] = df[col].astype(np.uint16)\n",
    "                    elif mx < 4294967295:\n",
    "                        df[col] = df[col].astype(np.uint32)\n",
    "                    else:\n",
    "                        df[col] = df[col].astype(np.uint64)\n",
    "                else:\n",
    "                    if mn > np.iinfo(np.int8).min and mx < np.iinfo(np.int8).max:\n",
    "                        df[col] = df[col].astype(np.int8)\n",
    "                    elif mn > np.iinfo(np.int16).min and mx < np.iinfo(np.int16).max:\n",
    "                        df[col] = df[col].astype(np.int16)\n",
    "                    elif mn > np.iinfo(np.int32).min and mx < np.iinfo(np.int32).max:\n",
    "                        df[col] = df[col].astype(np.int32)\n",
    "                    elif mn > np.iinfo(np.int64).min and mx < np.iinfo(np.int64).max:\n",
    "                        df[col] = df[col].astype(np.int64)    \n",
    "            # Make float datatypes 32 bit\n",
    "            else:\n",
    "                df[col] = df[col].astype(np.float32)\n",
    "            \n",
    "            # Print new column type\n",
    "            print(\"dtype after: \",df[col].dtype)\n",
    "            print(\"******************************\")\n",
    "    # Print final result\n",
    "    print(\"___MEMORY USAGE AFTER COMPLETION:___\")\n",
    "    mem_usg = df.memory_usage().sum() / 1024**2 \n",
    "    print(\"Memory usage is: \",mem_usg,\" MB\")\n",
    "    print(\"This is \",100*mem_usg/start_mem_usg,\"% of the initial size\")\n",
    "    return df, NAlist"
   ]
  },
  {
   "cell_type": "code",
   "execution_count": 16,
   "metadata": {},
   "outputs": [
    {
     "name": "stdout",
     "output_type": "stream",
     "text": [
      "Memory usage of properties dataframe is : 2484.9041805267334  MB\n",
      "******************************\n",
      "Column:  building_id\n",
      "dtype before:  int64\n",
      "min for this col:  0\n",
      "max for this col:  1448\n",
      "dtype after:  uint16\n",
      "******************************\n",
      "******************************\n",
      "Column:  meter\n",
      "dtype before:  int64\n",
      "min for this col:  0\n",
      "max for this col:  3\n",
      "dtype after:  uint8\n",
      "******************************\n",
      "******************************\n",
      "Column:  site_id\n",
      "dtype before:  int64\n",
      "min for this col:  0\n",
      "max for this col:  15\n",
      "dtype after:  uint8\n",
      "******************************\n",
      "******************************\n",
      "Column:  primary_use\n",
      "dtype before:  int32\n",
      "min for this col:  0\n",
      "max for this col:  15\n",
      "dtype after:  uint8\n",
      "******************************\n",
      "******************************\n",
      "Column:  square_feet\n",
      "dtype before:  int64\n",
      "min for this col:  283\n",
      "max for this col:  875000\n",
      "dtype after:  uint32\n",
      "******************************\n",
      "******************************\n",
      "Column:  year_built\n",
      "dtype before:  float64\n",
      "min for this col:  1900.0\n",
      "max for this col:  2017.0\n",
      "dtype after:  uint16\n",
      "******************************\n",
      "******************************\n",
      "Column:  floor_count\n",
      "dtype before:  int32\n",
      "min for this col:  0\n",
      "max for this col:  1\n",
      "dtype after:  uint8\n",
      "******************************\n",
      "******************************\n",
      "Column:  air_temperature\n",
      "dtype before:  float64\n",
      "min for this col:  -28.9\n",
      "max for this col:  47.2\n",
      "dtype after:  float32\n",
      "******************************\n",
      "******************************\n",
      "Column:  cloud_coverage\n",
      "dtype before:  float64\n",
      "min for this col:  0.0\n",
      "max for this col:  9.0\n",
      "dtype after:  float32\n",
      "******************************\n",
      "******************************\n",
      "Column:  dew_temperature\n",
      "dtype before:  float64\n",
      "min for this col:  -35.0\n",
      "max for this col:  26.1\n",
      "dtype after:  float32\n",
      "******************************\n",
      "******************************\n",
      "Column:  V_north\n",
      "dtype before:  float64\n",
      "min for this col:  -16.249327924701433\n",
      "max for this col:  15.035081932574535\n",
      "dtype after:  float32\n",
      "******************************\n",
      "******************************\n",
      "Column:  V_east\n",
      "dtype before:  float64\n",
      "min for this col:  -18.218943430725847\n",
      "max for this col:  13.53157373931708\n",
      "dtype after:  float32\n",
      "******************************\n",
      "******************************\n",
      "Column:  hour\n",
      "dtype before:  int64\n",
      "min for this col:  0\n",
      "max for this col:  23\n",
      "dtype after:  uint8\n",
      "******************************\n",
      "******************************\n",
      "Column:  day\n",
      "dtype before:  int64\n",
      "min for this col:  1\n",
      "max for this col:  31\n",
      "dtype after:  uint8\n",
      "******************************\n",
      "******************************\n",
      "Column:  weekend\n",
      "dtype before:  int64\n",
      "min for this col:  0\n",
      "max for this col:  6\n",
      "dtype after:  uint8\n",
      "******************************\n",
      "******************************\n",
      "Column:  month\n",
      "dtype before:  int64\n",
      "min for this col:  1\n",
      "max for this col:  12\n",
      "dtype after:  uint8\n",
      "******************************\n",
      "******************************\n",
      "Column:  is_holiday\n",
      "dtype before:  bool\n",
      "min for this col:  False\n",
      "max for this col:  True\n",
      "dtype after:  uint8\n",
      "******************************\n",
      "___MEMORY USAGE AFTER COMPLETION:___\n",
      "Memory usage is:  866.8270397186279  MB\n",
      "This is  34.883720930232556 % of the initial size\n"
     ]
    }
   ],
   "source": [
    "train, NAlist = reduce_mem_usage(train)"
   ]
  },
  {
   "cell_type": "code",
   "execution_count": 17,
   "metadata": {
    "scrolled": false
   },
   "outputs": [
    {
     "name": "stdout",
     "output_type": "stream",
     "text": [
      "20198533 14\n",
      "[LightGBM] [Info] Number of positive: 14659395, number of negative: 1499433\n",
      "[LightGBM] [Warning] Auto-choosing col-wise multi-threading, the overhead of testing was 0.525959 seconds.\n",
      "You can set `force_col_wise=true` to remove the overhead.\n",
      "[LightGBM] [Info] Total Bins 1928\n",
      "[LightGBM] [Info] Number of data points in the train set: 16158828, number of used features: 16\n",
      "[LightGBM] [Info] [binary:BoostFromScore]: pavg=0.907207 -> initscore=2.279994\n",
      "[LightGBM] [Info] Start training from score 2.279994\n",
      "Training until validation scores don't improve for 20 rounds\n",
      "[20]\ttraining's binary_logloss: 0.186405\tvalid_1's binary_logloss: 0.18642\n",
      "[40]\ttraining's binary_logloss: 0.158839\tvalid_1's binary_logloss: 0.158794\n",
      "[60]\ttraining's binary_logloss: 0.148672\tvalid_1's binary_logloss: 0.148646\n",
      "[80]\ttraining's binary_logloss: 0.139912\tvalid_1's binary_logloss: 0.139881\n",
      "[100]\ttraining's binary_logloss: 0.133481\tvalid_1's binary_logloss: 0.133457\n",
      "[120]\ttraining's binary_logloss: 0.127878\tvalid_1's binary_logloss: 0.127843\n",
      "[140]\ttraining's binary_logloss: 0.123562\tvalid_1's binary_logloss: 0.123535\n",
      "[160]\ttraining's binary_logloss: 0.119557\tvalid_1's binary_logloss: 0.11957\n",
      "[180]\ttraining's binary_logloss: 0.116308\tvalid_1's binary_logloss: 0.116346\n",
      "[200]\ttraining's binary_logloss: 0.113609\tvalid_1's binary_logloss: 0.113637\n",
      "[220]\ttraining's binary_logloss: 0.110639\tvalid_1's binary_logloss: 0.110711\n",
      "[240]\ttraining's binary_logloss: 0.108156\tvalid_1's binary_logloss: 0.108208\n",
      "[260]\ttraining's binary_logloss: 0.105827\tvalid_1's binary_logloss: 0.105878\n",
      "[280]\ttraining's binary_logloss: 0.103696\tvalid_1's binary_logloss: 0.10375\n",
      "[300]\ttraining's binary_logloss: 0.101875\tvalid_1's binary_logloss: 0.101943\n",
      "[320]\ttraining's binary_logloss: 0.0999921\tvalid_1's binary_logloss: 0.100091\n",
      "[340]\ttraining's binary_logloss: 0.0979603\tvalid_1's binary_logloss: 0.0981033\n",
      "[360]\ttraining's binary_logloss: 0.0964796\tvalid_1's binary_logloss: 0.0965751\n",
      "[380]\ttraining's binary_logloss: 0.0949754\tvalid_1's binary_logloss: 0.0950728\n",
      "[400]\ttraining's binary_logloss: 0.0938987\tvalid_1's binary_logloss: 0.0940452\n",
      "[420]\ttraining's binary_logloss: 0.0925215\tvalid_1's binary_logloss: 0.0926634\n",
      "[440]\ttraining's binary_logloss: 0.0915498\tvalid_1's binary_logloss: 0.0917244\n",
      "[460]\ttraining's binary_logloss: 0.0902475\tvalid_1's binary_logloss: 0.0904247\n",
      "[480]\ttraining's binary_logloss: 0.0893452\tvalid_1's binary_logloss: 0.0895521\n",
      "[500]\ttraining's binary_logloss: 0.0880346\tvalid_1's binary_logloss: 0.0882311\n",
      "[520]\ttraining's binary_logloss: 0.087384\tvalid_1's binary_logloss: 0.087525\n",
      "[540]\ttraining's binary_logloss: 0.0864063\tvalid_1's binary_logloss: 0.0865864\n",
      "[560]\ttraining's binary_logloss: 0.0854241\tvalid_1's binary_logloss: 0.0855873\n",
      "[580]\ttraining's binary_logloss: 0.0847181\tvalid_1's binary_logloss: 0.0849765\n",
      "[600]\ttraining's binary_logloss: 0.0839513\tvalid_1's binary_logloss: 0.0842508\n",
      "[620]\ttraining's binary_logloss: 0.0833507\tvalid_1's binary_logloss: 0.0836221\n",
      "[640]\ttraining's binary_logloss: 0.0824225\tvalid_1's binary_logloss: 0.0825984\n",
      "[660]\ttraining's binary_logloss: 0.0818433\tvalid_1's binary_logloss: 0.0820926\n",
      "[680]\ttraining's binary_logloss: 0.0806805\tvalid_1's binary_logloss: 0.0809496\n",
      "[700]\ttraining's binary_logloss: 0.07991\tvalid_1's binary_logloss: 0.0803183\n",
      "[720]\ttraining's binary_logloss: 0.0793013\tvalid_1's binary_logloss: 0.0796686\n",
      "[740]\ttraining's binary_logloss: 0.0791066\tvalid_1's binary_logloss: 0.0795632\n",
      "[760]\ttraining's binary_logloss: 0.0785552\tvalid_1's binary_logloss: 0.078999\n",
      "[780]\ttraining's binary_logloss: 0.0778752\tvalid_1's binary_logloss: 0.0783387\n",
      "[800]\ttraining's binary_logloss: 0.0772241\tvalid_1's binary_logloss: 0.0777021\n",
      "[820]\ttraining's binary_logloss: 0.0768366\tvalid_1's binary_logloss: 0.0774126\n",
      "[840]\ttraining's binary_logloss: 0.0763023\tvalid_1's binary_logloss: 0.0768034\n",
      "[860]\ttraining's binary_logloss: 0.0757465\tvalid_1's binary_logloss: 0.0763345\n",
      "[880]\ttraining's binary_logloss: 0.0774975\tvalid_1's binary_logloss: 0.077769\n",
      "[900]\ttraining's binary_logloss: 0.0746463\tvalid_1's binary_logloss: 0.0751537\n",
      "[920]\ttraining's binary_logloss: 0.0757379\tvalid_1's binary_logloss: 0.0764283\n",
      "[940]\ttraining's binary_logloss: 0.0740372\tvalid_1's binary_logloss: 0.0746274\n",
      "[960]\ttraining's binary_logloss: 0.0738268\tvalid_1's binary_logloss: 0.0744298\n",
      "[980]\ttraining's binary_logloss: 0.073931\tvalid_1's binary_logloss: 0.0745369\n",
      "[1000]\ttraining's binary_logloss: 0.0729346\tvalid_1's binary_logloss: 0.0736526\n",
      "[1020]\ttraining's binary_logloss: 0.072738\tvalid_1's binary_logloss: 0.0734732\n",
      "[1040]\ttraining's binary_logloss: 0.0724353\tvalid_1's binary_logloss: 0.0732622\n",
      "Early stopping, best iteration is:\n",
      "[1038]\ttraining's binary_logloss: 0.0723455\tvalid_1's binary_logloss: 0.0731278\n",
      "[LightGBM] [Warning] Auto-choosing row-wise multi-threading, the overhead of testing was 0.258931 seconds.\n",
      "You can set `force_row_wise=true` to remove the overhead.\n",
      "And if memory is not enough, you can set `force_col_wise=true`.\n",
      "[LightGBM] [Info] Total Bins 1927\n",
      "[LightGBM] [Info] Number of data points in the train set: 14659395, number of used features: 16\n",
      "[LightGBM] [Info] Start training from score 4.565413\n",
      "Training until validation scores don't improve for 20 rounds\n",
      "[20]\ttraining's rmse: 0.885239\tvalid_1's rmse: 0.88625\n",
      "[40]\ttraining's rmse: 0.780391\tvalid_1's rmse: 0.781345\n",
      "[60]\ttraining's rmse: 0.7212\tvalid_1's rmse: 0.722292\n",
      "[80]\ttraining's rmse: 0.678653\tvalid_1's rmse: 0.679824\n",
      "[100]\ttraining's rmse: 0.649528\tvalid_1's rmse: 0.650697\n",
      "[120]\ttraining's rmse: 0.619144\tvalid_1's rmse: 0.620454\n",
      "[140]\ttraining's rmse: 0.60099\tvalid_1's rmse: 0.602553\n",
      "[160]\ttraining's rmse: 0.584762\tvalid_1's rmse: 0.58646\n",
      "[180]\ttraining's rmse: 0.571719\tvalid_1's rmse: 0.573358\n",
      "[200]\ttraining's rmse: 0.558769\tvalid_1's rmse: 0.56043\n",
      "[220]\ttraining's rmse: 0.55196\tvalid_1's rmse: 0.553697\n",
      "[240]\ttraining's rmse: 0.54253\tvalid_1's rmse: 0.544291\n",
      "[260]\ttraining's rmse: 0.53542\tvalid_1's rmse: 0.537177\n",
      "[280]\ttraining's rmse: 0.526868\tvalid_1's rmse: 0.52875\n",
      "[300]\ttraining's rmse: 0.520309\tvalid_1's rmse: 0.522351\n",
      "[320]\ttraining's rmse: 0.513393\tvalid_1's rmse: 0.515521\n",
      "[340]\ttraining's rmse: 0.506549\tvalid_1's rmse: 0.508656\n",
      "[360]\ttraining's rmse: 0.501837\tvalid_1's rmse: 0.504029\n",
      "[380]\ttraining's rmse: 0.496461\tvalid_1's rmse: 0.498659\n",
      "[400]\ttraining's rmse: 0.492142\tvalid_1's rmse: 0.494472\n",
      "[420]\ttraining's rmse: 0.487314\tvalid_1's rmse: 0.489721\n",
      "[440]\ttraining's rmse: 0.483251\tvalid_1's rmse: 0.485655\n",
      "[460]\ttraining's rmse: 0.478793\tvalid_1's rmse: 0.481316\n",
      "[480]\ttraining's rmse: 0.475691\tvalid_1's rmse: 0.478322\n",
      "[500]\ttraining's rmse: 0.472519\tvalid_1's rmse: 0.4752\n",
      "[520]\ttraining's rmse: 0.468513\tvalid_1's rmse: 0.471256\n",
      "[540]\ttraining's rmse: 0.46536\tvalid_1's rmse: 0.468222\n",
      "[560]\ttraining's rmse: 0.462925\tvalid_1's rmse: 0.46584\n",
      "[580]\ttraining's rmse: 0.460459\tvalid_1's rmse: 0.463481\n",
      "[600]\ttraining's rmse: 0.45801\tvalid_1's rmse: 0.461063\n",
      "[620]\ttraining's rmse: 0.454153\tvalid_1's rmse: 0.457289\n",
      "[640]\ttraining's rmse: 0.451151\tvalid_1's rmse: 0.454419\n",
      "[660]\ttraining's rmse: 0.448502\tvalid_1's rmse: 0.451902\n",
      "[680]\ttraining's rmse: 0.446471\tvalid_1's rmse: 0.449937\n",
      "[700]\ttraining's rmse: 0.444236\tvalid_1's rmse: 0.447773\n",
      "[720]\ttraining's rmse: 0.442277\tvalid_1's rmse: 0.445904\n",
      "[740]\ttraining's rmse: 0.440359\tvalid_1's rmse: 0.444051\n",
      "[760]\ttraining's rmse: 0.438479\tvalid_1's rmse: 0.442223\n",
      "[780]\ttraining's rmse: 0.436476\tvalid_1's rmse: 0.44031\n",
      "[800]\ttraining's rmse: 0.434875\tvalid_1's rmse: 0.438773\n",
      "[820]\ttraining's rmse: 0.433643\tvalid_1's rmse: 0.43766\n",
      "[840]\ttraining's rmse: 0.431564\tvalid_1's rmse: 0.435628\n",
      "[860]\ttraining's rmse: 0.429801\tvalid_1's rmse: 0.433969\n",
      "[880]\ttraining's rmse: 0.428172\tvalid_1's rmse: 0.432448\n",
      "[900]\ttraining's rmse: 0.426737\tvalid_1's rmse: 0.43106\n",
      "[920]\ttraining's rmse: 0.425045\tvalid_1's rmse: 0.429459\n",
      "[940]\ttraining's rmse: 0.423466\tvalid_1's rmse: 0.427931\n",
      "[960]\ttraining's rmse: 0.421842\tvalid_1's rmse: 0.426423\n",
      "[980]\ttraining's rmse: 0.420476\tvalid_1's rmse: 0.425123\n",
      "[1000]\ttraining's rmse: 0.419279\tvalid_1's rmse: 0.424009\n",
      "[1020]\ttraining's rmse: 0.417819\tvalid_1's rmse: 0.422612\n",
      "[1040]\ttraining's rmse: 0.416575\tvalid_1's rmse: 0.421421\n",
      "[1060]\ttraining's rmse: 0.41543\tvalid_1's rmse: 0.420338\n"
     ]
    },
    {
     "name": "stdout",
     "output_type": "stream",
     "text": [
      "[1080]\ttraining's rmse: 0.413982\tvalid_1's rmse: 0.418921\n",
      "[1100]\ttraining's rmse: 0.412546\tvalid_1's rmse: 0.417556\n",
      "[1120]\ttraining's rmse: 0.411404\tvalid_1's rmse: 0.416493\n",
      "[1140]\ttraining's rmse: 0.41043\tvalid_1's rmse: 0.415601\n",
      "[1160]\ttraining's rmse: 0.409098\tvalid_1's rmse: 0.414403\n",
      "[1180]\ttraining's rmse: 0.407725\tvalid_1's rmse: 0.413168\n",
      "[1200]\ttraining's rmse: 0.40664\tvalid_1's rmse: 0.412198\n",
      "[1220]\ttraining's rmse: 0.405762\tvalid_1's rmse: 0.411382\n",
      "[1240]\ttraining's rmse: 0.404497\tvalid_1's rmse: 0.410157\n",
      "[1260]\ttraining's rmse: 0.403441\tvalid_1's rmse: 0.40918\n",
      "[1280]\ttraining's rmse: 0.402355\tvalid_1's rmse: 0.408187\n",
      "[1300]\ttraining's rmse: 0.401154\tvalid_1's rmse: 0.407058\n",
      "[1320]\ttraining's rmse: 0.400053\tvalid_1's rmse: 0.40605\n",
      "[1340]\ttraining's rmse: 0.399076\tvalid_1's rmse: 0.405164\n",
      "[1360]\ttraining's rmse: 0.398033\tvalid_1's rmse: 0.404206\n",
      "[1380]\ttraining's rmse: 0.39706\tvalid_1's rmse: 0.403316\n",
      "[1400]\ttraining's rmse: 0.396026\tvalid_1's rmse: 0.402348\n",
      "[1420]\ttraining's rmse: 0.395099\tvalid_1's rmse: 0.401501\n",
      "[1440]\ttraining's rmse: 0.393962\tvalid_1's rmse: 0.400456\n",
      "[1460]\ttraining's rmse: 0.393096\tvalid_1's rmse: 0.399608\n",
      "[1480]\ttraining's rmse: 0.39215\tvalid_1's rmse: 0.398769\n",
      "[1500]\ttraining's rmse: 0.391227\tvalid_1's rmse: 0.397936\n",
      "[1520]\ttraining's rmse: 0.390391\tvalid_1's rmse: 0.397187\n",
      "[1540]\ttraining's rmse: 0.389068\tvalid_1's rmse: 0.395913\n",
      "[1560]\ttraining's rmse: 0.388022\tvalid_1's rmse: 0.394914\n",
      "[1580]\ttraining's rmse: 0.387242\tvalid_1's rmse: 0.394205\n",
      "[1600]\ttraining's rmse: 0.386421\tvalid_1's rmse: 0.393435\n",
      "[1620]\ttraining's rmse: 0.385631\tvalid_1's rmse: 0.392755\n",
      "[1640]\ttraining's rmse: 0.384908\tvalid_1's rmse: 0.392151\n",
      "[1660]\ttraining's rmse: 0.384247\tvalid_1's rmse: 0.391572\n",
      "[1680]\ttraining's rmse: 0.383472\tvalid_1's rmse: 0.390882\n",
      "[1700]\ttraining's rmse: 0.382587\tvalid_1's rmse: 0.390049\n",
      "[1720]\ttraining's rmse: 0.38165\tvalid_1's rmse: 0.389152\n",
      "[1740]\ttraining's rmse: 0.381009\tvalid_1's rmse: 0.388575\n",
      "[1760]\ttraining's rmse: 0.380433\tvalid_1's rmse: 0.388025\n",
      "[1780]\ttraining's rmse: 0.379823\tvalid_1's rmse: 0.38749\n",
      "[1800]\ttraining's rmse: 0.379133\tvalid_1's rmse: 0.3869\n",
      "[1820]\ttraining's rmse: 0.378671\tvalid_1's rmse: 0.386508\n",
      "[1840]\ttraining's rmse: 0.377685\tvalid_1's rmse: 0.385617\n",
      "[1860]\ttraining's rmse: 0.377047\tvalid_1's rmse: 0.385033\n",
      "[1880]\ttraining's rmse: 0.376446\tvalid_1's rmse: 0.384509\n",
      "[1900]\ttraining's rmse: 0.375816\tvalid_1's rmse: 0.383959\n",
      "[1920]\ttraining's rmse: 0.375099\tvalid_1's rmse: 0.383358\n",
      "[1940]\ttraining's rmse: 0.374521\tvalid_1's rmse: 0.382865\n",
      "[1960]\ttraining's rmse: 0.373965\tvalid_1's rmse: 0.382441\n",
      "[1980]\ttraining's rmse: 0.37335\tvalid_1's rmse: 0.381918\n",
      "[2000]\ttraining's rmse: 0.372667\tvalid_1's rmse: 0.381352\n",
      "Did not meet early stopping. Best iteration is:\n",
      "[2000]\ttraining's rmse: 0.372667\tvalid_1's rmse: 0.381352\n",
      "0.7550525250222256\n",
      "0.15101050500444513\n"
     ]
    }
   ],
   "source": [
    "from sklearn.model_selection import KFold\n",
    "from sklearn.metrics import mean_squared_error\n",
    "import lightgbm as lgb\n",
    "num_folds = 5\n",
    "kf = KFold(n_splits = num_folds, shuffle = True, random_state = 7)\n",
    "error = 0\n",
    "models = []\n",
    "for i, (train_index, val_index) in enumerate(kf.split(train)):\n",
    "    if i + 1 < num_folds:\n",
    "        continue\n",
    "    print(train_index.max(), val_index.min())\n",
    "    train_X = train[feat_cols].iloc[train_index]\n",
    "    val_X = train[feat_cols].iloc[val_index]\n",
    "    train_y = target.iloc[train_index]\n",
    "    val_y = target.iloc[val_index]\n",
    "    lgb_train = lgb.Dataset(train_X, train_y > 0)\n",
    "    lgb_eval = lgb.Dataset(val_X, val_y > 0)\n",
    "    params = {\n",
    "            'boosting_type': 'gbdt',\n",
    "            'objective': 'binary',\n",
    "            'metric': {'binary_logloss'},\n",
    "            'learning_rate': 0.1,\n",
    "            'feature_fraction': 0.8,\n",
    "            'bagging_fraction': 0.8,\n",
    "            'bagging_freq' : 5\n",
    "            }\n",
    "    gbm_class = lgb.train(params,\n",
    "                lgb_train,\n",
    "                num_boost_round=2000, # num_iterations\n",
    "                valid_sets=(lgb_train, lgb_eval),\n",
    "               early_stopping_rounds=20,\n",
    "               verbose_eval = 20) # 20\n",
    "    \n",
    "    lgb_train = lgb.Dataset(train_X[train_y > 0], train_y[train_y > 0])\n",
    "    lgb_eval = lgb.Dataset(val_X[val_y > 0] , val_y[val_y > 0])\n",
    "    params = {\n",
    "            'boosting_type': 'gbdt',\n",
    "            'objective': 'regression',\n",
    "            'metric': {'rmse'},\n",
    "            'learning_rate': 0.5,\n",
    "            'feature_fraction': 0.8,\n",
    "            'bagging_fraction': 0.8,\n",
    "            'bagging_freq' : 5\n",
    "            }\n",
    "    gbm_regress = lgb.train(params,\n",
    "                lgb_train,\n",
    "                num_boost_round=2000,\n",
    "                valid_sets=(lgb_train, lgb_eval),\n",
    "               early_stopping_rounds=20,\n",
    "               verbose_eval = 20)\n",
    "#     models.append(gbm)\n",
    "\n",
    "    y_pred = (gbm_class.predict(val_X, num_iteration=gbm_class.best_iteration) > .5) *\\\n",
    "    (gbm_regress.predict(val_X, num_iteration=gbm_regress.best_iteration))\n",
    "    error += np.sqrt(mean_squared_error(y_pred, (val_y)))/num_folds\n",
    "    print(np.sqrt(mean_squared_error(y_pred, (val_y))))\n",
    "    break\n",
    "print(error)"
   ]
  },
  {
   "cell_type": "code",
   "execution_count": 18,
   "metadata": {
    "scrolled": false
   },
   "outputs": [
    {
     "data": {
      "image/png": "[encoded data removed]",
      "text/plain": [
       "<Figure size 792x648 with 1 Axes>"
      ]
     },
     "metadata": {
      "needs_background": "light"
     },
     "output_type": "display_data"
    }
   ],
   "source": [
    "from matplotlib import pyplot as plt\n",
    "plt.figure(figsize=(11,9))\n",
    "x_values = [i for i in range(20,2001,20)]\n",
    "y_values_1 = [0.897009,0.777346,0.713458,0.668537,0.63438,0.611755,0.594055,0.576776,0.562838,0.551686,0.539857,0.530573,0.52117,0.516004,0.509245,0.504465,0.498596,0.493409,0.487495,0.483388,0.478268,0.474172,0.470762,0.467849,0.464406,0.461219,0.457974,0.455496,0.452448,0.44961,0.446688,0.44451,0.442377,0.440256,0.437991,0.435535,0.433762,0.431893,0.429683,0.428414,0.426919,0.425319,0.423994,0.422442,0.420888,0.419593,0.418116,0.416581,0.414903,0.413644,0.411996,0.410634,0.409278,0.408215,0.406897,0.405866,0.404439,0.402848,0.401826,0.400571,0.399451,0.398328,0.397413,0.396543,0.395519,0.394441,0.393431,0.392451,0.391441,0.39066,0.389697,0.388668,0.387719,0.386661,0.385936,0.385143,0.384223,0.383365,0.382471,0.381738,0.381031,0.380382,0.379634,0.378901,0.378255,0.377531,0.376816,0.376236,0.375716,0.374977,0.374389,0.373673,0.372999,0.372287,0.371654,0.371036,0.370444,0.369796,0.369141, 0.368227]\n",
    "y_values_2 = [0.896388,0.77701,0.713173,0.668348,0.634398,0.612173,0.594536,0.577257,0.563599,0.552613,0.540807,0.531643,0.522115,0.517057,0.510466,0.505709,0.499754,0.494578,0.488844,0.48481,0.479704,0.475637,0.472248,0.469397,0.465997,0.462853,0.45963,0.457169,0.454191,0.451432,0.448592,0.446554,0.444546,0.44249,0.440381,0.437951,0.436223,0.434446,0.432349,0.431115,0.429649,0.428128,0.426855,0.425312,0.423837,0.422608,0.421228,0.419739,0.418061,0.416876,0.415302,0.414045,0.41278,0.411786,0.410513,0.40955,0.408203,0.406684,0.405728,0.404495,0.403484,0.402448,0.401589,0.400778,0.399837,0.398814,0.397857,0.396957,0.396063,0.395311,0.394437,0.393494,0.392672,0.391671,0.391067,0.390279,0.389452,0.388689,0.387862,0.387169,0.386518,0.38591,0.385228,0.384569,0.383954,0.383314,0.38261,0.382064,0.381574,0.380897,0.380336,0.379672,0.379054,0.378438,0.377854,0.37729,0.376766,0.376178,0.375607,0.374773]\n",
    "plt.plot(x_values, y_values_1, label='Training Error')\n",
    "plt.plot(x_values, y_values_2, label='Validation Error')\n",
    "plt.legend(loc='upper right')\n",
    "plt.show()"
   ]
  },
  {
   "cell_type": "code",
   "execution_count": 19,
   "metadata": {},
   "outputs": [
    {
     "data": {
      "text/plain": [
       "[(10028, 'building_id'),\n",
       " (9810, 'square_feet'),\n",
       " (5706, 'month'),\n",
       " (5233, 'hour'),\n",
       " (4890, 'meter'),\n",
       " (4521, 'air_temperature'),\n",
       " (3447, 'dew_temperature'),\n",
       " (3438, 'year_built'),\n",
       " (3385, 'primary_use'),\n",
       " (3164, 'day'),\n",
       " (2277, 'weekend'),\n",
       " (1286, 'cloud_coverage'),\n",
       " (1075, 'V_east'),\n",
       " (989, 'V_north'),\n",
       " (551, 'floor_count'),\n",
       " (200, 'is_holiday')]"
      ]
     },
     "execution_count": 19,
     "metadata": {},
     "output_type": "execute_result"
    }
   ],
   "source": [
    "sorted(zip(gbm_regress.feature_importance(), gbm_regress.feature_name()),reverse = True)"
   ]
  },
  {
   "cell_type": "code",
   "execution_count": 20,
   "metadata": {},
   "outputs": [],
   "source": [
    "import gc\n",
    "del train"
   ]
  },
  {
   "cell_type": "code",
   "execution_count": 21,
   "metadata": {},
   "outputs": [],
   "source": [
    "del train_X, val_X, lgb_train, lgb_eval, train_y, val_y, y_pred, target"
   ]
  },
  {
   "cell_type": "code",
   "execution_count": 22,
   "metadata": {},
   "outputs": [
    {
     "data": {
      "text/plain": [
       "3292"
      ]
     },
     "execution_count": 22,
     "metadata": {},
     "output_type": "execute_result"
    }
   ],
   "source": [
    "gc.collect()"
   ]
  },
  {
   "cell_type": "code",
   "execution_count": 23,
   "metadata": {},
   "outputs": [
    {
     "data": {
      "text/plain": [
       "0"
      ]
     },
     "execution_count": 23,
     "metadata": {},
     "output_type": "execute_result"
    }
   ],
   "source": [
    "#preparing test data\n",
    "test = pd.read_csv(\"./ashrae-energy-prediction/test.csv\")\n",
    "# test, NAlist = reduce_mem_usage(test)\n",
    "test = test.merge(building_df, left_on = \"building_id\", right_on = \"building_id\", how = \"left\")\n",
    "del building_df\n",
    "gc.collect()"
   ]
  },
  {
   "cell_type": "code",
   "execution_count": 24,
   "metadata": {},
   "outputs": [],
   "source": [
    "test[\"primary_use\"] = le.transform(test[\"primary_use\"])"
   ]
  },
  {
   "cell_type": "code",
   "execution_count": 25,
   "metadata": {},
   "outputs": [
    {
     "name": "stdout",
     "output_type": "stream",
     "text": [
      "Memory usage of properties dataframe is : 2863.14697265625  MB\n",
      "******************************\n",
      "Column:  row_id\n",
      "dtype before:  int64\n",
      "min for this col:  0\n",
      "max for this col:  41697599\n",
      "dtype after:  uint32\n",
      "******************************\n",
      "******************************\n",
      "Column:  building_id\n",
      "dtype before:  int64\n",
      "min for this col:  0\n",
      "max for this col:  1448\n",
      "dtype after:  uint16\n",
      "******************************\n",
      "******************************\n",
      "Column:  meter\n",
      "dtype before:  int64\n",
      "min for this col:  0\n",
      "max for this col:  3\n",
      "dtype after:  uint8\n",
      "******************************\n",
      "******************************\n",
      "Column:  site_id\n",
      "dtype before:  int64\n",
      "min for this col:  0\n",
      "max for this col:  15\n",
      "dtype after:  uint8\n",
      "******************************\n",
      "******************************\n",
      "Column:  primary_use\n",
      "dtype before:  int32\n",
      "min for this col:  0\n",
      "max for this col:  15\n",
      "dtype after:  uint8\n",
      "******************************\n",
      "******************************\n",
      "Column:  square_feet\n",
      "dtype before:  int64\n",
      "min for this col:  283\n",
      "max for this col:  875000\n",
      "dtype after:  uint32\n",
      "******************************\n",
      "******************************\n",
      "Column:  year_built\n",
      "dtype before:  float64\n",
      "min for this col:  1900.0\n",
      "max for this col:  2017.0\n",
      "dtype after:  uint16\n",
      "******************************\n",
      "******************************\n",
      "Column:  floor_count\n",
      "dtype before:  int32\n",
      "min for this col:  0\n",
      "max for this col:  1\n",
      "dtype after:  uint8\n",
      "******************************\n",
      "___MEMORY USAGE AFTER COMPLETION:___\n",
      "Memory usage is:  1272.509765625  MB\n",
      "This is  44.44444444444444 % of the initial size\n"
     ]
    }
   ],
   "source": [
    "test, NAlist = reduce_mem_usage(test)"
   ]
  },
  {
   "cell_type": "code",
   "execution_count": 26,
   "metadata": {},
   "outputs": [
    {
     "data": {
      "text/plain": [
       "60"
      ]
     },
     "execution_count": 26,
     "metadata": {},
     "output_type": "execute_result"
    }
   ],
   "source": [
    "gc.collect()"
   ]
  },
  {
   "cell_type": "code",
   "execution_count": 27,
   "metadata": {},
   "outputs": [],
   "source": [
    "weather_test = pd.read_csv(\"./ashrae-energy-prediction/weather_test.csv\")"
   ]
  },
  {
   "cell_type": "code",
   "execution_count": 28,
   "metadata": {},
   "outputs": [],
   "source": [
    "weather_test = weather_test.groupby('site_id').apply(lambda x: x.interpolate(method='index'))\n",
    "weather_test = weather_test.groupby('site_id').apply(lambda x: x.bfill())\n",
    "weather_test = weather_test.groupby('site_id').apply(lambda x: x.ffill())"
   ]
  },
  {
   "cell_type": "code",
   "execution_count": 29,
   "metadata": {},
   "outputs": [],
   "source": [
    "test = test.merge(weather_test, left_on = [\"site_id\", \"timestamp\"], right_on = [\"site_id\", \"timestamp\"], how = \"left\")\n",
    "del weather_test"
   ]
  },
  {
   "cell_type": "code",
   "execution_count": 30,
   "metadata": {},
   "outputs": [],
   "source": [
    "test['V_north'] = test['wind_direction'].apply(Vnorth)\n",
    "test['V_north'] = test['V_north']*test['wind_speed']\n",
    "test['V_east'] = test['wind_direction'].apply(Veast)\n",
    "test['V_east'] = test['V_east']*test['wind_speed']"
   ]
  },
  {
   "cell_type": "code",
   "execution_count": 31,
   "metadata": {},
   "outputs": [],
   "source": [
    "test[\"timestamp\"] = pd.to_datetime(test[\"timestamp\"])\n",
    "test[\"hour\"] = test[\"timestamp\"].dt.hour.astype(np.uint8)\n",
    "test[\"day\"] = test[\"timestamp\"].dt.day.astype(np.uint8)\n",
    "test[\"weekend\"] = test[\"timestamp\"].dt.weekday.astype(np.uint8)\n",
    "test[\"month\"] = test[\"timestamp\"].dt.month.astype(np.uint8)"
   ]
  },
  {
   "cell_type": "code",
   "execution_count": 32,
   "metadata": {},
   "outputs": [
    {
     "data": {
      "text/plain": [
       "Index(['row_id', 'building_id', 'meter', 'timestamp', 'site_id', 'primary_use',\n",
       "       'square_feet', 'year_built', 'floor_count', 'air_temperature',\n",
       "       'cloud_coverage', 'dew_temperature', 'precip_depth_1_hr',\n",
       "       'sea_level_pressure', 'wind_direction', 'wind_speed', 'V_north',\n",
       "       'V_east', 'hour', 'day', 'weekend', 'month'],\n",
       "      dtype='object')"
      ]
     },
     "execution_count": 32,
     "metadata": {},
     "output_type": "execute_result"
    }
   ],
   "source": [
    "test.columns"
   ]
  },
  {
   "cell_type": "code",
   "execution_count": 33,
   "metadata": {},
   "outputs": [],
   "source": [
    "from pandas.tseries.holiday import USFederalHolidayCalendar as calendar\n",
    "\n",
    "dates_range = pd.date_range(start='2015-12-31', end='2019-01-01')\n",
    "us_holidays = calendar().holidays(start=dates_range.min(), end=dates_range.max())\n",
    "# train['is_holiday'] = (train['timestamp'].dt.date.astype('datetime64').isin(us_holidays))\n",
    "test['is_holiday'] = (test['timestamp'].dt.date.astype('datetime64').isin(us_holidays))\n",
    "\n",
    "test = test[feat_cols]"
   ]
  },
  {
   "cell_type": "code",
   "execution_count": 34,
   "metadata": {},
   "outputs": [],
   "source": [
    "# test = test.drop(drop_cols, axis = 1)"
   ]
  },
  {
   "cell_type": "code",
   "execution_count": 35,
   "metadata": {},
   "outputs": [
    {
     "name": "stderr",
     "output_type": "stream",
     "text": [
      "100%|█████████████████████████████████████████████████████████████████████████████████████████████████████████████████████████| 834/834 [14:48<00:00,  1.07s/it]\n"
     ]
    }
   ],
   "source": [
    "from tqdm import tqdm\n",
    "i=0\n",
    "res=[]\n",
    "step_size = 50000\n",
    "for j in tqdm(range(int(np.ceil(test.shape[0]/50000)))):\n",
    "    \n",
    "    res.append(np.expm1((gbm_class.predict(test.iloc[i:i+step_size], num_iteration=gbm_class.best_iteration) > .5) *\\\n",
    "    (gbm_regress.predict(test.iloc[i:i+step_size], num_iteration=gbm_regress.best_iteration))))\n",
    "    i+=step_size"
   ]
  },
  {
   "cell_type": "code",
   "execution_count": 36,
   "metadata": {},
   "outputs": [],
   "source": [
    "del test"
   ]
  },
  {
   "cell_type": "code",
   "execution_count": 37,
   "metadata": {},
   "outputs": [],
   "source": [
    "res = np.concatenate(res)"
   ]
  },
  {
   "cell_type": "code",
   "execution_count": 38,
   "metadata": {},
   "outputs": [],
   "source": [
    "sub = pd.read_csv(\"./ashrae-energy-prediction/sample_submission.csv\")\n",
    "sub[\"meter_reading\"] = res\n",
    "sub.to_csv(\"submission_origin_F.csv\", index = False)"
   ]
  },
  {
   "cell_type": "code",
   "execution_count": 68,
   "metadata": {},
   "outputs": [],
   "source": [
    "import numpy as np\n",
    "import pandas as pd \n",
    "\n",
    "df1 = pd.read_csv(\"./ashrae-energy-prediction/1submission_122_F.csv\")\n",
    "df2 = pd.read_csv(\"./ashrae-energy-prediction/2submission_42_F.csv\")\n",
    "df3 = pd.read_csv(\"./ashrae-energy-prediction/3submission_origin_F.csv\")\n",
    "df4 = pd.read_csv(\"./ashrae-energy-prediction/4submission_7.csv\")"
   ]
  },
  {
   "cell_type": "code",
   "execution_count": 69,
   "metadata": {},
   "outputs": [
    {
     "data": {
      "text/html": [
       "<div>\n",
       "<style scoped>\n",
       "    .dataframe tbody tr th:only-of-type {\n",
       "        vertical-align: middle;\n",
       "    }\n",
       "\n",
       "    .dataframe tbody tr th {\n",
       "        vertical-align: top;\n",
       "    }\n",
       "\n",
       "    .dataframe thead th {\n",
       "        text-align: right;\n",
       "    }\n",
       "</style>\n",
       "<table border=\"1\" class=\"dataframe\">\n",
       "  <thead>\n",
       "    <tr style=\"text-align: right;\">\n",
       "      <th></th>\n",
       "      <th>row_id</th>\n",
       "      <th>meter_reading</th>\n",
       "      <th>meter_reading2</th>\n",
       "      <th>meter_reading3</th>\n",
       "      <th>meter_reading4</th>\n",
       "      <th>agg</th>\n",
       "    </tr>\n",
       "  </thead>\n",
       "  <tbody>\n",
       "    <tr>\n",
       "      <th>30248983</th>\n",
       "      <td>30248983</td>\n",
       "      <td>269.796388</td>\n",
       "      <td>215.450646</td>\n",
       "      <td>218.120410</td>\n",
       "      <td>230.879907</td>\n",
       "      <td>241.327253</td>\n",
       "    </tr>\n",
       "    <tr>\n",
       "      <th>1208355</th>\n",
       "      <td>1208355</td>\n",
       "      <td>0.000000</td>\n",
       "      <td>0.000000</td>\n",
       "      <td>0.000000</td>\n",
       "      <td>0.000000</td>\n",
       "      <td>0.000000</td>\n",
       "    </tr>\n",
       "    <tr>\n",
       "      <th>25277898</th>\n",
       "      <td>25277898</td>\n",
       "      <td>0.000000</td>\n",
       "      <td>0.000000</td>\n",
       "      <td>0.000000</td>\n",
       "      <td>0.000000</td>\n",
       "      <td>0.000000</td>\n",
       "    </tr>\n",
       "    <tr>\n",
       "      <th>24521439</th>\n",
       "      <td>24521439</td>\n",
       "      <td>65.621115</td>\n",
       "      <td>78.126852</td>\n",
       "      <td>64.013849</td>\n",
       "      <td>69.106262</td>\n",
       "      <td>69.462451</td>\n",
       "    </tr>\n",
       "    <tr>\n",
       "      <th>8278838</th>\n",
       "      <td>8278838</td>\n",
       "      <td>83.497725</td>\n",
       "      <td>81.485141</td>\n",
       "      <td>104.650927</td>\n",
       "      <td>76.198276</td>\n",
       "      <td>84.901808</td>\n",
       "    </tr>\n",
       "    <tr>\n",
       "      <th>40000940</th>\n",
       "      <td>40000940</td>\n",
       "      <td>494.163825</td>\n",
       "      <td>446.315063</td>\n",
       "      <td>465.857884</td>\n",
       "      <td>417.279947</td>\n",
       "      <td>465.465633</td>\n",
       "    </tr>\n",
       "    <tr>\n",
       "      <th>35292606</th>\n",
       "      <td>35292606</td>\n",
       "      <td>0.000000</td>\n",
       "      <td>0.000000</td>\n",
       "      <td>0.000000</td>\n",
       "      <td>0.000000</td>\n",
       "      <td>0.000000</td>\n",
       "    </tr>\n",
       "    <tr>\n",
       "      <th>19785371</th>\n",
       "      <td>19785371</td>\n",
       "      <td>1198.333906</td>\n",
       "      <td>1843.599746</td>\n",
       "      <td>1434.603571</td>\n",
       "      <td>1143.448298</td>\n",
       "      <td>1408.607583</td>\n",
       "    </tr>\n",
       "    <tr>\n",
       "      <th>24677863</th>\n",
       "      <td>24677863</td>\n",
       "      <td>0.000000</td>\n",
       "      <td>0.000000</td>\n",
       "      <td>0.000000</td>\n",
       "      <td>0.000000</td>\n",
       "      <td>0.000000</td>\n",
       "    </tr>\n",
       "    <tr>\n",
       "      <th>15368724</th>\n",
       "      <td>15368724</td>\n",
       "      <td>2.158505</td>\n",
       "      <td>2.080908</td>\n",
       "      <td>2.697494</td>\n",
       "      <td>1.584464</td>\n",
       "      <td>2.131327</td>\n",
       "    </tr>\n",
       "    <tr>\n",
       "      <th>10743200</th>\n",
       "      <td>10743200</td>\n",
       "      <td>5.464922</td>\n",
       "      <td>5.348352</td>\n",
       "      <td>6.021389</td>\n",
       "      <td>5.676687</td>\n",
       "      <td>5.541363</td>\n",
       "    </tr>\n",
       "    <tr>\n",
       "      <th>33077828</th>\n",
       "      <td>33077828</td>\n",
       "      <td>95.945984</td>\n",
       "      <td>95.386097</td>\n",
       "      <td>93.407632</td>\n",
       "      <td>81.061164</td>\n",
       "      <td>93.296992</td>\n",
       "    </tr>\n",
       "    <tr>\n",
       "      <th>29805017</th>\n",
       "      <td>29805017</td>\n",
       "      <td>92.691955</td>\n",
       "      <td>75.411657</td>\n",
       "      <td>70.075850</td>\n",
       "      <td>82.360637</td>\n",
       "      <td>83.047952</td>\n",
       "    </tr>\n",
       "    <tr>\n",
       "      <th>1592797</th>\n",
       "      <td>1592797</td>\n",
       "      <td>0.000000</td>\n",
       "      <td>1084.180813</td>\n",
       "      <td>1810.278033</td>\n",
       "      <td>1136.161313</td>\n",
       "      <td>730.685853</td>\n",
       "    </tr>\n",
       "    <tr>\n",
       "      <th>6600488</th>\n",
       "      <td>6600488</td>\n",
       "      <td>552.587543</td>\n",
       "      <td>550.805923</td>\n",
       "      <td>549.267325</td>\n",
       "      <td>559.022712</td>\n",
       "      <td>552.523502</td>\n",
       "    </tr>\n",
       "    <tr>\n",
       "      <th>6997386</th>\n",
       "      <td>6997386</td>\n",
       "      <td>43.186853</td>\n",
       "      <td>42.686684</td>\n",
       "      <td>50.612285</td>\n",
       "      <td>35.006364</td>\n",
       "      <td>42.936083</td>\n",
       "    </tr>\n",
       "    <tr>\n",
       "      <th>18167162</th>\n",
       "      <td>18167162</td>\n",
       "      <td>1236.183696</td>\n",
       "      <td>1037.522986</td>\n",
       "      <td>1721.146923</td>\n",
       "      <td>1955.971804</td>\n",
       "      <td>1351.530826</td>\n",
       "    </tr>\n",
       "    <tr>\n",
       "      <th>4809479</th>\n",
       "      <td>4809479</td>\n",
       "      <td>112.690501</td>\n",
       "      <td>126.986056</td>\n",
       "      <td>97.710235</td>\n",
       "      <td>107.454963</td>\n",
       "      <td>113.886973</td>\n",
       "    </tr>\n",
       "    <tr>\n",
       "      <th>27418911</th>\n",
       "      <td>27418911</td>\n",
       "      <td>0.000000</td>\n",
       "      <td>0.000000</td>\n",
       "      <td>0.000000</td>\n",
       "      <td>0.000000</td>\n",
       "      <td>0.000000</td>\n",
       "    </tr>\n",
       "    <tr>\n",
       "      <th>35565102</th>\n",
       "      <td>35565102</td>\n",
       "      <td>567.758779</td>\n",
       "      <td>1085.690313</td>\n",
       "      <td>671.912402</td>\n",
       "      <td>851.036958</td>\n",
       "      <td>771.086618</td>\n",
       "    </tr>\n",
       "  </tbody>\n",
       "</table>\n",
       "</div>"
      ],
      "text/plain": [
       "            row_id  meter_reading  meter_reading2  meter_reading3  \\\n",
       "30248983  30248983     269.796388      215.450646      218.120410   \n",
       "1208355    1208355       0.000000        0.000000        0.000000   \n",
       "25277898  25277898       0.000000        0.000000        0.000000   \n",
       "24521439  24521439      65.621115       78.126852       64.013849   \n",
       "8278838    8278838      83.497725       81.485141      104.650927   \n",
       "40000940  40000940     494.163825      446.315063      465.857884   \n",
       "35292606  35292606       0.000000        0.000000        0.000000   \n",
       "19785371  19785371    1198.333906     1843.599746     1434.603571   \n",
       "24677863  24677863       0.000000        0.000000        0.000000   \n",
       "15368724  15368724       2.158505        2.080908        2.697494   \n",
       "10743200  10743200       5.464922        5.348352        6.021389   \n",
       "33077828  33077828      95.945984       95.386097       93.407632   \n",
       "29805017  29805017      92.691955       75.411657       70.075850   \n",
       "1592797    1592797       0.000000     1084.180813     1810.278033   \n",
       "6600488    6600488     552.587543      550.805923      549.267325   \n",
       "6997386    6997386      43.186853       42.686684       50.612285   \n",
       "18167162  18167162    1236.183696     1037.522986     1721.146923   \n",
       "4809479    4809479     112.690501      126.986056       97.710235   \n",
       "27418911  27418911       0.000000        0.000000        0.000000   \n",
       "35565102  35565102     567.758779     1085.690313      671.912402   \n",
       "\n",
       "          meter_reading4          agg  \n",
       "30248983      230.879907   241.327253  \n",
       "1208355         0.000000     0.000000  \n",
       "25277898        0.000000     0.000000  \n",
       "24521439       69.106262    69.462451  \n",
       "8278838        76.198276    84.901808  \n",
       "40000940      417.279947   465.465633  \n",
       "35292606        0.000000     0.000000  \n",
       "19785371     1143.448298  1408.607583  \n",
       "24677863        0.000000     0.000000  \n",
       "15368724        1.584464     2.131327  \n",
       "10743200        5.676687     5.541363  \n",
       "33077828       81.061164    93.296992  \n",
       "29805017       82.360637    83.047952  \n",
       "1592797      1136.161313   730.685853  \n",
       "6600488       559.022712   552.523502  \n",
       "6997386        35.006364    42.936083  \n",
       "18167162     1955.971804  1351.530826  \n",
       "4809479       107.454963   113.886973  \n",
       "27418911        0.000000     0.000000  \n",
       "35565102      851.036958   771.086618  "
      ]
     },
     "execution_count": 69,
     "metadata": {},
     "output_type": "execute_result"
    }
   ],
   "source": [
    "df1['meter_reading2'] = df2['meter_reading']\n",
    "df1['meter_reading3'] = df3['meter_reading']\n",
    "df1['meter_reading4'] = df4['meter_reading']\n",
    "df1['agg'] = ((df1['meter_reading']*3)+(df2['meter_reading']*2)+df3['meter_reading']+df4['meter_reading'])/7\n",
    "df1.sample(20)"
   ]
  },
  {
   "cell_type": "code",
   "execution_count": 70,
   "metadata": {},
   "outputs": [
    {
     "name": "stdout",
     "output_type": "stream",
     "text": [
      "1351.530826714286\n"
     ]
    }
   ],
   "source": [
    "print((1236.183696*3+1037.522986*2+1721.146923+1955.971804)/7)"
   ]
  },
  {
   "cell_type": "code",
   "execution_count": 72,
   "metadata": {},
   "outputs": [],
   "source": [
    "import numpy as np\n",
    "import pandas as pd \n",
    "\n",
    "df1 = pd.read_csv(\"./submission_avg.csv\")\n",
    "df2 = pd.read_csv(\"./submission_avg2.csv\")\n",
    "df3 = pd.read_csv(\"./submission_avg3.csv\")"
   ]
  },
  {
   "cell_type": "code",
   "execution_count": 73,
   "metadata": {},
   "outputs": [],
   "source": [
    "df1['meter_reading']= ((df1['meter_reading']*4)+(df2['meter_reading']*2)+df3['meter_reading'])/7\n",
    "df1.to_csv(\"submission_avg_avg1.csv\", index = False) "
   ]
  },
  {
   "cell_type": "code",
   "execution_count": 67,
   "metadata": {},
   "outputs": [],
   "source": [
    "del df1\n",
    "del df2\n",
    "del df3\n",
    "del df4"
   ]
  },
  {
   "cell_type": "code",
   "execution_count": null,
   "metadata": {},
   "outputs": [],
   "source": []
  }
 ],
 "metadata": {
  "kernelspec": {
   "display_name": "Python 3",
   "language": "python",
   "name": "python3"
  },
  "language_info": {
   "codemirror_mode": {
    "name": "ipython",
    "version": 3
   },
   "file_extension": ".py",
   "mimetype": "text/x-python",
   "name": "python",
   "nbconvert_exporter": "python",
   "pygments_lexer": "ipython3",
   "version": "3.7.9"
  }
 },
 "nbformat": 4,
 "nbformat_minor": 1
}
