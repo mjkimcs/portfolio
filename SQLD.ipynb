{
  "nbformat": 4,
  "nbformat_minor": 0,
  "metadata": {
    "colab": {
      "name": "SQLD",
      "provenance": [],
      "authorship_tag": "ABX9TyMkf4a7lwtnb5FSQkhgNwzD",
      "include_colab_link": true
    },
    "kernelspec": {
      "name": "python3",
      "display_name": "Python 3"
    },
    "language_info": {
      "name": "python"
    }
  },
  "cells": [
    {
      "cell_type": "markdown",
      "metadata": {
        "id": "view-in-github",
        "colab_type": "text"
      },
      "source": [
        "<a href=\"https://colab.research.google.com/github/mjkimcs/portfolio/blob/main/SQLD.ipynb\" target=\"_parent\"><img src=\"https://colab.research.google.com/assets/colab-badge.svg\" alt=\"Open In Colab\"/></a>"
      ]
    },
    {
      "cell_type": "markdown",
      "metadata": {
        "id": "vpaPqAYNAR99"
      },
      "source": [
        "# 모델링의 특징\n",
        "1. 추상화(모형화): 다양한 현상을 일정한 형식에 맞추어 표현\n",
        "2. 단순화\n",
        "3. 명확화: 애매모호함을 제거"
      ]
    },
    {
      "cell_type": "markdown",
      "metadata": {
        "id": "zFbJDLaNAR5A"
      },
      "source": [
        "# 모델링의 세 가지 관점\n",
        "1. 데이터: What\n",
        "2. 프로세스: How\n",
        "3. 상관: 데이터 vs 프로세스"
      ]
    },
    {
      "cell_type": "markdown",
      "metadata": {
        "id": "WUwFxAA1AR1M"
      },
      "source": [
        "#모델링 시 유의점\n",
        "1. 중복\n",
        "2. 비유연성\n",
        "3. 비일관성"
      ]
    },
    {
      "cell_type": "markdown",
      "metadata": {
        "id": "_OfYTEFZARrf"
      },
      "source": [
        ""
      ]
    }
  ]
}