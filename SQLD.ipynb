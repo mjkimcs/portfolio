{
  "nbformat": 4,
  "nbformat_minor": 0,
  "metadata": {
    "colab": {
      "name": "SQLD",
      "provenance": [],
      "collapsed_sections": [],
      "authorship_tag": "ABX9TyPH70YWqW0hO82q91I8My68",
      "include_colab_link": true
    },
    "kernelspec": {
      "name": "python3",
      "display_name": "Python 3"
    },
    "language_info": {
      "name": "python"
    }
  },
  "cells": [
    {
      "cell_type": "markdown",
      "metadata": {
        "id": "view-in-github",
        "colab_type": "text"
      },
      "source": [
        "<a href=\"https://colab.research.google.com/github/mjkimcs/portfolio/blob/main/SQLD.ipynb\" target=\"_parent\"><img src=\"https://colab.research.google.com/assets/colab-badge.svg\" alt=\"Open In Colab\"/></a>"
      ]
    },
    {
      "cell_type": "markdown",
      "metadata": {
        "id": "vpaPqAYNAR99"
      },
      "source": [
        "# 모델링의 특징\n",
        "1. 추상화(모형화): 다양한 현상을 일정한 형식에 맞추어 표현\n",
        "2. 단순화\n",
        "3. 명확화: 애매모호함을 제거"
      ]
    },
    {
      "cell_type": "markdown",
      "metadata": {
        "id": "zFbJDLaNAR5A"
      },
      "source": [
        "# 모델링의 세 가지 관점\n",
        "1. 데이터: What\n",
        "2. 프로세스: How\n",
        "3. 상관: 데이터 vs 프로세스"
      ]
    },
    {
      "cell_type": "markdown",
      "metadata": {
        "id": "WUwFxAA1AR1M"
      },
      "source": [
        "#모델링 시 다음 3가지는 피해라\n",
        "1. 중복\n",
        "2. 비유연성\n",
        "3. 비일관성"
      ]
    },
    {
      "cell_type": "markdown",
      "metadata": {
        "id": "_OfYTEFZARrf"
      },
      "source": [
        "#모델링 3단계\n",
        "1. 개념적: 높은 추상화 수준, 포괄적, 전사적\n",
        "2. 논리적: Key/속성/관계 등을 정확하게 표현, 높은 재사용성\n",
        "3. 물리적: 구체적"
      ]
    },
    {
      "cell_type": "markdown",
      "metadata": {
        "id": "3zZ_Mw_WLnhD"
      },
      "source": [
        "#데이터 독립성\n",
        "1. 외부스키마: 개개 사용자가 보는 개인적 DB 스키마  \n",
        "   ----------------------논리적 데이터 독립성------------------------\n",
        "2. 개념스키마: 사용자관점을 통합, 조직 전체의 DB를 기술  \n",
        "   ----------------------물리적 데이터 독립성------------------------\n",
        "3. 내부스키마: 물리적"
      ]
    },
    {
      "cell_type": "markdown",
      "metadata": {
        "id": "oDTFcSyxLncc"
      },
      "source": [
        "-  논리적 데이터 독립성: 개념스키마가 변경되어도 외부스키마에는 영향없음, 외부스키마가 변경되어도 개념스키마에는 영향없음  \n",
        "-  물리적 데이터 독립성: 내부스키마가 변경되어도 외부/개념스키마에는 영향없음, 개념스키마가 변경되어도 내부스키마에는 영향없음"
      ]
    },
    {
      "cell_type": "markdown",
      "metadata": {
        "id": "rUJqExL4LnYN"
      },
      "source": [
        "#엔터티(인스턴스의 집합)의 특징\n",
        "1. 식별이 가능해야 함\n",
        "2. 속성이 꼭 있음\n",
        "3. 다른 엔터티와 최소 한 개 이상의 관계가 존재"
      ]
    },
    {
      "cell_type": "markdown",
      "metadata": {
        "id": "GDfy30OMLnTg"
      },
      "source": [
        "#엔터티의 분류 -(1)유무형\n",
        "1. 개념엔터티: 개념적\n",
        "2. 유형엔터티: 물리적\n",
        "3. 사건엔터티: 많은 발생량"
      ]
    },
    {
      "cell_type": "markdown",
      "metadata": {
        "id": "PeFJRd31LnPD"
      },
      "source": [
        "#엔터티의 분류 -(2)발생시점\n",
        "1. 기본/키엔터티: 부모\n",
        "2. 중심엔터티: 기본엔터티로부터 발생되고 그 업무에 있어서 중심적인 역할\n",
        "3. 행위엔터티: 내용이 자주 바뀜"
      ]
    },
    {
      "cell_type": "markdown",
      "metadata": {
        "id": "zqi_J8gBLnJ0"
      },
      "source": [
        ""
      ]
    },
    {
      "cell_type": "markdown",
      "metadata": {
        "id": "5-Cm3d1wLm_i"
      },
      "source": [
        ""
      ]
    }
  ]
}