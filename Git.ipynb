{
  "nbformat": 4,
  "nbformat_minor": 0,
  "metadata": {
    "colab": {
      "name": "Git",
      "provenance": [],
      "collapsed_sections": [],
      "authorship_tag": "ABX9TyMFLQG8Ke4Tf3sViuiyFwSU",
      "include_colab_link": true
    },
    "kernelspec": {
      "name": "python3",
      "display_name": "Python 3"
    },
    "language_info": {
      "name": "python"
    }
  },
  "cells": [
    {
      "cell_type": "markdown",
      "metadata": {
        "id": "view-in-github",
        "colab_type": "text"
      },
      "source": [
        "<a href=\"https://colab.research.google.com/github/mjkimcs/portfolio/blob/main/Git.ipynb\" target=\"_parent\"><img src=\"https://colab.research.google.com/assets/colab-badge.svg\" alt=\"Open In Colab\"/></a>"
      ]
    },
    {
      "cell_type": "markdown",
      "metadata": {
        "id": "r5tpaxdsol21"
      },
      "source": [
        "- 폴더(지역저장소) - 우클릭 - gitbash here"
      ]
    },
    {
      "cell_type": "code",
      "metadata": {
        "id": "aAMTfuw8oiH5"
      },
      "source": [
        "git config --global user.name \"mjkimcs\"\n",
        "git config --global user.email \"mjkimcs@kaist.ac.kr\"\n",
        "git config --global user.name #확인\n",
        "git config --global user.email #확인\n",
        "\n",
        "git init #지역저장소 초기화\n",
        "git remote add origin https://github.com/mjkimcs/portfolio.git\n",
        "git remote -v #연결 확인\n",
        "\n",
        "touch test.txt #파일생성\n",
        "ls #확인\n",
        "git add * #변경사항을 스테이징\n",
        "git status\n",
        "git commit -m \"커밋 메시지\"\n",
        "git log #커밋해시 조회 #q를 누르면 종료\n",
        "git push origin master #원격저장소에 업로드"
      ],
      "execution_count": null,
      "outputs": []
    },
    {
      "cell_type": "code",
      "metadata": {
        "id": "pN_lJ5knrCKi"
      },
      "source": [
        "# 원격저장소에 있는 파일 다운로드\n",
        "git clone https://github.com/mjkimcs/portfolio.git"
      ],
      "execution_count": null,
      "outputs": []
    },
    {
      "cell_type": "code",
      "metadata": {
        "id": "zP_Wyx0XrChw"
      },
      "source": [
        "# 언스테이지와 커밋취소\n",
        "\n",
        "# 지역저장소에 test2 파일 생성\n",
        "git add test2.txt\n",
        "git status\n",
        "# test2 파일의 내용 수정 후 git status 확인\n",
        "git reset #언스테이지\n",
        "git add .\n",
        "git commit -m \"커밋 메시지\"\n",
        "git log\n",
        "\n",
        "git reset 커밋해시 #커밋취소\n",
        "git reset HEAD~1 #커밋취소\n",
        "git log\n",
        "\n",
        "git push origin master"
      ],
      "execution_count": null,
      "outputs": []
    },
    {
      "cell_type": "code",
      "metadata": {
        "id": "MSyi8csevUqg"
      },
      "source": [
        "# git add 시 편리한 .gitignore\n",
        "# .gitignore 파일 생성 후 ignore.txt 또는 *.jpg\n",
        "\n",
        "git rm -r --cached .\n",
        "git add .\n",
        "git commit -m \"커밋 메시지\"\n",
        "git push origin master"
      ],
      "execution_count": null,
      "outputs": []
    },
    {
      "cell_type": "code",
      "metadata": {
        "id": "hnqA1DOnxv8d"
      },
      "source": [
        "git pull origin master"
      ],
      "execution_count": null,
      "outputs": []
    },
    {
      "cell_type": "code",
      "metadata": {
        "id": "bMtfjzSX6dPU"
      },
      "source": [
        "# 브랜치\n",
        "\n",
        "git branch\n",
        "git branch test #브랜치 생성\n",
        "git branch -m test myb #브랜치 이름변경\n",
        "git branch -d myb #브랜치 삭제\n",
        "git checkout myb #브랜치 전환\n",
        "git checkout -b myb3 #브랜치 생성+전환\n",
        "\n",
        "echo \"test\" > mytest.txt\n",
        "cat mytest.txt #내용확인\n",
        "git add .\n",
        "git commit -m \"커밋 메시지\"\n",
        "git checkout -b myb2\n",
        "\n",
        "git stash #임시저장(커밋을 안해도 브랜치 간 맘껏 이동가능)\n",
        "git stash list\n",
        "git stash apply 0"
      ],
      "execution_count": null,
      "outputs": []
    },
    {
      "cell_type": "code",
      "metadata": {
        "id": "yzQncNGU6dBQ"
      },
      "source": [
        "# merge\n",
        "\n",
        "# fast-forward\n",
        "git checkout master\n",
        "git merge myb\n",
        "\n",
        "# recursive : 각기 다른 파일을 가지고 있는 브랜치들을 병합\n",
        "git checkout myb\n",
        "git merge myb2\n",
        "# 파일명이 같은데 다른내용이라서 충돌이 발생한 경우에는 수동으로 내용수정 후\n",
        "git add .\n",
        "git commit -m \"커밋 메시지\""
      ],
      "execution_count": null,
      "outputs": []
    },
    {
      "cell_type": "code",
      "metadata": {
        "id": "cfbA0KGZC-aJ"
      },
      "source": [
        "# rebase : 이력을 깔끔하게 정리\n",
        "\n",
        "git checkout master\n",
        "git rebase myb\n",
        "git rebase myb2\n",
        "# 파일명이 같은데 다른내용이라서 충돌이 발생한 경우에는 수동으로 내용수정 후\n",
        "git add .\n",
        "git rebase --continue #커밋역할\n",
        "git rebase --abort #취소"
      ],
      "execution_count": null,
      "outputs": []
    }
  ]
}