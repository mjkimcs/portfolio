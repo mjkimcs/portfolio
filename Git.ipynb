{
  "nbformat": 4,
  "nbformat_minor": 0,
  "metadata": {
    "colab": {
      "name": "Git",
      "provenance": [],
      "collapsed_sections": [],
      "authorship_tag": "ABX9TyNq2//hh+x3SVpNqoUlGlvb",
      "include_colab_link": true
    },
    "kernelspec": {
      "name": "python3",
      "display_name": "Python 3"
    },
    "language_info": {
      "name": "python"
    }
  },
  "cells": [
    {
      "cell_type": "markdown",
      "metadata": {
        "id": "view-in-github",
        "colab_type": "text"
      },
      "source": [
        "<a href=\"https://colab.research.google.com/github/mjkimcs/portfolio/blob/main/Git.ipynb\" target=\"_parent\"><img src=\"https://colab.research.google.com/assets/colab-badge.svg\" alt=\"Open In Colab\"/></a>"
      ]
    },
    {
      "cell_type": "markdown",
      "metadata": {
        "id": "r5tpaxdsol21"
      },
      "source": [
        "- 폴더(지역저장소) - 우클릭 - gitbash here"
      ]
    },
    {
      "cell_type": "code",
      "metadata": {
        "id": "hnqA1DOnxv8d"
      },
      "source": [
        "git pull origin master\n",
        "git pull origin master --allow-unrelated-histories"
      ],
      "execution_count": null,
      "outputs": []
    },
    {
      "cell_type": "code",
      "metadata": {
        "id": "aAMTfuw8oiH5"
      },
      "source": [
        "git config --global user.name \"mjkimcs\"\n",
        "git config --global user.email \"mjkimcs@kaist.ac.kr\"\n",
        "git config --global user.name #확인\n",
        "git config --global user.email #확인\n",
        "\n",
        "git init #지역저장소 초기화\n",
        "git remote add origin https://github.com/mjkimcs/portfolio.git\n",
        "git remote -v #연결 확인\n",
        "\n",
        "touch test.txt #파일생성\n",
        "ls #확인\n",
        "git add * #변경사항을 스테이징\n",
        "git status\n",
        "git commit -m \"커밋 메시지\"\n",
        "git log #커밋해시 조회 #q를 누르면 종료\n",
        "git push origin master #원격저장소에 업로드"
      ],
      "execution_count": null,
      "outputs": []
    },
    {
      "cell_type": "code",
      "metadata": {
        "id": "pN_lJ5knrCKi"
      },
      "source": [
        "# 원격저장소에 있는 파일 다운로드\n",
        "git clone https://github.com/mjkimcs/portfolio.git"
      ],
      "execution_count": null,
      "outputs": []
    },
    {
      "cell_type": "code",
      "metadata": {
        "id": "zP_Wyx0XrChw"
      },
      "source": [
        "# 언스테이지와 커밋취소\n",
        "\n",
        "# 지역저장소에 test2 파일 생성\n",
        "git add test2.txt\n",
        "git status\n",
        "# test2 파일의 내용 수정 후 git status 확인\n",
        "git reset #언스테이지\n",
        "git add .\n",
        "git commit -m \"커밋 메시지\"\n",
        "git log\n",
        "\n",
        "git reset HEAD~1 #커밋취소\n",
        "git log\n",
        "\n",
        "git push origin master"
      ],
      "execution_count": null,
      "outputs": []
    },
    {
      "cell_type": "code",
      "metadata": {
        "id": "MSyi8csevUqg"
      },
      "source": [
        "# git add 시 편리한 .gitignore\n",
        "# .gitignore 파일 생성 후 ignore.txt 또는 *.jpg\n",
        "\n",
        "git rm -r --cached .\n",
        "git add .\n",
        "git commit -m \"커밋 메시지\"\n",
        "git push origin master"
      ],
      "execution_count": null,
      "outputs": []
    },
    {
      "cell_type": "code",
      "metadata": {
        "id": "bMtfjzSX6dPU"
      },
      "source": [
        "# 브랜치\n",
        "\n",
        "git branch\n",
        "git branch test #브랜치 생성\n",
        "git branch -m test myb #브랜치 이름변경\n",
        "git branch -d myb #브랜치 삭제\n",
        "git checkout myb #브랜치 전환\n",
        "git checkout -b myb3 #브랜치 생성+전환\n",
        "\n",
        "echo \"test\" > mytest.txt\n",
        "cat mytest.txt #내용확인\n",
        "git add .\n",
        "git commit -m \"커밋 메시지\"\n",
        "git checkout -b myb2\n",
        "\n",
        "git stash #임시저장(커밋을 안해도 브랜치 간 맘껏 이동가능)\n",
        "git stash list\n",
        "git stash apply 0"
      ],
      "execution_count": null,
      "outputs": []
    },
    {
      "cell_type": "code",
      "metadata": {
        "id": "yzQncNGU6dBQ"
      },
      "source": [
        "# merge\n",
        "\n",
        "# fast-forward\n",
        "git checkout master\n",
        "git merge myb\n",
        "\n",
        "# recursive : 각기 다른 파일을 가지고 있는 브랜치들을 병합\n",
        "git checkout myb\n",
        "git merge myb2\n",
        "# 파일명이 같은데 다른내용이라서 충돌이 발생한 경우에는 수동으로 내용수정 후\n",
        "git add .\n",
        "git commit -m \"커밋 메시지\""
      ],
      "execution_count": null,
      "outputs": []
    },
    {
      "cell_type": "code",
      "metadata": {
        "id": "cfbA0KGZC-aJ"
      },
      "source": [
        "# rebase : 이력을 깔끔하게 정리\n",
        "\n",
        "git checkout master\n",
        "git rebase myb\n",
        "git rebase myb2\n",
        "# 파일명이 같은데 다른내용이라서 충돌이 발생한 경우에는 수동으로 내용수정 후\n",
        "git add .\n",
        "git rebase --continue #커밋역할\n",
        "git rebase --abort #취소"
      ],
      "execution_count": null,
      "outputs": []
    },
    {
      "cell_type": "code",
      "metadata": {
        "id": "6XVxKejGGHAo"
      },
      "source": [
        "# 커밋 메시지 수정\n",
        "git commit --amend\n",
        "i\n",
        "메시지 수정 후 Esc\n",
        ":wq"
      ],
      "execution_count": null,
      "outputs": []
    },
    {
      "cell_type": "markdown",
      "metadata": {
        "id": "6wr8e_g9Yyz2"
      },
      "source": [
        "## 커밋 삭제"
      ]
    },
    {
      "cell_type": "code",
      "metadata": {
        "id": "w1O9wo4lQmAd"
      },
      "source": [
        "# 준비할 내용\n",
        "\n",
        "git checkout -b reset\n",
        "\n",
        "echo \"ver1\" > reset1.txt\n",
        "git add .\n",
        "git commit -m \"ver1\"\n",
        "\n",
        "echo \"ver2\" > reset1.txt\n",
        "git add .\n",
        "git commit -m \"ver2\"\n",
        "\n",
        "echo \"ver3\" > reset1.txt\n",
        "git add .\n",
        "\n",
        "git log\n",
        "cat reset1.txt"
      ],
      "execution_count": null,
      "outputs": []
    },
    {
      "cell_type": "markdown",
      "metadata": {
        "id": "2hm_jlh6Y6Oz"
      },
      "source": [
        "### reset"
      ]
    },
    {
      "cell_type": "code",
      "metadata": {
        "id": "zw-hlrfpY5f9"
      },
      "source": [
        "# 스테이지에 내용이 있는 경우\n",
        "\n",
        "git reset --mixed # 스테이지를 비워줌\n",
        "git reset --hard # 파일내용까지도 변경 (결과: ver2)"
      ],
      "execution_count": null,
      "outputs": []
    },
    {
      "cell_type": "code",
      "metadata": {
        "id": "U46k-DoYY5kF"
      },
      "source": [
        "# 스테이지에 내용이 없는 경우\n",
        "\n",
        "git checkout -b reset-soft\n",
        "git reset --soft HEAD~1 # 최신커밋이었던 ver2가 삭제되고 스테이지로 감\n",
        "\n",
        "git checkout reset\n",
        "git checkout -b reset-mixed\n",
        "git reset --mixed HEAD~1 # 스테이지에서도 없어짐\n",
        "\n",
        "git checkout reset\n",
        "git stash\n",
        "git checkout reset\n",
        "git checkout -b reset-hard\n",
        "git reset --hard HEAD~1  # 파일내용까지도 변경"
      ],
      "execution_count": null,
      "outputs": []
    },
    {
      "cell_type": "markdown",
      "metadata": {
        "id": "FrRFXm9UaGrf"
      },
      "source": [
        "### revert : 특정커밋만 삭제 가능"
      ]
    },
    {
      "cell_type": "code",
      "metadata": {
        "id": "bPhBciupaStE"
      },
      "source": [
        "# 준비할 내용\n",
        "\n",
        "echo \"remove\" > remove.txt\n",
        "git add . \n",
        "git commit -m \"remove\"\n",
        "\n",
        "echo \"ok\" > ok.txt\n",
        "git add . \n",
        "git commit -m \"ok\"\n",
        "\n",
        "git revert HEAD~1"
      ],
      "execution_count": null,
      "outputs": []
    },
    {
      "cell_type": "markdown",
      "metadata": {
        "id": "-i8-0Lpvf2sR"
      },
      "source": [
        "## 소스트리"
      ]
    },
    {
      "cell_type": "code",
      "metadata": {
        "id": "r4VHT9dCgtXX"
      },
      "source": [
        ""
      ],
      "execution_count": null,
      "outputs": []
    }
  ]
}