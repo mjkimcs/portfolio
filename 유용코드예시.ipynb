{
  "nbformat": 4,
  "nbformat_minor": 0,
  "metadata": {
    "colab": {
      "name": "유용코드예시",
      "provenance": [],
      "collapsed_sections": [],
      "authorship_tag": "ABX9TyMLHHluyPDZ9CqX4zAfnrWl",
      "include_colab_link": true
    },
    "kernelspec": {
      "name": "python3",
      "display_name": "Python 3"
    },
    "language_info": {
      "name": "python"
    }
  },
  "cells": [
    {
      "cell_type": "markdown",
      "metadata": {
        "id": "view-in-github",
        "colab_type": "text"
      },
      "source": [
        "<a href=\"https://colab.research.google.com/github/mjkimcs/portfolio/blob/main/%EC%9C%A0%EC%9A%A9%EC%BD%94%EB%93%9C%EC%98%88%EC%8B%9C.ipynb\" target=\"_parent\"><img src=\"https://colab.research.google.com/assets/colab-badge.svg\" alt=\"Open In Colab\"/></a>"
      ]
    },
    {
      "cell_type": "code",
      "metadata": {
        "id": "uImCv9uAq18j"
      },
      "source": [
        "target_col = 'box_off_num'\n",
        "num_cols = [x for x in df.columns if df[x].dtype in [np.int64, np.float64] and x != target_col] # 수치형 컬럼명"
      ],
      "execution_count": null,
      "outputs": []
    },
    {
      "cell_type": "code",
      "metadata": {
        "id": "xbCJ5Ma0sYaY"
      },
      "source": [
        "df.corr().style.background_gradient() # 히트맵 스타일"
      ],
      "execution_count": null,
      "outputs": []
    },
    {
      "cell_type": "code",
      "metadata": {
        "id": "9g_C35NftDw3"
      },
      "source": [
        "rmse = lambda y, p: np.sqrt(mean_squared_error(y, p)) # 여기서 y와 p는 시리즈타입(리스트도 가능)\n",
        "rmsle = lambda y, p: np.sqrt(mean_squared_error(np.log1p(y), np.log1p(p)))\n",
        "\n",
        "rmse(df[target_col], df[pred_col])\n",
        "rmsle(df[target_col], df[pred_col])\n",
        "\n",
        "print(f' RMSE:\\t{rmse(df[target_col], df[pred_col]):.2f}') # 소수점아래 2자리까지"
      ],
      "execution_count": null,
      "outputs": []
    },
    {
      "cell_type": "code",
      "metadata": {
        "id": "KGh7YdkQvItu"
      },
      "source": [
        "df[\"box_off_num\"].apply(np.log1p).hist(bins=50) # 멱함수 분포를 갖는 종속변수의 log1p 변환"
      ],
      "execution_count": null,
      "outputs": []
    },
    {
      "cell_type": "code",
      "metadata": {
        "id": "Y-GFQg5OvIiO"
      },
      "source": [
        "plt.figure(figsize=(8, 8))\n",
        "plt.scatter(df[target_col], df[pred_col], alpha=.5)\n",
        "plt.xlabel('box_off_num')\n",
        "plt.ylabel('prediction')\n",
        "plt.yscale('log') ##\n",
        "plt.xscale('log') ##"
      ],
      "execution_count": null,
      "outputs": []
    },
    {
      "cell_type": "code",
      "metadata": {
        "id": "f4hWbfyTJB5n"
      },
      "source": [
        "df['release_time'] = pd.to_datetime(df['release_time'])\n",
        "df['year'] = df['release_time'].dt.year\n",
        "df['month'] = df['release_time'].dt.month"
      ],
      "execution_count": null,
      "outputs": []
    },
    {
      "cell_type": "code",
      "metadata": {
        "id": "hGBHZXOAJhCn"
      },
      "source": [
        "from sklearn.linear_model import LinearRegression\n",
        "\n",
        "lr = LinearRegression()\n",
        "lr.fit(df[num_cols], np.log1p(df[target_col]))\n",
        "df[pred_col] = np.expm1(lr.predict(df[num_cols]))"
      ],
      "execution_count": null,
      "outputs": []
    },
    {
      "cell_type": "code",
      "metadata": {
        "id": "v4lTY5XoJg9-"
      },
      "source": [
        ""
      ],
      "execution_count": null,
      "outputs": []
    }
  ]
}