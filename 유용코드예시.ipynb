{
  "nbformat": 4,
  "nbformat_minor": 0,
  "metadata": {
    "colab": {
      "name": "유용코드예시",
      "provenance": [],
      "collapsed_sections": [],
      "authorship_tag": "ABX9TyNAkTgNocfhpxxTi9sqWLdU",
      "include_colab_link": true
    },
    "kernelspec": {
      "name": "python3",
      "display_name": "Python 3"
    },
    "language_info": {
      "name": "python"
    }
  },
  "cells": [
    {
      "cell_type": "markdown",
      "metadata": {
        "id": "view-in-github",
        "colab_type": "text"
      },
      "source": [
        "<a href=\"https://colab.research.google.com/github/mjkimcs/portfolio/blob/main/%EC%9C%A0%EC%9A%A9%EC%BD%94%EB%93%9C%EC%98%88%EC%8B%9C.ipynb\" target=\"_parent\"><img src=\"https://colab.research.google.com/assets/colab-badge.svg\" alt=\"Open In Colab\"/></a>"
      ]
    },
    {
      "cell_type": "code",
      "metadata": {
        "id": "uImCv9uAq18j"
      },
      "source": [
        "target_col = 'box_off_num'\n",
        "num_cols = [x for x in df.columns if df[x].dtype in [np.int64, np.float64] and x != target_col] # 수치형 컬럼명"
      ],
      "execution_count": null,
      "outputs": []
    },
    {
      "cell_type": "code",
      "metadata": {
        "id": "xbCJ5Ma0sYaY"
      },
      "source": [
        "df.corr().style.background_gradient() # 히트맵 스타일"
      ],
      "execution_count": null,
      "outputs": []
    },
    {
      "cell_type": "code",
      "metadata": {
        "id": "9g_C35NftDw3"
      },
      "source": [
        "rmse = lambda y, p: np.sqrt(mean_squared_error(y, p)) # 여기서 y와 p는 시리즈타입(리스트도 가능)\n",
        "rmsle = lambda y, p: np.sqrt(mean_squared_error(np.log1p(y), np.log1p(p)))\n",
        "\n",
        "rmse(df[target_col], df[pred_col])\n",
        "rmsle(df[target_col], df[pred_col])\n",
        "\n",
        "print(f' RMSE:\\t{rmse(df[target_col], df[pred_col]):.2f}') # 소수점아래 2자리까지"
      ],
      "execution_count": null,
      "outputs": []
    },
    {
      "cell_type": "code",
      "metadata": {
        "id": "KGh7YdkQvItu"
      },
      "source": [
        "df[\"box_off_num\"].apply(np.log1p).hist(bins=50) # 멱함수 분포를 갖는 종속변수의 log1p 변환"
      ],
      "execution_count": null,
      "outputs": []
    },
    {
      "cell_type": "code",
      "metadata": {
        "id": "Y-GFQg5OvIiO"
      },
      "source": [
        "plt.figure(figsize=(8, 8))\n",
        "plt.scatter(df[target_col], df[pred_col], alpha=.5)\n",
        "plt.xlabel('box_off_num')\n",
        "plt.ylabel('prediction')\n",
        "plt.yscale('log') ##\n",
        "plt.xscale('log') ##"
      ],
      "execution_count": null,
      "outputs": []
    },
    {
      "cell_type": "code",
      "metadata": {
        "id": "f4hWbfyTJB5n"
      },
      "source": [
        "df['release_time'] = pd.to_datetime(df['release_time'])\n",
        "df['year'] = df['release_time'].dt.year\n",
        "df['month'] = df['release_time'].dt.month"
      ],
      "execution_count": null,
      "outputs": []
    },
    {
      "cell_type": "code",
      "metadata": {
        "id": "hGBHZXOAJhCn"
      },
      "source": [
        "from sklearn.linear_model import LinearRegression\n",
        "\n",
        "X = pd.concat([df[num_cols], pd.get_dummies(df[\"time_bin\"])], axis=1)\n",
        "lr = LinearRegression()\n",
        "lr.fit(X, np.log1p(df[target_col]))\n",
        "df[pred_col] = np.expm1(lr.predict(X))"
      ],
      "execution_count": null,
      "outputs": []
    },
    {
      "cell_type": "code",
      "metadata": {
        "id": "v4lTY5XoJg9-"
      },
      "source": [
        "# 원본 데이터 : 10.21.\n",
        "\n",
        "month = []\n",
        "day = []\n",
        "\n",
        "for data in corona_del_col['확진일']:\n",
        "    month.append(data.split('.')[0])\n",
        "    day.append(data.split('.')[1])\n",
        "\n",
        "corona_del_col['month'] = month\n",
        "corona_del_col['day'] = day\n",
        "\n",
        "corona_del_col['month'].astype('int64')\n",
        "corona_del_col['day'].astype('int64')"
      ],
      "execution_count": null,
      "outputs": []
    },
    {
      "cell_type": "code",
      "metadata": {
        "id": "w1DWEXyH8NTT"
      },
      "source": [
        "corona_del_col['month'].value_counts().plot(kind='bar')"
      ],
      "execution_count": null,
      "outputs": []
    },
    {
      "cell_type": "code",
      "metadata": {
        "id": "O7vRavVR8svq"
      },
      "source": [
        "corona_del_col.groupby([\"month\"]).agg({\"day\":\"count\"})"
      ],
      "execution_count": null,
      "outputs": []
    },
    {
      "cell_type": "code",
      "metadata": {
        "id": "gECviSoS92FJ"
      },
      "source": [
        "import matplotlib.font_manager as fm\n",
        "\n",
        "font_dirs = ['/usr/share/fonts/truetype/nanum', ]\n",
        "font_files = fm.findSystemFonts(fontpaths=font_dirs)\n",
        "\n",
        "for font_file in font_files:\n",
        "    fm.fontManager.addfont(font_file)\n",
        "\n",
        "plt.figure(figsize=(20,10))\n",
        "sns.set(font=\"NanumBarunGothic\", \n",
        "        rc={\"axes.unicode_minus\":False},\n",
        "        style='darkgrid')\n",
        "ax = sns.countplot(x=\"지역\", data=corona_del_col, palette=\"Set2\")"
      ],
      "execution_count": null,
      "outputs": []
    }
  ]
}