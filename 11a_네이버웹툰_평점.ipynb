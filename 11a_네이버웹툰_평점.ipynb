{
  "nbformat": 4,
  "nbformat_minor": 0,
  "metadata": {
    "colab": {
      "name": "11a_네이버웹툰_평점.ipynb",
      "provenance": [],
      "collapsed_sections": [],
      "authorship_tag": "ABX9TyMAElIxwOzpxFvFglxhpdgz",
      "include_colab_link": true
    },
    "kernelspec": {
      "name": "python3",
      "display_name": "Python 3"
    }
  },
  "cells": [
    {
      "cell_type": "markdown",
      "metadata": {
        "id": "view-in-github",
        "colab_type": "text"
      },
      "source": [
        "<a href=\"https://colab.research.google.com/github/mjkimcs/portfolio/blob/main/11a_%EB%84%A4%EC%9D%B4%EB%B2%84%EC%9B%B9%ED%88%B0_%ED%8F%89%EC%A0%90.ipynb\" target=\"_parent\"><img src=\"https://colab.research.google.com/assets/colab-badge.svg\" alt=\"Open In Colab\"/></a>"
      ]
    },
    {
      "cell_type": "markdown",
      "metadata": {
        "id": "VpTi4CgLwBNK"
      },
      "source": [
        "**웹 스크래핑**: 웹페이지에서 내가 원하는 데이터를 추출해오는 행위\r\n",
        "\r\n",
        "**웹 크롤링**: 웹페이지 내에서 허용된 링크들을 따라가면서 마구잡이로 데이터를 가져오는 행위"
      ]
    },
    {
      "cell_type": "markdown",
      "metadata": {
        "id": "xEE0Ggc-xgdH"
      },
      "source": [
        "HTML (Hyper Text Markup Language) 배우기: https://www.w3schools.com/"
      ]
    },
    {
      "cell_type": "markdown",
      "metadata": {
        "id": "qiaUWscJbCX8"
      },
      "source": [
        "### 정규(표현)식\r\n",
        "* . : 하나의 문자 \r\n",
        "      ca.e - care, cafe, case\r\n",
        "* ^ : 문자열의 시작 \r\n",
        "      ^de - desk, destination\r\n",
        "* $ : 문자열의 끝 \r\n",
        "      se$ - case, base  \r\n",
        "\r\n",
        "(참고)  \r\n",
        "https://www.w3schools.com/python/python_regex.asp  \r\n",
        "https://docs.python.org/3/library/re.html"
      ]
    },
    {
      "cell_type": "code",
      "metadata": {
        "id": "mPitjF-zbBnL"
      },
      "source": [
        "import re"
      ],
      "execution_count": null,
      "outputs": []
    },
    {
      "cell_type": "code",
      "metadata": {
        "id": "6djDVIXYdMw4"
      },
      "source": [
        "p = re.compile(\"ca.e\")"
      ],
      "execution_count": null,
      "outputs": []
    },
    {
      "cell_type": "code",
      "metadata": {
        "id": "lGFIPzcbv7ch"
      },
      "source": [
        "def print_c(m):\r\n",
        "  if m:\r\n",
        "    print(\"m.group()\", m.group()) # 일치하는 문자열 반환\r\n",
        "    print(\"m.string:\", m.string) # 입력받은 문자열\r\n",
        "    print(\"m.start():\", m.start()) # 일치하는 문자열의 시작 index\r\n",
        "    print(\"m.end(():\", m.end()) # 일치하는 문자열의 끝 index\r\n",
        "    print(\"m.span():\", m.span()) # 일치하는 문자열의 시작과 끝 index\r\n",
        "  else:\r\n",
        "    print(\"오류\")"
      ],
      "execution_count": null,
      "outputs": []
    },
    {
      "cell_type": "markdown",
      "metadata": {
        "id": "L_xPoe3Ri0oc"
      },
      "source": [
        "*  match: 주어진 문자열의 처음부터 일치하는지 확인\r\n",
        "*  search: 주어진 문자열 중에 일치하는 것이 있는지 확인\r\n",
        "*  findall: 일치하는 모든 것을 리스트 형태로 반환"
      ]
    },
    {
      "cell_type": "code",
      "metadata": {
        "colab": {
          "base_uri": "https://localhost:8080/"
        },
        "id": "Cf4HC94jcmNN",
        "outputId": "d8b1b309-8206-4f0a-9154-7c0449d84238"
      },
      "source": [
        "m = p.match(\"care\")\r\n",
        "print_c(m)"
      ],
      "execution_count": null,
      "outputs": [
        {
          "output_type": "stream",
          "text": [
            "m.group() care\n",
            "m.string: care\n",
            "m.start(): 0\n",
            "m.end((): 4\n",
            "m.span(): (0, 4)\n"
          ],
          "name": "stdout"
        }
      ]
    },
    {
      "cell_type": "code",
      "metadata": {
        "colab": {
          "base_uri": "https://localhost:8080/"
        },
        "id": "L4v7YtYdddfL",
        "outputId": "292f8c54-2097-40f1-bb0c-71c605d53462"
      },
      "source": [
        "m = p.match(\"good care\")\r\n",
        "print_c(m)"
      ],
      "execution_count": null,
      "outputs": [
        {
          "output_type": "stream",
          "text": [
            "오류\n"
          ],
          "name": "stdout"
        }
      ]
    },
    {
      "cell_type": "code",
      "metadata": {
        "colab": {
          "base_uri": "https://localhost:8080/"
        },
        "id": "PS7OY4SPdhnr",
        "outputId": "957f1ce4-47a2-4bb6-bb66-b34874d255a4"
      },
      "source": [
        "m = p.match(\"careless\")\r\n",
        "print_c(m)"
      ],
      "execution_count": null,
      "outputs": [
        {
          "output_type": "stream",
          "text": [
            "m.group() care\n",
            "m.string: careless\n",
            "m.start(): 0\n",
            "m.end((): 4\n",
            "m.span(): (0, 4)\n"
          ],
          "name": "stdout"
        }
      ]
    },
    {
      "cell_type": "code",
      "metadata": {
        "colab": {
          "base_uri": "https://localhost:8080/"
        },
        "id": "TnrGKA9Vdmpr",
        "outputId": "fad57600-7ef8-4b9c-9053-b3ae5cf5bebc"
      },
      "source": [
        "m = p.search(\"good care\")\r\n",
        "print_c(m)"
      ],
      "execution_count": null,
      "outputs": [
        {
          "output_type": "stream",
          "text": [
            "m.group() care\n",
            "m.string: good care\n",
            "m.start(): 5\n",
            "m.end((): 9\n",
            "m.span(): (5, 9)\n"
          ],
          "name": "stdout"
        }
      ]
    },
    {
      "cell_type": "code",
      "metadata": {
        "colab": {
          "base_uri": "https://localhost:8080/"
        },
        "id": "MvgthI0ud2t0",
        "outputId": "613d5708-a128-4616-bc4d-b6717dccc7b8"
      },
      "source": [
        "list = p.findall(\"careless\")\r\n",
        "print(list)"
      ],
      "execution_count": null,
      "outputs": [
        {
          "output_type": "stream",
          "text": [
            "['care']\n"
          ],
          "name": "stdout"
        }
      ]
    },
    {
      "cell_type": "code",
      "metadata": {
        "colab": {
          "base_uri": "https://localhost:8080/"
        },
        "id": "FLi7qOMJq5cd",
        "outputId": "d011f721-abb8-4562-afb9-0d24d11f14c1"
      },
      "source": [
        "list = p.findall(\"good care cafe\")\r\n",
        "print(list)"
      ],
      "execution_count": null,
      "outputs": [
        {
          "output_type": "stream",
          "text": [
            "['care', 'cafe']\n"
          ],
          "name": "stdout"
        }
      ]
    },
    {
      "cell_type": "markdown",
      "metadata": {
        "id": "W3MHJYshSd-Z"
      },
      "source": [
        "### 활용 1. 네이버 웹툰 페이지"
      ]
    },
    {
      "cell_type": "code",
      "metadata": {
        "id": "VYjQd4Z4rBWs"
      },
      "source": [
        "import requests\r\n",
        "from bs4 import BeautifulSoup\r\n",
        "\r\n",
        "#BeautifulSoup 배우기: https://www.crummy.com/software/BeautifulSoup/bs4/doc/"
      ],
      "execution_count": null,
      "outputs": []
    },
    {
      "cell_type": "code",
      "metadata": {
        "id": "12UAcb8fTqhB"
      },
      "source": [
        "url = \"https://comic.naver.com/webtoon/list.nhn?titleId=650305&weekday=sat\"\r\n",
        "res = requests.get(url)\r\n",
        "res.raise_for_status()\r\n",
        "\r\n",
        "soup = BeautifulSoup(res.text, \"lxml\")"
      ],
      "execution_count": null,
      "outputs": []
    },
    {
      "cell_type": "code",
      "metadata": {
        "colab": {
          "base_uri": "https://localhost:8080/"
        },
        "id": "H6DyzMiVU_yU",
        "outputId": "5a73c34d-4867-4e2f-8aac-7b7b56972d68"
      },
      "source": [
        "total_rates = 0\r\n",
        "cartoons = soup.find_all(\"div\", attrs={\"class\":\"rating_type\"})\r\n",
        "for cartoon in cartoons:\r\n",
        "  rate = cartoon.find(\"strong\").get_text()\r\n",
        "  print(rate)\r\n",
        "  total_rates += float(rate)\r\n",
        "print(\"전체 점수 : \", total_rates)\r\n",
        "print(\"평균 점수 : \", total_rates/len(cartoons))"
      ],
      "execution_count": null,
      "outputs": [
        {
          "output_type": "stream",
          "text": [
            "9.93\n",
            "9.91\n",
            "9.90\n",
            "9.94\n",
            "9.80\n",
            "9.93\n",
            "9.93\n",
            "9.95\n",
            "9.97\n",
            "9.98\n",
            "전체 점수 :  99.24000000000001\n",
            "평균 점수 :  9.924000000000001\n"
          ],
          "name": "stdout"
        }
      ]
    },
    {
      "cell_type": "code",
      "metadata": {
        "colab": {
          "base_uri": "https://localhost:8080/"
        },
        "id": "h-sZQ2quUlVL",
        "outputId": "a8c582ec-99e4-416e-ad70-783f4e78ff51"
      },
      "source": [
        "cartoons = soup.find_all(\"td\", attrs={\"class\":\"title\"})\r\n",
        "for cartoon in cartoons:\r\n",
        "  title = cartoon.a.get_text()\r\n",
        "  link = \"https://comic.naver.com\" + cartoon.a[\"href\"]\r\n",
        "  print(title, link)"
      ],
      "execution_count": null,
      "outputs": [
        {
          "output_type": "stream",
          "text": [
            "2부214화 기억의 편린(片鱗)들 https://comic.naver.com/webtoon/detail.nhn?titleId=650305&no=297&weekday=sat\n",
            "2부213화 전원 투입! https://comic.naver.com/webtoon/detail.nhn?titleId=650305&no=296&weekday=sat\n",
            "2부212화 발설 https://comic.naver.com/webtoon/detail.nhn?titleId=650305&no=295&weekday=sat\n",
            "2부211화 각자의 자리에서 https://comic.naver.com/webtoon/detail.nhn?titleId=650305&no=294&weekday=sat\n",
            "2부210화 씨 불(火)2 https://comic.naver.com/webtoon/detail.nhn?titleId=650305&no=293&weekday=sat\n",
            "2부209화 씨 불(火)1 https://comic.naver.com/webtoon/detail.nhn?titleId=650305&no=292&weekday=sat\n",
            "2부208화 흰눈썹 대 빠르3 https://comic.naver.com/webtoon/detail.nhn?titleId=650305&no=291&weekday=sat\n",
            "2부207화 흰눈썹 대 빠르2 https://comic.naver.com/webtoon/detail.nhn?titleId=650305&no=290&weekday=sat\n",
            "2부206화 흰눈썹 대 빠르1 https://comic.naver.com/webtoon/detail.nhn?titleId=650305&no=289&weekday=sat\n",
            "2부205화 아비사 구출작전4 https://comic.naver.com/webtoon/detail.nhn?titleId=650305&no=288&weekday=sat\n"
          ],
          "name": "stdout"
        }
      ]
    },
    {
      "cell_type": "code",
      "metadata": {
        "id": "bwWhtj1NcYVo"
      },
      "source": [
        "url = \"https://comic.naver.com/webtoon/weekday.nhn\"\r\n",
        "res = requests.get(url)\r\n",
        "res.raise_for_status()\r\n",
        "\r\n",
        "soup = BeautifulSoup(res.text, \"lxml\")"
      ],
      "execution_count": null,
      "outputs": []
    },
    {
      "cell_type": "code",
      "metadata": {
        "colab": {
          "base_uri": "https://localhost:8080/"
        },
        "id": "ukX2lcphcYVp",
        "outputId": "69a7787c-be00-408b-c7d7-72253d07f536"
      },
      "source": [
        "rank1 = soup.find(\"li\", attrs={\"class\":\"rank01\"})\r\n",
        "print(rank1.a.get_text())"
      ],
      "execution_count": null,
      "outputs": [
        {
          "output_type": "stream",
          "text": [
            "급식아빠-3화 너 내가 보여?\n"
          ],
          "name": "stdout"
        }
      ]
    },
    {
      "cell_type": "code",
      "metadata": {
        "colab": {
          "base_uri": "https://localhost:8080/"
        },
        "id": "1yp-D-WpcYVq",
        "outputId": "11e24c4f-c5c8-4bb1-9e14-068d5dcdad78"
      },
      "source": [
        "print(rank1.find_next_siblings(\"li\"))"
      ],
      "execution_count": null,
      "outputs": [
        {
          "output_type": "stream",
          "text": [
            "[<li class=\"rank02\">\n",
            "<a href=\"/webtoon/detail.nhn?titleId=747269&amp;no=38\" onclick=\"nclk_v2(event,'rnk*p.cont','747269','2')\" title=\"전지적 독자 시점-037. Ep.09 전지적 개복치 (1)\">전지적 독자 시점-037. Ep.09 전지적 개복치 (1)</a>\n",
            "<span class=\"rankBox\">\n",
            "<img alt=\"변동없음\" height=\"10\" src=\"https://ssl.pstatic.net/static/comic/images/migration/common/arrow_no.gif\" title=\"변동없음\" width=\"7\"/> 0\n",
            "\t\t\t\t\t\t\n",
            "\t\t\t\t\t\n",
            "\t\t\t\t</span>\n",
            "</li>, <li class=\"rank03\">\n",
            "<a href=\"/webtoon/detail.nhn?titleId=626907&amp;no=331\" onclick=\"nclk_v2(event,'rnk*p.cont','626907','3')\" title=\"복학왕-329화 입주 2화\">복학왕-329화 입주 2화</a>\n",
            "<span class=\"rankBox\">\n",
            "<img alt=\"변동없음\" height=\"10\" src=\"https://ssl.pstatic.net/static/comic/images/migration/common/arrow_no.gif\" title=\"변동없음\" width=\"7\"/> 0\n",
            "\t\t\t\t\t\t\n",
            "\t\t\t\t\t\n",
            "\t\t\t\t</span>\n",
            "</li>, <li class=\"rank04\">\n",
            "<a href=\"/webtoon/detail.nhn?titleId=662774&amp;no=223\" onclick=\"nclk_v2(event,'rnk*p.cont','662774','4')\" title=\"고수-2부 133화\">고수-2부 133화</a>\n",
            "<span class=\"rankBox\">\n",
            "<img alt=\"변동없음\" height=\"10\" src=\"https://ssl.pstatic.net/static/comic/images/migration/common/arrow_no.gif\" title=\"변동없음\" width=\"7\"/> 0\n",
            "\t\t\t\t\t\t\n",
            "\t\t\t\t\t\n",
            "\t\t\t\t</span>\n",
            "</li>, <li class=\"rank05\">\n",
            "<a href=\"/webtoon/detail.nhn?titleId=710747&amp;no=112\" onclick=\"nclk_v2(event,'rnk*p.cont','710747','5')\" title=\"세상은 돈과 권력-시즌2 5화\">세상은 돈과 권력-시즌2 5화</a>\n",
            "<span class=\"rankBox\">\n",
            "<img alt=\"변동없음\" height=\"10\" src=\"https://ssl.pstatic.net/static/comic/images/migration/common/arrow_no.gif\" title=\"변동없음\" width=\"7\"/> 0\n",
            "\t\t\t\t\t\t\n",
            "\t\t\t\t\t\n",
            "\t\t\t\t</span>\n",
            "</li>, <li class=\"rank06\">\n",
            "<a href=\"/webtoon/detail.nhn?titleId=738143&amp;no=60\" onclick=\"nclk_v2(event,'rnk*p.cont','738143','6')\" title=\"여주실격!-60화 천재의 피 (1)\">여주실격!-60화 천재의 피 (1)</a>\n",
            "<span class=\"rankBox\">\n",
            "<img alt=\"변동없음\" height=\"10\" src=\"https://ssl.pstatic.net/static/comic/images/migration/common/arrow_no.gif\" title=\"변동없음\" width=\"7\"/> 0\n",
            "\t\t\t\t\t\t\n",
            "\t\t\t\t\t\n",
            "\t\t\t\t</span>\n",
            "</li>, <li class=\"rank07\">\n",
            "<a href=\"/webtoon/detail.nhn?titleId=760001&amp;no=12\" onclick=\"nclk_v2(event,'rnk*p.cont','760001','7')\" title=\"하렘의 남자들-11화\">하렘의 남자들-11화</a>\n",
            "<span class=\"rankBox\">\n",
            "<img alt=\"순위상승\" height=\"10\" src=\"https://ssl.pstatic.net/static/comic/images/migration/common/arrow_up.gif\" title=\"순위상승\" width=\"7\"/>2\n",
            "\t\t\t\t\t\t\n",
            "\t\t\t\t\t\t\n",
            "\t\t\t\t\t\n",
            "\t\t\t\t</span>\n",
            "</li>, <li class=\"rank08\">\n",
            "<a href=\"/webtoon/detail.nhn?titleId=738694&amp;no=41\" onclick=\"nclk_v2(event,'rnk*p.cont','738694','8')\" title=\"튜토리얼 탑의 고인물-41화\">튜토리얼 탑의 고인물-41화</a>\n",
            "<span class=\"rankBox\">\n",
            "<img alt=\"순위하락\" height=\"10\" src=\"https://ssl.pstatic.net/static/comic/images/migration/common/arrow_down.gif\" title=\"순위하락\" width=\"7\"/>1\n",
            "\t\t\t\t\t\t\n",
            "\t\t\t\t\t\t\n",
            "\t\t\t\t\t\t\n",
            "\t\t\t\t\t\n",
            "\t\t\t\t</span>\n",
            "</li>, <li class=\"rank09\">\n",
            "<a href=\"/webtoon/detail.nhn?titleId=750184&amp;no=27\" onclick=\"nclk_v2(event,'rnk*p.cont','750184','9')\" title=\"나쁜사람-27화\">나쁜사람-27화</a>\n",
            "<span class=\"rankBox\">\n",
            "<img alt=\"순위하락\" height=\"10\" src=\"https://ssl.pstatic.net/static/comic/images/migration/common/arrow_down.gif\" title=\"순위하락\" width=\"7\"/>1\n",
            "\t\t\t\t\t\t\n",
            "\t\t\t\t\t\t\n",
            "\t\t\t\t\t\t\n",
            "\t\t\t\t\t\n",
            "\t\t\t\t</span>\n",
            "</li>, <li class=\"rank10\">\n",
            "<a href=\"/webtoon/detail.nhn?titleId=667573&amp;no=260\" onclick=\"nclk_v2(event,'rnk*p.cont','667573','10')\" title=\"연놈-260화. 뒤에 있는 아이들\">연놈-260화. 뒤에 있는 아이들</a>\n",
            "<span class=\"rankBox\">\n",
            "<img alt=\"순위상승\" height=\"10\" src=\"https://ssl.pstatic.net/static/comic/images/migration/common/arrow_up.gif\" title=\"순위상승\" width=\"7\"/>1\n",
            "\t\t\t\t\t\t\n",
            "\t\t\t\t\t\t\n",
            "\t\t\t\t\t\n",
            "\t\t\t\t</span>\n",
            "</li>]\n"
          ],
          "name": "stdout"
        }
      ]
    },
    {
      "cell_type": "code",
      "metadata": {
        "colab": {
          "base_uri": "https://localhost:8080/"
        },
        "id": "BoJEimU_cYVr",
        "outputId": "26bccbc4-2007-4375-977b-88ba2cd91043"
      },
      "source": [
        "cartoons = soup.find_all(\"a\", attrs={\"class\":\"title\"})\r\n",
        "for cartoon in cartoons:\r\n",
        "  print(cartoon.get_text())"
      ],
      "execution_count": null,
      "outputs": [
        {
          "output_type": "stream",
          "text": [
            "참교육\n",
            "뷰티풀 군바리\n",
            "윈드브레이커\n",
            "소녀의 세계\n",
            "백수세끼\n",
            "장씨세가 호위무사\n",
            "만렙돌파\n",
            "파이게임\n",
            "앵무살수\n",
            "선배, 그 립스틱 바르지 마요\n",
            "유일무이 로맨스\n",
            "칼가는 소녀\n",
            "요리GO\n",
            "오늘의 순정망화\n",
            "트리거\n",
            "바이러스X\n",
            "히어로메이커\n",
            "싸이코 리벤지\n",
            "리턴 투 플레이어\n",
            "결혼생활 그림일기\n",
            "순정말고 순종\n",
            "평범한 8반\n",
            "이탄국의 자청비\n",
            "아는 여자애\n",
            "라서드\n",
            "삶이 우리를 속일지라도\n",
            "마지막 지수\n",
            "사장님을 잠금해제\n",
            "꿈의 기업\n",
            "서브 콤플렉스\n",
            "오로지 오로라\n",
            "개밥 먹는 남자\n",
            "침범\n",
            "왕따협상\n",
            "피플\n",
            "와이키키 뱀파이어\n",
            "두근두근 네가 좋아서\n",
            "뱀파이어의 꽃\n",
            "도플갱어의 게임\n",
            "정보전사 202\n",
            "이중첩자\n",
            "백호랑\n",
            "지구멸망버튼\n",
            "안녕 나의 모모로\n",
            "원하는 건 너 하나\n",
            "하슬라\n",
            "인간의 온도\n",
            "여기 악마가 있어\n",
            "드로잉 레시피\n",
            "보살님이 캐리해!\n",
            "헬로맨스\n",
            "블루투스\n",
            "모락모락 왕세자님\n",
            "여신강림\n",
            "관계의 종말\n",
            "바른연애 길잡이\n",
            "한림체육관\n",
            "랜덤채팅의 그녀!\n",
            "하루만 네가 되고 싶어\n",
            "사신소년\n",
            "중증외상센터 : 골든 아워\n",
            "헬58\n",
            "신도림\n",
            "호랑이 들어와요\n",
            "원주민 공포만화\n",
            "삼국지톡\n",
            "달콤살벌한 부부\n",
            "악인\n",
            "집이 없어\n",
            "오늘의 순정망화\n",
            "아이레\n",
            "견우와 선녀\n",
            "윌유메리미\n",
            "오피스 누나 이야기\n",
            "용왕님의 셰프가 되었습니다\n",
            "성인초딩\n",
            "플레이, 플리\n",
            "그날 죽은 나는\n",
            "빅맨\n",
            "3cm 헌터\n",
            "제로게임\n",
            "정년이\n",
            "풋내기들\n",
            "열녀박씨 계약결혼뎐\n",
            "한강예찬\n",
            "그놈은 흑염룡\n",
            "은주의 방 2~3부\n",
            "올가미\n",
            "별종\n",
            "연우의 순정\n",
            "나의 플랏메이트\n",
            "오파츠\n",
            "숲속의 담\n",
            "빛빛빛\n",
            "조선홍보대행사 조대박\n",
            "완벽한 가족\n",
            "자판귀\n",
            "언메이크\n",
            "안식의 밤\n",
            "도를 아십니까\n",
            "필살VS로맨스\n",
            "피로만땅\n",
            "저세상 클라스!\n",
            "인문학적 감수성\n",
            "장단에 맞춰줘!\n",
            "체크포인트\n",
            "고수\n",
            "전지적 독자 시점\n",
            "복학왕\n",
            "모죠의 일지\n",
            "격기3반\n",
            "하렘의 남자들\n",
            "세상은 돈과 권력\n",
            "급식아빠\n",
            "튜토리얼 탑의 고인물\n",
            "노곤하개\n",
            "캐슬\n",
            "남주의 첫날밤을 가져버렸다\n",
            "여주실격!\n",
            "연놈\n",
            "일렉시드\n",
            "원수를 사랑하라\n",
            "고삼무쌍\n",
            "닥터앤닥터 육아일기\n",
            "나쁜사람\n",
            "엔딩 후 서브남을 주웠다\n",
            "판타지 여동생!\n",
            "말하는대로\n",
            "빌드업\n",
            "뱀은 꽃을 먹는가\n",
            "마녀와 용의 신혼일기\n",
            "해귀\n",
            "미래의 골동품 가게\n",
            "사상최강\n",
            "정순애 식당\n",
            "귀곡의 문\n",
            "각자의 디데이\n",
            "마른 가지에 바람처럼\n",
            "반귀\n",
            "언덕 위의 제임스\n",
            "아도나이\n",
            "방탈출\n",
            "로어 올림푸스\n",
            "럭키언럭키\n",
            "새벽 두 시의 신데렐라\n",
            "범이올시다!\n",
            "더 트웰브\n",
            "얼굴천재\n",
            "당신의 향수\n",
            "속보입니다\n",
            "인터셉트\n",
            "기억흔적\n",
            "스캔들\n",
            "평화선도부\n",
            "천도\n",
            "노선도\n",
            "저승사자 출입금지\n",
            "이츠마인\n",
            "시효완성\n",
            "수상한 비밀상담부\n",
            "스몰\n",
            "독립일기\n",
            "연애혁명\n",
            "더 복서\n",
            "기기괴괴\n",
            "이두나!\n",
            "노답소녀\n",
            "간 떨어지는 동거\n",
            "나노마신\n",
            "화이트 블러드\n",
            "정글쥬스\n",
            "하드캐리\n",
            "달의 요람\n",
            "무사만리행\n",
            "전자오락수호대\n",
            "겟백\n",
            "성스러운 아이돌\n",
            "꽃만 키우는데 너무강함\n",
            "오늘의 순정망화\n",
            "당신의 과녁\n",
            "던전 씹어먹는 아티팩트\n",
            "트롤트랩\n",
            "쿠베라\n",
            "최강전설 강해효\n",
            "선의의 경쟁\n",
            "신비\n",
            "시월드 판타지\n",
            "셧업앤댄스\n",
            "별을 삼킨 너에게\n",
            "롤랑롤랑\n",
            "자취방 신선들\n",
            "오일머니\n",
            "유리와 유리와 유리\n",
            "로그아웃\n",
            "킬더킹\n",
            "겟라이프\n",
            "소녀180\n",
            "집사레인저\n",
            "셈하는 사이\n",
            "바른탕진 프로젝트\n",
            "미드나잇 체이서\n",
            "불릿 6미리\n",
            "스테어스\n",
            "보물과 괴물의 도시\n",
            "손아귀\n",
            "카루나\n",
            "헬프미\n",
            "밤하늘에 구름운\n",
            "악령주의보\n",
            "온새미로\n",
            "안개무덤\n",
            "만물의 영장\n",
            "외모지상주의\n",
            "갓 오브 하이스쿨\n",
            "여성전용헬스장 진달래짐\n",
            "관계의 종말\n",
            "데드퀸\n",
            "재혼 황후\n",
            "1초\n",
            "개를 낳았다\n",
            "세기말 풋사과 보습학원\n",
            "살人스타그램\n",
            "스포\n",
            "더 게이머\n",
            "낙향문사전\n",
            "삼국지톡\n",
            "뫼신 사냥꾼\n",
            "냐한남자\n",
            "걸어서 30분\n",
            "난약\n",
            "감자마을\n",
            "플레이어\n",
            "상남자\n",
            "복학생 정순이\n",
            "꽃 피우는 남자\n",
            "가슴털 로망스\n",
            "고래별\n",
            "구남친이 내게 반했다\n",
            "신상 미스터리 극장\n",
            "빨리감기\n",
            "강림전기 개정기\n",
            "성경의 역사\n",
            "금혼령-조선혼인금지령\n",
            "방과후 선녀\n",
            "소심한 팔레트\n",
            "피와 나비\n",
            "닥터 프로스트 시즌 3~4\n",
            "얌전한 사이\n",
            "도롱이\n",
            "후덜덜덜 남극전자\n",
            "히트포인트\n",
            "도무지 그애는\n",
            "감히\n",
            "진짜 정말 맹세코 좋아해\n",
            "백년게임\n",
            "구독금지\n",
            "트럼프\n",
            "몽홀\n",
            "나쁜 쪽으로\n",
            "스윗솔티\n",
            "구주의 시간\n",
            "버그: 스티그마\n",
            "매지컬 메디컬\n",
            "합법해적 파르페\n",
            "너의 미소가 함정\n",
            "호랑이형님\n",
            "프리드로우\n",
            "모죠의 일지\n",
            "취사병 전설이 되다\n",
            "욕망일기\n",
            "초인의 시대\n",
            "지옥급식\n",
            "노곤하개\n",
            "스터디그룹\n",
            "힙한남자\n",
            "광장\n",
            "청춘 블라썸\n",
            "민간인 통제구역\n",
            "토끼대왕\n",
            "군주\n",
            "나이트런\n",
            "아홉수 우리들\n",
            "윌유메리미\n",
            "어글리후드\n",
            "나를 바꿔줘\n",
            "왕년엔 용사님\n",
            "갓핑크\n",
            "두번째 생일\n",
            "탑코너\n",
            "동트는 로맨스\n",
            "단편.zip\n",
            "피라미드 게임\n",
            "왕세자 입학도\n",
            "남자주인공의 여자사람친구입니다\n",
            "먹이\n",
            "태백 : 튜토리얼 맨\n",
            "좋은데 어떡해\n",
            "언플래시레슨\n",
            "틴맘\n",
            "광해의 연인\n",
            "모두 너였다\n",
            "홍시는 날 좋아해!\n",
            "내게 필요한 NO맨스\n",
            "웰캄투실버라이프\n",
            "오늘부터 천생연분\n",
            "저무는 해, 시린 눈\n",
            "압락사스\n",
            "팔려 온 신부\n",
            "동네몬스터\n",
            "친구의 비밀계정\n",
            "피노키오 소녀\n",
            "공유몽\n",
            "후아유!\n",
            "손 잡아 볼래?\n",
            "아테나 컴플렉스\n",
            "도사 가온\n",
            "아침을 지나 밤으로\n",
            "안녕, 이바다씨\n",
            "인간졸업\n",
            "꼬리 있는 연애\n",
            "커피도둑\n",
            "누군가의 로섬\n",
            "함부로 대해줘\n",
            "먹지마세요\n",
            "독립일기\n",
            "싸움독학\n",
            "열렙전사\n",
            "테러대부활\n",
            "입학용병\n",
            "맘마미안\n",
            "소녀재판\n",
            "도망자\n",
            "천하제일인\n",
            "곱게 키웠더니, 짐승\n",
            "닥터앤닥터 육아일기\n",
            "이번 생도 잘 부탁해\n",
            "오로지 너를 이기고 싶어\n",
            "나만 보여!\n",
            "경비 배두만\n",
            "살아남은 로맨스\n",
            "행성인간\n",
            "합격시켜주세용\n",
            "마법스크롤 상인 지오\n",
            "인어를 위한 수영교실\n",
            "내일\n",
            "결혼까지 망상했어!\n",
            "구름이 피워낸 꽃\n",
            "다이스(DICE)\n",
            "별이삼샵\n",
            "가비지타임\n",
            "로어 올림푸스\n",
            "AI가 세상을 지배한다면\n",
            "판사 이한영\n",
            "벚꽃이 흩날릴 무렵\n",
            "강남도깨비\n",
            "두근두근 연극부\n",
            "데빌샷\n",
            "학교정벌\n",
            "라일락 200%\n",
            "아르세니아의 마법사\n",
            "라커, 오프너\n",
            "평행도시\n",
            "조선여우스캔들\n",
            "오른눈이 보는 세계\n",
            "오늘 밤만 재워줘\n",
            "잉여특공대\n",
            "샤인 스타\n",
            "불발소년\n",
            "Here U Are\n",
            "신이 담긴 아이\n",
            "오늘도 사랑하세요\n",
            "소녀 해미\n",
            "데이즈\n",
            "여름은 뜨겁다\n",
            "위험한 신입사원\n",
            "스트러글\n",
            "죽여주는 탐정님\n",
            "호시탐탐\n",
            "인싸라이프\n"
          ],
          "name": "stdout"
        }
      ]
    }
  ]
}