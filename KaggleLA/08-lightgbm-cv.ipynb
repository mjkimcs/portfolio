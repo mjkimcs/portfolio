{
 "cells": [
  {
   "cell_type": "markdown",
   "metadata": {},
   "source": [
    "# 데모"
   ]
  },
  {
   "cell_type": "markdown",
   "metadata": {},
   "source": [
    "## 라이브러리 import 및 설정"
   ]
  },
  {
   "cell_type": "code",
   "execution_count": 2,
   "metadata": {
    "ExecuteTime": {
     "end_time": "2021-08-10T23:27:09.181589Z",
     "start_time": "2021-08-10T23:27:08.791244Z"
    }
   },
   "outputs": [],
   "source": [
    "%reload_ext autoreload\n",
    "%autoreload 2\n",
    "%matplotlib inline"
   ]
  },
  {
   "cell_type": "code",
   "execution_count": 3,
   "metadata": {
    "ExecuteTime": {
     "end_time": "2021-08-10T23:27:11.137340Z",
     "start_time": "2021-08-10T23:27:09.183593Z"
    }
   },
   "outputs": [],
   "source": [
    "import lightgbm as lgb\n",
    "from matplotlib import pyplot as plt\n",
    "from matplotlib import rcParams\n",
    "import numpy as np\n",
    "from pathlib import Path\n",
    "import pandas as pd\n",
    "from sklearn.metrics import accuracy_score\n",
    "from sklearn.model_selection import StratifiedKFold\n",
    "import seaborn as sns\n",
    "import warnings"
   ]
  },
  {
   "cell_type": "code",
   "execution_count": 4,
   "metadata": {
    "ExecuteTime": {
     "end_time": "2021-08-10T23:27:11.231329Z",
     "start_time": "2021-08-10T23:27:11.138397Z"
    }
   },
   "outputs": [],
   "source": [
    "rcParams['figure.figsize'] = (16, 8)\n",
    "plt.style.use('fivethirtyeight')\n",
    "pd.set_option('max_columns', 100)\n",
    "pd.set_option(\"display.precision\", 4)\n",
    "warnings.simplefilter('ignore')"
   ]
  },
  {
   "cell_type": "markdown",
   "metadata": {},
   "source": [
    "## 학습데이터 로드"
   ]
  },
  {
   "cell_type": "markdown",
   "metadata": {},
   "source": [
    "[03-pandas-eda.ipynb](https://github.com/kaggler-tv/dku-kaggle-class/blob/master/notebook/03-pandas-eda.ipynb)에서 생성한 `feature.csv` 피처파일 사용"
   ]
  },
  {
   "cell_type": "code",
   "execution_count": 5,
   "metadata": {
    "ExecuteTime": {
     "end_time": "2021-08-10T23:27:11.326626Z",
     "start_time": "2021-08-10T23:27:11.232326Z"
    }
   },
   "outputs": [],
   "source": [
    "data_dir = Path('./open')\n",
    "feature_dir = Path('./open')\n",
    "val_dir = Path('./open')\n",
    "tst_dir = Path('./open')\n",
    "sub_dir = Path('./open')\n",
    "\n",
    "trn_file = data_dir / 'train.csv'\n",
    "tst_file = data_dir / 'test.csv'\n",
    "sample_file = data_dir / 'sample_submission.csv'\n",
    "\n",
    "target_col = 'class'\n",
    "n_fold = 5\n",
    "n_class = 3\n",
    "seed = 42"
   ]
  },
  {
   "cell_type": "code",
   "execution_count": 6,
   "metadata": {
    "ExecuteTime": {
     "end_time": "2021-08-10T23:27:12.292817Z",
     "start_time": "2021-08-10T23:27:12.190011Z"
    }
   },
   "outputs": [],
   "source": [
    "algo_name = 'lgbcv'\n",
    "feature_name = 'feature'\n",
    "model_name = f'{algo_name}_{feature_name}'\n",
    "\n",
    "feature_file = feature_dir / f'{feature_name}.csv'\n",
    "p_val_file = val_dir / f'{model_name}.val.csv'\n",
    "p_tst_file = tst_dir / f'{model_name}.tst.csv'\n",
    "sub_file = sub_dir / f'{model_name}.csv'"
   ]
  },
  {
   "cell_type": "code",
   "execution_count": 7,
   "metadata": {
    "ExecuteTime": {
     "end_time": "2021-08-10T23:27:14.116848Z",
     "start_time": "2021-08-10T23:27:12.724499Z"
    }
   },
   "outputs": [
    {
     "name": "stdout",
     "output_type": "stream",
     "text": [
      "(400000, 20)\n"
     ]
    },
    {
     "data": {
      "text/html": [
       "<div>\n",
       "<style scoped>\n",
       "    .dataframe tbody tr th:only-of-type {\n",
       "        vertical-align: middle;\n",
       "    }\n",
       "\n",
       "    .dataframe tbody tr th {\n",
       "        vertical-align: top;\n",
       "    }\n",
       "\n",
       "    .dataframe thead th {\n",
       "        text-align: right;\n",
       "    }\n",
       "</style>\n",
       "<table border=\"1\" class=\"dataframe\">\n",
       "  <thead>\n",
       "    <tr style=\"text-align: right;\">\n",
       "      <th></th>\n",
       "      <th>z</th>\n",
       "      <th>redshift</th>\n",
       "      <th>dered_u</th>\n",
       "      <th>dered_g</th>\n",
       "      <th>dered_r</th>\n",
       "      <th>dered_i</th>\n",
       "      <th>dered_z</th>\n",
       "      <th>nObserve</th>\n",
       "      <th>airmass_u</th>\n",
       "      <th>class</th>\n",
       "      <th>d_dered_u</th>\n",
       "      <th>d_dered_g</th>\n",
       "      <th>d_dered_r</th>\n",
       "      <th>d_dered_i</th>\n",
       "      <th>d_dered_z</th>\n",
       "      <th>d_dered_ig</th>\n",
       "      <th>d_dered_zg</th>\n",
       "      <th>d_dered_rz</th>\n",
       "      <th>d_dered_iz</th>\n",
       "      <th>d_obs_det</th>\n",
       "    </tr>\n",
       "    <tr>\n",
       "      <th>id</th>\n",
       "      <th></th>\n",
       "      <th></th>\n",
       "      <th></th>\n",
       "      <th></th>\n",
       "      <th></th>\n",
       "      <th></th>\n",
       "      <th></th>\n",
       "      <th></th>\n",
       "      <th></th>\n",
       "      <th></th>\n",
       "      <th></th>\n",
       "      <th></th>\n",
       "      <th></th>\n",
       "      <th></th>\n",
       "      <th></th>\n",
       "      <th></th>\n",
       "      <th></th>\n",
       "      <th></th>\n",
       "      <th></th>\n",
       "      <th></th>\n",
       "    </tr>\n",
       "  </thead>\n",
       "  <tbody>\n",
       "    <tr>\n",
       "      <th>0</th>\n",
       "      <td>16.9396</td>\n",
       "      <td>-8.1086e-05</td>\n",
       "      <td>23.1243</td>\n",
       "      <td>20.2578</td>\n",
       "      <td>18.9551</td>\n",
       "      <td>17.6321</td>\n",
       "      <td>16.9089</td>\n",
       "      <td>2.9444</td>\n",
       "      <td>1.1898</td>\n",
       "      <td>0.0</td>\n",
       "      <td>-0.1397</td>\n",
       "      <td>-0.0790</td>\n",
       "      <td>-0.0544</td>\n",
       "      <td>-0.0403</td>\n",
       "      <td>-0.0307</td>\n",
       "      <td>-2.6257</td>\n",
       "      <td>-3.3488</td>\n",
       "      <td>2.0462</td>\n",
       "      <td>0.7232</td>\n",
       "      <td>-15.0556</td>\n",
       "    </tr>\n",
       "    <tr>\n",
       "      <th>1</th>\n",
       "      <td>13.1689</td>\n",
       "      <td>4.5061e-03</td>\n",
       "      <td>14.9664</td>\n",
       "      <td>14.0045</td>\n",
       "      <td>13.4114</td>\n",
       "      <td>13.2363</td>\n",
       "      <td>13.1347</td>\n",
       "      <td>0.6931</td>\n",
       "      <td>1.2533</td>\n",
       "      <td>1.0</td>\n",
       "      <td>-0.0857</td>\n",
       "      <td>-0.0574</td>\n",
       "      <td>-0.0410</td>\n",
       "      <td>-0.0322</td>\n",
       "      <td>-0.0343</td>\n",
       "      <td>-0.7683</td>\n",
       "      <td>-0.8698</td>\n",
       "      <td>0.2767</td>\n",
       "      <td>0.1016</td>\n",
       "      <td>-0.3069</td>\n",
       "    </tr>\n",
       "    <tr>\n",
       "      <th>2</th>\n",
       "      <td>15.3500</td>\n",
       "      <td>4.7198e-04</td>\n",
       "      <td>16.6076</td>\n",
       "      <td>15.6866</td>\n",
       "      <td>15.4400</td>\n",
       "      <td>15.3217</td>\n",
       "      <td>15.2961</td>\n",
       "      <td>1.0986</td>\n",
       "      <td>1.0225</td>\n",
       "      <td>0.0</td>\n",
       "      <td>-0.1787</td>\n",
       "      <td>-0.1388</td>\n",
       "      <td>-0.0963</td>\n",
       "      <td>-0.0718</td>\n",
       "      <td>-0.0540</td>\n",
       "      <td>-0.3649</td>\n",
       "      <td>-0.3905</td>\n",
       "      <td>0.1440</td>\n",
       "      <td>0.0257</td>\n",
       "      <td>-0.9014</td>\n",
       "    </tr>\n",
       "    <tr>\n",
       "      <th>3</th>\n",
       "      <td>19.6346</td>\n",
       "      <td>5.8143e-06</td>\n",
       "      <td>25.3536</td>\n",
       "      <td>20.9947</td>\n",
       "      <td>20.0873</td>\n",
       "      <td>19.7947</td>\n",
       "      <td>19.5552</td>\n",
       "      <td>1.6094</td>\n",
       "      <td>1.2054</td>\n",
       "      <td>0.0</td>\n",
       "      <td>-0.3070</td>\n",
       "      <td>-0.1941</td>\n",
       "      <td>-0.1339</td>\n",
       "      <td>-0.1003</td>\n",
       "      <td>-0.0795</td>\n",
       "      <td>-1.2000</td>\n",
       "      <td>-1.4395</td>\n",
       "      <td>0.5321</td>\n",
       "      <td>0.2395</td>\n",
       "      <td>-1.3906</td>\n",
       "    </tr>\n",
       "    <tr>\n",
       "      <th>4</th>\n",
       "      <td>17.9826</td>\n",
       "      <td>-3.3247e-05</td>\n",
       "      <td>23.7714</td>\n",
       "      <td>20.4338</td>\n",
       "      <td>18.8630</td>\n",
       "      <td>18.1903</td>\n",
       "      <td>17.8759</td>\n",
       "      <td>2.6391</td>\n",
       "      <td>1.1939</td>\n",
       "      <td>0.0</td>\n",
       "      <td>-0.6820</td>\n",
       "      <td>-0.2653</td>\n",
       "      <td>-0.1794</td>\n",
       "      <td>-0.1339</td>\n",
       "      <td>-0.1067</td>\n",
       "      <td>-2.2436</td>\n",
       "      <td>-2.5579</td>\n",
       "      <td>0.9871</td>\n",
       "      <td>0.3144</td>\n",
       "      <td>-9.3609</td>\n",
       "    </tr>\n",
       "  </tbody>\n",
       "</table>\n",
       "</div>"
      ],
      "text/plain": [
       "          z    redshift  dered_u  dered_g  dered_r  dered_i  dered_z  \\\n",
       "id                                                                     \n",
       "0   16.9396 -8.1086e-05  23.1243  20.2578  18.9551  17.6321  16.9089   \n",
       "1   13.1689  4.5061e-03  14.9664  14.0045  13.4114  13.2363  13.1347   \n",
       "2   15.3500  4.7198e-04  16.6076  15.6866  15.4400  15.3217  15.2961   \n",
       "3   19.6346  5.8143e-06  25.3536  20.9947  20.0873  19.7947  19.5552   \n",
       "4   17.9826 -3.3247e-05  23.7714  20.4338  18.8630  18.1903  17.8759   \n",
       "\n",
       "    nObserve  airmass_u  class  d_dered_u  d_dered_g  d_dered_r  d_dered_i  \\\n",
       "id                                                                           \n",
       "0     2.9444     1.1898    0.0    -0.1397    -0.0790    -0.0544    -0.0403   \n",
       "1     0.6931     1.2533    1.0    -0.0857    -0.0574    -0.0410    -0.0322   \n",
       "2     1.0986     1.0225    0.0    -0.1787    -0.1388    -0.0963    -0.0718   \n",
       "3     1.6094     1.2054    0.0    -0.3070    -0.1941    -0.1339    -0.1003   \n",
       "4     2.6391     1.1939    0.0    -0.6820    -0.2653    -0.1794    -0.1339   \n",
       "\n",
       "    d_dered_z  d_dered_ig  d_dered_zg  d_dered_rz  d_dered_iz  d_obs_det  \n",
       "id                                                                        \n",
       "0     -0.0307     -2.6257     -3.3488      2.0462      0.7232   -15.0556  \n",
       "1     -0.0343     -0.7683     -0.8698      0.2767      0.1016    -0.3069  \n",
       "2     -0.0540     -0.3649     -0.3905      0.1440      0.0257    -0.9014  \n",
       "3     -0.0795     -1.2000     -1.4395      0.5321      0.2395    -1.3906  \n",
       "4     -0.1067     -2.2436     -2.5579      0.9871      0.3144    -9.3609  "
      ]
     },
     "execution_count": 7,
     "metadata": {},
     "output_type": "execute_result"
    }
   ],
   "source": [
    "df = pd.read_csv(feature_file, index_col=0)\n",
    "print(df.shape)\n",
    "df.head()"
   ]
  },
  {
   "cell_type": "code",
   "execution_count": 8,
   "metadata": {
    "ExecuteTime": {
     "end_time": "2021-08-10T23:27:14.797934Z",
     "start_time": "2021-08-10T23:27:14.685982Z"
    }
   },
   "outputs": [
    {
     "name": "stdout",
     "output_type": "stream",
     "text": [
      "(320000,) (320000, 19) (80000, 19)\n"
     ]
    }
   ],
   "source": [
    "y = df[target_col].values[:320000]\n",
    "df.drop(target_col, axis=1, inplace=True)\n",
    "trn = df.iloc[:320000].values\n",
    "tst = df.iloc[320000:].values\n",
    "feature_name = df.columns.tolist()\n",
    "print(y.shape, trn.shape, tst.shape)"
   ]
  },
  {
   "cell_type": "code",
   "execution_count": 22,
   "metadata": {
    "ExecuteTime": {
     "end_time": "2021-08-10T23:31:16.462859Z",
     "start_time": "2021-08-10T23:31:16.358720Z"
    }
   },
   "outputs": [
    {
     "data": {
      "text/plain": [
       "array([0., 1., 2.])"
      ]
     },
     "execution_count": 22,
     "metadata": {},
     "output_type": "execute_result"
    }
   ],
   "source": [
    "np.unique(y)"
   ]
  },
  {
   "cell_type": "markdown",
   "metadata": {},
   "source": [
    "## Stratified K-Fold Cross Validation"
   ]
  },
  {
   "cell_type": "code",
   "execution_count": 9,
   "metadata": {
    "ExecuteTime": {
     "end_time": "2021-08-10T23:27:17.365139Z",
     "start_time": "2021-08-10T23:27:17.261543Z"
    }
   },
   "outputs": [],
   "source": [
    "cv = StratifiedKFold(n_splits=n_fold, shuffle=True, random_state=seed)"
   ]
  },
  {
   "cell_type": "markdown",
   "metadata": {},
   "source": [
    "## LightGBM 모델 학습"
   ]
  },
  {
   "cell_type": "code",
   "execution_count": 27,
   "metadata": {
    "ExecuteTime": {
     "end_time": "2021-08-11T00:10:58.087302Z",
     "start_time": "2021-08-11T00:10:57.857906Z"
    }
   },
   "outputs": [
    {
     "name": "stdout",
     "output_type": "stream",
     "text": [
      "[     0      3      4 ... 319995 319996 319997]\n",
      "[     0      1      2 ... 319997 319998 319999]\n",
      "[     1      2      3 ... 319997 319998 319999]\n",
      "[     0      1      2 ... 319997 319998 319999]\n",
      "[     0      1      2 ... 319996 319998 319999]\n"
     ]
    }
   ],
   "source": [
    "for i, (i_trn, i_val) in enumerate(cv.split(trn, y), 1):\n",
    "    print(i_trn)"
   ]
  },
  {
   "cell_type": "code",
   "execution_count": 10,
   "metadata": {
    "ExecuteTime": {
     "end_time": "2021-08-10T23:27:43.491543Z",
     "start_time": "2021-08-10T23:27:19.262813Z"
    },
    "scrolled": true
   },
   "outputs": [
    {
     "name": "stdout",
     "output_type": "stream",
     "text": [
      "training model for CV #1\n",
      "[1]\tvalid_0's multi_logloss: 0.860242\n",
      "Training until validation scores don't improve for 10 rounds\n",
      "[2]\tvalid_0's multi_logloss: 0.761506\n",
      "[3]\tvalid_0's multi_logloss: 0.675522\n",
      "[4]\tvalid_0's multi_logloss: 0.604616\n",
      "[5]\tvalid_0's multi_logloss: 0.546706\n",
      "[6]\tvalid_0's multi_logloss: 0.505077\n",
      "[7]\tvalid_0's multi_logloss: 0.467878\n",
      "[8]\tvalid_0's multi_logloss: 0.44\n",
      "[9]\tvalid_0's multi_logloss: 0.411699\n",
      "[10]\tvalid_0's multi_logloss: 0.382668\n",
      "[11]\tvalid_0's multi_logloss: 0.358564\n",
      "[12]\tvalid_0's multi_logloss: 0.337997\n",
      "[13]\tvalid_0's multi_logloss: 0.319663\n",
      "[14]\tvalid_0's multi_logloss: 0.303098\n",
      "[15]\tvalid_0's multi_logloss: 0.289096\n",
      "[16]\tvalid_0's multi_logloss: 0.276654\n",
      "[17]\tvalid_0's multi_logloss: 0.266188\n",
      "[18]\tvalid_0's multi_logloss: 0.256574\n",
      "[19]\tvalid_0's multi_logloss: 0.2474\n",
      "[20]\tvalid_0's multi_logloss: 0.240341\n",
      "[21]\tvalid_0's multi_logloss: 0.23324\n",
      "[22]\tvalid_0's multi_logloss: 0.226673\n",
      "[23]\tvalid_0's multi_logloss: 0.220816\n",
      "[24]\tvalid_0's multi_logloss: 0.216642\n",
      "[25]\tvalid_0's multi_logloss: 0.212512\n",
      "[26]\tvalid_0's multi_logloss: 0.208961\n",
      "[27]\tvalid_0's multi_logloss: 0.205134\n",
      "[28]\tvalid_0's multi_logloss: 0.201581\n",
      "[29]\tvalid_0's multi_logloss: 0.198281\n",
      "[30]\tvalid_0's multi_logloss: 0.195644\n",
      "[31]\tvalid_0's multi_logloss: 0.193166\n",
      "[32]\tvalid_0's multi_logloss: 0.190936\n",
      "[33]\tvalid_0's multi_logloss: 0.188794\n",
      "[34]\tvalid_0's multi_logloss: 0.186907\n",
      "[35]\tvalid_0's multi_logloss: 0.185073\n",
      "[36]\tvalid_0's multi_logloss: 0.18376\n",
      "[37]\tvalid_0's multi_logloss: 0.182281\n",
      "[38]\tvalid_0's multi_logloss: 0.180818\n",
      "[39]\tvalid_0's multi_logloss: 0.179812\n",
      "[40]\tvalid_0's multi_logloss: 0.178586\n",
      "[41]\tvalid_0's multi_logloss: 0.177517\n",
      "[42]\tvalid_0's multi_logloss: 0.176713\n",
      "[43]\tvalid_0's multi_logloss: 0.175809\n",
      "[44]\tvalid_0's multi_logloss: 0.174924\n",
      "[45]\tvalid_0's multi_logloss: 0.174314\n",
      "[46]\tvalid_0's multi_logloss: 0.173698\n",
      "[47]\tvalid_0's multi_logloss: 0.173129\n",
      "[48]\tvalid_0's multi_logloss: 0.172457\n",
      "[49]\tvalid_0's multi_logloss: 0.17181\n",
      "[50]\tvalid_0's multi_logloss: 0.1714\n",
      "[51]\tvalid_0's multi_logloss: 0.170985\n",
      "[52]\tvalid_0's multi_logloss: 0.170695\n",
      "[53]\tvalid_0's multi_logloss: 0.170201\n",
      "[54]\tvalid_0's multi_logloss: 0.169973\n",
      "[55]\tvalid_0's multi_logloss: 0.169725\n",
      "[56]\tvalid_0's multi_logloss: 0.169372\n",
      "[57]\tvalid_0's multi_logloss: 0.168972\n",
      "[58]\tvalid_0's multi_logloss: 0.168688\n",
      "[59]\tvalid_0's multi_logloss: 0.168415\n",
      "[60]\tvalid_0's multi_logloss: 0.168109\n",
      "[61]\tvalid_0's multi_logloss: 0.167756\n",
      "[62]\tvalid_0's multi_logloss: 0.167462\n",
      "[63]\tvalid_0's multi_logloss: 0.16728\n",
      "[64]\tvalid_0's multi_logloss: 0.166982\n",
      "[65]\tvalid_0's multi_logloss: 0.166795\n",
      "[66]\tvalid_0's multi_logloss: 0.166515\n",
      "[67]\tvalid_0's multi_logloss: 0.166252\n",
      "[68]\tvalid_0's multi_logloss: 0.166129\n",
      "[69]\tvalid_0's multi_logloss: 0.165939\n",
      "[70]\tvalid_0's multi_logloss: 0.165716\n",
      "[71]\tvalid_0's multi_logloss: 0.165694\n",
      "[72]\tvalid_0's multi_logloss: 0.165725\n",
      "[73]\tvalid_0's multi_logloss: 0.165695\n",
      "[74]\tvalid_0's multi_logloss: 0.165551\n",
      "[75]\tvalid_0's multi_logloss: 0.165481\n",
      "[76]\tvalid_0's multi_logloss: 0.165421\n",
      "[77]\tvalid_0's multi_logloss: 0.165327\n",
      "[78]\tvalid_0's multi_logloss: 0.16519\n",
      "[79]\tvalid_0's multi_logloss: 0.165011\n",
      "[80]\tvalid_0's multi_logloss: 0.16491\n",
      "[81]\tvalid_0's multi_logloss: 0.164847\n",
      "[82]\tvalid_0's multi_logloss: 0.164795\n",
      "[83]\tvalid_0's multi_logloss: 0.164747\n",
      "[84]\tvalid_0's multi_logloss: 0.164577\n",
      "[85]\tvalid_0's multi_logloss: 0.164451\n",
      "[86]\tvalid_0's multi_logloss: 0.164336\n",
      "[87]\tvalid_0's multi_logloss: 0.164147\n",
      "[88]\tvalid_0's multi_logloss: 0.164031\n",
      "[89]\tvalid_0's multi_logloss: 0.163989\n",
      "[90]\tvalid_0's multi_logloss: 0.16396\n",
      "[91]\tvalid_0's multi_logloss: 0.16394\n",
      "[92]\tvalid_0's multi_logloss: 0.163834\n",
      "[93]\tvalid_0's multi_logloss: 0.16372\n",
      "[94]\tvalid_0's multi_logloss: 0.163613\n",
      "[95]\tvalid_0's multi_logloss: 0.163578\n",
      "[96]\tvalid_0's multi_logloss: 0.163526\n",
      "[97]\tvalid_0's multi_logloss: 0.163494\n",
      "[98]\tvalid_0's multi_logloss: 0.163465\n",
      "[99]\tvalid_0's multi_logloss: 0.163388\n",
      "[100]\tvalid_0's multi_logloss: 0.163287\n",
      "[101]\tvalid_0's multi_logloss: 0.163204\n",
      "[102]\tvalid_0's multi_logloss: 0.163161\n",
      "[103]\tvalid_0's multi_logloss: 0.163088\n",
      "[104]\tvalid_0's multi_logloss: 0.163055\n",
      "[105]\tvalid_0's multi_logloss: 0.162958\n",
      "[106]\tvalid_0's multi_logloss: 0.162936\n",
      "[107]\tvalid_0's multi_logloss: 0.162891\n",
      "[108]\tvalid_0's multi_logloss: 0.162889\n",
      "[109]\tvalid_0's multi_logloss: 0.162869\n",
      "[110]\tvalid_0's multi_logloss: 0.162855\n",
      "[111]\tvalid_0's multi_logloss: 0.162818\n",
      "[112]\tvalid_0's multi_logloss: 0.162778\n",
      "[113]\tvalid_0's multi_logloss: 0.162776\n",
      "[114]\tvalid_0's multi_logloss: 0.162747\n",
      "[115]\tvalid_0's multi_logloss: 0.162715\n",
      "[116]\tvalid_0's multi_logloss: 0.162721\n",
      "[117]\tvalid_0's multi_logloss: 0.162734\n",
      "[118]\tvalid_0's multi_logloss: 0.162694\n",
      "[119]\tvalid_0's multi_logloss: 0.162701\n",
      "[120]\tvalid_0's multi_logloss: 0.162681\n",
      "[121]\tvalid_0's multi_logloss: 0.162631\n",
      "[122]\tvalid_0's multi_logloss: 0.162602\n",
      "[123]\tvalid_0's multi_logloss: 0.162531\n",
      "[124]\tvalid_0's multi_logloss: 0.162532\n",
      "[125]\tvalid_0's multi_logloss: 0.162529\n",
      "[126]\tvalid_0's multi_logloss: 0.162487\n",
      "[127]\tvalid_0's multi_logloss: 0.16248\n",
      "[128]\tvalid_0's multi_logloss: 0.162513\n",
      "[129]\tvalid_0's multi_logloss: 0.162541\n",
      "[130]\tvalid_0's multi_logloss: 0.1625\n",
      "[131]\tvalid_0's multi_logloss: 0.162557\n",
      "[132]\tvalid_0's multi_logloss: 0.162537\n",
      "[133]\tvalid_0's multi_logloss: 0.162472\n",
      "[134]\tvalid_0's multi_logloss: 0.162497\n",
      "[135]\tvalid_0's multi_logloss: 0.1625\n",
      "[136]\tvalid_0's multi_logloss: 0.162519\n",
      "[137]\tvalid_0's multi_logloss: 0.162495\n",
      "[138]\tvalid_0's multi_logloss: 0.162516\n",
      "[139]\tvalid_0's multi_logloss: 0.16251\n",
      "[140]\tvalid_0's multi_logloss: 0.162482\n",
      "[141]\tvalid_0's multi_logloss: 0.162467\n",
      "[142]\tvalid_0's multi_logloss: 0.162499\n",
      "[143]\tvalid_0's multi_logloss: 0.162473\n",
      "[144]\tvalid_0's multi_logloss: 0.162433\n",
      "[145]\tvalid_0's multi_logloss: 0.162449\n",
      "[146]\tvalid_0's multi_logloss: 0.16242\n",
      "[147]\tvalid_0's multi_logloss: 0.162467\n",
      "[148]\tvalid_0's multi_logloss: 0.162398\n",
      "[149]\tvalid_0's multi_logloss: 0.162373\n",
      "[150]\tvalid_0's multi_logloss: 0.162401\n",
      "[151]\tvalid_0's multi_logloss: 0.162395\n",
      "[152]\tvalid_0's multi_logloss: 0.162373\n",
      "[153]\tvalid_0's multi_logloss: 0.162383\n",
      "[154]\tvalid_0's multi_logloss: 0.162352\n",
      "[155]\tvalid_0's multi_logloss: 0.162345\n",
      "[156]\tvalid_0's multi_logloss: 0.16232\n",
      "[157]\tvalid_0's multi_logloss: 0.162323\n",
      "[158]\tvalid_0's multi_logloss: 0.16229\n",
      "[159]\tvalid_0's multi_logloss: 0.162311\n",
      "[160]\tvalid_0's multi_logloss: 0.162312\n",
      "[161]\tvalid_0's multi_logloss: 0.162288\n",
      "[162]\tvalid_0's multi_logloss: 0.16226\n",
      "[163]\tvalid_0's multi_logloss: 0.162228\n",
      "[164]\tvalid_0's multi_logloss: 0.162231\n",
      "[165]\tvalid_0's multi_logloss: 0.162202\n",
      "[166]\tvalid_0's multi_logloss: 0.162222\n",
      "[167]\tvalid_0's multi_logloss: 0.162182\n",
      "[168]\tvalid_0's multi_logloss: 0.162178\n",
      "[169]\tvalid_0's multi_logloss: 0.162149\n",
      "[170]\tvalid_0's multi_logloss: 0.162159\n",
      "[171]\tvalid_0's multi_logloss: 0.162175\n",
      "[172]\tvalid_0's multi_logloss: 0.162181\n",
      "[173]\tvalid_0's multi_logloss: 0.162171\n",
      "[174]\tvalid_0's multi_logloss: 0.162215\n",
      "[175]\tvalid_0's multi_logloss: 0.162237\n",
      "[176]\tvalid_0's multi_logloss: 0.16223\n",
      "[177]\tvalid_0's multi_logloss: 0.162173\n",
      "[178]\tvalid_0's multi_logloss: 0.162146\n",
      "[179]\tvalid_0's multi_logloss: 0.162097\n",
      "[180]\tvalid_0's multi_logloss: 0.162109\n",
      "[181]\tvalid_0's multi_logloss: 0.162135\n",
      "[182]\tvalid_0's multi_logloss: 0.162123\n",
      "[183]\tvalid_0's multi_logloss: 0.162149\n",
      "[184]\tvalid_0's multi_logloss: 0.162162\n",
      "[185]\tvalid_0's multi_logloss: 0.16217\n",
      "[186]\tvalid_0's multi_logloss: 0.162133\n",
      "[187]\tvalid_0's multi_logloss: 0.162138\n",
      "[188]\tvalid_0's multi_logloss: 0.162186\n",
      "[189]\tvalid_0's multi_logloss: 0.162202\n",
      "Early stopping, best iteration is:\n",
      "[179]\tvalid_0's multi_logloss: 0.162097\n",
      "training model for CV #2\n",
      "[1]\tvalid_0's multi_logloss: 0.86091\n",
      "Training until validation scores don't improve for 10 rounds\n",
      "[2]\tvalid_0's multi_logloss: 0.762045\n",
      "[3]\tvalid_0's multi_logloss: 0.676389\n",
      "[4]\tvalid_0's multi_logloss: 0.606008\n",
      "[5]\tvalid_0's multi_logloss: 0.548273\n",
      "[6]\tvalid_0's multi_logloss: 0.506815\n",
      "[7]\tvalid_0's multi_logloss: 0.469583\n",
      "[8]\tvalid_0's multi_logloss: 0.441736\n",
      "[9]\tvalid_0's multi_logloss: 0.413682\n",
      "[10]\tvalid_0's multi_logloss: 0.384813\n",
      "[11]\tvalid_0's multi_logloss: 0.360675\n",
      "[12]\tvalid_0's multi_logloss: 0.340083\n",
      "[13]\tvalid_0's multi_logloss: 0.321871\n",
      "[14]\tvalid_0's multi_logloss: 0.30489\n",
      "[15]\tvalid_0's multi_logloss: 0.290623\n",
      "[16]\tvalid_0's multi_logloss: 0.278315\n",
      "[17]\tvalid_0's multi_logloss: 0.2678\n",
      "[18]\tvalid_0's multi_logloss: 0.258069\n"
     ]
    },
    {
     "name": "stdout",
     "output_type": "stream",
     "text": [
      "[19]\tvalid_0's multi_logloss: 0.248893\n",
      "[20]\tvalid_0's multi_logloss: 0.241775\n",
      "[21]\tvalid_0's multi_logloss: 0.2344\n",
      "[22]\tvalid_0's multi_logloss: 0.227824\n",
      "[23]\tvalid_0's multi_logloss: 0.221976\n",
      "[24]\tvalid_0's multi_logloss: 0.217773\n",
      "[25]\tvalid_0's multi_logloss: 0.213611\n",
      "[26]\tvalid_0's multi_logloss: 0.209973\n",
      "[27]\tvalid_0's multi_logloss: 0.206087\n",
      "[28]\tvalid_0's multi_logloss: 0.202424\n",
      "[29]\tvalid_0's multi_logloss: 0.19929\n",
      "[30]\tvalid_0's multi_logloss: 0.196741\n",
      "[31]\tvalid_0's multi_logloss: 0.194161\n",
      "[32]\tvalid_0's multi_logloss: 0.192034\n",
      "[33]\tvalid_0's multi_logloss: 0.189676\n",
      "[34]\tvalid_0's multi_logloss: 0.187624\n",
      "[35]\tvalid_0's multi_logloss: 0.18574\n",
      "[36]\tvalid_0's multi_logloss: 0.184367\n",
      "[37]\tvalid_0's multi_logloss: 0.182946\n",
      "[38]\tvalid_0's multi_logloss: 0.181529\n",
      "[39]\tvalid_0's multi_logloss: 0.180416\n",
      "[40]\tvalid_0's multi_logloss: 0.179091\n",
      "[41]\tvalid_0's multi_logloss: 0.178011\n",
      "[42]\tvalid_0's multi_logloss: 0.177042\n",
      "[43]\tvalid_0's multi_logloss: 0.176054\n",
      "[44]\tvalid_0's multi_logloss: 0.175195\n",
      "[45]\tvalid_0's multi_logloss: 0.174523\n",
      "[46]\tvalid_0's multi_logloss: 0.173836\n",
      "[47]\tvalid_0's multi_logloss: 0.173195\n",
      "[48]\tvalid_0's multi_logloss: 0.172629\n",
      "[49]\tvalid_0's multi_logloss: 0.172082\n",
      "[50]\tvalid_0's multi_logloss: 0.171659\n",
      "[51]\tvalid_0's multi_logloss: 0.171062\n",
      "[52]\tvalid_0's multi_logloss: 0.170598\n",
      "[53]\tvalid_0's multi_logloss: 0.170136\n",
      "[54]\tvalid_0's multi_logloss: 0.169843\n",
      "[55]\tvalid_0's multi_logloss: 0.169578\n",
      "[56]\tvalid_0's multi_logloss: 0.169265\n",
      "[57]\tvalid_0's multi_logloss: 0.16894\n",
      "[58]\tvalid_0's multi_logloss: 0.168641\n",
      "[59]\tvalid_0's multi_logloss: 0.168429\n",
      "[60]\tvalid_0's multi_logloss: 0.168176\n",
      "[61]\tvalid_0's multi_logloss: 0.167845\n",
      "[62]\tvalid_0's multi_logloss: 0.167611\n",
      "[63]\tvalid_0's multi_logloss: 0.16737\n",
      "[64]\tvalid_0's multi_logloss: 0.16707\n",
      "[65]\tvalid_0's multi_logloss: 0.166921\n",
      "[66]\tvalid_0's multi_logloss: 0.166742\n",
      "[67]\tvalid_0's multi_logloss: 0.16775\n",
      "[68]\tvalid_0's multi_logloss: 0.167313\n",
      "[69]\tvalid_0's multi_logloss: 0.167135\n",
      "[70]\tvalid_0's multi_logloss: 0.166838\n",
      "[71]\tvalid_0's multi_logloss: 0.166699\n",
      "[72]\tvalid_0's multi_logloss: 0.167486\n",
      "[73]\tvalid_0's multi_logloss: 0.167278\n",
      "[74]\tvalid_0's multi_logloss: 0.173873\n",
      "[75]\tvalid_0's multi_logloss: 0.171338\n",
      "[76]\tvalid_0's multi_logloss: 0.170873\n",
      "[77]\tvalid_0's multi_logloss: 0.171024\n",
      "[78]\tvalid_0's multi_logloss: 0.171047\n",
      "[79]\tvalid_0's multi_logloss: 0.1708\n",
      "[80]\tvalid_0's multi_logloss: 0.170591\n",
      "[81]\tvalid_0's multi_logloss: 0.170442\n",
      "Early stopping, best iteration is:\n",
      "[71]\tvalid_0's multi_logloss: 0.166699\n",
      "training model for CV #3\n",
      "[1]\tvalid_0's multi_logloss: 0.860659\n",
      "Training until validation scores don't improve for 10 rounds\n",
      "[2]\tvalid_0's multi_logloss: 0.761913\n",
      "[3]\tvalid_0's multi_logloss: 0.676053\n",
      "[4]\tvalid_0's multi_logloss: 0.605844\n",
      "[5]\tvalid_0's multi_logloss: 0.548415\n",
      "[6]\tvalid_0's multi_logloss: 0.506537\n",
      "[7]\tvalid_0's multi_logloss: 0.469291\n",
      "[8]\tvalid_0's multi_logloss: 0.441408\n",
      "[9]\tvalid_0's multi_logloss: 0.413299\n",
      "[10]\tvalid_0's multi_logloss: 0.384517\n",
      "[11]\tvalid_0's multi_logloss: 0.360584\n",
      "[12]\tvalid_0's multi_logloss: 0.33979\n",
      "[13]\tvalid_0's multi_logloss: 0.321557\n",
      "[14]\tvalid_0's multi_logloss: 0.304885\n",
      "[15]\tvalid_0's multi_logloss: 0.290727\n",
      "[16]\tvalid_0's multi_logloss: 0.278521\n",
      "[17]\tvalid_0's multi_logloss: 0.268096\n",
      "[18]\tvalid_0's multi_logloss: 0.258662\n",
      "[19]\tvalid_0's multi_logloss: 0.249529\n",
      "[20]\tvalid_0's multi_logloss: 0.242583\n",
      "[21]\tvalid_0's multi_logloss: 0.235374\n",
      "[22]\tvalid_0's multi_logloss: 0.229155\n",
      "[23]\tvalid_0's multi_logloss: 0.223352\n",
      "[24]\tvalid_0's multi_logloss: 0.219422\n",
      "[25]\tvalid_0's multi_logloss: 0.215148\n",
      "[26]\tvalid_0's multi_logloss: 0.211488\n",
      "[27]\tvalid_0's multi_logloss: 0.207867\n",
      "[28]\tvalid_0's multi_logloss: 0.204203\n",
      "[29]\tvalid_0's multi_logloss: 0.200999\n",
      "[30]\tvalid_0's multi_logloss: 0.198406\n",
      "[31]\tvalid_0's multi_logloss: 0.195794\n",
      "[32]\tvalid_0's multi_logloss: 0.193704\n",
      "[33]\tvalid_0's multi_logloss: 0.191541\n",
      "[34]\tvalid_0's multi_logloss: 0.189551\n",
      "[35]\tvalid_0's multi_logloss: 0.18766\n",
      "[36]\tvalid_0's multi_logloss: 0.18615\n",
      "[37]\tvalid_0's multi_logloss: 0.184537\n",
      "[38]\tvalid_0's multi_logloss: 0.183194\n",
      "[39]\tvalid_0's multi_logloss: 0.182074\n",
      "[40]\tvalid_0's multi_logloss: 0.18086\n",
      "[41]\tvalid_0's multi_logloss: 0.179778\n",
      "[42]\tvalid_0's multi_logloss: 0.178829\n",
      "[43]\tvalid_0's multi_logloss: 0.177886\n",
      "[44]\tvalid_0's multi_logloss: 0.177003\n",
      "[45]\tvalid_0's multi_logloss: 0.176447\n",
      "[46]\tvalid_0's multi_logloss: 0.175775\n",
      "[47]\tvalid_0's multi_logloss: 0.175141\n",
      "[48]\tvalid_0's multi_logloss: 0.174572\n",
      "[49]\tvalid_0's multi_logloss: 0.174044\n",
      "[50]\tvalid_0's multi_logloss: 0.173584\n",
      "[51]\tvalid_0's multi_logloss: 0.173138\n",
      "[52]\tvalid_0's multi_logloss: 0.172768\n",
      "[53]\tvalid_0's multi_logloss: 0.1723\n",
      "[54]\tvalid_0's multi_logloss: 0.172055\n",
      "[55]\tvalid_0's multi_logloss: 0.171779\n",
      "[56]\tvalid_0's multi_logloss: 0.171446\n",
      "[57]\tvalid_0's multi_logloss: 0.171083\n",
      "[58]\tvalid_0's multi_logloss: 0.170734\n",
      "[59]\tvalid_0's multi_logloss: 0.170629\n",
      "[60]\tvalid_0's multi_logloss: 0.170301\n",
      "[61]\tvalid_0's multi_logloss: 0.170021\n",
      "[62]\tvalid_0's multi_logloss: 0.169811\n",
      "[63]\tvalid_0's multi_logloss: 0.1695\n",
      "[64]\tvalid_0's multi_logloss: 0.169291\n",
      "[65]\tvalid_0's multi_logloss: 0.169215\n",
      "[66]\tvalid_0's multi_logloss: 0.16907\n",
      "[67]\tvalid_0's multi_logloss: 0.168843\n",
      "[68]\tvalid_0's multi_logloss: 0.168651\n",
      "[69]\tvalid_0's multi_logloss: 0.168463\n",
      "[70]\tvalid_0's multi_logloss: 0.168343\n",
      "[71]\tvalid_0's multi_logloss: 0.168253\n",
      "[72]\tvalid_0's multi_logloss: 0.168078\n",
      "[73]\tvalid_0's multi_logloss: 0.168035\n",
      "[74]\tvalid_0's multi_logloss: 0.168005\n",
      "[75]\tvalid_0's multi_logloss: 0.167907\n",
      "[76]\tvalid_0's multi_logloss: 0.167709\n",
      "[77]\tvalid_0's multi_logloss: 0.167532\n",
      "[78]\tvalid_0's multi_logloss: 0.167456\n",
      "[79]\tvalid_0's multi_logloss: 0.167254\n",
      "[80]\tvalid_0's multi_logloss: 0.167191\n",
      "[81]\tvalid_0's multi_logloss: 0.167043\n",
      "[82]\tvalid_0's multi_logloss: 0.16692\n",
      "[83]\tvalid_0's multi_logloss: 0.166817\n",
      "[84]\tvalid_0's multi_logloss: 0.166656\n",
      "[85]\tvalid_0's multi_logloss: 0.16656\n",
      "[86]\tvalid_0's multi_logloss: 0.166437\n",
      "[87]\tvalid_0's multi_logloss: 0.166335\n",
      "[88]\tvalid_0's multi_logloss: 0.166278\n",
      "[89]\tvalid_0's multi_logloss: 0.166211\n",
      "[90]\tvalid_0's multi_logloss: 0.166111\n",
      "[91]\tvalid_0's multi_logloss: 0.166062\n",
      "[92]\tvalid_0's multi_logloss: 0.165968\n",
      "[93]\tvalid_0's multi_logloss: 0.165906\n",
      "[94]\tvalid_0's multi_logloss: 0.165786\n",
      "[95]\tvalid_0's multi_logloss: 0.165768\n",
      "[96]\tvalid_0's multi_logloss: 0.165703\n",
      "[97]\tvalid_0's multi_logloss: 0.165692\n",
      "[98]\tvalid_0's multi_logloss: 0.165589\n",
      "[99]\tvalid_0's multi_logloss: 0.165467\n",
      "[100]\tvalid_0's multi_logloss: 0.16546\n",
      "[101]\tvalid_0's multi_logloss: 0.165411\n",
      "[102]\tvalid_0's multi_logloss: 0.165385\n",
      "[103]\tvalid_0's multi_logloss: 0.165329\n",
      "[104]\tvalid_0's multi_logloss: 0.165347\n",
      "[105]\tvalid_0's multi_logloss: 0.165274\n",
      "[106]\tvalid_0's multi_logloss: 0.165213\n",
      "[107]\tvalid_0's multi_logloss: 0.165158\n",
      "[108]\tvalid_0's multi_logloss: 0.165203\n",
      "[109]\tvalid_0's multi_logloss: 0.165215\n",
      "[110]\tvalid_0's multi_logloss: 0.165191\n",
      "[111]\tvalid_0's multi_logloss: 0.165198\n",
      "[112]\tvalid_0's multi_logloss: 0.165183\n",
      "[113]\tvalid_0's multi_logloss: 0.165187\n",
      "[114]\tvalid_0's multi_logloss: 0.165152\n",
      "[115]\tvalid_0's multi_logloss: 0.165126\n",
      "[116]\tvalid_0's multi_logloss: 0.16513\n",
      "[117]\tvalid_0's multi_logloss: 0.165112\n",
      "[118]\tvalid_0's multi_logloss: 0.165125\n",
      "[119]\tvalid_0's multi_logloss: 0.165137\n",
      "[120]\tvalid_0's multi_logloss: 0.165115\n",
      "[121]\tvalid_0's multi_logloss: 0.165129\n",
      "[122]\tvalid_0's multi_logloss: 0.16515\n",
      "[123]\tvalid_0's multi_logloss: 0.165146\n",
      "[124]\tvalid_0's multi_logloss: 0.165145\n",
      "[125]\tvalid_0's multi_logloss: 0.165069\n",
      "[126]\tvalid_0's multi_logloss: 0.165099\n",
      "[127]\tvalid_0's multi_logloss: 0.165106\n",
      "[128]\tvalid_0's multi_logloss: 0.165074\n",
      "[129]\tvalid_0's multi_logloss: 0.165033\n",
      "[130]\tvalid_0's multi_logloss: 0.165033\n",
      "[131]\tvalid_0's multi_logloss: 0.164933\n",
      "[132]\tvalid_0's multi_logloss: 0.164945\n",
      "[133]\tvalid_0's multi_logloss: 0.164901\n",
      "[134]\tvalid_0's multi_logloss: 0.164904\n",
      "[135]\tvalid_0's multi_logloss: 0.164912\n",
      "[136]\tvalid_0's multi_logloss: 0.164879\n",
      "[137]\tvalid_0's multi_logloss: 0.164874\n",
      "[138]\tvalid_0's multi_logloss: 0.164814\n",
      "[139]\tvalid_0's multi_logloss: 0.164833\n",
      "[140]\tvalid_0's multi_logloss: 0.164813\n",
      "[141]\tvalid_0's multi_logloss: 0.164776\n",
      "[142]\tvalid_0's multi_logloss: 0.164706\n",
      "[143]\tvalid_0's multi_logloss: 0.164732\n",
      "[144]\tvalid_0's multi_logloss: 0.164706\n",
      "[145]\tvalid_0's multi_logloss: 0.164713\n",
      "[146]\tvalid_0's multi_logloss: 0.164714\n",
      "[147]\tvalid_0's multi_logloss: 0.164726\n",
      "[148]\tvalid_0's multi_logloss: 0.164711\n",
      "[149]\tvalid_0's multi_logloss: 0.16475\n",
      "[150]\tvalid_0's multi_logloss: 0.164775\n"
     ]
    },
    {
     "name": "stdout",
     "output_type": "stream",
     "text": [
      "[151]\tvalid_0's multi_logloss: 0.164828\n",
      "[152]\tvalid_0's multi_logloss: 0.164825\n",
      "[153]\tvalid_0's multi_logloss: 0.164851\n",
      "[154]\tvalid_0's multi_logloss: 0.164847\n",
      "Early stopping, best iteration is:\n",
      "[144]\tvalid_0's multi_logloss: 0.164706\n",
      "training model for CV #4\n",
      "[1]\tvalid_0's multi_logloss: 0.860254\n",
      "Training until validation scores don't improve for 10 rounds\n",
      "[2]\tvalid_0's multi_logloss: 0.761296\n",
      "[3]\tvalid_0's multi_logloss: 0.675647\n",
      "[4]\tvalid_0's multi_logloss: 0.605204\n",
      "[5]\tvalid_0's multi_logloss: 0.547458\n",
      "[6]\tvalid_0's multi_logloss: 0.505927\n",
      "[7]\tvalid_0's multi_logloss: 0.468863\n",
      "[8]\tvalid_0's multi_logloss: 0.441068\n",
      "[9]\tvalid_0's multi_logloss: 0.412875\n",
      "[10]\tvalid_0's multi_logloss: 0.384318\n",
      "[11]\tvalid_0's multi_logloss: 0.360157\n",
      "[12]\tvalid_0's multi_logloss: 0.339546\n",
      "[13]\tvalid_0's multi_logloss: 0.321495\n",
      "[14]\tvalid_0's multi_logloss: 0.304945\n",
      "[15]\tvalid_0's multi_logloss: 0.290362\n",
      "[16]\tvalid_0's multi_logloss: 0.278071\n",
      "[17]\tvalid_0's multi_logloss: 0.267658\n",
      "[18]\tvalid_0's multi_logloss: 0.258022\n",
      "[19]\tvalid_0's multi_logloss: 0.248868\n",
      "[20]\tvalid_0's multi_logloss: 0.242177\n",
      "[21]\tvalid_0's multi_logloss: 0.234824\n",
      "[22]\tvalid_0's multi_logloss: 0.228408\n",
      "[23]\tvalid_0's multi_logloss: 0.222562\n",
      "[24]\tvalid_0's multi_logloss: 0.218496\n",
      "[25]\tvalid_0's multi_logloss: 0.214607\n",
      "[26]\tvalid_0's multi_logloss: 0.211055\n",
      "[27]\tvalid_0's multi_logloss: 0.207217\n",
      "[28]\tvalid_0's multi_logloss: 0.203581\n",
      "[29]\tvalid_0's multi_logloss: 0.200357\n",
      "[30]\tvalid_0's multi_logloss: 0.197724\n",
      "[31]\tvalid_0's multi_logloss: 0.19509\n",
      "[32]\tvalid_0's multi_logloss: 0.19301\n",
      "[33]\tvalid_0's multi_logloss: 0.190898\n",
      "[34]\tvalid_0's multi_logloss: 0.188903\n",
      "[35]\tvalid_0's multi_logloss: 0.186896\n",
      "[36]\tvalid_0's multi_logloss: 0.185592\n",
      "[37]\tvalid_0's multi_logloss: 0.184003\n",
      "[38]\tvalid_0's multi_logloss: 0.182564\n",
      "[39]\tvalid_0's multi_logloss: 0.181416\n",
      "[40]\tvalid_0's multi_logloss: 0.180283\n",
      "[41]\tvalid_0's multi_logloss: 0.179178\n",
      "[42]\tvalid_0's multi_logloss: 0.178351\n",
      "[43]\tvalid_0's multi_logloss: 0.177424\n",
      "[44]\tvalid_0's multi_logloss: 0.17667\n",
      "[45]\tvalid_0's multi_logloss: 0.176039\n",
      "[46]\tvalid_0's multi_logloss: 0.175481\n",
      "[47]\tvalid_0's multi_logloss: 0.174853\n",
      "[48]\tvalid_0's multi_logloss: 0.174209\n",
      "[49]\tvalid_0's multi_logloss: 0.173666\n",
      "[50]\tvalid_0's multi_logloss: 0.173065\n",
      "[51]\tvalid_0's multi_logloss: 0.172516\n",
      "[52]\tvalid_0's multi_logloss: 0.172133\n",
      "[53]\tvalid_0's multi_logloss: 0.171613\n",
      "[54]\tvalid_0's multi_logloss: 0.171341\n",
      "[55]\tvalid_0's multi_logloss: 0.171064\n",
      "[56]\tvalid_0's multi_logloss: 0.170778\n",
      "[57]\tvalid_0's multi_logloss: 0.170343\n",
      "[58]\tvalid_0's multi_logloss: 0.170003\n",
      "[59]\tvalid_0's multi_logloss: 0.169812\n",
      "[60]\tvalid_0's multi_logloss: 0.169523\n",
      "[61]\tvalid_0's multi_logloss: 0.169258\n",
      "[62]\tvalid_0's multi_logloss: 0.169132\n",
      "[63]\tvalid_0's multi_logloss: 0.16891\n",
      "[64]\tvalid_0's multi_logloss: 0.168634\n",
      "[65]\tvalid_0's multi_logloss: 0.168414\n",
      "[66]\tvalid_0's multi_logloss: 0.168184\n",
      "[67]\tvalid_0's multi_logloss: 0.168047\n",
      "[68]\tvalid_0's multi_logloss: 0.167901\n",
      "[69]\tvalid_0's multi_logloss: 0.167719\n",
      "[70]\tvalid_0's multi_logloss: 0.167585\n",
      "[71]\tvalid_0's multi_logloss: 0.167499\n",
      "[72]\tvalid_0's multi_logloss: 0.16735\n",
      "[73]\tvalid_0's multi_logloss: 0.167308\n",
      "[74]\tvalid_0's multi_logloss: 0.16722\n",
      "[75]\tvalid_0's multi_logloss: 0.167426\n",
      "[76]\tvalid_0's multi_logloss: 0.167294\n",
      "[77]\tvalid_0's multi_logloss: 0.167238\n",
      "[78]\tvalid_0's multi_logloss: 0.167126\n",
      "[79]\tvalid_0's multi_logloss: 0.166917\n",
      "[80]\tvalid_0's multi_logloss: 0.166856\n",
      "[81]\tvalid_0's multi_logloss: 0.16676\n",
      "[82]\tvalid_0's multi_logloss: 0.166624\n",
      "[83]\tvalid_0's multi_logloss: 0.166566\n",
      "[84]\tvalid_0's multi_logloss: 0.166432\n",
      "[85]\tvalid_0's multi_logloss: 0.166319\n",
      "[86]\tvalid_0's multi_logloss: 0.166253\n",
      "[87]\tvalid_0's multi_logloss: 0.166142\n",
      "[88]\tvalid_0's multi_logloss: 0.166053\n",
      "[89]\tvalid_0's multi_logloss: 0.165929\n",
      "[90]\tvalid_0's multi_logloss: 0.165879\n",
      "[91]\tvalid_0's multi_logloss: 0.165855\n",
      "[92]\tvalid_0's multi_logloss: 0.165824\n",
      "[93]\tvalid_0's multi_logloss: 0.165681\n",
      "[94]\tvalid_0's multi_logloss: 0.16561\n",
      "[95]\tvalid_0's multi_logloss: 0.165533\n",
      "[96]\tvalid_0's multi_logloss: 0.165483\n",
      "[97]\tvalid_0's multi_logloss: 0.16538\n",
      "[98]\tvalid_0's multi_logloss: 0.165421\n",
      "[99]\tvalid_0's multi_logloss: 0.165347\n",
      "[100]\tvalid_0's multi_logloss: 0.165292\n",
      "[101]\tvalid_0's multi_logloss: 0.165254\n",
      "[102]\tvalid_0's multi_logloss: 0.165249\n",
      "[103]\tvalid_0's multi_logloss: 0.165229\n",
      "[104]\tvalid_0's multi_logloss: 0.165209\n",
      "[105]\tvalid_0's multi_logloss: 0.165169\n",
      "[106]\tvalid_0's multi_logloss: 0.165115\n",
      "[107]\tvalid_0's multi_logloss: 0.165051\n",
      "[108]\tvalid_0's multi_logloss: 0.165004\n",
      "[109]\tvalid_0's multi_logloss: 0.165067\n",
      "[110]\tvalid_0's multi_logloss: 0.164995\n",
      "[111]\tvalid_0's multi_logloss: 0.165003\n",
      "[112]\tvalid_0's multi_logloss: 0.164976\n",
      "[113]\tvalid_0's multi_logloss: 0.164977\n",
      "[114]\tvalid_0's multi_logloss: 0.164945\n",
      "[115]\tvalid_0's multi_logloss: 0.16495\n",
      "[116]\tvalid_0's multi_logloss: 0.16496\n",
      "[117]\tvalid_0's multi_logloss: 0.164927\n",
      "[118]\tvalid_0's multi_logloss: 0.164905\n",
      "[119]\tvalid_0's multi_logloss: 0.164865\n",
      "[120]\tvalid_0's multi_logloss: 0.164854\n",
      "[121]\tvalid_0's multi_logloss: 0.164905\n",
      "[122]\tvalid_0's multi_logloss: 0.16486\n",
      "[123]\tvalid_0's multi_logloss: 0.16484\n",
      "[124]\tvalid_0's multi_logloss: 0.16484\n",
      "[125]\tvalid_0's multi_logloss: 0.164812\n",
      "[126]\tvalid_0's multi_logloss: 0.164834\n",
      "[127]\tvalid_0's multi_logloss: 0.164777\n",
      "[128]\tvalid_0's multi_logloss: 0.164751\n",
      "[129]\tvalid_0's multi_logloss: 0.164775\n",
      "[130]\tvalid_0's multi_logloss: 0.164717\n",
      "[131]\tvalid_0's multi_logloss: 0.164721\n",
      "[132]\tvalid_0's multi_logloss: 0.164697\n",
      "[133]\tvalid_0's multi_logloss: 0.164724\n",
      "[134]\tvalid_0's multi_logloss: 0.164675\n",
      "[135]\tvalid_0's multi_logloss: 0.164683\n",
      "[136]\tvalid_0's multi_logloss: 0.164642\n",
      "[137]\tvalid_0's multi_logloss: 0.164615\n",
      "[138]\tvalid_0's multi_logloss: 0.164557\n",
      "[139]\tvalid_0's multi_logloss: 0.164562\n",
      "[140]\tvalid_0's multi_logloss: 0.164542\n",
      "[141]\tvalid_0's multi_logloss: 0.164558\n",
      "[142]\tvalid_0's multi_logloss: 0.164575\n",
      "[143]\tvalid_0's multi_logloss: 0.164572\n",
      "[144]\tvalid_0's multi_logloss: 0.164494\n",
      "[145]\tvalid_0's multi_logloss: 0.164474\n",
      "[146]\tvalid_0's multi_logloss: 0.164439\n",
      "[147]\tvalid_0's multi_logloss: 0.164429\n",
      "[148]\tvalid_0's multi_logloss: 0.164475\n",
      "[149]\tvalid_0's multi_logloss: 0.164429\n",
      "[150]\tvalid_0's multi_logloss: 0.164446\n",
      "[151]\tvalid_0's multi_logloss: 0.164418\n",
      "[152]\tvalid_0's multi_logloss: 0.164414\n",
      "[153]\tvalid_0's multi_logloss: 0.164419\n",
      "[154]\tvalid_0's multi_logloss: 0.164404\n",
      "[155]\tvalid_0's multi_logloss: 0.164396\n",
      "[156]\tvalid_0's multi_logloss: 0.164356\n",
      "[157]\tvalid_0's multi_logloss: 0.164366\n",
      "[158]\tvalid_0's multi_logloss: 0.164405\n",
      "[159]\tvalid_0's multi_logloss: 0.164395\n",
      "[160]\tvalid_0's multi_logloss: 0.164328\n",
      "[161]\tvalid_0's multi_logloss: 0.164327\n",
      "[162]\tvalid_0's multi_logloss: 0.164322\n",
      "[163]\tvalid_0's multi_logloss: 0.164316\n",
      "[164]\tvalid_0's multi_logloss: 0.164317\n",
      "[165]\tvalid_0's multi_logloss: 0.164367\n",
      "[166]\tvalid_0's multi_logloss: 0.164363\n",
      "[167]\tvalid_0's multi_logloss: 0.164373\n",
      "[168]\tvalid_0's multi_logloss: 0.164377\n",
      "[169]\tvalid_0's multi_logloss: 0.16437\n",
      "[170]\tvalid_0's multi_logloss: 0.164328\n",
      "[171]\tvalid_0's multi_logloss: 0.164334\n",
      "[172]\tvalid_0's multi_logloss: 0.164334\n",
      "[173]\tvalid_0's multi_logloss: 0.164327\n",
      "Early stopping, best iteration is:\n",
      "[163]\tvalid_0's multi_logloss: 0.164316\n",
      "training model for CV #5\n",
      "[1]\tvalid_0's multi_logloss: 0.860565\n",
      "Training until validation scores don't improve for 10 rounds\n",
      "[2]\tvalid_0's multi_logloss: 0.761604\n",
      "[3]\tvalid_0's multi_logloss: 0.675895\n",
      "[4]\tvalid_0's multi_logloss: 0.60585\n",
      "[5]\tvalid_0's multi_logloss: 0.548232\n",
      "[6]\tvalid_0's multi_logloss: 0.506503\n",
      "[7]\tvalid_0's multi_logloss: 0.469491\n",
      "[8]\tvalid_0's multi_logloss: 0.441789\n",
      "[9]\tvalid_0's multi_logloss: 0.41363\n",
      "[10]\tvalid_0's multi_logloss: 0.384854\n",
      "[11]\tvalid_0's multi_logloss: 0.360645\n",
      "[12]\tvalid_0's multi_logloss: 0.339952\n",
      "[13]\tvalid_0's multi_logloss: 0.321947\n",
      "[14]\tvalid_0's multi_logloss: 0.305031\n",
      "[15]\tvalid_0's multi_logloss: 0.290832\n",
      "[16]\tvalid_0's multi_logloss: 0.278651\n",
      "[17]\tvalid_0's multi_logloss: 0.26817\n",
      "[18]\tvalid_0's multi_logloss: 0.258293\n",
      "[19]\tvalid_0's multi_logloss: 0.248913\n",
      "[20]\tvalid_0's multi_logloss: 0.241992\n",
      "[21]\tvalid_0's multi_logloss: 0.234682\n",
      "[22]\tvalid_0's multi_logloss: 0.228182\n",
      "[23]\tvalid_0's multi_logloss: 0.222171\n",
      "[24]\tvalid_0's multi_logloss: 0.217817\n",
      "[25]\tvalid_0's multi_logloss: 0.213568\n",
      "[26]\tvalid_0's multi_logloss: 0.210034\n",
      "[27]\tvalid_0's multi_logloss: 0.206192\n",
      "[28]\tvalid_0's multi_logloss: 0.202574\n"
     ]
    },
    {
     "name": "stdout",
     "output_type": "stream",
     "text": [
      "[29]\tvalid_0's multi_logloss: 0.199344\n",
      "[30]\tvalid_0's multi_logloss: 0.196882\n",
      "[31]\tvalid_0's multi_logloss: 0.194116\n",
      "[32]\tvalid_0's multi_logloss: 0.192051\n",
      "[33]\tvalid_0's multi_logloss: 0.189758\n",
      "[34]\tvalid_0's multi_logloss: 0.18759\n",
      "[35]\tvalid_0's multi_logloss: 0.18577\n",
      "[36]\tvalid_0's multi_logloss: 0.184422\n",
      "[37]\tvalid_0's multi_logloss: 0.18305\n",
      "[38]\tvalid_0's multi_logloss: 0.1816\n",
      "[39]\tvalid_0's multi_logloss: 0.180666\n",
      "[40]\tvalid_0's multi_logloss: 0.179399\n",
      "[41]\tvalid_0's multi_logloss: 0.178278\n",
      "[42]\tvalid_0's multi_logloss: 0.177493\n",
      "[43]\tvalid_0's multi_logloss: 0.17658\n",
      "[44]\tvalid_0's multi_logloss: 0.175773\n",
      "[45]\tvalid_0's multi_logloss: 0.175239\n",
      "[46]\tvalid_0's multi_logloss: 0.174592\n",
      "[47]\tvalid_0's multi_logloss: 0.173959\n",
      "[48]\tvalid_0's multi_logloss: 0.173376\n",
      "[49]\tvalid_0's multi_logloss: 0.172615\n",
      "[50]\tvalid_0's multi_logloss: 0.172068\n",
      "[51]\tvalid_0's multi_logloss: 0.17145\n",
      "[52]\tvalid_0's multi_logloss: 0.171066\n",
      "[53]\tvalid_0's multi_logloss: 0.1706\n",
      "[54]\tvalid_0's multi_logloss: 0.170329\n",
      "[55]\tvalid_0's multi_logloss: 0.170375\n",
      "[56]\tvalid_0's multi_logloss: 0.170122\n",
      "[57]\tvalid_0's multi_logloss: 0.169711\n",
      "[58]\tvalid_0's multi_logloss: 0.169352\n",
      "[59]\tvalid_0's multi_logloss: 0.168937\n",
      "[60]\tvalid_0's multi_logloss: 0.168608\n",
      "[61]\tvalid_0's multi_logloss: 0.168257\n",
      "[62]\tvalid_0's multi_logloss: 0.168082\n",
      "[63]\tvalid_0's multi_logloss: 0.167849\n",
      "[64]\tvalid_0's multi_logloss: 0.167689\n",
      "[65]\tvalid_0's multi_logloss: 0.167509\n",
      "[66]\tvalid_0's multi_logloss: 0.167327\n",
      "[67]\tvalid_0's multi_logloss: 0.167115\n",
      "[68]\tvalid_0's multi_logloss: 0.166855\n",
      "[69]\tvalid_0's multi_logloss: 0.166644\n",
      "[70]\tvalid_0's multi_logloss: 0.167618\n",
      "[71]\tvalid_0's multi_logloss: 0.167677\n",
      "[72]\tvalid_0's multi_logloss: 0.167571\n",
      "[73]\tvalid_0's multi_logloss: 0.167975\n",
      "[74]\tvalid_0's multi_logloss: 0.16789\n",
      "[75]\tvalid_0's multi_logloss: 0.16799\n",
      "[76]\tvalid_0's multi_logloss: 0.167842\n",
      "[77]\tvalid_0's multi_logloss: 0.167851\n",
      "[78]\tvalid_0's multi_logloss: 0.16774\n",
      "[79]\tvalid_0's multi_logloss: 0.167564\n",
      "Early stopping, best iteration is:\n",
      "[69]\tvalid_0's multi_logloss: 0.166644\n"
     ]
    }
   ],
   "source": [
    "p_val = np.zeros((trn.shape[0], n_class))\n",
    "p_tst = np.zeros((tst.shape[0], n_class))\n",
    "for i, (i_trn, i_val) in enumerate(cv.split(trn, y), 1):\n",
    "    print(f'training model for CV #{i}')\n",
    "    clf = lgb.LGBMClassifier(objective='multiclass',\n",
    "                             n_estimators=1000,\n",
    "                             num_leaves=64,\n",
    "                             learning_rate=0.1,\n",
    "                             min_child_samples=10,\n",
    "                             subsample=.5,\n",
    "                             subsample_freq=1,\n",
    "                             colsample_bytree=.8,\n",
    "                             random_state=seed,\n",
    "                             n_jobs=-1)\n",
    "    clf.fit(trn[i_trn], y[i_trn],\n",
    "            eval_set=[(trn[i_val], y[i_val])],\n",
    "            eval_metric='multiclass',\n",
    "            early_stopping_rounds=10)\n",
    "    \n",
    "    p_val[i_val, :] = clf.predict_proba(trn[i_val])\n",
    "    p_tst += clf.predict_proba(tst) / n_fold"
   ]
  },
  {
   "cell_type": "code",
   "execution_count": 11,
   "metadata": {
    "ExecuteTime": {
     "end_time": "2021-08-10T23:27:43.646178Z",
     "start_time": "2021-08-10T23:27:43.493538Z"
    }
   },
   "outputs": [
    {
     "name": "stdout",
     "output_type": "stream",
     "text": [
      "93.1081%\n"
     ]
    }
   ],
   "source": [
    "print(f'{accuracy_score(y, np.argmax(p_val, axis=1)) * 100:.4f}%')"
   ]
  },
  {
   "cell_type": "code",
   "execution_count": 12,
   "metadata": {
    "ExecuteTime": {
     "end_time": "2021-08-10T23:27:43.754256Z",
     "start_time": "2021-08-10T23:27:43.648126Z"
    }
   },
   "outputs": [
    {
     "name": "stdout",
     "output_type": "stream",
     "text": [
      "(320000, 3) (80000, 3)\n"
     ]
    }
   ],
   "source": [
    "print(p_val.shape, p_tst.shape)"
   ]
  },
  {
   "cell_type": "code",
   "execution_count": 13,
   "metadata": {
    "ExecuteTime": {
     "end_time": "2021-08-10T23:27:44.765572Z",
     "start_time": "2021-08-10T23:27:43.755254Z"
    }
   },
   "outputs": [],
   "source": [
    "np.savetxt(p_val_file, p_val, fmt='%.6f', delimiter=',')\n",
    "np.savetxt(p_tst_file, p_tst, fmt='%.6f', delimiter=',')"
   ]
  },
  {
   "cell_type": "code",
   "execution_count": 24,
   "metadata": {
    "ExecuteTime": {
     "end_time": "2021-08-10T23:37:28.095132Z",
     "start_time": "2021-08-10T23:37:27.941544Z"
    }
   },
   "outputs": [
    {
     "data": {
      "text/plain": [
       "array([[8.11256448e-04, 2.50383475e-01, 7.48805268e-01],\n",
       "       [9.99901286e-01, 4.72427339e-05, 5.14709713e-05],\n",
       "       [7.22596018e-04, 1.08447170e-01, 8.90830234e-01],\n",
       "       ...,\n",
       "       [9.99929624e-01, 2.94696375e-05, 4.09067649e-05],\n",
       "       [8.24197144e-04, 1.24000565e-01, 8.75175238e-01],\n",
       "       [9.99934206e-01, 2.84627224e-05, 3.73314197e-05]])"
      ]
     },
     "execution_count": 24,
     "metadata": {},
     "output_type": "execute_result"
    }
   ],
   "source": [
    "p_tst"
   ]
  },
  {
   "cell_type": "markdown",
   "metadata": {},
   "source": [
    "## 피처 중요도 시각화"
   ]
  },
  {
   "cell_type": "code",
   "execution_count": 14,
   "metadata": {
    "ExecuteTime": {
     "end_time": "2021-08-10T23:27:57.089538Z",
     "start_time": "2021-08-10T23:27:56.669675Z"
    }
   },
   "outputs": [
    {
     "data": {
      "text/plain": [
       "<AxesSubplot:ylabel='feature'>"
      ]
     },
     "execution_count": 14,
     "metadata": {},
     "output_type": "execute_result"
    },
    {
     "data": {
      "image/png": "[encoded data removed]",
      "text/plain": [
       "<Figure size 1152x576 with 1 Axes>"
      ]
     },
     "metadata": {},
     "output_type": "display_data"
    }
   ],
   "source": [
    "imp = pd.DataFrame({'feature': df.columns, 'importance': clf.feature_importances_})\n",
    "imp = imp.sort_values('importance').set_index('feature')\n",
    "imp.plot(kind='barh')"
   ]
  },
  {
   "cell_type": "markdown",
   "metadata": {},
   "source": [
    "## 제출 파일 생성"
   ]
  },
  {
   "cell_type": "code",
   "execution_count": 15,
   "metadata": {
    "ExecuteTime": {
     "end_time": "2021-08-10T23:27:59.856369Z",
     "start_time": "2021-08-10T23:27:59.733730Z"
    }
   },
   "outputs": [
    {
     "name": "stdout",
     "output_type": "stream",
     "text": [
      "(80000, 1)\n"
     ]
    },
    {
     "data": {
      "text/html": [
       "<div>\n",
       "<style scoped>\n",
       "    .dataframe tbody tr th:only-of-type {\n",
       "        vertical-align: middle;\n",
       "    }\n",
       "\n",
       "    .dataframe tbody tr th {\n",
       "        vertical-align: top;\n",
       "    }\n",
       "\n",
       "    .dataframe thead th {\n",
       "        text-align: right;\n",
       "    }\n",
       "</style>\n",
       "<table border=\"1\" class=\"dataframe\">\n",
       "  <thead>\n",
       "    <tr style=\"text-align: right;\">\n",
       "      <th></th>\n",
       "      <th>class</th>\n",
       "    </tr>\n",
       "    <tr>\n",
       "      <th>id</th>\n",
       "      <th></th>\n",
       "    </tr>\n",
       "  </thead>\n",
       "  <tbody>\n",
       "    <tr>\n",
       "      <th>320000</th>\n",
       "      <td>0</td>\n",
       "    </tr>\n",
       "    <tr>\n",
       "      <th>320001</th>\n",
       "      <td>0</td>\n",
       "    </tr>\n",
       "    <tr>\n",
       "      <th>320002</th>\n",
       "      <td>0</td>\n",
       "    </tr>\n",
       "    <tr>\n",
       "      <th>320003</th>\n",
       "      <td>0</td>\n",
       "    </tr>\n",
       "    <tr>\n",
       "      <th>320004</th>\n",
       "      <td>0</td>\n",
       "    </tr>\n",
       "  </tbody>\n",
       "</table>\n",
       "</div>"
      ],
      "text/plain": [
       "        class\n",
       "id           \n",
       "320000      0\n",
       "320001      0\n",
       "320002      0\n",
       "320003      0\n",
       "320004      0"
      ]
     },
     "execution_count": 15,
     "metadata": {},
     "output_type": "execute_result"
    }
   ],
   "source": [
    "sub = pd.read_csv(sample_file, index_col=0)\n",
    "print(sub.shape)\n",
    "sub.head()"
   ]
  },
  {
   "cell_type": "code",
   "execution_count": 16,
   "metadata": {
    "ExecuteTime": {
     "end_time": "2021-08-10T23:28:06.131661Z",
     "start_time": "2021-08-10T23:28:06.029933Z"
    }
   },
   "outputs": [
    {
     "data": {
      "text/html": [
       "<div>\n",
       "<style scoped>\n",
       "    .dataframe tbody tr th:only-of-type {\n",
       "        vertical-align: middle;\n",
       "    }\n",
       "\n",
       "    .dataframe tbody tr th {\n",
       "        vertical-align: top;\n",
       "    }\n",
       "\n",
       "    .dataframe thead th {\n",
       "        text-align: right;\n",
       "    }\n",
       "</style>\n",
       "<table border=\"1\" class=\"dataframe\">\n",
       "  <thead>\n",
       "    <tr style=\"text-align: right;\">\n",
       "      <th></th>\n",
       "      <th>class</th>\n",
       "    </tr>\n",
       "    <tr>\n",
       "      <th>id</th>\n",
       "      <th></th>\n",
       "    </tr>\n",
       "  </thead>\n",
       "  <tbody>\n",
       "    <tr>\n",
       "      <th>320000</th>\n",
       "      <td>2</td>\n",
       "    </tr>\n",
       "    <tr>\n",
       "      <th>320001</th>\n",
       "      <td>0</td>\n",
       "    </tr>\n",
       "    <tr>\n",
       "      <th>320002</th>\n",
       "      <td>2</td>\n",
       "    </tr>\n",
       "    <tr>\n",
       "      <th>320003</th>\n",
       "      <td>0</td>\n",
       "    </tr>\n",
       "    <tr>\n",
       "      <th>320004</th>\n",
       "      <td>2</td>\n",
       "    </tr>\n",
       "  </tbody>\n",
       "</table>\n",
       "</div>"
      ],
      "text/plain": [
       "        class\n",
       "id           \n",
       "320000      2\n",
       "320001      0\n",
       "320002      2\n",
       "320003      0\n",
       "320004      2"
      ]
     },
     "execution_count": 16,
     "metadata": {},
     "output_type": "execute_result"
    }
   ],
   "source": [
    "sub[target_col] = np.argmax(p_tst, axis=1)\n",
    "sub.head()"
   ]
  },
  {
   "cell_type": "code",
   "execution_count": 17,
   "metadata": {
    "ExecuteTime": {
     "end_time": "2021-08-10T23:28:06.994082Z",
     "start_time": "2021-08-10T23:28:06.885912Z"
    }
   },
   "outputs": [
    {
     "data": {
      "text/plain": [
       "2    41175\n",
       "0    29974\n",
       "1     8851\n",
       "Name: class, dtype: int64"
      ]
     },
     "execution_count": 17,
     "metadata": {},
     "output_type": "execute_result"
    }
   ],
   "source": [
    "sub[target_col].value_counts()"
   ]
  },
  {
   "cell_type": "code",
   "execution_count": 18,
   "metadata": {
    "ExecuteTime": {
     "end_time": "2021-08-10T23:28:08.109550Z",
     "start_time": "2021-08-10T23:28:07.926004Z"
    }
   },
   "outputs": [],
   "source": [
    "sub.to_csv(sub_file)"
   ]
  },
  {
   "cell_type": "code",
   "execution_count": 26,
   "metadata": {
    "ExecuteTime": {
     "end_time": "2021-08-10T23:38:20.974084Z",
     "start_time": "2021-08-10T23:38:20.820459Z"
    }
   },
   "outputs": [
    {
     "data": {
      "text/html": [
       "<div>\n",
       "<style scoped>\n",
       "    .dataframe tbody tr th:only-of-type {\n",
       "        vertical-align: middle;\n",
       "    }\n",
       "\n",
       "    .dataframe tbody tr th {\n",
       "        vertical-align: top;\n",
       "    }\n",
       "\n",
       "    .dataframe thead th {\n",
       "        text-align: right;\n",
       "    }\n",
       "</style>\n",
       "<table border=\"1\" class=\"dataframe\">\n",
       "  <thead>\n",
       "    <tr style=\"text-align: right;\">\n",
       "      <th></th>\n",
       "      <th>class</th>\n",
       "    </tr>\n",
       "    <tr>\n",
       "      <th>id</th>\n",
       "      <th></th>\n",
       "    </tr>\n",
       "  </thead>\n",
       "  <tbody>\n",
       "    <tr>\n",
       "      <th>320000</th>\n",
       "      <td>2</td>\n",
       "    </tr>\n",
       "    <tr>\n",
       "      <th>320001</th>\n",
       "      <td>0</td>\n",
       "    </tr>\n",
       "    <tr>\n",
       "      <th>320002</th>\n",
       "      <td>2</td>\n",
       "    </tr>\n",
       "    <tr>\n",
       "      <th>320003</th>\n",
       "      <td>0</td>\n",
       "    </tr>\n",
       "    <tr>\n",
       "      <th>320004</th>\n",
       "      <td>2</td>\n",
       "    </tr>\n",
       "  </tbody>\n",
       "</table>\n",
       "</div>"
      ],
      "text/plain": [
       "        class\n",
       "id           \n",
       "320000      2\n",
       "320001      0\n",
       "320002      2\n",
       "320003      0\n",
       "320004      2"
      ]
     },
     "execution_count": 26,
     "metadata": {},
     "output_type": "execute_result"
    }
   ],
   "source": [
    "sub.head()"
   ]
  },
  {
   "cell_type": "code",
   "execution_count": null,
   "metadata": {},
   "outputs": [],
   "source": []
  }
 ],
 "metadata": {
  "kernelspec": {
   "display_name": "Python 3",
   "language": "python",
   "name": "python3"
  },
  "language_info": {
   "codemirror_mode": {
    "name": "ipython",
    "version": 3
   },
   "file_extension": ".py",
   "mimetype": "text/x-python",
   "name": "python",
   "nbconvert_exporter": "python",
   "pygments_lexer": "ipython3",
   "version": "3.8.8"
  },
  "toc": {
   "base_numbering": 1,
   "nav_menu": {},
   "number_sections": true,
   "sideBar": true,
   "skip_h1_title": true,
   "title_cell": "Table of Contents",
   "title_sidebar": "Contents",
   "toc_cell": false,
   "toc_position": {},
   "toc_section_display": true,
   "toc_window_display": false
  }
 },
 "nbformat": 4,
 "nbformat_minor": 4
}
