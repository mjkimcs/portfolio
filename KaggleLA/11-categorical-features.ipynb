{
 "cells": [
  {
   "cell_type": "markdown",
   "metadata": {},
   "source": [
    "# 범주형변수 가공 데모"
   ]
  },
  {
   "cell_type": "markdown",
   "metadata": {},
   "source": [
    "## 라이브러리 import 및 설정"
   ]
  },
  {
   "cell_type": "code",
   "execution_count": 29,
   "metadata": {
    "ExecuteTime": {
     "end_time": "2021-08-09T01:39:44.921070Z",
     "start_time": "2021-08-09T01:39:44.734568Z"
    }
   },
   "outputs": [],
   "source": [
    "%reload_ext autoreload\n",
    "%autoreload 2\n",
    "%matplotlib inline"
   ]
  },
  {
   "cell_type": "code",
   "execution_count": 30,
   "metadata": {
    "ExecuteTime": {
     "end_time": "2021-08-09T01:39:45.110815Z",
     "start_time": "2021-08-09T01:39:44.922071Z"
    }
   },
   "outputs": [],
   "source": [
    "import kaggler\n",
    "from lightgbm import LGBMRegressor\n",
    "from matplotlib import rcParams, pyplot as plt\n",
    "import numpy as np\n",
    "import pandas as pd\n",
    "from pathlib import Path\n",
    "from scipy.sparse import hstack\n",
    "import seaborn as sns\n",
    "from sklearn.metrics import mean_squared_error\n",
    "from sklearn.model_selection import train_test_split\n",
    "from sklearn.linear_model import LinearRegression\n",
    "from warnings import simplefilter"
   ]
  },
  {
   "cell_type": "code",
   "execution_count": 31,
   "metadata": {
    "ExecuteTime": {
     "end_time": "2021-08-09T01:39:45.775906Z",
     "start_time": "2021-08-09T01:39:45.597560Z"
    }
   },
   "outputs": [],
   "source": [
    "rcParams['figure.figsize'] = (16, 8)\n",
    "plt.style.use('fivethirtyeight')\n",
    "simplefilter('ignore')"
   ]
  },
  {
   "cell_type": "markdown",
   "metadata": {},
   "source": [
    "## 학습데이터 로드"
   ]
  },
  {
   "cell_type": "code",
   "execution_count": 32,
   "metadata": {
    "ExecuteTime": {
     "end_time": "2021-08-09T01:39:46.409514Z",
     "start_time": "2021-08-09T01:39:46.229569Z"
    }
   },
   "outputs": [],
   "source": [
    "data_dir = Path('./movies')\n",
    "trn_file = data_dir / 'movies_train.csv'\n",
    "seed = 42\n",
    "target_col = 'box_off_num'"
   ]
  },
  {
   "cell_type": "code",
   "execution_count": 33,
   "metadata": {
    "ExecuteTime": {
     "end_time": "2021-08-09T01:39:46.613404Z",
     "start_time": "2021-08-09T01:39:46.414546Z"
    }
   },
   "outputs": [
    {
     "name": "stdout",
     "output_type": "stream",
     "text": [
      "(600, 11)\n"
     ]
    },
    {
     "data": {
      "text/html": [
       "<div>\n",
       "<style scoped>\n",
       "    .dataframe tbody tr th:only-of-type {\n",
       "        vertical-align: middle;\n",
       "    }\n",
       "\n",
       "    .dataframe tbody tr th {\n",
       "        vertical-align: top;\n",
       "    }\n",
       "\n",
       "    .dataframe thead th {\n",
       "        text-align: right;\n",
       "    }\n",
       "</style>\n",
       "<table border=\"1\" class=\"dataframe\">\n",
       "  <thead>\n",
       "    <tr style=\"text-align: right;\">\n",
       "      <th></th>\n",
       "      <th>distributor</th>\n",
       "      <th>genre</th>\n",
       "      <th>release_time</th>\n",
       "      <th>time</th>\n",
       "      <th>screening_rat</th>\n",
       "      <th>director</th>\n",
       "      <th>dir_prev_bfnum</th>\n",
       "      <th>dir_prev_num</th>\n",
       "      <th>num_staff</th>\n",
       "      <th>num_actor</th>\n",
       "      <th>box_off_num</th>\n",
       "    </tr>\n",
       "    <tr>\n",
       "      <th>title</th>\n",
       "      <th></th>\n",
       "      <th></th>\n",
       "      <th></th>\n",
       "      <th></th>\n",
       "      <th></th>\n",
       "      <th></th>\n",
       "      <th></th>\n",
       "      <th></th>\n",
       "      <th></th>\n",
       "      <th></th>\n",
       "      <th></th>\n",
       "    </tr>\n",
       "  </thead>\n",
       "  <tbody>\n",
       "    <tr>\n",
       "      <th>개들의 전쟁</th>\n",
       "      <td>롯데엔터테인먼트</td>\n",
       "      <td>액션</td>\n",
       "      <td>2012-11-22</td>\n",
       "      <td>96</td>\n",
       "      <td>청소년 관람불가</td>\n",
       "      <td>조병옥</td>\n",
       "      <td>NaN</td>\n",
       "      <td>0</td>\n",
       "      <td>91</td>\n",
       "      <td>2</td>\n",
       "      <td>23398</td>\n",
       "    </tr>\n",
       "    <tr>\n",
       "      <th>내부자들</th>\n",
       "      <td>(주)쇼박스</td>\n",
       "      <td>느와르</td>\n",
       "      <td>2015-11-19</td>\n",
       "      <td>130</td>\n",
       "      <td>청소년 관람불가</td>\n",
       "      <td>우민호</td>\n",
       "      <td>1161602.50</td>\n",
       "      <td>2</td>\n",
       "      <td>387</td>\n",
       "      <td>3</td>\n",
       "      <td>7072501</td>\n",
       "    </tr>\n",
       "    <tr>\n",
       "      <th>은밀하게 위대하게</th>\n",
       "      <td>(주)쇼박스</td>\n",
       "      <td>액션</td>\n",
       "      <td>2013-06-05</td>\n",
       "      <td>123</td>\n",
       "      <td>15세 관람가</td>\n",
       "      <td>장철수</td>\n",
       "      <td>220775.25</td>\n",
       "      <td>4</td>\n",
       "      <td>343</td>\n",
       "      <td>4</td>\n",
       "      <td>6959083</td>\n",
       "    </tr>\n",
       "    <tr>\n",
       "      <th>나는 공무원이다</th>\n",
       "      <td>(주)NEW</td>\n",
       "      <td>코미디</td>\n",
       "      <td>2012-07-12</td>\n",
       "      <td>101</td>\n",
       "      <td>전체 관람가</td>\n",
       "      <td>구자홍</td>\n",
       "      <td>23894.00</td>\n",
       "      <td>2</td>\n",
       "      <td>20</td>\n",
       "      <td>6</td>\n",
       "      <td>217866</td>\n",
       "    </tr>\n",
       "    <tr>\n",
       "      <th>불량남녀</th>\n",
       "      <td>쇼박스(주)미디어플렉스</td>\n",
       "      <td>코미디</td>\n",
       "      <td>2010-11-04</td>\n",
       "      <td>108</td>\n",
       "      <td>15세 관람가</td>\n",
       "      <td>신근호</td>\n",
       "      <td>1.00</td>\n",
       "      <td>1</td>\n",
       "      <td>251</td>\n",
       "      <td>2</td>\n",
       "      <td>483387</td>\n",
       "    </tr>\n",
       "  </tbody>\n",
       "</table>\n",
       "</div>"
      ],
      "text/plain": [
       "            distributor genre release_time  time screening_rat director  \\\n",
       "title                                                                     \n",
       "개들의 전쟁         롯데엔터테인먼트    액션   2012-11-22    96      청소년 관람불가      조병옥   \n",
       "내부자들             (주)쇼박스   느와르   2015-11-19   130      청소년 관람불가      우민호   \n",
       "은밀하게 위대하게        (주)쇼박스    액션   2013-06-05   123       15세 관람가      장철수   \n",
       "나는 공무원이다         (주)NEW   코미디   2012-07-12   101        전체 관람가      구자홍   \n",
       "불량남녀       쇼박스(주)미디어플렉스   코미디   2010-11-04   108       15세 관람가      신근호   \n",
       "\n",
       "           dir_prev_bfnum  dir_prev_num  num_staff  num_actor  box_off_num  \n",
       "title                                                                       \n",
       "개들의 전쟁                NaN             0         91          2        23398  \n",
       "내부자들           1161602.50             2        387          3      7072501  \n",
       "은밀하게 위대하게       220775.25             4        343          4      6959083  \n",
       "나는 공무원이다         23894.00             2         20          6       217866  \n",
       "불량남녀                 1.00             1        251          2       483387  "
      ]
     },
     "execution_count": 33,
     "metadata": {},
     "output_type": "execute_result"
    }
   ],
   "source": [
    "df = pd.read_csv(trn_file, index_col=0)\n",
    "print(df.shape)\n",
    "df.head()"
   ]
  },
  {
   "cell_type": "markdown",
   "metadata": {},
   "source": [
    "## EDA (Exploratory Data Analysis)"
   ]
  },
  {
   "cell_type": "code",
   "execution_count": 34,
   "metadata": {
    "ExecuteTime": {
     "end_time": "2021-08-09T01:39:47.038082Z",
     "start_time": "2021-08-09T01:39:46.854970Z"
    }
   },
   "outputs": [
    {
     "name": "stdout",
     "output_type": "stream",
     "text": [
      "<class 'pandas.core.frame.DataFrame'>\n",
      "Index: 600 entries, 개들의 전쟁 to 베를린\n",
      "Data columns (total 11 columns):\n",
      " #   Column          Non-Null Count  Dtype  \n",
      "---  ------          --------------  -----  \n",
      " 0   distributor     600 non-null    object \n",
      " 1   genre           600 non-null    object \n",
      " 2   release_time    600 non-null    object \n",
      " 3   time            600 non-null    int64  \n",
      " 4   screening_rat   600 non-null    object \n",
      " 5   director        600 non-null    object \n",
      " 6   dir_prev_bfnum  270 non-null    float64\n",
      " 7   dir_prev_num    600 non-null    int64  \n",
      " 8   num_staff       600 non-null    int64  \n",
      " 9   num_actor       600 non-null    int64  \n",
      " 10  box_off_num     600 non-null    int64  \n",
      "dtypes: float64(1), int64(5), object(5)\n",
      "memory usage: 56.2+ KB\n"
     ]
    }
   ],
   "source": [
    "df.info()"
   ]
  },
  {
   "cell_type": "markdown",
   "metadata": {},
   "source": [
    "* 독립변수를 포함 총 6개의 수치형변수가 있다. 그 중 `dir_prev_bfnum`은 결측값이 많음을 확인할 수 있다.\n",
    "* `distributor`, `genre`, `screening_rat`, `director`의 총 4개의 범주형변수가 있다.\n",
    "* `release_time`은 시계열변수이지만 문자열 (`object`)으로 인식하고 있다."
   ]
  },
  {
   "cell_type": "code",
   "execution_count": 35,
   "metadata": {
    "ExecuteTime": {
     "end_time": "2021-08-09T01:39:47.432704Z",
     "start_time": "2021-08-09T01:39:47.238098Z"
    }
   },
   "outputs": [
    {
     "name": "stdout",
     "output_type": "stream",
     "text": [
      "datetime64[ns]\n"
     ]
    }
   ],
   "source": [
    "df['release_time'] = pd.to_datetime(df['release_time'])\n",
    "print(df['release_time'].dtype)"
   ]
  },
  {
   "cell_type": "code",
   "execution_count": 36,
   "metadata": {
    "ExecuteTime": {
     "end_time": "2021-08-09T01:39:47.651761Z",
     "start_time": "2021-08-09T01:39:47.445702Z"
    }
   },
   "outputs": [
    {
     "name": "stdout",
     "output_type": "stream",
     "text": [
      "<class 'pandas.core.frame.DataFrame'>\n",
      "Index: 600 entries, 개들의 전쟁 to 베를린\n",
      "Data columns (total 11 columns):\n",
      " #   Column          Non-Null Count  Dtype         \n",
      "---  ------          --------------  -----         \n",
      " 0   distributor     600 non-null    object        \n",
      " 1   genre           600 non-null    object        \n",
      " 2   release_time    600 non-null    datetime64[ns]\n",
      " 3   time            600 non-null    int64         \n",
      " 4   screening_rat   600 non-null    object        \n",
      " 5   director        600 non-null    object        \n",
      " 6   dir_prev_bfnum  600 non-null    float64       \n",
      " 7   dir_prev_num    600 non-null    int64         \n",
      " 8   num_staff       600 non-null    int64         \n",
      " 9   num_actor       600 non-null    int64         \n",
      " 10  box_off_num     600 non-null    int64         \n",
      "dtypes: datetime64[ns](1), float64(1), int64(5), object(4)\n",
      "memory usage: 56.2+ KB\n"
     ]
    }
   ],
   "source": [
    "df.fillna(0, inplace=True)\n",
    "df.info()"
   ]
  },
  {
   "cell_type": "markdown",
   "metadata": {},
   "source": [
    "`release_time`을 시계열타입 (`datetime`)으로 변환하고 결측값을 0으로 대체하였다."
   ]
  },
  {
   "cell_type": "code",
   "execution_count": 37,
   "metadata": {
    "ExecuteTime": {
     "end_time": "2021-08-09T01:39:48.080556Z",
     "start_time": "2021-08-09T01:39:47.900526Z"
    }
   },
   "outputs": [
    {
     "name": "stdout",
     "output_type": "stream",
     "text": [
      "    numeric (5):\t['time', 'dir_prev_bfnum', 'dir_prev_num', 'num_staff', 'num_actor']\n",
      "categorical (4):\t['distributor', 'genre', 'screening_rat', 'director']\n"
     ]
    }
   ],
   "source": [
    "num_cols = [x for x in df.columns if df[x].dtype in [np.int64, np.float64] and x != target_col]\n",
    "cat_cols = ['distributor', 'genre', 'screening_rat', 'director']\n",
    "print(f'    numeric ({len(num_cols)}):\\t{num_cols}')\n",
    "print(f'categorical ({len(cat_cols)}):\\t{cat_cols}')"
   ]
  },
  {
   "cell_type": "markdown",
   "metadata": {},
   "source": [
    "### 범주형변수 EDA"
   ]
  },
  {
   "cell_type": "code",
   "execution_count": 38,
   "metadata": {
    "ExecuteTime": {
     "end_time": "2021-08-09T01:39:48.582483Z",
     "start_time": "2021-08-09T01:39:48.405513Z"
    }
   },
   "outputs": [
    {
     "name": "stdout",
     "output_type": "stream",
     "text": [
      "['distributor', 'genre', 'screening_rat', 'director']\n"
     ]
    }
   ],
   "source": [
    "print(cat_cols)"
   ]
  },
  {
   "cell_type": "code",
   "execution_count": 39,
   "metadata": {
    "ExecuteTime": {
     "end_time": "2021-08-09T01:39:48.815885Z",
     "start_time": "2021-08-09T01:39:48.629248Z"
    }
   },
   "outputs": [
    {
     "data": {
      "text/html": [
       "<div>\n",
       "<style scoped>\n",
       "    .dataframe tbody tr th:only-of-type {\n",
       "        vertical-align: middle;\n",
       "    }\n",
       "\n",
       "    .dataframe tbody tr th {\n",
       "        vertical-align: top;\n",
       "    }\n",
       "\n",
       "    .dataframe thead th {\n",
       "        text-align: right;\n",
       "    }\n",
       "</style>\n",
       "<table border=\"1\" class=\"dataframe\">\n",
       "  <thead>\n",
       "    <tr style=\"text-align: right;\">\n",
       "      <th></th>\n",
       "      <th>distributor</th>\n",
       "    </tr>\n",
       "  </thead>\n",
       "  <tbody>\n",
       "    <tr>\n",
       "      <th>CJ 엔터테인먼트</th>\n",
       "      <td>54</td>\n",
       "    </tr>\n",
       "    <tr>\n",
       "      <th>롯데엔터테인먼트</th>\n",
       "      <td>52</td>\n",
       "    </tr>\n",
       "    <tr>\n",
       "      <th>(주)NEW</th>\n",
       "      <td>30</td>\n",
       "    </tr>\n",
       "    <tr>\n",
       "      <th>(주)마운틴픽쳐스</th>\n",
       "      <td>29</td>\n",
       "    </tr>\n",
       "    <tr>\n",
       "      <th>인디스토리</th>\n",
       "      <td>26</td>\n",
       "    </tr>\n",
       "    <tr>\n",
       "      <th>...</th>\n",
       "      <td>...</td>\n",
       "    </tr>\n",
       "    <tr>\n",
       "      <th>(주)두타연</th>\n",
       "      <td>1</td>\n",
       "    </tr>\n",
       "    <tr>\n",
       "      <th>미라클 필름</th>\n",
       "      <td>1</td>\n",
       "    </tr>\n",
       "    <tr>\n",
       "      <th>에스와이코마드</th>\n",
       "      <td>1</td>\n",
       "    </tr>\n",
       "    <tr>\n",
       "      <th>(주)팝 파트너스</th>\n",
       "      <td>1</td>\n",
       "    </tr>\n",
       "    <tr>\n",
       "      <th>디마엔터테인먼트</th>\n",
       "      <td>1</td>\n",
       "    </tr>\n",
       "  </tbody>\n",
       "</table>\n",
       "<p>169 rows × 1 columns</p>\n",
       "</div>"
      ],
      "text/plain": [
       "           distributor\n",
       "CJ 엔터테인먼트           54\n",
       "롯데엔터테인먼트            52\n",
       "(주)NEW              30\n",
       "(주)마운틴픽쳐스           29\n",
       "인디스토리               26\n",
       "...                ...\n",
       "(주)두타연               1\n",
       "미라클 필름               1\n",
       "에스와이코마드              1\n",
       "(주)팝 파트너스            1\n",
       "디마엔터테인먼트             1\n",
       "\n",
       "[169 rows x 1 columns]"
      ]
     },
     "execution_count": 39,
     "metadata": {},
     "output_type": "execute_result"
    }
   ],
   "source": [
    "pd.DataFrame(df['distributor'].value_counts())"
   ]
  },
  {
   "cell_type": "code",
   "execution_count": 40,
   "metadata": {
    "ExecuteTime": {
     "end_time": "2021-08-09T01:39:49.037680Z",
     "start_time": "2021-08-09T01:39:48.853397Z"
    }
   },
   "outputs": [
    {
     "data": {
      "text/html": [
       "<div>\n",
       "<style scoped>\n",
       "    .dataframe tbody tr th:only-of-type {\n",
       "        vertical-align: middle;\n",
       "    }\n",
       "\n",
       "    .dataframe tbody tr th {\n",
       "        vertical-align: top;\n",
       "    }\n",
       "\n",
       "    .dataframe thead th {\n",
       "        text-align: right;\n",
       "    }\n",
       "</style>\n",
       "<table border=\"1\" class=\"dataframe\">\n",
       "  <thead>\n",
       "    <tr style=\"text-align: right;\">\n",
       "      <th></th>\n",
       "      <th>genre</th>\n",
       "    </tr>\n",
       "  </thead>\n",
       "  <tbody>\n",
       "    <tr>\n",
       "      <th>드라마</th>\n",
       "      <td>221</td>\n",
       "    </tr>\n",
       "    <tr>\n",
       "      <th>다큐멘터리</th>\n",
       "      <td>93</td>\n",
       "    </tr>\n",
       "    <tr>\n",
       "      <th>멜로/로맨스</th>\n",
       "      <td>78</td>\n",
       "    </tr>\n",
       "    <tr>\n",
       "      <th>코미디</th>\n",
       "      <td>53</td>\n",
       "    </tr>\n",
       "    <tr>\n",
       "      <th>공포</th>\n",
       "      <td>42</td>\n",
       "    </tr>\n",
       "    <tr>\n",
       "      <th>액션</th>\n",
       "      <td>28</td>\n",
       "    </tr>\n",
       "    <tr>\n",
       "      <th>느와르</th>\n",
       "      <td>27</td>\n",
       "    </tr>\n",
       "    <tr>\n",
       "      <th>애니메이션</th>\n",
       "      <td>21</td>\n",
       "    </tr>\n",
       "    <tr>\n",
       "      <th>미스터리</th>\n",
       "      <td>17</td>\n",
       "    </tr>\n",
       "    <tr>\n",
       "      <th>SF</th>\n",
       "      <td>13</td>\n",
       "    </tr>\n",
       "    <tr>\n",
       "      <th>뮤지컬</th>\n",
       "      <td>5</td>\n",
       "    </tr>\n",
       "    <tr>\n",
       "      <th>서스펜스</th>\n",
       "      <td>2</td>\n",
       "    </tr>\n",
       "  </tbody>\n",
       "</table>\n",
       "</div>"
      ],
      "text/plain": [
       "        genre\n",
       "드라마       221\n",
       "다큐멘터리      93\n",
       "멜로/로맨스     78\n",
       "코미디        53\n",
       "공포         42\n",
       "액션         28\n",
       "느와르        27\n",
       "애니메이션      21\n",
       "미스터리       17\n",
       "SF         13\n",
       "뮤지컬         5\n",
       "서스펜스        2"
      ]
     },
     "execution_count": 40,
     "metadata": {},
     "output_type": "execute_result"
    }
   ],
   "source": [
    "pd.DataFrame(df['genre'].value_counts())"
   ]
  },
  {
   "cell_type": "code",
   "execution_count": 41,
   "metadata": {
    "ExecuteTime": {
     "end_time": "2021-08-09T01:39:49.242617Z",
     "start_time": "2021-08-09T01:39:49.060597Z"
    }
   },
   "outputs": [
    {
     "data": {
      "text/html": [
       "<div>\n",
       "<style scoped>\n",
       "    .dataframe tbody tr th:only-of-type {\n",
       "        vertical-align: middle;\n",
       "    }\n",
       "\n",
       "    .dataframe tbody tr th {\n",
       "        vertical-align: top;\n",
       "    }\n",
       "\n",
       "    .dataframe thead th {\n",
       "        text-align: right;\n",
       "    }\n",
       "</style>\n",
       "<table border=\"1\" class=\"dataframe\">\n",
       "  <thead>\n",
       "    <tr style=\"text-align: right;\">\n",
       "      <th></th>\n",
       "      <th>screening_rat</th>\n",
       "    </tr>\n",
       "  </thead>\n",
       "  <tbody>\n",
       "    <tr>\n",
       "      <th>청소년 관람불가</th>\n",
       "      <td>204</td>\n",
       "    </tr>\n",
       "    <tr>\n",
       "      <th>15세 관람가</th>\n",
       "      <td>202</td>\n",
       "    </tr>\n",
       "    <tr>\n",
       "      <th>12세 관람가</th>\n",
       "      <td>102</td>\n",
       "    </tr>\n",
       "    <tr>\n",
       "      <th>전체 관람가</th>\n",
       "      <td>92</td>\n",
       "    </tr>\n",
       "  </tbody>\n",
       "</table>\n",
       "</div>"
      ],
      "text/plain": [
       "          screening_rat\n",
       "청소년 관람불가            204\n",
       "15세 관람가             202\n",
       "12세 관람가             102\n",
       "전체 관람가               92"
      ]
     },
     "execution_count": 41,
     "metadata": {},
     "output_type": "execute_result"
    }
   ],
   "source": [
    "pd.DataFrame(df['screening_rat'].value_counts())"
   ]
  },
  {
   "cell_type": "code",
   "execution_count": 42,
   "metadata": {
    "ExecuteTime": {
     "end_time": "2021-08-09T01:39:49.447285Z",
     "start_time": "2021-08-09T01:39:49.261580Z"
    }
   },
   "outputs": [
    {
     "data": {
      "text/html": [
       "<div>\n",
       "<style scoped>\n",
       "    .dataframe tbody tr th:only-of-type {\n",
       "        vertical-align: middle;\n",
       "    }\n",
       "\n",
       "    .dataframe tbody tr th {\n",
       "        vertical-align: top;\n",
       "    }\n",
       "\n",
       "    .dataframe thead th {\n",
       "        text-align: right;\n",
       "    }\n",
       "</style>\n",
       "<table border=\"1\" class=\"dataframe\">\n",
       "  <thead>\n",
       "    <tr style=\"text-align: right;\">\n",
       "      <th></th>\n",
       "      <th>director</th>\n",
       "    </tr>\n",
       "  </thead>\n",
       "  <tbody>\n",
       "    <tr>\n",
       "      <th>홍상수</th>\n",
       "      <td>7</td>\n",
       "    </tr>\n",
       "    <tr>\n",
       "      <th>전규환</th>\n",
       "      <td>4</td>\n",
       "    </tr>\n",
       "    <tr>\n",
       "      <th>노진수</th>\n",
       "      <td>4</td>\n",
       "    </tr>\n",
       "    <tr>\n",
       "      <th>장률</th>\n",
       "      <td>4</td>\n",
       "    </tr>\n",
       "    <tr>\n",
       "      <th>우민호</th>\n",
       "      <td>4</td>\n",
       "    </tr>\n",
       "    <tr>\n",
       "      <th>...</th>\n",
       "      <td>...</td>\n",
       "    </tr>\n",
       "    <tr>\n",
       "      <th>장규성</th>\n",
       "      <td>1</td>\n",
       "    </tr>\n",
       "    <tr>\n",
       "      <th>신춘수</th>\n",
       "      <td>1</td>\n",
       "    </tr>\n",
       "    <tr>\n",
       "      <th>박중구</th>\n",
       "      <td>1</td>\n",
       "    </tr>\n",
       "    <tr>\n",
       "      <th>김진만</th>\n",
       "      <td>1</td>\n",
       "    </tr>\n",
       "    <tr>\n",
       "      <th>김효정</th>\n",
       "      <td>1</td>\n",
       "    </tr>\n",
       "  </tbody>\n",
       "</table>\n",
       "<p>472 rows × 1 columns</p>\n",
       "</div>"
      ],
      "text/plain": [
       "     director\n",
       "홍상수         7\n",
       "전규환         4\n",
       "노진수         4\n",
       "장률          4\n",
       "우민호         4\n",
       "..        ...\n",
       "장규성         1\n",
       "신춘수         1\n",
       "박중구         1\n",
       "김진만         1\n",
       "김효정         1\n",
       "\n",
       "[472 rows x 1 columns]"
      ]
     },
     "execution_count": 42,
     "metadata": {},
     "output_type": "execute_result"
    }
   ],
   "source": [
    "pd.DataFrame(df['director'].value_counts())"
   ]
  },
  {
   "cell_type": "markdown",
   "metadata": {},
   "source": [
    "## 수치형/시계열변수 가공"
   ]
  },
  {
   "cell_type": "markdown",
   "metadata": {},
   "source": [
    "수치형 독립변수 중 멱변환 분포를 따르는 변수에도 `np.log1p()` 변환을 적용하였다."
   ]
  },
  {
   "cell_type": "code",
   "execution_count": 43,
   "metadata": {
    "ExecuteTime": {
     "end_time": "2021-08-09T01:39:50.033982Z",
     "start_time": "2021-08-09T01:39:49.844762Z"
    }
   },
   "outputs": [
    {
     "data": {
      "text/html": [
       "<div>\n",
       "<style scoped>\n",
       "    .dataframe tbody tr th:only-of-type {\n",
       "        vertical-align: middle;\n",
       "    }\n",
       "\n",
       "    .dataframe tbody tr th {\n",
       "        vertical-align: top;\n",
       "    }\n",
       "\n",
       "    .dataframe thead th {\n",
       "        text-align: right;\n",
       "    }\n",
       "</style>\n",
       "<table border=\"1\" class=\"dataframe\">\n",
       "  <thead>\n",
       "    <tr style=\"text-align: right;\">\n",
       "      <th></th>\n",
       "      <th>time</th>\n",
       "      <th>dir_prev_bfnum</th>\n",
       "      <th>dir_prev_num</th>\n",
       "      <th>num_staff</th>\n",
       "      <th>num_actor</th>\n",
       "    </tr>\n",
       "  </thead>\n",
       "  <tbody>\n",
       "    <tr>\n",
       "      <th>count</th>\n",
       "      <td>600.000000</td>\n",
       "      <td>600.000000</td>\n",
       "      <td>600.000000</td>\n",
       "      <td>600.000000</td>\n",
       "      <td>600.000000</td>\n",
       "    </tr>\n",
       "    <tr>\n",
       "      <th>mean</th>\n",
       "      <td>100.863333</td>\n",
       "      <td>5.305796</td>\n",
       "      <td>0.462197</td>\n",
       "      <td>4.026352</td>\n",
       "      <td>1.446130</td>\n",
       "    </tr>\n",
       "    <tr>\n",
       "      <th>std</th>\n",
       "      <td>18.097528</td>\n",
       "      <td>6.254561</td>\n",
       "      <td>0.555570</td>\n",
       "      <td>1.789517</td>\n",
       "      <td>0.446256</td>\n",
       "    </tr>\n",
       "    <tr>\n",
       "      <th>min</th>\n",
       "      <td>45.000000</td>\n",
       "      <td>0.000000</td>\n",
       "      <td>0.000000</td>\n",
       "      <td>0.000000</td>\n",
       "      <td>0.000000</td>\n",
       "    </tr>\n",
       "    <tr>\n",
       "      <th>25%</th>\n",
       "      <td>89.000000</td>\n",
       "      <td>0.000000</td>\n",
       "      <td>0.000000</td>\n",
       "      <td>2.890372</td>\n",
       "      <td>1.098612</td>\n",
       "    </tr>\n",
       "    <tr>\n",
       "      <th>50%</th>\n",
       "      <td>100.000000</td>\n",
       "      <td>0.000000</td>\n",
       "      <td>0.000000</td>\n",
       "      <td>4.424829</td>\n",
       "      <td>1.386294</td>\n",
       "    </tr>\n",
       "    <tr>\n",
       "      <th>75%</th>\n",
       "      <td>114.000000</td>\n",
       "      <td>12.837611</td>\n",
       "      <td>1.098612</td>\n",
       "      <td>5.579730</td>\n",
       "      <td>1.609438</td>\n",
       "    </tr>\n",
       "    <tr>\n",
       "      <th>max</th>\n",
       "      <td>180.000000</td>\n",
       "      <td>16.684279</td>\n",
       "      <td>1.791759</td>\n",
       "      <td>6.768493</td>\n",
       "      <td>3.258097</td>\n",
       "    </tr>\n",
       "  </tbody>\n",
       "</table>\n",
       "</div>"
      ],
      "text/plain": [
       "             time  dir_prev_bfnum  dir_prev_num   num_staff   num_actor\n",
       "count  600.000000      600.000000    600.000000  600.000000  600.000000\n",
       "mean   100.863333        5.305796      0.462197    4.026352    1.446130\n",
       "std     18.097528        6.254561      0.555570    1.789517    0.446256\n",
       "min     45.000000        0.000000      0.000000    0.000000    0.000000\n",
       "25%     89.000000        0.000000      0.000000    2.890372    1.098612\n",
       "50%    100.000000        0.000000      0.000000    4.424829    1.386294\n",
       "75%    114.000000       12.837611      1.098612    5.579730    1.609438\n",
       "max    180.000000       16.684279      1.791759    6.768493    3.258097"
      ]
     },
     "execution_count": 43,
     "metadata": {},
     "output_type": "execute_result"
    }
   ],
   "source": [
    "df[['dir_prev_bfnum', 'dir_prev_num', 'num_staff', 'num_actor']] = df[['dir_prev_bfnum', 'dir_prev_num', 'num_staff', 'num_actor']].apply(np.log1p)\n",
    "df[num_cols].describe()"
   ]
  },
  {
   "cell_type": "code",
   "execution_count": 44,
   "metadata": {
    "ExecuteTime": {
     "end_time": "2021-08-09T01:39:50.254613Z",
     "start_time": "2021-08-09T01:39:50.041961Z"
    }
   },
   "outputs": [
    {
     "data": {
      "text/html": [
       "<div>\n",
       "<style scoped>\n",
       "    .dataframe tbody tr th:only-of-type {\n",
       "        vertical-align: middle;\n",
       "    }\n",
       "\n",
       "    .dataframe tbody tr th {\n",
       "        vertical-align: top;\n",
       "    }\n",
       "\n",
       "    .dataframe thead th {\n",
       "        text-align: right;\n",
       "    }\n",
       "</style>\n",
       "<table border=\"1\" class=\"dataframe\">\n",
       "  <thead>\n",
       "    <tr style=\"text-align: right;\">\n",
       "      <th></th>\n",
       "      <th>distributor</th>\n",
       "      <th>genre</th>\n",
       "      <th>release_time</th>\n",
       "      <th>time</th>\n",
       "      <th>screening_rat</th>\n",
       "      <th>director</th>\n",
       "      <th>dir_prev_bfnum</th>\n",
       "      <th>dir_prev_num</th>\n",
       "      <th>num_staff</th>\n",
       "      <th>num_actor</th>\n",
       "      <th>box_off_num</th>\n",
       "      <th>year</th>\n",
       "      <th>month</th>\n",
       "    </tr>\n",
       "    <tr>\n",
       "      <th>title</th>\n",
       "      <th></th>\n",
       "      <th></th>\n",
       "      <th></th>\n",
       "      <th></th>\n",
       "      <th></th>\n",
       "      <th></th>\n",
       "      <th></th>\n",
       "      <th></th>\n",
       "      <th></th>\n",
       "      <th></th>\n",
       "      <th></th>\n",
       "      <th></th>\n",
       "      <th></th>\n",
       "    </tr>\n",
       "  </thead>\n",
       "  <tbody>\n",
       "    <tr>\n",
       "      <th>개들의 전쟁</th>\n",
       "      <td>롯데엔터테인먼트</td>\n",
       "      <td>액션</td>\n",
       "      <td>2012-11-22</td>\n",
       "      <td>96</td>\n",
       "      <td>청소년 관람불가</td>\n",
       "      <td>조병옥</td>\n",
       "      <td>0.000000</td>\n",
       "      <td>0.000000</td>\n",
       "      <td>4.521789</td>\n",
       "      <td>1.098612</td>\n",
       "      <td>23398</td>\n",
       "      <td>2012</td>\n",
       "      <td>11</td>\n",
       "    </tr>\n",
       "    <tr>\n",
       "      <th>내부자들</th>\n",
       "      <td>(주)쇼박스</td>\n",
       "      <td>느와르</td>\n",
       "      <td>2015-11-19</td>\n",
       "      <td>130</td>\n",
       "      <td>청소년 관람불가</td>\n",
       "      <td>우민호</td>\n",
       "      <td>13.965312</td>\n",
       "      <td>1.098612</td>\n",
       "      <td>5.961005</td>\n",
       "      <td>1.386294</td>\n",
       "      <td>7072501</td>\n",
       "      <td>2015</td>\n",
       "      <td>11</td>\n",
       "    </tr>\n",
       "    <tr>\n",
       "      <th>은밀하게 위대하게</th>\n",
       "      <td>(주)쇼박스</td>\n",
       "      <td>액션</td>\n",
       "      <td>2013-06-05</td>\n",
       "      <td>123</td>\n",
       "      <td>15세 관람가</td>\n",
       "      <td>장철수</td>\n",
       "      <td>12.304905</td>\n",
       "      <td>1.609438</td>\n",
       "      <td>5.840642</td>\n",
       "      <td>1.609438</td>\n",
       "      <td>6959083</td>\n",
       "      <td>2013</td>\n",
       "      <td>6</td>\n",
       "    </tr>\n",
       "    <tr>\n",
       "      <th>나는 공무원이다</th>\n",
       "      <td>(주)NEW</td>\n",
       "      <td>코미디</td>\n",
       "      <td>2012-07-12</td>\n",
       "      <td>101</td>\n",
       "      <td>전체 관람가</td>\n",
       "      <td>구자홍</td>\n",
       "      <td>10.081425</td>\n",
       "      <td>1.098612</td>\n",
       "      <td>3.044522</td>\n",
       "      <td>1.945910</td>\n",
       "      <td>217866</td>\n",
       "      <td>2012</td>\n",
       "      <td>7</td>\n",
       "    </tr>\n",
       "    <tr>\n",
       "      <th>불량남녀</th>\n",
       "      <td>쇼박스(주)미디어플렉스</td>\n",
       "      <td>코미디</td>\n",
       "      <td>2010-11-04</td>\n",
       "      <td>108</td>\n",
       "      <td>15세 관람가</td>\n",
       "      <td>신근호</td>\n",
       "      <td>0.693147</td>\n",
       "      <td>0.693147</td>\n",
       "      <td>5.529429</td>\n",
       "      <td>1.098612</td>\n",
       "      <td>483387</td>\n",
       "      <td>2010</td>\n",
       "      <td>11</td>\n",
       "    </tr>\n",
       "  </tbody>\n",
       "</table>\n",
       "</div>"
      ],
      "text/plain": [
       "            distributor genre release_time  time screening_rat director  \\\n",
       "title                                                                     \n",
       "개들의 전쟁         롯데엔터테인먼트    액션   2012-11-22    96      청소년 관람불가      조병옥   \n",
       "내부자들             (주)쇼박스   느와르   2015-11-19   130      청소년 관람불가      우민호   \n",
       "은밀하게 위대하게        (주)쇼박스    액션   2013-06-05   123       15세 관람가      장철수   \n",
       "나는 공무원이다         (주)NEW   코미디   2012-07-12   101        전체 관람가      구자홍   \n",
       "불량남녀       쇼박스(주)미디어플렉스   코미디   2010-11-04   108       15세 관람가      신근호   \n",
       "\n",
       "           dir_prev_bfnum  dir_prev_num  num_staff  num_actor  box_off_num  \\\n",
       "title                                                                        \n",
       "개들의 전쟁           0.000000      0.000000   4.521789   1.098612        23398   \n",
       "내부자들            13.965312      1.098612   5.961005   1.386294      7072501   \n",
       "은밀하게 위대하게       12.304905      1.609438   5.840642   1.609438      6959083   \n",
       "나는 공무원이다        10.081425      1.098612   3.044522   1.945910       217866   \n",
       "불량남녀             0.693147      0.693147   5.529429   1.098612       483387   \n",
       "\n",
       "           year  month  \n",
       "title                   \n",
       "개들의 전쟁     2012     11  \n",
       "내부자들       2015     11  \n",
       "은밀하게 위대하게  2013      6  \n",
       "나는 공무원이다   2012      7  \n",
       "불량남녀       2010     11  "
      ]
     },
     "execution_count": 44,
     "metadata": {},
     "output_type": "execute_result"
    }
   ],
   "source": [
    "df['year'] = df['release_time'].dt.year\n",
    "df['month'] = df['release_time'].dt.month\n",
    "df.head()"
   ]
  },
  {
   "cell_type": "code",
   "execution_count": 45,
   "metadata": {
    "ExecuteTime": {
     "end_time": "2021-08-09T01:39:50.442529Z",
     "start_time": "2021-08-09T01:39:50.256567Z"
    }
   },
   "outputs": [
    {
     "name": "stdout",
     "output_type": "stream",
     "text": [
      "['time', 'dir_prev_bfnum', 'dir_prev_num', 'num_staff', 'num_actor', 'year', 'month']\n"
     ]
    }
   ],
   "source": [
    "num_cols += ['year', 'month']\n",
    "print(num_cols)"
   ]
  },
  {
   "cell_type": "code",
   "execution_count": 46,
   "metadata": {
    "ExecuteTime": {
     "end_time": "2021-08-09T01:39:50.630570Z",
     "start_time": "2021-08-09T01:39:50.444526Z"
    }
   },
   "outputs": [
    {
     "name": "stdout",
     "output_type": "stream",
     "text": [
      "['time', 'dir_prev_bfnum', 'dir_prev_num', 'num_staff', 'num_actor', 'year', 'month', 'distributor', 'genre', 'screening_rat', 'director']\n"
     ]
    }
   ],
   "source": [
    "features = num_cols + cat_cols\n",
    "print(features)"
   ]
  },
  {
   "cell_type": "markdown",
   "metadata": {},
   "source": [
    "## 범주형변수 가공"
   ]
  },
  {
   "cell_type": "code",
   "execution_count": 47,
   "metadata": {
    "ExecuteTime": {
     "end_time": "2021-08-09T01:39:50.991357Z",
     "start_time": "2021-08-09T01:39:50.807222Z"
    }
   },
   "outputs": [],
   "source": [
    "rmse = lambda y, p: np.sqrt(mean_squared_error(y, p))\n",
    "rmsle = lambda y, p: np.sqrt(mean_squared_error(np.log1p(y), np.log1p(p)))"
   ]
  },
  {
   "cell_type": "markdown",
   "metadata": {},
   "source": [
    "### Ordinal Encoding"
   ]
  },
  {
   "cell_type": "code",
   "execution_count": 48,
   "metadata": {
    "ExecuteTime": {
     "end_time": "2021-08-09T01:39:51.602917Z",
     "start_time": "2021-08-09T01:39:51.404560Z"
    }
   },
   "outputs": [
    {
     "data": {
      "text/html": [
       "<div>\n",
       "<style scoped>\n",
       "    .dataframe tbody tr th:only-of-type {\n",
       "        vertical-align: middle;\n",
       "    }\n",
       "\n",
       "    .dataframe tbody tr th {\n",
       "        vertical-align: top;\n",
       "    }\n",
       "\n",
       "    .dataframe thead th {\n",
       "        text-align: right;\n",
       "    }\n",
       "</style>\n",
       "<table border=\"1\" class=\"dataframe\">\n",
       "  <thead>\n",
       "    <tr style=\"text-align: right;\">\n",
       "      <th></th>\n",
       "      <th>distributor</th>\n",
       "      <th>genre</th>\n",
       "      <th>screening_rat</th>\n",
       "      <th>director</th>\n",
       "    </tr>\n",
       "    <tr>\n",
       "      <th>title</th>\n",
       "      <th></th>\n",
       "      <th></th>\n",
       "      <th></th>\n",
       "      <th></th>\n",
       "    </tr>\n",
       "  </thead>\n",
       "  <tbody>\n",
       "    <tr>\n",
       "      <th>개들의 전쟁</th>\n",
       "      <td>80.0</td>\n",
       "      <td>10.0</td>\n",
       "      <td>3.0</td>\n",
       "      <td>393.0</td>\n",
       "    </tr>\n",
       "    <tr>\n",
       "      <th>내부자들</th>\n",
       "      <td>21.0</td>\n",
       "      <td>2.0</td>\n",
       "      <td>3.0</td>\n",
       "      <td>252.0</td>\n",
       "    </tr>\n",
       "    <tr>\n",
       "      <th>은밀하게 위대하게</th>\n",
       "      <td>21.0</td>\n",
       "      <td>10.0</td>\n",
       "      <td>1.0</td>\n",
       "      <td>357.0</td>\n",
       "    </tr>\n",
       "    <tr>\n",
       "      <th>나는 공무원이다</th>\n",
       "      <td>6.0</td>\n",
       "      <td>11.0</td>\n",
       "      <td>2.0</td>\n",
       "      <td>17.0</td>\n",
       "    </tr>\n",
       "    <tr>\n",
       "      <th>불량남녀</th>\n",
       "      <td>96.0</td>\n",
       "      <td>11.0</td>\n",
       "      <td>1.0</td>\n",
       "      <td>218.0</td>\n",
       "    </tr>\n",
       "  </tbody>\n",
       "</table>\n",
       "</div>"
      ],
      "text/plain": [
       "           distributor  genre  screening_rat  director\n",
       "title                                                 \n",
       "개들의 전쟁            80.0   10.0            3.0     393.0\n",
       "내부자들              21.0    2.0            3.0     252.0\n",
       "은밀하게 위대하게         21.0   10.0            1.0     357.0\n",
       "나는 공무원이다           6.0   11.0            2.0      17.0\n",
       "불량남녀              96.0   11.0            1.0     218.0"
      ]
     },
     "execution_count": 48,
     "metadata": {},
     "output_type": "execute_result"
    }
   ],
   "source": [
    "from sklearn.preprocessing import OrdinalEncoder\n",
    "df_cat = df.copy()\n",
    "oe = OrdinalEncoder()\n",
    "df_cat[cat_cols] = oe.fit_transform(df[cat_cols])\n",
    "df_cat[cat_cols].head()"
   ]
  },
  {
   "cell_type": "code",
   "execution_count": 49,
   "metadata": {
    "ExecuteTime": {
     "end_time": "2021-08-09T01:39:51.919158Z",
     "start_time": "2021-08-09T01:39:51.669708Z"
    }
   },
   "outputs": [
    {
     "name": "stdout",
     "output_type": "stream",
     "text": [
      " RMSE:\t  1412591.02\n",
      "RMSLE:\t        1.98\n"
     ]
    }
   ],
   "source": [
    "trn, tst = train_test_split(df_cat, test_size=.2, random_state=seed)\n",
    "clf = LGBMRegressor(random_state=seed)\n",
    "clf.fit(trn[features], np.log1p(trn[target_col]))\n",
    "p = np.expm1(clf.predict(tst[features]))\n",
    "print(f' RMSE:\\t{rmse(tst[target_col], p):12.2f}')\n",
    "print(f'RMSLE:\\t{rmsle(tst[target_col], p):12.2f}')"
   ]
  },
  {
   "cell_type": "markdown",
   "metadata": {},
   "source": [
    "### Label Encoding with Grouping"
   ]
  },
  {
   "cell_type": "code",
   "execution_count": 55,
   "metadata": {
    "ExecuteTime": {
     "end_time": "2021-08-09T01:43:11.876353Z",
     "start_time": "2021-08-09T01:43:10.054074Z"
    }
   },
   "outputs": [
    {
     "data": {
      "text/html": [
       "<div>\n",
       "<style scoped>\n",
       "    .dataframe tbody tr th:only-of-type {\n",
       "        vertical-align: middle;\n",
       "    }\n",
       "\n",
       "    .dataframe tbody tr th {\n",
       "        vertical-align: top;\n",
       "    }\n",
       "\n",
       "    .dataframe thead th {\n",
       "        text-align: right;\n",
       "    }\n",
       "</style>\n",
       "<table border=\"1\" class=\"dataframe\">\n",
       "  <thead>\n",
       "    <tr style=\"text-align: right;\">\n",
       "      <th></th>\n",
       "      <th>distributor</th>\n",
       "      <th>genre</th>\n",
       "      <th>screening_rat</th>\n",
       "      <th>director</th>\n",
       "    </tr>\n",
       "    <tr>\n",
       "      <th>title</th>\n",
       "      <th></th>\n",
       "      <th></th>\n",
       "      <th></th>\n",
       "      <th></th>\n",
       "    </tr>\n",
       "  </thead>\n",
       "  <tbody>\n",
       "    <tr>\n",
       "      <th>개들의 전쟁</th>\n",
       "      <td>2</td>\n",
       "      <td>5</td>\n",
       "      <td>0</td>\n",
       "      <td>0</td>\n",
       "    </tr>\n",
       "    <tr>\n",
       "      <th>내부자들</th>\n",
       "      <td>6</td>\n",
       "      <td>6</td>\n",
       "      <td>0</td>\n",
       "      <td>5</td>\n",
       "    </tr>\n",
       "    <tr>\n",
       "      <th>은밀하게 위대하게</th>\n",
       "      <td>6</td>\n",
       "      <td>5</td>\n",
       "      <td>1</td>\n",
       "      <td>0</td>\n",
       "    </tr>\n",
       "    <tr>\n",
       "      <th>나는 공무원이다</th>\n",
       "      <td>3</td>\n",
       "      <td>3</td>\n",
       "      <td>3</td>\n",
       "      <td>0</td>\n",
       "    </tr>\n",
       "    <tr>\n",
       "      <th>불량남녀</th>\n",
       "      <td>67</td>\n",
       "      <td>3</td>\n",
       "      <td>1</td>\n",
       "      <td>0</td>\n",
       "    </tr>\n",
       "  </tbody>\n",
       "</table>\n",
       "</div>"
      ],
      "text/plain": [
       "           distributor  genre  screening_rat  director\n",
       "title                                                 \n",
       "개들의 전쟁               2      5              0         0\n",
       "내부자들                 6      6              0         5\n",
       "은밀하게 위대하게            6      5              1         0\n",
       "나는 공무원이다             3      3              3         0\n",
       "불량남녀                67      3              1         0"
      ]
     },
     "execution_count": 55,
     "metadata": {},
     "output_type": "execute_result"
    }
   ],
   "source": [
    "from kaggler.preprocessing import LabelEncoder\n",
    "df_cat = df.copy()\n",
    "le = LabelEncoder(min_obs=2)\n",
    "df_cat[cat_cols] = le.fit_transform(df[cat_cols])\n",
    "df_cat[cat_cols].head()"
   ]
  },
  {
   "cell_type": "code",
   "execution_count": 23,
   "metadata": {
    "ExecuteTime": {
     "end_time": "2020-10-15T01:58:52.534859Z",
     "start_time": "2020-10-15T01:58:52.433852Z"
    }
   },
   "outputs": [
    {
     "name": "stdout",
     "output_type": "stream",
     "text": [
      " RMSE:\t  1182500.97\n",
      "RMSLE:\t        1.92\n"
     ]
    }
   ],
   "source": [
    "trn, tst = train_test_split(df_cat, test_size=.2, random_state=seed)\n",
    "clf = LGBMRegressor(random_state=seed)\n",
    "clf.fit(trn[features], np.log1p(trn[target_col]))\n",
    "p = np.expm1(clf.predict(tst[features]))\n",
    "print(f' RMSE:\\t{rmse(tst[target_col], p):12.2f}')\n",
    "print(f'RMSLE:\\t{rmsle(tst[target_col], p):12.2f}')"
   ]
  },
  {
   "cell_type": "markdown",
   "metadata": {},
   "source": [
    "### One-Hot-Encoding"
   ]
  },
  {
   "cell_type": "code",
   "execution_count": 57,
   "metadata": {
    "ExecuteTime": {
     "end_time": "2021-08-09T01:43:57.674790Z",
     "start_time": "2021-08-09T01:43:57.293408Z"
    }
   },
   "outputs": [
    {
     "name": "stdout",
     "output_type": "stream",
     "text": [
      "(600, 664)\n"
     ]
    }
   ],
   "source": [
    "from sklearn.preprocessing import OneHotEncoder\n",
    "ohe = OneHotEncoder()\n",
    "X = hstack((df[num_cols],\n",
    "            ohe.fit_transform(df[cat_cols])))\n",
    "print(X.shape)"
   ]
  },
  {
   "cell_type": "code",
   "execution_count": 58,
   "metadata": {
    "ExecuteTime": {
     "end_time": "2021-08-09T01:43:58.653819Z",
     "start_time": "2021-08-09T01:43:58.244087Z"
    }
   },
   "outputs": [
    {
     "name": "stdout",
     "output_type": "stream",
     "text": [
      " RMSE:\t  1239343.52\n",
      "RMSLE:\t        1.99\n"
     ]
    }
   ],
   "source": [
    "X_trn, X_tst, y_trn, y_tst = train_test_split(X, df[target_col], test_size=.2, random_state=seed)\n",
    "clf = LGBMRegressor(random_state=seed)\n",
    "clf.fit(X_trn, np.log1p(y_trn))\n",
    "p = np.expm1(clf.predict(X_tst))\n",
    "print(f' RMSE:\\t{rmse(tst[target_col], p):12.2f}')\n",
    "print(f'RMSLE:\\t{rmsle(tst[target_col], p):12.2f}')"
   ]
  },
  {
   "cell_type": "markdown",
   "metadata": {},
   "source": [
    "### One-Hot-Encoding with Grouping"
   ]
  },
  {
   "cell_type": "code",
   "execution_count": 72,
   "metadata": {
    "ExecuteTime": {
     "end_time": "2021-08-09T02:06:02.713044Z",
     "start_time": "2021-08-09T02:06:02.305584Z"
    }
   },
   "outputs": [
    {
     "name": "stdout",
     "output_type": "stream",
     "text": [
      "(600, 187)\n"
     ]
    }
   ],
   "source": [
    "from kaggler.preprocessing import OneHotEncoder\n",
    "ohe = OneHotEncoder(min_obs=2)\n",
    "ohe.fit(df[cat_cols])\n",
    "X = hstack((df[num_cols],\n",
    "            ohe.transform(df[cat_cols])))\n",
    "print(X.shape)"
   ]
  },
  {
   "cell_type": "code",
   "execution_count": 75,
   "metadata": {
    "ExecuteTime": {
     "end_time": "2021-08-09T02:06:37.204785Z",
     "start_time": "2021-08-09T02:06:36.808895Z"
    }
   },
   "outputs": [
    {
     "data": {
      "text/html": [
       "<div>\n",
       "<style scoped>\n",
       "    .dataframe tbody tr th:only-of-type {\n",
       "        vertical-align: middle;\n",
       "    }\n",
       "\n",
       "    .dataframe tbody tr th {\n",
       "        vertical-align: top;\n",
       "    }\n",
       "\n",
       "    .dataframe thead th {\n",
       "        text-align: right;\n",
       "    }\n",
       "</style>\n",
       "<table border=\"1\" class=\"dataframe\">\n",
       "  <thead>\n",
       "    <tr style=\"text-align: right;\">\n",
       "      <th></th>\n",
       "      <th>0</th>\n",
       "      <th>1</th>\n",
       "      <th>2</th>\n",
       "      <th>3</th>\n",
       "      <th>4</th>\n",
       "      <th>5</th>\n",
       "      <th>6</th>\n",
       "      <th>7</th>\n",
       "      <th>8</th>\n",
       "      <th>9</th>\n",
       "      <th>...</th>\n",
       "      <th>177</th>\n",
       "      <th>178</th>\n",
       "      <th>179</th>\n",
       "      <th>180</th>\n",
       "      <th>181</th>\n",
       "      <th>182</th>\n",
       "      <th>183</th>\n",
       "      <th>184</th>\n",
       "      <th>185</th>\n",
       "      <th>186</th>\n",
       "    </tr>\n",
       "    <tr>\n",
       "      <th>title</th>\n",
       "      <th></th>\n",
       "      <th></th>\n",
       "      <th></th>\n",
       "      <th></th>\n",
       "      <th></th>\n",
       "      <th></th>\n",
       "      <th></th>\n",
       "      <th></th>\n",
       "      <th></th>\n",
       "      <th></th>\n",
       "      <th></th>\n",
       "      <th></th>\n",
       "      <th></th>\n",
       "      <th></th>\n",
       "      <th></th>\n",
       "      <th></th>\n",
       "      <th></th>\n",
       "      <th></th>\n",
       "      <th></th>\n",
       "      <th></th>\n",
       "      <th></th>\n",
       "    </tr>\n",
       "  </thead>\n",
       "  <tbody>\n",
       "    <tr>\n",
       "      <th>개들의 전쟁</th>\n",
       "      <td>96.0</td>\n",
       "      <td>0.000000</td>\n",
       "      <td>0.000000</td>\n",
       "      <td>4.521789</td>\n",
       "      <td>1.098612</td>\n",
       "      <td>2012.0</td>\n",
       "      <td>11.0</td>\n",
       "      <td>0.0</td>\n",
       "      <td>1.0</td>\n",
       "      <td>0.0</td>\n",
       "      <td>...</td>\n",
       "      <td>0.0</td>\n",
       "      <td>0.0</td>\n",
       "      <td>0.0</td>\n",
       "      <td>0.0</td>\n",
       "      <td>0.0</td>\n",
       "      <td>0.0</td>\n",
       "      <td>0.0</td>\n",
       "      <td>0.0</td>\n",
       "      <td>0.0</td>\n",
       "      <td>0.0</td>\n",
       "    </tr>\n",
       "    <tr>\n",
       "      <th>내부자들</th>\n",
       "      <td>130.0</td>\n",
       "      <td>13.965312</td>\n",
       "      <td>1.098612</td>\n",
       "      <td>5.961005</td>\n",
       "      <td>1.386294</td>\n",
       "      <td>2015.0</td>\n",
       "      <td>11.0</td>\n",
       "      <td>0.0</td>\n",
       "      <td>0.0</td>\n",
       "      <td>0.0</td>\n",
       "      <td>...</td>\n",
       "      <td>0.0</td>\n",
       "      <td>0.0</td>\n",
       "      <td>0.0</td>\n",
       "      <td>0.0</td>\n",
       "      <td>0.0</td>\n",
       "      <td>0.0</td>\n",
       "      <td>0.0</td>\n",
       "      <td>0.0</td>\n",
       "      <td>0.0</td>\n",
       "      <td>0.0</td>\n",
       "    </tr>\n",
       "    <tr>\n",
       "      <th>은밀하게 위대하게</th>\n",
       "      <td>123.0</td>\n",
       "      <td>12.304905</td>\n",
       "      <td>1.609438</td>\n",
       "      <td>5.840642</td>\n",
       "      <td>1.609438</td>\n",
       "      <td>2013.0</td>\n",
       "      <td>6.0</td>\n",
       "      <td>0.0</td>\n",
       "      <td>0.0</td>\n",
       "      <td>0.0</td>\n",
       "      <td>...</td>\n",
       "      <td>0.0</td>\n",
       "      <td>0.0</td>\n",
       "      <td>0.0</td>\n",
       "      <td>0.0</td>\n",
       "      <td>0.0</td>\n",
       "      <td>0.0</td>\n",
       "      <td>0.0</td>\n",
       "      <td>0.0</td>\n",
       "      <td>0.0</td>\n",
       "      <td>0.0</td>\n",
       "    </tr>\n",
       "    <tr>\n",
       "      <th>나는 공무원이다</th>\n",
       "      <td>101.0</td>\n",
       "      <td>10.081425</td>\n",
       "      <td>1.098612</td>\n",
       "      <td>3.044522</td>\n",
       "      <td>1.945910</td>\n",
       "      <td>2012.0</td>\n",
       "      <td>7.0</td>\n",
       "      <td>0.0</td>\n",
       "      <td>0.0</td>\n",
       "      <td>1.0</td>\n",
       "      <td>...</td>\n",
       "      <td>0.0</td>\n",
       "      <td>0.0</td>\n",
       "      <td>0.0</td>\n",
       "      <td>0.0</td>\n",
       "      <td>0.0</td>\n",
       "      <td>0.0</td>\n",
       "      <td>0.0</td>\n",
       "      <td>0.0</td>\n",
       "      <td>0.0</td>\n",
       "      <td>0.0</td>\n",
       "    </tr>\n",
       "    <tr>\n",
       "      <th>불량남녀</th>\n",
       "      <td>108.0</td>\n",
       "      <td>0.693147</td>\n",
       "      <td>0.693147</td>\n",
       "      <td>5.529429</td>\n",
       "      <td>1.098612</td>\n",
       "      <td>2010.0</td>\n",
       "      <td>11.0</td>\n",
       "      <td>0.0</td>\n",
       "      <td>0.0</td>\n",
       "      <td>0.0</td>\n",
       "      <td>...</td>\n",
       "      <td>0.0</td>\n",
       "      <td>0.0</td>\n",
       "      <td>0.0</td>\n",
       "      <td>0.0</td>\n",
       "      <td>0.0</td>\n",
       "      <td>0.0</td>\n",
       "      <td>0.0</td>\n",
       "      <td>0.0</td>\n",
       "      <td>0.0</td>\n",
       "      <td>0.0</td>\n",
       "    </tr>\n",
       "  </tbody>\n",
       "</table>\n",
       "<p>5 rows × 187 columns</p>\n",
       "</div>"
      ],
      "text/plain": [
       "             0          1         2         3         4       5     6    7    \\\n",
       "title                                                                          \n",
       "개들의 전쟁      96.0   0.000000  0.000000  4.521789  1.098612  2012.0  11.0  0.0   \n",
       "내부자들       130.0  13.965312  1.098612  5.961005  1.386294  2015.0  11.0  0.0   \n",
       "은밀하게 위대하게  123.0  12.304905  1.609438  5.840642  1.609438  2013.0   6.0  0.0   \n",
       "나는 공무원이다   101.0  10.081425  1.098612  3.044522  1.945910  2012.0   7.0  0.0   \n",
       "불량남녀       108.0   0.693147  0.693147  5.529429  1.098612  2010.0  11.0  0.0   \n",
       "\n",
       "           8    9    ...  177  178  179  180  181  182  183  184  185  186  \n",
       "title                ...                                                    \n",
       "개들의 전쟁     1.0  0.0  ...  0.0  0.0  0.0  0.0  0.0  0.0  0.0  0.0  0.0  0.0  \n",
       "내부자들       0.0  0.0  ...  0.0  0.0  0.0  0.0  0.0  0.0  0.0  0.0  0.0  0.0  \n",
       "은밀하게 위대하게  0.0  0.0  ...  0.0  0.0  0.0  0.0  0.0  0.0  0.0  0.0  0.0  0.0  \n",
       "나는 공무원이다   0.0  1.0  ...  0.0  0.0  0.0  0.0  0.0  0.0  0.0  0.0  0.0  0.0  \n",
       "불량남녀       0.0  0.0  ...  0.0  0.0  0.0  0.0  0.0  0.0  0.0  0.0  0.0  0.0  \n",
       "\n",
       "[5 rows x 187 columns]"
      ]
     },
     "execution_count": 75,
     "metadata": {},
     "output_type": "execute_result"
    }
   ],
   "source": [
    "df2 = pd.DataFrame(X.toarray(), index=df.index) # 512 변경필요 # Hash함수 적용한 컬럼갯수\n",
    "df2.head()"
   ]
  },
  {
   "cell_type": "code",
   "execution_count": 27,
   "metadata": {
    "ExecuteTime": {
     "end_time": "2020-10-15T01:58:52.866167Z",
     "start_time": "2020-10-15T01:58:52.777080Z"
    }
   },
   "outputs": [
    {
     "name": "stdout",
     "output_type": "stream",
     "text": [
      " RMSE:\t  1183708.39\n",
      "RMSLE:\t        1.96\n"
     ]
    }
   ],
   "source": [
    "X_trn, X_tst, y_trn, y_tst = train_test_split(X, df[target_col], test_size=.2, random_state=seed)\n",
    "clf = LGBMRegressor(random_state=seed)\n",
    "clf.fit(X_trn, np.log1p(y_trn))\n",
    "p = np.expm1(clf.predict(X_tst))\n",
    "print(f' RMSE:\\t{rmse(tst[target_col], p):12.2f}')\n",
    "print(f'RMSLE:\\t{rmsle(tst[target_col], p):12.2f}')"
   ]
  },
  {
   "cell_type": "markdown",
   "metadata": {},
   "source": [
    "### Target Encoding without Cross-Validation"
   ]
  },
  {
   "cell_type": "code",
   "execution_count": 60,
   "metadata": {
    "ExecuteTime": {
     "end_time": "2021-08-09T01:44:09.401127Z",
     "start_time": "2021-08-09T01:44:09.005342Z"
    }
   },
   "outputs": [
    {
     "data": {
      "text/html": [
       "<div>\n",
       "<style scoped>\n",
       "    .dataframe tbody tr th:only-of-type {\n",
       "        vertical-align: middle;\n",
       "    }\n",
       "\n",
       "    .dataframe tbody tr th {\n",
       "        vertical-align: top;\n",
       "    }\n",
       "\n",
       "    .dataframe thead th {\n",
       "        text-align: right;\n",
       "    }\n",
       "</style>\n",
       "<table border=\"1\" class=\"dataframe\">\n",
       "  <thead>\n",
       "    <tr style=\"text-align: right;\">\n",
       "      <th></th>\n",
       "      <th>distributor</th>\n",
       "      <th>genre</th>\n",
       "      <th>screening_rat</th>\n",
       "      <th>director</th>\n",
       "    </tr>\n",
       "    <tr>\n",
       "      <th>title</th>\n",
       "      <th></th>\n",
       "      <th></th>\n",
       "      <th></th>\n",
       "      <th></th>\n",
       "    </tr>\n",
       "  </thead>\n",
       "  <tbody>\n",
       "    <tr>\n",
       "      <th>돼지의 왕</th>\n",
       "      <td>721746.077154</td>\n",
       "      <td>1.998008e+05</td>\n",
       "      <td>3.511182e+05</td>\n",
       "      <td>723283.709843</td>\n",
       "    </tr>\n",
       "    <tr>\n",
       "      <th>청춘그루브</th>\n",
       "      <td>723430.057925</td>\n",
       "      <td>6.093409e+05</td>\n",
       "      <td>1.289088e+06</td>\n",
       "      <td>723430.057925</td>\n",
       "    </tr>\n",
       "    <tr>\n",
       "      <th>행복한 울릉인</th>\n",
       "      <td>722860.857509</td>\n",
       "      <td>7.472685e+04</td>\n",
       "      <td>1.529000e+05</td>\n",
       "      <td>723430.082604</td>\n",
       "    </tr>\n",
       "    <tr>\n",
       "      <th>옥희의 영화</th>\n",
       "      <td>718805.251941</td>\n",
       "      <td>6.093409e+05</td>\n",
       "      <td>3.511182e+05</td>\n",
       "      <td>711379.735399</td>\n",
       "    </tr>\n",
       "    <tr>\n",
       "      <th>권법형사 : 차이나타운</th>\n",
       "      <td>90921.244145</td>\n",
       "      <td>2.212935e+06</td>\n",
       "      <td>3.511182e+05</td>\n",
       "      <td>723429.982531</td>\n",
       "    </tr>\n",
       "  </tbody>\n",
       "</table>\n",
       "</div>"
      ],
      "text/plain": [
       "                distributor         genre  screening_rat       director\n",
       "title                                                                  \n",
       "돼지의 왕         721746.077154  1.998008e+05   3.511182e+05  723283.709843\n",
       "청춘그루브         723430.057925  6.093409e+05   1.289088e+06  723430.057925\n",
       "행복한 울릉인       722860.857509  7.472685e+04   1.529000e+05  723430.082604\n",
       "옥희의 영화        718805.251941  6.093409e+05   3.511182e+05  711379.735399\n",
       "권법형사 : 차이나타운   90921.244145  2.212935e+06   3.511182e+05  723429.982531"
      ]
     },
     "execution_count": 60,
     "metadata": {},
     "output_type": "execute_result"
    }
   ],
   "source": [
    "from kaggler.preprocessing import TargetEncoder\n",
    "trn, tst = train_test_split(df, test_size=.2, random_state=seed)\n",
    "te = TargetEncoder(cv=None)\n",
    "trn[cat_cols] = te.fit_transform(trn[cat_cols], trn[target_col])\n",
    "tst[cat_cols] = te.transform(tst[cat_cols])\n",
    "trn[cat_cols].head()"
   ]
  },
  {
   "cell_type": "code",
   "execution_count": 61,
   "metadata": {
    "ExecuteTime": {
     "end_time": "2021-08-09T01:44:11.173613Z",
     "start_time": "2021-08-09T01:44:10.757623Z"
    }
   },
   "outputs": [
    {
     "name": "stdout",
     "output_type": "stream",
     "text": [
      " RMSE:\t  1271836.20\n",
      "RMSLE:\t        3.40\n"
     ]
    }
   ],
   "source": [
    "clf = LGBMRegressor(random_state=seed)\n",
    "clf.fit(trn[features], np.log1p(trn[target_col]))\n",
    "p = np.expm1(clf.predict(tst[features]))\n",
    "print(f' RMSE:\\t{rmse(tst[target_col], p):12.2f}')\n",
    "print(f'RMSLE:\\t{rmsle(tst[target_col], p):12.2f}')"
   ]
  },
  {
   "cell_type": "markdown",
   "metadata": {},
   "source": [
    "### Target Encoding with Cross-Validation"
   ]
  },
  {
   "cell_type": "code",
   "execution_count": 62,
   "metadata": {
    "ExecuteTime": {
     "end_time": "2021-08-09T01:44:13.176578Z",
     "start_time": "2021-08-09T01:44:12.678425Z"
    }
   },
   "outputs": [
    {
     "data": {
      "text/html": [
       "<div>\n",
       "<style scoped>\n",
       "    .dataframe tbody tr th:only-of-type {\n",
       "        vertical-align: middle;\n",
       "    }\n",
       "\n",
       "    .dataframe tbody tr th {\n",
       "        vertical-align: top;\n",
       "    }\n",
       "\n",
       "    .dataframe thead th {\n",
       "        text-align: right;\n",
       "    }\n",
       "</style>\n",
       "<table border=\"1\" class=\"dataframe\">\n",
       "  <thead>\n",
       "    <tr style=\"text-align: right;\">\n",
       "      <th></th>\n",
       "      <th>distributor</th>\n",
       "      <th>genre</th>\n",
       "      <th>screening_rat</th>\n",
       "      <th>director</th>\n",
       "    </tr>\n",
       "    <tr>\n",
       "      <th>title</th>\n",
       "      <th></th>\n",
       "      <th></th>\n",
       "      <th></th>\n",
       "      <th></th>\n",
       "    </tr>\n",
       "  </thead>\n",
       "  <tbody>\n",
       "    <tr>\n",
       "      <th>돼지의 왕</th>\n",
       "      <td>723277.447850</td>\n",
       "      <td>267982.096480</td>\n",
       "      <td>348028.101562</td>\n",
       "      <td>723432.730281</td>\n",
       "    </tr>\n",
       "    <tr>\n",
       "      <th>청춘그루브</th>\n",
       "      <td>742425.489583</td>\n",
       "      <td>742425.489583</td>\n",
       "      <td>742425.489583</td>\n",
       "      <td>742425.489583</td>\n",
       "    </tr>\n",
       "    <tr>\n",
       "      <th>행복한 울릉인</th>\n",
       "      <td>768901.203125</td>\n",
       "      <td>10425.029522</td>\n",
       "      <td>122162.823956</td>\n",
       "      <td>768901.203125</td>\n",
       "    </tr>\n",
       "    <tr>\n",
       "      <th>옥희의 영화</th>\n",
       "      <td>722877.805490</td>\n",
       "      <td>813347.509259</td>\n",
       "      <td>380361.663366</td>\n",
       "      <td>721858.927057</td>\n",
       "    </tr>\n",
       "    <tr>\n",
       "      <th>권법형사 : 차이나타운</th>\n",
       "      <td>722864.097814</td>\n",
       "      <td>727096.433397</td>\n",
       "      <td>115692.865474</td>\n",
       "      <td>597129.065104</td>\n",
       "    </tr>\n",
       "  </tbody>\n",
       "</table>\n",
       "</div>"
      ],
      "text/plain": [
       "                distributor          genre  screening_rat       director\n",
       "title                                                                   \n",
       "돼지의 왕         723277.447850  267982.096480  348028.101562  723432.730281\n",
       "청춘그루브         742425.489583  742425.489583  742425.489583  742425.489583\n",
       "행복한 울릉인       768901.203125   10425.029522  122162.823956  768901.203125\n",
       "옥희의 영화        722877.805490  813347.509259  380361.663366  721858.927057\n",
       "권법형사 : 차이나타운  722864.097814  727096.433397  115692.865474  597129.065104"
      ]
     },
     "execution_count": 62,
     "metadata": {},
     "output_type": "execute_result"
    }
   ],
   "source": [
    "trn, tst = train_test_split(df, test_size=.2, random_state=seed)\n",
    "te = TargetEncoder()\n",
    "trn[cat_cols] = te.fit_transform(trn[cat_cols], trn[target_col])\n",
    "tst[cat_cols] = te.transform(tst[cat_cols])\n",
    "trn[cat_cols].head()"
   ]
  },
  {
   "cell_type": "code",
   "execution_count": 63,
   "metadata": {
    "ExecuteTime": {
     "end_time": "2021-08-09T01:44:14.004005Z",
     "start_time": "2021-08-09T01:44:13.580262Z"
    }
   },
   "outputs": [
    {
     "name": "stdout",
     "output_type": "stream",
     "text": [
      " RMSE:\t  1529036.45\n",
      "RMSLE:\t        2.12\n"
     ]
    }
   ],
   "source": [
    "clf = LGBMRegressor(random_state=seed)\n",
    "clf.fit(trn[features], np.log1p(trn[target_col]))\n",
    "p = np.expm1(clf.predict(tst[features]))\n",
    "print(f' RMSE:\\t{rmse(tst[target_col], p):12.2f}')\n",
    "print(f'RMSLE:\\t{rmsle(tst[target_col], p):12.2f}')"
   ]
  },
  {
   "cell_type": "markdown",
   "metadata": {},
   "source": [
    "### Frequency Encoding"
   ]
  },
  {
   "cell_type": "code",
   "execution_count": 77,
   "metadata": {
    "ExecuteTime": {
     "end_time": "2021-08-09T02:14:15.672791Z",
     "start_time": "2021-08-09T02:14:15.294246Z"
    }
   },
   "outputs": [
    {
     "data": {
      "text/html": [
       "<div>\n",
       "<style scoped>\n",
       "    .dataframe tbody tr th:only-of-type {\n",
       "        vertical-align: middle;\n",
       "    }\n",
       "\n",
       "    .dataframe tbody tr th {\n",
       "        vertical-align: top;\n",
       "    }\n",
       "\n",
       "    .dataframe thead th {\n",
       "        text-align: right;\n",
       "    }\n",
       "</style>\n",
       "<table border=\"1\" class=\"dataframe\">\n",
       "  <thead>\n",
       "    <tr style=\"text-align: right;\">\n",
       "      <th></th>\n",
       "      <th>distributor</th>\n",
       "      <th>genre</th>\n",
       "      <th>release_time</th>\n",
       "      <th>time</th>\n",
       "      <th>screening_rat</th>\n",
       "      <th>director</th>\n",
       "      <th>dir_prev_bfnum</th>\n",
       "      <th>dir_prev_num</th>\n",
       "      <th>num_staff</th>\n",
       "      <th>num_actor</th>\n",
       "      <th>box_off_num</th>\n",
       "      <th>year</th>\n",
       "      <th>month</th>\n",
       "    </tr>\n",
       "    <tr>\n",
       "      <th>title</th>\n",
       "      <th></th>\n",
       "      <th></th>\n",
       "      <th></th>\n",
       "      <th></th>\n",
       "      <th></th>\n",
       "      <th></th>\n",
       "      <th></th>\n",
       "      <th></th>\n",
       "      <th></th>\n",
       "      <th></th>\n",
       "      <th></th>\n",
       "      <th></th>\n",
       "      <th></th>\n",
       "    </tr>\n",
       "  </thead>\n",
       "  <tbody>\n",
       "    <tr>\n",
       "      <th>개들의 전쟁</th>\n",
       "      <td>52</td>\n",
       "      <td>28</td>\n",
       "      <td>2012-11-22</td>\n",
       "      <td>96</td>\n",
       "      <td>204</td>\n",
       "      <td>1</td>\n",
       "      <td>0.000000</td>\n",
       "      <td>0.000000</td>\n",
       "      <td>4.521789</td>\n",
       "      <td>1.098612</td>\n",
       "      <td>23398</td>\n",
       "      <td>2012</td>\n",
       "      <td>11</td>\n",
       "    </tr>\n",
       "    <tr>\n",
       "      <th>내부자들</th>\n",
       "      <td>26</td>\n",
       "      <td>27</td>\n",
       "      <td>2015-11-19</td>\n",
       "      <td>130</td>\n",
       "      <td>204</td>\n",
       "      <td>4</td>\n",
       "      <td>13.965312</td>\n",
       "      <td>1.098612</td>\n",
       "      <td>5.961005</td>\n",
       "      <td>1.386294</td>\n",
       "      <td>7072501</td>\n",
       "      <td>2015</td>\n",
       "      <td>11</td>\n",
       "    </tr>\n",
       "    <tr>\n",
       "      <th>은밀하게 위대하게</th>\n",
       "      <td>26</td>\n",
       "      <td>28</td>\n",
       "      <td>2013-06-05</td>\n",
       "      <td>123</td>\n",
       "      <td>202</td>\n",
       "      <td>1</td>\n",
       "      <td>12.304905</td>\n",
       "      <td>1.609438</td>\n",
       "      <td>5.840642</td>\n",
       "      <td>1.609438</td>\n",
       "      <td>6959083</td>\n",
       "      <td>2013</td>\n",
       "      <td>6</td>\n",
       "    </tr>\n",
       "    <tr>\n",
       "      <th>나는 공무원이다</th>\n",
       "      <td>30</td>\n",
       "      <td>53</td>\n",
       "      <td>2012-07-12</td>\n",
       "      <td>101</td>\n",
       "      <td>92</td>\n",
       "      <td>1</td>\n",
       "      <td>10.081425</td>\n",
       "      <td>1.098612</td>\n",
       "      <td>3.044522</td>\n",
       "      <td>1.945910</td>\n",
       "      <td>217866</td>\n",
       "      <td>2012</td>\n",
       "      <td>7</td>\n",
       "    </tr>\n",
       "    <tr>\n",
       "      <th>불량남녀</th>\n",
       "      <td>2</td>\n",
       "      <td>53</td>\n",
       "      <td>2010-11-04</td>\n",
       "      <td>108</td>\n",
       "      <td>202</td>\n",
       "      <td>1</td>\n",
       "      <td>0.693147</td>\n",
       "      <td>0.693147</td>\n",
       "      <td>5.529429</td>\n",
       "      <td>1.098612</td>\n",
       "      <td>483387</td>\n",
       "      <td>2010</td>\n",
       "      <td>11</td>\n",
       "    </tr>\n",
       "    <tr>\n",
       "      <th>...</th>\n",
       "      <td>...</td>\n",
       "      <td>...</td>\n",
       "      <td>...</td>\n",
       "      <td>...</td>\n",
       "      <td>...</td>\n",
       "      <td>...</td>\n",
       "      <td>...</td>\n",
       "      <td>...</td>\n",
       "      <td>...</td>\n",
       "      <td>...</td>\n",
       "      <td>...</td>\n",
       "      <td>...</td>\n",
       "      <td>...</td>\n",
       "    </tr>\n",
       "    <tr>\n",
       "      <th>해무</th>\n",
       "      <td>30</td>\n",
       "      <td>221</td>\n",
       "      <td>2014-08-13</td>\n",
       "      <td>111</td>\n",
       "      <td>204</td>\n",
       "      <td>1</td>\n",
       "      <td>8.251664</td>\n",
       "      <td>0.693147</td>\n",
       "      <td>6.236370</td>\n",
       "      <td>2.079442</td>\n",
       "      <td>1475091</td>\n",
       "      <td>2014</td>\n",
       "      <td>8</td>\n",
       "    </tr>\n",
       "    <tr>\n",
       "      <th>파파로티</th>\n",
       "      <td>26</td>\n",
       "      <td>221</td>\n",
       "      <td>2013-03-14</td>\n",
       "      <td>127</td>\n",
       "      <td>202</td>\n",
       "      <td>1</td>\n",
       "      <td>13.114456</td>\n",
       "      <td>0.693147</td>\n",
       "      <td>5.659482</td>\n",
       "      <td>1.945910</td>\n",
       "      <td>1716438</td>\n",
       "      <td>2013</td>\n",
       "      <td>3</td>\n",
       "    </tr>\n",
       "    <tr>\n",
       "      <th>살인의 강</th>\n",
       "      <td>29</td>\n",
       "      <td>42</td>\n",
       "      <td>2010-09-30</td>\n",
       "      <td>99</td>\n",
       "      <td>204</td>\n",
       "      <td>1</td>\n",
       "      <td>0.000000</td>\n",
       "      <td>0.000000</td>\n",
       "      <td>4.820282</td>\n",
       "      <td>1.609438</td>\n",
       "      <td>2475</td>\n",
       "      <td>2010</td>\n",
       "      <td>9</td>\n",
       "    </tr>\n",
       "    <tr>\n",
       "      <th>악의 연대기</th>\n",
       "      <td>54</td>\n",
       "      <td>27</td>\n",
       "      <td>2015-05-14</td>\n",
       "      <td>102</td>\n",
       "      <td>202</td>\n",
       "      <td>1</td>\n",
       "      <td>0.000000</td>\n",
       "      <td>0.000000</td>\n",
       "      <td>6.068426</td>\n",
       "      <td>1.609438</td>\n",
       "      <td>2192525</td>\n",
       "      <td>2015</td>\n",
       "      <td>5</td>\n",
       "    </tr>\n",
       "    <tr>\n",
       "      <th>베를린</th>\n",
       "      <td>54</td>\n",
       "      <td>28</td>\n",
       "      <td>2013-01-30</td>\n",
       "      <td>120</td>\n",
       "      <td>202</td>\n",
       "      <td>2</td>\n",
       "      <td>0.000000</td>\n",
       "      <td>0.000000</td>\n",
       "      <td>5.897154</td>\n",
       "      <td>1.791759</td>\n",
       "      <td>7166532</td>\n",
       "      <td>2013</td>\n",
       "      <td>1</td>\n",
       "    </tr>\n",
       "  </tbody>\n",
       "</table>\n",
       "<p>600 rows × 13 columns</p>\n",
       "</div>"
      ],
      "text/plain": [
       "           distributor  genre release_time  time  screening_rat  director  \\\n",
       "title                                                                       \n",
       "개들의 전쟁              52     28   2012-11-22    96            204         1   \n",
       "내부자들                26     27   2015-11-19   130            204         4   \n",
       "은밀하게 위대하게           26     28   2013-06-05   123            202         1   \n",
       "나는 공무원이다            30     53   2012-07-12   101             92         1   \n",
       "불량남녀                 2     53   2010-11-04   108            202         1   \n",
       "...                ...    ...          ...   ...            ...       ...   \n",
       "해무                  30    221   2014-08-13   111            204         1   \n",
       "파파로티                26    221   2013-03-14   127            202         1   \n",
       "살인의 강               29     42   2010-09-30    99            204         1   \n",
       "악의 연대기              54     27   2015-05-14   102            202         1   \n",
       "베를린                 54     28   2013-01-30   120            202         2   \n",
       "\n",
       "           dir_prev_bfnum  dir_prev_num  num_staff  num_actor  box_off_num  \\\n",
       "title                                                                        \n",
       "개들의 전쟁           0.000000      0.000000   4.521789   1.098612        23398   \n",
       "내부자들            13.965312      1.098612   5.961005   1.386294      7072501   \n",
       "은밀하게 위대하게       12.304905      1.609438   5.840642   1.609438      6959083   \n",
       "나는 공무원이다        10.081425      1.098612   3.044522   1.945910       217866   \n",
       "불량남녀             0.693147      0.693147   5.529429   1.098612       483387   \n",
       "...                   ...           ...        ...        ...          ...   \n",
       "해무               8.251664      0.693147   6.236370   2.079442      1475091   \n",
       "파파로티            13.114456      0.693147   5.659482   1.945910      1716438   \n",
       "살인의 강            0.000000      0.000000   4.820282   1.609438         2475   \n",
       "악의 연대기           0.000000      0.000000   6.068426   1.609438      2192525   \n",
       "베를린              0.000000      0.000000   5.897154   1.791759      7166532   \n",
       "\n",
       "           year  month  \n",
       "title                   \n",
       "개들의 전쟁     2012     11  \n",
       "내부자들       2015     11  \n",
       "은밀하게 위대하게  2013      6  \n",
       "나는 공무원이다   2012      7  \n",
       "불량남녀       2010     11  \n",
       "...         ...    ...  \n",
       "해무         2014      8  \n",
       "파파로티       2013      3  \n",
       "살인의 강      2010      9  \n",
       "악의 연대기     2015      5  \n",
       "베를린        2013      1  \n",
       "\n",
       "[600 rows x 13 columns]"
      ]
     },
     "execution_count": 77,
     "metadata": {},
     "output_type": "execute_result"
    }
   ],
   "source": [
    "from kaggler.preprocessing import FrequencyEncoder\n",
    "df_cat = df.copy()\n",
    "fe = FrequencyEncoder()\n",
    "df_cat[cat_cols] = fe.fit_transform(df[cat_cols])\n",
    "df_cat[cat_cols].head()\n",
    "df_cat"
   ]
  },
  {
   "cell_type": "code",
   "execution_count": 78,
   "metadata": {
    "ExecuteTime": {
     "end_time": "2021-08-09T02:14:34.986530Z",
     "start_time": "2021-08-09T02:14:34.607347Z"
    }
   },
   "outputs": [
    {
     "data": {
      "text/html": [
       "<div>\n",
       "<style scoped>\n",
       "    .dataframe tbody tr th:only-of-type {\n",
       "        vertical-align: middle;\n",
       "    }\n",
       "\n",
       "    .dataframe tbody tr th {\n",
       "        vertical-align: top;\n",
       "    }\n",
       "\n",
       "    .dataframe thead th {\n",
       "        text-align: right;\n",
       "    }\n",
       "</style>\n",
       "<table border=\"1\" class=\"dataframe\">\n",
       "  <thead>\n",
       "    <tr style=\"text-align: right;\">\n",
       "      <th></th>\n",
       "      <th>distributor</th>\n",
       "      <th>genre</th>\n",
       "      <th>release_time</th>\n",
       "      <th>time</th>\n",
       "      <th>screening_rat</th>\n",
       "      <th>director</th>\n",
       "      <th>dir_prev_bfnum</th>\n",
       "      <th>dir_prev_num</th>\n",
       "      <th>num_staff</th>\n",
       "      <th>num_actor</th>\n",
       "      <th>box_off_num</th>\n",
       "      <th>year</th>\n",
       "      <th>month</th>\n",
       "    </tr>\n",
       "    <tr>\n",
       "      <th>title</th>\n",
       "      <th></th>\n",
       "      <th></th>\n",
       "      <th></th>\n",
       "      <th></th>\n",
       "      <th></th>\n",
       "      <th></th>\n",
       "      <th></th>\n",
       "      <th></th>\n",
       "      <th></th>\n",
       "      <th></th>\n",
       "      <th></th>\n",
       "      <th></th>\n",
       "      <th></th>\n",
       "    </tr>\n",
       "  </thead>\n",
       "  <tbody>\n",
       "    <tr>\n",
       "      <th>개들의 전쟁</th>\n",
       "      <td>롯데엔터테인먼트</td>\n",
       "      <td>액션</td>\n",
       "      <td>2012-11-22</td>\n",
       "      <td>96</td>\n",
       "      <td>청소년 관람불가</td>\n",
       "      <td>조병옥</td>\n",
       "      <td>0.000000</td>\n",
       "      <td>0.000000</td>\n",
       "      <td>4.521789</td>\n",
       "      <td>1.098612</td>\n",
       "      <td>23398</td>\n",
       "      <td>2012</td>\n",
       "      <td>11</td>\n",
       "    </tr>\n",
       "    <tr>\n",
       "      <th>내부자들</th>\n",
       "      <td>(주)쇼박스</td>\n",
       "      <td>느와르</td>\n",
       "      <td>2015-11-19</td>\n",
       "      <td>130</td>\n",
       "      <td>청소년 관람불가</td>\n",
       "      <td>우민호</td>\n",
       "      <td>13.965312</td>\n",
       "      <td>1.098612</td>\n",
       "      <td>5.961005</td>\n",
       "      <td>1.386294</td>\n",
       "      <td>7072501</td>\n",
       "      <td>2015</td>\n",
       "      <td>11</td>\n",
       "    </tr>\n",
       "    <tr>\n",
       "      <th>은밀하게 위대하게</th>\n",
       "      <td>(주)쇼박스</td>\n",
       "      <td>액션</td>\n",
       "      <td>2013-06-05</td>\n",
       "      <td>123</td>\n",
       "      <td>15세 관람가</td>\n",
       "      <td>장철수</td>\n",
       "      <td>12.304905</td>\n",
       "      <td>1.609438</td>\n",
       "      <td>5.840642</td>\n",
       "      <td>1.609438</td>\n",
       "      <td>6959083</td>\n",
       "      <td>2013</td>\n",
       "      <td>6</td>\n",
       "    </tr>\n",
       "    <tr>\n",
       "      <th>나는 공무원이다</th>\n",
       "      <td>(주)NEW</td>\n",
       "      <td>코미디</td>\n",
       "      <td>2012-07-12</td>\n",
       "      <td>101</td>\n",
       "      <td>전체 관람가</td>\n",
       "      <td>구자홍</td>\n",
       "      <td>10.081425</td>\n",
       "      <td>1.098612</td>\n",
       "      <td>3.044522</td>\n",
       "      <td>1.945910</td>\n",
       "      <td>217866</td>\n",
       "      <td>2012</td>\n",
       "      <td>7</td>\n",
       "    </tr>\n",
       "    <tr>\n",
       "      <th>불량남녀</th>\n",
       "      <td>쇼박스(주)미디어플렉스</td>\n",
       "      <td>코미디</td>\n",
       "      <td>2010-11-04</td>\n",
       "      <td>108</td>\n",
       "      <td>15세 관람가</td>\n",
       "      <td>신근호</td>\n",
       "      <td>0.693147</td>\n",
       "      <td>0.693147</td>\n",
       "      <td>5.529429</td>\n",
       "      <td>1.098612</td>\n",
       "      <td>483387</td>\n",
       "      <td>2010</td>\n",
       "      <td>11</td>\n",
       "    </tr>\n",
       "    <tr>\n",
       "      <th>...</th>\n",
       "      <td>...</td>\n",
       "      <td>...</td>\n",
       "      <td>...</td>\n",
       "      <td>...</td>\n",
       "      <td>...</td>\n",
       "      <td>...</td>\n",
       "      <td>...</td>\n",
       "      <td>...</td>\n",
       "      <td>...</td>\n",
       "      <td>...</td>\n",
       "      <td>...</td>\n",
       "      <td>...</td>\n",
       "      <td>...</td>\n",
       "    </tr>\n",
       "    <tr>\n",
       "      <th>해무</th>\n",
       "      <td>(주)NEW</td>\n",
       "      <td>드라마</td>\n",
       "      <td>2014-08-13</td>\n",
       "      <td>111</td>\n",
       "      <td>청소년 관람불가</td>\n",
       "      <td>심성보</td>\n",
       "      <td>8.251664</td>\n",
       "      <td>0.693147</td>\n",
       "      <td>6.236370</td>\n",
       "      <td>2.079442</td>\n",
       "      <td>1475091</td>\n",
       "      <td>2014</td>\n",
       "      <td>8</td>\n",
       "    </tr>\n",
       "    <tr>\n",
       "      <th>파파로티</th>\n",
       "      <td>(주)쇼박스</td>\n",
       "      <td>드라마</td>\n",
       "      <td>2013-03-14</td>\n",
       "      <td>127</td>\n",
       "      <td>15세 관람가</td>\n",
       "      <td>윤종찬</td>\n",
       "      <td>13.114456</td>\n",
       "      <td>0.693147</td>\n",
       "      <td>5.659482</td>\n",
       "      <td>1.945910</td>\n",
       "      <td>1716438</td>\n",
       "      <td>2013</td>\n",
       "      <td>3</td>\n",
       "    </tr>\n",
       "    <tr>\n",
       "      <th>살인의 강</th>\n",
       "      <td>(주)마운틴픽쳐스</td>\n",
       "      <td>공포</td>\n",
       "      <td>2010-09-30</td>\n",
       "      <td>99</td>\n",
       "      <td>청소년 관람불가</td>\n",
       "      <td>김대현</td>\n",
       "      <td>0.000000</td>\n",
       "      <td>0.000000</td>\n",
       "      <td>4.820282</td>\n",
       "      <td>1.609438</td>\n",
       "      <td>2475</td>\n",
       "      <td>2010</td>\n",
       "      <td>9</td>\n",
       "    </tr>\n",
       "    <tr>\n",
       "      <th>악의 연대기</th>\n",
       "      <td>CJ 엔터테인먼트</td>\n",
       "      <td>느와르</td>\n",
       "      <td>2015-05-14</td>\n",
       "      <td>102</td>\n",
       "      <td>15세 관람가</td>\n",
       "      <td>백운학</td>\n",
       "      <td>0.000000</td>\n",
       "      <td>0.000000</td>\n",
       "      <td>6.068426</td>\n",
       "      <td>1.609438</td>\n",
       "      <td>2192525</td>\n",
       "      <td>2015</td>\n",
       "      <td>5</td>\n",
       "    </tr>\n",
       "    <tr>\n",
       "      <th>베를린</th>\n",
       "      <td>CJ 엔터테인먼트</td>\n",
       "      <td>액션</td>\n",
       "      <td>2013-01-30</td>\n",
       "      <td>120</td>\n",
       "      <td>15세 관람가</td>\n",
       "      <td>류승완</td>\n",
       "      <td>0.000000</td>\n",
       "      <td>0.000000</td>\n",
       "      <td>5.897154</td>\n",
       "      <td>1.791759</td>\n",
       "      <td>7166532</td>\n",
       "      <td>2013</td>\n",
       "      <td>1</td>\n",
       "    </tr>\n",
       "  </tbody>\n",
       "</table>\n",
       "<p>600 rows × 13 columns</p>\n",
       "</div>"
      ],
      "text/plain": [
       "            distributor genre release_time  time screening_rat director  \\\n",
       "title                                                                     \n",
       "개들의 전쟁         롯데엔터테인먼트    액션   2012-11-22    96      청소년 관람불가      조병옥   \n",
       "내부자들             (주)쇼박스   느와르   2015-11-19   130      청소년 관람불가      우민호   \n",
       "은밀하게 위대하게        (주)쇼박스    액션   2013-06-05   123       15세 관람가      장철수   \n",
       "나는 공무원이다         (주)NEW   코미디   2012-07-12   101        전체 관람가      구자홍   \n",
       "불량남녀       쇼박스(주)미디어플렉스   코미디   2010-11-04   108       15세 관람가      신근호   \n",
       "...                 ...   ...          ...   ...           ...      ...   \n",
       "해무               (주)NEW   드라마   2014-08-13   111      청소년 관람불가      심성보   \n",
       "파파로티             (주)쇼박스   드라마   2013-03-14   127       15세 관람가      윤종찬   \n",
       "살인의 강         (주)마운틴픽쳐스    공포   2010-09-30    99      청소년 관람불가      김대현   \n",
       "악의 연대기        CJ 엔터테인먼트   느와르   2015-05-14   102       15세 관람가      백운학   \n",
       "베를린           CJ 엔터테인먼트    액션   2013-01-30   120       15세 관람가      류승완   \n",
       "\n",
       "           dir_prev_bfnum  dir_prev_num  num_staff  num_actor  box_off_num  \\\n",
       "title                                                                        \n",
       "개들의 전쟁           0.000000      0.000000   4.521789   1.098612        23398   \n",
       "내부자들            13.965312      1.098612   5.961005   1.386294      7072501   \n",
       "은밀하게 위대하게       12.304905      1.609438   5.840642   1.609438      6959083   \n",
       "나는 공무원이다        10.081425      1.098612   3.044522   1.945910       217866   \n",
       "불량남녀             0.693147      0.693147   5.529429   1.098612       483387   \n",
       "...                   ...           ...        ...        ...          ...   \n",
       "해무               8.251664      0.693147   6.236370   2.079442      1475091   \n",
       "파파로티            13.114456      0.693147   5.659482   1.945910      1716438   \n",
       "살인의 강            0.000000      0.000000   4.820282   1.609438         2475   \n",
       "악의 연대기           0.000000      0.000000   6.068426   1.609438      2192525   \n",
       "베를린              0.000000      0.000000   5.897154   1.791759      7166532   \n",
       "\n",
       "           year  month  \n",
       "title                   \n",
       "개들의 전쟁     2012     11  \n",
       "내부자들       2015     11  \n",
       "은밀하게 위대하게  2013      6  \n",
       "나는 공무원이다   2012      7  \n",
       "불량남녀       2010     11  \n",
       "...         ...    ...  \n",
       "해무         2014      8  \n",
       "파파로티       2013      3  \n",
       "살인의 강      2010      9  \n",
       "악의 연대기     2015      5  \n",
       "베를린        2013      1  \n",
       "\n",
       "[600 rows x 13 columns]"
      ]
     },
     "execution_count": 78,
     "metadata": {},
     "output_type": "execute_result"
    }
   ],
   "source": [
    "df"
   ]
  },
  {
   "cell_type": "code",
   "execution_count": 65,
   "metadata": {
    "ExecuteTime": {
     "end_time": "2021-08-09T01:44:16.604381Z",
     "start_time": "2021-08-09T01:44:16.187580Z"
    }
   },
   "outputs": [
    {
     "name": "stdout",
     "output_type": "stream",
     "text": [
      " RMSE:\t  1258846.99\n",
      "RMSLE:\t        1.96\n"
     ]
    }
   ],
   "source": [
    "trn, tst = train_test_split(df_cat, test_size=.2, random_state=seed)\n",
    "clf = LGBMRegressor(random_state=seed)\n",
    "clf.fit(trn[features], np.log1p(trn[target_col]))\n",
    "p = np.expm1(clf.predict(tst[features]))\n",
    "print(f' RMSE:\\t{rmse(tst[target_col], p):12.2f}')\n",
    "print(f'RMSLE:\\t{rmsle(tst[target_col], p):12.2f}')"
   ]
  },
  {
   "cell_type": "markdown",
   "metadata": {},
   "source": [
    "### Hash Encoding"
   ]
  },
  {
   "cell_type": "code",
   "execution_count": 66,
   "metadata": {
    "ExecuteTime": {
     "end_time": "2021-08-09T01:44:17.863148Z",
     "start_time": "2021-08-09T01:44:17.467631Z"
    }
   },
   "outputs": [
    {
     "name": "stdout",
     "output_type": "stream",
     "text": [
      "(600, 519)\n"
     ]
    }
   ],
   "source": [
    "from sklearn.feature_extraction import FeatureHasher\n",
    "fh = FeatureHasher(n_features=128, input_type='string')\n",
    "X = hstack([df[num_cols]] + [fh.fit_transform(df[col]) for col in cat_cols])\n",
    "print(X.shape)"
   ]
  },
  {
   "cell_type": "code",
   "execution_count": 67,
   "metadata": {
    "ExecuteTime": {
     "end_time": "2021-08-09T01:44:19.319978Z",
     "start_time": "2021-08-09T01:44:18.875884Z"
    }
   },
   "outputs": [
    {
     "name": "stdout",
     "output_type": "stream",
     "text": [
      " RMSE:\t  1261559.18\n",
      "RMSLE:\t        1.95\n"
     ]
    }
   ],
   "source": [
    "X_trn, X_tst, y_trn, y_tst = train_test_split(X, df[target_col], test_size=.2, random_state=seed)\n",
    "clf = LGBMRegressor(random_state=seed)\n",
    "clf.fit(X_trn, np.log1p(y_trn))\n",
    "p = np.expm1(clf.predict(X_tst))\n",
    "print(f' RMSE:\\t{rmse(tst[target_col], p):12.2f}')\n",
    "print(f'RMSLE:\\t{rmsle(tst[target_col], p):12.2f}')"
   ]
  },
  {
   "cell_type": "code",
   "execution_count": null,
   "metadata": {},
   "outputs": [],
   "source": []
  }
 ],
 "metadata": {
  "kernelspec": {
   "display_name": "Python 3",
   "language": "python",
   "name": "python3"
  },
  "language_info": {
   "codemirror_mode": {
    "name": "ipython",
    "version": 3
   },
   "file_extension": ".py",
   "mimetype": "text/x-python",
   "name": "python",
   "nbconvert_exporter": "python",
   "pygments_lexer": "ipython3",
   "version": "3.8.8"
  },
  "toc": {
   "base_numbering": 1,
   "nav_menu": {},
   "number_sections": true,
   "sideBar": false,
   "skip_h1_title": true,
   "title_cell": "Table of Contents",
   "title_sidebar": "Contents",
   "toc_cell": false,
   "toc_position": {
    "height": "1107px",
    "left": "995px",
    "top": "110px",
    "width": "255.594px"
   },
   "toc_section_display": false,
   "toc_window_display": true
  }
 },
 "nbformat": 4,
 "nbformat_minor": 4
}
