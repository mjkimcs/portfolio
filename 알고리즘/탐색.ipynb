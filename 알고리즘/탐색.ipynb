{
  "nbformat": 4,
  "nbformat_minor": 0,
  "metadata": {
    "colab": {
      "name": "탐색",
      "provenance": [],
      "collapsed_sections": [],
      "authorship_tag": "ABX9TyN3XwoJpR3SEK1Z86QhPzg+",
      "include_colab_link": true
    },
    "kernelspec": {
      "name": "python3",
      "display_name": "Python 3"
    },
    "language_info": {
      "name": "python"
    }
  },
  "cells": [
    {
      "cell_type": "markdown",
      "metadata": {
        "id": "view-in-github",
        "colab_type": "text"
      },
      "source": [
        "<a href=\"https://colab.research.google.com/github/mjkimcs/portfolio/blob/main/%EC%95%8C%EA%B3%A0%EB%A6%AC%EC%A6%98/%ED%83%90%EC%83%89.ipynb\" target=\"_parent\"><img src=\"https://colab.research.google.com/assets/colab-badge.svg\" alt=\"Open In Colab\"/></a>"
      ]
    },
    {
      "cell_type": "markdown",
      "metadata": {
        "id": "f_BuyXVrQ-uc"
      },
      "source": [
        "## 완전탐색(Brute Force)\n",
        "- 가능한 모든 경우의 수를 탐색\n",
        "- 효율성 관점에서 최악의 방법\n",
        "- 결과값이 가장 확실하지만 그만큼 시간이 가장 오래걸림\n",
        "- 구현방법 : 반복문, 재귀함수\n"
      ]
    },
    {
      "cell_type": "code",
      "metadata": {
        "id": "RLtYyXpnmnnk"
      },
      "source": [
        "# 반복문\n",
        "def solution(trump):\n",
        "  for i in range(len(trump)):\n",
        "    if trump[i] == 8:\n",
        "      return i\n",
        "  return -1"
      ],
      "execution_count": null,
      "outputs": []
    },
    {
      "cell_type": "code",
      "metadata": {
        "id": "W6UMF5ipSGlh"
      },
      "source": [
        "# 재귀함수\n",
        "def solution(trump, loc):\n",
        "  if trump[loc] == 8:\n",
        "    return loc\n",
        "  else:\n",
        "    return solution(trump, loc+1)"
      ],
      "execution_count": null,
      "outputs": []
    },
    {
      "cell_type": "markdown",
      "metadata": {
        "id": "MqAO4Z85RWd_"
      },
      "source": [
        "## 이분탐색(이진검색)\n",
        "- 오름차순으로 정렬된 리스트에서 특정 값의 위치를 찾는 알고리즘\n",
        "- 중간값을 선택하여 찾고자 하는 값과 크고 작음을 비교"
      ]
    },
    {
      "cell_type": "code",
      "metadata": {
        "id": "7Ijsuag9Svcl"
      },
      "source": [
        ""
      ],
      "execution_count": null,
      "outputs": []
    },
    {
      "cell_type": "code",
      "metadata": {
        "id": "hhX5ndnvSvNk"
      },
      "source": [
        ""
      ],
      "execution_count": null,
      "outputs": []
    }
  ]
}