{
  "nbformat": 4,
  "nbformat_minor": 0,
  "metadata": {
    "colab": {
      "name": "탐색",
      "provenance": [],
      "collapsed_sections": [],
      "authorship_tag": "ABX9TyMkPdX/8Kh871ESVZtQmE4M",
      "include_colab_link": true
    },
    "kernelspec": {
      "name": "python3",
      "display_name": "Python 3"
    },
    "language_info": {
      "name": "python"
    }
  },
  "cells": [
    {
      "cell_type": "markdown",
      "metadata": {
        "id": "view-in-github",
        "colab_type": "text"
      },
      "source": [
        "<a href=\"https://colab.research.google.com/github/mjkimcs/portfolio/blob/main/%EC%95%8C%EA%B3%A0%EB%A6%AC%EC%A6%98/%ED%83%90%EC%83%89.ipynb\" target=\"_parent\"><img src=\"https://colab.research.google.com/assets/colab-badge.svg\" alt=\"Open In Colab\"/></a>"
      ]
    },
    {
      "cell_type": "markdown",
      "metadata": {
        "id": "f_BuyXVrQ-uc"
      },
      "source": [
        "## 완전탐색(Brute Force)\n",
        "- 가능한 모든 경우의 수를 탐색\n",
        "- 효율성 관점에서 최악의 방법\n",
        "- 결과값이 가장 확실하지만 그만큼 시간이 가장 오래걸림\n",
        "- 구현방법 : 반복문, 재귀함수\n"
      ]
    },
    {
      "cell_type": "code",
      "metadata": {
        "id": "RLtYyXpnmnnk",
        "colab": {
          "base_uri": "https://localhost:8080/"
        },
        "outputId": "19f6cb69-c86a-44d4-ec2d-4fe368d8940a"
      },
      "source": [
        "# 반복문\n",
        "def solution(trump):\n",
        "  for i in range(len(trump)):\n",
        "    if trump[i] == 8:\n",
        "      return i\n",
        "  return -1\n",
        "\n",
        "solution([1,2,8])"
      ],
      "execution_count": 1,
      "outputs": [
        {
          "output_type": "execute_result",
          "data": {
            "text/plain": [
              "2"
            ]
          },
          "metadata": {
            "tags": []
          },
          "execution_count": 1
        }
      ]
    },
    {
      "cell_type": "code",
      "metadata": {
        "colab": {
          "base_uri": "https://localhost:8080/"
        },
        "id": "l-70zJDCTjK3",
        "outputId": "fd7fe710-a11c-47ab-b8eb-3787234d0065"
      },
      "source": [
        "solution([1,2,3])"
      ],
      "execution_count": 2,
      "outputs": [
        {
          "output_type": "execute_result",
          "data": {
            "text/plain": [
              "-1"
            ]
          },
          "metadata": {
            "tags": []
          },
          "execution_count": 2
        }
      ]
    },
    {
      "cell_type": "code",
      "metadata": {
        "colab": {
          "base_uri": "https://localhost:8080/"
        },
        "id": "W6UMF5ipSGlh",
        "outputId": "7f437b4f-e6f7-49de-c4b2-4d03b493e4ed"
      },
      "source": [
        "# 재귀함수\n",
        "def solution(trump, loc):\n",
        "  if trump[loc] == 8:\n",
        "    return loc\n",
        "  else:\n",
        "    return solution(trump, loc+1)\n",
        "\n",
        "solution([1,2,8], 1)"
      ],
      "execution_count": 3,
      "outputs": [
        {
          "output_type": "execute_result",
          "data": {
            "text/plain": [
              "2"
            ]
          },
          "metadata": {
            "tags": []
          },
          "execution_count": 3
        }
      ]
    },
    {
      "cell_type": "markdown",
      "metadata": {
        "id": "MqAO4Z85RWd_"
      },
      "source": [
        "## 이분탐색(이진검색)\n",
        "- 오름차순으로 정렬된 리스트에서 특정 값의 위치를 찾는 알고리즘\n",
        "- 중간값을 선택하여 찾고자 하는 값과 크고 작음을 비교"
      ]
    },
    {
      "cell_type": "code",
      "metadata": {
        "colab": {
          "base_uri": "https://localhost:8080/"
        },
        "id": "7Ijsuag9Svcl",
        "outputId": "497b4bcf-594c-4714-9e82-5bf39747b20b"
      },
      "source": [
        "def solution(trump):\n",
        "  left = 0\n",
        "  right = len(trump) - 1\n",
        "  while(left <= right):\n",
        "    mid = (left + right) // 2\n",
        "    if trump[mid] == 8:\n",
        "      return mid\n",
        "    elif trump[mid] < 8:\n",
        "      left = mid + 1\n",
        "    elif trump[mid] > 8:\n",
        "      right = mid - 1\n",
        "  return mid\n",
        "\n",
        "solution([1,2,8])"
      ],
      "execution_count": 9,
      "outputs": [
        {
          "output_type": "execute_result",
          "data": {
            "text/plain": [
              "2"
            ]
          },
          "metadata": {
            "tags": []
          },
          "execution_count": 9
        }
      ]
    },
    {
      "cell_type": "code",
      "metadata": {
        "colab": {
          "base_uri": "https://localhost:8080/"
        },
        "id": "hhX5ndnvSvNk",
        "outputId": "74a5a1ba-a3d8-405b-ad3a-3107e865a8ce"
      },
      "source": [
        "solution([1,2,3,7])"
      ],
      "execution_count": 10,
      "outputs": [
        {
          "output_type": "execute_result",
          "data": {
            "text/plain": [
              "3"
            ]
          },
          "metadata": {
            "tags": []
          },
          "execution_count": 10
        }
      ]
    },
    {
      "cell_type": "code",
      "metadata": {
        "id": "Rj_assl-Ujm8"
      },
      "source": [
        ""
      ],
      "execution_count": null,
      "outputs": []
    }
  ]
}