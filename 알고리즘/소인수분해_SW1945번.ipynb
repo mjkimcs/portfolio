{
  "nbformat": 4,
  "nbformat_minor": 0,
  "metadata": {
    "colab": {
      "name": "소인수분해_SW1945번",
      "provenance": [],
      "collapsed_sections": [],
      "authorship_tag": "ABX9TyOdmfs71LY94pgQ7ozskH6h",
      "include_colab_link": true
    },
    "kernelspec": {
      "display_name": "Python 3",
      "name": "python3"
    },
    "language_info": {
      "name": "python"
    }
  },
  "cells": [
    {
      "cell_type": "markdown",
      "metadata": {
        "id": "view-in-github",
        "colab_type": "text"
      },
      "source": [
        "<a href=\"https://colab.research.google.com/github/mjkimcs/portfolio/blob/main/%EC%95%8C%EA%B3%A0%EB%A6%AC%EC%A6%98/%EC%86%8C%EC%9D%B8%EC%88%98%EB%B6%84%ED%95%B4_SW1945%EB%B2%88.ipynb\" target=\"_parent\"><img src=\"https://colab.research.google.com/assets/colab-badge.svg\" alt=\"Open In Colab\"/></a>"
      ]
    },
    {
      "cell_type": "markdown",
      "metadata": {
        "id": "b0-MsWJWZeXI"
      },
      "source": [
        "-  N = 2^a * 3^b * 5^c * 7^d * 11^e\n",
        "-  N은 2 이상 10,000,000 이하"
      ]
    },
    {
      "cell_type": "code",
      "metadata": {
        "id": "fUheDV-PL7Bf",
        "colab": {
          "base_uri": "https://localhost:8080/"
        },
        "outputId": "5cefed87-9412-47a2-b68c-aad6be1b6f3d"
      },
      "source": [
        "T = int(input())\n",
        "for i in range(T):\n",
        "    numbers = [2, 3, 5, 7, 11]\n",
        "    result = []\n",
        "    N = int(input())\n",
        "    for j in numbers:\n",
        "        cnt = 0\n",
        "        while True:\n",
        "            if N % j == 0:\n",
        "                N = N // j  # int\n",
        "                cnt += 1\n",
        "            else:\n",
        "                result.append(str(cnt))\n",
        "                break\n",
        "\n",
        "    print('#{} {}'.format(i+1, ' '.join(result)))"
      ],
      "execution_count": 38,
      "outputs": [
        {
          "output_type": "stream",
          "text": [
            "10\n",
            "6791400\n",
            "#1 3 2 2 3 1\n",
            "1646400\n",
            "#2 6 1 2 3 0\n",
            "1425600\n",
            "#3 6 4 2 0 1\n",
            "8575\n",
            "#4 0 0 2 3 0\n",
            "185625\n",
            "#5 0 3 4 0 1\n",
            "6480\n",
            "#6 4 4 1 0 0\n",
            "1185408\n",
            "#7 7 3 0 3 0\n",
            "6561\n",
            "#8 0 8 0 0 0\n",
            "25\n",
            "#9 0 0 2 0 0\n",
            "330750\n",
            "#10 1 3 3 2 0\n"
          ],
          "name": "stdout"
        }
      ]
    },
    {
      "cell_type": "code",
      "metadata": {
        "colab": {
          "base_uri": "https://localhost:8080/"
        },
        "id": "nSClGwdrODVA",
        "outputId": "4670b27f-cd50-4712-b8a2-89f80dafdecf"
      },
      "source": [
        "i = \"민정\"\n",
        "l = ['1','2','3']\n",
        "print('#{}{}'.format(i, '시작'.join(l)))"
      ],
      "execution_count": 27,
      "outputs": [
        {
          "output_type": "stream",
          "text": [
            "#민정1시작2시작3\n"
          ],
          "name": "stdout"
        }
      ]
    },
    {
      "cell_type": "code",
      "metadata": {
        "id": "iy2lj74FYen1"
      },
      "source": [
        ""
      ],
      "execution_count": null,
      "outputs": []
    }
  ]
}