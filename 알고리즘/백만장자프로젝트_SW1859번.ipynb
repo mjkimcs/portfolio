{
  "nbformat": 4,
  "nbformat_minor": 0,
  "metadata": {
    "colab": {
      "name": "백만장자프로젝트_SW1859번",
      "provenance": [],
      "authorship_tag": "ABX9TyNWNnv14YVDUnp/qnnLTZji",
      "include_colab_link": true
    },
    "kernelspec": {
      "name": "python3",
      "display_name": "Python 3"
    },
    "language_info": {
      "name": "python"
    }
  },
  "cells": [
    {
      "cell_type": "markdown",
      "metadata": {
        "id": "view-in-github",
        "colab_type": "text"
      },
      "source": [
        "<a href=\"https://colab.research.google.com/github/mjkimcs/portfolio/blob/main/%EC%95%8C%EA%B3%A0%EB%A6%AC%EC%A6%98/%EB%B0%B1%EB%A7%8C%EC%9E%A5%EC%9E%90%ED%94%84%EB%A1%9C%EC%A0%9D%ED%8A%B8_SW1859%EB%B2%88.ipynb\" target=\"_parent\"><img src=\"https://colab.research.google.com/assets/colab-badge.svg\" alt=\"Open In Colab\"/></a>"
      ]
    },
    {
      "cell_type": "markdown",
      "metadata": {
        "id": "HjsMriQbo1h-"
      },
      "source": [
        "*  미래를 보는 능력이 있음\n",
        "*  사재기를 하여 최대한의 이득을 얻고자 함\n",
        "*  하루에 최대 1만큼 구입 가능\n",
        "*  판매는 얼마든지 할 수 있음\n",
        "*  첫 번째 줄에 테스트 케이스의 수 T(2이상 1,000,000이하)가 주어짐\n",
        "*  둘째 줄에는 각 날의 매매가를 나타내는 N개의 자연수들이 공백으로 구분되어 순서대로 주어짐\n",
        "* 각 날의 매매가는 10,000이하"
      ]
    },
    {
      "cell_type": "code",
      "metadata": {
        "colab": {
          "base_uri": "https://localhost:8080/"
        },
        "id": "AAm3echIToox",
        "outputId": "0291f17d-1d1a-4b7c-f129-3a7737a19431"
      },
      "source": [
        "for i in range(int(input())):\n",
        "    T = int(input())\n",
        "    prices = list(map(int,input().split()))\n",
        "    \n",
        "    buy, cnt, profit = 0, 0, 0\n",
        "    price = prices[-1] # 뒤에서부터!\n",
        "    for j in prices[-2::-1]:\n",
        "        if j < price:\n",
        "            buy += j\n",
        "            cnt += 1\n",
        "        else:\n",
        "            profit += price*cnt - buy\n",
        "            price = j\n",
        "            buy, cnt = 0, 0\n",
        "    if cnt >= 1:\n",
        "        profit += price*cnt - buy\n",
        "                \n",
        "    print(\"#%d %d\"%(i+1, profit))"
      ],
      "execution_count": 23,
      "outputs": [
        {
          "output_type": "stream",
          "text": [
            "3\n",
            "3\n",
            "10 7 6\n",
            "#1 0\n",
            "3\n",
            "3 5 9\n",
            "#2 10\n",
            "5\n",
            "1 1 3 1 2\n",
            "#3 5\n"
          ],
          "name": "stdout"
        }
      ]
    }
  ]
}