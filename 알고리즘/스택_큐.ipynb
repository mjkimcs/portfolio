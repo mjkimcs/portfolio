{
  "nbformat": 4,
  "nbformat_minor": 0,
  "metadata": {
    "colab": {
      "name": "스택_큐",
      "provenance": [],
      "collapsed_sections": [],
      "authorship_tag": "ABX9TyOcJL81Sx7vZy3bh5FuMktM",
      "include_colab_link": true
    },
    "kernelspec": {
      "name": "python3",
      "display_name": "Python 3"
    },
    "language_info": {
      "name": "python"
    }
  },
  "cells": [
    {
      "cell_type": "markdown",
      "metadata": {
        "id": "view-in-github",
        "colab_type": "text"
      },
      "source": [
        "<a href=\"https://colab.research.google.com/github/mjkimcs/portfolio/blob/main/%EC%95%8C%EA%B3%A0%EB%A6%AC%EC%A6%98/%EC%8A%A4%ED%83%9D_%ED%81%90.ipynb\" target=\"_parent\"><img src=\"https://colab.research.google.com/assets/colab-badge.svg\" alt=\"Open In Colab\"/></a>"
      ]
    },
    {
      "cell_type": "markdown",
      "metadata": {
        "id": "WqDDXNOiSMxf"
      },
      "source": [
        "## 스택\n",
        "- 차곡차곡 쌓아 올린 형태의 자료구조\n",
        "- 시간 순서에 따라 자료가 쌓여서 가장 마지막에 삽입된 자료가 가장 먼저 삭제되는 구조적인 특징이 있음\n",
        "- push : 삽입 연산\n",
        "- pop : 삭제 연산\n",
        "- peek : 가장 마지막에 삽입된 자료를 보여줌, 확인만"
      ]
    },
    {
      "cell_type": "markdown",
      "metadata": {
        "id": "ClDC11P4SbNk"
      },
      "source": [
        "## 큐\n",
        "- 먼저 들어온 자료가 먼저 나가는 자료구조\n",
        "- 삭제연산만 수행하는 곳과 삽입연산만 수행하는 곳으로 나뉘어져 있음\n",
        "- put : 자료를 담기\n",
        "- pop(0) = get : 가장 먼저 삽입된 자료를 아예 꺼내줌\n",
        "- peek : 가장 먼저 삽입된 자료를 보여줌, 확인만"
      ]
    },
    {
      "cell_type": "code",
      "metadata": {
        "id": "2RGrzBXoPRxC",
        "colab": {
          "base_uri": "https://localhost:8080/"
        },
        "outputId": "f60070a1-7977-4f0d-d69f-f41351f4df98"
      },
      "source": [
        "from queue import Queue\n",
        "\n",
        "q = Queue()\n",
        "q.put(1)\n",
        "q.put(5)\n",
        "q.put(10)\n",
        "print(q, type(q))\n",
        "print(q.get())"
      ],
      "execution_count": 8,
      "outputs": [
        {
          "output_type": "stream",
          "text": [
            "<queue.Queue object at 0x7f6147279bd0> <class 'queue.Queue'>\n",
            "1\n"
          ],
          "name": "stdout"
        }
      ]
    },
    {
      "cell_type": "code",
      "metadata": {
        "colab": {
          "base_uri": "https://localhost:8080/"
        },
        "id": "vKXMOsxJUbpc",
        "outputId": "b11ac6bb-b334-4b8c-fb95-1cf6a96a35bb"
      },
      "source": [
        "q = []\n",
        "q.append(1)\n",
        "q.append(5)\n",
        "q.append(10)\n",
        "print(q)\n",
        "print(q.pop(0))\n",
        "print(q)\n",
        "print(q[0])\n",
        "print(q)"
      ],
      "execution_count": 10,
      "outputs": [
        {
          "output_type": "stream",
          "text": [
            "[1, 5, 10]\n",
            "1\n",
            "[5, 10]\n",
            "5\n",
            "[5, 10]\n"
          ],
          "name": "stdout"
        }
      ]
    },
    {
      "cell_type": "code",
      "metadata": {
        "id": "FPPJksHAUxFT"
      },
      "source": [
        ""
      ],
      "execution_count": null,
      "outputs": []
    }
  ]
}