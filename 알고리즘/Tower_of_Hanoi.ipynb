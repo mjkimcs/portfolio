{
  "nbformat": 4,
  "nbformat_minor": 0,
  "metadata": {
    "colab": {
      "name": "Tower of Hanoi",
      "provenance": [],
      "authorship_tag": "ABX9TyP33iBvXxBI9g2LLhuswH4Y",
      "include_colab_link": true
    },
    "kernelspec": {
      "name": "python3",
      "display_name": "Python 3"
    },
    "language_info": {
      "name": "python"
    }
  },
  "cells": [
    {
      "cell_type": "markdown",
      "metadata": {
        "id": "view-in-github",
        "colab_type": "text"
      },
      "source": [
        "<a href=\"https://colab.research.google.com/github/mjkimcs/portfolio/blob/main/%EC%95%8C%EA%B3%A0%EB%A6%AC%EC%A6%98/Tower_of_Hanoi.ipynb\" target=\"_parent\"><img src=\"https://colab.research.google.com/assets/colab-badge.svg\" alt=\"Open In Colab\"/></a>"
      ]
    },
    {
      "cell_type": "code",
      "metadata": {
        "id": "ZClTcpCZzaSM"
      },
      "source": [
        "MSG_FORMAT = \"{}번 원반을 {}에서 {}로 이동\"\n",
        "\n",
        "\n",
        "def move(N, start, to):\n",
        "    print(MSG_FORMAT.format(N, start, to))"
      ],
      "execution_count": 1,
      "outputs": []
    },
    {
      "cell_type": "code",
      "metadata": {
        "id": "m0nBHrpPzcye"
      },
      "source": [
        "def hanoi(N, start, to, via):\n",
        "    if N == 1:\n",
        "        move(1, start, to)\n",
        "    else:\n",
        "        hanoi(N-1, start, via, to)\n",
        "        move(N, start, to)\n",
        "        hanoi(N-1, via, to, start)"
      ],
      "execution_count": 2,
      "outputs": []
    },
    {
      "cell_type": "code",
      "metadata": {
        "colab": {
          "base_uri": "https://localhost:8080/"
        },
        "id": "rjtYsjOpzedc",
        "outputId": "19ba0218-32eb-4e17-cc65-49c00dec4d87"
      },
      "source": [
        "hanoi(2, 'A', 'C', 'B')"
      ],
      "execution_count": 6,
      "outputs": [
        {
          "output_type": "stream",
          "text": [
            "1번 원반을 A에서 B로 이동\n",
            "2번 원반을 A에서 C로 이동\n",
            "1번 원반을 B에서 C로 이동\n"
          ],
          "name": "stdout"
        }
      ]
    },
    {
      "cell_type": "code",
      "metadata": {
        "colab": {
          "base_uri": "https://localhost:8080/"
        },
        "id": "jjvuPef_zfy2",
        "outputId": "2be43db4-5447-48ea-b1b1-a0769521dc18"
      },
      "source": [
        "hanoi(3, 'A', 'C', 'B')"
      ],
      "execution_count": 7,
      "outputs": [
        {
          "output_type": "stream",
          "text": [
            "1번 원반을 A에서 C로 이동\n",
            "2번 원반을 A에서 B로 이동\n",
            "1번 원반을 C에서 B로 이동\n",
            "3번 원반을 A에서 C로 이동\n",
            "1번 원반을 B에서 A로 이동\n",
            "2번 원반을 B에서 C로 이동\n",
            "1번 원반을 A에서 C로 이동\n"
          ],
          "name": "stdout"
        }
      ]
    },
    {
      "cell_type": "code",
      "metadata": {
        "colab": {
          "base_uri": "https://localhost:8080/"
        },
        "id": "KX-hGG5o7tUq",
        "outputId": "3ca653e8-4d3e-41be-862b-ecbf6864a5b4"
      },
      "source": [
        "hanoi(5, 'A', 'C', 'B')"
      ],
      "execution_count": 8,
      "outputs": [
        {
          "output_type": "stream",
          "text": [
            "1번 원반을 A에서 C로 이동\n",
            "2번 원반을 A에서 B로 이동\n",
            "1번 원반을 C에서 B로 이동\n",
            "3번 원반을 A에서 C로 이동\n",
            "1번 원반을 B에서 A로 이동\n",
            "2번 원반을 B에서 C로 이동\n",
            "1번 원반을 A에서 C로 이동\n",
            "4번 원반을 A에서 B로 이동\n",
            "1번 원반을 C에서 B로 이동\n",
            "2번 원반을 C에서 A로 이동\n",
            "1번 원반을 B에서 A로 이동\n",
            "3번 원반을 C에서 B로 이동\n",
            "1번 원반을 A에서 C로 이동\n",
            "2번 원반을 A에서 B로 이동\n",
            "1번 원반을 C에서 B로 이동\n",
            "5번 원반을 A에서 C로 이동\n",
            "1번 원반을 B에서 A로 이동\n",
            "2번 원반을 B에서 C로 이동\n",
            "1번 원반을 A에서 C로 이동\n",
            "3번 원반을 B에서 A로 이동\n",
            "1번 원반을 C에서 B로 이동\n",
            "2번 원반을 C에서 A로 이동\n",
            "1번 원반을 B에서 A로 이동\n",
            "4번 원반을 B에서 C로 이동\n",
            "1번 원반을 A에서 C로 이동\n",
            "2번 원반을 A에서 B로 이동\n",
            "1번 원반을 C에서 B로 이동\n",
            "3번 원반을 A에서 C로 이동\n",
            "1번 원반을 B에서 A로 이동\n",
            "2번 원반을 B에서 C로 이동\n",
            "1번 원반을 A에서 C로 이동\n"
          ],
          "name": "stdout"
        }
      ]
    },
    {
      "cell_type": "code",
      "metadata": {
        "id": "BngGV5Zv7wp0"
      },
      "source": [
        ""
      ],
      "execution_count": null,
      "outputs": []
    }
  ]
}