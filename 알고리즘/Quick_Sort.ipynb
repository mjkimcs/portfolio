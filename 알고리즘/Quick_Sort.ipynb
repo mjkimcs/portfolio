{
  "nbformat": 4,
  "nbformat_minor": 0,
  "metadata": {
    "colab": {
      "name": "Quick_Sort",
      "provenance": [],
      "collapsed_sections": [],
      "authorship_tag": "ABX9TyM0WaGsgjowSaRG3Wlfo6Y7",
      "include_colab_link": true
    },
    "kernelspec": {
      "name": "python3",
      "display_name": "Python 3"
    },
    "language_info": {
      "name": "python"
    }
  },
  "cells": [
    {
      "cell_type": "markdown",
      "metadata": {
        "id": "view-in-github",
        "colab_type": "text"
      },
      "source": [
        "<a href=\"https://colab.research.google.com/github/mjkimcs/portfolio/blob/main/%EC%95%8C%EA%B3%A0%EB%A6%AC%EC%A6%98/Quick_Sort.ipynb\" target=\"_parent\"><img src=\"https://colab.research.google.com/assets/colab-badge.svg\" alt=\"Open In Colab\"/></a>"
      ]
    },
    {
      "cell_type": "code",
      "metadata": {
        "id": "z_yMZEhq_jgJ"
      },
      "source": [
        "def quick_sorted(arr):\n",
        "    if len(arr) > 1:\n",
        "        pivot = arr[len(arr)-1]\n",
        "        left, mid, right = [], [], []\n",
        "        for i in range(len(arr)-1):\n",
        "            if arr[i] < pivot:\n",
        "                left.append(arr[i])\n",
        "            elif arr[i] > pivot:\n",
        "                right.append(arr[i])\n",
        "            else:\n",
        "                mid.append(arr[i])\n",
        "        mid.append(pivot)\n",
        "        return quick_sorted(left) + mid + quick_sorted(right)\n",
        "    else:\n",
        "        return arr"
      ],
      "execution_count": 1,
      "outputs": []
    },
    {
      "cell_type": "code",
      "metadata": {
        "colab": {
          "base_uri": "https://localhost:8080/"
        },
        "id": "ccAp3Lm1_lrv",
        "outputId": "30d0b372-8cb6-464d-d40f-e96f084a648e"
      },
      "source": [
        "arr = [3, 5, 1, 2, 9, 6, 4, 7, 5]\n",
        "print(quick_sorted(arr))"
      ],
      "execution_count": 2,
      "outputs": [
        {
          "output_type": "stream",
          "text": [
            "[1, 2, 3, 4, 5, 5, 6, 7, 9]\n"
          ],
          "name": "stdout"
        }
      ]
    },
    {
      "cell_type": "code",
      "metadata": {
        "colab": {
          "base_uri": "https://localhost:8080/"
        },
        "id": "2HpW9SdY_nDs",
        "outputId": "cca658a3-f28a-4922-a204-3ee27b1f5875"
      },
      "source": [
        "arr = [1, 5, 3, 2, 9, 6, 4, 7, 8, 10]\n",
        "print(quick_sorted(arr))"
      ],
      "execution_count": 3,
      "outputs": [
        {
          "output_type": "stream",
          "text": [
            "[1, 2, 3, 4, 5, 6, 7, 8, 9, 10]\n"
          ],
          "name": "stdout"
        }
      ]
    },
    {
      "cell_type": "code",
      "metadata": {
        "id": "nB2XZsuZAPPk"
      },
      "source": [
        ""
      ],
      "execution_count": null,
      "outputs": []
    }
  ]
}