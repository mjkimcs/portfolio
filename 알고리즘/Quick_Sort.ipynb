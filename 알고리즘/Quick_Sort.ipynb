{
  "nbformat": 4,
  "nbformat_minor": 0,
  "metadata": {
    "colab": {
      "name": "Quick_Sort",
      "provenance": [],
      "collapsed_sections": [],
      "authorship_tag": "ABX9TyNpnmlAcpbVegysqJc8xhtC",
      "include_colab_link": true
    },
    "kernelspec": {
      "name": "python3",
      "display_name": "Python 3"
    },
    "language_info": {
      "name": "python"
    }
  },
  "cells": [
    {
      "cell_type": "markdown",
      "metadata": {
        "id": "view-in-github",
        "colab_type": "text"
      },
      "source": [
        "<a href=\"https://colab.research.google.com/github/mjkimcs/portfolio/blob/main/%EC%95%8C%EA%B3%A0%EB%A6%AC%EC%A6%98/Quick_Sort.ipynb\" target=\"_parent\"><img src=\"https://colab.research.google.com/assets/colab-badge.svg\" alt=\"Open In Colab\"/></a>"
      ]
    },
    {
      "cell_type": "code",
      "metadata": {
        "id": "z_yMZEhq_jgJ"
      },
      "source": [
        "def quick_sort(arr):\n",
        "    if len(arr) <= 1:\n",
        "        return arr\n",
        "    pivot = arr[len(arr) // 2]\n",
        "    lesser_arr, equal_arr, greater_arr = [], [], []\n",
        "    for i in arr:\n",
        "        if i < pivot:\n",
        "            lesser_arr.append(i)\n",
        "        elif i > pivot:\n",
        "            greater_arr.append(i)\n",
        "        else:\n",
        "            equal_arr.append(i)\n",
        "    return quick_sort(lesser_arr) + equal_arr + quick_sort(greater_arr)"
      ],
      "execution_count": 16,
      "outputs": []
    },
    {
      "cell_type": "code",
      "metadata": {
        "colab": {
          "base_uri": "https://localhost:8080/"
        },
        "id": "ccAp3Lm1_lrv",
        "outputId": "4662319a-b0b7-4552-8c1f-1fe2a3816f4e"
      },
      "source": [
        "arr = [3, 5, 1, 2, 9, 6, 4, 7, 5]\n",
        "print(quick_sort(arr))"
      ],
      "execution_count": 17,
      "outputs": [
        {
          "output_type": "stream",
          "text": [
            "[1, 2, 3, 4, 5, 5, 6, 7, 9]\n"
          ],
          "name": "stdout"
        }
      ]
    },
    {
      "cell_type": "code",
      "metadata": {
        "colab": {
          "base_uri": "https://localhost:8080/"
        },
        "id": "2HpW9SdY_nDs",
        "outputId": "dd13d348-a62c-48c2-c44a-0a893d93e452"
      },
      "source": [
        "arr = [1, 5, 3, 2, 9, 6, 4, 7, 8, 10]\n",
        "print(quick_sort(arr))"
      ],
      "execution_count": 18,
      "outputs": [
        {
          "output_type": "stream",
          "text": [
            "[1, 2, 3, 4, 5, 6, 7, 8, 9, 10]\n"
          ],
          "name": "stdout"
        }
      ]
    },
    {
      "cell_type": "code",
      "metadata": {
        "id": "Z_cq21NBYymW"
      },
      "source": [
        ""
      ],
      "execution_count": null,
      "outputs": []
    }
  ]
}