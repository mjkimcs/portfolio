{
  "nbformat": 4,
  "nbformat_minor": 0,
  "metadata": {
    "colab": {
      "name": "입출력함수",
      "provenance": [],
      "collapsed_sections": [],
      "authorship_tag": "ABX9TyNopXx0IjccM8GAOwx5VV4h",
      "include_colab_link": true
    },
    "kernelspec": {
      "name": "python3",
      "display_name": "Python 3"
    },
    "language_info": {
      "name": "python"
    }
  },
  "cells": [
    {
      "cell_type": "markdown",
      "metadata": {
        "id": "view-in-github",
        "colab_type": "text"
      },
      "source": [
        "<a href=\"https://colab.research.google.com/github/mjkimcs/portfolio/blob/main/%EC%9E%85%EC%B6%9C%EB%A0%A5%ED%95%A8%EC%88%98.ipynb\" target=\"_parent\"><img src=\"https://colab.research.google.com/assets/colab-badge.svg\" alt=\"Open In Colab\"/></a>"
      ]
    },
    {
      "cell_type": "code",
      "metadata": {
        "colab": {
          "base_uri": "https://localhost:8080/"
        },
        "id": "hFOzhWwBDTvZ",
        "outputId": "5c33a1f2-47f1-4649-bdfd-483e4644ef40"
      },
      "source": [
        "print('a', 'b')"
      ],
      "execution_count": 3,
      "outputs": [
        {
          "output_type": "stream",
          "text": [
            "a b\n"
          ],
          "name": "stdout"
        }
      ]
    },
    {
      "cell_type": "code",
      "metadata": {
        "colab": {
          "base_uri": "https://localhost:8080/"
        },
        "id": "MRQUerOwDU61",
        "outputId": "8697dfe7-894d-496c-b478-f3c1627480c4"
      },
      "source": [
        "print('a', 'b', sep=':')"
      ],
      "execution_count": 2,
      "outputs": [
        {
          "output_type": "stream",
          "text": [
            "a:b\n"
          ],
          "name": "stdout"
        }
      ]
    },
    {
      "cell_type": "code",
      "metadata": {
        "colab": {
          "base_uri": "https://localhost:8080/"
        },
        "id": "U6OsNPpYIYnB",
        "outputId": "16a06737-c7e5-4ac9-bf92-c69ebc6e6ae1"
      },
      "source": [
        "print('a', 'b', sep='구분')"
      ],
      "execution_count": 7,
      "outputs": [
        {
          "output_type": "stream",
          "text": [
            "a구분b\n"
          ],
          "name": "stdout"
        }
      ]
    },
    {
      "cell_type": "code",
      "metadata": {
        "colab": {
          "base_uri": "https://localhost:8080/"
        },
        "id": "GTh-dI30DdEL",
        "outputId": "acdaf039-07a1-4eb7-e117-0c16967edfdf"
      },
      "source": [
        "print('a', 'b', sep=':', end='\\n')"
      ],
      "execution_count": 4,
      "outputs": [
        {
          "output_type": "stream",
          "text": [
            "a:b\n"
          ],
          "name": "stdout"
        }
      ]
    },
    {
      "cell_type": "code",
      "metadata": {
        "colab": {
          "base_uri": "https://localhost:8080/"
        },
        "id": "1FjevszVDmX8",
        "outputId": "52323ba6-f5ce-45d5-dff1-e79cd49740c7"
      },
      "source": [
        "print('a', 'b', sep=':', end='\\t')"
      ],
      "execution_count": 5,
      "outputs": [
        {
          "output_type": "stream",
          "text": [
            "a:b\t"
          ],
          "name": "stdout"
        }
      ]
    },
    {
      "cell_type": "code",
      "metadata": {
        "id": "xEdRqvgNDpdc"
      },
      "source": [
        "name = \"mj\"\n",
        "addr = \"Seoul\"\n",
        "print(name, addr, sep=\"_\", file=open(\"c:\\\\Test\\\\a.txt\", \"w\")) # a.txt파일이 생성이 되고 내용은 mj_Seoul"
      ],
      "execution_count": null,
      "outputs": []
    },
    {
      "cell_type": "code",
      "metadata": {
        "id": "Ih3ZXa9CKGdK"
      },
      "source": [
        "print(name, addr, sep=\":\", file=open(\"c:\\\\Test\\\\a.txt\", \"a\")) \n",
        "# a.txt파일 내용은 \n",
        "# mj_Seoul\n",
        "# mj:Seoul"
      ],
      "execution_count": null,
      "outputs": []
    },
    {
      "cell_type": "code",
      "metadata": {
        "id": "sNyAWMyYKZ5W"
      },
      "source": [
        "print(name, addr, sep=\"_\", file=open(\"c:\\\\Test\\\\a.txt\", \"w\")) # 덮어쓰기라서 내용은 mj_Seoul"
      ],
      "execution_count": null,
      "outputs": []
    },
    {
      "cell_type": "code",
      "metadata": {
        "colab": {
          "base_uri": "https://localhost:8080/",
          "height": 34
        },
        "id": "b84nHt8DLBi4",
        "outputId": "aa0bcf05-f3d7-4552-d8da-6271549c99f4"
      },
      "source": [
        "\"%10d%5d%20d\"%(10, 0, 7) # 포맷서식 즉 자리수지정"
      ],
      "execution_count": 14,
      "outputs": [
        {
          "output_type": "execute_result",
          "data": {
            "application/vnd.google.colaboratory.intrinsic+json": {
              "type": "string"
            },
            "text/plain": [
              "'        10    0                   7'"
            ]
          },
          "metadata": {
            "tags": []
          },
          "execution_count": 14
        }
      ]
    },
    {
      "cell_type": "code",
      "metadata": {
        "colab": {
          "base_uri": "https://localhost:8080/",
          "height": 34
        },
        "id": "of2YAkHeMSXf",
        "outputId": "f639f0ba-70b5-47f1-d276-f1e24241cdcd"
      },
      "source": [
        "\"%10.2f\"%(90.22222)"
      ],
      "execution_count": 15,
      "outputs": [
        {
          "output_type": "execute_result",
          "data": {
            "application/vnd.google.colaboratory.intrinsic+json": {
              "type": "string"
            },
            "text/plain": [
              "'     90.22'"
            ]
          },
          "metadata": {
            "tags": []
          },
          "execution_count": 15
        }
      ]
    },
    {
      "cell_type": "code",
      "metadata": {
        "colab": {
          "base_uri": "https://localhost:8080/"
        },
        "id": "M_q8ZQRfPHMq",
        "outputId": "75f8c48a-8b28-4b6c-d429-a8d0748070f8"
      },
      "source": [
        "name = \"민정\"\n",
        "print(\"%10s\"%(name))"
      ],
      "execution_count": 16,
      "outputs": [
        {
          "output_type": "stream",
          "text": [
            "        민정\n"
          ],
          "name": "stdout"
        }
      ]
    },
    {
      "cell_type": "code",
      "metadata": {
        "colab": {
          "base_uri": "https://localhost:8080/"
        },
        "id": "IqtYtb09Pe_w",
        "outputId": "22e14fc8-1ae5-4bb6-909d-eefddb77819a"
      },
      "source": [
        "print(\"%-10s\"%(name))"
      ],
      "execution_count": 17,
      "outputs": [
        {
          "output_type": "stream",
          "text": [
            "민정        \n"
          ],
          "name": "stdout"
        }
      ]
    },
    {
      "cell_type": "code",
      "metadata": {
        "colab": {
          "base_uri": "https://localhost:8080/"
        },
        "id": "vz0XeWAVPi0Q",
        "outputId": "3f194145-0126-4bac-c067-c84bfb7457a0"
      },
      "source": [
        "print(\"name:%-10s\"%(name))"
      ],
      "execution_count": 19,
      "outputs": [
        {
          "output_type": "stream",
          "text": [
            "name:민정        \n"
          ],
          "name": "stdout"
        }
      ]
    },
    {
      "cell_type": "code",
      "metadata": {
        "colab": {
          "base_uri": "https://localhost:8080/"
        },
        "id": "nILYN-1FPpSB",
        "outputId": "7f4fee55-89e2-42d6-f075-1fd2928af009"
      },
      "source": [
        "print(\"name:%-10s 님\"%(name))"
      ],
      "execution_count": 20,
      "outputs": [
        {
          "output_type": "stream",
          "text": [
            "name:민정         님\n"
          ],
          "name": "stdout"
        }
      ]
    },
    {
      "cell_type": "code",
      "metadata": {
        "colab": {
          "base_uri": "https://localhost:8080/"
        },
        "id": "7A1EK3onPws6",
        "outputId": "cc91a362-519a-435b-8a56-348560d83bf8"
      },
      "source": [
        "print(\"%-10s\"%(100))"
      ],
      "execution_count": 21,
      "outputs": [
        {
          "output_type": "stream",
          "text": [
            "100       \n"
          ],
          "name": "stdout"
        }
      ]
    },
    {
      "cell_type": "code",
      "metadata": {
        "colab": {
          "base_uri": "https://localhost:8080/"
        },
        "id": "pT2-e8h-P29w",
        "outputId": "ed9831b2-5ab5-470c-c458-086250312e59"
      },
      "source": [
        "print(\"%-10x\"%(100))"
      ],
      "execution_count": 22,
      "outputs": [
        {
          "output_type": "stream",
          "text": [
            "64        \n"
          ],
          "name": "stdout"
        }
      ]
    },
    {
      "cell_type": "code",
      "metadata": {
        "colab": {
          "base_uri": "https://localhost:8080/"
        },
        "id": "Mq8Mq3SNRDvR",
        "outputId": "ee8ce421-53a0-4798-f0b1-cc56986aebbb"
      },
      "source": [
        "print('{1} and {0}'.format('민정', '민주')) # 한 번 참조(*)"
      ],
      "execution_count": 35,
      "outputs": [
        {
          "output_type": "stream",
          "text": [
            "민주 and 민정\n"
          ],
          "name": "stdout"
        }
      ]
    },
    {
      "cell_type": "code",
      "metadata": {
        "colab": {
          "base_uri": "https://localhost:8080/",
          "height": 34
        },
        "id": "AJqlc_S2SrXY",
        "outputId": "8d341e2a-5664-48bf-81ba-fbf1acaf7045"
      },
      "source": [
        "'{1} and {0}'.format('민정', '민주')"
      ],
      "execution_count": 36,
      "outputs": [
        {
          "output_type": "execute_result",
          "data": {
            "application/vnd.google.colaboratory.intrinsic+json": {
              "type": "string"
            },
            "text/plain": [
              "'민주 and 민정'"
            ]
          },
          "metadata": {
            "tags": []
          },
          "execution_count": 36
        }
      ]
    },
    {
      "cell_type": "code",
      "metadata": {
        "colab": {
          "base_uri": "https://localhost:8080/"
        },
        "id": "3iEnJpXLTTMB",
        "outputId": "910bb107-dc08-4096-d54f-b3cf9e9bd4e6"
      },
      "source": [
        "print('{w1} and {w2}'.format(w1='민정', w2='민주')) # 두 번 참조(**)"
      ],
      "execution_count": 40,
      "outputs": [
        {
          "output_type": "stream",
          "text": [
            "민정 and 민주\n"
          ],
          "name": "stdout"
        }
      ]
    },
    {
      "cell_type": "code",
      "metadata": {
        "colab": {
          "base_uri": "https://localhost:8080/",
          "height": 34
        },
        "id": "hbtJY02WTaaY",
        "outputId": "47b35d57-c4ff-486e-8f42-d853a387b459"
      },
      "source": [
        "'{0:10} and {1:10}'.format('민정', '민주') # 10자리 확보"
      ],
      "execution_count": 47,
      "outputs": [
        {
          "output_type": "execute_result",
          "data": {
            "application/vnd.google.colaboratory.intrinsic+json": {
              "type": "string"
            },
            "text/plain": [
              "'민정         and 민주        '"
            ]
          },
          "metadata": {
            "tags": []
          },
          "execution_count": 47
        }
      ]
    },
    {
      "cell_type": "code",
      "metadata": {
        "colab": {
          "base_uri": "https://localhost:8080/",
          "height": 34
        },
        "id": "NBe_Ae62UtGQ",
        "outputId": "2f20c521-47a7-478e-e34a-1b7b0db841f8"
      },
      "source": [
        "'{0:<10} and {1:>10}'.format('민정', '민주') # 왼쪽정렬, 오른쪽정렬"
      ],
      "execution_count": 48,
      "outputs": [
        {
          "output_type": "execute_result",
          "data": {
            "application/vnd.google.colaboratory.intrinsic+json": {
              "type": "string"
            },
            "text/plain": [
              "'민정         and         민주'"
            ]
          },
          "metadata": {
            "tags": []
          },
          "execution_count": 48
        }
      ]
    },
    {
      "cell_type": "code",
      "metadata": {
        "colab": {
          "base_uri": "https://localhost:8080/",
          "height": 34
        },
        "id": "db49qpB6VDHi",
        "outputId": "35038470-c1ae-4455-8001-8b6952f47188"
      },
      "source": [
        "'{0:<10} and {1:^10}'.format('민정', '민주') # 왼쪽정렬, 가운데정렬"
      ],
      "execution_count": 49,
      "outputs": [
        {
          "output_type": "execute_result",
          "data": {
            "application/vnd.google.colaboratory.intrinsic+json": {
              "type": "string"
            },
            "text/plain": [
              "'민정         and     민주    '"
            ]
          },
          "metadata": {
            "tags": []
          },
          "execution_count": 49
        }
      ]
    },
    {
      "cell_type": "code",
      "metadata": {
        "colab": {
          "base_uri": "https://localhost:8080/",
          "height": 34
        },
        "id": "OsSFKNCPVE3n",
        "outputId": "c2416587-c983-4420-c1a0-ff6ff0c531f2"
      },
      "source": [
        "'{0:<10} and {1:^10} and {2:10.2f}'.format('민정', '민주', 6.9888)"
      ],
      "execution_count": 52,
      "outputs": [
        {
          "output_type": "execute_result",
          "data": {
            "application/vnd.google.colaboratory.intrinsic+json": {
              "type": "string"
            },
            "text/plain": [
              "'민정         and     민주     and       6.99'"
            ]
          },
          "metadata": {
            "tags": []
          },
          "execution_count": 52
        }
      ]
    },
    {
      "cell_type": "code",
      "metadata": {
        "colab": {
          "base_uri": "https://localhost:8080/"
        },
        "id": "zHuxzKwLVME_",
        "outputId": "2a333355-cbb7-4780-bf45-391477336c2c"
      },
      "source": [
        "print('{:06d}'.format(27))"
      ],
      "execution_count": 57,
      "outputs": [
        {
          "output_type": "stream",
          "text": [
            "000027\n"
          ],
          "name": "stdout"
        }
      ]
    },
    {
      "cell_type": "code",
      "metadata": {
        "colab": {
          "base_uri": "https://localhost:8080/"
        },
        "id": "i8DxI6-xXNkg",
        "outputId": "8299a49c-8aa7-4156-843a-41c24a8e87bf"
      },
      "source": [
        "s = \"Python\"\n",
        "print(s.zfill(10))\n",
        "print(s.center(10))\n",
        "print(s.center(10, \"*\"))"
      ],
      "execution_count": 63,
      "outputs": [
        {
          "output_type": "stream",
          "text": [
            "0000Python\n",
            "  Python  \n",
            "**Python**\n"
          ],
          "name": "stdout"
        }
      ]
    },
    {
      "cell_type": "code",
      "metadata": {
        "colab": {
          "base_uri": "https://localhost:8080/"
        },
        "id": "ITIbk_soXgvH",
        "outputId": "68c0e2c9-3a59-42fb-bd59-e0af3cfbd9ba"
      },
      "source": [
        "print(s.ljust(10))\n",
        "print(s.rjust(10))\n",
        "print(s.rjust(10, \"*\"))"
      ],
      "execution_count": 66,
      "outputs": [
        {
          "output_type": "stream",
          "text": [
            "Python    \n",
            "    Python\n",
            "****Python\n"
          ],
          "name": "stdout"
        }
      ]
    },
    {
      "cell_type": "code",
      "metadata": {
        "colab": {
          "base_uri": "https://localhost:8080/",
          "height": 34
        },
        "id": "oqjN45SQX4sH",
        "outputId": "993e240c-d02e-4405-e184-6901472a82c7"
      },
      "source": [
        "\"%20.2f\"%(7.575825)"
      ],
      "execution_count": 67,
      "outputs": [
        {
          "output_type": "execute_result",
          "data": {
            "application/vnd.google.colaboratory.intrinsic+json": {
              "type": "string"
            },
            "text/plain": [
              "'                7.58'"
            ]
          },
          "metadata": {
            "tags": []
          },
          "execution_count": 67
        }
      ]
    },
    {
      "cell_type": "code",
      "metadata": {
        "colab": {
          "base_uri": "https://localhost:8080/"
        },
        "id": "8iQjl4voYF6f",
        "outputId": "e7bbe029-c1a3-4e47-cb9b-a7d00abb780c"
      },
      "source": [
        "a = input()"
      ],
      "execution_count": 68,
      "outputs": [
        {
          "output_type": "stream",
          "text": [
            "[1, 2, 3, 4, 5]\n"
          ],
          "name": "stdout"
        }
      ]
    },
    {
      "cell_type": "code",
      "metadata": {
        "colab": {
          "base_uri": "https://localhost:8080/",
          "height": 34
        },
        "id": "KuLCHxbGYgR_",
        "outputId": "898f69d2-ae7f-46dc-bd93-fe098233d512"
      },
      "source": [
        "a"
      ],
      "execution_count": 69,
      "outputs": [
        {
          "output_type": "execute_result",
          "data": {
            "application/vnd.google.colaboratory.intrinsic+json": {
              "type": "string"
            },
            "text/plain": [
              "'[1, 2, 3, 4, 5]'"
            ]
          },
          "metadata": {
            "tags": []
          },
          "execution_count": 69
        }
      ]
    },
    {
      "cell_type": "code",
      "metadata": {
        "colab": {
          "base_uri": "https://localhost:8080/"
        },
        "id": "Wjlm0-XXYkof",
        "outputId": "fa43139d-3e26-442d-bf6d-928f241de860"
      },
      "source": [
        "a = float(input())"
      ],
      "execution_count": 70,
      "outputs": [
        {
          "output_type": "stream",
          "text": [
            "90\n"
          ],
          "name": "stdout"
        }
      ]
    },
    {
      "cell_type": "code",
      "metadata": {
        "colab": {
          "base_uri": "https://localhost:8080/"
        },
        "id": "HhAse1HaYydw",
        "outputId": "c34940c5-e9c3-43c5-d94a-8490e5bf6735"
      },
      "source": [
        "a"
      ],
      "execution_count": 71,
      "outputs": [
        {
          "output_type": "execute_result",
          "data": {
            "text/plain": [
              "90.0"
            ]
          },
          "metadata": {
            "tags": []
          },
          "execution_count": 71
        }
      ]
    },
    {
      "cell_type": "code",
      "metadata": {
        "colab": {
          "base_uri": "https://localhost:8080/"
        },
        "id": "hyri41OnY0Zf",
        "outputId": "592df868-62ae-4576-82c6-acbc59934378"
      },
      "source": [
        "a = int(input(), 2)"
      ],
      "execution_count": 73,
      "outputs": [
        {
          "output_type": "stream",
          "text": [
            "10\n"
          ],
          "name": "stdout"
        }
      ]
    },
    {
      "cell_type": "code",
      "metadata": {
        "colab": {
          "base_uri": "https://localhost:8080/"
        },
        "id": "hdXbANrBY-z3",
        "outputId": "e8104446-bffe-4649-abbc-7d3c820fe6b9"
      },
      "source": [
        "a"
      ],
      "execution_count": 74,
      "outputs": [
        {
          "output_type": "execute_result",
          "data": {
            "text/plain": [
              "2"
            ]
          },
          "metadata": {
            "tags": []
          },
          "execution_count": 74
        }
      ]
    },
    {
      "cell_type": "code",
      "metadata": {
        "colab": {
          "base_uri": "https://localhost:8080/"
        },
        "id": "de_ITcUYZCe7",
        "outputId": "99676d22-fff0-44bf-d623-d0ab8b96b907"
      },
      "source": [
        "list('12345')"
      ],
      "execution_count": 75,
      "outputs": [
        {
          "output_type": "execute_result",
          "data": {
            "text/plain": [
              "['1', '2', '3', '4', '5']"
            ]
          },
          "metadata": {
            "tags": []
          },
          "execution_count": 75
        }
      ]
    },
    {
      "cell_type": "code",
      "metadata": {
        "colab": {
          "base_uri": "https://localhost:8080/"
        },
        "id": "9liMcvTcZL7_",
        "outputId": "da9ce4c8-2c38-4ef9-b2a4-4e84139e3ab9"
      },
      "source": [
        "a = list(input())"
      ],
      "execution_count": 76,
      "outputs": [
        {
          "output_type": "stream",
          "text": [
            "123\n"
          ],
          "name": "stdout"
        }
      ]
    },
    {
      "cell_type": "code",
      "metadata": {
        "colab": {
          "base_uri": "https://localhost:8080/"
        },
        "id": "vJZ_jbd1ZRgH",
        "outputId": "8c858982-b133-49e6-d5eb-7f6b12c02ed2"
      },
      "source": [
        "a"
      ],
      "execution_count": 77,
      "outputs": [
        {
          "output_type": "execute_result",
          "data": {
            "text/plain": [
              "['1', '2', '3']"
            ]
          },
          "metadata": {
            "tags": []
          },
          "execution_count": 77
        }
      ]
    },
    {
      "cell_type": "code",
      "metadata": {
        "colab": {
          "base_uri": "https://localhost:8080/"
        },
        "id": "BDv-mYrPZl4O",
        "outputId": "3652492f-bef1-428d-9ac2-ee267565a147"
      },
      "source": [
        "tuple('123')"
      ],
      "execution_count": 80,
      "outputs": [
        {
          "output_type": "execute_result",
          "data": {
            "text/plain": [
              "('1', '2', '3')"
            ]
          },
          "metadata": {
            "tags": []
          },
          "execution_count": 80
        }
      ]
    },
    {
      "cell_type": "code",
      "metadata": {
        "colab": {
          "base_uri": "https://localhost:8080/"
        },
        "id": "umoyzLTIZapO",
        "outputId": "541c5357-1459-4625-e436-25b6962ddc36"
      },
      "source": [
        "a = tuple(input())"
      ],
      "execution_count": 78,
      "outputs": [
        {
          "output_type": "stream",
          "text": [
            "123\n"
          ],
          "name": "stdout"
        }
      ]
    },
    {
      "cell_type": "code",
      "metadata": {
        "colab": {
          "base_uri": "https://localhost:8080/"
        },
        "id": "a-scCmVUZfs2",
        "outputId": "f1ac7af3-ca1c-46c7-e2ef-5572b27b6827"
      },
      "source": [
        "a"
      ],
      "execution_count": 79,
      "outputs": [
        {
          "output_type": "execute_result",
          "data": {
            "text/plain": [
              "('1', '2', '3')"
            ]
          },
          "metadata": {
            "tags": []
          },
          "execution_count": 79
        }
      ]
    },
    {
      "cell_type": "code",
      "metadata": {
        "id": "KDu6BRlyZgwm"
      },
      "source": [
        ""
      ],
      "execution_count": null,
      "outputs": []
    }
  ]
}