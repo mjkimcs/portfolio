{
  "nbformat": 4,
  "nbformat_minor": 0,
  "metadata": {
    "colab": {
      "name": "입출력함수",
      "provenance": [],
      "collapsed_sections": [],
      "authorship_tag": "ABX9TyOzEVcN7A5DdzUMW0W3y9LM",
      "include_colab_link": true
    },
    "kernelspec": {
      "name": "python3",
      "display_name": "Python 3"
    },
    "language_info": {
      "name": "python"
    }
  },
  "cells": [
    {
      "cell_type": "markdown",
      "metadata": {
        "id": "view-in-github",
        "colab_type": "text"
      },
      "source": [
        "<a href=\"https://colab.research.google.com/github/mjkimcs/portfolio/blob/main/%EC%9E%85%EC%B6%9C%EB%A0%A5%ED%95%A8%EC%88%98.ipynb\" target=\"_parent\"><img src=\"https://colab.research.google.com/assets/colab-badge.svg\" alt=\"Open In Colab\"/></a>"
      ]
    },
    {
      "cell_type": "code",
      "metadata": {
        "colab": {
          "base_uri": "https://localhost:8080/"
        },
        "id": "hFOzhWwBDTvZ",
        "outputId": "5c33a1f2-47f1-4649-bdfd-483e4644ef40"
      },
      "source": [
        "print('a', 'b')"
      ],
      "execution_count": 3,
      "outputs": [
        {
          "output_type": "stream",
          "text": [
            "a b\n"
          ],
          "name": "stdout"
        }
      ]
    },
    {
      "cell_type": "code",
      "metadata": {
        "colab": {
          "base_uri": "https://localhost:8080/"
        },
        "id": "MRQUerOwDU61",
        "outputId": "8697dfe7-894d-496c-b478-f3c1627480c4"
      },
      "source": [
        "print('a', 'b', sep=':')"
      ],
      "execution_count": 2,
      "outputs": [
        {
          "output_type": "stream",
          "text": [
            "a:b\n"
          ],
          "name": "stdout"
        }
      ]
    },
    {
      "cell_type": "code",
      "metadata": {
        "colab": {
          "base_uri": "https://localhost:8080/"
        },
        "id": "U6OsNPpYIYnB",
        "outputId": "16a06737-c7e5-4ac9-bf92-c69ebc6e6ae1"
      },
      "source": [
        "print('a', 'b', sep='구분')"
      ],
      "execution_count": 7,
      "outputs": [
        {
          "output_type": "stream",
          "text": [
            "a구분b\n"
          ],
          "name": "stdout"
        }
      ]
    },
    {
      "cell_type": "code",
      "metadata": {
        "colab": {
          "base_uri": "https://localhost:8080/"
        },
        "id": "GTh-dI30DdEL",
        "outputId": "acdaf039-07a1-4eb7-e117-0c16967edfdf"
      },
      "source": [
        "print('a', 'b', sep=':', end='\\n')"
      ],
      "execution_count": 4,
      "outputs": [
        {
          "output_type": "stream",
          "text": [
            "a:b\n"
          ],
          "name": "stdout"
        }
      ]
    },
    {
      "cell_type": "code",
      "metadata": {
        "colab": {
          "base_uri": "https://localhost:8080/"
        },
        "id": "1FjevszVDmX8",
        "outputId": "52323ba6-f5ce-45d5-dff1-e79cd49740c7"
      },
      "source": [
        "print('a', 'b', sep=':', end='\\t')"
      ],
      "execution_count": 5,
      "outputs": [
        {
          "output_type": "stream",
          "text": [
            "a:b\t"
          ],
          "name": "stdout"
        }
      ]
    },
    {
      "cell_type": "code",
      "metadata": {
        "id": "xEdRqvgNDpdc"
      },
      "source": [
        "name = \"mj\"\n",
        "addr = \"Seoul\"\n",
        "print(name, addr, sep=\"_\", file=open(\"c:\\\\Test\\\\a.txt\", \"w\")) # a.txt파일이 생성이 되고 내용은 mj_Seoul"
      ],
      "execution_count": null,
      "outputs": []
    },
    {
      "cell_type": "code",
      "metadata": {
        "id": "Ih3ZXa9CKGdK"
      },
      "source": [
        "print(name, addr, sep=\":\", file=open(\"c:\\\\Test\\\\a.txt\", \"a\")) \n",
        "# a.txt파일 내용은 \n",
        "# mj_Seoul\n",
        "# mj:Seoul"
      ],
      "execution_count": null,
      "outputs": []
    },
    {
      "cell_type": "code",
      "metadata": {
        "id": "sNyAWMyYKZ5W"
      },
      "source": [
        "print(name, addr, sep=\"_\", file=open(\"c:\\\\Test\\\\a.txt\", \"w\")) # 덮어쓰기라서 내용은 mj_Seoul"
      ],
      "execution_count": null,
      "outputs": []
    },
    {
      "cell_type": "code",
      "metadata": {
        "colab": {
          "base_uri": "https://localhost:8080/",
          "height": 34
        },
        "id": "b84nHt8DLBi4",
        "outputId": "aa0bcf05-f3d7-4552-d8da-6271549c99f4"
      },
      "source": [
        "\"%10d%5d%20d\"%(10, 0, 7) # 포맷서식 즉 자리수지정"
      ],
      "execution_count": 14,
      "outputs": [
        {
          "output_type": "execute_result",
          "data": {
            "application/vnd.google.colaboratory.intrinsic+json": {
              "type": "string"
            },
            "text/plain": [
              "'        10    0                   7'"
            ]
          },
          "metadata": {
            "tags": []
          },
          "execution_count": 14
        }
      ]
    },
    {
      "cell_type": "code",
      "metadata": {
        "colab": {
          "base_uri": "https://localhost:8080/",
          "height": 34
        },
        "id": "of2YAkHeMSXf",
        "outputId": "f639f0ba-70b5-47f1-d276-f1e24241cdcd"
      },
      "source": [
        "\"%10.2f\"%(90.22222)"
      ],
      "execution_count": 15,
      "outputs": [
        {
          "output_type": "execute_result",
          "data": {
            "application/vnd.google.colaboratory.intrinsic+json": {
              "type": "string"
            },
            "text/plain": [
              "'     90.22'"
            ]
          },
          "metadata": {
            "tags": []
          },
          "execution_count": 15
        }
      ]
    },
    {
      "cell_type": "code",
      "metadata": {
        "colab": {
          "base_uri": "https://localhost:8080/"
        },
        "id": "M_q8ZQRfPHMq",
        "outputId": "75f8c48a-8b28-4b6c-d429-a8d0748070f8"
      },
      "source": [
        "name = \"민정\"\n",
        "print(\"%10s\"%(name))"
      ],
      "execution_count": 16,
      "outputs": [
        {
          "output_type": "stream",
          "text": [
            "        민정\n"
          ],
          "name": "stdout"
        }
      ]
    },
    {
      "cell_type": "code",
      "metadata": {
        "colab": {
          "base_uri": "https://localhost:8080/"
        },
        "id": "IqtYtb09Pe_w",
        "outputId": "22e14fc8-1ae5-4bb6-909d-eefddb77819a"
      },
      "source": [
        "print(\"%-10s\"%(name))"
      ],
      "execution_count": 17,
      "outputs": [
        {
          "output_type": "stream",
          "text": [
            "민정        \n"
          ],
          "name": "stdout"
        }
      ]
    },
    {
      "cell_type": "code",
      "metadata": {
        "colab": {
          "base_uri": "https://localhost:8080/"
        },
        "id": "vz0XeWAVPi0Q",
        "outputId": "3f194145-0126-4bac-c067-c84bfb7457a0"
      },
      "source": [
        "print(\"name:%-10s\"%(name))"
      ],
      "execution_count": 19,
      "outputs": [
        {
          "output_type": "stream",
          "text": [
            "name:민정        \n"
          ],
          "name": "stdout"
        }
      ]
    },
    {
      "cell_type": "code",
      "metadata": {
        "colab": {
          "base_uri": "https://localhost:8080/"
        },
        "id": "nILYN-1FPpSB",
        "outputId": "7f4fee55-89e2-42d6-f075-1fd2928af009"
      },
      "source": [
        "print(\"name:%-10s 님\"%(name))"
      ],
      "execution_count": 20,
      "outputs": [
        {
          "output_type": "stream",
          "text": [
            "name:민정         님\n"
          ],
          "name": "stdout"
        }
      ]
    },
    {
      "cell_type": "code",
      "metadata": {
        "colab": {
          "base_uri": "https://localhost:8080/"
        },
        "id": "7A1EK3onPws6",
        "outputId": "cc91a362-519a-435b-8a56-348560d83bf8"
      },
      "source": [
        "print(\"%-10s\"%(100))"
      ],
      "execution_count": 21,
      "outputs": [
        {
          "output_type": "stream",
          "text": [
            "100       \n"
          ],
          "name": "stdout"
        }
      ]
    },
    {
      "cell_type": "code",
      "metadata": {
        "colab": {
          "base_uri": "https://localhost:8080/"
        },
        "id": "pT2-e8h-P29w",
        "outputId": "ed9831b2-5ab5-470c-c458-086250312e59"
      },
      "source": [
        "print(\"%-10x\"%(100))"
      ],
      "execution_count": 22,
      "outputs": [
        {
          "output_type": "stream",
          "text": [
            "64        \n"
          ],
          "name": "stdout"
        }
      ]
    },
    {
      "cell_type": "code",
      "metadata": {
        "colab": {
          "base_uri": "https://localhost:8080/"
        },
        "id": "Mq8Mq3SNRDvR",
        "outputId": "ee8ce421-53a0-4798-f0b1-cc56986aebbb"
      },
      "source": [
        "print('{1} and {0}'.format('민정', '민주')) # 한 번 참조(*)"
      ],
      "execution_count": 35,
      "outputs": [
        {
          "output_type": "stream",
          "text": [
            "민주 and 민정\n"
          ],
          "name": "stdout"
        }
      ]
    },
    {
      "cell_type": "code",
      "metadata": {
        "colab": {
          "base_uri": "https://localhost:8080/",
          "height": 34
        },
        "id": "AJqlc_S2SrXY",
        "outputId": "8d341e2a-5664-48bf-81ba-fbf1acaf7045"
      },
      "source": [
        "'{1} and {0}'.format('민정', '민주')"
      ],
      "execution_count": 36,
      "outputs": [
        {
          "output_type": "execute_result",
          "data": {
            "application/vnd.google.colaboratory.intrinsic+json": {
              "type": "string"
            },
            "text/plain": [
              "'민주 and 민정'"
            ]
          },
          "metadata": {
            "tags": []
          },
          "execution_count": 36
        }
      ]
    },
    {
      "cell_type": "code",
      "metadata": {
        "colab": {
          "base_uri": "https://localhost:8080/"
        },
        "id": "3iEnJpXLTTMB",
        "outputId": "910bb107-dc08-4096-d54f-b3cf9e9bd4e6"
      },
      "source": [
        "print('{w1} and {w2}'.format(w1='민정', w2='민주')) # 두 번 참조(**)"
      ],
      "execution_count": 40,
      "outputs": [
        {
          "output_type": "stream",
          "text": [
            "민정 and 민주\n"
          ],
          "name": "stdout"
        }
      ]
    },
    {
      "cell_type": "code",
      "metadata": {
        "colab": {
          "base_uri": "https://localhost:8080/",
          "height": 34
        },
        "id": "hbtJY02WTaaY",
        "outputId": "47b35d57-c4ff-486e-8f42-d853a387b459"
      },
      "source": [
        "'{0:10} and {1:10}'.format('민정', '민주') # 10자리 확보"
      ],
      "execution_count": 47,
      "outputs": [
        {
          "output_type": "execute_result",
          "data": {
            "application/vnd.google.colaboratory.intrinsic+json": {
              "type": "string"
            },
            "text/plain": [
              "'민정         and 민주        '"
            ]
          },
          "metadata": {
            "tags": []
          },
          "execution_count": 47
        }
      ]
    },
    {
      "cell_type": "code",
      "metadata": {
        "colab": {
          "base_uri": "https://localhost:8080/",
          "height": 34
        },
        "id": "NBe_Ae62UtGQ",
        "outputId": "2f20c521-47a7-478e-e34a-1b7b0db841f8"
      },
      "source": [
        "'{0:<10} and {1:>10}'.format('민정', '민주') # 왼쪽정렬, 오른쪽정렬"
      ],
      "execution_count": 48,
      "outputs": [
        {
          "output_type": "execute_result",
          "data": {
            "application/vnd.google.colaboratory.intrinsic+json": {
              "type": "string"
            },
            "text/plain": [
              "'민정         and         민주'"
            ]
          },
          "metadata": {
            "tags": []
          },
          "execution_count": 48
        }
      ]
    },
    {
      "cell_type": "code",
      "metadata": {
        "colab": {
          "base_uri": "https://localhost:8080/",
          "height": 34
        },
        "id": "db49qpB6VDHi",
        "outputId": "35038470-c1ae-4455-8001-8b6952f47188"
      },
      "source": [
        "'{0:<10} and {1:^10}'.format('민정', '민주') # 왼쪽정렬, 가운데정렬"
      ],
      "execution_count": 49,
      "outputs": [
        {
          "output_type": "execute_result",
          "data": {
            "application/vnd.google.colaboratory.intrinsic+json": {
              "type": "string"
            },
            "text/plain": [
              "'민정         and     민주    '"
            ]
          },
          "metadata": {
            "tags": []
          },
          "execution_count": 49
        }
      ]
    },
    {
      "cell_type": "code",
      "metadata": {
        "colab": {
          "base_uri": "https://localhost:8080/",
          "height": 34
        },
        "id": "OsSFKNCPVE3n",
        "outputId": "c2416587-c983-4420-c1a0-ff6ff0c531f2"
      },
      "source": [
        "'{0:<10} and {1:^10} and {2:10.2f}'.format('민정', '민주', 6.9888)"
      ],
      "execution_count": 52,
      "outputs": [
        {
          "output_type": "execute_result",
          "data": {
            "application/vnd.google.colaboratory.intrinsic+json": {
              "type": "string"
            },
            "text/plain": [
              "'민정         and     민주     and       6.99'"
            ]
          },
          "metadata": {
            "tags": []
          },
          "execution_count": 52
        }
      ]
    },
    {
      "cell_type": "code",
      "metadata": {
        "colab": {
          "base_uri": "https://localhost:8080/"
        },
        "id": "zHuxzKwLVME_",
        "outputId": "2a333355-cbb7-4780-bf45-391477336c2c"
      },
      "source": [
        "print('{:06d}'.format(27))"
      ],
      "execution_count": 57,
      "outputs": [
        {
          "output_type": "stream",
          "text": [
            "000027\n"
          ],
          "name": "stdout"
        }
      ]
    },
    {
      "cell_type": "code",
      "metadata": {
        "id": "jFYmMPTZVsKo"
      },
      "source": [
        ""
      ],
      "execution_count": null,
      "outputs": []
    }
  ]
}