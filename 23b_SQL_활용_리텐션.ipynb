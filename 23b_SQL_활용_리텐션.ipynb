{
  "nbformat": 4,
  "nbformat_minor": 0,
  "metadata": {
    "colab": {
      "name": "23b. SQL 활용_리텐션.ipynb",
      "provenance": [],
      "authorship_tag": "ABX9TyMPn8TF9QpUvyv11P4zGAKo",
      "include_colab_link": true
    },
    "kernelspec": {
      "name": "python3",
      "display_name": "Python 3"
    }
  },
  "cells": [
    {
      "cell_type": "markdown",
      "metadata": {
        "id": "view-in-github",
        "colab_type": "text"
      },
      "source": [
        "<a href=\"https://colab.research.google.com/github/mjkimcs/portfolio/blob/main/23b_SQL_%ED%99%9C%EC%9A%A9_%EB%A6%AC%ED%85%90%EC%85%98.ipynb\" target=\"_parent\"><img src=\"https://colab.research.google.com/assets/colab-badge.svg\" alt=\"Open In Colab\"/></a>"
      ]
    },
    {
      "cell_type": "markdown",
      "metadata": {
        "id": "KVVwdQO8PxD2"
      },
      "source": [
        "리텐션 산출 방법\r\n",
        "1.\t클래식 리텐션(Day N 리텐션)\r\n",
        "= D+N일에 방문한 사람 수/D0에 방문한 사람 수\r\n",
        "2.\tRange 리텐션\r\n",
        "= Next Period에 방문한 사람 수/최초 Period에 방문한 사람 수\r\n",
        "3.\t롤링리텐션(리턴 리텐션)\r\n",
        "= N일 이후 방문한 사람 수/D0에 방문한 사람 수"
      ]
    },
    {
      "cell_type": "markdown",
      "metadata": {
        "id": "hyKDLa0LQAFt"
      },
      "source": [
        "## 롤링리텐션 산출"
      ]
    },
    {
      "cell_type": "markdown",
      "metadata": {
        "id": "otoam_zDQG6e"
      },
      "source": [
        "    SELECT COUNT(customer_id) AS total_customer,\r\n",
        "           COUNT(CASE WHEN diff_day>=29 THEN 1 END) AS retention_customer,\r\n",
        "           COUNT(CASE WHEN diff_day>=29 THEN 1 END)/ COUNT(customer_id) AS rolling_retention_30\r\n",
        "    FROM(\r\n",
        "    SELECT customer_id, DATE(MIN(invoice_date)) AS first_purchase, \r\n",
        "           DATE(MAX(invoice_date)) AS recent_purchase, \r\n",
        "           DATE_DIFF( DATE(MAX(invoice_date)), DATE(MIN(invoice_date)), day ) AS diff_day\r\n",
        "    FROM `1.sales`\r\n",
        "    GROUP BY customer_id\r\n",
        "    )\r\n"
      ]
    }
  ]
}