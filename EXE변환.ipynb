{
  "nbformat": 4,
  "nbformat_minor": 0,
  "metadata": {
    "colab": {
      "name": "EXE변환.ipynb",
      "provenance": [],
      "collapsed_sections": [],
      "authorship_tag": "ABX9TyO2oSUbrgeqjS3ExLSeu9qn",
      "include_colab_link": true
    },
    "kernelspec": {
      "name": "python3",
      "display_name": "Python 3"
    }
  },
  "cells": [
    {
      "cell_type": "markdown",
      "metadata": {
        "id": "view-in-github",
        "colab_type": "text"
      },
      "source": [
        "<a href=\"https://colab.research.google.com/github/mjkimcs/portfolio/blob/main/EXE%EB%B3%80%ED%99%98.ipynb\" target=\"_parent\"><img src=\"https://colab.research.google.com/assets/colab-badge.svg\" alt=\"Open In Colab\"/></a>"
      ]
    },
    {
      "cell_type": "markdown",
      "metadata": {
        "id": "RUFGpOjvC_gm"
      },
      "source": [
        "#일반  \r\n",
        "맨마지막에 input() 추가  \r\n",
        "pip install pyinstaller  \r\n",
        "pyinstaller --onefile ./텍스트마이닝(2).py  \r\n",
        "프로젝트 폴더 - dist 폴더"
      ]
    },
    {
      "cell_type": "markdown",
      "metadata": {
        "id": "fOGscsPwDghQ"
      },
      "source": [
        "#Selenium 모듈 사용한 경우  \r\n",
        "chromedriver.exe 파일도 exe 파일과 같은 폴더에 있어야 함  "
      ]
    },
    {
      "cell_type": "markdown",
      "metadata": {
        "id": "KyC1uCMGD3kP"
      },
      "source": [
        "#PyQt5 모듈 사용한 경우  \r\n",
        "아래 코드 추가  \r\n",
        "\r\n",
        "```\r\n",
        "import os  \r\n",
        "def resource_path(relative_path):\r\n",
        "  base_path = getattr(sys, '_MEIPASS', os.path.dirname(os.path.abspath(__file__)))  \r\n",
        "  return os.path.join(base_path, relative_path)  \r\n",
        "\r\n",
        "ui_file = resource_path(\"./ig.ui\")\r\n",
        "```\r\n",
        "\r\n",
        "pyinstaller --onefile --noconsole ./공학용계산기.py  \r\n",
        "생성된 공학용계산기.spec 파일 클릭  \r\n",
        "datas=[] 이 부분 아래와 같이 수정  \r\n",
        "\r\n",
        "```\r\n",
        "datas=[(\"./calculator.ui\", \".\")]\r\n",
        "```\r\n",
        "\r\n",
        "pyinstaller --onefile --noconsole ./공학용계산기.spec  \r\n",
        "dist 폴더  \r\n"
      ]
    }
  ]
}