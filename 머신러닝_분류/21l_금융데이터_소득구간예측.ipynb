{
  "nbformat": 4,
  "nbformat_minor": 0,
  "metadata": {
    "kernelspec": {
      "display_name": "Python 3",
      "language": "python",
      "name": "python3"
    },
    "language_info": {
      "codemirror_mode": {
        "name": "ipython",
        "version": 3
      },
      "file_extension": ".py",
      "mimetype": "text/x-python",
      "name": "python",
      "nbconvert_exporter": "python",
      "pygments_lexer": "ipython3",
      "version": "3.6.6"
    },
    "toc": {
      "base_numbering": 1,
      "nav_menu": {},
      "number_sections": true,
      "sideBar": true,
      "skip_h1_title": false,
      "title_cell": "Table of Contents",
      "title_sidebar": "Contents",
      "toc_cell": false,
      "toc_position": {},
      "toc_section_display": true,
      "toc_window_display": false
    },
    "colab": {
      "name": "21l_금융데이터_소득구간예측.ipynb",
      "provenance": [],
      "collapsed_sections": [
        "OW2nqyKl0qI2",
        "7_5l_T2-0qJE",
        "Auf1zbdS0qJS"
      ],
      "include_colab_link": true
    }
  },
  "cells": [
    {
      "cell_type": "markdown",
      "metadata": {
        "id": "view-in-github",
        "colab_type": "text"
      },
      "source": [
        "<a href=\"https://colab.research.google.com/github/mjkimcs/portfolio/blob/main/%EB%A8%B8%EC%8B%A0%EB%9F%AC%EB%8B%9D_%EB%B6%84%EB%A5%98/21l_%EA%B8%88%EC%9C%B5%EB%8D%B0%EC%9D%B4%ED%84%B0_%EC%86%8C%EB%93%9D%EA%B5%AC%EA%B0%84%EC%98%88%EC%B8%A1.ipynb\" target=\"_parent\"><img src=\"https://colab.research.google.com/assets/colab-badge.svg\" alt=\"Open In Colab\"/></a>"
      ]
    },
    {
      "cell_type": "markdown",
      "metadata": {
        "id": "Xn_bPjW10qHz"
      },
      "source": [
        "# Chapter 01. 금융 데이터로 소득구간 예측하기"
      ]
    },
    {
      "cell_type": "markdown",
      "metadata": {
        "id": "9apiyNE20qIk"
      },
      "source": [
        "## Step 0. 금융 데이터 소개 및 예측 모델 개요 \n",
        "고객 소득구간 예측문제는 금융 데이터 분석에서 가장 중요한 문제 중 하나라고 할 수 있습니다.\n",
        "분석에 들어가기 앞서 2가지 사항을 짚어보도록 하겠습니다."
      ]
    },
    {
      "cell_type": "markdown",
      "metadata": {
        "id": "arCV66fJ0qIk"
      },
      "source": [
        "### <b> 금융 데이터의 속성</b>\n",
        "금융 데이터는 주로 아래의 특성을 띄게 됩니다.\n",
        "- 1) <b>이종(heterogeneous) 데이터의 결합</b>: 데이터의 원천·형태·스케일 등이 서로 다른 성격을 가짐\n",
        "- 2) <b>분포의 편향성(skewedness)</b>: 예측값과 정답이 멀리 떨어져 있으면 학습 결과의 편향(bias)이 높을 수 있음\n",
        "- 3) <b>분류 레이블의 불명확성</b>: 소득구간·신용등급·상품종류 등은 비즈니스 로직을 포함하므로 분류가 임의적 → 분석가의 해석력이 중요\n",
        "- 4) <b>변수의 다중공선성(multicollinearity)</b>: 변수간 상호의존이나 상관관계가 강하게 나타날 수 있음\n",
        "- 5) <b>변수의 비선형성</b>: 변수의 영향력이 선형적이지 않을 수 있음, e.g.) 나이가 소득에 미치는 영향은?\n",
        "- 그 외 현실적인 규제·수집·저장 등의 한계 때문에 데이터가 불완전(missing, truncated, censored)할 수 있음"
      ]
    },
    {
      "cell_type": "markdown",
      "metadata": {
        "id": "r9a_JxPo0qIm"
      },
      "source": [
        "### <b>다중분류와 소득구간 예측</b>\n",
        "예측할 클래스(레이블 혹은 레벨이라고도 합니다)가 3개 이상인 경우를 다중분류 문제라고 합니다. 단순하게는 Multiclass classification, 회귀방법론을 쓴다면 Multinomial logistic regression 이라는 명칭으로 불립니다. 클래스간 위계관계(포함관계)는 동등하다고 가정하겠습니다. \n",
        "\n",
        "소득구간 예측은 전형적인 다중분류 문제입니다. 분석에 앞서 다음과 같은 사항을 생각해 봅시다.\n",
        "- 1) <b> 클래스간 구분이 명확하지 않을 경우</b>: 소득구간 구분은 어떻게 지어야 하며, 클래스는 몇 개로 결정해야 할까요? \n",
        "- 2) <b>클래스간 구분에 순서가 있을 경우</b>: 정확하게 말하자면 각 소득구간은 순서가 있는(ordinal) 클래스로 보아야 할 것입니다.\n",
        "- 3) <b>특정 클래스에 해당하는 값이 부족할 경우</b>: 고소득 구간 고객 수와 중소득 구간 고객의 수가 현저히 차이가 날 때 어떻게 해결할까요?\n",
        "\n",
        "다중분류 문제는 이진분류 대비 아래와 같은 추가 고려사항이 있습니다.\n",
        "- 1) <b>모델 구현할 때 주의사항</b>: 변수의 원-핫-인코딩 처리, 목적함수의 결정 등\n",
        "- 2) <b>결과 해석할 때 주의사항</b>: 정확도(Accuracy), F1 스코어, Confusion Matrix 등\n",
        "- 실제 분석에서 자세히 다루도록 하겠습니다."
      ]
    },
    {
      "cell_type": "markdown",
      "metadata": {
        "id": "RlsQsuiB0qIm"
      },
      "source": [
        "### <b>학습목표</b>\n",
        "- 1) 이진분류·다중분류 모델의 이해\n",
        "- 2) 선형 기반·트리 기반 분류모델의 이해\n",
        "- 3) 변수 처리 방법에 대한 이해\n",
        "- 4) 분류모델 결과를 해석하는 방법 습득\n",
        "- 5) 평가결과를 바탕으로 모델을 개선하는 방법 습득"
      ]
    },
    {
      "cell_type": "markdown",
      "metadata": {
        "id": "L0CtisIz0qIo"
      },
      "source": [
        "## Step 1. 예측할 데이터 불러오기"
      ]
    },
    {
      "cell_type": "markdown",
      "metadata": {
        "id": "W3ZWNPF20qIo"
      },
      "source": [
        "### 데이터 소개\n",
        " \n",
        "- 이번 주제는 US Census Bureau에서 수집하고 UCI에서 배포한 US Adult Income 데이터셋에 강사가 자체 제작한 모의 변수를 추가·수정한 데이터를 사용합니다.\n",
        "- 첫번째로 사용할 데이터는 US Adult Income 데이터셋이며 컬럼은 아래와 같습니다.\n",
        " \n",
        " \n",
        "- `age` : 나이\n",
        "- `workclass`: 직업구분\n",
        "- `education`: 교육수준\n",
        "- `education.num`: 교육수준(numerically coded)\n",
        "- `marital.status`: 혼인상태\n",
        "- `occupation` : 직업\n",
        "- `relationship`: 가족관계\n",
        "- `race`: 인종\n",
        "- `sex`: 성별\n",
        "- `capital.gain`: 자본이득\n",
        "- `capital.loss`: 자본손실\n",
        "- `hours.per.week`: 주당 근로시간\n",
        "- `income` : 소득 구분\n",
        " \n",
        "원 데이터 출처: https://archive.ics.uci.edu/ml/datasets/adult"
      ]
    },
    {
      "cell_type": "markdown",
      "metadata": {
        "id": "B2MLQ8Ff0qIp"
      },
      "source": [
        "### 문제 01. 데이터 불러오기"
      ]
    },
    {
      "cell_type": "code",
      "metadata": {
        "id": "yEUiebcx0qIq"
      },
      "source": [
        "import numpy as np  \n",
        "import pandas as pd\n",
        "import matplotlib.pyplot as plt\n",
        "import seaborn as sns \n",
        "%matplotlib inline\n",
        "\n",
        "import warnings\n",
        "warnings.filterwarnings('ignore')"
      ],
      "execution_count": null,
      "outputs": []
    },
    {
      "cell_type": "code",
      "metadata": {
        "id": "DRCsZ6CBEBM5",
        "colab": {
          "base_uri": "https://localhost:8080/",
          "height": 292
        },
        "outputId": "a9163882-0dde-4211-9161-417bbe9bcfba"
      },
      "source": [
        "datapath = 'https://github.com/mchoimis/financialML/raw/main/income/'\n",
        "df = pd.io.parsers.read_csv(datapath + 'income.csv')\n",
        "df.head()"
      ],
      "execution_count": null,
      "outputs": [
        {
          "output_type": "execute_result",
          "data": {
            "text/html": [
              "<div>\n",
              "<style scoped>\n",
              "    .dataframe tbody tr th:only-of-type {\n",
              "        vertical-align: middle;\n",
              "    }\n",
              "\n",
              "    .dataframe tbody tr th {\n",
              "        vertical-align: top;\n",
              "    }\n",
              "\n",
              "    .dataframe thead th {\n",
              "        text-align: right;\n",
              "    }\n",
              "</style>\n",
              "<table border=\"1\" class=\"dataframe\">\n",
              "  <thead>\n",
              "    <tr style=\"text-align: right;\">\n",
              "      <th></th>\n",
              "      <th>age</th>\n",
              "      <th>workclass</th>\n",
              "      <th>fnlwgt</th>\n",
              "      <th>education</th>\n",
              "      <th>education.num</th>\n",
              "      <th>marital.status</th>\n",
              "      <th>occupation</th>\n",
              "      <th>relationship</th>\n",
              "      <th>race</th>\n",
              "      <th>sex</th>\n",
              "      <th>capital.gain</th>\n",
              "      <th>capital.loss</th>\n",
              "      <th>hours.per.week</th>\n",
              "      <th>native.country</th>\n",
              "      <th>income</th>\n",
              "    </tr>\n",
              "  </thead>\n",
              "  <tbody>\n",
              "    <tr>\n",
              "      <th>0</th>\n",
              "      <td>90</td>\n",
              "      <td>?</td>\n",
              "      <td>77053</td>\n",
              "      <td>HS-grad</td>\n",
              "      <td>9</td>\n",
              "      <td>Widowed</td>\n",
              "      <td>?</td>\n",
              "      <td>Not-in-family</td>\n",
              "      <td>White</td>\n",
              "      <td>Female</td>\n",
              "      <td>0</td>\n",
              "      <td>4356</td>\n",
              "      <td>40</td>\n",
              "      <td>United-States</td>\n",
              "      <td>&lt;=50K</td>\n",
              "    </tr>\n",
              "    <tr>\n",
              "      <th>1</th>\n",
              "      <td>82</td>\n",
              "      <td>Private</td>\n",
              "      <td>132870</td>\n",
              "      <td>HS-grad</td>\n",
              "      <td>9</td>\n",
              "      <td>Widowed</td>\n",
              "      <td>Exec-managerial</td>\n",
              "      <td>Not-in-family</td>\n",
              "      <td>White</td>\n",
              "      <td>Female</td>\n",
              "      <td>0</td>\n",
              "      <td>4356</td>\n",
              "      <td>18</td>\n",
              "      <td>United-States</td>\n",
              "      <td>&lt;=50K</td>\n",
              "    </tr>\n",
              "    <tr>\n",
              "      <th>2</th>\n",
              "      <td>66</td>\n",
              "      <td>?</td>\n",
              "      <td>186061</td>\n",
              "      <td>Some-college</td>\n",
              "      <td>10</td>\n",
              "      <td>Widowed</td>\n",
              "      <td>?</td>\n",
              "      <td>Unmarried</td>\n",
              "      <td>Black</td>\n",
              "      <td>Female</td>\n",
              "      <td>0</td>\n",
              "      <td>4356</td>\n",
              "      <td>40</td>\n",
              "      <td>United-States</td>\n",
              "      <td>&lt;=50K</td>\n",
              "    </tr>\n",
              "    <tr>\n",
              "      <th>3</th>\n",
              "      <td>54</td>\n",
              "      <td>Private</td>\n",
              "      <td>140359</td>\n",
              "      <td>7th-8th</td>\n",
              "      <td>4</td>\n",
              "      <td>Divorced</td>\n",
              "      <td>Machine-op-inspct</td>\n",
              "      <td>Unmarried</td>\n",
              "      <td>White</td>\n",
              "      <td>Female</td>\n",
              "      <td>0</td>\n",
              "      <td>3900</td>\n",
              "      <td>40</td>\n",
              "      <td>United-States</td>\n",
              "      <td>&lt;=50K</td>\n",
              "    </tr>\n",
              "    <tr>\n",
              "      <th>4</th>\n",
              "      <td>41</td>\n",
              "      <td>Private</td>\n",
              "      <td>264663</td>\n",
              "      <td>Some-college</td>\n",
              "      <td>10</td>\n",
              "      <td>Separated</td>\n",
              "      <td>Prof-specialty</td>\n",
              "      <td>Own-child</td>\n",
              "      <td>White</td>\n",
              "      <td>Female</td>\n",
              "      <td>0</td>\n",
              "      <td>3900</td>\n",
              "      <td>40</td>\n",
              "      <td>United-States</td>\n",
              "      <td>&lt;=50K</td>\n",
              "    </tr>\n",
              "  </tbody>\n",
              "</table>\n",
              "</div>"
            ],
            "text/plain": [
              "   age workclass  fnlwgt  ... hours.per.week  native.country income\n",
              "0   90         ?   77053  ...             40   United-States  <=50K\n",
              "1   82   Private  132870  ...             18   United-States  <=50K\n",
              "2   66         ?  186061  ...             40   United-States  <=50K\n",
              "3   54   Private  140359  ...             40   United-States  <=50K\n",
              "4   41   Private  264663  ...             40   United-States  <=50K\n",
              "\n",
              "[5 rows x 15 columns]"
            ]
          },
          "metadata": {
            "tags": []
          },
          "execution_count": 2
        }
      ]
    },
    {
      "cell_type": "code",
      "metadata": {
        "colab": {
          "base_uri": "https://localhost:8080/"
        },
        "id": "w27GF5tvHJx_",
        "outputId": "6a5158bb-42d4-4ba6-f09d-542984f75da0"
      },
      "source": [
        "for i in [df]:\n",
        "  print(i)"
      ],
      "execution_count": null,
      "outputs": [
        {
          "output_type": "stream",
          "text": [
            "       age workclass  fnlwgt  ... hours.per.week  native.country income\n",
            "0       90         ?   77053  ...             40   United-States  <=50K\n",
            "1       82   Private  132870  ...             18   United-States  <=50K\n",
            "2       66         ?  186061  ...             40   United-States  <=50K\n",
            "3       54   Private  140359  ...             40   United-States  <=50K\n",
            "4       41   Private  264663  ...             40   United-States  <=50K\n",
            "...    ...       ...     ...  ...            ...             ...    ...\n",
            "32556   22   Private  310152  ...             40   United-States  <=50K\n",
            "32557   27   Private  257302  ...             38   United-States  <=50K\n",
            "32558   40   Private  154374  ...             40   United-States   >50K\n",
            "32559   58   Private  151910  ...             40   United-States  <=50K\n",
            "32560   22   Private  201490  ...             20   United-States  <=50K\n",
            "\n",
            "[32561 rows x 15 columns]\n"
          ],
          "name": "stdout"
        }
      ]
    },
    {
      "cell_type": "code",
      "metadata": {
        "id": "veIfYKRtGGc6"
      },
      "source": [
        "mapping = {\"<=50K\": 1, \">50K\": 0}\n",
        "for i in [df]:\n",
        "    i['income'] = i['income'].map(mapping)"
      ],
      "execution_count": null,
      "outputs": []
    },
    {
      "cell_type": "code",
      "metadata": {
        "colab": {
          "base_uri": "https://localhost:8080/",
          "height": 292
        },
        "id": "d91DSC2XIbaX",
        "outputId": "9f9ada7a-bf2e-49c5-fd4d-a6f8390d75a4"
      },
      "source": [
        "df.head()"
      ],
      "execution_count": null,
      "outputs": [
        {
          "output_type": "execute_result",
          "data": {
            "text/html": [
              "<div>\n",
              "<style scoped>\n",
              "    .dataframe tbody tr th:only-of-type {\n",
              "        vertical-align: middle;\n",
              "    }\n",
              "\n",
              "    .dataframe tbody tr th {\n",
              "        vertical-align: top;\n",
              "    }\n",
              "\n",
              "    .dataframe thead th {\n",
              "        text-align: right;\n",
              "    }\n",
              "</style>\n",
              "<table border=\"1\" class=\"dataframe\">\n",
              "  <thead>\n",
              "    <tr style=\"text-align: right;\">\n",
              "      <th></th>\n",
              "      <th>age</th>\n",
              "      <th>workclass</th>\n",
              "      <th>fnlwgt</th>\n",
              "      <th>education</th>\n",
              "      <th>education.num</th>\n",
              "      <th>marital.status</th>\n",
              "      <th>occupation</th>\n",
              "      <th>relationship</th>\n",
              "      <th>race</th>\n",
              "      <th>sex</th>\n",
              "      <th>capital.gain</th>\n",
              "      <th>capital.loss</th>\n",
              "      <th>hours.per.week</th>\n",
              "      <th>native.country</th>\n",
              "      <th>income</th>\n",
              "    </tr>\n",
              "  </thead>\n",
              "  <tbody>\n",
              "    <tr>\n",
              "      <th>0</th>\n",
              "      <td>90</td>\n",
              "      <td>?</td>\n",
              "      <td>77053</td>\n",
              "      <td>HS-grad</td>\n",
              "      <td>9</td>\n",
              "      <td>Widowed</td>\n",
              "      <td>?</td>\n",
              "      <td>Not-in-family</td>\n",
              "      <td>White</td>\n",
              "      <td>Female</td>\n",
              "      <td>0</td>\n",
              "      <td>4356</td>\n",
              "      <td>40</td>\n",
              "      <td>United-States</td>\n",
              "      <td>1</td>\n",
              "    </tr>\n",
              "    <tr>\n",
              "      <th>1</th>\n",
              "      <td>82</td>\n",
              "      <td>Private</td>\n",
              "      <td>132870</td>\n",
              "      <td>HS-grad</td>\n",
              "      <td>9</td>\n",
              "      <td>Widowed</td>\n",
              "      <td>Exec-managerial</td>\n",
              "      <td>Not-in-family</td>\n",
              "      <td>White</td>\n",
              "      <td>Female</td>\n",
              "      <td>0</td>\n",
              "      <td>4356</td>\n",
              "      <td>18</td>\n",
              "      <td>United-States</td>\n",
              "      <td>1</td>\n",
              "    </tr>\n",
              "    <tr>\n",
              "      <th>2</th>\n",
              "      <td>66</td>\n",
              "      <td>?</td>\n",
              "      <td>186061</td>\n",
              "      <td>Some-college</td>\n",
              "      <td>10</td>\n",
              "      <td>Widowed</td>\n",
              "      <td>?</td>\n",
              "      <td>Unmarried</td>\n",
              "      <td>Black</td>\n",
              "      <td>Female</td>\n",
              "      <td>0</td>\n",
              "      <td>4356</td>\n",
              "      <td>40</td>\n",
              "      <td>United-States</td>\n",
              "      <td>1</td>\n",
              "    </tr>\n",
              "    <tr>\n",
              "      <th>3</th>\n",
              "      <td>54</td>\n",
              "      <td>Private</td>\n",
              "      <td>140359</td>\n",
              "      <td>7th-8th</td>\n",
              "      <td>4</td>\n",
              "      <td>Divorced</td>\n",
              "      <td>Machine-op-inspct</td>\n",
              "      <td>Unmarried</td>\n",
              "      <td>White</td>\n",
              "      <td>Female</td>\n",
              "      <td>0</td>\n",
              "      <td>3900</td>\n",
              "      <td>40</td>\n",
              "      <td>United-States</td>\n",
              "      <td>1</td>\n",
              "    </tr>\n",
              "    <tr>\n",
              "      <th>4</th>\n",
              "      <td>41</td>\n",
              "      <td>Private</td>\n",
              "      <td>264663</td>\n",
              "      <td>Some-college</td>\n",
              "      <td>10</td>\n",
              "      <td>Separated</td>\n",
              "      <td>Prof-specialty</td>\n",
              "      <td>Own-child</td>\n",
              "      <td>White</td>\n",
              "      <td>Female</td>\n",
              "      <td>0</td>\n",
              "      <td>3900</td>\n",
              "      <td>40</td>\n",
              "      <td>United-States</td>\n",
              "      <td>1</td>\n",
              "    </tr>\n",
              "  </tbody>\n",
              "</table>\n",
              "</div>"
            ],
            "text/plain": [
              "   age workclass  fnlwgt  ... hours.per.week  native.country income\n",
              "0   90         ?   77053  ...             40   United-States      1\n",
              "1   82   Private  132870  ...             18   United-States      1\n",
              "2   66         ?  186061  ...             40   United-States      1\n",
              "3   54   Private  140359  ...             40   United-States      1\n",
              "4   41   Private  264663  ...             40   United-States      1\n",
              "\n",
              "[5 rows x 15 columns]"
            ]
          },
          "metadata": {
            "tags": []
          },
          "execution_count": 5
        }
      ]
    },
    {
      "cell_type": "markdown",
      "metadata": {
        "id": "cupV8lpw0qIr"
      },
      "source": [
        "### 문제 02. 데이터 미리보기"
      ]
    },
    {
      "cell_type": "code",
      "metadata": {
        "id": "rrtfD32hD-yz",
        "colab": {
          "base_uri": "https://localhost:8080/"
        },
        "outputId": "43f84257-7cf6-4611-dc76-f335b81f0d09"
      },
      "source": [
        "# 데이터 형태 확인\n",
        "\n",
        "print(df.shape)\n",
        "print(df.columns)"
      ],
      "execution_count": null,
      "outputs": [
        {
          "output_type": "stream",
          "text": [
            "(32561, 15)\n",
            "Index(['age', 'workclass', 'fnlwgt', 'education', 'education.num',\n",
            "       'marital.status', 'occupation', 'relationship', 'race', 'sex',\n",
            "       'capital.gain', 'capital.loss', 'hours.per.week', 'native.country',\n",
            "       'income'],\n",
            "      dtype='object')\n"
          ],
          "name": "stdout"
        }
      ]
    },
    {
      "cell_type": "code",
      "metadata": {
        "colab": {
          "base_uri": "https://localhost:8080/"
        },
        "id": "XhaslRvBdD3F",
        "outputId": "b3c4c19d-1016-4e1c-bab9-88ada971aa25"
      },
      "source": [
        "df.info()"
      ],
      "execution_count": null,
      "outputs": [
        {
          "output_type": "stream",
          "text": [
            "<class 'pandas.core.frame.DataFrame'>\n",
            "RangeIndex: 32561 entries, 0 to 32560\n",
            "Data columns (total 15 columns):\n",
            " #   Column          Non-Null Count  Dtype \n",
            "---  ------          --------------  ----- \n",
            " 0   age             32561 non-null  int64 \n",
            " 1   workclass       32561 non-null  object\n",
            " 2   fnlwgt          32561 non-null  int64 \n",
            " 3   education       32561 non-null  object\n",
            " 4   education.num   32561 non-null  int64 \n",
            " 5   marital.status  32561 non-null  object\n",
            " 6   occupation      32561 non-null  object\n",
            " 7   relationship    32561 non-null  object\n",
            " 8   race            32561 non-null  object\n",
            " 9   sex             32561 non-null  object\n",
            " 10  capital.gain    32561 non-null  int64 \n",
            " 11  capital.loss    32561 non-null  int64 \n",
            " 12  hours.per.week  32561 non-null  int64 \n",
            " 13  native.country  32561 non-null  object\n",
            " 14  income          32561 non-null  int64 \n",
            "dtypes: int64(7), object(8)\n",
            "memory usage: 3.7+ MB\n"
          ],
          "name": "stdout"
        }
      ]
    },
    {
      "cell_type": "markdown",
      "metadata": {
        "id": "YZMNz6Es0qIs"
      },
      "source": [
        "### 문제 03. 데이터 확인하기"
      ]
    },
    {
      "cell_type": "code",
      "metadata": {
        "colab": {
          "base_uri": "https://localhost:8080/",
          "height": 439
        },
        "id": "NK6RNQs25HWv",
        "outputId": "076c774e-878c-4095-a881-554c83a2890c"
      },
      "source": [
        "df==\"?\""
      ],
      "execution_count": null,
      "outputs": [
        {
          "output_type": "execute_result",
          "data": {
            "text/html": [
              "<div>\n",
              "<style scoped>\n",
              "    .dataframe tbody tr th:only-of-type {\n",
              "        vertical-align: middle;\n",
              "    }\n",
              "\n",
              "    .dataframe tbody tr th {\n",
              "        vertical-align: top;\n",
              "    }\n",
              "\n",
              "    .dataframe thead th {\n",
              "        text-align: right;\n",
              "    }\n",
              "</style>\n",
              "<table border=\"1\" class=\"dataframe\">\n",
              "  <thead>\n",
              "    <tr style=\"text-align: right;\">\n",
              "      <th></th>\n",
              "      <th>age</th>\n",
              "      <th>workclass</th>\n",
              "      <th>fnlwgt</th>\n",
              "      <th>education</th>\n",
              "      <th>education.num</th>\n",
              "      <th>marital.status</th>\n",
              "      <th>occupation</th>\n",
              "      <th>relationship</th>\n",
              "      <th>race</th>\n",
              "      <th>sex</th>\n",
              "      <th>capital.gain</th>\n",
              "      <th>capital.loss</th>\n",
              "      <th>hours.per.week</th>\n",
              "      <th>native.country</th>\n",
              "      <th>income</th>\n",
              "    </tr>\n",
              "  </thead>\n",
              "  <tbody>\n",
              "    <tr>\n",
              "      <th>0</th>\n",
              "      <td>False</td>\n",
              "      <td>True</td>\n",
              "      <td>False</td>\n",
              "      <td>False</td>\n",
              "      <td>False</td>\n",
              "      <td>False</td>\n",
              "      <td>True</td>\n",
              "      <td>False</td>\n",
              "      <td>False</td>\n",
              "      <td>False</td>\n",
              "      <td>False</td>\n",
              "      <td>False</td>\n",
              "      <td>False</td>\n",
              "      <td>False</td>\n",
              "      <td>False</td>\n",
              "    </tr>\n",
              "    <tr>\n",
              "      <th>1</th>\n",
              "      <td>False</td>\n",
              "      <td>False</td>\n",
              "      <td>False</td>\n",
              "      <td>False</td>\n",
              "      <td>False</td>\n",
              "      <td>False</td>\n",
              "      <td>False</td>\n",
              "      <td>False</td>\n",
              "      <td>False</td>\n",
              "      <td>False</td>\n",
              "      <td>False</td>\n",
              "      <td>False</td>\n",
              "      <td>False</td>\n",
              "      <td>False</td>\n",
              "      <td>False</td>\n",
              "    </tr>\n",
              "    <tr>\n",
              "      <th>2</th>\n",
              "      <td>False</td>\n",
              "      <td>True</td>\n",
              "      <td>False</td>\n",
              "      <td>False</td>\n",
              "      <td>False</td>\n",
              "      <td>False</td>\n",
              "      <td>True</td>\n",
              "      <td>False</td>\n",
              "      <td>False</td>\n",
              "      <td>False</td>\n",
              "      <td>False</td>\n",
              "      <td>False</td>\n",
              "      <td>False</td>\n",
              "      <td>False</td>\n",
              "      <td>False</td>\n",
              "    </tr>\n",
              "    <tr>\n",
              "      <th>3</th>\n",
              "      <td>False</td>\n",
              "      <td>False</td>\n",
              "      <td>False</td>\n",
              "      <td>False</td>\n",
              "      <td>False</td>\n",
              "      <td>False</td>\n",
              "      <td>False</td>\n",
              "      <td>False</td>\n",
              "      <td>False</td>\n",
              "      <td>False</td>\n",
              "      <td>False</td>\n",
              "      <td>False</td>\n",
              "      <td>False</td>\n",
              "      <td>False</td>\n",
              "      <td>False</td>\n",
              "    </tr>\n",
              "    <tr>\n",
              "      <th>4</th>\n",
              "      <td>False</td>\n",
              "      <td>False</td>\n",
              "      <td>False</td>\n",
              "      <td>False</td>\n",
              "      <td>False</td>\n",
              "      <td>False</td>\n",
              "      <td>False</td>\n",
              "      <td>False</td>\n",
              "      <td>False</td>\n",
              "      <td>False</td>\n",
              "      <td>False</td>\n",
              "      <td>False</td>\n",
              "      <td>False</td>\n",
              "      <td>False</td>\n",
              "      <td>False</td>\n",
              "    </tr>\n",
              "    <tr>\n",
              "      <th>...</th>\n",
              "      <td>...</td>\n",
              "      <td>...</td>\n",
              "      <td>...</td>\n",
              "      <td>...</td>\n",
              "      <td>...</td>\n",
              "      <td>...</td>\n",
              "      <td>...</td>\n",
              "      <td>...</td>\n",
              "      <td>...</td>\n",
              "      <td>...</td>\n",
              "      <td>...</td>\n",
              "      <td>...</td>\n",
              "      <td>...</td>\n",
              "      <td>...</td>\n",
              "      <td>...</td>\n",
              "    </tr>\n",
              "    <tr>\n",
              "      <th>32556</th>\n",
              "      <td>False</td>\n",
              "      <td>False</td>\n",
              "      <td>False</td>\n",
              "      <td>False</td>\n",
              "      <td>False</td>\n",
              "      <td>False</td>\n",
              "      <td>False</td>\n",
              "      <td>False</td>\n",
              "      <td>False</td>\n",
              "      <td>False</td>\n",
              "      <td>False</td>\n",
              "      <td>False</td>\n",
              "      <td>False</td>\n",
              "      <td>False</td>\n",
              "      <td>False</td>\n",
              "    </tr>\n",
              "    <tr>\n",
              "      <th>32557</th>\n",
              "      <td>False</td>\n",
              "      <td>False</td>\n",
              "      <td>False</td>\n",
              "      <td>False</td>\n",
              "      <td>False</td>\n",
              "      <td>False</td>\n",
              "      <td>False</td>\n",
              "      <td>False</td>\n",
              "      <td>False</td>\n",
              "      <td>False</td>\n",
              "      <td>False</td>\n",
              "      <td>False</td>\n",
              "      <td>False</td>\n",
              "      <td>False</td>\n",
              "      <td>False</td>\n",
              "    </tr>\n",
              "    <tr>\n",
              "      <th>32558</th>\n",
              "      <td>False</td>\n",
              "      <td>False</td>\n",
              "      <td>False</td>\n",
              "      <td>False</td>\n",
              "      <td>False</td>\n",
              "      <td>False</td>\n",
              "      <td>False</td>\n",
              "      <td>False</td>\n",
              "      <td>False</td>\n",
              "      <td>False</td>\n",
              "      <td>False</td>\n",
              "      <td>False</td>\n",
              "      <td>False</td>\n",
              "      <td>False</td>\n",
              "      <td>False</td>\n",
              "    </tr>\n",
              "    <tr>\n",
              "      <th>32559</th>\n",
              "      <td>False</td>\n",
              "      <td>False</td>\n",
              "      <td>False</td>\n",
              "      <td>False</td>\n",
              "      <td>False</td>\n",
              "      <td>False</td>\n",
              "      <td>False</td>\n",
              "      <td>False</td>\n",
              "      <td>False</td>\n",
              "      <td>False</td>\n",
              "      <td>False</td>\n",
              "      <td>False</td>\n",
              "      <td>False</td>\n",
              "      <td>False</td>\n",
              "      <td>False</td>\n",
              "    </tr>\n",
              "    <tr>\n",
              "      <th>32560</th>\n",
              "      <td>False</td>\n",
              "      <td>False</td>\n",
              "      <td>False</td>\n",
              "      <td>False</td>\n",
              "      <td>False</td>\n",
              "      <td>False</td>\n",
              "      <td>False</td>\n",
              "      <td>False</td>\n",
              "      <td>False</td>\n",
              "      <td>False</td>\n",
              "      <td>False</td>\n",
              "      <td>False</td>\n",
              "      <td>False</td>\n",
              "      <td>False</td>\n",
              "      <td>False</td>\n",
              "    </tr>\n",
              "  </tbody>\n",
              "</table>\n",
              "<p>32561 rows × 15 columns</p>\n",
              "</div>"
            ],
            "text/plain": [
              "         age  workclass  fnlwgt  ...  hours.per.week  native.country  income\n",
              "0      False       True   False  ...           False           False   False\n",
              "1      False      False   False  ...           False           False   False\n",
              "2      False       True   False  ...           False           False   False\n",
              "3      False      False   False  ...           False           False   False\n",
              "4      False      False   False  ...           False           False   False\n",
              "...      ...        ...     ...  ...             ...             ...     ...\n",
              "32556  False      False   False  ...           False           False   False\n",
              "32557  False      False   False  ...           False           False   False\n",
              "32558  False      False   False  ...           False           False   False\n",
              "32559  False      False   False  ...           False           False   False\n",
              "32560  False      False   False  ...           False           False   False\n",
              "\n",
              "[32561 rows x 15 columns]"
            ]
          },
          "metadata": {
            "tags": []
          },
          "execution_count": 8
        }
      ]
    },
    {
      "cell_type": "code",
      "metadata": {
        "id": "SWLusfet0qIt",
        "colab": {
          "base_uri": "https://localhost:8080/",
          "height": 558
        },
        "outputId": "dbc5412b-c587-4ccb-8335-29a486215630"
      },
      "source": [
        "# 결측치를 NaN으로 바꾸기\n",
        "df[df=='?'] = np.nan\n",
        "df"
      ],
      "execution_count": null,
      "outputs": [
        {
          "output_type": "execute_result",
          "data": {
            "text/html": [
              "<div>\n",
              "<style scoped>\n",
              "    .dataframe tbody tr th:only-of-type {\n",
              "        vertical-align: middle;\n",
              "    }\n",
              "\n",
              "    .dataframe tbody tr th {\n",
              "        vertical-align: top;\n",
              "    }\n",
              "\n",
              "    .dataframe thead th {\n",
              "        text-align: right;\n",
              "    }\n",
              "</style>\n",
              "<table border=\"1\" class=\"dataframe\">\n",
              "  <thead>\n",
              "    <tr style=\"text-align: right;\">\n",
              "      <th></th>\n",
              "      <th>age</th>\n",
              "      <th>workclass</th>\n",
              "      <th>fnlwgt</th>\n",
              "      <th>education</th>\n",
              "      <th>education.num</th>\n",
              "      <th>marital.status</th>\n",
              "      <th>occupation</th>\n",
              "      <th>relationship</th>\n",
              "      <th>race</th>\n",
              "      <th>sex</th>\n",
              "      <th>capital.gain</th>\n",
              "      <th>capital.loss</th>\n",
              "      <th>hours.per.week</th>\n",
              "      <th>native.country</th>\n",
              "      <th>income</th>\n",
              "    </tr>\n",
              "  </thead>\n",
              "  <tbody>\n",
              "    <tr>\n",
              "      <th>0</th>\n",
              "      <td>90</td>\n",
              "      <td>NaN</td>\n",
              "      <td>77053</td>\n",
              "      <td>HS-grad</td>\n",
              "      <td>9</td>\n",
              "      <td>Widowed</td>\n",
              "      <td>NaN</td>\n",
              "      <td>Not-in-family</td>\n",
              "      <td>White</td>\n",
              "      <td>Female</td>\n",
              "      <td>0</td>\n",
              "      <td>4356</td>\n",
              "      <td>40</td>\n",
              "      <td>United-States</td>\n",
              "      <td>1</td>\n",
              "    </tr>\n",
              "    <tr>\n",
              "      <th>1</th>\n",
              "      <td>82</td>\n",
              "      <td>Private</td>\n",
              "      <td>132870</td>\n",
              "      <td>HS-grad</td>\n",
              "      <td>9</td>\n",
              "      <td>Widowed</td>\n",
              "      <td>Exec-managerial</td>\n",
              "      <td>Not-in-family</td>\n",
              "      <td>White</td>\n",
              "      <td>Female</td>\n",
              "      <td>0</td>\n",
              "      <td>4356</td>\n",
              "      <td>18</td>\n",
              "      <td>United-States</td>\n",
              "      <td>1</td>\n",
              "    </tr>\n",
              "    <tr>\n",
              "      <th>2</th>\n",
              "      <td>66</td>\n",
              "      <td>NaN</td>\n",
              "      <td>186061</td>\n",
              "      <td>Some-college</td>\n",
              "      <td>10</td>\n",
              "      <td>Widowed</td>\n",
              "      <td>NaN</td>\n",
              "      <td>Unmarried</td>\n",
              "      <td>Black</td>\n",
              "      <td>Female</td>\n",
              "      <td>0</td>\n",
              "      <td>4356</td>\n",
              "      <td>40</td>\n",
              "      <td>United-States</td>\n",
              "      <td>1</td>\n",
              "    </tr>\n",
              "    <tr>\n",
              "      <th>3</th>\n",
              "      <td>54</td>\n",
              "      <td>Private</td>\n",
              "      <td>140359</td>\n",
              "      <td>7th-8th</td>\n",
              "      <td>4</td>\n",
              "      <td>Divorced</td>\n",
              "      <td>Machine-op-inspct</td>\n",
              "      <td>Unmarried</td>\n",
              "      <td>White</td>\n",
              "      <td>Female</td>\n",
              "      <td>0</td>\n",
              "      <td>3900</td>\n",
              "      <td>40</td>\n",
              "      <td>United-States</td>\n",
              "      <td>1</td>\n",
              "    </tr>\n",
              "    <tr>\n",
              "      <th>4</th>\n",
              "      <td>41</td>\n",
              "      <td>Private</td>\n",
              "      <td>264663</td>\n",
              "      <td>Some-college</td>\n",
              "      <td>10</td>\n",
              "      <td>Separated</td>\n",
              "      <td>Prof-specialty</td>\n",
              "      <td>Own-child</td>\n",
              "      <td>White</td>\n",
              "      <td>Female</td>\n",
              "      <td>0</td>\n",
              "      <td>3900</td>\n",
              "      <td>40</td>\n",
              "      <td>United-States</td>\n",
              "      <td>1</td>\n",
              "    </tr>\n",
              "    <tr>\n",
              "      <th>...</th>\n",
              "      <td>...</td>\n",
              "      <td>...</td>\n",
              "      <td>...</td>\n",
              "      <td>...</td>\n",
              "      <td>...</td>\n",
              "      <td>...</td>\n",
              "      <td>...</td>\n",
              "      <td>...</td>\n",
              "      <td>...</td>\n",
              "      <td>...</td>\n",
              "      <td>...</td>\n",
              "      <td>...</td>\n",
              "      <td>...</td>\n",
              "      <td>...</td>\n",
              "      <td>...</td>\n",
              "    </tr>\n",
              "    <tr>\n",
              "      <th>32556</th>\n",
              "      <td>22</td>\n",
              "      <td>Private</td>\n",
              "      <td>310152</td>\n",
              "      <td>Some-college</td>\n",
              "      <td>10</td>\n",
              "      <td>Never-married</td>\n",
              "      <td>Protective-serv</td>\n",
              "      <td>Not-in-family</td>\n",
              "      <td>White</td>\n",
              "      <td>Male</td>\n",
              "      <td>0</td>\n",
              "      <td>0</td>\n",
              "      <td>40</td>\n",
              "      <td>United-States</td>\n",
              "      <td>1</td>\n",
              "    </tr>\n",
              "    <tr>\n",
              "      <th>32557</th>\n",
              "      <td>27</td>\n",
              "      <td>Private</td>\n",
              "      <td>257302</td>\n",
              "      <td>Assoc-acdm</td>\n",
              "      <td>12</td>\n",
              "      <td>Married-civ-spouse</td>\n",
              "      <td>Tech-support</td>\n",
              "      <td>Wife</td>\n",
              "      <td>White</td>\n",
              "      <td>Female</td>\n",
              "      <td>0</td>\n",
              "      <td>0</td>\n",
              "      <td>38</td>\n",
              "      <td>United-States</td>\n",
              "      <td>1</td>\n",
              "    </tr>\n",
              "    <tr>\n",
              "      <th>32558</th>\n",
              "      <td>40</td>\n",
              "      <td>Private</td>\n",
              "      <td>154374</td>\n",
              "      <td>HS-grad</td>\n",
              "      <td>9</td>\n",
              "      <td>Married-civ-spouse</td>\n",
              "      <td>Machine-op-inspct</td>\n",
              "      <td>Husband</td>\n",
              "      <td>White</td>\n",
              "      <td>Male</td>\n",
              "      <td>0</td>\n",
              "      <td>0</td>\n",
              "      <td>40</td>\n",
              "      <td>United-States</td>\n",
              "      <td>0</td>\n",
              "    </tr>\n",
              "    <tr>\n",
              "      <th>32559</th>\n",
              "      <td>58</td>\n",
              "      <td>Private</td>\n",
              "      <td>151910</td>\n",
              "      <td>HS-grad</td>\n",
              "      <td>9</td>\n",
              "      <td>Widowed</td>\n",
              "      <td>Adm-clerical</td>\n",
              "      <td>Unmarried</td>\n",
              "      <td>White</td>\n",
              "      <td>Female</td>\n",
              "      <td>0</td>\n",
              "      <td>0</td>\n",
              "      <td>40</td>\n",
              "      <td>United-States</td>\n",
              "      <td>1</td>\n",
              "    </tr>\n",
              "    <tr>\n",
              "      <th>32560</th>\n",
              "      <td>22</td>\n",
              "      <td>Private</td>\n",
              "      <td>201490</td>\n",
              "      <td>HS-grad</td>\n",
              "      <td>9</td>\n",
              "      <td>Never-married</td>\n",
              "      <td>Adm-clerical</td>\n",
              "      <td>Own-child</td>\n",
              "      <td>White</td>\n",
              "      <td>Male</td>\n",
              "      <td>0</td>\n",
              "      <td>0</td>\n",
              "      <td>20</td>\n",
              "      <td>United-States</td>\n",
              "      <td>1</td>\n",
              "    </tr>\n",
              "  </tbody>\n",
              "</table>\n",
              "<p>32561 rows × 15 columns</p>\n",
              "</div>"
            ],
            "text/plain": [
              "       age workclass  fnlwgt  ... hours.per.week  native.country income\n",
              "0       90       NaN   77053  ...             40   United-States      1\n",
              "1       82   Private  132870  ...             18   United-States      1\n",
              "2       66       NaN  186061  ...             40   United-States      1\n",
              "3       54   Private  140359  ...             40   United-States      1\n",
              "4       41   Private  264663  ...             40   United-States      1\n",
              "...    ...       ...     ...  ...            ...             ...    ...\n",
              "32556   22   Private  310152  ...             40   United-States      1\n",
              "32557   27   Private  257302  ...             38   United-States      1\n",
              "32558   40   Private  154374  ...             40   United-States      0\n",
              "32559   58   Private  151910  ...             40   United-States      1\n",
              "32560   22   Private  201490  ...             20   United-States      1\n",
              "\n",
              "[32561 rows x 15 columns]"
            ]
          },
          "metadata": {
            "tags": []
          },
          "execution_count": 9
        }
      ]
    },
    {
      "cell_type": "code",
      "metadata": {
        "colab": {
          "base_uri": "https://localhost:8080/"
        },
        "id": "pGMoB5uE41y9",
        "outputId": "ba9cb3b8-bf30-4192-b71c-9b2f5c240ec2"
      },
      "source": [
        "df[\"workclass\"].mode()"
      ],
      "execution_count": null,
      "outputs": [
        {
          "output_type": "execute_result",
          "data": {
            "text/plain": [
              "0    Private\n",
              "dtype: object"
            ]
          },
          "metadata": {
            "tags": []
          },
          "execution_count": 10
        }
      ]
    },
    {
      "cell_type": "code",
      "metadata": {
        "colab": {
          "base_uri": "https://localhost:8080/",
          "height": 35
        },
        "id": "Sh_2_huM4uCE",
        "outputId": "fe23ac31-a086-47a8-f7db-fb651ed7b0c3"
      },
      "source": [
        "df[\"workclass\"].mode()[0]"
      ],
      "execution_count": null,
      "outputs": [
        {
          "output_type": "execute_result",
          "data": {
            "application/vnd.google.colaboratory.intrinsic+json": {
              "type": "string"
            },
            "text/plain": [
              "'Private'"
            ]
          },
          "metadata": {
            "tags": []
          },
          "execution_count": 11
        }
      ]
    },
    {
      "cell_type": "code",
      "metadata": {
        "id": "LqYtcDqX0qIw"
      },
      "source": [
        "# 최빈값으로 결측치 채우기\n",
        "for col in ['workclass', 'occupation', 'native.country']:\n",
        "    # 이어서 작성해주세요\n",
        "    df[col].fillna(df[col].mode()[0], inplace=True)"
      ],
      "execution_count": null,
      "outputs": []
    },
    {
      "cell_type": "code",
      "metadata": {
        "id": "6VTZmMlbPVmd",
        "colab": {
          "base_uri": "https://localhost:8080/",
          "height": 309
        },
        "outputId": "1c1d3037-922d-4993-971f-e808571e2920"
      },
      "source": [
        "# 결과 확인하기\n",
        "\n",
        "df.head()"
      ],
      "execution_count": null,
      "outputs": [
        {
          "output_type": "execute_result",
          "data": {
            "text/html": [
              "<div>\n",
              "<style scoped>\n",
              "    .dataframe tbody tr th:only-of-type {\n",
              "        vertical-align: middle;\n",
              "    }\n",
              "\n",
              "    .dataframe tbody tr th {\n",
              "        vertical-align: top;\n",
              "    }\n",
              "\n",
              "    .dataframe thead th {\n",
              "        text-align: right;\n",
              "    }\n",
              "</style>\n",
              "<table border=\"1\" class=\"dataframe\">\n",
              "  <thead>\n",
              "    <tr style=\"text-align: right;\">\n",
              "      <th></th>\n",
              "      <th>age</th>\n",
              "      <th>workclass</th>\n",
              "      <th>fnlwgt</th>\n",
              "      <th>education</th>\n",
              "      <th>education.num</th>\n",
              "      <th>marital.status</th>\n",
              "      <th>occupation</th>\n",
              "      <th>relationship</th>\n",
              "      <th>race</th>\n",
              "      <th>sex</th>\n",
              "      <th>capital.gain</th>\n",
              "      <th>capital.loss</th>\n",
              "      <th>hours.per.week</th>\n",
              "      <th>native.country</th>\n",
              "      <th>income</th>\n",
              "    </tr>\n",
              "  </thead>\n",
              "  <tbody>\n",
              "    <tr>\n",
              "      <th>0</th>\n",
              "      <td>90</td>\n",
              "      <td>Private</td>\n",
              "      <td>77053</td>\n",
              "      <td>HS-grad</td>\n",
              "      <td>9</td>\n",
              "      <td>Widowed</td>\n",
              "      <td>Prof-specialty</td>\n",
              "      <td>Not-in-family</td>\n",
              "      <td>White</td>\n",
              "      <td>Female</td>\n",
              "      <td>0</td>\n",
              "      <td>4356</td>\n",
              "      <td>40</td>\n",
              "      <td>United-States</td>\n",
              "      <td>1</td>\n",
              "    </tr>\n",
              "    <tr>\n",
              "      <th>1</th>\n",
              "      <td>82</td>\n",
              "      <td>Private</td>\n",
              "      <td>132870</td>\n",
              "      <td>HS-grad</td>\n",
              "      <td>9</td>\n",
              "      <td>Widowed</td>\n",
              "      <td>Exec-managerial</td>\n",
              "      <td>Not-in-family</td>\n",
              "      <td>White</td>\n",
              "      <td>Female</td>\n",
              "      <td>0</td>\n",
              "      <td>4356</td>\n",
              "      <td>18</td>\n",
              "      <td>United-States</td>\n",
              "      <td>1</td>\n",
              "    </tr>\n",
              "    <tr>\n",
              "      <th>2</th>\n",
              "      <td>66</td>\n",
              "      <td>Private</td>\n",
              "      <td>186061</td>\n",
              "      <td>Some-college</td>\n",
              "      <td>10</td>\n",
              "      <td>Widowed</td>\n",
              "      <td>Prof-specialty</td>\n",
              "      <td>Unmarried</td>\n",
              "      <td>Black</td>\n",
              "      <td>Female</td>\n",
              "      <td>0</td>\n",
              "      <td>4356</td>\n",
              "      <td>40</td>\n",
              "      <td>United-States</td>\n",
              "      <td>1</td>\n",
              "    </tr>\n",
              "    <tr>\n",
              "      <th>3</th>\n",
              "      <td>54</td>\n",
              "      <td>Private</td>\n",
              "      <td>140359</td>\n",
              "      <td>7th-8th</td>\n",
              "      <td>4</td>\n",
              "      <td>Divorced</td>\n",
              "      <td>Machine-op-inspct</td>\n",
              "      <td>Unmarried</td>\n",
              "      <td>White</td>\n",
              "      <td>Female</td>\n",
              "      <td>0</td>\n",
              "      <td>3900</td>\n",
              "      <td>40</td>\n",
              "      <td>United-States</td>\n",
              "      <td>1</td>\n",
              "    </tr>\n",
              "    <tr>\n",
              "      <th>4</th>\n",
              "      <td>41</td>\n",
              "      <td>Private</td>\n",
              "      <td>264663</td>\n",
              "      <td>Some-college</td>\n",
              "      <td>10</td>\n",
              "      <td>Separated</td>\n",
              "      <td>Prof-specialty</td>\n",
              "      <td>Own-child</td>\n",
              "      <td>White</td>\n",
              "      <td>Female</td>\n",
              "      <td>0</td>\n",
              "      <td>3900</td>\n",
              "      <td>40</td>\n",
              "      <td>United-States</td>\n",
              "      <td>1</td>\n",
              "    </tr>\n",
              "  </tbody>\n",
              "</table>\n",
              "</div>"
            ],
            "text/plain": [
              "   age workclass  fnlwgt  ... hours.per.week  native.country income\n",
              "0   90   Private   77053  ...             40   United-States      1\n",
              "1   82   Private  132870  ...             18   United-States      1\n",
              "2   66   Private  186061  ...             40   United-States      1\n",
              "3   54   Private  140359  ...             40   United-States      1\n",
              "4   41   Private  264663  ...             40   United-States      1\n",
              "\n",
              "[5 rows x 15 columns]"
            ]
          },
          "metadata": {
            "tags": []
          },
          "execution_count": 13
        }
      ]
    },
    {
      "cell_type": "code",
      "metadata": {
        "colab": {
          "base_uri": "https://localhost:8080/"
        },
        "id": "RUvatciMdvA4",
        "outputId": "a204dd7a-173d-4c46-e6c3-e184690c302e"
      },
      "source": [
        "df.isnull().sum()"
      ],
      "execution_count": null,
      "outputs": [
        {
          "output_type": "execute_result",
          "data": {
            "text/plain": [
              "age               0\n",
              "workclass         0\n",
              "fnlwgt            0\n",
              "education         0\n",
              "education.num     0\n",
              "marital.status    0\n",
              "occupation        0\n",
              "relationship      0\n",
              "race              0\n",
              "sex               0\n",
              "capital.gain      0\n",
              "capital.loss      0\n",
              "hours.per.week    0\n",
              "native.country    0\n",
              "income            0\n",
              "dtype: int64"
            ]
          },
          "metadata": {
            "tags": []
          },
          "execution_count": 14
        }
      ]
    },
    {
      "cell_type": "markdown",
      "metadata": {
        "id": "wB0Eo_-D0qIx"
      },
      "source": [
        "## Step 2. Feature Engineering"
      ]
    },
    {
      "cell_type": "markdown",
      "metadata": {
        "id": "6ria9cma0qIx"
      },
      "source": [
        "### 문제 04. 인풋 피처와 타겟값 만들기"
      ]
    },
    {
      "cell_type": "code",
      "metadata": {
        "id": "sXb93NER0qIy"
      },
      "source": [
        "X =  df.drop(['income', 'education', 'fnlwgt'], axis = 1)\n",
        "y =  df['income']"
      ],
      "execution_count": null,
      "outputs": []
    },
    {
      "cell_type": "code",
      "metadata": {
        "colab": {
          "base_uri": "https://localhost:8080/",
          "height": 309
        },
        "id": "TdmNgC2DgDrw",
        "outputId": "724d8cf6-52b3-40c4-81a6-74664feff934"
      },
      "source": [
        "X.head()"
      ],
      "execution_count": null,
      "outputs": [
        {
          "output_type": "execute_result",
          "data": {
            "text/html": [
              "<div>\n",
              "<style scoped>\n",
              "    .dataframe tbody tr th:only-of-type {\n",
              "        vertical-align: middle;\n",
              "    }\n",
              "\n",
              "    .dataframe tbody tr th {\n",
              "        vertical-align: top;\n",
              "    }\n",
              "\n",
              "    .dataframe thead th {\n",
              "        text-align: right;\n",
              "    }\n",
              "</style>\n",
              "<table border=\"1\" class=\"dataframe\">\n",
              "  <thead>\n",
              "    <tr style=\"text-align: right;\">\n",
              "      <th></th>\n",
              "      <th>age</th>\n",
              "      <th>workclass</th>\n",
              "      <th>education.num</th>\n",
              "      <th>marital.status</th>\n",
              "      <th>occupation</th>\n",
              "      <th>relationship</th>\n",
              "      <th>race</th>\n",
              "      <th>sex</th>\n",
              "      <th>capital.gain</th>\n",
              "      <th>capital.loss</th>\n",
              "      <th>hours.per.week</th>\n",
              "      <th>native.country</th>\n",
              "    </tr>\n",
              "  </thead>\n",
              "  <tbody>\n",
              "    <tr>\n",
              "      <th>0</th>\n",
              "      <td>90</td>\n",
              "      <td>Private</td>\n",
              "      <td>9</td>\n",
              "      <td>Widowed</td>\n",
              "      <td>Prof-specialty</td>\n",
              "      <td>Not-in-family</td>\n",
              "      <td>White</td>\n",
              "      <td>Female</td>\n",
              "      <td>0</td>\n",
              "      <td>4356</td>\n",
              "      <td>40</td>\n",
              "      <td>United-States</td>\n",
              "    </tr>\n",
              "    <tr>\n",
              "      <th>1</th>\n",
              "      <td>82</td>\n",
              "      <td>Private</td>\n",
              "      <td>9</td>\n",
              "      <td>Widowed</td>\n",
              "      <td>Exec-managerial</td>\n",
              "      <td>Not-in-family</td>\n",
              "      <td>White</td>\n",
              "      <td>Female</td>\n",
              "      <td>0</td>\n",
              "      <td>4356</td>\n",
              "      <td>18</td>\n",
              "      <td>United-States</td>\n",
              "    </tr>\n",
              "    <tr>\n",
              "      <th>2</th>\n",
              "      <td>66</td>\n",
              "      <td>Private</td>\n",
              "      <td>10</td>\n",
              "      <td>Widowed</td>\n",
              "      <td>Prof-specialty</td>\n",
              "      <td>Unmarried</td>\n",
              "      <td>Black</td>\n",
              "      <td>Female</td>\n",
              "      <td>0</td>\n",
              "      <td>4356</td>\n",
              "      <td>40</td>\n",
              "      <td>United-States</td>\n",
              "    </tr>\n",
              "    <tr>\n",
              "      <th>3</th>\n",
              "      <td>54</td>\n",
              "      <td>Private</td>\n",
              "      <td>4</td>\n",
              "      <td>Divorced</td>\n",
              "      <td>Machine-op-inspct</td>\n",
              "      <td>Unmarried</td>\n",
              "      <td>White</td>\n",
              "      <td>Female</td>\n",
              "      <td>0</td>\n",
              "      <td>3900</td>\n",
              "      <td>40</td>\n",
              "      <td>United-States</td>\n",
              "    </tr>\n",
              "    <tr>\n",
              "      <th>4</th>\n",
              "      <td>41</td>\n",
              "      <td>Private</td>\n",
              "      <td>10</td>\n",
              "      <td>Separated</td>\n",
              "      <td>Prof-specialty</td>\n",
              "      <td>Own-child</td>\n",
              "      <td>White</td>\n",
              "      <td>Female</td>\n",
              "      <td>0</td>\n",
              "      <td>3900</td>\n",
              "      <td>40</td>\n",
              "      <td>United-States</td>\n",
              "    </tr>\n",
              "  </tbody>\n",
              "</table>\n",
              "</div>"
            ],
            "text/plain": [
              "   age workclass  education.num  ... capital.loss hours.per.week native.country\n",
              "0   90   Private              9  ...         4356             40  United-States\n",
              "1   82   Private              9  ...         4356             18  United-States\n",
              "2   66   Private             10  ...         4356             40  United-States\n",
              "3   54   Private              4  ...         3900             40  United-States\n",
              "4   41   Private             10  ...         3900             40  United-States\n",
              "\n",
              "[5 rows x 12 columns]"
            ]
          },
          "metadata": {
            "tags": []
          },
          "execution_count": 16
        }
      ]
    },
    {
      "cell_type": "code",
      "metadata": {
        "colab": {
          "base_uri": "https://localhost:8080/"
        },
        "id": "sBldW2_ygG9l",
        "outputId": "cc746c03-a2cd-4990-e85b-b8f14aa2736c"
      },
      "source": [
        "y.head()"
      ],
      "execution_count": null,
      "outputs": [
        {
          "output_type": "execute_result",
          "data": {
            "text/plain": [
              "0    1\n",
              "1    1\n",
              "2    1\n",
              "3    1\n",
              "4    1\n",
              "Name: income, dtype: int64"
            ]
          },
          "metadata": {
            "tags": []
          },
          "execution_count": 17
        }
      ]
    },
    {
      "cell_type": "code",
      "metadata": {
        "colab": {
          "base_uri": "https://localhost:8080/"
        },
        "id": "zGr_b8nV7sNQ",
        "outputId": "8925754f-5583-4d2f-ce79-fb693ab423cf"
      },
      "source": [
        "y.value_counts()"
      ],
      "execution_count": null,
      "outputs": [
        {
          "output_type": "execute_result",
          "data": {
            "text/plain": [
              "1    24720\n",
              "0     7841\n",
              "Name: income, dtype: int64"
            ]
          },
          "metadata": {
            "tags": []
          },
          "execution_count": 18
        }
      ]
    },
    {
      "cell_type": "markdown",
      "metadata": {
        "id": "FWMT7H5O0qIz"
      },
      "source": [
        "###  문제 05. 원 데이터를 training set과 test set으로 나누기"
      ]
    },
    {
      "cell_type": "code",
      "metadata": {
        "id": "kBi2dBqr0qIz",
        "colab": {
          "base_uri": "https://localhost:8080/",
          "height": 309
        },
        "outputId": "1ad26b77-1e5f-41e8-ffe6-c73b05f79d2c"
      },
      "source": [
        "from sklearn.model_selection import train_test_split\n",
        "\n",
        "X_train, X_test, y_train, y_test =  train_test_split(X, y, test_size = 0.3, random_state = 0)\n",
        "X_train.head()"
      ],
      "execution_count": null,
      "outputs": [
        {
          "output_type": "execute_result",
          "data": {
            "text/html": [
              "<div>\n",
              "<style scoped>\n",
              "    .dataframe tbody tr th:only-of-type {\n",
              "        vertical-align: middle;\n",
              "    }\n",
              "\n",
              "    .dataframe tbody tr th {\n",
              "        vertical-align: top;\n",
              "    }\n",
              "\n",
              "    .dataframe thead th {\n",
              "        text-align: right;\n",
              "    }\n",
              "</style>\n",
              "<table border=\"1\" class=\"dataframe\">\n",
              "  <thead>\n",
              "    <tr style=\"text-align: right;\">\n",
              "      <th></th>\n",
              "      <th>age</th>\n",
              "      <th>workclass</th>\n",
              "      <th>education.num</th>\n",
              "      <th>marital.status</th>\n",
              "      <th>occupation</th>\n",
              "      <th>relationship</th>\n",
              "      <th>race</th>\n",
              "      <th>sex</th>\n",
              "      <th>capital.gain</th>\n",
              "      <th>capital.loss</th>\n",
              "      <th>hours.per.week</th>\n",
              "      <th>native.country</th>\n",
              "    </tr>\n",
              "  </thead>\n",
              "  <tbody>\n",
              "    <tr>\n",
              "      <th>32098</th>\n",
              "      <td>40</td>\n",
              "      <td>State-gov</td>\n",
              "      <td>13</td>\n",
              "      <td>Married-civ-spouse</td>\n",
              "      <td>Exec-managerial</td>\n",
              "      <td>Wife</td>\n",
              "      <td>White</td>\n",
              "      <td>Female</td>\n",
              "      <td>0</td>\n",
              "      <td>0</td>\n",
              "      <td>20</td>\n",
              "      <td>United-States</td>\n",
              "    </tr>\n",
              "    <tr>\n",
              "      <th>25206</th>\n",
              "      <td>39</td>\n",
              "      <td>Local-gov</td>\n",
              "      <td>9</td>\n",
              "      <td>Married-civ-spouse</td>\n",
              "      <td>Machine-op-inspct</td>\n",
              "      <td>Husband</td>\n",
              "      <td>White</td>\n",
              "      <td>Male</td>\n",
              "      <td>0</td>\n",
              "      <td>0</td>\n",
              "      <td>38</td>\n",
              "      <td>United-States</td>\n",
              "    </tr>\n",
              "    <tr>\n",
              "      <th>23491</th>\n",
              "      <td>42</td>\n",
              "      <td>Private</td>\n",
              "      <td>10</td>\n",
              "      <td>Never-married</td>\n",
              "      <td>Exec-managerial</td>\n",
              "      <td>Not-in-family</td>\n",
              "      <td>White</td>\n",
              "      <td>Female</td>\n",
              "      <td>0</td>\n",
              "      <td>0</td>\n",
              "      <td>40</td>\n",
              "      <td>United-States</td>\n",
              "    </tr>\n",
              "    <tr>\n",
              "      <th>12367</th>\n",
              "      <td>27</td>\n",
              "      <td>Local-gov</td>\n",
              "      <td>9</td>\n",
              "      <td>Never-married</td>\n",
              "      <td>Farming-fishing</td>\n",
              "      <td>Own-child</td>\n",
              "      <td>White</td>\n",
              "      <td>Male</td>\n",
              "      <td>0</td>\n",
              "      <td>0</td>\n",
              "      <td>40</td>\n",
              "      <td>United-States</td>\n",
              "    </tr>\n",
              "    <tr>\n",
              "      <th>7054</th>\n",
              "      <td>38</td>\n",
              "      <td>Federal-gov</td>\n",
              "      <td>14</td>\n",
              "      <td>Married-civ-spouse</td>\n",
              "      <td>Exec-managerial</td>\n",
              "      <td>Husband</td>\n",
              "      <td>White</td>\n",
              "      <td>Male</td>\n",
              "      <td>0</td>\n",
              "      <td>0</td>\n",
              "      <td>40</td>\n",
              "      <td>United-States</td>\n",
              "    </tr>\n",
              "  </tbody>\n",
              "</table>\n",
              "</div>"
            ],
            "text/plain": [
              "       age    workclass  ...  hours.per.week native.country\n",
              "32098   40    State-gov  ...              20  United-States\n",
              "25206   39    Local-gov  ...              38  United-States\n",
              "23491   42      Private  ...              40  United-States\n",
              "12367   27    Local-gov  ...              40  United-States\n",
              "7054    38  Federal-gov  ...              40  United-States\n",
              "\n",
              "[5 rows x 12 columns]"
            ]
          },
          "metadata": {
            "tags": []
          },
          "execution_count": 19
        }
      ]
    },
    {
      "cell_type": "code",
      "metadata": {
        "colab": {
          "base_uri": "https://localhost:8080/",
          "height": 575
        },
        "id": "kycMVnmDgr9G",
        "outputId": "db4adedb-3ed5-43b3-ac44-03503cea96ab"
      },
      "source": [
        "df"
      ],
      "execution_count": null,
      "outputs": [
        {
          "output_type": "execute_result",
          "data": {
            "text/html": [
              "<div>\n",
              "<style scoped>\n",
              "    .dataframe tbody tr th:only-of-type {\n",
              "        vertical-align: middle;\n",
              "    }\n",
              "\n",
              "    .dataframe tbody tr th {\n",
              "        vertical-align: top;\n",
              "    }\n",
              "\n",
              "    .dataframe thead th {\n",
              "        text-align: right;\n",
              "    }\n",
              "</style>\n",
              "<table border=\"1\" class=\"dataframe\">\n",
              "  <thead>\n",
              "    <tr style=\"text-align: right;\">\n",
              "      <th></th>\n",
              "      <th>age</th>\n",
              "      <th>workclass</th>\n",
              "      <th>fnlwgt</th>\n",
              "      <th>education</th>\n",
              "      <th>education.num</th>\n",
              "      <th>marital.status</th>\n",
              "      <th>occupation</th>\n",
              "      <th>relationship</th>\n",
              "      <th>race</th>\n",
              "      <th>sex</th>\n",
              "      <th>capital.gain</th>\n",
              "      <th>capital.loss</th>\n",
              "      <th>hours.per.week</th>\n",
              "      <th>native.country</th>\n",
              "      <th>income</th>\n",
              "    </tr>\n",
              "  </thead>\n",
              "  <tbody>\n",
              "    <tr>\n",
              "      <th>0</th>\n",
              "      <td>90</td>\n",
              "      <td>Private</td>\n",
              "      <td>77053</td>\n",
              "      <td>HS-grad</td>\n",
              "      <td>9</td>\n",
              "      <td>Widowed</td>\n",
              "      <td>Prof-specialty</td>\n",
              "      <td>Not-in-family</td>\n",
              "      <td>White</td>\n",
              "      <td>Female</td>\n",
              "      <td>0</td>\n",
              "      <td>4356</td>\n",
              "      <td>40</td>\n",
              "      <td>United-States</td>\n",
              "      <td>1</td>\n",
              "    </tr>\n",
              "    <tr>\n",
              "      <th>1</th>\n",
              "      <td>82</td>\n",
              "      <td>Private</td>\n",
              "      <td>132870</td>\n",
              "      <td>HS-grad</td>\n",
              "      <td>9</td>\n",
              "      <td>Widowed</td>\n",
              "      <td>Exec-managerial</td>\n",
              "      <td>Not-in-family</td>\n",
              "      <td>White</td>\n",
              "      <td>Female</td>\n",
              "      <td>0</td>\n",
              "      <td>4356</td>\n",
              "      <td>18</td>\n",
              "      <td>United-States</td>\n",
              "      <td>1</td>\n",
              "    </tr>\n",
              "    <tr>\n",
              "      <th>2</th>\n",
              "      <td>66</td>\n",
              "      <td>Private</td>\n",
              "      <td>186061</td>\n",
              "      <td>Some-college</td>\n",
              "      <td>10</td>\n",
              "      <td>Widowed</td>\n",
              "      <td>Prof-specialty</td>\n",
              "      <td>Unmarried</td>\n",
              "      <td>Black</td>\n",
              "      <td>Female</td>\n",
              "      <td>0</td>\n",
              "      <td>4356</td>\n",
              "      <td>40</td>\n",
              "      <td>United-States</td>\n",
              "      <td>1</td>\n",
              "    </tr>\n",
              "    <tr>\n",
              "      <th>3</th>\n",
              "      <td>54</td>\n",
              "      <td>Private</td>\n",
              "      <td>140359</td>\n",
              "      <td>7th-8th</td>\n",
              "      <td>4</td>\n",
              "      <td>Divorced</td>\n",
              "      <td>Machine-op-inspct</td>\n",
              "      <td>Unmarried</td>\n",
              "      <td>White</td>\n",
              "      <td>Female</td>\n",
              "      <td>0</td>\n",
              "      <td>3900</td>\n",
              "      <td>40</td>\n",
              "      <td>United-States</td>\n",
              "      <td>1</td>\n",
              "    </tr>\n",
              "    <tr>\n",
              "      <th>4</th>\n",
              "      <td>41</td>\n",
              "      <td>Private</td>\n",
              "      <td>264663</td>\n",
              "      <td>Some-college</td>\n",
              "      <td>10</td>\n",
              "      <td>Separated</td>\n",
              "      <td>Prof-specialty</td>\n",
              "      <td>Own-child</td>\n",
              "      <td>White</td>\n",
              "      <td>Female</td>\n",
              "      <td>0</td>\n",
              "      <td>3900</td>\n",
              "      <td>40</td>\n",
              "      <td>United-States</td>\n",
              "      <td>1</td>\n",
              "    </tr>\n",
              "    <tr>\n",
              "      <th>...</th>\n",
              "      <td>...</td>\n",
              "      <td>...</td>\n",
              "      <td>...</td>\n",
              "      <td>...</td>\n",
              "      <td>...</td>\n",
              "      <td>...</td>\n",
              "      <td>...</td>\n",
              "      <td>...</td>\n",
              "      <td>...</td>\n",
              "      <td>...</td>\n",
              "      <td>...</td>\n",
              "      <td>...</td>\n",
              "      <td>...</td>\n",
              "      <td>...</td>\n",
              "      <td>...</td>\n",
              "    </tr>\n",
              "    <tr>\n",
              "      <th>32556</th>\n",
              "      <td>22</td>\n",
              "      <td>Private</td>\n",
              "      <td>310152</td>\n",
              "      <td>Some-college</td>\n",
              "      <td>10</td>\n",
              "      <td>Never-married</td>\n",
              "      <td>Protective-serv</td>\n",
              "      <td>Not-in-family</td>\n",
              "      <td>White</td>\n",
              "      <td>Male</td>\n",
              "      <td>0</td>\n",
              "      <td>0</td>\n",
              "      <td>40</td>\n",
              "      <td>United-States</td>\n",
              "      <td>1</td>\n",
              "    </tr>\n",
              "    <tr>\n",
              "      <th>32557</th>\n",
              "      <td>27</td>\n",
              "      <td>Private</td>\n",
              "      <td>257302</td>\n",
              "      <td>Assoc-acdm</td>\n",
              "      <td>12</td>\n",
              "      <td>Married-civ-spouse</td>\n",
              "      <td>Tech-support</td>\n",
              "      <td>Wife</td>\n",
              "      <td>White</td>\n",
              "      <td>Female</td>\n",
              "      <td>0</td>\n",
              "      <td>0</td>\n",
              "      <td>38</td>\n",
              "      <td>United-States</td>\n",
              "      <td>1</td>\n",
              "    </tr>\n",
              "    <tr>\n",
              "      <th>32558</th>\n",
              "      <td>40</td>\n",
              "      <td>Private</td>\n",
              "      <td>154374</td>\n",
              "      <td>HS-grad</td>\n",
              "      <td>9</td>\n",
              "      <td>Married-civ-spouse</td>\n",
              "      <td>Machine-op-inspct</td>\n",
              "      <td>Husband</td>\n",
              "      <td>White</td>\n",
              "      <td>Male</td>\n",
              "      <td>0</td>\n",
              "      <td>0</td>\n",
              "      <td>40</td>\n",
              "      <td>United-States</td>\n",
              "      <td>0</td>\n",
              "    </tr>\n",
              "    <tr>\n",
              "      <th>32559</th>\n",
              "      <td>58</td>\n",
              "      <td>Private</td>\n",
              "      <td>151910</td>\n",
              "      <td>HS-grad</td>\n",
              "      <td>9</td>\n",
              "      <td>Widowed</td>\n",
              "      <td>Adm-clerical</td>\n",
              "      <td>Unmarried</td>\n",
              "      <td>White</td>\n",
              "      <td>Female</td>\n",
              "      <td>0</td>\n",
              "      <td>0</td>\n",
              "      <td>40</td>\n",
              "      <td>United-States</td>\n",
              "      <td>1</td>\n",
              "    </tr>\n",
              "    <tr>\n",
              "      <th>32560</th>\n",
              "      <td>22</td>\n",
              "      <td>Private</td>\n",
              "      <td>201490</td>\n",
              "      <td>HS-grad</td>\n",
              "      <td>9</td>\n",
              "      <td>Never-married</td>\n",
              "      <td>Adm-clerical</td>\n",
              "      <td>Own-child</td>\n",
              "      <td>White</td>\n",
              "      <td>Male</td>\n",
              "      <td>0</td>\n",
              "      <td>0</td>\n",
              "      <td>20</td>\n",
              "      <td>United-States</td>\n",
              "      <td>1</td>\n",
              "    </tr>\n",
              "  </tbody>\n",
              "</table>\n",
              "<p>32561 rows × 15 columns</p>\n",
              "</div>"
            ],
            "text/plain": [
              "       age workclass  fnlwgt  ... hours.per.week  native.country income\n",
              "0       90   Private   77053  ...             40   United-States      1\n",
              "1       82   Private  132870  ...             18   United-States      1\n",
              "2       66   Private  186061  ...             40   United-States      1\n",
              "3       54   Private  140359  ...             40   United-States      1\n",
              "4       41   Private  264663  ...             40   United-States      1\n",
              "...    ...       ...     ...  ...            ...             ...    ...\n",
              "32556   22   Private  310152  ...             40   United-States      1\n",
              "32557   27   Private  257302  ...             38   United-States      1\n",
              "32558   40   Private  154374  ...             40   United-States      0\n",
              "32559   58   Private  151910  ...             40   United-States      1\n",
              "32560   22   Private  201490  ...             20   United-States      1\n",
              "\n",
              "[32561 rows x 15 columns]"
            ]
          },
          "metadata": {
            "tags": []
          },
          "execution_count": 20
        }
      ]
    },
    {
      "cell_type": "code",
      "metadata": {
        "colab": {
          "base_uri": "https://localhost:8080/",
          "height": 419
        },
        "id": "mt7oH8KcgvRV",
        "outputId": "1e03a01f-62d6-459d-b326-564118d24607"
      },
      "source": [
        "temp = df[df[\"income\"]==1][[\"age\",\"income\"]].sort_values(by=\"age\")\n",
        "temp = temp.groupby(\"age\").count()\n",
        "temp[\"cum\"] = temp.cumsum()\n",
        "temp[\"cum_%\"] = temp[\"cum\"]/temp[\"cum\"].tail(1).values[0]\n",
        "temp = temp.reset_index()\n",
        "temp"
      ],
      "execution_count": null,
      "outputs": [
        {
          "output_type": "execute_result",
          "data": {
            "text/html": [
              "<div>\n",
              "<style scoped>\n",
              "    .dataframe tbody tr th:only-of-type {\n",
              "        vertical-align: middle;\n",
              "    }\n",
              "\n",
              "    .dataframe tbody tr th {\n",
              "        vertical-align: top;\n",
              "    }\n",
              "\n",
              "    .dataframe thead th {\n",
              "        text-align: right;\n",
              "    }\n",
              "</style>\n",
              "<table border=\"1\" class=\"dataframe\">\n",
              "  <thead>\n",
              "    <tr style=\"text-align: right;\">\n",
              "      <th></th>\n",
              "      <th>age</th>\n",
              "      <th>income</th>\n",
              "      <th>cum</th>\n",
              "      <th>cum_%</th>\n",
              "    </tr>\n",
              "  </thead>\n",
              "  <tbody>\n",
              "    <tr>\n",
              "      <th>0</th>\n",
              "      <td>17</td>\n",
              "      <td>395</td>\n",
              "      <td>395</td>\n",
              "      <td>0.015979</td>\n",
              "    </tr>\n",
              "    <tr>\n",
              "      <th>1</th>\n",
              "      <td>18</td>\n",
              "      <td>550</td>\n",
              "      <td>945</td>\n",
              "      <td>0.038228</td>\n",
              "    </tr>\n",
              "    <tr>\n",
              "      <th>2</th>\n",
              "      <td>19</td>\n",
              "      <td>710</td>\n",
              "      <td>1655</td>\n",
              "      <td>0.066950</td>\n",
              "    </tr>\n",
              "    <tr>\n",
              "      <th>3</th>\n",
              "      <td>20</td>\n",
              "      <td>753</td>\n",
              "      <td>2408</td>\n",
              "      <td>0.097411</td>\n",
              "    </tr>\n",
              "    <tr>\n",
              "      <th>4</th>\n",
              "      <td>21</td>\n",
              "      <td>717</td>\n",
              "      <td>3125</td>\n",
              "      <td>0.126416</td>\n",
              "    </tr>\n",
              "    <tr>\n",
              "      <th>...</th>\n",
              "      <td>...</td>\n",
              "      <td>...</td>\n",
              "      <td>...</td>\n",
              "      <td>...</td>\n",
              "    </tr>\n",
              "    <tr>\n",
              "      <th>68</th>\n",
              "      <td>85</td>\n",
              "      <td>3</td>\n",
              "      <td>24680</td>\n",
              "      <td>0.998382</td>\n",
              "    </tr>\n",
              "    <tr>\n",
              "      <th>69</th>\n",
              "      <td>86</td>\n",
              "      <td>1</td>\n",
              "      <td>24681</td>\n",
              "      <td>0.998422</td>\n",
              "    </tr>\n",
              "    <tr>\n",
              "      <th>70</th>\n",
              "      <td>87</td>\n",
              "      <td>1</td>\n",
              "      <td>24682</td>\n",
              "      <td>0.998463</td>\n",
              "    </tr>\n",
              "    <tr>\n",
              "      <th>71</th>\n",
              "      <td>88</td>\n",
              "      <td>3</td>\n",
              "      <td>24685</td>\n",
              "      <td>0.998584</td>\n",
              "    </tr>\n",
              "    <tr>\n",
              "      <th>72</th>\n",
              "      <td>90</td>\n",
              "      <td>35</td>\n",
              "      <td>24720</td>\n",
              "      <td>1.000000</td>\n",
              "    </tr>\n",
              "  </tbody>\n",
              "</table>\n",
              "<p>73 rows × 4 columns</p>\n",
              "</div>"
            ],
            "text/plain": [
              "    age  income    cum     cum_%\n",
              "0    17     395    395  0.015979\n",
              "1    18     550    945  0.038228\n",
              "2    19     710   1655  0.066950\n",
              "3    20     753   2408  0.097411\n",
              "4    21     717   3125  0.126416\n",
              "..  ...     ...    ...       ...\n",
              "68   85       3  24680  0.998382\n",
              "69   86       1  24681  0.998422\n",
              "70   87       1  24682  0.998463\n",
              "71   88       3  24685  0.998584\n",
              "72   90      35  24720  1.000000\n",
              "\n",
              "[73 rows x 4 columns]"
            ]
          },
          "metadata": {
            "tags": []
          },
          "execution_count": 21
        }
      ]
    },
    {
      "cell_type": "code",
      "metadata": {
        "colab": {
          "base_uri": "https://localhost:8080/",
          "height": 419
        },
        "id": "X2sb7-iUpY9J",
        "outputId": "ce340005-7c8e-40cc-86d2-c505c8f50d47"
      },
      "source": [
        "temp2 = df[df[\"income\"]==0][[\"age\",\"income\"]].sort_values(by=\"age\")\n",
        "temp2 = temp2.groupby(\"age\").count()\n",
        "temp2[\"cum\"] = temp2.cumsum()\n",
        "temp2[\"cum_%\"] = temp2[\"cum\"]/temp2[\"cum\"].tail(1).values[0]\n",
        "temp2 = temp2.reset_index()\n",
        "temp2"
      ],
      "execution_count": null,
      "outputs": [
        {
          "output_type": "execute_result",
          "data": {
            "text/html": [
              "<div>\n",
              "<style scoped>\n",
              "    .dataframe tbody tr th:only-of-type {\n",
              "        vertical-align: middle;\n",
              "    }\n",
              "\n",
              "    .dataframe tbody tr th {\n",
              "        vertical-align: top;\n",
              "    }\n",
              "\n",
              "    .dataframe thead th {\n",
              "        text-align: right;\n",
              "    }\n",
              "</style>\n",
              "<table border=\"1\" class=\"dataframe\">\n",
              "  <thead>\n",
              "    <tr style=\"text-align: right;\">\n",
              "      <th></th>\n",
              "      <th>age</th>\n",
              "      <th>income</th>\n",
              "      <th>cum</th>\n",
              "      <th>cum_%</th>\n",
              "    </tr>\n",
              "  </thead>\n",
              "  <tbody>\n",
              "    <tr>\n",
              "      <th>0</th>\n",
              "      <td>19</td>\n",
              "      <td>2</td>\n",
              "      <td>2</td>\n",
              "      <td>0.000255</td>\n",
              "    </tr>\n",
              "    <tr>\n",
              "      <th>1</th>\n",
              "      <td>21</td>\n",
              "      <td>3</td>\n",
              "      <td>5</td>\n",
              "      <td>0.000638</td>\n",
              "    </tr>\n",
              "    <tr>\n",
              "      <th>2</th>\n",
              "      <td>22</td>\n",
              "      <td>13</td>\n",
              "      <td>18</td>\n",
              "      <td>0.002296</td>\n",
              "    </tr>\n",
              "    <tr>\n",
              "      <th>3</th>\n",
              "      <td>23</td>\n",
              "      <td>12</td>\n",
              "      <td>30</td>\n",
              "      <td>0.003826</td>\n",
              "    </tr>\n",
              "    <tr>\n",
              "      <th>4</th>\n",
              "      <td>24</td>\n",
              "      <td>31</td>\n",
              "      <td>61</td>\n",
              "      <td>0.007780</td>\n",
              "    </tr>\n",
              "    <tr>\n",
              "      <th>...</th>\n",
              "      <td>...</td>\n",
              "      <td>...</td>\n",
              "      <td>...</td>\n",
              "      <td>...</td>\n",
              "    </tr>\n",
              "    <tr>\n",
              "      <th>60</th>\n",
              "      <td>80</td>\n",
              "      <td>2</td>\n",
              "      <td>7827</td>\n",
              "      <td>0.998215</td>\n",
              "    </tr>\n",
              "    <tr>\n",
              "      <th>61</th>\n",
              "      <td>81</td>\n",
              "      <td>3</td>\n",
              "      <td>7830</td>\n",
              "      <td>0.998597</td>\n",
              "    </tr>\n",
              "    <tr>\n",
              "      <th>62</th>\n",
              "      <td>83</td>\n",
              "      <td>2</td>\n",
              "      <td>7832</td>\n",
              "      <td>0.998852</td>\n",
              "    </tr>\n",
              "    <tr>\n",
              "      <th>63</th>\n",
              "      <td>84</td>\n",
              "      <td>1</td>\n",
              "      <td>7833</td>\n",
              "      <td>0.998980</td>\n",
              "    </tr>\n",
              "    <tr>\n",
              "      <th>64</th>\n",
              "      <td>90</td>\n",
              "      <td>8</td>\n",
              "      <td>7841</td>\n",
              "      <td>1.000000</td>\n",
              "    </tr>\n",
              "  </tbody>\n",
              "</table>\n",
              "<p>65 rows × 4 columns</p>\n",
              "</div>"
            ],
            "text/plain": [
              "    age  income   cum     cum_%\n",
              "0    19       2     2  0.000255\n",
              "1    21       3     5  0.000638\n",
              "2    22      13    18  0.002296\n",
              "3    23      12    30  0.003826\n",
              "4    24      31    61  0.007780\n",
              "..  ...     ...   ...       ...\n",
              "60   80       2  7827  0.998215\n",
              "61   81       3  7830  0.998597\n",
              "62   83       2  7832  0.998852\n",
              "63   84       1  7833  0.998980\n",
              "64   90       8  7841  1.000000\n",
              "\n",
              "[65 rows x 4 columns]"
            ]
          },
          "metadata": {
            "tags": []
          },
          "execution_count": 22
        }
      ]
    },
    {
      "cell_type": "code",
      "metadata": {
        "colab": {
          "base_uri": "https://localhost:8080/",
          "height": 281
        },
        "id": "2uqppAN5iFVs",
        "outputId": "ee2a9c02-5f45-49a6-e3cc-c61d6a6aa500"
      },
      "source": [
        "import matplotlib.pyplot as plt\n",
        "plt.plot(temp[\"age\"], temp[\"cum_%\"], color=\"b\", label=\"good\") # 우량누적비\n",
        "plt.plot(temp2[\"age\"], temp2[\"cum_%\"], color=\"r\", label=\"bad\") # 불량누적비\n",
        "plt.title('KS Statistic', fontsize=12) \n",
        "# plt.xlabel('bin')\n",
        "plt.ylabel('Cumulative Proportion')\n",
        "plt.legend(fontsize=8, loc='best')\n",
        "plt.show()"
      ],
      "execution_count": null,
      "outputs": [
        {
          "output_type": "display_data",
          "data": {
            "image/png": "[encoded data removed]",
            "text/plain": [
              "<Figure size 432x288 with 1 Axes>"
            ]
          },
          "metadata": {
            "tags": [],
            "needs_background": "light"
          }
        }
      ]
    },
    {
      "cell_type": "code",
      "metadata": {
        "colab": {
          "base_uri": "https://localhost:8080/",
          "height": 419
        },
        "id": "Q2RaY3QzrNOz",
        "outputId": "5ce5f23a-a6a2-48a7-bf2e-8107a49f259a"
      },
      "source": [
        "temp_df = pd.merge(temp, temp2, how=\"right\", on=\"age\")\n",
        "temp_df[\"ks\"] = temp_df[\"cum_%_x\"]-temp_df[\"cum_%_y\"]\n",
        "temp_df"
      ],
      "execution_count": null,
      "outputs": [
        {
          "output_type": "execute_result",
          "data": {
            "text/html": [
              "<div>\n",
              "<style scoped>\n",
              "    .dataframe tbody tr th:only-of-type {\n",
              "        vertical-align: middle;\n",
              "    }\n",
              "\n",
              "    .dataframe tbody tr th {\n",
              "        vertical-align: top;\n",
              "    }\n",
              "\n",
              "    .dataframe thead th {\n",
              "        text-align: right;\n",
              "    }\n",
              "</style>\n",
              "<table border=\"1\" class=\"dataframe\">\n",
              "  <thead>\n",
              "    <tr style=\"text-align: right;\">\n",
              "      <th></th>\n",
              "      <th>age</th>\n",
              "      <th>income_x</th>\n",
              "      <th>cum_x</th>\n",
              "      <th>cum_%_x</th>\n",
              "      <th>income_y</th>\n",
              "      <th>cum_y</th>\n",
              "      <th>cum_%_y</th>\n",
              "      <th>ks</th>\n",
              "    </tr>\n",
              "  </thead>\n",
              "  <tbody>\n",
              "    <tr>\n",
              "      <th>0</th>\n",
              "      <td>19</td>\n",
              "      <td>710</td>\n",
              "      <td>1655</td>\n",
              "      <td>0.066950</td>\n",
              "      <td>2</td>\n",
              "      <td>2</td>\n",
              "      <td>0.000255</td>\n",
              "      <td>0.066695</td>\n",
              "    </tr>\n",
              "    <tr>\n",
              "      <th>1</th>\n",
              "      <td>21</td>\n",
              "      <td>717</td>\n",
              "      <td>3125</td>\n",
              "      <td>0.126416</td>\n",
              "      <td>3</td>\n",
              "      <td>5</td>\n",
              "      <td>0.000638</td>\n",
              "      <td>0.125778</td>\n",
              "    </tr>\n",
              "    <tr>\n",
              "      <th>2</th>\n",
              "      <td>22</td>\n",
              "      <td>752</td>\n",
              "      <td>3877</td>\n",
              "      <td>0.156837</td>\n",
              "      <td>13</td>\n",
              "      <td>18</td>\n",
              "      <td>0.002296</td>\n",
              "      <td>0.154541</td>\n",
              "    </tr>\n",
              "    <tr>\n",
              "      <th>3</th>\n",
              "      <td>23</td>\n",
              "      <td>865</td>\n",
              "      <td>4742</td>\n",
              "      <td>0.191828</td>\n",
              "      <td>12</td>\n",
              "      <td>30</td>\n",
              "      <td>0.003826</td>\n",
              "      <td>0.188002</td>\n",
              "    </tr>\n",
              "    <tr>\n",
              "      <th>4</th>\n",
              "      <td>24</td>\n",
              "      <td>767</td>\n",
              "      <td>5509</td>\n",
              "      <td>0.222856</td>\n",
              "      <td>31</td>\n",
              "      <td>61</td>\n",
              "      <td>0.007780</td>\n",
              "      <td>0.215076</td>\n",
              "    </tr>\n",
              "    <tr>\n",
              "      <th>...</th>\n",
              "      <td>...</td>\n",
              "      <td>...</td>\n",
              "      <td>...</td>\n",
              "      <td>...</td>\n",
              "      <td>...</td>\n",
              "      <td>...</td>\n",
              "      <td>...</td>\n",
              "      <td>...</td>\n",
              "    </tr>\n",
              "    <tr>\n",
              "      <th>60</th>\n",
              "      <td>80</td>\n",
              "      <td>20</td>\n",
              "      <td>24635</td>\n",
              "      <td>0.996561</td>\n",
              "      <td>2</td>\n",
              "      <td>7827</td>\n",
              "      <td>0.998215</td>\n",
              "      <td>-0.001653</td>\n",
              "    </tr>\n",
              "    <tr>\n",
              "      <th>61</th>\n",
              "      <td>81</td>\n",
              "      <td>17</td>\n",
              "      <td>24652</td>\n",
              "      <td>0.997249</td>\n",
              "      <td>3</td>\n",
              "      <td>7830</td>\n",
              "      <td>0.998597</td>\n",
              "      <td>-0.001348</td>\n",
              "    </tr>\n",
              "    <tr>\n",
              "      <th>62</th>\n",
              "      <td>83</td>\n",
              "      <td>4</td>\n",
              "      <td>24668</td>\n",
              "      <td>0.997896</td>\n",
              "      <td>2</td>\n",
              "      <td>7832</td>\n",
              "      <td>0.998852</td>\n",
              "      <td>-0.000956</td>\n",
              "    </tr>\n",
              "    <tr>\n",
              "      <th>63</th>\n",
              "      <td>84</td>\n",
              "      <td>9</td>\n",
              "      <td>24677</td>\n",
              "      <td>0.998261</td>\n",
              "      <td>1</td>\n",
              "      <td>7833</td>\n",
              "      <td>0.998980</td>\n",
              "      <td>-0.000719</td>\n",
              "    </tr>\n",
              "    <tr>\n",
              "      <th>64</th>\n",
              "      <td>90</td>\n",
              "      <td>35</td>\n",
              "      <td>24720</td>\n",
              "      <td>1.000000</td>\n",
              "      <td>8</td>\n",
              "      <td>7841</td>\n",
              "      <td>1.000000</td>\n",
              "      <td>0.000000</td>\n",
              "    </tr>\n",
              "  </tbody>\n",
              "</table>\n",
              "<p>65 rows × 8 columns</p>\n",
              "</div>"
            ],
            "text/plain": [
              "    age  income_x  cum_x   cum_%_x  income_y  cum_y   cum_%_y        ks\n",
              "0    19       710   1655  0.066950         2      2  0.000255  0.066695\n",
              "1    21       717   3125  0.126416         3      5  0.000638  0.125778\n",
              "2    22       752   3877  0.156837        13     18  0.002296  0.154541\n",
              "3    23       865   4742  0.191828        12     30  0.003826  0.188002\n",
              "4    24       767   5509  0.222856        31     61  0.007780  0.215076\n",
              "..  ...       ...    ...       ...       ...    ...       ...       ...\n",
              "60   80        20  24635  0.996561         2   7827  0.998215 -0.001653\n",
              "61   81        17  24652  0.997249         3   7830  0.998597 -0.001348\n",
              "62   83         4  24668  0.997896         2   7832  0.998852 -0.000956\n",
              "63   84         9  24677  0.998261         1   7833  0.998980 -0.000719\n",
              "64   90        35  24720  1.000000         8   7841  1.000000  0.000000\n",
              "\n",
              "[65 rows x 8 columns]"
            ]
          },
          "metadata": {
            "tags": []
          },
          "execution_count": 24
        }
      ]
    },
    {
      "cell_type": "code",
      "metadata": {
        "colab": {
          "base_uri": "https://localhost:8080/"
        },
        "id": "Kj9-liLesa60",
        "outputId": "a836b8cc-5881-4ff4-dc84-4a322870959d"
      },
      "source": [
        "max(temp_df[\"ks\"])"
      ],
      "execution_count": null,
      "outputs": [
        {
          "output_type": "execute_result",
          "data": {
            "text/plain": [
              "0.3233389733411093"
            ]
          },
          "metadata": {
            "tags": []
          },
          "execution_count": 25
        }
      ]
    },
    {
      "cell_type": "code",
      "metadata": {
        "colab": {
          "base_uri": "https://localhost:8080/",
          "height": 80
        },
        "id": "KqnsXthwssZI",
        "outputId": "28ba930e-4ccc-4919-a1ad-98560b8d0fe4"
      },
      "source": [
        "temp_df.loc[temp_df['ks']==0.3233389733411093]"
      ],
      "execution_count": null,
      "outputs": [
        {
          "output_type": "execute_result",
          "data": {
            "text/html": [
              "<div>\n",
              "<style scoped>\n",
              "    .dataframe tbody tr th:only-of-type {\n",
              "        vertical-align: middle;\n",
              "    }\n",
              "\n",
              "    .dataframe tbody tr th {\n",
              "        vertical-align: top;\n",
              "    }\n",
              "\n",
              "    .dataframe thead th {\n",
              "        text-align: right;\n",
              "    }\n",
              "</style>\n",
              "<table border=\"1\" class=\"dataframe\">\n",
              "  <thead>\n",
              "    <tr style=\"text-align: right;\">\n",
              "      <th></th>\n",
              "      <th>age</th>\n",
              "      <th>income_x</th>\n",
              "      <th>cum_x</th>\n",
              "      <th>cum_%_x</th>\n",
              "      <th>income_y</th>\n",
              "      <th>cum_y</th>\n",
              "      <th>cum_%_y</th>\n",
              "      <th>ks</th>\n",
              "    </tr>\n",
              "  </thead>\n",
              "  <tbody>\n",
              "    <tr>\n",
              "      <th>13</th>\n",
              "      <td>33</td>\n",
              "      <td>684</td>\n",
              "      <td>11918</td>\n",
              "      <td>0.48212</td>\n",
              "      <td>191</td>\n",
              "      <td>1245</td>\n",
              "      <td>0.158781</td>\n",
              "      <td>0.323339</td>\n",
              "    </tr>\n",
              "  </tbody>\n",
              "</table>\n",
              "</div>"
            ],
            "text/plain": [
              "    age  income_x  cum_x  cum_%_x  income_y  cum_y   cum_%_y        ks\n",
              "13   33       684  11918  0.48212       191   1245  0.158781  0.323339"
            ]
          },
          "metadata": {
            "tags": []
          },
          "execution_count": 26
        }
      ]
    },
    {
      "cell_type": "markdown",
      "metadata": {
        "id": "GkBEQj9G0qI0"
      },
      "source": [
        "### 문제 06. 범주변수 처리하기 "
      ]
    },
    {
      "cell_type": "code",
      "metadata": {
        "id": "HcmHjiQ10qI0"
      },
      "source": [
        "# 범주형데이터를 숫자로 라벨링\n",
        "from sklearn import preprocessing\n",
        "\n",
        "categorical = ['workclass', 'marital.status', 'occupation', 'relationship', 'race', 'sex', 'native.country']\n",
        "for i in categorical:\n",
        "        le =  preprocessing.LabelEncoder()\n",
        "        X_train[i] = le.fit_transform(X_train[i]) \n",
        "        X_test[i] = le.transform(X_test[i]) "
      ],
      "execution_count": null,
      "outputs": []
    },
    {
      "cell_type": "markdown",
      "metadata": {
        "id": "AiAe1P2R0qI0"
      },
      "source": [
        "### 문제 07. 범주변수 처리 결과 확인하기"
      ]
    },
    {
      "cell_type": "code",
      "metadata": {
        "id": "5Qz-n54aEDfj",
        "colab": {
          "base_uri": "https://localhost:8080/",
          "height": 142
        },
        "outputId": "9a81aec4-1c51-42c2-e1bf-bf4ed53b9032"
      },
      "source": [
        "# 변환된 범주변수 컬럼 확인하기(X_train)\n",
        "X_train[categorical].head(3)"
      ],
      "execution_count": null,
      "outputs": [
        {
          "output_type": "execute_result",
          "data": {
            "text/html": [
              "<div>\n",
              "<style scoped>\n",
              "    .dataframe tbody tr th:only-of-type {\n",
              "        vertical-align: middle;\n",
              "    }\n",
              "\n",
              "    .dataframe tbody tr th {\n",
              "        vertical-align: top;\n",
              "    }\n",
              "\n",
              "    .dataframe thead th {\n",
              "        text-align: right;\n",
              "    }\n",
              "</style>\n",
              "<table border=\"1\" class=\"dataframe\">\n",
              "  <thead>\n",
              "    <tr style=\"text-align: right;\">\n",
              "      <th></th>\n",
              "      <th>workclass</th>\n",
              "      <th>marital.status</th>\n",
              "      <th>occupation</th>\n",
              "      <th>relationship</th>\n",
              "      <th>race</th>\n",
              "      <th>sex</th>\n",
              "      <th>native.country</th>\n",
              "    </tr>\n",
              "  </thead>\n",
              "  <tbody>\n",
              "    <tr>\n",
              "      <th>32098</th>\n",
              "      <td>6</td>\n",
              "      <td>2</td>\n",
              "      <td>3</td>\n",
              "      <td>5</td>\n",
              "      <td>4</td>\n",
              "      <td>0</td>\n",
              "      <td>38</td>\n",
              "    </tr>\n",
              "    <tr>\n",
              "      <th>25206</th>\n",
              "      <td>1</td>\n",
              "      <td>2</td>\n",
              "      <td>6</td>\n",
              "      <td>0</td>\n",
              "      <td>4</td>\n",
              "      <td>1</td>\n",
              "      <td>38</td>\n",
              "    </tr>\n",
              "    <tr>\n",
              "      <th>23491</th>\n",
              "      <td>3</td>\n",
              "      <td>4</td>\n",
              "      <td>3</td>\n",
              "      <td>1</td>\n",
              "      <td>4</td>\n",
              "      <td>0</td>\n",
              "      <td>38</td>\n",
              "    </tr>\n",
              "  </tbody>\n",
              "</table>\n",
              "</div>"
            ],
            "text/plain": [
              "       workclass  marital.status  occupation  ...  race  sex  native.country\n",
              "32098          6               2           3  ...     4    0              38\n",
              "25206          1               2           6  ...     4    1              38\n",
              "23491          3               4           3  ...     4    0              38\n",
              "\n",
              "[3 rows x 7 columns]"
            ]
          },
          "metadata": {
            "tags": []
          },
          "execution_count": 28
        }
      ]
    },
    {
      "cell_type": "code",
      "metadata": {
        "colab": {
          "base_uri": "https://localhost:8080/"
        },
        "id": "26L96knrHpke",
        "outputId": "f6aab18a-7e86-4b69-8712-a1a7d1d3f184"
      },
      "source": [
        "X_train[categorical].nunique()"
      ],
      "execution_count": null,
      "outputs": [
        {
          "output_type": "execute_result",
          "data": {
            "text/plain": [
              "workclass          8\n",
              "marital.status     7\n",
              "occupation        14\n",
              "relationship       6\n",
              "race               5\n",
              "sex                2\n",
              "native.country    41\n",
              "dtype: int64"
            ]
          },
          "metadata": {
            "tags": []
          },
          "execution_count": 29
        }
      ]
    },
    {
      "cell_type": "code",
      "metadata": {
        "id": "gILVPXdhEFys",
        "colab": {
          "base_uri": "https://localhost:8080/",
          "height": 142
        },
        "outputId": "392b08cd-56c8-456a-d220-01d7cae301bc"
      },
      "source": [
        "# 변환된 범주변수 컬럼 확인하기(X_test)\n",
        "X_test[categorical].head(3)"
      ],
      "execution_count": null,
      "outputs": [
        {
          "output_type": "execute_result",
          "data": {
            "text/html": [
              "<div>\n",
              "<style scoped>\n",
              "    .dataframe tbody tr th:only-of-type {\n",
              "        vertical-align: middle;\n",
              "    }\n",
              "\n",
              "    .dataframe tbody tr th {\n",
              "        vertical-align: top;\n",
              "    }\n",
              "\n",
              "    .dataframe thead th {\n",
              "        text-align: right;\n",
              "    }\n",
              "</style>\n",
              "<table border=\"1\" class=\"dataframe\">\n",
              "  <thead>\n",
              "    <tr style=\"text-align: right;\">\n",
              "      <th></th>\n",
              "      <th>workclass</th>\n",
              "      <th>marital.status</th>\n",
              "      <th>occupation</th>\n",
              "      <th>relationship</th>\n",
              "      <th>race</th>\n",
              "      <th>sex</th>\n",
              "      <th>native.country</th>\n",
              "    </tr>\n",
              "  </thead>\n",
              "  <tbody>\n",
              "    <tr>\n",
              "      <th>22278</th>\n",
              "      <td>3</td>\n",
              "      <td>6</td>\n",
              "      <td>11</td>\n",
              "      <td>4</td>\n",
              "      <td>4</td>\n",
              "      <td>0</td>\n",
              "      <td>38</td>\n",
              "    </tr>\n",
              "    <tr>\n",
              "      <th>8950</th>\n",
              "      <td>3</td>\n",
              "      <td>4</td>\n",
              "      <td>5</td>\n",
              "      <td>3</td>\n",
              "      <td>4</td>\n",
              "      <td>0</td>\n",
              "      <td>38</td>\n",
              "    </tr>\n",
              "    <tr>\n",
              "      <th>7838</th>\n",
              "      <td>3</td>\n",
              "      <td>4</td>\n",
              "      <td>7</td>\n",
              "      <td>1</td>\n",
              "      <td>1</td>\n",
              "      <td>0</td>\n",
              "      <td>39</td>\n",
              "    </tr>\n",
              "  </tbody>\n",
              "</table>\n",
              "</div>"
            ],
            "text/plain": [
              "       workclass  marital.status  occupation  ...  race  sex  native.country\n",
              "22278          3               6          11  ...     4    0              38\n",
              "8950           3               4           5  ...     4    0              38\n",
              "7838           3               4           7  ...     1    0              39\n",
              "\n",
              "[3 rows x 7 columns]"
            ]
          },
          "metadata": {
            "tags": []
          },
          "execution_count": 30
        }
      ]
    },
    {
      "cell_type": "markdown",
      "metadata": {
        "id": "OW2nqyKl0qI2"
      },
      "source": [
        "### 참고: 범주변수의 처리\n",
        "범주변수의 처리 방법은 크게 2가지로 나눌 수 있습니다.\n",
        "\n",
        "- 클래스를 숫자로 변환\n",
        "- 원-핫-인코딩(더미코딩) : 지양\n",
        "\n",
        "금융 데이터의 경우 범주변수가 대부분을 차지하여, 원-핫-인코딩을 실시할 경우 전체 데이터셋의 다수가 0의 값을 가지게 되기도 합니다. 차원이 높은 데이터셋에 의미 없는 값이 많은 경우를 '피처가 sparse하다'고 하며, 학습효율이 높지 않을 수도 있으니 Feture Engineering 과정에서 유의해야 합니다."
      ]
    },
    {
      "cell_type": "code",
      "metadata": {
        "colab": {
          "base_uri": "https://localhost:8080/",
          "height": 439
        },
        "id": "GW4MdGzai3d2",
        "outputId": "2f56cd5f-477c-4201-a9af-62d2b385ac60"
      },
      "source": [
        "from sklearn.preprocessing import OneHotEncoder\n",
        "enc = OneHotEncoder(handle_unknown=\"ignore\")\n",
        "\n",
        "tmp = enc.fit_transform(X_train[categorical]).toarray()\n",
        "pd.DataFrame(tmp)"
      ],
      "execution_count": null,
      "outputs": [
        {
          "output_type": "execute_result",
          "data": {
            "text/html": [
              "<div>\n",
              "<style scoped>\n",
              "    .dataframe tbody tr th:only-of-type {\n",
              "        vertical-align: middle;\n",
              "    }\n",
              "\n",
              "    .dataframe tbody tr th {\n",
              "        vertical-align: top;\n",
              "    }\n",
              "\n",
              "    .dataframe thead th {\n",
              "        text-align: right;\n",
              "    }\n",
              "</style>\n",
              "<table border=\"1\" class=\"dataframe\">\n",
              "  <thead>\n",
              "    <tr style=\"text-align: right;\">\n",
              "      <th></th>\n",
              "      <th>0</th>\n",
              "      <th>1</th>\n",
              "      <th>2</th>\n",
              "      <th>3</th>\n",
              "      <th>4</th>\n",
              "      <th>5</th>\n",
              "      <th>6</th>\n",
              "      <th>7</th>\n",
              "      <th>8</th>\n",
              "      <th>9</th>\n",
              "      <th>10</th>\n",
              "      <th>11</th>\n",
              "      <th>12</th>\n",
              "      <th>13</th>\n",
              "      <th>14</th>\n",
              "      <th>15</th>\n",
              "      <th>16</th>\n",
              "      <th>17</th>\n",
              "      <th>18</th>\n",
              "      <th>19</th>\n",
              "      <th>20</th>\n",
              "      <th>21</th>\n",
              "      <th>22</th>\n",
              "      <th>23</th>\n",
              "      <th>24</th>\n",
              "      <th>25</th>\n",
              "      <th>26</th>\n",
              "      <th>27</th>\n",
              "      <th>28</th>\n",
              "      <th>29</th>\n",
              "      <th>30</th>\n",
              "      <th>31</th>\n",
              "      <th>32</th>\n",
              "      <th>33</th>\n",
              "      <th>34</th>\n",
              "      <th>35</th>\n",
              "      <th>36</th>\n",
              "      <th>37</th>\n",
              "      <th>38</th>\n",
              "      <th>39</th>\n",
              "      <th>...</th>\n",
              "      <th>43</th>\n",
              "      <th>44</th>\n",
              "      <th>45</th>\n",
              "      <th>46</th>\n",
              "      <th>47</th>\n",
              "      <th>48</th>\n",
              "      <th>49</th>\n",
              "      <th>50</th>\n",
              "      <th>51</th>\n",
              "      <th>52</th>\n",
              "      <th>53</th>\n",
              "      <th>54</th>\n",
              "      <th>55</th>\n",
              "      <th>56</th>\n",
              "      <th>57</th>\n",
              "      <th>58</th>\n",
              "      <th>59</th>\n",
              "      <th>60</th>\n",
              "      <th>61</th>\n",
              "      <th>62</th>\n",
              "      <th>63</th>\n",
              "      <th>64</th>\n",
              "      <th>65</th>\n",
              "      <th>66</th>\n",
              "      <th>67</th>\n",
              "      <th>68</th>\n",
              "      <th>69</th>\n",
              "      <th>70</th>\n",
              "      <th>71</th>\n",
              "      <th>72</th>\n",
              "      <th>73</th>\n",
              "      <th>74</th>\n",
              "      <th>75</th>\n",
              "      <th>76</th>\n",
              "      <th>77</th>\n",
              "      <th>78</th>\n",
              "      <th>79</th>\n",
              "      <th>80</th>\n",
              "      <th>81</th>\n",
              "      <th>82</th>\n",
              "    </tr>\n",
              "  </thead>\n",
              "  <tbody>\n",
              "    <tr>\n",
              "      <th>0</th>\n",
              "      <td>0.0</td>\n",
              "      <td>0.0</td>\n",
              "      <td>0.0</td>\n",
              "      <td>0.0</td>\n",
              "      <td>0.0</td>\n",
              "      <td>0.0</td>\n",
              "      <td>1.0</td>\n",
              "      <td>0.0</td>\n",
              "      <td>0.0</td>\n",
              "      <td>0.0</td>\n",
              "      <td>1.0</td>\n",
              "      <td>0.0</td>\n",
              "      <td>0.0</td>\n",
              "      <td>0.0</td>\n",
              "      <td>0.0</td>\n",
              "      <td>0.0</td>\n",
              "      <td>0.0</td>\n",
              "      <td>0.0</td>\n",
              "      <td>1.0</td>\n",
              "      <td>0.0</td>\n",
              "      <td>0.0</td>\n",
              "      <td>0.0</td>\n",
              "      <td>0.0</td>\n",
              "      <td>0.0</td>\n",
              "      <td>0.0</td>\n",
              "      <td>0.0</td>\n",
              "      <td>0.0</td>\n",
              "      <td>0.0</td>\n",
              "      <td>0.0</td>\n",
              "      <td>0.0</td>\n",
              "      <td>0.0</td>\n",
              "      <td>0.0</td>\n",
              "      <td>0.0</td>\n",
              "      <td>0.0</td>\n",
              "      <td>1.0</td>\n",
              "      <td>0.0</td>\n",
              "      <td>0.0</td>\n",
              "      <td>0.0</td>\n",
              "      <td>0.0</td>\n",
              "      <td>1.0</td>\n",
              "      <td>...</td>\n",
              "      <td>0.0</td>\n",
              "      <td>0.0</td>\n",
              "      <td>0.0</td>\n",
              "      <td>0.0</td>\n",
              "      <td>0.0</td>\n",
              "      <td>0.0</td>\n",
              "      <td>0.0</td>\n",
              "      <td>0.0</td>\n",
              "      <td>0.0</td>\n",
              "      <td>0.0</td>\n",
              "      <td>0.0</td>\n",
              "      <td>0.0</td>\n",
              "      <td>0.0</td>\n",
              "      <td>0.0</td>\n",
              "      <td>0.0</td>\n",
              "      <td>0.0</td>\n",
              "      <td>0.0</td>\n",
              "      <td>0.0</td>\n",
              "      <td>0.0</td>\n",
              "      <td>0.0</td>\n",
              "      <td>0.0</td>\n",
              "      <td>0.0</td>\n",
              "      <td>0.0</td>\n",
              "      <td>0.0</td>\n",
              "      <td>0.0</td>\n",
              "      <td>0.0</td>\n",
              "      <td>0.0</td>\n",
              "      <td>0.0</td>\n",
              "      <td>0.0</td>\n",
              "      <td>0.0</td>\n",
              "      <td>0.0</td>\n",
              "      <td>0.0</td>\n",
              "      <td>0.0</td>\n",
              "      <td>0.0</td>\n",
              "      <td>0.0</td>\n",
              "      <td>0.0</td>\n",
              "      <td>0.0</td>\n",
              "      <td>1.0</td>\n",
              "      <td>0.0</td>\n",
              "      <td>0.0</td>\n",
              "    </tr>\n",
              "    <tr>\n",
              "      <th>1</th>\n",
              "      <td>0.0</td>\n",
              "      <td>1.0</td>\n",
              "      <td>0.0</td>\n",
              "      <td>0.0</td>\n",
              "      <td>0.0</td>\n",
              "      <td>0.0</td>\n",
              "      <td>0.0</td>\n",
              "      <td>0.0</td>\n",
              "      <td>0.0</td>\n",
              "      <td>0.0</td>\n",
              "      <td>1.0</td>\n",
              "      <td>0.0</td>\n",
              "      <td>0.0</td>\n",
              "      <td>0.0</td>\n",
              "      <td>0.0</td>\n",
              "      <td>0.0</td>\n",
              "      <td>0.0</td>\n",
              "      <td>0.0</td>\n",
              "      <td>0.0</td>\n",
              "      <td>0.0</td>\n",
              "      <td>0.0</td>\n",
              "      <td>1.0</td>\n",
              "      <td>0.0</td>\n",
              "      <td>0.0</td>\n",
              "      <td>0.0</td>\n",
              "      <td>0.0</td>\n",
              "      <td>0.0</td>\n",
              "      <td>0.0</td>\n",
              "      <td>0.0</td>\n",
              "      <td>1.0</td>\n",
              "      <td>0.0</td>\n",
              "      <td>0.0</td>\n",
              "      <td>0.0</td>\n",
              "      <td>0.0</td>\n",
              "      <td>0.0</td>\n",
              "      <td>0.0</td>\n",
              "      <td>0.0</td>\n",
              "      <td>0.0</td>\n",
              "      <td>0.0</td>\n",
              "      <td>1.0</td>\n",
              "      <td>...</td>\n",
              "      <td>0.0</td>\n",
              "      <td>0.0</td>\n",
              "      <td>0.0</td>\n",
              "      <td>0.0</td>\n",
              "      <td>0.0</td>\n",
              "      <td>0.0</td>\n",
              "      <td>0.0</td>\n",
              "      <td>0.0</td>\n",
              "      <td>0.0</td>\n",
              "      <td>0.0</td>\n",
              "      <td>0.0</td>\n",
              "      <td>0.0</td>\n",
              "      <td>0.0</td>\n",
              "      <td>0.0</td>\n",
              "      <td>0.0</td>\n",
              "      <td>0.0</td>\n",
              "      <td>0.0</td>\n",
              "      <td>0.0</td>\n",
              "      <td>0.0</td>\n",
              "      <td>0.0</td>\n",
              "      <td>0.0</td>\n",
              "      <td>0.0</td>\n",
              "      <td>0.0</td>\n",
              "      <td>0.0</td>\n",
              "      <td>0.0</td>\n",
              "      <td>0.0</td>\n",
              "      <td>0.0</td>\n",
              "      <td>0.0</td>\n",
              "      <td>0.0</td>\n",
              "      <td>0.0</td>\n",
              "      <td>0.0</td>\n",
              "      <td>0.0</td>\n",
              "      <td>0.0</td>\n",
              "      <td>0.0</td>\n",
              "      <td>0.0</td>\n",
              "      <td>0.0</td>\n",
              "      <td>0.0</td>\n",
              "      <td>1.0</td>\n",
              "      <td>0.0</td>\n",
              "      <td>0.0</td>\n",
              "    </tr>\n",
              "    <tr>\n",
              "      <th>2</th>\n",
              "      <td>0.0</td>\n",
              "      <td>0.0</td>\n",
              "      <td>0.0</td>\n",
              "      <td>1.0</td>\n",
              "      <td>0.0</td>\n",
              "      <td>0.0</td>\n",
              "      <td>0.0</td>\n",
              "      <td>0.0</td>\n",
              "      <td>0.0</td>\n",
              "      <td>0.0</td>\n",
              "      <td>0.0</td>\n",
              "      <td>0.0</td>\n",
              "      <td>1.0</td>\n",
              "      <td>0.0</td>\n",
              "      <td>0.0</td>\n",
              "      <td>0.0</td>\n",
              "      <td>0.0</td>\n",
              "      <td>0.0</td>\n",
              "      <td>1.0</td>\n",
              "      <td>0.0</td>\n",
              "      <td>0.0</td>\n",
              "      <td>0.0</td>\n",
              "      <td>0.0</td>\n",
              "      <td>0.0</td>\n",
              "      <td>0.0</td>\n",
              "      <td>0.0</td>\n",
              "      <td>0.0</td>\n",
              "      <td>0.0</td>\n",
              "      <td>0.0</td>\n",
              "      <td>0.0</td>\n",
              "      <td>1.0</td>\n",
              "      <td>0.0</td>\n",
              "      <td>0.0</td>\n",
              "      <td>0.0</td>\n",
              "      <td>0.0</td>\n",
              "      <td>0.0</td>\n",
              "      <td>0.0</td>\n",
              "      <td>0.0</td>\n",
              "      <td>0.0</td>\n",
              "      <td>1.0</td>\n",
              "      <td>...</td>\n",
              "      <td>0.0</td>\n",
              "      <td>0.0</td>\n",
              "      <td>0.0</td>\n",
              "      <td>0.0</td>\n",
              "      <td>0.0</td>\n",
              "      <td>0.0</td>\n",
              "      <td>0.0</td>\n",
              "      <td>0.0</td>\n",
              "      <td>0.0</td>\n",
              "      <td>0.0</td>\n",
              "      <td>0.0</td>\n",
              "      <td>0.0</td>\n",
              "      <td>0.0</td>\n",
              "      <td>0.0</td>\n",
              "      <td>0.0</td>\n",
              "      <td>0.0</td>\n",
              "      <td>0.0</td>\n",
              "      <td>0.0</td>\n",
              "      <td>0.0</td>\n",
              "      <td>0.0</td>\n",
              "      <td>0.0</td>\n",
              "      <td>0.0</td>\n",
              "      <td>0.0</td>\n",
              "      <td>0.0</td>\n",
              "      <td>0.0</td>\n",
              "      <td>0.0</td>\n",
              "      <td>0.0</td>\n",
              "      <td>0.0</td>\n",
              "      <td>0.0</td>\n",
              "      <td>0.0</td>\n",
              "      <td>0.0</td>\n",
              "      <td>0.0</td>\n",
              "      <td>0.0</td>\n",
              "      <td>0.0</td>\n",
              "      <td>0.0</td>\n",
              "      <td>0.0</td>\n",
              "      <td>0.0</td>\n",
              "      <td>1.0</td>\n",
              "      <td>0.0</td>\n",
              "      <td>0.0</td>\n",
              "    </tr>\n",
              "    <tr>\n",
              "      <th>3</th>\n",
              "      <td>0.0</td>\n",
              "      <td>1.0</td>\n",
              "      <td>0.0</td>\n",
              "      <td>0.0</td>\n",
              "      <td>0.0</td>\n",
              "      <td>0.0</td>\n",
              "      <td>0.0</td>\n",
              "      <td>0.0</td>\n",
              "      <td>0.0</td>\n",
              "      <td>0.0</td>\n",
              "      <td>0.0</td>\n",
              "      <td>0.0</td>\n",
              "      <td>1.0</td>\n",
              "      <td>0.0</td>\n",
              "      <td>0.0</td>\n",
              "      <td>0.0</td>\n",
              "      <td>0.0</td>\n",
              "      <td>0.0</td>\n",
              "      <td>0.0</td>\n",
              "      <td>1.0</td>\n",
              "      <td>0.0</td>\n",
              "      <td>0.0</td>\n",
              "      <td>0.0</td>\n",
              "      <td>0.0</td>\n",
              "      <td>0.0</td>\n",
              "      <td>0.0</td>\n",
              "      <td>0.0</td>\n",
              "      <td>0.0</td>\n",
              "      <td>0.0</td>\n",
              "      <td>0.0</td>\n",
              "      <td>0.0</td>\n",
              "      <td>0.0</td>\n",
              "      <td>1.0</td>\n",
              "      <td>0.0</td>\n",
              "      <td>0.0</td>\n",
              "      <td>0.0</td>\n",
              "      <td>0.0</td>\n",
              "      <td>0.0</td>\n",
              "      <td>0.0</td>\n",
              "      <td>1.0</td>\n",
              "      <td>...</td>\n",
              "      <td>0.0</td>\n",
              "      <td>0.0</td>\n",
              "      <td>0.0</td>\n",
              "      <td>0.0</td>\n",
              "      <td>0.0</td>\n",
              "      <td>0.0</td>\n",
              "      <td>0.0</td>\n",
              "      <td>0.0</td>\n",
              "      <td>0.0</td>\n",
              "      <td>0.0</td>\n",
              "      <td>0.0</td>\n",
              "      <td>0.0</td>\n",
              "      <td>0.0</td>\n",
              "      <td>0.0</td>\n",
              "      <td>0.0</td>\n",
              "      <td>0.0</td>\n",
              "      <td>0.0</td>\n",
              "      <td>0.0</td>\n",
              "      <td>0.0</td>\n",
              "      <td>0.0</td>\n",
              "      <td>0.0</td>\n",
              "      <td>0.0</td>\n",
              "      <td>0.0</td>\n",
              "      <td>0.0</td>\n",
              "      <td>0.0</td>\n",
              "      <td>0.0</td>\n",
              "      <td>0.0</td>\n",
              "      <td>0.0</td>\n",
              "      <td>0.0</td>\n",
              "      <td>0.0</td>\n",
              "      <td>0.0</td>\n",
              "      <td>0.0</td>\n",
              "      <td>0.0</td>\n",
              "      <td>0.0</td>\n",
              "      <td>0.0</td>\n",
              "      <td>0.0</td>\n",
              "      <td>0.0</td>\n",
              "      <td>1.0</td>\n",
              "      <td>0.0</td>\n",
              "      <td>0.0</td>\n",
              "    </tr>\n",
              "    <tr>\n",
              "      <th>4</th>\n",
              "      <td>1.0</td>\n",
              "      <td>0.0</td>\n",
              "      <td>0.0</td>\n",
              "      <td>0.0</td>\n",
              "      <td>0.0</td>\n",
              "      <td>0.0</td>\n",
              "      <td>0.0</td>\n",
              "      <td>0.0</td>\n",
              "      <td>0.0</td>\n",
              "      <td>0.0</td>\n",
              "      <td>1.0</td>\n",
              "      <td>0.0</td>\n",
              "      <td>0.0</td>\n",
              "      <td>0.0</td>\n",
              "      <td>0.0</td>\n",
              "      <td>0.0</td>\n",
              "      <td>0.0</td>\n",
              "      <td>0.0</td>\n",
              "      <td>1.0</td>\n",
              "      <td>0.0</td>\n",
              "      <td>0.0</td>\n",
              "      <td>0.0</td>\n",
              "      <td>0.0</td>\n",
              "      <td>0.0</td>\n",
              "      <td>0.0</td>\n",
              "      <td>0.0</td>\n",
              "      <td>0.0</td>\n",
              "      <td>0.0</td>\n",
              "      <td>0.0</td>\n",
              "      <td>1.0</td>\n",
              "      <td>0.0</td>\n",
              "      <td>0.0</td>\n",
              "      <td>0.0</td>\n",
              "      <td>0.0</td>\n",
              "      <td>0.0</td>\n",
              "      <td>0.0</td>\n",
              "      <td>0.0</td>\n",
              "      <td>0.0</td>\n",
              "      <td>0.0</td>\n",
              "      <td>1.0</td>\n",
              "      <td>...</td>\n",
              "      <td>0.0</td>\n",
              "      <td>0.0</td>\n",
              "      <td>0.0</td>\n",
              "      <td>0.0</td>\n",
              "      <td>0.0</td>\n",
              "      <td>0.0</td>\n",
              "      <td>0.0</td>\n",
              "      <td>0.0</td>\n",
              "      <td>0.0</td>\n",
              "      <td>0.0</td>\n",
              "      <td>0.0</td>\n",
              "      <td>0.0</td>\n",
              "      <td>0.0</td>\n",
              "      <td>0.0</td>\n",
              "      <td>0.0</td>\n",
              "      <td>0.0</td>\n",
              "      <td>0.0</td>\n",
              "      <td>0.0</td>\n",
              "      <td>0.0</td>\n",
              "      <td>0.0</td>\n",
              "      <td>0.0</td>\n",
              "      <td>0.0</td>\n",
              "      <td>0.0</td>\n",
              "      <td>0.0</td>\n",
              "      <td>0.0</td>\n",
              "      <td>0.0</td>\n",
              "      <td>0.0</td>\n",
              "      <td>0.0</td>\n",
              "      <td>0.0</td>\n",
              "      <td>0.0</td>\n",
              "      <td>0.0</td>\n",
              "      <td>0.0</td>\n",
              "      <td>0.0</td>\n",
              "      <td>0.0</td>\n",
              "      <td>0.0</td>\n",
              "      <td>0.0</td>\n",
              "      <td>0.0</td>\n",
              "      <td>1.0</td>\n",
              "      <td>0.0</td>\n",
              "      <td>0.0</td>\n",
              "    </tr>\n",
              "    <tr>\n",
              "      <th>...</th>\n",
              "      <td>...</td>\n",
              "      <td>...</td>\n",
              "      <td>...</td>\n",
              "      <td>...</td>\n",
              "      <td>...</td>\n",
              "      <td>...</td>\n",
              "      <td>...</td>\n",
              "      <td>...</td>\n",
              "      <td>...</td>\n",
              "      <td>...</td>\n",
              "      <td>...</td>\n",
              "      <td>...</td>\n",
              "      <td>...</td>\n",
              "      <td>...</td>\n",
              "      <td>...</td>\n",
              "      <td>...</td>\n",
              "      <td>...</td>\n",
              "      <td>...</td>\n",
              "      <td>...</td>\n",
              "      <td>...</td>\n",
              "      <td>...</td>\n",
              "      <td>...</td>\n",
              "      <td>...</td>\n",
              "      <td>...</td>\n",
              "      <td>...</td>\n",
              "      <td>...</td>\n",
              "      <td>...</td>\n",
              "      <td>...</td>\n",
              "      <td>...</td>\n",
              "      <td>...</td>\n",
              "      <td>...</td>\n",
              "      <td>...</td>\n",
              "      <td>...</td>\n",
              "      <td>...</td>\n",
              "      <td>...</td>\n",
              "      <td>...</td>\n",
              "      <td>...</td>\n",
              "      <td>...</td>\n",
              "      <td>...</td>\n",
              "      <td>...</td>\n",
              "      <td>...</td>\n",
              "      <td>...</td>\n",
              "      <td>...</td>\n",
              "      <td>...</td>\n",
              "      <td>...</td>\n",
              "      <td>...</td>\n",
              "      <td>...</td>\n",
              "      <td>...</td>\n",
              "      <td>...</td>\n",
              "      <td>...</td>\n",
              "      <td>...</td>\n",
              "      <td>...</td>\n",
              "      <td>...</td>\n",
              "      <td>...</td>\n",
              "      <td>...</td>\n",
              "      <td>...</td>\n",
              "      <td>...</td>\n",
              "      <td>...</td>\n",
              "      <td>...</td>\n",
              "      <td>...</td>\n",
              "      <td>...</td>\n",
              "      <td>...</td>\n",
              "      <td>...</td>\n",
              "      <td>...</td>\n",
              "      <td>...</td>\n",
              "      <td>...</td>\n",
              "      <td>...</td>\n",
              "      <td>...</td>\n",
              "      <td>...</td>\n",
              "      <td>...</td>\n",
              "      <td>...</td>\n",
              "      <td>...</td>\n",
              "      <td>...</td>\n",
              "      <td>...</td>\n",
              "      <td>...</td>\n",
              "      <td>...</td>\n",
              "      <td>...</td>\n",
              "      <td>...</td>\n",
              "      <td>...</td>\n",
              "      <td>...</td>\n",
              "      <td>...</td>\n",
              "    </tr>\n",
              "    <tr>\n",
              "      <th>22787</th>\n",
              "      <td>0.0</td>\n",
              "      <td>0.0</td>\n",
              "      <td>0.0</td>\n",
              "      <td>0.0</td>\n",
              "      <td>0.0</td>\n",
              "      <td>1.0</td>\n",
              "      <td>0.0</td>\n",
              "      <td>0.0</td>\n",
              "      <td>0.0</td>\n",
              "      <td>0.0</td>\n",
              "      <td>1.0</td>\n",
              "      <td>0.0</td>\n",
              "      <td>0.0</td>\n",
              "      <td>0.0</td>\n",
              "      <td>0.0</td>\n",
              "      <td>0.0</td>\n",
              "      <td>0.0</td>\n",
              "      <td>0.0</td>\n",
              "      <td>0.0</td>\n",
              "      <td>1.0</td>\n",
              "      <td>0.0</td>\n",
              "      <td>0.0</td>\n",
              "      <td>0.0</td>\n",
              "      <td>0.0</td>\n",
              "      <td>0.0</td>\n",
              "      <td>0.0</td>\n",
              "      <td>0.0</td>\n",
              "      <td>0.0</td>\n",
              "      <td>0.0</td>\n",
              "      <td>1.0</td>\n",
              "      <td>0.0</td>\n",
              "      <td>0.0</td>\n",
              "      <td>0.0</td>\n",
              "      <td>0.0</td>\n",
              "      <td>0.0</td>\n",
              "      <td>0.0</td>\n",
              "      <td>0.0</td>\n",
              "      <td>0.0</td>\n",
              "      <td>0.0</td>\n",
              "      <td>1.0</td>\n",
              "      <td>...</td>\n",
              "      <td>0.0</td>\n",
              "      <td>0.0</td>\n",
              "      <td>0.0</td>\n",
              "      <td>0.0</td>\n",
              "      <td>0.0</td>\n",
              "      <td>0.0</td>\n",
              "      <td>0.0</td>\n",
              "      <td>0.0</td>\n",
              "      <td>0.0</td>\n",
              "      <td>0.0</td>\n",
              "      <td>0.0</td>\n",
              "      <td>0.0</td>\n",
              "      <td>0.0</td>\n",
              "      <td>0.0</td>\n",
              "      <td>0.0</td>\n",
              "      <td>0.0</td>\n",
              "      <td>0.0</td>\n",
              "      <td>0.0</td>\n",
              "      <td>0.0</td>\n",
              "      <td>0.0</td>\n",
              "      <td>0.0</td>\n",
              "      <td>0.0</td>\n",
              "      <td>0.0</td>\n",
              "      <td>0.0</td>\n",
              "      <td>0.0</td>\n",
              "      <td>0.0</td>\n",
              "      <td>0.0</td>\n",
              "      <td>0.0</td>\n",
              "      <td>0.0</td>\n",
              "      <td>0.0</td>\n",
              "      <td>0.0</td>\n",
              "      <td>0.0</td>\n",
              "      <td>0.0</td>\n",
              "      <td>0.0</td>\n",
              "      <td>0.0</td>\n",
              "      <td>0.0</td>\n",
              "      <td>0.0</td>\n",
              "      <td>1.0</td>\n",
              "      <td>0.0</td>\n",
              "      <td>0.0</td>\n",
              "    </tr>\n",
              "    <tr>\n",
              "      <th>22788</th>\n",
              "      <td>0.0</td>\n",
              "      <td>0.0</td>\n",
              "      <td>0.0</td>\n",
              "      <td>1.0</td>\n",
              "      <td>0.0</td>\n",
              "      <td>0.0</td>\n",
              "      <td>0.0</td>\n",
              "      <td>0.0</td>\n",
              "      <td>0.0</td>\n",
              "      <td>0.0</td>\n",
              "      <td>1.0</td>\n",
              "      <td>0.0</td>\n",
              "      <td>0.0</td>\n",
              "      <td>0.0</td>\n",
              "      <td>0.0</td>\n",
              "      <td>0.0</td>\n",
              "      <td>0.0</td>\n",
              "      <td>0.0</td>\n",
              "      <td>0.0</td>\n",
              "      <td>0.0</td>\n",
              "      <td>0.0</td>\n",
              "      <td>0.0</td>\n",
              "      <td>0.0</td>\n",
              "      <td>0.0</td>\n",
              "      <td>0.0</td>\n",
              "      <td>0.0</td>\n",
              "      <td>0.0</td>\n",
              "      <td>0.0</td>\n",
              "      <td>1.0</td>\n",
              "      <td>1.0</td>\n",
              "      <td>0.0</td>\n",
              "      <td>0.0</td>\n",
              "      <td>0.0</td>\n",
              "      <td>0.0</td>\n",
              "      <td>0.0</td>\n",
              "      <td>0.0</td>\n",
              "      <td>0.0</td>\n",
              "      <td>0.0</td>\n",
              "      <td>0.0</td>\n",
              "      <td>1.0</td>\n",
              "      <td>...</td>\n",
              "      <td>0.0</td>\n",
              "      <td>0.0</td>\n",
              "      <td>0.0</td>\n",
              "      <td>0.0</td>\n",
              "      <td>0.0</td>\n",
              "      <td>0.0</td>\n",
              "      <td>0.0</td>\n",
              "      <td>0.0</td>\n",
              "      <td>0.0</td>\n",
              "      <td>0.0</td>\n",
              "      <td>0.0</td>\n",
              "      <td>0.0</td>\n",
              "      <td>0.0</td>\n",
              "      <td>0.0</td>\n",
              "      <td>0.0</td>\n",
              "      <td>0.0</td>\n",
              "      <td>0.0</td>\n",
              "      <td>0.0</td>\n",
              "      <td>0.0</td>\n",
              "      <td>0.0</td>\n",
              "      <td>0.0</td>\n",
              "      <td>0.0</td>\n",
              "      <td>0.0</td>\n",
              "      <td>0.0</td>\n",
              "      <td>0.0</td>\n",
              "      <td>0.0</td>\n",
              "      <td>0.0</td>\n",
              "      <td>0.0</td>\n",
              "      <td>0.0</td>\n",
              "      <td>0.0</td>\n",
              "      <td>0.0</td>\n",
              "      <td>0.0</td>\n",
              "      <td>0.0</td>\n",
              "      <td>0.0</td>\n",
              "      <td>0.0</td>\n",
              "      <td>0.0</td>\n",
              "      <td>0.0</td>\n",
              "      <td>1.0</td>\n",
              "      <td>0.0</td>\n",
              "      <td>0.0</td>\n",
              "    </tr>\n",
              "    <tr>\n",
              "      <th>22789</th>\n",
              "      <td>0.0</td>\n",
              "      <td>0.0</td>\n",
              "      <td>0.0</td>\n",
              "      <td>1.0</td>\n",
              "      <td>0.0</td>\n",
              "      <td>0.0</td>\n",
              "      <td>0.0</td>\n",
              "      <td>0.0</td>\n",
              "      <td>0.0</td>\n",
              "      <td>0.0</td>\n",
              "      <td>0.0</td>\n",
              "      <td>0.0</td>\n",
              "      <td>1.0</td>\n",
              "      <td>0.0</td>\n",
              "      <td>0.0</td>\n",
              "      <td>0.0</td>\n",
              "      <td>0.0</td>\n",
              "      <td>0.0</td>\n",
              "      <td>0.0</td>\n",
              "      <td>0.0</td>\n",
              "      <td>0.0</td>\n",
              "      <td>0.0</td>\n",
              "      <td>0.0</td>\n",
              "      <td>0.0</td>\n",
              "      <td>0.0</td>\n",
              "      <td>0.0</td>\n",
              "      <td>1.0</td>\n",
              "      <td>0.0</td>\n",
              "      <td>0.0</td>\n",
              "      <td>0.0</td>\n",
              "      <td>0.0</td>\n",
              "      <td>1.0</td>\n",
              "      <td>0.0</td>\n",
              "      <td>0.0</td>\n",
              "      <td>0.0</td>\n",
              "      <td>0.0</td>\n",
              "      <td>0.0</td>\n",
              "      <td>1.0</td>\n",
              "      <td>0.0</td>\n",
              "      <td>0.0</td>\n",
              "      <td>...</td>\n",
              "      <td>0.0</td>\n",
              "      <td>0.0</td>\n",
              "      <td>0.0</td>\n",
              "      <td>0.0</td>\n",
              "      <td>0.0</td>\n",
              "      <td>0.0</td>\n",
              "      <td>0.0</td>\n",
              "      <td>0.0</td>\n",
              "      <td>0.0</td>\n",
              "      <td>0.0</td>\n",
              "      <td>0.0</td>\n",
              "      <td>0.0</td>\n",
              "      <td>0.0</td>\n",
              "      <td>0.0</td>\n",
              "      <td>0.0</td>\n",
              "      <td>0.0</td>\n",
              "      <td>0.0</td>\n",
              "      <td>0.0</td>\n",
              "      <td>0.0</td>\n",
              "      <td>0.0</td>\n",
              "      <td>0.0</td>\n",
              "      <td>0.0</td>\n",
              "      <td>0.0</td>\n",
              "      <td>0.0</td>\n",
              "      <td>0.0</td>\n",
              "      <td>0.0</td>\n",
              "      <td>0.0</td>\n",
              "      <td>0.0</td>\n",
              "      <td>0.0</td>\n",
              "      <td>0.0</td>\n",
              "      <td>0.0</td>\n",
              "      <td>0.0</td>\n",
              "      <td>0.0</td>\n",
              "      <td>0.0</td>\n",
              "      <td>0.0</td>\n",
              "      <td>0.0</td>\n",
              "      <td>0.0</td>\n",
              "      <td>1.0</td>\n",
              "      <td>0.0</td>\n",
              "      <td>0.0</td>\n",
              "    </tr>\n",
              "    <tr>\n",
              "      <th>22790</th>\n",
              "      <td>0.0</td>\n",
              "      <td>0.0</td>\n",
              "      <td>0.0</td>\n",
              "      <td>1.0</td>\n",
              "      <td>0.0</td>\n",
              "      <td>0.0</td>\n",
              "      <td>0.0</td>\n",
              "      <td>0.0</td>\n",
              "      <td>0.0</td>\n",
              "      <td>0.0</td>\n",
              "      <td>1.0</td>\n",
              "      <td>0.0</td>\n",
              "      <td>0.0</td>\n",
              "      <td>0.0</td>\n",
              "      <td>0.0</td>\n",
              "      <td>0.0</td>\n",
              "      <td>0.0</td>\n",
              "      <td>0.0</td>\n",
              "      <td>1.0</td>\n",
              "      <td>0.0</td>\n",
              "      <td>0.0</td>\n",
              "      <td>0.0</td>\n",
              "      <td>0.0</td>\n",
              "      <td>0.0</td>\n",
              "      <td>0.0</td>\n",
              "      <td>0.0</td>\n",
              "      <td>0.0</td>\n",
              "      <td>0.0</td>\n",
              "      <td>0.0</td>\n",
              "      <td>1.0</td>\n",
              "      <td>0.0</td>\n",
              "      <td>0.0</td>\n",
              "      <td>0.0</td>\n",
              "      <td>0.0</td>\n",
              "      <td>0.0</td>\n",
              "      <td>0.0</td>\n",
              "      <td>0.0</td>\n",
              "      <td>0.0</td>\n",
              "      <td>0.0</td>\n",
              "      <td>1.0</td>\n",
              "      <td>...</td>\n",
              "      <td>0.0</td>\n",
              "      <td>0.0</td>\n",
              "      <td>0.0</td>\n",
              "      <td>0.0</td>\n",
              "      <td>0.0</td>\n",
              "      <td>0.0</td>\n",
              "      <td>0.0</td>\n",
              "      <td>0.0</td>\n",
              "      <td>0.0</td>\n",
              "      <td>0.0</td>\n",
              "      <td>0.0</td>\n",
              "      <td>0.0</td>\n",
              "      <td>0.0</td>\n",
              "      <td>0.0</td>\n",
              "      <td>0.0</td>\n",
              "      <td>0.0</td>\n",
              "      <td>0.0</td>\n",
              "      <td>0.0</td>\n",
              "      <td>0.0</td>\n",
              "      <td>0.0</td>\n",
              "      <td>0.0</td>\n",
              "      <td>0.0</td>\n",
              "      <td>0.0</td>\n",
              "      <td>0.0</td>\n",
              "      <td>0.0</td>\n",
              "      <td>0.0</td>\n",
              "      <td>0.0</td>\n",
              "      <td>0.0</td>\n",
              "      <td>0.0</td>\n",
              "      <td>0.0</td>\n",
              "      <td>0.0</td>\n",
              "      <td>0.0</td>\n",
              "      <td>0.0</td>\n",
              "      <td>0.0</td>\n",
              "      <td>0.0</td>\n",
              "      <td>0.0</td>\n",
              "      <td>0.0</td>\n",
              "      <td>1.0</td>\n",
              "      <td>0.0</td>\n",
              "      <td>0.0</td>\n",
              "    </tr>\n",
              "    <tr>\n",
              "      <th>22791</th>\n",
              "      <td>0.0</td>\n",
              "      <td>0.0</td>\n",
              "      <td>0.0</td>\n",
              "      <td>1.0</td>\n",
              "      <td>0.0</td>\n",
              "      <td>0.0</td>\n",
              "      <td>0.0</td>\n",
              "      <td>0.0</td>\n",
              "      <td>0.0</td>\n",
              "      <td>0.0</td>\n",
              "      <td>1.0</td>\n",
              "      <td>0.0</td>\n",
              "      <td>0.0</td>\n",
              "      <td>0.0</td>\n",
              "      <td>0.0</td>\n",
              "      <td>0.0</td>\n",
              "      <td>0.0</td>\n",
              "      <td>1.0</td>\n",
              "      <td>0.0</td>\n",
              "      <td>0.0</td>\n",
              "      <td>0.0</td>\n",
              "      <td>0.0</td>\n",
              "      <td>0.0</td>\n",
              "      <td>0.0</td>\n",
              "      <td>0.0</td>\n",
              "      <td>0.0</td>\n",
              "      <td>0.0</td>\n",
              "      <td>0.0</td>\n",
              "      <td>0.0</td>\n",
              "      <td>1.0</td>\n",
              "      <td>0.0</td>\n",
              "      <td>0.0</td>\n",
              "      <td>0.0</td>\n",
              "      <td>0.0</td>\n",
              "      <td>0.0</td>\n",
              "      <td>0.0</td>\n",
              "      <td>0.0</td>\n",
              "      <td>0.0</td>\n",
              "      <td>0.0</td>\n",
              "      <td>1.0</td>\n",
              "      <td>...</td>\n",
              "      <td>0.0</td>\n",
              "      <td>0.0</td>\n",
              "      <td>0.0</td>\n",
              "      <td>0.0</td>\n",
              "      <td>0.0</td>\n",
              "      <td>0.0</td>\n",
              "      <td>0.0</td>\n",
              "      <td>0.0</td>\n",
              "      <td>0.0</td>\n",
              "      <td>0.0</td>\n",
              "      <td>0.0</td>\n",
              "      <td>0.0</td>\n",
              "      <td>0.0</td>\n",
              "      <td>0.0</td>\n",
              "      <td>0.0</td>\n",
              "      <td>0.0</td>\n",
              "      <td>0.0</td>\n",
              "      <td>0.0</td>\n",
              "      <td>0.0</td>\n",
              "      <td>0.0</td>\n",
              "      <td>0.0</td>\n",
              "      <td>0.0</td>\n",
              "      <td>0.0</td>\n",
              "      <td>0.0</td>\n",
              "      <td>0.0</td>\n",
              "      <td>0.0</td>\n",
              "      <td>0.0</td>\n",
              "      <td>0.0</td>\n",
              "      <td>0.0</td>\n",
              "      <td>0.0</td>\n",
              "      <td>0.0</td>\n",
              "      <td>0.0</td>\n",
              "      <td>0.0</td>\n",
              "      <td>0.0</td>\n",
              "      <td>0.0</td>\n",
              "      <td>0.0</td>\n",
              "      <td>0.0</td>\n",
              "      <td>1.0</td>\n",
              "      <td>0.0</td>\n",
              "      <td>0.0</td>\n",
              "    </tr>\n",
              "  </tbody>\n",
              "</table>\n",
              "<p>22792 rows × 83 columns</p>\n",
              "</div>"
            ],
            "text/plain": [
              "        0    1    2    3    4    5    6   ...   76   77   78   79   80   81   82\n",
              "0      0.0  0.0  0.0  0.0  0.0  0.0  1.0  ...  0.0  0.0  0.0  0.0  1.0  0.0  0.0\n",
              "1      0.0  1.0  0.0  0.0  0.0  0.0  0.0  ...  0.0  0.0  0.0  0.0  1.0  0.0  0.0\n",
              "2      0.0  0.0  0.0  1.0  0.0  0.0  0.0  ...  0.0  0.0  0.0  0.0  1.0  0.0  0.0\n",
              "3      0.0  1.0  0.0  0.0  0.0  0.0  0.0  ...  0.0  0.0  0.0  0.0  1.0  0.0  0.0\n",
              "4      1.0  0.0  0.0  0.0  0.0  0.0  0.0  ...  0.0  0.0  0.0  0.0  1.0  0.0  0.0\n",
              "...    ...  ...  ...  ...  ...  ...  ...  ...  ...  ...  ...  ...  ...  ...  ...\n",
              "22787  0.0  0.0  0.0  0.0  0.0  1.0  0.0  ...  0.0  0.0  0.0  0.0  1.0  0.0  0.0\n",
              "22788  0.0  0.0  0.0  1.0  0.0  0.0  0.0  ...  0.0  0.0  0.0  0.0  1.0  0.0  0.0\n",
              "22789  0.0  0.0  0.0  1.0  0.0  0.0  0.0  ...  0.0  0.0  0.0  0.0  1.0  0.0  0.0\n",
              "22790  0.0  0.0  0.0  1.0  0.0  0.0  0.0  ...  0.0  0.0  0.0  0.0  1.0  0.0  0.0\n",
              "22791  0.0  0.0  0.0  1.0  0.0  0.0  0.0  ...  0.0  0.0  0.0  0.0  1.0  0.0  0.0\n",
              "\n",
              "[22792 rows x 83 columns]"
            ]
          },
          "metadata": {
            "tags": []
          },
          "execution_count": 31
        }
      ]
    },
    {
      "cell_type": "markdown",
      "metadata": {
        "id": "mxEweQuP0qI2"
      },
      "source": [
        "### 문제 08. 피처 스케일 조정하기"
      ]
    },
    {
      "cell_type": "code",
      "metadata": {
        "id": "w_T-BCbe0qI3"
      },
      "source": [
        "from sklearn.preprocessing import StandardScaler\n",
        "\n",
        "scaler =  StandardScaler()\n",
        "X_train_scaled = pd.DataFrame(scaler.fit_transform(X_train), columns = X.columns)\n",
        "X_test_scaled = pd.DataFrame(scaler.transform(X_test), columns = X.columns)"
      ],
      "execution_count": null,
      "outputs": []
    },
    {
      "cell_type": "code",
      "metadata": {
        "id": "8fTacCwrEVBR",
        "colab": {
          "base_uri": "https://localhost:8080/",
          "height": 224
        },
        "outputId": "e28fd4ed-6b9f-4408-c627-7824158fd51d"
      },
      "source": [
        "# 스케일 조정된 X_train 데이터 확인하기\n",
        "\n",
        "X_train.head()"
      ],
      "execution_count": null,
      "outputs": [
        {
          "output_type": "execute_result",
          "data": {
            "text/html": [
              "<div>\n",
              "<style scoped>\n",
              "    .dataframe tbody tr th:only-of-type {\n",
              "        vertical-align: middle;\n",
              "    }\n",
              "\n",
              "    .dataframe tbody tr th {\n",
              "        vertical-align: top;\n",
              "    }\n",
              "\n",
              "    .dataframe thead th {\n",
              "        text-align: right;\n",
              "    }\n",
              "</style>\n",
              "<table border=\"1\" class=\"dataframe\">\n",
              "  <thead>\n",
              "    <tr style=\"text-align: right;\">\n",
              "      <th></th>\n",
              "      <th>age</th>\n",
              "      <th>workclass</th>\n",
              "      <th>education.num</th>\n",
              "      <th>marital.status</th>\n",
              "      <th>occupation</th>\n",
              "      <th>relationship</th>\n",
              "      <th>race</th>\n",
              "      <th>sex</th>\n",
              "      <th>capital.gain</th>\n",
              "      <th>capital.loss</th>\n",
              "      <th>hours.per.week</th>\n",
              "      <th>native.country</th>\n",
              "    </tr>\n",
              "  </thead>\n",
              "  <tbody>\n",
              "    <tr>\n",
              "      <th>32098</th>\n",
              "      <td>40</td>\n",
              "      <td>6</td>\n",
              "      <td>13</td>\n",
              "      <td>2</td>\n",
              "      <td>3</td>\n",
              "      <td>5</td>\n",
              "      <td>4</td>\n",
              "      <td>0</td>\n",
              "      <td>0</td>\n",
              "      <td>0</td>\n",
              "      <td>20</td>\n",
              "      <td>38</td>\n",
              "    </tr>\n",
              "    <tr>\n",
              "      <th>25206</th>\n",
              "      <td>39</td>\n",
              "      <td>1</td>\n",
              "      <td>9</td>\n",
              "      <td>2</td>\n",
              "      <td>6</td>\n",
              "      <td>0</td>\n",
              "      <td>4</td>\n",
              "      <td>1</td>\n",
              "      <td>0</td>\n",
              "      <td>0</td>\n",
              "      <td>38</td>\n",
              "      <td>38</td>\n",
              "    </tr>\n",
              "    <tr>\n",
              "      <th>23491</th>\n",
              "      <td>42</td>\n",
              "      <td>3</td>\n",
              "      <td>10</td>\n",
              "      <td>4</td>\n",
              "      <td>3</td>\n",
              "      <td>1</td>\n",
              "      <td>4</td>\n",
              "      <td>0</td>\n",
              "      <td>0</td>\n",
              "      <td>0</td>\n",
              "      <td>40</td>\n",
              "      <td>38</td>\n",
              "    </tr>\n",
              "    <tr>\n",
              "      <th>12367</th>\n",
              "      <td>27</td>\n",
              "      <td>1</td>\n",
              "      <td>9</td>\n",
              "      <td>4</td>\n",
              "      <td>4</td>\n",
              "      <td>3</td>\n",
              "      <td>4</td>\n",
              "      <td>1</td>\n",
              "      <td>0</td>\n",
              "      <td>0</td>\n",
              "      <td>40</td>\n",
              "      <td>38</td>\n",
              "    </tr>\n",
              "    <tr>\n",
              "      <th>7054</th>\n",
              "      <td>38</td>\n",
              "      <td>0</td>\n",
              "      <td>14</td>\n",
              "      <td>2</td>\n",
              "      <td>3</td>\n",
              "      <td>0</td>\n",
              "      <td>4</td>\n",
              "      <td>1</td>\n",
              "      <td>0</td>\n",
              "      <td>0</td>\n",
              "      <td>40</td>\n",
              "      <td>38</td>\n",
              "    </tr>\n",
              "  </tbody>\n",
              "</table>\n",
              "</div>"
            ],
            "text/plain": [
              "       age  workclass  ...  hours.per.week  native.country\n",
              "32098   40          6  ...              20              38\n",
              "25206   39          1  ...              38              38\n",
              "23491   42          3  ...              40              38\n",
              "12367   27          1  ...              40              38\n",
              "7054    38          0  ...              40              38\n",
              "\n",
              "[5 rows x 12 columns]"
            ]
          },
          "metadata": {
            "tags": []
          },
          "execution_count": 33
        }
      ]
    },
    {
      "cell_type": "code",
      "metadata": {
        "colab": {
          "base_uri": "https://localhost:8080/",
          "height": 224
        },
        "id": "QZaiEvcdjlUZ",
        "outputId": "a4054888-c885-4fb9-afdb-4c4886312118"
      },
      "source": [
        "X_train_scaled.head()"
      ],
      "execution_count": null,
      "outputs": [
        {
          "output_type": "execute_result",
          "data": {
            "text/html": [
              "<div>\n",
              "<style scoped>\n",
              "    .dataframe tbody tr th:only-of-type {\n",
              "        vertical-align: middle;\n",
              "    }\n",
              "\n",
              "    .dataframe tbody tr th {\n",
              "        vertical-align: top;\n",
              "    }\n",
              "\n",
              "    .dataframe thead th {\n",
              "        text-align: right;\n",
              "    }\n",
              "</style>\n",
              "<table border=\"1\" class=\"dataframe\">\n",
              "  <thead>\n",
              "    <tr style=\"text-align: right;\">\n",
              "      <th></th>\n",
              "      <th>age</th>\n",
              "      <th>workclass</th>\n",
              "      <th>education.num</th>\n",
              "      <th>marital.status</th>\n",
              "      <th>occupation</th>\n",
              "      <th>relationship</th>\n",
              "      <th>race</th>\n",
              "      <th>sex</th>\n",
              "      <th>capital.gain</th>\n",
              "      <th>capital.loss</th>\n",
              "      <th>hours.per.week</th>\n",
              "      <th>native.country</th>\n",
              "    </tr>\n",
              "  </thead>\n",
              "  <tbody>\n",
              "    <tr>\n",
              "      <th>0</th>\n",
              "      <td>0.101484</td>\n",
              "      <td>2.600478</td>\n",
              "      <td>1.133894</td>\n",
              "      <td>-0.402341</td>\n",
              "      <td>-0.782234</td>\n",
              "      <td>2.214196</td>\n",
              "      <td>0.39298</td>\n",
              "      <td>-1.430470</td>\n",
              "      <td>-0.145189</td>\n",
              "      <td>-0.217407</td>\n",
              "      <td>-1.662414</td>\n",
              "      <td>0.262317</td>\n",
              "    </tr>\n",
              "    <tr>\n",
              "      <th>1</th>\n",
              "      <td>0.028248</td>\n",
              "      <td>-1.884720</td>\n",
              "      <td>-0.423425</td>\n",
              "      <td>-0.402341</td>\n",
              "      <td>-0.026696</td>\n",
              "      <td>-0.899410</td>\n",
              "      <td>0.39298</td>\n",
              "      <td>0.699071</td>\n",
              "      <td>-0.145189</td>\n",
              "      <td>-0.217407</td>\n",
              "      <td>-0.200753</td>\n",
              "      <td>0.262317</td>\n",
              "    </tr>\n",
              "    <tr>\n",
              "      <th>2</th>\n",
              "      <td>0.247956</td>\n",
              "      <td>-0.090641</td>\n",
              "      <td>-0.034095</td>\n",
              "      <td>0.926666</td>\n",
              "      <td>-0.782234</td>\n",
              "      <td>-0.276689</td>\n",
              "      <td>0.39298</td>\n",
              "      <td>-1.430470</td>\n",
              "      <td>-0.145189</td>\n",
              "      <td>-0.217407</td>\n",
              "      <td>-0.038346</td>\n",
              "      <td>0.262317</td>\n",
              "    </tr>\n",
              "    <tr>\n",
              "      <th>3</th>\n",
              "      <td>-0.850587</td>\n",
              "      <td>-1.884720</td>\n",
              "      <td>-0.423425</td>\n",
              "      <td>0.926666</td>\n",
              "      <td>-0.530388</td>\n",
              "      <td>0.968753</td>\n",
              "      <td>0.39298</td>\n",
              "      <td>0.699071</td>\n",
              "      <td>-0.145189</td>\n",
              "      <td>-0.217407</td>\n",
              "      <td>-0.038346</td>\n",
              "      <td>0.262317</td>\n",
              "    </tr>\n",
              "    <tr>\n",
              "      <th>4</th>\n",
              "      <td>-0.044989</td>\n",
              "      <td>-2.781760</td>\n",
              "      <td>1.523223</td>\n",
              "      <td>-0.402341</td>\n",
              "      <td>-0.782234</td>\n",
              "      <td>-0.899410</td>\n",
              "      <td>0.39298</td>\n",
              "      <td>0.699071</td>\n",
              "      <td>-0.145189</td>\n",
              "      <td>-0.217407</td>\n",
              "      <td>-0.038346</td>\n",
              "      <td>0.262317</td>\n",
              "    </tr>\n",
              "  </tbody>\n",
              "</table>\n",
              "</div>"
            ],
            "text/plain": [
              "        age  workclass  ...  hours.per.week  native.country\n",
              "0  0.101484   2.600478  ...       -1.662414        0.262317\n",
              "1  0.028248  -1.884720  ...       -0.200753        0.262317\n",
              "2  0.247956  -0.090641  ...       -0.038346        0.262317\n",
              "3 -0.850587  -1.884720  ...       -0.038346        0.262317\n",
              "4 -0.044989  -2.781760  ...       -0.038346        0.262317\n",
              "\n",
              "[5 rows x 12 columns]"
            ]
          },
          "metadata": {
            "tags": []
          },
          "execution_count": 34
        }
      ]
    },
    {
      "cell_type": "code",
      "metadata": {
        "id": "kqpBjy5YEIJk",
        "colab": {
          "base_uri": "https://localhost:8080/"
        },
        "outputId": "4694c694-0d51-4568-bffd-74b4f9b19356"
      },
      "source": [
        "print(min(X_train['age']))\n",
        "print(max(X_train['age']))\n",
        "print(np.mean(X_train['age']))\n",
        "print(np.var(X_train['age']))\n",
        "print('\\n')\n",
        "print(min(X_test['age']))\n",
        "print(max(X_test['age']))\n",
        "print(np.mean(X_test['age']))\n",
        "print(np.var(X_test['age']))"
      ],
      "execution_count": null,
      "outputs": [
        {
          "output_type": "stream",
          "text": [
            "17\n",
            "90\n",
            "38.61429448929449\n",
            "186.44402697680837\n",
            "\n",
            "\n",
            "17\n",
            "90\n",
            "38.505476507319074\n",
            "185.14136114308525\n"
          ],
          "name": "stdout"
        }
      ]
    },
    {
      "cell_type": "code",
      "metadata": {
        "colab": {
          "base_uri": "https://localhost:8080/"
        },
        "id": "HaN2h7IilIRL",
        "outputId": "1b89047c-feae-47d9-e237-ca23443e3b73"
      },
      "source": [
        "print(min(X_train_scaled['age']))\n",
        "print(max(X_train_scaled['age']))\n",
        "print(np.mean(X_train_scaled['age']))\n",
        "print(np.var(X_train_scaled['age']))\n",
        "print('\\n')\n",
        "print(min(X_test_scaled['age']))\n",
        "print(max(X_test_scaled['age']))\n",
        "print(np.mean(X_test_scaled['age']))\n",
        "print(np.var(X_test_scaled['age']))"
      ],
      "execution_count": null,
      "outputs": [
        {
          "output_type": "stream",
          "text": [
            "-1.5829486507307393\n",
            "3.7632934651328265\n",
            "1.5671010251132251e-16\n",
            "0.9999999999999883\n",
            "\n",
            "\n",
            "-1.5829486507307393\n",
            "3.7632934651328265\n",
            "-0.007969414769866536\n",
            "0.9930130996694251\n"
          ],
          "name": "stdout"
        }
      ]
    },
    {
      "cell_type": "markdown",
      "metadata": {
        "id": "uyrluBHm0qI4"
      },
      "source": [
        "### 참고: scikit-learn에서 제공하는 피처 스케일러(scaler)\n",
        "\n",
        "- `StandardScaler`: 기본 스케일, 각 피처의 평균을 0, 표준편차를 1로 변환\n",
        "- `RobustScaler`: 위와 유사하지만 평균 대신 중간값(median)과 일분위, 삼분위값(quartile)을 사용하여 이상치 영향을 최소화\n",
        "- `MinMaxScaler`: 모든 피처의 최대치와 최소치가 각각 1, 0이 되도록 스케일 조정\n",
        "- `Normalizer`: 피처(컬럼)이 아니라 row마다 정규화되며, 유클리드 거리가 1이 되도록 데이터를 조정하여 빠르게 학습할 수 있게 함\n",
        "\n",
        "<p> 스케일 조정을 하는 이유는 데이터의 값이 너무 크거나 작을 때 학습이 제대로 되지 않을 수도 있기 때문입니다. 또한 스케일의 영향이 절대적인 분류기(예: knn과 같은 거리기반 알고리즘)의 경우, 스케일 조정을 필수적으로 검토해야 합니다.\n",
        "    \n",
        "<p> 반면 어떤 항목은 원본 데이터의 분포를 유지하는 것이 나을 수도 있습니다. 예를 들어, 데이터가 거의 한 곳에 집중되어 있는 feature를 표준화시켜 분포를 같게 만들었을 때, 작은 단위의 변화가 큰 차이를 나타내는 것처럼 학습될 수도 있습니다. 또한 스케일의 영향을 크게 받지 않는 분류기(예: 트리 기반 앙상블 알고리즘)를 사용할 경우에도 성능이 준수하게 나오거나 과대적합(overfitting)의 우려가 적다면 생략할 수도 있습니다.\n",
        "    \n",
        "<p> 스케일 조정시 유의해야할 점은 원본 데이터의 의미를 잃어버릴 수 있다는 것입니다. 최종적으로 답을 구하는 것이 목적이 아니라 모델의 해석이나 향후 다른 데이터셋으로의 응용이 더 중요할 때 원 피처에 대한 설명력을 잃어버린다면 모델 개선이 어려울 수도 있습니다. 이 점을 함께 고려하시면 좋겠습니다."
      ]
    },
    {
      "cell_type": "code",
      "metadata": {
        "colab": {
          "base_uri": "https://localhost:8080/",
          "height": 309
        },
        "id": "xKRhOytwTgPt",
        "outputId": "b71c1631-9ab7-42fd-cb07-53ce75f79bbf"
      },
      "source": [
        "df.head()"
      ],
      "execution_count": null,
      "outputs": [
        {
          "output_type": "execute_result",
          "data": {
            "text/html": [
              "<div>\n",
              "<style scoped>\n",
              "    .dataframe tbody tr th:only-of-type {\n",
              "        vertical-align: middle;\n",
              "    }\n",
              "\n",
              "    .dataframe tbody tr th {\n",
              "        vertical-align: top;\n",
              "    }\n",
              "\n",
              "    .dataframe thead th {\n",
              "        text-align: right;\n",
              "    }\n",
              "</style>\n",
              "<table border=\"1\" class=\"dataframe\">\n",
              "  <thead>\n",
              "    <tr style=\"text-align: right;\">\n",
              "      <th></th>\n",
              "      <th>age</th>\n",
              "      <th>workclass</th>\n",
              "      <th>fnlwgt</th>\n",
              "      <th>education</th>\n",
              "      <th>education.num</th>\n",
              "      <th>marital.status</th>\n",
              "      <th>occupation</th>\n",
              "      <th>relationship</th>\n",
              "      <th>race</th>\n",
              "      <th>sex</th>\n",
              "      <th>capital.gain</th>\n",
              "      <th>capital.loss</th>\n",
              "      <th>hours.per.week</th>\n",
              "      <th>native.country</th>\n",
              "      <th>income</th>\n",
              "    </tr>\n",
              "  </thead>\n",
              "  <tbody>\n",
              "    <tr>\n",
              "      <th>0</th>\n",
              "      <td>90</td>\n",
              "      <td>Private</td>\n",
              "      <td>77053</td>\n",
              "      <td>HS-grad</td>\n",
              "      <td>9</td>\n",
              "      <td>Widowed</td>\n",
              "      <td>Prof-specialty</td>\n",
              "      <td>Not-in-family</td>\n",
              "      <td>White</td>\n",
              "      <td>Female</td>\n",
              "      <td>0</td>\n",
              "      <td>4356</td>\n",
              "      <td>40</td>\n",
              "      <td>United-States</td>\n",
              "      <td>1</td>\n",
              "    </tr>\n",
              "    <tr>\n",
              "      <th>1</th>\n",
              "      <td>82</td>\n",
              "      <td>Private</td>\n",
              "      <td>132870</td>\n",
              "      <td>HS-grad</td>\n",
              "      <td>9</td>\n",
              "      <td>Widowed</td>\n",
              "      <td>Exec-managerial</td>\n",
              "      <td>Not-in-family</td>\n",
              "      <td>White</td>\n",
              "      <td>Female</td>\n",
              "      <td>0</td>\n",
              "      <td>4356</td>\n",
              "      <td>18</td>\n",
              "      <td>United-States</td>\n",
              "      <td>1</td>\n",
              "    </tr>\n",
              "    <tr>\n",
              "      <th>2</th>\n",
              "      <td>66</td>\n",
              "      <td>Private</td>\n",
              "      <td>186061</td>\n",
              "      <td>Some-college</td>\n",
              "      <td>10</td>\n",
              "      <td>Widowed</td>\n",
              "      <td>Prof-specialty</td>\n",
              "      <td>Unmarried</td>\n",
              "      <td>Black</td>\n",
              "      <td>Female</td>\n",
              "      <td>0</td>\n",
              "      <td>4356</td>\n",
              "      <td>40</td>\n",
              "      <td>United-States</td>\n",
              "      <td>1</td>\n",
              "    </tr>\n",
              "    <tr>\n",
              "      <th>3</th>\n",
              "      <td>54</td>\n",
              "      <td>Private</td>\n",
              "      <td>140359</td>\n",
              "      <td>7th-8th</td>\n",
              "      <td>4</td>\n",
              "      <td>Divorced</td>\n",
              "      <td>Machine-op-inspct</td>\n",
              "      <td>Unmarried</td>\n",
              "      <td>White</td>\n",
              "      <td>Female</td>\n",
              "      <td>0</td>\n",
              "      <td>3900</td>\n",
              "      <td>40</td>\n",
              "      <td>United-States</td>\n",
              "      <td>1</td>\n",
              "    </tr>\n",
              "    <tr>\n",
              "      <th>4</th>\n",
              "      <td>41</td>\n",
              "      <td>Private</td>\n",
              "      <td>264663</td>\n",
              "      <td>Some-college</td>\n",
              "      <td>10</td>\n",
              "      <td>Separated</td>\n",
              "      <td>Prof-specialty</td>\n",
              "      <td>Own-child</td>\n",
              "      <td>White</td>\n",
              "      <td>Female</td>\n",
              "      <td>0</td>\n",
              "      <td>3900</td>\n",
              "      <td>40</td>\n",
              "      <td>United-States</td>\n",
              "      <td>1</td>\n",
              "    </tr>\n",
              "  </tbody>\n",
              "</table>\n",
              "</div>"
            ],
            "text/plain": [
              "   age workclass  fnlwgt  ... hours.per.week  native.country income\n",
              "0   90   Private   77053  ...             40   United-States      1\n",
              "1   82   Private  132870  ...             18   United-States      1\n",
              "2   66   Private  186061  ...             40   United-States      1\n",
              "3   54   Private  140359  ...             40   United-States      1\n",
              "4   41   Private  264663  ...             40   United-States      1\n",
              "\n",
              "[5 rows x 15 columns]"
            ]
          },
          "metadata": {
            "tags": []
          },
          "execution_count": 37
        }
      ]
    },
    {
      "cell_type": "code",
      "metadata": {
        "colab": {
          "base_uri": "https://localhost:8080/",
          "height": 35
        },
        "id": "6qlW_9HWTjQ-",
        "outputId": "b3b87f62-bf18-4b71-c5dc-7518027ffb8f"
      },
      "source": [
        "df[\"sex\"].value_counts().index[1]"
      ],
      "execution_count": null,
      "outputs": [
        {
          "output_type": "execute_result",
          "data": {
            "application/vnd.google.colaboratory.intrinsic+json": {
              "type": "string"
            },
            "text/plain": [
              "'Female'"
            ]
          },
          "metadata": {
            "tags": []
          },
          "execution_count": 38
        }
      ]
    },
    {
      "cell_type": "code",
      "metadata": {
        "colab": {
          "base_uri": "https://localhost:8080/"
        },
        "id": "W7X9JvjdT2sg",
        "outputId": "3551e8cf-4542-4082-f8a7-84692c766e35"
      },
      "source": [
        "df.groupby(\"sex\")[\"income\"].value_counts()"
      ],
      "execution_count": null,
      "outputs": [
        {
          "output_type": "execute_result",
          "data": {
            "text/plain": [
              "sex     income\n",
              "Female  1          9592\n",
              "        0          1179\n",
              "Male    1         15128\n",
              "        0          6662\n",
              "Name: income, dtype: int64"
            ]
          },
          "metadata": {
            "tags": []
          },
          "execution_count": 39
        }
      ]
    },
    {
      "cell_type": "code",
      "metadata": {
        "colab": {
          "base_uri": "https://localhost:8080/"
        },
        "id": "p3jPRHbeUrz5",
        "outputId": "043b66f7-efc8-4887-a305-a0852920c45d"
      },
      "source": [
        "x_plot = [\"Y\", \"N\"]\n",
        "\n",
        "odds = []\n",
        "# x_plot = []\n",
        "origin = df.groupby(\"sex\")[\"income\"].value_counts()\n",
        "for i in range(0, len(origin), 2):\n",
        "  b = origin[i]/origin[i+1]\n",
        "  if b < 1:\n",
        "    b = 2-1/b\n",
        "  odds.append(b)\n",
        "\n",
        "  # c = origin.index[i][0]\n",
        "  # x_plot.append(c)\n",
        "odds"
      ],
      "execution_count": null,
      "outputs": [
        {
          "output_type": "execute_result",
          "data": {
            "text/plain": [
              "[8.13570822731128, 2.270789552686881]"
            ]
          },
          "metadata": {
            "tags": []
          },
          "execution_count": 40
        }
      ]
    },
    {
      "cell_type": "code",
      "metadata": {
        "colab": {
          "base_uri": "https://localhost:8080/",
          "height": 492
        },
        "id": "rAfCAifTXCOW",
        "outputId": "f0ee06a0-40f9-44c7-fee4-374154356798"
      },
      "source": [
        "plt.plot([0,1], [1,1], linestyle='--', color='black')\n",
        "plt.plot(x_plot, odds, marker='o', label=\"feature1\")\n",
        "plt.plot(x_plot, odds2, marker='o', label=\"feature2\")\n",
        "plt.title('ODDS Analysis', fontsize=10) \n",
        "# plt.xlabel('bin')\n",
        "plt.ylabel('ODDS')\n",
        "plt.legend(fontsize=8, loc='best')\n",
        "plt.show()"
      ],
      "execution_count": null,
      "outputs": [
        {
          "output_type": "error",
          "ename": "NameError",
          "evalue": "ignored",
          "traceback": [
            "\u001b[0;31m---------------------------------------------------------------------------\u001b[0m",
            "\u001b[0;31mNameError\u001b[0m                                 Traceback (most recent call last)",
            "\u001b[0;32m<ipython-input-41-d61e804e85b9>\u001b[0m in \u001b[0;36m<module>\u001b[0;34m()\u001b[0m\n\u001b[1;32m      1\u001b[0m \u001b[0mplt\u001b[0m\u001b[0;34m.\u001b[0m\u001b[0mplot\u001b[0m\u001b[0;34m(\u001b[0m\u001b[0;34m[\u001b[0m\u001b[0;36m0\u001b[0m\u001b[0;34m,\u001b[0m\u001b[0;36m1\u001b[0m\u001b[0;34m]\u001b[0m\u001b[0;34m,\u001b[0m \u001b[0;34m[\u001b[0m\u001b[0;36m1\u001b[0m\u001b[0;34m,\u001b[0m\u001b[0;36m1\u001b[0m\u001b[0;34m]\u001b[0m\u001b[0;34m,\u001b[0m \u001b[0mlinestyle\u001b[0m\u001b[0;34m=\u001b[0m\u001b[0;34m'--'\u001b[0m\u001b[0;34m,\u001b[0m \u001b[0mcolor\u001b[0m\u001b[0;34m=\u001b[0m\u001b[0;34m'black'\u001b[0m\u001b[0;34m)\u001b[0m\u001b[0;34m\u001b[0m\u001b[0;34m\u001b[0m\u001b[0m\n\u001b[1;32m      2\u001b[0m \u001b[0mplt\u001b[0m\u001b[0;34m.\u001b[0m\u001b[0mplot\u001b[0m\u001b[0;34m(\u001b[0m\u001b[0mx_plot\u001b[0m\u001b[0;34m,\u001b[0m \u001b[0modds\u001b[0m\u001b[0;34m,\u001b[0m \u001b[0mmarker\u001b[0m\u001b[0;34m=\u001b[0m\u001b[0;34m'o'\u001b[0m\u001b[0;34m,\u001b[0m \u001b[0mlabel\u001b[0m\u001b[0;34m=\u001b[0m\u001b[0;34m\"feature1\"\u001b[0m\u001b[0;34m)\u001b[0m\u001b[0;34m\u001b[0m\u001b[0;34m\u001b[0m\u001b[0m\n\u001b[0;32m----> 3\u001b[0;31m \u001b[0mplt\u001b[0m\u001b[0;34m.\u001b[0m\u001b[0mplot\u001b[0m\u001b[0;34m(\u001b[0m\u001b[0mx_plot\u001b[0m\u001b[0;34m,\u001b[0m \u001b[0modds2\u001b[0m\u001b[0;34m,\u001b[0m \u001b[0mmarker\u001b[0m\u001b[0;34m=\u001b[0m\u001b[0;34m'o'\u001b[0m\u001b[0;34m,\u001b[0m \u001b[0mlabel\u001b[0m\u001b[0;34m=\u001b[0m\u001b[0;34m\"feature2\"\u001b[0m\u001b[0;34m)\u001b[0m\u001b[0;34m\u001b[0m\u001b[0;34m\u001b[0m\u001b[0m\n\u001b[0m\u001b[1;32m      4\u001b[0m \u001b[0mplt\u001b[0m\u001b[0;34m.\u001b[0m\u001b[0mtitle\u001b[0m\u001b[0;34m(\u001b[0m\u001b[0;34m'ODDS Analysis'\u001b[0m\u001b[0;34m,\u001b[0m \u001b[0mfontsize\u001b[0m\u001b[0;34m=\u001b[0m\u001b[0;36m10\u001b[0m\u001b[0;34m)\u001b[0m\u001b[0;34m\u001b[0m\u001b[0;34m\u001b[0m\u001b[0m\n\u001b[1;32m      5\u001b[0m \u001b[0;31m# plt.xlabel('bin')\u001b[0m\u001b[0;34m\u001b[0m\u001b[0;34m\u001b[0m\u001b[0;34m\u001b[0m\u001b[0m\n",
            "\u001b[0;31mNameError\u001b[0m: name 'odds2' is not defined"
          ]
        },
        {
          "output_type": "display_data",
          "data": {
            "image/png": "[encoded data removed]",
            "text/plain": [
              "<Figure size 432x288 with 1 Axes>"
            ]
          },
          "metadata": {
            "tags": [],
            "needs_background": "light"
          }
        }
      ]
    },
    {
      "cell_type": "markdown",
      "metadata": {
        "id": "FSA1NIBa0qI6"
      },
      "source": [
        "## Step 3. 선형 분류모델 구현하기"
      ]
    },
    {
      "cell_type": "markdown",
      "metadata": {
        "id": "14kriJ_j0qI6"
      },
      "source": [
        "### 문제 10. 원 데이터를 이용하여 Logistic Regression 모델 돌려보기"
      ]
    },
    {
      "cell_type": "code",
      "metadata": {
        "id": "RVP2tN1U0qI7",
        "colab": {
          "base_uri": "https://localhost:8080/"
        },
        "outputId": "49ab43ef-8f3d-4b56-8a1c-d61660fc7e11"
      },
      "source": [
        "# Feature scaling 전 원본 데이터\n",
        "from sklearn.linear_model import LogisticRegression\n",
        "from sklearn.metrics import accuracy_score\n",
        "\n",
        "logreg =  LogisticRegression()\n",
        "logreg.fit(X_train, y_train)"
      ],
      "execution_count": null,
      "outputs": [
        {
          "output_type": "execute_result",
          "data": {
            "text/plain": [
              "LogisticRegression(C=1.0, class_weight=None, dual=False, fit_intercept=True,\n",
              "                   intercept_scaling=1, l1_ratio=None, max_iter=100,\n",
              "                   multi_class='auto', n_jobs=None, penalty='l2',\n",
              "                   random_state=None, solver='lbfgs', tol=0.0001, verbose=0,\n",
              "                   warm_start=False)"
            ]
          },
          "metadata": {
            "tags": []
          },
          "execution_count": 42
        }
      ]
    },
    {
      "cell_type": "markdown",
      "metadata": {
        "id": "fIH9m2RF0qI7"
      },
      "source": [
        "### 문제 11. 원 데이터를 이용한 Logistic Regression 모델의 정확도 확인하기"
      ]
    },
    {
      "cell_type": "code",
      "metadata": {
        "scrolled": false,
        "id": "teFIrxQA0qI8",
        "colab": {
          "base_uri": "https://localhost:8080/"
        },
        "outputId": "59427e27-bc9c-48dd-a346-ff3a04067dde"
      },
      "source": [
        "y_pred =  logreg.predict(X_test)\n",
        "logreg_score =  accuracy_score(y_test, y_pred)\n",
        "print(f'Logistic Regression accuracy score: {accuracy_score(y_test, y_pred):.4f}')"
      ],
      "execution_count": null,
      "outputs": [
        {
          "output_type": "stream",
          "text": [
            "Logistic Regression accuracy score: 0.8057\n"
          ],
          "name": "stdout"
        }
      ]
    },
    {
      "cell_type": "code",
      "metadata": {
        "colab": {
          "base_uri": "https://localhost:8080/"
        },
        "id": "H_AOnYcGTK60",
        "outputId": "6f028120-e2de-4af2-fac6-b9e094648e16"
      },
      "source": [
        "X_test.columns"
      ],
      "execution_count": null,
      "outputs": [
        {
          "output_type": "execute_result",
          "data": {
            "text/plain": [
              "Index(['age', 'workclass', 'education.num', 'marital.status', 'occupation',\n",
              "       'relationship', 'race', 'sex', 'capital.gain', 'capital.loss',\n",
              "       'hours.per.week', 'native.country'],\n",
              "      dtype='object')"
            ]
          },
          "metadata": {
            "tags": []
          },
          "execution_count": 45
        }
      ]
    },
    {
      "cell_type": "code",
      "metadata": {
        "colab": {
          "base_uri": "https://localhost:8080/"
        },
        "id": "RQHpyVJKTGSw",
        "outputId": "42493ea5-86ce-402f-96ed-896c75f6eebb"
      },
      "source": [
        "print(logreg.coef_)"
      ],
      "execution_count": null,
      "outputs": [
        {
          "output_type": "stream",
          "text": [
            "[[-7.30761177e-03  1.60520018e-01 -2.11132140e-01  3.73179716e-01\n",
            "   9.25580068e-03  3.87927067e-01  1.08936044e-01 -6.31126355e-02\n",
            "  -3.25188572e-04 -7.09540483e-04 -9.17003736e-03  5.53514710e-02]]\n"
          ],
          "name": "stdout"
        }
      ]
    },
    {
      "cell_type": "code",
      "metadata": {
        "colab": {
          "base_uri": "https://localhost:8080/"
        },
        "id": "_RNwNLxkTfRp",
        "outputId": "0334fcd3-8ac5-47ed-b479-a2f5d2b65a92"
      },
      "source": [
        "logreg.intercept_"
      ],
      "execution_count": null,
      "outputs": [
        {
          "output_type": "execute_result",
          "data": {
            "text/plain": [
              "array([0.05844124])"
            ]
          },
          "metadata": {
            "tags": []
          },
          "execution_count": 46
        }
      ]
    },
    {
      "cell_type": "code",
      "metadata": {
        "id": "JgHIGammydal"
      },
      "source": [
        "y_train = y_train.values\n",
        "x_train = X_train_scaled.values\n",
        "x_test = X_test_scaled.values\n",
        "feature_name = X_train_scaled.columns.tolist()"
      ],
      "execution_count": null,
      "outputs": []
    },
    {
      "cell_type": "code",
      "metadata": {
        "colab": {
          "base_uri": "https://localhost:8080/"
        },
        "id": "0U9xlVgpzm4E",
        "outputId": "67665a86-a96c-4f73-cc12-68c34aec58dd"
      },
      "source": [
        "x_train"
      ],
      "execution_count": null,
      "outputs": [
        {
          "output_type": "execute_result",
          "data": {
            "text/plain": [
              "array([[90, 'Private', 77053, ..., 4356, 40, 'United-States'],\n",
              "       [82, 'Private', 132870, ..., 4356, 18, 'United-States'],\n",
              "       [66, 'Private', 186061, ..., 4356, 40, 'United-States'],\n",
              "       ...,\n",
              "       [21, 'Private', 433330, ..., 0, 40, 'United-States'],\n",
              "       [25, 'Private', 258379, ..., 0, 32, 'United-States'],\n",
              "       [44, 'Private', 162028, ..., 0, 44, 'United-States']], dtype=object)"
            ]
          },
          "metadata": {
            "tags": []
          },
          "execution_count": 208
        }
      ]
    },
    {
      "cell_type": "code",
      "metadata": {
        "id": "xcDN8LSInlEb"
      },
      "source": [
        "from sklearn.model_selection import train_test_split, KFold, StratifiedKFold, cross_val_score\n",
        "from tensorflow import keras\n",
        "from tensorflow.keras import Input, Model, Sequential\n",
        "from tensorflow.keras.callbacks import EarlyStopping, ReduceLROnPlateau\n",
        "from tensorflow.keras.layers import Dense\n",
        "from tensorflow.keras.utils import plot_model, to_categorical\n",
        "\n",
        "def get_model():\n",
        "    inputs = Input(shape=(len(feature_name),))\n",
        "    x = Dense(32, activation='relu')(inputs)\n",
        "    x = Dense(32, activation='relu')(x)\n",
        "    x = Dense(128, activation='relu')(x)\n",
        "    outputs = Dense(2, activation='softmax')(x)\n",
        "    model = Model(inputs=inputs, outputs=outputs)\n",
        "    model.compile(loss='categorical_crossentropy', optimizer='adam')\n",
        "    return model\n"
      ],
      "execution_count": null,
      "outputs": []
    },
    {
      "cell_type": "code",
      "metadata": {
        "id": "lVzp6o7bsNPN"
      },
      "source": [
        "cv = StratifiedKFold(n_splits=3, shuffle=True, random_state=0)\n",
        "p_val = np.zeros((x_train.shape[0], 2))\n",
        "p_tst = np.zeros((x_test.shape[0], 2))"
      ],
      "execution_count": null,
      "outputs": []
    },
    {
      "cell_type": "code",
      "metadata": {
        "colab": {
          "base_uri": "https://localhost:8080/"
        },
        "id": "kLiJeG1ExAV-",
        "outputId": "59b30cae-8b5c-4031-e319-b9071acf0dd7"
      },
      "source": [
        "clf = get_model()\n",
        "\n",
        "es = EarlyStopping(monitor='val_loss', min_delta=0.001, patience=5,\n",
        "                    verbose=1, mode='min', baseline=None, restore_best_weights=True)\n",
        "\n",
        "rlr = ReduceLROnPlateau(monitor='val_loss', factor=0.5,\n",
        "                        patience=3, min_lr=1e-6, mode='min', verbose=1)\n",
        "\n",
        "clf.fit(x_train, \n",
        "        to_categorical(y_train),\n",
        "        epochs=2,\n",
        "        callbacks=[es, rlr])"
      ],
      "execution_count": null,
      "outputs": [
        {
          "output_type": "stream",
          "text": [
            "Epoch 1/2\n",
            "713/713 [==============================] - 1s 1ms/step - loss: 0.3615\n",
            "WARNING:tensorflow:Early stopping conditioned on metric `val_loss` which is not available. Available metrics are: loss\n",
            "WARNING:tensorflow:Learning rate reduction is conditioned on metric `val_loss` which is not available. Available metrics are: loss,lr\n",
            "Epoch 2/2\n",
            "713/713 [==============================] - 1s 1ms/step - loss: 0.3281\n",
            "WARNING:tensorflow:Early stopping conditioned on metric `val_loss` which is not available. Available metrics are: loss\n",
            "WARNING:tensorflow:Learning rate reduction is conditioned on metric `val_loss` which is not available. Available metrics are: loss,lr\n"
          ],
          "name": "stdout"
        },
        {
          "output_type": "execute_result",
          "data": {
            "text/plain": [
              "<tensorflow.python.keras.callbacks.History at 0x7fa2678a8d50>"
            ]
          },
          "metadata": {
            "tags": []
          },
          "execution_count": 233
        }
      ]
    },
    {
      "cell_type": "code",
      "metadata": {
        "colab": {
          "base_uri": "https://localhost:8080/"
        },
        "id": "x7Ql7EtKvpdu",
        "outputId": "5603269c-b6eb-40c1-91f3-70f52eb579ba"
      },
      "source": [
        "for i, (i_trn, i_val) in enumerate(cv.split(x_train, y_train), 1):\n",
        "    print(f'training model for CV #{i}')\n",
        "    clf = get_model()\n",
        "    \n",
        "    es = EarlyStopping(monitor='val_loss', min_delta=0.001, patience=5,\n",
        "                       verbose=1, mode='min', baseline=None, restore_best_weights=True)\n",
        "\n",
        "    rlr = ReduceLROnPlateau(monitor='val_loss', factor=0.5,\n",
        "                            patience=3, min_lr=1e-6, mode='min', verbose=1)\n",
        "\n",
        "    clf.fit(x_train[i_trn], \n",
        "            to_categorical(y_train[i_trn]),\n",
        "            validation_data=(x_train[i_val], to_categorical(y_train[i_val])),\n",
        "            epochs=5,\n",
        "            callbacks=[es, rlr])\n",
        "    p_val[i_val, :] = clf.predict(x_train[i_val])\n",
        "    p_tst += clf.predict(x_test) / 3"
      ],
      "execution_count": null,
      "outputs": [
        {
          "output_type": "stream",
          "text": [
            "training model for CV #1\n",
            "Epoch 1/5\n",
            "475/475 [==============================] - 1s 2ms/step - loss: 0.3848 - val_loss: 0.3368\n",
            "Epoch 2/5\n",
            "475/475 [==============================] - 1s 2ms/step - loss: 0.3318 - val_loss: 0.3272\n",
            "Epoch 3/5\n",
            "475/475 [==============================] - 1s 2ms/step - loss: 0.3253 - val_loss: 0.3258\n",
            "Epoch 4/5\n",
            "475/475 [==============================] - 1s 2ms/step - loss: 0.3210 - val_loss: 0.3302\n",
            "Epoch 5/5\n",
            "475/475 [==============================] - 1s 2ms/step - loss: 0.3183 - val_loss: 0.3217\n",
            "training model for CV #2\n",
            "Epoch 1/5\n",
            "475/475 [==============================] - 1s 2ms/step - loss: 0.3842 - val_loss: 0.3391\n",
            "Epoch 2/5\n",
            "475/475 [==============================] - 1s 2ms/step - loss: 0.3288 - val_loss: 0.3311\n",
            "Epoch 3/5\n",
            "475/475 [==============================] - 1s 2ms/step - loss: 0.3227 - val_loss: 0.3268\n",
            "Epoch 4/5\n",
            "475/475 [==============================] - 1s 2ms/step - loss: 0.3179 - val_loss: 0.3267\n",
            "Epoch 5/5\n",
            "475/475 [==============================] - 1s 2ms/step - loss: 0.3159 - val_loss: 0.3259\n",
            "training model for CV #3\n",
            "Epoch 1/5\n",
            "475/475 [==============================] - 1s 2ms/step - loss: 0.3739 - val_loss: 0.3388\n",
            "Epoch 2/5\n",
            "475/475 [==============================] - 1s 2ms/step - loss: 0.3300 - val_loss: 0.3321\n",
            "Epoch 3/5\n",
            "475/475 [==============================] - 1s 2ms/step - loss: 0.3240 - val_loss: 0.3277\n",
            "Epoch 4/5\n",
            "475/475 [==============================] - 1s 2ms/step - loss: 0.3195 - val_loss: 0.3258\n",
            "Epoch 5/5\n",
            "475/475 [==============================] - 1s 2ms/step - loss: 0.3168 - val_loss: 0.3328\n"
          ],
          "name": "stdout"
        }
      ]
    },
    {
      "cell_type": "code",
      "metadata": {
        "colab": {
          "base_uri": "https://localhost:8080/"
        },
        "id": "vOeyo_-bsTim",
        "outputId": "0cf35cf3-ccf0-4c15-961a-ea8335d58b77"
      },
      "source": [
        "print(f'{accuracy_score(y_train, np.argmax(p_val, axis=1)) * 100:.4f}%')"
      ],
      "execution_count": null,
      "outputs": [
        {
          "output_type": "stream",
          "text": [
            "84.5823%\n"
          ],
          "name": "stdout"
        }
      ]
    },
    {
      "cell_type": "code",
      "metadata": {
        "id": "I5wv_T2ddV82"
      },
      "source": [
        "p_val2 = logreg.predict_proba(X_test)\n",
        "p_val2 = p_val2[:, 1]"
      ],
      "execution_count": null,
      "outputs": []
    },
    {
      "cell_type": "code",
      "metadata": {
        "colab": {
          "base_uri": "https://localhost:8080/"
        },
        "id": "Zcmf47sxdgSY",
        "outputId": "deb90d8a-5c96-4261-96df-87d0643ce726"
      },
      "source": [
        "from numpy import argmax, sqrt\n",
        "from sklearn.metrics import classification_report, roc_curve, plot_roc_curve, auc, precision_recall_curve, plot_precision_recall_curve\n",
        "import matplotlib.pyplot as plt\n",
        "\n",
        "fpr, tpr, thresholds = roc_curve(y_test, p_val2)\n",
        "gmean = sqrt(tpr * (1-fpr)) # 기하평균\n",
        "ix = argmax(gmean) # locate the index of the largest G-Mean\n",
        "print('Best Threshold=%f, G-Mean=%.3f' % (thresholds[ix], gmean[ix]))"
      ],
      "execution_count": null,
      "outputs": [
        {
          "output_type": "stream",
          "text": [
            "Best Threshold=0.771365, G-Mean=0.742\n"
          ],
          "name": "stdout"
        }
      ]
    },
    {
      "cell_type": "code",
      "metadata": {
        "colab": {
          "base_uri": "https://localhost:8080/",
          "height": 279
        },
        "id": "q_ILSzWqjPcM",
        "outputId": "96be5f76-e606-4091-ab86-5070881bed3c"
      },
      "source": [
        "ax = plt.figure().gca()\n",
        "plt.plot([0,1], [0,1], linestyle='--', color='black')\n",
        "plot_roc_curve(logreg, X_test, y_test, ax=ax)\n",
        "# plt.plot(fpr, tpr, label='Logistic')\n",
        "plt.scatter(fpr[ix], tpr[ix], marker='+', s=100, color='r', label='Best Threshold')\n",
        "plt.xlabel('False Positive Rate')\n",
        "plt.ylabel('True Positive Rate')\n",
        "plt.legend() # 범례\n",
        "plt.show()\n"
      ],
      "execution_count": null,
      "outputs": [
        {
          "output_type": "display_data",
          "data": {
            "image/png": "[encoded data removed]",
            "text/plain": [
              "<Figure size 432x288 with 1 Axes>"
            ]
          },
          "metadata": {
            "tags": [],
            "needs_background": "light"
          }
        }
      ]
    },
    {
      "cell_type": "code",
      "metadata": {
        "colab": {
          "base_uri": "https://localhost:8080/",
          "height": 279
        },
        "id": "CE0BrzcInlxW",
        "outputId": "d20e369c-fc27-45a9-f25b-dc8955c203e1"
      },
      "source": [
        "ax = plt.figure().gca()\n",
        "plt.plot([0,1], [0,1], linestyle='--', color='black')\n",
        "plot_roc_curve(logreg, X_test, y_test, ax=ax)\n",
        "# plt.plot(fpr, tpr, label='Logistic')\n",
        "plt.scatter(fpr[ix], tpr[ix], marker='+', s=100, color='r', label='Best Threshold')\n",
        "label = str(round(thresholds[ix], 4))\n",
        "plt.annotate(\n",
        "    label,\n",
        "    xy=(fpr[ix], tpr[ix]), xytext=(-20, 20),\n",
        "    textcoords='offset points', ha='center', va='bottom',\n",
        "    bbox=dict(boxstyle='round,pad=0.5', fc='yellow', alpha=0.5),\n",
        "    arrowprops=dict(arrowstyle = '->', connectionstyle='arc3,rad=0'))\n",
        "plt.xlabel('False Positive Rate')\n",
        "plt.ylabel('True Positive Rate')\n",
        "plt.legend() # 범례\n",
        "plt.show()"
      ],
      "execution_count": null,
      "outputs": [
        {
          "output_type": "display_data",
          "data": {
            "image/png": "[encoded data removed]",
            "text/plain": [
              "<Figure size 432x288 with 1 Axes>"
            ]
          },
          "metadata": {
            "tags": [],
            "needs_background": "light"
          }
        }
      ]
    },
    {
      "cell_type": "code",
      "metadata": {
        "colab": {
          "base_uri": "https://localhost:8080/"
        },
        "id": "FUhe1m2MnmGT",
        "outputId": "e34cf8bc-88a9-4d3f-adcb-0bb0b6696745"
      },
      "source": [
        "precision, recall, thresholds = precision_recall_curve(y_test, p_val2)\n",
        "f1score = (2 * precision * recall) / (precision + recall) # 조화평균 # precision 또는 recall이 0에 가까울수록 F1-Score도 동일하게 낮은 값을 갖도록 하기위함 # 일반적인 산술평균 사용 시에는 실제보다 성능이 좋아보이는 착시를 줌\n",
        "ix = argmax(f1score) # locate the index of the largest F1-Score\n",
        "print('Best Threshold=%f, F1-Score=%.3f' % (thresholds[ix], fscore[ix]))"
      ],
      "execution_count": null,
      "outputs": [
        {
          "output_type": "stream",
          "text": [
            "Best Threshold=0.314758, F1-Score=0.886\n"
          ],
          "name": "stdout"
        }
      ]
    },
    {
      "cell_type": "code",
      "metadata": {
        "colab": {
          "base_uri": "https://localhost:8080/",
          "height": 279
        },
        "id": "IJi1Zs98o6NO",
        "outputId": "e9cb2d3e-7eac-4ae8-e46f-02e7306f8c27"
      },
      "source": [
        "ax = plt.figure().gca()\n",
        "plot_precision_recall_curve(logreg, X_test, y_test, ax=ax)\n",
        "# plt.plot(recall, precision, label='Logistic')\n",
        "plt.scatter(recall[ix], precision[ix], marker='+', s=150, color='r', label='Best Threshold')\n",
        "label = str(round(thresholds[ix], 4))\n",
        "plt.annotate(\n",
        "    label,\n",
        "    xy=(recall[ix], precision[ix]), xytext=(-20, 20),\n",
        "    textcoords='offset points', ha='right', va='bottom',\n",
        "    bbox=dict(boxstyle='round,pad=0.5', fc='yellow', alpha=0.5),\n",
        "    arrowprops=dict(arrowstyle = '->', connectionstyle='arc3,rad=0'))\n",
        "plt.xlabel('Recall')\n",
        "plt.ylabel('Precision')\n",
        "plt.legend(loc=\"lower left\")\n",
        "plt.show()"
      ],
      "execution_count": null,
      "outputs": [
        {
          "output_type": "display_data",
          "data": {
            "image/png": "[encoded data removed]",
            "text/plain": [
              "<Figure size 432x288 with 1 Axes>"
            ]
          },
          "metadata": {
            "tags": [],
            "needs_background": "light"
          }
        }
      ]
    },
    {
      "cell_type": "code",
      "metadata": {
        "id": "TWoK1G862DzU"
      },
      "source": [
        ""
      ],
      "execution_count": null,
      "outputs": []
    },
    {
      "cell_type": "markdown",
      "metadata": {
        "id": "-BDOntMa0qI8"
      },
      "source": [
        "### 문제 12. 스케일 조정된 데이터를 이용하여 Logistic Regression 모델 돌려보기"
      ]
    },
    {
      "cell_type": "code",
      "metadata": {
        "id": "3M9JMiNZ0qI8",
        "colab": {
          "base_uri": "https://localhost:8080/"
        },
        "outputId": "ec2256c0-fe55-40de-dace-fe88016ba7b7"
      },
      "source": [
        "# Feature scaling 후 변환 데이터\n",
        "from sklearn.linear_model import LogisticRegression\n",
        "from sklearn.metrics import accuracy_score\n",
        "\n",
        "logreg = LogisticRegression()\n",
        "logreg.fit(X_train_scaled, y_train)"
      ],
      "execution_count": null,
      "outputs": [
        {
          "output_type": "execute_result",
          "data": {
            "text/plain": [
              "LogisticRegression(C=1.0, class_weight=None, dual=False, fit_intercept=True,\n",
              "                   intercept_scaling=1, l1_ratio=None, max_iter=100,\n",
              "                   multi_class='auto', n_jobs=None, penalty='l2',\n",
              "                   random_state=None, solver='lbfgs', tol=0.0001, verbose=0,\n",
              "                   warm_start=False)"
            ]
          },
          "metadata": {
            "tags": []
          },
          "execution_count": 135
        }
      ]
    },
    {
      "cell_type": "code",
      "metadata": {
        "id": "CWlssCM-P6_I"
      },
      "source": [
        "list = []\n",
        "for i in np.arange(0, 1.1, 0.1):\n",
        "  threshold = i\n",
        "  p_val = logreg.predict_proba(X_test_scaled) \n",
        "  predicted = (p_val[:, 1] >= i).astype('int')\n",
        "  list.append(accuracy_score(y_test, predicted))"
      ],
      "execution_count": null,
      "outputs": []
    },
    {
      "cell_type": "code",
      "metadata": {
        "colab": {
          "base_uri": "https://localhost:8080/"
        },
        "id": "LfrrAsux8vhk",
        "outputId": "2966c48f-ac8b-411b-d12a-bfe501c2afeb"
      },
      "source": [
        "list"
      ],
      "execution_count": null,
      "outputs": [
        {
          "output_type": "execute_result",
          "data": {
            "text/plain": [
              "[0.7585218548469649,\n",
              " 0.7909714402702426,\n",
              " 0.8021291841539564,\n",
              " 0.812672740300952,\n",
              " 0.8189169822909202,\n",
              " 0.8221926502200839,\n",
              " 0.820247722387143,\n",
              " 0.8000818916982291,\n",
              " 0.7467499232265329,\n",
              " 0.610502610297881,\n",
              " 0.24147814515303512]"
            ]
          },
          "metadata": {
            "tags": []
          },
          "execution_count": 218
        }
      ]
    },
    {
      "cell_type": "code",
      "metadata": {
        "colab": {
          "base_uri": "https://localhost:8080/"
        },
        "id": "GYxh3Pz1-yJs",
        "outputId": "bbb282e3-07e9-45c5-df9a-eb2d71678d05"
      },
      "source": [
        "threshold = 0\n",
        "p_val = logreg.predict_proba(X_test_scaled) \n",
        "predicted = (p_val[:, 1] >= threshold).astype('int')\n",
        "accuracy_score(y_test, predicted)"
      ],
      "execution_count": null,
      "outputs": [
        {
          "output_type": "execute_result",
          "data": {
            "text/plain": [
              "0.7585218548469649"
            ]
          },
          "metadata": {
            "tags": []
          },
          "execution_count": 224
        }
      ]
    },
    {
      "cell_type": "code",
      "metadata": {
        "colab": {
          "base_uri": "https://localhost:8080/"
        },
        "id": "pUooVAmwP8tX",
        "outputId": "6c9651ca-03ae-4e87-b700-3454d7ffe670"
      },
      "source": [
        "from sklearn.metrics import classification_report\n",
        "\n",
        "result =  classification_report(y_test, y_pred) \n",
        "print(result)"
      ],
      "execution_count": null,
      "outputs": [
        {
          "output_type": "stream",
          "text": [
            "              precision    recall  f1-score   support\n",
            "\n",
            "           0       0.69      0.35      0.47      2359\n",
            "           1       0.82      0.95      0.88      7410\n",
            "\n",
            "    accuracy                           0.81      9769\n",
            "   macro avg       0.76      0.65      0.67      9769\n",
            "weighted avg       0.79      0.81      0.78      9769\n",
            "\n"
          ],
          "name": "stdout"
        }
      ]
    },
    {
      "cell_type": "code",
      "metadata": {
        "colab": {
          "base_uri": "https://localhost:8080/",
          "height": 765
        },
        "id": "kGekhrtyQGH5",
        "outputId": "0c3cdce6-fe20-4485-9037-8c582a461fb7"
      },
      "source": [
        "from sklearn.metrics import confusion_matrix\n",
        "\n",
        "cm =  confusion_matrix(y_test, y_pred)\n",
        "print('Confusion Matrix for Binary Labels \\n')\n",
        "print('Confusion Matrix for Binary Labels\\n')\n",
        "print('Actual class')\n",
        "print('Predicted', '[[True Positive', 'False Negative]')\n",
        "print('         ', '[False Positive', 'True Negative]]')\n",
        "print(cm)\n",
        "\n",
        "\n",
        "print('\\nRecall for Class [0] = ', cm[0,0], '/' , cm[0,0], '+', cm[0,1], '=', cm[0,0]/(cm[0,0] + cm[0,1]))\n",
        "print('\\nPrecision for Class [0] = ', cm[0,0], '/' , cm[0,0], '+', cm[1,0], '=', int(cm[0,0])/int(cm[0,0] + cm[1,0]))\n",
        "print('\\nRecall for Class [1] = ', cm[1,1], '/' , cm[1,0], '+', cm[1,1], '=', int(cm[1,1])/int(cm[1,0] + cm[1,1]))\n",
        "print('\\nPrecision for Class [1] = ', cm[1,1], '/' , cm[0,1], '+', cm[1,1], '=', int(cm[1,1])/int(cm[0,1] + cm[1,1]))\n",
        "\n",
        "\n",
        "## 히트맵으로 시각화하기\n",
        "plt.figure(figsize=[8,7])\n",
        "sns.heatmap(cm, cmap='Reds', annot=True, fmt='.0f')\n",
        "plt.title('Heatmap for 3-class Labels\\n')\n",
        "plt.show()"
      ],
      "execution_count": null,
      "outputs": [
        {
          "output_type": "stream",
          "text": [
            "Confusion Matrix for Binary Labels \n",
            "\n",
            "Confusion Matrix for Binary Labels\n",
            "\n",
            "Actual class\n",
            "Predicted [[True Positive False Negative]\n",
            "          [False Positive True Negative]]\n",
            "[[ 833 1526]\n",
            " [ 372 7038]]\n",
            "\n",
            "Recall for Class [0] =  833 / 833 + 1526 = 0.35311572700296734\n",
            "\n",
            "Precision for Class [0] =  833 / 833 + 372 = 0.6912863070539419\n",
            "\n",
            "Recall for Class [1] =  7038 / 372 + 7038 = 0.9497975708502024\n",
            "\n",
            "Precision for Class [1] =  7038 / 1526 + 7038 = 0.8218122372723027\n"
          ],
          "name": "stdout"
        },
        {
          "output_type": "display_data",
          "data": {
            "image/png": "[encoded data removed]",
            "text/plain": [
              "<Figure size 576x504 with 2 Axes>"
            ]
          },
          "metadata": {
            "tags": [],
            "needs_background": "light"
          }
        }
      ]
    },
    {
      "cell_type": "code",
      "metadata": {
        "colab": {
          "base_uri": "https://localhost:8080/"
        },
        "id": "ZLwoak6VZQ10",
        "outputId": "93ea6a0f-63c9-4732-ce2f-1baef13dee7e"
      },
      "source": [
        "from numpy import argmax\n",
        "from sklearn.metrics import classification_report\n",
        "from sklearn.metrics import roc_curve, auc\n",
        "\n",
        "y_pred = logreg.predict(X_test_scaled)\n",
        "\n",
        "y_pred2 = logreg.predict_proba(X_test_scaled)\n",
        "y_pred2 = y_pred2[:,1]\n",
        "\n",
        "fpr, tpr, thresholds = roc_curve(y_test, y_pred, pos_label=1)\n",
        "\n",
        "J = tpr - fpr\n",
        "ix = argmax(J)\n",
        "best_thresh = thresholds[ix]\n",
        "print('Best Threshold=%f, tpr(sensitivity) = %.3f, fnr(specificity) = %.3f, J=%.3f' % (best_thresh, tpr[ix], 1-fpr[ix], J[ix]))\n",
        "\n",
        "y_prob_pred = (logreg.predict_proba(X_test_scaled)[:,1] >= best_thresh).astype('int')\n",
        "print(classification_report(y_test, y_prob_pred))"
      ],
      "execution_count": null,
      "outputs": [
        {
          "output_type": "stream",
          "text": [
            "Best Threshold=1.000000, tpr(sensitivity) = 0.943, fnr(specificity) = 0.441, J=0.385\n",
            "              precision    recall  f1-score   support\n",
            "\n",
            "           0       0.24      1.00      0.39      2359\n",
            "           1       0.00      0.00      0.00      7410\n",
            "\n",
            "    accuracy                           0.24      9769\n",
            "   macro avg       0.12      0.50      0.19      9769\n",
            "weighted avg       0.06      0.24      0.09      9769\n",
            "\n"
          ],
          "name": "stdout"
        }
      ]
    },
    {
      "cell_type": "code",
      "metadata": {
        "colab": {
          "base_uri": "https://localhost:8080/",
          "height": 297
        },
        "id": "NghR6nzlYvoR",
        "outputId": "91387142-3e7e-4d37-af4f-e832ebf4f7ec"
      },
      "source": [
        "from sklearn.metrics import plot_roc_curve\n",
        "import matplotlib.pyplot as plt\n",
        "\n",
        "fig = plt.figure()\n",
        "ax = fig.gca()\n",
        "plot_roc_curve(logreg, X_test, y_test, ax=ax)\n",
        "plt.plot([0, 1], [0, 1], 'k--', label='Random')\n",
        "\n",
        "\n",
        "sens, spec = tpr[ix], 1-fpr[ix]\n",
        "plt.scatter(fpr[ix], tpr[ix], marker='+', s=100, color='r', \n",
        "            label='Best threshold = %.3f, \\nSensitivity = %.3f, \\nSpecificity = %.3f' % (best_thresh, sens, spec))"
      ],
      "execution_count": null,
      "outputs": [
        {
          "output_type": "execute_result",
          "data": {
            "text/plain": [
              "<matplotlib.collections.PathCollection at 0x7f97aec57fd0>"
            ]
          },
          "metadata": {
            "tags": []
          },
          "execution_count": 227
        },
        {
          "output_type": "display_data",
          "data": {
            "image/png": "[encoded data removed]",
            "text/plain": [
              "<Figure size 432x288 with 1 Axes>"
            ]
          },
          "metadata": {
            "tags": [],
            "needs_background": "light"
          }
        }
      ]
    },
    {
      "cell_type": "code",
      "metadata": {
        "colab": {
          "base_uri": "https://localhost:8080/"
        },
        "id": "LsQ52d_p1Zn8",
        "outputId": "835ab763-adf1-4995-bdc0-1563463999fa"
      },
      "source": [
        "thresholds"
      ],
      "execution_count": null,
      "outputs": [
        {
          "output_type": "execute_result",
          "data": {
            "text/plain": [
              "array([2, 1, 0])"
            ]
          },
          "metadata": {
            "tags": []
          },
          "execution_count": 200
        }
      ]
    },
    {
      "cell_type": "code",
      "metadata": {
        "colab": {
          "base_uri": "https://localhost:8080/"
        },
        "id": "siPz5UXr5j8n",
        "outputId": "b8f415ee-a8b4-4ac5-bd45-18e6f7208ee7"
      },
      "source": [
        "from imblearn.metrics import classification_report_imbalanced\n",
        "\n",
        "label = ['non-fraud', 'fraud'] \n",
        "print(classification_report_imbalanced(y_test, y_pred, target_names=label))"
      ],
      "execution_count": null,
      "outputs": [
        {
          "output_type": "stream",
          "text": [
            "                   pre       rec       spe        f1       geo       iba       sup\n",
            "\n",
            "  non-fraud       0.71      0.44      0.94      0.55      0.65      0.40      2359\n",
            "      fraud       0.84      0.94      0.44      0.89      0.65      0.44      7410\n",
            "\n",
            "avg / total       0.81      0.82      0.56      0.81      0.65      0.43      9769\n",
            "\n"
          ],
          "name": "stdout"
        }
      ]
    },
    {
      "cell_type": "code",
      "metadata": {
        "colab": {
          "base_uri": "https://localhost:8080/"
        },
        "id": "qhRoBZc30IWs",
        "outputId": "e145b268-0738-4e16-82e3-909d05f36a4c"
      },
      "source": [
        "y_test"
      ],
      "execution_count": null,
      "outputs": [
        {
          "output_type": "execute_result",
          "data": {
            "text/plain": [
              "22278    1\n",
              "8950     1\n",
              "7838     1\n",
              "16505    1\n",
              "19140    0\n",
              "        ..\n",
              "21949    1\n",
              "26405    1\n",
              "23236    1\n",
              "26823    1\n",
              "20721    0\n",
              "Name: income, Length: 9769, dtype: int64"
            ]
          },
          "metadata": {
            "tags": []
          },
          "execution_count": 177
        }
      ]
    },
    {
      "cell_type": "markdown",
      "metadata": {
        "id": "UAq9n7nT0qI9"
      },
      "source": [
        "### 문제 13. 스케일 조정된 데이터를 이용한 Logistic Regression 모델의 정확도 확인하기"
      ]
    },
    {
      "cell_type": "code",
      "metadata": {
        "id": "8SdbnV-X0qI9",
        "colab": {
          "base_uri": "https://localhost:8080/"
        },
        "outputId": "d3ff3c87-aaec-425a-f646-8a622d0a417f"
      },
      "source": [
        "y_pred = logreg.predict(X_test_scaled)\n",
        "# logreg_score =  accuracy_score(y_test, y_pred)\n",
        "print(f'Logistic Regression (scaled data) accuracy score: {accuracy_score(y_test, y_pred):.4f}')"
      ],
      "execution_count": null,
      "outputs": [
        {
          "output_type": "stream",
          "text": [
            "Logistic Regression (scaled data) accuracy score: 0.6382\n"
          ],
          "name": "stdout"
        }
      ]
    },
    {
      "cell_type": "code",
      "metadata": {
        "id": "eEk_lddA0qI9",
        "colab": {
          "base_uri": "https://localhost:8080/"
        },
        "outputId": "224cd533-12f5-4024-ce29-5b570770f700"
      },
      "source": [
        "# 예측된 값 확인하기\n",
        "y_pred"
      ],
      "execution_count": null,
      "outputs": [
        {
          "output_type": "execute_result",
          "data": {
            "text/plain": [
              "array([0, 0, 0, ..., 0, 0, 0])"
            ]
          },
          "metadata": {
            "tags": []
          },
          "execution_count": 82
        }
      ]
    },
    {
      "cell_type": "markdown",
      "metadata": {
        "id": "kM1OCfGh0qI-"
      },
      "source": [
        "### 문제 14. 스케일 조정된 데이터를 이용한 Logistic Regression 모델 분류결과 확인하기"
      ]
    },
    {
      "cell_type": "code",
      "metadata": {
        "id": "Kps7NXB8NNBQ",
        "colab": {
          "base_uri": "https://localhost:8080/"
        },
        "outputId": "b8fc9b9b-eb5e-4f2b-a8d1-c85a9e5f57d2"
      },
      "source": [
        "from sklearn.metrics import classification_report\n",
        "\n",
        "cm_logreg =  classification_report(y_test, y_pred) \n",
        "print(cm_logreg)"
      ],
      "execution_count": null,
      "outputs": [
        {
          "output_type": "stream",
          "text": [
            "              precision    recall  f1-score   support\n",
            "\n",
            "       <=50K       0.82      0.95      0.88      7410\n",
            "        >50K       0.69      0.35      0.47      2359\n",
            "\n",
            "    accuracy                           0.81      9769\n",
            "   macro avg       0.76      0.65      0.67      9769\n",
            "weighted avg       0.79      0.81      0.78      9769\n",
            "\n"
          ],
          "name": "stdout"
        }
      ]
    },
    {
      "cell_type": "markdown",
      "metadata": {
        "id": "qYvmTGFh0qJA"
      },
      "source": [
        "## Step 4. 트리기반 분류모델의 구현"
      ]
    },
    {
      "cell_type": "markdown",
      "metadata": {
        "id": "INCXInIe0qJA"
      },
      "source": [
        "### 문제 15. Random Forest 모델 구현하고 정확도 확인하기"
      ]
    },
    {
      "cell_type": "code",
      "metadata": {
        "id": "kYjynAEf0qJB",
        "colab": {
          "base_uri": "https://localhost:8080/"
        },
        "outputId": "c4445ab3-64d4-4584-952e-6843f1bc3f11"
      },
      "source": [
        "from sklearn.ensemble import RandomForestClassifier\n",
        "from sklearn.metrics import accuracy_score\n",
        "\n",
        "rfc = RandomForestClassifier()\n",
        "rfc.fit(X_train, y_train)"
      ],
      "execution_count": null,
      "outputs": [
        {
          "output_type": "execute_result",
          "data": {
            "text/plain": [
              "RandomForestClassifier(bootstrap=True, ccp_alpha=0.0, class_weight=None,\n",
              "                       criterion='gini', max_depth=None, max_features='auto',\n",
              "                       max_leaf_nodes=None, max_samples=None,\n",
              "                       min_impurity_decrease=0.0, min_impurity_split=None,\n",
              "                       min_samples_leaf=1, min_samples_split=2,\n",
              "                       min_weight_fraction_leaf=0.0, n_estimators=100,\n",
              "                       n_jobs=None, oob_score=False, random_state=None,\n",
              "                       verbose=0, warm_start=False)"
            ]
          },
          "metadata": {
            "tags": []
          },
          "execution_count": 115
        }
      ]
    },
    {
      "cell_type": "code",
      "metadata": {
        "id": "GMNtrF58rilL"
      },
      "source": [
        "criterion='gini' # The function to measure the quality of a split. Supported criteria are “gini” for the Gini impurity and “entropy” for the information gain (정보 이득)\n",
        "n_estimators=100 # The number of trees in the forest."
      ],
      "execution_count": null,
      "outputs": []
    },
    {
      "cell_type": "code",
      "metadata": {
        "id": "pp7fM5KvUGHE",
        "colab": {
          "base_uri": "https://localhost:8080/"
        },
        "outputId": "a0b62933-5266-4ecb-a749-f64ccd45b367"
      },
      "source": [
        "y_pred = rfc.predict(X_test) \n",
        "rfc_score =  accuracy_score(y_test, y_pred)\n",
        "print('Random Forest Model accuracy score : {0:0.4f}'. format(rfc_score ))"
      ],
      "execution_count": null,
      "outputs": [
        {
          "output_type": "stream",
          "text": [
            "Random Forest Model accuracy score : 0.8483\n"
          ],
          "name": "stdout"
        }
      ]
    },
    {
      "cell_type": "markdown",
      "metadata": {
        "id": "JOCX25p30qJC"
      },
      "source": [
        "### 문제 16. Random Forest 모델의 Confusion Matrix 확인하기"
      ]
    },
    {
      "cell_type": "code",
      "metadata": {
        "id": "2ggui1ZS0qJC",
        "colab": {
          "base_uri": "https://localhost:8080/"
        },
        "outputId": "12ce8232-c927-4be8-906d-c595a024c353"
      },
      "source": [
        "from sklearn.metrics import confusion_matrix\n",
        "\n",
        "cm =  confusion_matrix(y_test, y_pred)\n",
        "print('Confusion Matrix for Binary Labels \\n')\n",
        "# print('Confusion Matrix for Binary Labels\\n')\n",
        "# print('Actual class')\n",
        "# print('Predicted', '[[True Positive', 'False Positive]')\n",
        "# print('         ', '[False Negative', 'True Negative]]')\n",
        "print(cm)"
      ],
      "execution_count": null,
      "outputs": [
        {
          "output_type": "stream",
          "text": [
            "Confusion Matrix for Binary Labels \n",
            "\n",
            "[[6845  565]\n",
            " [ 917 1442]]\n"
          ],
          "name": "stdout"
        }
      ]
    },
    {
      "cell_type": "code",
      "metadata": {
        "id": "VN0cQYJNSTT1",
        "colab": {
          "base_uri": "https://localhost:8080/"
        },
        "outputId": "e2e14461-d3da-4a77-dc7c-114cdc0948c4"
      },
      "source": [
        "# Confusion Matrix에서 Recall과 Precision 계산하기\n",
        "\n",
        "print('\\nRecall for Class [<=50K] = ', cm[0,0], '/' , cm[0,0] + cm[0,1])\n",
        "print('\\nPrecision for Class [<=50K] = ', cm[0,0], '/' , cm[0,0] + cm[1,0])\n",
        "print('\\nRecall for Class [>50K] = ', cm[1,1], '/' , cm[1,0] + cm[1,1])\n",
        "print('\\nPrecision for Class [>50K] = ', cm[1,1], '/' , cm[0,1] + cm[1,1])"
      ],
      "execution_count": null,
      "outputs": [
        {
          "output_type": "stream",
          "text": [
            "\n",
            "Recall for Class [<=50K] =  6845 / 7410\n",
            "\n",
            "Precision for Class [<=50K] =  6845 / 7762\n",
            "\n",
            "Recall for Class [>50K] =  1442 / 2359\n",
            "\n",
            "Precision for Class [>50K] =  1442 / 2007\n"
          ],
          "name": "stdout"
        }
      ]
    },
    {
      "cell_type": "markdown",
      "metadata": {
        "id": "xP8V60Jy0qJD"
      },
      "source": [
        "### 문제 17. Random Forest 모델의 분류결과 확인하기"
      ]
    },
    {
      "cell_type": "code",
      "metadata": {
        "id": "hRpfFDxH0qJD",
        "colab": {
          "base_uri": "https://localhost:8080/"
        },
        "outputId": "e5d25043-f30c-4f52-8403-c03e853ca074"
      },
      "source": [
        "from sklearn.metrics import classification_report\n",
        "\n",
        "cm_rfc =  classification_report(y_test, y_pred)\n",
        "print(cm_rfc)"
      ],
      "execution_count": null,
      "outputs": [
        {
          "output_type": "stream",
          "text": [
            "              precision    recall  f1-score   support\n",
            "\n",
            "       <=50K       0.88      0.92      0.90      7410\n",
            "        >50K       0.72      0.61      0.66      2359\n",
            "\n",
            "    accuracy                           0.85      9769\n",
            "   macro avg       0.80      0.77      0.78      9769\n",
            "weighted avg       0.84      0.85      0.84      9769\n",
            "\n"
          ],
          "name": "stdout"
        }
      ]
    },
    {
      "cell_type": "markdown",
      "metadata": {
        "id": "ko2A7KZX0qJE"
      },
      "source": [
        "## Step 5. 부스팅 기반 분류모델의 구현"
      ]
    },
    {
      "cell_type": "markdown",
      "metadata": {
        "id": "7_5l_T2-0qJE"
      },
      "source": [
        "### 부스팅(Boosting) 모델 개요\n",
        "\n",
        "\n",
        "- 부스팅은 여러 트리의 적합 결과를 합하는 앙상블 알고리즘의 하나로, 이 때 sequential의 개념이 추가되어 있습니다. 즉 연속적인 weak learner, 바로 직전 weak learner의 error를 반영한 현재 weak learner를 잡겠다는 것입니다. 이 아이디어는 Gradient Boosting Model(GBM)에서 loss를 계속 줄이는 방향으로 weak learner를 잡는다는 개념으로 확장됩니다.\n",
        "\n",
        "![boost](https://pluralsight2.imgix.net/guides/81232a78-2e99-4ccc-ba8e-8cd873625fdf_2.jpg)\n",
        "\n",
        "\n",
        "- 부스팅 계열 모델은 AdaBoost, Gradient Boosting Model(GBM), XGBoost, LightGBM 등이 있습니다.\n",
        "\n",
        "\n",
        "- 더 자세한 내용은 다음 Step에서 살펴보겠습니다."
      ]
    },
    {
      "cell_type": "markdown",
      "metadata": {
        "id": "wknluIW_0qJE"
      },
      "source": [
        "### 문제 18. Gradient Boosting 모델 구현하고 정확도 확인하기"
      ]
    },
    {
      "cell_type": "code",
      "metadata": {
        "id": "pMTxsWga0qJF",
        "colab": {
          "base_uri": "https://localhost:8080/"
        },
        "outputId": "1cc4e7ff-745c-49b0-cea4-5913362d9a59"
      },
      "source": [
        "from sklearn.ensemble import GradientBoostingClassifier\n",
        "gbc =  GradientBoostingClassifier(random_state=0)\n",
        "gbc.fit(X_train, y_train)"
      ],
      "execution_count": null,
      "outputs": [
        {
          "output_type": "execute_result",
          "data": {
            "text/plain": [
              "GradientBoostingClassifier(ccp_alpha=0.0, criterion='friedman_mse', init=None,\n",
              "                           learning_rate=0.1, loss='deviance', max_depth=3,\n",
              "                           max_features=None, max_leaf_nodes=None,\n",
              "                           min_impurity_decrease=0.0, min_impurity_split=None,\n",
              "                           min_samples_leaf=1, min_samples_split=2,\n",
              "                           min_weight_fraction_leaf=0.0, n_estimators=100,\n",
              "                           n_iter_no_change=None, presort='deprecated',\n",
              "                           random_state=0, subsample=1.0, tol=0.0001,\n",
              "                           validation_fraction=0.1, verbose=0,\n",
              "                           warm_start=False)"
            ]
          },
          "metadata": {
            "tags": []
          },
          "execution_count": 122
        }
      ]
    },
    {
      "cell_type": "code",
      "metadata": {
        "id": "-N83M3pS0qJF",
        "colab": {
          "base_uri": "https://localhost:8080/"
        },
        "outputId": "4781d591-a643-4a9d-f9ba-3e6b56e9f06a"
      },
      "source": [
        "y_pred =  gbc.predict(X_test)\n",
        "gbc_score =  accuracy_score(y_test, y_pred)\n",
        "print('Gradient Boosting accuracy score : {:0.4f}'.format(gbc_score))"
      ],
      "execution_count": null,
      "outputs": [
        {
          "output_type": "stream",
          "text": [
            "Gradient Boosting accuracy score : 0.8621\n"
          ],
          "name": "stdout"
        }
      ]
    },
    {
      "cell_type": "markdown",
      "metadata": {
        "id": "qASAE5ow0qJG"
      },
      "source": [
        "### 문제 19. Gradient Boosting 모델의 분류결과 확인하기"
      ]
    },
    {
      "cell_type": "code",
      "metadata": {
        "id": "PdVYH6PV0qJG",
        "colab": {
          "base_uri": "https://localhost:8080/"
        },
        "outputId": "df33ca60-249b-4b9b-ccf3-c2a5e1b5ca28"
      },
      "source": [
        "from sklearn.metrics import classification_report\n",
        "\n",
        "cm_gbc =  classification_report(y_test, y_pred)\n",
        "print(cm_gbc)"
      ],
      "execution_count": null,
      "outputs": [
        {
          "output_type": "stream",
          "text": [
            "              precision    recall  f1-score   support\n",
            "\n",
            "       <=50K       0.88      0.95      0.91      7410\n",
            "        >50K       0.78      0.59      0.68      2359\n",
            "\n",
            "    accuracy                           0.86      9769\n",
            "   macro avg       0.83      0.77      0.79      9769\n",
            "weighted avg       0.86      0.86      0.86      9769\n",
            "\n"
          ],
          "name": "stdout"
        }
      ]
    },
    {
      "cell_type": "markdown",
      "metadata": {
        "id": "6XZkWQ2E0qJG"
      },
      "source": [
        "### 문제 20. Light GBM 구현하고 정확도 확인하기"
      ]
    },
    {
      "cell_type": "code",
      "metadata": {
        "id": "98ysXEDn0qJH",
        "colab": {
          "base_uri": "https://localhost:8080/"
        },
        "outputId": "e7b41685-1e33-4158-8850-a773c9902c79"
      },
      "source": [
        "from lightgbm import LGBMClassifier\n",
        "from sklearn.metrics import accuracy_score\n",
        "\n",
        "lgbm =  LGBMClassifier(random_state=0)\n",
        "lgbm.fit(X_train, y_train)\n",
        "y_pred =  lgbm.predict(X_test)\n",
        "\n",
        "lgbm_score =  accuracy_score(y_test, y_pred)\n",
        "print('LGBM Model accuracy score : {0:0.4f}'.format(lgbm_score))"
      ],
      "execution_count": null,
      "outputs": [
        {
          "output_type": "stream",
          "text": [
            "LGBM Model accuracy score : 0.8677\n"
          ],
          "name": "stdout"
        }
      ]
    },
    {
      "cell_type": "markdown",
      "metadata": {
        "id": "w3YwlN_x0qJH"
      },
      "source": [
        "### 문제 21. Light GBM 분류결과 확인하기"
      ]
    },
    {
      "cell_type": "code",
      "metadata": {
        "id": "YVOvJmXR0qJI",
        "colab": {
          "base_uri": "https://localhost:8080/"
        },
        "outputId": "34c4a1e8-dcf5-4fcd-c3d8-c680e1d36291"
      },
      "source": [
        "from sklearn.metrics import classification_report\n",
        "\n",
        "cm_lgbm =  classification_report(y_test, y_pred)\n",
        "print(cm_lgbm)"
      ],
      "execution_count": null,
      "outputs": [
        {
          "output_type": "stream",
          "text": [
            "              precision    recall  f1-score   support\n",
            "\n",
            "       <=50K       0.89      0.94      0.91      7410\n",
            "        >50K       0.77      0.65      0.70      2359\n",
            "\n",
            "    accuracy                           0.87      9769\n",
            "   macro avg       0.83      0.79      0.81      9769\n",
            "weighted avg       0.86      0.87      0.86      9769\n",
            "\n"
          ],
          "name": "stdout"
        }
      ]
    },
    {
      "cell_type": "markdown",
      "metadata": {
        "id": "xUz80L2m0qJI"
      },
      "source": [
        "### 문제 22. 요약: 소득 이진분류 예측모델의 정확도 비교하기"
      ]
    },
    {
      "cell_type": "code",
      "metadata": {
        "scrolled": false,
        "id": "qp15ChOf0qJJ",
        "colab": {
          "base_uri": "https://localhost:8080/"
        },
        "outputId": "fe606fee-bb73-412f-dd9d-eba20e7aed32"
      },
      "source": [
        "print ('Accuracy Comparisons for Binary Models\\n')\n",
        "print ('logreg_score:', '{0:0.5f}'.format(logreg_score))\n",
        "print ('rfc_score   :', '{0:0.5f}'.format(rfc_score))\n",
        "print ('gbc_score   :', '{0:0.5f}'.format(gbc_score ))\n",
        "print ('lgbm_score  :', '{0:0.5f}'.format(lgbm_score))"
      ],
      "execution_count": null,
      "outputs": [
        {
          "output_type": "stream",
          "text": [
            "Accuracy Comparisons for Binary Models\n",
            "\n",
            "logreg_score: 0.24148\n",
            "rfc_score   : 0.84830\n",
            "gbc_score   : 0.86211\n",
            "lgbm_score  : 0.86774\n"
          ],
          "name": "stdout"
        }
      ]
    },
    {
      "cell_type": "markdown",
      "metadata": {
        "id": "eH-hSAhm0qJK"
      },
      "source": [
        "### 문제 23. 최종 이진분류 모델 비교하기"
      ]
    },
    {
      "cell_type": "code",
      "metadata": {
        "id": "-iyv_2bN0qJJ",
        "colab": {
          "base_uri": "https://localhost:8080/"
        },
        "outputId": "067ce12b-7a3a-4464-a89b-4fa77983ee9b"
      },
      "source": [
        "print ('Classification Comparions for Binary Models\\n')\n",
        "print ('logreg_score:', '{0:0.4f}'.format(logreg_score))\n",
        "print (cm_logreg)\n",
        "print ('rfc_score   :', '{0:0.4f}'.format(rfc_score))\n",
        "print (cm_rfc)\n",
        "print ('gbc_score   :', '{0:0.4f}'.format(gbc_score ))\n",
        "print (cm_gbc)\n",
        "print ('lgbm_score  :', '{0:0.4f}'.format(lgbm_score))\n",
        "print (cm_lgbm)"
      ],
      "execution_count": null,
      "outputs": [
        {
          "output_type": "stream",
          "text": [
            "Classification Comparions for Binary Models\n",
            "\n",
            "logreg_score: 0.2415\n",
            "              precision    recall  f1-score   support\n",
            "\n",
            "       <=50K       0.84      0.94      0.89      7410\n",
            "        >50K       0.71      0.44      0.55      2359\n",
            "\n",
            "    accuracy                           0.82      9769\n",
            "   macro avg       0.78      0.69      0.72      9769\n",
            "weighted avg       0.81      0.82      0.81      9769\n",
            "\n",
            "rfc_score   : 0.8483\n",
            "              precision    recall  f1-score   support\n",
            "\n",
            "       <=50K       0.88      0.92      0.90      7410\n",
            "        >50K       0.72      0.61      0.66      2359\n",
            "\n",
            "    accuracy                           0.85      9769\n",
            "   macro avg       0.80      0.77      0.78      9769\n",
            "weighted avg       0.84      0.85      0.84      9769\n",
            "\n",
            "gbc_score   : 0.8621\n",
            "              precision    recall  f1-score   support\n",
            "\n",
            "       <=50K       0.88      0.95      0.91      7410\n",
            "        >50K       0.78      0.59      0.68      2359\n",
            "\n",
            "    accuracy                           0.86      9769\n",
            "   macro avg       0.83      0.77      0.79      9769\n",
            "weighted avg       0.86      0.86      0.86      9769\n",
            "\n",
            "lgbm_score  : 0.8677\n",
            "              precision    recall  f1-score   support\n",
            "\n",
            "       <=50K       0.89      0.94      0.91      7410\n",
            "        >50K       0.77      0.65      0.70      2359\n",
            "\n",
            "    accuracy                           0.87      9769\n",
            "   macro avg       0.83      0.79      0.81      9769\n",
            "weighted avg       0.86      0.87      0.86      9769\n",
            "\n"
          ],
          "name": "stdout"
        }
      ]
    },
    {
      "cell_type": "markdown",
      "metadata": {
        "id": "0ZqKPu0w0qJK"
      },
      "source": [
        "## Step 6. 다중분류 모델의 구현"
      ]
    },
    {
      "cell_type": "markdown",
      "metadata": {
        "id": "29v0TEKA0qJL"
      },
      "source": [
        "### 데이터 소개"
      ]
    },
    {
      "cell_type": "markdown",
      "metadata": {
        "id": "iKzs8_rX0qJL"
      },
      "source": [
        "- 두번째로 쓸 데이터는 앞에서 사용한 US Adult 데이터에 모의로 생성한 금융 변수를 수정(+)·추가(++)한 것이며, 컬럼은 다음과 같습니다. \n",
        "\n",
        "income_ext.csv\n",
        "- `age` : 나이\n",
        "- `workclass`: 직업구분\n",
        "- `education`: 교육수준\n",
        "- `education.num`: 교육수준(numerically coded)\n",
        "- `marital.status`: 혼인상태\n",
        "- `occupation` : 직업\n",
        "- `relationship`: 가족관계\n",
        "- `sex`: 성별\n",
        "- `capital.gain`: 자본이득\n",
        "- `capital.loss`: 자본손실\n",
        "- `hours.per.week`: 주당 근로시간\n",
        "- `spending.groc`: 식료품 소비 금액(continuous) ++\n",
        "- `spending.med`: 병의원 소비 금액(continuous) ++\n",
        "- `spending.trav`: 여행 레저 소비 금액(continuous) ++\n",
        "- `income` : 소득 이진구분( <=50K: 0, >50K: 1 ) +\n",
        "- `income.num` : 소득금액(continuous) ++"
      ]
    },
    {
      "cell_type": "markdown",
      "metadata": {
        "id": "VxV2sxIb0qJM"
      },
      "source": [
        "### 문제 24. 데이터 불러오기"
      ]
    },
    {
      "cell_type": "code",
      "metadata": {
        "scrolled": false,
        "id": "VWtskFBh0qJM",
        "colab": {
          "base_uri": "https://localhost:8080/"
        },
        "outputId": "0005d33a-465c-4f33-b9af-074ef219f395"
      },
      "source": [
        "data =  pd.read_csv(datapath + 'income_ext.csv')\n",
        "print(data.shape)\n",
        "print(data.columns)"
      ],
      "execution_count": null,
      "outputs": [
        {
          "output_type": "stream",
          "text": [
            "(32561, 19)\n",
            "Index(['age', 'workclass', 'education', 'education.num', 'marital.status',\n",
            "       'occupation', 'relationship', 'sex', 'capital.gain', 'capital.loss',\n",
            "       'hours.per.week', 'spend.groc', 'spend.med', 'spend.trav', 'asset',\n",
            "       'balance', 'native.country', 'income', 'income.num'],\n",
            "      dtype='object')\n"
          ],
          "name": "stdout"
        }
      ]
    },
    {
      "cell_type": "code",
      "metadata": {
        "scrolled": true,
        "id": "EcpgEbXb0qJQ",
        "colab": {
          "base_uri": "https://localhost:8080/",
          "height": 292
        },
        "outputId": "28cb21f2-e33a-4eb7-d8f6-9fe5c87af1d0"
      },
      "source": [
        "data.head()"
      ],
      "execution_count": null,
      "outputs": [
        {
          "output_type": "execute_result",
          "data": {
            "text/html": [
              "<div>\n",
              "<style scoped>\n",
              "    .dataframe tbody tr th:only-of-type {\n",
              "        vertical-align: middle;\n",
              "    }\n",
              "\n",
              "    .dataframe tbody tr th {\n",
              "        vertical-align: top;\n",
              "    }\n",
              "\n",
              "    .dataframe thead th {\n",
              "        text-align: right;\n",
              "    }\n",
              "</style>\n",
              "<table border=\"1\" class=\"dataframe\">\n",
              "  <thead>\n",
              "    <tr style=\"text-align: right;\">\n",
              "      <th></th>\n",
              "      <th>age</th>\n",
              "      <th>workclass</th>\n",
              "      <th>education</th>\n",
              "      <th>education.num</th>\n",
              "      <th>marital.status</th>\n",
              "      <th>occupation</th>\n",
              "      <th>relationship</th>\n",
              "      <th>sex</th>\n",
              "      <th>capital.gain</th>\n",
              "      <th>capital.loss</th>\n",
              "      <th>hours.per.week</th>\n",
              "      <th>spend.groc</th>\n",
              "      <th>spend.med</th>\n",
              "      <th>spend.trav</th>\n",
              "      <th>asset</th>\n",
              "      <th>balance</th>\n",
              "      <th>native.country</th>\n",
              "      <th>income</th>\n",
              "      <th>income.num</th>\n",
              "    </tr>\n",
              "  </thead>\n",
              "  <tbody>\n",
              "    <tr>\n",
              "      <th>0</th>\n",
              "      <td>90</td>\n",
              "      <td>?</td>\n",
              "      <td>HS-grad</td>\n",
              "      <td>9</td>\n",
              "      <td>Widowed</td>\n",
              "      <td>?</td>\n",
              "      <td>Not-in-family</td>\n",
              "      <td>Female</td>\n",
              "      <td>0</td>\n",
              "      <td>4356</td>\n",
              "      <td>40</td>\n",
              "      <td>77053</td>\n",
              "      <td>13687</td>\n",
              "      <td>3478</td>\n",
              "      <td>345498</td>\n",
              "      <td>-36</td>\n",
              "      <td>United-States</td>\n",
              "      <td>0</td>\n",
              "      <td>43713</td>\n",
              "    </tr>\n",
              "    <tr>\n",
              "      <th>1</th>\n",
              "      <td>82</td>\n",
              "      <td>Private</td>\n",
              "      <td>HS-grad</td>\n",
              "      <td>9</td>\n",
              "      <td>Widowed</td>\n",
              "      <td>Exec-managerial</td>\n",
              "      <td>Not-in-family</td>\n",
              "      <td>Female</td>\n",
              "      <td>0</td>\n",
              "      <td>4356</td>\n",
              "      <td>18</td>\n",
              "      <td>132870</td>\n",
              "      <td>27294</td>\n",
              "      <td>27567</td>\n",
              "      <td>242642</td>\n",
              "      <td>57638</td>\n",
              "      <td>United-States</td>\n",
              "      <td>0</td>\n",
              "      <td>33113</td>\n",
              "    </tr>\n",
              "    <tr>\n",
              "      <th>2</th>\n",
              "      <td>66</td>\n",
              "      <td>?</td>\n",
              "      <td>Some-college</td>\n",
              "      <td>10</td>\n",
              "      <td>Widowed</td>\n",
              "      <td>?</td>\n",
              "      <td>Unmarried</td>\n",
              "      <td>Female</td>\n",
              "      <td>0</td>\n",
              "      <td>4356</td>\n",
              "      <td>40</td>\n",
              "      <td>186061</td>\n",
              "      <td>32029</td>\n",
              "      <td>24506</td>\n",
              "      <td>578403</td>\n",
              "      <td>46028</td>\n",
              "      <td>United-States</td>\n",
              "      <td>0</td>\n",
              "      <td>31652</td>\n",
              "    </tr>\n",
              "    <tr>\n",
              "      <th>3</th>\n",
              "      <td>54</td>\n",
              "      <td>Private</td>\n",
              "      <td>7th-8th</td>\n",
              "      <td>4</td>\n",
              "      <td>Divorced</td>\n",
              "      <td>Machine-op-inspct</td>\n",
              "      <td>Unmarried</td>\n",
              "      <td>Female</td>\n",
              "      <td>0</td>\n",
              "      <td>3900</td>\n",
              "      <td>40</td>\n",
              "      <td>140359</td>\n",
              "      <td>22449</td>\n",
              "      <td>23655</td>\n",
              "      <td>229303</td>\n",
              "      <td>7899</td>\n",
              "      <td>United-States</td>\n",
              "      <td>0</td>\n",
              "      <td>55087</td>\n",
              "    </tr>\n",
              "    <tr>\n",
              "      <th>4</th>\n",
              "      <td>41</td>\n",
              "      <td>Private</td>\n",
              "      <td>Some-college</td>\n",
              "      <td>10</td>\n",
              "      <td>Separated</td>\n",
              "      <td>Prof-specialty</td>\n",
              "      <td>Own-child</td>\n",
              "      <td>Female</td>\n",
              "      <td>0</td>\n",
              "      <td>3900</td>\n",
              "      <td>40</td>\n",
              "      <td>264663</td>\n",
              "      <td>40863</td>\n",
              "      <td>71439</td>\n",
              "      <td>672614</td>\n",
              "      <td>57675</td>\n",
              "      <td>United-States</td>\n",
              "      <td>0</td>\n",
              "      <td>85583</td>\n",
              "    </tr>\n",
              "  </tbody>\n",
              "</table>\n",
              "</div>"
            ],
            "text/plain": [
              "   age workclass     education  ...  native.country income income.num\n",
              "0   90         ?       HS-grad  ...   United-States      0      43713\n",
              "1   82   Private       HS-grad  ...   United-States      0      33113\n",
              "2   66         ?  Some-college  ...   United-States      0      31652\n",
              "3   54   Private       7th-8th  ...   United-States      0      55087\n",
              "4   41   Private  Some-college  ...   United-States      0      85583\n",
              "\n",
              "[5 rows x 19 columns]"
            ]
          },
          "metadata": {
            "tags": []
          },
          "execution_count": 139
        }
      ]
    },
    {
      "cell_type": "code",
      "metadata": {
        "colab": {
          "base_uri": "https://localhost:8080/"
        },
        "id": "735z7aKc1Fjn",
        "outputId": "088a2b6b-3261-4996-b3f4-6581af2f8776"
      },
      "source": [
        "# 종속변수가 불균형적인 분포\n",
        "data['income'].value_counts()"
      ],
      "execution_count": null,
      "outputs": [
        {
          "output_type": "execute_result",
          "data": {
            "text/plain": [
              "0    24720\n",
              "1     7841\n",
              "Name: income, dtype: int64"
            ]
          },
          "metadata": {
            "tags": []
          },
          "execution_count": 142
        }
      ]
    },
    {
      "cell_type": "markdown",
      "metadata": {
        "id": "L0Vvw8kR0qJR"
      },
      "source": [
        "### Light GBM 개요\n",
        "\n",
        "\n",
        "- Decision Tree의 앙상블 모델인 Gradient Boosting Decision Tree (GBDT)는 실무에서 XGboost(eXtreme Gradient Boosting) 등으로도 알려져 있습니다. 각각의 반복에서 GBDT는 음의 기울기(Residual Error)를 적합함으로써 Decision Tree를 학습시키게 됩니다. \n",
        "\n",
        "\n",
        "- 그러나 고차원 대용량 데이터에서는 너무 많은 시간의 소모가 발생하였는데, 왜냐하면 모든 가능한 분할점에 대해 정보 획득(information gain)을 평가하기 위해 데이터 전부를 스캔해야 했기 때문입니다. \n",
        "\n",
        "\n",
        "- Light GBM은 이러한 Gradient Boosting 모델의 단점을 극복하기 위해 샘플링 등의 기법을 이용하여 <b>스캔하는 데이터 양을 줄임으로써</b> 분석 시간을 획기적으로 단축시킨 방법론입니다.\n",
        "\n",
        "\n",
        "- LGBM은 <b>범주변수가 많은 정형 데이터</b>와 <b>다중분류</b>에 유용한 알고리즘으로, 간단한 원리를 알아두시면 도움이 될 것입니다.\n",
        "\n",
        "\n",
        "- 참고링크: Light GBM: A Highly Efficient Gradient Boosting Decision Tree (NIPS 2017)\n",
        "[https://papers.nips.cc/paper/2017/hash/6449f44a102fde848669bdd9eb6b76fa-Abstract.html ] "
      ]
    },
    {
      "cell_type": "code",
      "metadata": {
        "colab": {
          "base_uri": "https://localhost:8080/"
        },
        "id": "MbEjO2tJ25Mh",
        "outputId": "cd414759-66e3-4b11-c36f-1bcfe4adf071"
      },
      "source": [
        "data.shape"
      ],
      "execution_count": null,
      "outputs": [
        {
          "output_type": "execute_result",
          "data": {
            "text/plain": [
              "(32561, 19)"
            ]
          },
          "metadata": {
            "tags": []
          },
          "execution_count": 146
        }
      ]
    },
    {
      "cell_type": "markdown",
      "metadata": {
        "id": "Auf1zbdS0qJS"
      },
      "source": [
        "### Light GBM 파라미터 설명\n",
        "\n",
        "- `objective` : 목적함수, regression, binary, multiclass 가능\n",
        "- `categorical_feature` : 범주변수임을 선언\n",
        "- `max_cat_group` : 범주형 변수가 많을 때 과적합을 방지하는 분기 포인트를 찾아서 카테고리 그룹을 max_cat_group 그룹으로 합치고 그룹 경계선에서 분기 포인트를 찾게 됨, 기본값은 64\n",
        "- `boosting`: 부스팅 방법, 기본값은 gbdt(gradient boosting decision tree)이며 샘플링을 이용하는 goss(Gradient-based One-Side Sampling), 딥러닝의 드롭아웃과 같은 dart (Dropouts meet Multiple Additive Regression Trees), rf (Random Forest) 등의 기법 선택 가능\n",
        "- `learning_rate` : 학습율, 각 예측기마다 얼마나 가중치를 주어 학습하게 할것인지 결정\n",
        "- `early_stopping_round` : 더 이상 validation 데이터에서 성능 향상이 없으면 멈추게끔 하는 단위 \n",
        "- `metric`: loss 측정 기준, binary_logloss, multi_logloss, mae, rmse, auc, cross_entropy 등이 있다"
      ]
    },
    {
      "cell_type": "markdown",
      "metadata": {
        "id": "volsCtv60qJS"
      },
      "source": [
        "### 문제 25. 데이터 확인하기"
      ]
    },
    {
      "cell_type": "code",
      "metadata": {
        "id": "j_WHRhWl0qJT"
      },
      "source": [
        "# Create raw dataset for input\n",
        "X = data.drop(['education', 'income', 'income.num'], axis=1)   # Drop columns\n",
        "y = data['income.num']  # Choose column"
      ],
      "execution_count": null,
      "outputs": []
    },
    {
      "cell_type": "code",
      "metadata": {
        "id": "CsnYHZHW0qJT",
        "colab": {
          "base_uri": "https://localhost:8080/",
          "height": 275
        },
        "outputId": "9a83626c-458b-4b6e-8a75-b9595a1f31f9"
      },
      "source": [
        "# X raw 데이터 확인하기\n",
        "\n",
        "X.head()"
      ],
      "execution_count": null,
      "outputs": [
        {
          "output_type": "execute_result",
          "data": {
            "text/html": [
              "<div>\n",
              "<style scoped>\n",
              "    .dataframe tbody tr th:only-of-type {\n",
              "        vertical-align: middle;\n",
              "    }\n",
              "\n",
              "    .dataframe tbody tr th {\n",
              "        vertical-align: top;\n",
              "    }\n",
              "\n",
              "    .dataframe thead th {\n",
              "        text-align: right;\n",
              "    }\n",
              "</style>\n",
              "<table border=\"1\" class=\"dataframe\">\n",
              "  <thead>\n",
              "    <tr style=\"text-align: right;\">\n",
              "      <th></th>\n",
              "      <th>age</th>\n",
              "      <th>workclass</th>\n",
              "      <th>education.num</th>\n",
              "      <th>marital.status</th>\n",
              "      <th>occupation</th>\n",
              "      <th>relationship</th>\n",
              "      <th>sex</th>\n",
              "      <th>capital.gain</th>\n",
              "      <th>capital.loss</th>\n",
              "      <th>hours.per.week</th>\n",
              "      <th>spend.groc</th>\n",
              "      <th>spend.med</th>\n",
              "      <th>spend.trav</th>\n",
              "      <th>asset</th>\n",
              "      <th>balance</th>\n",
              "      <th>native.country</th>\n",
              "    </tr>\n",
              "  </thead>\n",
              "  <tbody>\n",
              "    <tr>\n",
              "      <th>0</th>\n",
              "      <td>90</td>\n",
              "      <td>?</td>\n",
              "      <td>9</td>\n",
              "      <td>Widowed</td>\n",
              "      <td>?</td>\n",
              "      <td>Not-in-family</td>\n",
              "      <td>Female</td>\n",
              "      <td>0</td>\n",
              "      <td>4356</td>\n",
              "      <td>40</td>\n",
              "      <td>77053</td>\n",
              "      <td>13687</td>\n",
              "      <td>3478</td>\n",
              "      <td>345498</td>\n",
              "      <td>-36</td>\n",
              "      <td>United-States</td>\n",
              "    </tr>\n",
              "    <tr>\n",
              "      <th>1</th>\n",
              "      <td>82</td>\n",
              "      <td>Private</td>\n",
              "      <td>9</td>\n",
              "      <td>Widowed</td>\n",
              "      <td>Exec-managerial</td>\n",
              "      <td>Not-in-family</td>\n",
              "      <td>Female</td>\n",
              "      <td>0</td>\n",
              "      <td>4356</td>\n",
              "      <td>18</td>\n",
              "      <td>132870</td>\n",
              "      <td>27294</td>\n",
              "      <td>27567</td>\n",
              "      <td>242642</td>\n",
              "      <td>57638</td>\n",
              "      <td>United-States</td>\n",
              "    </tr>\n",
              "    <tr>\n",
              "      <th>2</th>\n",
              "      <td>66</td>\n",
              "      <td>?</td>\n",
              "      <td>10</td>\n",
              "      <td>Widowed</td>\n",
              "      <td>?</td>\n",
              "      <td>Unmarried</td>\n",
              "      <td>Female</td>\n",
              "      <td>0</td>\n",
              "      <td>4356</td>\n",
              "      <td>40</td>\n",
              "      <td>186061</td>\n",
              "      <td>32029</td>\n",
              "      <td>24506</td>\n",
              "      <td>578403</td>\n",
              "      <td>46028</td>\n",
              "      <td>United-States</td>\n",
              "    </tr>\n",
              "    <tr>\n",
              "      <th>3</th>\n",
              "      <td>54</td>\n",
              "      <td>Private</td>\n",
              "      <td>4</td>\n",
              "      <td>Divorced</td>\n",
              "      <td>Machine-op-inspct</td>\n",
              "      <td>Unmarried</td>\n",
              "      <td>Female</td>\n",
              "      <td>0</td>\n",
              "      <td>3900</td>\n",
              "      <td>40</td>\n",
              "      <td>140359</td>\n",
              "      <td>22449</td>\n",
              "      <td>23655</td>\n",
              "      <td>229303</td>\n",
              "      <td>7899</td>\n",
              "      <td>United-States</td>\n",
              "    </tr>\n",
              "    <tr>\n",
              "      <th>4</th>\n",
              "      <td>41</td>\n",
              "      <td>Private</td>\n",
              "      <td>10</td>\n",
              "      <td>Separated</td>\n",
              "      <td>Prof-specialty</td>\n",
              "      <td>Own-child</td>\n",
              "      <td>Female</td>\n",
              "      <td>0</td>\n",
              "      <td>3900</td>\n",
              "      <td>40</td>\n",
              "      <td>264663</td>\n",
              "      <td>40863</td>\n",
              "      <td>71439</td>\n",
              "      <td>672614</td>\n",
              "      <td>57675</td>\n",
              "      <td>United-States</td>\n",
              "    </tr>\n",
              "  </tbody>\n",
              "</table>\n",
              "</div>"
            ],
            "text/plain": [
              "   age workclass  education.num  ...   asset balance native.country\n",
              "0   90         ?              9  ...  345498     -36  United-States\n",
              "1   82   Private              9  ...  242642   57638  United-States\n",
              "2   66         ?             10  ...  578403   46028  United-States\n",
              "3   54   Private              4  ...  229303    7899  United-States\n",
              "4   41   Private             10  ...  672614   57675  United-States\n",
              "\n",
              "[5 rows x 16 columns]"
            ]
          },
          "metadata": {
            "tags": []
          },
          "execution_count": 144
        }
      ]
    },
    {
      "cell_type": "code",
      "metadata": {
        "id": "fe7e66xGQ8eH",
        "colab": {
          "base_uri": "https://localhost:8080/"
        },
        "outputId": "d3881094-3a5f-4c0d-ad6f-7488c77d4618"
      },
      "source": [
        "# y raw 데이터 확인하기\n",
        "\n",
        "y.head()"
      ],
      "execution_count": null,
      "outputs": [
        {
          "output_type": "execute_result",
          "data": {
            "text/plain": [
              "0    43713\n",
              "1    33113\n",
              "2    31652\n",
              "3    55087\n",
              "4    85583\n",
              "Name: income.num, dtype: int64"
            ]
          },
          "metadata": {
            "tags": []
          },
          "execution_count": 145
        }
      ]
    },
    {
      "cell_type": "markdown",
      "metadata": {
        "id": "DpIUSBE-0qJT"
      },
      "source": [
        "### 문제 26. 다중분류 클래스 생성하기"
      ]
    },
    {
      "cell_type": "code",
      "metadata": {
        "id": "uMxN8-_70qJU"
      },
      "source": [
        "def value_change(x):\n",
        "    if x <= 10000: return 0\n",
        "    if x >  10000 and x <= 20000 : return 1\n",
        "    if x >  20000 and x <= 30000 : return 2\n",
        "    if x >  30000 and x <= 40000 : return 3\n",
        "    if x >  40000 and x <= 50000 : return 4\n",
        "    if x >  50000 and x <= 60000 : return 5\n",
        "    if x >  60000 and x <= 70000 : return 6\n",
        "    if x >  70000 and x <= 80000 : return 7\n",
        "    if x >  80000 and x <= 90000 : return 8\n",
        "    if x >  90000 and x <= 100000 : return 9\n",
        "    return 10                          \n",
        "                                       ## Define function\n",
        "\n",
        "y = y.apply(lambda x: value_change(x))  ## Apply Lambda function"
      ],
      "execution_count": null,
      "outputs": []
    },
    {
      "cell_type": "code",
      "metadata": {
        "id": "Zj3FFhLx0qJU",
        "colab": {
          "base_uri": "https://localhost:8080/"
        },
        "outputId": "8dd4c0c9-81ab-4596-ffb3-7d289ba8a739"
      },
      "source": [
        "# 생성한 레이블 확인하기\n",
        "y.unique()"
      ],
      "execution_count": null,
      "outputs": [
        {
          "output_type": "execute_result",
          "data": {
            "text/plain": [
              "array([ 4,  3,  5,  8,  7,  9,  2,  6,  1,  0, 10])"
            ]
          },
          "metadata": {
            "tags": []
          },
          "execution_count": 152
        }
      ]
    },
    {
      "cell_type": "code",
      "metadata": {
        "colab": {
          "base_uri": "https://localhost:8080/"
        },
        "id": "BdDf9-0f6P5j",
        "outputId": "de72517a-57dd-4477-9788-619bfa0c0847"
      },
      "source": [
        "y.value_counts()"
      ],
      "execution_count": null,
      "outputs": [
        {
          "output_type": "execute_result",
          "data": {
            "text/plain": [
              "6     3318\n",
              "9     3310\n",
              "7     3276\n",
              "4     3273\n",
              "8     3257\n",
              "1     3250\n",
              "5     3246\n",
              "3     3233\n",
              "2     3180\n",
              "0     3176\n",
              "10      42\n",
              "Name: income.num, dtype: int64"
            ]
          },
          "metadata": {
            "tags": []
          },
          "execution_count": 153
        }
      ]
    },
    {
      "cell_type": "code",
      "metadata": {
        "colab": {
          "base_uri": "https://localhost:8080/",
          "height": 461
        },
        "id": "XH9w6_nx6YDJ",
        "outputId": "3cac8e24-a512-4ce8-ed8a-7725cd2f3074"
      },
      "source": [
        "sns.set(font_scale=1.4)\n",
        "y.value_counts().plot(kind='bar', figsize=(7, 6), rot=0)\n",
        "plt.xlabel(\"Income Labels\", labelpad=14)\n",
        "plt.ylabel(\"Counts\", labelpad=14)\n",
        "plt.title(\"Counts of 11 Income Labels\\n\", y=1.02);"
      ],
      "execution_count": null,
      "outputs": [
        {
          "output_type": "display_data",
          "data": {
            "image/png": "[encoded data removed]",
            "text/plain": [
              "<Figure size 504x432 with 1 Axes>"
            ]
          },
          "metadata": {
            "tags": []
          }
        }
      ]
    },
    {
      "cell_type": "markdown",
      "metadata": {
        "id": "G3b9Oryc0qJX"
      },
      "source": [
        "### 문제 27. Feature Engineering"
      ]
    },
    {
      "cell_type": "code",
      "metadata": {
        "id": "pEBn48EU0qJX"
      },
      "source": [
        "from sklearn.model_selection import train_test_split\n",
        "\n",
        "x_train, x_test, y_train, y_test = train_test_split(X, y, test_size=0.3, random_state=0)"
      ],
      "execution_count": null,
      "outputs": []
    },
    {
      "cell_type": "code",
      "metadata": {
        "id": "kF8KeSfs0qJY"
      },
      "source": [
        "from sklearn import preprocessing\n",
        "\n",
        "categorical = ['workclass', 'marital.status', 'occupation', 'relationship', 'sex', 'native.country']\n",
        "for feature in categorical:\n",
        "        le =  preprocessing.LabelEncoder()\n",
        "        x_train[feature] =  le.fit_transform(x_train[feature])\n",
        "        x_test[feature] =  le.transform(x_test[feature])"
      ],
      "execution_count": null,
      "outputs": []
    },
    {
      "cell_type": "code",
      "metadata": {
        "id": "c6efhauL0qJY",
        "colab": {
          "base_uri": "https://localhost:8080/",
          "height": 204
        },
        "outputId": "bd3d50d4-f8a0-4ea2-e505-6e5593468ac4"
      },
      "source": [
        "x_train[categorical].head()"
      ],
      "execution_count": null,
      "outputs": [
        {
          "output_type": "execute_result",
          "data": {
            "text/html": [
              "<div>\n",
              "<style scoped>\n",
              "    .dataframe tbody tr th:only-of-type {\n",
              "        vertical-align: middle;\n",
              "    }\n",
              "\n",
              "    .dataframe tbody tr th {\n",
              "        vertical-align: top;\n",
              "    }\n",
              "\n",
              "    .dataframe thead th {\n",
              "        text-align: right;\n",
              "    }\n",
              "</style>\n",
              "<table border=\"1\" class=\"dataframe\">\n",
              "  <thead>\n",
              "    <tr style=\"text-align: right;\">\n",
              "      <th></th>\n",
              "      <th>workclass</th>\n",
              "      <th>marital.status</th>\n",
              "      <th>occupation</th>\n",
              "      <th>relationship</th>\n",
              "      <th>sex</th>\n",
              "      <th>native.country</th>\n",
              "    </tr>\n",
              "  </thead>\n",
              "  <tbody>\n",
              "    <tr>\n",
              "      <th>32098</th>\n",
              "      <td>7</td>\n",
              "      <td>2</td>\n",
              "      <td>4</td>\n",
              "      <td>5</td>\n",
              "      <td>0</td>\n",
              "      <td>39</td>\n",
              "    </tr>\n",
              "    <tr>\n",
              "      <th>25206</th>\n",
              "      <td>2</td>\n",
              "      <td>2</td>\n",
              "      <td>7</td>\n",
              "      <td>0</td>\n",
              "      <td>1</td>\n",
              "      <td>39</td>\n",
              "    </tr>\n",
              "    <tr>\n",
              "      <th>23491</th>\n",
              "      <td>4</td>\n",
              "      <td>4</td>\n",
              "      <td>4</td>\n",
              "      <td>1</td>\n",
              "      <td>0</td>\n",
              "      <td>39</td>\n",
              "    </tr>\n",
              "    <tr>\n",
              "      <th>12367</th>\n",
              "      <td>2</td>\n",
              "      <td>4</td>\n",
              "      <td>5</td>\n",
              "      <td>3</td>\n",
              "      <td>1</td>\n",
              "      <td>39</td>\n",
              "    </tr>\n",
              "    <tr>\n",
              "      <th>7054</th>\n",
              "      <td>1</td>\n",
              "      <td>2</td>\n",
              "      <td>4</td>\n",
              "      <td>0</td>\n",
              "      <td>1</td>\n",
              "      <td>39</td>\n",
              "    </tr>\n",
              "  </tbody>\n",
              "</table>\n",
              "</div>"
            ],
            "text/plain": [
              "       workclass  marital.status  occupation  relationship  sex  native.country\n",
              "32098          7               2           4             5    0              39\n",
              "25206          2               2           7             0    1              39\n",
              "23491          4               4           4             1    0              39\n",
              "12367          2               4           5             3    1              39\n",
              "7054           1               2           4             0    1              39"
            ]
          },
          "metadata": {
            "tags": []
          },
          "execution_count": 160
        }
      ]
    },
    {
      "cell_type": "markdown",
      "metadata": {
        "id": "-ULvFiXT0qJZ"
      },
      "source": [
        "### 문제 28. Light GBM 을 이용하여 다중분류 구현하기"
      ]
    },
    {
      "cell_type": "code",
      "metadata": {
        "id": "Uxm0iZNu0qJZ",
        "colab": {
          "base_uri": "https://localhost:8080/"
        },
        "outputId": "0031a65a-b4fb-4c85-b357-6d1d6b5d30e1"
      },
      "source": [
        "from lightgbm import LGBMClassifier\n",
        "from sklearn.metrics import accuracy_score\n",
        "\n",
        "lgbm =  LGBMClassifier( )\n",
        "lgbm.fit(x_train, y_train)"
      ],
      "execution_count": null,
      "outputs": [
        {
          "output_type": "execute_result",
          "data": {
            "text/plain": [
              "LGBMClassifier(boosting_type='gbdt', class_weight=None, colsample_bytree=1.0,\n",
              "               importance_type='split', learning_rate=0.1, max_depth=-1,\n",
              "               min_child_samples=20, min_child_weight=0.001, min_split_gain=0.0,\n",
              "               n_estimators=100, n_jobs=-1, num_leaves=31, objective=None,\n",
              "               random_state=None, reg_alpha=0.0, reg_lambda=0.0, silent=True,\n",
              "               subsample=1.0, subsample_for_bin=200000, subsample_freq=0)"
            ]
          },
          "metadata": {
            "tags": []
          },
          "execution_count": 161
        }
      ]
    },
    {
      "cell_type": "code",
      "metadata": {
        "colab": {
          "base_uri": "https://localhost:8080/"
        },
        "id": "rO_whDFwieCl",
        "outputId": "72c2126b-8279-4411-879d-ef8fbace1835"
      },
      "source": [
        "y_train.value_counts()"
      ],
      "execution_count": null,
      "outputs": [
        {
          "output_type": "execute_result",
          "data": {
            "text/plain": [
              "6     2367\n",
              "9     2341\n",
              "4     2304\n",
              "7     2294\n",
              "1     2281\n",
              "8     2279\n",
              "2     2250\n",
              "5     2244\n",
              "3     2214\n",
              "0     2188\n",
              "10      30\n",
              "Name: income.num, dtype: int64"
            ]
          },
          "metadata": {
            "tags": []
          },
          "execution_count": 167
        }
      ]
    },
    {
      "cell_type": "markdown",
      "metadata": {
        "id": "TcKaG7Dc0qJb"
      },
      "source": [
        "### 문제 29. Light GBM  다중분류 결과  확인하기: Accuracy, Confusion Matrix, Heatmap"
      ]
    },
    {
      "cell_type": "code",
      "metadata": {
        "id": "TuzF7PBi0qJb",
        "colab": {
          "base_uri": "https://localhost:8080/"
        },
        "outputId": "48b6de57-e026-417d-ebd2-da9c9790aff9"
      },
      "source": [
        "## 정확도 구하기\n",
        "y_pred1 =  lgbm.predict(x_test)\n",
        "\n",
        "lgbm_score =  accuracy_score(y_test, y_pred1)\n",
        "print('LGBM Model accuracy score : {0:0.4f}'.format(lgbm_score))"
      ],
      "execution_count": null,
      "outputs": [
        {
          "output_type": "stream",
          "text": [
            "LGBM Model accuracy score : 0.8119\n"
          ],
          "name": "stdout"
        }
      ]
    },
    {
      "cell_type": "code",
      "metadata": {
        "colab": {
          "base_uri": "https://localhost:8080/",
          "height": 359
        },
        "id": "OKO3WRgr70JY",
        "outputId": "e33e81c0-ac88-498a-98eb-9423ef5384bd"
      },
      "source": [
        "pd.DataFrame(y_test).head(10)"
      ],
      "execution_count": null,
      "outputs": [
        {
          "output_type": "execute_result",
          "data": {
            "text/html": [
              "<div>\n",
              "<style scoped>\n",
              "    .dataframe tbody tr th:only-of-type {\n",
              "        vertical-align: middle;\n",
              "    }\n",
              "\n",
              "    .dataframe tbody tr th {\n",
              "        vertical-align: top;\n",
              "    }\n",
              "\n",
              "    .dataframe thead th {\n",
              "        text-align: right;\n",
              "    }\n",
              "</style>\n",
              "<table border=\"1\" class=\"dataframe\">\n",
              "  <thead>\n",
              "    <tr style=\"text-align: right;\">\n",
              "      <th></th>\n",
              "      <th>income.num</th>\n",
              "    </tr>\n",
              "  </thead>\n",
              "  <tbody>\n",
              "    <tr>\n",
              "      <th>22278</th>\n",
              "      <td>6</td>\n",
              "    </tr>\n",
              "    <tr>\n",
              "      <th>8950</th>\n",
              "      <td>6</td>\n",
              "    </tr>\n",
              "    <tr>\n",
              "      <th>7838</th>\n",
              "      <td>7</td>\n",
              "    </tr>\n",
              "    <tr>\n",
              "      <th>16505</th>\n",
              "      <td>3</td>\n",
              "    </tr>\n",
              "    <tr>\n",
              "      <th>19140</th>\n",
              "      <td>2</td>\n",
              "    </tr>\n",
              "    <tr>\n",
              "      <th>12319</th>\n",
              "      <td>7</td>\n",
              "    </tr>\n",
              "    <tr>\n",
              "      <th>28589</th>\n",
              "      <td>7</td>\n",
              "    </tr>\n",
              "    <tr>\n",
              "      <th>10000</th>\n",
              "      <td>1</td>\n",
              "    </tr>\n",
              "    <tr>\n",
              "      <th>28530</th>\n",
              "      <td>3</td>\n",
              "    </tr>\n",
              "    <tr>\n",
              "      <th>24237</th>\n",
              "      <td>6</td>\n",
              "    </tr>\n",
              "  </tbody>\n",
              "</table>\n",
              "</div>"
            ],
            "text/plain": [
              "       income.num\n",
              "22278           6\n",
              "8950            6\n",
              "7838            7\n",
              "16505           3\n",
              "19140           2\n",
              "12319           7\n",
              "28589           7\n",
              "10000           1\n",
              "28530           3\n",
              "24237           6"
            ]
          },
          "metadata": {
            "tags": []
          },
          "execution_count": 179
        }
      ]
    },
    {
      "cell_type": "code",
      "metadata": {
        "colab": {
          "base_uri": "https://localhost:8080/",
          "height": 359
        },
        "id": "dlceDIG_74p_",
        "outputId": "5ccba0cb-e493-4610-adc2-e31c7d2f0c86"
      },
      "source": [
        "pd.DataFrame(y_pred1).head(10)"
      ],
      "execution_count": null,
      "outputs": [
        {
          "output_type": "execute_result",
          "data": {
            "text/html": [
              "<div>\n",
              "<style scoped>\n",
              "    .dataframe tbody tr th:only-of-type {\n",
              "        vertical-align: middle;\n",
              "    }\n",
              "\n",
              "    .dataframe tbody tr th {\n",
              "        vertical-align: top;\n",
              "    }\n",
              "\n",
              "    .dataframe thead th {\n",
              "        text-align: right;\n",
              "    }\n",
              "</style>\n",
              "<table border=\"1\" class=\"dataframe\">\n",
              "  <thead>\n",
              "    <tr style=\"text-align: right;\">\n",
              "      <th></th>\n",
              "      <th>0</th>\n",
              "    </tr>\n",
              "  </thead>\n",
              "  <tbody>\n",
              "    <tr>\n",
              "      <th>0</th>\n",
              "      <td>6</td>\n",
              "    </tr>\n",
              "    <tr>\n",
              "      <th>1</th>\n",
              "      <td>6</td>\n",
              "    </tr>\n",
              "    <tr>\n",
              "      <th>2</th>\n",
              "      <td>7</td>\n",
              "    </tr>\n",
              "    <tr>\n",
              "      <th>3</th>\n",
              "      <td>1</td>\n",
              "    </tr>\n",
              "    <tr>\n",
              "      <th>4</th>\n",
              "      <td>3</td>\n",
              "    </tr>\n",
              "    <tr>\n",
              "      <th>5</th>\n",
              "      <td>7</td>\n",
              "    </tr>\n",
              "    <tr>\n",
              "      <th>6</th>\n",
              "      <td>7</td>\n",
              "    </tr>\n",
              "    <tr>\n",
              "      <th>7</th>\n",
              "      <td>1</td>\n",
              "    </tr>\n",
              "    <tr>\n",
              "      <th>8</th>\n",
              "      <td>3</td>\n",
              "    </tr>\n",
              "    <tr>\n",
              "      <th>9</th>\n",
              "      <td>6</td>\n",
              "    </tr>\n",
              "  </tbody>\n",
              "</table>\n",
              "</div>"
            ],
            "text/plain": [
              "   0\n",
              "0  6\n",
              "1  6\n",
              "2  7\n",
              "3  1\n",
              "4  3\n",
              "5  7\n",
              "6  7\n",
              "7  1\n",
              "8  3\n",
              "9  6"
            ]
          },
          "metadata": {
            "tags": []
          },
          "execution_count": 165
        }
      ]
    },
    {
      "cell_type": "code",
      "metadata": {
        "id": "EKdNEzvt0qJc",
        "colab": {
          "base_uri": "https://localhost:8080/"
        },
        "outputId": "66d412d3-8973-4dad-e819-2aab305817b8"
      },
      "source": [
        "## Confusion Matrix 확인하기\n",
        "from sklearn.metrics import confusion_matrix\n",
        "cm1 =  confusion_matrix(y_test, y_pred1)\n",
        "print('LGBM Confusion Matrix for 11-class Labels\\n')\n",
        "print(cm1)\n"
      ],
      "execution_count": null,
      "outputs": [
        {
          "output_type": "stream",
          "text": [
            "LGBM Confusion Matrix for 11-class Labels\n",
            "\n",
            "[[934  41   4   3   1   0   2   3   0   0   0]\n",
            " [ 40 869  46  13   1   0   0   0   0   0   0]\n",
            " [ 23  42 807  45   7   0   2   2   0   2   0]\n",
            " [ 13  20  75 838  62   6   2   2   1   0   0]\n",
            " [ 11  17  16  73 758  70  12   4   5   3   0]\n",
            " [  8  13  18  22  76 758  78  12  11   6   0]\n",
            " [ 10   7  11  12  11  92 702  78  13  15   0]\n",
            " [ 12   8  10   8  11  12  77 730  91  23   0]\n",
            " [  7  10  10   6   9   7  12 102 727  88   0]\n",
            " [  8   7  10  16  16   6   7  29  62 808   0]\n",
            " [  0   0   0   0   0   0   0   0   0  12   0]]\n"
          ],
          "name": "stdout"
        }
      ]
    },
    {
      "cell_type": "code",
      "metadata": {
        "id": "e4Tefw4j0zLF",
        "colab": {
          "base_uri": "https://localhost:8080/",
          "height": 477
        },
        "outputId": "0012c1e5-e68b-4b8e-9c94-f670a0879976"
      },
      "source": [
        "## 히트맵으로 시각화하기\n",
        "plt.figure(figsize=[8,7])\n",
        "sns.heatmap(cm1, cmap='Reds', annot=True, fmt='.0f')\n",
        "plt.title('LGBM Heatmap for 11-class Labels\\n')\n",
        "plt.show()"
      ],
      "execution_count": null,
      "outputs": [
        {
          "output_type": "display_data",
          "data": {
            "image/png": "[encoded data removed]",
            "text/plain": [
              "<Figure size 576x504 with 2 Axes>"
            ]
          },
          "metadata": {
            "tags": []
          }
        }
      ]
    },
    {
      "cell_type": "code",
      "metadata": {
        "id": "kwz0dhvp0qJc",
        "colab": {
          "base_uri": "https://localhost:8080/"
        },
        "outputId": "bc846c93-15d2-4ec6-803e-49f8d4e2edbc"
      },
      "source": [
        "print('LGBM Model accuracy score : {0:0.4f}'.format(lgbm_score))\n",
        "print('\\n')\n",
        "print(classification_report(y_test, y_pred1))"
      ],
      "execution_count": null,
      "outputs": [
        {
          "output_type": "stream",
          "text": [
            "LGBM Model accuracy score : 0.8119\n",
            "\n",
            "\n",
            "              precision    recall  f1-score   support\n",
            "\n",
            "           0       0.88      0.95      0.91       988\n",
            "           1       0.84      0.90      0.87       969\n",
            "           2       0.80      0.87      0.83       930\n",
            "           3       0.81      0.82      0.82      1019\n",
            "           4       0.80      0.78      0.79       969\n",
            "           5       0.80      0.76      0.78      1002\n",
            "           6       0.79      0.74      0.76       951\n",
            "           7       0.76      0.74      0.75       982\n",
            "           8       0.80      0.74      0.77       978\n",
            "           9       0.84      0.83      0.84       969\n",
            "          10       0.00      0.00      0.00        12\n",
            "\n",
            "    accuracy                           0.81      9769\n",
            "   macro avg       0.74      0.74      0.74      9769\n",
            "weighted avg       0.81      0.81      0.81      9769\n",
            "\n"
          ],
          "name": "stdout"
        }
      ]
    },
    {
      "cell_type": "markdown",
      "metadata": {
        "id": "LdenmSt90qJd"
      },
      "source": [
        "### 문제 30. Random Forest 모델로 다중분류 구현하고 정확도 확인하기"
      ]
    },
    {
      "cell_type": "code",
      "metadata": {
        "id": "esYpTi2P0qJd",
        "colab": {
          "base_uri": "https://localhost:8080/"
        },
        "outputId": "025188a1-8bcd-4b88-f09e-8deed01ca464"
      },
      "source": [
        "from sklearn.ensemble import RandomForestClassifier\n",
        "from sklearn.metrics import accuracy_score\n",
        "\n",
        "rfc =  RandomForestClassifier() \n",
        "rfc.fit(x_train, y_train) "
      ],
      "execution_count": null,
      "outputs": [
        {
          "output_type": "execute_result",
          "data": {
            "text/plain": [
              "RandomForestClassifier(bootstrap=True, ccp_alpha=0.0, class_weight=None,\n",
              "                       criterion='gini', max_depth=None, max_features='auto',\n",
              "                       max_leaf_nodes=None, max_samples=None,\n",
              "                       min_impurity_decrease=0.0, min_impurity_split=None,\n",
              "                       min_samples_leaf=1, min_samples_split=2,\n",
              "                       min_weight_fraction_leaf=0.0, n_estimators=100,\n",
              "                       n_jobs=None, oob_score=False, random_state=None,\n",
              "                       verbose=0, warm_start=False)"
            ]
          },
          "metadata": {
            "tags": []
          },
          "execution_count": 185
        }
      ]
    },
    {
      "cell_type": "code",
      "metadata": {
        "id": "Faof-RT50qJd",
        "colab": {
          "base_uri": "https://localhost:8080/"
        },
        "outputId": "56bcb055-b594-4c7e-e69b-d800af2cee9e"
      },
      "source": [
        "y_pred =  rfc.predict(x_test)\n",
        "rfc_score =  accuracy_score(y_test, y_pred)\n",
        "print('Random Forest Model accuracy score : {0:0.4f}'. format(rfc_score))"
      ],
      "execution_count": null,
      "outputs": [
        {
          "output_type": "stream",
          "text": [
            "Random Forest Model accuracy score : 0.7602\n"
          ],
          "name": "stdout"
        }
      ]
    },
    {
      "cell_type": "markdown",
      "metadata": {
        "id": "oHo8oEsM0qJe"
      },
      "source": [
        "## Step 7. 다중분류 모델의 평가와 개선"
      ]
    },
    {
      "cell_type": "markdown",
      "metadata": {
        "id": "8DWhJnjD0qJe"
      },
      "source": [
        "### 문제 31. Random Forest 다중분류 모델의 정확도 확인하기"
      ]
    },
    {
      "cell_type": "code",
      "metadata": {
        "id": "wV-7svY10qJf",
        "colab": {
          "base_uri": "https://localhost:8080/"
        },
        "outputId": "bdd774af-c993-4712-a3cd-1b3cf43eb88f"
      },
      "source": [
        "## 이전 Step 복습\n",
        "y_pred = rfc.predict(x_test)\n",
        "rfc_score = accuracy_score(y_test, y_pred)\n",
        "print('Randoom Forest Model accuracy score : {0:0.4f}'. format(rfc_score)) "
      ],
      "execution_count": null,
      "outputs": [
        {
          "output_type": "stream",
          "text": [
            "Randoom Forest Model accuracy score : 0.7688\n"
          ],
          "name": "stdout"
        }
      ]
    },
    {
      "cell_type": "markdown",
      "metadata": {
        "id": "xsgxRM-o0qJg"
      },
      "source": [
        "### 문제 32. Random Forest  다중분류 모델의 인접정확도 구하기"
      ]
    },
    {
      "cell_type": "markdown",
      "metadata": {
        "id": "Cfv-iZU2kYhk"
      },
      "source": [
        "- 3등급으로 예측했는데 실제값이 2등급 또는 4등급이라면 인접 정확도가 높은 것\n",
        "- 예측값이 정확하게 실제값을 맞췄는지를 보는 것보다 인접 정확도도 같이 보는 것이 중요함"
      ]
    },
    {
      "cell_type": "code",
      "metadata": {
        "id": "W8wir5pW0qJg",
        "colab": {
          "base_uri": "https://localhost:8080/"
        },
        "outputId": "c81da78f-a623-48dd-8cc3-ec029ded2b30"
      },
      "source": [
        "precise_accuracy =  np.sum(y_pred==y_test) / len(y_pred)\n",
        "adjacent_accuracy =  np.sum(np.abs(y_pred - y_test) <= 1) / len(y_pred) # 인접 정확도의 계산\n",
        "\n",
        "print('precise accuracy: {0:0.4f}'. format(precise_accuracy))\n",
        "print('adjacent accuracy: {0:0.4f}'. format(adjacent_accuracy))"
      ],
      "execution_count": null,
      "outputs": [
        {
          "output_type": "stream",
          "text": [
            "precise accuracy: 0.7688\n",
            "adjacent accuracy: 0.9324\n"
          ],
          "name": "stdout"
        }
      ]
    },
    {
      "cell_type": "markdown",
      "metadata": {
        "id": "1pLL2FWI0qJh"
      },
      "source": [
        "### 문제 33. Random Forest  다중분류 모델의 Confusion Matrix 확인하기"
      ]
    },
    {
      "cell_type": "code",
      "metadata": {
        "colab": {
          "base_uri": "https://localhost:8080/"
        },
        "id": "3ud1_co8EO6N",
        "outputId": "115ed3c8-197c-47f9-81b4-811cc6af6aa0"
      },
      "source": [
        "print(cm1) # light gbm "
      ],
      "execution_count": null,
      "outputs": [
        {
          "output_type": "stream",
          "text": [
            "[[934  41   4   3   1   0   2   3   0   0   0]\n",
            " [ 40 869  46  13   1   0   0   0   0   0   0]\n",
            " [ 23  42 807  45   7   0   2   2   0   2   0]\n",
            " [ 13  20  75 838  62   6   2   2   1   0   0]\n",
            " [ 11  17  16  73 758  70  12   4   5   3   0]\n",
            " [  8  13  18  22  76 758  78  12  11   6   0]\n",
            " [ 10   7  11  12  11  92 702  78  13  15   0]\n",
            " [ 12   8  10   8  11  12  77 730  91  23   0]\n",
            " [  7  10  10   6   9   7  12 102 727  88   0]\n",
            " [  8   7  10  16  16   6   7  29  62 808   0]\n",
            " [  0   0   0   0   0   0   0   0   0  12   0]]\n"
          ],
          "name": "stdout"
        }
      ]
    },
    {
      "cell_type": "code",
      "metadata": {
        "id": "BDuVlM7D0qJh",
        "colab": {
          "base_uri": "https://localhost:8080/"
        },
        "outputId": "2044d230-3329-4e2f-e865-43a4e6929eff"
      },
      "source": [
        "from sklearn.metrics import confusion_matrix\n",
        "cm2 =  confusion_matrix(y_test, y_pred)\n",
        "print('Random Forest Confusion Matrix for 11-class Labels\\n')\n",
        "print(cm2)"
      ],
      "execution_count": null,
      "outputs": [
        {
          "output_type": "stream",
          "text": [
            "Random Forest Confusion Matrix for 11-class Labels\n",
            "\n",
            "[[937  45   2   2   1   0   1   0   0   0   0]\n",
            " [ 58 824  69  11   2   3   1   0   1   0   0]\n",
            " [ 25  70 767  48   7   3   6   0   2   2   0]\n",
            " [ 16  21 102 759  99  10   6   1   4   1   0]\n",
            " [ 15  18  21  86 719  83  11  10   1   5   0]\n",
            " [ 10   9  18  18 101 699 118  12  12   5   0]\n",
            " [ 14   7   9  15  15 101 679  84  13  14   0]\n",
            " [ 12   6   9   7  13  20 114 674 101  26   0]\n",
            " [  8   9   9   7  12  13  16 136 635 133   0]\n",
            " [ 11   5   8  18  15  15  15  32 117 733   0]\n",
            " [  0   0   0   0   0   0   0   0   0  12   0]]\n"
          ],
          "name": "stdout"
        }
      ]
    },
    {
      "cell_type": "code",
      "metadata": {
        "colab": {
          "base_uri": "https://localhost:8080/",
          "height": 436
        },
        "id": "5LywqLXNE4_E",
        "outputId": "50cac627-5967-4f85-95fb-f92e97d70b3b"
      },
      "source": [
        "plt.figure(figsize=[8, 7])\n",
        "sns.heatmap(cm1, cmap='Reds', annot=True, fmt='.0f')\n",
        "plt.show()"
      ],
      "execution_count": null,
      "outputs": [
        {
          "output_type": "display_data",
          "data": {
            "image/png": "[encoded data removed]",
            "text/plain": [
              "<Figure size 576x504 with 2 Axes>"
            ]
          },
          "metadata": {
            "tags": []
          }
        }
      ]
    },
    {
      "cell_type": "code",
      "metadata": {
        "colab": {
          "base_uri": "https://localhost:8080/",
          "height": 469
        },
        "id": "DCmGwl_uEjPs",
        "outputId": "e86a5b96-7732-468b-f092-e107521c270f"
      },
      "source": [
        "## Seaborn Heatmap\n",
        "\n",
        "plt.figure(figsize=[8, 7])\n",
        "sns.heatmap(cm2, cmap='Reds', annot=True, fmt='.0f')\n",
        "plt.title('Random Forest Heatmap for 11-class Labels\\n', fontsize=14)\n",
        "plt.show()"
      ],
      "execution_count": null,
      "outputs": [
        {
          "output_type": "display_data",
          "data": {
            "image/png": "[encoded data removed]",
            "text/plain": [
              "<Figure size 576x504 with 2 Axes>"
            ]
          },
          "metadata": {
            "tags": []
          }
        }
      ]
    },
    {
      "cell_type": "markdown",
      "metadata": {
        "id": "0S2nut5S0qJi"
      },
      "source": [
        "### 문제 34. Random Forest  다중분류 모델의 분류결과 확인하기"
      ]
    },
    {
      "cell_type": "code",
      "metadata": {
        "id": "0A46jsLY0qJi",
        "colab": {
          "base_uri": "https://localhost:8080/"
        },
        "outputId": "78516e54-32c0-47aa-dcf6-7d394d2223a8"
      },
      "source": [
        "from sklearn.metrics import classification_report\n",
        "\n",
        "print('Random Forest precise  accuracy for 11 labels: {0:0.4f}'. format(precise_accuracy))\n",
        "print('Random Forest adjacent accuracy for 11 labels: {0:0.4f}'. format(adjacent_accuracy))\n",
        "print('\\n')\n",
        "print(classification_report(y_test, y_pred ))"
      ],
      "execution_count": null,
      "outputs": [
        {
          "output_type": "stream",
          "text": [
            "Random Forest precise  accuracy for 11 labels: 0.7688\n",
            "Random Forest adjacent accuracy for 11 labels: 0.9324\n",
            "\n",
            "\n",
            "              precision    recall  f1-score   support\n",
            "\n",
            "           0       0.85      0.95      0.89       988\n",
            "           1       0.81      0.85      0.83       969\n",
            "           2       0.76      0.82      0.79       930\n",
            "           3       0.78      0.74      0.76      1019\n",
            "           4       0.73      0.74      0.74       969\n",
            "           5       0.74      0.70      0.72      1002\n",
            "           6       0.70      0.71      0.71       951\n",
            "           7       0.71      0.69      0.70       982\n",
            "           8       0.72      0.65      0.68       978\n",
            "           9       0.79      0.76      0.77       969\n",
            "          10       0.00      0.00      0.00        12\n",
            "\n",
            "    accuracy                           0.76      9769\n",
            "   macro avg       0.69      0.69      0.69      9769\n",
            "weighted avg       0.76      0.76      0.76      9769\n",
            "\n"
          ],
          "name": "stdout"
        }
      ]
    },
    {
      "cell_type": "markdown",
      "metadata": {
        "id": "BwNxSrLT0qJk"
      },
      "source": [
        "### 문제 35. 적절한 클래스 수로 변환하여 모델 개선하기"
      ]
    },
    {
      "cell_type": "code",
      "metadata": {
        "id": "Dy52BtOz0qJn"
      },
      "source": [
        "def value_change(x):\n",
        "    if x <= 20000: return 0\n",
        "    if x >  20000 and x <= 50000 : return 1\n",
        "    if x >  50000 and x <= 70000 : return 2\n",
        "    if x >  70000 and x <= 90000 : return 3 \n",
        "    return 4\n",
        "\n",
        "y = data['income.num'].apply(lambda x: value_change(x))"
      ],
      "execution_count": null,
      "outputs": []
    },
    {
      "cell_type": "code",
      "metadata": {
        "colab": {
          "base_uri": "https://localhost:8080/"
        },
        "id": "riap_TfjGK7d",
        "outputId": "0e833c5a-3f33-48b6-e4d7-487490f63f5c"
      },
      "source": [
        "y.value_counts()"
      ],
      "execution_count": null,
      "outputs": [
        {
          "output_type": "execute_result",
          "data": {
            "text/plain": [
              "1    9686\n",
              "2    6564\n",
              "3    6533\n",
              "0    6426\n",
              "4    3352\n",
              "Name: income.num, dtype: int64"
            ]
          },
          "metadata": {
            "tags": []
          },
          "execution_count": 193
        }
      ]
    },
    {
      "cell_type": "code",
      "metadata": {
        "colab": {
          "base_uri": "https://localhost:8080/"
        },
        "id": "_syRaUX4GU7X",
        "outputId": "699f40ff-9045-48f9-b678-629d05555c7c"
      },
      "source": [
        "y.value_counts().sum()"
      ],
      "execution_count": null,
      "outputs": [
        {
          "output_type": "execute_result",
          "data": {
            "text/plain": [
              "32561"
            ]
          },
          "metadata": {
            "tags": []
          },
          "execution_count": 194
        }
      ]
    },
    {
      "cell_type": "code",
      "metadata": {
        "colab": {
          "base_uri": "https://localhost:8080/",
          "height": 454
        },
        "id": "vilIzME5GneM",
        "outputId": "64fb17fe-03e8-42c0-89bc-8ea32a175655"
      },
      "source": [
        "sns.set(font_scale=1.4)\n",
        "y.value_counts().plot(kind='bar', figsize=(7, 6), rot=0)\n",
        "plt.xlabel(\"Income Labels\", labelpad=14)\n",
        "plt.ylabel(\"Counts\", labelpad=14)\n",
        "plt.title(\"Counts of 5 Income Labels\\n\");"
      ],
      "execution_count": null,
      "outputs": [
        {
          "output_type": "display_data",
          "data": {
            "image/png": "[encoded data removed]",
            "text/plain": [
              "<Figure size 504x432 with 1 Axes>"
            ]
          },
          "metadata": {
            "tags": []
          }
        }
      ]
    },
    {
      "cell_type": "markdown",
      "metadata": {
        "id": "ojpCGXOk0qJn"
      },
      "source": [
        "### 문제 36. Feature Engineering"
      ]
    },
    {
      "cell_type": "code",
      "metadata": {
        "id": "VWNoknJt0qJo"
      },
      "source": [
        "from sklearn.model_selection import train_test_split\n",
        "x_train, x_test, y_train, y_test = train_test_split(X, y, test_size = 0.3, random_state = 0)"
      ],
      "execution_count": null,
      "outputs": []
    },
    {
      "cell_type": "code",
      "metadata": {
        "id": "ZojiMJyf0qJs"
      },
      "source": [
        "from sklearn import preprocessing\n",
        "\n",
        "categorical = ['workclass', 'marital.status', 'occupation', 'relationship', 'sex', 'native.country']\n",
        "for feature in categorical:\n",
        "        le = preprocessing.LabelEncoder()\n",
        "        x_train[feature] = le.fit_transform(x_train[feature])\n",
        "        x_test[feature] = le.transform(x_test[feature])"
      ],
      "execution_count": null,
      "outputs": []
    },
    {
      "cell_type": "markdown",
      "metadata": {
        "id": "0DM7mQ380qJt"
      },
      "source": [
        "### 문제 37. 변경한 클래스를 이용한 Random Forest 다중분류 모델의 개선결과 확인하기"
      ]
    },
    {
      "cell_type": "code",
      "metadata": {
        "id": "7LFtYF1T0qJt",
        "colab": {
          "base_uri": "https://localhost:8080/"
        },
        "outputId": "be2bdf1f-0c16-4dd2-d060-0da8127885b7"
      },
      "source": [
        "from sklearn.ensemble import RandomForestClassifier\n",
        "from sklearn.metrics import accuracy_score\n",
        "\n",
        "rfc = RandomForestClassifier(random_state=0)\n",
        "rfc.fit(x_train, y_train)"
      ],
      "execution_count": null,
      "outputs": [
        {
          "output_type": "execute_result",
          "data": {
            "text/plain": [
              "RandomForestClassifier(bootstrap=True, ccp_alpha=0.0, class_weight=None,\n",
              "                       criterion='gini', max_depth=None, max_features='auto',\n",
              "                       max_leaf_nodes=None, max_samples=None,\n",
              "                       min_impurity_decrease=0.0, min_impurity_split=None,\n",
              "                       min_samples_leaf=1, min_samples_split=2,\n",
              "                       min_weight_fraction_leaf=0.0, n_estimators=100,\n",
              "                       n_jobs=None, oob_score=False, random_state=0, verbose=0,\n",
              "                       warm_start=False)"
            ]
          },
          "metadata": {
            "tags": []
          },
          "execution_count": 208
        }
      ]
    },
    {
      "cell_type": "code",
      "metadata": {
        "id": "p_fK183j0qJ2",
        "colab": {
          "base_uri": "https://localhost:8080/"
        },
        "outputId": "558c0f8f-d9db-4253-9244-7fd79b63442f"
      },
      "source": [
        "## Confusion Matrix 확인하기\n",
        "y_pred =  rfc.predict(x_test)\n",
        "cm3 =  confusion_matrix(y_test, y_pred)\n",
        "print('Random Forest Confusion Matrix for 5-class Labels\\n')\n",
        "print(cm3)"
      ],
      "execution_count": null,
      "outputs": [
        {
          "output_type": "stream",
          "text": [
            "Random Forest Confusion Matrix for 5-class Labels\n",
            "\n",
            "[[1811  144    2    0    0]\n",
            " [ 105 2721   84    8    0]\n",
            " [  31  194 1609  118    1]\n",
            " [  26   81  134 1680   39]\n",
            " [  13   56   29  253  630]]\n"
          ],
          "name": "stdout"
        }
      ]
    },
    {
      "cell_type": "code",
      "metadata": {
        "colab": {
          "base_uri": "https://localhost:8080/",
          "height": 469
        },
        "id": "Yw3cOWuRHym1",
        "outputId": "66c83fce-5892-4f50-f1cc-b5e623255f97"
      },
      "source": [
        "plt.figure(figsize=[8, 7])\n",
        "sns.heatmap(cm2, cmap='Reds', annot=True, fmt='.0f')\n",
        "plt.title('Random Forest Heatmap for 11-class Labels\\n', fontsize=14)\n",
        "plt.show()"
      ],
      "execution_count": null,
      "outputs": [
        {
          "output_type": "display_data",
          "data": {
            "image/png": "[encoded data removed]",
            "text/plain": [
              "<Figure size 576x504 with 2 Axes>"
            ]
          },
          "metadata": {
            "tags": []
          }
        }
      ]
    },
    {
      "cell_type": "code",
      "metadata": {
        "colab": {
          "base_uri": "https://localhost:8080/",
          "height": 469
        },
        "id": "pW4ePS2aHPl5",
        "outputId": "74bab3d1-8183-4181-d3d1-37317813b9db"
      },
      "source": [
        "# Heatmap 그려보기\n",
        "\n",
        "plt.figure(figsize=[8,7])\n",
        "sns.heatmap(cm3, cmap=\"Reds\", annot=True, fmt='.0f')\n",
        "plt.title('Random Forest Heatmap for 5-class Labels\\n', fontsize=14)\n",
        "plt.show()"
      ],
      "execution_count": null,
      "outputs": [
        {
          "output_type": "display_data",
          "data": {
            "image/png": "[encoded data removed]",
            "text/plain": [
              "<Figure size 576x504 with 2 Axes>"
            ]
          },
          "metadata": {
            "tags": []
          }
        }
      ]
    },
    {
      "cell_type": "code",
      "metadata": {
        "id": "3bfuUV8z0qJ3",
        "colab": {
          "base_uri": "https://localhost:8080/"
        },
        "outputId": "e9956f86-f2eb-4e2e-820a-cdcfdbb975ad"
      },
      "source": [
        "## Accruacy Evaluation\n",
        "precise_accuracy =  np.sum(y_pred==y_test) / len(y_pred) # exact_match\n",
        "adjacent_accuracy =  np.sum(np.abs(y_pred - y_test) <=1) / len(y_pred)\n",
        "\n",
        "print('precise accuracy: {0:0.4f}'. format(precise_accuracy))\n",
        "print('adjacent accuracy: {0:0.4f}'. format(adjacent_accuracy))"
      ],
      "execution_count": null,
      "outputs": [
        {
          "output_type": "stream",
          "text": [
            "precise accuracy: 0.8651\n",
            "adjacent accuracy: 0.9747\n"
          ],
          "name": "stdout"
        }
      ]
    },
    {
      "cell_type": "code",
      "metadata": {
        "id": "lACoMc1B0qJ3",
        "colab": {
          "base_uri": "https://localhost:8080/"
        },
        "outputId": "ab3c0744-045d-4a8c-a296-e6d07c6b704f"
      },
      "source": [
        "## 2가지 Accruacy 스코어의 비교\n",
        "print('Random Forest precise  accuracy for 5 labels: {0:0.4f}'. format(precise_accuracy))\n",
        "print('Random Forest adjacent accuracy for 5 labels: {0:0.4f}'. format(adjacent_accuracy))\n",
        "print('\\n')\n",
        "print(classification_report(y_test, y_pred))"
      ],
      "execution_count": null,
      "outputs": [
        {
          "output_type": "stream",
          "text": [
            "Random Forest precise  accuracy for 5 labels: 0.8651\n",
            "Random Forest adjacent accuracy for 5 labels: 0.9747\n",
            "\n",
            "\n",
            "              precision    recall  f1-score   support\n",
            "\n",
            "           0       0.91      0.93      0.92      1957\n",
            "           1       0.85      0.93      0.89      2918\n",
            "           2       0.87      0.82      0.84      1953\n",
            "           3       0.82      0.86      0.84      1960\n",
            "           4       0.94      0.64      0.76       981\n",
            "\n",
            "    accuracy                           0.87      9769\n",
            "   macro avg       0.88      0.84      0.85      9769\n",
            "weighted avg       0.87      0.87      0.86      9769\n",
            "\n"
          ],
          "name": "stdout"
        }
      ]
    },
    {
      "cell_type": "markdown",
      "metadata": {
        "id": "cL5w2tBV0qJ3"
      },
      "source": [
        "### 문제 38. 변경한 클래스를 이용한 Ligth GBM 다중분류 모델의 개선결과 확인하기"
      ]
    },
    {
      "cell_type": "code",
      "metadata": {
        "colab": {
          "base_uri": "https://localhost:8080/"
        },
        "id": "RrVUcN0zQ34l",
        "outputId": "fd6aebd2-6dc6-47e6-c058-9dd415644ffa"
      },
      "source": [
        "lgbm =  LGBMClassifier(random_state=0)\n",
        "lgbm.fit(x_train, y_train)\n",
        "y_pred1 =  lgbm.predict(x_test)\n",
        "\n",
        "lgbm_score1 = accuracy_score(y_test, y_pred1 )\n",
        "print('LGBM Model accuracy score : {0:0.4f}'.format(lgbm_score1))"
      ],
      "execution_count": null,
      "outputs": [
        {
          "output_type": "stream",
          "text": [
            "LGBM Model accuracy score : 0.9023\n"
          ],
          "name": "stdout"
        }
      ]
    },
    {
      "cell_type": "code",
      "metadata": {
        "colab": {
          "base_uri": "https://localhost:8080/"
        },
        "id": "9u_U2kS2OLHu",
        "outputId": "855f2e2e-dfd3-4dbf-b6a9-312ce067b08b"
      },
      "source": [
        "## Confusion Matrix 구하기\n",
        "\n",
        "cm4 =  confusion_matrix(y_test, y_pred1)\n",
        "print('LGBM Confusion Matrix for 5-class Labels\\n')\n",
        "print(cm4)"
      ],
      "execution_count": null,
      "outputs": [
        {
          "output_type": "stream",
          "text": [
            "LGBM Confusion Matrix for 5-class Labels\n",
            "\n",
            "[[1859   91    3    4    0]\n",
            " [  77 2770   60    9    2]\n",
            " [  28  145 1685   91    4]\n",
            " [  26   60  104 1717   53]\n",
            " [  13   38   20  126  784]]\n"
          ],
          "name": "stdout"
        }
      ]
    },
    {
      "cell_type": "code",
      "metadata": {
        "colab": {
          "base_uri": "https://localhost:8080/",
          "height": 469
        },
        "id": "-Qm1zPCjR8RJ",
        "outputId": "920a578c-cb15-4c2d-adb9-2b03aaba6637"
      },
      "source": [
        "# seaborn를 이용한 heatmap\n",
        "\n",
        "plt.figure(figsize=[8, 7])\n",
        "sns.heatmap(cm3, cmap='Reds', annot=True, fmt='.0f')\n",
        "plt.title('Random Forest Classifier Heatmap for 5-class Labels\\n', fontsize=14)\n",
        "plt.show()"
      ],
      "execution_count": null,
      "outputs": [
        {
          "output_type": "display_data",
          "data": {
            "image/png": "[encoded data removed]",
            "text/plain": [
              "<Figure size 576x504 with 2 Axes>"
            ]
          },
          "metadata": {
            "tags": []
          }
        }
      ]
    },
    {
      "cell_type": "code",
      "metadata": {
        "colab": {
          "base_uri": "https://localhost:8080/",
          "height": 469
        },
        "id": "E3Be0AqkRoV6",
        "outputId": "94c6fbfc-8369-46a3-b11f-c5264e9875f3"
      },
      "source": [
        "# seaborn를 이용한 heatmap\n",
        "\n",
        "plt.figure(figsize=[8, 7])\n",
        "sns.heatmap(cm4, cmap='Reds', annot=True, fmt='.0f')\n",
        "plt.title('LGBM Heatmap for 5-class Labels\\n', fontsize=14)\n",
        "plt.show()"
      ],
      "execution_count": null,
      "outputs": [
        {
          "output_type": "display_data",
          "data": {
            "image/png": "[encoded data removed]",
            "text/plain": [
              "<Figure size 576x504 with 2 Axes>"
            ]
          },
          "metadata": {
            "tags": []
          }
        }
      ]
    },
    {
      "cell_type": "code",
      "metadata": {
        "colab": {
          "base_uri": "https://localhost:8080/"
        },
        "id": "h01iYHkJOMtJ",
        "outputId": "17b7adbd-ccc1-4470-bfea-27a17ac161f0"
      },
      "source": [
        "## Accuracy Evalaution\n",
        "precise_accuracy1 =  np.sum(y_pred1 == y_test) / len(y_pred1) # exact_match\n",
        "adjacent_accuracy1 =  np.sum(np.abs(y_pred1 - y_test) <= 1) / len(y_pred1) \n",
        "\n",
        "print('LGBM precise  accuracy for 5 labels: {0:0.4f}'. format(precise_accuracy1))\n",
        "print('LGBM adjacent accuracy for 5 labels: {0:0.4f}'. format(adjacent_accuracy1))\n",
        "print('\\n')\n",
        "print(classification_report(y_test, y_pred1))"
      ],
      "execution_count": null,
      "outputs": [
        {
          "output_type": "stream",
          "text": [
            "LGBM precise  accuracy for 5 labels: 0.9023\n",
            "LGBM adjacent accuracy for 5 labels: 0.9788\n",
            "\n",
            "\n",
            "              precision    recall  f1-score   support\n",
            "\n",
            "           0       0.93      0.95      0.94      1957\n",
            "           1       0.89      0.95      0.92      2918\n",
            "           2       0.90      0.86      0.88      1953\n",
            "           3       0.88      0.88      0.88      1960\n",
            "           4       0.93      0.80      0.86       981\n",
            "\n",
            "    accuracy                           0.90      9769\n",
            "   macro avg       0.91      0.89      0.90      9769\n",
            "weighted avg       0.90      0.90      0.90      9769\n",
            "\n"
          ],
          "name": "stdout"
        }
      ]
    },
    {
      "cell_type": "markdown",
      "metadata": {
        "id": "-HJVw87-0qJ5"
      },
      "source": [
        "### 문제 39. 요약: 소득 다중분류 예측모델의 결과 비교하기"
      ]
    },
    {
      "cell_type": "code",
      "metadata": {
        "colab": {
          "base_uri": "https://localhost:8080/"
        },
        "id": "TpmWnPwzPqxs",
        "outputId": "c05c2cb6-7ad2-4ef1-b270-7fadaef7e1e1"
      },
      "source": [
        "print ('Accuracy Comparisons for Multiclass Models\\n')\n",
        "print ('rfc_score  (11 labels)  :', '{0:0.5f}'.format(rfc_score)) # Step 6, 문제 30\n",
        "print ('rfc_score  ( 5 labels)  :', '{0:0.5f}'.format(precise_accuracy)) # Step 7, 문제 32\n",
        "print ('lbgm_score (11 labels)  :', '{0:0.5f}'.format(lgbm_score)) # Step 6, 문제 29\n",
        "print ('lgbm_score ( 5 labels)  :', '{0:0.5f}'.format(precise_accuracy1)) # Step 7, 문제 38"
      ],
      "execution_count": null,
      "outputs": [
        {
          "output_type": "stream",
          "text": [
            "Accuracy Comparisons for Multiclass Models\n",
            "\n",
            "rfc_score  (11 labels)  : 0.76016\n",
            "rfc_score  ( 5 labels)  : 0.86508\n",
            "lbgm_score (11 labels)  : 0.81185\n",
            "lgbm_score ( 5 labels)  : 0.90234\n"
          ],
          "name": "stdout"
        }
      ]
    },
    {
      "cell_type": "code",
      "metadata": {
        "colab": {
          "base_uri": "https://localhost:8080/"
        },
        "id": "Xu-ElI_xPsHH",
        "outputId": "ca82deaf-14e2-4b03-b8e5-38cf2c469361"
      },
      "source": [
        "print('LGBM Confusion Matrix')\n",
        "print(cm1) # Step 6, 문제 29\n",
        "print('\\n')\n",
        "print('Random Forest Confusion Matrix')\n",
        "print(cm2) # Step 7, 문제 33"
      ],
      "execution_count": null,
      "outputs": [
        {
          "output_type": "stream",
          "text": [
            "LGBM Confusion Matrix\n",
            "[[934  41   4   3   1   0   2   3   0   0   0]\n",
            " [ 40 869  46  13   1   0   0   0   0   0   0]\n",
            " [ 23  42 807  45   7   0   2   2   0   2   0]\n",
            " [ 13  20  75 838  62   6   2   2   1   0   0]\n",
            " [ 11  17  16  73 758  70  12   4   5   3   0]\n",
            " [  8  13  18  22  76 758  78  12  11   6   0]\n",
            " [ 10   7  11  12  11  92 702  78  13  15   0]\n",
            " [ 12   8  10   8  11  12  77 730  91  23   0]\n",
            " [  7  10  10   6   9   7  12 102 727  88   0]\n",
            " [  8   7  10  16  16   6   7  29  62 808   0]\n",
            " [  0   0   0   0   0   0   0   0   0  12   0]]\n",
            "\n",
            "\n",
            "Random Forest Confusion Matrix\n",
            "[[937  45   2   2   1   0   1   0   0   0   0]\n",
            " [ 58 824  69  11   2   3   1   0   1   0   0]\n",
            " [ 25  70 767  48   7   3   6   0   2   2   0]\n",
            " [ 16  21 102 759  99  10   6   1   4   1   0]\n",
            " [ 15  18  21  86 719  83  11  10   1   5   0]\n",
            " [ 10   9  18  18 101 699 118  12  12   5   0]\n",
            " [ 14   7   9  15  15 101 679  84  13  14   0]\n",
            " [ 12   6   9   7  13  20 114 674 101  26   0]\n",
            " [  8   9   9   7  12  13  16 136 635 133   0]\n",
            " [ 11   5   8  18  15  15  15  32 117 733   0]\n",
            " [  0   0   0   0   0   0   0   0   0  12   0]]\n"
          ],
          "name": "stdout"
        }
      ]
    },
    {
      "cell_type": "code",
      "metadata": {
        "colab": {
          "base_uri": "https://localhost:8080/"
        },
        "id": "vfaW2m5-QSmy",
        "outputId": "af3cf273-08da-4895-e1a3-7c2a8f31ed21"
      },
      "source": [
        "print ('Classification Comparions for Multiclass Models\\n')\n",
        "print ('rfc_score   :', '{0:0.4f}'.format(rfc_score))\n",
        "print (classification_report(y_test, y_pred)) # Step 7, 문제 37\n",
        "print ('lgbm_score  :', '{0:0.4f}'.format(lgbm_score))\n",
        "print (classification_report(y_test, y_pred1))"
      ],
      "execution_count": null,
      "outputs": [
        {
          "output_type": "stream",
          "text": [
            "Classification Comparions for Multiclass Models\n",
            "\n",
            "rfc_score   : 0.7602\n",
            "              precision    recall  f1-score   support\n",
            "\n",
            "           0       0.91      0.93      0.92      1957\n",
            "           1       0.85      0.93      0.89      2918\n",
            "           2       0.87      0.82      0.84      1953\n",
            "           3       0.82      0.86      0.84      1960\n",
            "           4       0.94      0.64      0.76       981\n",
            "\n",
            "    accuracy                           0.87      9769\n",
            "   macro avg       0.88      0.84      0.85      9769\n",
            "weighted avg       0.87      0.87      0.86      9769\n",
            "\n",
            "lgbm_score  : 0.8119\n",
            "              precision    recall  f1-score   support\n",
            "\n",
            "           0       0.93      0.95      0.94      1957\n",
            "           1       0.89      0.95      0.92      2918\n",
            "           2       0.90      0.86      0.88      1953\n",
            "           3       0.88      0.88      0.88      1960\n",
            "           4       0.93      0.80      0.86       981\n",
            "\n",
            "    accuracy                           0.90      9769\n",
            "   macro avg       0.91      0.89      0.90      9769\n",
            "weighted avg       0.90      0.90      0.90      9769\n",
            "\n"
          ],
          "name": "stdout"
        }
      ]
    },
    {
      "cell_type": "markdown",
      "metadata": {
        "id": "jT81QmBu0qJ7"
      },
      "source": [
        "## Step 8. 요약\n",
        "\n",
        "- 1) 이진분류·다중분류 모델의 이해<p>: 분류 항목의 수에 따라 달라지는 모델링 방법(파라미터 처리)\n",
        "\n",
        "- 2) 선형 기반·트리 기반 분류모델의 이해<p>: Logistic Regression, Random Forest, Gradient Boosting, <strong>Light GBM</strong> 등\n",
        "\n",
        "\n",
        "- 3) 변수 처리 방법에 대한 이해<p>: 범주변수 처리, 스케일 조정, 3개 이상의 클래스 처리\n",
        "\n",
        "\n",
        "- 4) 분류모델 결과를 해석하는 방법 습득<p>: 단순정확도, <b>인접정확도</b>, Precision, Recall  등\n",
        "\n",
        "\n",
        "- 5) 평가결과를 바탕으로 모델을 개선하는 방법 습득<p>: F1 스코어, Confusion Matrix, Classification Report 등을 종합적으로 이용\n",
        "    \n",
        "\n",
        "- 다음 주제: 구현한 머신러닝 모델을 XAI 기법으로 설명하기"
      ]
    },
    {
      "cell_type": "code",
      "metadata": {
        "id": "xeygK3fuFODJ"
      },
      "source": [
        ""
      ],
      "execution_count": null,
      "outputs": []
    }
  ]
}