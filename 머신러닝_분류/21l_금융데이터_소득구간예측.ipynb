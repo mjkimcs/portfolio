{
  "nbformat": 4,
  "nbformat_minor": 0,
  "metadata": {
    "kernelspec": {
      "display_name": "Python 3",
      "language": "python",
      "name": "python3"
    },
    "language_info": {
      "codemirror_mode": {
        "name": "ipython",
        "version": 3
      },
      "file_extension": ".py",
      "mimetype": "text/x-python",
      "name": "python",
      "nbconvert_exporter": "python",
      "pygments_lexer": "ipython3",
      "version": "3.6.6"
    },
    "toc": {
      "base_numbering": 1,
      "nav_menu": {},
      "number_sections": true,
      "sideBar": true,
      "skip_h1_title": false,
      "title_cell": "Table of Contents",
      "title_sidebar": "Contents",
      "toc_cell": false,
      "toc_position": {},
      "toc_section_display": true,
      "toc_window_display": false
    },
    "colab": {
      "name": "21l_금융데이터_소득구간예측.ipynb",
      "provenance": [],
      "collapsed_sections": [
        "OW2nqyKl0qI2",
        "7_5l_T2-0qJE",
        "L0Vvw8kR0qJR",
        "Auf1zbdS0qJS"
      ],
      "include_colab_link": true
    }
  },
  "cells": [
    {
      "cell_type": "markdown",
      "metadata": {
        "id": "view-in-github",
        "colab_type": "text"
      },
      "source": [
        "<a href=\"https://colab.research.google.com/github/mjkimcs/portfolio/blob/main/%EB%A8%B8%EC%8B%A0%EB%9F%AC%EB%8B%9D_%EB%B6%84%EB%A5%98/21l_%EA%B8%88%EC%9C%B5%EB%8D%B0%EC%9D%B4%ED%84%B0_%EC%86%8C%EB%93%9D%EA%B5%AC%EA%B0%84%EC%98%88%EC%B8%A1.ipynb\" target=\"_parent\"><img src=\"https://colab.research.google.com/assets/colab-badge.svg\" alt=\"Open In Colab\"/></a>"
      ]
    },
    {
      "cell_type": "markdown",
      "metadata": {
        "id": "Xn_bPjW10qHz"
      },
      "source": [
        "# Chapter 01. 금융 데이터로 소득구간 예측하기"
      ]
    },
    {
      "cell_type": "markdown",
      "metadata": {
        "id": "hR5XfHWy0qIi"
      },
      "source": [
        "## 실습 가이드\n",
        "1. 데이터를 다운로드하여 Colab에 불러옵니다.\n",
        "2. 필요한 라이브러리는 모두 코드로 작성되어 있습니다.\n",
        "3. 코드는 위에서부터 아래로 순서대로 실행합니다.\n",
        "4. 전체 문제 구성은 좌측 첫 번째 아이콘을 통해 확인할 수 있습니다."
      ]
    },
    {
      "cell_type": "markdown",
      "metadata": {
        "id": "9apiyNE20qIk"
      },
      "source": [
        "## Step 0. 금융 데이터 소개 및 예측 모델 개요 \n",
        "고객 소득구간 예측문제는 금융 데이터 분석에서 가장 중요한 문제 중 하나라고 할 수 있습니다.\n",
        "분석에 들어가기 앞서 2가지 사항을 짚어보도록 하겠습니다."
      ]
    },
    {
      "cell_type": "markdown",
      "metadata": {
        "id": "arCV66fJ0qIk"
      },
      "source": [
        "### <b> 금융 데이터의 속성</b>\n",
        "금융 데이터는 주로 아래의 특성을 띄게 됩니다.\n",
        "- 1) <b>이종(heterogeneous) 데이터의 결합</b>: 데이터의 원천·형태·스케일 등이 서로 다른 성격을 가짐\n",
        "- 2) <b>분포의 편향성(skewedness)</b>: 예측값과 정답이 멀리 떨어져 있으면 학습 결과의 편향(bias)이 높을 수 있음\n",
        "- 3) <b>분류 레이블의 불명확성</b>: 소득구간·신용등급·상품종류 등은 비즈니스 로직을 포함하므로 분류가 임의적 → 분석가의 해석력이 중요\n",
        "- 4) <b>변수의 다중공선성(multicollinearity)</b>: 변수간 상호의존이나 상관관계가 강하게 나타날 수 있음\n",
        "- 5) <b>변수의 비선형성</b>: 변수의 영향력이 선형적이지 않을 수 있음, e.g.) 나이가 소득에 미치는 영향은?\n",
        "- 그 외 현실적인 규제·수집·저장 등의 한계 때문에 데이터가 불완전(missing, truncated, censored)할 수 있음"
      ]
    },
    {
      "cell_type": "markdown",
      "metadata": {
        "id": "r9a_JxPo0qIm"
      },
      "source": [
        "### <b>다중분류와 소득구간 예측</b>\n",
        "예측할 클래스(레이블 혹은 레벨이라고도 합니다)가 3개 이상인 경우를 다중분류 문제라고 합니다. 단순하게는 Multiclass classification, 회귀방법론을 쓴다면 Multinomial logistic regression 이라는 명칭으로 불립니다. 클래스간 위계관계(포함관계)는 동등하다고 가정하겠습니다. \n",
        "\n",
        "소득구간 예측은 전형적인 다중분류 문제입니다. 분석에 앞서 다음과 같은 사항을 생각해 봅시다.\n",
        "- 1) <b> 클래스간 구분이 명확하지 않을 경우</b>: 소득구간 구분은 어떻게 지어야 하며, 클래스는 몇 개로 결정해야 할까요? \n",
        "- 2) <b>클래스간 구분에 순서가 있을 경우</b>: 정확하게 말하자면 각 소득구간은 순서가 있는(ordinal) 클래스로 보아야 할 것입니다.\n",
        "- 3) <b>특정 클래스에 해당하는 값이 부족할 경우</b>: 고소득 구간 고객 수와 중소득 구간 고객의 수가 현저히 차이가 날 때 어떻게 해결할까요?\n",
        "\n",
        "다중분류 문제는 이진분류 대비 아래와 같은 추가 고려사항이 있습니다.\n",
        "- 1) <b>모델 구현할 때 주의사항</b>: 변수의 원-핫-인코딩 처리, 목적함수의 결정 등\n",
        "- 2) <b>결과 해석할 때 주의사항</b>: 정확도(Accuracy), F1 스코어, Confusion Matrix 등\n",
        "- 실제 분석에서 자세히 다루도록 하겠습니다."
      ]
    },
    {
      "cell_type": "markdown",
      "metadata": {
        "id": "RlsQsuiB0qIm"
      },
      "source": [
        "### <b>학습목표</b>\n",
        "- 1) 이진분류·다중분류 모델의 이해\n",
        "- 2) 선형 기반·트리 기반 분류모델의 이해\n",
        "- 3) 변수 처리 방법에 대한 이해\n",
        "- 4) 분류모델 결과를 해석하는 방법 습득\n",
        "- 5) 평가결과를 바탕으로 모델을 개선하는 방법 습득"
      ]
    },
    {
      "cell_type": "markdown",
      "metadata": {
        "id": "p3cbNzXr0qIn"
      },
      "source": [
        "- 출제자: 최민정 강사"
      ]
    },
    {
      "cell_type": "markdown",
      "metadata": {
        "id": "L0CtisIz0qIo"
      },
      "source": [
        "## Step 1. 예측할 데이터 불러오기"
      ]
    },
    {
      "cell_type": "markdown",
      "metadata": {
        "id": "W3ZWNPF20qIo"
      },
      "source": [
        "### 데이터 소개\n",
        " \n",
        "- 이번 주제는 US Census Bureau에서 수집하고 UCI에서 배포한 US Adult Income 데이터셋에 강사가 자체 제작한 모의 변수를 추가·수정한 데이터를 사용합니다.\n",
        "- 첫번째로 사용할 데이터는 US Adult Income 데이터셋이며 컬럼은 아래와 같습니다.\n",
        " \n",
        " \n",
        "- `age` : 나이\n",
        "- `workclass`: 직업구분\n",
        "- `education`: 교육수준\n",
        "- `education.num`: 교육수준(numerically coded)\n",
        "- `marital.status`: 혼인상태\n",
        "- `occupation` : 직업\n",
        "- `relationship`: 가족관계\n",
        "- `race`: 인종\n",
        "- `sex`: 성별\n",
        "- `capital.gain`: 자본이득\n",
        "- `capital.loss`: 자본손실\n",
        "- `hours.per.week`: 주당 근로시간\n",
        "- `income` : 소득 구분\n",
        " \n",
        "원 데이터 출처: https://archive.ics.uci.edu/ml/datasets/adult"
      ]
    },
    {
      "cell_type": "markdown",
      "metadata": {
        "id": "B2MLQ8Ff0qIp"
      },
      "source": [
        "### 문제 01. 데이터 불러오기"
      ]
    },
    {
      "cell_type": "code",
      "metadata": {
        "id": "yEUiebcx0qIq"
      },
      "source": [
        "import numpy as np  \n",
        "import pandas as pd\n",
        "import matplotlib.pyplot as plt\n",
        "import seaborn as sns \n",
        "%matplotlib inline\n",
        "\n",
        "import warnings\n",
        "warnings.filterwarnings('ignore')"
      ],
      "execution_count": 1,
      "outputs": []
    },
    {
      "cell_type": "code",
      "metadata": {
        "id": "DRCsZ6CBEBM5",
        "colab": {
          "base_uri": "https://localhost:8080/",
          "height": 292
        },
        "outputId": "bd608ac2-6781-4588-de52-5745cded977e"
      },
      "source": [
        "datapath = 'https://github.com/mchoimis/financialML/raw/main/income/'\n",
        "df = pd.io.parsers.read_csv(datapath + 'income.csv')\n",
        "df.head()"
      ],
      "execution_count": 2,
      "outputs": [
        {
          "output_type": "execute_result",
          "data": {
            "text/html": [
              "<div>\n",
              "<style scoped>\n",
              "    .dataframe tbody tr th:only-of-type {\n",
              "        vertical-align: middle;\n",
              "    }\n",
              "\n",
              "    .dataframe tbody tr th {\n",
              "        vertical-align: top;\n",
              "    }\n",
              "\n",
              "    .dataframe thead th {\n",
              "        text-align: right;\n",
              "    }\n",
              "</style>\n",
              "<table border=\"1\" class=\"dataframe\">\n",
              "  <thead>\n",
              "    <tr style=\"text-align: right;\">\n",
              "      <th></th>\n",
              "      <th>age</th>\n",
              "      <th>workclass</th>\n",
              "      <th>fnlwgt</th>\n",
              "      <th>education</th>\n",
              "      <th>education.num</th>\n",
              "      <th>marital.status</th>\n",
              "      <th>occupation</th>\n",
              "      <th>relationship</th>\n",
              "      <th>race</th>\n",
              "      <th>sex</th>\n",
              "      <th>capital.gain</th>\n",
              "      <th>capital.loss</th>\n",
              "      <th>hours.per.week</th>\n",
              "      <th>native.country</th>\n",
              "      <th>income</th>\n",
              "    </tr>\n",
              "  </thead>\n",
              "  <tbody>\n",
              "    <tr>\n",
              "      <th>0</th>\n",
              "      <td>90</td>\n",
              "      <td>?</td>\n",
              "      <td>77053</td>\n",
              "      <td>HS-grad</td>\n",
              "      <td>9</td>\n",
              "      <td>Widowed</td>\n",
              "      <td>?</td>\n",
              "      <td>Not-in-family</td>\n",
              "      <td>White</td>\n",
              "      <td>Female</td>\n",
              "      <td>0</td>\n",
              "      <td>4356</td>\n",
              "      <td>40</td>\n",
              "      <td>United-States</td>\n",
              "      <td>&lt;=50K</td>\n",
              "    </tr>\n",
              "    <tr>\n",
              "      <th>1</th>\n",
              "      <td>82</td>\n",
              "      <td>Private</td>\n",
              "      <td>132870</td>\n",
              "      <td>HS-grad</td>\n",
              "      <td>9</td>\n",
              "      <td>Widowed</td>\n",
              "      <td>Exec-managerial</td>\n",
              "      <td>Not-in-family</td>\n",
              "      <td>White</td>\n",
              "      <td>Female</td>\n",
              "      <td>0</td>\n",
              "      <td>4356</td>\n",
              "      <td>18</td>\n",
              "      <td>United-States</td>\n",
              "      <td>&lt;=50K</td>\n",
              "    </tr>\n",
              "    <tr>\n",
              "      <th>2</th>\n",
              "      <td>66</td>\n",
              "      <td>?</td>\n",
              "      <td>186061</td>\n",
              "      <td>Some-college</td>\n",
              "      <td>10</td>\n",
              "      <td>Widowed</td>\n",
              "      <td>?</td>\n",
              "      <td>Unmarried</td>\n",
              "      <td>Black</td>\n",
              "      <td>Female</td>\n",
              "      <td>0</td>\n",
              "      <td>4356</td>\n",
              "      <td>40</td>\n",
              "      <td>United-States</td>\n",
              "      <td>&lt;=50K</td>\n",
              "    </tr>\n",
              "    <tr>\n",
              "      <th>3</th>\n",
              "      <td>54</td>\n",
              "      <td>Private</td>\n",
              "      <td>140359</td>\n",
              "      <td>7th-8th</td>\n",
              "      <td>4</td>\n",
              "      <td>Divorced</td>\n",
              "      <td>Machine-op-inspct</td>\n",
              "      <td>Unmarried</td>\n",
              "      <td>White</td>\n",
              "      <td>Female</td>\n",
              "      <td>0</td>\n",
              "      <td>3900</td>\n",
              "      <td>40</td>\n",
              "      <td>United-States</td>\n",
              "      <td>&lt;=50K</td>\n",
              "    </tr>\n",
              "    <tr>\n",
              "      <th>4</th>\n",
              "      <td>41</td>\n",
              "      <td>Private</td>\n",
              "      <td>264663</td>\n",
              "      <td>Some-college</td>\n",
              "      <td>10</td>\n",
              "      <td>Separated</td>\n",
              "      <td>Prof-specialty</td>\n",
              "      <td>Own-child</td>\n",
              "      <td>White</td>\n",
              "      <td>Female</td>\n",
              "      <td>0</td>\n",
              "      <td>3900</td>\n",
              "      <td>40</td>\n",
              "      <td>United-States</td>\n",
              "      <td>&lt;=50K</td>\n",
              "    </tr>\n",
              "  </tbody>\n",
              "</table>\n",
              "</div>"
            ],
            "text/plain": [
              "   age workclass  fnlwgt  ... hours.per.week  native.country income\n",
              "0   90         ?   77053  ...             40   United-States  <=50K\n",
              "1   82   Private  132870  ...             18   United-States  <=50K\n",
              "2   66         ?  186061  ...             40   United-States  <=50K\n",
              "3   54   Private  140359  ...             40   United-States  <=50K\n",
              "4   41   Private  264663  ...             40   United-States  <=50K\n",
              "\n",
              "[5 rows x 15 columns]"
            ]
          },
          "metadata": {
            "tags": []
          },
          "execution_count": 2
        }
      ]
    },
    {
      "cell_type": "markdown",
      "metadata": {
        "id": "cupV8lpw0qIr"
      },
      "source": [
        "### 문제 02. 데이터 미리보기"
      ]
    },
    {
      "cell_type": "code",
      "metadata": {
        "id": "rrtfD32hD-yz",
        "colab": {
          "base_uri": "https://localhost:8080/"
        },
        "outputId": "cb1c628a-4ea8-4689-d207-623414073e43"
      },
      "source": [
        "# 데이터 형태 확인\n",
        "\n",
        "print(df.shape)\n",
        "print(df.columns)"
      ],
      "execution_count": 3,
      "outputs": [
        {
          "output_type": "stream",
          "text": [
            "(32561, 15)\n",
            "Index(['age', 'workclass', 'fnlwgt', 'education', 'education.num',\n",
            "       'marital.status', 'occupation', 'relationship', 'race', 'sex',\n",
            "       'capital.gain', 'capital.loss', 'hours.per.week', 'native.country',\n",
            "       'income'],\n",
            "      dtype='object')\n"
          ],
          "name": "stdout"
        }
      ]
    },
    {
      "cell_type": "code",
      "metadata": {
        "colab": {
          "base_uri": "https://localhost:8080/"
        },
        "id": "XhaslRvBdD3F",
        "outputId": "2c76ae5e-df43-4b0e-f21a-a1d35d704c70"
      },
      "source": [
        "df.info()"
      ],
      "execution_count": 4,
      "outputs": [
        {
          "output_type": "stream",
          "text": [
            "<class 'pandas.core.frame.DataFrame'>\n",
            "RangeIndex: 32561 entries, 0 to 32560\n",
            "Data columns (total 15 columns):\n",
            " #   Column          Non-Null Count  Dtype \n",
            "---  ------          --------------  ----- \n",
            " 0   age             32561 non-null  int64 \n",
            " 1   workclass       32561 non-null  object\n",
            " 2   fnlwgt          32561 non-null  int64 \n",
            " 3   education       32561 non-null  object\n",
            " 4   education.num   32561 non-null  int64 \n",
            " 5   marital.status  32561 non-null  object\n",
            " 6   occupation      32561 non-null  object\n",
            " 7   relationship    32561 non-null  object\n",
            " 8   race            32561 non-null  object\n",
            " 9   sex             32561 non-null  object\n",
            " 10  capital.gain    32561 non-null  int64 \n",
            " 11  capital.loss    32561 non-null  int64 \n",
            " 12  hours.per.week  32561 non-null  int64 \n",
            " 13  native.country  32561 non-null  object\n",
            " 14  income          32561 non-null  object\n",
            "dtypes: int64(6), object(9)\n",
            "memory usage: 3.7+ MB\n"
          ],
          "name": "stdout"
        }
      ]
    },
    {
      "cell_type": "markdown",
      "metadata": {
        "id": "YZMNz6Es0qIs"
      },
      "source": [
        "### 문제 03. 데이터 확인하기"
      ]
    },
    {
      "cell_type": "code",
      "metadata": {
        "id": "SWLusfet0qIt"
      },
      "source": [
        "# 결측치를 NaN으로 바꾸기\n",
        "df[df=='?'] = np.nan"
      ],
      "execution_count": 5,
      "outputs": []
    },
    {
      "cell_type": "code",
      "metadata": {
        "id": "LqYtcDqX0qIw"
      },
      "source": [
        "# 최빈값으로 결측치 채우기\n",
        "for col in ['workclass', 'occupation', 'native.country']:\n",
        "    # 이어서 작성해주세요\n",
        "    df[col].fillna(df[col].mode()[0], inplace=True)"
      ],
      "execution_count": 6,
      "outputs": []
    },
    {
      "cell_type": "code",
      "metadata": {
        "id": "6VTZmMlbPVmd",
        "colab": {
          "base_uri": "https://localhost:8080/",
          "height": 309
        },
        "outputId": "52559d71-c69c-4f13-8db7-82380aa52811"
      },
      "source": [
        "# 결과 확인하기\n",
        "\n",
        "df.head()"
      ],
      "execution_count": 7,
      "outputs": [
        {
          "output_type": "execute_result",
          "data": {
            "text/html": [
              "<div>\n",
              "<style scoped>\n",
              "    .dataframe tbody tr th:only-of-type {\n",
              "        vertical-align: middle;\n",
              "    }\n",
              "\n",
              "    .dataframe tbody tr th {\n",
              "        vertical-align: top;\n",
              "    }\n",
              "\n",
              "    .dataframe thead th {\n",
              "        text-align: right;\n",
              "    }\n",
              "</style>\n",
              "<table border=\"1\" class=\"dataframe\">\n",
              "  <thead>\n",
              "    <tr style=\"text-align: right;\">\n",
              "      <th></th>\n",
              "      <th>age</th>\n",
              "      <th>workclass</th>\n",
              "      <th>fnlwgt</th>\n",
              "      <th>education</th>\n",
              "      <th>education.num</th>\n",
              "      <th>marital.status</th>\n",
              "      <th>occupation</th>\n",
              "      <th>relationship</th>\n",
              "      <th>race</th>\n",
              "      <th>sex</th>\n",
              "      <th>capital.gain</th>\n",
              "      <th>capital.loss</th>\n",
              "      <th>hours.per.week</th>\n",
              "      <th>native.country</th>\n",
              "      <th>income</th>\n",
              "    </tr>\n",
              "  </thead>\n",
              "  <tbody>\n",
              "    <tr>\n",
              "      <th>0</th>\n",
              "      <td>90</td>\n",
              "      <td>Private</td>\n",
              "      <td>77053</td>\n",
              "      <td>HS-grad</td>\n",
              "      <td>9</td>\n",
              "      <td>Widowed</td>\n",
              "      <td>Prof-specialty</td>\n",
              "      <td>Not-in-family</td>\n",
              "      <td>White</td>\n",
              "      <td>Female</td>\n",
              "      <td>0</td>\n",
              "      <td>4356</td>\n",
              "      <td>40</td>\n",
              "      <td>United-States</td>\n",
              "      <td>&lt;=50K</td>\n",
              "    </tr>\n",
              "    <tr>\n",
              "      <th>1</th>\n",
              "      <td>82</td>\n",
              "      <td>Private</td>\n",
              "      <td>132870</td>\n",
              "      <td>HS-grad</td>\n",
              "      <td>9</td>\n",
              "      <td>Widowed</td>\n",
              "      <td>Exec-managerial</td>\n",
              "      <td>Not-in-family</td>\n",
              "      <td>White</td>\n",
              "      <td>Female</td>\n",
              "      <td>0</td>\n",
              "      <td>4356</td>\n",
              "      <td>18</td>\n",
              "      <td>United-States</td>\n",
              "      <td>&lt;=50K</td>\n",
              "    </tr>\n",
              "    <tr>\n",
              "      <th>2</th>\n",
              "      <td>66</td>\n",
              "      <td>Private</td>\n",
              "      <td>186061</td>\n",
              "      <td>Some-college</td>\n",
              "      <td>10</td>\n",
              "      <td>Widowed</td>\n",
              "      <td>Prof-specialty</td>\n",
              "      <td>Unmarried</td>\n",
              "      <td>Black</td>\n",
              "      <td>Female</td>\n",
              "      <td>0</td>\n",
              "      <td>4356</td>\n",
              "      <td>40</td>\n",
              "      <td>United-States</td>\n",
              "      <td>&lt;=50K</td>\n",
              "    </tr>\n",
              "    <tr>\n",
              "      <th>3</th>\n",
              "      <td>54</td>\n",
              "      <td>Private</td>\n",
              "      <td>140359</td>\n",
              "      <td>7th-8th</td>\n",
              "      <td>4</td>\n",
              "      <td>Divorced</td>\n",
              "      <td>Machine-op-inspct</td>\n",
              "      <td>Unmarried</td>\n",
              "      <td>White</td>\n",
              "      <td>Female</td>\n",
              "      <td>0</td>\n",
              "      <td>3900</td>\n",
              "      <td>40</td>\n",
              "      <td>United-States</td>\n",
              "      <td>&lt;=50K</td>\n",
              "    </tr>\n",
              "    <tr>\n",
              "      <th>4</th>\n",
              "      <td>41</td>\n",
              "      <td>Private</td>\n",
              "      <td>264663</td>\n",
              "      <td>Some-college</td>\n",
              "      <td>10</td>\n",
              "      <td>Separated</td>\n",
              "      <td>Prof-specialty</td>\n",
              "      <td>Own-child</td>\n",
              "      <td>White</td>\n",
              "      <td>Female</td>\n",
              "      <td>0</td>\n",
              "      <td>3900</td>\n",
              "      <td>40</td>\n",
              "      <td>United-States</td>\n",
              "      <td>&lt;=50K</td>\n",
              "    </tr>\n",
              "  </tbody>\n",
              "</table>\n",
              "</div>"
            ],
            "text/plain": [
              "   age workclass  fnlwgt  ... hours.per.week  native.country income\n",
              "0   90   Private   77053  ...             40   United-States  <=50K\n",
              "1   82   Private  132870  ...             18   United-States  <=50K\n",
              "2   66   Private  186061  ...             40   United-States  <=50K\n",
              "3   54   Private  140359  ...             40   United-States  <=50K\n",
              "4   41   Private  264663  ...             40   United-States  <=50K\n",
              "\n",
              "[5 rows x 15 columns]"
            ]
          },
          "metadata": {
            "tags": []
          },
          "execution_count": 7
        }
      ]
    },
    {
      "cell_type": "code",
      "metadata": {
        "colab": {
          "base_uri": "https://localhost:8080/"
        },
        "id": "RUvatciMdvA4",
        "outputId": "d293d52a-3ed1-4c8b-eb33-758b928b88a3"
      },
      "source": [
        "df.isnull().sum()"
      ],
      "execution_count": 8,
      "outputs": [
        {
          "output_type": "execute_result",
          "data": {
            "text/plain": [
              "age               0\n",
              "workclass         0\n",
              "fnlwgt            0\n",
              "education         0\n",
              "education.num     0\n",
              "marital.status    0\n",
              "occupation        0\n",
              "relationship      0\n",
              "race              0\n",
              "sex               0\n",
              "capital.gain      0\n",
              "capital.loss      0\n",
              "hours.per.week    0\n",
              "native.country    0\n",
              "income            0\n",
              "dtype: int64"
            ]
          },
          "metadata": {
            "tags": []
          },
          "execution_count": 8
        }
      ]
    },
    {
      "cell_type": "markdown",
      "metadata": {
        "id": "wB0Eo_-D0qIx"
      },
      "source": [
        "## Step 2. Feature Engineering"
      ]
    },
    {
      "cell_type": "markdown",
      "metadata": {
        "id": "6ria9cma0qIx"
      },
      "source": [
        "### 문제 04. 인풋 피처와 타겟값 만들기"
      ]
    },
    {
      "cell_type": "code",
      "metadata": {
        "id": "sXb93NER0qIy"
      },
      "source": [
        "X =  df.drop(['income', 'education', 'fnlwgt'], axis = 1)\n",
        "y =  df['income']"
      ],
      "execution_count": 9,
      "outputs": []
    },
    {
      "cell_type": "code",
      "metadata": {
        "colab": {
          "base_uri": "https://localhost:8080/",
          "height": 309
        },
        "id": "TdmNgC2DgDrw",
        "outputId": "3fe17cf1-62f0-489b-8047-d896d9d4c8bd"
      },
      "source": [
        "X.head()"
      ],
      "execution_count": 10,
      "outputs": [
        {
          "output_type": "execute_result",
          "data": {
            "text/html": [
              "<div>\n",
              "<style scoped>\n",
              "    .dataframe tbody tr th:only-of-type {\n",
              "        vertical-align: middle;\n",
              "    }\n",
              "\n",
              "    .dataframe tbody tr th {\n",
              "        vertical-align: top;\n",
              "    }\n",
              "\n",
              "    .dataframe thead th {\n",
              "        text-align: right;\n",
              "    }\n",
              "</style>\n",
              "<table border=\"1\" class=\"dataframe\">\n",
              "  <thead>\n",
              "    <tr style=\"text-align: right;\">\n",
              "      <th></th>\n",
              "      <th>age</th>\n",
              "      <th>workclass</th>\n",
              "      <th>education.num</th>\n",
              "      <th>marital.status</th>\n",
              "      <th>occupation</th>\n",
              "      <th>relationship</th>\n",
              "      <th>race</th>\n",
              "      <th>sex</th>\n",
              "      <th>capital.gain</th>\n",
              "      <th>capital.loss</th>\n",
              "      <th>hours.per.week</th>\n",
              "      <th>native.country</th>\n",
              "    </tr>\n",
              "  </thead>\n",
              "  <tbody>\n",
              "    <tr>\n",
              "      <th>0</th>\n",
              "      <td>90</td>\n",
              "      <td>Private</td>\n",
              "      <td>9</td>\n",
              "      <td>Widowed</td>\n",
              "      <td>Prof-specialty</td>\n",
              "      <td>Not-in-family</td>\n",
              "      <td>White</td>\n",
              "      <td>Female</td>\n",
              "      <td>0</td>\n",
              "      <td>4356</td>\n",
              "      <td>40</td>\n",
              "      <td>United-States</td>\n",
              "    </tr>\n",
              "    <tr>\n",
              "      <th>1</th>\n",
              "      <td>82</td>\n",
              "      <td>Private</td>\n",
              "      <td>9</td>\n",
              "      <td>Widowed</td>\n",
              "      <td>Exec-managerial</td>\n",
              "      <td>Not-in-family</td>\n",
              "      <td>White</td>\n",
              "      <td>Female</td>\n",
              "      <td>0</td>\n",
              "      <td>4356</td>\n",
              "      <td>18</td>\n",
              "      <td>United-States</td>\n",
              "    </tr>\n",
              "    <tr>\n",
              "      <th>2</th>\n",
              "      <td>66</td>\n",
              "      <td>Private</td>\n",
              "      <td>10</td>\n",
              "      <td>Widowed</td>\n",
              "      <td>Prof-specialty</td>\n",
              "      <td>Unmarried</td>\n",
              "      <td>Black</td>\n",
              "      <td>Female</td>\n",
              "      <td>0</td>\n",
              "      <td>4356</td>\n",
              "      <td>40</td>\n",
              "      <td>United-States</td>\n",
              "    </tr>\n",
              "    <tr>\n",
              "      <th>3</th>\n",
              "      <td>54</td>\n",
              "      <td>Private</td>\n",
              "      <td>4</td>\n",
              "      <td>Divorced</td>\n",
              "      <td>Machine-op-inspct</td>\n",
              "      <td>Unmarried</td>\n",
              "      <td>White</td>\n",
              "      <td>Female</td>\n",
              "      <td>0</td>\n",
              "      <td>3900</td>\n",
              "      <td>40</td>\n",
              "      <td>United-States</td>\n",
              "    </tr>\n",
              "    <tr>\n",
              "      <th>4</th>\n",
              "      <td>41</td>\n",
              "      <td>Private</td>\n",
              "      <td>10</td>\n",
              "      <td>Separated</td>\n",
              "      <td>Prof-specialty</td>\n",
              "      <td>Own-child</td>\n",
              "      <td>White</td>\n",
              "      <td>Female</td>\n",
              "      <td>0</td>\n",
              "      <td>3900</td>\n",
              "      <td>40</td>\n",
              "      <td>United-States</td>\n",
              "    </tr>\n",
              "  </tbody>\n",
              "</table>\n",
              "</div>"
            ],
            "text/plain": [
              "   age workclass  education.num  ... capital.loss hours.per.week native.country\n",
              "0   90   Private              9  ...         4356             40  United-States\n",
              "1   82   Private              9  ...         4356             18  United-States\n",
              "2   66   Private             10  ...         4356             40  United-States\n",
              "3   54   Private              4  ...         3900             40  United-States\n",
              "4   41   Private             10  ...         3900             40  United-States\n",
              "\n",
              "[5 rows x 12 columns]"
            ]
          },
          "metadata": {
            "tags": []
          },
          "execution_count": 10
        }
      ]
    },
    {
      "cell_type": "code",
      "metadata": {
        "colab": {
          "base_uri": "https://localhost:8080/"
        },
        "id": "sBldW2_ygG9l",
        "outputId": "558d7057-450a-49cb-d0d8-39f8ca71f590"
      },
      "source": [
        "y.head()"
      ],
      "execution_count": 11,
      "outputs": [
        {
          "output_type": "execute_result",
          "data": {
            "text/plain": [
              "0    <=50K\n",
              "1    <=50K\n",
              "2    <=50K\n",
              "3    <=50K\n",
              "4    <=50K\n",
              "Name: income, dtype: object"
            ]
          },
          "metadata": {
            "tags": []
          },
          "execution_count": 11
        }
      ]
    },
    {
      "cell_type": "markdown",
      "metadata": {
        "id": "FWMT7H5O0qIz"
      },
      "source": [
        "###  문제 05. 원 데이터를 training set과 test set으로 나누기"
      ]
    },
    {
      "cell_type": "code",
      "metadata": {
        "id": "kBi2dBqr0qIz",
        "colab": {
          "base_uri": "https://localhost:8080/",
          "height": 309
        },
        "outputId": "a881059c-e185-4877-81f3-2a7069d76fe5"
      },
      "source": [
        "from sklearn.model_selection import train_test_split\n",
        "\n",
        "X_train, X_test, y_train, y_test =  train_test_split(X, y, test_size = 0.3, random_state = 0)\n",
        "X_train.head()"
      ],
      "execution_count": 12,
      "outputs": [
        {
          "output_type": "execute_result",
          "data": {
            "text/html": [
              "<div>\n",
              "<style scoped>\n",
              "    .dataframe tbody tr th:only-of-type {\n",
              "        vertical-align: middle;\n",
              "    }\n",
              "\n",
              "    .dataframe tbody tr th {\n",
              "        vertical-align: top;\n",
              "    }\n",
              "\n",
              "    .dataframe thead th {\n",
              "        text-align: right;\n",
              "    }\n",
              "</style>\n",
              "<table border=\"1\" class=\"dataframe\">\n",
              "  <thead>\n",
              "    <tr style=\"text-align: right;\">\n",
              "      <th></th>\n",
              "      <th>age</th>\n",
              "      <th>workclass</th>\n",
              "      <th>education.num</th>\n",
              "      <th>marital.status</th>\n",
              "      <th>occupation</th>\n",
              "      <th>relationship</th>\n",
              "      <th>race</th>\n",
              "      <th>sex</th>\n",
              "      <th>capital.gain</th>\n",
              "      <th>capital.loss</th>\n",
              "      <th>hours.per.week</th>\n",
              "      <th>native.country</th>\n",
              "    </tr>\n",
              "  </thead>\n",
              "  <tbody>\n",
              "    <tr>\n",
              "      <th>32098</th>\n",
              "      <td>40</td>\n",
              "      <td>State-gov</td>\n",
              "      <td>13</td>\n",
              "      <td>Married-civ-spouse</td>\n",
              "      <td>Exec-managerial</td>\n",
              "      <td>Wife</td>\n",
              "      <td>White</td>\n",
              "      <td>Female</td>\n",
              "      <td>0</td>\n",
              "      <td>0</td>\n",
              "      <td>20</td>\n",
              "      <td>United-States</td>\n",
              "    </tr>\n",
              "    <tr>\n",
              "      <th>25206</th>\n",
              "      <td>39</td>\n",
              "      <td>Local-gov</td>\n",
              "      <td>9</td>\n",
              "      <td>Married-civ-spouse</td>\n",
              "      <td>Machine-op-inspct</td>\n",
              "      <td>Husband</td>\n",
              "      <td>White</td>\n",
              "      <td>Male</td>\n",
              "      <td>0</td>\n",
              "      <td>0</td>\n",
              "      <td>38</td>\n",
              "      <td>United-States</td>\n",
              "    </tr>\n",
              "    <tr>\n",
              "      <th>23491</th>\n",
              "      <td>42</td>\n",
              "      <td>Private</td>\n",
              "      <td>10</td>\n",
              "      <td>Never-married</td>\n",
              "      <td>Exec-managerial</td>\n",
              "      <td>Not-in-family</td>\n",
              "      <td>White</td>\n",
              "      <td>Female</td>\n",
              "      <td>0</td>\n",
              "      <td>0</td>\n",
              "      <td>40</td>\n",
              "      <td>United-States</td>\n",
              "    </tr>\n",
              "    <tr>\n",
              "      <th>12367</th>\n",
              "      <td>27</td>\n",
              "      <td>Local-gov</td>\n",
              "      <td>9</td>\n",
              "      <td>Never-married</td>\n",
              "      <td>Farming-fishing</td>\n",
              "      <td>Own-child</td>\n",
              "      <td>White</td>\n",
              "      <td>Male</td>\n",
              "      <td>0</td>\n",
              "      <td>0</td>\n",
              "      <td>40</td>\n",
              "      <td>United-States</td>\n",
              "    </tr>\n",
              "    <tr>\n",
              "      <th>7054</th>\n",
              "      <td>38</td>\n",
              "      <td>Federal-gov</td>\n",
              "      <td>14</td>\n",
              "      <td>Married-civ-spouse</td>\n",
              "      <td>Exec-managerial</td>\n",
              "      <td>Husband</td>\n",
              "      <td>White</td>\n",
              "      <td>Male</td>\n",
              "      <td>0</td>\n",
              "      <td>0</td>\n",
              "      <td>40</td>\n",
              "      <td>United-States</td>\n",
              "    </tr>\n",
              "  </tbody>\n",
              "</table>\n",
              "</div>"
            ],
            "text/plain": [
              "       age    workclass  ...  hours.per.week native.country\n",
              "32098   40    State-gov  ...              20  United-States\n",
              "25206   39    Local-gov  ...              38  United-States\n",
              "23491   42      Private  ...              40  United-States\n",
              "12367   27    Local-gov  ...              40  United-States\n",
              "7054    38  Federal-gov  ...              40  United-States\n",
              "\n",
              "[5 rows x 12 columns]"
            ]
          },
          "metadata": {
            "tags": []
          },
          "execution_count": 12
        }
      ]
    },
    {
      "cell_type": "code",
      "metadata": {
        "colab": {
          "base_uri": "https://localhost:8080/",
          "height": 309
        },
        "id": "GPqQY60lg13r",
        "outputId": "d10889ff-daa8-45e7-e531-e601024d1b96"
      },
      "source": [
        "X_train, X_test, y_train, y_test =  train_test_split(X, y, test_size = 0.3, random_state = 0)\n",
        "X_train.head()"
      ],
      "execution_count": 13,
      "outputs": [
        {
          "output_type": "execute_result",
          "data": {
            "text/html": [
              "<div>\n",
              "<style scoped>\n",
              "    .dataframe tbody tr th:only-of-type {\n",
              "        vertical-align: middle;\n",
              "    }\n",
              "\n",
              "    .dataframe tbody tr th {\n",
              "        vertical-align: top;\n",
              "    }\n",
              "\n",
              "    .dataframe thead th {\n",
              "        text-align: right;\n",
              "    }\n",
              "</style>\n",
              "<table border=\"1\" class=\"dataframe\">\n",
              "  <thead>\n",
              "    <tr style=\"text-align: right;\">\n",
              "      <th></th>\n",
              "      <th>age</th>\n",
              "      <th>workclass</th>\n",
              "      <th>education.num</th>\n",
              "      <th>marital.status</th>\n",
              "      <th>occupation</th>\n",
              "      <th>relationship</th>\n",
              "      <th>race</th>\n",
              "      <th>sex</th>\n",
              "      <th>capital.gain</th>\n",
              "      <th>capital.loss</th>\n",
              "      <th>hours.per.week</th>\n",
              "      <th>native.country</th>\n",
              "    </tr>\n",
              "  </thead>\n",
              "  <tbody>\n",
              "    <tr>\n",
              "      <th>32098</th>\n",
              "      <td>40</td>\n",
              "      <td>State-gov</td>\n",
              "      <td>13</td>\n",
              "      <td>Married-civ-spouse</td>\n",
              "      <td>Exec-managerial</td>\n",
              "      <td>Wife</td>\n",
              "      <td>White</td>\n",
              "      <td>Female</td>\n",
              "      <td>0</td>\n",
              "      <td>0</td>\n",
              "      <td>20</td>\n",
              "      <td>United-States</td>\n",
              "    </tr>\n",
              "    <tr>\n",
              "      <th>25206</th>\n",
              "      <td>39</td>\n",
              "      <td>Local-gov</td>\n",
              "      <td>9</td>\n",
              "      <td>Married-civ-spouse</td>\n",
              "      <td>Machine-op-inspct</td>\n",
              "      <td>Husband</td>\n",
              "      <td>White</td>\n",
              "      <td>Male</td>\n",
              "      <td>0</td>\n",
              "      <td>0</td>\n",
              "      <td>38</td>\n",
              "      <td>United-States</td>\n",
              "    </tr>\n",
              "    <tr>\n",
              "      <th>23491</th>\n",
              "      <td>42</td>\n",
              "      <td>Private</td>\n",
              "      <td>10</td>\n",
              "      <td>Never-married</td>\n",
              "      <td>Exec-managerial</td>\n",
              "      <td>Not-in-family</td>\n",
              "      <td>White</td>\n",
              "      <td>Female</td>\n",
              "      <td>0</td>\n",
              "      <td>0</td>\n",
              "      <td>40</td>\n",
              "      <td>United-States</td>\n",
              "    </tr>\n",
              "    <tr>\n",
              "      <th>12367</th>\n",
              "      <td>27</td>\n",
              "      <td>Local-gov</td>\n",
              "      <td>9</td>\n",
              "      <td>Never-married</td>\n",
              "      <td>Farming-fishing</td>\n",
              "      <td>Own-child</td>\n",
              "      <td>White</td>\n",
              "      <td>Male</td>\n",
              "      <td>0</td>\n",
              "      <td>0</td>\n",
              "      <td>40</td>\n",
              "      <td>United-States</td>\n",
              "    </tr>\n",
              "    <tr>\n",
              "      <th>7054</th>\n",
              "      <td>38</td>\n",
              "      <td>Federal-gov</td>\n",
              "      <td>14</td>\n",
              "      <td>Married-civ-spouse</td>\n",
              "      <td>Exec-managerial</td>\n",
              "      <td>Husband</td>\n",
              "      <td>White</td>\n",
              "      <td>Male</td>\n",
              "      <td>0</td>\n",
              "      <td>0</td>\n",
              "      <td>40</td>\n",
              "      <td>United-States</td>\n",
              "    </tr>\n",
              "  </tbody>\n",
              "</table>\n",
              "</div>"
            ],
            "text/plain": [
              "       age    workclass  ...  hours.per.week native.country\n",
              "32098   40    State-gov  ...              20  United-States\n",
              "25206   39    Local-gov  ...              38  United-States\n",
              "23491   42      Private  ...              40  United-States\n",
              "12367   27    Local-gov  ...              40  United-States\n",
              "7054    38  Federal-gov  ...              40  United-States\n",
              "\n",
              "[5 rows x 12 columns]"
            ]
          },
          "metadata": {
            "tags": []
          },
          "execution_count": 13
        }
      ]
    },
    {
      "cell_type": "markdown",
      "metadata": {
        "id": "GkBEQj9G0qI0"
      },
      "source": [
        "### 문제 06. 범주변수 처리하기 "
      ]
    },
    {
      "cell_type": "code",
      "metadata": {
        "id": "HcmHjiQ10qI0"
      },
      "source": [
        "from sklearn import preprocessing\n",
        "\n",
        "categorical = ['workclass', 'marital.status', 'occupation', 'relationship', 'race', 'sex', 'native.country']\n",
        "for feature in categorical:\n",
        "        le =  preprocessing.LabelEncoder()\n",
        "        X_train[feature] =  le.fit_transform(X_train[feature]) \n",
        "        X_test[feature] =   le.transform(X_test[feature]) "
      ],
      "execution_count": 14,
      "outputs": []
    },
    {
      "cell_type": "markdown",
      "metadata": {
        "id": "AiAe1P2R0qI0"
      },
      "source": [
        "### 문제 07. 범주변수 처리 결과 확인하기"
      ]
    },
    {
      "cell_type": "code",
      "metadata": {
        "id": "5Qz-n54aEDfj",
        "colab": {
          "base_uri": "https://localhost:8080/",
          "height": 142
        },
        "outputId": "0d3ac205-00fa-4b25-c83d-a98b12f3b920"
      },
      "source": [
        "# 변환된 범주변수 컬럼 확인하기(X_train)\n",
        "X_train[categorical].head(3)"
      ],
      "execution_count": 15,
      "outputs": [
        {
          "output_type": "execute_result",
          "data": {
            "text/html": [
              "<div>\n",
              "<style scoped>\n",
              "    .dataframe tbody tr th:only-of-type {\n",
              "        vertical-align: middle;\n",
              "    }\n",
              "\n",
              "    .dataframe tbody tr th {\n",
              "        vertical-align: top;\n",
              "    }\n",
              "\n",
              "    .dataframe thead th {\n",
              "        text-align: right;\n",
              "    }\n",
              "</style>\n",
              "<table border=\"1\" class=\"dataframe\">\n",
              "  <thead>\n",
              "    <tr style=\"text-align: right;\">\n",
              "      <th></th>\n",
              "      <th>workclass</th>\n",
              "      <th>marital.status</th>\n",
              "      <th>occupation</th>\n",
              "      <th>relationship</th>\n",
              "      <th>race</th>\n",
              "      <th>sex</th>\n",
              "      <th>native.country</th>\n",
              "    </tr>\n",
              "  </thead>\n",
              "  <tbody>\n",
              "    <tr>\n",
              "      <th>32098</th>\n",
              "      <td>6</td>\n",
              "      <td>2</td>\n",
              "      <td>3</td>\n",
              "      <td>5</td>\n",
              "      <td>4</td>\n",
              "      <td>0</td>\n",
              "      <td>38</td>\n",
              "    </tr>\n",
              "    <tr>\n",
              "      <th>25206</th>\n",
              "      <td>1</td>\n",
              "      <td>2</td>\n",
              "      <td>6</td>\n",
              "      <td>0</td>\n",
              "      <td>4</td>\n",
              "      <td>1</td>\n",
              "      <td>38</td>\n",
              "    </tr>\n",
              "    <tr>\n",
              "      <th>23491</th>\n",
              "      <td>3</td>\n",
              "      <td>4</td>\n",
              "      <td>3</td>\n",
              "      <td>1</td>\n",
              "      <td>4</td>\n",
              "      <td>0</td>\n",
              "      <td>38</td>\n",
              "    </tr>\n",
              "  </tbody>\n",
              "</table>\n",
              "</div>"
            ],
            "text/plain": [
              "       workclass  marital.status  occupation  ...  race  sex  native.country\n",
              "32098          6               2           3  ...     4    0              38\n",
              "25206          1               2           6  ...     4    1              38\n",
              "23491          3               4           3  ...     4    0              38\n",
              "\n",
              "[3 rows x 7 columns]"
            ]
          },
          "metadata": {
            "tags": []
          },
          "execution_count": 15
        }
      ]
    },
    {
      "cell_type": "code",
      "metadata": {
        "id": "gILVPXdhEFys",
        "colab": {
          "base_uri": "https://localhost:8080/",
          "height": 142
        },
        "outputId": "a7b17841-76f9-4df7-e8d3-a18e0f9d237a"
      },
      "source": [
        "# 변환된 범주변수 컬럼 확인하기(X_test)\n",
        "X_test[categorical].head(3)"
      ],
      "execution_count": 16,
      "outputs": [
        {
          "output_type": "execute_result",
          "data": {
            "text/html": [
              "<div>\n",
              "<style scoped>\n",
              "    .dataframe tbody tr th:only-of-type {\n",
              "        vertical-align: middle;\n",
              "    }\n",
              "\n",
              "    .dataframe tbody tr th {\n",
              "        vertical-align: top;\n",
              "    }\n",
              "\n",
              "    .dataframe thead th {\n",
              "        text-align: right;\n",
              "    }\n",
              "</style>\n",
              "<table border=\"1\" class=\"dataframe\">\n",
              "  <thead>\n",
              "    <tr style=\"text-align: right;\">\n",
              "      <th></th>\n",
              "      <th>workclass</th>\n",
              "      <th>marital.status</th>\n",
              "      <th>occupation</th>\n",
              "      <th>relationship</th>\n",
              "      <th>race</th>\n",
              "      <th>sex</th>\n",
              "      <th>native.country</th>\n",
              "    </tr>\n",
              "  </thead>\n",
              "  <tbody>\n",
              "    <tr>\n",
              "      <th>22278</th>\n",
              "      <td>3</td>\n",
              "      <td>6</td>\n",
              "      <td>11</td>\n",
              "      <td>4</td>\n",
              "      <td>4</td>\n",
              "      <td>0</td>\n",
              "      <td>38</td>\n",
              "    </tr>\n",
              "    <tr>\n",
              "      <th>8950</th>\n",
              "      <td>3</td>\n",
              "      <td>4</td>\n",
              "      <td>5</td>\n",
              "      <td>3</td>\n",
              "      <td>4</td>\n",
              "      <td>0</td>\n",
              "      <td>38</td>\n",
              "    </tr>\n",
              "    <tr>\n",
              "      <th>7838</th>\n",
              "      <td>3</td>\n",
              "      <td>4</td>\n",
              "      <td>7</td>\n",
              "      <td>1</td>\n",
              "      <td>1</td>\n",
              "      <td>0</td>\n",
              "      <td>39</td>\n",
              "    </tr>\n",
              "  </tbody>\n",
              "</table>\n",
              "</div>"
            ],
            "text/plain": [
              "       workclass  marital.status  occupation  ...  race  sex  native.country\n",
              "22278          3               6          11  ...     4    0              38\n",
              "8950           3               4           5  ...     4    0              38\n",
              "7838           3               4           7  ...     1    0              39\n",
              "\n",
              "[3 rows x 7 columns]"
            ]
          },
          "metadata": {
            "tags": []
          },
          "execution_count": 16
        }
      ]
    },
    {
      "cell_type": "markdown",
      "metadata": {
        "id": "OW2nqyKl0qI2"
      },
      "source": [
        "### 참고: 범주변수의 처리\n",
        "범주변수의 처리 방법은 크게 2가지로 나눌 수 있습니다.\n",
        "\n",
        "- 클래스를 숫자로 변환\n",
        "- 원-핫-인코딩(더미코딩)\n",
        "\n",
        "금융 데이터의 경우 범주변수가 대부분을 차지하여, 원-핫-인코딩을 실시할 경우 전체 데이터셋의 다수가 0의 값을 가지게 되기도 합니다. 차원이 높은 데이터셋에 의미 없는 값이 많은 경우를 '피처가 sparse하다'고 하며, 학습효율이 높지 않을 수도 있으니 Feture Engineering 과정에서 유의해야 합니다."
      ]
    },
    {
      "cell_type": "code",
      "metadata": {
        "colab": {
          "base_uri": "https://localhost:8080/",
          "height": 439
        },
        "id": "GW4MdGzai3d2",
        "outputId": "3b9a5c48-c383-4242-c2a4-a83757fb2494"
      },
      "source": [
        "from sklearn.preprocessing import OneHotEncoder\n",
        "enc = OneHotEncoder(handle_unknown=\"ignore\")\n",
        "\n",
        "tmp = enc.fit_transform(X_train[categorical]).toarray()\n",
        "pd.DataFrame(tmp)"
      ],
      "execution_count": 17,
      "outputs": [
        {
          "output_type": "execute_result",
          "data": {
            "text/html": [
              "<div>\n",
              "<style scoped>\n",
              "    .dataframe tbody tr th:only-of-type {\n",
              "        vertical-align: middle;\n",
              "    }\n",
              "\n",
              "    .dataframe tbody tr th {\n",
              "        vertical-align: top;\n",
              "    }\n",
              "\n",
              "    .dataframe thead th {\n",
              "        text-align: right;\n",
              "    }\n",
              "</style>\n",
              "<table border=\"1\" class=\"dataframe\">\n",
              "  <thead>\n",
              "    <tr style=\"text-align: right;\">\n",
              "      <th></th>\n",
              "      <th>0</th>\n",
              "      <th>1</th>\n",
              "      <th>2</th>\n",
              "      <th>3</th>\n",
              "      <th>4</th>\n",
              "      <th>5</th>\n",
              "      <th>6</th>\n",
              "      <th>7</th>\n",
              "      <th>8</th>\n",
              "      <th>9</th>\n",
              "      <th>10</th>\n",
              "      <th>11</th>\n",
              "      <th>12</th>\n",
              "      <th>13</th>\n",
              "      <th>14</th>\n",
              "      <th>15</th>\n",
              "      <th>16</th>\n",
              "      <th>17</th>\n",
              "      <th>18</th>\n",
              "      <th>19</th>\n",
              "      <th>20</th>\n",
              "      <th>21</th>\n",
              "      <th>22</th>\n",
              "      <th>23</th>\n",
              "      <th>24</th>\n",
              "      <th>25</th>\n",
              "      <th>26</th>\n",
              "      <th>27</th>\n",
              "      <th>28</th>\n",
              "      <th>29</th>\n",
              "      <th>30</th>\n",
              "      <th>31</th>\n",
              "      <th>32</th>\n",
              "      <th>33</th>\n",
              "      <th>34</th>\n",
              "      <th>35</th>\n",
              "      <th>36</th>\n",
              "      <th>37</th>\n",
              "      <th>38</th>\n",
              "      <th>39</th>\n",
              "      <th>...</th>\n",
              "      <th>43</th>\n",
              "      <th>44</th>\n",
              "      <th>45</th>\n",
              "      <th>46</th>\n",
              "      <th>47</th>\n",
              "      <th>48</th>\n",
              "      <th>49</th>\n",
              "      <th>50</th>\n",
              "      <th>51</th>\n",
              "      <th>52</th>\n",
              "      <th>53</th>\n",
              "      <th>54</th>\n",
              "      <th>55</th>\n",
              "      <th>56</th>\n",
              "      <th>57</th>\n",
              "      <th>58</th>\n",
              "      <th>59</th>\n",
              "      <th>60</th>\n",
              "      <th>61</th>\n",
              "      <th>62</th>\n",
              "      <th>63</th>\n",
              "      <th>64</th>\n",
              "      <th>65</th>\n",
              "      <th>66</th>\n",
              "      <th>67</th>\n",
              "      <th>68</th>\n",
              "      <th>69</th>\n",
              "      <th>70</th>\n",
              "      <th>71</th>\n",
              "      <th>72</th>\n",
              "      <th>73</th>\n",
              "      <th>74</th>\n",
              "      <th>75</th>\n",
              "      <th>76</th>\n",
              "      <th>77</th>\n",
              "      <th>78</th>\n",
              "      <th>79</th>\n",
              "      <th>80</th>\n",
              "      <th>81</th>\n",
              "      <th>82</th>\n",
              "    </tr>\n",
              "  </thead>\n",
              "  <tbody>\n",
              "    <tr>\n",
              "      <th>0</th>\n",
              "      <td>0.0</td>\n",
              "      <td>0.0</td>\n",
              "      <td>0.0</td>\n",
              "      <td>0.0</td>\n",
              "      <td>0.0</td>\n",
              "      <td>0.0</td>\n",
              "      <td>1.0</td>\n",
              "      <td>0.0</td>\n",
              "      <td>0.0</td>\n",
              "      <td>0.0</td>\n",
              "      <td>1.0</td>\n",
              "      <td>0.0</td>\n",
              "      <td>0.0</td>\n",
              "      <td>0.0</td>\n",
              "      <td>0.0</td>\n",
              "      <td>0.0</td>\n",
              "      <td>0.0</td>\n",
              "      <td>0.0</td>\n",
              "      <td>1.0</td>\n",
              "      <td>0.0</td>\n",
              "      <td>0.0</td>\n",
              "      <td>0.0</td>\n",
              "      <td>0.0</td>\n",
              "      <td>0.0</td>\n",
              "      <td>0.0</td>\n",
              "      <td>0.0</td>\n",
              "      <td>0.0</td>\n",
              "      <td>0.0</td>\n",
              "      <td>0.0</td>\n",
              "      <td>0.0</td>\n",
              "      <td>0.0</td>\n",
              "      <td>0.0</td>\n",
              "      <td>0.0</td>\n",
              "      <td>0.0</td>\n",
              "      <td>1.0</td>\n",
              "      <td>0.0</td>\n",
              "      <td>0.0</td>\n",
              "      <td>0.0</td>\n",
              "      <td>0.0</td>\n",
              "      <td>1.0</td>\n",
              "      <td>...</td>\n",
              "      <td>0.0</td>\n",
              "      <td>0.0</td>\n",
              "      <td>0.0</td>\n",
              "      <td>0.0</td>\n",
              "      <td>0.0</td>\n",
              "      <td>0.0</td>\n",
              "      <td>0.0</td>\n",
              "      <td>0.0</td>\n",
              "      <td>0.0</td>\n",
              "      <td>0.0</td>\n",
              "      <td>0.0</td>\n",
              "      <td>0.0</td>\n",
              "      <td>0.0</td>\n",
              "      <td>0.0</td>\n",
              "      <td>0.0</td>\n",
              "      <td>0.0</td>\n",
              "      <td>0.0</td>\n",
              "      <td>0.0</td>\n",
              "      <td>0.0</td>\n",
              "      <td>0.0</td>\n",
              "      <td>0.0</td>\n",
              "      <td>0.0</td>\n",
              "      <td>0.0</td>\n",
              "      <td>0.0</td>\n",
              "      <td>0.0</td>\n",
              "      <td>0.0</td>\n",
              "      <td>0.0</td>\n",
              "      <td>0.0</td>\n",
              "      <td>0.0</td>\n",
              "      <td>0.0</td>\n",
              "      <td>0.0</td>\n",
              "      <td>0.0</td>\n",
              "      <td>0.0</td>\n",
              "      <td>0.0</td>\n",
              "      <td>0.0</td>\n",
              "      <td>0.0</td>\n",
              "      <td>0.0</td>\n",
              "      <td>1.0</td>\n",
              "      <td>0.0</td>\n",
              "      <td>0.0</td>\n",
              "    </tr>\n",
              "    <tr>\n",
              "      <th>1</th>\n",
              "      <td>0.0</td>\n",
              "      <td>1.0</td>\n",
              "      <td>0.0</td>\n",
              "      <td>0.0</td>\n",
              "      <td>0.0</td>\n",
              "      <td>0.0</td>\n",
              "      <td>0.0</td>\n",
              "      <td>0.0</td>\n",
              "      <td>0.0</td>\n",
              "      <td>0.0</td>\n",
              "      <td>1.0</td>\n",
              "      <td>0.0</td>\n",
              "      <td>0.0</td>\n",
              "      <td>0.0</td>\n",
              "      <td>0.0</td>\n",
              "      <td>0.0</td>\n",
              "      <td>0.0</td>\n",
              "      <td>0.0</td>\n",
              "      <td>0.0</td>\n",
              "      <td>0.0</td>\n",
              "      <td>0.0</td>\n",
              "      <td>1.0</td>\n",
              "      <td>0.0</td>\n",
              "      <td>0.0</td>\n",
              "      <td>0.0</td>\n",
              "      <td>0.0</td>\n",
              "      <td>0.0</td>\n",
              "      <td>0.0</td>\n",
              "      <td>0.0</td>\n",
              "      <td>1.0</td>\n",
              "      <td>0.0</td>\n",
              "      <td>0.0</td>\n",
              "      <td>0.0</td>\n",
              "      <td>0.0</td>\n",
              "      <td>0.0</td>\n",
              "      <td>0.0</td>\n",
              "      <td>0.0</td>\n",
              "      <td>0.0</td>\n",
              "      <td>0.0</td>\n",
              "      <td>1.0</td>\n",
              "      <td>...</td>\n",
              "      <td>0.0</td>\n",
              "      <td>0.0</td>\n",
              "      <td>0.0</td>\n",
              "      <td>0.0</td>\n",
              "      <td>0.0</td>\n",
              "      <td>0.0</td>\n",
              "      <td>0.0</td>\n",
              "      <td>0.0</td>\n",
              "      <td>0.0</td>\n",
              "      <td>0.0</td>\n",
              "      <td>0.0</td>\n",
              "      <td>0.0</td>\n",
              "      <td>0.0</td>\n",
              "      <td>0.0</td>\n",
              "      <td>0.0</td>\n",
              "      <td>0.0</td>\n",
              "      <td>0.0</td>\n",
              "      <td>0.0</td>\n",
              "      <td>0.0</td>\n",
              "      <td>0.0</td>\n",
              "      <td>0.0</td>\n",
              "      <td>0.0</td>\n",
              "      <td>0.0</td>\n",
              "      <td>0.0</td>\n",
              "      <td>0.0</td>\n",
              "      <td>0.0</td>\n",
              "      <td>0.0</td>\n",
              "      <td>0.0</td>\n",
              "      <td>0.0</td>\n",
              "      <td>0.0</td>\n",
              "      <td>0.0</td>\n",
              "      <td>0.0</td>\n",
              "      <td>0.0</td>\n",
              "      <td>0.0</td>\n",
              "      <td>0.0</td>\n",
              "      <td>0.0</td>\n",
              "      <td>0.0</td>\n",
              "      <td>1.0</td>\n",
              "      <td>0.0</td>\n",
              "      <td>0.0</td>\n",
              "    </tr>\n",
              "    <tr>\n",
              "      <th>2</th>\n",
              "      <td>0.0</td>\n",
              "      <td>0.0</td>\n",
              "      <td>0.0</td>\n",
              "      <td>1.0</td>\n",
              "      <td>0.0</td>\n",
              "      <td>0.0</td>\n",
              "      <td>0.0</td>\n",
              "      <td>0.0</td>\n",
              "      <td>0.0</td>\n",
              "      <td>0.0</td>\n",
              "      <td>0.0</td>\n",
              "      <td>0.0</td>\n",
              "      <td>1.0</td>\n",
              "      <td>0.0</td>\n",
              "      <td>0.0</td>\n",
              "      <td>0.0</td>\n",
              "      <td>0.0</td>\n",
              "      <td>0.0</td>\n",
              "      <td>1.0</td>\n",
              "      <td>0.0</td>\n",
              "      <td>0.0</td>\n",
              "      <td>0.0</td>\n",
              "      <td>0.0</td>\n",
              "      <td>0.0</td>\n",
              "      <td>0.0</td>\n",
              "      <td>0.0</td>\n",
              "      <td>0.0</td>\n",
              "      <td>0.0</td>\n",
              "      <td>0.0</td>\n",
              "      <td>0.0</td>\n",
              "      <td>1.0</td>\n",
              "      <td>0.0</td>\n",
              "      <td>0.0</td>\n",
              "      <td>0.0</td>\n",
              "      <td>0.0</td>\n",
              "      <td>0.0</td>\n",
              "      <td>0.0</td>\n",
              "      <td>0.0</td>\n",
              "      <td>0.0</td>\n",
              "      <td>1.0</td>\n",
              "      <td>...</td>\n",
              "      <td>0.0</td>\n",
              "      <td>0.0</td>\n",
              "      <td>0.0</td>\n",
              "      <td>0.0</td>\n",
              "      <td>0.0</td>\n",
              "      <td>0.0</td>\n",
              "      <td>0.0</td>\n",
              "      <td>0.0</td>\n",
              "      <td>0.0</td>\n",
              "      <td>0.0</td>\n",
              "      <td>0.0</td>\n",
              "      <td>0.0</td>\n",
              "      <td>0.0</td>\n",
              "      <td>0.0</td>\n",
              "      <td>0.0</td>\n",
              "      <td>0.0</td>\n",
              "      <td>0.0</td>\n",
              "      <td>0.0</td>\n",
              "      <td>0.0</td>\n",
              "      <td>0.0</td>\n",
              "      <td>0.0</td>\n",
              "      <td>0.0</td>\n",
              "      <td>0.0</td>\n",
              "      <td>0.0</td>\n",
              "      <td>0.0</td>\n",
              "      <td>0.0</td>\n",
              "      <td>0.0</td>\n",
              "      <td>0.0</td>\n",
              "      <td>0.0</td>\n",
              "      <td>0.0</td>\n",
              "      <td>0.0</td>\n",
              "      <td>0.0</td>\n",
              "      <td>0.0</td>\n",
              "      <td>0.0</td>\n",
              "      <td>0.0</td>\n",
              "      <td>0.0</td>\n",
              "      <td>0.0</td>\n",
              "      <td>1.0</td>\n",
              "      <td>0.0</td>\n",
              "      <td>0.0</td>\n",
              "    </tr>\n",
              "    <tr>\n",
              "      <th>3</th>\n",
              "      <td>0.0</td>\n",
              "      <td>1.0</td>\n",
              "      <td>0.0</td>\n",
              "      <td>0.0</td>\n",
              "      <td>0.0</td>\n",
              "      <td>0.0</td>\n",
              "      <td>0.0</td>\n",
              "      <td>0.0</td>\n",
              "      <td>0.0</td>\n",
              "      <td>0.0</td>\n",
              "      <td>0.0</td>\n",
              "      <td>0.0</td>\n",
              "      <td>1.0</td>\n",
              "      <td>0.0</td>\n",
              "      <td>0.0</td>\n",
              "      <td>0.0</td>\n",
              "      <td>0.0</td>\n",
              "      <td>0.0</td>\n",
              "      <td>0.0</td>\n",
              "      <td>1.0</td>\n",
              "      <td>0.0</td>\n",
              "      <td>0.0</td>\n",
              "      <td>0.0</td>\n",
              "      <td>0.0</td>\n",
              "      <td>0.0</td>\n",
              "      <td>0.0</td>\n",
              "      <td>0.0</td>\n",
              "      <td>0.0</td>\n",
              "      <td>0.0</td>\n",
              "      <td>0.0</td>\n",
              "      <td>0.0</td>\n",
              "      <td>0.0</td>\n",
              "      <td>1.0</td>\n",
              "      <td>0.0</td>\n",
              "      <td>0.0</td>\n",
              "      <td>0.0</td>\n",
              "      <td>0.0</td>\n",
              "      <td>0.0</td>\n",
              "      <td>0.0</td>\n",
              "      <td>1.0</td>\n",
              "      <td>...</td>\n",
              "      <td>0.0</td>\n",
              "      <td>0.0</td>\n",
              "      <td>0.0</td>\n",
              "      <td>0.0</td>\n",
              "      <td>0.0</td>\n",
              "      <td>0.0</td>\n",
              "      <td>0.0</td>\n",
              "      <td>0.0</td>\n",
              "      <td>0.0</td>\n",
              "      <td>0.0</td>\n",
              "      <td>0.0</td>\n",
              "      <td>0.0</td>\n",
              "      <td>0.0</td>\n",
              "      <td>0.0</td>\n",
              "      <td>0.0</td>\n",
              "      <td>0.0</td>\n",
              "      <td>0.0</td>\n",
              "      <td>0.0</td>\n",
              "      <td>0.0</td>\n",
              "      <td>0.0</td>\n",
              "      <td>0.0</td>\n",
              "      <td>0.0</td>\n",
              "      <td>0.0</td>\n",
              "      <td>0.0</td>\n",
              "      <td>0.0</td>\n",
              "      <td>0.0</td>\n",
              "      <td>0.0</td>\n",
              "      <td>0.0</td>\n",
              "      <td>0.0</td>\n",
              "      <td>0.0</td>\n",
              "      <td>0.0</td>\n",
              "      <td>0.0</td>\n",
              "      <td>0.0</td>\n",
              "      <td>0.0</td>\n",
              "      <td>0.0</td>\n",
              "      <td>0.0</td>\n",
              "      <td>0.0</td>\n",
              "      <td>1.0</td>\n",
              "      <td>0.0</td>\n",
              "      <td>0.0</td>\n",
              "    </tr>\n",
              "    <tr>\n",
              "      <th>4</th>\n",
              "      <td>1.0</td>\n",
              "      <td>0.0</td>\n",
              "      <td>0.0</td>\n",
              "      <td>0.0</td>\n",
              "      <td>0.0</td>\n",
              "      <td>0.0</td>\n",
              "      <td>0.0</td>\n",
              "      <td>0.0</td>\n",
              "      <td>0.0</td>\n",
              "      <td>0.0</td>\n",
              "      <td>1.0</td>\n",
              "      <td>0.0</td>\n",
              "      <td>0.0</td>\n",
              "      <td>0.0</td>\n",
              "      <td>0.0</td>\n",
              "      <td>0.0</td>\n",
              "      <td>0.0</td>\n",
              "      <td>0.0</td>\n",
              "      <td>1.0</td>\n",
              "      <td>0.0</td>\n",
              "      <td>0.0</td>\n",
              "      <td>0.0</td>\n",
              "      <td>0.0</td>\n",
              "      <td>0.0</td>\n",
              "      <td>0.0</td>\n",
              "      <td>0.0</td>\n",
              "      <td>0.0</td>\n",
              "      <td>0.0</td>\n",
              "      <td>0.0</td>\n",
              "      <td>1.0</td>\n",
              "      <td>0.0</td>\n",
              "      <td>0.0</td>\n",
              "      <td>0.0</td>\n",
              "      <td>0.0</td>\n",
              "      <td>0.0</td>\n",
              "      <td>0.0</td>\n",
              "      <td>0.0</td>\n",
              "      <td>0.0</td>\n",
              "      <td>0.0</td>\n",
              "      <td>1.0</td>\n",
              "      <td>...</td>\n",
              "      <td>0.0</td>\n",
              "      <td>0.0</td>\n",
              "      <td>0.0</td>\n",
              "      <td>0.0</td>\n",
              "      <td>0.0</td>\n",
              "      <td>0.0</td>\n",
              "      <td>0.0</td>\n",
              "      <td>0.0</td>\n",
              "      <td>0.0</td>\n",
              "      <td>0.0</td>\n",
              "      <td>0.0</td>\n",
              "      <td>0.0</td>\n",
              "      <td>0.0</td>\n",
              "      <td>0.0</td>\n",
              "      <td>0.0</td>\n",
              "      <td>0.0</td>\n",
              "      <td>0.0</td>\n",
              "      <td>0.0</td>\n",
              "      <td>0.0</td>\n",
              "      <td>0.0</td>\n",
              "      <td>0.0</td>\n",
              "      <td>0.0</td>\n",
              "      <td>0.0</td>\n",
              "      <td>0.0</td>\n",
              "      <td>0.0</td>\n",
              "      <td>0.0</td>\n",
              "      <td>0.0</td>\n",
              "      <td>0.0</td>\n",
              "      <td>0.0</td>\n",
              "      <td>0.0</td>\n",
              "      <td>0.0</td>\n",
              "      <td>0.0</td>\n",
              "      <td>0.0</td>\n",
              "      <td>0.0</td>\n",
              "      <td>0.0</td>\n",
              "      <td>0.0</td>\n",
              "      <td>0.0</td>\n",
              "      <td>1.0</td>\n",
              "      <td>0.0</td>\n",
              "      <td>0.0</td>\n",
              "    </tr>\n",
              "    <tr>\n",
              "      <th>...</th>\n",
              "      <td>...</td>\n",
              "      <td>...</td>\n",
              "      <td>...</td>\n",
              "      <td>...</td>\n",
              "      <td>...</td>\n",
              "      <td>...</td>\n",
              "      <td>...</td>\n",
              "      <td>...</td>\n",
              "      <td>...</td>\n",
              "      <td>...</td>\n",
              "      <td>...</td>\n",
              "      <td>...</td>\n",
              "      <td>...</td>\n",
              "      <td>...</td>\n",
              "      <td>...</td>\n",
              "      <td>...</td>\n",
              "      <td>...</td>\n",
              "      <td>...</td>\n",
              "      <td>...</td>\n",
              "      <td>...</td>\n",
              "      <td>...</td>\n",
              "      <td>...</td>\n",
              "      <td>...</td>\n",
              "      <td>...</td>\n",
              "      <td>...</td>\n",
              "      <td>...</td>\n",
              "      <td>...</td>\n",
              "      <td>...</td>\n",
              "      <td>...</td>\n",
              "      <td>...</td>\n",
              "      <td>...</td>\n",
              "      <td>...</td>\n",
              "      <td>...</td>\n",
              "      <td>...</td>\n",
              "      <td>...</td>\n",
              "      <td>...</td>\n",
              "      <td>...</td>\n",
              "      <td>...</td>\n",
              "      <td>...</td>\n",
              "      <td>...</td>\n",
              "      <td>...</td>\n",
              "      <td>...</td>\n",
              "      <td>...</td>\n",
              "      <td>...</td>\n",
              "      <td>...</td>\n",
              "      <td>...</td>\n",
              "      <td>...</td>\n",
              "      <td>...</td>\n",
              "      <td>...</td>\n",
              "      <td>...</td>\n",
              "      <td>...</td>\n",
              "      <td>...</td>\n",
              "      <td>...</td>\n",
              "      <td>...</td>\n",
              "      <td>...</td>\n",
              "      <td>...</td>\n",
              "      <td>...</td>\n",
              "      <td>...</td>\n",
              "      <td>...</td>\n",
              "      <td>...</td>\n",
              "      <td>...</td>\n",
              "      <td>...</td>\n",
              "      <td>...</td>\n",
              "      <td>...</td>\n",
              "      <td>...</td>\n",
              "      <td>...</td>\n",
              "      <td>...</td>\n",
              "      <td>...</td>\n",
              "      <td>...</td>\n",
              "      <td>...</td>\n",
              "      <td>...</td>\n",
              "      <td>...</td>\n",
              "      <td>...</td>\n",
              "      <td>...</td>\n",
              "      <td>...</td>\n",
              "      <td>...</td>\n",
              "      <td>...</td>\n",
              "      <td>...</td>\n",
              "      <td>...</td>\n",
              "      <td>...</td>\n",
              "      <td>...</td>\n",
              "    </tr>\n",
              "    <tr>\n",
              "      <th>22787</th>\n",
              "      <td>0.0</td>\n",
              "      <td>0.0</td>\n",
              "      <td>0.0</td>\n",
              "      <td>0.0</td>\n",
              "      <td>0.0</td>\n",
              "      <td>1.0</td>\n",
              "      <td>0.0</td>\n",
              "      <td>0.0</td>\n",
              "      <td>0.0</td>\n",
              "      <td>0.0</td>\n",
              "      <td>1.0</td>\n",
              "      <td>0.0</td>\n",
              "      <td>0.0</td>\n",
              "      <td>0.0</td>\n",
              "      <td>0.0</td>\n",
              "      <td>0.0</td>\n",
              "      <td>0.0</td>\n",
              "      <td>0.0</td>\n",
              "      <td>0.0</td>\n",
              "      <td>1.0</td>\n",
              "      <td>0.0</td>\n",
              "      <td>0.0</td>\n",
              "      <td>0.0</td>\n",
              "      <td>0.0</td>\n",
              "      <td>0.0</td>\n",
              "      <td>0.0</td>\n",
              "      <td>0.0</td>\n",
              "      <td>0.0</td>\n",
              "      <td>0.0</td>\n",
              "      <td>1.0</td>\n",
              "      <td>0.0</td>\n",
              "      <td>0.0</td>\n",
              "      <td>0.0</td>\n",
              "      <td>0.0</td>\n",
              "      <td>0.0</td>\n",
              "      <td>0.0</td>\n",
              "      <td>0.0</td>\n",
              "      <td>0.0</td>\n",
              "      <td>0.0</td>\n",
              "      <td>1.0</td>\n",
              "      <td>...</td>\n",
              "      <td>0.0</td>\n",
              "      <td>0.0</td>\n",
              "      <td>0.0</td>\n",
              "      <td>0.0</td>\n",
              "      <td>0.0</td>\n",
              "      <td>0.0</td>\n",
              "      <td>0.0</td>\n",
              "      <td>0.0</td>\n",
              "      <td>0.0</td>\n",
              "      <td>0.0</td>\n",
              "      <td>0.0</td>\n",
              "      <td>0.0</td>\n",
              "      <td>0.0</td>\n",
              "      <td>0.0</td>\n",
              "      <td>0.0</td>\n",
              "      <td>0.0</td>\n",
              "      <td>0.0</td>\n",
              "      <td>0.0</td>\n",
              "      <td>0.0</td>\n",
              "      <td>0.0</td>\n",
              "      <td>0.0</td>\n",
              "      <td>0.0</td>\n",
              "      <td>0.0</td>\n",
              "      <td>0.0</td>\n",
              "      <td>0.0</td>\n",
              "      <td>0.0</td>\n",
              "      <td>0.0</td>\n",
              "      <td>0.0</td>\n",
              "      <td>0.0</td>\n",
              "      <td>0.0</td>\n",
              "      <td>0.0</td>\n",
              "      <td>0.0</td>\n",
              "      <td>0.0</td>\n",
              "      <td>0.0</td>\n",
              "      <td>0.0</td>\n",
              "      <td>0.0</td>\n",
              "      <td>0.0</td>\n",
              "      <td>1.0</td>\n",
              "      <td>0.0</td>\n",
              "      <td>0.0</td>\n",
              "    </tr>\n",
              "    <tr>\n",
              "      <th>22788</th>\n",
              "      <td>0.0</td>\n",
              "      <td>0.0</td>\n",
              "      <td>0.0</td>\n",
              "      <td>1.0</td>\n",
              "      <td>0.0</td>\n",
              "      <td>0.0</td>\n",
              "      <td>0.0</td>\n",
              "      <td>0.0</td>\n",
              "      <td>0.0</td>\n",
              "      <td>0.0</td>\n",
              "      <td>1.0</td>\n",
              "      <td>0.0</td>\n",
              "      <td>0.0</td>\n",
              "      <td>0.0</td>\n",
              "      <td>0.0</td>\n",
              "      <td>0.0</td>\n",
              "      <td>0.0</td>\n",
              "      <td>0.0</td>\n",
              "      <td>0.0</td>\n",
              "      <td>0.0</td>\n",
              "      <td>0.0</td>\n",
              "      <td>0.0</td>\n",
              "      <td>0.0</td>\n",
              "      <td>0.0</td>\n",
              "      <td>0.0</td>\n",
              "      <td>0.0</td>\n",
              "      <td>0.0</td>\n",
              "      <td>0.0</td>\n",
              "      <td>1.0</td>\n",
              "      <td>1.0</td>\n",
              "      <td>0.0</td>\n",
              "      <td>0.0</td>\n",
              "      <td>0.0</td>\n",
              "      <td>0.0</td>\n",
              "      <td>0.0</td>\n",
              "      <td>0.0</td>\n",
              "      <td>0.0</td>\n",
              "      <td>0.0</td>\n",
              "      <td>0.0</td>\n",
              "      <td>1.0</td>\n",
              "      <td>...</td>\n",
              "      <td>0.0</td>\n",
              "      <td>0.0</td>\n",
              "      <td>0.0</td>\n",
              "      <td>0.0</td>\n",
              "      <td>0.0</td>\n",
              "      <td>0.0</td>\n",
              "      <td>0.0</td>\n",
              "      <td>0.0</td>\n",
              "      <td>0.0</td>\n",
              "      <td>0.0</td>\n",
              "      <td>0.0</td>\n",
              "      <td>0.0</td>\n",
              "      <td>0.0</td>\n",
              "      <td>0.0</td>\n",
              "      <td>0.0</td>\n",
              "      <td>0.0</td>\n",
              "      <td>0.0</td>\n",
              "      <td>0.0</td>\n",
              "      <td>0.0</td>\n",
              "      <td>0.0</td>\n",
              "      <td>0.0</td>\n",
              "      <td>0.0</td>\n",
              "      <td>0.0</td>\n",
              "      <td>0.0</td>\n",
              "      <td>0.0</td>\n",
              "      <td>0.0</td>\n",
              "      <td>0.0</td>\n",
              "      <td>0.0</td>\n",
              "      <td>0.0</td>\n",
              "      <td>0.0</td>\n",
              "      <td>0.0</td>\n",
              "      <td>0.0</td>\n",
              "      <td>0.0</td>\n",
              "      <td>0.0</td>\n",
              "      <td>0.0</td>\n",
              "      <td>0.0</td>\n",
              "      <td>0.0</td>\n",
              "      <td>1.0</td>\n",
              "      <td>0.0</td>\n",
              "      <td>0.0</td>\n",
              "    </tr>\n",
              "    <tr>\n",
              "      <th>22789</th>\n",
              "      <td>0.0</td>\n",
              "      <td>0.0</td>\n",
              "      <td>0.0</td>\n",
              "      <td>1.0</td>\n",
              "      <td>0.0</td>\n",
              "      <td>0.0</td>\n",
              "      <td>0.0</td>\n",
              "      <td>0.0</td>\n",
              "      <td>0.0</td>\n",
              "      <td>0.0</td>\n",
              "      <td>0.0</td>\n",
              "      <td>0.0</td>\n",
              "      <td>1.0</td>\n",
              "      <td>0.0</td>\n",
              "      <td>0.0</td>\n",
              "      <td>0.0</td>\n",
              "      <td>0.0</td>\n",
              "      <td>0.0</td>\n",
              "      <td>0.0</td>\n",
              "      <td>0.0</td>\n",
              "      <td>0.0</td>\n",
              "      <td>0.0</td>\n",
              "      <td>0.0</td>\n",
              "      <td>0.0</td>\n",
              "      <td>0.0</td>\n",
              "      <td>0.0</td>\n",
              "      <td>1.0</td>\n",
              "      <td>0.0</td>\n",
              "      <td>0.0</td>\n",
              "      <td>0.0</td>\n",
              "      <td>0.0</td>\n",
              "      <td>1.0</td>\n",
              "      <td>0.0</td>\n",
              "      <td>0.0</td>\n",
              "      <td>0.0</td>\n",
              "      <td>0.0</td>\n",
              "      <td>0.0</td>\n",
              "      <td>1.0</td>\n",
              "      <td>0.0</td>\n",
              "      <td>0.0</td>\n",
              "      <td>...</td>\n",
              "      <td>0.0</td>\n",
              "      <td>0.0</td>\n",
              "      <td>0.0</td>\n",
              "      <td>0.0</td>\n",
              "      <td>0.0</td>\n",
              "      <td>0.0</td>\n",
              "      <td>0.0</td>\n",
              "      <td>0.0</td>\n",
              "      <td>0.0</td>\n",
              "      <td>0.0</td>\n",
              "      <td>0.0</td>\n",
              "      <td>0.0</td>\n",
              "      <td>0.0</td>\n",
              "      <td>0.0</td>\n",
              "      <td>0.0</td>\n",
              "      <td>0.0</td>\n",
              "      <td>0.0</td>\n",
              "      <td>0.0</td>\n",
              "      <td>0.0</td>\n",
              "      <td>0.0</td>\n",
              "      <td>0.0</td>\n",
              "      <td>0.0</td>\n",
              "      <td>0.0</td>\n",
              "      <td>0.0</td>\n",
              "      <td>0.0</td>\n",
              "      <td>0.0</td>\n",
              "      <td>0.0</td>\n",
              "      <td>0.0</td>\n",
              "      <td>0.0</td>\n",
              "      <td>0.0</td>\n",
              "      <td>0.0</td>\n",
              "      <td>0.0</td>\n",
              "      <td>0.0</td>\n",
              "      <td>0.0</td>\n",
              "      <td>0.0</td>\n",
              "      <td>0.0</td>\n",
              "      <td>0.0</td>\n",
              "      <td>1.0</td>\n",
              "      <td>0.0</td>\n",
              "      <td>0.0</td>\n",
              "    </tr>\n",
              "    <tr>\n",
              "      <th>22790</th>\n",
              "      <td>0.0</td>\n",
              "      <td>0.0</td>\n",
              "      <td>0.0</td>\n",
              "      <td>1.0</td>\n",
              "      <td>0.0</td>\n",
              "      <td>0.0</td>\n",
              "      <td>0.0</td>\n",
              "      <td>0.0</td>\n",
              "      <td>0.0</td>\n",
              "      <td>0.0</td>\n",
              "      <td>1.0</td>\n",
              "      <td>0.0</td>\n",
              "      <td>0.0</td>\n",
              "      <td>0.0</td>\n",
              "      <td>0.0</td>\n",
              "      <td>0.0</td>\n",
              "      <td>0.0</td>\n",
              "      <td>0.0</td>\n",
              "      <td>1.0</td>\n",
              "      <td>0.0</td>\n",
              "      <td>0.0</td>\n",
              "      <td>0.0</td>\n",
              "      <td>0.0</td>\n",
              "      <td>0.0</td>\n",
              "      <td>0.0</td>\n",
              "      <td>0.0</td>\n",
              "      <td>0.0</td>\n",
              "      <td>0.0</td>\n",
              "      <td>0.0</td>\n",
              "      <td>1.0</td>\n",
              "      <td>0.0</td>\n",
              "      <td>0.0</td>\n",
              "      <td>0.0</td>\n",
              "      <td>0.0</td>\n",
              "      <td>0.0</td>\n",
              "      <td>0.0</td>\n",
              "      <td>0.0</td>\n",
              "      <td>0.0</td>\n",
              "      <td>0.0</td>\n",
              "      <td>1.0</td>\n",
              "      <td>...</td>\n",
              "      <td>0.0</td>\n",
              "      <td>0.0</td>\n",
              "      <td>0.0</td>\n",
              "      <td>0.0</td>\n",
              "      <td>0.0</td>\n",
              "      <td>0.0</td>\n",
              "      <td>0.0</td>\n",
              "      <td>0.0</td>\n",
              "      <td>0.0</td>\n",
              "      <td>0.0</td>\n",
              "      <td>0.0</td>\n",
              "      <td>0.0</td>\n",
              "      <td>0.0</td>\n",
              "      <td>0.0</td>\n",
              "      <td>0.0</td>\n",
              "      <td>0.0</td>\n",
              "      <td>0.0</td>\n",
              "      <td>0.0</td>\n",
              "      <td>0.0</td>\n",
              "      <td>0.0</td>\n",
              "      <td>0.0</td>\n",
              "      <td>0.0</td>\n",
              "      <td>0.0</td>\n",
              "      <td>0.0</td>\n",
              "      <td>0.0</td>\n",
              "      <td>0.0</td>\n",
              "      <td>0.0</td>\n",
              "      <td>0.0</td>\n",
              "      <td>0.0</td>\n",
              "      <td>0.0</td>\n",
              "      <td>0.0</td>\n",
              "      <td>0.0</td>\n",
              "      <td>0.0</td>\n",
              "      <td>0.0</td>\n",
              "      <td>0.0</td>\n",
              "      <td>0.0</td>\n",
              "      <td>0.0</td>\n",
              "      <td>1.0</td>\n",
              "      <td>0.0</td>\n",
              "      <td>0.0</td>\n",
              "    </tr>\n",
              "    <tr>\n",
              "      <th>22791</th>\n",
              "      <td>0.0</td>\n",
              "      <td>0.0</td>\n",
              "      <td>0.0</td>\n",
              "      <td>1.0</td>\n",
              "      <td>0.0</td>\n",
              "      <td>0.0</td>\n",
              "      <td>0.0</td>\n",
              "      <td>0.0</td>\n",
              "      <td>0.0</td>\n",
              "      <td>0.0</td>\n",
              "      <td>1.0</td>\n",
              "      <td>0.0</td>\n",
              "      <td>0.0</td>\n",
              "      <td>0.0</td>\n",
              "      <td>0.0</td>\n",
              "      <td>0.0</td>\n",
              "      <td>0.0</td>\n",
              "      <td>1.0</td>\n",
              "      <td>0.0</td>\n",
              "      <td>0.0</td>\n",
              "      <td>0.0</td>\n",
              "      <td>0.0</td>\n",
              "      <td>0.0</td>\n",
              "      <td>0.0</td>\n",
              "      <td>0.0</td>\n",
              "      <td>0.0</td>\n",
              "      <td>0.0</td>\n",
              "      <td>0.0</td>\n",
              "      <td>0.0</td>\n",
              "      <td>1.0</td>\n",
              "      <td>0.0</td>\n",
              "      <td>0.0</td>\n",
              "      <td>0.0</td>\n",
              "      <td>0.0</td>\n",
              "      <td>0.0</td>\n",
              "      <td>0.0</td>\n",
              "      <td>0.0</td>\n",
              "      <td>0.0</td>\n",
              "      <td>0.0</td>\n",
              "      <td>1.0</td>\n",
              "      <td>...</td>\n",
              "      <td>0.0</td>\n",
              "      <td>0.0</td>\n",
              "      <td>0.0</td>\n",
              "      <td>0.0</td>\n",
              "      <td>0.0</td>\n",
              "      <td>0.0</td>\n",
              "      <td>0.0</td>\n",
              "      <td>0.0</td>\n",
              "      <td>0.0</td>\n",
              "      <td>0.0</td>\n",
              "      <td>0.0</td>\n",
              "      <td>0.0</td>\n",
              "      <td>0.0</td>\n",
              "      <td>0.0</td>\n",
              "      <td>0.0</td>\n",
              "      <td>0.0</td>\n",
              "      <td>0.0</td>\n",
              "      <td>0.0</td>\n",
              "      <td>0.0</td>\n",
              "      <td>0.0</td>\n",
              "      <td>0.0</td>\n",
              "      <td>0.0</td>\n",
              "      <td>0.0</td>\n",
              "      <td>0.0</td>\n",
              "      <td>0.0</td>\n",
              "      <td>0.0</td>\n",
              "      <td>0.0</td>\n",
              "      <td>0.0</td>\n",
              "      <td>0.0</td>\n",
              "      <td>0.0</td>\n",
              "      <td>0.0</td>\n",
              "      <td>0.0</td>\n",
              "      <td>0.0</td>\n",
              "      <td>0.0</td>\n",
              "      <td>0.0</td>\n",
              "      <td>0.0</td>\n",
              "      <td>0.0</td>\n",
              "      <td>1.0</td>\n",
              "      <td>0.0</td>\n",
              "      <td>0.0</td>\n",
              "    </tr>\n",
              "  </tbody>\n",
              "</table>\n",
              "<p>22792 rows × 83 columns</p>\n",
              "</div>"
            ],
            "text/plain": [
              "        0    1    2    3    4    5    6   ...   76   77   78   79   80   81   82\n",
              "0      0.0  0.0  0.0  0.0  0.0  0.0  1.0  ...  0.0  0.0  0.0  0.0  1.0  0.0  0.0\n",
              "1      0.0  1.0  0.0  0.0  0.0  0.0  0.0  ...  0.0  0.0  0.0  0.0  1.0  0.0  0.0\n",
              "2      0.0  0.0  0.0  1.0  0.0  0.0  0.0  ...  0.0  0.0  0.0  0.0  1.0  0.0  0.0\n",
              "3      0.0  1.0  0.0  0.0  0.0  0.0  0.0  ...  0.0  0.0  0.0  0.0  1.0  0.0  0.0\n",
              "4      1.0  0.0  0.0  0.0  0.0  0.0  0.0  ...  0.0  0.0  0.0  0.0  1.0  0.0  0.0\n",
              "...    ...  ...  ...  ...  ...  ...  ...  ...  ...  ...  ...  ...  ...  ...  ...\n",
              "22787  0.0  0.0  0.0  0.0  0.0  1.0  0.0  ...  0.0  0.0  0.0  0.0  1.0  0.0  0.0\n",
              "22788  0.0  0.0  0.0  1.0  0.0  0.0  0.0  ...  0.0  0.0  0.0  0.0  1.0  0.0  0.0\n",
              "22789  0.0  0.0  0.0  1.0  0.0  0.0  0.0  ...  0.0  0.0  0.0  0.0  1.0  0.0  0.0\n",
              "22790  0.0  0.0  0.0  1.0  0.0  0.0  0.0  ...  0.0  0.0  0.0  0.0  1.0  0.0  0.0\n",
              "22791  0.0  0.0  0.0  1.0  0.0  0.0  0.0  ...  0.0  0.0  0.0  0.0  1.0  0.0  0.0\n",
              "\n",
              "[22792 rows x 83 columns]"
            ]
          },
          "metadata": {
            "tags": []
          },
          "execution_count": 17
        }
      ]
    },
    {
      "cell_type": "markdown",
      "metadata": {
        "id": "mxEweQuP0qI2"
      },
      "source": [
        "### 문제 08. 피처 스케일 조정하기"
      ]
    },
    {
      "cell_type": "code",
      "metadata": {
        "id": "w_T-BCbe0qI3"
      },
      "source": [
        "from sklearn.preprocessing import StandardScaler\n",
        "\n",
        "scaler =  StandardScaler()\n",
        "X_train_scaled = pd.DataFrame(scaler.fit_transform(X_train), columns = X.columns)\n",
        "X_test_scaled = pd.DataFrame(scaler.transform(X_test), columns = X.columns)"
      ],
      "execution_count": 18,
      "outputs": []
    },
    {
      "cell_type": "code",
      "metadata": {
        "id": "8fTacCwrEVBR",
        "colab": {
          "base_uri": "https://localhost:8080/",
          "height": 224
        },
        "outputId": "d8fac028-8640-41f9-baaf-81fa14a4e129"
      },
      "source": [
        "# 스케일 조정된 X_train 데이터 확인하기\n",
        "\n",
        "X_train.head()"
      ],
      "execution_count": 19,
      "outputs": [
        {
          "output_type": "execute_result",
          "data": {
            "text/html": [
              "<div>\n",
              "<style scoped>\n",
              "    .dataframe tbody tr th:only-of-type {\n",
              "        vertical-align: middle;\n",
              "    }\n",
              "\n",
              "    .dataframe tbody tr th {\n",
              "        vertical-align: top;\n",
              "    }\n",
              "\n",
              "    .dataframe thead th {\n",
              "        text-align: right;\n",
              "    }\n",
              "</style>\n",
              "<table border=\"1\" class=\"dataframe\">\n",
              "  <thead>\n",
              "    <tr style=\"text-align: right;\">\n",
              "      <th></th>\n",
              "      <th>age</th>\n",
              "      <th>workclass</th>\n",
              "      <th>education.num</th>\n",
              "      <th>marital.status</th>\n",
              "      <th>occupation</th>\n",
              "      <th>relationship</th>\n",
              "      <th>race</th>\n",
              "      <th>sex</th>\n",
              "      <th>capital.gain</th>\n",
              "      <th>capital.loss</th>\n",
              "      <th>hours.per.week</th>\n",
              "      <th>native.country</th>\n",
              "    </tr>\n",
              "  </thead>\n",
              "  <tbody>\n",
              "    <tr>\n",
              "      <th>32098</th>\n",
              "      <td>40</td>\n",
              "      <td>6</td>\n",
              "      <td>13</td>\n",
              "      <td>2</td>\n",
              "      <td>3</td>\n",
              "      <td>5</td>\n",
              "      <td>4</td>\n",
              "      <td>0</td>\n",
              "      <td>0</td>\n",
              "      <td>0</td>\n",
              "      <td>20</td>\n",
              "      <td>38</td>\n",
              "    </tr>\n",
              "    <tr>\n",
              "      <th>25206</th>\n",
              "      <td>39</td>\n",
              "      <td>1</td>\n",
              "      <td>9</td>\n",
              "      <td>2</td>\n",
              "      <td>6</td>\n",
              "      <td>0</td>\n",
              "      <td>4</td>\n",
              "      <td>1</td>\n",
              "      <td>0</td>\n",
              "      <td>0</td>\n",
              "      <td>38</td>\n",
              "      <td>38</td>\n",
              "    </tr>\n",
              "    <tr>\n",
              "      <th>23491</th>\n",
              "      <td>42</td>\n",
              "      <td>3</td>\n",
              "      <td>10</td>\n",
              "      <td>4</td>\n",
              "      <td>3</td>\n",
              "      <td>1</td>\n",
              "      <td>4</td>\n",
              "      <td>0</td>\n",
              "      <td>0</td>\n",
              "      <td>0</td>\n",
              "      <td>40</td>\n",
              "      <td>38</td>\n",
              "    </tr>\n",
              "    <tr>\n",
              "      <th>12367</th>\n",
              "      <td>27</td>\n",
              "      <td>1</td>\n",
              "      <td>9</td>\n",
              "      <td>4</td>\n",
              "      <td>4</td>\n",
              "      <td>3</td>\n",
              "      <td>4</td>\n",
              "      <td>1</td>\n",
              "      <td>0</td>\n",
              "      <td>0</td>\n",
              "      <td>40</td>\n",
              "      <td>38</td>\n",
              "    </tr>\n",
              "    <tr>\n",
              "      <th>7054</th>\n",
              "      <td>38</td>\n",
              "      <td>0</td>\n",
              "      <td>14</td>\n",
              "      <td>2</td>\n",
              "      <td>3</td>\n",
              "      <td>0</td>\n",
              "      <td>4</td>\n",
              "      <td>1</td>\n",
              "      <td>0</td>\n",
              "      <td>0</td>\n",
              "      <td>40</td>\n",
              "      <td>38</td>\n",
              "    </tr>\n",
              "  </tbody>\n",
              "</table>\n",
              "</div>"
            ],
            "text/plain": [
              "       age  workclass  ...  hours.per.week  native.country\n",
              "32098   40          6  ...              20              38\n",
              "25206   39          1  ...              38              38\n",
              "23491   42          3  ...              40              38\n",
              "12367   27          1  ...              40              38\n",
              "7054    38          0  ...              40              38\n",
              "\n",
              "[5 rows x 12 columns]"
            ]
          },
          "metadata": {
            "tags": []
          },
          "execution_count": 19
        }
      ]
    },
    {
      "cell_type": "code",
      "metadata": {
        "colab": {
          "base_uri": "https://localhost:8080/",
          "height": 224
        },
        "id": "QZaiEvcdjlUZ",
        "outputId": "d71e2d1a-2061-4baf-97ec-de69380d6d54"
      },
      "source": [
        "X_train_scaled.head()"
      ],
      "execution_count": 20,
      "outputs": [
        {
          "output_type": "execute_result",
          "data": {
            "text/html": [
              "<div>\n",
              "<style scoped>\n",
              "    .dataframe tbody tr th:only-of-type {\n",
              "        vertical-align: middle;\n",
              "    }\n",
              "\n",
              "    .dataframe tbody tr th {\n",
              "        vertical-align: top;\n",
              "    }\n",
              "\n",
              "    .dataframe thead th {\n",
              "        text-align: right;\n",
              "    }\n",
              "</style>\n",
              "<table border=\"1\" class=\"dataframe\">\n",
              "  <thead>\n",
              "    <tr style=\"text-align: right;\">\n",
              "      <th></th>\n",
              "      <th>age</th>\n",
              "      <th>workclass</th>\n",
              "      <th>education.num</th>\n",
              "      <th>marital.status</th>\n",
              "      <th>occupation</th>\n",
              "      <th>relationship</th>\n",
              "      <th>race</th>\n",
              "      <th>sex</th>\n",
              "      <th>capital.gain</th>\n",
              "      <th>capital.loss</th>\n",
              "      <th>hours.per.week</th>\n",
              "      <th>native.country</th>\n",
              "    </tr>\n",
              "  </thead>\n",
              "  <tbody>\n",
              "    <tr>\n",
              "      <th>0</th>\n",
              "      <td>0.101484</td>\n",
              "      <td>2.600478</td>\n",
              "      <td>1.133894</td>\n",
              "      <td>-0.402341</td>\n",
              "      <td>-0.782234</td>\n",
              "      <td>2.214196</td>\n",
              "      <td>0.39298</td>\n",
              "      <td>-1.430470</td>\n",
              "      <td>-0.145189</td>\n",
              "      <td>-0.217407</td>\n",
              "      <td>-1.662414</td>\n",
              "      <td>0.262317</td>\n",
              "    </tr>\n",
              "    <tr>\n",
              "      <th>1</th>\n",
              "      <td>0.028248</td>\n",
              "      <td>-1.884720</td>\n",
              "      <td>-0.423425</td>\n",
              "      <td>-0.402341</td>\n",
              "      <td>-0.026696</td>\n",
              "      <td>-0.899410</td>\n",
              "      <td>0.39298</td>\n",
              "      <td>0.699071</td>\n",
              "      <td>-0.145189</td>\n",
              "      <td>-0.217407</td>\n",
              "      <td>-0.200753</td>\n",
              "      <td>0.262317</td>\n",
              "    </tr>\n",
              "    <tr>\n",
              "      <th>2</th>\n",
              "      <td>0.247956</td>\n",
              "      <td>-0.090641</td>\n",
              "      <td>-0.034095</td>\n",
              "      <td>0.926666</td>\n",
              "      <td>-0.782234</td>\n",
              "      <td>-0.276689</td>\n",
              "      <td>0.39298</td>\n",
              "      <td>-1.430470</td>\n",
              "      <td>-0.145189</td>\n",
              "      <td>-0.217407</td>\n",
              "      <td>-0.038346</td>\n",
              "      <td>0.262317</td>\n",
              "    </tr>\n",
              "    <tr>\n",
              "      <th>3</th>\n",
              "      <td>-0.850587</td>\n",
              "      <td>-1.884720</td>\n",
              "      <td>-0.423425</td>\n",
              "      <td>0.926666</td>\n",
              "      <td>-0.530388</td>\n",
              "      <td>0.968753</td>\n",
              "      <td>0.39298</td>\n",
              "      <td>0.699071</td>\n",
              "      <td>-0.145189</td>\n",
              "      <td>-0.217407</td>\n",
              "      <td>-0.038346</td>\n",
              "      <td>0.262317</td>\n",
              "    </tr>\n",
              "    <tr>\n",
              "      <th>4</th>\n",
              "      <td>-0.044989</td>\n",
              "      <td>-2.781760</td>\n",
              "      <td>1.523223</td>\n",
              "      <td>-0.402341</td>\n",
              "      <td>-0.782234</td>\n",
              "      <td>-0.899410</td>\n",
              "      <td>0.39298</td>\n",
              "      <td>0.699071</td>\n",
              "      <td>-0.145189</td>\n",
              "      <td>-0.217407</td>\n",
              "      <td>-0.038346</td>\n",
              "      <td>0.262317</td>\n",
              "    </tr>\n",
              "  </tbody>\n",
              "</table>\n",
              "</div>"
            ],
            "text/plain": [
              "        age  workclass  ...  hours.per.week  native.country\n",
              "0  0.101484   2.600478  ...       -1.662414        0.262317\n",
              "1  0.028248  -1.884720  ...       -0.200753        0.262317\n",
              "2  0.247956  -0.090641  ...       -0.038346        0.262317\n",
              "3 -0.850587  -1.884720  ...       -0.038346        0.262317\n",
              "4 -0.044989  -2.781760  ...       -0.038346        0.262317\n",
              "\n",
              "[5 rows x 12 columns]"
            ]
          },
          "metadata": {
            "tags": []
          },
          "execution_count": 20
        }
      ]
    },
    {
      "cell_type": "code",
      "metadata": {
        "id": "kqpBjy5YEIJk",
        "colab": {
          "base_uri": "https://localhost:8080/"
        },
        "outputId": "85abd955-d08e-41fb-8a64-9141bd25d33d"
      },
      "source": [
        "print(min(X_train['age']))\n",
        "print(max(X_train['age']))\n",
        "print(np.mean(X_train['age']))\n",
        "print(np.var(X_train['age']))\n",
        "print('\\n')\n",
        "print(min(X_test['age']))\n",
        "print(max(X_test['age']))\n",
        "print(np.mean(X_test['age']))\n",
        "print(np.var(X_test['age']))"
      ],
      "execution_count": 21,
      "outputs": [
        {
          "output_type": "stream",
          "text": [
            "17\n",
            "90\n",
            "38.61429448929449\n",
            "186.44402697680837\n",
            "\n",
            "\n",
            "17\n",
            "90\n",
            "38.505476507319074\n",
            "185.14136114308525\n"
          ],
          "name": "stdout"
        }
      ]
    },
    {
      "cell_type": "code",
      "metadata": {
        "colab": {
          "base_uri": "https://localhost:8080/"
        },
        "id": "HaN2h7IilIRL",
        "outputId": "7c5936bc-370b-4b07-b14c-55f9e7bcc95c"
      },
      "source": [
        "print(min(X_train_scaled['age']))\n",
        "print(max(X_train_scaled['age']))\n",
        "print(np.mean(X_train_scaled['age']))\n",
        "print(np.var(X_train_scaled['age']))\n",
        "print('\\n')\n",
        "print(min(X_test_scaled['age']))\n",
        "print(max(X_test_scaled['age']))\n",
        "print(np.mean(X_test_scaled['age']))\n",
        "print(np.var(X_test_scaled['age']))"
      ],
      "execution_count": 22,
      "outputs": [
        {
          "output_type": "stream",
          "text": [
            "-1.5829486507307393\n",
            "3.7632934651328265\n",
            "1.5671010251132251e-16\n",
            "0.9999999999999883\n",
            "\n",
            "\n",
            "-1.5829486507307393\n",
            "3.7632934651328265\n",
            "-0.007969414769866536\n",
            "0.9930130996694251\n"
          ],
          "name": "stdout"
        }
      ]
    },
    {
      "cell_type": "markdown",
      "metadata": {
        "id": "uyrluBHm0qI4"
      },
      "source": [
        "### 참고: scikit-learn에서 제공하는 피처 스케일러(scaler)\n",
        "\n",
        "- `StandardScaler`: 기본 스케일, 각 피처의 평균을 0, 표준편차를 1로 변환\n",
        "- `RobustScaler`: 위와 유사하지만 평균 대신 중간값(median)과 일분위, 삼분위값(quartile)을 사용하여 이상치 영향을 최소화\n",
        "- `MinMaxScaler`: 모든 피처의 최대치와 최소치가 각각 1, 0이 되도록 스케일 조정\n",
        "- `Normalizer`: 피처(컬럼)이 아니라 row마다 정규화되며, 유클리드 거리가 1이 되도록 데이터를 조정하여 빠르게 학습할 수 있게 함\n",
        "\n",
        "<p> 스케일 조정을 하는 이유는 데이터의 값이 너무 크거나 작을 때 학습이 제대로 되지 않을 수도 있기 때문입니다. 또한 스케일의 영향이 절대적인 분류기(예: knn과 같은 거리기반 알고리즘)의 경우, 스케일 조정을 필수적으로 검토해야 합니다.\n",
        "    \n",
        "<p> 반면 어떤 항목은 원본 데이터의 분포를 유지하는 것이 나을 수도 있습니다. 예를 들어, 데이터가 거의 한 곳에 집중되어 있는 feature를 표준화시켜 분포를 같게 만들었을 때, 작은 단위의 변화가 큰 차이를 나타내는 것처럼 학습될 수도 있습니다. 또한 스케일의 영향을 크게 받지 않는 분류기(예: 트리 기반 앙상블 알고리즘)를 사용할 경우에도 성능이 준수하게 나오거나 과대적합(overfitting)의 우려가 적다면 생략할 수도 있습니다.\n",
        "    \n",
        "<p> 스케일 조정시 유의해야할 점은 원본 데이터의 의미를 잃어버릴 수 있다는 것입니다. 최종적으로 답을 구하는 것이 목적이 아니라 모델의 해석이나 향후 다른 데이터셋으로의 응용이 더 중요할 때 원 피처에 대한 설명력을 잃어버린다면 모델 개선이 어려울 수도 있습니다. 이 점을 함께 고려하시면 좋겠습니다."
      ]
    },
    {
      "cell_type": "code",
      "metadata": {
        "id": "fR9iE4CahxB2"
      },
      "source": [
        "X_train[\"income\"] = y_train\n",
        "df = X_train.copy()"
      ],
      "execution_count": 23,
      "outputs": []
    },
    {
      "cell_type": "code",
      "metadata": {
        "id": "PCB-jSvjhr7G"
      },
      "source": [
        "! [ -e /content ] && pip install -Uqq fastai  # upgrade fastai on colab"
      ],
      "execution_count": 25,
      "outputs": []
    },
    {
      "cell_type": "code",
      "metadata": {
        "id": "JWUxIs50htLm"
      },
      "source": [
        "from fastai.tabular.all import *\n",
        "splits = RandomSplitter(valid_pct=0.2)(range_of(df))\n",
        "\n",
        "to = TabularPandas(df, procs=[Categorify, FillMissing, Normalize],\n",
        "                   cont_names = ['age', 'workclass', 'education.num', 'marital.status', 'occupation', 'relationship', 'race', 'sex', 'capital.gain', 'capital.loss', 'hours.per.week'],\n",
        "                   y_names='income',\n",
        "                   splits=splits)"
      ],
      "execution_count": 26,
      "outputs": []
    },
    {
      "cell_type": "code",
      "metadata": {
        "id": "_nuSwfpkhuLd"
      },
      "source": [
        "dls = to.dataloaders(bs=64)"
      ],
      "execution_count": 27,
      "outputs": []
    },
    {
      "cell_type": "code",
      "metadata": {
        "colab": {
          "base_uri": "https://localhost:8080/",
          "height": 80
        },
        "id": "qiQoBNDajVHm",
        "outputId": "4e00e21d-1fe4-464e-9dc0-a1e9156c4feb"
      },
      "source": [
        "learn = tabular_learner(dls, metrics=accuracy)\n",
        "learn.fit_one_cycle(1)"
      ],
      "execution_count": 28,
      "outputs": [
        {
          "output_type": "display_data",
          "data": {
            "text/html": [
              "<table border=\"1\" class=\"dataframe\">\n",
              "  <thead>\n",
              "    <tr style=\"text-align: left;\">\n",
              "      <th>epoch</th>\n",
              "      <th>train_loss</th>\n",
              "      <th>valid_loss</th>\n",
              "      <th>accuracy</th>\n",
              "      <th>time</th>\n",
              "    </tr>\n",
              "  </thead>\n",
              "  <tbody>\n",
              "    <tr>\n",
              "      <td>0</td>\n",
              "      <td>0.382143</td>\n",
              "      <td>0.354433</td>\n",
              "      <td>0.841817</td>\n",
              "      <td>00:03</td>\n",
              "    </tr>\n",
              "  </tbody>\n",
              "</table>"
            ],
            "text/plain": [
              "<IPython.core.display.HTML object>"
            ]
          },
          "metadata": {
            "tags": []
          }
        }
      ]
    },
    {
      "cell_type": "code",
      "metadata": {
        "colab": {
          "base_uri": "https://localhost:8080/"
        },
        "id": "KSV1x7Ibjd7V",
        "outputId": "4d65a176-a142-4207-8cc5-eac7533dc6b4"
      },
      "source": [
        "dls.xs.shape"
      ],
      "execution_count": 29,
      "outputs": [
        {
          "output_type": "execute_result",
          "data": {
            "text/plain": [
              "(18234, 11)"
            ]
          },
          "metadata": {
            "tags": []
          },
          "execution_count": 29
        }
      ]
    },
    {
      "cell_type": "code",
      "metadata": {
        "id": "GfmDRFoCh_zu"
      },
      "source": [
        "title_mapping = {0: 1, 1: 0}\n",
        "for i in [df]:\n",
        "    i['income'] = i['income'].map(title_mapping)"
      ],
      "execution_count": 38,
      "outputs": []
    },
    {
      "cell_type": "code",
      "metadata": {
        "id": "GLhVWdqGjfPr"
      },
      "source": [
        "X_tst = df[18234:].copy()\n",
        "y_tst = X_tst[\"income\"]\n",
        "X_tst.drop([\"income\"], axis=1, inplace=True)"
      ],
      "execution_count": 39,
      "outputs": []
    },
    {
      "cell_type": "code",
      "metadata": {
        "colab": {
          "base_uri": "https://localhost:8080/",
          "height": 17
        },
        "id": "JribKs9UjgU4",
        "outputId": "2a390bd0-8812-423b-b6e4-ecda94a44170"
      },
      "source": [
        "dl = learn.dls.test_dl(X_tst)\n",
        "preds = learn.get_preds(dl=dl)"
      ],
      "execution_count": 40,
      "outputs": [
        {
          "output_type": "display_data",
          "data": {
            "text/html": [
              ""
            ],
            "text/plain": [
              "<IPython.core.display.HTML object>"
            ]
          },
          "metadata": {
            "tags": []
          }
        }
      ]
    },
    {
      "cell_type": "code",
      "metadata": {
        "colab": {
          "base_uri": "https://localhost:8080/"
        },
        "id": "jtIX6Lv6lgSc",
        "outputId": "67fd7708-37dc-4c82-9ad9-2a46aa1cb2ed"
      },
      "source": [
        "type(X_tst)"
      ],
      "execution_count": 41,
      "outputs": [
        {
          "output_type": "execute_result",
          "data": {
            "text/plain": [
              "pandas.core.frame.DataFrame"
            ]
          },
          "metadata": {
            "tags": []
          },
          "execution_count": 41
        }
      ]
    },
    {
      "cell_type": "code",
      "metadata": {
        "colab": {
          "base_uri": "https://localhost:8080/"
        },
        "id": "TXuGBETEjhT-",
        "outputId": "bb867e9d-c077-4dca-a3a4-2ed95c090caf"
      },
      "source": [
        "preds[0]"
      ],
      "execution_count": 42,
      "outputs": [
        {
          "output_type": "execute_result",
          "data": {
            "text/plain": [
              "tensor([[0.8241, 0.1759],\n",
              "        [0.8625, 0.1375],\n",
              "        [0.8824, 0.1176],\n",
              "        ...,\n",
              "        [0.9169, 0.0831],\n",
              "        [0.2245, 0.7755],\n",
              "        [0.7166, 0.2834]])"
            ]
          },
          "metadata": {
            "tags": []
          },
          "execution_count": 42
        }
      ]
    },
    {
      "cell_type": "code",
      "metadata": {
        "colab": {
          "base_uri": "https://localhost:8080/"
        },
        "id": "18BdiIYcp59J",
        "outputId": "fb3ac15d-23fa-4c66-fe82-29fa6a024961"
      },
      "source": [
        "preds[0][:,1].numpy()"
      ],
      "execution_count": 43,
      "outputs": [
        {
          "output_type": "execute_result",
          "data": {
            "text/plain": [
              "array([0.1758707 , 0.13750023, 0.11764041, ..., 0.08308791, 0.775527  ,\n",
              "       0.28343463], dtype=float32)"
            ]
          },
          "metadata": {
            "tags": []
          },
          "execution_count": 43
        }
      ]
    },
    {
      "cell_type": "code",
      "metadata": {
        "colab": {
          "base_uri": "https://localhost:8080/"
        },
        "id": "sA0SHb8qp7IS",
        "outputId": "104ccac1-ad7c-4408-d5fd-15db332609fa"
      },
      "source": [
        "preds = (preds[0].numpy()[:, 1] >= 0.5).astype('int')\n",
        "preds"
      ],
      "execution_count": 44,
      "outputs": [
        {
          "output_type": "execute_result",
          "data": {
            "text/plain": [
              "array([0, 0, 0, ..., 0, 1, 0])"
            ]
          },
          "metadata": {
            "tags": []
          },
          "execution_count": 44
        }
      ]
    },
    {
      "cell_type": "markdown",
      "metadata": {
        "id": "FSA1NIBa0qI6"
      },
      "source": [
        "## Step 3. 선형 분류모델 구현하기"
      ]
    },
    {
      "cell_type": "markdown",
      "metadata": {
        "id": "14kriJ_j0qI6"
      },
      "source": [
        "### 문제 10. 원 데이터를 이용하여 Logistic Regression 모델 돌려보기"
      ]
    },
    {
      "cell_type": "code",
      "metadata": {
        "id": "RVP2tN1U0qI7",
        "colab": {
          "base_uri": "https://localhost:8080/"
        },
        "outputId": "89e9dcf8-3463-4773-f28f-c338828bcac0"
      },
      "source": [
        "# Feature scaling 전 원본 데이터\n",
        "from sklearn.linear_model import LogisticRegression\n",
        "from sklearn.metrics import accuracy_score\n",
        "\n",
        "logreg =  LogisticRegression()\n",
        "logreg.fit(X_train, y_train)"
      ],
      "execution_count": null,
      "outputs": [
        {
          "output_type": "execute_result",
          "data": {
            "text/plain": [
              "LogisticRegression(C=1.0, class_weight=None, dual=False, fit_intercept=True,\n",
              "                   intercept_scaling=1, l1_ratio=None, max_iter=100,\n",
              "                   multi_class='auto', n_jobs=None, penalty='l2',\n",
              "                   random_state=None, solver='lbfgs', tol=0.0001, verbose=0,\n",
              "                   warm_start=False)"
            ]
          },
          "metadata": {
            "tags": []
          },
          "execution_count": 35
        }
      ]
    },
    {
      "cell_type": "markdown",
      "metadata": {
        "id": "fIH9m2RF0qI7"
      },
      "source": [
        "### 문제 11. 원 데이터를 이용한 Logistic Regression 모델의 정확도 확인하기"
      ]
    },
    {
      "cell_type": "code",
      "metadata": {
        "scrolled": false,
        "id": "teFIrxQA0qI8",
        "colab": {
          "base_uri": "https://localhost:8080/"
        },
        "outputId": "65bb055d-b1da-4510-8147-05d25245efb7"
      },
      "source": [
        "y_pred =  logreg.predict(X_test)\n",
        "# logreg_score =  accuracy_score(y_test, y_pred)\n",
        "print('Logistic Regression accuracy score: {0:0.4f}'. format(accuracy_score(y_test, y_pred)))"
      ],
      "execution_count": null,
      "outputs": [
        {
          "output_type": "stream",
          "text": [
            "Logistic Regression accuracy score: 0.8057\n"
          ],
          "name": "stdout"
        }
      ]
    },
    {
      "cell_type": "markdown",
      "metadata": {
        "id": "-BDOntMa0qI8"
      },
      "source": [
        "### 문제 12. 스케일 조정된 데이터를 이용하여 Logistic Regression 모델 돌려보기"
      ]
    },
    {
      "cell_type": "code",
      "metadata": {
        "id": "3M9JMiNZ0qI8",
        "colab": {
          "base_uri": "https://localhost:8080/"
        },
        "outputId": "3e804fa0-715e-493c-d4d4-d5154660a768"
      },
      "source": [
        "# Feature scaling 후 변환 데이터\n",
        "from sklearn.linear_model import LogisticRegression\n",
        "from sklearn.metrics import accuracy_score\n",
        "\n",
        "logreg = LogisticRegression()\n",
        "logreg.fit(X_train_scaled, y_train) ##"
      ],
      "execution_count": null,
      "outputs": [
        {
          "output_type": "execute_result",
          "data": {
            "text/plain": [
              "LogisticRegression(C=1.0, class_weight=None, dual=False, fit_intercept=True,\n",
              "                   intercept_scaling=1, l1_ratio=None, max_iter=100,\n",
              "                   multi_class='auto', n_jobs=None, penalty='l2',\n",
              "                   random_state=None, solver='lbfgs', tol=0.0001, verbose=0,\n",
              "                   warm_start=False)"
            ]
          },
          "metadata": {
            "tags": []
          },
          "execution_count": 37
        }
      ]
    },
    {
      "cell_type": "markdown",
      "metadata": {
        "id": "UAq9n7nT0qI9"
      },
      "source": [
        "### 문제 13. 스케일 조정된 데이터를 이용한 Logistic Regression 모델의 정확도 확인하기"
      ]
    },
    {
      "cell_type": "code",
      "metadata": {
        "id": "8SdbnV-X0qI9",
        "colab": {
          "base_uri": "https://localhost:8080/"
        },
        "outputId": "aa1b123f-e8c6-4e7a-dafe-ce8c3427326f"
      },
      "source": [
        "y_pred = logreg.predict(X_test_scaled)  ##\n",
        "logreg_score =  accuracy_score(y_test, y_pred)\n",
        "print('Logistic Regression (scaled data) accuracy score: {0:0.4f}'. format(logreg_score))"
      ],
      "execution_count": null,
      "outputs": [
        {
          "output_type": "stream",
          "text": [
            "Logistic Regression (scaled data) accuracy score: 0.8222\n"
          ],
          "name": "stdout"
        }
      ]
    },
    {
      "cell_type": "code",
      "metadata": {
        "id": "eEk_lddA0qI9",
        "colab": {
          "base_uri": "https://localhost:8080/"
        },
        "outputId": "2ecd6f31-ab2b-4c41-91c0-16b1c3f11c27"
      },
      "source": [
        "# 예측된 값 확인하기\n",
        "y_pred"
      ],
      "execution_count": null,
      "outputs": [
        {
          "output_type": "execute_result",
          "data": {
            "text/plain": [
              "array(['<=50K', '<=50K', '<=50K', ..., '<=50K', '<=50K', '<=50K'],\n",
              "      dtype=object)"
            ]
          },
          "metadata": {
            "tags": []
          },
          "execution_count": 41
        }
      ]
    },
    {
      "cell_type": "markdown",
      "metadata": {
        "id": "kM1OCfGh0qI-"
      },
      "source": [
        "### 문제 14. 스케일 조정된 데이터를 이용한 Logistic Regression 모델 분류결과 확인하기"
      ]
    },
    {
      "cell_type": "code",
      "metadata": {
        "id": "Kps7NXB8NNBQ",
        "colab": {
          "base_uri": "https://localhost:8080/"
        },
        "outputId": "7094a151-da8b-4d21-bcf0-2e20d0ee9158"
      },
      "source": [
        "from sklearn.metrics import classification_report\n",
        "\n",
        "cm_logreg =  classification_report(y_test, y_pred) \n",
        "print(cm_logreg)"
      ],
      "execution_count": null,
      "outputs": [
        {
          "output_type": "stream",
          "text": [
            "              precision    recall  f1-score   support\n",
            "\n",
            "       <=50K       0.84      0.94      0.89      7410\n",
            "        >50K       0.71      0.44      0.55      2359\n",
            "\n",
            "    accuracy                           0.82      9769\n",
            "   macro avg       0.78      0.69      0.72      9769\n",
            "weighted avg       0.81      0.82      0.81      9769\n",
            "\n"
          ],
          "name": "stdout"
        }
      ]
    },
    {
      "cell_type": "markdown",
      "metadata": {
        "id": "qYvmTGFh0qJA"
      },
      "source": [
        "## Step 4. 트리기반 분류모델의 구현"
      ]
    },
    {
      "cell_type": "markdown",
      "metadata": {
        "id": "INCXInIe0qJA"
      },
      "source": [
        "### 문제 15. Random Forest 모델 구현하고 정확도 확인하기"
      ]
    },
    {
      "cell_type": "code",
      "metadata": {
        "id": "kYjynAEf0qJB",
        "colab": {
          "base_uri": "https://localhost:8080/"
        },
        "outputId": "1bbde589-0532-4a8f-fb38-3a3da2249d6e"
      },
      "source": [
        "from sklearn.ensemble import RandomForestClassifier\n",
        "from sklearn.metrics import accuracy_score\n",
        "\n",
        "rfc = RandomForestClassifier()\n",
        "rfc.fit(X_train, y_train)"
      ],
      "execution_count": null,
      "outputs": [
        {
          "output_type": "execute_result",
          "data": {
            "text/plain": [
              "RandomForestClassifier(bootstrap=True, ccp_alpha=0.0, class_weight=None,\n",
              "                       criterion='gini', max_depth=None, max_features='auto',\n",
              "                       max_leaf_nodes=None, max_samples=None,\n",
              "                       min_impurity_decrease=0.0, min_impurity_split=None,\n",
              "                       min_samples_leaf=1, min_samples_split=2,\n",
              "                       min_weight_fraction_leaf=0.0, n_estimators=100,\n",
              "                       n_jobs=None, oob_score=False, random_state=None,\n",
              "                       verbose=0, warm_start=False)"
            ]
          },
          "metadata": {
            "tags": []
          },
          "execution_count": 43
        }
      ]
    },
    {
      "cell_type": "code",
      "metadata": {
        "id": "GMNtrF58rilL"
      },
      "source": [
        "criterion='gini' # The function to measure the quality of a split. Supported criteria are “gini” for the Gini impurity and “entropy” for the information gain (정보 이득)\n",
        "n_estimators=100 # The number of trees in the forest."
      ],
      "execution_count": null,
      "outputs": []
    },
    {
      "cell_type": "code",
      "metadata": {
        "id": "pp7fM5KvUGHE"
      },
      "source": [
        "y_pred = rfc.predict(X_test) \n",
        "rfc_score =  accuracy_score(y_test, y_pred)\n",
        "print('Random Forest Model accuracy score : {0:0.4f}'. format(rfc_score ))"
      ],
      "execution_count": null,
      "outputs": []
    },
    {
      "cell_type": "markdown",
      "metadata": {
        "id": "JOCX25p30qJC"
      },
      "source": [
        "### 문제 16. Random Forest 모델의 Confusion Matrix 확인하기"
      ]
    },
    {
      "cell_type": "code",
      "metadata": {
        "id": "2ggui1ZS0qJC"
      },
      "source": [
        "from sklearn.metrics import confusion_matrix\n",
        "\n",
        "cm =  confusion_matrix(y_test, y_pred)\n",
        "print('Confusion Matrix for Binary Labels \\n')\n",
        "# print('Confusion Matrix for Binary Labels\\n')\n",
        "# print('Actual class')\n",
        "# print('Predicted', '[[True Positive', 'False Positive]')\n",
        "# print('         ', '[False Negative', 'True Negative]]')\n",
        "print(cm)"
      ],
      "execution_count": null,
      "outputs": []
    },
    {
      "cell_type": "code",
      "metadata": {
        "id": "VN0cQYJNSTT1"
      },
      "source": [
        "# Confusion Matrix에서 Recall과 Precision 계산하기\n",
        "\n",
        "print('\\nRecall for Class [<=50K] = ', cm[0,0], '/' , cm[0,0] + cm[0,1])\n",
        "print('\\nPrecision for Class [<=50K] = ', cm[0,0], '/' , cm[0,0] + cm[1,0])\n",
        "print('\\nRecall for Class [>50K] = ', cm[1,1], '/' , cm[1,0] + cm[1,1])\n",
        "print('\\nPrecision for Class [>50K] = ', cm[1,1], '/' , cm[0,1] + cm[1,1])"
      ],
      "execution_count": null,
      "outputs": []
    },
    {
      "cell_type": "markdown",
      "metadata": {
        "id": "xP8V60Jy0qJD"
      },
      "source": [
        "### 문제 17. Random Forest 모델의 분류결과 확인하기"
      ]
    },
    {
      "cell_type": "code",
      "metadata": {
        "id": "hRpfFDxH0qJD"
      },
      "source": [
        "from sklearn.metrics import classification_report\n",
        "\n",
        "cm_rfc =  classification_report(y_test, y_pred)\n",
        "print(cm_rfc)"
      ],
      "execution_count": null,
      "outputs": []
    },
    {
      "cell_type": "markdown",
      "metadata": {
        "id": "ko2A7KZX0qJE"
      },
      "source": [
        "## Step 5. 부스팅 기반 분류모델의 구현"
      ]
    },
    {
      "cell_type": "markdown",
      "metadata": {
        "id": "7_5l_T2-0qJE"
      },
      "source": [
        "### 부스팅(Boosting) 모델 개요\n",
        "\n",
        "\n",
        "- 부스팅은 여러 트리의 적합 결과를 합하는 앙상블 알고리즘의 하나로, 이 때 sequential의 개념이 추가되어 있습니다. 즉 연속적인 weak learner, 바로 직전 weak learner의 error를 반영한 현재 weak learner를 잡겠다는 것입니다. 이 아이디어는 Gradient Boosting Model(GBM)에서 loss를 계속 줄이는 방향으로 weak learner를 잡는다는 개념으로 확장됩니다.\n",
        "\n",
        "![boost](https://pluralsight2.imgix.net/guides/81232a78-2e99-4ccc-ba8e-8cd873625fdf_2.jpg)\n",
        "\n",
        "\n",
        "- 부스팅 계열 모델은 AdaBoost, Gradient Boosting Model(GBM), XGBoost, LightGBM 등이 있습니다.\n",
        "\n",
        "\n",
        "- 더 자세한 내용은 다음 Step에서 살펴보겠습니다."
      ]
    },
    {
      "cell_type": "markdown",
      "metadata": {
        "id": "wknluIW_0qJE"
      },
      "source": [
        "### 문제 18. Gradient Boosting 모델 구현하고 정확도 확인하기"
      ]
    },
    {
      "cell_type": "code",
      "metadata": {
        "id": "pMTxsWga0qJF"
      },
      "source": [
        "from sklearn.ensemble import GradientBoostingClassifier\n",
        "gbc =  GradientBoostingClassifier(random_state=0)\n",
        "gbc.fit(X_train, y_train)"
      ],
      "execution_count": null,
      "outputs": []
    },
    {
      "cell_type": "code",
      "metadata": {
        "id": "-N83M3pS0qJF"
      },
      "source": [
        "y_pred =  gbc.predict(X_test)\n",
        "gbc_score =  accuracy_score(y_test, y_pred)\n",
        "print('Gradient Boosting accuracy score : {0:0.4f}'.format(gbc_score))"
      ],
      "execution_count": null,
      "outputs": []
    },
    {
      "cell_type": "markdown",
      "metadata": {
        "id": "qASAE5ow0qJG"
      },
      "source": [
        "### 문제 19. Gradient Boosting 모델의 분류결과 확인하기"
      ]
    },
    {
      "cell_type": "code",
      "metadata": {
        "id": "PdVYH6PV0qJG"
      },
      "source": [
        "from sklearn.metrics import classification_report\n",
        "\n",
        "cm_gbc =  classification_report(y_test, y_pred)\n",
        "print(cm_gbc)"
      ],
      "execution_count": null,
      "outputs": []
    },
    {
      "cell_type": "markdown",
      "metadata": {
        "id": "6XZkWQ2E0qJG"
      },
      "source": [
        "### 문제 20. Light GBM 구현하고 정확도 확인하기"
      ]
    },
    {
      "cell_type": "code",
      "metadata": {
        "id": "98ysXEDn0qJH"
      },
      "source": [
        "from lightgbm import LGBMClassifier\n",
        "from sklearn.metrics import accuracy_score\n",
        "\n",
        "lgbm =  LGBMClassifier(random_state=0)\n",
        "lgbm.fit(X_train, y_train)\n",
        "y_pred =  lgbm.predict(X_test)\n",
        "\n",
        "lgbm_score =  accuracy_score(y_test, y_pred)\n",
        "print('LGBM Model accuracy score : {0:0.4f}'.format(lgbm_score))"
      ],
      "execution_count": null,
      "outputs": []
    },
    {
      "cell_type": "markdown",
      "metadata": {
        "id": "w3YwlN_x0qJH"
      },
      "source": [
        "### 문제 21. Light GBM 분류결과 확인하기"
      ]
    },
    {
      "cell_type": "code",
      "metadata": {
        "id": "YVOvJmXR0qJI"
      },
      "source": [
        "from sklearn.metrics import classification_report\n",
        "\n",
        "cm_lgbm =  classification_report(y_test, y_pred)\n",
        "print(cm_lgbm)"
      ],
      "execution_count": null,
      "outputs": []
    },
    {
      "cell_type": "markdown",
      "metadata": {
        "id": "xUz80L2m0qJI"
      },
      "source": [
        "### 문제 22. 요약: 소득 이진분류 예측모델의 정확도 비교하기"
      ]
    },
    {
      "cell_type": "code",
      "metadata": {
        "scrolled": false,
        "id": "qp15ChOf0qJJ"
      },
      "source": [
        "print ('Accuracy Comparisons for Binary Models\\n')\n",
        "print ('logreg_score:', '{0:0.5f}'.format(logreg_score))\n",
        "print ('rfc_score   :', '{0:0.5f}'.format(rfc_score))\n",
        "print ('gbc_score   :', '{0:0.5f}'.format(gbc_score ))\n",
        "print ('lgbm_score  :', '{0:0.5f}'.format(lgbm_score))"
      ],
      "execution_count": null,
      "outputs": []
    },
    {
      "cell_type": "markdown",
      "metadata": {
        "id": "eH-hSAhm0qJK"
      },
      "source": [
        "### 문제 23. 최종 이진분류 모델 비교하기"
      ]
    },
    {
      "cell_type": "code",
      "metadata": {
        "id": "-iyv_2bN0qJJ"
      },
      "source": [
        "print ('Classification Comparions for Binary Models\\n')\n",
        "print ('logreg_score:', '{0:0.4f}'.format(logreg_score))\n",
        "print (cm_logreg)\n",
        "print ('rfc_score   :', '{0:0.4f}'.format(rfc_score))\n",
        "print (cm_rfc)\n",
        "print ('gbc_score   :', '{0:0.4f}'.format(gbc_score ))\n",
        "print (cm_gbc)\n",
        "print ('lgbm_score  :', '{0:0.4f}'.format(lgbm_score))\n",
        "print (cm_lgbm)"
      ],
      "execution_count": null,
      "outputs": []
    },
    {
      "cell_type": "markdown",
      "metadata": {
        "id": "0ZqKPu0w0qJK"
      },
      "source": [
        "## Step 6. 다중분류 모델의 구현"
      ]
    },
    {
      "cell_type": "markdown",
      "metadata": {
        "id": "29v0TEKA0qJL"
      },
      "source": [
        "### 데이터 소개"
      ]
    },
    {
      "cell_type": "markdown",
      "metadata": {
        "id": "iKzs8_rX0qJL"
      },
      "source": [
        "- 두번째로 쓸 데이터는 앞에서 사용한 US Adult 데이터에 모의로 생성한 금융 변수를 수정(+)·추가(++)한 것이며, 컬럼은 다음과 같습니다. \n",
        "\n",
        "income_ext.csv\n",
        "- `age` : 나이\n",
        "- `workclass`: 직업구분\n",
        "- `education`: 교육수준\n",
        "- `education.num`: 교육수준(numerically coded)\n",
        "- `marital.status`: 혼인상태\n",
        "- `occupation` : 직업\n",
        "- `relationship`: 가족관계\n",
        "- `sex`: 성별\n",
        "- `capital.gain`: 자본이득\n",
        "- `capital.loss`: 자본손실\n",
        "- `hours.per.week`: 주당 근로시간\n",
        "- `spending.groc`: 식료품 소비 금액(continuous) ++\n",
        "- `spending.med`: 병의원 소비 금액(continuous) ++\n",
        "- `spending.trav`: 여행 레저 소비 금액(continuous) ++\n",
        "- `income` : 소득 이진구분( <=50K: 0, >50K: 1 ) +\n",
        "- `income.num` : 소득금액(continuous) ++"
      ]
    },
    {
      "cell_type": "markdown",
      "metadata": {
        "id": "VxV2sxIb0qJM"
      },
      "source": [
        "### 문제 24. 데이터 불러오기"
      ]
    },
    {
      "cell_type": "code",
      "metadata": {
        "scrolled": false,
        "id": "VWtskFBh0qJM",
        "colab": {
          "base_uri": "https://localhost:8080/"
        },
        "outputId": "05d18800-9f91-4caf-a30d-f03ef11f47ca"
      },
      "source": [
        "data =  pd.read_csv(datapath + 'income_ext.csv')\n",
        "print(data.shape)\n",
        "print(data.columns)"
      ],
      "execution_count": null,
      "outputs": [
        {
          "output_type": "stream",
          "text": [
            "(32561, 19)\n",
            "Index(['age', 'workclass', 'education', 'education.num', 'marital.status',\n",
            "       'occupation', 'relationship', 'sex', 'capital.gain', 'capital.loss',\n",
            "       'hours.per.week', 'spend.groc', 'spend.med', 'spend.trav', 'asset',\n",
            "       'balance', 'native.country', 'income', 'income.num'],\n",
            "      dtype='object')\n"
          ],
          "name": "stdout"
        }
      ]
    },
    {
      "cell_type": "code",
      "metadata": {
        "scrolled": true,
        "id": "EcpgEbXb0qJQ",
        "colab": {
          "base_uri": "https://localhost:8080/",
          "height": 272
        },
        "outputId": "4f1654dd-ffe3-46aa-b752-33af6ed83489"
      },
      "source": [
        "data.head()"
      ],
      "execution_count": null,
      "outputs": [
        {
          "output_type": "execute_result",
          "data": {
            "text/html": [
              "<div>\n",
              "<style scoped>\n",
              "    .dataframe tbody tr th:only-of-type {\n",
              "        vertical-align: middle;\n",
              "    }\n",
              "\n",
              "    .dataframe tbody tr th {\n",
              "        vertical-align: top;\n",
              "    }\n",
              "\n",
              "    .dataframe thead th {\n",
              "        text-align: right;\n",
              "    }\n",
              "</style>\n",
              "<table border=\"1\" class=\"dataframe\">\n",
              "  <thead>\n",
              "    <tr style=\"text-align: right;\">\n",
              "      <th></th>\n",
              "      <th>age</th>\n",
              "      <th>workclass</th>\n",
              "      <th>education</th>\n",
              "      <th>education.num</th>\n",
              "      <th>marital.status</th>\n",
              "      <th>occupation</th>\n",
              "      <th>relationship</th>\n",
              "      <th>sex</th>\n",
              "      <th>capital.gain</th>\n",
              "      <th>capital.loss</th>\n",
              "      <th>hours.per.week</th>\n",
              "      <th>spend.groc</th>\n",
              "      <th>spend.med</th>\n",
              "      <th>spend.trav</th>\n",
              "      <th>asset</th>\n",
              "      <th>balance</th>\n",
              "      <th>native.country</th>\n",
              "      <th>income</th>\n",
              "      <th>income.num</th>\n",
              "    </tr>\n",
              "  </thead>\n",
              "  <tbody>\n",
              "    <tr>\n",
              "      <th>0</th>\n",
              "      <td>90</td>\n",
              "      <td>?</td>\n",
              "      <td>HS-grad</td>\n",
              "      <td>9</td>\n",
              "      <td>Widowed</td>\n",
              "      <td>?</td>\n",
              "      <td>Not-in-family</td>\n",
              "      <td>Female</td>\n",
              "      <td>0</td>\n",
              "      <td>4356</td>\n",
              "      <td>40</td>\n",
              "      <td>77053</td>\n",
              "      <td>13687</td>\n",
              "      <td>3478</td>\n",
              "      <td>345498</td>\n",
              "      <td>-36</td>\n",
              "      <td>United-States</td>\n",
              "      <td>0</td>\n",
              "      <td>43713</td>\n",
              "    </tr>\n",
              "    <tr>\n",
              "      <th>1</th>\n",
              "      <td>82</td>\n",
              "      <td>Private</td>\n",
              "      <td>HS-grad</td>\n",
              "      <td>9</td>\n",
              "      <td>Widowed</td>\n",
              "      <td>Exec-managerial</td>\n",
              "      <td>Not-in-family</td>\n",
              "      <td>Female</td>\n",
              "      <td>0</td>\n",
              "      <td>4356</td>\n",
              "      <td>18</td>\n",
              "      <td>132870</td>\n",
              "      <td>27294</td>\n",
              "      <td>27567</td>\n",
              "      <td>242642</td>\n",
              "      <td>57638</td>\n",
              "      <td>United-States</td>\n",
              "      <td>0</td>\n",
              "      <td>33113</td>\n",
              "    </tr>\n",
              "    <tr>\n",
              "      <th>2</th>\n",
              "      <td>66</td>\n",
              "      <td>?</td>\n",
              "      <td>Some-college</td>\n",
              "      <td>10</td>\n",
              "      <td>Widowed</td>\n",
              "      <td>?</td>\n",
              "      <td>Unmarried</td>\n",
              "      <td>Female</td>\n",
              "      <td>0</td>\n",
              "      <td>4356</td>\n",
              "      <td>40</td>\n",
              "      <td>186061</td>\n",
              "      <td>32029</td>\n",
              "      <td>24506</td>\n",
              "      <td>578403</td>\n",
              "      <td>46028</td>\n",
              "      <td>United-States</td>\n",
              "      <td>0</td>\n",
              "      <td>31652</td>\n",
              "    </tr>\n",
              "    <tr>\n",
              "      <th>3</th>\n",
              "      <td>54</td>\n",
              "      <td>Private</td>\n",
              "      <td>7th-8th</td>\n",
              "      <td>4</td>\n",
              "      <td>Divorced</td>\n",
              "      <td>Machine-op-inspct</td>\n",
              "      <td>Unmarried</td>\n",
              "      <td>Female</td>\n",
              "      <td>0</td>\n",
              "      <td>3900</td>\n",
              "      <td>40</td>\n",
              "      <td>140359</td>\n",
              "      <td>22449</td>\n",
              "      <td>23655</td>\n",
              "      <td>229303</td>\n",
              "      <td>7899</td>\n",
              "      <td>United-States</td>\n",
              "      <td>0</td>\n",
              "      <td>55087</td>\n",
              "    </tr>\n",
              "    <tr>\n",
              "      <th>4</th>\n",
              "      <td>41</td>\n",
              "      <td>Private</td>\n",
              "      <td>Some-college</td>\n",
              "      <td>10</td>\n",
              "      <td>Separated</td>\n",
              "      <td>Prof-specialty</td>\n",
              "      <td>Own-child</td>\n",
              "      <td>Female</td>\n",
              "      <td>0</td>\n",
              "      <td>3900</td>\n",
              "      <td>40</td>\n",
              "      <td>264663</td>\n",
              "      <td>40863</td>\n",
              "      <td>71439</td>\n",
              "      <td>672614</td>\n",
              "      <td>57675</td>\n",
              "      <td>United-States</td>\n",
              "      <td>0</td>\n",
              "      <td>85583</td>\n",
              "    </tr>\n",
              "  </tbody>\n",
              "</table>\n",
              "</div>"
            ],
            "text/plain": [
              "   age workclass     education  ...  native.country income income.num\n",
              "0   90         ?       HS-grad  ...   United-States      0      43713\n",
              "1   82   Private       HS-grad  ...   United-States      0      33113\n",
              "2   66         ?  Some-college  ...   United-States      0      31652\n",
              "3   54   Private       7th-8th  ...   United-States      0      55087\n",
              "4   41   Private  Some-college  ...   United-States      0      85583\n",
              "\n",
              "[5 rows x 19 columns]"
            ]
          },
          "metadata": {
            "tags": []
          },
          "execution_count": 58
        }
      ]
    },
    {
      "cell_type": "code",
      "metadata": {
        "colab": {
          "base_uri": "https://localhost:8080/"
        },
        "id": "735z7aKc1Fjn",
        "outputId": "b922baf4-6a19-4037-b6d9-e23a81a4bd22"
      },
      "source": [
        "data['income'].value_counts()"
      ],
      "execution_count": null,
      "outputs": [
        {
          "output_type": "execute_result",
          "data": {
            "text/plain": [
              "0    24720\n",
              "1     7841\n",
              "Name: income, dtype: int64"
            ]
          },
          "metadata": {
            "tags": []
          },
          "execution_count": 59
        }
      ]
    },
    {
      "cell_type": "markdown",
      "metadata": {
        "id": "L0Vvw8kR0qJR"
      },
      "source": [
        "### Light GBM 개요\n",
        "\n",
        "\n",
        "- Decision Tree의 앙상블 모델인 Gradient Boosting Decision Tree (GBDT)는 실무에서 XGboost(eXtreme Gradient Boosting) 등으로도 알려져 있습니다. 각각의 반복에서 GBDT는 음의 기울기(Residual Error)를 적합함으로써 Decision Tree를 학습시키게 됩니다. \n",
        "\n",
        "\n",
        "- 그러나 고차원 대용량 데이터에서는 너무 많은 시간의 소모가 발생하였는데, 왜냐하면 모든 가능한 분할점에 대해 정보 획득(information gain)을 평가하기 위해 데이터 전부를 스캔해야 했기 때문입니다. \n",
        "\n",
        "\n",
        "- Light GBM은 이러한 Gradient Boosting 모델의 단점을 극복하기 위해 샘플링 등의 기법을 이용하여 <b>스캔하는 데이터 양을 줄임으로써</b> 분석 시간을 획기적으로 단축시킨 방법론입니다.\n",
        "\n",
        "\n",
        "- LGBM은 <b>범주변수가 많은 정형 데이터</b>와 <b>다중분류</b>에 유용한 알고리즘으로, 간단한 원리를 알아두시면 도움이 될 것입니다.\n",
        "\n",
        "\n",
        "- 참고링크: Light GBM: A Highly Efficient Gradient Boosting Decision Tree (NIPS 2017)\n",
        "[https://papers.nips.cc/paper/2017/hash/6449f44a102fde848669bdd9eb6b76fa-Abstract.html ] "
      ]
    },
    {
      "cell_type": "code",
      "metadata": {
        "colab": {
          "base_uri": "https://localhost:8080/"
        },
        "id": "MbEjO2tJ25Mh",
        "outputId": "ed54b9be-6474-4124-9ab5-ba21e5edb977"
      },
      "source": [
        "data.shape"
      ],
      "execution_count": null,
      "outputs": [
        {
          "output_type": "execute_result",
          "data": {
            "text/plain": [
              "(32561, 19)"
            ]
          },
          "metadata": {
            "tags": []
          },
          "execution_count": 61
        }
      ]
    },
    {
      "cell_type": "code",
      "metadata": {
        "colab": {
          "base_uri": "https://localhost:8080/"
        },
        "id": "vjtSCIbe29I0",
        "outputId": "eae27cb3-4b67-4ec5-fd96-e6ac730f4435"
      },
      "source": [
        "32561*19"
      ],
      "execution_count": null,
      "outputs": [
        {
          "output_type": "execute_result",
          "data": {
            "text/plain": [
              "618659"
            ]
          },
          "metadata": {
            "tags": []
          },
          "execution_count": 62
        }
      ]
    },
    {
      "cell_type": "code",
      "metadata": {
        "id": "YylBkmMn1uAb"
      },
      "source": [
        "data size large == n ++ ==> graident-based one-side sampling \n",
        "feature high == p ++ ==> exclusive feature bundling ==> one-hot encoding --> sparsity (multi-categorical) \n",
        "\n",
        "n * p"
      ],
      "execution_count": null,
      "outputs": []
    },
    {
      "cell_type": "markdown",
      "metadata": {
        "id": "Auf1zbdS0qJS"
      },
      "source": [
        "### Light GBM 파라미터 설명\n",
        "\n",
        "- `objective` : 목적함수, regression, binary, multiclass 가능\n",
        "- `categorical_feature` : 범주변수임을 선언\n",
        "- `max_cat_group` : 범주형 변수가 많을 때 과적합을 방지하는 분기 포인트를 찾아서 카테고리 그룹을 max_cat_group 그룹으로 합치고 그룹 경계선에서 분기 포인트를 찾게 됨, 기본값은 64\n",
        "- `boosting`: 부스팅 방법, 기본값은 gbdt(gradient boosting decision tree)이며 샘플링을 이용하는 goss(Gradient-based One-Side Sampling), 딥러닝의 드롭아웃과 같은 dart (Dropouts meet Multiple Additive Regression Trees), rf (Random Forest) 등의 기법 선택 가능\n",
        "- `learning_rate` : 학습율, 각 예측기마다 얼마나 가중치를 주어 학습하게 할것인지 결정\n",
        "- `early_stopping_round` : 더 이상 validation 데이터에서 성능 향상이 없으면 멈추게끔 하는 단위 \n",
        "- `metric`: loss 측정 기준, binary_logloss, multi_logloss, mae, rmse, auc, cross_entropy 등이 있다"
      ]
    },
    {
      "cell_type": "markdown",
      "metadata": {
        "id": "volsCtv60qJS"
      },
      "source": [
        "### 문제 25. 데이터 확인하기"
      ]
    },
    {
      "cell_type": "code",
      "metadata": {
        "id": "j_WHRhWl0qJT"
      },
      "source": [
        "# Create raw dataset for input\n",
        "X = data.drop(['education', 'income', 'income.num'], axis=1)   # Drop columns\n",
        "y = data['income.num']  # Choose column"
      ],
      "execution_count": null,
      "outputs": []
    },
    {
      "cell_type": "code",
      "metadata": {
        "id": "CsnYHZHW0qJT",
        "colab": {
          "base_uri": "https://localhost:8080/",
          "height": 204
        },
        "outputId": "3b3a826c-df20-4fda-990d-6e56d8042edd"
      },
      "source": [
        "# X raw 데이터 확인하기\n",
        "\n",
        "X.head()"
      ],
      "execution_count": null,
      "outputs": [
        {
          "output_type": "execute_result",
          "data": {
            "text/html": [
              "<div>\n",
              "<style scoped>\n",
              "    .dataframe tbody tr th:only-of-type {\n",
              "        vertical-align: middle;\n",
              "    }\n",
              "\n",
              "    .dataframe tbody tr th {\n",
              "        vertical-align: top;\n",
              "    }\n",
              "\n",
              "    .dataframe thead th {\n",
              "        text-align: right;\n",
              "    }\n",
              "</style>\n",
              "<table border=\"1\" class=\"dataframe\">\n",
              "  <thead>\n",
              "    <tr style=\"text-align: right;\">\n",
              "      <th></th>\n",
              "      <th>age</th>\n",
              "      <th>workclass</th>\n",
              "      <th>education.num</th>\n",
              "      <th>marital.status</th>\n",
              "      <th>occupation</th>\n",
              "      <th>relationship</th>\n",
              "      <th>sex</th>\n",
              "      <th>capital.gain</th>\n",
              "      <th>capital.loss</th>\n",
              "      <th>hours.per.week</th>\n",
              "      <th>spend.groc</th>\n",
              "      <th>spend.med</th>\n",
              "      <th>spend.trav</th>\n",
              "      <th>asset</th>\n",
              "      <th>balance</th>\n",
              "      <th>native.country</th>\n",
              "    </tr>\n",
              "  </thead>\n",
              "  <tbody>\n",
              "    <tr>\n",
              "      <th>0</th>\n",
              "      <td>90</td>\n",
              "      <td>?</td>\n",
              "      <td>9</td>\n",
              "      <td>Widowed</td>\n",
              "      <td>?</td>\n",
              "      <td>Not-in-family</td>\n",
              "      <td>Female</td>\n",
              "      <td>0</td>\n",
              "      <td>4356</td>\n",
              "      <td>40</td>\n",
              "      <td>77053</td>\n",
              "      <td>13687</td>\n",
              "      <td>3478</td>\n",
              "      <td>345498</td>\n",
              "      <td>-36</td>\n",
              "      <td>United-States</td>\n",
              "    </tr>\n",
              "    <tr>\n",
              "      <th>1</th>\n",
              "      <td>82</td>\n",
              "      <td>Private</td>\n",
              "      <td>9</td>\n",
              "      <td>Widowed</td>\n",
              "      <td>Exec-managerial</td>\n",
              "      <td>Not-in-family</td>\n",
              "      <td>Female</td>\n",
              "      <td>0</td>\n",
              "      <td>4356</td>\n",
              "      <td>18</td>\n",
              "      <td>132870</td>\n",
              "      <td>27294</td>\n",
              "      <td>27567</td>\n",
              "      <td>242642</td>\n",
              "      <td>57638</td>\n",
              "      <td>United-States</td>\n",
              "    </tr>\n",
              "    <tr>\n",
              "      <th>2</th>\n",
              "      <td>66</td>\n",
              "      <td>?</td>\n",
              "      <td>10</td>\n",
              "      <td>Widowed</td>\n",
              "      <td>?</td>\n",
              "      <td>Unmarried</td>\n",
              "      <td>Female</td>\n",
              "      <td>0</td>\n",
              "      <td>4356</td>\n",
              "      <td>40</td>\n",
              "      <td>186061</td>\n",
              "      <td>32029</td>\n",
              "      <td>24506</td>\n",
              "      <td>578403</td>\n",
              "      <td>46028</td>\n",
              "      <td>United-States</td>\n",
              "    </tr>\n",
              "    <tr>\n",
              "      <th>3</th>\n",
              "      <td>54</td>\n",
              "      <td>Private</td>\n",
              "      <td>4</td>\n",
              "      <td>Divorced</td>\n",
              "      <td>Machine-op-inspct</td>\n",
              "      <td>Unmarried</td>\n",
              "      <td>Female</td>\n",
              "      <td>0</td>\n",
              "      <td>3900</td>\n",
              "      <td>40</td>\n",
              "      <td>140359</td>\n",
              "      <td>22449</td>\n",
              "      <td>23655</td>\n",
              "      <td>229303</td>\n",
              "      <td>7899</td>\n",
              "      <td>United-States</td>\n",
              "    </tr>\n",
              "    <tr>\n",
              "      <th>4</th>\n",
              "      <td>41</td>\n",
              "      <td>Private</td>\n",
              "      <td>10</td>\n",
              "      <td>Separated</td>\n",
              "      <td>Prof-specialty</td>\n",
              "      <td>Own-child</td>\n",
              "      <td>Female</td>\n",
              "      <td>0</td>\n",
              "      <td>3900</td>\n",
              "      <td>40</td>\n",
              "      <td>264663</td>\n",
              "      <td>40863</td>\n",
              "      <td>71439</td>\n",
              "      <td>672614</td>\n",
              "      <td>57675</td>\n",
              "      <td>United-States</td>\n",
              "    </tr>\n",
              "  </tbody>\n",
              "</table>\n",
              "</div>"
            ],
            "text/plain": [
              "   age workclass  education.num  ...   asset balance native.country\n",
              "0   90         ?              9  ...  345498     -36  United-States\n",
              "1   82   Private              9  ...  242642   57638  United-States\n",
              "2   66         ?             10  ...  578403   46028  United-States\n",
              "3   54   Private              4  ...  229303    7899  United-States\n",
              "4   41   Private             10  ...  672614   57675  United-States\n",
              "\n",
              "[5 rows x 16 columns]"
            ]
          },
          "metadata": {
            "tags": []
          },
          "execution_count": 65
        }
      ]
    },
    {
      "cell_type": "code",
      "metadata": {
        "id": "fe7e66xGQ8eH",
        "colab": {
          "base_uri": "https://localhost:8080/"
        },
        "outputId": "8aba1cef-9bd6-48f4-8e37-2886656d6b41"
      },
      "source": [
        "# y raw 데이터 확인하기\n",
        "\n",
        "y.head()"
      ],
      "execution_count": null,
      "outputs": [
        {
          "output_type": "execute_result",
          "data": {
            "text/plain": [
              "0    43713\n",
              "1    33113\n",
              "2    31652\n",
              "3    55087\n",
              "4    85583\n",
              "Name: income.num, dtype: int64"
            ]
          },
          "metadata": {
            "tags": []
          },
          "execution_count": 66
        }
      ]
    },
    {
      "cell_type": "markdown",
      "metadata": {
        "id": "DpIUSBE-0qJT"
      },
      "source": [
        "### 문제 26. 다중분류 클래스 생성하기"
      ]
    },
    {
      "cell_type": "code",
      "metadata": {
        "id": "uMxN8-_70qJU"
      },
      "source": [
        "def value_change(x):\n",
        "    if x <= 10000: return 0\n",
        "    if x >  10000 and x <= 20000 : return 1\n",
        "    if x >  20000 and x <= 30000 : return 2\n",
        "    if x >  30000 and x <= 40000 : return 3\n",
        "    if x >  40000 and x <= 50000 : return 4\n",
        "    if x >  50000 and x <= 60000 : return 5\n",
        "    if x >  60000 and x <= 70000 : return 6\n",
        "    if x >  70000 and x <= 80000 : return 7\n",
        "    if x >  80000 and x <= 90000 : return 8\n",
        "    if x >  90000 and x <= 100000 : return 9\n",
        "    return 10                          \n",
        "                                       ## Define function\n",
        "\n",
        "y = y.apply(lambda x: value_change(x))  ## Apply Lambda function"
      ],
      "execution_count": null,
      "outputs": []
    },
    {
      "cell_type": "code",
      "metadata": {
        "id": "Zj3FFhLx0qJU",
        "colab": {
          "base_uri": "https://localhost:8080/"
        },
        "outputId": "85fedf6c-bea1-482a-dd0c-56a6e79b1751"
      },
      "source": [
        "# 생성한 레이블 확인하기\n",
        "y.unique()"
      ],
      "execution_count": null,
      "outputs": [
        {
          "output_type": "execute_result",
          "data": {
            "text/plain": [
              "array([ 4,  3,  5,  8,  7,  9,  2,  6,  1,  0, 10])"
            ]
          },
          "metadata": {
            "tags": []
          },
          "execution_count": 68
        }
      ]
    },
    {
      "cell_type": "code",
      "metadata": {
        "colab": {
          "base_uri": "https://localhost:8080/"
        },
        "id": "BdDf9-0f6P5j",
        "outputId": "206607e5-b804-4266-a462-74ddddb2edb0"
      },
      "source": [
        "y.value_counts()"
      ],
      "execution_count": null,
      "outputs": [
        {
          "output_type": "execute_result",
          "data": {
            "text/plain": [
              "6     3318\n",
              "9     3310\n",
              "7     3276\n",
              "4     3273\n",
              "8     3257\n",
              "1     3250\n",
              "5     3246\n",
              "3     3233\n",
              "2     3180\n",
              "0     3176\n",
              "10      42\n",
              "Name: income.num, dtype: int64"
            ]
          },
          "metadata": {
            "tags": []
          },
          "execution_count": 69
        }
      ]
    },
    {
      "cell_type": "code",
      "metadata": {
        "colab": {
          "base_uri": "https://localhost:8080/",
          "height": 461
        },
        "id": "XH9w6_nx6YDJ",
        "outputId": "950abe32-fdee-4f8b-a20d-993fcd97dfd7"
      },
      "source": [
        "sns.set(font_scale=1.4)\n",
        "y.value_counts().plot(kind='bar', figsize=(7, 6), rot=0)\n",
        "plt.xlabel(\"Income Labels\", labelpad=14)\n",
        "plt.ylabel(\"Counts\", labelpad=14)\n",
        "plt.title(\"Counts of 11 Income Labels\\n\", y=1.02);"
      ],
      "execution_count": null,
      "outputs": [
        {
          "output_type": "display_data",
          "data": {
            "image/png": "[encoded data removed]",
            "text/plain": [
              "<Figure size 504x432 with 1 Axes>"
            ]
          },
          "metadata": {
            "tags": []
          }
        }
      ]
    },
    {
      "cell_type": "markdown",
      "metadata": {
        "id": "G3b9Oryc0qJX"
      },
      "source": [
        "### 문제 27. Feature Engineering"
      ]
    },
    {
      "cell_type": "code",
      "metadata": {
        "id": "pEBn48EU0qJX"
      },
      "source": [
        "from sklearn.model_selection import train_test_split\n",
        "\n",
        "x_train, x_test, y_train, y_test = train_test_split(X, y, test_size=0.3, random_state=0)"
      ],
      "execution_count": null,
      "outputs": []
    },
    {
      "cell_type": "code",
      "metadata": {
        "id": "kF8KeSfs0qJY"
      },
      "source": [
        "from sklearn import preprocessing\n",
        "\n",
        "categorical = ['workclass', 'marital.status', 'occupation', 'relationship', 'sex', 'native.country']\n",
        "for feature in categorical:\n",
        "        le =  preprocessing.LabelEncoder()\n",
        "        x_train[feature] =  le.fit_transform(x_train[feature])\n",
        "        x_test[feature] =  le.transform(x_test[feature])"
      ],
      "execution_count": null,
      "outputs": []
    },
    {
      "cell_type": "code",
      "metadata": {
        "id": "c6efhauL0qJY",
        "colab": {
          "base_uri": "https://localhost:8080/",
          "height": 204
        },
        "outputId": "5e4649d9-da3f-4324-80ad-5db88c7770bf"
      },
      "source": [
        "x_train[categorical].head()"
      ],
      "execution_count": null,
      "outputs": [
        {
          "output_type": "execute_result",
          "data": {
            "text/html": [
              "<div>\n",
              "<style scoped>\n",
              "    .dataframe tbody tr th:only-of-type {\n",
              "        vertical-align: middle;\n",
              "    }\n",
              "\n",
              "    .dataframe tbody tr th {\n",
              "        vertical-align: top;\n",
              "    }\n",
              "\n",
              "    .dataframe thead th {\n",
              "        text-align: right;\n",
              "    }\n",
              "</style>\n",
              "<table border=\"1\" class=\"dataframe\">\n",
              "  <thead>\n",
              "    <tr style=\"text-align: right;\">\n",
              "      <th></th>\n",
              "      <th>workclass</th>\n",
              "      <th>marital.status</th>\n",
              "      <th>occupation</th>\n",
              "      <th>relationship</th>\n",
              "      <th>sex</th>\n",
              "      <th>native.country</th>\n",
              "    </tr>\n",
              "  </thead>\n",
              "  <tbody>\n",
              "    <tr>\n",
              "      <th>32098</th>\n",
              "      <td>7</td>\n",
              "      <td>2</td>\n",
              "      <td>4</td>\n",
              "      <td>5</td>\n",
              "      <td>0</td>\n",
              "      <td>39</td>\n",
              "    </tr>\n",
              "    <tr>\n",
              "      <th>25206</th>\n",
              "      <td>2</td>\n",
              "      <td>2</td>\n",
              "      <td>7</td>\n",
              "      <td>0</td>\n",
              "      <td>1</td>\n",
              "      <td>39</td>\n",
              "    </tr>\n",
              "    <tr>\n",
              "      <th>23491</th>\n",
              "      <td>4</td>\n",
              "      <td>4</td>\n",
              "      <td>4</td>\n",
              "      <td>1</td>\n",
              "      <td>0</td>\n",
              "      <td>39</td>\n",
              "    </tr>\n",
              "    <tr>\n",
              "      <th>12367</th>\n",
              "      <td>2</td>\n",
              "      <td>4</td>\n",
              "      <td>5</td>\n",
              "      <td>3</td>\n",
              "      <td>1</td>\n",
              "      <td>39</td>\n",
              "    </tr>\n",
              "    <tr>\n",
              "      <th>7054</th>\n",
              "      <td>1</td>\n",
              "      <td>2</td>\n",
              "      <td>4</td>\n",
              "      <td>0</td>\n",
              "      <td>1</td>\n",
              "      <td>39</td>\n",
              "    </tr>\n",
              "  </tbody>\n",
              "</table>\n",
              "</div>"
            ],
            "text/plain": [
              "       workclass  marital.status  occupation  relationship  sex  native.country\n",
              "32098          7               2           4             5    0              39\n",
              "25206          2               2           7             0    1              39\n",
              "23491          4               4           4             1    0              39\n",
              "12367          2               4           5             3    1              39\n",
              "7054           1               2           4             0    1              39"
            ]
          },
          "metadata": {
            "tags": []
          },
          "execution_count": 73
        }
      ]
    },
    {
      "cell_type": "markdown",
      "metadata": {
        "id": "-ULvFiXT0qJZ"
      },
      "source": [
        "### 문제 28. Light GBM 을 이용하여 다중분류 구현하기"
      ]
    },
    {
      "cell_type": "code",
      "metadata": {
        "id": "Uxm0iZNu0qJZ",
        "colab": {
          "base_uri": "https://localhost:8080/"
        },
        "outputId": "cacc3d6e-f226-4b7d-85bb-02a972dadc86"
      },
      "source": [
        "from lightgbm import LGBMClassifier\n",
        "from sklearn.metrics import accuracy_score\n",
        "\n",
        "lgbm =  LGBMClassifier( )\n",
        "lgbm.fit(x_train, y_train)"
      ],
      "execution_count": null,
      "outputs": [
        {
          "output_type": "execute_result",
          "data": {
            "text/plain": [
              "LGBMClassifier(boosting_type='gbdt', class_weight=None, colsample_bytree=1.0,\n",
              "               importance_type='split', learning_rate=0.1, max_depth=-1,\n",
              "               min_child_samples=20, min_child_weight=0.001, min_split_gain=0.0,\n",
              "               n_estimators=100, n_jobs=-1, num_leaves=31, objective=None,\n",
              "               random_state=None, reg_alpha=0.0, reg_lambda=0.0, silent=True,\n",
              "               subsample=1.0, subsample_for_bin=200000, subsample_freq=0)"
            ]
          },
          "metadata": {
            "tags": []
          },
          "execution_count": 74
        }
      ]
    },
    {
      "cell_type": "code",
      "metadata": {
        "id": "0TdNisCc7RHu"
      },
      "source": [
        "boosting_type='gbdt' \n",
        "‘gbdt’, traditional Gradient Boosting Decision Tree. \n",
        "‘dart’, Dropouts meet Multiple Additive Regression Trees.\n",
        "‘goss’, Gradient-based One-Side Sampling.\n",
        "‘rf’, Random Forest\n",
        "\n",
        "multi_class='multiclass'\n"
      ],
      "execution_count": null,
      "outputs": []
    },
    {
      "cell_type": "code",
      "metadata": {
        "id": "rdXtDuYl7ZCt"
      },
      "source": [
        ""
      ],
      "execution_count": null,
      "outputs": []
    },
    {
      "cell_type": "markdown",
      "metadata": {
        "id": "TcKaG7Dc0qJb"
      },
      "source": [
        "### 문제 29. Light GBM  다중분류 결과  확인하기: Accuracy, Confusion Matrix, Heatmap"
      ]
    },
    {
      "cell_type": "code",
      "metadata": {
        "id": "TuzF7PBi0qJb",
        "colab": {
          "base_uri": "https://localhost:8080/"
        },
        "outputId": "cf5fdbcc-8756-4553-a80c-d0e9ba1083b3"
      },
      "source": [
        "## 정확도 구하기\n",
        "y_pred1 =  lgbm.predict(x_test)\n",
        "\n",
        "lgbm_score =  accuracy_score(y_test, y_pred1)\n",
        "print('LGBM Model accuracy score : {0:0.4f}'.format(lgbm_score))"
      ],
      "execution_count": null,
      "outputs": [
        {
          "output_type": "stream",
          "text": [
            "LGBM Model accuracy score : 0.8119\n"
          ],
          "name": "stdout"
        }
      ]
    },
    {
      "cell_type": "code",
      "metadata": {
        "colab": {
          "base_uri": "https://localhost:8080/",
          "height": 359
        },
        "id": "OKO3WRgr70JY",
        "outputId": "d9657d3a-d140-470c-d779-0adcc85aae39"
      },
      "source": [
        "pd.DataFrame(y_test).head(10)"
      ],
      "execution_count": null,
      "outputs": [
        {
          "output_type": "execute_result",
          "data": {
            "text/html": [
              "<div>\n",
              "<style scoped>\n",
              "    .dataframe tbody tr th:only-of-type {\n",
              "        vertical-align: middle;\n",
              "    }\n",
              "\n",
              "    .dataframe tbody tr th {\n",
              "        vertical-align: top;\n",
              "    }\n",
              "\n",
              "    .dataframe thead th {\n",
              "        text-align: right;\n",
              "    }\n",
              "</style>\n",
              "<table border=\"1\" class=\"dataframe\">\n",
              "  <thead>\n",
              "    <tr style=\"text-align: right;\">\n",
              "      <th></th>\n",
              "      <th>income.num</th>\n",
              "    </tr>\n",
              "  </thead>\n",
              "  <tbody>\n",
              "    <tr>\n",
              "      <th>22278</th>\n",
              "      <td>6</td>\n",
              "    </tr>\n",
              "    <tr>\n",
              "      <th>8950</th>\n",
              "      <td>6</td>\n",
              "    </tr>\n",
              "    <tr>\n",
              "      <th>7838</th>\n",
              "      <td>7</td>\n",
              "    </tr>\n",
              "    <tr>\n",
              "      <th>16505</th>\n",
              "      <td>3</td>\n",
              "    </tr>\n",
              "    <tr>\n",
              "      <th>19140</th>\n",
              "      <td>2</td>\n",
              "    </tr>\n",
              "    <tr>\n",
              "      <th>12319</th>\n",
              "      <td>7</td>\n",
              "    </tr>\n",
              "    <tr>\n",
              "      <th>28589</th>\n",
              "      <td>7</td>\n",
              "    </tr>\n",
              "    <tr>\n",
              "      <th>10000</th>\n",
              "      <td>1</td>\n",
              "    </tr>\n",
              "    <tr>\n",
              "      <th>28530</th>\n",
              "      <td>3</td>\n",
              "    </tr>\n",
              "    <tr>\n",
              "      <th>24237</th>\n",
              "      <td>6</td>\n",
              "    </tr>\n",
              "  </tbody>\n",
              "</table>\n",
              "</div>"
            ],
            "text/plain": [
              "       income.num\n",
              "22278           6\n",
              "8950            6\n",
              "7838            7\n",
              "16505           3\n",
              "19140           2\n",
              "12319           7\n",
              "28589           7\n",
              "10000           1\n",
              "28530           3\n",
              "24237           6"
            ]
          },
          "metadata": {
            "tags": []
          },
          "execution_count": 76
        }
      ]
    },
    {
      "cell_type": "code",
      "metadata": {
        "colab": {
          "base_uri": "https://localhost:8080/",
          "height": 359
        },
        "id": "dlceDIG_74p_",
        "outputId": "b0a4d280-098a-45c0-b7e7-2e79a01a51c1"
      },
      "source": [
        "pd.DataFrame(y_pred1).head(10)"
      ],
      "execution_count": null,
      "outputs": [
        {
          "output_type": "execute_result",
          "data": {
            "text/html": [
              "<div>\n",
              "<style scoped>\n",
              "    .dataframe tbody tr th:only-of-type {\n",
              "        vertical-align: middle;\n",
              "    }\n",
              "\n",
              "    .dataframe tbody tr th {\n",
              "        vertical-align: top;\n",
              "    }\n",
              "\n",
              "    .dataframe thead th {\n",
              "        text-align: right;\n",
              "    }\n",
              "</style>\n",
              "<table border=\"1\" class=\"dataframe\">\n",
              "  <thead>\n",
              "    <tr style=\"text-align: right;\">\n",
              "      <th></th>\n",
              "      <th>0</th>\n",
              "    </tr>\n",
              "  </thead>\n",
              "  <tbody>\n",
              "    <tr>\n",
              "      <th>0</th>\n",
              "      <td>6</td>\n",
              "    </tr>\n",
              "    <tr>\n",
              "      <th>1</th>\n",
              "      <td>6</td>\n",
              "    </tr>\n",
              "    <tr>\n",
              "      <th>2</th>\n",
              "      <td>7</td>\n",
              "    </tr>\n",
              "    <tr>\n",
              "      <th>3</th>\n",
              "      <td>1</td>\n",
              "    </tr>\n",
              "    <tr>\n",
              "      <th>4</th>\n",
              "      <td>3</td>\n",
              "    </tr>\n",
              "    <tr>\n",
              "      <th>5</th>\n",
              "      <td>7</td>\n",
              "    </tr>\n",
              "    <tr>\n",
              "      <th>6</th>\n",
              "      <td>7</td>\n",
              "    </tr>\n",
              "    <tr>\n",
              "      <th>7</th>\n",
              "      <td>1</td>\n",
              "    </tr>\n",
              "    <tr>\n",
              "      <th>8</th>\n",
              "      <td>3</td>\n",
              "    </tr>\n",
              "    <tr>\n",
              "      <th>9</th>\n",
              "      <td>6</td>\n",
              "    </tr>\n",
              "  </tbody>\n",
              "</table>\n",
              "</div>"
            ],
            "text/plain": [
              "   0\n",
              "0  6\n",
              "1  6\n",
              "2  7\n",
              "3  1\n",
              "4  3\n",
              "5  7\n",
              "6  7\n",
              "7  1\n",
              "8  3\n",
              "9  6"
            ]
          },
          "metadata": {
            "tags": []
          },
          "execution_count": 77
        }
      ]
    },
    {
      "cell_type": "code",
      "metadata": {
        "id": "EKdNEzvt0qJc",
        "colab": {
          "base_uri": "https://localhost:8080/"
        },
        "outputId": "edd83091-e311-4d6d-c258-03099c2fc702"
      },
      "source": [
        "## Confusion Matrix 확인하기\n",
        "from sklearn.metrics import confusion_matrix\n",
        "cm1 =  confusion_matrix(y_test, y_pred1)\n",
        "print('LGBM Confusion Matrix for 11-class Labels\\n')\n",
        "print(cm1)\n"
      ],
      "execution_count": null,
      "outputs": [
        {
          "output_type": "stream",
          "text": [
            "LGBM Confusion Matrix for 11-class Labels\n",
            "\n",
            "[[934  41   4   3   1   0   2   3   0   0   0]\n",
            " [ 40 869  46  13   1   0   0   0   0   0   0]\n",
            " [ 23  42 807  45   7   0   2   2   0   2   0]\n",
            " [ 13  20  75 838  62   6   2   2   1   0   0]\n",
            " [ 11  17  16  73 758  70  12   4   5   3   0]\n",
            " [  8  13  18  22  76 758  78  12  11   6   0]\n",
            " [ 10   7  11  12  11  92 702  78  13  15   0]\n",
            " [ 12   8  10   8  11  12  77 730  91  23   0]\n",
            " [  7  10  10   6   9   7  12 102 727  88   0]\n",
            " [  8   7  10  16  16   6   7  29  62 808   0]\n",
            " [  0   0   0   0   0   0   0   0   0  12   0]]\n"
          ],
          "name": "stdout"
        }
      ]
    },
    {
      "cell_type": "code",
      "metadata": {
        "id": "e4Tefw4j0zLF",
        "colab": {
          "base_uri": "https://localhost:8080/",
          "height": 477
        },
        "outputId": "b254d3b7-fbc9-4f0b-8ebd-a1ef9453aa27"
      },
      "source": [
        "## 히트맵으로 시각화하기\n",
        "plt.figure(figsize=[8,7])\n",
        "sns.heatmap(cm1, cmap='Reds', annot=True, fmt='.0f')\n",
        "plt.title('LGBM Heatmap for 11-class Labels\\n')\n",
        "plt.show()"
      ],
      "execution_count": null,
      "outputs": [
        {
          "output_type": "display_data",
          "data": {
            "image/png": "[encoded data removed]",
            "text/plain": [
              "<Figure size 576x504 with 2 Axes>"
            ]
          },
          "metadata": {
            "tags": []
          }
        }
      ]
    },
    {
      "cell_type": "code",
      "metadata": {
        "id": "kwz0dhvp0qJc",
        "colab": {
          "base_uri": "https://localhost:8080/"
        },
        "outputId": "bc846c93-15d2-4ec6-803e-49f8d4e2edbc"
      },
      "source": [
        "print('LGBM Model accuracy score : {0:0.4f}'.format(lgbm_score))\n",
        "print('\\n')\n",
        "print(classification_report(y_test, y_pred1))"
      ],
      "execution_count": null,
      "outputs": [
        {
          "output_type": "stream",
          "text": [
            "LGBM Model accuracy score : 0.8119\n",
            "\n",
            "\n",
            "              precision    recall  f1-score   support\n",
            "\n",
            "           0       0.88      0.95      0.91       988\n",
            "           1       0.84      0.90      0.87       969\n",
            "           2       0.80      0.87      0.83       930\n",
            "           3       0.81      0.82      0.82      1019\n",
            "           4       0.80      0.78      0.79       969\n",
            "           5       0.80      0.76      0.78      1002\n",
            "           6       0.79      0.74      0.76       951\n",
            "           7       0.76      0.74      0.75       982\n",
            "           8       0.80      0.74      0.77       978\n",
            "           9       0.84      0.83      0.84       969\n",
            "          10       0.00      0.00      0.00        12\n",
            "\n",
            "    accuracy                           0.81      9769\n",
            "   macro avg       0.74      0.74      0.74      9769\n",
            "weighted avg       0.81      0.81      0.81      9769\n",
            "\n"
          ],
          "name": "stdout"
        }
      ]
    },
    {
      "cell_type": "markdown",
      "metadata": {
        "id": "LdenmSt90qJd"
      },
      "source": [
        "### 문제 30. Random Forest 모델로 다중분류 구현하고 정확도 확인하기"
      ]
    },
    {
      "cell_type": "code",
      "metadata": {
        "id": "esYpTi2P0qJd",
        "colab": {
          "base_uri": "https://localhost:8080/"
        },
        "outputId": "312128c5-6daf-4b1b-a06b-f6a194816314"
      },
      "source": [
        "from sklearn.ensemble import RandomForestClassifier\n",
        "from sklearn.metrics import accuracy_score\n",
        "\n",
        "rfc =  RandomForestClassifier() \n",
        "rfc.fit(x_train, y_train) "
      ],
      "execution_count": null,
      "outputs": [
        {
          "output_type": "execute_result",
          "data": {
            "text/plain": [
              "RandomForestClassifier(bootstrap=True, ccp_alpha=0.0, class_weight=None,\n",
              "                       criterion='gini', max_depth=None, max_features='auto',\n",
              "                       max_leaf_nodes=None, max_samples=None,\n",
              "                       min_impurity_decrease=0.0, min_impurity_split=None,\n",
              "                       min_samples_leaf=1, min_samples_split=2,\n",
              "                       min_weight_fraction_leaf=0.0, n_estimators=100,\n",
              "                       n_jobs=None, oob_score=False, random_state=None,\n",
              "                       verbose=0, warm_start=False)"
            ]
          },
          "metadata": {
            "tags": []
          },
          "execution_count": 83
        }
      ]
    },
    {
      "cell_type": "code",
      "metadata": {
        "id": "Faof-RT50qJd",
        "colab": {
          "base_uri": "https://localhost:8080/"
        },
        "outputId": "8090670d-5820-4251-f458-6ec6efaace3b"
      },
      "source": [
        "y_pred =  rfc.predict(x_test)\n",
        "rfc_score =  accuracy_score(y_test, y_pred)\n",
        "print('Random Forest Model accuracy score : {0:0.4f}'. format(rfc_score))"
      ],
      "execution_count": null,
      "outputs": [
        {
          "output_type": "stream",
          "text": [
            "Random Forest Model accuracy score : 0.7710\n"
          ],
          "name": "stdout"
        }
      ]
    },
    {
      "cell_type": "code",
      "metadata": {
        "id": "sHMoQoA2BrQe"
      },
      "source": [
        "모델 개선 --> 정확도 개선, F1 스코어 개선 <- 모델 변경, 모델의 파라미터 변경, 데이터 변경(처리, 피처 엔지니어링, 정제, 아웃라이어 제거, 변수 추가) 11개 --> ? 개"
      ],
      "execution_count": null,
      "outputs": []
    },
    {
      "cell_type": "markdown",
      "metadata": {
        "id": "oHo8oEsM0qJe"
      },
      "source": [
        "## Step 7. 다중분류 모델의 평가와 개선"
      ]
    },
    {
      "cell_type": "markdown",
      "metadata": {
        "id": "8DWhJnjD0qJe"
      },
      "source": [
        "### 문제 31. Random Forest 다중분류 모델의 정확도 확인하기"
      ]
    },
    {
      "cell_type": "code",
      "metadata": {
        "id": "wV-7svY10qJf",
        "colab": {
          "base_uri": "https://localhost:8080/"
        },
        "outputId": "31e4c698-47b0-44b0-923b-e62c9a9f23a5"
      },
      "source": [
        "## 이전 Step 복습\n",
        "y_pred = rfc.predict(x_test)\n",
        "rfc_score = accuracy_score(y_test, y_pred)\n",
        "print('Randoom Forest Model accuracy score : {0:0.4f}'. format(rfc_score)) "
      ],
      "execution_count": null,
      "outputs": [
        {
          "output_type": "stream",
          "text": [
            "Randoom Forest Model accuracy score : 0.7710\n"
          ],
          "name": "stdout"
        }
      ]
    },
    {
      "cell_type": "code",
      "metadata": {
        "id": "kCw7erT_C1q4"
      },
      "source": [
        "평가방법: 정확도(exact match), 인접 정확도 1, 2, 3, ... 10 <-- 멀티 클래스 분류 레이블의 임의성, 불명확성  // [1000-2000] [1234-2194] "
      ],
      "execution_count": null,
      "outputs": []
    },
    {
      "cell_type": "markdown",
      "metadata": {
        "id": "xsgxRM-o0qJg"
      },
      "source": [
        "### 문제 32. Random Forest  다중분류 모델의 인접정확도 구하기"
      ]
    },
    {
      "cell_type": "code",
      "metadata": {
        "id": "W8wir5pW0qJg",
        "colab": {
          "base_uri": "https://localhost:8080/"
        },
        "outputId": "7db7d8be-c25f-4a53-887d-c57ce21c99db"
      },
      "source": [
        "## 인접 정확도의 계산\n",
        "precise_accuracy =  np.sum(y_pred==y_test) / len(y_pred)\n",
        "adjacent_accuracy =  np.sum(np.abs(y_pred - y_test) <= 1) / len(y_pred)\n",
        "\n",
        "print('precise accuracy: {0:0.4f}'. format(precise_accuracy))\n",
        "print('adjacent accuracy: {0:0.4f}'. format(adjacent_accuracy))"
      ],
      "execution_count": null,
      "outputs": [
        {
          "output_type": "stream",
          "text": [
            "precise accuracy: 0.7710\n",
            "adjacent accuracy: 0.9295\n"
          ],
          "name": "stdout"
        }
      ]
    },
    {
      "cell_type": "markdown",
      "metadata": {
        "id": "1pLL2FWI0qJh"
      },
      "source": [
        "### 문제 33. Random Forest  다중분류 모델의 Confusion Matrix 확인하기"
      ]
    },
    {
      "cell_type": "code",
      "metadata": {
        "colab": {
          "base_uri": "https://localhost:8080/"
        },
        "id": "3ud1_co8EO6N",
        "outputId": "115ed3c8-197c-47f9-81b4-811cc6af6aa0"
      },
      "source": [
        "print(cm1) # light gbm "
      ],
      "execution_count": null,
      "outputs": [
        {
          "output_type": "stream",
          "text": [
            "[[934  41   4   3   1   0   2   3   0   0   0]\n",
            " [ 40 869  46  13   1   0   0   0   0   0   0]\n",
            " [ 23  42 807  45   7   0   2   2   0   2   0]\n",
            " [ 13  20  75 838  62   6   2   2   1   0   0]\n",
            " [ 11  17  16  73 758  70  12   4   5   3   0]\n",
            " [  8  13  18  22  76 758  78  12  11   6   0]\n",
            " [ 10   7  11  12  11  92 702  78  13  15   0]\n",
            " [ 12   8  10   8  11  12  77 730  91  23   0]\n",
            " [  7  10  10   6   9   7  12 102 727  88   0]\n",
            " [  8   7  10  16  16   6   7  29  62 808   0]\n",
            " [  0   0   0   0   0   0   0   0   0  12   0]]\n"
          ],
          "name": "stdout"
        }
      ]
    },
    {
      "cell_type": "code",
      "metadata": {
        "id": "BDuVlM7D0qJh",
        "colab": {
          "base_uri": "https://localhost:8080/"
        },
        "outputId": "e933a3c4-2d1e-4b4c-ff7c-5e5432687e77"
      },
      "source": [
        "from sklearn.metrics import confusion_matrix\n",
        "cm2 =  confusion_matrix(y_test, y_pred)\n",
        "print('Random Forest Confusion Matrix for 11-class Labels\\n')\n",
        "print(cm2)"
      ],
      "execution_count": null,
      "outputs": [
        {
          "output_type": "stream",
          "text": [
            "Random Forest Confusion Matrix for 11-class Labels\n",
            "\n",
            "[[935  44   3   4   1   1   0   0   0   0   0]\n",
            " [ 53 839  61   8   3   2   3   0   0   0   0]\n",
            " [ 27  71 772  41  13   1   3   0   1   1   0]\n",
            " [ 17  15  95 783  83  11   6   2   6   1   0]\n",
            " [ 16  18  11  69 733  86  17   6   7   6   0]\n",
            " [ 13  14  17  15  86 722 101  16  14   4   0]\n",
            " [ 11   9   9  13  16 101 687  85   8  12   0]\n",
            " [ 12  11   9   4  13  19 106 682  99  27   0]\n",
            " [  7  10   8   9  13  15  21 115 644 136   0]\n",
            " [ 10   6   9  15  14  20  15  41 104 735   0]\n",
            " [  0   0   0   0   0   0   0   0   0  12   0]]\n"
          ],
          "name": "stdout"
        }
      ]
    },
    {
      "cell_type": "code",
      "metadata": {
        "colab": {
          "base_uri": "https://localhost:8080/",
          "height": 436
        },
        "id": "5LywqLXNE4_E",
        "outputId": "b0b5938d-926f-4aac-d3b7-815e2c9f4b33"
      },
      "source": [
        "plt.figure(figsize=[8, 7])\n",
        "sns.heatmap(cm1, cmap='Reds', annot=True, fmt='.0f')\n",
        "plt.show()"
      ],
      "execution_count": null,
      "outputs": [
        {
          "output_type": "display_data",
          "data": {
            "image/png": "[encoded data removed]",
            "text/plain": [
              "<Figure size 576x504 with 2 Axes>"
            ]
          },
          "metadata": {
            "tags": []
          }
        }
      ]
    },
    {
      "cell_type": "code",
      "metadata": {
        "colab": {
          "base_uri": "https://localhost:8080/",
          "height": 469
        },
        "id": "DCmGwl_uEjPs",
        "outputId": "ec40e647-205b-4c71-dacc-3752be551607"
      },
      "source": [
        "## Seaborn Heatmap\n",
        "\n",
        "plt.figure(figsize=[8, 7])\n",
        "sns.heatmap(cm2, cmap='Reds', annot=True, fmt='.0f')\n",
        "plt.title('Random Forest Heatmap for 11-class Labels\\n', fontsize=14)\n",
        "plt.show()"
      ],
      "execution_count": null,
      "outputs": [
        {
          "output_type": "display_data",
          "data": {
            "image/png": "[encoded data removed]",
            "text/plain": [
              "<Figure size 576x504 with 2 Axes>"
            ]
          },
          "metadata": {
            "tags": []
          }
        }
      ]
    },
    {
      "cell_type": "markdown",
      "metadata": {
        "id": "0S2nut5S0qJi"
      },
      "source": [
        "### 문제 34. Random Forest  다중분류 모델의 분류결과 확인하기"
      ]
    },
    {
      "cell_type": "code",
      "metadata": {
        "id": "0A46jsLY0qJi",
        "colab": {
          "base_uri": "https://localhost:8080/"
        },
        "outputId": "576669ec-bf39-4747-bbc4-20224838559b"
      },
      "source": [
        "from sklearn.metrics import classification_report\n",
        "\n",
        "print('Random Forest precise  accuracy for 11 labels: {0:0.4f}'. format(precise_accuracy))\n",
        "print('Random Forest adjacent accuracy for 11 labels: {0:0.4f}'. format(adjacent_accuracy))\n",
        "print('\\n')\n",
        "print(classification_report(y_test, y_pred ))"
      ],
      "execution_count": null,
      "outputs": [
        {
          "output_type": "stream",
          "text": [
            "Random Forest precise  accuracy for 11 labels: 0.7710\n",
            "Random Forest adjacent accuracy for 11 labels: 0.9295\n",
            "\n",
            "\n",
            "              precision    recall  f1-score   support\n",
            "\n",
            "           0       0.85      0.95      0.90       988\n",
            "           1       0.81      0.87      0.84       969\n",
            "           2       0.78      0.83      0.80       930\n",
            "           3       0.81      0.77      0.79      1019\n",
            "           4       0.75      0.76      0.75       969\n",
            "           5       0.74      0.72      0.73      1002\n",
            "           6       0.72      0.72      0.72       951\n",
            "           7       0.72      0.69      0.71       982\n",
            "           8       0.73      0.66      0.69       978\n",
            "           9       0.79      0.76      0.77       969\n",
            "          10       0.00      0.00      0.00        12\n",
            "\n",
            "    accuracy                           0.77      9769\n",
            "   macro avg       0.70      0.70      0.70      9769\n",
            "weighted avg       0.77      0.77      0.77      9769\n",
            "\n"
          ],
          "name": "stdout"
        }
      ]
    },
    {
      "cell_type": "markdown",
      "metadata": {
        "id": "BwNxSrLT0qJk"
      },
      "source": [
        "### 문제 35. 적절한 클래스 수로 변환하여 모델 개선하기"
      ]
    },
    {
      "cell_type": "code",
      "metadata": {
        "id": "Dy52BtOz0qJn"
      },
      "source": [
        "def value_change(x):\n",
        "    if x <= 20000: return 0\n",
        "    if x >  20000 and x <= 50000 : return 1\n",
        "    if x >  50000 and x <= 70000 : return 2\n",
        "    if x >  70000 and x <= 90000 : return 3 \n",
        "    return 4\n",
        "                                       ## Define new function\n",
        "y = data['income.num'].apply(lambda x: value_change(x))   ## Apply Lambda function"
      ],
      "execution_count": null,
      "outputs": []
    },
    {
      "cell_type": "code",
      "metadata": {
        "colab": {
          "base_uri": "https://localhost:8080/"
        },
        "id": "riap_TfjGK7d",
        "outputId": "23f02e7b-3774-44d1-a78d-9e180b86028a"
      },
      "source": [
        "y.value_counts()"
      ],
      "execution_count": null,
      "outputs": [
        {
          "output_type": "execute_result",
          "data": {
            "text/plain": [
              "1    9686\n",
              "2    6564\n",
              "3    6533\n",
              "0    6426\n",
              "4    3352\n",
              "Name: income.num, dtype: int64"
            ]
          },
          "metadata": {
            "tags": []
          },
          "execution_count": 94
        }
      ]
    },
    {
      "cell_type": "code",
      "metadata": {
        "colab": {
          "base_uri": "https://localhost:8080/"
        },
        "id": "_syRaUX4GU7X",
        "outputId": "1f5a7b41-02bb-4f6a-d52c-cbc8b601314a"
      },
      "source": [
        "y.value_counts().sum()"
      ],
      "execution_count": null,
      "outputs": [
        {
          "output_type": "execute_result",
          "data": {
            "text/plain": [
              "32561"
            ]
          },
          "metadata": {
            "tags": []
          },
          "execution_count": 95
        }
      ]
    },
    {
      "cell_type": "code",
      "metadata": {
        "colab": {
          "base_uri": "https://localhost:8080/"
        },
        "id": "84gzYoTHGbyl",
        "outputId": "764fc97e-27d4-4d40-a6df-cbd7fd7417f1"
      },
      "source": [
        "9686 / 32561"
      ],
      "execution_count": null,
      "outputs": [
        {
          "output_type": "execute_result",
          "data": {
            "text/plain": [
              "0.29747243635023496"
            ]
          },
          "metadata": {
            "tags": []
          },
          "execution_count": 96
        }
      ]
    },
    {
      "cell_type": "code",
      "metadata": {
        "colab": {
          "base_uri": "https://localhost:8080/",
          "height": 461
        },
        "id": "vilIzME5GneM",
        "outputId": "87ce470c-56ad-41fb-b5cd-7e4abc7fb101"
      },
      "source": [
        "sns.set(font_scale=1.4)\n",
        "y.value_counts().plot(kind='bar', figsize=(7, 6), rot=0)\n",
        "plt.xlabel(\"Income Labels\", labelpad=14)\n",
        "plt.ylabel(\"Counts\", labelpad=14)\n",
        "plt.title(\"Counts of 5 Income Labels\\n\", y=1.02);"
      ],
      "execution_count": null,
      "outputs": [
        {
          "output_type": "display_data",
          "data": {
            "image/png": "[encoded data removed]",
            "text/plain": [
              "<Figure size 504x432 with 1 Axes>"
            ]
          },
          "metadata": {
            "tags": []
          }
        }
      ]
    },
    {
      "cell_type": "markdown",
      "metadata": {
        "id": "ojpCGXOk0qJn"
      },
      "source": [
        "### 문제 36. Feature Engineering"
      ]
    },
    {
      "cell_type": "code",
      "metadata": {
        "id": "VWNoknJt0qJo"
      },
      "source": [
        "from sklearn.model_selection import train_test_split\n",
        "x_train, x_test, y_train, y_test = train_test_split(X, y, test_size = 0.3, random_state = 0)"
      ],
      "execution_count": null,
      "outputs": []
    },
    {
      "cell_type": "code",
      "metadata": {
        "id": "ZojiMJyf0qJs"
      },
      "source": [
        "from sklearn import preprocessing\n",
        "\n",
        "categorical = ['workclass', 'marital.status', 'occupation', 'relationship', 'sex', 'native.country']\n",
        "for feature in categorical:\n",
        "        le = preprocessing.LabelEncoder()\n",
        "        x_train[feature] = le.fit_transform(x_train[feature])\n",
        "        x_test[feature] = le.transform(x_test[feature])"
      ],
      "execution_count": null,
      "outputs": []
    },
    {
      "cell_type": "markdown",
      "metadata": {
        "id": "0DM7mQ380qJt"
      },
      "source": [
        "### 문제 37. 변경한 클래스를 이용한 Random Forest 다중분류 모델의 개선결과 확인하기"
      ]
    },
    {
      "cell_type": "code",
      "metadata": {
        "id": "7LFtYF1T0qJt",
        "colab": {
          "base_uri": "https://localhost:8080/"
        },
        "outputId": "10b7f369-36e4-47d6-a79f-a3f9d8aabe02"
      },
      "source": [
        "from sklearn.ensemble import RandomForestClassifier\n",
        "from sklearn.metrics import accuracy_score\n",
        "\n",
        "rfc = RandomForestClassifier(random_state=0)\n",
        "rfc.fit(x_train, y_train)"
      ],
      "execution_count": null,
      "outputs": [
        {
          "output_type": "execute_result",
          "data": {
            "text/plain": [
              "RandomForestClassifier(bootstrap=True, ccp_alpha=0.0, class_weight=None,\n",
              "                       criterion='gini', max_depth=None, max_features='auto',\n",
              "                       max_leaf_nodes=None, max_samples=None,\n",
              "                       min_impurity_decrease=0.0, min_impurity_split=None,\n",
              "                       min_samples_leaf=1, min_samples_split=2,\n",
              "                       min_weight_fraction_leaf=0.0, n_estimators=100,\n",
              "                       n_jobs=None, oob_score=False, random_state=0, verbose=0,\n",
              "                       warm_start=False)"
            ]
          },
          "metadata": {
            "tags": []
          },
          "execution_count": 100
        }
      ]
    },
    {
      "cell_type": "code",
      "metadata": {
        "id": "p_fK183j0qJ2",
        "colab": {
          "base_uri": "https://localhost:8080/"
        },
        "outputId": "527e979a-3f48-4418-a5e4-f888dacedc3b"
      },
      "source": [
        "## Confusion Matrix 확인하기\n",
        "y_pred =  rfc.predict(x_test)\n",
        "cm3 =  confusion_matrix(y_test, y_pred)\n",
        "print('Random Forest Confusion Matrix for 5-class Labels\\n')\n",
        "print(cm3)"
      ],
      "execution_count": null,
      "outputs": [
        {
          "output_type": "stream",
          "text": [
            "Random Forest Confusion Matrix for 5-class Labels\n",
            "\n",
            "[[1811  144    2    0    0]\n",
            " [ 105 2721   84    8    0]\n",
            " [  31  194 1609  118    1]\n",
            " [  26   81  134 1680   39]\n",
            " [  13   56   29  253  630]]\n"
          ],
          "name": "stdout"
        }
      ]
    },
    {
      "cell_type": "code",
      "metadata": {
        "colab": {
          "base_uri": "https://localhost:8080/",
          "height": 469
        },
        "id": "Yw3cOWuRHym1",
        "outputId": "5bac15ed-5566-4808-8c57-3355fb6bbbfd"
      },
      "source": [
        "plt.figure(figsize=[8, 7])\n",
        "sns.heatmap(cm2, cmap='Reds', annot=True, fmt='.0f')\n",
        "plt.title('Random Forest Heatmap for 11-class Labels\\n', fontsize=14)\n",
        "plt.show()"
      ],
      "execution_count": null,
      "outputs": [
        {
          "output_type": "display_data",
          "data": {
            "image/png": "[encoded data removed]",
            "text/plain": [
              "<Figure size 576x504 with 2 Axes>"
            ]
          },
          "metadata": {
            "tags": []
          }
        }
      ]
    },
    {
      "cell_type": "code",
      "metadata": {
        "colab": {
          "base_uri": "https://localhost:8080/",
          "height": 469
        },
        "id": "pW4ePS2aHPl5",
        "outputId": "bf5004f7-152b-4535-b96f-9f1eaa05d838"
      },
      "source": [
        "# Heatmap 그려보기\n",
        "\n",
        "plt.figure(figsize=[8,7])\n",
        "sns.heatmap(cm3, cmap=\"Reds\", annot=True, fmt='.0f')\n",
        "plt.title('Random Forest Heatmap for 5-class Labels\\n', fontsize=14)\n",
        "plt.show()"
      ],
      "execution_count": null,
      "outputs": [
        {
          "output_type": "display_data",
          "data": {
            "image/png": "[encoded data removed]",
            "text/plain": [
              "<Figure size 576x504 with 2 Axes>"
            ]
          },
          "metadata": {
            "tags": []
          }
        }
      ]
    },
    {
      "cell_type": "code",
      "metadata": {
        "id": "3bfuUV8z0qJ3",
        "colab": {
          "base_uri": "https://localhost:8080/"
        },
        "outputId": "9b84b348-85c5-4007-fac0-c2128268b3d0"
      },
      "source": [
        "## Accruacy Evaluation\n",
        "precise_accuracy =  np.sum(y_pred==y_test) / len(y_pred) # exact_match\n",
        "adjacent_accuracy =  np.sum(np.abs(y_pred - y_test) <=1) / len(y_pred)\n",
        "\n",
        "print('precise accuracy: {0:0.4f}'. format(precise_accuracy))\n",
        "print('adjacent accuracy: {0:0.4f}'. format(adjacent_accuracy))"
      ],
      "execution_count": null,
      "outputs": [
        {
          "output_type": "stream",
          "text": [
            "precise accuracy: 0.8651\n",
            "adjacent accuracy: 0.9747\n"
          ],
          "name": "stdout"
        }
      ]
    },
    {
      "cell_type": "code",
      "metadata": {
        "id": "lACoMc1B0qJ3",
        "colab": {
          "base_uri": "https://localhost:8080/"
        },
        "outputId": "2a82c9cd-99d1-44f7-cb0f-2a21a3091927"
      },
      "source": [
        "## 2가지 Accruacy 스코어의 비교\n",
        "print('Random Forest precise  accuracy for 5 labels: {0:0.4f}'. format(precise_accuracy))\n",
        "print('Random Forest adjacent accuracy for 5 labels: {0:0.4f}'. format(adjacent_accuracy))\n",
        "print('\\n')\n",
        "print(classification_report(y_test, y_pred))"
      ],
      "execution_count": null,
      "outputs": [
        {
          "output_type": "stream",
          "text": [
            "Random Forest precise  accuracy for 5 labels: 0.8651\n",
            "Random Forest adjacent accuracy for 5 labels: 0.9747\n",
            "\n",
            "\n",
            "              precision    recall  f1-score   support\n",
            "\n",
            "           0       0.91      0.93      0.92      1957\n",
            "           1       0.85      0.93      0.89      2918\n",
            "           2       0.87      0.82      0.84      1953\n",
            "           3       0.82      0.86      0.84      1960\n",
            "           4       0.94      0.64      0.76       981\n",
            "\n",
            "    accuracy                           0.87      9769\n",
            "   macro avg       0.88      0.84      0.85      9769\n",
            "weighted avg       0.87      0.87      0.86      9769\n",
            "\n"
          ],
          "name": "stdout"
        }
      ]
    },
    {
      "cell_type": "markdown",
      "metadata": {
        "id": "cL5w2tBV0qJ3"
      },
      "source": [
        "### 문제 38. 변경한 클래스를 이용한 Ligth GBM 다중분류 모델의 개선결과 확인하기"
      ]
    },
    {
      "cell_type": "code",
      "metadata": {
        "colab": {
          "base_uri": "https://localhost:8080/"
        },
        "id": "RrVUcN0zQ34l",
        "outputId": "e69d4140-0859-49a4-fbfe-f7e758dc4ea2"
      },
      "source": [
        "lgbm =  LGBMClassifier(random_state=0)\n",
        "lgbm.fit(x_train, y_train)\n",
        "y_pred1 =  lgbm.predict(x_test)\n",
        "\n",
        "lgbm_score1 = accuracy_score(y_test, y_pred1 )\n",
        "print('LGBM Model accuracy score : {0:0.4f}'.format(lgbm_score1))"
      ],
      "execution_count": null,
      "outputs": [
        {
          "output_type": "stream",
          "text": [
            "LGBM Model accuracy score : 0.9023\n"
          ],
          "name": "stdout"
        }
      ]
    },
    {
      "cell_type": "code",
      "metadata": {
        "colab": {
          "base_uri": "https://localhost:8080/"
        },
        "id": "9u_U2kS2OLHu",
        "outputId": "037b643a-d127-4f62-9c00-1b8fffe3dead"
      },
      "source": [
        "## Confusion Matrix 구하기\n",
        "\n",
        "cm4 =  confusion_matrix(y_test, y_pred1)\n",
        "print('LGBM Confusion Matrix for 5-class Labels\\n')\n",
        "print(cm4)"
      ],
      "execution_count": null,
      "outputs": [
        {
          "output_type": "stream",
          "text": [
            "LGBM Confusion Matrix for 5-class Labels\n",
            "\n",
            "[[1859   91    3    4    0]\n",
            " [  77 2770   60    9    2]\n",
            " [  28  145 1685   91    4]\n",
            " [  26   60  104 1717   53]\n",
            " [  13   38   20  126  784]]\n"
          ],
          "name": "stdout"
        }
      ]
    },
    {
      "cell_type": "code",
      "metadata": {
        "colab": {
          "base_uri": "https://localhost:8080/",
          "height": 469
        },
        "id": "-Qm1zPCjR8RJ",
        "outputId": "4bddcd1a-9088-4315-c4ee-ca2c1220adf4"
      },
      "source": [
        "# seaborn를 이용한 heatmap\n",
        "\n",
        "plt.figure(figsize=[8, 7])\n",
        "sns.heatmap(cm3, cmap='Reds', annot=True, fmt='.0f')\n",
        "plt.title('Random Forest Classifier Heatmap for 5-class Labels\\n', fontsize=14)\n",
        "plt.show()"
      ],
      "execution_count": null,
      "outputs": [
        {
          "output_type": "display_data",
          "data": {
            "image/png": "[encoded data removed]",
            "text/plain": [
              "<Figure size 576x504 with 2 Axes>"
            ]
          },
          "metadata": {
            "tags": []
          }
        }
      ]
    },
    {
      "cell_type": "code",
      "metadata": {
        "colab": {
          "base_uri": "https://localhost:8080/",
          "height": 469
        },
        "id": "E3Be0AqkRoV6",
        "outputId": "0c28eeb2-6b80-4b8a-d34e-209f5eadc0bc"
      },
      "source": [
        "# seaborn를 이용한 heatmap\n",
        "\n",
        "plt.figure(figsize=[8, 7])\n",
        "sns.heatmap(cm4, cmap='Reds', annot=True, fmt='.0f')\n",
        "plt.title('LGBM Heatmap for 5-class Labels\\n', fontsize=14)\n",
        "plt.show()"
      ],
      "execution_count": null,
      "outputs": [
        {
          "output_type": "display_data",
          "data": {
            "image/png": "[encoded data removed]",
            "text/plain": [
              "<Figure size 576x504 with 2 Axes>"
            ]
          },
          "metadata": {
            "tags": []
          }
        }
      ]
    },
    {
      "cell_type": "code",
      "metadata": {
        "colab": {
          "base_uri": "https://localhost:8080/"
        },
        "id": "h01iYHkJOMtJ",
        "outputId": "f085ccf5-7c37-4774-8f4b-4e468167e278"
      },
      "source": [
        "## Accuracy Evalaution\n",
        "precise_accuracy1 =  np.sum(y_pred1 == y_test) / len(y_pred1) # exact_match\n",
        "adjacent_accuracy1 =  np.sum(np.abs(y_pred1 - y_test) <= 1) / len(y_pred1) \n",
        "\n",
        "print('LGBM precise  accuracy for 5 labels: {0:0.4f}'. format(precise_accuracy1))\n",
        "print('LGBM adjacent accuracy for 5 labels: {0:0.4f}'. format(adjacent_accuracy1))\n",
        "print('\\n')\n",
        "print(classification_report(y_test, y_pred1))"
      ],
      "execution_count": null,
      "outputs": [
        {
          "output_type": "stream",
          "text": [
            "LGBM precise  accuracy for 5 labels: 0.9023\n",
            "LGBM adjacent accuracy for 5 labels: 0.9788\n",
            "\n",
            "\n",
            "              precision    recall  f1-score   support\n",
            "\n",
            "           0       0.93      0.95      0.94      1957\n",
            "           1       0.89      0.95      0.92      2918\n",
            "           2       0.90      0.86      0.88      1953\n",
            "           3       0.88      0.88      0.88      1960\n",
            "           4       0.93      0.80      0.86       981\n",
            "\n",
            "    accuracy                           0.90      9769\n",
            "   macro avg       0.91      0.89      0.90      9769\n",
            "weighted avg       0.90      0.90      0.90      9769\n",
            "\n"
          ],
          "name": "stdout"
        }
      ]
    },
    {
      "cell_type": "markdown",
      "metadata": {
        "id": "-HJVw87-0qJ5"
      },
      "source": [
        "### 문제 39. 요약: 소득 다중분류 예측모델의 결과 비교하기"
      ]
    },
    {
      "cell_type": "code",
      "metadata": {
        "colab": {
          "base_uri": "https://localhost:8080/"
        },
        "id": "TpmWnPwzPqxs",
        "outputId": "575dd35a-ea80-407d-a28c-500a5457311d"
      },
      "source": [
        "print ('Accuracy Comparisons for Multiclass Models\\n')\n",
        "print ('rfc_score  (11 labels)  :', '{0:0.5f}'.format(rfc_score)) # Step 6, 문제 30\n",
        "print ('rfc_score  ( 5 labels)  :', '{0:0.5f}'.format(precise_accuracy)) # Step 7, 문제 32\n",
        "print ('lbgm_score (11 labels)  :', '{0:0.5f}'.format(lgbm_score)) # Step 6, 문제 29\n",
        "print ('lgbm_score ( 5 labels)  :', '{0:0.5f}'.format(precise_accuracy1)) # Step 7, 문제 38"
      ],
      "execution_count": null,
      "outputs": [
        {
          "output_type": "stream",
          "text": [
            "Accuracy Comparisons for Multiclass Models\n",
            "\n",
            "rfc_score  (11 labels)  : 0.77101\n",
            "rfc_score  ( 5 labels)  : 0.86508\n",
            "lbgm_score (11 labels)  : 0.81185\n",
            "lgbm_score ( 5 labels)  : 0.90234\n"
          ],
          "name": "stdout"
        }
      ]
    },
    {
      "cell_type": "code",
      "metadata": {
        "colab": {
          "base_uri": "https://localhost:8080/"
        },
        "id": "Xu-ElI_xPsHH",
        "outputId": "3a078b82-e702-4f5f-ba6f-d36d1b314d2a"
      },
      "source": [
        "print('LGBM Confusion Matrix')\n",
        "print(cm1) # Step 6, 문제 29\n",
        "print('\\n')\n",
        "print('Random Forest Confusion Matrix')\n",
        "print(cm2) # Step 7, 문제 33"
      ],
      "execution_count": null,
      "outputs": [
        {
          "output_type": "stream",
          "text": [
            "LGBM Confusion Matrix\n",
            "[[934  41   4   3   1   0   2   3   0   0   0]\n",
            " [ 40 869  46  13   1   0   0   0   0   0   0]\n",
            " [ 23  42 807  45   7   0   2   2   0   2   0]\n",
            " [ 13  20  75 838  62   6   2   2   1   0   0]\n",
            " [ 11  17  16  73 758  70  12   4   5   3   0]\n",
            " [  8  13  18  22  76 758  78  12  11   6   0]\n",
            " [ 10   7  11  12  11  92 702  78  13  15   0]\n",
            " [ 12   8  10   8  11  12  77 730  91  23   0]\n",
            " [  7  10  10   6   9   7  12 102 727  88   0]\n",
            " [  8   7  10  16  16   6   7  29  62 808   0]\n",
            " [  0   0   0   0   0   0   0   0   0  12   0]]\n",
            "\n",
            "\n",
            "Random Forest Confusion Matrix\n",
            "[[935  44   3   4   1   1   0   0   0   0   0]\n",
            " [ 53 839  61   8   3   2   3   0   0   0   0]\n",
            " [ 27  71 772  41  13   1   3   0   1   1   0]\n",
            " [ 17  15  95 783  83  11   6   2   6   1   0]\n",
            " [ 16  18  11  69 733  86  17   6   7   6   0]\n",
            " [ 13  14  17  15  86 722 101  16  14   4   0]\n",
            " [ 11   9   9  13  16 101 687  85   8  12   0]\n",
            " [ 12  11   9   4  13  19 106 682  99  27   0]\n",
            " [  7  10   8   9  13  15  21 115 644 136   0]\n",
            " [ 10   6   9  15  14  20  15  41 104 735   0]\n",
            " [  0   0   0   0   0   0   0   0   0  12   0]]\n"
          ],
          "name": "stdout"
        }
      ]
    },
    {
      "cell_type": "code",
      "metadata": {
        "colab": {
          "base_uri": "https://localhost:8080/"
        },
        "id": "vfaW2m5-QSmy",
        "outputId": "95ccbd89-04d9-4a95-ce53-77bbf1536584"
      },
      "source": [
        "print ('Classification Comparions for Multiclass Models\\n')\n",
        "print ('rfc_score   :', '{0:0.4f}'.format(rfc_score))\n",
        "print (classification_report(y_test, y_pred)) # Step 7, 문제 37\n",
        "print ('lgbm_score  :', '{0:0.4f}'.format(lgbm_score))\n",
        "print (classification_report(y_test, y_pred1))"
      ],
      "execution_count": null,
      "outputs": [
        {
          "output_type": "stream",
          "text": [
            "Classification Comparions for Multiclass Models\n",
            "\n",
            "rfc_score   : 0.7710\n",
            "              precision    recall  f1-score   support\n",
            "\n",
            "           0       0.91      0.93      0.92      1957\n",
            "           1       0.85      0.93      0.89      2918\n",
            "           2       0.87      0.82      0.84      1953\n",
            "           3       0.82      0.86      0.84      1960\n",
            "           4       0.94      0.64      0.76       981\n",
            "\n",
            "    accuracy                           0.87      9769\n",
            "   macro avg       0.88      0.84      0.85      9769\n",
            "weighted avg       0.87      0.87      0.86      9769\n",
            "\n",
            "lgbm_score  : 0.8119\n",
            "              precision    recall  f1-score   support\n",
            "\n",
            "           0       0.93      0.95      0.94      1957\n",
            "           1       0.89      0.95      0.92      2918\n",
            "           2       0.90      0.86      0.88      1953\n",
            "           3       0.88      0.88      0.88      1960\n",
            "           4       0.93      0.80      0.86       981\n",
            "\n",
            "    accuracy                           0.90      9769\n",
            "   macro avg       0.91      0.89      0.90      9769\n",
            "weighted avg       0.90      0.90      0.90      9769\n",
            "\n"
          ],
          "name": "stdout"
        }
      ]
    },
    {
      "cell_type": "markdown",
      "metadata": {
        "id": "jT81QmBu0qJ7"
      },
      "source": [
        "## Step 8. 요약\n",
        "\n",
        "- 1) 이진분류·다중분류 모델의 이해<p>: 분류 항목의 수에 따라 달라지는 모델링 방법(파라미터 처리)\n",
        "\n",
        "- 2) 선형 기반·트리 기반 분류모델의 이해<p>: Logistic Regression, Random Forest, Gradient Boosting, <strong>Light GBM</strong> 등\n",
        "\n",
        "\n",
        "- 3) 변수 처리 방법에 대한 이해<p>: 범주변수 처리, 스케일 조정, 3개 이상의 클래스 처리\n",
        "\n",
        "\n",
        "- 4) 분류모델 결과를 해석하는 방법 습득<p>: 단순정확도, <b>인접정확도</b>, Precision, Recall  등\n",
        "\n",
        "\n",
        "- 5) 평가결과를 바탕으로 모델을 개선하는 방법 습득<p>: F1 스코어, Confusion Matrix, Classification Report 등을 종합적으로 이용\n",
        "    \n",
        "\n",
        "- 다음 주제: 구현한 머신러닝 모델을 XAI 기법으로 설명하기"
      ]
    }
  ]
}