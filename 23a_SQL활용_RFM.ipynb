{
  "nbformat": 4,
  "nbformat_minor": 0,
  "metadata": {
    "colab": {
      "name": "23a_SQL활용_RFM.ipynb",
      "provenance": [],
      "collapsed_sections": [],
      "authorship_tag": "ABX9TyNcCfZzavuvkz0SU0dfTlsL",
      "include_colab_link": true
    },
    "kernelspec": {
      "name": "python3",
      "display_name": "Python 3"
    }
  },
  "cells": [
    {
      "cell_type": "markdown",
      "metadata": {
        "id": "view-in-github",
        "colab_type": "text"
      },
      "source": [
        "<a href=\"https://colab.research.google.com/github/mjkimcs/portfolio/blob/main/23a_SQL%ED%99%9C%EC%9A%A9_RFM.ipynb\" target=\"_parent\"><img src=\"https://colab.research.google.com/assets/colab-badge.svg\" alt=\"Open In Colab\"/></a>"
      ]
    },
    {
      "cell_type": "markdown",
      "metadata": {
        "id": "aTS4UII7bbbo"
      },
      "source": [
        "RFM 분석: 고객 행동에 기반한 Segmentation 방법  \r\n",
        "\r\n",
        "1. Recency(최근에 구매): 값이 낮을수록 점수가 높음\r\n",
        "2. Frequency(자주 구매): 값이 높을수록 점수가 높음\r\n",
        "3. Monetary(많은 금액 구매) : 값이 높을수록 점수가 높음\r\n"
      ]
    },
    {
      "cell_type": "markdown",
      "metadata": {
        "id": "_-68SLSCboDM"
      },
      "source": [
        "구매가 없을 경우 \r\n",
        "1. M에 매출 대신 인게이지먼트 지표(방문 페이지수/총 시청시간/사이트 체류시간)를 활용\r\n",
        "2. R과 F만 사용"
      ]
    },
    {
      "cell_type": "markdown",
      "metadata": {
        "id": "r2uc2tmKbwqD"
      },
      "source": [
        "    --2011-12-10가 현재라고 가정\r\n",
        "    SELECT customer_id, \r\n",
        "    MAX(invoice_date) AS recent_purchase, \r\n",
        "    COUNT(invoice_no) AS frequency, \r\n",
        "    SUM(quantity*unit_price) AS monetary,\r\n",
        "    DATE_DIFF( DATE('2011-12-10'),DATE(MAX(invoice_date)),DAY ) AS recency\r\n",
        "    FROM `1.sales`\r\n",
        "    GROUP BY customer_id\r\n",
        "\r\n",
        "    --'RFM_분석.zip' 파일 참고\r\n"
      ]
    },
    {
      "cell_type": "markdown",
      "metadata": {
        "id": "rK1nHEO_cAjz"
      },
      "source": [
        "1. 중요 신규 고객: F 점수는 낮지만, R과 M 점수가 높은 그룹\r\n",
        "        신규 중에서도 VIP가 될 가능성이 높은 고객\r\n",
        "2. 이탈한 충성 고객: F와 M 점수가 높지만, R점수가 낮은 그룹\r\n",
        "        이탈했지만 다시 데려오는 시도를 해볼만한 고객"
      ]
    }
  ]
}