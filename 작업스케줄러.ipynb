{
  "nbformat": 4,
  "nbformat_minor": 0,
  "metadata": {
    "colab": {
      "name": "작업스케줄러.ipynb",
      "provenance": [],
      "authorship_tag": "ABX9TyMrseJS+6ZqBI/M0dlDByXu",
      "include_colab_link": true
    },
    "kernelspec": {
      "name": "python3",
      "display_name": "Python 3"
    }
  },
  "cells": [
    {
      "cell_type": "markdown",
      "metadata": {
        "id": "view-in-github",
        "colab_type": "text"
      },
      "source": [
        "<a href=\"https://colab.research.google.com/github/mjkimcs/portfolio/blob/main/%EC%9E%91%EC%97%85%EC%8A%A4%EC%BC%80%EC%A4%84%EB%9F%AC.ipynb\" target=\"_parent\"><img src=\"https://colab.research.google.com/assets/colab-badge.svg\" alt=\"Open In Colab\"/></a>"
      ]
    },
    {
      "cell_type": "markdown",
      "metadata": {
        "id": "zZ-BisOPOoPG"
      },
      "source": [
        "작업 스케줄러  \r\n",
        "기본작업만들기  \r\n",
        "파이참 - venv - Scripts - python.exe - 우클릭 - Copy Path - Absolute Path  \r\n",
        "프로그램/스크립트에 붙여넣기  \r\n",
        "인수추가 - 파이썬파일 Absolute Path 붙여넣기 - 띄어쓰기가 있다면 제일 앞뒤에 큰따옴표 해주기  \r\n",
        "시작위치 - 프로젝트 폴더 경로 넣기  \r\n"
      ]
    },
    {
      "cell_type": "markdown",
      "metadata": {
        "id": "90_miyKVRsaF"
      },
      "source": [
        "[맥 버전]  \r\n",
        "런치패드 - 기타 - 터미널  \r\n",
        "nano crontab -e  \r\n",
        "분 시 일 월 요일  \r\n",
        "10 * * * *  : 매시 10분마다, 1시10분, 2시10분, 3시10분  \r\n",
        "*/10 * * * * : 매 10분마다, 1시10분, 1시20분, 1시30분  \r\n",
        "*10 * * * : 매일 오전10시마다    \r\n",
        "(파이썬 인터프리터 경로) : venv - bin - python 끌어다놓기  \r\n",
        "(파이썬 파일 경로) : 끌어다놓기  \r\n",
        "  \r\n",
        "*****(파이썬 인터프리터 경로)(파이썬 파일 경로)  \r\n",
        "  \r\n",
        "Ctrl+O : 저장  \r\n",
        "엔터  \r\n",
        "Ctrl+X : 나오기  "
      ]
    }
  ]
}