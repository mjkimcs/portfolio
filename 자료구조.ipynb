{
  "nbformat": 4,
  "nbformat_minor": 0,
  "metadata": {
    "colab": {
      "name": "자료구조",
      "provenance": [],
      "collapsed_sections": [],
      "authorship_tag": "ABX9TyMKPNKqSCLCxdI6teX6q7uw",
      "include_colab_link": true
    },
    "kernelspec": {
      "name": "python3",
      "display_name": "Python 3"
    },
    "language_info": {
      "name": "python"
    }
  },
  "cells": [
    {
      "cell_type": "markdown",
      "metadata": {
        "id": "view-in-github",
        "colab_type": "text"
      },
      "source": [
        "<a href=\"https://colab.research.google.com/github/mjkimcs/portfolio/blob/main/%EC%9E%90%EB%A3%8C%EA%B5%AC%EC%A1%B0.ipynb\" target=\"_parent\"><img src=\"https://colab.research.google.com/assets/colab-badge.svg\" alt=\"Open In Colab\"/></a>"
      ]
    },
    {
      "cell_type": "markdown",
      "metadata": {
        "id": "ugGta3twLWtR"
      },
      "source": [
        "- 이진탐색트리: 좌측 하위 트리의 노드들은 상위 노드보다 작거나 같은 값, 우측 하위 트리의 노드들은 상위 노드보다 큰 값, 탐색하려는 값이 루트 노드의 값보다 크다면 우측 하위 트리로 이동해서 탐색을 반복  \n",
        "\n",
        "- 이산수학: 불연속적인 수학, 컴퓨터(0과 1) 수학"
      ]
    },
    {
      "cell_type": "markdown",
      "metadata": {
        "id": "DCY5dDfg5-JE"
      },
      "source": [
        "- 정렬 알고리즘: 데이터를 특정한 기준에 따라 순서대로 나열하는 것\n",
        "  1. 선택 정렬: 가장 작은 숫자를 선택해 처리되지 않은 데이터 중 가장 앞의 숫자와 바꾸기\n",
        "  2. 삽입 정렬: 다음 데이터가 앞 데이터들의 왼쪽 or 오른쪽 위치로 들어갈지 판단\n",
        "  3. 퀵 정렬: 현재 값이 피벗, 왼쪽에서부터 피벗보다 큰 값을 고르고 오른쪽에서부터 피벗보다 작은 값을 선택하여 위치를 서로 변경, 위치가 엇갈리는 경우 피벗과 작은 데이터의 위치를 바꾸기, 피벗을 중심으로 왼쪽과 오른쪽으로 분할됨, 왼쪽과 오른쪽 데이터 묶음을 각각 마찬가지로 정렬\n",
        "  4. 계수 정렬: 각 숫자가 몇 번씩 등장했는지 횟수를 정리 후 순서대로 정렬 ex)0 0 1 2 3 4 5 6 7 7 7 8 9"
      ]
    }
  ]
}