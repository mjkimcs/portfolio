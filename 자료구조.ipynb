{
  "nbformat": 4,
  "nbformat_minor": 0,
  "metadata": {
    "colab": {
      "name": "자료구조",
      "provenance": [],
      "authorship_tag": "ABX9TyMQ1/Dfu1nG2VMNGGVpWHuO",
      "include_colab_link": true
    },
    "kernelspec": {
      "name": "python3",
      "display_name": "Python 3"
    },
    "language_info": {
      "name": "python"
    }
  },
  "cells": [
    {
      "cell_type": "markdown",
      "metadata": {
        "id": "view-in-github",
        "colab_type": "text"
      },
      "source": [
        "<a href=\"https://colab.research.google.com/github/mjkimcs/portfolio/blob/main/%EC%9E%90%EB%A3%8C%EA%B5%AC%EC%A1%B0.ipynb\" target=\"_parent\"><img src=\"https://colab.research.google.com/assets/colab-badge.svg\" alt=\"Open In Colab\"/></a>"
      ]
    },
    {
      "cell_type": "markdown",
      "metadata": {
        "id": "ugGta3twLWtR"
      },
      "source": [
        "- 이진탐색트리: 좌측 하위 트리의 노드들은 상위 노드보다 작거나 같은 값, 우측 하위 트리의 노드들은 상위 노드보다 큰 값, 탐색하려는 값이 루트 노드의 값보다 크다면 우측 하위 트리로 이동해서 탐색을 반복  \n",
        "\n",
        "- 이산수학: 불연속적인 수학, 컴퓨터(0과 1) 수학"
      ]
    }
  ]
}