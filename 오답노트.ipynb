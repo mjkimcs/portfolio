{
  "nbformat": 4,
  "nbformat_minor": 0,
  "metadata": {
    "colab": {
      "name": "오답노트.ipynb",
      "provenance": [],
      "collapsed_sections": [],
      "authorship_tag": "ABX9TyOef0FzzZ49Wy1kvmr50TkS",
      "include_colab_link": true
    },
    "kernelspec": {
      "name": "python3",
      "display_name": "Python 3"
    }
  },
  "cells": [
    {
      "cell_type": "markdown",
      "metadata": {
        "id": "view-in-github",
        "colab_type": "text"
      },
      "source": [
        "<a href=\"https://colab.research.google.com/github/mjkimcs/portfolio/blob/main/%EC%98%A4%EB%8B%B5%EB%85%B8%ED%8A%B8.ipynb\" target=\"_parent\"><img src=\"https://colab.research.google.com/assets/colab-badge.svg\" alt=\"Open In Colab\"/></a>"
      ]
    },
    {
      "cell_type": "code",
      "metadata": {
        "id": "8LLiDXM0FF9U"
      },
      "source": [
        "import matplotlib.pyplot as plt\r\n",
        "import seaborn as sns"
      ],
      "execution_count": null,
      "outputs": []
    },
    {
      "cell_type": "code",
      "metadata": {
        "id": "AO3aEK0QCivB"
      },
      "source": [
        "fig = plt.figure(figsize=(8,10))"
      ],
      "execution_count": null,
      "outputs": []
    },
    {
      "cell_type": "markdown",
      "metadata": {
        "id": "BJQEsNCCLraa"
      },
      "source": [
        "## 범주형 데이터"
      ]
    },
    {
      "cell_type": "code",
      "metadata": {
        "id": "1vh8C3zrLmWo"
      },
      "source": [
        "sns.countplot(y='컬럼명', data=df.fillna('n/a'), order=df.fillna('n/a')['컬럼명'].value_counts().index)"
      ],
      "execution_count": null,
      "outputs": []
    },
    {
      "cell_type": "code",
      "metadata": {
        "id": "hlRXlhw0Kf_0"
      },
      "source": [
        "sns.countplot(x='컬럼명', data=df[df['컬럼명']>=50]);"
      ],
      "execution_count": null,
      "outputs": []
    },
    {
      "cell_type": "code",
      "metadata": {
        "id": "5RcQzXAFMD8y"
      },
      "source": [
        "# 그 하나의 컬럼에 항목이 너무 많으면 len 사용\r\n",
        "# 범주형 데이터에서 소수 범주를 others로 대체\r\n",
        "\r\n",
        "counts = df['컬럼명'].fillna('others').value_counts()\r\n",
        "plt.plot(range(len(counts)), counts)\r\n",
        "plt.plot(range(len(counts[:20])), counts[:20]) # 상위 20개만 보기\r\n",
        "df['컬럼명'] = df['컬럼명'].apply(lambda s: s if s not in counts[20:] else 'others')"
      ],
      "execution_count": null,
      "outputs": []
    },
    {
      "cell_type": "code",
      "metadata": {
        "id": "nJuRItAIE-k7"
      },
      "source": [
        "# 국가별 행복순위 5개년 시각화\r\n",
        "\r\n",
        "fig = plt.figure(figsize=(10, 50))\r\n",
        "\r\n",
        "rank2020 = rank_table['2020'].dropna() # rank_table : df / rank2020 : 인덱스국가 컬럼행복지수인 시리즈형\r\n",
        "for country in rank2020.index:  # rank2020.index : 국가\r\n",
        "  t = rank_table.loc[country].dropna() # 해당국가를 찾아서 5개년 행복지수\r\n",
        "  plt.plot(t.index, t, '.-') # t.index : 년도\r\n",
        "\r\n",
        "plt.xlim(['2015', '2020']) # x축 limit 좌우 여백없이 딱맞게\r\n",
        "# plt.xlim(-100, 100)\r\n",
        "plt.ylim([0, rank_table.max().max() + 1])\r\n",
        "\r\n",
        "plt.yticks(rank2020, rank2020.index) # (tick숫자, label국가) / y축 라벨을 국가이름으로\r\n",
        "\r\n",
        "ax = plt.gca() # get current axes\r\n",
        "ax.invert_yaxis() # 위아래로 뒤집기\r\n",
        "\r\n",
        "ax.yaxis.set_label_position('right') # label을 오른쪽으로\r\n",
        "ax.yaxis.tick_right() # tick도 오른쪽으로\r\n",
        "\r\n",
        "plt.tight_layout() # 좀 더 예쁘게 그려줌\r\n",
        "plt.show()"
      ],
      "execution_count": null,
      "outputs": []
    },
    {
      "cell_type": "code",
      "metadata": {
        "id": "wS56R-kOMSDw"
      },
      "source": [
        "# 국가별 행복점수를 구성하는 요소 barplot\r\n",
        "\r\n",
        "df_2020 = df_all[df_all['year'] == '2020']\r\n",
        "df_2020 = df_2020.loc[df_2020.index[:20]]\r\n",
        "\r\n",
        "d = df_2020[df_2020.columns[4:]].cumsum(axis=1) # 누적합\r\n",
        "d = d[d.columns[::-1]] # 그리는 순서 변경하기 위해 컬럼 전환\r\n",
        "\r\n",
        "d['country'] = df_2020['country'] # country 열 추가\r\n",
        "\r\n",
        "fig = plt.figure(figsize=(6, 8))\r\n",
        "sns.set_color_codes('muted') # 색깔 톤다운\r\n",
        "colors = ['r', 'g', 'b', 'c', 'm', 'y']\r\n",
        "for i, k in enumerate(d.columns[:-1]):  # i는 0,1,2,… / k는 컬럼명\r\n",
        "  sns.barplot(x=k, y='d.columns에서 뺐던 그 컬럼', data=d, color=colors[i], label=k) # label은 legend를 위한 것\r\n",
        "\r\n",
        "plt.legend(loc='lower right') # loc: 범례 위치지정\r\n",
        "plt.title('Top 20 Happiness Scores in Details') #sns.countplot(x='컬럼명', data=df).set_title('Top 20 Happiness Scores in Details')\r\n",
        "plt.xlabel('Happiness Score')\r\n",
        "sns.despine(left=True, bottom=True) # 프레임 테두리 선 제거"
      ],
      "execution_count": null,
      "outputs": []
    },
    {
      "cell_type": "code",
      "metadata": {
        "id": "ulagtrh-PdIn"
      },
      "source": [
        "sns.boxplot(x='컬럼명', data=df)"
      ],
      "execution_count": null,
      "outputs": []
    },
    {
      "cell_type": "code",
      "metadata": {
        "id": "COM-aLWmRSGx"
      },
      "source": [
        "sns.boxplot(x='컬럼명', y='컬럼명', data=df)\r\n",
        "plt.xticks(rotation=90)\r\n",
        "plt.show()"
      ],
      "execution_count": null,
      "outputs": []
    },
    {
      "cell_type": "markdown",
      "metadata": {
        "id": "FGvgZvIHOvUr"
      },
      "source": [
        "## 수치형 데이터"
      ]
    },
    {
      "cell_type": "code",
      "metadata": {
        "id": "5-ma1whMOIDX"
      },
      "source": [
        "sns.histplot(x='컬럼명', data=df, bins=30, kde=True)"
      ],
      "execution_count": null,
      "outputs": []
    },
    {
      "cell_type": "code",
      "metadata": {
        "id": "2cGUL9CIE55Q"
      },
      "source": [
        "sns.histplot(x='컬럼명', hue='컬럼명', kde=True, data=df)"
      ],
      "execution_count": null,
      "outputs": []
    },
    {
      "cell_type": "code",
      "metadata": {
        "colab": {
          "base_uri": "https://localhost:8080/",
          "height": 350
        },
        "id": "79O_RVJTWoYl",
        "outputId": "6dc078e6-2852-4ae3-f569-40e3461acc7f"
      },
      "source": [
        "sns.histplot(x='Global_Sales', hue='Genre', kde=True, data=df)"
      ],
      "execution_count": null,
      "outputs": [
        {
          "output_type": "execute_result",
          "data": {
            "text/plain": [
              "<matplotlib.axes._subplots.AxesSubplot at 0x7f35e9c4db70>"
            ]
          },
          "metadata": {
            "tags": []
          },
          "execution_count": 27
        },
        {
          "output_type": "display_data",
          "data": {
            "image/png": "[encoded data removed]",
            "text/plain": [
              "<Figure size 1440x360 with 1 Axes>"
            ]
          },
          "metadata": {
            "tags": [],
            "needs_background": "light"
          }
        }
      ]
    },
    {
      "cell_type": "code",
      "metadata": {
        "colab": {
          "base_uri": "https://localhost:8080/",
          "height": 297
        },
        "id": "Y69cdFemYPHs",
        "outputId": "edfcfa76-f8e9-4a99-abe1-d8c386e58306"
      },
      "source": [
        "sns.histplot(x='Critic_Count', data=df, bins=16)"
      ],
      "execution_count": null,
      "outputs": [
        {
          "output_type": "execute_result",
          "data": {
            "text/plain": [
              "<matplotlib.axes._subplots.AxesSubplot at 0x7f4d6ef0be10>"
            ]
          },
          "metadata": {
            "tags": []
          },
          "execution_count": 26
        },
        {
          "output_type": "display_data",
          "data": {
            "image/png": "[encoded data removed]",
            "text/plain": [
              "<Figure size 432x288 with 1 Axes>"
            ]
          },
          "metadata": {
            "tags": [],
            "needs_background": "light"
          }
        }
      ]
    },
    {
      "cell_type": "code",
      "metadata": {
        "colab": {
          "base_uri": "https://localhost:8080/",
          "height": 297
        },
        "id": "jEMOb6pFXdWG",
        "outputId": "5b5f62a1-80e0-4763-99a8-59e70547bd69"
      },
      "source": [
        "sns.histplot(data=df['User_Score'].apply(float), bins=16) # User_Score 값을 string으로 인식하므로 float을 씌워서 숫자로 바꿔줌"
      ],
      "execution_count": null,
      "outputs": [
        {
          "output_type": "execute_result",
          "data": {
            "text/plain": [
              "<matplotlib.axes._subplots.AxesSubplot at 0x7f35e86696d8>"
            ]
          },
          "metadata": {
            "tags": []
          },
          "execution_count": 34
        },
        {
          "output_type": "display_data",
          "data": {
            "image/png": "[encoded data removed]",
            "text/plain": [
              "<Figure size 432x288 with 1 Axes>"
            ]
          },
          "metadata": {
            "tags": [],
            "needs_background": "light"
          }
        }
      ]
    },
    {
      "cell_type": "code",
      "metadata": {
        "colab": {
          "base_uri": "https://localhost:8080/",
          "height": 312
        },
        "id": "g6dvf7pInXlc",
        "outputId": "947d40ee-df10-4394-ed5b-2e5ccbefd176"
      },
      "source": [
        "plt.figure(figsize=(12,4))\r\n",
        "sns.histplot(data=df1, bins=30, kde=True, color='g')\r\n",
        "sns.histplot(data=df2, bins=30, kde=True, color='r')\r\n",
        "plt.title(\"제목\")\r\n",
        "plt.xlabel(\"x축 제목\"\")\r\n",
        "plt.legend([\"df1 제목\", \"df2 제목\"])"
      ],
      "execution_count": null,
      "outputs": [
        {
          "output_type": "execute_result",
          "data": {
            "text/plain": [
              "<matplotlib.legend.Legend at 0x7f7b53732050>"
            ]
          },
          "metadata": {
            "tags": []
          },
          "execution_count": 379
        },
        {
          "output_type": "display_data",
          "data": {
            "image/png": "[encoded data removed]",
            "text/plain": [
              "<Figure size 864x288 with 1 Axes>"
            ]
          },
          "metadata": {
            "tags": [],
            "needs_background": "light"
          }
        }
      ]
    },
    {
      "cell_type": "code",
      "metadata": {
        "colab": {
          "base_uri": "https://localhost:8080/",
          "height": 312
        },
        "id": "kyuUj79FoBqO",
        "outputId": "acaf6a9b-853e-444e-bae0-eb1d9d09ee30"
      },
      "source": [
        "plt.figure(figsize=(12,4))\r\n",
        "sns.distplot(df1, bins=30)\r\n",
        "sns.distplot(df2, bins=30)\r\n",
        "plt.title(\"Simulation Result\")\r\n",
        "plt.xlabel(\"winPlacePerc\")\r\n",
        "plt.legend([\"Passive Style\", \"Aggressive Sytle\"])"
      ],
      "execution_count": null,
      "outputs": [
        {
          "output_type": "execute_result",
          "data": {
            "text/plain": [
              "<matplotlib.legend.Legend at 0x7f7b5373bc90>"
            ]
          },
          "metadata": {
            "tags": []
          },
          "execution_count": 381
        },
        {
          "output_type": "display_data",
          "data": {
            "image/png": "[encoded data removed]",
            "text/plain": [
              "<Figure size 864x288 with 1 Axes>"
            ]
          },
          "metadata": {
            "tags": [],
            "needs_background": "light"
          }
        }
      ]
    },
    {
      "cell_type": "code",
      "metadata": {
        "id": "elzpBUcgIm5t"
      },
      "source": [
        "sns.distplot(df['컬럼명'], bins=10);"
      ],
      "execution_count": null,
      "outputs": []
    },
    {
      "cell_type": "code",
      "metadata": {
        "colab": {
          "base_uri": "https://localhost:8080/",
          "height": 458
        },
        "id": "5S6lF-iAZqNK",
        "outputId": "0e80d547-d4d2-4a0b-cf99-6069290a21f1"
      },
      "source": [
        "sns.jointplot(x='Critic_Score', y='Global_Sales', data=df, kind='hist') # kind=hex는 다른 스타일"
      ],
      "execution_count": null,
      "outputs": [
        {
          "output_type": "execute_result",
          "data": {
            "text/plain": [
              "<seaborn.axisgrid.JointGrid at 0x7f4d5cdd63d0>"
            ]
          },
          "metadata": {
            "tags": []
          },
          "execution_count": 49
        },
        {
          "output_type": "display_data",
          "data": {
            "image/png": "[encoded data removed]",
            "text/plain": [
              "<Figure size 432x432 with 3 Axes>"
            ]
          },
          "metadata": {
            "tags": [],
            "needs_background": "light"
          }
        }
      ]
    },
    {
      "cell_type": "code",
      "metadata": {
        "id": "YGtOXmVjPb8I"
      },
      "source": [
        "err = (pred - y_test) / y_test * 100  # 시리즈 자료형\r\n",
        "sns.histplot(err)"
      ],
      "execution_count": null,
      "outputs": []
    },
    {
      "cell_type": "code",
      "metadata": {
        "id": "C75qUYNBP8CQ"
      },
      "source": [
        "sns.rugplot(x='컬럼명', data=df, height=1) # 아웃라이어 판단 시 용이"
      ],
      "execution_count": null,
      "outputs": []
    },
    {
      "cell_type": "code",
      "metadata": {
        "id": "lwwcnvkFPe00"
      },
      "source": [
        "df['컬럼명'].hist();"
      ],
      "execution_count": null,
      "outputs": []
    },
    {
      "cell_type": "code",
      "metadata": {
        "id": "xSjGyjzXEclD"
      },
      "source": [
        "df[df['Global_Sales'] > 80] # inplace=True 안써줘도 적용됨"
      ],
      "execution_count": null,
      "outputs": []
    },
    {
      "cell_type": "markdown",
      "metadata": {
        "id": "h7AiPXWKQAsr"
      },
      "source": [
        "## 내가 원하는 df 만들기"
      ]
    },
    {
      "cell_type": "code",
      "metadata": {
        "id": "SeyPbGe4MWjC",
        "colab": {
          "base_uri": "https://localhost:8080/",
          "height": 270
        },
        "outputId": "8302b2d7-3bdf-41e1-ab63-bd73164b82d9"
      },
      "source": [
        "sns.boxplot(y='Critic_Score', data=df)"
      ],
      "execution_count": null,
      "outputs": [
        {
          "output_type": "execute_result",
          "data": {
            "text/plain": [
              "<matplotlib.axes._subplots.AxesSubplot at 0x7f4d531b39d0>"
            ]
          },
          "metadata": {
            "tags": []
          },
          "execution_count": 59
        },
        {
          "output_type": "display_data",
          "data": {
            "image/png": "[encoded data removed]",
            "text/plain": [
              "<Figure size 432x288 with 1 Axes>"
            ]
          },
          "metadata": {
            "tags": [],
            "needs_background": "light"
          }
        }
      ]
    },
    {
      "cell_type": "code",
      "metadata": {
        "colab": {
          "base_uri": "https://localhost:8080/",
          "height": 272
        },
        "id": "bhIuEPTkeG3m",
        "outputId": "60d4e8f5-5bee-4051-9919-df328b56f625"
      },
      "source": [
        "sns.boxplot(y='User_Score', data=df)"
      ],
      "execution_count": null,
      "outputs": [
        {
          "output_type": "execute_result",
          "data": {
            "text/plain": [
              "<matplotlib.axes._subplots.AxesSubplot at 0x7f4d52184250>"
            ]
          },
          "metadata": {
            "tags": []
          },
          "execution_count": 60
        },
        {
          "output_type": "display_data",
          "data": {
            "image/png": "[encoded data removed]",
            "text/plain": [
              "<Figure size 432x288 with 1 Axes>"
            ]
          },
          "metadata": {
            "tags": [],
            "needs_background": "light"
          }
        }
      ]
    },
    {
      "cell_type": "code",
      "metadata": {
        "colab": {
          "base_uri": "https://localhost:8080/"
        },
        "id": "wkEAfaYQNLvu",
        "outputId": "c5afbb97-2c6b-47d8-e75c-233fb1ce23cf"
      },
      "source": [
        "df['Critic_Score']"
      ],
      "execution_count": null,
      "outputs": [
        {
          "output_type": "execute_result",
          "data": {
            "text/plain": [
              "106      96.0\n",
              "109      91.0\n",
              "111      92.0\n",
              "113      82.0\n",
              "114      88.0\n",
              "         ... \n",
              "16667    46.0\n",
              "16677    81.0\n",
              "16696    80.0\n",
              "16700    61.0\n",
              "16706    60.0\n",
              "Name: Critic_Score, Length: 6487, dtype: float64"
            ]
          },
          "metadata": {
            "tags": []
          },
          "execution_count": 62
        }
      ]
    },
    {
      "cell_type": "code",
      "metadata": {
        "colab": {
          "base_uri": "https://localhost:8080/"
        },
        "id": "VzuMAxW0NPO0",
        "outputId": "ea4e64c8-f716-487d-eb1e-7490689b584a"
      },
      "source": [
        "type(df['Critic_Score'])"
      ],
      "execution_count": null,
      "outputs": [
        {
          "output_type": "execute_result",
          "data": {
            "text/plain": [
              "pandas.core.series.Series"
            ]
          },
          "metadata": {
            "tags": []
          },
          "execution_count": 63
        }
      ]
    },
    {
      "cell_type": "code",
      "metadata": {
        "colab": {
          "base_uri": "https://localhost:8080/",
          "height": 406
        },
        "id": "m-VTNiCtND8D",
        "outputId": "33dca7ad-4214-43b7-b135-7a23c17856d2"
      },
      "source": [
        "df[['Critic_Score']]"
      ],
      "execution_count": null,
      "outputs": [
        {
          "output_type": "execute_result",
          "data": {
            "text/html": [
              "<div>\n",
              "<style scoped>\n",
              "    .dataframe tbody tr th:only-of-type {\n",
              "        vertical-align: middle;\n",
              "    }\n",
              "\n",
              "    .dataframe tbody tr th {\n",
              "        vertical-align: top;\n",
              "    }\n",
              "\n",
              "    .dataframe thead th {\n",
              "        text-align: right;\n",
              "    }\n",
              "</style>\n",
              "<table border=\"1\" class=\"dataframe\">\n",
              "  <thead>\n",
              "    <tr style=\"text-align: right;\">\n",
              "      <th></th>\n",
              "      <th>Critic_Score</th>\n",
              "    </tr>\n",
              "  </thead>\n",
              "  <tbody>\n",
              "    <tr>\n",
              "      <th>106</th>\n",
              "      <td>96.0</td>\n",
              "    </tr>\n",
              "    <tr>\n",
              "      <th>109</th>\n",
              "      <td>91.0</td>\n",
              "    </tr>\n",
              "    <tr>\n",
              "      <th>111</th>\n",
              "      <td>92.0</td>\n",
              "    </tr>\n",
              "    <tr>\n",
              "      <th>113</th>\n",
              "      <td>82.0</td>\n",
              "    </tr>\n",
              "    <tr>\n",
              "      <th>114</th>\n",
              "      <td>88.0</td>\n",
              "    </tr>\n",
              "    <tr>\n",
              "      <th>...</th>\n",
              "      <td>...</td>\n",
              "    </tr>\n",
              "    <tr>\n",
              "      <th>16667</th>\n",
              "      <td>46.0</td>\n",
              "    </tr>\n",
              "    <tr>\n",
              "      <th>16677</th>\n",
              "      <td>81.0</td>\n",
              "    </tr>\n",
              "    <tr>\n",
              "      <th>16696</th>\n",
              "      <td>80.0</td>\n",
              "    </tr>\n",
              "    <tr>\n",
              "      <th>16700</th>\n",
              "      <td>61.0</td>\n",
              "    </tr>\n",
              "    <tr>\n",
              "      <th>16706</th>\n",
              "      <td>60.0</td>\n",
              "    </tr>\n",
              "  </tbody>\n",
              "</table>\n",
              "<p>6487 rows × 1 columns</p>\n",
              "</div>"
            ],
            "text/plain": [
              "       Critic_Score\n",
              "106            96.0\n",
              "109            91.0\n",
              "111            92.0\n",
              "113            82.0\n",
              "114            88.0\n",
              "...             ...\n",
              "16667          46.0\n",
              "16677          81.0\n",
              "16696          80.0\n",
              "16700          61.0\n",
              "16706          60.0\n",
              "\n",
              "[6487 rows x 1 columns]"
            ]
          },
          "metadata": {
            "tags": []
          },
          "execution_count": 61
        }
      ]
    },
    {
      "cell_type": "code",
      "metadata": {
        "colab": {
          "base_uri": "https://localhost:8080/"
        },
        "id": "PD3YbOhVNR5f",
        "outputId": "5c4b1f05-9b2f-44ad-db45-fb188b0e122f"
      },
      "source": [
        "type(df[['Critic_Score']])"
      ],
      "execution_count": null,
      "outputs": [
        {
          "output_type": "execute_result",
          "data": {
            "text/plain": [
              "pandas.core.frame.DataFrame"
            ]
          },
          "metadata": {
            "tags": []
          },
          "execution_count": 64
        }
      ]
    },
    {
      "cell_type": "code",
      "metadata": {
        "id": "J-2i9v3feN-M",
        "colab": {
          "base_uri": "https://localhost:8080/",
          "height": 406
        },
        "outputId": "cb247a4c-373c-47f6-8c90-991ea54f6d7a"
      },
      "source": [
        "critic_score = df[['Critic_Score']].copy()\n",
        "critic_score.rename({'Critic_Score': 'Score'}, axis=1, inplace=True) # 컬럼이름 바꾸기 1탄\n",
        "critic_score"
      ],
      "execution_count": null,
      "outputs": [
        {
          "output_type": "execute_result",
          "data": {
            "text/html": [
              "<div>\n",
              "<style scoped>\n",
              "    .dataframe tbody tr th:only-of-type {\n",
              "        vertical-align: middle;\n",
              "    }\n",
              "\n",
              "    .dataframe tbody tr th {\n",
              "        vertical-align: top;\n",
              "    }\n",
              "\n",
              "    .dataframe thead th {\n",
              "        text-align: right;\n",
              "    }\n",
              "</style>\n",
              "<table border=\"1\" class=\"dataframe\">\n",
              "  <thead>\n",
              "    <tr style=\"text-align: right;\">\n",
              "      <th></th>\n",
              "      <th>Score</th>\n",
              "    </tr>\n",
              "  </thead>\n",
              "  <tbody>\n",
              "    <tr>\n",
              "      <th>106</th>\n",
              "      <td>96.0</td>\n",
              "    </tr>\n",
              "    <tr>\n",
              "      <th>109</th>\n",
              "      <td>91.0</td>\n",
              "    </tr>\n",
              "    <tr>\n",
              "      <th>111</th>\n",
              "      <td>92.0</td>\n",
              "    </tr>\n",
              "    <tr>\n",
              "      <th>113</th>\n",
              "      <td>82.0</td>\n",
              "    </tr>\n",
              "    <tr>\n",
              "      <th>114</th>\n",
              "      <td>88.0</td>\n",
              "    </tr>\n",
              "    <tr>\n",
              "      <th>...</th>\n",
              "      <td>...</td>\n",
              "    </tr>\n",
              "    <tr>\n",
              "      <th>16667</th>\n",
              "      <td>46.0</td>\n",
              "    </tr>\n",
              "    <tr>\n",
              "      <th>16677</th>\n",
              "      <td>81.0</td>\n",
              "    </tr>\n",
              "    <tr>\n",
              "      <th>16696</th>\n",
              "      <td>80.0</td>\n",
              "    </tr>\n",
              "    <tr>\n",
              "      <th>16700</th>\n",
              "      <td>61.0</td>\n",
              "    </tr>\n",
              "    <tr>\n",
              "      <th>16706</th>\n",
              "      <td>60.0</td>\n",
              "    </tr>\n",
              "  </tbody>\n",
              "</table>\n",
              "<p>6487 rows × 1 columns</p>\n",
              "</div>"
            ],
            "text/plain": [
              "       Score\n",
              "106     96.0\n",
              "109     91.0\n",
              "111     92.0\n",
              "113     82.0\n",
              "114     88.0\n",
              "...      ...\n",
              "16667   46.0\n",
              "16677   81.0\n",
              "16696   80.0\n",
              "16700   61.0\n",
              "16706   60.0\n",
              "\n",
              "[6487 rows x 1 columns]"
            ]
          },
          "metadata": {
            "tags": []
          },
          "execution_count": 70
        }
      ]
    },
    {
      "cell_type": "code",
      "metadata": {
        "id": "L-fROgxdK6X4"
      },
      "source": [
        "pd.DataFrame(df.reset_index()[['Date', 'Korea, South']].to_numpy(), columns=['ds', 'y'])  # 컬럼이름 바꾸기 2탄"
      ],
      "execution_count": null,
      "outputs": []
    },
    {
      "cell_type": "code",
      "metadata": {
        "colab": {
          "base_uri": "https://localhost:8080/",
          "height": 406
        },
        "id": "b--WrU-fOYOE",
        "outputId": "087f50f0-2f49-4d40-cf76-997c91900b51"
      },
      "source": [
        "critic_score['ScoreBy'] = 'Critics' # ScoreBy 컬럼 생성 후 값을 \"Critics\"라고 채워넣기\r\n",
        "critic_score"
      ],
      "execution_count": null,
      "outputs": [
        {
          "output_type": "execute_result",
          "data": {
            "text/html": [
              "<div>\n",
              "<style scoped>\n",
              "    .dataframe tbody tr th:only-of-type {\n",
              "        vertical-align: middle;\n",
              "    }\n",
              "\n",
              "    .dataframe tbody tr th {\n",
              "        vertical-align: top;\n",
              "    }\n",
              "\n",
              "    .dataframe thead th {\n",
              "        text-align: right;\n",
              "    }\n",
              "</style>\n",
              "<table border=\"1\" class=\"dataframe\">\n",
              "  <thead>\n",
              "    <tr style=\"text-align: right;\">\n",
              "      <th></th>\n",
              "      <th>Score</th>\n",
              "      <th>ScoreBy</th>\n",
              "    </tr>\n",
              "  </thead>\n",
              "  <tbody>\n",
              "    <tr>\n",
              "      <th>106</th>\n",
              "      <td>96.0</td>\n",
              "      <td>Critics</td>\n",
              "    </tr>\n",
              "    <tr>\n",
              "      <th>109</th>\n",
              "      <td>91.0</td>\n",
              "      <td>Critics</td>\n",
              "    </tr>\n",
              "    <tr>\n",
              "      <th>111</th>\n",
              "      <td>92.0</td>\n",
              "      <td>Critics</td>\n",
              "    </tr>\n",
              "    <tr>\n",
              "      <th>113</th>\n",
              "      <td>82.0</td>\n",
              "      <td>Critics</td>\n",
              "    </tr>\n",
              "    <tr>\n",
              "      <th>114</th>\n",
              "      <td>88.0</td>\n",
              "      <td>Critics</td>\n",
              "    </tr>\n",
              "    <tr>\n",
              "      <th>...</th>\n",
              "      <td>...</td>\n",
              "      <td>...</td>\n",
              "    </tr>\n",
              "    <tr>\n",
              "      <th>16667</th>\n",
              "      <td>46.0</td>\n",
              "      <td>Critics</td>\n",
              "    </tr>\n",
              "    <tr>\n",
              "      <th>16677</th>\n",
              "      <td>81.0</td>\n",
              "      <td>Critics</td>\n",
              "    </tr>\n",
              "    <tr>\n",
              "      <th>16696</th>\n",
              "      <td>80.0</td>\n",
              "      <td>Critics</td>\n",
              "    </tr>\n",
              "    <tr>\n",
              "      <th>16700</th>\n",
              "      <td>61.0</td>\n",
              "      <td>Critics</td>\n",
              "    </tr>\n",
              "    <tr>\n",
              "      <th>16706</th>\n",
              "      <td>60.0</td>\n",
              "      <td>Critics</td>\n",
              "    </tr>\n",
              "  </tbody>\n",
              "</table>\n",
              "<p>6487 rows × 2 columns</p>\n",
              "</div>"
            ],
            "text/plain": [
              "       Score  ScoreBy\n",
              "106     96.0  Critics\n",
              "109     91.0  Critics\n",
              "111     92.0  Critics\n",
              "113     82.0  Critics\n",
              "114     88.0  Critics\n",
              "...      ...      ...\n",
              "16667   46.0  Critics\n",
              "16677   81.0  Critics\n",
              "16696   80.0  Critics\n",
              "16700   61.0  Critics\n",
              "16706   60.0  Critics\n",
              "\n",
              "[6487 rows x 2 columns]"
            ]
          },
          "metadata": {
            "tags": []
          },
          "execution_count": 68
        }
      ]
    },
    {
      "cell_type": "code",
      "metadata": {
        "colab": {
          "base_uri": "https://localhost:8080/",
          "height": 406
        },
        "id": "Vn5Rv8_UPudE",
        "outputId": "20101c8e-815c-48f8-a260-f175b57e1702"
      },
      "source": [
        "user_score = df[['User_Score']]\r\n",
        "user_score"
      ],
      "execution_count": null,
      "outputs": [
        {
          "output_type": "execute_result",
          "data": {
            "text/html": [
              "<div>\n",
              "<style scoped>\n",
              "    .dataframe tbody tr th:only-of-type {\n",
              "        vertical-align: middle;\n",
              "    }\n",
              "\n",
              "    .dataframe tbody tr th {\n",
              "        vertical-align: top;\n",
              "    }\n",
              "\n",
              "    .dataframe thead th {\n",
              "        text-align: right;\n",
              "    }\n",
              "</style>\n",
              "<table border=\"1\" class=\"dataframe\">\n",
              "  <thead>\n",
              "    <tr style=\"text-align: right;\">\n",
              "      <th></th>\n",
              "      <th>User_Score</th>\n",
              "    </tr>\n",
              "  </thead>\n",
              "  <tbody>\n",
              "    <tr>\n",
              "      <th>106</th>\n",
              "      <td>9.1</td>\n",
              "    </tr>\n",
              "    <tr>\n",
              "      <th>109</th>\n",
              "      <td>8.9</td>\n",
              "    </tr>\n",
              "    <tr>\n",
              "      <th>111</th>\n",
              "      <td>9.1</td>\n",
              "    </tr>\n",
              "    <tr>\n",
              "      <th>113</th>\n",
              "      <td>8.6</td>\n",
              "    </tr>\n",
              "    <tr>\n",
              "      <th>114</th>\n",
              "      <td>8.5</td>\n",
              "    </tr>\n",
              "    <tr>\n",
              "      <th>...</th>\n",
              "      <td>...</td>\n",
              "    </tr>\n",
              "    <tr>\n",
              "      <th>16667</th>\n",
              "      <td>2.4</td>\n",
              "    </tr>\n",
              "    <tr>\n",
              "      <th>16677</th>\n",
              "      <td>8.8</td>\n",
              "    </tr>\n",
              "    <tr>\n",
              "      <th>16696</th>\n",
              "      <td>7.6</td>\n",
              "    </tr>\n",
              "    <tr>\n",
              "      <th>16700</th>\n",
              "      <td>5.8</td>\n",
              "    </tr>\n",
              "    <tr>\n",
              "      <th>16706</th>\n",
              "      <td>7.2</td>\n",
              "    </tr>\n",
              "  </tbody>\n",
              "</table>\n",
              "<p>6487 rows × 1 columns</p>\n",
              "</div>"
            ],
            "text/plain": [
              "       User_Score\n",
              "106           9.1\n",
              "109           8.9\n",
              "111           9.1\n",
              "113           8.6\n",
              "114           8.5\n",
              "...           ...\n",
              "16667         2.4\n",
              "16677         8.8\n",
              "16696         7.6\n",
              "16700         5.8\n",
              "16706         7.2\n",
              "\n",
              "[6487 rows x 1 columns]"
            ]
          },
          "metadata": {
            "tags": []
          },
          "execution_count": 74
        }
      ]
    },
    {
      "cell_type": "code",
      "metadata": {
        "colab": {
          "base_uri": "https://localhost:8080/",
          "height": 406
        },
        "id": "HwO8RqRaPyMq",
        "outputId": "f273b79a-9151-4805-c8b2-5095d3028e28"
      },
      "source": [
        "user_score = df[['User_Score']].copy() * 10\r\n",
        "user_score"
      ],
      "execution_count": null,
      "outputs": [
        {
          "output_type": "execute_result",
          "data": {
            "text/html": [
              "<div>\n",
              "<style scoped>\n",
              "    .dataframe tbody tr th:only-of-type {\n",
              "        vertical-align: middle;\n",
              "    }\n",
              "\n",
              "    .dataframe tbody tr th {\n",
              "        vertical-align: top;\n",
              "    }\n",
              "\n",
              "    .dataframe thead th {\n",
              "        text-align: right;\n",
              "    }\n",
              "</style>\n",
              "<table border=\"1\" class=\"dataframe\">\n",
              "  <thead>\n",
              "    <tr style=\"text-align: right;\">\n",
              "      <th></th>\n",
              "      <th>User_Score</th>\n",
              "    </tr>\n",
              "  </thead>\n",
              "  <tbody>\n",
              "    <tr>\n",
              "      <th>106</th>\n",
              "      <td>91.0</td>\n",
              "    </tr>\n",
              "    <tr>\n",
              "      <th>109</th>\n",
              "      <td>89.0</td>\n",
              "    </tr>\n",
              "    <tr>\n",
              "      <th>111</th>\n",
              "      <td>91.0</td>\n",
              "    </tr>\n",
              "    <tr>\n",
              "      <th>113</th>\n",
              "      <td>86.0</td>\n",
              "    </tr>\n",
              "    <tr>\n",
              "      <th>114</th>\n",
              "      <td>85.0</td>\n",
              "    </tr>\n",
              "    <tr>\n",
              "      <th>...</th>\n",
              "      <td>...</td>\n",
              "    </tr>\n",
              "    <tr>\n",
              "      <th>16667</th>\n",
              "      <td>24.0</td>\n",
              "    </tr>\n",
              "    <tr>\n",
              "      <th>16677</th>\n",
              "      <td>88.0</td>\n",
              "    </tr>\n",
              "    <tr>\n",
              "      <th>16696</th>\n",
              "      <td>76.0</td>\n",
              "    </tr>\n",
              "    <tr>\n",
              "      <th>16700</th>\n",
              "      <td>58.0</td>\n",
              "    </tr>\n",
              "    <tr>\n",
              "      <th>16706</th>\n",
              "      <td>72.0</td>\n",
              "    </tr>\n",
              "  </tbody>\n",
              "</table>\n",
              "<p>6487 rows × 1 columns</p>\n",
              "</div>"
            ],
            "text/plain": [
              "       User_Score\n",
              "106          91.0\n",
              "109          89.0\n",
              "111          91.0\n",
              "113          86.0\n",
              "114          85.0\n",
              "...           ...\n",
              "16667        24.0\n",
              "16677        88.0\n",
              "16696        76.0\n",
              "16700        58.0\n",
              "16706        72.0\n",
              "\n",
              "[6487 rows x 1 columns]"
            ]
          },
          "metadata": {
            "tags": []
          },
          "execution_count": 75
        }
      ]
    },
    {
      "cell_type": "code",
      "metadata": {
        "id": "l0-L3qX_fAZQ"
      },
      "source": [
        "user_score = df[['User_Score']].copy() * 10\n",
        "user_score.rename({'User_Score': 'Score'}, axis=1, inplace=True)\n",
        "user_score['ScoreBy'] = 'Users'"
      ],
      "execution_count": null,
      "outputs": []
    },
    {
      "cell_type": "code",
      "metadata": {
        "colab": {
          "base_uri": "https://localhost:8080/",
          "height": 406
        },
        "id": "69SW4dFffMUO",
        "outputId": "387a37d9-3dda-4cde-a14a-9f0e37fce8fe"
      },
      "source": [
        "scores = pd.concat([critic_score, user_score])\n",
        "scores"
      ],
      "execution_count": null,
      "outputs": [
        {
          "output_type": "execute_result",
          "data": {
            "text/html": [
              "<div>\n",
              "<style scoped>\n",
              "    .dataframe tbody tr th:only-of-type {\n",
              "        vertical-align: middle;\n",
              "    }\n",
              "\n",
              "    .dataframe tbody tr th {\n",
              "        vertical-align: top;\n",
              "    }\n",
              "\n",
              "    .dataframe thead th {\n",
              "        text-align: right;\n",
              "    }\n",
              "</style>\n",
              "<table border=\"1\" class=\"dataframe\">\n",
              "  <thead>\n",
              "    <tr style=\"text-align: right;\">\n",
              "      <th></th>\n",
              "      <th>Score</th>\n",
              "      <th>ScoreBy</th>\n",
              "    </tr>\n",
              "  </thead>\n",
              "  <tbody>\n",
              "    <tr>\n",
              "      <th>106</th>\n",
              "      <td>96.0</td>\n",
              "      <td>Critics</td>\n",
              "    </tr>\n",
              "    <tr>\n",
              "      <th>109</th>\n",
              "      <td>91.0</td>\n",
              "      <td>Critics</td>\n",
              "    </tr>\n",
              "    <tr>\n",
              "      <th>111</th>\n",
              "      <td>92.0</td>\n",
              "      <td>Critics</td>\n",
              "    </tr>\n",
              "    <tr>\n",
              "      <th>113</th>\n",
              "      <td>82.0</td>\n",
              "      <td>Critics</td>\n",
              "    </tr>\n",
              "    <tr>\n",
              "      <th>114</th>\n",
              "      <td>88.0</td>\n",
              "      <td>Critics</td>\n",
              "    </tr>\n",
              "    <tr>\n",
              "      <th>...</th>\n",
              "      <td>...</td>\n",
              "      <td>...</td>\n",
              "    </tr>\n",
              "    <tr>\n",
              "      <th>16667</th>\n",
              "      <td>24.0</td>\n",
              "      <td>Users</td>\n",
              "    </tr>\n",
              "    <tr>\n",
              "      <th>16677</th>\n",
              "      <td>88.0</td>\n",
              "      <td>Users</td>\n",
              "    </tr>\n",
              "    <tr>\n",
              "      <th>16696</th>\n",
              "      <td>76.0</td>\n",
              "      <td>Users</td>\n",
              "    </tr>\n",
              "    <tr>\n",
              "      <th>16700</th>\n",
              "      <td>58.0</td>\n",
              "      <td>Users</td>\n",
              "    </tr>\n",
              "    <tr>\n",
              "      <th>16706</th>\n",
              "      <td>72.0</td>\n",
              "      <td>Users</td>\n",
              "    </tr>\n",
              "  </tbody>\n",
              "</table>\n",
              "<p>12974 rows × 2 columns</p>\n",
              "</div>"
            ],
            "text/plain": [
              "       Score  ScoreBy\n",
              "106     96.0  Critics\n",
              "109     91.0  Critics\n",
              "111     92.0  Critics\n",
              "113     82.0  Critics\n",
              "114     88.0  Critics\n",
              "...      ...      ...\n",
              "16667   24.0    Users\n",
              "16677   88.0    Users\n",
              "16696   76.0    Users\n",
              "16700   58.0    Users\n",
              "16706   72.0    Users\n",
              "\n",
              "[12974 rows x 2 columns]"
            ]
          },
          "metadata": {
            "tags": []
          },
          "execution_count": 80
        }
      ]
    },
    {
      "cell_type": "code",
      "metadata": {
        "colab": {
          "base_uri": "https://localhost:8080/",
          "height": 296
        },
        "id": "NqIf5jOHfZA9",
        "outputId": "685d5510-faf2-45d6-990c-364d0a86bdd1"
      },
      "source": [
        "sns.boxplot(x='ScoreBy', y='Score', data=scores)"
      ],
      "execution_count": null,
      "outputs": [
        {
          "output_type": "execute_result",
          "data": {
            "text/plain": [
              "<matplotlib.axes._subplots.AxesSubplot at 0x7f4d526ba410>"
            ]
          },
          "metadata": {
            "tags": []
          },
          "execution_count": 81
        },
        {
          "output_type": "display_data",
          "data": {
            "image/png": "[encoded data removed]",
            "text/plain": [
              "<Figure size 432x288 with 1 Axes>"
            ]
          },
          "metadata": {
            "tags": [],
            "needs_background": "light"
          }
        }
      ]
    },
    {
      "cell_type": "markdown",
      "metadata": {
        "id": "OfadjJJjPfjJ"
      },
      "source": [
        "## 상관성 시각화"
      ]
    },
    {
      "cell_type": "code",
      "metadata": {
        "id": "s1lmmBOmPhUO"
      },
      "source": [
        "sns.heatmap(df.corr(), annot=True, cmap='YlOrRd');"
      ],
      "execution_count": null,
      "outputs": []
    },
    {
      "cell_type": "code",
      "metadata": {
        "id": "r5ijD5_FPlbQ"
      },
      "source": [
        "sns.pairplot(df) # scatter로 보기"
      ],
      "execution_count": null,
      "outputs": []
    },
    {
      "cell_type": "markdown",
      "metadata": {
        "id": "B0s3cdvTPwYr"
      },
      "source": [
        "## 찾기 : loc 등"
      ]
    },
    {
      "cell_type": "code",
      "metadata": {
        "id": "ujVEvYDzQoCn"
      },
      "source": [
        "# 그 하나의 컬럼 안에 other이 있는 칸은 모두 others로 바꾸기\r\n",
        "df.loc[df['컬럼명'] == 'other', '컬럼명'] = 'others'"
      ],
      "execution_count": null,
      "outputs": []
    },
    {
      "cell_type": "code",
      "metadata": {
        "id": "lOK82go3Q9D5"
      },
      "source": [
        "# 그 컬럼에서 값이 없는 행을 반환\r\n",
        "df[df['컬럼명'].isna()]"
      ],
      "execution_count": null,
      "outputs": []
    },
    {
      "cell_type": "code",
      "metadata": {
        "id": "AS93GQB6Qy0n"
      },
      "source": [
        "df.loc['하나의 행에 해당하는 인덱스 이름']"
      ],
      "execution_count": null,
      "outputs": []
    },
    {
      "cell_type": "code",
      "metadata": {
        "id": "fKdpiXAsRV1t"
      },
      "source": [
        "# 여러개의 df를 합친 df_all\r\n",
        "# df로 반환\r\n",
        "\r\n",
        "df_all[df_all['year'] == '2020']"
      ],
      "execution_count": null,
      "outputs": []
    },
    {
      "cell_type": "markdown",
      "metadata": {
        "id": "pDHXvdBVRX-Q"
      },
      "source": [
        "## lambda 함수"
      ]
    },
    {
      "cell_type": "code",
      "metadata": {
        "id": "9-HqTyViSOkf"
      },
      "source": [
        "# availability_365가 0 이거나 아닌 것 따로 컬럼 만들기\r\n",
        "df['is_avail_zero'] = df['availability_365'].apply(lambda x: 'Zero' if x==0 else 'Nonzero')"
      ],
      "execution_count": null,
      "outputs": []
    },
    {
      "cell_type": "code",
      "metadata": {
        "id": "kx7rYNMuSTwe"
      },
      "source": [
        "df['review_exists'] = df['reviews_per_month'].isna().apply(lambda x: 'No' if x is True else 'Yes')"
      ],
      "execution_count": null,
      "outputs": []
    },
    {
      "cell_type": "code",
      "metadata": {
        "id": "bKPjKleGRay9"
      },
      "source": [
        "# 상위 10개만 남기고 나머지는 others로 편입시킴\r\n",
        "\r\n",
        "n_cat = 10\r\n",
        "counts = df['컬럼명'].fillna('others').value_counts()\r\n",
        "df['컬럼명'] = df['컬럼명'].apply(lambda s: s if str(s) not in counts.index[n_cat:] else 'others')"
      ],
      "execution_count": null,
      "outputs": []
    },
    {
      "cell_type": "code",
      "metadata": {
        "id": "fwl3jRKfTRiW"
      },
      "source": [
        "# 속도개선\r\n",
        "\r\n",
        "n_cat = 10\r\n",
        "others = counts.index[n_cat:]\r\n",
        "df['컬럼명'] = df['컬럼명'].apply(lambda s: s if str(s) not in others else 'others')"
      ],
      "execution_count": null,
      "outputs": []
    },
    {
      "cell_type": "markdown",
      "metadata": {
        "id": "GZcjnlbAYD4l"
      },
      "source": [
        "## drop"
      ]
    },
    {
      "cell_type": "code",
      "metadata": {
        "id": "jobPB1Mem9QG"
      },
      "source": [
        "# 값이 True인 행 제거\r\n",
        "\r\n",
        "df.drop(df[df['컬럼명']==True].index, inplace=True)"
      ],
      "execution_count": null,
      "outputs": []
    },
    {
      "cell_type": "code",
      "metadata": {
        "id": "wJwM6LmUnHqw"
      },
      "source": [
        "# 열 통째로 제거\r\n",
        "\r\n",
        "df.drop(['컬럼명', '컬럼명'], axis=1, inplace=True)"
      ],
      "execution_count": null,
      "outputs": []
    },
    {
      "cell_type": "markdown",
      "metadata": {
        "id": "ZmlM2jEYkXYs"
      },
      "source": [
        "## 여러 개 DataFrame 합치기"
      ]
    },
    {
      "cell_type": "code",
      "metadata": {
        "id": "ze-3-g-LkeE7"
      },
      "source": [
        "df_all = pd.concat([df1, df2])"
      ],
      "execution_count": null,
      "outputs": []
    },
    {
      "cell_type": "code",
      "metadata": {
        "id": "ScNuX_pWkief"
      },
      "source": [
        "df = dict()\r\n",
        "df['2015'] = pd.read_csv('2015.csv')\r\n",
        "df['2016'] = pd.read_csv('2016.csv')\r\n",
        "df['2017'] = pd.read_csv('2017.csv')\r\n",
        "df['2018'] = pd.read_csv('2018.csv')\r\n",
        "df['2019'] = pd.read_csv('2019.csv')\r\n",
        "df['2020'] = pd.read_csv('2020.csv')"
      ],
      "execution_count": null,
      "outputs": []
    },
    {
      "cell_type": "markdown",
      "metadata": {
        "id": "oYE1E3fzQnY2"
      },
      "source": [
        "## 기타"
      ]
    },
    {
      "cell_type": "code",
      "metadata": {
        "id": "LhwwIMriREWW"
      },
      "source": [
        "# 각 열마다 최대값을 반환\r\n",
        "df.max()"
      ],
      "execution_count": null,
      "outputs": []
    },
    {
      "cell_type": "code",
      "metadata": {
        "colab": {
          "base_uri": "https://localhost:8080/"
        },
        "id": "yjXZURnTRHz8",
        "outputId": "ed1b483d-c000-4baa-d5f9-4a880c2ae54b"
      },
      "source": [
        "colors = ['r', 'g', 'b'][::-1]\r\n",
        "colors"
      ],
      "execution_count": null,
      "outputs": [
        {
          "output_type": "execute_result",
          "data": {
            "text/plain": [
              "['b', 'g', 'r']"
            ]
          },
          "metadata": {
            "tags": []
          },
          "execution_count": 5
        }
      ]
    },
    {
      "cell_type": "code",
      "metadata": {
        "id": "vHMr-m8CRPum"
      },
      "source": [
        "# matchId로 group을 지어서 count를 새로운 컬럼에 반환\r\n",
        "\r\n",
        "df['players_num'] = df.groupby(\"matchId\")[\"matchId\"].transform(\"count\")"
      ],
      "execution_count": null,
      "outputs": []
    },
    {
      "cell_type": "code",
      "metadata": {
        "id": "mLIU9GGX2Nip"
      },
      "source": [
        "# 자료가 너무 많아서 value_counts() 결과가 생략된 경우 하나하나씩 보기\r\n",
        "\r\n",
        "for index, num in zip(df['players_num'].value_counts().index, df['players_num'].value_counts()):\r\n",
        "  print(index, num)"
      ],
      "execution_count": null,
      "outputs": []
    },
    {
      "cell_type": "code",
      "metadata": {
        "id": "ORaoHh_cESB0"
      },
      "source": [
        "if (\"신지모루\" in name.string) or (\"에이지\" in name.string) or (\"20\" in name.string):\r\n",
        "    continue\r\n",
        "\r\n",
        "if (i == \"관람객\") or (i == \"제작사\") or (i == \"감독\"):\r\n",
        "    continue"
      ],
      "execution_count": null,
      "outputs": []
    },
    {
      "cell_type": "code",
      "metadata": {
        "id": "PzA8WEbEEXRz"
      },
      "source": [
        "except_keyword = [\"신지모루\", \"에이지\", \"20\"]\r\n",
        "all = soup.select(\"li.search-product\")\r\n",
        "for i in all:\r\n",
        "    name = i.select_one(\"div.name\")\r\n",
        "    for keword in except_keyword:\r\n",
        "        if keword in name.string:\r\n",
        "            continue"
      ],
      "execution_count": null,
      "outputs": []
    },
    {
      "cell_type": "code",
      "metadata": {
        "id": "EP7yQbyeeY-K"
      },
      "source": [
        "f = ['컬럼명', '컬럼명', '컬럼명']\r\n",
        "df[f][0:11]"
      ],
      "execution_count": null,
      "outputs": []
    },
    {
      "cell_type": "code",
      "metadata": {
        "id": "mGj0q1uQldXX"
      },
      "source": [
        "df['컬럼명'] = (df['컬럼명'] == 0) & (df['컬럼명'] > 0) # T/F로 반환"
      ],
      "execution_count": null,
      "outputs": []
    },
    {
      "cell_type": "code",
      "metadata": {
        "id": "-4x937GwsNgN"
      },
      "source": [
        "# 열 생략없이 다 보기\r\n",
        "\r\n",
        "pd.options.display.max_columns = None\r\n",
        "display(df)"
      ],
      "execution_count": null,
      "outputs": []
    },
    {
      "cell_type": "code",
      "metadata": {
        "id": "D_ZgzhvxSBBC"
      },
      "source": [
        "# Id라는 글자가 들어간 컬럼만 보여줌\r\n",
        "\r\n",
        "df.filter(regex=\"Id\")"
      ],
      "execution_count": null,
      "outputs": []
    },
    {
      "cell_type": "code",
      "metadata": {
        "id": "enuvez7BYUQp"
      },
      "source": [
        "# 숫자와 문자가 섞인 값은 범주형으로 바꿔준 뒤 0부터 새로운 값 부여\r\n",
        "\r\n",
        "df['matchId'] = df['matchId'].astype('category')\r\n",
        "df['matchId_cat'] = df['matchId'].cat.codes"
      ],
      "execution_count": null,
      "outputs": []
    }
  ]
}