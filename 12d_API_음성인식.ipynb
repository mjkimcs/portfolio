{
  "nbformat": 4,
  "nbformat_minor": 0,
  "metadata": {
    "colab": {
      "name": "12d_API_음성인식.ipynb",
      "provenance": [],
      "authorship_tag": "ABX9TyM3GnkVO9UTfNg14ufjW0hr",
      "include_colab_link": true
    },
    "kernelspec": {
      "name": "python3",
      "display_name": "Python 3"
    }
  },
  "cells": [
    {
      "cell_type": "markdown",
      "metadata": {
        "id": "view-in-github",
        "colab_type": "text"
      },
      "source": [
        "<a href=\"https://colab.research.google.com/github/mjkimcs/portfolio/blob/main/12d_API_%EC%9D%8C%EC%84%B1%EC%9D%B8%EC%8B%9D.ipynb\" target=\"_parent\"><img src=\"https://colab.research.google.com/assets/colab-badge.svg\" alt=\"Open In Colab\"/></a>"
      ]
    },
    {
      "cell_type": "markdown",
      "metadata": {
        "id": "-4AnqZsXtfIx"
      },
      "source": [
        "https://www.ncloud.com/  \r\n",
        "서비스 - AI Service - CSS  \r\n",
        "이용 신청하기  \r\n",
        "로그인 - 콘솔 - Products & Services  \r\n",
        "AI NAVER API  \r\n",
        "Application 등록 - 이름 test - https://test.com - 등록  \r\n",
        "인증정보 ID와 Secret  \r\n"
      ]
    },
    {
      "cell_type": "code",
      "metadata": {
        "id": "EUbMbpUqtMgc"
      },
      "source": [
        "import sys\r\n",
        "import requests\r\n",
        "\r\n",
        "api_id = \"m8ilvwptqm\"\r\n",
        "api_pw = \"ZiqnuNGTdE2hARjeqzOJt1liDVvO0PI6gm0zaKwm\"\r\n",
        "\r\n",
        "client_id = api_id\r\n",
        "client_secret = api_pw\r\n",
        "lang = \"Kor\" # 언어 코드 ( Kor, Jpn, Eng, Chn )\r\n",
        "url = \"https://naveropenapi.apigw.ntruss.com/recog/v1/stt?lang=\" + lang\r\n",
        "data = open('./음성파일예시.mp3', 'rb')\r\n",
        "headers = {\r\n",
        "    \"X-NCP-APIGW-API-KEY-ID\": client_id,\r\n",
        "    \"X-NCP-APIGW-API-KEY\": client_secret,\r\n",
        "    \"Content-Type\": \"application/octet-stream\"\r\n",
        "}\r\n",
        "response = requests.post(url,  data=data, headers=headers)\r\n",
        "rescode = response.status_code\r\n",
        "if(rescode == 200):\r\n",
        "    print (response.text)\r\n",
        "else:\r\n",
        "    print(\"Error : \" + response.text)"
      ],
      "execution_count": null,
      "outputs": []
    }
  ]
}