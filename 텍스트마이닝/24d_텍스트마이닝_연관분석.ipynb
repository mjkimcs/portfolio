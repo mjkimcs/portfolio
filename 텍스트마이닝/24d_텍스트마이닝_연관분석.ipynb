{
  "nbformat": 4,
  "nbformat_minor": 0,
  "metadata": {
    "colab": {
      "name": "24d_텍스트마이닝_연관분석.ipynb",
      "provenance": [],
      "authorship_tag": "ABX9TyMa1hP+OT/8uoFKQlNbvNcD",
      "include_colab_link": true
    },
    "kernelspec": {
      "name": "python3",
      "display_name": "Python 3"
    }
  },
  "cells": [
    {
      "cell_type": "markdown",
      "metadata": {
        "id": "view-in-github",
        "colab_type": "text"
      },
      "source": [
        "<a href=\"https://colab.research.google.com/github/mjkimcs/portfolio/blob/main/24d_%ED%85%8D%EC%8A%A4%ED%8A%B8%EB%A7%88%EC%9D%B4%EB%8B%9D_%EC%97%B0%EA%B4%80%EB%B6%84%EC%84%9D.ipynb\" target=\"_parent\"><img src=\"https://colab.research.google.com/assets/colab-badge.svg\" alt=\"Open In Colab\"/></a>"
      ]
    },
    {
      "cell_type": "code",
      "metadata": {
        "colab": {
          "base_uri": "https://localhost:8080/"
        },
        "id": "mq2_Vx6Xot-i",
        "outputId": "7f754ba8-ef51-4369-dca7-a6fb849d0944"
      },
      "source": [
        "!pip install mlxtend"
      ],
      "execution_count": null,
      "outputs": [
        {
          "output_type": "stream",
          "text": [
            "Requirement already satisfied: mlxtend in /usr/local/lib/python3.6/dist-packages (0.14.0)\n",
            "Requirement already satisfied: scipy>=0.17 in /usr/local/lib/python3.6/dist-packages (from mlxtend) (1.4.1)\n",
            "Requirement already satisfied: matplotlib>=1.5.1 in /usr/local/lib/python3.6/dist-packages (from mlxtend) (3.2.2)\n",
            "Requirement already satisfied: pandas>=0.17.1 in /usr/local/lib/python3.6/dist-packages (from mlxtend) (1.1.5)\n",
            "Requirement already satisfied: scikit-learn>=0.18 in /usr/local/lib/python3.6/dist-packages (from mlxtend) (0.22.2.post1)\n",
            "Requirement already satisfied: setuptools in /usr/local/lib/python3.6/dist-packages (from mlxtend) (53.0.0)\n",
            "Requirement already satisfied: numpy>=1.10.4 in /usr/local/lib/python3.6/dist-packages (from mlxtend) (1.19.5)\n",
            "Requirement already satisfied: python-dateutil>=2.1 in /usr/local/lib/python3.6/dist-packages (from matplotlib>=1.5.1->mlxtend) (2.8.1)\n",
            "Requirement already satisfied: pyparsing!=2.0.4,!=2.1.2,!=2.1.6,>=2.0.1 in /usr/local/lib/python3.6/dist-packages (from matplotlib>=1.5.1->mlxtend) (2.4.7)\n",
            "Requirement already satisfied: cycler>=0.10 in /usr/local/lib/python3.6/dist-packages (from matplotlib>=1.5.1->mlxtend) (0.10.0)\n",
            "Requirement already satisfied: kiwisolver>=1.0.1 in /usr/local/lib/python3.6/dist-packages (from matplotlib>=1.5.1->mlxtend) (1.3.1)\n",
            "Requirement already satisfied: pytz>=2017.2 in /usr/local/lib/python3.6/dist-packages (from pandas>=0.17.1->mlxtend) (2018.9)\n",
            "Requirement already satisfied: joblib>=0.11 in /usr/local/lib/python3.6/dist-packages (from scikit-learn>=0.18->mlxtend) (1.0.0)\n",
            "Requirement already satisfied: six>=1.5 in /usr/local/lib/python3.6/dist-packages (from python-dateutil>=2.1->matplotlib>=1.5.1->mlxtend) (1.15.0)\n"
          ],
          "name": "stdout"
        }
      ]
    },
    {
      "cell_type": "code",
      "metadata": {
        "id": "ooZHRsufn78v"
      },
      "source": [
        "import pandas as pd\r\n",
        "from mlxtend.preprocessing import TransactionEncoder\r\n",
        "from mlxtend.frequent_patterns import apriori"
      ],
      "execution_count": null,
      "outputs": []
    },
    {
      "cell_type": "code",
      "metadata": {
        "colab": {
          "base_uri": "https://localhost:8080/",
          "height": 167
        },
        "id": "NBmzixZOo47H",
        "outputId": "2851fbbb-f71b-41b6-bece-7a3190b74b68"
      },
      "source": [
        "dataset = [\r\n",
        "           [\"사과\", \"치즈\", \"생수\", \"호두\"],\r\n",
        "           [\"치즈\", \"고등어\", \"생수\"],\r\n",
        "           [\"팥\", \"호두\", \"복숭아\"],\r\n",
        "           [\"호두\", \"치즈\", \"팥\"]\r\n",
        "]\r\n",
        "te = TransactionEncoder()\r\n",
        "te_transform = te.fit(dataset).transform(dataset)\r\n",
        "df = pd.DataFrame(te_transform, columns=te.columns_)\r\n",
        "df"
      ],
      "execution_count": null,
      "outputs": [
        {
          "output_type": "execute_result",
          "data": {
            "text/html": [
              "<div>\n",
              "<style scoped>\n",
              "    .dataframe tbody tr th:only-of-type {\n",
              "        vertical-align: middle;\n",
              "    }\n",
              "\n",
              "    .dataframe tbody tr th {\n",
              "        vertical-align: top;\n",
              "    }\n",
              "\n",
              "    .dataframe thead th {\n",
              "        text-align: right;\n",
              "    }\n",
              "</style>\n",
              "<table border=\"1\" class=\"dataframe\">\n",
              "  <thead>\n",
              "    <tr style=\"text-align: right;\">\n",
              "      <th></th>\n",
              "      <th>고등어</th>\n",
              "      <th>복숭아</th>\n",
              "      <th>사과</th>\n",
              "      <th>생수</th>\n",
              "      <th>치즈</th>\n",
              "      <th>팥</th>\n",
              "      <th>호두</th>\n",
              "    </tr>\n",
              "  </thead>\n",
              "  <tbody>\n",
              "    <tr>\n",
              "      <th>0</th>\n",
              "      <td>False</td>\n",
              "      <td>False</td>\n",
              "      <td>True</td>\n",
              "      <td>True</td>\n",
              "      <td>True</td>\n",
              "      <td>False</td>\n",
              "      <td>True</td>\n",
              "    </tr>\n",
              "    <tr>\n",
              "      <th>1</th>\n",
              "      <td>True</td>\n",
              "      <td>False</td>\n",
              "      <td>False</td>\n",
              "      <td>True</td>\n",
              "      <td>True</td>\n",
              "      <td>False</td>\n",
              "      <td>False</td>\n",
              "    </tr>\n",
              "    <tr>\n",
              "      <th>2</th>\n",
              "      <td>False</td>\n",
              "      <td>True</td>\n",
              "      <td>False</td>\n",
              "      <td>False</td>\n",
              "      <td>False</td>\n",
              "      <td>True</td>\n",
              "      <td>True</td>\n",
              "    </tr>\n",
              "    <tr>\n",
              "      <th>3</th>\n",
              "      <td>False</td>\n",
              "      <td>False</td>\n",
              "      <td>False</td>\n",
              "      <td>False</td>\n",
              "      <td>True</td>\n",
              "      <td>True</td>\n",
              "      <td>True</td>\n",
              "    </tr>\n",
              "  </tbody>\n",
              "</table>\n",
              "</div>"
            ],
            "text/plain": [
              "     고등어    복숭아     사과     생수     치즈      팥     호두\n",
              "0  False  False   True   True   True  False   True\n",
              "1   True  False  False   True   True  False  False\n",
              "2  False   True  False  False  False   True   True\n",
              "3  False  False  False  False   True   True   True"
            ]
          },
          "metadata": {
            "tags": []
          },
          "execution_count": 15
        }
      ]
    },
    {
      "cell_type": "code",
      "metadata": {
        "colab": {
          "base_uri": "https://localhost:8080/"
        },
        "id": "3mc2v_CYpO-n",
        "outputId": "66061db9-9ba8-4e41-e3cb-2f46ac60917d"
      },
      "source": [
        "# 연관분석\r\n",
        "\r\n",
        "df_apr = apriori(df, use_colnames=True)\r\n",
        "print(df_apr)\r\n",
        "\r\n",
        "# 팥과 호두를 같이 고른 사람은 4명 중에 2명 즉 50%\r\n",
        "# 호두와 치즈의 연관성은 50% 이다.\r\n",
        "# 팥과 호두를 같이 고른 사람이 100% 라면 팥과 호두는 서로 연관성이 아주 높은 것이라고 분석할 수 있음"
      ],
      "execution_count": null,
      "outputs": [
        {
          "output_type": "stream",
          "text": [
            "   support  itemsets\n",
            "0     0.50      (생수)\n",
            "1     0.75      (치즈)\n",
            "2     0.50       (팥)\n",
            "3     0.75      (호두)\n",
            "4     0.50  (생수, 치즈)\n",
            "5     0.50  (호두, 치즈)\n",
            "6     0.50   (팥, 호두)\n"
          ],
          "name": "stdout"
        }
      ]
    },
    {
      "cell_type": "code",
      "metadata": {
        "colab": {
          "base_uri": "https://localhost:8080/"
        },
        "id": "e0o1vNVFrzNQ",
        "outputId": "9f45d679-6d2a-433c-aefc-6e4b0569e1b3"
      },
      "source": [
        "!pip install konlpy"
      ],
      "execution_count": null,
      "outputs": [
        {
          "output_type": "stream",
          "text": [
            "Collecting konlpy\n",
            "\u001b[?25l  Downloading https://files.pythonhosted.org/packages/85/0e/f385566fec837c0b83f216b2da65db9997b35dd675e107752005b7d392b1/konlpy-0.5.2-py2.py3-none-any.whl (19.4MB)\n",
            "\u001b[K     |████████████████████████████████| 19.4MB 1.8MB/s \n",
            "\u001b[?25hCollecting JPype1>=0.7.0\n",
            "\u001b[?25l  Downloading https://files.pythonhosted.org/packages/de/af/93f92b38ec1ff3091cd38982ed19cea2800fefb609b5801c41fc43c0781e/JPype1-1.2.1-cp36-cp36m-manylinux2010_x86_64.whl (457kB)\n",
            "\u001b[K     |████████████████████████████████| 460kB 43.6MB/s \n",
            "\u001b[?25hCollecting tweepy>=3.7.0\n",
            "  Downloading https://files.pythonhosted.org/packages/67/c3/6bed87f3b1e5ed2f34bd58bf7978e308c86e255193916be76e5a5ce5dfca/tweepy-3.10.0-py2.py3-none-any.whl\n",
            "Requirement already satisfied: numpy>=1.6 in /usr/local/lib/python3.6/dist-packages (from konlpy) (1.19.5)\n",
            "Requirement already satisfied: lxml>=4.1.0 in /usr/local/lib/python3.6/dist-packages (from konlpy) (4.2.6)\n",
            "Collecting colorama\n",
            "  Downloading https://files.pythonhosted.org/packages/44/98/5b86278fbbf250d239ae0ecb724f8572af1c91f4a11edf4d36a206189440/colorama-0.4.4-py2.py3-none-any.whl\n",
            "Collecting beautifulsoup4==4.6.0\n",
            "\u001b[?25l  Downloading https://files.pythonhosted.org/packages/9e/d4/10f46e5cfac773e22707237bfcd51bbffeaf0a576b0a847ec7ab15bd7ace/beautifulsoup4-4.6.0-py3-none-any.whl (86kB)\n",
            "\u001b[K     |████████████████████████████████| 92kB 8.2MB/s \n",
            "\u001b[?25hRequirement already satisfied: typing-extensions; python_version < \"3.8\" in /usr/local/lib/python3.6/dist-packages (from JPype1>=0.7.0->konlpy) (3.7.4.3)\n",
            "Requirement already satisfied: requests-oauthlib>=0.7.0 in /usr/local/lib/python3.6/dist-packages (from tweepy>=3.7.0->konlpy) (1.3.0)\n",
            "Requirement already satisfied: requests[socks]>=2.11.1 in /usr/local/lib/python3.6/dist-packages (from tweepy>=3.7.0->konlpy) (2.23.0)\n",
            "Requirement already satisfied: six>=1.10.0 in /usr/local/lib/python3.6/dist-packages (from tweepy>=3.7.0->konlpy) (1.15.0)\n",
            "Requirement already satisfied: oauthlib>=3.0.0 in /usr/local/lib/python3.6/dist-packages (from requests-oauthlib>=0.7.0->tweepy>=3.7.0->konlpy) (3.1.0)\n",
            "Requirement already satisfied: idna<3,>=2.5 in /usr/local/lib/python3.6/dist-packages (from requests[socks]>=2.11.1->tweepy>=3.7.0->konlpy) (2.10)\n",
            "Requirement already satisfied: certifi>=2017.4.17 in /usr/local/lib/python3.6/dist-packages (from requests[socks]>=2.11.1->tweepy>=3.7.0->konlpy) (2020.12.5)\n",
            "Requirement already satisfied: urllib3!=1.25.0,!=1.25.1,<1.26,>=1.21.1 in /usr/local/lib/python3.6/dist-packages (from requests[socks]>=2.11.1->tweepy>=3.7.0->konlpy) (1.24.3)\n",
            "Requirement already satisfied: chardet<4,>=3.0.2 in /usr/local/lib/python3.6/dist-packages (from requests[socks]>=2.11.1->tweepy>=3.7.0->konlpy) (3.0.4)\n",
            "Requirement already satisfied: PySocks!=1.5.7,>=1.5.6; extra == \"socks\" in /usr/local/lib/python3.6/dist-packages (from requests[socks]>=2.11.1->tweepy>=3.7.0->konlpy) (1.7.1)\n",
            "Installing collected packages: JPype1, tweepy, colorama, beautifulsoup4, konlpy\n",
            "  Found existing installation: tweepy 3.6.0\n",
            "    Uninstalling tweepy-3.6.0:\n",
            "      Successfully uninstalled tweepy-3.6.0\n",
            "  Found existing installation: beautifulsoup4 4.6.3\n",
            "    Uninstalling beautifulsoup4-4.6.3:\n",
            "      Successfully uninstalled beautifulsoup4-4.6.3\n",
            "Successfully installed JPype1-1.2.1 beautifulsoup4-4.6.0 colorama-0.4.4 konlpy-0.5.2 tweepy-3.10.0\n"
          ],
          "name": "stdout"
        }
      ]
    },
    {
      "cell_type": "code",
      "metadata": {
        "colab": {
          "base_uri": "https://localhost:8080/"
        },
        "id": "fy4Nww3OprqP",
        "outputId": "85d41f0d-a9f7-4404-fc6f-bab2686e395b"
      },
      "source": [
        "import urllib.request as req\r\n",
        "from bs4 import BeautifulSoup\r\n",
        "import urllib.parse as par\r\n",
        "from konlpy.tag import Okt\r\n",
        "\r\n",
        "okt = Okt()\r\n",
        "\r\n",
        "keyword = \"카이스트\"\r\n",
        "encoded = par.quote(keyword)\r\n",
        "page_num = 1\r\n",
        "dataset = [] # 여기 추가\r\n",
        "while True:\r\n",
        "  url = \"https://news.joins.com/Search/JoongangNews?page={}&Keyword={}&SortType=New&SearchCategoryType=JoongangNews\".format(page_num, encoded)\r\n",
        "  code = req.urlopen(url)\r\n",
        "  soup = BeautifulSoup(code, \"html.parser\")\r\n",
        "  title = soup.select(\"h2.headline.mg > a\")\r\n",
        "  if len(title) == 0:\r\n",
        "    break\r\n",
        "  for i in title:\r\n",
        "    print(\"제목: \", i.text)\r\n",
        "    print(\"링크: \", i.attrs[\"href\"])\r\n",
        "    dataset.append(okt.nouns(i.text)) # nouns함수는 리스트형으로 반환\r\n",
        "  page_num += 1\r\n",
        "  if page_num == 3:\r\n",
        "    break\r\n",
        "\r\n",
        "dataset_cleansing = []\r\n",
        "for data in dataset:\r\n",
        "  data_cleansing = []\r\n",
        "  for i in data:\r\n",
        "    if len(i) != 1:\r\n",
        "      data_cleansing.append(i)\r\n",
        "  dataset_cleansing.append(data_cleansing)\r\n",
        "  \r\n",
        "print(dataset_cleansing)\r\n",
        "\r\n",
        "te = TransactionEncoder()\r\n",
        "te_transform = te.fit(dataset_cleansing).transform(dataset_cleansing)\r\n",
        "df = pd.DataFrame(te_transform, columns=te.columns_)\r\n",
        "df\r\n",
        "df_apr = apriori(df, use_colnames=True, min_support=0.1) # apriori함수는 연관성이 0.5 이상인 것만 결과를 보여주기 때문에 min_support 옵션을 넣어줌\r\n",
        "print(df_apr)"
      ],
      "execution_count": null,
      "outputs": [
        {
          "output_type": "stream",
          "text": [
            "제목:  “내 PC 해킹하라” 시험 낸 괴짜 교수, KAIST 총장 됐다\n",
            "링크:  https://news.joins.com/article/23995372\n",
            "제목:  드라마 '카이스트' 괴짜 교수, 진짜 카이스트 총장 됐다\n",
            "링크:  https://news.joins.com/article/23995009\n",
            "제목:  [팩플] 배민·아자르·쿠팡 다음은?…글로벌 노리는 K유니콘 \"저평가 뒤집을 기회\"\n",
            "링크:  https://news.joins.com/article/23994558\n",
            "제목:  [트랜D] 재택 경제 시대의 스마트홈 플랫폼\n",
            "링크:  https://news.joins.com/article/23992287\n",
            "제목:  카이스트, '성추행' 전 서울대 교수 세미나 초청하려다 취소\n",
            "링크:  https://news.joins.com/article/23991453\n",
            "제목:  [단독]“선물로 에어팟프로”…대놓고 리스트 공개 232% 껑충\n",
            "링크:  https://news.joins.com/article/23990516\n",
            "제목:  백운규 영장기각에 민주당 “윤석열, 정치 수사 즉각 중단하라”\n",
            "링크:  https://news.joins.com/article/23989379\n",
            "제목:  신한울 폐기 안했는데, 산업부 문건엔 \"백지화\"…이랬던 탈원전\n",
            "링크:  https://news.joins.com/article/23985631\n",
            "제목:  [트랜D] 코로나19로 급부상한 메타버스 트렌드\n",
            "링크:  https://news.joins.com/article/23983285\n",
            "제목:  [다시 뛰는 대한민국] 신규 점포와 리뉴얼 통해 신성장동력 확보\n",
            "링크:  https://news.joins.com/article/23981212\n",
            "[['해킹', '시험', '괴짜', '교수', '총장'], ['드라마', '카이스트', '괴짜', '교수', '진짜', '카이스트', '총장'], ['배민', '아자르', '쿠팡', '다음', '글로벌', '유니콘', '평가', '기회'], ['트랜', '재택', '경제', '시대', '스마트홈', '플랫폼'], ['카이스트', '성추행', '서울대', '교수', '세미나', '초청', '취소'], ['단독', '선물', '에어팟', '프로', '리스트', '공개', '껑충'], ['운규', '영장', '기각', '민주당', '윤석열', '정치', '수사', '즉각', '중단'], ['한울', '폐기', '산업부', '문건', '백지', '원전'], ['트랜', '코로나', '급부', '메타', '버스', '트렌드'], ['다시', '대한민국', '신규', '점포', '리뉴얼', '통해', '성장동력', '확보']]\n",
            "      support                                itemsets\n",
            "0         0.1                                    (경제)\n",
            "1         0.1                                    (공개)\n",
            "2         0.2                                    (괴짜)\n",
            "3         0.3                                    (교수)\n",
            "4         0.1                                   (글로벌)\n",
            "...       ...                                     ...\n",
            "1542      0.1      (정치, 기각, 민주당, 중단, 윤석열, 즉각, 영장, 운규)\n",
            "1543      0.1       (수사, 정치, 기각, 중단, 윤석열, 즉각, 영장, 운규)\n",
            "1544      0.1   (대한민국, 성장동력, 확보, 점포, 신규, 통해, 리뉴얼, 다시)\n",
            "1545      0.1      (수사, 정치, 민주당, 중단, 윤석열, 즉각, 영장, 운규)\n",
            "1546      0.1  (수사, 정치, 기각, 민주당, 중단, 윤석열, 즉각, 영장, 운규)\n",
            "\n",
            "[1547 rows x 2 columns]\n"
          ],
          "name": "stdout"
        }
      ]
    },
    {
      "cell_type": "code",
      "metadata": {
        "colab": {
          "base_uri": "https://localhost:8080/",
          "height": 406
        },
        "id": "2IPIm0y8rxnx",
        "outputId": "dc910fd1-80bf-48b3-8ca6-b7ec6405828e"
      },
      "source": [
        "df_apr[\"length\"] = df_apr[\"itemsets\"].str.len()\r\n",
        "df_apr"
      ],
      "execution_count": null,
      "outputs": [
        {
          "output_type": "execute_result",
          "data": {
            "text/html": [
              "<div>\n",
              "<style scoped>\n",
              "    .dataframe tbody tr th:only-of-type {\n",
              "        vertical-align: middle;\n",
              "    }\n",
              "\n",
              "    .dataframe tbody tr th {\n",
              "        vertical-align: top;\n",
              "    }\n",
              "\n",
              "    .dataframe thead th {\n",
              "        text-align: right;\n",
              "    }\n",
              "</style>\n",
              "<table border=\"1\" class=\"dataframe\">\n",
              "  <thead>\n",
              "    <tr style=\"text-align: right;\">\n",
              "      <th></th>\n",
              "      <th>support</th>\n",
              "      <th>itemsets</th>\n",
              "      <th>length</th>\n",
              "    </tr>\n",
              "  </thead>\n",
              "  <tbody>\n",
              "    <tr>\n",
              "      <th>0</th>\n",
              "      <td>0.1</td>\n",
              "      <td>(경제)</td>\n",
              "      <td>1</td>\n",
              "    </tr>\n",
              "    <tr>\n",
              "      <th>1</th>\n",
              "      <td>0.1</td>\n",
              "      <td>(공개)</td>\n",
              "      <td>1</td>\n",
              "    </tr>\n",
              "    <tr>\n",
              "      <th>2</th>\n",
              "      <td>0.2</td>\n",
              "      <td>(괴짜)</td>\n",
              "      <td>1</td>\n",
              "    </tr>\n",
              "    <tr>\n",
              "      <th>3</th>\n",
              "      <td>0.3</td>\n",
              "      <td>(교수)</td>\n",
              "      <td>1</td>\n",
              "    </tr>\n",
              "    <tr>\n",
              "      <th>4</th>\n",
              "      <td>0.1</td>\n",
              "      <td>(글로벌)</td>\n",
              "      <td>1</td>\n",
              "    </tr>\n",
              "    <tr>\n",
              "      <th>...</th>\n",
              "      <td>...</td>\n",
              "      <td>...</td>\n",
              "      <td>...</td>\n",
              "    </tr>\n",
              "    <tr>\n",
              "      <th>1542</th>\n",
              "      <td>0.1</td>\n",
              "      <td>(정치, 기각, 민주당, 중단, 윤석열, 즉각, 영장, 운규)</td>\n",
              "      <td>8</td>\n",
              "    </tr>\n",
              "    <tr>\n",
              "      <th>1543</th>\n",
              "      <td>0.1</td>\n",
              "      <td>(수사, 정치, 기각, 중단, 윤석열, 즉각, 영장, 운규)</td>\n",
              "      <td>8</td>\n",
              "    </tr>\n",
              "    <tr>\n",
              "      <th>1544</th>\n",
              "      <td>0.1</td>\n",
              "      <td>(대한민국, 성장동력, 확보, 점포, 신규, 통해, 리뉴얼, 다시)</td>\n",
              "      <td>8</td>\n",
              "    </tr>\n",
              "    <tr>\n",
              "      <th>1545</th>\n",
              "      <td>0.1</td>\n",
              "      <td>(수사, 정치, 민주당, 중단, 윤석열, 즉각, 영장, 운규)</td>\n",
              "      <td>8</td>\n",
              "    </tr>\n",
              "    <tr>\n",
              "      <th>1546</th>\n",
              "      <td>0.1</td>\n",
              "      <td>(수사, 정치, 기각, 민주당, 중단, 윤석열, 즉각, 영장, 운규)</td>\n",
              "      <td>9</td>\n",
              "    </tr>\n",
              "  </tbody>\n",
              "</table>\n",
              "<p>1547 rows × 3 columns</p>\n",
              "</div>"
            ],
            "text/plain": [
              "      support                                itemsets  length\n",
              "0         0.1                                    (경제)       1\n",
              "1         0.1                                    (공개)       1\n",
              "2         0.2                                    (괴짜)       1\n",
              "3         0.3                                    (교수)       1\n",
              "4         0.1                                   (글로벌)       1\n",
              "...       ...                                     ...     ...\n",
              "1542      0.1      (정치, 기각, 민주당, 중단, 윤석열, 즉각, 영장, 운규)       8\n",
              "1543      0.1       (수사, 정치, 기각, 중단, 윤석열, 즉각, 영장, 운규)       8\n",
              "1544      0.1   (대한민국, 성장동력, 확보, 점포, 신규, 통해, 리뉴얼, 다시)       8\n",
              "1545      0.1      (수사, 정치, 민주당, 중단, 윤석열, 즉각, 영장, 운규)       8\n",
              "1546      0.1  (수사, 정치, 기각, 민주당, 중단, 윤석열, 즉각, 영장, 운규)       9\n",
              "\n",
              "[1547 rows x 3 columns]"
            ]
          },
          "metadata": {
            "tags": []
          },
          "execution_count": 8
        }
      ]
    },
    {
      "cell_type": "code",
      "metadata": {
        "colab": {
          "base_uri": "https://localhost:8080/"
        },
        "id": "W1kimvaWv5IJ",
        "outputId": "596e5fc7-789e-4227-bb1d-0cd34b5a3fd5"
      },
      "source": [
        "df_result = df_apr[df_apr[\"length\"] == 2][\"itemsets\"]\r\n",
        "df_result"
      ],
      "execution_count": null,
      "outputs": [
        {
          "output_type": "execute_result",
          "data": {
            "text/plain": [
              "62     (스마트홈, 경제)\n",
              "63       (시대, 경제)\n",
              "64       (재택, 경제)\n",
              "65       (경제, 트랜)\n",
              "66      (플랫폼, 경제)\n",
              "          ...    \n",
              "257      (평가, 쿠팡)\n",
              "258      (통해, 확보)\n",
              "259     (트렌드, 트랜)\n",
              "260     (플랫폼, 트랜)\n",
              "261      (한울, 폐기)\n",
              "Name: itemsets, Length: 200, dtype: object"
            ]
          },
          "metadata": {
            "tags": []
          },
          "execution_count": 9
        }
      ]
    },
    {
      "cell_type": "markdown",
      "metadata": {
        "id": "DmVQqtK_1XiT"
      },
      "source": [
        "## 최종"
      ]
    },
    {
      "cell_type": "code",
      "metadata": {
        "colab": {
          "base_uri": "https://localhost:8080/"
        },
        "id": "IYYLkeeswk3X",
        "outputId": "7795e909-6bc4-4c51-bde8-7005be955959"
      },
      "source": [
        "!pip install mlxtend\r\n",
        "!pip install konlpy\r\n",
        "!pip install networkx"
      ],
      "execution_count": null,
      "outputs": [
        {
          "output_type": "stream",
          "text": [
            "Requirement already satisfied: mlxtend in /usr/local/lib/python3.6/dist-packages (0.14.0)\n",
            "Requirement already satisfied: scikit-learn>=0.18 in /usr/local/lib/python3.6/dist-packages (from mlxtend) (0.22.2.post1)\n",
            "Requirement already satisfied: pandas>=0.17.1 in /usr/local/lib/python3.6/dist-packages (from mlxtend) (1.1.5)\n",
            "Requirement already satisfied: setuptools in /usr/local/lib/python3.6/dist-packages (from mlxtend) (53.0.0)\n",
            "Requirement already satisfied: matplotlib>=1.5.1 in /usr/local/lib/python3.6/dist-packages (from mlxtend) (3.2.2)\n",
            "Requirement already satisfied: scipy>=0.17 in /usr/local/lib/python3.6/dist-packages (from mlxtend) (1.4.1)\n",
            "Requirement already satisfied: numpy>=1.10.4 in /usr/local/lib/python3.6/dist-packages (from mlxtend) (1.19.5)\n",
            "Requirement already satisfied: joblib>=0.11 in /usr/local/lib/python3.6/dist-packages (from scikit-learn>=0.18->mlxtend) (1.0.0)\n",
            "Requirement already satisfied: python-dateutil>=2.7.3 in /usr/local/lib/python3.6/dist-packages (from pandas>=0.17.1->mlxtend) (2.8.1)\n",
            "Requirement already satisfied: pytz>=2017.2 in /usr/local/lib/python3.6/dist-packages (from pandas>=0.17.1->mlxtend) (2018.9)\n",
            "Requirement already satisfied: kiwisolver>=1.0.1 in /usr/local/lib/python3.6/dist-packages (from matplotlib>=1.5.1->mlxtend) (1.3.1)\n",
            "Requirement already satisfied: cycler>=0.10 in /usr/local/lib/python3.6/dist-packages (from matplotlib>=1.5.1->mlxtend) (0.10.0)\n",
            "Requirement already satisfied: pyparsing!=2.0.4,!=2.1.2,!=2.1.6,>=2.0.1 in /usr/local/lib/python3.6/dist-packages (from matplotlib>=1.5.1->mlxtend) (2.4.7)\n",
            "Requirement already satisfied: six>=1.5 in /usr/local/lib/python3.6/dist-packages (from python-dateutil>=2.7.3->pandas>=0.17.1->mlxtend) (1.15.0)\n",
            "Requirement already satisfied: konlpy in /usr/local/lib/python3.6/dist-packages (0.5.2)\n",
            "Requirement already satisfied: numpy>=1.6 in /usr/local/lib/python3.6/dist-packages (from konlpy) (1.19.5)\n",
            "Requirement already satisfied: tweepy>=3.7.0 in /usr/local/lib/python3.6/dist-packages (from konlpy) (3.10.0)\n",
            "Requirement already satisfied: beautifulsoup4==4.6.0 in /usr/local/lib/python3.6/dist-packages (from konlpy) (4.6.0)\n",
            "Requirement already satisfied: colorama in /usr/local/lib/python3.6/dist-packages (from konlpy) (0.4.4)\n",
            "Requirement already satisfied: lxml>=4.1.0 in /usr/local/lib/python3.6/dist-packages (from konlpy) (4.2.6)\n",
            "Requirement already satisfied: JPype1>=0.7.0 in /usr/local/lib/python3.6/dist-packages (from konlpy) (1.2.1)\n",
            "Requirement already satisfied: six>=1.10.0 in /usr/local/lib/python3.6/dist-packages (from tweepy>=3.7.0->konlpy) (1.15.0)\n",
            "Requirement already satisfied: requests-oauthlib>=0.7.0 in /usr/local/lib/python3.6/dist-packages (from tweepy>=3.7.0->konlpy) (1.3.0)\n",
            "Requirement already satisfied: requests[socks]>=2.11.1 in /usr/local/lib/python3.6/dist-packages (from tweepy>=3.7.0->konlpy) (2.23.0)\n",
            "Requirement already satisfied: typing-extensions; python_version < \"3.8\" in /usr/local/lib/python3.6/dist-packages (from JPype1>=0.7.0->konlpy) (3.7.4.3)\n",
            "Requirement already satisfied: oauthlib>=3.0.0 in /usr/local/lib/python3.6/dist-packages (from requests-oauthlib>=0.7.0->tweepy>=3.7.0->konlpy) (3.1.0)\n",
            "Requirement already satisfied: urllib3!=1.25.0,!=1.25.1,<1.26,>=1.21.1 in /usr/local/lib/python3.6/dist-packages (from requests[socks]>=2.11.1->tweepy>=3.7.0->konlpy) (1.24.3)\n",
            "Requirement already satisfied: chardet<4,>=3.0.2 in /usr/local/lib/python3.6/dist-packages (from requests[socks]>=2.11.1->tweepy>=3.7.0->konlpy) (3.0.4)\n",
            "Requirement already satisfied: idna<3,>=2.5 in /usr/local/lib/python3.6/dist-packages (from requests[socks]>=2.11.1->tweepy>=3.7.0->konlpy) (2.10)\n",
            "Requirement already satisfied: certifi>=2017.4.17 in /usr/local/lib/python3.6/dist-packages (from requests[socks]>=2.11.1->tweepy>=3.7.0->konlpy) (2020.12.5)\n",
            "Requirement already satisfied: PySocks!=1.5.7,>=1.5.6; extra == \"socks\" in /usr/local/lib/python3.6/dist-packages (from requests[socks]>=2.11.1->tweepy>=3.7.0->konlpy) (1.7.1)\n",
            "Requirement already satisfied: networkx in /usr/local/lib/python3.6/dist-packages (2.5)\n",
            "Requirement already satisfied: decorator>=4.3.0 in /usr/local/lib/python3.6/dist-packages (from networkx) (4.4.2)\n"
          ],
          "name": "stdout"
        }
      ]
    },
    {
      "cell_type": "code",
      "metadata": {
        "id": "gCaoBv_k2KDi"
      },
      "source": [
        "import pandas as pd\r\n",
        "from mlxtend.preprocessing import TransactionEncoder\r\n",
        "from mlxtend.frequent_patterns import apriori\r\n",
        "import urllib.request as req\r\n",
        "from bs4 import BeautifulSoup\r\n",
        "import urllib.parse as par\r\n",
        "from konlpy.tag import Okt"
      ],
      "execution_count": null,
      "outputs": []
    },
    {
      "cell_type": "code",
      "metadata": {
        "id": "KTGm14AXwHmv"
      },
      "source": [
        "def show_me_the_graph(df):\r\n",
        "    import networkx as nx\r\n",
        "    import numpy as np\r\n",
        "    import matplotlib.pyplot as plt\r\n",
        "    import matplotlib.font_manager as fm\r\n",
        "\r\n",
        "    fm._rebuild() # 폰트 에러 잡아줌\r\n",
        "\r\n",
        "    g = nx.Graph()\r\n",
        "    g.add_edges_from(df)\r\n",
        "    pr = nx.pagerank(g)\r\n",
        "    nsize = np.array([v for v in pr.values()])\r\n",
        "    nsize = 10000 * (nsize - min(nsize)) / (max(nsize) - min(nsize))\r\n",
        "    pos = nx.kamada_kawai_layout(g)\r\n",
        "    font_name = fm.FontProperties(fname=\"/content/NanumMyeongjoBold.ttf\").get_name()\r\n",
        "    plt.figure(figsize=(16, 12))\r\n",
        "    plt.axis(\"off\")\r\n",
        "    nx.draw_networkx(g, font_family=font_name, font_size=16,\r\n",
        "                     pos=pos, node_color=list(pr.values()), edge_color='.5', node_size=nsize,\r\n",
        "                     alpha=0.7, cmap=plt.cm.Blues)\r\n",
        "    plt.show()"
      ],
      "execution_count": null,
      "outputs": []
    },
    {
      "cell_type": "code",
      "metadata": {
        "colab": {
          "base_uri": "https://localhost:8080/"
        },
        "id": "bOONbQrT2VWi",
        "outputId": "bfefeac2-68f8-42a5-fcf7-e172628bf4c8"
      },
      "source": [
        "okt = Okt()\r\n",
        "\r\n",
        "keyword = \"카이스트\"\r\n",
        "encoded = par.quote(keyword)\r\n",
        "page_num = 1\r\n",
        "dataset = [] # 여기 추가\r\n",
        "while True:\r\n",
        "  url = \"https://news.joins.com/Search/JoongangNews?page={}&Keyword={}&SortType=New&SearchCategoryType=JoongangNews\".format(page_num, encoded)\r\n",
        "  code = req.urlopen(url)\r\n",
        "  soup = BeautifulSoup(code, \"html.parser\")\r\n",
        "  title = soup.select(\"h2.headline.mg > a\")\r\n",
        "  if len(title) == 0:\r\n",
        "    break\r\n",
        "  for i in title:\r\n",
        "    print(\"제목: \", i.text)\r\n",
        "    print(\"링크: \", i.attrs[\"href\"])\r\n",
        "    dataset.append(okt.nouns(i.text)) # nouns함수는 리스트형으로 반환\r\n",
        "  page_num += 1\r\n",
        "  if page_num == 3:\r\n",
        "    break\r\n",
        "\r\n",
        "dataset_cleansing = []\r\n",
        "for data in dataset:\r\n",
        "  data_cleansing = []\r\n",
        "  for i in data:\r\n",
        "    if len(i) != 1:\r\n",
        "      data_cleansing.append(i)\r\n",
        "  dataset_cleansing.append(data_cleansing)\r\n",
        "  \r\n",
        "print(dataset_cleansing)\r\n",
        "\r\n",
        "te = TransactionEncoder()\r\n",
        "te_transform = te.fit(dataset_cleansing).transform(dataset_cleansing)\r\n",
        "df = pd.DataFrame(te_transform, columns=te.columns_)\r\n",
        "df\r\n",
        "df_apr = apriori(df, use_colnames=True, min_support=0.1) # apriori함수는 연관성이 0.5 이상인 것만 결과를 보여주기 때문에 min_support 옵션을 넣어줌\r\n",
        "print(df_apr)"
      ],
      "execution_count": null,
      "outputs": [
        {
          "output_type": "stream",
          "text": [
            "제목:  “내 PC 해킹하라” 시험 낸 괴짜 교수, KAIST 총장 됐다\n",
            "링크:  https://news.joins.com/article/23995372\n",
            "제목:  드라마 '카이스트' 괴짜 교수, 진짜 카이스트 총장 됐다\n",
            "링크:  https://news.joins.com/article/23995009\n",
            "제목:  [팩플] 배민·아자르·쿠팡 다음은?…글로벌 노리는 K유니콘 \"저평가 뒤집을 기회\"\n",
            "링크:  https://news.joins.com/article/23994558\n",
            "제목:  [트랜D] 재택 경제 시대의 스마트홈 플랫폼\n",
            "링크:  https://news.joins.com/article/23992287\n",
            "제목:  카이스트, '성추행' 전 서울대 교수 세미나 초청하려다 취소\n",
            "링크:  https://news.joins.com/article/23991453\n",
            "제목:  [단독]“선물로 에어팟프로”…대놓고 리스트 공개 232% 껑충\n",
            "링크:  https://news.joins.com/article/23990516\n",
            "제목:  백운규 영장기각에 민주당 “윤석열, 정치 수사 즉각 중단하라”\n",
            "링크:  https://news.joins.com/article/23989379\n",
            "제목:  신한울 폐기 안했는데, 산업부 문건엔 \"백지화\"…이랬던 탈원전\n",
            "링크:  https://news.joins.com/article/23985631\n",
            "제목:  [트랜D] 코로나19로 급부상한 메타버스 트렌드\n",
            "링크:  https://news.joins.com/article/23983285\n",
            "제목:  [다시 뛰는 대한민국] 신규 점포와 리뉴얼 통해 신성장동력 확보\n",
            "링크:  https://news.joins.com/article/23981212\n",
            "제목:  KTV '삼중수소' 방송에…KAIST 교수 “1g 나와도 죽어요” 발끈\n",
            "링크:  https://news.joins.com/article/23977726\n",
            "제목:  [단독] KAIST서 확진 1명 나왔다···접촉자 12명은 모두 음성\n",
            "링크:  https://news.joins.com/article/23976511\n",
            "제목:  \"삼중수소도 결국 몸 밖으로 배출된다\" 카이스트 교수 일침\n",
            "링크:  https://news.joins.com/article/23973287\n",
            "제목:  석사가 쟁쟁한 박사 다 제쳤다···'공학의 전당' 입성 택진이형\n",
            "링크:  https://news.joins.com/article/23971922\n",
            "제목:  과학기술정책연구원장에 문미옥 전 의원…'실세' 온다는데 과학계선 부정 기류\n",
            "링크:  https://news.joins.com/article/23971494\n",
            "제목:  마크롱의 한국계 최측근 “성평등, 모든 정책 필수요건으로”\n",
            "링크:  https://news.joins.com/article/23970858\n",
            "제목:  월성원전 의혹 감사원·檢 탓하는 與 \"원전 마피아와 결탁했나\"\n",
            "링크:  https://news.joins.com/article/23969757\n",
            "제목:  [단독] 이루다 만든 스캐터랩 대표 “이루다 논란, 오늘 입장 밝힌다”\n",
            "링크:  https://news.joins.com/article/23967978\n",
            "제목:  월성원전 지하수가 삼중수소에 오염?…\"외부유출 증거 없어\"\n",
            "링크:  https://news.joins.com/article/23967895\n",
            "제목:  [소년중앙] 인간형 로봇 휴보가 120~150㎝인 이유, 인간과 친해지기 위해서죠\n",
            "링크:  https://news.joins.com/article/23967561\n",
            "[['해킹', '시험', '괴짜', '교수', '총장'], ['드라마', '카이스트', '괴짜', '교수', '진짜', '카이스트', '총장'], ['배민', '아자르', '쿠팡', '다음', '글로벌', '유니콘', '평가', '기회'], ['트랜', '재택', '경제', '시대', '스마트홈', '플랫폼'], ['카이스트', '성추행', '서울대', '교수', '세미나', '초청', '취소'], ['단독', '선물', '에어팟', '프로', '리스트', '공개', '껑충'], ['운규', '영장', '기각', '민주당', '윤석열', '정치', '수사', '즉각', '중단'], ['한울', '폐기', '산업부', '문건', '백지', '원전'], ['트랜', '코로나', '급부', '메타', '버스', '트렌드'], ['다시', '대한민국', '신규', '점포', '리뉴얼', '통해', '성장동력', '확보'], ['삼중수소', '방송', '교수', '발끈'], ['단독', '확진', '접촉', '모두', '음성'], ['삼중수소', '배출', '카이스트', '교수', '일침'], ['석사', '쟁쟁', '박사', '공학', '전당', '입성', '택진', '이형'], ['과학기술', '정책', '연구원', '의원', '실세', '과학계', '부정', '기류'], ['마크', '한국', '최측근', '평등', '모든', '정책', '필수', '요건'], ['월성원전', '의혹', '감사원', '원전', '마피아', '결탁'], ['단독', '스캐터랩', '대표', '논란', '오늘', '입장'], ['월성원전', '지하수', '삼중수소', '오염', '외부', '유출', '증거'], ['소년', '중앙', '인간', '로봇', '휴보', '이유', '인간']]\n",
            "    support      itemsets\n",
            "0      0.10          (괴짜)\n",
            "1      0.25          (교수)\n",
            "2      0.15          (단독)\n",
            "3      0.15        (삼중수소)\n",
            "4      0.10          (원전)\n",
            "5      0.10        (월성원전)\n",
            "6      0.10          (정책)\n",
            "7      0.10          (총장)\n",
            "8      0.15        (카이스트)\n",
            "9      0.10          (트랜)\n",
            "10     0.10      (괴짜, 교수)\n",
            "11     0.10      (괴짜, 총장)\n",
            "12     0.10    (교수, 삼중수소)\n",
            "13     0.10      (교수, 총장)\n",
            "14     0.15    (교수, 카이스트)\n",
            "15     0.10  (괴짜, 교수, 총장)\n"
          ],
          "name": "stdout"
        }
      ]
    },
    {
      "cell_type": "code",
      "metadata": {
        "id": "VVvSAx0L2tXz"
      },
      "source": [
        "df_apr[\"length\"] = df_apr[\"itemsets\"].str.len()\r\n",
        "df_result = df_apr[df_apr[\"length\"] == 2][\"itemsets\"]"
      ],
      "execution_count": null,
      "outputs": []
    },
    {
      "cell_type": "code",
      "metadata": {
        "id": "4tSzfaogwumU"
      },
      "source": [
        "show_me_the_graph(df_result)"
      ],
      "execution_count": null,
      "outputs": []
    },
    {
      "cell_type": "markdown",
      "metadata": {
        "id": "h-YzC0-cEAPw"
      },
      "source": [
        "## 카톡 응용"
      ]
    },
    {
      "cell_type": "code",
      "metadata": {
        "id": "MTb4Sr9RD_Gr"
      },
      "source": [
        "# pip install networkx\r\n",
        "\r\n",
        "import pandas as pd\r\n",
        "from mlxtend.preprocessing import TransactionEncoder\r\n",
        "from mlxtend.frequent_patterns import apriori\r\n",
        "import urllib.request as req\r\n",
        "from bs4 import BeautifulSoup\r\n",
        "import urllib.parse as par\r\n",
        "from konlpy.tag import Okt\r\n",
        "\r\n",
        "def show_me_the_graph(df):\r\n",
        "    import networkx as nx\r\n",
        "    import numpy as np\r\n",
        "    import matplotlib.pyplot as plt\r\n",
        "    import matplotlib.font_manager as fm\r\n",
        "\r\n",
        "    fm._rebuild()\r\n",
        "    g = nx.Graph()\r\n",
        "    g.add_edges_from(df)\r\n",
        "    pr = nx.pagerank(g)\r\n",
        "    nsize = np.array([v for v in pr.values()])\r\n",
        "    nsize = 10000 * (nsize - min(nsize)) / (max(nsize) - min(nsize))\r\n",
        "    pos = nx.kamada_kawai_layout(g)\r\n",
        "    font_name = fm.FontProperties(fname=\"./NanumMyeongjoBold.ttf\").get_name()\r\n",
        "    plt.figure(figsize=(16, 12))\r\n",
        "    plt.axis(\"off\")\r\n",
        "    nx.draw_networkx(g, font_family=font_name, font_size=16,\r\n",
        "                     pos=pos, node_color=list(pr.values()), edge_color='.5', node_size=nsize,\r\n",
        "                     alpha=0.7, cmap=plt.cm.Blues)\r\n",
        "    plt.show()\r\n",
        "\r\n",
        "okt = Okt()\r\n",
        "dataset = []\r\n",
        "with open(\"./카톡1_201009.txt\", \"r\", encoding=\"utf-8\") as f:\r\n",
        "    lines = f.readlines()\r\n",
        "    for i in lines[5:]:\r\n",
        "        x = i.split(\" : \")[0]\r\n",
        "        one_sentence = i.replace(x,\"\").replace(\":\",\"\").replace(\"이모티콘\",\"\").replace(\"사진\",\"\").replace(\"사람\",\"\").replace(\"삭제\",\"\").replace(\"메시지\",\"\")\r\n",
        "        dataset.append(okt.nouns(one_sentence))\r\n",
        "    print(dataset)\r\n",
        "\r\n",
        "dataset_cleansing = []\r\n",
        "for data in dataset:\r\n",
        "    data_cleansing = []\r\n",
        "    for i in data:\r\n",
        "        if len(i) != 1:\r\n",
        "            data_cleansing.append(i)\r\n",
        "    dataset_cleansing.append(data_cleansing)\r\n",
        "\r\n",
        "print(dataset_cleansing)\r\n",
        "\r\n",
        "te = TransactionEncoder()\r\n",
        "te_transform = te.fit(dataset_cleansing).transform(dataset_cleansing)\r\n",
        "df = pd.DataFrame(te_transform, columns=te.columns_)\r\n",
        "\r\n",
        "df_apr = apriori(df, use_colnames=True, min_support=0.00001)  # apriori함수는 연관성이 0.5 이상인 것만 결과를 보여주기 때문에 min_support 옵션을 넣어줌\r\n",
        "\r\n",
        "df_apr[\"length\"] = df_apr[\"itemsets\"].str.len()\r\n",
        "df_result = df_apr[df_apr[\"length\"] == 2][\"itemsets\"]\r\n",
        "print(df_result)\r\n",
        "\r\n",
        "show_me_the_graph(df_result)"
      ],
      "execution_count": null,
      "outputs": []
    }
  ]
}
